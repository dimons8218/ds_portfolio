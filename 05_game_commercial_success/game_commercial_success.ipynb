{
 "cells": [
  {
   "cell_type": "markdown",
   "metadata": {},
   "source": [
    "# Выявление закономерностей, определяющих коммерческую успешность игры"
   ]
  },
  {
   "cell_type": "markdown",
   "metadata": {},
   "source": [
    "**Заголовок:** Исследование данных об играх для различных платформ\n",
    "\n",
    "**Описание проекта:** вы работаете в интернет-магазине «Стримчик», который продаёт по всему миру компьютерные игры. Из открытых источников доступны исторические данные о продажах игр, оценки пользователей и экспертов, жанры и платформы (например, Xbox или PlayStation). \n",
    "\n",
    "Перед вами данные до 2016 года. Представим, что сейчас декабрь 2016 г., и вы планируете кампанию на 2017-й. Нужно отработать принцип работы с данными. Неважно, прогнозируете ли вы продажи на 2017 год по данным 2016-го или же 2027-й — по данным 2026 года. \n",
    "\n",
    "В наборе данных попадается аббревиатура ESRB (Entertainment Software Rating Board) — это ассоциация, определяющая возрастной рейтинг компьютерных игр. ESRB оценивает игровой контент и присваивает ему подходящую возрастную категорию, например, «Для взрослых», «Для детей младшего возраста» или «Для подростков».\n",
    "\n",
    "*Описание данных:*\n",
    "- Name — название игры\n",
    "- Platform — платформа\n",
    "- Year_of_Release — год выпуска\n",
    "- Genre — жанр игры\n",
    "- NA_sales — продажи в Северной Америке (миллионы проданных копий)\n",
    "- EU_sales — продажи в Европе (миллионы проданных копий)\n",
    "- JP_sales — продажи в Японии (миллионы проданных копий)\n",
    "- Other_sales — продажи в других странах (миллионы проданных копий)\n",
    "- Critic_Score — оценка критиков (максимум 100)\n",
    "- User_Score — оценка пользователей (максимум 10)\n",
    "- Rating — рейтинг от организации ESRB (англ. Entertainment Software Rating Board). Эта ассоциация определяет рейтинг компьютерных игр и присваивает им подходящую возрастную категорию.\n",
    "\n",
    "Данные за 2016 год могут быть неполными!\n",
    "\n",
    "***Цель исследования:*** выявить определяющие успешность игры закономерности, которые позволят сделать ставку на потенциально популярный продукт и спланировать рекламные кампании.***\n",
    "\n",
    "***Ход исследования:***\n",
    "\n",
    "1. Открыть файл с данными и изучить общую информацию;\n",
    "\n",
    "2. Выполнить предобработку данных;\n",
    "\n",
    "3. Провести исследовательский анализ:\n",
    "- посмотреть, сколько игр выпускалось в разные годы. Важны ли данные за все периоды?\n",
    "- посмотреть, как менялись продажи по платформам. Выбрать платформы с наибольшими суммарными продажами и построить распределение по годам. За какой характерный срок появляются новые и исчезают старые платформы?\n",
    "- взять данные за соответствующий актуальный период. Актуальный период определить самостоятельно в результате исследования предыдущих вопросов. Основной фактор — эти данные помогут построить прогноз на 2017 год.\n",
    "- не учитывать в работе данные за предыдущие годы.\n",
    "- какие платформы лидируют по продажам, растут или падают? Выбрать несколько потенциально прибыльных платформ.\n",
    "- построить диаграмму размаха («ящик с усами») по глобальным продажам игр в разбивке по платформам. Описать результат.\n",
    "- посмотреть, как влияют на продажи внутри одной популярной платформы отзывы пользователей и критиков. Построить диаграмму рассеяния и посчитать корреляцию между отзывами и продажами. Сформулировать выводы.\n",
    "- соотнести выводы с продажами игр на других платформах.\n",
    "- посмотреть на общее распределение игр по жанрам. Что можно сказать о самых прибыльных жанрах? Выделяются ли жанры с высокими и низкими продажами?\n",
    "\n",
    "4. Составить портрет пользователя каждого региона\n",
    "Определить для пользователя каждого региона (NA, EU, JP):\n",
    "- самые популярные платформы (топ-5);\n",
    "- самые популярные жанры (топ-5);\n",
    "- влияет ли рейтинг ESRB на продажи в отдельном регионе?\n",
    "\n",
    "5. Проверить гипотезы:\n",
    "- средние пользовательские рейтинги платформ Xbox One и PC одинаковые;\n",
    "- средние пользовательские рейтинги жанров Action (англ. «действие», экшен-игры) и Sports (англ. «спортивные соревнования») разные.\n",
    "\n",
    "6. Сформулировать общий вывод"
   ]
  },
  {
   "cell_type": "markdown",
   "metadata": {},
   "source": [
    "## Откроем файл с данными и изучим общую информацию"
   ]
  },
  {
   "cell_type": "markdown",
   "metadata": {},
   "source": [
    "Импортируем библиотеки, необходимые для работы:"
   ]
  },
  {
   "cell_type": "code",
   "execution_count": 1,
   "metadata": {},
   "outputs": [],
   "source": [
    "import pandas as pd\n",
    "import numpy as np\n",
    "from scipy import stats as st\n",
    "import matplotlib.pyplot as plt\n",
    "import seaborn as sns"
   ]
  },
  {
   "cell_type": "markdown",
   "metadata": {},
   "source": [
    "Сохраним исходные данные в переменную data:"
   ]
  },
  {
   "cell_type": "code",
   "execution_count": 2,
   "metadata": {},
   "outputs": [],
   "source": [
    "data = pd.read_csv('/datasets/games.csv')"
   ]
  },
  {
   "cell_type": "markdown",
   "metadata": {},
   "source": [
    "Выведем первые 5 строк датафрейма data:"
   ]
  },
  {
   "cell_type": "code",
   "execution_count": 3,
   "metadata": {},
   "outputs": [
    {
     "data": {
      "text/html": [
       "<div>\n",
       "<style scoped>\n",
       "    .dataframe tbody tr th:only-of-type {\n",
       "        vertical-align: middle;\n",
       "    }\n",
       "\n",
       "    .dataframe tbody tr th {\n",
       "        vertical-align: top;\n",
       "    }\n",
       "\n",
       "    .dataframe thead th {\n",
       "        text-align: right;\n",
       "    }\n",
       "</style>\n",
       "<table border=\"1\" class=\"dataframe\">\n",
       "  <thead>\n",
       "    <tr style=\"text-align: right;\">\n",
       "      <th></th>\n",
       "      <th>Name</th>\n",
       "      <th>Platform</th>\n",
       "      <th>Year_of_Release</th>\n",
       "      <th>Genre</th>\n",
       "      <th>NA_sales</th>\n",
       "      <th>EU_sales</th>\n",
       "      <th>JP_sales</th>\n",
       "      <th>Other_sales</th>\n",
       "      <th>Critic_Score</th>\n",
       "      <th>User_Score</th>\n",
       "      <th>Rating</th>\n",
       "    </tr>\n",
       "  </thead>\n",
       "  <tbody>\n",
       "    <tr>\n",
       "      <th>0</th>\n",
       "      <td>Wii Sports</td>\n",
       "      <td>Wii</td>\n",
       "      <td>2006.0</td>\n",
       "      <td>Sports</td>\n",
       "      <td>41.36</td>\n",
       "      <td>28.96</td>\n",
       "      <td>3.77</td>\n",
       "      <td>8.45</td>\n",
       "      <td>76.0</td>\n",
       "      <td>8</td>\n",
       "      <td>E</td>\n",
       "    </tr>\n",
       "    <tr>\n",
       "      <th>1</th>\n",
       "      <td>Super Mario Bros.</td>\n",
       "      <td>NES</td>\n",
       "      <td>1985.0</td>\n",
       "      <td>Platform</td>\n",
       "      <td>29.08</td>\n",
       "      <td>3.58</td>\n",
       "      <td>6.81</td>\n",
       "      <td>0.77</td>\n",
       "      <td>NaN</td>\n",
       "      <td>NaN</td>\n",
       "      <td>NaN</td>\n",
       "    </tr>\n",
       "    <tr>\n",
       "      <th>2</th>\n",
       "      <td>Mario Kart Wii</td>\n",
       "      <td>Wii</td>\n",
       "      <td>2008.0</td>\n",
       "      <td>Racing</td>\n",
       "      <td>15.68</td>\n",
       "      <td>12.76</td>\n",
       "      <td>3.79</td>\n",
       "      <td>3.29</td>\n",
       "      <td>82.0</td>\n",
       "      <td>8.3</td>\n",
       "      <td>E</td>\n",
       "    </tr>\n",
       "    <tr>\n",
       "      <th>3</th>\n",
       "      <td>Wii Sports Resort</td>\n",
       "      <td>Wii</td>\n",
       "      <td>2009.0</td>\n",
       "      <td>Sports</td>\n",
       "      <td>15.61</td>\n",
       "      <td>10.93</td>\n",
       "      <td>3.28</td>\n",
       "      <td>2.95</td>\n",
       "      <td>80.0</td>\n",
       "      <td>8</td>\n",
       "      <td>E</td>\n",
       "    </tr>\n",
       "    <tr>\n",
       "      <th>4</th>\n",
       "      <td>Pokemon Red/Pokemon Blue</td>\n",
       "      <td>GB</td>\n",
       "      <td>1996.0</td>\n",
       "      <td>Role-Playing</td>\n",
       "      <td>11.27</td>\n",
       "      <td>8.89</td>\n",
       "      <td>10.22</td>\n",
       "      <td>1.00</td>\n",
       "      <td>NaN</td>\n",
       "      <td>NaN</td>\n",
       "      <td>NaN</td>\n",
       "    </tr>\n",
       "  </tbody>\n",
       "</table>\n",
       "</div>"
      ],
      "text/plain": [
       "                       Name Platform  Year_of_Release         Genre  NA_sales  \\\n",
       "0                Wii Sports      Wii           2006.0        Sports     41.36   \n",
       "1         Super Mario Bros.      NES           1985.0      Platform     29.08   \n",
       "2            Mario Kart Wii      Wii           2008.0        Racing     15.68   \n",
       "3         Wii Sports Resort      Wii           2009.0        Sports     15.61   \n",
       "4  Pokemon Red/Pokemon Blue       GB           1996.0  Role-Playing     11.27   \n",
       "\n",
       "   EU_sales  JP_sales  Other_sales  Critic_Score User_Score Rating  \n",
       "0     28.96      3.77         8.45          76.0          8      E  \n",
       "1      3.58      6.81         0.77           NaN        NaN    NaN  \n",
       "2     12.76      3.79         3.29          82.0        8.3      E  \n",
       "3     10.93      3.28         2.95          80.0          8      E  \n",
       "4      8.89     10.22         1.00           NaN        NaN    NaN  "
      ]
     },
     "execution_count": 3,
     "metadata": {},
     "output_type": "execute_result"
    }
   ],
   "source": [
    "data.head()"
   ]
  },
  {
   "cell_type": "markdown",
   "metadata": {},
   "source": [
    "Данные выводятся корректно. Теперь посмотрим на общую информацию о датафрейме, вызвав метод info():"
   ]
  },
  {
   "cell_type": "code",
   "execution_count": 4,
   "metadata": {
    "scrolled": false
   },
   "outputs": [
    {
     "name": "stdout",
     "output_type": "stream",
     "text": [
      "<class 'pandas.core.frame.DataFrame'>\n",
      "RangeIndex: 16715 entries, 0 to 16714\n",
      "Data columns (total 11 columns):\n",
      " #   Column           Non-Null Count  Dtype  \n",
      "---  ------           --------------  -----  \n",
      " 0   Name             16713 non-null  object \n",
      " 1   Platform         16715 non-null  object \n",
      " 2   Year_of_Release  16446 non-null  float64\n",
      " 3   Genre            16713 non-null  object \n",
      " 4   NA_sales         16715 non-null  float64\n",
      " 5   EU_sales         16715 non-null  float64\n",
      " 6   JP_sales         16715 non-null  float64\n",
      " 7   Other_sales      16715 non-null  float64\n",
      " 8   Critic_Score     8137 non-null   float64\n",
      " 9   User_Score       10014 non-null  object \n",
      " 10  Rating           9949 non-null   object \n",
      "dtypes: float64(6), object(5)\n",
      "memory usage: 1.4+ MB\n"
     ]
    }
   ],
   "source": [
    "data.info()"
   ]
  },
  {
   "cell_type": "markdown",
   "metadata": {},
   "source": [
    "Рассмотрим некоторые столбцы с типом object.\n",
    "\n",
    "Сначала посчитаем количество платформ и определим их популярность:"
   ]
  },
  {
   "cell_type": "code",
   "execution_count": 5,
   "metadata": {
    "scrolled": true
   },
   "outputs": [
    {
     "data": {
      "text/plain": [
       "31"
      ]
     },
     "execution_count": 5,
     "metadata": {},
     "output_type": "execute_result"
    }
   ],
   "source": [
    "data['Platform'].nunique()"
   ]
  },
  {
   "cell_type": "code",
   "execution_count": 6,
   "metadata": {},
   "outputs": [
    {
     "data": {
      "text/plain": [
       "array(['Wii', 'NES', 'GB', 'DS', 'X360', 'PS3', 'PS2', 'SNES', 'GBA',\n",
       "       'PS4', '3DS', 'N64', 'PS', 'XB', 'PC', '2600', 'PSP', 'XOne',\n",
       "       'WiiU', 'GC', 'GEN', 'DC', 'PSV', 'SAT', 'SCD', 'WS', 'NG', 'TG16',\n",
       "       '3DO', 'GG', 'PCFX'], dtype=object)"
      ]
     },
     "execution_count": 6,
     "metadata": {},
     "output_type": "execute_result"
    }
   ],
   "source": [
    "data['Platform'].unique()"
   ]
  },
  {
   "cell_type": "markdown",
   "metadata": {},
   "source": [
    "В исходных данных имеется 31 игровая платформа от разных производителей, в том числе наиболее известных: Sony (PS, PS2, PS3, PS4, PSP), Nintendo (Wii, DS, 3DS, N64, WiiU и др.), Microsoft (X360, XB, XOne).\n",
    "\n",
    "Теперь изучим столбец с жанрами игр:"
   ]
  },
  {
   "cell_type": "code",
   "execution_count": 7,
   "metadata": {
    "scrolled": true
   },
   "outputs": [
    {
     "data": {
      "text/plain": [
       "12"
      ]
     },
     "execution_count": 7,
     "metadata": {},
     "output_type": "execute_result"
    }
   ],
   "source": [
    "data['Genre'].nunique()"
   ]
  },
  {
   "cell_type": "code",
   "execution_count": 8,
   "metadata": {},
   "outputs": [
    {
     "data": {
      "text/plain": [
       "array(['Sports', 'Platform', 'Racing', 'Role-Playing', 'Puzzle', 'Misc',\n",
       "       'Shooter', 'Simulation', 'Action', 'Fighting', 'Adventure',\n",
       "       'Strategy', nan], dtype=object)"
      ]
     },
     "execution_count": 8,
     "metadata": {},
     "output_type": "execute_result"
    }
   ],
   "source": [
    "data['Genre'].unique()"
   ]
  },
  {
   "cell_type": "markdown",
   "metadata": {},
   "source": [
    "Видим, что игры разделены на 12 различных жанров. \n",
    "\n",
    "Наконец, изучим игровой рейтинг ESRB:"
   ]
  },
  {
   "cell_type": "code",
   "execution_count": 9,
   "metadata": {
    "scrolled": true
   },
   "outputs": [
    {
     "data": {
      "text/plain": [
       "array(['E', nan, 'M', 'T', 'E10+', 'K-A', 'AO', 'EC', 'RP'], dtype=object)"
      ]
     },
     "execution_count": 9,
     "metadata": {},
     "output_type": "execute_result"
    }
   ],
   "source": [
    "data['Rating'].unique()"
   ]
  },
  {
   "cell_type": "markdown",
   "metadata": {},
   "source": [
    "В рейтинге ESRB существует 8 категорий игр, причём необходимо учитывать, что на смену категории K-A (Kids to Adults) пришла категория E (Everyone). Заменим K-A на E:"
   ]
  },
  {
   "cell_type": "code",
   "execution_count": 10,
   "metadata": {},
   "outputs": [],
   "source": [
    "data['Rating'] = data['Rating'].replace('K-A', 'E', regex=True)"
   ]
  },
  {
   "cell_type": "markdown",
   "metadata": {},
   "source": [
    "Таким образом, исходные данные состоят из 16715 строк и 11 столбцов. Видно, что в данных имеются пропуски, а названия столбцов написаны не по правилам синтаксиса в Python, всё это будет обработано далее. Также в ряде столбцов тип данных не соответствует содержимому, что будет изменено в предобработке данных."
   ]
  },
  {
   "cell_type": "markdown",
   "metadata": {},
   "source": [
    "## Подготовим данные"
   ]
  },
  {
   "cell_type": "markdown",
   "metadata": {},
   "source": [
    "Сначала заменим названия столбцов, т.е. приведём их к нижнему регистру, применив метод str.lower():"
   ]
  },
  {
   "cell_type": "code",
   "execution_count": 11,
   "metadata": {
    "scrolled": true
   },
   "outputs": [
    {
     "name": "stdout",
     "output_type": "stream",
     "text": [
      "<class 'pandas.core.frame.DataFrame'>\n",
      "RangeIndex: 16715 entries, 0 to 16714\n",
      "Data columns (total 11 columns):\n",
      " #   Column           Non-Null Count  Dtype  \n",
      "---  ------           --------------  -----  \n",
      " 0   name             16713 non-null  object \n",
      " 1   platform         16715 non-null  object \n",
      " 2   year_of_release  16446 non-null  float64\n",
      " 3   genre            16713 non-null  object \n",
      " 4   na_sales         16715 non-null  float64\n",
      " 5   eu_sales         16715 non-null  float64\n",
      " 6   jp_sales         16715 non-null  float64\n",
      " 7   other_sales      16715 non-null  float64\n",
      " 8   critic_score     8137 non-null   float64\n",
      " 9   user_score       10014 non-null  object \n",
      " 10  rating           9949 non-null   object \n",
      "dtypes: float64(6), object(5)\n",
      "memory usage: 1.4+ MB\n"
     ]
    }
   ],
   "source": [
    "data.columns = data.columns.str.lower()\n",
    "\n",
    "data.info()"
   ]
  },
  {
   "cell_type": "markdown",
   "metadata": {},
   "source": [
    "Теперь преобразуем данные в нужные типы в следующих столбцах:\n",
    "- year_of_release - год выпуска, т.е. целые числа, значит, нужно изменить c float на int;\n",
    "- user_score - оценка пользователей (максимум 10), т.е. это числа с плавающей точкой, значит, нужно заменить object на float.\n",
    "\n",
    "Выполним необходимые изменения.\n",
    "\n",
    "Начнём со столбца 'year_of_release'. Сначала обработаем пропуски в этом столбце. Убедимся, что они имеют тип NaN:"
   ]
  },
  {
   "cell_type": "code",
   "execution_count": 12,
   "metadata": {
    "scrolled": false
   },
   "outputs": [
    {
     "data": {
      "text/plain": [
       "array([2006., 1985., 2008., 2009., 1996., 1989., 1984., 2005., 1999.,\n",
       "       2007., 2010., 2013., 2004., 1990., 1988., 2002., 2001., 2011.,\n",
       "       1998., 2015., 2012., 2014., 1992., 1997., 1993., 1994., 1982.,\n",
       "       2016., 2003., 1986., 2000.,   nan, 1995., 1991., 1981., 1987.,\n",
       "       1980., 1983.])"
      ]
     },
     "execution_count": 12,
     "metadata": {},
     "output_type": "execute_result"
    }
   ],
   "source": [
    "data['year_of_release'].unique()"
   ]
  },
  {
   "cell_type": "markdown",
   "metadata": {},
   "source": [
    "Посчитаем долю таких пропусков:"
   ]
  },
  {
   "cell_type": "code",
   "execution_count": 13,
   "metadata": {},
   "outputs": [
    {
     "data": {
      "text/plain": [
       "0.01609332934489979"
      ]
     },
     "execution_count": 13,
     "metadata": {},
     "output_type": "execute_result"
    }
   ],
   "source": [
    "data['year_of_release'].isna().sum() / len(data)"
   ]
  },
  {
   "cell_type": "markdown",
   "metadata": {},
   "source": [
    "Пропуски в столбце 'year_of_release' составляют менее 2 %, значит, можно их удалить, так как на дальнейшем анализе это не скажется. Применим метод  dropna():"
   ]
  },
  {
   "cell_type": "code",
   "execution_count": 14,
   "metadata": {},
   "outputs": [
    {
     "name": "stdout",
     "output_type": "stream",
     "text": [
      "<class 'pandas.core.frame.DataFrame'>\n",
      "RangeIndex: 16446 entries, 0 to 16445\n",
      "Data columns (total 12 columns):\n",
      " #   Column           Non-Null Count  Dtype  \n",
      "---  ------           --------------  -----  \n",
      " 0   index            16446 non-null  int64  \n",
      " 1   name             16444 non-null  object \n",
      " 2   platform         16446 non-null  object \n",
      " 3   year_of_release  16446 non-null  float64\n",
      " 4   genre            16444 non-null  object \n",
      " 5   na_sales         16446 non-null  float64\n",
      " 6   eu_sales         16446 non-null  float64\n",
      " 7   jp_sales         16446 non-null  float64\n",
      " 8   other_sales      16446 non-null  float64\n",
      " 9   critic_score     7983 non-null   float64\n",
      " 10  user_score       9839 non-null   object \n",
      " 11  rating           9768 non-null   object \n",
      "dtypes: float64(6), int64(1), object(5)\n",
      "memory usage: 1.5+ MB\n"
     ]
    }
   ],
   "source": [
    "data = data.dropna(subset=['year_of_release']).reset_index()\n",
    "\n",
    "data.info()"
   ]
  },
  {
   "cell_type": "markdown",
   "metadata": {},
   "source": [
    "Теперь, когда в данных осталось 16446 строк, а в столбце 'year_of_release' больше нет пропусков, переведём значения этого столбца в целочисленные:"
   ]
  },
  {
   "cell_type": "code",
   "execution_count": 15,
   "metadata": {
    "scrolled": false
   },
   "outputs": [
    {
     "name": "stdout",
     "output_type": "stream",
     "text": [
      "<class 'pandas.core.frame.DataFrame'>\n",
      "RangeIndex: 16446 entries, 0 to 16445\n",
      "Data columns (total 12 columns):\n",
      " #   Column           Non-Null Count  Dtype  \n",
      "---  ------           --------------  -----  \n",
      " 0   index            16446 non-null  int64  \n",
      " 1   name             16444 non-null  object \n",
      " 2   platform         16446 non-null  object \n",
      " 3   year_of_release  16446 non-null  int64  \n",
      " 4   genre            16444 non-null  object \n",
      " 5   na_sales         16446 non-null  float64\n",
      " 6   eu_sales         16446 non-null  float64\n",
      " 7   jp_sales         16446 non-null  float64\n",
      " 8   other_sales      16446 non-null  float64\n",
      " 9   critic_score     7983 non-null   float64\n",
      " 10  user_score       9839 non-null   object \n",
      " 11  rating           9768 non-null   object \n",
      "dtypes: float64(5), int64(2), object(5)\n",
      "memory usage: 1.5+ MB\n"
     ]
    }
   ],
   "source": [
    "data['year_of_release'] = data['year_of_release'].astype('int')\n",
    "\n",
    "data.info()"
   ]
  },
  {
   "cell_type": "markdown",
   "metadata": {},
   "source": [
    "Осталось изменить тип данных в столбце 'user_score'. Снова вызовем метод unique():"
   ]
  },
  {
   "cell_type": "code",
   "execution_count": 16,
   "metadata": {},
   "outputs": [
    {
     "data": {
      "text/plain": [
       "array(['8', nan, '8.3', '8.5', '6.6', '8.4', '8.6', '7.7', '6.3', '7.4',\n",
       "       '8.2', '9', '7.9', '8.1', '8.7', '7.1', '3.4', '5.3', '4.8', '3.2',\n",
       "       '8.9', '6.4', '7.8', '7.5', '2.6', '7.2', '9.2', '7', '7.3', '4.3',\n",
       "       '7.6', '5.7', '5', '9.1', '6.5', 'tbd', '8.8', '6.9', '9.4', '6.8',\n",
       "       '6.1', '6.7', '5.4', '4', '4.9', '4.5', '9.3', '6.2', '4.2', '6',\n",
       "       '3.7', '4.1', '5.8', '5.6', '5.5', '4.4', '4.6', '5.9', '3.9',\n",
       "       '3.1', '2.9', '5.2', '3.3', '4.7', '5.1', '3.5', '2.5', '1.9', '3',\n",
       "       '2.7', '2.2', '2', '9.5', '2.1', '3.6', '2.8', '1.8', '3.8', '0',\n",
       "       '1.6', '9.6', '2.4', '1.7', '1.1', '0.3', '1.5', '0.7', '1.2',\n",
       "       '2.3', '0.5', '1.3', '0.2', '0.6', '1.4', '0.9', '1', '9.7'],\n",
       "      dtype=object)"
      ]
     },
     "execution_count": 16,
     "metadata": {},
     "output_type": "execute_result"
    }
   ],
   "source": [
    "data['user_score'].unique()"
   ]
  },
  {
   "cell_type": "markdown",
   "metadata": {},
   "source": [
    "В этом столбце помимо пропусков типа NaN существует строка 'tbd', которая означает to be determined, т.е. оценка пользователями будет определена в дальнейшем, данные ещё не поступили. Оставим эти значения в таком виде, т.к. информация по ним ещё не была собрана. Заполним NaN и 'tbd' также -1 и изменим тип данных в столбце 'user_score':"
   ]
  },
  {
   "cell_type": "code",
   "execution_count": 17,
   "metadata": {},
   "outputs": [
    {
     "name": "stdout",
     "output_type": "stream",
     "text": [
      "<class 'pandas.core.frame.DataFrame'>\n",
      "RangeIndex: 16446 entries, 0 to 16445\n",
      "Data columns (total 12 columns):\n",
      " #   Column           Non-Null Count  Dtype  \n",
      "---  ------           --------------  -----  \n",
      " 0   index            16446 non-null  int64  \n",
      " 1   name             16444 non-null  object \n",
      " 2   platform         16446 non-null  object \n",
      " 3   year_of_release  16446 non-null  int64  \n",
      " 4   genre            16444 non-null  object \n",
      " 5   na_sales         16446 non-null  float64\n",
      " 6   eu_sales         16446 non-null  float64\n",
      " 7   jp_sales         16446 non-null  float64\n",
      " 8   other_sales      16446 non-null  float64\n",
      " 9   critic_score     7983 non-null   float64\n",
      " 10  user_score       16446 non-null  float64\n",
      " 11  rating           9768 non-null   object \n",
      "dtypes: float64(6), int64(2), object(4)\n",
      "memory usage: 1.5+ MB\n"
     ]
    }
   ],
   "source": [
    "data['user_score'] = data['user_score'].fillna(-1)\n",
    "\n",
    "data['user_score'] = data['user_score'].replace('tbd', -1, regex=True)\n",
    "\n",
    "data['user_score'] = data['user_score'].astype('float')\n",
    "\n",
    "data.info()"
   ]
  },
  {
   "cell_type": "markdown",
   "metadata": {},
   "source": [
    "Типы данных были изменены успешно. Посмотрим теперь, в каких ещё столбцах есть пропуски:"
   ]
  },
  {
   "cell_type": "code",
   "execution_count": 18,
   "metadata": {
    "scrolled": true
   },
   "outputs": [
    {
     "data": {
      "text/plain": [
       "index                 0\n",
       "name                  2\n",
       "platform              0\n",
       "year_of_release       0\n",
       "genre                 2\n",
       "na_sales              0\n",
       "eu_sales              0\n",
       "jp_sales              0\n",
       "other_sales           0\n",
       "critic_score       8463\n",
       "user_score            0\n",
       "rating             6678\n",
       "dtype: int64"
      ]
     },
     "execution_count": 18,
     "metadata": {},
     "output_type": "execute_result"
    }
   ],
   "source": [
    "data.isna().sum()"
   ]
  },
  {
   "cell_type": "markdown",
   "metadata": {},
   "source": [
    "В столбцах 'name' и 'genre' имеется всего по 2 пропуска. Проверим, находятся ли они в одинаковых строках:"
   ]
  },
  {
   "cell_type": "code",
   "execution_count": 19,
   "metadata": {
    "scrolled": true
   },
   "outputs": [
    {
     "data": {
      "text/html": [
       "<div>\n",
       "<style scoped>\n",
       "    .dataframe tbody tr th:only-of-type {\n",
       "        vertical-align: middle;\n",
       "    }\n",
       "\n",
       "    .dataframe tbody tr th {\n",
       "        vertical-align: top;\n",
       "    }\n",
       "\n",
       "    .dataframe thead th {\n",
       "        text-align: right;\n",
       "    }\n",
       "</style>\n",
       "<table border=\"1\" class=\"dataframe\">\n",
       "  <thead>\n",
       "    <tr style=\"text-align: right;\">\n",
       "      <th></th>\n",
       "      <th>index</th>\n",
       "      <th>name</th>\n",
       "      <th>platform</th>\n",
       "      <th>year_of_release</th>\n",
       "      <th>genre</th>\n",
       "      <th>na_sales</th>\n",
       "      <th>eu_sales</th>\n",
       "      <th>jp_sales</th>\n",
       "      <th>other_sales</th>\n",
       "      <th>critic_score</th>\n",
       "      <th>user_score</th>\n",
       "      <th>rating</th>\n",
       "    </tr>\n",
       "  </thead>\n",
       "  <tbody>\n",
       "    <tr>\n",
       "      <th>652</th>\n",
       "      <td>659</td>\n",
       "      <td>NaN</td>\n",
       "      <td>GEN</td>\n",
       "      <td>1993</td>\n",
       "      <td>NaN</td>\n",
       "      <td>1.78</td>\n",
       "      <td>0.53</td>\n",
       "      <td>0.00</td>\n",
       "      <td>0.08</td>\n",
       "      <td>NaN</td>\n",
       "      <td>-1.0</td>\n",
       "      <td>NaN</td>\n",
       "    </tr>\n",
       "    <tr>\n",
       "      <th>14022</th>\n",
       "      <td>14244</td>\n",
       "      <td>NaN</td>\n",
       "      <td>GEN</td>\n",
       "      <td>1993</td>\n",
       "      <td>NaN</td>\n",
       "      <td>0.00</td>\n",
       "      <td>0.00</td>\n",
       "      <td>0.03</td>\n",
       "      <td>0.00</td>\n",
       "      <td>NaN</td>\n",
       "      <td>-1.0</td>\n",
       "      <td>NaN</td>\n",
       "    </tr>\n",
       "  </tbody>\n",
       "</table>\n",
       "</div>"
      ],
      "text/plain": [
       "       index name platform  year_of_release genre  na_sales  eu_sales  \\\n",
       "652      659  NaN      GEN             1993   NaN      1.78      0.53   \n",
       "14022  14244  NaN      GEN             1993   NaN      0.00      0.00   \n",
       "\n",
       "       jp_sales  other_sales  critic_score  user_score rating  \n",
       "652        0.00         0.08           NaN        -1.0    NaN  \n",
       "14022      0.03         0.00           NaN        -1.0    NaN  "
      ]
     },
     "execution_count": 19,
     "metadata": {},
     "output_type": "execute_result"
    }
   ],
   "source": [
    "data.query('name.isna()')"
   ]
  },
  {
   "cell_type": "markdown",
   "metadata": {},
   "source": [
    "Действительно, в строках с индексами 659 и 14244 имеются пропуски в столбцах 'name', 'genre', 'critic_score', 'user_score' и 'rating', поэтому удалим их из данных, это не скажется на дальнейшем исследовании:"
   ]
  },
  {
   "cell_type": "code",
   "execution_count": 20,
   "metadata": {},
   "outputs": [],
   "source": [
    "data = data.dropna(subset=['name'])"
   ]
  },
  {
   "cell_type": "markdown",
   "metadata": {},
   "source": [
    "Осталось обработать пропуски в столбцах 'critic_score' и 'rating'. В столбце 'critic_score' также разумно будет заменить пропущенные значения на -1, чтобы иметь максимально возможный объём данных и при этом при последующей обработке данных понимать, что это пропущенные значения. А в столбце 'rating' заменим пропуски строкой 'Unknown':"
   ]
  },
  {
   "cell_type": "code",
   "execution_count": 21,
   "metadata": {
    "scrolled": true
   },
   "outputs": [],
   "source": [
    "data['critic_score'] = data['critic_score'].fillna(-1)\n",
    "\n",
    "data['rating'] = data['rating'].fillna('Unknown')"
   ]
  },
  {
   "cell_type": "markdown",
   "metadata": {},
   "source": [
    "Убедимся, что в данных отсутсвуют пропуски:"
   ]
  },
  {
   "cell_type": "code",
   "execution_count": 22,
   "metadata": {
    "scrolled": true
   },
   "outputs": [
    {
     "data": {
      "text/plain": [
       "index              0\n",
       "name               0\n",
       "platform           0\n",
       "year_of_release    0\n",
       "genre              0\n",
       "na_sales           0\n",
       "eu_sales           0\n",
       "jp_sales           0\n",
       "other_sales        0\n",
       "critic_score       0\n",
       "user_score         0\n",
       "rating             0\n",
       "dtype: int64"
      ]
     },
     "execution_count": 22,
     "metadata": {},
     "output_type": "execute_result"
    }
   ],
   "source": [
    "data.isna().sum()"
   ]
  },
  {
   "cell_type": "markdown",
   "metadata": {},
   "source": [
    "В целом следует отметить, что пропущенные значения могли возникнуть по разным причинам:\n",
    "- Человеческий фактор: ошибки ввода данных, фактическое отсутствие данных.\n",
    "- Технические проблемы: возможные сбои оборудования или программного обеспечения для сбора данных.; возможное удаление отсутствующих данных в процессе обработки или очистки данных.\n",
    "- Организационные: данные отсутсвуют в силу конфиденциальности.\n",
    "\n",
    "\n",
    "Проверим, есть ли в данных явные дубликаты, применив методы duplicated() и sum():"
   ]
  },
  {
   "cell_type": "code",
   "execution_count": 23,
   "metadata": {},
   "outputs": [
    {
     "data": {
      "text/plain": [
       "0"
      ]
     },
     "execution_count": 23,
     "metadata": {},
     "output_type": "execute_result"
    }
   ],
   "source": [
    "data.duplicated().sum()"
   ]
  },
  {
   "cell_type": "markdown",
   "metadata": {},
   "source": [
    "В данных отсутствуют строки-дубликаты.\n",
    "\n",
    "Проверим наличие неявных дубликатов:"
   ]
  },
  {
   "cell_type": "code",
   "execution_count": 24,
   "metadata": {
    "scrolled": true
   },
   "outputs": [
    {
     "data": {
      "text/html": [
       "<div>\n",
       "<style scoped>\n",
       "    .dataframe tbody tr th:only-of-type {\n",
       "        vertical-align: middle;\n",
       "    }\n",
       "\n",
       "    .dataframe tbody tr th {\n",
       "        vertical-align: top;\n",
       "    }\n",
       "\n",
       "    .dataframe thead th {\n",
       "        text-align: right;\n",
       "    }\n",
       "</style>\n",
       "<table border=\"1\" class=\"dataframe\">\n",
       "  <thead>\n",
       "    <tr style=\"text-align: right;\">\n",
       "      <th></th>\n",
       "      <th>index</th>\n",
       "      <th>name</th>\n",
       "      <th>platform</th>\n",
       "      <th>year_of_release</th>\n",
       "      <th>genre</th>\n",
       "      <th>na_sales</th>\n",
       "      <th>eu_sales</th>\n",
       "      <th>jp_sales</th>\n",
       "      <th>other_sales</th>\n",
       "      <th>critic_score</th>\n",
       "      <th>user_score</th>\n",
       "      <th>rating</th>\n",
       "    </tr>\n",
       "  </thead>\n",
       "  <tbody>\n",
       "    <tr>\n",
       "      <th>600</th>\n",
       "      <td>604</td>\n",
       "      <td>Madden NFL 13</td>\n",
       "      <td>PS3</td>\n",
       "      <td>2012</td>\n",
       "      <td>Sports</td>\n",
       "      <td>2.11</td>\n",
       "      <td>0.22</td>\n",
       "      <td>0.0</td>\n",
       "      <td>0.23</td>\n",
       "      <td>83.0</td>\n",
       "      <td>5.5</td>\n",
       "      <td>E</td>\n",
       "    </tr>\n",
       "    <tr>\n",
       "      <th>15971</th>\n",
       "      <td>16230</td>\n",
       "      <td>Madden NFL 13</td>\n",
       "      <td>PS3</td>\n",
       "      <td>2012</td>\n",
       "      <td>Sports</td>\n",
       "      <td>0.00</td>\n",
       "      <td>0.01</td>\n",
       "      <td>0.0</td>\n",
       "      <td>0.00</td>\n",
       "      <td>83.0</td>\n",
       "      <td>5.5</td>\n",
       "      <td>E</td>\n",
       "    </tr>\n",
       "  </tbody>\n",
       "</table>\n",
       "</div>"
      ],
      "text/plain": [
       "       index           name platform  year_of_release   genre  na_sales  \\\n",
       "600      604  Madden NFL 13      PS3             2012  Sports      2.11   \n",
       "15971  16230  Madden NFL 13      PS3             2012  Sports      0.00   \n",
       "\n",
       "       eu_sales  jp_sales  other_sales  critic_score  user_score rating  \n",
       "600        0.22       0.0         0.23          83.0         5.5      E  \n",
       "15971      0.01       0.0         0.00          83.0         5.5      E  "
      ]
     },
     "execution_count": 24,
     "metadata": {},
     "output_type": "execute_result"
    }
   ],
   "source": [
    "data[data[['name', 'platform','year_of_release']].duplicated(keep=False)]"
   ]
  },
  {
   "cell_type": "markdown",
   "metadata": {},
   "source": [
    "В данных имеется 2 неявных дубликата, которые отличаются объёмом продаж. Удалим явно не реалистичный из них:  "
   ]
  },
  {
   "cell_type": "code",
   "execution_count": 25,
   "metadata": {},
   "outputs": [
    {
     "data": {
      "text/html": [
       "<div>\n",
       "<style scoped>\n",
       "    .dataframe tbody tr th:only-of-type {\n",
       "        vertical-align: middle;\n",
       "    }\n",
       "\n",
       "    .dataframe tbody tr th {\n",
       "        vertical-align: top;\n",
       "    }\n",
       "\n",
       "    .dataframe thead th {\n",
       "        text-align: right;\n",
       "    }\n",
       "</style>\n",
       "<table border=\"1\" class=\"dataframe\">\n",
       "  <thead>\n",
       "    <tr style=\"text-align: right;\">\n",
       "      <th></th>\n",
       "      <th>index</th>\n",
       "      <th>name</th>\n",
       "      <th>platform</th>\n",
       "      <th>year_of_release</th>\n",
       "      <th>genre</th>\n",
       "      <th>na_sales</th>\n",
       "      <th>eu_sales</th>\n",
       "      <th>jp_sales</th>\n",
       "      <th>other_sales</th>\n",
       "      <th>critic_score</th>\n",
       "      <th>user_score</th>\n",
       "      <th>rating</th>\n",
       "    </tr>\n",
       "  </thead>\n",
       "  <tbody>\n",
       "  </tbody>\n",
       "</table>\n",
       "</div>"
      ],
      "text/plain": [
       "Empty DataFrame\n",
       "Columns: [index, name, platform, year_of_release, genre, na_sales, eu_sales, jp_sales, other_sales, critic_score, user_score, rating]\n",
       "Index: []"
      ]
     },
     "execution_count": 25,
     "metadata": {},
     "output_type": "execute_result"
    }
   ],
   "source": [
    "data = data.query('index != 16230')\n",
    "\n",
    "data[data[['name', 'platform','year_of_release']].duplicated(keep=False)]"
   ]
  },
  {
   "cell_type": "markdown",
   "metadata": {},
   "source": [
    "Неявных дубликаты теперь отсутствуют.\n",
    "\n",
    "Посчитаем суммарные продажи во всех регионах и запишем их в отдельный столбец 'total_sales':"
   ]
  },
  {
   "cell_type": "code",
   "execution_count": 26,
   "metadata": {
    "scrolled": true
   },
   "outputs": [
    {
     "data": {
      "text/html": [
       "<div>\n",
       "<style scoped>\n",
       "    .dataframe tbody tr th:only-of-type {\n",
       "        vertical-align: middle;\n",
       "    }\n",
       "\n",
       "    .dataframe tbody tr th {\n",
       "        vertical-align: top;\n",
       "    }\n",
       "\n",
       "    .dataframe thead th {\n",
       "        text-align: right;\n",
       "    }\n",
       "</style>\n",
       "<table border=\"1\" class=\"dataframe\">\n",
       "  <thead>\n",
       "    <tr style=\"text-align: right;\">\n",
       "      <th></th>\n",
       "      <th>index</th>\n",
       "      <th>name</th>\n",
       "      <th>platform</th>\n",
       "      <th>year_of_release</th>\n",
       "      <th>genre</th>\n",
       "      <th>na_sales</th>\n",
       "      <th>eu_sales</th>\n",
       "      <th>jp_sales</th>\n",
       "      <th>other_sales</th>\n",
       "      <th>critic_score</th>\n",
       "      <th>user_score</th>\n",
       "      <th>rating</th>\n",
       "      <th>total_sales</th>\n",
       "    </tr>\n",
       "  </thead>\n",
       "  <tbody>\n",
       "    <tr>\n",
       "      <th>0</th>\n",
       "      <td>0</td>\n",
       "      <td>Wii Sports</td>\n",
       "      <td>Wii</td>\n",
       "      <td>2006</td>\n",
       "      <td>Sports</td>\n",
       "      <td>41.36</td>\n",
       "      <td>28.96</td>\n",
       "      <td>3.77</td>\n",
       "      <td>8.45</td>\n",
       "      <td>76.0</td>\n",
       "      <td>8.0</td>\n",
       "      <td>E</td>\n",
       "      <td>82.54</td>\n",
       "    </tr>\n",
       "    <tr>\n",
       "      <th>1</th>\n",
       "      <td>1</td>\n",
       "      <td>Super Mario Bros.</td>\n",
       "      <td>NES</td>\n",
       "      <td>1985</td>\n",
       "      <td>Platform</td>\n",
       "      <td>29.08</td>\n",
       "      <td>3.58</td>\n",
       "      <td>6.81</td>\n",
       "      <td>0.77</td>\n",
       "      <td>-1.0</td>\n",
       "      <td>-1.0</td>\n",
       "      <td>Unknown</td>\n",
       "      <td>40.24</td>\n",
       "    </tr>\n",
       "    <tr>\n",
       "      <th>2</th>\n",
       "      <td>2</td>\n",
       "      <td>Mario Kart Wii</td>\n",
       "      <td>Wii</td>\n",
       "      <td>2008</td>\n",
       "      <td>Racing</td>\n",
       "      <td>15.68</td>\n",
       "      <td>12.76</td>\n",
       "      <td>3.79</td>\n",
       "      <td>3.29</td>\n",
       "      <td>82.0</td>\n",
       "      <td>8.3</td>\n",
       "      <td>E</td>\n",
       "      <td>35.52</td>\n",
       "    </tr>\n",
       "    <tr>\n",
       "      <th>3</th>\n",
       "      <td>3</td>\n",
       "      <td>Wii Sports Resort</td>\n",
       "      <td>Wii</td>\n",
       "      <td>2009</td>\n",
       "      <td>Sports</td>\n",
       "      <td>15.61</td>\n",
       "      <td>10.93</td>\n",
       "      <td>3.28</td>\n",
       "      <td>2.95</td>\n",
       "      <td>80.0</td>\n",
       "      <td>8.0</td>\n",
       "      <td>E</td>\n",
       "      <td>32.77</td>\n",
       "    </tr>\n",
       "    <tr>\n",
       "      <th>4</th>\n",
       "      <td>4</td>\n",
       "      <td>Pokemon Red/Pokemon Blue</td>\n",
       "      <td>GB</td>\n",
       "      <td>1996</td>\n",
       "      <td>Role-Playing</td>\n",
       "      <td>11.27</td>\n",
       "      <td>8.89</td>\n",
       "      <td>10.22</td>\n",
       "      <td>1.00</td>\n",
       "      <td>-1.0</td>\n",
       "      <td>-1.0</td>\n",
       "      <td>Unknown</td>\n",
       "      <td>31.38</td>\n",
       "    </tr>\n",
       "    <tr>\n",
       "      <th>...</th>\n",
       "      <td>...</td>\n",
       "      <td>...</td>\n",
       "      <td>...</td>\n",
       "      <td>...</td>\n",
       "      <td>...</td>\n",
       "      <td>...</td>\n",
       "      <td>...</td>\n",
       "      <td>...</td>\n",
       "      <td>...</td>\n",
       "      <td>...</td>\n",
       "      <td>...</td>\n",
       "      <td>...</td>\n",
       "      <td>...</td>\n",
       "    </tr>\n",
       "    <tr>\n",
       "      <th>16441</th>\n",
       "      <td>16710</td>\n",
       "      <td>Samurai Warriors: Sanada Maru</td>\n",
       "      <td>PS3</td>\n",
       "      <td>2016</td>\n",
       "      <td>Action</td>\n",
       "      <td>0.00</td>\n",
       "      <td>0.00</td>\n",
       "      <td>0.01</td>\n",
       "      <td>0.00</td>\n",
       "      <td>-1.0</td>\n",
       "      <td>-1.0</td>\n",
       "      <td>Unknown</td>\n",
       "      <td>0.01</td>\n",
       "    </tr>\n",
       "    <tr>\n",
       "      <th>16442</th>\n",
       "      <td>16711</td>\n",
       "      <td>LMA Manager 2007</td>\n",
       "      <td>X360</td>\n",
       "      <td>2006</td>\n",
       "      <td>Sports</td>\n",
       "      <td>0.00</td>\n",
       "      <td>0.01</td>\n",
       "      <td>0.00</td>\n",
       "      <td>0.00</td>\n",
       "      <td>-1.0</td>\n",
       "      <td>-1.0</td>\n",
       "      <td>Unknown</td>\n",
       "      <td>0.01</td>\n",
       "    </tr>\n",
       "    <tr>\n",
       "      <th>16443</th>\n",
       "      <td>16712</td>\n",
       "      <td>Haitaka no Psychedelica</td>\n",
       "      <td>PSV</td>\n",
       "      <td>2016</td>\n",
       "      <td>Adventure</td>\n",
       "      <td>0.00</td>\n",
       "      <td>0.00</td>\n",
       "      <td>0.01</td>\n",
       "      <td>0.00</td>\n",
       "      <td>-1.0</td>\n",
       "      <td>-1.0</td>\n",
       "      <td>Unknown</td>\n",
       "      <td>0.01</td>\n",
       "    </tr>\n",
       "    <tr>\n",
       "      <th>16444</th>\n",
       "      <td>16713</td>\n",
       "      <td>Spirits &amp; Spells</td>\n",
       "      <td>GBA</td>\n",
       "      <td>2003</td>\n",
       "      <td>Platform</td>\n",
       "      <td>0.01</td>\n",
       "      <td>0.00</td>\n",
       "      <td>0.00</td>\n",
       "      <td>0.00</td>\n",
       "      <td>-1.0</td>\n",
       "      <td>-1.0</td>\n",
       "      <td>Unknown</td>\n",
       "      <td>0.01</td>\n",
       "    </tr>\n",
       "    <tr>\n",
       "      <th>16445</th>\n",
       "      <td>16714</td>\n",
       "      <td>Winning Post 8 2016</td>\n",
       "      <td>PSV</td>\n",
       "      <td>2016</td>\n",
       "      <td>Simulation</td>\n",
       "      <td>0.00</td>\n",
       "      <td>0.00</td>\n",
       "      <td>0.01</td>\n",
       "      <td>0.00</td>\n",
       "      <td>-1.0</td>\n",
       "      <td>-1.0</td>\n",
       "      <td>Unknown</td>\n",
       "      <td>0.01</td>\n",
       "    </tr>\n",
       "  </tbody>\n",
       "</table>\n",
       "<p>16443 rows × 13 columns</p>\n",
       "</div>"
      ],
      "text/plain": [
       "       index                           name platform  year_of_release  \\\n",
       "0          0                     Wii Sports      Wii             2006   \n",
       "1          1              Super Mario Bros.      NES             1985   \n",
       "2          2                 Mario Kart Wii      Wii             2008   \n",
       "3          3              Wii Sports Resort      Wii             2009   \n",
       "4          4       Pokemon Red/Pokemon Blue       GB             1996   \n",
       "...      ...                            ...      ...              ...   \n",
       "16441  16710  Samurai Warriors: Sanada Maru      PS3             2016   \n",
       "16442  16711               LMA Manager 2007     X360             2006   \n",
       "16443  16712        Haitaka no Psychedelica      PSV             2016   \n",
       "16444  16713               Spirits & Spells      GBA             2003   \n",
       "16445  16714            Winning Post 8 2016      PSV             2016   \n",
       "\n",
       "              genre  na_sales  eu_sales  jp_sales  other_sales  critic_score  \\\n",
       "0            Sports     41.36     28.96      3.77         8.45          76.0   \n",
       "1          Platform     29.08      3.58      6.81         0.77          -1.0   \n",
       "2            Racing     15.68     12.76      3.79         3.29          82.0   \n",
       "3            Sports     15.61     10.93      3.28         2.95          80.0   \n",
       "4      Role-Playing     11.27      8.89     10.22         1.00          -1.0   \n",
       "...             ...       ...       ...       ...          ...           ...   \n",
       "16441        Action      0.00      0.00      0.01         0.00          -1.0   \n",
       "16442        Sports      0.00      0.01      0.00         0.00          -1.0   \n",
       "16443     Adventure      0.00      0.00      0.01         0.00          -1.0   \n",
       "16444      Platform      0.01      0.00      0.00         0.00          -1.0   \n",
       "16445    Simulation      0.00      0.00      0.01         0.00          -1.0   \n",
       "\n",
       "       user_score   rating  total_sales  \n",
       "0             8.0        E        82.54  \n",
       "1            -1.0  Unknown        40.24  \n",
       "2             8.3        E        35.52  \n",
       "3             8.0        E        32.77  \n",
       "4            -1.0  Unknown        31.38  \n",
       "...           ...      ...          ...  \n",
       "16441        -1.0  Unknown         0.01  \n",
       "16442        -1.0  Unknown         0.01  \n",
       "16443        -1.0  Unknown         0.01  \n",
       "16444        -1.0  Unknown         0.01  \n",
       "16445        -1.0  Unknown         0.01  \n",
       "\n",
       "[16443 rows x 13 columns]"
      ]
     },
     "execution_count": 26,
     "metadata": {},
     "output_type": "execute_result"
    }
   ],
   "source": [
    "data['total_sales'] = data['na_sales'] + data['eu_sales'] + data['jp_sales'] + data['other_sales']\n",
    "\n",
    "data"
   ]
  },
  {
   "cell_type": "markdown",
   "metadata": {},
   "source": [
    "*Таким образом, в рассмотренном датафрейме:*\n",
    "- названия столбцов были приведены в соответствие с правилами синтаксиса;\n",
    "- пропущенные значения были в большинстве случаев заменены на -1, чтобы можно было изменить типы данных там, где это необходимо, и чтобы при дальнейшем анализе учитывать максимально возможный объём данных, убирая из расчётов отрицательные значения (т.е. пропуски);\n",
    "- были удалены только 2 строки, которые содержали пропущенные значения в столбцах 'name', 'genre', 'critic_score', 'user_score' и 'rating';\n",
    "- явные дубликаты отсутсвуют;\n",
    "- был создан столбец 'total_sales' со значениями суммарных продаж во всех регионах.\n",
    "\n",
    "Перейдём к исследовательскому анализу данных."
   ]
  },
  {
   "cell_type": "markdown",
   "metadata": {},
   "source": [
    "## Проведём исследовательский анализ данных"
   ]
  },
  {
   "cell_type": "markdown",
   "metadata": {},
   "source": [
    "Посмотрим, сколько игр выпускалось в разные годы."
   ]
  },
  {
   "cell_type": "code",
   "execution_count": 27,
   "metadata": {},
   "outputs": [
    {
     "data": {
      "image/png": "[encoded data removed]",
      "text/plain": [
       "<Figure size 720x360 with 1 Axes>"
      ]
     },
     "metadata": {
      "needs_background": "light"
     },
     "output_type": "display_data"
    }
   ],
   "source": [
    "plt.figure(figsize=(10, 5));\n",
    "\n",
    "data.query('year_of_release != -1').groupby('year_of_release')['name'].count().plot();\n",
    "\n",
    "plt.title(\"Количество выпущенных игр по годам\", fontsize=16);\n",
    "plt.xlabel(\"Год выпуска\", fontsize=12);\n",
    "plt.ylabel(\"Количество игр, шт.\", fontsize=12);\n",
    "plt.grid();"
   ]
  },
  {
   "cell_type": "markdown",
   "metadata": {},
   "source": [
    "Как можно видеть, до 1990 года количество выпускаемых игр практически не изменялось и не превышало десятков штук в год. Активный рост количества выпускаемых игр (с незначительными падениями в конце 1990-х гг. и между 2002-2004 гг.) начался с 1990-х годов и продолжался до 2008-2009 гг., достигнув примерно 1400 шт. в год. Такая тенденция бурного роста вероятнее всего вызвана значительным техническим прогрессом в качестве выпускаемых игр и игровых платформ.что вызвано активным бумом в игровой индустрии. Однако, достигнув пиковых значений в 2008-2009 гг. происходит резкое снижение количества выпускаемых игр более чем в половину: с 1400 шт. в 2009 г. до примерно 600 шт. в 2013 г., что, с одной стороны, возможно, вызвано глобальным экономическим кризисом 2008 года. А сдругой стороны, может объясняться начавшимся в те годы бурным развитием мобильных платформ и игровых приложений. Всё это и привело к спаду спроса на игровую продукцию и, соответственно, снижением количества выпускаемых игр. Тем не менее с 2013 по 2016 гг. количество выпускаемых игр остаётся на уровне начала 2000-ч гг. и находится в пределах 500-600 шт в год.\n",
    "\n",
    "Поскольку нам важны только актуальные данные, то возьмём временной промежуток с 1990 года, когда начался активный бум технологического развития в игровой индустрии:"
   ]
  },
  {
   "cell_type": "code",
   "execution_count": 28,
   "metadata": {},
   "outputs": [],
   "source": [
    "data = data.query('year_of_release >= 1990')"
   ]
  },
  {
   "cell_type": "markdown",
   "metadata": {},
   "source": [
    "Теперь посмотрим, как менялись продажи по платформам с 1990 года: "
   ]
  },
  {
   "cell_type": "code",
   "execution_count": 29,
   "metadata": {
    "scrolled": true
   },
   "outputs": [
    {
     "data": {
      "image/png": "[encoded data removed]",
      "text/plain": [
       "<Figure size 720x288 with 1 Axes>"
      ]
     },
     "metadata": {
      "needs_background": "light"
     },
     "output_type": "display_data"
    }
   ],
   "source": [
    "plt.figure(figsize=(10,4));\n",
    "\n",
    "data.groupby('platform')['total_sales']\\\n",
    ".sum().sort_values(ascending=False).plot(\n",
    "    kind='bar',\n",
    "    x='platform',\n",
    "    y='total_sales'\n",
    ");\n",
    "\n",
    "plt.title(\"Продажи по платформам с 1990 года\", fontsize=16);\n",
    "plt.xlabel(\"Название платформы\", fontsize=12);\n",
    "plt.ylabel(\"Количество миллионов проданных копий\", fontsize=12);"
   ]
  },
  {
   "cell_type": "markdown",
   "metadata": {},
   "source": [
    "Видно, что за период с 1990 по 2016 гг. платформами с наибольшими суммарными продажами являются: PS2, X360, PS3, Wii, DS и PS. Построим для них распределение по годам.\n",
    "\n",
    "Сначала создадим датафрейм top_platform_sales, куда передадим данные о суммарных продажах для этих платформ:"
   ]
  },
  {
   "cell_type": "code",
   "execution_count": 30,
   "metadata": {},
   "outputs": [
    {
     "data": {
      "text/html": [
       "<div>\n",
       "<style scoped>\n",
       "    .dataframe tbody tr th:only-of-type {\n",
       "        vertical-align: middle;\n",
       "    }\n",
       "\n",
       "    .dataframe tbody tr th {\n",
       "        vertical-align: top;\n",
       "    }\n",
       "\n",
       "    .dataframe thead th {\n",
       "        text-align: right;\n",
       "    }\n",
       "</style>\n",
       "<table border=\"1\" class=\"dataframe\">\n",
       "  <thead>\n",
       "    <tr style=\"text-align: right;\">\n",
       "      <th></th>\n",
       "      <th>platform</th>\n",
       "      <th>total_sales</th>\n",
       "    </tr>\n",
       "  </thead>\n",
       "  <tbody>\n",
       "    <tr>\n",
       "      <th>0</th>\n",
       "      <td>PS2</td>\n",
       "      <td>1233.56</td>\n",
       "    </tr>\n",
       "    <tr>\n",
       "      <th>1</th>\n",
       "      <td>X360</td>\n",
       "      <td>961.24</td>\n",
       "    </tr>\n",
       "    <tr>\n",
       "      <th>2</th>\n",
       "      <td>PS3</td>\n",
       "      <td>931.33</td>\n",
       "    </tr>\n",
       "    <tr>\n",
       "      <th>3</th>\n",
       "      <td>Wii</td>\n",
       "      <td>891.18</td>\n",
       "    </tr>\n",
       "    <tr>\n",
       "      <th>4</th>\n",
       "      <td>DS</td>\n",
       "      <td>802.76</td>\n",
       "    </tr>\n",
       "    <tr>\n",
       "      <th>5</th>\n",
       "      <td>PS</td>\n",
       "      <td>727.58</td>\n",
       "    </tr>\n",
       "  </tbody>\n",
       "</table>\n",
       "</div>"
      ],
      "text/plain": [
       "  platform  total_sales\n",
       "0      PS2      1233.56\n",
       "1     X360       961.24\n",
       "2      PS3       931.33\n",
       "3      Wii       891.18\n",
       "4       DS       802.76\n",
       "5       PS       727.58"
      ]
     },
     "execution_count": 30,
     "metadata": {},
     "output_type": "execute_result"
    }
   ],
   "source": [
    "top_platform_sales = data.groupby('platform')['total_sales'].sum().sort_values(ascending=False).reset_index().head(6)\n",
    "\n",
    "top_platform_sales"
   ]
  },
  {
   "cell_type": "markdown",
   "metadata": {},
   "source": [
    "Переведём названия этих платформ в список top_platforms:"
   ]
  },
  {
   "cell_type": "code",
   "execution_count": 31,
   "metadata": {
    "scrolled": true
   },
   "outputs": [
    {
     "data": {
      "text/plain": [
       "['PS2', 'X360', 'PS3', 'Wii', 'DS', 'PS']"
      ]
     },
     "execution_count": 31,
     "metadata": {},
     "output_type": "execute_result"
    }
   ],
   "source": [
    "top_platforms = top_platform_sales['platform'].to_list()\n",
    "\n",
    "top_platforms"
   ]
  },
  {
   "cell_type": "markdown",
   "metadata": {},
   "source": [
    "Построим распределения:"
   ]
  },
  {
   "cell_type": "code",
   "execution_count": 32,
   "metadata": {
    "scrolled": false
   },
   "outputs": [
    {
     "data": {
      "image/png": "[encoded data removed]",
      "text/plain": [
       "<Figure size 1080x432 with 1 Axes>"
      ]
     },
     "metadata": {
      "needs_background": "light"
     },
     "output_type": "display_data"
    }
   ],
   "source": [
    "plt.figure(figsize=(15,6));\n",
    "plt.title(\"Распределение продаж по годам для топ-6 платформ\", fontsize=16);\n",
    "plt.xlabel(\"Год\", fontsize=12);\n",
    "plt.ylabel(\"Количество миллионов проданных копий\", fontsize=12);\n",
    "plt.grid();\n",
    "\n",
    "\n",
    "for i in range(len(top_platforms)):\n",
    "    plt.plot(data.query('platform == @top_platforms[@i]').pivot_table(\n",
    "        index='year_of_release',\n",
    "        values='total_sales',\n",
    "        aggfunc='sum'\n",
    "    ), label=top_platforms[i]);\n",
    "    plt.legend();"
   ]
  },
  {
   "cell_type": "markdown",
   "metadata": {},
   "source": [
    "Видно, что в среднем игровые платформы существуют около 10 лет, причём пик продаж игр для них достигается через примерно 3-5 лет после появления.\n",
    "\n",
    "Определим, за какой характерный срок появляются новые платформы и исчезают старые. Для этого посчитаем, сколько лет проходит после появления нового поколения платформы и уходом из рейтинга продаж старого поколения.\n",
    "\n",
    "С одной стороны, можно оценивать характерный срок смены платформ внутри одной компании-производителя. Так, на приведённом выше графике видно, что после выхода PS2 прошло 4 года (с 2000 по 2003) до вытеснения с рынка платформы PS, а с появлением PS3 в 2006 году PS2 был полностью замещён к 2011 году, т.е. через 6 лет. То есть в среднем характерный срок появления новых платформ и исчезновения старых составляет 5 лет. \n",
    "\n",
    "А если оценивать характерный срок смены платформ безотносительно к компании-производителю, то можно увидеть, например, что появление в 2004-2006 гг. новых платформ (X360, PS3, Wii, DS) привело к исчезновению игр на PS2 только в 2011 году, т.е. через 6-8 лет. Однако такая оценка характерного срока не может считаться корректной, т.к. логично предположить, что пользователи одной платформы с большей вероятностью перейдут на новое поколение той же платформы, а не полностью сменят компанию-производителя платформы.\n",
    "\n",
    "Таким образом, характерный срок появления новых платформ и исчезновения старых составляет в среднем 5 лет.\n",
    "\n",
    "Чтобы построить прогноз на 2017 год, возьмём данные за актуальный период, т.е. за период не более 5 последних лет, а именно, с 2012 года. Для этого создадим датафрейм data_rel, куда передадим данные с 2012 года:"
   ]
  },
  {
   "cell_type": "code",
   "execution_count": 33,
   "metadata": {},
   "outputs": [
    {
     "data": {
      "text/html": [
       "<div>\n",
       "<style scoped>\n",
       "    .dataframe tbody tr th:only-of-type {\n",
       "        vertical-align: middle;\n",
       "    }\n",
       "\n",
       "    .dataframe tbody tr th {\n",
       "        vertical-align: top;\n",
       "    }\n",
       "\n",
       "    .dataframe thead th {\n",
       "        text-align: right;\n",
       "    }\n",
       "</style>\n",
       "<table border=\"1\" class=\"dataframe\">\n",
       "  <thead>\n",
       "    <tr style=\"text-align: right;\">\n",
       "      <th></th>\n",
       "      <th>index</th>\n",
       "      <th>name</th>\n",
       "      <th>platform</th>\n",
       "      <th>year_of_release</th>\n",
       "      <th>genre</th>\n",
       "      <th>na_sales</th>\n",
       "      <th>eu_sales</th>\n",
       "      <th>jp_sales</th>\n",
       "      <th>other_sales</th>\n",
       "      <th>critic_score</th>\n",
       "      <th>user_score</th>\n",
       "      <th>rating</th>\n",
       "      <th>total_sales</th>\n",
       "    </tr>\n",
       "  </thead>\n",
       "  <tbody>\n",
       "    <tr>\n",
       "      <th>16</th>\n",
       "      <td>16</td>\n",
       "      <td>Grand Theft Auto V</td>\n",
       "      <td>PS3</td>\n",
       "      <td>2013</td>\n",
       "      <td>Action</td>\n",
       "      <td>7.02</td>\n",
       "      <td>9.09</td>\n",
       "      <td>0.98</td>\n",
       "      <td>3.96</td>\n",
       "      <td>97.0</td>\n",
       "      <td>8.2</td>\n",
       "      <td>M</td>\n",
       "      <td>21.05</td>\n",
       "    </tr>\n",
       "    <tr>\n",
       "      <th>23</th>\n",
       "      <td>23</td>\n",
       "      <td>Grand Theft Auto V</td>\n",
       "      <td>X360</td>\n",
       "      <td>2013</td>\n",
       "      <td>Action</td>\n",
       "      <td>9.66</td>\n",
       "      <td>5.14</td>\n",
       "      <td>0.06</td>\n",
       "      <td>1.41</td>\n",
       "      <td>97.0</td>\n",
       "      <td>8.1</td>\n",
       "      <td>M</td>\n",
       "      <td>16.27</td>\n",
       "    </tr>\n",
       "    <tr>\n",
       "      <th>31</th>\n",
       "      <td>31</td>\n",
       "      <td>Call of Duty: Black Ops 3</td>\n",
       "      <td>PS4</td>\n",
       "      <td>2015</td>\n",
       "      <td>Shooter</td>\n",
       "      <td>6.03</td>\n",
       "      <td>5.86</td>\n",
       "      <td>0.36</td>\n",
       "      <td>2.38</td>\n",
       "      <td>-1.0</td>\n",
       "      <td>-1.0</td>\n",
       "      <td>Unknown</td>\n",
       "      <td>14.63</td>\n",
       "    </tr>\n",
       "    <tr>\n",
       "      <th>33</th>\n",
       "      <td>33</td>\n",
       "      <td>Pokemon X/Pokemon Y</td>\n",
       "      <td>3DS</td>\n",
       "      <td>2013</td>\n",
       "      <td>Role-Playing</td>\n",
       "      <td>5.28</td>\n",
       "      <td>4.19</td>\n",
       "      <td>4.35</td>\n",
       "      <td>0.78</td>\n",
       "      <td>-1.0</td>\n",
       "      <td>-1.0</td>\n",
       "      <td>Unknown</td>\n",
       "      <td>14.60</td>\n",
       "    </tr>\n",
       "    <tr>\n",
       "      <th>34</th>\n",
       "      <td>34</td>\n",
       "      <td>Call of Duty: Black Ops II</td>\n",
       "      <td>PS3</td>\n",
       "      <td>2012</td>\n",
       "      <td>Shooter</td>\n",
       "      <td>4.99</td>\n",
       "      <td>5.73</td>\n",
       "      <td>0.65</td>\n",
       "      <td>2.42</td>\n",
       "      <td>83.0</td>\n",
       "      <td>5.3</td>\n",
       "      <td>M</td>\n",
       "      <td>13.79</td>\n",
       "    </tr>\n",
       "    <tr>\n",
       "      <th>...</th>\n",
       "      <td>...</td>\n",
       "      <td>...</td>\n",
       "      <td>...</td>\n",
       "      <td>...</td>\n",
       "      <td>...</td>\n",
       "      <td>...</td>\n",
       "      <td>...</td>\n",
       "      <td>...</td>\n",
       "      <td>...</td>\n",
       "      <td>...</td>\n",
       "      <td>...</td>\n",
       "      <td>...</td>\n",
       "      <td>...</td>\n",
       "    </tr>\n",
       "    <tr>\n",
       "      <th>16434</th>\n",
       "      <td>16703</td>\n",
       "      <td>Strawberry Nauts</td>\n",
       "      <td>PSV</td>\n",
       "      <td>2016</td>\n",
       "      <td>Adventure</td>\n",
       "      <td>0.00</td>\n",
       "      <td>0.00</td>\n",
       "      <td>0.01</td>\n",
       "      <td>0.00</td>\n",
       "      <td>-1.0</td>\n",
       "      <td>-1.0</td>\n",
       "      <td>Unknown</td>\n",
       "      <td>0.01</td>\n",
       "    </tr>\n",
       "    <tr>\n",
       "      <th>16438</th>\n",
       "      <td>16707</td>\n",
       "      <td>Aiyoku no Eustia</td>\n",
       "      <td>PSV</td>\n",
       "      <td>2014</td>\n",
       "      <td>Misc</td>\n",
       "      <td>0.00</td>\n",
       "      <td>0.00</td>\n",
       "      <td>0.01</td>\n",
       "      <td>0.00</td>\n",
       "      <td>-1.0</td>\n",
       "      <td>-1.0</td>\n",
       "      <td>Unknown</td>\n",
       "      <td>0.01</td>\n",
       "    </tr>\n",
       "    <tr>\n",
       "      <th>16441</th>\n",
       "      <td>16710</td>\n",
       "      <td>Samurai Warriors: Sanada Maru</td>\n",
       "      <td>PS3</td>\n",
       "      <td>2016</td>\n",
       "      <td>Action</td>\n",
       "      <td>0.00</td>\n",
       "      <td>0.00</td>\n",
       "      <td>0.01</td>\n",
       "      <td>0.00</td>\n",
       "      <td>-1.0</td>\n",
       "      <td>-1.0</td>\n",
       "      <td>Unknown</td>\n",
       "      <td>0.01</td>\n",
       "    </tr>\n",
       "    <tr>\n",
       "      <th>16443</th>\n",
       "      <td>16712</td>\n",
       "      <td>Haitaka no Psychedelica</td>\n",
       "      <td>PSV</td>\n",
       "      <td>2016</td>\n",
       "      <td>Adventure</td>\n",
       "      <td>0.00</td>\n",
       "      <td>0.00</td>\n",
       "      <td>0.01</td>\n",
       "      <td>0.00</td>\n",
       "      <td>-1.0</td>\n",
       "      <td>-1.0</td>\n",
       "      <td>Unknown</td>\n",
       "      <td>0.01</td>\n",
       "    </tr>\n",
       "    <tr>\n",
       "      <th>16445</th>\n",
       "      <td>16714</td>\n",
       "      <td>Winning Post 8 2016</td>\n",
       "      <td>PSV</td>\n",
       "      <td>2016</td>\n",
       "      <td>Simulation</td>\n",
       "      <td>0.00</td>\n",
       "      <td>0.00</td>\n",
       "      <td>0.01</td>\n",
       "      <td>0.00</td>\n",
       "      <td>-1.0</td>\n",
       "      <td>-1.0</td>\n",
       "      <td>Unknown</td>\n",
       "      <td>0.01</td>\n",
       "    </tr>\n",
       "  </tbody>\n",
       "</table>\n",
       "<p>2885 rows × 13 columns</p>\n",
       "</div>"
      ],
      "text/plain": [
       "       index                           name platform  year_of_release  \\\n",
       "16        16             Grand Theft Auto V      PS3             2013   \n",
       "23        23             Grand Theft Auto V     X360             2013   \n",
       "31        31      Call of Duty: Black Ops 3      PS4             2015   \n",
       "33        33            Pokemon X/Pokemon Y      3DS             2013   \n",
       "34        34     Call of Duty: Black Ops II      PS3             2012   \n",
       "...      ...                            ...      ...              ...   \n",
       "16434  16703               Strawberry Nauts      PSV             2016   \n",
       "16438  16707               Aiyoku no Eustia      PSV             2014   \n",
       "16441  16710  Samurai Warriors: Sanada Maru      PS3             2016   \n",
       "16443  16712        Haitaka no Psychedelica      PSV             2016   \n",
       "16445  16714            Winning Post 8 2016      PSV             2016   \n",
       "\n",
       "              genre  na_sales  eu_sales  jp_sales  other_sales  critic_score  \\\n",
       "16           Action      7.02      9.09      0.98         3.96          97.0   \n",
       "23           Action      9.66      5.14      0.06         1.41          97.0   \n",
       "31          Shooter      6.03      5.86      0.36         2.38          -1.0   \n",
       "33     Role-Playing      5.28      4.19      4.35         0.78          -1.0   \n",
       "34          Shooter      4.99      5.73      0.65         2.42          83.0   \n",
       "...             ...       ...       ...       ...          ...           ...   \n",
       "16434     Adventure      0.00      0.00      0.01         0.00          -1.0   \n",
       "16438          Misc      0.00      0.00      0.01         0.00          -1.0   \n",
       "16441        Action      0.00      0.00      0.01         0.00          -1.0   \n",
       "16443     Adventure      0.00      0.00      0.01         0.00          -1.0   \n",
       "16445    Simulation      0.00      0.00      0.01         0.00          -1.0   \n",
       "\n",
       "       user_score   rating  total_sales  \n",
       "16            8.2        M        21.05  \n",
       "23            8.1        M        16.27  \n",
       "31           -1.0  Unknown        14.63  \n",
       "33           -1.0  Unknown        14.60  \n",
       "34            5.3        M        13.79  \n",
       "...           ...      ...          ...  \n",
       "16434        -1.0  Unknown         0.01  \n",
       "16438        -1.0  Unknown         0.01  \n",
       "16441        -1.0  Unknown         0.01  \n",
       "16443        -1.0  Unknown         0.01  \n",
       "16445        -1.0  Unknown         0.01  \n",
       "\n",
       "[2885 rows x 13 columns]"
      ]
     },
     "execution_count": 33,
     "metadata": {},
     "output_type": "execute_result"
    }
   ],
   "source": [
    "data_rel = data.query('year_of_release >= 2012')\n",
    "\n",
    "data_rel"
   ]
  },
  {
   "cell_type": "markdown",
   "metadata": {},
   "source": [
    "Теперь определим, какие платформы лидируют по продажам, растут или падают за период с 2012 года."
   ]
  },
  {
   "cell_type": "code",
   "execution_count": 34,
   "metadata": {},
   "outputs": [
    {
     "data": {
      "image/png": "[encoded data removed]",
      "text/plain": [
       "<Figure size 720x288 with 1 Axes>"
      ]
     },
     "metadata": {
      "needs_background": "light"
     },
     "output_type": "display_data"
    }
   ],
   "source": [
    "plt.figure(figsize=(10,4));\n",
    "\n",
    "data_rel.groupby('platform')['total_sales']\\\n",
    ".sum().sort_values(ascending=False).plot(\n",
    "    kind='bar',\n",
    "    x='platform',\n",
    "    y='total_sales'\n",
    ");\n",
    "\n",
    "plt.title(\"Продажи по платформам с 2012 года\", fontsize=16);\n",
    "plt.xlabel(\"Название платформы\", fontsize=12);\n",
    "plt.ylabel(\"Количество миллионов проданных копий\", fontsize=12);"
   ]
  },
  {
   "cell_type": "markdown",
   "metadata": {},
   "source": [
    "За рассматриваемый период лидерами продаж (топ-5) являются платформы PS4, PS3, X360, 3DS и XOne: количество проданных копий игр на них превышает 150 миллионов для каждой платформы."
   ]
  },
  {
   "cell_type": "code",
   "execution_count": 35,
   "metadata": {},
   "outputs": [
    {
     "data": {
      "text/html": [
       "<div>\n",
       "<style scoped>\n",
       "    .dataframe tbody tr th:only-of-type {\n",
       "        vertical-align: middle;\n",
       "    }\n",
       "\n",
       "    .dataframe tbody tr th {\n",
       "        vertical-align: top;\n",
       "    }\n",
       "\n",
       "    .dataframe thead th {\n",
       "        text-align: right;\n",
       "    }\n",
       "</style>\n",
       "<table border=\"1\" class=\"dataframe\">\n",
       "  <thead>\n",
       "    <tr style=\"text-align: right;\">\n",
       "      <th></th>\n",
       "      <th>platform</th>\n",
       "      <th>total_sales</th>\n",
       "    </tr>\n",
       "  </thead>\n",
       "  <tbody>\n",
       "    <tr>\n",
       "      <th>0</th>\n",
       "      <td>PS4</td>\n",
       "      <td>314.14</td>\n",
       "    </tr>\n",
       "    <tr>\n",
       "      <th>1</th>\n",
       "      <td>PS3</td>\n",
       "      <td>288.78</td>\n",
       "    </tr>\n",
       "    <tr>\n",
       "      <th>2</th>\n",
       "      <td>X360</td>\n",
       "      <td>236.54</td>\n",
       "    </tr>\n",
       "    <tr>\n",
       "      <th>3</th>\n",
       "      <td>3DS</td>\n",
       "      <td>194.61</td>\n",
       "    </tr>\n",
       "    <tr>\n",
       "      <th>4</th>\n",
       "      <td>XOne</td>\n",
       "      <td>159.32</td>\n",
       "    </tr>\n",
       "    <tr>\n",
       "      <th>5</th>\n",
       "      <td>WiiU</td>\n",
       "      <td>82.19</td>\n",
       "    </tr>\n",
       "    <tr>\n",
       "      <th>6</th>\n",
       "      <td>PC</td>\n",
       "      <td>62.65</td>\n",
       "    </tr>\n",
       "    <tr>\n",
       "      <th>7</th>\n",
       "      <td>PSV</td>\n",
       "      <td>49.18</td>\n",
       "    </tr>\n",
       "    <tr>\n",
       "      <th>8</th>\n",
       "      <td>Wii</td>\n",
       "      <td>35.37</td>\n",
       "    </tr>\n",
       "    <tr>\n",
       "      <th>9</th>\n",
       "      <td>DS</td>\n",
       "      <td>12.55</td>\n",
       "    </tr>\n",
       "    <tr>\n",
       "      <th>10</th>\n",
       "      <td>PSP</td>\n",
       "      <td>11.19</td>\n",
       "    </tr>\n",
       "  </tbody>\n",
       "</table>\n",
       "</div>"
      ],
      "text/plain": [
       "   platform  total_sales\n",
       "0       PS4       314.14\n",
       "1       PS3       288.78\n",
       "2      X360       236.54\n",
       "3       3DS       194.61\n",
       "4      XOne       159.32\n",
       "5      WiiU        82.19\n",
       "6        PC        62.65\n",
       "7       PSV        49.18\n",
       "8       Wii        35.37\n",
       "9        DS        12.55\n",
       "10      PSP        11.19"
      ]
     },
     "execution_count": 35,
     "metadata": {},
     "output_type": "execute_result"
    }
   ],
   "source": [
    "platform_sales = data_rel.groupby('platform')['total_sales'].sum().sort_values(ascending=False).reset_index()\n",
    "\n",
    "platform_sales"
   ]
  },
  {
   "cell_type": "code",
   "execution_count": 36,
   "metadata": {},
   "outputs": [
    {
     "data": {
      "text/plain": [
       "['PS4', 'PS3', 'X360', '3DS', 'XOne', 'WiiU', 'PC', 'PSV', 'Wii', 'DS', 'PSP']"
      ]
     },
     "execution_count": 36,
     "metadata": {},
     "output_type": "execute_result"
    }
   ],
   "source": [
    "platforms = platform_sales['platform'].to_list()\n",
    "\n",
    "platforms"
   ]
  },
  {
   "cell_type": "code",
   "execution_count": 37,
   "metadata": {},
   "outputs": [
    {
     "data": {
      "image/png": "[encoded data removed]",
      "text/plain": [
       "<Figure size 1080x720 with 1 Axes>"
      ]
     },
     "metadata": {
      "needs_background": "light"
     },
     "output_type": "display_data"
    }
   ],
   "source": [
    "plt.figure(figsize=(15,10));\n",
    "plt.title(\"Распределение продаж по годам\", fontsize=16);\n",
    "plt.xlabel(\"Год\", fontsize=14);\n",
    "plt.ylabel(\"Количество миллионов проданных копий\", fontsize=14);\n",
    "plt.grid();\n",
    "\n",
    "\n",
    "for i in range(len(platforms)):\n",
    "    plt.plot(data_rel.query('platform == @platforms[@i]').pivot_table(\n",
    "        index='year_of_release',\n",
    "        values='total_sales',\n",
    "        aggfunc='sum'\n",
    "    ), label=platforms[i]);\n",
    "    plt.legend();\n"
   ]
  },
  {
   "cell_type": "markdown",
   "metadata": {},
   "source": [
    "Рост отмечается только для платформ PS4 и XOne, что обусловлено их относительно недавним появлениям в рамках рассматриваемого временного промежутка - 2013 г. Игры для остальных платформ имеют тенденцию к снижению суммарных продаж. \n",
    "\n",
    "В связи с этим потенциально прибыльными платформами можно считать PS4 и XOne.\n",
    "\n",
    "Построим диаграмму размаха («ящик с усами») по глобальным продажам игр в разбивке по платформам:"
   ]
  },
  {
   "cell_type": "code",
   "execution_count": 38,
   "metadata": {},
   "outputs": [
    {
     "data": {
      "image/png": "[encoded data removed]",
      "text/plain": [
       "<Figure size 720x288 with 1 Axes>"
      ]
     },
     "metadata": {
      "needs_background": "light"
     },
     "output_type": "display_data"
    }
   ],
   "source": [
    "plt.figure(figsize=(10,4));\n",
    "\n",
    "sns.boxplot(data=data_rel, x='platform', y='total_sales');\n",
    "\n",
    "plt.title(\"Диаграмма размаха\", fontsize=16);\n",
    "plt.xlabel(\"Название платформы\", fontsize=12);\n",
    "plt.ylabel(\"Количество миллионов проданных копий\", fontsize=12);"
   ]
  },
  {
   "cell_type": "markdown",
   "metadata": {},
   "source": [
    "Видно, что в данных большое количество выбросов, и чтобы оценить, как различаются медианные значения и межквартильный размах, необходимо ограничить данные по оси y значением 3, например:"
   ]
  },
  {
   "cell_type": "code",
   "execution_count": 39,
   "metadata": {
    "scrolled": true
   },
   "outputs": [
    {
     "data": {
      "image/png": "[encoded data removed]",
      "text/plain": [
       "<Figure size 720x288 with 1 Axes>"
      ]
     },
     "metadata": {
      "needs_background": "light"
     },
     "output_type": "display_data"
    }
   ],
   "source": [
    "plt.figure(figsize=(10,4));\n",
    "\n",
    "sns.boxplot(data=data_rel, x='platform', y='total_sales');\n",
    "\n",
    "plt.title(\"Диаграмма размаха\", fontsize=16);\n",
    "plt.xlabel(\"Название платформы\", fontsize=12);\n",
    "plt.ylabel(\"Количество миллионов проданных копий\", fontsize=12);\n",
    "plt.ylim(0,3);"
   ]
  },
  {
   "cell_type": "markdown",
   "metadata": {},
   "source": [
    "Как можем видеть, размер \"ящиков с усами\" для всех платформ сильно варьируется, причём для PS3, X360, PS4 и XOne межквартильный размах наибольший, а вот для платформы 3DS значения объёмов продаж более близкие, и, несмотря на выбросы, размер \"ящика\" довольно мал. Медианы также сильно различаются, но не превышают 0.5 миллионов проданных копий.\n",
    "\n",
    "Посмотрим, как влияют на продажи внутри одной популярной платформы отзывы пользователей и критиков. Для рассмотрения возьмём платформу PS4. Построим диаграммы рассеяния и посчитаем корреляцию между отзывами и продажами."
   ]
  },
  {
   "cell_type": "code",
   "execution_count": 40,
   "metadata": {
    "scrolled": true
   },
   "outputs": [
    {
     "data": {
      "text/html": [
       "<div>\n",
       "<style scoped>\n",
       "    .dataframe tbody tr th:only-of-type {\n",
       "        vertical-align: middle;\n",
       "    }\n",
       "\n",
       "    .dataframe tbody tr th {\n",
       "        vertical-align: top;\n",
       "    }\n",
       "\n",
       "    .dataframe thead th {\n",
       "        text-align: right;\n",
       "    }\n",
       "</style>\n",
       "<table border=\"1\" class=\"dataframe\">\n",
       "  <thead>\n",
       "    <tr style=\"text-align: right;\">\n",
       "      <th></th>\n",
       "      <th>index</th>\n",
       "      <th>name</th>\n",
       "      <th>platform</th>\n",
       "      <th>year_of_release</th>\n",
       "      <th>genre</th>\n",
       "      <th>na_sales</th>\n",
       "      <th>eu_sales</th>\n",
       "      <th>jp_sales</th>\n",
       "      <th>other_sales</th>\n",
       "      <th>critic_score</th>\n",
       "      <th>user_score</th>\n",
       "      <th>rating</th>\n",
       "      <th>total_sales</th>\n",
       "    </tr>\n",
       "  </thead>\n",
       "  <tbody>\n",
       "    <tr>\n",
       "      <th>42</th>\n",
       "      <td>42</td>\n",
       "      <td>Grand Theft Auto V</td>\n",
       "      <td>PS4</td>\n",
       "      <td>2014</td>\n",
       "      <td>Action</td>\n",
       "      <td>3.96</td>\n",
       "      <td>6.31</td>\n",
       "      <td>0.38</td>\n",
       "      <td>1.97</td>\n",
       "      <td>97.0</td>\n",
       "      <td>8.3</td>\n",
       "      <td>M</td>\n",
       "      <td>12.62</td>\n",
       "    </tr>\n",
       "    <tr>\n",
       "      <th>77</th>\n",
       "      <td>77</td>\n",
       "      <td>FIFA 16</td>\n",
       "      <td>PS4</td>\n",
       "      <td>2015</td>\n",
       "      <td>Sports</td>\n",
       "      <td>1.12</td>\n",
       "      <td>6.12</td>\n",
       "      <td>0.06</td>\n",
       "      <td>1.28</td>\n",
       "      <td>82.0</td>\n",
       "      <td>4.3</td>\n",
       "      <td>E</td>\n",
       "      <td>8.58</td>\n",
       "    </tr>\n",
       "    <tr>\n",
       "      <th>92</th>\n",
       "      <td>92</td>\n",
       "      <td>Call of Duty: Advanced Warfare</td>\n",
       "      <td>PS4</td>\n",
       "      <td>2014</td>\n",
       "      <td>Shooter</td>\n",
       "      <td>2.81</td>\n",
       "      <td>3.48</td>\n",
       "      <td>0.14</td>\n",
       "      <td>1.23</td>\n",
       "      <td>83.0</td>\n",
       "      <td>5.7</td>\n",
       "      <td>M</td>\n",
       "      <td>7.66</td>\n",
       "    </tr>\n",
       "    <tr>\n",
       "      <th>94</th>\n",
       "      <td>94</td>\n",
       "      <td>FIFA 17</td>\n",
       "      <td>PS4</td>\n",
       "      <td>2016</td>\n",
       "      <td>Sports</td>\n",
       "      <td>0.66</td>\n",
       "      <td>5.75</td>\n",
       "      <td>0.08</td>\n",
       "      <td>1.11</td>\n",
       "      <td>85.0</td>\n",
       "      <td>5.0</td>\n",
       "      <td>E</td>\n",
       "      <td>7.60</td>\n",
       "    </tr>\n",
       "    <tr>\n",
       "      <th>105</th>\n",
       "      <td>105</td>\n",
       "      <td>Fallout 4</td>\n",
       "      <td>PS4</td>\n",
       "      <td>2015</td>\n",
       "      <td>Role-Playing</td>\n",
       "      <td>2.53</td>\n",
       "      <td>3.27</td>\n",
       "      <td>0.24</td>\n",
       "      <td>1.13</td>\n",
       "      <td>87.0</td>\n",
       "      <td>6.5</td>\n",
       "      <td>M</td>\n",
       "      <td>7.17</td>\n",
       "    </tr>\n",
       "    <tr>\n",
       "      <th>...</th>\n",
       "      <td>...</td>\n",
       "      <td>...</td>\n",
       "      <td>...</td>\n",
       "      <td>...</td>\n",
       "      <td>...</td>\n",
       "      <td>...</td>\n",
       "      <td>...</td>\n",
       "      <td>...</td>\n",
       "      <td>...</td>\n",
       "      <td>...</td>\n",
       "      <td>...</td>\n",
       "      <td>...</td>\n",
       "      <td>...</td>\n",
       "    </tr>\n",
       "    <tr>\n",
       "      <th>16218</th>\n",
       "      <td>16486</td>\n",
       "      <td>Super Dungeon Bros</td>\n",
       "      <td>PS4</td>\n",
       "      <td>2016</td>\n",
       "      <td>Action</td>\n",
       "      <td>0.01</td>\n",
       "      <td>0.00</td>\n",
       "      <td>0.00</td>\n",
       "      <td>0.00</td>\n",
       "      <td>42.0</td>\n",
       "      <td>2.3</td>\n",
       "      <td>E10+</td>\n",
       "      <td>0.01</td>\n",
       "    </tr>\n",
       "    <tr>\n",
       "      <th>16231</th>\n",
       "      <td>16499</td>\n",
       "      <td>Sherlock Holmes: The Devil's Daughter</td>\n",
       "      <td>PS4</td>\n",
       "      <td>2016</td>\n",
       "      <td>Adventure</td>\n",
       "      <td>0.01</td>\n",
       "      <td>0.00</td>\n",
       "      <td>0.00</td>\n",
       "      <td>0.00</td>\n",
       "      <td>70.0</td>\n",
       "      <td>6.8</td>\n",
       "      <td>T</td>\n",
       "      <td>0.01</td>\n",
       "    </tr>\n",
       "    <tr>\n",
       "      <th>16232</th>\n",
       "      <td>16500</td>\n",
       "      <td>Root Letter</td>\n",
       "      <td>PS4</td>\n",
       "      <td>2016</td>\n",
       "      <td>Adventure</td>\n",
       "      <td>0.00</td>\n",
       "      <td>0.00</td>\n",
       "      <td>0.01</td>\n",
       "      <td>0.00</td>\n",
       "      <td>69.0</td>\n",
       "      <td>7.5</td>\n",
       "      <td>Unknown</td>\n",
       "      <td>0.01</td>\n",
       "    </tr>\n",
       "    <tr>\n",
       "      <th>16257</th>\n",
       "      <td>16526</td>\n",
       "      <td>Dungeons 2</td>\n",
       "      <td>PS4</td>\n",
       "      <td>2016</td>\n",
       "      <td>Role-Playing</td>\n",
       "      <td>0.01</td>\n",
       "      <td>0.00</td>\n",
       "      <td>0.00</td>\n",
       "      <td>0.00</td>\n",
       "      <td>61.0</td>\n",
       "      <td>7.9</td>\n",
       "      <td>T</td>\n",
       "      <td>0.01</td>\n",
       "    </tr>\n",
       "    <tr>\n",
       "      <th>16261</th>\n",
       "      <td>16530</td>\n",
       "      <td>Carmageddon: Max Damage</td>\n",
       "      <td>PS4</td>\n",
       "      <td>2016</td>\n",
       "      <td>Action</td>\n",
       "      <td>0.01</td>\n",
       "      <td>0.00</td>\n",
       "      <td>0.00</td>\n",
       "      <td>0.00</td>\n",
       "      <td>51.0</td>\n",
       "      <td>5.5</td>\n",
       "      <td>M</td>\n",
       "      <td>0.01</td>\n",
       "    </tr>\n",
       "  </tbody>\n",
       "</table>\n",
       "<p>249 rows × 13 columns</p>\n",
       "</div>"
      ],
      "text/plain": [
       "       index                                   name platform  year_of_release  \\\n",
       "42        42                     Grand Theft Auto V      PS4             2014   \n",
       "77        77                                FIFA 16      PS4             2015   \n",
       "92        92         Call of Duty: Advanced Warfare      PS4             2014   \n",
       "94        94                                FIFA 17      PS4             2016   \n",
       "105      105                              Fallout 4      PS4             2015   \n",
       "...      ...                                    ...      ...              ...   \n",
       "16218  16486                     Super Dungeon Bros      PS4             2016   \n",
       "16231  16499  Sherlock Holmes: The Devil's Daughter      PS4             2016   \n",
       "16232  16500                            Root Letter      PS4             2016   \n",
       "16257  16526                             Dungeons 2      PS4             2016   \n",
       "16261  16530                Carmageddon: Max Damage      PS4             2016   \n",
       "\n",
       "              genre  na_sales  eu_sales  jp_sales  other_sales  critic_score  \\\n",
       "42           Action      3.96      6.31      0.38         1.97          97.0   \n",
       "77           Sports      1.12      6.12      0.06         1.28          82.0   \n",
       "92          Shooter      2.81      3.48      0.14         1.23          83.0   \n",
       "94           Sports      0.66      5.75      0.08         1.11          85.0   \n",
       "105    Role-Playing      2.53      3.27      0.24         1.13          87.0   \n",
       "...             ...       ...       ...       ...          ...           ...   \n",
       "16218        Action      0.01      0.00      0.00         0.00          42.0   \n",
       "16231     Adventure      0.01      0.00      0.00         0.00          70.0   \n",
       "16232     Adventure      0.00      0.00      0.01         0.00          69.0   \n",
       "16257  Role-Playing      0.01      0.00      0.00         0.00          61.0   \n",
       "16261        Action      0.01      0.00      0.00         0.00          51.0   \n",
       "\n",
       "       user_score   rating  total_sales  \n",
       "42            8.3        M        12.62  \n",
       "77            4.3        E         8.58  \n",
       "92            5.7        M         7.66  \n",
       "94            5.0        E         7.60  \n",
       "105           6.5        M         7.17  \n",
       "...           ...      ...          ...  \n",
       "16218         2.3     E10+         0.01  \n",
       "16231         6.8        T         0.01  \n",
       "16232         7.5  Unknown         0.01  \n",
       "16257         7.9        T         0.01  \n",
       "16261         5.5        M         0.01  \n",
       "\n",
       "[249 rows x 13 columns]"
      ]
     },
     "execution_count": 40,
     "metadata": {},
     "output_type": "execute_result"
    }
   ],
   "source": [
    "sony_ps4 = data_rel.query('platform == \"PS4\" and user_score != -1 and critic_score != -1')\n",
    "\n",
    "sony_ps4"
   ]
  },
  {
   "cell_type": "markdown",
   "metadata": {},
   "source": [
    "Сначала посмотрим, как зависит объём продаж от оценок пользователей:"
   ]
  },
  {
   "cell_type": "code",
   "execution_count": 41,
   "metadata": {},
   "outputs": [
    {
     "data": {
      "text/plain": [
       "<Figure size 720x288 with 0 Axes>"
      ]
     },
     "metadata": {},
     "output_type": "display_data"
    },
    {
     "data": {
      "image/png": "[encoded data removed]",
      "text/plain": [
       "<Figure size 432x288 with 1 Axes>"
      ]
     },
     "metadata": {
      "needs_background": "light"
     },
     "output_type": "display_data"
    }
   ],
   "source": [
    "plt.figure(figsize=(10,4));\n",
    "\n",
    "sony_ps4.plot(\n",
    "    x='user_score',\n",
    "    y='total_sales',\n",
    "    kind='scatter',\n",
    ");\n",
    "\n",
    "plt.title(\"Диаграмма рассеяния\", fontsize=16);\n",
    "plt.xlabel(\"Оценка пользователей\", fontsize=12);\n",
    "plt.ylabel(\"Количество миллионов проданных копий\", fontsize=12);\n",
    "plt.grid();"
   ]
  },
  {
   "cell_type": "code",
   "execution_count": 42,
   "metadata": {},
   "outputs": [
    {
     "data": {
      "text/plain": [
       "-0.03362497596528878"
      ]
     },
     "execution_count": 42,
     "metadata": {},
     "output_type": "execute_result"
    }
   ],
   "source": [
    "sony_ps4['user_score'].corr(sony_ps4['total_sales'])"
   ]
  },
  {
   "cell_type": "markdown",
   "metadata": {},
   "source": [
    "Как можно видеть, между оценками пользователей и объёмом продаж не наблюдается линейной зависимости: коэффициент корреляции находится около 0.\n",
    "\n",
    "Теперь изучим, как зависит объём продаж от оценок критиков:"
   ]
  },
  {
   "cell_type": "code",
   "execution_count": 43,
   "metadata": {},
   "outputs": [
    {
     "data": {
      "text/plain": [
       "<Figure size 720x288 with 0 Axes>"
      ]
     },
     "metadata": {},
     "output_type": "display_data"
    },
    {
     "data": {
      "image/png": "[encoded data removed]",
      "text/plain": [
       "<Figure size 432x288 with 1 Axes>"
      ]
     },
     "metadata": {
      "needs_background": "light"
     },
     "output_type": "display_data"
    }
   ],
   "source": [
    "plt.figure(figsize=(10,4));\n",
    "\n",
    "sony_ps4.plot(\n",
    "    x='critic_score',\n",
    "    y='total_sales',\n",
    "    kind='scatter',\n",
    ");\n",
    "\n",
    "plt.title(\"Диаграмма рассеяния\", fontsize=16);\n",
    "plt.xlabel(\"Оценка критиков\", fontsize=12);\n",
    "plt.ylabel(\"Количество миллионов проданных копий\", fontsize=12);\n",
    "plt.grid();"
   ]
  },
  {
   "cell_type": "code",
   "execution_count": 44,
   "metadata": {},
   "outputs": [
    {
     "data": {
      "text/plain": [
       "0.40589480145836687"
      ]
     },
     "execution_count": 44,
     "metadata": {},
     "output_type": "execute_result"
    }
   ],
   "source": [
    "sony_ps4['critic_score'].corr(sony_ps4['total_sales'])"
   ]
  },
  {
   "cell_type": "markdown",
   "metadata": {},
   "source": [
    "В данном случае уже видна средняя корреляция между оценками критиков и объёмом продаж: коэффициент корреляции составляет 0.4.\n",
    "\n",
    "Таким образом, можно сказать, что на объём продаж игр на платформе в гораздо большей степени влияют оценки критиков, нежели оценки пользователей, т.е. чем больше положительных отзывов от критиков, тем больше будет продаж, что наглядно демонстрируется при оценках выше 60. Вероятно, это обусловлено авторитетностью критиков и, соответственно, доверию к их мнению со стороны игроков при выборе той или иной игры.\n",
    "\n",
    "Соотнесём выводы с продажами игр на других платформах. Построим диаграммы рассеяния и рассчитаем корреляцию для всех 11 платформ, для которых продавались игры с 2012 года:"
   ]
  },
  {
   "cell_type": "code",
   "execution_count": 45,
   "metadata": {},
   "outputs": [
    {
     "data": {
      "text/plain": [
       "<Figure size 720x288 with 0 Axes>"
      ]
     },
     "metadata": {},
     "output_type": "display_data"
    },
    {
     "data": {
      "image/png": "[encoded data removed]",
      "text/plain": [
       "<Figure size 432x288 with 1 Axes>"
      ]
     },
     "metadata": {
      "needs_background": "light"
     },
     "output_type": "display_data"
    }
   ],
   "source": [
    "plt.figure(figsize=(10,4));\n",
    "\n",
    "data_rel.query('user_score != -1').plot(\n",
    "    x='user_score',\n",
    "    y='total_sales',\n",
    "    kind='scatter',\n",
    ");\n",
    "\n",
    "plt.title(\"Диаграмма рассеяния\", fontsize=16);\n",
    "plt.xlabel(\"Оценка пользователей\", fontsize=12);\n",
    "plt.ylabel(\"Количество миллионов проданных копий\", fontsize=12);\n",
    "plt.grid();"
   ]
  },
  {
   "cell_type": "code",
   "execution_count": 46,
   "metadata": {
    "scrolled": true
   },
   "outputs": [
    {
     "data": {
      "text/plain": [
       "0.0041944811069172284"
      ]
     },
     "execution_count": 46,
     "metadata": {},
     "output_type": "execute_result"
    }
   ],
   "source": [
    "data_rel.query('user_score != -1')['user_score'].corr(data_rel['total_sales'])"
   ]
  },
  {
   "cell_type": "code",
   "execution_count": 47,
   "metadata": {},
   "outputs": [
    {
     "data": {
      "text/plain": [
       "<Figure size 720x288 with 0 Axes>"
      ]
     },
     "metadata": {},
     "output_type": "display_data"
    },
    {
     "data": {
      "image/png": "[encoded data removed]",
      "text/plain": [
       "<Figure size 432x288 with 1 Axes>"
      ]
     },
     "metadata": {
      "needs_background": "light"
     },
     "output_type": "display_data"
    }
   ],
   "source": [
    "plt.figure(figsize=(10,4));\n",
    "\n",
    "data_rel.query('critic_score != -1').plot(\n",
    "    x='critic_score',\n",
    "    y='total_sales',\n",
    "    kind='scatter',\n",
    ");\n",
    "\n",
    "plt.title(\"Диаграмма рассеяния\", fontsize=16);\n",
    "plt.xlabel(\"Оценка критиков\", fontsize=12);\n",
    "plt.ylabel(\"Количество миллионов проданных копий\", fontsize=12);\n",
    "plt.grid();"
   ]
  },
  {
   "cell_type": "code",
   "execution_count": 48,
   "metadata": {},
   "outputs": [
    {
     "data": {
      "text/plain": [
       "0.30863336128976016"
      ]
     },
     "execution_count": 48,
     "metadata": {},
     "output_type": "execute_result"
    }
   ],
   "source": [
    "data_rel.query('critic_score != -1')['critic_score'].corr(data_rel['total_sales'])"
   ]
  },
  {
   "cell_type": "markdown",
   "metadata": {},
   "source": [
    "Таким образом, выводы по платформе PS4 в целом описывают общую картину по другим платформам, т.е.  на объём продаж игр на платформе в гораздо большей степени влияют оценки критиков, нежели оценки пользователей, причём коэффициенты корреляции отличаются в пользу оценок критиков приблизительно в 80 раз: 0.31 проти 0.004.\n",
    "\n",
    "Посмотрим на общее распределение игр по жанрам, построив гистограмму по всем жанрам:"
   ]
  },
  {
   "cell_type": "code",
   "execution_count": 49,
   "metadata": {
    "scrolled": false
   },
   "outputs": [
    {
     "data": {
      "image/png": "[encoded data removed]",
      "text/plain": [
       "<Figure size 1080x360 with 1 Axes>"
      ]
     },
     "metadata": {
      "needs_background": "light"
     },
     "output_type": "display_data"
    }
   ],
   "source": [
    "plt.figure(figsize=(15, 5))\n",
    "\n",
    "data['genre'].value_counts().plot(kind='bar')\n",
    "\n",
    "plt.title('Распределение игр по жанрам', fontsize=16)\n",
    "plt.xlabel(\"Жанр\", fontsize=12)\n",
    "plt.ylabel(\"Количество игр, шт.\", fontsize=12)\n",
    "plt.show()"
   ]
  },
  {
   "cell_type": "markdown",
   "metadata": {},
   "source": [
    "Видно, что чаще всего встречаются игры в жанрах Action и Sports, т.е. те, где требуется быстрая реакция, а реже всего - жанры Puzzle и Strategy, где необходимы терпение и сосредоточенность. \n",
    "\n",
    "Посмотрим теперь, как зависит прибыль от типа игрового жанра:"
   ]
  },
  {
   "cell_type": "code",
   "execution_count": 50,
   "metadata": {
    "scrolled": false
   },
   "outputs": [
    {
     "data": {
      "image/png": "[encoded data removed]",
      "text/plain": [
       "<Figure size 1080x360 with 1 Axes>"
      ]
     },
     "metadata": {
      "needs_background": "light"
     },
     "output_type": "display_data"
    }
   ],
   "source": [
    "plt.figure(figsize=(15, 5))\n",
    "\n",
    "data.groupby('genre')['total_sales'].sum().sort_values(ascending=False).plot(kind='bar')\n",
    "\n",
    "plt.title('Распределение продаж игр по жанрам', fontsize=16)\n",
    "plt.xlabel(\"Жанр\", fontsize=12)\n",
    "plt.ylabel(\"Количество миллионов проданных копий\", fontsize=12)\n",
    "plt.show()"
   ]
  },
  {
   "cell_type": "markdown",
   "metadata": {},
   "source": [
    "Можно видеть, что наиболее продаваемыми являются самые распространённые жанры, т.е. Action и Sports, а низкие продажи характерны для наиболее редких жанров Puzzle и Strategy.\n",
    "\n",
    "Однако чтобы отыскать наиболее прибыльные жанры, следует рассмотреть средние или медианные значения продаж. Для этого построим диаграмму размаха для всех жанров за актуальный период:"
   ]
  },
  {
   "cell_type": "code",
   "execution_count": 51,
   "metadata": {
    "scrolled": true
   },
   "outputs": [
    {
     "data": {
      "image/png": "[encoded data removed]",
      "text/plain": [
       "<Figure size 1080x288 with 1 Axes>"
      ]
     },
     "metadata": {
      "needs_background": "light"
     },
     "output_type": "display_data"
    }
   ],
   "source": [
    "plt.figure(figsize=(15,4));\n",
    "\n",
    "sns.boxplot(data=data_rel, x='genre', y='total_sales');\n",
    "\n",
    "plt.title(\"Диаграмма размаха\", fontsize=16);\n",
    "plt.xlabel(\"Жанр\", fontsize=12);\n",
    "plt.ylabel(\"Количество миллионов проданных копий\", fontsize=12);"
   ]
  },
  {
   "cell_type": "markdown",
   "metadata": {},
   "source": [
    "Слишком много выбросов и не видны медианы, ограничим значения по оси y. Дополнительно вычислим медианы суммарных продаж по жанрам, чтобы наглядно иметь числовые значения."
   ]
  },
  {
   "cell_type": "code",
   "execution_count": 52,
   "metadata": {},
   "outputs": [
    {
     "data": {
      "image/png": "[encoded data removed]",
      "text/plain": [
       "<Figure size 1080x288 with 1 Axes>"
      ]
     },
     "metadata": {
      "needs_background": "light"
     },
     "output_type": "display_data"
    }
   ],
   "source": [
    "plt.figure(figsize=(15,4));\n",
    "\n",
    "sns.boxplot(data=data_rel, x='genre', y='total_sales');\n",
    "\n",
    "plt.title(\"Диаграмма размаха\", fontsize=16);\n",
    "plt.xlabel(\"Жанр\", fontsize=12);\n",
    "plt.ylabel(\"Количество миллионов проданных копий\", fontsize=12);\n",
    "plt.ylim(0, 5);"
   ]
  },
  {
   "cell_type": "code",
   "execution_count": 53,
   "metadata": {},
   "outputs": [
    {
     "data": {
      "text/plain": [
       "genre\n",
       "Shooter         0.440\n",
       "Sports          0.240\n",
       "Platform        0.210\n",
       "Role-Playing    0.140\n",
       "Racing          0.140\n",
       "Fighting        0.130\n",
       "Action          0.120\n",
       "Misc            0.120\n",
       "Simulation      0.120\n",
       "Strategy        0.080\n",
       "Puzzle          0.045\n",
       "Adventure       0.030\n",
       "Name: total_sales, dtype: float64"
      ]
     },
     "execution_count": 53,
     "metadata": {},
     "output_type": "execute_result"
    }
   ],
   "source": [
    "data_rel.groupby('genre')['total_sales'].median().sort_values(ascending=False)"
   ]
  },
  {
   "cell_type": "markdown",
   "metadata": {},
   "source": [
    "Как можно видеть, несмотря на популярность игр в жанре Action, медианы продаж таких игр находятся на среднем уровне, а лидерство в рейтинге суммарных продаж обеспечивается большим количеством выбросов, т.е. некоторым количеством игр с очень большим количеством миллионов проданных копий. В то же время игры в жанрах Shooter, Sports и Platform медианно приносят наибольшие прибыли."
   ]
  },
  {
   "cell_type": "markdown",
   "metadata": {},
   "source": [
    " *Таким образом, был проведён исследовательский анализ данных, в результате которого было определено следующее:*\n",
    " - продажи игр осуществлялись с 1980 по 2016 гг., причём целесообразно рассматривать период с 1990 года, когда продажи начали рост;\n",
    " - за период с 1990 по 2016 гг. платформами с наибольшими суммарными продажами являются: PS2, X360, PS3, Wii, DS и PS;\n",
    " - в среднем игровые платформы существуют около 10 лет, причём пик продаж игр для них достигается через примерно 3-5 лет после появления;\n",
    " - характерный срок появления новых платформ и исчезновения старых составляет в среднем 5 лет, поэтому в качестве актуального периода возьмём полные данные за последние 5 лет, т.е. с 2011 года;\n",
    " - за рассматриваемый период лидерами продаж (топ-5) являются платформы PS3, X360, PS4, 3DS и XOne, при этом рост отмечается только для платформ PS4 и XOne, поэтому их можно считать потенциально прибыльными;\n",
    " - построение графиков «ящик с усами» по глобальным продажам игр в разбивке по этим потенциально прибыльным платформам показало, что размер ящиков несколько отличается, при этом медиана находится приблизительно на одинаковом уровне - около 0.25 миллионов проданных копий, а выбросы для PS4 начинаются на более высоком уровне - 1.75, против 1.5;\n",
    " - оценка влияния на продажи внутри одной популярной платформы (PS4) отзывов пользователей и критиков показала, что на объём продаж игр на платформе в гораздо большей степени влияют оценки критиков, нежели оценки пользователей, причём такой вывод справделив и для всех 12 платформ, продажи для которых имеются с 2011 года;\n",
    " - рассмотрение общего распределения игр по жанрам показало, что по частоте встречаемости и суммарным продажам лидируют жанры Action и Sports, в то время как по медианным значениям наиболее прибыльными являются жанры Shooter, Sports и Platform."
   ]
  },
  {
   "cell_type": "markdown",
   "metadata": {},
   "source": [
    "## Составим портрет пользователя каждого региона"
   ]
  },
  {
   "cell_type": "markdown",
   "metadata": {},
   "source": [
    "Определим для пользователя каждого региона (NA, EU, JP):\n",
    "- самые популярные платформы (топ-5);\n",
    "- самые популярные жанры (топ-5);\n",
    "- влияет ли рейтинг ESRB на продажи в отдельном регионе?\n",
    "\n",
    "Начнём с региона Северной Америки (NA):"
   ]
  },
  {
   "cell_type": "code",
   "execution_count": 54,
   "metadata": {},
   "outputs": [
    {
     "data": {
      "text/html": [
       "<div>\n",
       "<style scoped>\n",
       "    .dataframe tbody tr th:only-of-type {\n",
       "        vertical-align: middle;\n",
       "    }\n",
       "\n",
       "    .dataframe tbody tr th {\n",
       "        vertical-align: top;\n",
       "    }\n",
       "\n",
       "    .dataframe thead th {\n",
       "        text-align: right;\n",
       "    }\n",
       "</style>\n",
       "<table border=\"1\" class=\"dataframe\">\n",
       "  <thead>\n",
       "    <tr style=\"text-align: right;\">\n",
       "      <th></th>\n",
       "      <th>platform</th>\n",
       "      <th>na_sales</th>\n",
       "    </tr>\n",
       "  </thead>\n",
       "  <tbody>\n",
       "    <tr>\n",
       "      <th>9</th>\n",
       "      <td>X360</td>\n",
       "      <td>140.05</td>\n",
       "    </tr>\n",
       "    <tr>\n",
       "      <th>4</th>\n",
       "      <td>PS4</td>\n",
       "      <td>108.74</td>\n",
       "    </tr>\n",
       "    <tr>\n",
       "      <th>3</th>\n",
       "      <td>PS3</td>\n",
       "      <td>103.38</td>\n",
       "    </tr>\n",
       "    <tr>\n",
       "      <th>10</th>\n",
       "      <td>XOne</td>\n",
       "      <td>93.12</td>\n",
       "    </tr>\n",
       "    <tr>\n",
       "      <th>0</th>\n",
       "      <td>3DS</td>\n",
       "      <td>55.31</td>\n",
       "    </tr>\n",
       "  </tbody>\n",
       "</table>\n",
       "</div>"
      ],
      "text/plain": [
       "   platform  na_sales\n",
       "9      X360    140.05\n",
       "4       PS4    108.74\n",
       "3       PS3    103.38\n",
       "10     XOne     93.12\n",
       "0       3DS     55.31"
      ]
     },
     "execution_count": 54,
     "metadata": {},
     "output_type": "execute_result"
    }
   ],
   "source": [
    "data_rel.groupby('platform')['na_sales'].sum().reset_index()\\\n",
    ".sort_values(by='na_sales', ascending=False).head(5)"
   ]
  },
  {
   "cell_type": "code",
   "execution_count": 55,
   "metadata": {},
   "outputs": [
    {
     "data": {
      "text/html": [
       "<div>\n",
       "<style scoped>\n",
       "    .dataframe tbody tr th:only-of-type {\n",
       "        vertical-align: middle;\n",
       "    }\n",
       "\n",
       "    .dataframe tbody tr th {\n",
       "        vertical-align: top;\n",
       "    }\n",
       "\n",
       "    .dataframe thead th {\n",
       "        text-align: right;\n",
       "    }\n",
       "</style>\n",
       "<table border=\"1\" class=\"dataframe\">\n",
       "  <thead>\n",
       "    <tr style=\"text-align: right;\">\n",
       "      <th></th>\n",
       "      <th>genre</th>\n",
       "      <th>na_sales</th>\n",
       "    </tr>\n",
       "  </thead>\n",
       "  <tbody>\n",
       "    <tr>\n",
       "      <th>0</th>\n",
       "      <td>Action</td>\n",
       "      <td>177.84</td>\n",
       "    </tr>\n",
       "    <tr>\n",
       "      <th>8</th>\n",
       "      <td>Shooter</td>\n",
       "      <td>144.77</td>\n",
       "    </tr>\n",
       "    <tr>\n",
       "      <th>10</th>\n",
       "      <td>Sports</td>\n",
       "      <td>81.53</td>\n",
       "    </tr>\n",
       "    <tr>\n",
       "      <th>7</th>\n",
       "      <td>Role-Playing</td>\n",
       "      <td>64.00</td>\n",
       "    </tr>\n",
       "    <tr>\n",
       "      <th>3</th>\n",
       "      <td>Misc</td>\n",
       "      <td>38.19</td>\n",
       "    </tr>\n",
       "  </tbody>\n",
       "</table>\n",
       "</div>"
      ],
      "text/plain": [
       "           genre  na_sales\n",
       "0         Action    177.84\n",
       "8        Shooter    144.77\n",
       "10        Sports     81.53\n",
       "7   Role-Playing     64.00\n",
       "3           Misc     38.19"
      ]
     },
     "execution_count": 55,
     "metadata": {},
     "output_type": "execute_result"
    }
   ],
   "source": [
    "data_rel.groupby('genre')['na_sales'].sum().reset_index()\\\n",
    ".sort_values(by='na_sales', ascending=False).head(5)"
   ]
  },
  {
   "cell_type": "code",
   "execution_count": 56,
   "metadata": {
    "scrolled": true
   },
   "outputs": [
    {
     "data": {
      "text/html": [
       "<div>\n",
       "<style scoped>\n",
       "    .dataframe tbody tr th:only-of-type {\n",
       "        vertical-align: middle;\n",
       "    }\n",
       "\n",
       "    .dataframe tbody tr th {\n",
       "        vertical-align: top;\n",
       "    }\n",
       "\n",
       "    .dataframe thead th {\n",
       "        text-align: right;\n",
       "    }\n",
       "</style>\n",
       "<table border=\"1\" class=\"dataframe\">\n",
       "  <thead>\n",
       "    <tr style=\"text-align: right;\">\n",
       "      <th></th>\n",
       "      <th>rating</th>\n",
       "      <th>na_sales</th>\n",
       "    </tr>\n",
       "  </thead>\n",
       "  <tbody>\n",
       "    <tr>\n",
       "      <th>2</th>\n",
       "      <td>M</td>\n",
       "      <td>231.57</td>\n",
       "    </tr>\n",
       "    <tr>\n",
       "      <th>0</th>\n",
       "      <td>E</td>\n",
       "      <td>114.37</td>\n",
       "    </tr>\n",
       "    <tr>\n",
       "      <th>4</th>\n",
       "      <td>Unknown</td>\n",
       "      <td>103.31</td>\n",
       "    </tr>\n",
       "    <tr>\n",
       "      <th>1</th>\n",
       "      <td>E10+</td>\n",
       "      <td>75.70</td>\n",
       "    </tr>\n",
       "    <tr>\n",
       "      <th>3</th>\n",
       "      <td>T</td>\n",
       "      <td>66.02</td>\n",
       "    </tr>\n",
       "  </tbody>\n",
       "</table>\n",
       "</div>"
      ],
      "text/plain": [
       "    rating  na_sales\n",
       "2        M    231.57\n",
       "0        E    114.37\n",
       "4  Unknown    103.31\n",
       "1     E10+     75.70\n",
       "3        T     66.02"
      ]
     },
     "execution_count": 56,
     "metadata": {},
     "output_type": "execute_result"
    }
   ],
   "source": [
    "data_rel.query('rating != -1').groupby('rating')['na_sales'].sum().reset_index()\\\n",
    ".sort_values(by='na_sales', ascending=False).head(5)"
   ]
  },
  {
   "cell_type": "markdown",
   "metadata": {},
   "source": [
    "Так, портрет пользователя из Северной Америки выглядит следующим образом:\n",
    "- X360 лидирует с большим отрывом - более 140 миллионов проданных копий игр, далее следуют PS4 и PS3 с примерно 100 миллионами проданных копий;\n",
    "- наиболее популярны игры в жанрах Action и Shooter - в области 140-170 миллионов копий, на третьем месте располагаются игры в жанре Sports - около 80 миллионов копий;\n",
    "- с большим отрывом по продажам лидирует рейтинг M (Mature) - более 230 миллионов проданных копий игр, на втором месте с примерно в 2 раза меньшим количеством игр располагается рейтинг E (Everyone), а на третьем месте рейтинг игр неизвестен ('Unknown'), что, вероятно, объясняется тем, что часть игр не получила рейтинг ESRB или данные были утеряны.\n",
    "\n",
    "Далее рассмотрим регион Европейского Союза (EU):"
   ]
  },
  {
   "cell_type": "code",
   "execution_count": 57,
   "metadata": {},
   "outputs": [
    {
     "data": {
      "text/html": [
       "<div>\n",
       "<style scoped>\n",
       "    .dataframe tbody tr th:only-of-type {\n",
       "        vertical-align: middle;\n",
       "    }\n",
       "\n",
       "    .dataframe tbody tr th {\n",
       "        vertical-align: top;\n",
       "    }\n",
       "\n",
       "    .dataframe thead th {\n",
       "        text-align: right;\n",
       "    }\n",
       "</style>\n",
       "<table border=\"1\" class=\"dataframe\">\n",
       "  <thead>\n",
       "    <tr style=\"text-align: right;\">\n",
       "      <th></th>\n",
       "      <th>platform</th>\n",
       "      <th>eu_sales</th>\n",
       "    </tr>\n",
       "  </thead>\n",
       "  <tbody>\n",
       "    <tr>\n",
       "      <th>4</th>\n",
       "      <td>PS4</td>\n",
       "      <td>141.09</td>\n",
       "    </tr>\n",
       "    <tr>\n",
       "      <th>3</th>\n",
       "      <td>PS3</td>\n",
       "      <td>106.85</td>\n",
       "    </tr>\n",
       "    <tr>\n",
       "      <th>9</th>\n",
       "      <td>X360</td>\n",
       "      <td>74.52</td>\n",
       "    </tr>\n",
       "    <tr>\n",
       "      <th>10</th>\n",
       "      <td>XOne</td>\n",
       "      <td>51.59</td>\n",
       "    </tr>\n",
       "    <tr>\n",
       "      <th>0</th>\n",
       "      <td>3DS</td>\n",
       "      <td>42.64</td>\n",
       "    </tr>\n",
       "  </tbody>\n",
       "</table>\n",
       "</div>"
      ],
      "text/plain": [
       "   platform  eu_sales\n",
       "4       PS4    141.09\n",
       "3       PS3    106.85\n",
       "9      X360     74.52\n",
       "10     XOne     51.59\n",
       "0       3DS     42.64"
      ]
     },
     "execution_count": 57,
     "metadata": {},
     "output_type": "execute_result"
    }
   ],
   "source": [
    "data_rel.groupby('platform')['eu_sales'].sum().reset_index()\\\n",
    ".sort_values(by='eu_sales', ascending=False).head(5)"
   ]
  },
  {
   "cell_type": "code",
   "execution_count": 58,
   "metadata": {},
   "outputs": [
    {
     "data": {
      "text/html": [
       "<div>\n",
       "<style scoped>\n",
       "    .dataframe tbody tr th:only-of-type {\n",
       "        vertical-align: middle;\n",
       "    }\n",
       "\n",
       "    .dataframe tbody tr th {\n",
       "        vertical-align: top;\n",
       "    }\n",
       "\n",
       "    .dataframe thead th {\n",
       "        text-align: right;\n",
       "    }\n",
       "</style>\n",
       "<table border=\"1\" class=\"dataframe\">\n",
       "  <thead>\n",
       "    <tr style=\"text-align: right;\">\n",
       "      <th></th>\n",
       "      <th>genre</th>\n",
       "      <th>eu_sales</th>\n",
       "    </tr>\n",
       "  </thead>\n",
       "  <tbody>\n",
       "    <tr>\n",
       "      <th>0</th>\n",
       "      <td>Action</td>\n",
       "      <td>159.34</td>\n",
       "    </tr>\n",
       "    <tr>\n",
       "      <th>8</th>\n",
       "      <td>Shooter</td>\n",
       "      <td>113.47</td>\n",
       "    </tr>\n",
       "    <tr>\n",
       "      <th>10</th>\n",
       "      <td>Sports</td>\n",
       "      <td>69.08</td>\n",
       "    </tr>\n",
       "    <tr>\n",
       "      <th>7</th>\n",
       "      <td>Role-Playing</td>\n",
       "      <td>48.53</td>\n",
       "    </tr>\n",
       "    <tr>\n",
       "      <th>6</th>\n",
       "      <td>Racing</td>\n",
       "      <td>27.29</td>\n",
       "    </tr>\n",
       "  </tbody>\n",
       "</table>\n",
       "</div>"
      ],
      "text/plain": [
       "           genre  eu_sales\n",
       "0         Action    159.34\n",
       "8        Shooter    113.47\n",
       "10        Sports     69.08\n",
       "7   Role-Playing     48.53\n",
       "6         Racing     27.29"
      ]
     },
     "execution_count": 58,
     "metadata": {},
     "output_type": "execute_result"
    }
   ],
   "source": [
    "data_rel.groupby('genre')['eu_sales'].sum().reset_index()\\\n",
    ".sort_values(by='eu_sales', ascending=False).head(5)"
   ]
  },
  {
   "cell_type": "code",
   "execution_count": 59,
   "metadata": {},
   "outputs": [
    {
     "data": {
      "text/html": [
       "<div>\n",
       "<style scoped>\n",
       "    .dataframe tbody tr th:only-of-type {\n",
       "        vertical-align: middle;\n",
       "    }\n",
       "\n",
       "    .dataframe tbody tr th {\n",
       "        vertical-align: top;\n",
       "    }\n",
       "\n",
       "    .dataframe thead th {\n",
       "        text-align: right;\n",
       "    }\n",
       "</style>\n",
       "<table border=\"1\" class=\"dataframe\">\n",
       "  <thead>\n",
       "    <tr style=\"text-align: right;\">\n",
       "      <th></th>\n",
       "      <th>rating</th>\n",
       "      <th>eu_sales</th>\n",
       "    </tr>\n",
       "  </thead>\n",
       "  <tbody>\n",
       "    <tr>\n",
       "      <th>2</th>\n",
       "      <td>M</td>\n",
       "      <td>193.96</td>\n",
       "    </tr>\n",
       "    <tr>\n",
       "      <th>0</th>\n",
       "      <td>E</td>\n",
       "      <td>113.02</td>\n",
       "    </tr>\n",
       "    <tr>\n",
       "      <th>4</th>\n",
       "      <td>Unknown</td>\n",
       "      <td>91.50</td>\n",
       "    </tr>\n",
       "    <tr>\n",
       "      <th>1</th>\n",
       "      <td>E10+</td>\n",
       "      <td>55.37</td>\n",
       "    </tr>\n",
       "    <tr>\n",
       "      <th>3</th>\n",
       "      <td>T</td>\n",
       "      <td>52.96</td>\n",
       "    </tr>\n",
       "  </tbody>\n",
       "</table>\n",
       "</div>"
      ],
      "text/plain": [
       "    rating  eu_sales\n",
       "2        M    193.96\n",
       "0        E    113.02\n",
       "4  Unknown     91.50\n",
       "1     E10+     55.37\n",
       "3        T     52.96"
      ]
     },
     "execution_count": 59,
     "metadata": {},
     "output_type": "execute_result"
    }
   ],
   "source": [
    "data_rel.query('rating != -1').groupby('rating')['eu_sales'].sum().reset_index()\\\n",
    ".sort_values(by='eu_sales', ascending=False).head(5)"
   ]
  },
  {
   "cell_type": "markdown",
   "metadata": {},
   "source": [
    "Портрет европейского пользователя таков:\n",
    "- PS4 и PS3 лидируют с более 100 миллионами проданных копий игр каждая, X360 занимает третье место;\n",
    "- первые три места также занимают игры в жанрах Action, Shooter и Sports; \n",
    "- также с большим отрывом в лидерах находятся игры для лиц старше 17 лет (M), далее идут игры для всех (E), на третьем месте также игры с неопределённым рейтингом.\n",
    "\n",
    "Теперь составим портрет пользователя из Японии:"
   ]
  },
  {
   "cell_type": "code",
   "execution_count": 60,
   "metadata": {},
   "outputs": [
    {
     "data": {
      "text/html": [
       "<div>\n",
       "<style scoped>\n",
       "    .dataframe tbody tr th:only-of-type {\n",
       "        vertical-align: middle;\n",
       "    }\n",
       "\n",
       "    .dataframe tbody tr th {\n",
       "        vertical-align: top;\n",
       "    }\n",
       "\n",
       "    .dataframe thead th {\n",
       "        text-align: right;\n",
       "    }\n",
       "</style>\n",
       "<table border=\"1\" class=\"dataframe\">\n",
       "  <thead>\n",
       "    <tr style=\"text-align: right;\">\n",
       "      <th></th>\n",
       "      <th>platform</th>\n",
       "      <th>jp_sales</th>\n",
       "    </tr>\n",
       "  </thead>\n",
       "  <tbody>\n",
       "    <tr>\n",
       "      <th>0</th>\n",
       "      <td>3DS</td>\n",
       "      <td>87.79</td>\n",
       "    </tr>\n",
       "    <tr>\n",
       "      <th>3</th>\n",
       "      <td>PS3</td>\n",
       "      <td>35.29</td>\n",
       "    </tr>\n",
       "    <tr>\n",
       "      <th>6</th>\n",
       "      <td>PSV</td>\n",
       "      <td>21.04</td>\n",
       "    </tr>\n",
       "    <tr>\n",
       "      <th>4</th>\n",
       "      <td>PS4</td>\n",
       "      <td>15.96</td>\n",
       "    </tr>\n",
       "    <tr>\n",
       "      <th>8</th>\n",
       "      <td>WiiU</td>\n",
       "      <td>13.01</td>\n",
       "    </tr>\n",
       "  </tbody>\n",
       "</table>\n",
       "</div>"
      ],
      "text/plain": [
       "  platform  jp_sales\n",
       "0      3DS     87.79\n",
       "3      PS3     35.29\n",
       "6      PSV     21.04\n",
       "4      PS4     15.96\n",
       "8     WiiU     13.01"
      ]
     },
     "execution_count": 60,
     "metadata": {},
     "output_type": "execute_result"
    }
   ],
   "source": [
    "data_rel.groupby('platform')['jp_sales'].sum().reset_index()\\\n",
    ".sort_values(by='jp_sales', ascending=False).head(5)"
   ]
  },
  {
   "cell_type": "code",
   "execution_count": 61,
   "metadata": {},
   "outputs": [
    {
     "data": {
      "text/html": [
       "<div>\n",
       "<style scoped>\n",
       "    .dataframe tbody tr th:only-of-type {\n",
       "        vertical-align: middle;\n",
       "    }\n",
       "\n",
       "    .dataframe tbody tr th {\n",
       "        vertical-align: top;\n",
       "    }\n",
       "\n",
       "    .dataframe thead th {\n",
       "        text-align: right;\n",
       "    }\n",
       "</style>\n",
       "<table border=\"1\" class=\"dataframe\">\n",
       "  <thead>\n",
       "    <tr style=\"text-align: right;\">\n",
       "      <th></th>\n",
       "      <th>genre</th>\n",
       "      <th>jp_sales</th>\n",
       "    </tr>\n",
       "  </thead>\n",
       "  <tbody>\n",
       "    <tr>\n",
       "      <th>7</th>\n",
       "      <td>Role-Playing</td>\n",
       "      <td>65.44</td>\n",
       "    </tr>\n",
       "    <tr>\n",
       "      <th>0</th>\n",
       "      <td>Action</td>\n",
       "      <td>52.80</td>\n",
       "    </tr>\n",
       "    <tr>\n",
       "      <th>3</th>\n",
       "      <td>Misc</td>\n",
       "      <td>12.86</td>\n",
       "    </tr>\n",
       "    <tr>\n",
       "      <th>9</th>\n",
       "      <td>Simulation</td>\n",
       "      <td>10.41</td>\n",
       "    </tr>\n",
       "    <tr>\n",
       "      <th>2</th>\n",
       "      <td>Fighting</td>\n",
       "      <td>9.44</td>\n",
       "    </tr>\n",
       "  </tbody>\n",
       "</table>\n",
       "</div>"
      ],
      "text/plain": [
       "          genre  jp_sales\n",
       "7  Role-Playing     65.44\n",
       "0        Action     52.80\n",
       "3          Misc     12.86\n",
       "9    Simulation     10.41\n",
       "2      Fighting      9.44"
      ]
     },
     "execution_count": 61,
     "metadata": {},
     "output_type": "execute_result"
    }
   ],
   "source": [
    "data_rel.groupby('genre')['jp_sales'].sum().reset_index()\\\n",
    ".sort_values(by='jp_sales', ascending=False).head(5)"
   ]
  },
  {
   "cell_type": "code",
   "execution_count": 62,
   "metadata": {},
   "outputs": [
    {
     "data": {
      "text/html": [
       "<div>\n",
       "<style scoped>\n",
       "    .dataframe tbody tr th:only-of-type {\n",
       "        vertical-align: middle;\n",
       "    }\n",
       "\n",
       "    .dataframe tbody tr th {\n",
       "        vertical-align: top;\n",
       "    }\n",
       "\n",
       "    .dataframe thead th {\n",
       "        text-align: right;\n",
       "    }\n",
       "</style>\n",
       "<table border=\"1\" class=\"dataframe\">\n",
       "  <thead>\n",
       "    <tr style=\"text-align: right;\">\n",
       "      <th></th>\n",
       "      <th>rating</th>\n",
       "      <th>jp_sales</th>\n",
       "    </tr>\n",
       "  </thead>\n",
       "  <tbody>\n",
       "    <tr>\n",
       "      <th>4</th>\n",
       "      <td>Unknown</td>\n",
       "      <td>108.84</td>\n",
       "    </tr>\n",
       "    <tr>\n",
       "      <th>0</th>\n",
       "      <td>E</td>\n",
       "      <td>28.33</td>\n",
       "    </tr>\n",
       "    <tr>\n",
       "      <th>3</th>\n",
       "      <td>T</td>\n",
       "      <td>26.02</td>\n",
       "    </tr>\n",
       "    <tr>\n",
       "      <th>2</th>\n",
       "      <td>M</td>\n",
       "      <td>21.20</td>\n",
       "    </tr>\n",
       "    <tr>\n",
       "      <th>1</th>\n",
       "      <td>E10+</td>\n",
       "      <td>8.19</td>\n",
       "    </tr>\n",
       "  </tbody>\n",
       "</table>\n",
       "</div>"
      ],
      "text/plain": [
       "    rating  jp_sales\n",
       "4  Unknown    108.84\n",
       "0        E     28.33\n",
       "3        T     26.02\n",
       "2        M     21.20\n",
       "1     E10+      8.19"
      ]
     },
     "execution_count": 62,
     "metadata": {},
     "output_type": "execute_result"
    }
   ],
   "source": [
    "data_rel.query('rating != -1').groupby('rating')['jp_sales'].sum().reset_index()\\\n",
    ".sort_values(by='jp_sales', ascending=False).head(5)"
   ]
  },
  {
   "cell_type": "markdown",
   "metadata": {},
   "source": [
    "Можно сказать, что японский пользователь:\n",
    "- чаще всего пользуется платформой 3DS от компании Nintendo - около 90 миллионов проданных копий игр, остальные позиции занимают платформы компании Sony (PS3, PSV, PS4) и WiiU;\n",
    "- игры в жанрах Role-Playing и Action лидируют с большим отрывом - по 50-65 миллионов копий;\n",
    "- наиболее популярны игры неопределённого рейтинга - более 100 миллионов копий, далее идут игры для всех (E) и для подростков (лиц старше 13 лет, T).\n",
    "\n",
    "И наконец, можно проанализовать пользователя из других стран:"
   ]
  },
  {
   "cell_type": "code",
   "execution_count": 63,
   "metadata": {},
   "outputs": [
    {
     "data": {
      "text/html": [
       "<div>\n",
       "<style scoped>\n",
       "    .dataframe tbody tr th:only-of-type {\n",
       "        vertical-align: middle;\n",
       "    }\n",
       "\n",
       "    .dataframe tbody tr th {\n",
       "        vertical-align: top;\n",
       "    }\n",
       "\n",
       "    .dataframe thead th {\n",
       "        text-align: right;\n",
       "    }\n",
       "</style>\n",
       "<table border=\"1\" class=\"dataframe\">\n",
       "  <thead>\n",
       "    <tr style=\"text-align: right;\">\n",
       "      <th></th>\n",
       "      <th>platform</th>\n",
       "      <th>other_sales</th>\n",
       "    </tr>\n",
       "  </thead>\n",
       "  <tbody>\n",
       "    <tr>\n",
       "      <th>4</th>\n",
       "      <td>PS4</td>\n",
       "      <td>48.35</td>\n",
       "    </tr>\n",
       "    <tr>\n",
       "      <th>3</th>\n",
       "      <td>PS3</td>\n",
       "      <td>43.26</td>\n",
       "    </tr>\n",
       "    <tr>\n",
       "      <th>9</th>\n",
       "      <td>X360</td>\n",
       "      <td>20.40</td>\n",
       "    </tr>\n",
       "    <tr>\n",
       "      <th>10</th>\n",
       "      <td>XOne</td>\n",
       "      <td>14.27</td>\n",
       "    </tr>\n",
       "    <tr>\n",
       "      <th>0</th>\n",
       "      <td>3DS</td>\n",
       "      <td>8.87</td>\n",
       "    </tr>\n",
       "  </tbody>\n",
       "</table>\n",
       "</div>"
      ],
      "text/plain": [
       "   platform  other_sales\n",
       "4       PS4        48.35\n",
       "3       PS3        43.26\n",
       "9      X360        20.40\n",
       "10     XOne        14.27\n",
       "0       3DS         8.87"
      ]
     },
     "execution_count": 63,
     "metadata": {},
     "output_type": "execute_result"
    }
   ],
   "source": [
    "data_rel.groupby('platform')['other_sales'].sum().reset_index()\\\n",
    ".sort_values(by='other_sales', ascending=False).head(5)"
   ]
  },
  {
   "cell_type": "code",
   "execution_count": 64,
   "metadata": {},
   "outputs": [
    {
     "data": {
      "text/html": [
       "<div>\n",
       "<style scoped>\n",
       "    .dataframe tbody tr th:only-of-type {\n",
       "        vertical-align: middle;\n",
       "    }\n",
       "\n",
       "    .dataframe tbody tr th {\n",
       "        vertical-align: top;\n",
       "    }\n",
       "\n",
       "    .dataframe thead th {\n",
       "        text-align: right;\n",
       "    }\n",
       "</style>\n",
       "<table border=\"1\" class=\"dataframe\">\n",
       "  <thead>\n",
       "    <tr style=\"text-align: right;\">\n",
       "      <th></th>\n",
       "      <th>genre</th>\n",
       "      <th>other_sales</th>\n",
       "    </tr>\n",
       "  </thead>\n",
       "  <tbody>\n",
       "    <tr>\n",
       "      <th>0</th>\n",
       "      <td>Action</td>\n",
       "      <td>51.14</td>\n",
       "    </tr>\n",
       "    <tr>\n",
       "      <th>8</th>\n",
       "      <td>Shooter</td>\n",
       "      <td>37.26</td>\n",
       "    </tr>\n",
       "    <tr>\n",
       "      <th>10</th>\n",
       "      <td>Sports</td>\n",
       "      <td>22.44</td>\n",
       "    </tr>\n",
       "    <tr>\n",
       "      <th>7</th>\n",
       "      <td>Role-Playing</td>\n",
       "      <td>14.83</td>\n",
       "    </tr>\n",
       "    <tr>\n",
       "      <th>3</th>\n",
       "      <td>Misc</td>\n",
       "      <td>7.67</td>\n",
       "    </tr>\n",
       "  </tbody>\n",
       "</table>\n",
       "</div>"
      ],
      "text/plain": [
       "           genre  other_sales\n",
       "0         Action        51.14\n",
       "8        Shooter        37.26\n",
       "10        Sports        22.44\n",
       "7   Role-Playing        14.83\n",
       "3           Misc         7.67"
      ]
     },
     "execution_count": 64,
     "metadata": {},
     "output_type": "execute_result"
    }
   ],
   "source": [
    "data_rel.groupby('genre')['other_sales'].sum().reset_index()\\\n",
    ".sort_values(by='other_sales', ascending=False).head(5)"
   ]
  },
  {
   "cell_type": "code",
   "execution_count": 65,
   "metadata": {},
   "outputs": [
    {
     "data": {
      "text/html": [
       "<div>\n",
       "<style scoped>\n",
       "    .dataframe tbody tr th:only-of-type {\n",
       "        vertical-align: middle;\n",
       "    }\n",
       "\n",
       "    .dataframe tbody tr th {\n",
       "        vertical-align: top;\n",
       "    }\n",
       "\n",
       "    .dataframe thead th {\n",
       "        text-align: right;\n",
       "    }\n",
       "</style>\n",
       "<table border=\"1\" class=\"dataframe\">\n",
       "  <thead>\n",
       "    <tr style=\"text-align: right;\">\n",
       "      <th></th>\n",
       "      <th>rating</th>\n",
       "      <th>other_sales</th>\n",
       "    </tr>\n",
       "  </thead>\n",
       "  <tbody>\n",
       "    <tr>\n",
       "      <th>2</th>\n",
       "      <td>M</td>\n",
       "      <td>63.38</td>\n",
       "    </tr>\n",
       "    <tr>\n",
       "      <th>0</th>\n",
       "      <td>E</td>\n",
       "      <td>31.44</td>\n",
       "    </tr>\n",
       "    <tr>\n",
       "      <th>4</th>\n",
       "      <td>Unknown</td>\n",
       "      <td>27.17</td>\n",
       "    </tr>\n",
       "    <tr>\n",
       "      <th>3</th>\n",
       "      <td>T</td>\n",
       "      <td>17.94</td>\n",
       "    </tr>\n",
       "    <tr>\n",
       "      <th>1</th>\n",
       "      <td>E10+</td>\n",
       "      <td>16.23</td>\n",
       "    </tr>\n",
       "  </tbody>\n",
       "</table>\n",
       "</div>"
      ],
      "text/plain": [
       "    rating  other_sales\n",
       "2        M        63.38\n",
       "0        E        31.44\n",
       "4  Unknown        27.17\n",
       "3        T        17.94\n",
       "1     E10+        16.23"
      ]
     },
     "execution_count": 65,
     "metadata": {},
     "output_type": "execute_result"
    }
   ],
   "source": [
    "data_rel.query('rating != -1').groupby('rating')['other_sales'].sum().reset_index()\\\n",
    ".sort_values(by='other_sales', ascending=False).head(5)"
   ]
  },
  {
   "cell_type": "markdown",
   "metadata": {},
   "source": [
    "Пользователи из других стран:\n",
    "- чаще выбирают платформы компании Sony - PS4 и PS3, реже - платформы компании Microsoft - X360 и XOne;\n",
    "- первые три места занимают игры в жанрах Action, Shooter и Sports;\n",
    "- наиболее популярны игры с ретингами M, E и Unknown.\n",
    "\n",
    "Таким образом, можно сказать, что:\n",
    "- у пользователей Северной Америки наиболее популярны платформы компании Microsoft (X360, XOne), в несколько меньшей степени - платформы компании Sony (PS4, PS3). В то же время у японских пользователей лидируют платформы местных производителей: 3DS и WiiU (от Nintendo) и платформы компании Sony(PS3, PSV, PS4). При этом в Европе и в остальном мире лидируют платформы PS4 и PS3, что, вероятно, обусловлено их более высоким качеством;\n",
    "- во всех регионах, кроме Японии, наиболее популярны игры в жанрах Action, Shooter и Sports, т.е. игры, требующие быстрой реакции и мгновенного принятия решений. В Японии напротив лидируют ролевые игры, а игры в жанре Action находятся на втором месте, что вероятно, обусловлено большим интересом в этой стране к традиционным настольным играм, на основе которых создаются игры в жанре Role-playing;\n",
    "- аналогичным образом во всех регионах, кроме Японии, большей популярностью пользуются игры для лиц старше 17 лет (M) и игры для всех (E), а на третьем месте расположены игры с неопределённым рейтингом ('Unknown'). В то же время в Японии лидируют игры без рейтинга, а далее следуют игры для всех (E) и игры для подростков (T). То есть можно сказать, что рейтинг ESRB применяется главным образом для игр, не реализуемых в Японии."
   ]
  },
  {
   "cell_type": "markdown",
   "metadata": {},
   "source": [
    "## Проверим гипотезы"
   ]
  },
  {
   "cell_type": "markdown",
   "metadata": {},
   "source": [
    "Теперь перейдём к проверке поставленных в самом начале гипотез.\n",
    "\n",
    "Первая гипотеза звучала так: средние пользовательские рейтинги платформ Xbox One и PC одинаковые.\n",
    "\n",
    "Чтобы подтвердить или опровергнуть гипотезу, необходимо провести статистический анализ, использовав t-тест.\n",
    "\n",
    "В качестве нулевой гипотезы примем следующее: средние пользовательские рейтинги платформ XBox One и PC равны. \n",
    "\n",
    "Альтернативная гипотеза: средние пользовательские рейтинги платформ XBox One и PC не равны. \n",
    "\n",
    "То есть гипотеза двусторонняя.\n",
    "\n",
    "Если у нас не будет оснований отвергнуть нулевую гипотезу, значит, будем считать рейтинги одинаковыми.\n",
    "\n",
    "Уровень статистической значимости зададим равным 5 %.\n",
    "\n",
    "Теперь проведём проверку:"
   ]
  },
  {
   "cell_type": "code",
   "execution_count": 66,
   "metadata": {},
   "outputs": [
    {
     "name": "stdout",
     "output_type": "stream",
     "text": [
      "p-value: 0.5535080500643661\n",
      "Нет оснований отвергнуть нулевую гипотезу\n",
      "\n",
      "Cредний пользовательский рейтинг платформы Xbox One - 6.52\n",
      "Cредний пользовательский рейтинг платформы PC - 6.43\n"
     ]
    }
   ],
   "source": [
    "alpha = 0.05 # уровень статистической значимости\n",
    "\n",
    "xone = data_rel.query('platform == \"XOne\" and user_score != -1')\n",
    "\n",
    "pc = data_rel.query('platform == \"PC\" and user_score != -1')\n",
    "\n",
    "results = st.ttest_ind(xone['user_score'], pc['user_score'])\n",
    "\n",
    "print(f'p-value: {results.pvalue}')\n",
    "\n",
    "# проверяем p-value\n",
    "if results.pvalue < alpha:\n",
    "    print('Отвергаем нулевую гипотезу')\n",
    "else:\n",
    "    print('Нет оснований отвергнуть нулевую гипотезу')\n",
    "    \n",
    "print()    \n",
    "print('Cредний пользовательский рейтинг платформы Xbox One -', xone['user_score'].mean().round(2))\n",
    "print('Cредний пользовательский рейтинг платформы PC -', pc['user_score'].mean().round(2))"
   ]
  },
  {
   "cell_type": "markdown",
   "metadata": {},
   "source": [
    "Таким образом, можно считать, что средние пользовательские рейтинги платформ XBox One и PC равны."
   ]
  },
  {
   "cell_type": "markdown",
   "metadata": {},
   "source": [
    "Проверим следующую гипотезу: средние пользовательские рейтинги жанров Action (англ. «действие», экшен-игры) и Sports (англ. «спортивные соревнования») разные.\n",
    "\n",
    "Нулевая гипотеза: средние пользовательские рейтинги жанров Action и Sports равны.\n",
    "\n",
    "Альтернативная гипотеза: средние пользовательские рейтинги жанров Action и Sports не равны.\n",
    "\n",
    "Гипотеза снова двусторонняя.\n",
    "\n",
    "Если мы отвергнем нулевую гипотезу, значит, будем считать рейтинги разными.\n",
    "\n",
    "Уровень статистической значимости зададим равным 5 %.\n",
    "\n",
    "Теперь проведём проверку:"
   ]
  },
  {
   "cell_type": "code",
   "execution_count": 67,
   "metadata": {},
   "outputs": [
    {
     "name": "stdout",
     "output_type": "stream",
     "text": [
      "p-value: 4.8045233804629176e-26\n",
      "Отвергаем нулевую гипотезу\n",
      "\n",
      "Cредний пользовательский рейтинг жанра Action - 6.83\n",
      "Cредний пользовательский рейтинг жанра Sports - 5.46\n"
     ]
    }
   ],
   "source": [
    "alpha = 0.05 # уровень статистической значимости\n",
    "\n",
    "action = data_rel.query('genre == \"Action\" and user_score != -1')\n",
    "\n",
    "sports = data_rel.query('genre == \"Sports\" and user_score != -1')\n",
    "\n",
    "results = st.ttest_ind(action['user_score'], sports['user_score'])\n",
    "\n",
    "print(f'p-value: {results.pvalue}')\n",
    "\n",
    "# проверяем p-value\n",
    "if results.pvalue < alpha:\n",
    "    print('Отвергаем нулевую гипотезу')\n",
    "else:\n",
    "    print('Нет оснований отвергнуть нулевую гипотезу')\n",
    "    \n",
    "print()    \n",
    "print('Cредний пользовательский рейтинг жанра Action -', action['user_score'].mean().round(2))\n",
    "print('Cредний пользовательский рейтинг жанра Sports -', sports['user_score'].mean().round(2))"
   ]
  },
  {
   "cell_type": "markdown",
   "metadata": {},
   "source": [
    "Таким образом, можно считать, что средние пользовательские рейтинги жанров Action и Sports разные.\n",
    "\n",
    "\n",
    "Вывод: проверка статистическими методами на основе наших данных и при заданном уровне значимости показала, что у нас есть достаточно оснований принять обе гипотезы."
   ]
  },
  {
   "cell_type": "markdown",
   "metadata": {},
   "source": [
    "## Напишем общий вывод"
   ]
  },
  {
   "cell_type": "markdown",
   "metadata": {},
   "source": [
    "Были изучена информация о продажах игр, оценки пользователей и экспертов, жанры и платформы (например, Xbox или PlayStation) для интернет-магазина «Стримчик», который продаёт по всему миру компьютерные игры. \n",
    "\n",
    "Перед нами данные до 2016 года. \n",
    "\n",
    "Задача - выявить определяющие успешность игры закономерности, которые позволят сделать ставку на потенциально популярный продукт и спланировать рекламные кампании.\n",
    "\n",
    "\n",
    "1. Общая информация о данных:\n",
    "Исходные данные состоят из 16715 строк и 11 столбцов, причём:\n",
    "- имеются пропущенные значения;\n",
    "- названия столбцов не соответсвуют правилам синтаксиса в Python;\n",
    "- тип данных в ряде столбцов не соответствует содержимому.\n",
    "\n",
    "2. Предобработка данных:\n",
    "- названия столбцов были приведены в соответствие с правилами синтаксиса;\n",
    "- пропущенные значения были в большинстве случаев заменены на -1, чтобы можно было изменить типы данных там, где это необходимо, и чтобы при дальнейшем анализе учитывать максимально возможный объём данных, убирая из расчётов отрицательные значения (т.е. пропуски), при этом в столбце 'rating' пропуски были заменены на 'Unknown';\n",
    "- были удалены только 2 строки, которые содержали пропущенные значения в столбцах 'name', 'genre', 'critic_score', 'user_score' и 'rating';\n",
    "- явные дубликаты отсутсвуют;\n",
    "- неявных дубликатов было 2, они были устранены;\n",
    "- был создан столбец 'total_sales' со значениями суммарных продаж во всех регионах.\n",
    "\n",
    "3. Исследовательский анализ данных:\n",
    "- за период с 1990 (тогда начался рост количества выпускаемых игр) по 2016 гг. платформами с наибольшими суммарными продажами являются: PS2, X360, PS3, Wii, DS и PS;\n",
    "- характерный срок появления новых платформ и исчезновения старых составляет в среднем 5 лет, поэтому актуальный период - с 2012 года, т.е. за последние 5 лет;\n",
    "- за актуальный период лидерами продаж (топ-5) являются платформы PS4, PS3, X360, 3DS и XOne, при этом рост отмечается только для платформ PS4 и XOne, поэтому их можно считать потенциально прибыльными;\n",
    "- размер \"ящиков с усами\" для всех платформ сильно варьируется, причём для PS3, X360, PS4 и XOne межквартильный размах наибольший, а вот для платформы 3DS значения объёмов продаж более близкие, и, несмотря на выбросы, размер \"ящика\" довольно мал. Медианы также сильно различаются, но не превышают 0.5 миллионов проданных копий.\n",
    "- оценка влияния на продажи внутри одной популярной платформы (PS4) отзывов пользователей и критиков показала, что на объём продаж игр на платформе в гораздо большей степени влияют оценки критиков, нежели оценки пользователей, причём такой вывод справделив и для всех 11 платформ, продажи для которых имеются с 2012 года;\n",
    "- рассмотрение общего распределения игр по жанрам показало, что наиболее продаваемыми являются самые распространённые жанры, т.е. Action и Sports, а низкие продажи характерны для наиболее редких жанров Puzzle и Strategy. В то же время игры в жанрах Shooter, Sports и Platform медианно приносят наибольшие прибыли.\n",
    "\n",
    "4. Портрет пользователя каждого региона:\n",
    "- у пользователей Северной Америки наиболее популярны платформы компании Microsoft (X360, XOne),  у японских пользователей - платформы местных производителей: Nintendo (3DS и WiiU) и платформы компании Sony(PS3, PSV, PS4), а в Европе и в остальном мире лидируют платформы PS4 и PS3;\n",
    "- во всех регионах, кроме Японии, наиболее популярны игры в жанрах Action, Shooter и Sports. В Японии напротив лидируют ролевые игры, но и игры в жанре Action также находятся в топе;\n",
    "- аналогичным образом во всех регионах, кроме Японии, большей популярностью пользуются игры для лиц старше 17 лет (M) и игры для всех (E), в то время как в Японии лидируют игры без рейтинга ('Unknown'), а далее следуют игры для всех (E) и игры для подростков (T).\n",
    "\n",
    "5. Проверка гипотез\n",
    "В результате проверки статистическими методами было показано, что:\n",
    "- средние пользовательские рейтинги платформ Xbox One и PC одинаковые;\n",
    "- средние пользовательские рейтинги жанров Action (англ. «действие», экшен-игры) и Sports (англ. «спортивные соревнования») разные.\n",
    "\n",
    "\n",
    "Таким образом, можно выявить следующие закономерности, определяющие успешность игры:\n",
    "- набирают объёмы продаж игр на платформы PS4 и XOne, которые также входят в лидеры по количеству миллионов проданных копий игр с 2012 года;\n",
    "- положительные отзывы критиков (с оценкой более 60) играют важную роль в объёмах продаж игр;\n",
    "- наиболее популярны игры в жанрах Action и Sports, однако стабильно наибольшую прибыль медианно приносят игры в жанрах Shooter, Sports и Platform;\n",
    "- во всех регионах высокой популярностью пользуются игры для всех (E)."
   ]
  }
 ],
 "metadata": {
  "ExecuteTimeLog": [
   {
    "duration": 49,
    "start_time": "2023-10-04T05:01:48.498Z"
   },
   {
    "duration": 85,
    "start_time": "2023-10-04T05:01:57.587Z"
   },
   {
    "duration": 1395,
    "start_time": "2023-10-04T05:02:37.729Z"
   },
   {
    "duration": 98,
    "start_time": "2023-10-04T05:02:44.437Z"
   },
   {
    "duration": 20,
    "start_time": "2023-10-04T05:02:48.538Z"
   },
   {
    "duration": 15,
    "start_time": "2023-10-04T05:05:14.168Z"
   },
   {
    "duration": 60,
    "start_time": "2023-10-04T07:21:32.436Z"
   },
   {
    "duration": 1408,
    "start_time": "2023-10-04T07:21:37.566Z"
   },
   {
    "duration": 106,
    "start_time": "2023-10-04T07:21:38.976Z"
   },
   {
    "duration": 17,
    "start_time": "2023-10-04T07:21:39.087Z"
   },
   {
    "duration": 32,
    "start_time": "2023-10-04T07:21:39.106Z"
   },
   {
    "duration": 9,
    "start_time": "2023-10-04T07:21:39.140Z"
   },
   {
    "duration": 98,
    "start_time": "2023-10-04T07:21:52.271Z"
   },
   {
    "duration": 13,
    "start_time": "2023-10-04T07:22:23.594Z"
   },
   {
    "duration": 6,
    "start_time": "2023-10-04T07:23:16.802Z"
   },
   {
    "duration": 4,
    "start_time": "2023-10-04T07:23:34.906Z"
   },
   {
    "duration": 4,
    "start_time": "2023-10-04T07:23:38.489Z"
   },
   {
    "duration": 22,
    "start_time": "2023-10-04T07:23:42.909Z"
   },
   {
    "duration": 15,
    "start_time": "2023-10-04T07:34:31.890Z"
   },
   {
    "duration": 12,
    "start_time": "2023-10-04T07:35:58.300Z"
   },
   {
    "duration": 7,
    "start_time": "2023-10-04T07:36:39.874Z"
   },
   {
    "duration": 6,
    "start_time": "2023-10-04T07:36:58.320Z"
   },
   {
    "duration": 3,
    "start_time": "2023-10-04T07:37:08.569Z"
   },
   {
    "duration": 12,
    "start_time": "2023-10-04T07:37:15.751Z"
   },
   {
    "duration": 5,
    "start_time": "2023-10-04T07:37:30.959Z"
   },
   {
    "duration": 9,
    "start_time": "2023-10-04T07:37:43.889Z"
   },
   {
    "duration": 5,
    "start_time": "2023-10-04T07:38:00.640Z"
   },
   {
    "duration": 17,
    "start_time": "2023-10-04T07:38:09.740Z"
   },
   {
    "duration": 14,
    "start_time": "2023-10-04T07:38:27.299Z"
   },
   {
    "duration": 6,
    "start_time": "2023-10-04T07:38:36.588Z"
   },
   {
    "duration": 48,
    "start_time": "2023-10-04T07:46:17.971Z"
   },
   {
    "duration": 12,
    "start_time": "2023-10-04T07:46:28.229Z"
   },
   {
    "duration": 1082,
    "start_time": "2023-10-04T07:46:34.477Z"
   },
   {
    "duration": 52,
    "start_time": "2023-10-04T07:46:35.561Z"
   },
   {
    "duration": 16,
    "start_time": "2023-10-04T07:46:35.614Z"
   },
   {
    "duration": 23,
    "start_time": "2023-10-04T07:46:35.631Z"
   },
   {
    "duration": 23,
    "start_time": "2023-10-04T07:46:35.656Z"
   },
   {
    "duration": 45,
    "start_time": "2023-10-04T07:46:35.681Z"
   },
   {
    "duration": 107,
    "start_time": "2023-10-04T07:46:35.727Z"
   },
   {
    "duration": 0,
    "start_time": "2023-10-04T07:46:35.835Z"
   },
   {
    "duration": 0,
    "start_time": "2023-10-04T07:46:35.836Z"
   },
   {
    "duration": 0,
    "start_time": "2023-10-04T07:46:35.837Z"
   },
   {
    "duration": 0,
    "start_time": "2023-10-04T07:46:35.838Z"
   },
   {
    "duration": 16,
    "start_time": "2023-10-04T07:47:19.039Z"
   },
   {
    "duration": 10,
    "start_time": "2023-10-04T07:47:30.719Z"
   },
   {
    "duration": 12,
    "start_time": "2023-10-04T07:47:52.999Z"
   },
   {
    "duration": 16,
    "start_time": "2023-10-04T07:47:56.499Z"
   },
   {
    "duration": 16,
    "start_time": "2023-10-04T07:48:09.381Z"
   },
   {
    "duration": 7,
    "start_time": "2023-10-04T07:48:28.429Z"
   },
   {
    "duration": 14,
    "start_time": "2023-10-04T07:48:30.210Z"
   },
   {
    "duration": 1109,
    "start_time": "2023-10-04T07:48:41.789Z"
   },
   {
    "duration": 54,
    "start_time": "2023-10-04T07:48:42.900Z"
   },
   {
    "duration": 21,
    "start_time": "2023-10-04T07:48:42.957Z"
   },
   {
    "duration": 17,
    "start_time": "2023-10-04T07:48:42.980Z"
   },
   {
    "duration": 25,
    "start_time": "2023-10-04T07:48:42.998Z"
   },
   {
    "duration": 26,
    "start_time": "2023-10-04T07:48:43.024Z"
   },
   {
    "duration": 24,
    "start_time": "2023-10-04T07:48:43.052Z"
   },
   {
    "duration": 124,
    "start_time": "2023-10-04T07:48:43.077Z"
   },
   {
    "duration": 0,
    "start_time": "2023-10-04T07:48:43.203Z"
   },
   {
    "duration": 0,
    "start_time": "2023-10-04T07:48:43.204Z"
   },
   {
    "duration": 0,
    "start_time": "2023-10-04T07:48:43.206Z"
   },
   {
    "duration": 4,
    "start_time": "2023-10-04T07:52:18.475Z"
   },
   {
    "duration": 14,
    "start_time": "2023-10-04T07:52:19.681Z"
   },
   {
    "duration": 6,
    "start_time": "2023-10-04T07:52:26.030Z"
   },
   {
    "duration": 4,
    "start_time": "2023-10-04T07:52:26.741Z"
   },
   {
    "duration": 12,
    "start_time": "2023-10-04T07:53:30.957Z"
   },
   {
    "duration": 10,
    "start_time": "2023-10-04T07:53:39.311Z"
   },
   {
    "duration": 18,
    "start_time": "2023-10-04T07:53:40.441Z"
   },
   {
    "duration": 21,
    "start_time": "2023-10-04T07:54:00.221Z"
   },
   {
    "duration": 10,
    "start_time": "2023-10-04T07:54:08.431Z"
   },
   {
    "duration": 1186,
    "start_time": "2023-10-04T07:54:14.520Z"
   },
   {
    "duration": 56,
    "start_time": "2023-10-04T07:54:15.708Z"
   },
   {
    "duration": 36,
    "start_time": "2023-10-04T07:54:15.766Z"
   },
   {
    "duration": 57,
    "start_time": "2023-10-04T07:54:15.805Z"
   },
   {
    "duration": 29,
    "start_time": "2023-10-04T07:54:15.864Z"
   },
   {
    "duration": 34,
    "start_time": "2023-10-04T07:54:15.895Z"
   },
   {
    "duration": 35,
    "start_time": "2023-10-04T07:54:15.931Z"
   },
   {
    "duration": 29,
    "start_time": "2023-10-04T07:54:15.968Z"
   },
   {
    "duration": 19,
    "start_time": "2023-10-04T07:54:15.998Z"
   },
   {
    "duration": 43,
    "start_time": "2023-10-04T07:54:16.020Z"
   },
   {
    "duration": 156,
    "start_time": "2023-10-04T07:54:16.065Z"
   },
   {
    "duration": 56,
    "start_time": "2023-10-04T07:55:00.520Z"
   },
   {
    "duration": 21,
    "start_time": "2023-10-04T07:55:13.900Z"
   },
   {
    "duration": 6,
    "start_time": "2023-10-04T07:55:31.770Z"
   },
   {
    "duration": 5,
    "start_time": "2023-10-04T07:55:34.590Z"
   },
   {
    "duration": 1136,
    "start_time": "2023-10-04T07:55:54.552Z"
   },
   {
    "duration": 52,
    "start_time": "2023-10-04T07:55:55.690Z"
   },
   {
    "duration": 16,
    "start_time": "2023-10-04T07:55:55.744Z"
   },
   {
    "duration": 25,
    "start_time": "2023-10-04T07:55:55.762Z"
   },
   {
    "duration": 25,
    "start_time": "2023-10-04T07:55:55.789Z"
   },
   {
    "duration": 7,
    "start_time": "2023-10-04T07:55:55.815Z"
   },
   {
    "duration": 38,
    "start_time": "2023-10-04T07:55:55.824Z"
   },
   {
    "duration": 27,
    "start_time": "2023-10-04T07:55:55.864Z"
   },
   {
    "duration": 11,
    "start_time": "2023-10-04T07:55:55.893Z"
   },
   {
    "duration": 46,
    "start_time": "2023-10-04T07:55:55.907Z"
   },
   {
    "duration": 134,
    "start_time": "2023-10-04T07:55:55.955Z"
   },
   {
    "duration": 28,
    "start_time": "2023-10-04T07:57:17.209Z"
   },
   {
    "duration": 79,
    "start_time": "2023-10-04T07:57:41.080Z"
   },
   {
    "duration": 5,
    "start_time": "2023-10-04T07:57:44.719Z"
   },
   {
    "duration": 5,
    "start_time": "2023-10-04T07:58:19.915Z"
   },
   {
    "duration": 24,
    "start_time": "2023-10-04T07:58:22.019Z"
   },
   {
    "duration": 11,
    "start_time": "2023-10-04T07:58:52.331Z"
   },
   {
    "duration": 12,
    "start_time": "2023-10-04T07:59:25.305Z"
   },
   {
    "duration": 13,
    "start_time": "2023-10-04T07:59:59.697Z"
   },
   {
    "duration": 11,
    "start_time": "2023-10-04T08:00:59.239Z"
   },
   {
    "duration": 12,
    "start_time": "2023-10-04T08:01:09.142Z"
   },
   {
    "duration": 13,
    "start_time": "2023-10-04T08:01:20.733Z"
   },
   {
    "duration": 13,
    "start_time": "2023-10-04T08:01:39.666Z"
   },
   {
    "duration": 14,
    "start_time": "2023-10-04T08:01:46.678Z"
   },
   {
    "duration": 16,
    "start_time": "2023-10-04T08:02:30.281Z"
   },
   {
    "duration": 9,
    "start_time": "2023-10-04T08:03:07.209Z"
   },
   {
    "duration": 20,
    "start_time": "2023-10-04T08:03:27.517Z"
   },
   {
    "duration": 8,
    "start_time": "2023-10-04T08:04:08.137Z"
   },
   {
    "duration": 18,
    "start_time": "2023-10-04T08:05:11.639Z"
   },
   {
    "duration": 1137,
    "start_time": "2023-10-04T08:05:29.791Z"
   },
   {
    "duration": 56,
    "start_time": "2023-10-04T08:05:30.930Z"
   },
   {
    "duration": 153,
    "start_time": "2023-10-04T08:05:30.987Z"
   },
   {
    "duration": 85,
    "start_time": "2023-10-04T08:05:31.142Z"
   },
   {
    "duration": 61,
    "start_time": "2023-10-04T08:05:31.229Z"
   },
   {
    "duration": 65,
    "start_time": "2023-10-04T08:05:31.291Z"
   },
   {
    "duration": 177,
    "start_time": "2023-10-04T08:05:31.358Z"
   },
   {
    "duration": 0,
    "start_time": "2023-10-04T08:05:31.536Z"
   },
   {
    "duration": 0,
    "start_time": "2023-10-04T08:05:31.537Z"
   },
   {
    "duration": 0,
    "start_time": "2023-10-04T08:05:31.538Z"
   },
   {
    "duration": 0,
    "start_time": "2023-10-04T08:05:31.549Z"
   },
   {
    "duration": 0,
    "start_time": "2023-10-04T08:05:31.550Z"
   },
   {
    "duration": 19,
    "start_time": "2023-10-04T08:07:05.992Z"
   },
   {
    "duration": 11,
    "start_time": "2023-10-04T08:07:43.395Z"
   },
   {
    "duration": 1130,
    "start_time": "2023-10-04T08:07:55.932Z"
   },
   {
    "duration": 52,
    "start_time": "2023-10-04T08:07:57.064Z"
   },
   {
    "duration": 15,
    "start_time": "2023-10-04T08:07:57.117Z"
   },
   {
    "duration": 14,
    "start_time": "2023-10-04T08:07:57.134Z"
   },
   {
    "duration": 28,
    "start_time": "2023-10-04T08:07:57.150Z"
   },
   {
    "duration": 23,
    "start_time": "2023-10-04T08:07:57.180Z"
   },
   {
    "duration": 41,
    "start_time": "2023-10-04T08:07:57.205Z"
   },
   {
    "duration": 308,
    "start_time": "2023-10-04T08:07:57.248Z"
   },
   {
    "duration": 0,
    "start_time": "2023-10-04T08:07:57.558Z"
   },
   {
    "duration": 0,
    "start_time": "2023-10-04T08:07:57.559Z"
   },
   {
    "duration": 0,
    "start_time": "2023-10-04T08:07:57.560Z"
   },
   {
    "duration": 0,
    "start_time": "2023-10-04T08:07:57.561Z"
   },
   {
    "duration": 0,
    "start_time": "2023-10-04T08:07:57.562Z"
   },
   {
    "duration": 26,
    "start_time": "2023-10-04T08:08:32.533Z"
   },
   {
    "duration": 19,
    "start_time": "2023-10-04T08:08:52.630Z"
   },
   {
    "duration": 23,
    "start_time": "2023-10-04T08:09:07.260Z"
   },
   {
    "duration": 20,
    "start_time": "2023-10-04T08:09:22.567Z"
   },
   {
    "duration": 11,
    "start_time": "2023-10-04T08:10:42.908Z"
   },
   {
    "duration": 5,
    "start_time": "2023-10-04T08:10:48.024Z"
   },
   {
    "duration": 21,
    "start_time": "2023-10-04T08:11:36.808Z"
   },
   {
    "duration": 1125,
    "start_time": "2023-10-04T08:11:54.184Z"
   },
   {
    "duration": 53,
    "start_time": "2023-10-04T08:11:55.311Z"
   },
   {
    "duration": 18,
    "start_time": "2023-10-04T08:11:55.366Z"
   },
   {
    "duration": 73,
    "start_time": "2023-10-04T08:11:55.385Z"
   },
   {
    "duration": 40,
    "start_time": "2023-10-04T08:11:55.460Z"
   },
   {
    "duration": 53,
    "start_time": "2023-10-04T08:11:55.501Z"
   },
   {
    "duration": 20,
    "start_time": "2023-10-04T08:11:55.556Z"
   },
   {
    "duration": 35,
    "start_time": "2023-10-04T08:11:55.578Z"
   },
   {
    "duration": 11,
    "start_time": "2023-10-04T08:11:55.615Z"
   },
   {
    "duration": 18,
    "start_time": "2023-10-04T08:11:55.628Z"
   },
   {
    "duration": 36,
    "start_time": "2023-10-04T08:11:55.648Z"
   },
   {
    "duration": 47,
    "start_time": "2023-10-04T08:11:55.686Z"
   },
   {
    "duration": 18,
    "start_time": "2023-10-04T08:11:55.735Z"
   },
   {
    "duration": 1675,
    "start_time": "2023-10-04T08:13:16.034Z"
   },
   {
    "duration": 5,
    "start_time": "2023-10-04T08:13:19.289Z"
   },
   {
    "duration": 15,
    "start_time": "2023-10-04T08:13:43.849Z"
   },
   {
    "duration": 1186,
    "start_time": "2023-10-04T08:13:57.481Z"
   },
   {
    "duration": 92,
    "start_time": "2023-10-04T08:13:58.669Z"
   },
   {
    "duration": 17,
    "start_time": "2023-10-04T08:13:58.763Z"
   },
   {
    "duration": 68,
    "start_time": "2023-10-04T08:13:58.782Z"
   },
   {
    "duration": 13,
    "start_time": "2023-10-04T08:13:58.851Z"
   },
   {
    "duration": 5,
    "start_time": "2023-10-04T08:13:58.866Z"
   },
   {
    "duration": 11,
    "start_time": "2023-10-04T08:13:58.872Z"
   },
   {
    "duration": 66,
    "start_time": "2023-10-04T08:13:58.885Z"
   },
   {
    "duration": 5,
    "start_time": "2023-10-04T08:13:58.953Z"
   },
   {
    "duration": 8,
    "start_time": "2023-10-04T08:13:58.960Z"
   },
   {
    "duration": 7,
    "start_time": "2023-10-04T08:13:58.969Z"
   },
   {
    "duration": 73,
    "start_time": "2023-10-04T08:13:58.977Z"
   },
   {
    "duration": 8,
    "start_time": "2023-10-04T08:13:59.052Z"
   },
   {
    "duration": 1161,
    "start_time": "2023-10-04T08:14:28.131Z"
   },
   {
    "duration": 54,
    "start_time": "2023-10-04T08:14:29.293Z"
   },
   {
    "duration": 17,
    "start_time": "2023-10-04T08:14:29.349Z"
   },
   {
    "duration": 45,
    "start_time": "2023-10-04T08:14:29.368Z"
   },
   {
    "duration": 26,
    "start_time": "2023-10-04T08:14:29.415Z"
   },
   {
    "duration": 23,
    "start_time": "2023-10-04T08:14:29.443Z"
   },
   {
    "duration": 31,
    "start_time": "2023-10-04T08:14:29.468Z"
   },
   {
    "duration": 42,
    "start_time": "2023-10-04T08:14:29.500Z"
   },
   {
    "duration": 6,
    "start_time": "2023-10-04T08:14:29.544Z"
   },
   {
    "duration": 30,
    "start_time": "2023-10-04T08:14:29.552Z"
   },
   {
    "duration": 22,
    "start_time": "2023-10-04T08:14:29.584Z"
   },
   {
    "duration": 40,
    "start_time": "2023-10-04T08:14:29.608Z"
   },
   {
    "duration": 8,
    "start_time": "2023-10-04T08:14:29.650Z"
   },
   {
    "duration": 10,
    "start_time": "2023-10-04T08:14:49.800Z"
   },
   {
    "duration": 89,
    "start_time": "2023-10-04T08:15:00.825Z"
   },
   {
    "duration": 7,
    "start_time": "2023-10-04T08:15:06.332Z"
   },
   {
    "duration": 11,
    "start_time": "2023-10-04T08:15:07.373Z"
   },
   {
    "duration": 1072,
    "start_time": "2023-10-04T08:16:22.590Z"
   },
   {
    "duration": 52,
    "start_time": "2023-10-04T08:16:23.664Z"
   },
   {
    "duration": 17,
    "start_time": "2023-10-04T08:16:23.717Z"
   },
   {
    "duration": 27,
    "start_time": "2023-10-04T08:16:23.736Z"
   },
   {
    "duration": 21,
    "start_time": "2023-10-04T08:16:23.764Z"
   },
   {
    "duration": 26,
    "start_time": "2023-10-04T08:16:23.786Z"
   },
   {
    "duration": 23,
    "start_time": "2023-10-04T08:16:23.813Z"
   },
   {
    "duration": 41,
    "start_time": "2023-10-04T08:16:23.837Z"
   },
   {
    "duration": 6,
    "start_time": "2023-10-04T08:16:23.879Z"
   },
   {
    "duration": 25,
    "start_time": "2023-10-04T08:16:23.887Z"
   },
   {
    "duration": 10,
    "start_time": "2023-10-04T08:16:23.913Z"
   },
   {
    "duration": 59,
    "start_time": "2023-10-04T08:16:23.924Z"
   },
   {
    "duration": 7,
    "start_time": "2023-10-04T08:16:23.985Z"
   },
   {
    "duration": 97,
    "start_time": "2023-10-04T08:17:02.613Z"
   },
   {
    "duration": 11,
    "start_time": "2023-10-04T08:17:27.917Z"
   },
   {
    "duration": 8,
    "start_time": "2023-10-04T08:17:37.852Z"
   },
   {
    "duration": 9,
    "start_time": "2023-10-04T08:17:45.966Z"
   },
   {
    "duration": 21,
    "start_time": "2023-10-04T08:18:30.540Z"
   },
   {
    "duration": 16,
    "start_time": "2023-10-04T08:19:07.186Z"
   },
   {
    "duration": 5,
    "start_time": "2023-10-04T08:19:12.118Z"
   },
   {
    "duration": 9,
    "start_time": "2023-10-04T08:19:44.366Z"
   },
   {
    "duration": 6,
    "start_time": "2023-10-04T08:19:45.770Z"
   },
   {
    "duration": 7,
    "start_time": "2023-10-04T08:19:56.141Z"
   },
   {
    "duration": 1192,
    "start_time": "2023-10-04T08:20:03.568Z"
   },
   {
    "duration": 54,
    "start_time": "2023-10-04T08:20:04.762Z"
   },
   {
    "duration": 17,
    "start_time": "2023-10-04T08:20:04.818Z"
   },
   {
    "duration": 42,
    "start_time": "2023-10-04T08:20:04.837Z"
   },
   {
    "duration": 15,
    "start_time": "2023-10-04T08:20:04.880Z"
   },
   {
    "duration": 9,
    "start_time": "2023-10-04T08:20:04.897Z"
   },
   {
    "duration": 56,
    "start_time": "2023-10-04T08:20:04.908Z"
   },
   {
    "duration": 36,
    "start_time": "2023-10-04T08:20:04.966Z"
   },
   {
    "duration": 6,
    "start_time": "2023-10-04T08:20:05.003Z"
   },
   {
    "duration": 19,
    "start_time": "2023-10-04T08:20:05.012Z"
   },
   {
    "duration": 28,
    "start_time": "2023-10-04T08:20:05.033Z"
   },
   {
    "duration": 49,
    "start_time": "2023-10-04T08:20:05.063Z"
   },
   {
    "duration": 10,
    "start_time": "2023-10-04T08:20:05.114Z"
   },
   {
    "duration": 586,
    "start_time": "2023-10-04T08:20:20.679Z"
   },
   {
    "duration": 9,
    "start_time": "2023-10-04T08:23:33.396Z"
   },
   {
    "duration": 24,
    "start_time": "2023-10-04T08:23:44.648Z"
   },
   {
    "duration": 5,
    "start_time": "2023-10-04T08:23:52.623Z"
   },
   {
    "duration": 7,
    "start_time": "2023-10-04T08:23:53.390Z"
   },
   {
    "duration": 20,
    "start_time": "2023-10-04T08:23:53.937Z"
   },
   {
    "duration": 11,
    "start_time": "2023-10-04T08:24:08.193Z"
   },
   {
    "duration": 17,
    "start_time": "2023-10-04T08:24:38.856Z"
   },
   {
    "duration": 4,
    "start_time": "2023-10-04T08:25:17.403Z"
   },
   {
    "duration": 1317,
    "start_time": "2023-10-04T08:25:27.748Z"
   },
   {
    "duration": 1272,
    "start_time": "2023-10-04T08:25:34.186Z"
   },
   {
    "duration": 8,
    "start_time": "2023-10-04T08:26:25.213Z"
   },
   {
    "duration": 12,
    "start_time": "2023-10-04T08:26:59.559Z"
   },
   {
    "duration": 8,
    "start_time": "2023-10-04T08:27:17.942Z"
   },
   {
    "duration": 1099,
    "start_time": "2023-10-04T08:27:27.510Z"
   },
   {
    "duration": 51,
    "start_time": "2023-10-04T08:27:28.611Z"
   },
   {
    "duration": 16,
    "start_time": "2023-10-04T08:27:28.664Z"
   },
   {
    "duration": 31,
    "start_time": "2023-10-04T08:27:28.682Z"
   },
   {
    "duration": 29,
    "start_time": "2023-10-04T08:27:28.714Z"
   },
   {
    "duration": 30,
    "start_time": "2023-10-04T08:27:28.744Z"
   },
   {
    "duration": 42,
    "start_time": "2023-10-04T08:27:28.775Z"
   },
   {
    "duration": 30,
    "start_time": "2023-10-04T08:27:28.818Z"
   },
   {
    "duration": 15,
    "start_time": "2023-10-04T08:27:28.849Z"
   },
   {
    "duration": 22,
    "start_time": "2023-10-04T08:27:28.866Z"
   },
   {
    "duration": 39,
    "start_time": "2023-10-04T08:27:28.890Z"
   },
   {
    "duration": 9,
    "start_time": "2023-10-04T08:27:28.931Z"
   },
   {
    "duration": 43,
    "start_time": "2023-10-04T08:27:28.941Z"
   },
   {
    "duration": 88,
    "start_time": "2023-10-04T08:27:28.986Z"
   },
   {
    "duration": 13,
    "start_time": "2023-10-04T08:27:39.541Z"
   },
   {
    "duration": 1557,
    "start_time": "2023-10-07T07:13:19.283Z"
   },
   {
    "duration": 112,
    "start_time": "2023-10-07T07:13:20.843Z"
   },
   {
    "duration": 25,
    "start_time": "2023-10-07T07:13:20.958Z"
   },
   {
    "duration": 56,
    "start_time": "2023-10-07T07:13:20.985Z"
   },
   {
    "duration": 34,
    "start_time": "2023-10-07T07:13:21.044Z"
   },
   {
    "duration": 24,
    "start_time": "2023-10-07T07:13:21.079Z"
   },
   {
    "duration": 34,
    "start_time": "2023-10-07T07:13:21.105Z"
   },
   {
    "duration": 34,
    "start_time": "2023-10-07T07:13:21.140Z"
   },
   {
    "duration": 25,
    "start_time": "2023-10-07T07:13:21.177Z"
   },
   {
    "duration": 34,
    "start_time": "2023-10-07T07:13:21.203Z"
   },
   {
    "duration": 40,
    "start_time": "2023-10-07T07:13:21.239Z"
   },
   {
    "duration": 20,
    "start_time": "2023-10-07T07:13:21.281Z"
   },
   {
    "duration": 28,
    "start_time": "2023-10-07T07:13:21.303Z"
   },
   {
    "duration": 20,
    "start_time": "2023-10-07T07:13:21.333Z"
   },
   {
    "duration": 6,
    "start_time": "2023-10-07T07:17:22.127Z"
   },
   {
    "duration": 1203,
    "start_time": "2023-10-07T07:32:20.803Z"
   },
   {
    "duration": 59,
    "start_time": "2023-10-07T07:32:22.008Z"
   },
   {
    "duration": 22,
    "start_time": "2023-10-07T07:32:22.069Z"
   },
   {
    "duration": 17,
    "start_time": "2023-10-07T07:32:22.217Z"
   },
   {
    "duration": 16,
    "start_time": "2023-10-07T07:32:24.164Z"
   },
   {
    "duration": 5,
    "start_time": "2023-10-07T07:32:28.797Z"
   },
   {
    "duration": 10,
    "start_time": "2023-10-07T07:32:30.703Z"
   },
   {
    "duration": 1164,
    "start_time": "2023-10-07T07:39:03.290Z"
   },
   {
    "duration": 58,
    "start_time": "2023-10-07T07:39:04.456Z"
   },
   {
    "duration": 20,
    "start_time": "2023-10-07T07:39:04.516Z"
   },
   {
    "duration": 20,
    "start_time": "2023-10-07T07:39:04.537Z"
   },
   {
    "duration": 15,
    "start_time": "2023-10-07T07:39:04.559Z"
   },
   {
    "duration": 5,
    "start_time": "2023-10-07T07:39:04.576Z"
   },
   {
    "duration": 11,
    "start_time": "2023-10-07T07:39:04.582Z"
   },
   {
    "duration": 552,
    "start_time": "2023-10-07T07:39:04.595Z"
   },
   {
    "duration": 0,
    "start_time": "2023-10-07T07:39:05.149Z"
   },
   {
    "duration": 0,
    "start_time": "2023-10-07T07:39:05.150Z"
   },
   {
    "duration": 0,
    "start_time": "2023-10-07T07:39:05.151Z"
   },
   {
    "duration": 0,
    "start_time": "2023-10-07T07:39:05.152Z"
   },
   {
    "duration": 0,
    "start_time": "2023-10-07T07:39:05.153Z"
   },
   {
    "duration": 0,
    "start_time": "2023-10-07T07:39:05.154Z"
   },
   {
    "duration": 0,
    "start_time": "2023-10-07T07:39:05.156Z"
   },
   {
    "duration": 29,
    "start_time": "2023-10-07T07:40:06.843Z"
   },
   {
    "duration": 1258,
    "start_time": "2023-10-07T07:40:13.351Z"
   },
   {
    "duration": 57,
    "start_time": "2023-10-07T07:40:14.612Z"
   },
   {
    "duration": 19,
    "start_time": "2023-10-07T07:40:14.671Z"
   },
   {
    "duration": 16,
    "start_time": "2023-10-07T07:40:14.691Z"
   },
   {
    "duration": 23,
    "start_time": "2023-10-07T07:40:14.710Z"
   },
   {
    "duration": 22,
    "start_time": "2023-10-07T07:40:14.735Z"
   },
   {
    "duration": 14,
    "start_time": "2023-10-07T07:40:14.758Z"
   },
   {
    "duration": 34,
    "start_time": "2023-10-07T07:40:14.774Z"
   },
   {
    "duration": 5,
    "start_time": "2023-10-07T07:40:14.810Z"
   },
   {
    "duration": 23,
    "start_time": "2023-10-07T07:40:14.817Z"
   },
   {
    "duration": 36,
    "start_time": "2023-10-07T07:40:14.842Z"
   },
   {
    "duration": 10,
    "start_time": "2023-10-07T07:40:14.879Z"
   },
   {
    "duration": 23,
    "start_time": "2023-10-07T07:40:14.891Z"
   },
   {
    "duration": 15,
    "start_time": "2023-10-07T07:40:14.916Z"
   },
   {
    "duration": 15,
    "start_time": "2023-10-07T07:40:14.933Z"
   },
   {
    "duration": 1275,
    "start_time": "2023-10-07T07:41:06.621Z"
   },
   {
    "duration": 64,
    "start_time": "2023-10-07T07:41:07.898Z"
   },
   {
    "duration": 19,
    "start_time": "2023-10-07T07:41:07.963Z"
   },
   {
    "duration": 27,
    "start_time": "2023-10-07T07:41:07.984Z"
   },
   {
    "duration": 31,
    "start_time": "2023-10-07T07:41:08.013Z"
   },
   {
    "duration": 8,
    "start_time": "2023-10-07T07:41:08.045Z"
   },
   {
    "duration": 13,
    "start_time": "2023-10-07T07:41:08.055Z"
   },
   {
    "duration": 32,
    "start_time": "2023-10-07T07:41:08.069Z"
   },
   {
    "duration": 6,
    "start_time": "2023-10-07T07:41:08.103Z"
   },
   {
    "duration": 116,
    "start_time": "2023-10-07T07:41:08.111Z"
   },
   {
    "duration": 32,
    "start_time": "2023-10-07T07:41:08.228Z"
   },
   {
    "duration": 10,
    "start_time": "2023-10-07T07:41:08.262Z"
   },
   {
    "duration": 22,
    "start_time": "2023-10-07T07:41:08.274Z"
   },
   {
    "duration": 14,
    "start_time": "2023-10-07T07:41:08.298Z"
   },
   {
    "duration": 5,
    "start_time": "2023-10-07T07:41:08.314Z"
   },
   {
    "duration": 1291,
    "start_time": "2023-10-07T07:43:04.775Z"
   },
   {
    "duration": 65,
    "start_time": "2023-10-07T07:43:06.069Z"
   },
   {
    "duration": 28,
    "start_time": "2023-10-07T07:43:06.136Z"
   },
   {
    "duration": 39,
    "start_time": "2023-10-07T07:43:06.168Z"
   },
   {
    "duration": 40,
    "start_time": "2023-10-07T07:43:06.209Z"
   },
   {
    "duration": 19,
    "start_time": "2023-10-07T07:43:06.252Z"
   },
   {
    "duration": 32,
    "start_time": "2023-10-07T07:43:06.273Z"
   },
   {
    "duration": 57,
    "start_time": "2023-10-07T07:43:06.306Z"
   },
   {
    "duration": 5,
    "start_time": "2023-10-07T07:43:06.366Z"
   },
   {
    "duration": 27,
    "start_time": "2023-10-07T07:43:06.373Z"
   },
   {
    "duration": 41,
    "start_time": "2023-10-07T07:43:06.402Z"
   },
   {
    "duration": 39,
    "start_time": "2023-10-07T07:43:06.445Z"
   },
   {
    "duration": 28,
    "start_time": "2023-10-07T07:43:06.486Z"
   },
   {
    "duration": 46,
    "start_time": "2023-10-07T07:43:06.517Z"
   },
   {
    "duration": 26,
    "start_time": "2023-10-07T07:43:06.565Z"
   },
   {
    "duration": 26,
    "start_time": "2023-10-07T07:43:50.545Z"
   },
   {
    "duration": 687,
    "start_time": "2023-10-07T07:43:58.989Z"
   },
   {
    "duration": 19,
    "start_time": "2023-10-07T07:44:28.344Z"
   },
   {
    "duration": 15,
    "start_time": "2023-10-07T07:44:40.447Z"
   },
   {
    "duration": 303,
    "start_time": "2023-10-07T07:44:45.518Z"
   },
   {
    "duration": 374,
    "start_time": "2023-10-07T07:44:50.590Z"
   },
   {
    "duration": 1304,
    "start_time": "2023-10-07T07:44:55.047Z"
   },
   {
    "duration": 58,
    "start_time": "2023-10-07T07:44:56.353Z"
   },
   {
    "duration": 19,
    "start_time": "2023-10-07T07:44:56.413Z"
   },
   {
    "duration": 20,
    "start_time": "2023-10-07T07:44:56.434Z"
   },
   {
    "duration": 15,
    "start_time": "2023-10-07T07:44:56.456Z"
   },
   {
    "duration": 13,
    "start_time": "2023-10-07T07:44:56.473Z"
   },
   {
    "duration": 24,
    "start_time": "2023-10-07T07:44:56.488Z"
   },
   {
    "duration": 37,
    "start_time": "2023-10-07T07:44:56.513Z"
   },
   {
    "duration": 5,
    "start_time": "2023-10-07T07:44:56.552Z"
   },
   {
    "duration": 30,
    "start_time": "2023-10-07T07:44:56.558Z"
   },
   {
    "duration": 55,
    "start_time": "2023-10-07T07:44:56.589Z"
   },
   {
    "duration": 27,
    "start_time": "2023-10-07T07:44:56.645Z"
   },
   {
    "duration": 39,
    "start_time": "2023-10-07T07:44:56.674Z"
   },
   {
    "duration": 30,
    "start_time": "2023-10-07T07:44:56.715Z"
   },
   {
    "duration": 20,
    "start_time": "2023-10-07T07:44:56.746Z"
   },
   {
    "duration": 118,
    "start_time": "2023-10-07T07:47:23.653Z"
   },
   {
    "duration": 1265,
    "start_time": "2023-10-07T07:47:30.440Z"
   },
   {
    "duration": 58,
    "start_time": "2023-10-07T07:47:31.707Z"
   },
   {
    "duration": 28,
    "start_time": "2023-10-07T07:47:31.767Z"
   },
   {
    "duration": 36,
    "start_time": "2023-10-07T07:47:31.797Z"
   },
   {
    "duration": 38,
    "start_time": "2023-10-07T07:47:31.836Z"
   },
   {
    "duration": 23,
    "start_time": "2023-10-07T07:47:31.876Z"
   },
   {
    "duration": 40,
    "start_time": "2023-10-07T07:47:31.901Z"
   },
   {
    "duration": 41,
    "start_time": "2023-10-07T07:47:31.943Z"
   },
   {
    "duration": 5,
    "start_time": "2023-10-07T07:47:31.986Z"
   },
   {
    "duration": 32,
    "start_time": "2023-10-07T07:47:31.994Z"
   },
   {
    "duration": 29,
    "start_time": "2023-10-07T07:47:32.028Z"
   },
   {
    "duration": 14,
    "start_time": "2023-10-07T07:47:32.059Z"
   },
   {
    "duration": 33,
    "start_time": "2023-10-07T07:47:32.075Z"
   },
   {
    "duration": 123,
    "start_time": "2023-10-07T07:47:32.110Z"
   },
   {
    "duration": 11,
    "start_time": "2023-10-07T07:47:32.235Z"
   },
   {
    "duration": 116,
    "start_time": "2023-10-07T07:49:47.968Z"
   },
   {
    "duration": 1243,
    "start_time": "2023-10-07T07:49:52.272Z"
   },
   {
    "duration": 57,
    "start_time": "2023-10-07T07:49:53.517Z"
   },
   {
    "duration": 19,
    "start_time": "2023-10-07T07:49:53.576Z"
   },
   {
    "duration": 58,
    "start_time": "2023-10-07T07:49:53.597Z"
   },
   {
    "duration": 48,
    "start_time": "2023-10-07T07:49:53.658Z"
   },
   {
    "duration": 65,
    "start_time": "2023-10-07T07:49:53.708Z"
   },
   {
    "duration": 81,
    "start_time": "2023-10-07T07:49:53.775Z"
   },
   {
    "duration": 221,
    "start_time": "2023-10-07T07:49:53.858Z"
   },
   {
    "duration": 0,
    "start_time": "2023-10-07T07:49:54.081Z"
   },
   {
    "duration": 0,
    "start_time": "2023-10-07T07:49:54.084Z"
   },
   {
    "duration": 0,
    "start_time": "2023-10-07T07:49:54.085Z"
   },
   {
    "duration": 0,
    "start_time": "2023-10-07T07:49:54.087Z"
   },
   {
    "duration": 0,
    "start_time": "2023-10-07T07:49:54.088Z"
   },
   {
    "duration": 0,
    "start_time": "2023-10-07T07:49:54.089Z"
   },
   {
    "duration": 0,
    "start_time": "2023-10-07T07:49:54.091Z"
   },
   {
    "duration": 24,
    "start_time": "2023-10-07T07:50:04.553Z"
   },
   {
    "duration": 1277,
    "start_time": "2023-10-07T07:50:11.514Z"
   },
   {
    "duration": 57,
    "start_time": "2023-10-07T07:50:12.793Z"
   },
   {
    "duration": 25,
    "start_time": "2023-10-07T07:50:12.852Z"
   },
   {
    "duration": 21,
    "start_time": "2023-10-07T07:50:12.879Z"
   },
   {
    "duration": 44,
    "start_time": "2023-10-07T07:50:12.903Z"
   },
   {
    "duration": 6,
    "start_time": "2023-10-07T07:50:12.949Z"
   },
   {
    "duration": 31,
    "start_time": "2023-10-07T07:50:12.957Z"
   },
   {
    "duration": 57,
    "start_time": "2023-10-07T07:50:12.990Z"
   },
   {
    "duration": 8,
    "start_time": "2023-10-07T07:50:13.049Z"
   },
   {
    "duration": 20,
    "start_time": "2023-10-07T07:50:13.059Z"
   },
   {
    "duration": 47,
    "start_time": "2023-10-07T07:50:13.081Z"
   },
   {
    "duration": 12,
    "start_time": "2023-10-07T07:50:13.130Z"
   },
   {
    "duration": 43,
    "start_time": "2023-10-07T07:50:13.144Z"
   },
   {
    "duration": 24,
    "start_time": "2023-10-07T07:50:13.190Z"
   },
   {
    "duration": 22,
    "start_time": "2023-10-07T07:50:13.216Z"
   },
   {
    "duration": 7,
    "start_time": "2023-10-07T07:53:10.307Z"
   },
   {
    "duration": 16,
    "start_time": "2023-10-07T07:53:10.662Z"
   },
   {
    "duration": 6,
    "start_time": "2023-10-07T07:53:39.665Z"
   },
   {
    "duration": 14,
    "start_time": "2023-10-07T07:53:41.393Z"
   },
   {
    "duration": 4,
    "start_time": "2023-10-07T07:59:09.206Z"
   },
   {
    "duration": 15,
    "start_time": "2023-10-07T07:59:10.177Z"
   },
   {
    "duration": 6,
    "start_time": "2023-10-07T07:59:12.773Z"
   },
   {
    "duration": 1243,
    "start_time": "2023-10-07T08:00:22.042Z"
   },
   {
    "duration": 93,
    "start_time": "2023-10-07T08:00:23.287Z"
   },
   {
    "duration": 70,
    "start_time": "2023-10-07T08:00:23.381Z"
   },
   {
    "duration": 54,
    "start_time": "2023-10-07T08:00:23.453Z"
   },
   {
    "duration": 69,
    "start_time": "2023-10-07T08:00:23.509Z"
   },
   {
    "duration": 32,
    "start_time": "2023-10-07T08:00:23.579Z"
   },
   {
    "duration": 65,
    "start_time": "2023-10-07T08:00:23.612Z"
   },
   {
    "duration": 68,
    "start_time": "2023-10-07T08:00:23.679Z"
   },
   {
    "duration": 33,
    "start_time": "2023-10-07T08:00:23.749Z"
   },
   {
    "duration": 64,
    "start_time": "2023-10-07T08:00:23.784Z"
   },
   {
    "duration": 18,
    "start_time": "2023-10-07T08:00:23.849Z"
   },
   {
    "duration": 79,
    "start_time": "2023-10-07T08:00:23.869Z"
   },
   {
    "duration": 5,
    "start_time": "2023-10-07T08:00:23.950Z"
   },
   {
    "duration": 120,
    "start_time": "2023-10-07T08:07:24.037Z"
   },
   {
    "duration": 10,
    "start_time": "2023-10-07T08:07:26.699Z"
   },
   {
    "duration": 14,
    "start_time": "2023-10-07T08:07:31.138Z"
   },
   {
    "duration": 11,
    "start_time": "2023-10-07T08:07:57.917Z"
   },
   {
    "duration": 6,
    "start_time": "2023-10-07T08:08:10.742Z"
   },
   {
    "duration": 11,
    "start_time": "2023-10-07T08:08:53.846Z"
   },
   {
    "duration": 9,
    "start_time": "2023-10-07T08:09:38.335Z"
   },
   {
    "duration": 10,
    "start_time": "2023-10-07T08:09:43.313Z"
   },
   {
    "duration": 12,
    "start_time": "2023-10-07T08:09:48.429Z"
   },
   {
    "duration": 12,
    "start_time": "2023-10-07T08:09:59.931Z"
   },
   {
    "duration": 12,
    "start_time": "2023-10-07T08:10:41.874Z"
   },
   {
    "duration": 8,
    "start_time": "2023-10-07T08:10:45.443Z"
   },
   {
    "duration": 30,
    "start_time": "2023-10-07T08:10:52.089Z"
   },
   {
    "duration": 11,
    "start_time": "2023-10-07T08:12:30.310Z"
   },
   {
    "duration": 10,
    "start_time": "2023-10-07T08:12:39.066Z"
   },
   {
    "duration": 1254,
    "start_time": "2023-10-07T08:12:44.252Z"
   },
   {
    "duration": 67,
    "start_time": "2023-10-07T08:12:45.509Z"
   },
   {
    "duration": 22,
    "start_time": "2023-10-07T08:12:45.578Z"
   },
   {
    "duration": 24,
    "start_time": "2023-10-07T08:12:45.602Z"
   },
   {
    "duration": 28,
    "start_time": "2023-10-07T08:12:45.628Z"
   },
   {
    "duration": 17,
    "start_time": "2023-10-07T08:12:45.658Z"
   },
   {
    "duration": 41,
    "start_time": "2023-10-07T08:12:45.676Z"
   },
   {
    "duration": 9,
    "start_time": "2023-10-07T08:12:45.719Z"
   },
   {
    "duration": 38,
    "start_time": "2023-10-07T08:12:45.730Z"
   },
   {
    "duration": 9,
    "start_time": "2023-10-07T08:12:45.771Z"
   },
   {
    "duration": 29,
    "start_time": "2023-10-07T08:12:45.782Z"
   },
   {
    "duration": 23,
    "start_time": "2023-10-07T08:12:45.813Z"
   },
   {
    "duration": 20,
    "start_time": "2023-10-07T08:12:45.838Z"
   },
   {
    "duration": 27,
    "start_time": "2023-10-07T08:12:45.860Z"
   },
   {
    "duration": 10,
    "start_time": "2023-10-07T08:12:55.099Z"
   },
   {
    "duration": 12,
    "start_time": "2023-10-07T08:12:59.418Z"
   },
   {
    "duration": 12,
    "start_time": "2023-10-07T08:13:03.828Z"
   },
   {
    "duration": 24,
    "start_time": "2023-10-07T08:13:14.980Z"
   },
   {
    "duration": 24,
    "start_time": "2023-10-07T08:13:50.050Z"
   },
   {
    "duration": 50,
    "start_time": "2023-10-07T08:14:02.258Z"
   },
   {
    "duration": 13,
    "start_time": "2023-10-07T08:14:05.543Z"
   },
   {
    "duration": 1265,
    "start_time": "2023-10-07T08:14:10.818Z"
   },
   {
    "duration": 62,
    "start_time": "2023-10-07T08:14:12.085Z"
   },
   {
    "duration": 20,
    "start_time": "2023-10-07T08:14:12.148Z"
   },
   {
    "duration": 19,
    "start_time": "2023-10-07T08:14:12.170Z"
   },
   {
    "duration": 16,
    "start_time": "2023-10-07T08:14:12.191Z"
   },
   {
    "duration": 10,
    "start_time": "2023-10-07T08:14:12.209Z"
   },
   {
    "duration": 33,
    "start_time": "2023-10-07T08:14:12.220Z"
   },
   {
    "duration": 5,
    "start_time": "2023-10-07T08:14:12.255Z"
   },
   {
    "duration": 38,
    "start_time": "2023-10-07T08:14:12.262Z"
   },
   {
    "duration": 9,
    "start_time": "2023-10-07T08:14:12.303Z"
   },
   {
    "duration": 34,
    "start_time": "2023-10-07T08:14:12.313Z"
   },
   {
    "duration": 15,
    "start_time": "2023-10-07T08:14:12.348Z"
   },
   {
    "duration": 17,
    "start_time": "2023-10-07T08:14:12.364Z"
   },
   {
    "duration": 13,
    "start_time": "2023-10-07T08:14:12.383Z"
   },
   {
    "duration": 11,
    "start_time": "2023-10-07T08:14:21.022Z"
   },
   {
    "duration": 16,
    "start_time": "2023-10-07T08:14:23.513Z"
   },
   {
    "duration": 127,
    "start_time": "2023-10-07T08:15:07.529Z"
   },
   {
    "duration": 124,
    "start_time": "2023-10-07T08:15:17.504Z"
   },
   {
    "duration": 135,
    "start_time": "2023-10-07T08:15:20.561Z"
   },
   {
    "duration": 13,
    "start_time": "2023-10-07T08:15:23.473Z"
   },
   {
    "duration": 11,
    "start_time": "2023-10-07T08:16:09.988Z"
   },
   {
    "duration": 5,
    "start_time": "2023-10-07T08:16:40.231Z"
   },
   {
    "duration": 1611,
    "start_time": "2023-10-07T08:17:15.269Z"
   },
   {
    "duration": 57,
    "start_time": "2023-10-07T08:17:16.882Z"
   },
   {
    "duration": 18,
    "start_time": "2023-10-07T08:17:16.941Z"
   },
   {
    "duration": 20,
    "start_time": "2023-10-07T08:17:16.962Z"
   },
   {
    "duration": 28,
    "start_time": "2023-10-07T08:17:16.984Z"
   },
   {
    "duration": 20,
    "start_time": "2023-10-07T08:17:17.014Z"
   },
   {
    "duration": 37,
    "start_time": "2023-10-07T08:17:17.035Z"
   },
   {
    "duration": 47,
    "start_time": "2023-10-07T08:17:17.074Z"
   },
   {
    "duration": 52,
    "start_time": "2023-10-07T08:17:17.123Z"
   },
   {
    "duration": 11,
    "start_time": "2023-10-07T08:17:17.177Z"
   },
   {
    "duration": 35,
    "start_time": "2023-10-07T08:17:17.189Z"
   },
   {
    "duration": 34,
    "start_time": "2023-10-07T08:17:17.226Z"
   },
   {
    "duration": 18,
    "start_time": "2023-10-07T08:17:17.262Z"
   },
   {
    "duration": 25,
    "start_time": "2023-10-07T08:17:17.282Z"
   },
   {
    "duration": 1215,
    "start_time": "2023-10-07T08:18:11.743Z"
   },
   {
    "duration": 57,
    "start_time": "2023-10-07T08:18:12.961Z"
   },
   {
    "duration": 19,
    "start_time": "2023-10-07T08:18:13.019Z"
   },
   {
    "duration": 15,
    "start_time": "2023-10-07T08:18:13.040Z"
   },
   {
    "duration": 14,
    "start_time": "2023-10-07T08:18:13.057Z"
   },
   {
    "duration": 4,
    "start_time": "2023-10-07T08:18:13.073Z"
   },
   {
    "duration": 22,
    "start_time": "2023-10-07T08:18:13.079Z"
   },
   {
    "duration": 6,
    "start_time": "2023-10-07T08:18:13.102Z"
   },
   {
    "duration": 38,
    "start_time": "2023-10-07T08:18:13.109Z"
   },
   {
    "duration": 25,
    "start_time": "2023-10-07T08:18:13.150Z"
   },
   {
    "duration": 10,
    "start_time": "2023-10-07T08:18:13.177Z"
   },
   {
    "duration": 17,
    "start_time": "2023-10-07T08:18:13.189Z"
   },
   {
    "duration": 46,
    "start_time": "2023-10-07T08:18:13.207Z"
   },
   {
    "duration": 5,
    "start_time": "2023-10-07T08:18:13.255Z"
   },
   {
    "duration": 10,
    "start_time": "2023-10-07T08:18:13.262Z"
   },
   {
    "duration": 26,
    "start_time": "2023-10-07T08:18:24.434Z"
   },
   {
    "duration": 1176,
    "start_time": "2023-10-07T08:18:58.568Z"
   },
   {
    "duration": 57,
    "start_time": "2023-10-07T08:18:59.747Z"
   },
   {
    "duration": 19,
    "start_time": "2023-10-07T08:18:59.806Z"
   },
   {
    "duration": 16,
    "start_time": "2023-10-07T08:18:59.827Z"
   },
   {
    "duration": 15,
    "start_time": "2023-10-07T08:18:59.844Z"
   },
   {
    "duration": 5,
    "start_time": "2023-10-07T08:18:59.860Z"
   },
   {
    "duration": 18,
    "start_time": "2023-10-07T08:18:59.867Z"
   },
   {
    "duration": 5,
    "start_time": "2023-10-07T08:18:59.886Z"
   },
   {
    "duration": 13,
    "start_time": "2023-10-07T08:18:59.893Z"
   },
   {
    "duration": 41,
    "start_time": "2023-10-07T08:18:59.909Z"
   },
   {
    "duration": 23,
    "start_time": "2023-10-07T08:18:59.952Z"
   },
   {
    "duration": 19,
    "start_time": "2023-10-07T08:18:59.976Z"
   },
   {
    "duration": 5,
    "start_time": "2023-10-07T08:18:59.997Z"
   },
   {
    "duration": 103,
    "start_time": "2023-10-07T08:19:00.003Z"
   },
   {
    "duration": 26,
    "start_time": "2023-10-07T08:19:21.696Z"
   },
   {
    "duration": 35,
    "start_time": "2023-10-07T08:19:44.624Z"
   },
   {
    "duration": 11,
    "start_time": "2023-10-07T08:20:14.310Z"
   },
   {
    "duration": 13,
    "start_time": "2023-10-07T08:20:15.007Z"
   },
   {
    "duration": 16,
    "start_time": "2023-10-07T08:20:16.169Z"
   },
   {
    "duration": 5,
    "start_time": "2023-10-07T08:20:18.421Z"
   },
   {
    "duration": 14,
    "start_time": "2023-10-07T08:20:43.303Z"
   },
   {
    "duration": 1242,
    "start_time": "2023-10-07T08:21:10.506Z"
   },
   {
    "duration": 58,
    "start_time": "2023-10-07T08:21:11.750Z"
   },
   {
    "duration": 19,
    "start_time": "2023-10-07T08:21:11.810Z"
   },
   {
    "duration": 23,
    "start_time": "2023-10-07T08:21:11.830Z"
   },
   {
    "duration": 17,
    "start_time": "2023-10-07T08:21:11.856Z"
   },
   {
    "duration": 21,
    "start_time": "2023-10-07T08:21:11.874Z"
   },
   {
    "duration": 38,
    "start_time": "2023-10-07T08:21:11.897Z"
   },
   {
    "duration": 9,
    "start_time": "2023-10-07T08:21:11.937Z"
   },
   {
    "duration": 19,
    "start_time": "2023-10-07T08:21:11.947Z"
   },
   {
    "duration": 17,
    "start_time": "2023-10-07T08:21:11.967Z"
   },
   {
    "duration": 31,
    "start_time": "2023-10-07T08:21:11.985Z"
   },
   {
    "duration": 31,
    "start_time": "2023-10-07T08:21:12.018Z"
   },
   {
    "duration": 19,
    "start_time": "2023-10-07T08:21:12.051Z"
   },
   {
    "duration": 33,
    "start_time": "2023-10-07T08:21:12.072Z"
   },
   {
    "duration": 14,
    "start_time": "2023-10-07T08:21:23.254Z"
   },
   {
    "duration": 13,
    "start_time": "2023-10-07T08:21:34.967Z"
   },
   {
    "duration": 1157,
    "start_time": "2023-10-07T08:22:36.599Z"
   },
   {
    "duration": 56,
    "start_time": "2023-10-07T08:22:37.758Z"
   },
   {
    "duration": 19,
    "start_time": "2023-10-07T08:22:37.816Z"
   },
   {
    "duration": 18,
    "start_time": "2023-10-07T08:22:37.837Z"
   },
   {
    "duration": 15,
    "start_time": "2023-10-07T08:22:37.856Z"
   },
   {
    "duration": 6,
    "start_time": "2023-10-07T08:22:37.873Z"
   },
   {
    "duration": 21,
    "start_time": "2023-10-07T08:22:37.881Z"
   },
   {
    "duration": 6,
    "start_time": "2023-10-07T08:22:37.903Z"
   },
   {
    "duration": 56,
    "start_time": "2023-10-07T08:22:37.910Z"
   },
   {
    "duration": 15,
    "start_time": "2023-10-07T08:22:37.969Z"
   },
   {
    "duration": 11,
    "start_time": "2023-10-07T08:22:37.986Z"
   },
   {
    "duration": 17,
    "start_time": "2023-10-07T08:22:37.999Z"
   },
   {
    "duration": 38,
    "start_time": "2023-10-07T08:22:38.017Z"
   },
   {
    "duration": 6,
    "start_time": "2023-10-07T08:22:38.057Z"
   },
   {
    "duration": 6,
    "start_time": "2023-10-07T08:22:38.065Z"
   },
   {
    "duration": 7,
    "start_time": "2023-10-07T08:23:02.905Z"
   },
   {
    "duration": 1283,
    "start_time": "2023-10-07T08:23:08.984Z"
   },
   {
    "duration": 64,
    "start_time": "2023-10-07T08:23:10.269Z"
   },
   {
    "duration": 19,
    "start_time": "2023-10-07T08:23:10.335Z"
   },
   {
    "duration": 64,
    "start_time": "2023-10-07T08:23:10.355Z"
   },
   {
    "duration": 37,
    "start_time": "2023-10-07T08:23:10.421Z"
   },
   {
    "duration": 22,
    "start_time": "2023-10-07T08:23:10.459Z"
   },
   {
    "duration": 45,
    "start_time": "2023-10-07T08:23:10.483Z"
   },
   {
    "duration": 6,
    "start_time": "2023-10-07T08:23:10.530Z"
   },
   {
    "duration": 28,
    "start_time": "2023-10-07T08:23:10.538Z"
   },
   {
    "duration": 43,
    "start_time": "2023-10-07T08:23:10.568Z"
   },
   {
    "duration": 11,
    "start_time": "2023-10-07T08:23:10.612Z"
   },
   {
    "duration": 53,
    "start_time": "2023-10-07T08:23:10.625Z"
   },
   {
    "duration": 35,
    "start_time": "2023-10-07T08:23:10.680Z"
   },
   {
    "duration": 20,
    "start_time": "2023-10-07T08:23:10.718Z"
   },
   {
    "duration": 8,
    "start_time": "2023-10-07T08:23:10.740Z"
   },
   {
    "duration": 17,
    "start_time": "2023-10-07T08:23:10.750Z"
   },
   {
    "duration": 1274,
    "start_time": "2023-10-07T08:27:50.530Z"
   },
   {
    "duration": 58,
    "start_time": "2023-10-07T08:27:51.806Z"
   },
   {
    "duration": 20,
    "start_time": "2023-10-07T08:27:51.866Z"
   },
   {
    "duration": 23,
    "start_time": "2023-10-07T08:27:51.888Z"
   },
   {
    "duration": 15,
    "start_time": "2023-10-07T08:27:51.913Z"
   },
   {
    "duration": 21,
    "start_time": "2023-10-07T08:27:51.930Z"
   },
   {
    "duration": 35,
    "start_time": "2023-10-07T08:27:51.952Z"
   },
   {
    "duration": 30,
    "start_time": "2023-10-07T08:27:51.989Z"
   },
   {
    "duration": 33,
    "start_time": "2023-10-07T08:27:52.021Z"
   },
   {
    "duration": 30,
    "start_time": "2023-10-07T08:27:52.056Z"
   },
   {
    "duration": 49,
    "start_time": "2023-10-07T08:27:52.088Z"
   },
   {
    "duration": 25,
    "start_time": "2023-10-07T08:27:52.139Z"
   },
   {
    "duration": 40,
    "start_time": "2023-10-07T08:27:52.166Z"
   },
   {
    "duration": 28,
    "start_time": "2023-10-07T08:27:52.208Z"
   },
   {
    "duration": 24,
    "start_time": "2023-10-07T08:27:52.238Z"
   },
   {
    "duration": 53,
    "start_time": "2023-10-07T08:27:52.264Z"
   },
   {
    "duration": 47,
    "start_time": "2023-10-07T08:27:52.318Z"
   },
   {
    "duration": 1222,
    "start_time": "2023-10-07T08:29:36.151Z"
   },
   {
    "duration": 59,
    "start_time": "2023-10-07T08:29:37.376Z"
   },
   {
    "duration": 19,
    "start_time": "2023-10-07T08:29:37.437Z"
   },
   {
    "duration": 22,
    "start_time": "2023-10-07T08:29:37.457Z"
   },
   {
    "duration": 14,
    "start_time": "2023-10-07T08:29:37.481Z"
   },
   {
    "duration": 6,
    "start_time": "2023-10-07T08:29:37.497Z"
   },
   {
    "duration": 20,
    "start_time": "2023-10-07T08:29:37.504Z"
   },
   {
    "duration": 24,
    "start_time": "2023-10-07T08:29:37.526Z"
   },
   {
    "duration": 16,
    "start_time": "2023-10-07T08:29:37.551Z"
   },
   {
    "duration": 30,
    "start_time": "2023-10-07T08:29:37.569Z"
   },
   {
    "duration": 2,
    "start_time": "2023-10-07T08:29:37.601Z"
   },
   {
    "duration": 8,
    "start_time": "2023-10-07T08:29:37.605Z"
   },
   {
    "duration": 15,
    "start_time": "2023-10-07T08:29:37.615Z"
   },
   {
    "duration": 27,
    "start_time": "2023-10-07T08:29:37.632Z"
   },
   {
    "duration": 15,
    "start_time": "2023-10-07T08:29:37.661Z"
   },
   {
    "duration": 6,
    "start_time": "2023-10-07T08:29:37.677Z"
   },
   {
    "duration": 11,
    "start_time": "2023-10-07T08:29:37.684Z"
   },
   {
    "duration": 24,
    "start_time": "2023-10-07T08:31:04.152Z"
   },
   {
    "duration": 1219,
    "start_time": "2023-10-07T08:31:11.172Z"
   },
   {
    "duration": 57,
    "start_time": "2023-10-07T08:31:12.393Z"
   },
   {
    "duration": 18,
    "start_time": "2023-10-07T08:31:12.451Z"
   },
   {
    "duration": 31,
    "start_time": "2023-10-07T08:31:12.472Z"
   },
   {
    "duration": 20,
    "start_time": "2023-10-07T08:31:12.505Z"
   },
   {
    "duration": 8,
    "start_time": "2023-10-07T08:31:12.527Z"
   },
   {
    "duration": 26,
    "start_time": "2023-10-07T08:31:12.537Z"
   },
   {
    "duration": 20,
    "start_time": "2023-10-07T08:31:12.564Z"
   },
   {
    "duration": 27,
    "start_time": "2023-10-07T08:31:12.586Z"
   },
   {
    "duration": 30,
    "start_time": "2023-10-07T08:31:12.615Z"
   },
   {
    "duration": 2,
    "start_time": "2023-10-07T08:31:12.647Z"
   },
   {
    "duration": 26,
    "start_time": "2023-10-07T08:31:12.651Z"
   },
   {
    "duration": 39,
    "start_time": "2023-10-07T08:31:12.679Z"
   },
   {
    "duration": 15,
    "start_time": "2023-10-07T08:31:12.720Z"
   },
   {
    "duration": 27,
    "start_time": "2023-10-07T08:31:12.737Z"
   },
   {
    "duration": 7,
    "start_time": "2023-10-07T08:31:12.765Z"
   },
   {
    "duration": 15,
    "start_time": "2023-10-07T08:31:12.773Z"
   },
   {
    "duration": 1164,
    "start_time": "2023-10-07T08:31:57.500Z"
   },
   {
    "duration": 60,
    "start_time": "2023-10-07T08:31:58.666Z"
   },
   {
    "duration": 22,
    "start_time": "2023-10-07T08:31:58.728Z"
   },
   {
    "duration": 25,
    "start_time": "2023-10-07T08:31:58.752Z"
   },
   {
    "duration": 15,
    "start_time": "2023-10-07T08:31:58.780Z"
   },
   {
    "duration": 6,
    "start_time": "2023-10-07T08:31:58.797Z"
   },
   {
    "duration": 19,
    "start_time": "2023-10-07T08:31:58.805Z"
   },
   {
    "duration": 24,
    "start_time": "2023-10-07T08:31:58.826Z"
   },
   {
    "duration": 5,
    "start_time": "2023-10-07T08:31:58.851Z"
   },
   {
    "duration": 15,
    "start_time": "2023-10-07T08:31:58.858Z"
   },
   {
    "duration": 41,
    "start_time": "2023-10-07T08:31:58.874Z"
   },
   {
    "duration": 2,
    "start_time": "2023-10-07T08:31:58.917Z"
   },
   {
    "duration": 16,
    "start_time": "2023-10-07T08:31:58.921Z"
   },
   {
    "duration": 16,
    "start_time": "2023-10-07T08:31:58.939Z"
   },
   {
    "duration": 43,
    "start_time": "2023-10-07T08:31:58.956Z"
   },
   {
    "duration": 22,
    "start_time": "2023-10-07T08:31:59.000Z"
   },
   {
    "duration": 47,
    "start_time": "2023-10-07T08:31:59.024Z"
   },
   {
    "duration": 17,
    "start_time": "2023-10-07T08:31:59.073Z"
   },
   {
    "duration": 15,
    "start_time": "2023-10-07T08:44:23.334Z"
   },
   {
    "duration": 1170,
    "start_time": "2023-10-07T08:44:33.493Z"
   },
   {
    "duration": 57,
    "start_time": "2023-10-07T08:44:34.665Z"
   },
   {
    "duration": 18,
    "start_time": "2023-10-07T08:44:34.724Z"
   },
   {
    "duration": 18,
    "start_time": "2023-10-07T08:44:34.744Z"
   },
   {
    "duration": 14,
    "start_time": "2023-10-07T08:44:34.765Z"
   },
   {
    "duration": 9,
    "start_time": "2023-10-07T08:44:34.781Z"
   },
   {
    "duration": 21,
    "start_time": "2023-10-07T08:44:34.792Z"
   },
   {
    "duration": 6,
    "start_time": "2023-10-07T08:44:34.814Z"
   },
   {
    "duration": 26,
    "start_time": "2023-10-07T08:44:34.821Z"
   },
   {
    "duration": 10,
    "start_time": "2023-10-07T08:44:34.848Z"
   },
   {
    "duration": 131,
    "start_time": "2023-10-07T08:44:34.860Z"
   },
   {
    "duration": 0,
    "start_time": "2023-10-07T08:44:34.993Z"
   },
   {
    "duration": 0,
    "start_time": "2023-10-07T08:44:34.995Z"
   },
   {
    "duration": 0,
    "start_time": "2023-10-07T08:44:34.997Z"
   },
   {
    "duration": 0,
    "start_time": "2023-10-07T08:44:34.998Z"
   },
   {
    "duration": 0,
    "start_time": "2023-10-07T08:44:34.999Z"
   },
   {
    "duration": 0,
    "start_time": "2023-10-07T08:44:35.000Z"
   },
   {
    "duration": 0,
    "start_time": "2023-10-07T08:44:35.001Z"
   },
   {
    "duration": 33,
    "start_time": "2023-10-07T08:46:27.576Z"
   },
   {
    "duration": 16,
    "start_time": "2023-10-07T09:04:33.674Z"
   },
   {
    "duration": 4,
    "start_time": "2023-10-07T09:04:54.349Z"
   },
   {
    "duration": 16,
    "start_time": "2023-10-07T09:11:49.738Z"
   },
   {
    "duration": 1266,
    "start_time": "2023-10-07T09:12:07.002Z"
   },
   {
    "duration": 59,
    "start_time": "2023-10-07T09:12:08.270Z"
   },
   {
    "duration": 20,
    "start_time": "2023-10-07T09:12:08.331Z"
   },
   {
    "duration": 18,
    "start_time": "2023-10-07T09:12:08.354Z"
   },
   {
    "duration": 16,
    "start_time": "2023-10-07T09:12:08.374Z"
   },
   {
    "duration": 10,
    "start_time": "2023-10-07T09:12:08.392Z"
   },
   {
    "duration": 28,
    "start_time": "2023-10-07T09:12:08.404Z"
   },
   {
    "duration": 6,
    "start_time": "2023-10-07T09:12:08.447Z"
   },
   {
    "duration": 28,
    "start_time": "2023-10-07T09:12:08.454Z"
   },
   {
    "duration": 18,
    "start_time": "2023-10-07T09:12:08.485Z"
   },
   {
    "duration": 2,
    "start_time": "2023-10-07T09:12:08.505Z"
   },
   {
    "duration": 9,
    "start_time": "2023-10-07T09:12:08.509Z"
   },
   {
    "duration": 21,
    "start_time": "2023-10-07T09:12:08.520Z"
   },
   {
    "duration": 19,
    "start_time": "2023-10-07T09:12:08.542Z"
   },
   {
    "duration": 14,
    "start_time": "2023-10-07T09:12:08.563Z"
   },
   {
    "duration": 6,
    "start_time": "2023-10-07T09:12:08.578Z"
   },
   {
    "duration": 12,
    "start_time": "2023-10-07T09:12:08.585Z"
   },
   {
    "duration": 7,
    "start_time": "2023-10-07T09:14:56.754Z"
   },
   {
    "duration": 3,
    "start_time": "2023-10-07T09:14:58.160Z"
   },
   {
    "duration": 11,
    "start_time": "2023-10-07T09:14:58.778Z"
   },
   {
    "duration": 16,
    "start_time": "2023-10-07T09:17:56.182Z"
   },
   {
    "duration": 1739,
    "start_time": "2023-10-07T09:18:00.516Z"
   },
   {
    "duration": 101,
    "start_time": "2023-10-07T09:18:02.257Z"
   },
   {
    "duration": 326,
    "start_time": "2023-10-07T09:18:02.359Z"
   },
   {
    "duration": 554,
    "start_time": "2023-10-07T09:18:02.687Z"
   },
   {
    "duration": 186,
    "start_time": "2023-10-07T09:18:03.243Z"
   },
   {
    "duration": 71,
    "start_time": "2023-10-07T09:18:03.430Z"
   },
   {
    "duration": 38,
    "start_time": "2023-10-07T09:18:03.503Z"
   },
   {
    "duration": 35,
    "start_time": "2023-10-07T09:18:03.543Z"
   },
   {
    "duration": 42,
    "start_time": "2023-10-07T09:18:03.580Z"
   },
   {
    "duration": 24,
    "start_time": "2023-10-07T09:18:03.625Z"
   },
   {
    "duration": 12,
    "start_time": "2023-10-07T09:18:03.651Z"
   },
   {
    "duration": 25,
    "start_time": "2023-10-07T09:18:03.665Z"
   },
   {
    "duration": 208,
    "start_time": "2023-10-07T09:18:03.692Z"
   },
   {
    "duration": 65,
    "start_time": "2023-10-07T09:18:03.903Z"
   },
   {
    "duration": 23,
    "start_time": "2023-10-07T09:18:03.969Z"
   },
   {
    "duration": 62,
    "start_time": "2023-10-07T09:18:03.994Z"
   },
   {
    "duration": 78,
    "start_time": "2023-10-07T09:18:04.057Z"
   },
   {
    "duration": 10,
    "start_time": "2023-10-07T09:19:03.922Z"
   },
   {
    "duration": 1266,
    "start_time": "2023-10-07T09:19:07.550Z"
   },
   {
    "duration": 57,
    "start_time": "2023-10-07T09:19:08.818Z"
   },
   {
    "duration": 18,
    "start_time": "2023-10-07T09:19:08.876Z"
   },
   {
    "duration": 34,
    "start_time": "2023-10-07T09:19:08.896Z"
   },
   {
    "duration": 18,
    "start_time": "2023-10-07T09:19:08.932Z"
   },
   {
    "duration": 10,
    "start_time": "2023-10-07T09:19:08.952Z"
   },
   {
    "duration": 40,
    "start_time": "2023-10-07T09:19:08.964Z"
   },
   {
    "duration": 57,
    "start_time": "2023-10-07T09:19:09.006Z"
   },
   {
    "duration": 83,
    "start_time": "2023-10-07T09:19:09.065Z"
   },
   {
    "duration": 12,
    "start_time": "2023-10-07T09:19:09.151Z"
   },
   {
    "duration": 15,
    "start_time": "2023-10-07T09:19:09.164Z"
   },
   {
    "duration": 50,
    "start_time": "2023-10-07T09:19:09.181Z"
   },
   {
    "duration": 56,
    "start_time": "2023-10-07T09:19:09.233Z"
   },
   {
    "duration": 15,
    "start_time": "2023-10-07T09:19:09.291Z"
   },
   {
    "duration": 26,
    "start_time": "2023-10-07T09:19:09.307Z"
   },
   {
    "duration": 26,
    "start_time": "2023-10-07T09:19:09.335Z"
   },
   {
    "duration": 8,
    "start_time": "2023-10-07T09:19:57.813Z"
   },
   {
    "duration": 5,
    "start_time": "2023-10-07T09:22:19.745Z"
   },
   {
    "duration": 10,
    "start_time": "2023-10-07T09:22:46.749Z"
   },
   {
    "duration": 15,
    "start_time": "2023-10-07T09:28:21.343Z"
   },
   {
    "duration": 22,
    "start_time": "2023-10-07T09:28:27.273Z"
   },
   {
    "duration": 36,
    "start_time": "2023-10-07T09:33:03.570Z"
   },
   {
    "duration": 10,
    "start_time": "2023-10-07T09:35:23.454Z"
   },
   {
    "duration": 27,
    "start_time": "2023-10-07T09:35:33.093Z"
   },
   {
    "duration": 12,
    "start_time": "2023-10-07T09:35:56.045Z"
   },
   {
    "duration": 109,
    "start_time": "2023-10-07T09:36:04.125Z"
   },
   {
    "duration": 9,
    "start_time": "2023-10-07T09:36:06.967Z"
   },
   {
    "duration": 12,
    "start_time": "2023-10-07T09:36:16.077Z"
   },
   {
    "duration": 25,
    "start_time": "2023-10-07T09:36:46.011Z"
   },
   {
    "duration": 17,
    "start_time": "2023-10-07T09:38:44.449Z"
   },
   {
    "duration": 23,
    "start_time": "2023-10-07T09:39:42.995Z"
   },
   {
    "duration": 164,
    "start_time": "2023-10-07T09:51:40.523Z"
   },
   {
    "duration": 166,
    "start_time": "2023-10-07T09:59:57.126Z"
   },
   {
    "duration": 166,
    "start_time": "2023-10-07T10:00:04.011Z"
   },
   {
    "duration": 161,
    "start_time": "2023-10-07T10:00:20.993Z"
   },
   {
    "duration": 166,
    "start_time": "2023-10-07T10:00:41.575Z"
   },
   {
    "duration": 1259,
    "start_time": "2023-10-07T10:00:56.399Z"
   },
   {
    "duration": 59,
    "start_time": "2023-10-07T10:00:57.660Z"
   },
   {
    "duration": 18,
    "start_time": "2023-10-07T10:00:57.721Z"
   },
   {
    "duration": 22,
    "start_time": "2023-10-07T10:00:57.741Z"
   },
   {
    "duration": 16,
    "start_time": "2023-10-07T10:00:57.765Z"
   },
   {
    "duration": 25,
    "start_time": "2023-10-07T10:00:57.782Z"
   },
   {
    "duration": 35,
    "start_time": "2023-10-07T10:00:57.808Z"
   },
   {
    "duration": 31,
    "start_time": "2023-10-07T10:00:57.845Z"
   },
   {
    "duration": 45,
    "start_time": "2023-10-07T10:00:57.878Z"
   },
   {
    "duration": 9,
    "start_time": "2023-10-07T10:00:57.925Z"
   },
   {
    "duration": 65,
    "start_time": "2023-10-07T10:00:57.936Z"
   },
   {
    "duration": 8,
    "start_time": "2023-10-07T10:00:58.003Z"
   },
   {
    "duration": 16,
    "start_time": "2023-10-07T10:00:58.013Z"
   },
   {
    "duration": 15,
    "start_time": "2023-10-07T10:00:58.031Z"
   },
   {
    "duration": 33,
    "start_time": "2023-10-07T10:00:58.048Z"
   },
   {
    "duration": 35,
    "start_time": "2023-10-07T10:00:58.083Z"
   },
   {
    "duration": 207,
    "start_time": "2023-10-07T10:00:58.120Z"
   },
   {
    "duration": 284,
    "start_time": "2023-10-07T10:00:58.329Z"
   },
   {
    "duration": 165,
    "start_time": "2023-10-07T10:04:12.860Z"
   },
   {
    "duration": 166,
    "start_time": "2023-10-07T10:04:21.824Z"
   },
   {
    "duration": 1224,
    "start_time": "2023-10-07T10:04:29.682Z"
   },
   {
    "duration": 60,
    "start_time": "2023-10-07T10:04:30.908Z"
   },
   {
    "duration": 19,
    "start_time": "2023-10-07T10:04:30.970Z"
   },
   {
    "duration": 102,
    "start_time": "2023-10-07T10:04:30.991Z"
   },
   {
    "duration": 42,
    "start_time": "2023-10-07T10:04:31.096Z"
   },
   {
    "duration": 29,
    "start_time": "2023-10-07T10:04:31.140Z"
   },
   {
    "duration": 55,
    "start_time": "2023-10-07T10:04:31.171Z"
   },
   {
    "duration": 28,
    "start_time": "2023-10-07T10:04:31.228Z"
   },
   {
    "duration": 83,
    "start_time": "2023-10-07T10:04:31.258Z"
   },
   {
    "duration": 23,
    "start_time": "2023-10-07T10:04:31.343Z"
   },
   {
    "duration": 41,
    "start_time": "2023-10-07T10:04:31.368Z"
   },
   {
    "duration": 21,
    "start_time": "2023-10-07T10:04:31.410Z"
   },
   {
    "duration": 64,
    "start_time": "2023-10-07T10:04:31.433Z"
   },
   {
    "duration": 52,
    "start_time": "2023-10-07T10:04:31.500Z"
   },
   {
    "duration": 42,
    "start_time": "2023-10-07T10:04:31.554Z"
   },
   {
    "duration": 36,
    "start_time": "2023-10-07T10:04:31.597Z"
   },
   {
    "duration": 183,
    "start_time": "2023-10-07T10:04:31.635Z"
   },
   {
    "duration": 298,
    "start_time": "2023-10-07T10:04:31.820Z"
   },
   {
    "duration": 181,
    "start_time": "2023-10-07T10:05:04.052Z"
   },
   {
    "duration": 166,
    "start_time": "2023-10-07T10:05:43.936Z"
   },
   {
    "duration": 187,
    "start_time": "2023-10-07T10:05:50.307Z"
   },
   {
    "duration": 185,
    "start_time": "2023-10-07T10:06:00.934Z"
   },
   {
    "duration": 181,
    "start_time": "2023-10-07T10:06:33.024Z"
   },
   {
    "duration": 172,
    "start_time": "2023-10-07T10:07:12.630Z"
   },
   {
    "duration": 9,
    "start_time": "2023-10-07T10:07:54.522Z"
   },
   {
    "duration": 12,
    "start_time": "2023-10-07T10:08:19.068Z"
   },
   {
    "duration": 1365,
    "start_time": "2023-10-07T10:09:05.546Z"
   },
   {
    "duration": 70,
    "start_time": "2023-10-07T10:09:06.913Z"
   },
   {
    "duration": 18,
    "start_time": "2023-10-07T10:09:06.985Z"
   },
   {
    "duration": 35,
    "start_time": "2023-10-07T10:09:07.005Z"
   },
   {
    "duration": 15,
    "start_time": "2023-10-07T10:09:07.042Z"
   },
   {
    "duration": 24,
    "start_time": "2023-10-07T10:09:07.058Z"
   },
   {
    "duration": 60,
    "start_time": "2023-10-07T10:09:07.084Z"
   },
   {
    "duration": 5,
    "start_time": "2023-10-07T10:09:07.146Z"
   },
   {
    "duration": 39,
    "start_time": "2023-10-07T10:09:07.153Z"
   },
   {
    "duration": 9,
    "start_time": "2023-10-07T10:09:07.194Z"
   },
   {
    "duration": 36,
    "start_time": "2023-10-07T10:09:07.205Z"
   },
   {
    "duration": 35,
    "start_time": "2023-10-07T10:09:07.243Z"
   },
   {
    "duration": 36,
    "start_time": "2023-10-07T10:09:07.280Z"
   },
   {
    "duration": 11,
    "start_time": "2023-10-07T10:09:07.318Z"
   },
   {
    "duration": 16,
    "start_time": "2023-10-07T10:09:07.331Z"
   },
   {
    "duration": 28,
    "start_time": "2023-10-07T10:09:07.349Z"
   },
   {
    "duration": 235,
    "start_time": "2023-10-07T10:09:07.379Z"
   },
   {
    "duration": 167,
    "start_time": "2023-10-07T10:09:07.616Z"
   },
   {
    "duration": 168,
    "start_time": "2023-10-07T10:09:43.483Z"
   },
   {
    "duration": 173,
    "start_time": "2023-10-07T10:10:10.989Z"
   },
   {
    "duration": 165,
    "start_time": "2023-10-07T10:10:26.330Z"
   },
   {
    "duration": 172,
    "start_time": "2023-10-07T10:10:29.076Z"
   },
   {
    "duration": 54,
    "start_time": "2023-10-07T10:28:06.015Z"
   },
   {
    "duration": 110,
    "start_time": "2023-10-07T10:28:38.773Z"
   },
   {
    "duration": 42,
    "start_time": "2023-10-07T10:28:43.928Z"
   },
   {
    "duration": 46,
    "start_time": "2023-10-07T10:31:44.282Z"
   },
   {
    "duration": 42,
    "start_time": "2023-10-07T10:31:54.635Z"
   },
   {
    "duration": 40,
    "start_time": "2023-10-07T10:37:55.486Z"
   },
   {
    "duration": 43,
    "start_time": "2023-10-07T10:38:05.681Z"
   },
   {
    "duration": 34,
    "start_time": "2023-10-07T10:38:13.794Z"
   },
   {
    "duration": 31,
    "start_time": "2023-10-07T10:38:23.692Z"
   },
   {
    "duration": 34,
    "start_time": "2023-10-07T10:38:28.149Z"
   },
   {
    "duration": 40,
    "start_time": "2023-10-07T10:38:31.523Z"
   },
   {
    "duration": 13,
    "start_time": "2023-10-07T10:41:50.196Z"
   },
   {
    "duration": 13,
    "start_time": "2023-10-07T10:42:47.576Z"
   },
   {
    "duration": 12,
    "start_time": "2023-10-07T10:42:57.859Z"
   },
   {
    "duration": 14,
    "start_time": "2023-10-07T10:51:27.743Z"
   },
   {
    "duration": 41,
    "start_time": "2023-10-07T10:52:50.254Z"
   },
   {
    "duration": 10,
    "start_time": "2023-10-07T10:54:28.281Z"
   },
   {
    "duration": 12,
    "start_time": "2023-10-07T10:54:34.930Z"
   },
   {
    "duration": 13,
    "start_time": "2023-10-07T10:54:47.848Z"
   },
   {
    "duration": 12,
    "start_time": "2023-10-07T10:54:51.852Z"
   },
   {
    "duration": 12,
    "start_time": "2023-10-07T10:56:47.241Z"
   },
   {
    "duration": 12,
    "start_time": "2023-10-07T10:57:32.725Z"
   },
   {
    "duration": 1367,
    "start_time": "2023-10-07T10:59:09.707Z"
   },
   {
    "duration": 6,
    "start_time": "2023-10-07T10:59:19.086Z"
   },
   {
    "duration": 12,
    "start_time": "2023-10-07T11:01:28.008Z"
   },
   {
    "duration": 11,
    "start_time": "2023-10-07T11:05:27.683Z"
   },
   {
    "duration": 41,
    "start_time": "2023-10-07T11:05:33.378Z"
   },
   {
    "duration": 14,
    "start_time": "2023-10-07T11:06:28.559Z"
   },
   {
    "duration": 12,
    "start_time": "2023-10-07T11:08:25.733Z"
   },
   {
    "duration": 9,
    "start_time": "2023-10-07T11:08:33.995Z"
   },
   {
    "duration": 10,
    "start_time": "2023-10-07T11:08:40.782Z"
   },
   {
    "duration": 16,
    "start_time": "2023-10-07T11:10:51.623Z"
   },
   {
    "duration": 18,
    "start_time": "2023-10-07T11:11:02.469Z"
   },
   {
    "duration": 4,
    "start_time": "2023-10-07T11:11:04.811Z"
   },
   {
    "duration": 3,
    "start_time": "2023-10-07T11:11:45.858Z"
   },
   {
    "duration": 4,
    "start_time": "2023-10-07T11:11:54.877Z"
   },
   {
    "duration": 22,
    "start_time": "2023-10-07T11:15:50.882Z"
   },
   {
    "duration": 20,
    "start_time": "2023-10-07T11:16:00.170Z"
   },
   {
    "duration": 43,
    "start_time": "2023-10-07T11:17:40.379Z"
   },
   {
    "duration": 38,
    "start_time": "2023-10-07T11:18:12.490Z"
   },
   {
    "duration": 1259,
    "start_time": "2023-10-07T11:18:20.090Z"
   },
   {
    "duration": 59,
    "start_time": "2023-10-07T11:18:21.351Z"
   },
   {
    "duration": 141,
    "start_time": "2023-10-07T11:18:21.412Z"
   },
   {
    "duration": 37,
    "start_time": "2023-10-07T11:18:21.555Z"
   },
   {
    "duration": 72,
    "start_time": "2023-10-07T11:18:21.594Z"
   },
   {
    "duration": 9,
    "start_time": "2023-10-07T11:18:21.667Z"
   },
   {
    "duration": 36,
    "start_time": "2023-10-07T11:18:21.678Z"
   },
   {
    "duration": 13,
    "start_time": "2023-10-07T11:18:21.716Z"
   },
   {
    "duration": 55,
    "start_time": "2023-10-07T11:18:21.731Z"
   },
   {
    "duration": 26,
    "start_time": "2023-10-07T11:18:21.790Z"
   },
   {
    "duration": 21,
    "start_time": "2023-10-07T11:18:21.818Z"
   },
   {
    "duration": 9,
    "start_time": "2023-10-07T11:18:21.841Z"
   },
   {
    "duration": 10,
    "start_time": "2023-10-07T11:18:21.852Z"
   },
   {
    "duration": 30,
    "start_time": "2023-10-07T11:18:21.863Z"
   },
   {
    "duration": 27,
    "start_time": "2023-10-07T11:18:21.895Z"
   },
   {
    "duration": 54,
    "start_time": "2023-10-07T11:18:21.924Z"
   },
   {
    "duration": 202,
    "start_time": "2023-10-07T11:18:21.979Z"
   },
   {
    "duration": 184,
    "start_time": "2023-10-07T11:18:22.183Z"
   },
   {
    "duration": 16,
    "start_time": "2023-10-07T11:18:22.369Z"
   },
   {
    "duration": 21,
    "start_time": "2023-10-07T11:18:22.386Z"
   },
   {
    "duration": 61,
    "start_time": "2023-10-07T11:18:22.409Z"
   },
   {
    "duration": 140,
    "start_time": "2023-10-07T11:22:13.427Z"
   },
   {
    "duration": 35,
    "start_time": "2023-10-07T11:22:21.257Z"
   },
   {
    "duration": 188,
    "start_time": "2023-10-07T11:29:22.913Z"
   },
   {
    "duration": 253,
    "start_time": "2023-10-07T11:30:09.779Z"
   },
   {
    "duration": 221,
    "start_time": "2023-10-07T11:30:16.216Z"
   },
   {
    "duration": 143,
    "start_time": "2023-10-07T11:31:03.604Z"
   },
   {
    "duration": 216,
    "start_time": "2023-10-07T11:31:16.441Z"
   },
   {
    "duration": 8,
    "start_time": "2023-10-07T11:32:40.474Z"
   },
   {
    "duration": 9,
    "start_time": "2023-10-07T11:32:52.468Z"
   },
   {
    "duration": 6,
    "start_time": "2023-10-07T11:32:56.526Z"
   },
   {
    "duration": 8,
    "start_time": "2023-10-07T11:32:58.773Z"
   },
   {
    "duration": 1313,
    "start_time": "2023-10-07T11:39:52.318Z"
   },
   {
    "duration": 59,
    "start_time": "2023-10-07T11:39:53.634Z"
   },
   {
    "duration": 33,
    "start_time": "2023-10-07T11:39:53.694Z"
   },
   {
    "duration": 42,
    "start_time": "2023-10-07T11:39:53.730Z"
   },
   {
    "duration": 31,
    "start_time": "2023-10-07T11:39:53.774Z"
   },
   {
    "duration": 54,
    "start_time": "2023-10-07T11:39:53.808Z"
   },
   {
    "duration": 49,
    "start_time": "2023-10-07T11:39:53.864Z"
   },
   {
    "duration": 88,
    "start_time": "2023-10-07T11:39:53.915Z"
   },
   {
    "duration": 39,
    "start_time": "2023-10-07T11:39:54.005Z"
   },
   {
    "duration": 83,
    "start_time": "2023-10-07T11:39:54.047Z"
   },
   {
    "duration": 107,
    "start_time": "2023-10-07T11:39:54.132Z"
   },
   {
    "duration": 81,
    "start_time": "2023-10-07T11:39:54.241Z"
   },
   {
    "duration": 37,
    "start_time": "2023-10-07T11:39:54.324Z"
   },
   {
    "duration": 239,
    "start_time": "2023-10-07T11:39:54.363Z"
   },
   {
    "duration": 44,
    "start_time": "2023-10-07T11:39:54.604Z"
   },
   {
    "duration": 112,
    "start_time": "2023-10-07T11:39:54.650Z"
   },
   {
    "duration": 354,
    "start_time": "2023-10-07T11:39:54.764Z"
   },
   {
    "duration": 191,
    "start_time": "2023-10-07T11:39:55.119Z"
   },
   {
    "duration": 32,
    "start_time": "2023-10-07T11:39:55.313Z"
   },
   {
    "duration": 27,
    "start_time": "2023-10-07T11:39:55.347Z"
   },
   {
    "duration": 57,
    "start_time": "2023-10-07T11:39:55.376Z"
   },
   {
    "duration": 261,
    "start_time": "2023-10-07T11:39:55.435Z"
   },
   {
    "duration": 11,
    "start_time": "2023-10-07T11:39:55.698Z"
   },
   {
    "duration": 117,
    "start_time": "2023-10-07T11:42:13.039Z"
   },
   {
    "duration": 51,
    "start_time": "2023-10-07T11:42:46.152Z"
   },
   {
    "duration": 54,
    "start_time": "2023-10-07T11:43:32.976Z"
   },
   {
    "duration": 16,
    "start_time": "2023-10-07T11:44:13.677Z"
   },
   {
    "duration": 167,
    "start_time": "2023-10-07T11:44:34.726Z"
   },
   {
    "duration": 20,
    "start_time": "2023-10-07T11:44:55.340Z"
   },
   {
    "duration": 37,
    "start_time": "2023-10-07T11:45:15.018Z"
   },
   {
    "duration": 65,
    "start_time": "2023-10-07T11:45:43.445Z"
   },
   {
    "duration": 61,
    "start_time": "2023-10-07T11:46:08.320Z"
   },
   {
    "duration": 41,
    "start_time": "2023-10-07T11:46:31.799Z"
   },
   {
    "duration": 53,
    "start_time": "2023-10-07T11:46:47.027Z"
   },
   {
    "duration": 47,
    "start_time": "2023-10-07T11:46:58.494Z"
   },
   {
    "duration": 51,
    "start_time": "2023-10-07T11:47:10.940Z"
   },
   {
    "duration": 43,
    "start_time": "2023-10-07T11:48:23.590Z"
   },
   {
    "duration": 38,
    "start_time": "2023-10-07T11:50:11.045Z"
   },
   {
    "duration": 44,
    "start_time": "2023-10-07T11:50:54.694Z"
   },
   {
    "duration": 6,
    "start_time": "2023-10-07T11:56:21.855Z"
   },
   {
    "duration": 11,
    "start_time": "2023-10-07T11:56:31.195Z"
   },
   {
    "duration": 8,
    "start_time": "2023-10-07T11:56:59.434Z"
   },
   {
    "duration": 6,
    "start_time": "2023-10-07T11:57:02.559Z"
   },
   {
    "duration": 8,
    "start_time": "2023-10-07T11:57:20.275Z"
   },
   {
    "duration": 8,
    "start_time": "2023-10-07T11:57:33.914Z"
   },
   {
    "duration": 7,
    "start_time": "2023-10-07T11:57:42.004Z"
   },
   {
    "duration": 8,
    "start_time": "2023-10-07T11:58:01.370Z"
   },
   {
    "duration": 7,
    "start_time": "2023-10-07T11:58:08.592Z"
   },
   {
    "duration": 5,
    "start_time": "2023-10-07T11:58:13.429Z"
   },
   {
    "duration": 1227,
    "start_time": "2023-10-07T11:58:40.024Z"
   },
   {
    "duration": 58,
    "start_time": "2023-10-07T11:58:41.253Z"
   },
   {
    "duration": 19,
    "start_time": "2023-10-07T11:58:41.312Z"
   },
   {
    "duration": 15,
    "start_time": "2023-10-07T11:58:41.333Z"
   },
   {
    "duration": 1407,
    "start_time": "2023-10-07T11:58:41.350Z"
   },
   {
    "duration": 0,
    "start_time": "2023-10-07T11:58:42.759Z"
   },
   {
    "duration": 0,
    "start_time": "2023-10-07T11:58:42.761Z"
   },
   {
    "duration": 0,
    "start_time": "2023-10-07T11:58:42.762Z"
   },
   {
    "duration": 0,
    "start_time": "2023-10-07T11:58:42.763Z"
   },
   {
    "duration": 0,
    "start_time": "2023-10-07T11:58:42.765Z"
   },
   {
    "duration": 0,
    "start_time": "2023-10-07T11:58:42.766Z"
   },
   {
    "duration": 0,
    "start_time": "2023-10-07T11:58:42.767Z"
   },
   {
    "duration": 0,
    "start_time": "2023-10-07T11:58:42.769Z"
   },
   {
    "duration": 0,
    "start_time": "2023-10-07T11:58:42.770Z"
   },
   {
    "duration": 0,
    "start_time": "2023-10-07T11:58:42.772Z"
   },
   {
    "duration": 0,
    "start_time": "2023-10-07T11:58:42.773Z"
   },
   {
    "duration": 0,
    "start_time": "2023-10-07T11:58:42.774Z"
   },
   {
    "duration": 0,
    "start_time": "2023-10-07T11:58:42.775Z"
   },
   {
    "duration": 0,
    "start_time": "2023-10-07T11:58:42.777Z"
   },
   {
    "duration": 0,
    "start_time": "2023-10-07T11:58:42.778Z"
   },
   {
    "duration": 0,
    "start_time": "2023-10-07T11:58:42.779Z"
   },
   {
    "duration": 0,
    "start_time": "2023-10-07T11:58:42.781Z"
   },
   {
    "duration": 0,
    "start_time": "2023-10-07T11:58:42.782Z"
   },
   {
    "duration": 0,
    "start_time": "2023-10-07T11:58:42.783Z"
   },
   {
    "duration": 0,
    "start_time": "2023-10-07T11:58:42.784Z"
   },
   {
    "duration": 0,
    "start_time": "2023-10-07T11:58:42.785Z"
   },
   {
    "duration": 0,
    "start_time": "2023-10-07T11:58:42.787Z"
   },
   {
    "duration": 0,
    "start_time": "2023-10-07T11:58:42.788Z"
   },
   {
    "duration": 0,
    "start_time": "2023-10-07T11:58:42.789Z"
   },
   {
    "duration": 0,
    "start_time": "2023-10-07T11:58:42.790Z"
   },
   {
    "duration": 7,
    "start_time": "2023-10-07T11:58:59.856Z"
   },
   {
    "duration": 8,
    "start_time": "2023-10-07T11:59:03.569Z"
   },
   {
    "duration": 7,
    "start_time": "2023-10-07T11:59:11.749Z"
   },
   {
    "duration": 8,
    "start_time": "2023-10-07T11:59:14.612Z"
   },
   {
    "duration": 6,
    "start_time": "2023-10-07T11:59:17.122Z"
   },
   {
    "duration": 7,
    "start_time": "2023-10-07T11:59:19.990Z"
   },
   {
    "duration": 79,
    "start_time": "2023-10-07T12:02:00.962Z"
   },
   {
    "duration": 1314,
    "start_time": "2023-10-07T12:14:41.437Z"
   },
   {
    "duration": 61,
    "start_time": "2023-10-07T12:14:42.753Z"
   },
   {
    "duration": 19,
    "start_time": "2023-10-07T12:14:42.816Z"
   },
   {
    "duration": 17,
    "start_time": "2023-10-07T12:14:42.838Z"
   },
   {
    "duration": 6,
    "start_time": "2023-10-07T12:14:42.857Z"
   },
   {
    "duration": 11,
    "start_time": "2023-10-07T12:14:42.865Z"
   },
   {
    "duration": 13,
    "start_time": "2023-10-07T12:14:42.878Z"
   },
   {
    "duration": 16,
    "start_time": "2023-10-07T12:14:42.892Z"
   },
   {
    "duration": 6,
    "start_time": "2023-10-07T12:14:42.910Z"
   },
   {
    "duration": 29,
    "start_time": "2023-10-07T12:14:42.919Z"
   },
   {
    "duration": 16,
    "start_time": "2023-10-07T12:14:42.950Z"
   },
   {
    "duration": 6,
    "start_time": "2023-10-07T12:14:42.968Z"
   },
   {
    "duration": 29,
    "start_time": "2023-10-07T12:14:42.975Z"
   },
   {
    "duration": 6,
    "start_time": "2023-10-07T12:14:43.007Z"
   },
   {
    "duration": 44,
    "start_time": "2023-10-07T12:14:43.015Z"
   },
   {
    "duration": 10,
    "start_time": "2023-10-07T12:14:43.062Z"
   },
   {
    "duration": 20,
    "start_time": "2023-10-07T12:14:43.075Z"
   },
   {
    "duration": 9,
    "start_time": "2023-10-07T12:14:43.098Z"
   },
   {
    "duration": 42,
    "start_time": "2023-10-07T12:14:43.109Z"
   },
   {
    "duration": 17,
    "start_time": "2023-10-07T12:14:43.153Z"
   },
   {
    "duration": 16,
    "start_time": "2023-10-07T12:14:43.172Z"
   },
   {
    "duration": 26,
    "start_time": "2023-10-07T12:14:43.190Z"
   },
   {
    "duration": 209,
    "start_time": "2023-10-07T12:14:43.218Z"
   },
   {
    "duration": 180,
    "start_time": "2023-10-07T12:14:43.429Z"
   },
   {
    "duration": 16,
    "start_time": "2023-10-07T12:14:43.611Z"
   },
   {
    "duration": 20,
    "start_time": "2023-10-07T12:14:43.628Z"
   },
   {
    "duration": 57,
    "start_time": "2023-10-07T12:14:43.649Z"
   },
   {
    "duration": 44,
    "start_time": "2023-10-07T12:14:43.709Z"
   },
   {
    "duration": 221,
    "start_time": "2023-10-07T12:14:43.755Z"
   },
   {
    "duration": 9,
    "start_time": "2023-10-07T12:14:43.978Z"
   },
   {
    "duration": 214,
    "start_time": "2023-10-07T12:18:55.409Z"
   },
   {
    "duration": 122,
    "start_time": "2023-10-07T12:19:15.151Z"
   },
   {
    "duration": 174,
    "start_time": "2023-10-07T12:19:17.369Z"
   },
   {
    "duration": 166,
    "start_time": "2023-10-07T12:19:39.710Z"
   },
   {
    "duration": 237,
    "start_time": "2023-10-07T12:20:01.248Z"
   },
   {
    "duration": 207,
    "start_time": "2023-10-07T12:20:12.560Z"
   },
   {
    "duration": 294,
    "start_time": "2023-10-07T12:22:50.625Z"
   },
   {
    "duration": 1362,
    "start_time": "2023-10-07T12:23:25.253Z"
   },
   {
    "duration": 1332,
    "start_time": "2023-10-07T12:23:34.551Z"
   },
   {
    "duration": 61,
    "start_time": "2023-10-07T12:23:35.886Z"
   },
   {
    "duration": 21,
    "start_time": "2023-10-07T12:23:35.949Z"
   },
   {
    "duration": 42,
    "start_time": "2023-10-07T12:23:35.973Z"
   },
   {
    "duration": 26,
    "start_time": "2023-10-07T12:23:36.017Z"
   },
   {
    "duration": 29,
    "start_time": "2023-10-07T12:23:36.045Z"
   },
   {
    "duration": 24,
    "start_time": "2023-10-07T12:23:36.076Z"
   },
   {
    "duration": 33,
    "start_time": "2023-10-07T12:23:36.101Z"
   },
   {
    "duration": 19,
    "start_time": "2023-10-07T12:23:36.135Z"
   },
   {
    "duration": 23,
    "start_time": "2023-10-07T12:23:36.156Z"
   },
   {
    "duration": 34,
    "start_time": "2023-10-07T12:23:36.181Z"
   },
   {
    "duration": 34,
    "start_time": "2023-10-07T12:23:36.217Z"
   },
   {
    "duration": 28,
    "start_time": "2023-10-07T12:23:36.253Z"
   },
   {
    "duration": 41,
    "start_time": "2023-10-07T12:23:36.285Z"
   },
   {
    "duration": 8,
    "start_time": "2023-10-07T12:23:36.329Z"
   },
   {
    "duration": 85,
    "start_time": "2023-10-07T12:23:36.339Z"
   },
   {
    "duration": 16,
    "start_time": "2023-10-07T12:23:36.427Z"
   },
   {
    "duration": 61,
    "start_time": "2023-10-07T12:23:36.444Z"
   },
   {
    "duration": 16,
    "start_time": "2023-10-07T12:23:36.507Z"
   },
   {
    "duration": 14,
    "start_time": "2023-10-07T12:23:36.525Z"
   },
   {
    "duration": 65,
    "start_time": "2023-10-07T12:23:36.541Z"
   },
   {
    "duration": 36,
    "start_time": "2023-10-07T12:23:36.608Z"
   },
   {
    "duration": 34,
    "start_time": "2023-10-07T12:23:36.647Z"
   },
   {
    "duration": 198,
    "start_time": "2023-10-07T12:23:36.683Z"
   },
   {
    "duration": 188,
    "start_time": "2023-10-07T12:23:36.883Z"
   },
   {
    "duration": 18,
    "start_time": "2023-10-07T12:23:37.073Z"
   },
   {
    "duration": 11,
    "start_time": "2023-10-07T12:23:37.093Z"
   },
   {
    "duration": 60,
    "start_time": "2023-10-07T12:23:37.106Z"
   },
   {
    "duration": 46,
    "start_time": "2023-10-07T12:23:37.168Z"
   },
   {
    "duration": 361,
    "start_time": "2023-10-07T12:23:37.216Z"
   },
   {
    "duration": 9,
    "start_time": "2023-10-07T12:23:37.579Z"
   },
   {
    "duration": 1849,
    "start_time": "2023-10-07T12:26:28.825Z"
   },
   {
    "duration": 1276,
    "start_time": "2023-10-07T12:27:27.116Z"
   },
   {
    "duration": 67,
    "start_time": "2023-10-07T12:27:28.394Z"
   },
   {
    "duration": 19,
    "start_time": "2023-10-07T12:27:28.463Z"
   },
   {
    "duration": 19,
    "start_time": "2023-10-07T12:27:28.484Z"
   },
   {
    "duration": 6,
    "start_time": "2023-10-07T12:27:28.505Z"
   },
   {
    "duration": 22,
    "start_time": "2023-10-07T12:27:28.513Z"
   },
   {
    "duration": 17,
    "start_time": "2023-10-07T12:27:28.546Z"
   },
   {
    "duration": 16,
    "start_time": "2023-10-07T12:27:28.565Z"
   },
   {
    "duration": 14,
    "start_time": "2023-10-07T12:27:28.583Z"
   },
   {
    "duration": 15,
    "start_time": "2023-10-07T12:27:28.598Z"
   },
   {
    "duration": 35,
    "start_time": "2023-10-07T12:27:28.614Z"
   },
   {
    "duration": 18,
    "start_time": "2023-10-07T12:27:28.651Z"
   },
   {
    "duration": 49,
    "start_time": "2023-10-07T12:27:28.671Z"
   },
   {
    "duration": 8,
    "start_time": "2023-10-07T12:27:28.724Z"
   },
   {
    "duration": 58,
    "start_time": "2023-10-07T12:27:28.733Z"
   },
   {
    "duration": 14,
    "start_time": "2023-10-07T12:27:28.793Z"
   },
   {
    "duration": 33,
    "start_time": "2023-10-07T12:27:28.809Z"
   },
   {
    "duration": 18,
    "start_time": "2023-10-07T12:27:28.844Z"
   },
   {
    "duration": 44,
    "start_time": "2023-10-07T12:27:28.864Z"
   },
   {
    "duration": 41,
    "start_time": "2023-10-07T12:27:28.909Z"
   },
   {
    "duration": 28,
    "start_time": "2023-10-07T12:27:28.952Z"
   },
   {
    "duration": 54,
    "start_time": "2023-10-07T12:27:28.982Z"
   },
   {
    "duration": 199,
    "start_time": "2023-10-07T12:27:29.038Z"
   },
   {
    "duration": 191,
    "start_time": "2023-10-07T12:27:29.239Z"
   },
   {
    "duration": 21,
    "start_time": "2023-10-07T12:27:29.432Z"
   },
   {
    "duration": 9,
    "start_time": "2023-10-07T12:27:29.455Z"
   },
   {
    "duration": 50,
    "start_time": "2023-10-07T12:27:29.466Z"
   },
   {
    "duration": 51,
    "start_time": "2023-10-07T12:27:29.517Z"
   },
   {
    "duration": 233,
    "start_time": "2023-10-07T12:27:29.570Z"
   },
   {
    "duration": 8,
    "start_time": "2023-10-07T12:27:29.805Z"
   },
   {
    "duration": 1618,
    "start_time": "2023-10-07T12:33:35.880Z"
   },
   {
    "duration": 1245,
    "start_time": "2023-10-07T12:33:42.601Z"
   },
   {
    "duration": 58,
    "start_time": "2023-10-07T12:33:43.849Z"
   },
   {
    "duration": 20,
    "start_time": "2023-10-07T12:33:43.909Z"
   },
   {
    "duration": 15,
    "start_time": "2023-10-07T12:33:43.931Z"
   },
   {
    "duration": 25,
    "start_time": "2023-10-07T12:33:43.948Z"
   },
   {
    "duration": 11,
    "start_time": "2023-10-07T12:33:43.975Z"
   },
   {
    "duration": 8,
    "start_time": "2023-10-07T12:33:43.988Z"
   },
   {
    "duration": 16,
    "start_time": "2023-10-07T12:33:43.997Z"
   },
   {
    "duration": 13,
    "start_time": "2023-10-07T12:33:44.014Z"
   },
   {
    "duration": 13,
    "start_time": "2023-10-07T12:33:44.029Z"
   },
   {
    "duration": 21,
    "start_time": "2023-10-07T12:33:44.043Z"
   },
   {
    "duration": 5,
    "start_time": "2023-10-07T12:33:44.066Z"
   },
   {
    "duration": 24,
    "start_time": "2023-10-07T12:33:44.073Z"
   },
   {
    "duration": 6,
    "start_time": "2023-10-07T12:33:44.101Z"
   },
   {
    "duration": 42,
    "start_time": "2023-10-07T12:33:44.109Z"
   },
   {
    "duration": 12,
    "start_time": "2023-10-07T12:33:44.153Z"
   },
   {
    "duration": 27,
    "start_time": "2023-10-07T12:33:44.167Z"
   },
   {
    "duration": 8,
    "start_time": "2023-10-07T12:33:44.195Z"
   },
   {
    "duration": 52,
    "start_time": "2023-10-07T12:33:44.205Z"
   },
   {
    "duration": 21,
    "start_time": "2023-10-07T12:33:44.259Z"
   },
   {
    "duration": 14,
    "start_time": "2023-10-07T12:33:44.282Z"
   },
   {
    "duration": 24,
    "start_time": "2023-10-07T12:33:44.297Z"
   },
   {
    "duration": 220,
    "start_time": "2023-10-07T12:33:44.322Z"
   },
   {
    "duration": 186,
    "start_time": "2023-10-07T12:33:44.544Z"
   },
   {
    "duration": 26,
    "start_time": "2023-10-07T12:33:44.731Z"
   },
   {
    "duration": 4,
    "start_time": "2023-10-07T12:33:44.759Z"
   },
   {
    "duration": 49,
    "start_time": "2023-10-07T12:33:44.764Z"
   },
   {
    "duration": 56,
    "start_time": "2023-10-07T12:33:44.815Z"
   },
   {
    "duration": 223,
    "start_time": "2023-10-07T12:33:44.872Z"
   },
   {
    "duration": 8,
    "start_time": "2023-10-07T12:33:45.097Z"
   },
   {
    "duration": 189,
    "start_time": "2023-10-07T12:41:02.387Z"
   },
   {
    "duration": 170,
    "start_time": "2023-10-07T12:41:07.597Z"
   },
   {
    "duration": 214,
    "start_time": "2023-10-07T12:41:57.643Z"
   },
   {
    "duration": 42,
    "start_time": "2023-10-07T12:46:28.744Z"
   },
   {
    "duration": 291,
    "start_time": "2023-10-07T13:17:04.639Z"
   },
   {
    "duration": 247,
    "start_time": "2023-10-07T13:17:16.195Z"
   },
   {
    "duration": 262,
    "start_time": "2023-10-07T13:17:23.161Z"
   },
   {
    "duration": 376,
    "start_time": "2023-10-07T13:17:54.183Z"
   },
   {
    "duration": 316,
    "start_time": "2023-10-07T13:18:20.933Z"
   },
   {
    "duration": 248,
    "start_time": "2023-10-07T13:43:05.630Z"
   },
   {
    "duration": 1286,
    "start_time": "2023-10-07T13:52:28.983Z"
   },
   {
    "duration": 64,
    "start_time": "2023-10-07T13:52:30.272Z"
   },
   {
    "duration": 199,
    "start_time": "2023-10-07T13:52:30.339Z"
   },
   {
    "duration": 138,
    "start_time": "2023-10-07T13:52:30.540Z"
   },
   {
    "duration": 74,
    "start_time": "2023-10-07T13:52:30.682Z"
   },
   {
    "duration": 45,
    "start_time": "2023-10-07T13:52:30.758Z"
   },
   {
    "duration": 48,
    "start_time": "2023-10-07T13:52:30.806Z"
   },
   {
    "duration": 56,
    "start_time": "2023-10-07T13:52:30.857Z"
   },
   {
    "duration": 182,
    "start_time": "2023-10-07T13:52:30.915Z"
   },
   {
    "duration": 56,
    "start_time": "2023-10-07T13:52:31.099Z"
   },
   {
    "duration": 39,
    "start_time": "2023-10-07T13:52:31.158Z"
   },
   {
    "duration": 52,
    "start_time": "2023-10-07T13:52:31.199Z"
   },
   {
    "duration": 12,
    "start_time": "2023-10-07T13:52:31.253Z"
   },
   {
    "duration": 79,
    "start_time": "2023-10-07T13:52:31.270Z"
   },
   {
    "duration": 131,
    "start_time": "2023-10-07T13:52:31.351Z"
   },
   {
    "duration": 57,
    "start_time": "2023-10-07T13:52:31.485Z"
   },
   {
    "duration": 10,
    "start_time": "2023-10-07T13:52:31.544Z"
   },
   {
    "duration": 29,
    "start_time": "2023-10-07T13:52:31.556Z"
   },
   {
    "duration": 51,
    "start_time": "2023-10-07T13:52:31.586Z"
   },
   {
    "duration": 39,
    "start_time": "2023-10-07T13:52:31.640Z"
   },
   {
    "duration": 44,
    "start_time": "2023-10-07T13:52:31.682Z"
   },
   {
    "duration": 197,
    "start_time": "2023-10-07T13:52:31.728Z"
   },
   {
    "duration": 315,
    "start_time": "2023-10-07T13:52:31.927Z"
   },
   {
    "duration": 119,
    "start_time": "2023-10-07T13:52:32.246Z"
   },
   {
    "duration": 0,
    "start_time": "2023-10-07T13:52:32.367Z"
   },
   {
    "duration": 0,
    "start_time": "2023-10-07T13:52:32.369Z"
   },
   {
    "duration": 0,
    "start_time": "2023-10-07T13:52:32.372Z"
   },
   {
    "duration": 0,
    "start_time": "2023-10-07T13:52:32.373Z"
   },
   {
    "duration": 7,
    "start_time": "2023-10-07T14:15:01.407Z"
   },
   {
    "duration": 302,
    "start_time": "2023-10-07T14:15:06.174Z"
   },
   {
    "duration": 105,
    "start_time": "2023-10-07T14:19:19.494Z"
   },
   {
    "duration": 8,
    "start_time": "2023-10-07T14:19:22.625Z"
   },
   {
    "duration": 15,
    "start_time": "2023-10-07T14:21:30.579Z"
   },
   {
    "duration": 5,
    "start_time": "2023-10-07T14:21:57.013Z"
   },
   {
    "duration": 8,
    "start_time": "2023-10-07T14:22:02.342Z"
   },
   {
    "duration": 11,
    "start_time": "2023-10-07T14:23:05.204Z"
   },
   {
    "duration": 123,
    "start_time": "2023-10-07T14:23:25.686Z"
   },
   {
    "duration": 129,
    "start_time": "2023-10-07T14:24:07.567Z"
   },
   {
    "duration": 145,
    "start_time": "2023-10-07T14:24:21.170Z"
   },
   {
    "duration": 11,
    "start_time": "2023-10-07T14:25:14.774Z"
   },
   {
    "duration": 7,
    "start_time": "2023-10-07T14:25:33.520Z"
   },
   {
    "duration": 11,
    "start_time": "2023-10-07T14:26:00.934Z"
   },
   {
    "duration": 9,
    "start_time": "2023-10-07T14:28:31.790Z"
   },
   {
    "duration": 12,
    "start_time": "2023-10-07T14:28:44.812Z"
   },
   {
    "duration": 11,
    "start_time": "2023-10-07T14:28:59.229Z"
   },
   {
    "duration": 17,
    "start_time": "2023-10-07T14:29:25.745Z"
   },
   {
    "duration": 11,
    "start_time": "2023-10-07T14:29:45.516Z"
   },
   {
    "duration": 12,
    "start_time": "2023-10-07T14:29:54.296Z"
   },
   {
    "duration": 9,
    "start_time": "2023-10-07T14:29:54.986Z"
   },
   {
    "duration": 4,
    "start_time": "2023-10-07T14:29:58.210Z"
   },
   {
    "duration": 4,
    "start_time": "2023-10-07T14:30:04.136Z"
   },
   {
    "duration": 79,
    "start_time": "2023-10-07T14:30:45.054Z"
   },
   {
    "duration": 40,
    "start_time": "2023-10-07T14:31:00.166Z"
   },
   {
    "duration": 38,
    "start_time": "2023-10-07T14:31:18.466Z"
   },
   {
    "duration": 41,
    "start_time": "2023-10-07T14:31:28.399Z"
   },
   {
    "duration": 49,
    "start_time": "2023-10-07T14:33:57.910Z"
   },
   {
    "duration": 176,
    "start_time": "2023-10-07T14:34:15.935Z"
   },
   {
    "duration": 11,
    "start_time": "2023-10-07T14:34:20.590Z"
   },
   {
    "duration": 14,
    "start_time": "2023-10-07T14:34:55.470Z"
   },
   {
    "duration": 48,
    "start_time": "2023-10-07T14:35:10.512Z"
   },
   {
    "duration": 39,
    "start_time": "2023-10-07T14:35:16.206Z"
   },
   {
    "duration": 133,
    "start_time": "2023-10-07T14:35:24.118Z"
   },
   {
    "duration": 59,
    "start_time": "2023-10-07T14:35:33.035Z"
   },
   {
    "duration": 48,
    "start_time": "2023-10-07T14:35:59.159Z"
   },
   {
    "duration": 1339,
    "start_time": "2023-10-07T14:36:33.164Z"
   },
   {
    "duration": 44,
    "start_time": "2023-10-07T14:37:01.943Z"
   },
   {
    "duration": 76,
    "start_time": "2023-10-07T14:37:12.001Z"
   },
   {
    "duration": 22,
    "start_time": "2023-10-07T14:37:25.790Z"
   },
   {
    "duration": 20,
    "start_time": "2023-10-07T14:37:29.761Z"
   },
   {
    "duration": 11,
    "start_time": "2023-10-07T14:37:52.762Z"
   },
   {
    "duration": 15,
    "start_time": "2023-10-07T14:38:05.912Z"
   },
   {
    "duration": 23,
    "start_time": "2023-10-07T14:38:13.584Z"
   },
   {
    "duration": 22,
    "start_time": "2023-10-07T14:38:18.581Z"
   },
   {
    "duration": 43,
    "start_time": "2023-10-07T14:38:33.992Z"
   },
   {
    "duration": 42,
    "start_time": "2023-10-07T14:38:39.486Z"
   },
   {
    "duration": 36,
    "start_time": "2023-10-07T14:38:52.328Z"
   },
   {
    "duration": 44,
    "start_time": "2023-10-07T14:39:25.320Z"
   },
   {
    "duration": 1546,
    "start_time": "2023-10-07T14:39:45.289Z"
   },
   {
    "duration": 156,
    "start_time": "2023-10-07T14:39:53.309Z"
   },
   {
    "duration": 21,
    "start_time": "2023-10-07T14:40:00.221Z"
   },
   {
    "duration": 24,
    "start_time": "2023-10-07T14:40:13.099Z"
   },
   {
    "duration": 33,
    "start_time": "2023-10-07T14:40:56.086Z"
   },
   {
    "duration": 30,
    "start_time": "2023-10-07T14:41:04.750Z"
   },
   {
    "duration": 29,
    "start_time": "2023-10-07T14:41:13.874Z"
   },
   {
    "duration": 27,
    "start_time": "2023-10-07T14:41:35.277Z"
   },
   {
    "duration": 165,
    "start_time": "2023-10-07T14:41:39.209Z"
   },
   {
    "duration": 18,
    "start_time": "2023-10-07T14:41:44.358Z"
   },
   {
    "duration": 22,
    "start_time": "2023-10-07T14:41:58.262Z"
   },
   {
    "duration": 26,
    "start_time": "2023-10-07T14:42:47.317Z"
   },
   {
    "duration": 10,
    "start_time": "2023-10-07T14:42:57.849Z"
   },
   {
    "duration": 22,
    "start_time": "2023-10-07T14:43:35.603Z"
   },
   {
    "duration": 17,
    "start_time": "2023-10-07T14:43:39.987Z"
   },
   {
    "duration": 15,
    "start_time": "2023-10-07T14:43:43.999Z"
   },
   {
    "duration": 135,
    "start_time": "2023-10-07T14:43:57.923Z"
   },
   {
    "duration": 152,
    "start_time": "2023-10-07T14:44:23.573Z"
   },
   {
    "duration": 134,
    "start_time": "2023-10-07T14:44:33.732Z"
   },
   {
    "duration": 142,
    "start_time": "2023-10-07T14:44:37.852Z"
   },
   {
    "duration": 22,
    "start_time": "2023-10-07T14:44:45.815Z"
   },
   {
    "duration": 18,
    "start_time": "2023-10-07T14:45:53.768Z"
   },
   {
    "duration": 22,
    "start_time": "2023-10-07T14:46:00.161Z"
   },
   {
    "duration": 15,
    "start_time": "2023-10-07T14:46:05.912Z"
   },
   {
    "duration": 85,
    "start_time": "2023-10-07T14:46:31.424Z"
   },
   {
    "duration": 136,
    "start_time": "2023-10-07T14:46:37.194Z"
   },
   {
    "duration": 216,
    "start_time": "2023-10-07T14:46:55.240Z"
   },
   {
    "duration": 14,
    "start_time": "2023-10-07T14:47:07.791Z"
   },
   {
    "duration": 78,
    "start_time": "2023-10-07T14:47:53.439Z"
   },
   {
    "duration": 79,
    "start_time": "2023-10-07T14:48:45.637Z"
   },
   {
    "duration": 88,
    "start_time": "2023-10-07T14:49:01.757Z"
   },
   {
    "duration": 129,
    "start_time": "2023-10-07T14:49:59.711Z"
   },
   {
    "duration": 1634,
    "start_time": "2023-10-07T14:50:12.123Z"
   },
   {
    "duration": 102,
    "start_time": "2023-10-07T14:50:13.760Z"
   },
   {
    "duration": 20,
    "start_time": "2023-10-07T14:50:13.864Z"
   },
   {
    "duration": 70,
    "start_time": "2023-10-07T14:50:13.887Z"
   },
   {
    "duration": 11,
    "start_time": "2023-10-07T14:50:13.959Z"
   },
   {
    "duration": 23,
    "start_time": "2023-10-07T14:50:13.971Z"
   },
   {
    "duration": 52,
    "start_time": "2023-10-07T14:50:13.996Z"
   },
   {
    "duration": 5,
    "start_time": "2023-10-07T14:50:14.050Z"
   },
   {
    "duration": 20,
    "start_time": "2023-10-07T14:50:14.057Z"
   },
   {
    "duration": 69,
    "start_time": "2023-10-07T14:50:14.080Z"
   },
   {
    "duration": 6,
    "start_time": "2023-10-07T14:50:14.150Z"
   },
   {
    "duration": 20,
    "start_time": "2023-10-07T14:50:14.157Z"
   },
   {
    "duration": 6,
    "start_time": "2023-10-07T14:50:14.179Z"
   },
   {
    "duration": 78,
    "start_time": "2023-10-07T14:50:14.188Z"
   },
   {
    "duration": 9,
    "start_time": "2023-10-07T14:50:14.268Z"
   },
   {
    "duration": 72,
    "start_time": "2023-10-07T14:50:14.279Z"
   },
   {
    "duration": 8,
    "start_time": "2023-10-07T14:50:14.353Z"
   },
   {
    "duration": 10,
    "start_time": "2023-10-07T14:50:14.363Z"
   },
   {
    "duration": 16,
    "start_time": "2023-10-07T14:50:14.375Z"
   },
   {
    "duration": 67,
    "start_time": "2023-10-07T14:50:14.392Z"
   },
   {
    "duration": 27,
    "start_time": "2023-10-07T14:50:14.460Z"
   },
   {
    "duration": 403,
    "start_time": "2023-10-07T14:50:14.489Z"
   },
   {
    "duration": 7,
    "start_time": "2023-10-07T14:50:14.948Z"
   },
   {
    "duration": 362,
    "start_time": "2023-10-07T14:50:14.957Z"
   },
   {
    "duration": 28,
    "start_time": "2023-10-07T14:50:15.322Z"
   },
   {
    "duration": 5,
    "start_time": "2023-10-07T14:50:15.353Z"
   },
   {
    "duration": 152,
    "start_time": "2023-10-07T14:50:15.360Z"
   },
   {
    "duration": 0,
    "start_time": "2023-10-07T14:50:15.514Z"
   },
   {
    "duration": 0,
    "start_time": "2023-10-07T14:50:15.515Z"
   },
   {
    "duration": 0,
    "start_time": "2023-10-07T14:50:15.520Z"
   },
   {
    "duration": 1,
    "start_time": "2023-10-07T14:50:15.521Z"
   },
   {
    "duration": 0,
    "start_time": "2023-10-07T14:50:15.523Z"
   },
   {
    "duration": 0,
    "start_time": "2023-10-07T14:50:15.525Z"
   },
   {
    "duration": 71,
    "start_time": "2023-10-07T14:50:44.278Z"
   },
   {
    "duration": 138,
    "start_time": "2023-10-07T14:51:13.357Z"
   },
   {
    "duration": 40,
    "start_time": "2023-10-07T14:51:28.914Z"
   },
   {
    "duration": 31,
    "start_time": "2023-10-07T14:51:39.539Z"
   },
   {
    "duration": 19,
    "start_time": "2023-10-07T14:51:45.443Z"
   },
   {
    "duration": 15,
    "start_time": "2023-10-07T14:53:02.512Z"
   },
   {
    "duration": 168,
    "start_time": "2023-10-07T14:53:10.121Z"
   },
   {
    "duration": 4,
    "start_time": "2023-10-07T14:53:37.714Z"
   },
   {
    "duration": 5,
    "start_time": "2023-10-07T14:53:43.530Z"
   },
   {
    "duration": 34,
    "start_time": "2023-10-07T14:54:28.045Z"
   },
   {
    "duration": 40,
    "start_time": "2023-10-07T14:54:49.206Z"
   },
   {
    "duration": 45,
    "start_time": "2023-10-07T14:55:08.196Z"
   },
   {
    "duration": 194,
    "start_time": "2023-10-07T14:55:33.609Z"
   },
   {
    "duration": 252,
    "start_time": "2023-10-07T14:56:02.041Z"
   },
   {
    "duration": 197,
    "start_time": "2023-10-07T14:56:08.700Z"
   },
   {
    "duration": 99,
    "start_time": "2023-10-07T14:56:29.814Z"
   },
   {
    "duration": 172,
    "start_time": "2023-10-07T14:56:35.552Z"
   },
   {
    "duration": 34,
    "start_time": "2023-10-07T14:56:47.254Z"
   },
   {
    "duration": 29,
    "start_time": "2023-10-07T14:56:56.551Z"
   },
   {
    "duration": 175,
    "start_time": "2023-10-07T14:57:04.431Z"
   },
   {
    "duration": 88,
    "start_time": "2023-10-07T14:57:36.920Z"
   },
   {
    "duration": 41,
    "start_time": "2023-10-07T14:57:50.267Z"
   },
   {
    "duration": 80,
    "start_time": "2023-10-07T14:59:11.686Z"
   },
   {
    "duration": 84,
    "start_time": "2023-10-07T14:59:15.946Z"
   },
   {
    "duration": 975,
    "start_time": "2023-10-07T14:59:28.943Z"
   },
   {
    "duration": 70,
    "start_time": "2023-10-07T14:59:52.489Z"
   },
   {
    "duration": 76,
    "start_time": "2023-10-07T15:00:00.258Z"
   },
   {
    "duration": 30,
    "start_time": "2023-10-07T15:00:23.523Z"
   },
   {
    "duration": 32,
    "start_time": "2023-10-07T15:01:13.246Z"
   },
   {
    "duration": 5,
    "start_time": "2023-10-07T15:02:14.439Z"
   },
   {
    "duration": 4,
    "start_time": "2023-10-07T15:02:17.716Z"
   },
   {
    "duration": 4,
    "start_time": "2023-10-07T15:02:22.662Z"
   },
   {
    "duration": 34,
    "start_time": "2023-10-07T15:02:46.617Z"
   },
   {
    "duration": 5,
    "start_time": "2023-10-07T15:03:16.240Z"
   },
   {
    "duration": 4,
    "start_time": "2023-10-07T15:03:25.976Z"
   },
   {
    "duration": 33,
    "start_time": "2023-10-07T15:03:35.812Z"
   },
   {
    "duration": 31,
    "start_time": "2023-10-07T15:03:59.326Z"
   },
   {
    "duration": 5,
    "start_time": "2023-10-07T15:04:30.324Z"
   },
   {
    "duration": 5,
    "start_time": "2023-10-07T15:04:45.923Z"
   },
   {
    "duration": 5,
    "start_time": "2023-10-07T15:04:48.986Z"
   },
   {
    "duration": 6,
    "start_time": "2023-10-07T15:04:53.133Z"
   },
   {
    "duration": 35,
    "start_time": "2023-10-07T15:05:06.457Z"
   },
   {
    "duration": 18,
    "start_time": "2023-10-07T15:05:24.539Z"
   },
   {
    "duration": 35,
    "start_time": "2023-10-07T15:05:32.432Z"
   },
   {
    "duration": 34,
    "start_time": "2023-10-07T15:06:12.081Z"
   },
   {
    "duration": 1194,
    "start_time": "2023-10-07T15:06:33.788Z"
   },
   {
    "duration": 59,
    "start_time": "2023-10-07T15:06:34.985Z"
   },
   {
    "duration": 18,
    "start_time": "2023-10-07T15:06:35.046Z"
   },
   {
    "duration": 15,
    "start_time": "2023-10-07T15:06:35.066Z"
   },
   {
    "duration": 21,
    "start_time": "2023-10-07T15:06:35.083Z"
   },
   {
    "duration": 15,
    "start_time": "2023-10-07T15:06:35.106Z"
   },
   {
    "duration": 8,
    "start_time": "2023-10-07T15:06:35.123Z"
   },
   {
    "duration": 18,
    "start_time": "2023-10-07T15:06:35.133Z"
   },
   {
    "duration": 8,
    "start_time": "2023-10-07T15:06:35.153Z"
   },
   {
    "duration": 23,
    "start_time": "2023-10-07T15:06:35.163Z"
   },
   {
    "duration": 9,
    "start_time": "2023-10-07T15:06:35.188Z"
   },
   {
    "duration": 51,
    "start_time": "2023-10-07T15:06:35.199Z"
   },
   {
    "duration": 7,
    "start_time": "2023-10-07T15:06:35.252Z"
   },
   {
    "duration": 89,
    "start_time": "2023-10-07T15:06:35.264Z"
   },
   {
    "duration": 12,
    "start_time": "2023-10-07T15:06:35.355Z"
   },
   {
    "duration": 26,
    "start_time": "2023-10-07T15:06:35.369Z"
   },
   {
    "duration": 63,
    "start_time": "2023-10-07T15:06:35.396Z"
   },
   {
    "duration": 33,
    "start_time": "2023-10-07T15:06:35.461Z"
   },
   {
    "duration": 20,
    "start_time": "2023-10-07T15:06:35.496Z"
   },
   {
    "duration": 16,
    "start_time": "2023-10-07T15:06:35.547Z"
   },
   {
    "duration": 24,
    "start_time": "2023-10-07T15:06:35.565Z"
   },
   {
    "duration": 456,
    "start_time": "2023-10-07T15:06:35.591Z"
   },
   {
    "duration": 6,
    "start_time": "2023-10-07T15:06:36.049Z"
   },
   {
    "duration": 611,
    "start_time": "2023-10-07T15:06:36.057Z"
   },
   {
    "duration": 15,
    "start_time": "2023-10-07T15:06:36.670Z"
   },
   {
    "duration": 71,
    "start_time": "2023-10-07T15:06:36.687Z"
   },
   {
    "duration": 48,
    "start_time": "2023-10-07T15:06:36.760Z"
   },
   {
    "duration": 278,
    "start_time": "2023-10-07T15:06:36.810Z"
   },
   {
    "duration": 0,
    "start_time": "2023-10-07T15:06:37.090Z"
   },
   {
    "duration": 0,
    "start_time": "2023-10-07T15:06:37.091Z"
   },
   {
    "duration": 0,
    "start_time": "2023-10-07T15:06:37.147Z"
   },
   {
    "duration": 0,
    "start_time": "2023-10-07T15:06:37.148Z"
   },
   {
    "duration": 0,
    "start_time": "2023-10-07T15:06:37.150Z"
   },
   {
    "duration": 0,
    "start_time": "2023-10-07T15:06:37.151Z"
   },
   {
    "duration": 0,
    "start_time": "2023-10-07T15:06:37.153Z"
   },
   {
    "duration": 27,
    "start_time": "2023-10-07T15:06:47.969Z"
   },
   {
    "duration": 31,
    "start_time": "2023-10-07T15:06:54.364Z"
   },
   {
    "duration": 82,
    "start_time": "2023-10-07T15:07:09.521Z"
   },
   {
    "duration": 104,
    "start_time": "2023-10-07T15:07:14.746Z"
   },
   {
    "duration": 32,
    "start_time": "2023-10-07T15:07:24.476Z"
   },
   {
    "duration": 32,
    "start_time": "2023-10-07T15:07:43.116Z"
   },
   {
    "duration": 79,
    "start_time": "2023-10-07T15:08:19.494Z"
   },
   {
    "duration": 78,
    "start_time": "2023-10-07T15:08:23.057Z"
   },
   {
    "duration": 87,
    "start_time": "2023-10-07T15:08:29.938Z"
   },
   {
    "duration": 920,
    "start_time": "2023-10-07T15:08:35.612Z"
   },
   {
    "duration": 931,
    "start_time": "2023-10-07T15:08:55.575Z"
   },
   {
    "duration": 86,
    "start_time": "2023-10-07T15:09:08.077Z"
   },
   {
    "duration": 995,
    "start_time": "2023-10-07T15:09:12.455Z"
   },
   {
    "duration": 152,
    "start_time": "2023-10-07T15:09:30.183Z"
   },
   {
    "duration": 32,
    "start_time": "2023-10-07T15:09:37.046Z"
   },
   {
    "duration": 91,
    "start_time": "2023-10-07T15:10:17.430Z"
   },
   {
    "duration": 99,
    "start_time": "2023-10-07T15:10:49.765Z"
   },
   {
    "duration": 46,
    "start_time": "2023-10-07T15:10:56.386Z"
   },
   {
    "duration": 3,
    "start_time": "2023-10-07T15:11:14.717Z"
   },
   {
    "duration": 31,
    "start_time": "2023-10-07T15:11:26.360Z"
   },
   {
    "duration": 64,
    "start_time": "2023-10-07T15:11:53.412Z"
   },
   {
    "duration": 34,
    "start_time": "2023-10-07T15:12:07.346Z"
   },
   {
    "duration": 32,
    "start_time": "2023-10-07T15:14:21.190Z"
   },
   {
    "duration": 32,
    "start_time": "2023-10-07T15:14:46.875Z"
   },
   {
    "duration": 72,
    "start_time": "2023-10-07T15:15:10.455Z"
   },
   {
    "duration": 32,
    "start_time": "2023-10-07T15:15:25.397Z"
   },
   {
    "duration": 31,
    "start_time": "2023-10-07T15:16:20.454Z"
   },
   {
    "duration": 1228,
    "start_time": "2023-10-07T15:16:38.793Z"
   },
   {
    "duration": 59,
    "start_time": "2023-10-07T15:16:40.023Z"
   },
   {
    "duration": 68,
    "start_time": "2023-10-07T15:16:40.084Z"
   },
   {
    "duration": 16,
    "start_time": "2023-10-07T15:16:40.154Z"
   },
   {
    "duration": 12,
    "start_time": "2023-10-07T15:16:40.173Z"
   },
   {
    "duration": 62,
    "start_time": "2023-10-07T15:16:40.186Z"
   },
   {
    "duration": 10,
    "start_time": "2023-10-07T15:16:40.250Z"
   },
   {
    "duration": 4,
    "start_time": "2023-10-07T15:16:40.262Z"
   },
   {
    "duration": 7,
    "start_time": "2023-10-07T15:16:40.268Z"
   },
   {
    "duration": 74,
    "start_time": "2023-10-07T15:16:40.276Z"
   },
   {
    "duration": 7,
    "start_time": "2023-10-07T15:16:40.352Z"
   },
   {
    "duration": 28,
    "start_time": "2023-10-07T15:16:40.360Z"
   },
   {
    "duration": 58,
    "start_time": "2023-10-07T15:16:40.390Z"
   },
   {
    "duration": 21,
    "start_time": "2023-10-07T15:16:40.451Z"
   },
   {
    "duration": 9,
    "start_time": "2023-10-07T15:16:40.473Z"
   },
   {
    "duration": 73,
    "start_time": "2023-10-07T15:16:40.484Z"
   },
   {
    "duration": 9,
    "start_time": "2023-10-07T15:16:40.559Z"
   },
   {
    "duration": 28,
    "start_time": "2023-10-07T15:16:40.570Z"
   },
   {
    "duration": 53,
    "start_time": "2023-10-07T15:16:40.600Z"
   },
   {
    "duration": 16,
    "start_time": "2023-10-07T15:16:40.655Z"
   },
   {
    "duration": 83,
    "start_time": "2023-10-07T15:16:40.672Z"
   },
   {
    "duration": 408,
    "start_time": "2023-10-07T15:16:40.756Z"
   },
   {
    "duration": 7,
    "start_time": "2023-10-07T15:16:41.165Z"
   },
   {
    "duration": 600,
    "start_time": "2023-10-07T15:16:41.173Z"
   },
   {
    "duration": 11,
    "start_time": "2023-10-07T15:16:41.774Z"
   },
   {
    "duration": 61,
    "start_time": "2023-10-07T15:16:41.787Z"
   },
   {
    "duration": 4,
    "start_time": "2023-10-07T15:16:41.851Z"
   },
   {
    "duration": 246,
    "start_time": "2023-10-07T15:16:41.857Z"
   },
   {
    "duration": 0,
    "start_time": "2023-10-07T15:16:42.147Z"
   },
   {
    "duration": 0,
    "start_time": "2023-10-07T15:16:42.151Z"
   },
   {
    "duration": 0,
    "start_time": "2023-10-07T15:16:42.153Z"
   },
   {
    "duration": 0,
    "start_time": "2023-10-07T15:16:42.154Z"
   },
   {
    "duration": 0,
    "start_time": "2023-10-07T15:16:42.155Z"
   },
   {
    "duration": 0,
    "start_time": "2023-10-07T15:16:42.156Z"
   },
   {
    "duration": 0,
    "start_time": "2023-10-07T15:16:42.158Z"
   },
   {
    "duration": 0,
    "start_time": "2023-10-07T15:16:42.161Z"
   },
   {
    "duration": 74,
    "start_time": "2023-10-07T15:17:56.347Z"
   },
   {
    "duration": 89,
    "start_time": "2023-10-07T15:18:13.710Z"
   },
   {
    "duration": 79,
    "start_time": "2023-10-07T15:18:21.741Z"
   },
   {
    "duration": 31,
    "start_time": "2023-10-07T15:18:46.674Z"
   },
   {
    "duration": 25,
    "start_time": "2023-10-07T15:18:53.318Z"
   },
   {
    "duration": 54,
    "start_time": "2023-10-07T15:19:31.668Z"
   },
   {
    "duration": 112,
    "start_time": "2023-10-07T15:19:53.095Z"
   },
   {
    "duration": 33,
    "start_time": "2023-10-07T15:19:56.574Z"
   },
   {
    "duration": 49,
    "start_time": "2023-10-07T15:20:15.501Z"
   },
   {
    "duration": 33,
    "start_time": "2023-10-07T15:20:22.973Z"
   },
   {
    "duration": 103,
    "start_time": "2023-10-07T15:20:27.625Z"
   },
   {
    "duration": 47,
    "start_time": "2023-10-07T15:20:45.664Z"
   },
   {
    "duration": 952,
    "start_time": "2023-10-07T15:20:52.872Z"
   },
   {
    "duration": 1494,
    "start_time": "2023-10-07T15:22:10.586Z"
   },
   {
    "duration": 74,
    "start_time": "2023-10-07T15:22:55.105Z"
   },
   {
    "duration": 84,
    "start_time": "2023-10-07T15:23:09.587Z"
   },
   {
    "duration": 976,
    "start_time": "2023-10-07T15:23:42.242Z"
   },
   {
    "duration": 977,
    "start_time": "2023-10-07T15:23:53.623Z"
   },
   {
    "duration": 1110,
    "start_time": "2023-10-07T15:24:04.672Z"
   },
   {
    "duration": 1411,
    "start_time": "2023-10-07T15:24:24.867Z"
   },
   {
    "duration": 1180,
    "start_time": "2023-10-07T15:24:31.760Z"
   },
   {
    "duration": 1106,
    "start_time": "2023-10-07T15:24:52.729Z"
   },
   {
    "duration": 1179,
    "start_time": "2023-10-07T15:25:55.315Z"
   },
   {
    "duration": 1086,
    "start_time": "2023-10-07T15:26:40.362Z"
   },
   {
    "duration": 1109,
    "start_time": "2023-10-07T15:26:54.063Z"
   },
   {
    "duration": 1071,
    "start_time": "2023-10-07T15:27:06.099Z"
   },
   {
    "duration": 1050,
    "start_time": "2023-10-07T15:27:46.323Z"
   },
   {
    "duration": 1151,
    "start_time": "2023-10-07T15:27:54.081Z"
   },
   {
    "duration": 4,
    "start_time": "2023-10-07T15:28:08.607Z"
   },
   {
    "duration": 1054,
    "start_time": "2023-10-07T15:28:32.407Z"
   },
   {
    "duration": 36,
    "start_time": "2023-10-07T15:29:40.506Z"
   },
   {
    "duration": 13,
    "start_time": "2023-10-07T15:30:12.891Z"
   },
   {
    "duration": 1538,
    "start_time": "2023-10-07T15:30:19.530Z"
   },
   {
    "duration": 93,
    "start_time": "2023-10-07T15:30:21.071Z"
   },
   {
    "duration": 19,
    "start_time": "2023-10-07T15:30:21.166Z"
   },
   {
    "duration": 71,
    "start_time": "2023-10-07T15:30:21.186Z"
   },
   {
    "duration": 17,
    "start_time": "2023-10-07T15:30:21.260Z"
   },
   {
    "duration": 71,
    "start_time": "2023-10-07T15:30:21.278Z"
   },
   {
    "duration": 41,
    "start_time": "2023-10-07T15:30:21.350Z"
   },
   {
    "duration": 56,
    "start_time": "2023-10-07T15:30:21.393Z"
   },
   {
    "duration": 45,
    "start_time": "2023-10-07T15:30:21.451Z"
   },
   {
    "duration": 61,
    "start_time": "2023-10-07T15:30:21.498Z"
   },
   {
    "duration": 87,
    "start_time": "2023-10-07T15:30:21.561Z"
   },
   {
    "duration": 97,
    "start_time": "2023-10-07T15:30:21.650Z"
   },
   {
    "duration": 7,
    "start_time": "2023-10-07T15:30:21.749Z"
   },
   {
    "duration": 87,
    "start_time": "2023-10-07T15:30:21.760Z"
   },
   {
    "duration": 17,
    "start_time": "2023-10-07T15:30:21.849Z"
   },
   {
    "duration": 80,
    "start_time": "2023-10-07T15:30:21.868Z"
   },
   {
    "duration": 9,
    "start_time": "2023-10-07T15:30:21.950Z"
   },
   {
    "duration": 136,
    "start_time": "2023-10-07T15:30:21.960Z"
   },
   {
    "duration": 62,
    "start_time": "2023-10-07T15:30:22.098Z"
   },
   {
    "duration": 43,
    "start_time": "2023-10-07T15:30:22.162Z"
   },
   {
    "duration": 33,
    "start_time": "2023-10-07T15:30:22.206Z"
   },
   {
    "duration": 198,
    "start_time": "2023-10-07T15:30:22.240Z"
   },
   {
    "duration": 12,
    "start_time": "2023-10-07T15:30:22.440Z"
   },
   {
    "duration": 326,
    "start_time": "2023-10-07T15:30:22.454Z"
   },
   {
    "duration": 11,
    "start_time": "2023-10-07T15:30:22.782Z"
   },
   {
    "duration": 15,
    "start_time": "2023-10-07T15:30:22.795Z"
   },
   {
    "duration": 160,
    "start_time": "2023-10-07T15:30:22.811Z"
   },
   {
    "duration": 0,
    "start_time": "2023-10-07T15:30:22.973Z"
   },
   {
    "duration": 0,
    "start_time": "2023-10-07T15:30:22.974Z"
   },
   {
    "duration": 0,
    "start_time": "2023-10-07T15:30:22.975Z"
   },
   {
    "duration": 0,
    "start_time": "2023-10-07T15:30:22.977Z"
   },
   {
    "duration": 0,
    "start_time": "2023-10-07T15:30:22.978Z"
   },
   {
    "duration": 0,
    "start_time": "2023-10-07T15:30:22.980Z"
   },
   {
    "duration": 0,
    "start_time": "2023-10-07T15:30:22.981Z"
   },
   {
    "duration": 0,
    "start_time": "2023-10-07T15:30:22.982Z"
   },
   {
    "duration": 1087,
    "start_time": "2023-10-07T15:30:41.582Z"
   },
   {
    "duration": 528,
    "start_time": "2023-10-07T15:32:42.860Z"
   },
   {
    "duration": 70,
    "start_time": "2023-10-07T15:33:18.406Z"
   },
   {
    "duration": 78,
    "start_time": "2023-10-07T15:33:24.325Z"
   },
   {
    "duration": 633,
    "start_time": "2023-10-07T15:33:26.632Z"
   },
   {
    "duration": 506,
    "start_time": "2023-10-07T15:33:40.783Z"
   },
   {
    "duration": 164,
    "start_time": "2023-10-07T15:33:47.967Z"
   },
   {
    "duration": 80,
    "start_time": "2023-10-07T15:34:02.006Z"
   },
   {
    "duration": 569,
    "start_time": "2023-10-07T15:34:04.856Z"
   },
   {
    "duration": 487,
    "start_time": "2023-10-07T15:34:12.409Z"
   },
   {
    "duration": 450,
    "start_time": "2023-10-07T15:34:21.986Z"
   },
   {
    "duration": 582,
    "start_time": "2023-10-07T15:34:58.215Z"
   },
   {
    "duration": 525,
    "start_time": "2023-10-07T15:35:34.502Z"
   },
   {
    "duration": 1205,
    "start_time": "2023-10-07T15:36:16.338Z"
   },
   {
    "duration": 60,
    "start_time": "2023-10-07T15:36:17.545Z"
   },
   {
    "duration": 20,
    "start_time": "2023-10-07T15:36:17.607Z"
   },
   {
    "duration": 34,
    "start_time": "2023-10-07T15:36:17.629Z"
   },
   {
    "duration": 7,
    "start_time": "2023-10-07T15:36:17.666Z"
   },
   {
    "duration": 15,
    "start_time": "2023-10-07T15:36:17.675Z"
   },
   {
    "duration": 19,
    "start_time": "2023-10-07T15:36:17.692Z"
   },
   {
    "duration": 21,
    "start_time": "2023-10-07T15:36:17.713Z"
   },
   {
    "duration": 33,
    "start_time": "2023-10-07T15:36:17.736Z"
   },
   {
    "duration": 30,
    "start_time": "2023-10-07T15:36:17.772Z"
   },
   {
    "duration": 7,
    "start_time": "2023-10-07T15:36:17.804Z"
   },
   {
    "duration": 46,
    "start_time": "2023-10-07T15:36:17.813Z"
   },
   {
    "duration": 8,
    "start_time": "2023-10-07T15:36:17.861Z"
   },
   {
    "duration": 36,
    "start_time": "2023-10-07T15:36:17.873Z"
   },
   {
    "duration": 17,
    "start_time": "2023-10-07T15:36:17.911Z"
   },
   {
    "duration": 42,
    "start_time": "2023-10-07T15:36:17.930Z"
   },
   {
    "duration": 9,
    "start_time": "2023-10-07T15:36:17.974Z"
   },
   {
    "duration": 27,
    "start_time": "2023-10-07T15:36:17.985Z"
   },
   {
    "duration": 18,
    "start_time": "2023-10-07T15:36:18.014Z"
   },
   {
    "duration": 132,
    "start_time": "2023-10-07T15:36:18.034Z"
   },
   {
    "duration": 48,
    "start_time": "2023-10-07T15:36:18.167Z"
   },
   {
    "duration": 197,
    "start_time": "2023-10-07T15:36:18.218Z"
   },
   {
    "duration": 6,
    "start_time": "2023-10-07T15:36:18.417Z"
   },
   {
    "duration": 298,
    "start_time": "2023-10-07T15:36:18.425Z"
   },
   {
    "duration": 11,
    "start_time": "2023-10-07T15:36:18.725Z"
   },
   {
    "duration": 61,
    "start_time": "2023-10-07T15:36:18.747Z"
   },
   {
    "duration": 680,
    "start_time": "2023-10-07T15:36:18.810Z"
   },
   {
    "duration": 34,
    "start_time": "2023-10-07T15:36:19.492Z"
   },
   {
    "duration": 0,
    "start_time": "2023-10-07T15:36:19.528Z"
   },
   {
    "duration": 0,
    "start_time": "2023-10-07T15:36:19.546Z"
   },
   {
    "duration": 0,
    "start_time": "2023-10-07T15:36:19.548Z"
   },
   {
    "duration": 0,
    "start_time": "2023-10-07T15:36:19.549Z"
   },
   {
    "duration": 0,
    "start_time": "2023-10-07T15:36:19.550Z"
   },
   {
    "duration": 0,
    "start_time": "2023-10-07T15:36:19.551Z"
   },
   {
    "duration": 0,
    "start_time": "2023-10-07T15:36:19.552Z"
   },
   {
    "duration": 299,
    "start_time": "2023-10-07T15:37:11.602Z"
   },
   {
    "duration": 159,
    "start_time": "2023-10-07T15:37:22.049Z"
   },
   {
    "duration": 143,
    "start_time": "2023-10-07T15:37:31.063Z"
   },
   {
    "duration": 1616,
    "start_time": "2023-10-07T15:37:42.365Z"
   },
   {
    "duration": 98,
    "start_time": "2023-10-07T15:37:43.984Z"
   },
   {
    "duration": 69,
    "start_time": "2023-10-07T15:37:44.084Z"
   },
   {
    "duration": 23,
    "start_time": "2023-10-07T15:37:44.156Z"
   },
   {
    "duration": 6,
    "start_time": "2023-10-07T15:37:44.182Z"
   },
   {
    "duration": 60,
    "start_time": "2023-10-07T15:37:44.189Z"
   },
   {
    "duration": 11,
    "start_time": "2023-10-07T15:37:44.251Z"
   },
   {
    "duration": 12,
    "start_time": "2023-10-07T15:37:44.264Z"
   },
   {
    "duration": 20,
    "start_time": "2023-10-07T15:37:44.278Z"
   },
   {
    "duration": 69,
    "start_time": "2023-10-07T15:37:44.301Z"
   },
   {
    "duration": 8,
    "start_time": "2023-10-07T15:37:44.372Z"
   },
   {
    "duration": 68,
    "start_time": "2023-10-07T15:37:44.381Z"
   },
   {
    "duration": 5,
    "start_time": "2023-10-07T15:37:44.451Z"
   },
   {
    "duration": 23,
    "start_time": "2023-10-07T15:37:44.457Z"
   },
   {
    "duration": 10,
    "start_time": "2023-10-07T15:37:44.481Z"
   },
   {
    "duration": 19,
    "start_time": "2023-10-07T15:37:44.547Z"
   },
   {
    "duration": 9,
    "start_time": "2023-10-07T15:37:44.568Z"
   },
   {
    "duration": 6,
    "start_time": "2023-10-07T15:37:44.579Z"
   },
   {
    "duration": 66,
    "start_time": "2023-10-07T15:37:44.587Z"
   },
   {
    "duration": 29,
    "start_time": "2023-10-07T15:37:44.654Z"
   },
   {
    "duration": 72,
    "start_time": "2023-10-07T15:37:44.685Z"
   },
   {
    "duration": 394,
    "start_time": "2023-10-07T15:37:44.759Z"
   },
   {
    "duration": 7,
    "start_time": "2023-10-07T15:37:45.155Z"
   },
   {
    "duration": 442,
    "start_time": "2023-10-07T15:37:45.164Z"
   },
   {
    "duration": 12,
    "start_time": "2023-10-07T15:37:45.607Z"
   },
   {
    "duration": 15,
    "start_time": "2023-10-07T15:37:45.621Z"
   },
   {
    "duration": 1203,
    "start_time": "2023-10-07T15:37:45.647Z"
   },
   {
    "duration": 32,
    "start_time": "2023-10-07T15:37:46.853Z"
   },
   {
    "duration": 0,
    "start_time": "2023-10-07T15:37:46.887Z"
   },
   {
    "duration": 0,
    "start_time": "2023-10-07T15:37:46.888Z"
   },
   {
    "duration": 0,
    "start_time": "2023-10-07T15:37:46.889Z"
   },
   {
    "duration": 0,
    "start_time": "2023-10-07T15:37:46.890Z"
   },
   {
    "duration": 0,
    "start_time": "2023-10-07T15:37:46.892Z"
   },
   {
    "duration": 0,
    "start_time": "2023-10-07T15:37:46.893Z"
   },
   {
    "duration": 0,
    "start_time": "2023-10-07T15:37:46.895Z"
   },
   {
    "duration": 1279,
    "start_time": "2023-10-07T15:38:15.532Z"
   },
   {
    "duration": 162,
    "start_time": "2023-10-07T15:40:24.892Z"
   },
   {
    "duration": 234,
    "start_time": "2023-10-07T15:40:42.670Z"
   },
   {
    "duration": 299,
    "start_time": "2023-10-07T15:40:49.765Z"
   },
   {
    "duration": 265,
    "start_time": "2023-10-07T15:40:56.671Z"
   },
   {
    "duration": 313,
    "start_time": "2023-10-07T15:41:17.999Z"
   },
   {
    "duration": 248,
    "start_time": "2023-10-07T15:41:21.442Z"
   },
   {
    "duration": 239,
    "start_time": "2023-10-07T15:41:32.439Z"
   },
   {
    "duration": 297,
    "start_time": "2023-10-07T15:42:09.404Z"
   },
   {
    "duration": 308,
    "start_time": "2023-10-07T15:42:16.949Z"
   },
   {
    "duration": 146,
    "start_time": "2023-10-07T15:54:16.287Z"
   },
   {
    "duration": 149,
    "start_time": "2023-10-07T15:54:23.494Z"
   },
   {
    "duration": 334,
    "start_time": "2023-10-07T15:54:35.134Z"
   },
   {
    "duration": 293,
    "start_time": "2023-10-07T15:54:38.194Z"
   },
   {
    "duration": 172,
    "start_time": "2023-10-07T15:55:03.224Z"
   },
   {
    "duration": 314,
    "start_time": "2023-10-07T15:55:07.847Z"
   },
   {
    "duration": 333,
    "start_time": "2023-10-07T15:55:14.929Z"
   },
   {
    "duration": 324,
    "start_time": "2023-10-07T15:55:35.700Z"
   },
   {
    "duration": 245,
    "start_time": "2023-10-07T15:57:51.270Z"
   },
   {
    "duration": 290,
    "start_time": "2023-10-07T15:57:59.413Z"
   },
   {
    "duration": 40,
    "start_time": "2023-10-07T16:09:59.110Z"
   },
   {
    "duration": 50,
    "start_time": "2023-10-07T16:10:12.591Z"
   },
   {
    "duration": 311,
    "start_time": "2023-10-07T16:11:26.658Z"
   },
   {
    "duration": 379,
    "start_time": "2023-10-07T16:11:30.282Z"
   },
   {
    "duration": 348,
    "start_time": "2023-10-07T16:11:33.932Z"
   },
   {
    "duration": 492,
    "start_time": "2023-10-07T16:30:48.400Z"
   },
   {
    "duration": 233,
    "start_time": "2023-10-07T16:31:22.479Z"
   },
   {
    "duration": 254,
    "start_time": "2023-10-07T16:31:30.332Z"
   },
   {
    "duration": 272,
    "start_time": "2023-10-07T16:31:35.111Z"
   },
   {
    "duration": 223,
    "start_time": "2023-10-07T16:31:46.214Z"
   },
   {
    "duration": 65,
    "start_time": "2023-10-07T16:32:21.407Z"
   },
   {
    "duration": 12,
    "start_time": "2023-10-07T16:33:04.293Z"
   },
   {
    "duration": 10,
    "start_time": "2023-10-07T16:33:06.909Z"
   },
   {
    "duration": 13,
    "start_time": "2023-10-07T16:33:18.576Z"
   },
   {
    "duration": 6,
    "start_time": "2023-10-07T16:33:37.830Z"
   },
   {
    "duration": 342,
    "start_time": "2023-10-07T16:33:57.382Z"
   },
   {
    "duration": 409,
    "start_time": "2023-10-07T16:34:10.767Z"
   },
   {
    "duration": 1608,
    "start_time": "2023-10-07T16:34:25.547Z"
   },
   {
    "duration": 1518,
    "start_time": "2023-10-07T16:34:40.616Z"
   },
   {
    "duration": 1599,
    "start_time": "2023-10-07T16:34:51.177Z"
   },
   {
    "duration": 22,
    "start_time": "2023-10-07T16:35:47.938Z"
   },
   {
    "duration": 5,
    "start_time": "2023-10-07T16:35:51.525Z"
   },
   {
    "duration": 500,
    "start_time": "2023-10-07T16:35:56.882Z"
   },
   {
    "duration": 603,
    "start_time": "2023-10-07T16:36:28.117Z"
   },
   {
    "duration": 603,
    "start_time": "2023-10-07T16:36:42.178Z"
   },
   {
    "duration": 16,
    "start_time": "2023-10-07T16:38:24.590Z"
   },
   {
    "duration": 6,
    "start_time": "2023-10-07T16:38:24.970Z"
   },
   {
    "duration": 688,
    "start_time": "2023-10-07T16:38:26.015Z"
   },
   {
    "duration": 673,
    "start_time": "2023-10-07T16:38:38.841Z"
   },
   {
    "duration": 30,
    "start_time": "2023-10-07T16:48:55.299Z"
   },
   {
    "duration": 369,
    "start_time": "2023-10-07T16:50:58.790Z"
   },
   {
    "duration": 286,
    "start_time": "2023-10-07T16:51:00.488Z"
   },
   {
    "duration": 13,
    "start_time": "2023-10-07T16:52:41.973Z"
   },
   {
    "duration": 6,
    "start_time": "2023-10-07T16:53:04.067Z"
   },
   {
    "duration": 125,
    "start_time": "2023-10-07T16:53:32.274Z"
   },
   {
    "duration": 1245,
    "start_time": "2023-10-07T16:53:42.102Z"
   },
   {
    "duration": 1398,
    "start_time": "2023-10-07T16:53:51.442Z"
   },
   {
    "duration": 405,
    "start_time": "2023-10-07T16:54:07.673Z"
   },
   {
    "duration": 18,
    "start_time": "2023-10-07T16:54:23.244Z"
   },
   {
    "duration": 5,
    "start_time": "2023-10-07T16:54:23.771Z"
   },
   {
    "duration": 682,
    "start_time": "2023-10-07T16:54:24.429Z"
   },
   {
    "duration": 190,
    "start_time": "2023-10-07T16:54:54.529Z"
   },
   {
    "duration": 1301,
    "start_time": "2023-10-07T16:55:10.114Z"
   },
   {
    "duration": 76,
    "start_time": "2023-10-07T16:55:11.417Z"
   },
   {
    "duration": 21,
    "start_time": "2023-10-07T16:55:11.496Z"
   },
   {
    "duration": 32,
    "start_time": "2023-10-07T16:55:11.519Z"
   },
   {
    "duration": 10,
    "start_time": "2023-10-07T16:55:11.555Z"
   },
   {
    "duration": 21,
    "start_time": "2023-10-07T16:55:11.569Z"
   },
   {
    "duration": 21,
    "start_time": "2023-10-07T16:55:11.592Z"
   },
   {
    "duration": 6,
    "start_time": "2023-10-07T16:55:11.615Z"
   },
   {
    "duration": 29,
    "start_time": "2023-10-07T16:55:11.623Z"
   },
   {
    "duration": 36,
    "start_time": "2023-10-07T16:55:11.653Z"
   },
   {
    "duration": 12,
    "start_time": "2023-10-07T16:55:11.691Z"
   },
   {
    "duration": 21,
    "start_time": "2023-10-07T16:55:11.705Z"
   },
   {
    "duration": 5,
    "start_time": "2023-10-07T16:55:11.728Z"
   },
   {
    "duration": 39,
    "start_time": "2023-10-07T16:55:11.737Z"
   },
   {
    "duration": 12,
    "start_time": "2023-10-07T16:55:11.778Z"
   },
   {
    "duration": 19,
    "start_time": "2023-10-07T16:55:11.792Z"
   },
   {
    "duration": 21,
    "start_time": "2023-10-07T16:55:11.813Z"
   },
   {
    "duration": 15,
    "start_time": "2023-10-07T16:55:11.836Z"
   },
   {
    "duration": 19,
    "start_time": "2023-10-07T16:55:11.853Z"
   },
   {
    "duration": 20,
    "start_time": "2023-10-07T16:55:11.874Z"
   },
   {
    "duration": 26,
    "start_time": "2023-10-07T16:55:11.896Z"
   },
   {
    "duration": 244,
    "start_time": "2023-10-07T16:55:11.924Z"
   },
   {
    "duration": 11,
    "start_time": "2023-10-07T16:55:12.170Z"
   },
   {
    "duration": 330,
    "start_time": "2023-10-07T16:55:12.185Z"
   },
   {
    "duration": 12,
    "start_time": "2023-10-07T16:55:12.516Z"
   },
   {
    "duration": 41,
    "start_time": "2023-10-07T16:55:12.529Z"
   },
   {
    "duration": 543,
    "start_time": "2023-10-07T16:55:12.572Z"
   },
   {
    "duration": 32,
    "start_time": "2023-10-07T16:55:13.118Z"
   },
   {
    "duration": 201,
    "start_time": "2023-10-07T16:55:13.152Z"
   },
   {
    "duration": 18,
    "start_time": "2023-10-07T16:55:13.357Z"
   },
   {
    "duration": 5,
    "start_time": "2023-10-07T16:55:13.379Z"
   },
   {
    "duration": 611,
    "start_time": "2023-10-07T16:55:13.385Z"
   },
   {
    "duration": 278,
    "start_time": "2023-10-07T16:55:13.997Z"
   },
   {
    "duration": 318,
    "start_time": "2023-10-07T16:55:14.277Z"
   },
   {
    "duration": 1443,
    "start_time": "2023-10-08T02:16:14.264Z"
   },
   {
    "duration": 111,
    "start_time": "2023-10-08T02:16:15.709Z"
   },
   {
    "duration": 18,
    "start_time": "2023-10-08T02:16:15.822Z"
   },
   {
    "duration": 15,
    "start_time": "2023-10-08T02:16:15.842Z"
   },
   {
    "duration": 6,
    "start_time": "2023-10-08T02:16:15.859Z"
   },
   {
    "duration": 5,
    "start_time": "2023-10-08T02:16:15.867Z"
   },
   {
    "duration": 11,
    "start_time": "2023-10-08T02:16:15.873Z"
   },
   {
    "duration": 5,
    "start_time": "2023-10-08T02:16:15.901Z"
   },
   {
    "duration": 6,
    "start_time": "2023-10-08T02:16:15.908Z"
   },
   {
    "duration": 14,
    "start_time": "2023-10-08T02:16:15.917Z"
   },
   {
    "duration": 5,
    "start_time": "2023-10-08T02:16:15.932Z"
   },
   {
    "duration": 17,
    "start_time": "2023-10-08T02:16:15.938Z"
   },
   {
    "duration": 5,
    "start_time": "2023-10-08T02:16:15.956Z"
   },
   {
    "duration": 20,
    "start_time": "2023-10-08T02:16:16.002Z"
   },
   {
    "duration": 9,
    "start_time": "2023-10-08T02:16:16.024Z"
   },
   {
    "duration": 18,
    "start_time": "2023-10-08T02:16:16.034Z"
   },
   {
    "duration": 8,
    "start_time": "2023-10-08T02:16:16.053Z"
   },
   {
    "duration": 10,
    "start_time": "2023-10-08T02:16:16.062Z"
   },
   {
    "duration": 9,
    "start_time": "2023-10-08T02:16:16.102Z"
   },
   {
    "duration": 19,
    "start_time": "2023-10-08T02:16:16.113Z"
   },
   {
    "duration": 23,
    "start_time": "2023-10-08T02:16:16.133Z"
   },
   {
    "duration": 196,
    "start_time": "2023-10-08T02:16:16.157Z"
   },
   {
    "duration": 7,
    "start_time": "2023-10-08T02:16:16.355Z"
   },
   {
    "duration": 277,
    "start_time": "2023-10-08T02:16:16.364Z"
   },
   {
    "duration": 12,
    "start_time": "2023-10-08T02:16:16.643Z"
   },
   {
    "duration": 17,
    "start_time": "2023-10-08T02:16:16.657Z"
   },
   {
    "duration": 463,
    "start_time": "2023-10-08T02:16:16.675Z"
   },
   {
    "duration": 23,
    "start_time": "2023-10-08T02:16:17.142Z"
   },
   {
    "duration": 173,
    "start_time": "2023-10-08T02:16:17.167Z"
   },
   {
    "duration": 12,
    "start_time": "2023-10-08T02:16:17.341Z"
   },
   {
    "duration": 22,
    "start_time": "2023-10-08T02:16:17.354Z"
   },
   {
    "duration": 524,
    "start_time": "2023-10-08T02:16:17.378Z"
   },
   {
    "duration": 206,
    "start_time": "2023-10-08T02:16:17.904Z"
   },
   {
    "duration": 310,
    "start_time": "2023-10-08T02:16:18.111Z"
   },
   {
    "duration": 1225,
    "start_time": "2023-10-08T02:17:41.719Z"
   },
   {
    "duration": 56,
    "start_time": "2023-10-08T02:17:42.946Z"
   },
   {
    "duration": 18,
    "start_time": "2023-10-08T02:17:43.004Z"
   },
   {
    "duration": 32,
    "start_time": "2023-10-08T02:17:43.024Z"
   },
   {
    "duration": 26,
    "start_time": "2023-10-08T02:17:43.057Z"
   },
   {
    "duration": 22,
    "start_time": "2023-10-08T02:17:43.085Z"
   },
   {
    "duration": 17,
    "start_time": "2023-10-08T02:17:43.109Z"
   },
   {
    "duration": 22,
    "start_time": "2023-10-08T02:17:43.128Z"
   },
   {
    "duration": 12,
    "start_time": "2023-10-08T02:17:43.152Z"
   },
   {
    "duration": 28,
    "start_time": "2023-10-08T02:17:43.167Z"
   },
   {
    "duration": 7,
    "start_time": "2023-10-08T02:17:43.197Z"
   },
   {
    "duration": 18,
    "start_time": "2023-10-08T02:17:43.206Z"
   },
   {
    "duration": 5,
    "start_time": "2023-10-08T02:17:43.226Z"
   },
   {
    "duration": 25,
    "start_time": "2023-10-08T02:17:43.232Z"
   },
   {
    "duration": 9,
    "start_time": "2023-10-08T02:17:43.259Z"
   },
   {
    "duration": 39,
    "start_time": "2023-10-08T02:17:43.270Z"
   },
   {
    "duration": 8,
    "start_time": "2023-10-08T02:17:43.311Z"
   },
   {
    "duration": 5,
    "start_time": "2023-10-08T02:17:43.321Z"
   },
   {
    "duration": 18,
    "start_time": "2023-10-08T02:17:43.327Z"
   },
   {
    "duration": 17,
    "start_time": "2023-10-08T02:17:43.347Z"
   },
   {
    "duration": 43,
    "start_time": "2023-10-08T02:17:43.366Z"
   },
   {
    "duration": 179,
    "start_time": "2023-10-08T02:17:43.410Z"
   },
   {
    "duration": 15,
    "start_time": "2023-10-08T02:17:43.590Z"
   },
   {
    "duration": 272,
    "start_time": "2023-10-08T02:17:43.607Z"
   },
   {
    "duration": 25,
    "start_time": "2023-10-08T02:17:43.880Z"
   },
   {
    "duration": 4,
    "start_time": "2023-10-08T02:17:43.907Z"
   },
   {
    "duration": 453,
    "start_time": "2023-10-08T02:17:43.913Z"
   },
   {
    "duration": 22,
    "start_time": "2023-10-08T02:17:44.370Z"
   },
   {
    "duration": 182,
    "start_time": "2023-10-08T02:17:44.394Z"
   },
   {
    "duration": 24,
    "start_time": "2023-10-08T02:17:44.578Z"
   },
   {
    "duration": 21,
    "start_time": "2023-10-08T02:17:44.605Z"
   },
   {
    "duration": 539,
    "start_time": "2023-10-08T02:17:44.629Z"
   },
   {
    "duration": 206,
    "start_time": "2023-10-08T02:17:45.170Z"
   },
   {
    "duration": 293,
    "start_time": "2023-10-08T02:17:45.378Z"
   },
   {
    "duration": 1891,
    "start_time": "2023-10-08T02:19:28.494Z"
   },
   {
    "duration": 11,
    "start_time": "2023-10-08T02:19:31.867Z"
   },
   {
    "duration": 255,
    "start_time": "2023-10-08T02:19:36.856Z"
   },
   {
    "duration": 208,
    "start_time": "2023-10-08T02:19:40.288Z"
   },
   {
    "duration": 22,
    "start_time": "2023-10-08T02:24:41.579Z"
   },
   {
    "duration": 8,
    "start_time": "2023-10-08T02:25:35.789Z"
   },
   {
    "duration": 10,
    "start_time": "2023-10-08T02:27:38.717Z"
   },
   {
    "duration": 209,
    "start_time": "2023-10-08T02:27:42.432Z"
   },
   {
    "duration": 167,
    "start_time": "2023-10-08T02:31:19.215Z"
   },
   {
    "duration": 16,
    "start_time": "2023-10-08T02:31:27.555Z"
   },
   {
    "duration": 172,
    "start_time": "2023-10-08T02:32:00.929Z"
   },
   {
    "duration": 12,
    "start_time": "2023-10-08T02:33:35.626Z"
   },
   {
    "duration": 195,
    "start_time": "2023-10-08T02:33:44.296Z"
   },
   {
    "duration": 155,
    "start_time": "2023-10-08T02:34:43.596Z"
   },
   {
    "duration": 242,
    "start_time": "2023-10-08T02:35:04.606Z"
   },
   {
    "duration": 277,
    "start_time": "2023-10-08T02:35:18.260Z"
   },
   {
    "duration": 306,
    "start_time": "2023-10-08T02:35:36.666Z"
   },
   {
    "duration": 168,
    "start_time": "2023-10-08T02:35:56.011Z"
   },
   {
    "duration": 561,
    "start_time": "2023-10-08T02:36:08.246Z"
   },
   {
    "duration": 581,
    "start_time": "2023-10-08T02:36:14.510Z"
   },
   {
    "duration": 617,
    "start_time": "2023-10-08T02:36:29.432Z"
   },
   {
    "duration": 187,
    "start_time": "2023-10-08T02:37:03.494Z"
   },
   {
    "duration": 192,
    "start_time": "2023-10-08T02:37:17.782Z"
   },
   {
    "duration": 182,
    "start_time": "2023-10-08T02:37:56.137Z"
   },
   {
    "duration": 193,
    "start_time": "2023-10-08T02:38:00.259Z"
   },
   {
    "duration": 507,
    "start_time": "2023-10-08T02:38:07.940Z"
   },
   {
    "duration": 168,
    "start_time": "2023-10-08T02:38:22.859Z"
   },
   {
    "duration": 411,
    "start_time": "2023-10-08T02:38:29.424Z"
   },
   {
    "duration": 285,
    "start_time": "2023-10-08T02:38:40.522Z"
   },
   {
    "duration": 159,
    "start_time": "2023-10-08T02:38:48.531Z"
   },
   {
    "duration": 156,
    "start_time": "2023-10-08T02:38:54.329Z"
   },
   {
    "duration": 154,
    "start_time": "2023-10-08T02:39:00.894Z"
   },
   {
    "duration": 153,
    "start_time": "2023-10-08T02:39:16.931Z"
   },
   {
    "duration": 1266,
    "start_time": "2023-10-08T02:44:34.210Z"
   },
   {
    "duration": 58,
    "start_time": "2023-10-08T02:44:35.478Z"
   },
   {
    "duration": 58,
    "start_time": "2023-10-08T02:44:35.538Z"
   },
   {
    "duration": 21,
    "start_time": "2023-10-08T02:44:35.598Z"
   },
   {
    "duration": 28,
    "start_time": "2023-10-08T02:44:35.621Z"
   },
   {
    "duration": 41,
    "start_time": "2023-10-08T02:44:35.650Z"
   },
   {
    "duration": 37,
    "start_time": "2023-10-08T02:44:35.693Z"
   },
   {
    "duration": 35,
    "start_time": "2023-10-08T02:44:35.732Z"
   },
   {
    "duration": 42,
    "start_time": "2023-10-08T02:44:35.769Z"
   },
   {
    "duration": 48,
    "start_time": "2023-10-08T02:44:35.813Z"
   },
   {
    "duration": 18,
    "start_time": "2023-10-08T02:44:35.862Z"
   },
   {
    "duration": 268,
    "start_time": "2023-10-08T02:44:35.881Z"
   },
   {
    "duration": 75,
    "start_time": "2023-10-08T02:44:36.150Z"
   },
   {
    "duration": 63,
    "start_time": "2023-10-08T02:44:36.229Z"
   },
   {
    "duration": 58,
    "start_time": "2023-10-08T02:44:36.294Z"
   },
   {
    "duration": 43,
    "start_time": "2023-10-08T02:44:36.354Z"
   },
   {
    "duration": 15,
    "start_time": "2023-10-08T02:44:36.398Z"
   },
   {
    "duration": 35,
    "start_time": "2023-10-08T02:44:36.415Z"
   },
   {
    "duration": 44,
    "start_time": "2023-10-08T02:44:36.451Z"
   },
   {
    "duration": 21,
    "start_time": "2023-10-08T02:44:36.496Z"
   },
   {
    "duration": 25,
    "start_time": "2023-10-08T02:44:36.519Z"
   },
   {
    "duration": 185,
    "start_time": "2023-10-08T02:44:36.546Z"
   },
   {
    "duration": 6,
    "start_time": "2023-10-08T02:44:36.733Z"
   },
   {
    "duration": 274,
    "start_time": "2023-10-08T02:44:36.741Z"
   },
   {
    "duration": 11,
    "start_time": "2023-10-08T02:44:37.017Z"
   },
   {
    "duration": 43,
    "start_time": "2023-10-08T02:44:37.030Z"
   },
   {
    "duration": 452,
    "start_time": "2023-10-08T02:44:37.074Z"
   },
   {
    "duration": 23,
    "start_time": "2023-10-08T02:44:37.528Z"
   },
   {
    "duration": 175,
    "start_time": "2023-10-08T02:44:37.553Z"
   },
   {
    "duration": 12,
    "start_time": "2023-10-08T02:44:37.730Z"
   },
   {
    "duration": 18,
    "start_time": "2023-10-08T02:44:37.744Z"
   },
   {
    "duration": 515,
    "start_time": "2023-10-08T02:44:37.764Z"
   },
   {
    "duration": 35,
    "start_time": "2023-10-08T02:44:38.281Z"
   },
   {
    "duration": 19,
    "start_time": "2023-10-08T02:44:38.318Z"
   },
   {
    "duration": 181,
    "start_time": "2023-10-08T02:44:38.339Z"
   },
   {
    "duration": 9,
    "start_time": "2023-10-08T02:44:38.522Z"
   },
   {
    "duration": 0,
    "start_time": "2023-10-08T02:44:38.533Z"
   },
   {
    "duration": 0,
    "start_time": "2023-10-08T02:44:38.535Z"
   },
   {
    "duration": 0,
    "start_time": "2023-10-08T02:44:38.536Z"
   },
   {
    "duration": 0,
    "start_time": "2023-10-08T02:44:38.539Z"
   },
   {
    "duration": 254,
    "start_time": "2023-10-08T02:47:43.654Z"
   },
   {
    "duration": 187,
    "start_time": "2023-10-08T02:47:51.860Z"
   },
   {
    "duration": 174,
    "start_time": "2023-10-08T02:51:41.309Z"
   },
   {
    "duration": 10,
    "start_time": "2023-10-08T03:23:49.310Z"
   },
   {
    "duration": 22,
    "start_time": "2023-10-08T03:23:54.083Z"
   },
   {
    "duration": 1203,
    "start_time": "2023-10-08T03:24:20.466Z"
   },
   {
    "duration": 56,
    "start_time": "2023-10-08T03:24:21.671Z"
   },
   {
    "duration": 19,
    "start_time": "2023-10-08T03:24:21.728Z"
   },
   {
    "duration": 16,
    "start_time": "2023-10-08T03:24:21.749Z"
   },
   {
    "duration": 21,
    "start_time": "2023-10-08T03:24:21.768Z"
   },
   {
    "duration": 6,
    "start_time": "2023-10-08T03:24:21.801Z"
   },
   {
    "duration": 18,
    "start_time": "2023-10-08T03:24:21.808Z"
   },
   {
    "duration": 26,
    "start_time": "2023-10-08T03:24:21.828Z"
   },
   {
    "duration": 43,
    "start_time": "2023-10-08T03:24:21.856Z"
   },
   {
    "duration": 23,
    "start_time": "2023-10-08T03:24:21.900Z"
   },
   {
    "duration": 9,
    "start_time": "2023-10-08T03:24:21.925Z"
   },
   {
    "duration": 29,
    "start_time": "2023-10-08T03:24:21.936Z"
   },
   {
    "duration": 15,
    "start_time": "2023-10-08T03:24:21.966Z"
   },
   {
    "duration": 35,
    "start_time": "2023-10-08T03:24:21.984Z"
   },
   {
    "duration": 12,
    "start_time": "2023-10-08T03:24:22.020Z"
   },
   {
    "duration": 29,
    "start_time": "2023-10-08T03:24:22.033Z"
   },
   {
    "duration": 20,
    "start_time": "2023-10-08T03:24:22.064Z"
   },
   {
    "duration": 7,
    "start_time": "2023-10-08T03:24:22.086Z"
   },
   {
    "duration": 19,
    "start_time": "2023-10-08T03:24:22.095Z"
   },
   {
    "duration": 16,
    "start_time": "2023-10-08T03:24:22.116Z"
   },
   {
    "duration": 22,
    "start_time": "2023-10-08T03:24:22.133Z"
   },
   {
    "duration": 203,
    "start_time": "2023-10-08T03:24:22.157Z"
   },
   {
    "duration": 7,
    "start_time": "2023-10-08T03:24:22.361Z"
   },
   {
    "duration": 532,
    "start_time": "2023-10-08T03:24:22.369Z"
   },
   {
    "duration": 13,
    "start_time": "2023-10-08T03:24:22.904Z"
   },
   {
    "duration": 158,
    "start_time": "2023-10-08T03:24:22.918Z"
   },
   {
    "duration": 948,
    "start_time": "2023-10-08T03:24:23.078Z"
   },
   {
    "duration": 22,
    "start_time": "2023-10-08T03:24:24.028Z"
   },
   {
    "duration": 223,
    "start_time": "2023-10-08T03:24:24.052Z"
   },
   {
    "duration": 26,
    "start_time": "2023-10-08T03:24:24.277Z"
   },
   {
    "duration": 8,
    "start_time": "2023-10-08T03:24:24.305Z"
   },
   {
    "duration": 575,
    "start_time": "2023-10-08T03:24:24.315Z"
   },
   {
    "duration": 27,
    "start_time": "2023-10-08T03:24:24.891Z"
   },
   {
    "duration": 7,
    "start_time": "2023-10-08T03:24:24.919Z"
   },
   {
    "duration": 185,
    "start_time": "2023-10-08T03:24:24.928Z"
   },
   {
    "duration": 259,
    "start_time": "2023-10-08T03:24:25.114Z"
   },
   {
    "duration": 171,
    "start_time": "2023-10-08T03:24:25.375Z"
   },
   {
    "duration": 191,
    "start_time": "2023-10-08T03:24:25.547Z"
   },
   {
    "duration": 205,
    "start_time": "2023-10-08T03:24:25.740Z"
   },
   {
    "duration": 186,
    "start_time": "2023-10-08T03:34:31.592Z"
   },
   {
    "duration": 301,
    "start_time": "2023-10-08T03:43:20.858Z"
   },
   {
    "duration": 316,
    "start_time": "2023-10-08T03:43:31.553Z"
   },
   {
    "duration": 15,
    "start_time": "2023-10-08T03:46:23.262Z"
   },
   {
    "duration": 4,
    "start_time": "2023-10-08T03:46:35.962Z"
   },
   {
    "duration": 14,
    "start_time": "2023-10-08T03:46:39.582Z"
   },
   {
    "duration": 235,
    "start_time": "2023-10-08T03:46:52.514Z"
   },
   {
    "duration": 155,
    "start_time": "2023-10-08T03:47:03.632Z"
   },
   {
    "duration": 163,
    "start_time": "2023-10-08T03:47:24.117Z"
   },
   {
    "duration": 6,
    "start_time": "2023-10-08T03:52:32.426Z"
   },
   {
    "duration": 26,
    "start_time": "2023-10-08T03:52:37.643Z"
   },
   {
    "duration": 30,
    "start_time": "2023-10-08T03:52:42.699Z"
   },
   {
    "duration": 8,
    "start_time": "2023-10-08T03:53:07.944Z"
   },
   {
    "duration": 1287,
    "start_time": "2023-10-08T03:53:46.867Z"
   },
   {
    "duration": 64,
    "start_time": "2023-10-08T03:53:48.157Z"
   },
   {
    "duration": 20,
    "start_time": "2023-10-08T03:53:48.223Z"
   },
   {
    "duration": 16,
    "start_time": "2023-10-08T03:53:48.244Z"
   },
   {
    "duration": 7,
    "start_time": "2023-10-08T03:53:48.262Z"
   },
   {
    "duration": 39,
    "start_time": "2023-10-08T03:53:48.271Z"
   },
   {
    "duration": 15,
    "start_time": "2023-10-08T03:53:48.312Z"
   },
   {
    "duration": 5,
    "start_time": "2023-10-08T03:53:48.328Z"
   },
   {
    "duration": 8,
    "start_time": "2023-10-08T03:53:48.335Z"
   },
   {
    "duration": 21,
    "start_time": "2023-10-08T03:53:48.345Z"
   },
   {
    "duration": 5,
    "start_time": "2023-10-08T03:53:48.368Z"
   },
   {
    "duration": 42,
    "start_time": "2023-10-08T03:53:48.374Z"
   },
   {
    "duration": 5,
    "start_time": "2023-10-08T03:53:48.418Z"
   },
   {
    "duration": 36,
    "start_time": "2023-10-08T03:53:48.425Z"
   },
   {
    "duration": 10,
    "start_time": "2023-10-08T03:53:48.463Z"
   },
   {
    "duration": 38,
    "start_time": "2023-10-08T03:53:48.475Z"
   },
   {
    "duration": 8,
    "start_time": "2023-10-08T03:53:48.515Z"
   },
   {
    "duration": 8,
    "start_time": "2023-10-08T03:53:48.524Z"
   },
   {
    "duration": 21,
    "start_time": "2023-10-08T03:53:48.533Z"
   },
   {
    "duration": 36,
    "start_time": "2023-10-08T03:53:48.556Z"
   },
   {
    "duration": 34,
    "start_time": "2023-10-08T03:53:48.594Z"
   },
   {
    "duration": 223,
    "start_time": "2023-10-08T03:53:48.630Z"
   },
   {
    "duration": 6,
    "start_time": "2023-10-08T03:53:48.855Z"
   },
   {
    "duration": 298,
    "start_time": "2023-10-08T03:53:48.863Z"
   },
   {
    "duration": 11,
    "start_time": "2023-10-08T03:53:49.163Z"
   },
   {
    "duration": 4,
    "start_time": "2023-10-08T03:53:49.176Z"
   },
   {
    "duration": 489,
    "start_time": "2023-10-08T03:53:49.181Z"
   },
   {
    "duration": 23,
    "start_time": "2023-10-08T03:53:49.672Z"
   },
   {
    "duration": 180,
    "start_time": "2023-10-08T03:53:49.696Z"
   },
   {
    "duration": 11,
    "start_time": "2023-10-08T03:53:49.878Z"
   },
   {
    "duration": 6,
    "start_time": "2023-10-08T03:53:49.903Z"
   },
   {
    "duration": 561,
    "start_time": "2023-10-08T03:53:49.911Z"
   },
   {
    "duration": 494,
    "start_time": "2023-10-08T03:53:50.474Z"
   },
   {
    "duration": 0,
    "start_time": "2023-10-08T03:53:50.970Z"
   },
   {
    "duration": 0,
    "start_time": "2023-10-08T03:53:50.971Z"
   },
   {
    "duration": 0,
    "start_time": "2023-10-08T03:53:50.973Z"
   },
   {
    "duration": 0,
    "start_time": "2023-10-08T03:53:50.974Z"
   },
   {
    "duration": 0,
    "start_time": "2023-10-08T03:53:50.976Z"
   },
   {
    "duration": 0,
    "start_time": "2023-10-08T03:53:50.978Z"
   },
   {
    "duration": 2,
    "start_time": "2023-10-08T03:54:04.893Z"
   },
   {
    "duration": 3,
    "start_time": "2023-10-08T03:54:06.085Z"
   },
   {
    "duration": 143,
    "start_time": "2023-10-08T03:54:07.045Z"
   },
   {
    "duration": 251,
    "start_time": "2023-10-08T03:54:08.572Z"
   },
   {
    "duration": 8,
    "start_time": "2023-10-08T03:54:10.232Z"
   },
   {
    "duration": 32,
    "start_time": "2023-10-08T03:54:37.272Z"
   },
   {
    "duration": 154,
    "start_time": "2023-10-08T03:55:51.314Z"
   },
   {
    "duration": 173,
    "start_time": "2023-10-08T03:56:49.793Z"
   },
   {
    "duration": 181,
    "start_time": "2023-10-08T03:57:09.995Z"
   },
   {
    "duration": 9,
    "start_time": "2023-10-08T03:57:15.827Z"
   },
   {
    "duration": 166,
    "start_time": "2023-10-08T04:05:35.338Z"
   },
   {
    "duration": 5,
    "start_time": "2023-10-08T04:05:37.083Z"
   },
   {
    "duration": 210,
    "start_time": "2023-10-08T04:06:47.514Z"
   },
   {
    "duration": 235,
    "start_time": "2023-10-08T04:06:48.640Z"
   },
   {
    "duration": 184,
    "start_time": "2023-10-08T04:13:39.090Z"
   },
   {
    "duration": 154,
    "start_time": "2023-10-08T04:13:59.269Z"
   },
   {
    "duration": 5,
    "start_time": "2023-10-08T04:14:00.862Z"
   },
   {
    "duration": 10,
    "start_time": "2023-10-08T04:14:25.106Z"
   },
   {
    "duration": 171,
    "start_time": "2023-10-08T04:14:27.038Z"
   },
   {
    "duration": 109,
    "start_time": "2023-10-08T04:40:07.819Z"
   },
   {
    "duration": 116,
    "start_time": "2023-10-08T04:40:15.835Z"
   },
   {
    "duration": 257,
    "start_time": "2023-10-08T04:40:23.724Z"
   },
   {
    "duration": 1583,
    "start_time": "2023-10-08T04:40:34.266Z"
   },
   {
    "duration": 127,
    "start_time": "2023-10-08T04:41:29.771Z"
   },
   {
    "duration": 89,
    "start_time": "2023-10-08T04:41:33.725Z"
   },
   {
    "duration": 16,
    "start_time": "2023-10-08T04:41:37.135Z"
   },
   {
    "duration": 12,
    "start_time": "2023-10-08T04:43:12.014Z"
   },
   {
    "duration": 11,
    "start_time": "2023-10-08T04:47:06.122Z"
   },
   {
    "duration": 12,
    "start_time": "2023-10-08T04:47:06.842Z"
   },
   {
    "duration": 16,
    "start_time": "2023-10-08T04:48:14.316Z"
   },
   {
    "duration": 11,
    "start_time": "2023-10-08T04:48:21.118Z"
   },
   {
    "duration": 12,
    "start_time": "2023-10-08T04:48:24.255Z"
   },
   {
    "duration": 12,
    "start_time": "2023-10-08T04:48:27.522Z"
   },
   {
    "duration": 11,
    "start_time": "2023-10-08T04:48:33.625Z"
   },
   {
    "duration": 13,
    "start_time": "2023-10-08T04:48:40.716Z"
   },
   {
    "duration": 11,
    "start_time": "2023-10-08T04:48:43.920Z"
   },
   {
    "duration": 11,
    "start_time": "2023-10-08T04:48:56.224Z"
   },
   {
    "duration": 12,
    "start_time": "2023-10-08T04:49:31.355Z"
   },
   {
    "duration": 12,
    "start_time": "2023-10-08T04:49:32.785Z"
   },
   {
    "duration": 11,
    "start_time": "2023-10-08T04:49:34.254Z"
   },
   {
    "duration": 1302,
    "start_time": "2023-10-08T04:53:17.320Z"
   },
   {
    "duration": 58,
    "start_time": "2023-10-08T04:53:18.624Z"
   },
   {
    "duration": 24,
    "start_time": "2023-10-08T04:53:18.684Z"
   },
   {
    "duration": 20,
    "start_time": "2023-10-08T04:53:18.711Z"
   },
   {
    "duration": 8,
    "start_time": "2023-10-08T04:53:18.734Z"
   },
   {
    "duration": 14,
    "start_time": "2023-10-08T04:53:18.743Z"
   },
   {
    "duration": 12,
    "start_time": "2023-10-08T04:53:18.759Z"
   },
   {
    "duration": 29,
    "start_time": "2023-10-08T04:53:18.772Z"
   },
   {
    "duration": 6,
    "start_time": "2023-10-08T04:53:18.803Z"
   },
   {
    "duration": 31,
    "start_time": "2023-10-08T04:53:18.811Z"
   },
   {
    "duration": 9,
    "start_time": "2023-10-08T04:53:18.844Z"
   },
   {
    "duration": 32,
    "start_time": "2023-10-08T04:53:18.855Z"
   },
   {
    "duration": 5,
    "start_time": "2023-10-08T04:53:18.889Z"
   },
   {
    "duration": 40,
    "start_time": "2023-10-08T04:53:18.901Z"
   },
   {
    "duration": 10,
    "start_time": "2023-10-08T04:53:18.943Z"
   },
   {
    "duration": 25,
    "start_time": "2023-10-08T04:53:18.954Z"
   },
   {
    "duration": 26,
    "start_time": "2023-10-08T04:53:18.981Z"
   },
   {
    "duration": 3,
    "start_time": "2023-10-08T04:53:19.009Z"
   },
   {
    "duration": 24,
    "start_time": "2023-10-08T04:53:19.015Z"
   },
   {
    "duration": 18,
    "start_time": "2023-10-08T04:53:19.040Z"
   },
   {
    "duration": 27,
    "start_time": "2023-10-08T04:53:19.060Z"
   },
   {
    "duration": 233,
    "start_time": "2023-10-08T04:53:19.103Z"
   },
   {
    "duration": 7,
    "start_time": "2023-10-08T04:53:19.338Z"
   },
   {
    "duration": 300,
    "start_time": "2023-10-08T04:53:19.347Z"
   },
   {
    "duration": 11,
    "start_time": "2023-10-08T04:53:19.649Z"
   },
   {
    "duration": 21,
    "start_time": "2023-10-08T04:53:19.662Z"
   },
   {
    "duration": 522,
    "start_time": "2023-10-08T04:53:19.685Z"
   },
   {
    "duration": 29,
    "start_time": "2023-10-08T04:53:20.209Z"
   },
   {
    "duration": 205,
    "start_time": "2023-10-08T04:53:20.240Z"
   },
   {
    "duration": 12,
    "start_time": "2023-10-08T04:53:20.447Z"
   },
   {
    "duration": 35,
    "start_time": "2023-10-08T04:53:20.460Z"
   },
   {
    "duration": 594,
    "start_time": "2023-10-08T04:53:20.497Z"
   },
   {
    "duration": 171,
    "start_time": "2023-10-08T04:53:21.101Z"
   },
   {
    "duration": 247,
    "start_time": "2023-10-08T04:53:21.274Z"
   },
   {
    "duration": 24,
    "start_time": "2023-10-08T04:53:21.523Z"
   },
   {
    "duration": 189,
    "start_time": "2023-10-08T04:53:21.549Z"
   },
   {
    "duration": 5,
    "start_time": "2023-10-08T04:53:21.739Z"
   },
   {
    "duration": 249,
    "start_time": "2023-10-08T04:53:21.746Z"
   },
   {
    "duration": 8,
    "start_time": "2023-10-08T04:53:22.000Z"
   },
   {
    "duration": 222,
    "start_time": "2023-10-08T04:53:22.009Z"
   },
   {
    "duration": 5,
    "start_time": "2023-10-08T04:53:22.235Z"
   },
   {
    "duration": 195,
    "start_time": "2023-10-08T04:53:22.241Z"
   },
   {
    "duration": 5,
    "start_time": "2023-10-08T04:53:22.438Z"
   },
   {
    "duration": 229,
    "start_time": "2023-10-08T04:53:22.445Z"
   },
   {
    "duration": 239,
    "start_time": "2023-10-08T04:53:22.676Z"
   },
   {
    "duration": 11,
    "start_time": "2023-10-08T04:53:22.917Z"
   },
   {
    "duration": 40,
    "start_time": "2023-10-08T04:53:22.930Z"
   },
   {
    "duration": 15,
    "start_time": "2023-10-08T04:53:22.972Z"
   },
   {
    "duration": 27,
    "start_time": "2023-10-08T04:53:22.989Z"
   },
   {
    "duration": 15,
    "start_time": "2023-10-08T04:53:23.018Z"
   },
   {
    "duration": 11,
    "start_time": "2023-10-08T04:53:23.035Z"
   },
   {
    "duration": 23,
    "start_time": "2023-10-08T04:53:23.048Z"
   },
   {
    "duration": 26,
    "start_time": "2023-10-08T04:53:23.072Z"
   },
   {
    "duration": 21,
    "start_time": "2023-10-08T04:53:23.100Z"
   },
   {
    "duration": 15,
    "start_time": "2023-10-08T04:53:23.123Z"
   },
   {
    "duration": 30,
    "start_time": "2023-10-08T04:53:23.140Z"
   },
   {
    "duration": 14,
    "start_time": "2023-10-08T04:53:23.172Z"
   },
   {
    "duration": 11,
    "start_time": "2023-10-08T05:36:33.054Z"
   },
   {
    "duration": 28,
    "start_time": "2023-10-08T05:38:58.779Z"
   },
   {
    "duration": 1311,
    "start_time": "2023-10-08T05:39:06.043Z"
   },
   {
    "duration": 70,
    "start_time": "2023-10-08T05:39:07.357Z"
   },
   {
    "duration": 63,
    "start_time": "2023-10-08T05:39:07.432Z"
   },
   {
    "duration": 40,
    "start_time": "2023-10-08T05:39:07.497Z"
   },
   {
    "duration": 21,
    "start_time": "2023-10-08T05:39:07.539Z"
   },
   {
    "duration": 25,
    "start_time": "2023-10-08T05:39:07.561Z"
   },
   {
    "duration": 34,
    "start_time": "2023-10-08T05:39:07.588Z"
   },
   {
    "duration": 13,
    "start_time": "2023-10-08T05:39:07.624Z"
   },
   {
    "duration": 29,
    "start_time": "2023-10-08T05:39:07.638Z"
   },
   {
    "duration": 37,
    "start_time": "2023-10-08T05:39:07.669Z"
   },
   {
    "duration": 15,
    "start_time": "2023-10-08T05:39:07.708Z"
   },
   {
    "duration": 47,
    "start_time": "2023-10-08T05:39:07.725Z"
   },
   {
    "duration": 6,
    "start_time": "2023-10-08T05:39:07.774Z"
   },
   {
    "duration": 68,
    "start_time": "2023-10-08T05:39:07.783Z"
   },
   {
    "duration": 9,
    "start_time": "2023-10-08T05:39:07.853Z"
   },
   {
    "duration": 41,
    "start_time": "2023-10-08T05:39:07.864Z"
   },
   {
    "duration": 17,
    "start_time": "2023-10-08T05:39:07.908Z"
   },
   {
    "duration": 6,
    "start_time": "2023-10-08T05:39:07.928Z"
   },
   {
    "duration": 26,
    "start_time": "2023-10-08T05:39:07.936Z"
   },
   {
    "duration": 34,
    "start_time": "2023-10-08T05:39:07.964Z"
   },
   {
    "duration": 41,
    "start_time": "2023-10-08T05:39:07.999Z"
   },
   {
    "duration": 218,
    "start_time": "2023-10-08T05:39:08.041Z"
   },
   {
    "duration": 8,
    "start_time": "2023-10-08T05:39:08.261Z"
   },
   {
    "duration": 370,
    "start_time": "2023-10-08T05:39:08.270Z"
   },
   {
    "duration": 16,
    "start_time": "2023-10-08T05:39:08.643Z"
   },
   {
    "duration": 219,
    "start_time": "2023-10-08T05:39:08.661Z"
   },
   {
    "duration": 576,
    "start_time": "2023-10-08T05:39:08.882Z"
   },
   {
    "duration": 23,
    "start_time": "2023-10-08T05:39:09.460Z"
   },
   {
    "duration": 847,
    "start_time": "2023-10-08T05:39:09.484Z"
   },
   {
    "duration": 13,
    "start_time": "2023-10-08T05:39:10.334Z"
   },
   {
    "duration": 27,
    "start_time": "2023-10-08T05:39:10.348Z"
   },
   {
    "duration": 671,
    "start_time": "2023-10-08T05:39:10.377Z"
   },
   {
    "duration": 168,
    "start_time": "2023-10-08T05:39:11.050Z"
   },
   {
    "duration": 254,
    "start_time": "2023-10-08T05:39:11.220Z"
   },
   {
    "duration": 36,
    "start_time": "2023-10-08T05:39:11.475Z"
   },
   {
    "duration": 183,
    "start_time": "2023-10-08T05:39:11.513Z"
   },
   {
    "duration": 17,
    "start_time": "2023-10-08T05:39:11.698Z"
   },
   {
    "duration": 200,
    "start_time": "2023-10-08T05:39:11.717Z"
   },
   {
    "duration": 7,
    "start_time": "2023-10-08T05:39:11.922Z"
   },
   {
    "duration": 178,
    "start_time": "2023-10-08T05:39:11.930Z"
   },
   {
    "duration": 14,
    "start_time": "2023-10-08T05:39:12.117Z"
   },
   {
    "duration": 236,
    "start_time": "2023-10-08T05:39:12.132Z"
   },
   {
    "duration": 5,
    "start_time": "2023-10-08T05:39:12.370Z"
   },
   {
    "duration": 235,
    "start_time": "2023-10-08T05:39:12.377Z"
   },
   {
    "duration": 241,
    "start_time": "2023-10-08T05:39:12.614Z"
   },
   {
    "duration": 11,
    "start_time": "2023-10-08T05:39:12.856Z"
   },
   {
    "duration": 27,
    "start_time": "2023-10-08T05:39:12.869Z"
   },
   {
    "duration": 26,
    "start_time": "2023-10-08T05:39:12.909Z"
   },
   {
    "duration": 33,
    "start_time": "2023-10-08T05:39:12.937Z"
   },
   {
    "duration": 31,
    "start_time": "2023-10-08T05:39:12.972Z"
   },
   {
    "duration": 29,
    "start_time": "2023-10-08T05:39:13.004Z"
   },
   {
    "duration": 54,
    "start_time": "2023-10-08T05:39:13.035Z"
   },
   {
    "duration": 40,
    "start_time": "2023-10-08T05:39:13.091Z"
   },
   {
    "duration": 14,
    "start_time": "2023-10-08T05:39:13.133Z"
   },
   {
    "duration": 24,
    "start_time": "2023-10-08T05:39:13.148Z"
   },
   {
    "duration": 37,
    "start_time": "2023-10-08T05:39:13.174Z"
   },
   {
    "duration": 17,
    "start_time": "2023-10-08T05:39:13.219Z"
   },
   {
    "duration": 44,
    "start_time": "2023-10-08T05:39:13.237Z"
   },
   {
    "duration": 182,
    "start_time": "2023-10-08T05:40:08.559Z"
   },
   {
    "duration": 10,
    "start_time": "2023-10-08T05:40:27.621Z"
   },
   {
    "duration": 187,
    "start_time": "2023-10-08T05:40:52.965Z"
   },
   {
    "duration": 11,
    "start_time": "2023-10-08T05:41:02.721Z"
   },
   {
    "duration": 13,
    "start_time": "2023-10-08T05:41:50.642Z"
   },
   {
    "duration": 13,
    "start_time": "2023-10-08T05:42:00.668Z"
   },
   {
    "duration": 15,
    "start_time": "2023-10-08T05:42:47.049Z"
   },
   {
    "duration": 28,
    "start_time": "2023-10-08T05:43:07.796Z"
   },
   {
    "duration": 14,
    "start_time": "2023-10-08T05:43:45.171Z"
   },
   {
    "duration": 10,
    "start_time": "2023-10-08T05:43:53.559Z"
   },
   {
    "duration": 12,
    "start_time": "2023-10-08T05:44:53.516Z"
   },
   {
    "duration": 13,
    "start_time": "2023-10-08T05:45:08.060Z"
   },
   {
    "duration": 11,
    "start_time": "2023-10-08T05:45:31.256Z"
   },
   {
    "duration": 12,
    "start_time": "2023-10-08T05:45:55.426Z"
   },
   {
    "duration": 12,
    "start_time": "2023-10-08T05:45:58.123Z"
   },
   {
    "duration": 25,
    "start_time": "2023-10-08T05:46:52.767Z"
   },
   {
    "duration": 23,
    "start_time": "2023-10-08T05:46:58.222Z"
   },
   {
    "duration": 23,
    "start_time": "2023-10-08T05:47:08.761Z"
   },
   {
    "duration": 12,
    "start_time": "2023-10-08T05:47:33.300Z"
   },
   {
    "duration": 83,
    "start_time": "2023-10-08T05:47:39.299Z"
   },
   {
    "duration": 30,
    "start_time": "2023-10-08T05:47:41.702Z"
   },
   {
    "duration": 27,
    "start_time": "2023-10-08T05:47:51.115Z"
   },
   {
    "duration": 12,
    "start_time": "2023-10-08T05:51:03.089Z"
   },
   {
    "duration": 7,
    "start_time": "2023-10-08T05:52:02.284Z"
   },
   {
    "duration": 6,
    "start_time": "2023-10-08T05:52:13.322Z"
   },
   {
    "duration": 4,
    "start_time": "2023-10-08T05:52:35.051Z"
   },
   {
    "duration": 13,
    "start_time": "2023-10-08T05:54:42.481Z"
   },
   {
    "duration": 12,
    "start_time": "2023-10-08T05:54:49.975Z"
   },
   {
    "duration": 18,
    "start_time": "2023-10-08T05:55:09.608Z"
   },
   {
    "duration": 14,
    "start_time": "2023-10-08T05:55:22.401Z"
   },
   {
    "duration": 1256,
    "start_time": "2023-10-08T05:55:28.449Z"
   },
   {
    "duration": 58,
    "start_time": "2023-10-08T05:55:29.707Z"
   },
   {
    "duration": 19,
    "start_time": "2023-10-08T05:55:29.767Z"
   },
   {
    "duration": 15,
    "start_time": "2023-10-08T05:55:29.788Z"
   },
   {
    "duration": 9,
    "start_time": "2023-10-08T05:55:29.805Z"
   },
   {
    "duration": 21,
    "start_time": "2023-10-08T05:55:29.816Z"
   },
   {
    "duration": 14,
    "start_time": "2023-10-08T05:55:29.839Z"
   },
   {
    "duration": 11,
    "start_time": "2023-10-08T05:55:29.854Z"
   },
   {
    "duration": 8,
    "start_time": "2023-10-08T05:55:29.867Z"
   },
   {
    "duration": 28,
    "start_time": "2023-10-08T05:55:29.878Z"
   },
   {
    "duration": 6,
    "start_time": "2023-10-08T05:55:29.908Z"
   },
   {
    "duration": 39,
    "start_time": "2023-10-08T05:55:29.916Z"
   },
   {
    "duration": 7,
    "start_time": "2023-10-08T05:55:29.958Z"
   },
   {
    "duration": 69,
    "start_time": "2023-10-08T05:55:29.967Z"
   },
   {
    "duration": 16,
    "start_time": "2023-10-08T05:55:30.038Z"
   },
   {
    "duration": 131,
    "start_time": "2023-10-08T05:55:30.056Z"
   },
   {
    "duration": 57,
    "start_time": "2023-10-08T05:55:30.189Z"
   },
   {
    "duration": 85,
    "start_time": "2023-10-08T05:55:30.248Z"
   },
   {
    "duration": 80,
    "start_time": "2023-10-08T05:55:30.336Z"
   },
   {
    "duration": 95,
    "start_time": "2023-10-08T05:55:30.418Z"
   },
   {
    "duration": 195,
    "start_time": "2023-10-08T05:55:30.515Z"
   },
   {
    "duration": 359,
    "start_time": "2023-10-08T05:55:30.712Z"
   },
   {
    "duration": 7,
    "start_time": "2023-10-08T05:55:31.073Z"
   },
   {
    "duration": 332,
    "start_time": "2023-10-08T05:55:31.081Z"
   },
   {
    "duration": 14,
    "start_time": "2023-10-08T05:55:31.415Z"
   },
   {
    "duration": 66,
    "start_time": "2023-10-08T05:55:31.431Z"
   },
   {
    "duration": 568,
    "start_time": "2023-10-08T05:55:31.499Z"
   },
   {
    "duration": 26,
    "start_time": "2023-10-08T05:55:32.071Z"
   },
   {
    "duration": 211,
    "start_time": "2023-10-08T05:55:32.099Z"
   },
   {
    "duration": 13,
    "start_time": "2023-10-08T05:55:32.312Z"
   },
   {
    "duration": 14,
    "start_time": "2023-10-08T05:55:32.327Z"
   },
   {
    "duration": 566,
    "start_time": "2023-10-08T05:55:32.343Z"
   },
   {
    "duration": 166,
    "start_time": "2023-10-08T05:55:32.911Z"
   },
   {
    "duration": 244,
    "start_time": "2023-10-08T05:55:33.080Z"
   },
   {
    "duration": 29,
    "start_time": "2023-10-08T05:55:33.326Z"
   },
   {
    "duration": 187,
    "start_time": "2023-10-08T05:55:33.357Z"
   },
   {
    "duration": 5,
    "start_time": "2023-10-08T05:55:33.546Z"
   },
   {
    "duration": 235,
    "start_time": "2023-10-08T05:55:33.552Z"
   },
   {
    "duration": 12,
    "start_time": "2023-10-08T05:55:33.789Z"
   },
   {
    "duration": 243,
    "start_time": "2023-10-08T05:55:33.803Z"
   },
   {
    "duration": 9,
    "start_time": "2023-10-08T05:55:34.047Z"
   },
   {
    "duration": 254,
    "start_time": "2023-10-08T05:55:34.058Z"
   },
   {
    "duration": 9,
    "start_time": "2023-10-08T05:55:34.314Z"
   },
   {
    "duration": 335,
    "start_time": "2023-10-08T05:55:34.325Z"
   },
   {
    "duration": 246,
    "start_time": "2023-10-08T05:55:34.662Z"
   },
   {
    "duration": 12,
    "start_time": "2023-10-08T05:55:34.910Z"
   },
   {
    "duration": 40,
    "start_time": "2023-10-08T05:55:34.924Z"
   },
   {
    "duration": 19,
    "start_time": "2023-10-08T05:55:34.966Z"
   },
   {
    "duration": 15,
    "start_time": "2023-10-08T05:55:34.987Z"
   },
   {
    "duration": 12,
    "start_time": "2023-10-08T05:55:35.004Z"
   },
   {
    "duration": 68,
    "start_time": "2023-10-08T05:55:35.017Z"
   },
   {
    "duration": 39,
    "start_time": "2023-10-08T05:55:35.086Z"
   },
   {
    "duration": 32,
    "start_time": "2023-10-08T05:55:35.126Z"
   },
   {
    "duration": 27,
    "start_time": "2023-10-08T05:55:35.160Z"
   },
   {
    "duration": 29,
    "start_time": "2023-10-08T05:55:35.189Z"
   },
   {
    "duration": 18,
    "start_time": "2023-10-08T05:55:35.220Z"
   },
   {
    "duration": 45,
    "start_time": "2023-10-08T05:55:35.239Z"
   },
   {
    "duration": 59,
    "start_time": "2023-10-08T05:55:35.286Z"
   },
   {
    "duration": 70,
    "start_time": "2023-10-08T05:55:35.347Z"
   },
   {
    "duration": 86,
    "start_time": "2023-10-08T05:55:35.418Z"
   },
   {
    "duration": 53,
    "start_time": "2023-10-08T05:55:35.506Z"
   },
   {
    "duration": 18,
    "start_time": "2023-10-08T05:56:57.317Z"
   },
   {
    "duration": 1343,
    "start_time": "2023-10-08T05:57:03.646Z"
   },
   {
    "duration": 62,
    "start_time": "2023-10-08T05:57:04.991Z"
   },
   {
    "duration": 19,
    "start_time": "2023-10-08T05:57:05.055Z"
   },
   {
    "duration": 60,
    "start_time": "2023-10-08T05:57:05.076Z"
   },
   {
    "duration": 7,
    "start_time": "2023-10-08T05:57:05.139Z"
   },
   {
    "duration": 35,
    "start_time": "2023-10-08T05:57:05.147Z"
   },
   {
    "duration": 35,
    "start_time": "2023-10-08T05:57:05.184Z"
   },
   {
    "duration": 36,
    "start_time": "2023-10-08T05:57:05.223Z"
   },
   {
    "duration": 26,
    "start_time": "2023-10-08T05:57:05.261Z"
   },
   {
    "duration": 37,
    "start_time": "2023-10-08T05:57:05.289Z"
   },
   {
    "duration": 25,
    "start_time": "2023-10-08T05:57:05.328Z"
   },
   {
    "duration": 48,
    "start_time": "2023-10-08T05:57:05.356Z"
   },
   {
    "duration": 8,
    "start_time": "2023-10-08T05:57:05.407Z"
   },
   {
    "duration": 48,
    "start_time": "2023-10-08T05:57:05.420Z"
   },
   {
    "duration": 20,
    "start_time": "2023-10-08T05:57:05.470Z"
   },
   {
    "duration": 50,
    "start_time": "2023-10-08T05:57:05.492Z"
   },
   {
    "duration": 9,
    "start_time": "2023-10-08T05:57:05.544Z"
   },
   {
    "duration": 47,
    "start_time": "2023-10-08T05:57:05.555Z"
   },
   {
    "duration": 49,
    "start_time": "2023-10-08T05:57:05.604Z"
   },
   {
    "duration": 36,
    "start_time": "2023-10-08T05:57:05.655Z"
   },
   {
    "duration": 25,
    "start_time": "2023-10-08T05:57:05.693Z"
   },
   {
    "duration": 218,
    "start_time": "2023-10-08T05:57:05.719Z"
   },
   {
    "duration": 7,
    "start_time": "2023-10-08T05:57:05.939Z"
   },
   {
    "duration": 350,
    "start_time": "2023-10-08T05:57:05.948Z"
   },
   {
    "duration": 25,
    "start_time": "2023-10-08T05:57:06.302Z"
   },
   {
    "duration": 6,
    "start_time": "2023-10-08T05:57:06.329Z"
   },
   {
    "duration": 529,
    "start_time": "2023-10-08T05:57:06.337Z"
   },
   {
    "duration": 26,
    "start_time": "2023-10-08T05:57:06.869Z"
   },
   {
    "duration": 281,
    "start_time": "2023-10-08T05:57:06.896Z"
   },
   {
    "duration": 13,
    "start_time": "2023-10-08T05:57:07.179Z"
   },
   {
    "duration": 26,
    "start_time": "2023-10-08T05:57:07.206Z"
   },
   {
    "duration": 661,
    "start_time": "2023-10-08T05:57:07.234Z"
   },
   {
    "duration": 172,
    "start_time": "2023-10-08T05:57:07.896Z"
   },
   {
    "duration": 245,
    "start_time": "2023-10-08T05:57:08.070Z"
   },
   {
    "duration": 31,
    "start_time": "2023-10-08T05:57:08.317Z"
   },
   {
    "duration": 229,
    "start_time": "2023-10-08T05:57:08.350Z"
   },
   {
    "duration": 5,
    "start_time": "2023-10-08T05:57:08.582Z"
   },
   {
    "duration": 215,
    "start_time": "2023-10-08T05:57:08.602Z"
   },
   {
    "duration": 7,
    "start_time": "2023-10-08T05:57:08.819Z"
   },
   {
    "duration": 205,
    "start_time": "2023-10-08T05:57:08.828Z"
   },
   {
    "duration": 10,
    "start_time": "2023-10-08T05:57:09.038Z"
   },
   {
    "duration": 185,
    "start_time": "2023-10-08T05:57:09.050Z"
   },
   {
    "duration": 9,
    "start_time": "2023-10-08T05:57:09.237Z"
   },
   {
    "duration": 243,
    "start_time": "2023-10-08T05:57:09.248Z"
   },
   {
    "duration": 262,
    "start_time": "2023-10-08T05:57:09.493Z"
   },
   {
    "duration": 13,
    "start_time": "2023-10-08T05:57:09.757Z"
   },
   {
    "duration": 34,
    "start_time": "2023-10-08T05:57:09.772Z"
   },
   {
    "duration": 32,
    "start_time": "2023-10-08T05:57:09.808Z"
   },
   {
    "duration": 110,
    "start_time": "2023-10-08T05:57:09.842Z"
   },
   {
    "duration": 26,
    "start_time": "2023-10-08T05:57:09.954Z"
   },
   {
    "duration": 24,
    "start_time": "2023-10-08T05:57:09.981Z"
   },
   {
    "duration": 25,
    "start_time": "2023-10-08T05:57:10.010Z"
   },
   {
    "duration": 43,
    "start_time": "2023-10-08T05:57:10.036Z"
   },
   {
    "duration": 34,
    "start_time": "2023-10-08T05:57:10.081Z"
   },
   {
    "duration": 28,
    "start_time": "2023-10-08T05:57:10.118Z"
   },
   {
    "duration": 21,
    "start_time": "2023-10-08T05:57:10.148Z"
   },
   {
    "duration": 23,
    "start_time": "2023-10-08T05:57:10.170Z"
   },
   {
    "duration": 26,
    "start_time": "2023-10-08T05:57:10.194Z"
   },
   {
    "duration": 165,
    "start_time": "2023-10-08T05:57:10.223Z"
   },
   {
    "duration": 34,
    "start_time": "2023-10-08T05:57:10.390Z"
   },
   {
    "duration": 36,
    "start_time": "2023-10-08T05:57:10.426Z"
   },
   {
    "duration": 15,
    "start_time": "2023-10-08T06:01:53.871Z"
   },
   {
    "duration": 1202,
    "start_time": "2023-10-08T06:04:49.179Z"
   },
   {
    "duration": 57,
    "start_time": "2023-10-08T06:04:50.383Z"
   },
   {
    "duration": 18,
    "start_time": "2023-10-08T06:04:50.442Z"
   },
   {
    "duration": 51,
    "start_time": "2023-10-08T06:04:50.462Z"
   },
   {
    "duration": 16,
    "start_time": "2023-10-08T06:04:50.516Z"
   },
   {
    "duration": 16,
    "start_time": "2023-10-08T06:04:50.534Z"
   },
   {
    "duration": 33,
    "start_time": "2023-10-08T06:04:50.552Z"
   },
   {
    "duration": 29,
    "start_time": "2023-10-08T06:04:50.587Z"
   },
   {
    "duration": 36,
    "start_time": "2023-10-08T06:04:50.618Z"
   },
   {
    "duration": 56,
    "start_time": "2023-10-08T06:04:50.655Z"
   },
   {
    "duration": 32,
    "start_time": "2023-10-08T06:04:50.713Z"
   },
   {
    "duration": 29,
    "start_time": "2023-10-08T06:04:50.746Z"
   },
   {
    "duration": 20,
    "start_time": "2023-10-08T06:04:50.777Z"
   },
   {
    "duration": 63,
    "start_time": "2023-10-08T06:04:50.800Z"
   },
   {
    "duration": 9,
    "start_time": "2023-10-08T06:04:50.865Z"
   },
   {
    "duration": 30,
    "start_time": "2023-10-08T06:04:50.876Z"
   },
   {
    "duration": 9,
    "start_time": "2023-10-08T06:04:50.907Z"
   },
   {
    "duration": 29,
    "start_time": "2023-10-08T06:04:50.917Z"
   },
   {
    "duration": 39,
    "start_time": "2023-10-08T06:04:50.948Z"
   },
   {
    "duration": 50,
    "start_time": "2023-10-08T06:04:50.988Z"
   },
   {
    "duration": 52,
    "start_time": "2023-10-08T06:04:51.040Z"
   },
   {
    "duration": 189,
    "start_time": "2023-10-08T06:04:51.094Z"
   },
   {
    "duration": 16,
    "start_time": "2023-10-08T06:04:51.285Z"
   },
   {
    "duration": 329,
    "start_time": "2023-10-08T06:04:51.303Z"
   },
   {
    "duration": 11,
    "start_time": "2023-10-08T06:04:51.634Z"
   },
   {
    "duration": 63,
    "start_time": "2023-10-08T06:04:51.647Z"
   },
   {
    "duration": 462,
    "start_time": "2023-10-08T06:04:51.712Z"
   },
   {
    "duration": 23,
    "start_time": "2023-10-08T06:04:52.177Z"
   },
   {
    "duration": 221,
    "start_time": "2023-10-08T06:04:52.202Z"
   },
   {
    "duration": 13,
    "start_time": "2023-10-08T06:04:52.425Z"
   },
   {
    "duration": 74,
    "start_time": "2023-10-08T06:04:52.440Z"
   },
   {
    "duration": 538,
    "start_time": "2023-10-08T06:04:52.515Z"
   },
   {
    "duration": 153,
    "start_time": "2023-10-08T06:04:53.055Z"
   },
   {
    "duration": 226,
    "start_time": "2023-10-08T06:04:53.210Z"
   },
   {
    "duration": 33,
    "start_time": "2023-10-08T06:04:53.437Z"
   },
   {
    "duration": 309,
    "start_time": "2023-10-08T06:04:53.472Z"
   },
   {
    "duration": 5,
    "start_time": "2023-10-08T06:04:53.782Z"
   },
   {
    "duration": 177,
    "start_time": "2023-10-08T06:04:53.789Z"
   },
   {
    "duration": 7,
    "start_time": "2023-10-08T06:04:53.967Z"
   },
   {
    "duration": 194,
    "start_time": "2023-10-08T06:04:53.975Z"
   },
   {
    "duration": 9,
    "start_time": "2023-10-08T06:04:54.173Z"
   },
   {
    "duration": 222,
    "start_time": "2023-10-08T06:04:54.184Z"
   },
   {
    "duration": 10,
    "start_time": "2023-10-08T06:04:54.408Z"
   },
   {
    "duration": 496,
    "start_time": "2023-10-08T06:04:54.420Z"
   },
   {
    "duration": 213,
    "start_time": "2023-10-08T06:04:54.918Z"
   },
   {
    "duration": 11,
    "start_time": "2023-10-08T06:04:55.132Z"
   },
   {
    "duration": 202,
    "start_time": "2023-10-08T06:04:55.145Z"
   },
   {
    "duration": 47,
    "start_time": "2023-10-08T06:04:55.349Z"
   },
   {
    "duration": 30,
    "start_time": "2023-10-08T06:04:55.398Z"
   },
   {
    "duration": 107,
    "start_time": "2023-10-08T06:04:55.430Z"
   },
   {
    "duration": 48,
    "start_time": "2023-10-08T06:04:55.539Z"
   },
   {
    "duration": 11,
    "start_time": "2023-10-08T06:04:55.589Z"
   },
   {
    "duration": 26,
    "start_time": "2023-10-08T06:04:55.602Z"
   },
   {
    "duration": 38,
    "start_time": "2023-10-08T06:04:55.630Z"
   },
   {
    "duration": 21,
    "start_time": "2023-10-08T06:04:55.670Z"
   },
   {
    "duration": 27,
    "start_time": "2023-10-08T06:04:55.693Z"
   },
   {
    "duration": 36,
    "start_time": "2023-10-08T06:04:55.722Z"
   },
   {
    "duration": 11,
    "start_time": "2023-10-08T06:04:55.760Z"
   },
   {
    "duration": 41,
    "start_time": "2023-10-08T06:04:55.773Z"
   },
   {
    "duration": 2378,
    "start_time": "2023-10-08T07:03:39.192Z"
   },
   {
    "duration": 1239,
    "start_time": "2023-10-08T07:03:46.424Z"
   },
   {
    "duration": 56,
    "start_time": "2023-10-08T07:03:47.665Z"
   },
   {
    "duration": 41,
    "start_time": "2023-10-08T07:03:47.723Z"
   },
   {
    "duration": 36,
    "start_time": "2023-10-08T07:03:47.766Z"
   },
   {
    "duration": 20,
    "start_time": "2023-10-08T07:03:47.804Z"
   },
   {
    "duration": 39,
    "start_time": "2023-10-08T07:03:47.826Z"
   },
   {
    "duration": 48,
    "start_time": "2023-10-08T07:03:47.867Z"
   },
   {
    "duration": 9,
    "start_time": "2023-10-08T07:03:47.917Z"
   },
   {
    "duration": 28,
    "start_time": "2023-10-08T07:03:47.928Z"
   },
   {
    "duration": 60,
    "start_time": "2023-10-08T07:03:47.958Z"
   },
   {
    "duration": 56,
    "start_time": "2023-10-08T07:03:48.020Z"
   },
   {
    "duration": 18,
    "start_time": "2023-10-08T07:03:48.078Z"
   },
   {
    "duration": 39,
    "start_time": "2023-10-08T07:03:48.098Z"
   },
   {
    "duration": 5,
    "start_time": "2023-10-08T07:03:48.142Z"
   },
   {
    "duration": 48,
    "start_time": "2023-10-08T07:03:48.149Z"
   },
   {
    "duration": 35,
    "start_time": "2023-10-08T07:03:48.198Z"
   },
   {
    "duration": 38,
    "start_time": "2023-10-08T07:03:48.235Z"
   },
   {
    "duration": 39,
    "start_time": "2023-10-08T07:03:48.275Z"
   },
   {
    "duration": 39,
    "start_time": "2023-10-08T07:03:48.316Z"
   },
   {
    "duration": 24,
    "start_time": "2023-10-08T07:03:48.357Z"
   },
   {
    "duration": 40,
    "start_time": "2023-10-08T07:03:48.382Z"
   },
   {
    "duration": 33,
    "start_time": "2023-10-08T07:03:48.424Z"
   },
   {
    "duration": 208,
    "start_time": "2023-10-08T07:03:48.459Z"
   },
   {
    "duration": 7,
    "start_time": "2023-10-08T07:03:48.669Z"
   },
   {
    "duration": 345,
    "start_time": "2023-10-08T07:03:48.678Z"
   },
   {
    "duration": 12,
    "start_time": "2023-10-08T07:03:49.024Z"
   },
   {
    "duration": 4,
    "start_time": "2023-10-08T07:03:49.037Z"
   },
   {
    "duration": 887,
    "start_time": "2023-10-08T07:03:49.043Z"
   },
   {
    "duration": 22,
    "start_time": "2023-10-08T07:03:49.932Z"
   },
   {
    "duration": 370,
    "start_time": "2023-10-08T07:03:49.956Z"
   },
   {
    "duration": 11,
    "start_time": "2023-10-08T07:03:50.328Z"
   },
   {
    "duration": 220,
    "start_time": "2023-10-08T07:03:50.341Z"
   },
   {
    "duration": 667,
    "start_time": "2023-10-08T07:03:50.563Z"
   },
   {
    "duration": 155,
    "start_time": "2023-10-08T07:03:51.231Z"
   },
   {
    "duration": 240,
    "start_time": "2023-10-08T07:03:51.387Z"
   },
   {
    "duration": 25,
    "start_time": "2023-10-08T07:03:51.629Z"
   },
   {
    "duration": 185,
    "start_time": "2023-10-08T07:03:51.655Z"
   },
   {
    "duration": 5,
    "start_time": "2023-10-08T07:03:51.841Z"
   },
   {
    "duration": 173,
    "start_time": "2023-10-08T07:03:51.848Z"
   },
   {
    "duration": 7,
    "start_time": "2023-10-08T07:03:52.023Z"
   },
   {
    "duration": 167,
    "start_time": "2023-10-08T07:03:52.036Z"
   },
   {
    "duration": 8,
    "start_time": "2023-10-08T07:03:52.205Z"
   },
   {
    "duration": 161,
    "start_time": "2023-10-08T07:03:52.215Z"
   },
   {
    "duration": 9,
    "start_time": "2023-10-08T07:03:52.377Z"
   },
   {
    "duration": 223,
    "start_time": "2023-10-08T07:03:52.387Z"
   },
   {
    "duration": 224,
    "start_time": "2023-10-08T07:03:52.611Z"
   },
   {
    "duration": 12,
    "start_time": "2023-10-08T07:03:52.837Z"
   },
   {
    "duration": 13,
    "start_time": "2023-10-08T07:03:52.850Z"
   },
   {
    "duration": 13,
    "start_time": "2023-10-08T07:03:52.865Z"
   },
   {
    "duration": 40,
    "start_time": "2023-10-08T07:03:52.902Z"
   },
   {
    "duration": 19,
    "start_time": "2023-10-08T07:03:52.943Z"
   },
   {
    "duration": 12,
    "start_time": "2023-10-08T07:03:52.964Z"
   },
   {
    "duration": 11,
    "start_time": "2023-10-08T07:03:52.978Z"
   },
   {
    "duration": 22,
    "start_time": "2023-10-08T07:03:52.991Z"
   },
   {
    "duration": 20,
    "start_time": "2023-10-08T07:03:53.014Z"
   },
   {
    "duration": 20,
    "start_time": "2023-10-08T07:03:53.036Z"
   },
   {
    "duration": 16,
    "start_time": "2023-10-08T07:03:53.058Z"
   },
   {
    "duration": 18,
    "start_time": "2023-10-08T07:03:53.076Z"
   },
   {
    "duration": 29,
    "start_time": "2023-10-08T07:03:53.096Z"
   },
   {
    "duration": 35,
    "start_time": "2023-10-08T07:03:53.127Z"
   },
   {
    "duration": 196,
    "start_time": "2023-10-08T07:05:13.015Z"
   },
   {
    "duration": 210,
    "start_time": "2023-10-08T07:05:27.804Z"
   },
   {
    "duration": 1301,
    "start_time": "2023-10-08T07:07:55.800Z"
   },
   {
    "duration": 56,
    "start_time": "2023-10-08T07:07:57.103Z"
   },
   {
    "duration": 20,
    "start_time": "2023-10-08T07:07:57.161Z"
   },
   {
    "duration": 32,
    "start_time": "2023-10-08T07:07:57.183Z"
   },
   {
    "duration": 10,
    "start_time": "2023-10-08T07:07:57.217Z"
   },
   {
    "duration": 11,
    "start_time": "2023-10-08T07:07:57.229Z"
   },
   {
    "duration": 24,
    "start_time": "2023-10-08T07:07:57.242Z"
   },
   {
    "duration": 24,
    "start_time": "2023-10-08T07:07:57.267Z"
   },
   {
    "duration": 18,
    "start_time": "2023-10-08T07:07:57.293Z"
   },
   {
    "duration": 39,
    "start_time": "2023-10-08T07:07:57.313Z"
   },
   {
    "duration": 21,
    "start_time": "2023-10-08T07:07:57.353Z"
   },
   {
    "duration": 39,
    "start_time": "2023-10-08T07:07:57.375Z"
   },
   {
    "duration": 38,
    "start_time": "2023-10-08T07:07:57.415Z"
   },
   {
    "duration": 14,
    "start_time": "2023-10-08T07:07:57.456Z"
   },
   {
    "duration": 52,
    "start_time": "2023-10-08T07:07:57.471Z"
   },
   {
    "duration": 16,
    "start_time": "2023-10-08T07:07:57.525Z"
   },
   {
    "duration": 33,
    "start_time": "2023-10-08T07:07:57.543Z"
   },
   {
    "duration": 23,
    "start_time": "2023-10-08T07:07:57.578Z"
   },
   {
    "duration": 32,
    "start_time": "2023-10-08T07:07:57.602Z"
   },
   {
    "duration": 39,
    "start_time": "2023-10-08T07:07:57.637Z"
   },
   {
    "duration": 37,
    "start_time": "2023-10-08T07:07:57.678Z"
   },
   {
    "duration": 35,
    "start_time": "2023-10-08T07:07:57.717Z"
   },
   {
    "duration": 193,
    "start_time": "2023-10-08T07:07:57.754Z"
   },
   {
    "duration": 7,
    "start_time": "2023-10-08T07:07:57.948Z"
   },
   {
    "duration": 287,
    "start_time": "2023-10-08T07:07:57.956Z"
   },
   {
    "duration": 10,
    "start_time": "2023-10-08T07:07:58.245Z"
   },
   {
    "duration": 12,
    "start_time": "2023-10-08T07:07:58.257Z"
   },
   {
    "duration": 475,
    "start_time": "2023-10-08T07:07:58.271Z"
   },
   {
    "duration": 25,
    "start_time": "2023-10-08T07:07:58.748Z"
   },
   {
    "duration": 199,
    "start_time": "2023-10-08T07:07:58.775Z"
   },
   {
    "duration": 12,
    "start_time": "2023-10-08T07:07:58.976Z"
   },
   {
    "duration": 33,
    "start_time": "2023-10-08T07:07:58.990Z"
   },
   {
    "duration": 554,
    "start_time": "2023-10-08T07:07:59.024Z"
   },
   {
    "duration": 154,
    "start_time": "2023-10-08T07:07:59.579Z"
   },
   {
    "duration": 237,
    "start_time": "2023-10-08T07:07:59.735Z"
   },
   {
    "duration": 39,
    "start_time": "2023-10-08T07:07:59.975Z"
   },
   {
    "duration": 217,
    "start_time": "2023-10-08T07:08:00.016Z"
   },
   {
    "duration": 6,
    "start_time": "2023-10-08T07:08:00.235Z"
   },
   {
    "duration": 217,
    "start_time": "2023-10-08T07:08:00.243Z"
   },
   {
    "duration": 6,
    "start_time": "2023-10-08T07:08:00.463Z"
   },
   {
    "duration": 234,
    "start_time": "2023-10-08T07:08:00.474Z"
   },
   {
    "duration": 8,
    "start_time": "2023-10-08T07:08:00.711Z"
   },
   {
    "duration": 182,
    "start_time": "2023-10-08T07:08:00.721Z"
   },
   {
    "duration": 9,
    "start_time": "2023-10-08T07:08:00.905Z"
   },
   {
    "duration": 298,
    "start_time": "2023-10-08T07:08:00.916Z"
   },
   {
    "duration": 217,
    "start_time": "2023-10-08T07:08:01.216Z"
   },
   {
    "duration": 13,
    "start_time": "2023-10-08T07:08:01.435Z"
   },
   {
    "duration": 156,
    "start_time": "2023-10-08T07:08:01.449Z"
   },
   {
    "duration": 70,
    "start_time": "2023-10-08T07:08:01.607Z"
   },
   {
    "duration": 213,
    "start_time": "2023-10-08T07:08:01.679Z"
   },
   {
    "duration": 73,
    "start_time": "2023-10-08T07:08:01.894Z"
   },
   {
    "duration": 57,
    "start_time": "2023-10-08T07:08:01.969Z"
   },
   {
    "duration": 92,
    "start_time": "2023-10-08T07:08:02.029Z"
   },
   {
    "duration": 78,
    "start_time": "2023-10-08T07:08:02.123Z"
   },
   {
    "duration": 48,
    "start_time": "2023-10-08T07:08:02.202Z"
   },
   {
    "duration": 60,
    "start_time": "2023-10-08T07:08:02.253Z"
   },
   {
    "duration": 264,
    "start_time": "2023-10-08T07:08:02.315Z"
   },
   {
    "duration": 29,
    "start_time": "2023-10-08T07:08:02.581Z"
   },
   {
    "duration": 37,
    "start_time": "2023-10-08T07:08:02.612Z"
   },
   {
    "duration": 24,
    "start_time": "2023-10-08T07:08:02.651Z"
   },
   {
    "duration": 1331,
    "start_time": "2023-10-08T07:11:10.255Z"
   },
   {
    "duration": 100,
    "start_time": "2023-10-08T07:11:11.588Z"
   },
   {
    "duration": 16,
    "start_time": "2023-10-08T07:11:11.690Z"
   },
   {
    "duration": 13,
    "start_time": "2023-10-08T07:11:11.708Z"
   },
   {
    "duration": 5,
    "start_time": "2023-10-08T07:11:11.723Z"
   },
   {
    "duration": 4,
    "start_time": "2023-10-08T07:11:11.729Z"
   },
   {
    "duration": 19,
    "start_time": "2023-10-08T07:11:11.735Z"
   },
   {
    "duration": 9,
    "start_time": "2023-10-08T07:11:11.755Z"
   },
   {
    "duration": 26,
    "start_time": "2023-10-08T07:11:11.765Z"
   },
   {
    "duration": 19,
    "start_time": "2023-10-08T07:11:11.792Z"
   },
   {
    "duration": 24,
    "start_time": "2023-10-08T07:11:11.813Z"
   },
   {
    "duration": 4,
    "start_time": "2023-10-08T07:11:11.838Z"
   },
   {
    "duration": 15,
    "start_time": "2023-10-08T07:11:11.843Z"
   },
   {
    "duration": 5,
    "start_time": "2023-10-08T07:11:11.860Z"
   },
   {
    "duration": 40,
    "start_time": "2023-10-08T07:11:11.867Z"
   },
   {
    "duration": 8,
    "start_time": "2023-10-08T07:11:11.908Z"
   },
   {
    "duration": 41,
    "start_time": "2023-10-08T07:11:11.917Z"
   },
   {
    "duration": 10,
    "start_time": "2023-10-08T07:11:11.960Z"
   },
   {
    "duration": 18,
    "start_time": "2023-10-08T07:11:11.971Z"
   },
   {
    "duration": 26,
    "start_time": "2023-10-08T07:11:11.990Z"
   },
   {
    "duration": 21,
    "start_time": "2023-10-08T07:11:12.018Z"
   },
   {
    "duration": 32,
    "start_time": "2023-10-08T07:11:12.041Z"
   },
   {
    "duration": 208,
    "start_time": "2023-10-08T07:11:12.075Z"
   },
   {
    "duration": 6,
    "start_time": "2023-10-08T07:11:12.285Z"
   },
   {
    "duration": 250,
    "start_time": "2023-10-08T07:11:12.292Z"
   },
   {
    "duration": 12,
    "start_time": "2023-10-08T07:11:12.544Z"
   },
   {
    "duration": 7,
    "start_time": "2023-10-08T07:11:12.557Z"
   },
   {
    "duration": 401,
    "start_time": "2023-10-08T07:11:12.565Z"
   },
   {
    "duration": 21,
    "start_time": "2023-10-08T07:11:12.967Z"
   },
   {
    "duration": 183,
    "start_time": "2023-10-08T07:11:12.990Z"
   },
   {
    "duration": 10,
    "start_time": "2023-10-08T07:11:13.174Z"
   },
   {
    "duration": 32,
    "start_time": "2023-10-08T07:11:13.185Z"
   },
   {
    "duration": 467,
    "start_time": "2023-10-08T07:11:13.218Z"
   },
   {
    "duration": 125,
    "start_time": "2023-10-08T07:11:13.686Z"
   },
   {
    "duration": 205,
    "start_time": "2023-10-08T07:11:13.814Z"
   },
   {
    "duration": 30,
    "start_time": "2023-10-08T07:11:14.020Z"
   },
   {
    "duration": 154,
    "start_time": "2023-10-08T07:11:14.052Z"
   },
   {
    "duration": 4,
    "start_time": "2023-10-08T07:11:14.208Z"
   },
   {
    "duration": 157,
    "start_time": "2023-10-08T07:11:14.213Z"
   },
   {
    "duration": 4,
    "start_time": "2023-10-08T07:11:14.372Z"
   },
   {
    "duration": 155,
    "start_time": "2023-10-08T07:11:14.380Z"
   },
   {
    "duration": 14,
    "start_time": "2023-10-08T07:11:14.536Z"
   },
   {
    "duration": 137,
    "start_time": "2023-10-08T07:11:14.552Z"
   },
   {
    "duration": 8,
    "start_time": "2023-10-08T07:11:14.691Z"
   },
   {
    "duration": 188,
    "start_time": "2023-10-08T07:11:14.700Z"
   },
   {
    "duration": 192,
    "start_time": "2023-10-08T07:11:14.890Z"
   },
   {
    "duration": 10,
    "start_time": "2023-10-08T07:11:15.083Z"
   },
   {
    "duration": 51,
    "start_time": "2023-10-08T07:11:15.094Z"
   },
   {
    "duration": 77,
    "start_time": "2023-10-08T07:11:15.146Z"
   },
   {
    "duration": 77,
    "start_time": "2023-10-08T07:11:15.225Z"
   },
   {
    "duration": 32,
    "start_time": "2023-10-08T07:11:15.304Z"
   },
   {
    "duration": 27,
    "start_time": "2023-10-08T07:11:15.338Z"
   },
   {
    "duration": 48,
    "start_time": "2023-10-08T07:11:15.366Z"
   },
   {
    "duration": 41,
    "start_time": "2023-10-08T07:11:15.416Z"
   },
   {
    "duration": 24,
    "start_time": "2023-10-08T07:11:15.459Z"
   },
   {
    "duration": 11,
    "start_time": "2023-10-08T07:11:15.484Z"
   },
   {
    "duration": 41,
    "start_time": "2023-10-08T07:11:15.496Z"
   },
   {
    "duration": 25,
    "start_time": "2023-10-08T07:11:15.538Z"
   },
   {
    "duration": 69,
    "start_time": "2023-10-08T07:11:15.565Z"
   },
   {
    "duration": 53,
    "start_time": "2023-10-08T07:11:15.636Z"
   },
   {
    "duration": 50,
    "start_time": "2023-10-09T03:56:27.605Z"
   },
   {
    "duration": 1376,
    "start_time": "2023-10-09T03:58:47.259Z"
   },
   {
    "duration": 109,
    "start_time": "2023-10-09T03:58:48.637Z"
   },
   {
    "duration": 17,
    "start_time": "2023-10-09T03:58:48.748Z"
   },
   {
    "duration": 23,
    "start_time": "2023-10-09T03:58:48.767Z"
   },
   {
    "duration": 7,
    "start_time": "2023-10-09T03:58:48.792Z"
   },
   {
    "duration": 39,
    "start_time": "2023-10-09T03:58:48.801Z"
   },
   {
    "duration": 24,
    "start_time": "2023-10-09T03:58:48.841Z"
   },
   {
    "duration": 17,
    "start_time": "2023-10-09T03:58:48.866Z"
   },
   {
    "duration": 28,
    "start_time": "2023-10-09T03:58:48.885Z"
   },
   {
    "duration": 39,
    "start_time": "2023-10-09T03:58:48.915Z"
   },
   {
    "duration": 31,
    "start_time": "2023-10-09T03:58:48.955Z"
   },
   {
    "duration": 5,
    "start_time": "2023-10-09T03:58:48.988Z"
   },
   {
    "duration": 15,
    "start_time": "2023-10-09T03:58:48.994Z"
   },
   {
    "duration": 35,
    "start_time": "2023-10-09T03:58:49.010Z"
   },
   {
    "duration": 4,
    "start_time": "2023-10-09T03:58:49.047Z"
   },
   {
    "duration": 37,
    "start_time": "2023-10-09T03:58:49.053Z"
   },
   {
    "duration": 9,
    "start_time": "2023-10-09T03:58:49.091Z"
   },
   {
    "duration": 27,
    "start_time": "2023-10-09T03:58:49.102Z"
   },
   {
    "duration": 7,
    "start_time": "2023-10-09T03:58:49.131Z"
   },
   {
    "duration": 21,
    "start_time": "2023-10-09T03:58:49.140Z"
   },
   {
    "duration": 18,
    "start_time": "2023-10-09T03:58:49.162Z"
   },
   {
    "duration": 14,
    "start_time": "2023-10-09T03:58:49.182Z"
   },
   {
    "duration": 21,
    "start_time": "2023-10-09T03:58:49.198Z"
   },
   {
    "duration": 187,
    "start_time": "2023-10-09T03:58:49.221Z"
   },
   {
    "duration": 6,
    "start_time": "2023-10-09T03:58:49.410Z"
   },
   {
    "duration": 269,
    "start_time": "2023-10-09T03:58:49.418Z"
   },
   {
    "duration": 16,
    "start_time": "2023-10-09T03:58:49.689Z"
   },
   {
    "duration": 5,
    "start_time": "2023-10-09T03:58:49.709Z"
   },
   {
    "duration": 618,
    "start_time": "2023-10-09T03:58:49.716Z"
   },
   {
    "duration": 66,
    "start_time": "2023-10-09T03:58:50.336Z"
   },
   {
    "duration": 317,
    "start_time": "2023-10-09T03:58:50.404Z"
   },
   {
    "duration": 13,
    "start_time": "2023-10-09T03:58:50.723Z"
   },
   {
    "duration": 11,
    "start_time": "2023-10-09T03:58:50.738Z"
   },
   {
    "duration": 1011,
    "start_time": "2023-10-09T03:58:50.802Z"
   },
   {
    "duration": 144,
    "start_time": "2023-10-09T03:58:51.814Z"
   },
   {
    "duration": 225,
    "start_time": "2023-10-09T03:58:51.960Z"
   },
   {
    "duration": 34,
    "start_time": "2023-10-09T03:58:52.187Z"
   },
   {
    "duration": 173,
    "start_time": "2023-10-09T03:58:52.223Z"
   },
   {
    "duration": 8,
    "start_time": "2023-10-09T03:58:52.397Z"
   },
   {
    "duration": 180,
    "start_time": "2023-10-09T03:58:52.407Z"
   },
   {
    "duration": 13,
    "start_time": "2023-10-09T03:58:52.589Z"
   },
   {
    "duration": 204,
    "start_time": "2023-10-09T03:58:52.604Z"
   },
   {
    "duration": 9,
    "start_time": "2023-10-09T03:58:52.809Z"
   },
   {
    "duration": 149,
    "start_time": "2023-10-09T03:58:52.820Z"
   },
   {
    "duration": 7,
    "start_time": "2023-10-09T03:58:52.971Z"
   },
   {
    "duration": 211,
    "start_time": "2023-10-09T03:58:52.980Z"
   },
   {
    "duration": 211,
    "start_time": "2023-10-09T03:58:53.193Z"
   },
   {
    "duration": 11,
    "start_time": "2023-10-09T03:58:53.406Z"
   },
   {
    "duration": 12,
    "start_time": "2023-10-09T03:58:53.419Z"
   },
   {
    "duration": 22,
    "start_time": "2023-10-09T03:58:53.433Z"
   },
   {
    "duration": 26,
    "start_time": "2023-10-09T03:58:53.458Z"
   },
   {
    "duration": 25,
    "start_time": "2023-10-09T03:58:53.486Z"
   },
   {
    "duration": 15,
    "start_time": "2023-10-09T03:58:53.513Z"
   },
   {
    "duration": 19,
    "start_time": "2023-10-09T03:58:53.529Z"
   },
   {
    "duration": 15,
    "start_time": "2023-10-09T03:58:53.549Z"
   },
   {
    "duration": 13,
    "start_time": "2023-10-09T03:58:53.565Z"
   },
   {
    "duration": 30,
    "start_time": "2023-10-09T03:58:53.579Z"
   },
   {
    "duration": 16,
    "start_time": "2023-10-09T03:58:53.610Z"
   },
   {
    "duration": 36,
    "start_time": "2023-10-09T03:58:53.628Z"
   },
   {
    "duration": 20,
    "start_time": "2023-10-09T03:58:53.665Z"
   },
   {
    "duration": 15,
    "start_time": "2023-10-09T03:58:53.687Z"
   },
   {
    "duration": 7,
    "start_time": "2023-10-09T04:02:16.751Z"
   },
   {
    "duration": 17,
    "start_time": "2023-10-09T04:02:22.144Z"
   },
   {
    "duration": 18,
    "start_time": "2023-10-09T04:02:58.135Z"
   },
   {
    "duration": 1230,
    "start_time": "2023-10-09T04:03:42.350Z"
   },
   {
    "duration": 58,
    "start_time": "2023-10-09T04:03:43.582Z"
   },
   {
    "duration": 18,
    "start_time": "2023-10-09T04:03:43.641Z"
   },
   {
    "duration": 15,
    "start_time": "2023-10-09T04:03:43.661Z"
   },
   {
    "duration": 9,
    "start_time": "2023-10-09T04:03:43.679Z"
   },
   {
    "duration": 6,
    "start_time": "2023-10-09T04:03:43.702Z"
   },
   {
    "duration": 7,
    "start_time": "2023-10-09T04:03:43.710Z"
   },
   {
    "duration": 5,
    "start_time": "2023-10-09T04:03:43.719Z"
   },
   {
    "duration": 7,
    "start_time": "2023-10-09T04:03:43.726Z"
   },
   {
    "duration": 30,
    "start_time": "2023-10-09T04:03:43.735Z"
   },
   {
    "duration": 42,
    "start_time": "2023-10-09T04:03:43.767Z"
   },
   {
    "duration": 5,
    "start_time": "2023-10-09T04:03:43.810Z"
   },
   {
    "duration": 17,
    "start_time": "2023-10-09T04:03:43.817Z"
   },
   {
    "duration": 39,
    "start_time": "2023-10-09T04:03:43.837Z"
   },
   {
    "duration": 17,
    "start_time": "2023-10-09T04:03:43.877Z"
   },
   {
    "duration": 6,
    "start_time": "2023-10-09T04:03:43.896Z"
   },
   {
    "duration": 40,
    "start_time": "2023-10-09T04:03:43.904Z"
   },
   {
    "duration": 14,
    "start_time": "2023-10-09T04:03:43.946Z"
   },
   {
    "duration": 27,
    "start_time": "2023-10-09T04:03:43.962Z"
   },
   {
    "duration": 11,
    "start_time": "2023-10-09T04:03:44.001Z"
   },
   {
    "duration": 12,
    "start_time": "2023-10-09T04:03:44.014Z"
   },
   {
    "duration": 17,
    "start_time": "2023-10-09T04:03:44.028Z"
   },
   {
    "duration": 26,
    "start_time": "2023-10-09T04:03:44.047Z"
   },
   {
    "duration": 42,
    "start_time": "2023-10-09T04:03:44.075Z"
   },
   {
    "duration": 212,
    "start_time": "2023-10-09T04:03:44.118Z"
   },
   {
    "duration": 7,
    "start_time": "2023-10-09T04:03:44.332Z"
   },
   {
    "duration": 324,
    "start_time": "2023-10-09T04:03:44.341Z"
   },
   {
    "duration": 15,
    "start_time": "2023-10-09T04:03:44.668Z"
   },
   {
    "duration": 39,
    "start_time": "2023-10-09T04:03:44.685Z"
   },
   {
    "duration": 444,
    "start_time": "2023-10-09T04:03:44.726Z"
   },
   {
    "duration": 24,
    "start_time": "2023-10-09T04:03:45.173Z"
   },
   {
    "duration": 189,
    "start_time": "2023-10-09T04:03:45.201Z"
   },
   {
    "duration": 18,
    "start_time": "2023-10-09T04:03:45.392Z"
   },
   {
    "duration": 17,
    "start_time": "2023-10-09T04:03:45.411Z"
   },
   {
    "duration": 554,
    "start_time": "2023-10-09T04:03:45.430Z"
   },
   {
    "duration": 160,
    "start_time": "2023-10-09T04:03:45.986Z"
   },
   {
    "duration": 224,
    "start_time": "2023-10-09T04:03:46.147Z"
   },
   {
    "duration": 37,
    "start_time": "2023-10-09T04:03:46.373Z"
   },
   {
    "duration": 184,
    "start_time": "2023-10-09T04:03:46.412Z"
   },
   {
    "duration": 5,
    "start_time": "2023-10-09T04:03:46.601Z"
   },
   {
    "duration": 189,
    "start_time": "2023-10-09T04:03:46.612Z"
   },
   {
    "duration": 5,
    "start_time": "2023-10-09T04:03:46.803Z"
   },
   {
    "duration": 185,
    "start_time": "2023-10-09T04:03:46.810Z"
   },
   {
    "duration": 11,
    "start_time": "2023-10-09T04:03:46.997Z"
   },
   {
    "duration": 191,
    "start_time": "2023-10-09T04:03:47.010Z"
   },
   {
    "duration": 9,
    "start_time": "2023-10-09T04:03:47.203Z"
   },
   {
    "duration": 430,
    "start_time": "2023-10-09T04:03:47.213Z"
   },
   {
    "duration": 238,
    "start_time": "2023-10-09T04:03:47.644Z"
   },
   {
    "duration": 19,
    "start_time": "2023-10-09T04:03:47.884Z"
   },
   {
    "duration": 35,
    "start_time": "2023-10-09T04:03:47.905Z"
   },
   {
    "duration": 51,
    "start_time": "2023-10-09T04:03:47.942Z"
   },
   {
    "duration": 24,
    "start_time": "2023-10-09T04:03:47.995Z"
   },
   {
    "duration": 49,
    "start_time": "2023-10-09T04:03:48.021Z"
   },
   {
    "duration": 54,
    "start_time": "2023-10-09T04:03:48.072Z"
   },
   {
    "duration": 23,
    "start_time": "2023-10-09T04:03:48.128Z"
   },
   {
    "duration": 38,
    "start_time": "2023-10-09T04:03:48.153Z"
   },
   {
    "duration": 47,
    "start_time": "2023-10-09T04:03:48.193Z"
   },
   {
    "duration": 31,
    "start_time": "2023-10-09T04:03:48.242Z"
   },
   {
    "duration": 29,
    "start_time": "2023-10-09T04:03:48.275Z"
   },
   {
    "duration": 40,
    "start_time": "2023-10-09T04:03:48.306Z"
   },
   {
    "duration": 34,
    "start_time": "2023-10-09T04:03:48.348Z"
   },
   {
    "duration": 38,
    "start_time": "2023-10-09T04:03:48.384Z"
   },
   {
    "duration": 14,
    "start_time": "2023-10-09T04:08:00.032Z"
   },
   {
    "duration": 1229,
    "start_time": "2023-10-09T04:08:06.669Z"
   },
   {
    "duration": 56,
    "start_time": "2023-10-09T04:08:07.899Z"
   },
   {
    "duration": 18,
    "start_time": "2023-10-09T04:08:07.957Z"
   },
   {
    "duration": 21,
    "start_time": "2023-10-09T04:08:07.977Z"
   },
   {
    "duration": 8,
    "start_time": "2023-10-09T04:08:08.000Z"
   },
   {
    "duration": 11,
    "start_time": "2023-10-09T04:08:08.010Z"
   },
   {
    "duration": 9,
    "start_time": "2023-10-09T04:08:08.023Z"
   },
   {
    "duration": 5,
    "start_time": "2023-10-09T04:08:08.033Z"
   },
   {
    "duration": 8,
    "start_time": "2023-10-09T04:08:08.039Z"
   },
   {
    "duration": 34,
    "start_time": "2023-10-09T04:08:08.049Z"
   },
   {
    "duration": 50,
    "start_time": "2023-10-09T04:08:08.084Z"
   },
   {
    "duration": 12,
    "start_time": "2023-10-09T04:08:08.135Z"
   },
   {
    "duration": 11,
    "start_time": "2023-10-09T04:08:08.148Z"
   },
   {
    "duration": 27,
    "start_time": "2023-10-09T04:08:08.161Z"
   },
   {
    "duration": 15,
    "start_time": "2023-10-09T04:08:08.190Z"
   },
   {
    "duration": 5,
    "start_time": "2023-10-09T04:08:08.207Z"
   },
   {
    "duration": 36,
    "start_time": "2023-10-09T04:08:08.213Z"
   },
   {
    "duration": 10,
    "start_time": "2023-10-09T04:08:08.250Z"
   },
   {
    "duration": 26,
    "start_time": "2023-10-09T04:08:08.262Z"
   },
   {
    "duration": 16,
    "start_time": "2023-10-09T04:08:08.290Z"
   },
   {
    "duration": 26,
    "start_time": "2023-10-09T04:08:08.308Z"
   },
   {
    "duration": 25,
    "start_time": "2023-10-09T04:08:08.335Z"
   },
   {
    "duration": 15,
    "start_time": "2023-10-09T04:08:08.362Z"
   },
   {
    "duration": 26,
    "start_time": "2023-10-09T04:08:08.378Z"
   },
   {
    "duration": 199,
    "start_time": "2023-10-09T04:08:08.406Z"
   },
   {
    "duration": 7,
    "start_time": "2023-10-09T04:08:08.607Z"
   },
   {
    "duration": 306,
    "start_time": "2023-10-09T04:08:08.615Z"
   },
   {
    "duration": 11,
    "start_time": "2023-10-09T04:08:08.925Z"
   },
   {
    "duration": 22,
    "start_time": "2023-10-09T04:08:08.937Z"
   },
   {
    "duration": 449,
    "start_time": "2023-10-09T04:08:08.961Z"
   },
   {
    "duration": 24,
    "start_time": "2023-10-09T04:08:09.413Z"
   },
   {
    "duration": 180,
    "start_time": "2023-10-09T04:08:09.439Z"
   },
   {
    "duration": 12,
    "start_time": "2023-10-09T04:08:09.621Z"
   },
   {
    "duration": 7,
    "start_time": "2023-10-09T04:08:09.635Z"
   },
   {
    "duration": 668,
    "start_time": "2023-10-09T04:08:09.644Z"
   },
   {
    "duration": 229,
    "start_time": "2023-10-09T04:08:10.314Z"
   },
   {
    "duration": 151,
    "start_time": "2023-10-09T04:08:10.544Z"
   },
   {
    "duration": 28,
    "start_time": "2023-10-09T04:08:10.697Z"
   },
   {
    "duration": 196,
    "start_time": "2023-10-09T04:08:10.727Z"
   },
   {
    "duration": 5,
    "start_time": "2023-10-09T04:08:10.925Z"
   },
   {
    "duration": 186,
    "start_time": "2023-10-09T04:08:10.931Z"
   },
   {
    "duration": 5,
    "start_time": "2023-10-09T04:08:11.119Z"
   },
   {
    "duration": 168,
    "start_time": "2023-10-09T04:08:11.126Z"
   },
   {
    "duration": 9,
    "start_time": "2023-10-09T04:08:11.296Z"
   },
   {
    "duration": 154,
    "start_time": "2023-10-09T04:08:11.306Z"
   },
   {
    "duration": 8,
    "start_time": "2023-10-09T04:08:11.462Z"
   },
   {
    "duration": 214,
    "start_time": "2023-10-09T04:08:11.472Z"
   },
   {
    "duration": 217,
    "start_time": "2023-10-09T04:08:11.688Z"
   },
   {
    "duration": 11,
    "start_time": "2023-10-09T04:08:11.907Z"
   },
   {
    "duration": 18,
    "start_time": "2023-10-09T04:08:11.920Z"
   },
   {
    "duration": 15,
    "start_time": "2023-10-09T04:08:11.939Z"
   },
   {
    "duration": 25,
    "start_time": "2023-10-09T04:08:11.956Z"
   },
   {
    "duration": 20,
    "start_time": "2023-10-09T04:08:11.983Z"
   },
   {
    "duration": 15,
    "start_time": "2023-10-09T04:08:12.005Z"
   },
   {
    "duration": 15,
    "start_time": "2023-10-09T04:08:12.022Z"
   },
   {
    "duration": 20,
    "start_time": "2023-10-09T04:08:12.039Z"
   },
   {
    "duration": 19,
    "start_time": "2023-10-09T04:08:12.060Z"
   },
   {
    "duration": 27,
    "start_time": "2023-10-09T04:08:12.081Z"
   },
   {
    "duration": 10,
    "start_time": "2023-10-09T04:08:12.110Z"
   },
   {
    "duration": 17,
    "start_time": "2023-10-09T04:08:12.121Z"
   },
   {
    "duration": 45,
    "start_time": "2023-10-09T04:08:12.140Z"
   },
   {
    "duration": 38,
    "start_time": "2023-10-09T04:08:12.187Z"
   },
   {
    "duration": 6,
    "start_time": "2023-10-09T04:10:19.600Z"
   },
   {
    "duration": 1251,
    "start_time": "2023-10-09T04:10:29.378Z"
   },
   {
    "duration": 61,
    "start_time": "2023-10-09T04:10:30.631Z"
   },
   {
    "duration": 57,
    "start_time": "2023-10-09T04:10:30.694Z"
   },
   {
    "duration": 98,
    "start_time": "2023-10-09T04:10:30.753Z"
   },
   {
    "duration": 69,
    "start_time": "2023-10-09T04:10:30.853Z"
   },
   {
    "duration": 139,
    "start_time": "2023-10-09T04:10:30.925Z"
   },
   {
    "duration": 48,
    "start_time": "2023-10-09T04:10:31.065Z"
   },
   {
    "duration": 57,
    "start_time": "2023-10-09T04:10:31.115Z"
   },
   {
    "duration": 45,
    "start_time": "2023-10-09T04:10:31.173Z"
   },
   {
    "duration": 56,
    "start_time": "2023-10-09T04:10:31.221Z"
   },
   {
    "duration": 64,
    "start_time": "2023-10-09T04:10:31.279Z"
   },
   {
    "duration": 32,
    "start_time": "2023-10-09T04:10:31.345Z"
   },
   {
    "duration": 79,
    "start_time": "2023-10-09T04:10:31.379Z"
   },
   {
    "duration": 97,
    "start_time": "2023-10-09T04:10:31.460Z"
   },
   {
    "duration": 64,
    "start_time": "2023-10-09T04:10:31.558Z"
   },
   {
    "duration": 57,
    "start_time": "2023-10-09T04:10:31.624Z"
   },
   {
    "duration": 95,
    "start_time": "2023-10-09T04:10:31.683Z"
   },
   {
    "duration": 38,
    "start_time": "2023-10-09T04:10:31.781Z"
   },
   {
    "duration": 28,
    "start_time": "2023-10-09T04:10:31.822Z"
   },
   {
    "duration": 25,
    "start_time": "2023-10-09T04:10:31.852Z"
   },
   {
    "duration": 26,
    "start_time": "2023-10-09T04:10:31.879Z"
   },
   {
    "duration": 60,
    "start_time": "2023-10-09T04:10:31.906Z"
   },
   {
    "duration": 44,
    "start_time": "2023-10-09T04:10:31.968Z"
   },
   {
    "duration": 46,
    "start_time": "2023-10-09T04:10:32.014Z"
   },
   {
    "duration": 249,
    "start_time": "2023-10-09T04:10:32.062Z"
   },
   {
    "duration": 7,
    "start_time": "2023-10-09T04:10:32.313Z"
   },
   {
    "duration": 438,
    "start_time": "2023-10-09T04:10:32.321Z"
   },
   {
    "duration": 10,
    "start_time": "2023-10-09T04:10:32.763Z"
   },
   {
    "duration": 33,
    "start_time": "2023-10-09T04:10:32.775Z"
   },
   {
    "duration": 836,
    "start_time": "2023-10-09T04:10:32.810Z"
   },
   {
    "duration": 69,
    "start_time": "2023-10-09T04:10:33.648Z"
   },
   {
    "duration": 401,
    "start_time": "2023-10-09T04:10:33.718Z"
   },
   {
    "duration": 11,
    "start_time": "2023-10-09T04:10:34.121Z"
   },
   {
    "duration": 69,
    "start_time": "2023-10-09T04:10:34.134Z"
   },
   {
    "duration": 847,
    "start_time": "2023-10-09T04:10:34.205Z"
   },
   {
    "duration": 221,
    "start_time": "2023-10-09T04:10:35.054Z"
   },
   {
    "duration": 144,
    "start_time": "2023-10-09T04:10:35.277Z"
   },
   {
    "duration": 170,
    "start_time": "2023-10-09T04:10:35.422Z"
   },
   {
    "duration": 457,
    "start_time": "2023-10-09T04:10:35.593Z"
   },
   {
    "duration": 5,
    "start_time": "2023-10-09T04:10:36.052Z"
   },
   {
    "duration": 193,
    "start_time": "2023-10-09T04:10:36.058Z"
   },
   {
    "duration": 0,
    "start_time": "2023-10-09T04:10:36.253Z"
   },
   {
    "duration": 0,
    "start_time": "2023-10-09T04:10:36.254Z"
   },
   {
    "duration": 0,
    "start_time": "2023-10-09T04:10:36.255Z"
   },
   {
    "duration": 0,
    "start_time": "2023-10-09T04:10:36.256Z"
   },
   {
    "duration": 0,
    "start_time": "2023-10-09T04:10:36.257Z"
   },
   {
    "duration": 0,
    "start_time": "2023-10-09T04:10:36.258Z"
   },
   {
    "duration": 0,
    "start_time": "2023-10-09T04:10:36.259Z"
   },
   {
    "duration": 0,
    "start_time": "2023-10-09T04:10:36.260Z"
   },
   {
    "duration": 0,
    "start_time": "2023-10-09T04:10:36.261Z"
   },
   {
    "duration": 0,
    "start_time": "2023-10-09T04:10:36.262Z"
   },
   {
    "duration": 0,
    "start_time": "2023-10-09T04:10:36.263Z"
   },
   {
    "duration": 1,
    "start_time": "2023-10-09T04:10:36.264Z"
   },
   {
    "duration": 0,
    "start_time": "2023-10-09T04:10:36.266Z"
   },
   {
    "duration": 0,
    "start_time": "2023-10-09T04:10:36.267Z"
   },
   {
    "duration": 0,
    "start_time": "2023-10-09T04:10:36.268Z"
   },
   {
    "duration": 0,
    "start_time": "2023-10-09T04:10:36.269Z"
   },
   {
    "duration": 0,
    "start_time": "2023-10-09T04:10:36.270Z"
   },
   {
    "duration": 0,
    "start_time": "2023-10-09T04:10:36.272Z"
   },
   {
    "duration": 0,
    "start_time": "2023-10-09T04:10:36.301Z"
   },
   {
    "duration": 0,
    "start_time": "2023-10-09T04:10:36.303Z"
   },
   {
    "duration": 0,
    "start_time": "2023-10-09T04:10:36.304Z"
   },
   {
    "duration": 22,
    "start_time": "2023-10-09T04:14:06.815Z"
   },
   {
    "duration": 131,
    "start_time": "2023-10-09T04:14:42.287Z"
   },
   {
    "duration": 22,
    "start_time": "2023-10-09T04:15:01.033Z"
   },
   {
    "duration": 20,
    "start_time": "2023-10-09T04:20:41.295Z"
   },
   {
    "duration": 1238,
    "start_time": "2023-10-09T04:21:41.396Z"
   },
   {
    "duration": 97,
    "start_time": "2023-10-09T04:21:42.636Z"
   },
   {
    "duration": 71,
    "start_time": "2023-10-09T04:21:42.735Z"
   },
   {
    "duration": 16,
    "start_time": "2023-10-09T04:21:42.808Z"
   },
   {
    "duration": 79,
    "start_time": "2023-10-09T04:21:42.826Z"
   },
   {
    "duration": 5,
    "start_time": "2023-10-09T04:21:42.907Z"
   },
   {
    "duration": 33,
    "start_time": "2023-10-09T04:21:42.914Z"
   },
   {
    "duration": 53,
    "start_time": "2023-10-09T04:21:42.949Z"
   },
   {
    "duration": 39,
    "start_time": "2023-10-09T04:21:43.005Z"
   },
   {
    "duration": 59,
    "start_time": "2023-10-09T04:21:43.046Z"
   },
   {
    "duration": 16,
    "start_time": "2023-10-09T04:21:43.107Z"
   },
   {
    "duration": 80,
    "start_time": "2023-10-09T04:21:43.124Z"
   },
   {
    "duration": 26,
    "start_time": "2023-10-09T04:21:43.206Z"
   },
   {
    "duration": 70,
    "start_time": "2023-10-09T04:21:43.234Z"
   },
   {
    "duration": 21,
    "start_time": "2023-10-09T04:21:43.306Z"
   },
   {
    "duration": 5,
    "start_time": "2023-10-09T04:21:43.328Z"
   },
   {
    "duration": 87,
    "start_time": "2023-10-09T04:21:43.335Z"
   },
   {
    "duration": 11,
    "start_time": "2023-10-09T04:21:43.424Z"
   },
   {
    "duration": 81,
    "start_time": "2023-10-09T04:21:43.437Z"
   },
   {
    "duration": 11,
    "start_time": "2023-10-09T04:21:43.520Z"
   },
   {
    "duration": 78,
    "start_time": "2023-10-09T04:21:43.532Z"
   },
   {
    "duration": 16,
    "start_time": "2023-10-09T04:21:43.612Z"
   },
   {
    "duration": 22,
    "start_time": "2023-10-09T04:21:43.629Z"
   },
   {
    "duration": 22,
    "start_time": "2023-10-09T04:21:43.702Z"
   },
   {
    "duration": 91,
    "start_time": "2023-10-09T04:21:43.726Z"
   },
   {
    "duration": 92,
    "start_time": "2023-10-09T04:21:43.819Z"
   },
   {
    "duration": 425,
    "start_time": "2023-10-09T04:21:43.913Z"
   },
   {
    "duration": 60,
    "start_time": "2023-10-09T04:21:44.342Z"
   },
   {
    "duration": 378,
    "start_time": "2023-10-09T04:21:44.404Z"
   },
   {
    "duration": 19,
    "start_time": "2023-10-09T04:21:44.784Z"
   },
   {
    "duration": 5,
    "start_time": "2023-10-09T04:21:44.804Z"
   },
   {
    "duration": 444,
    "start_time": "2023-10-09T04:21:44.810Z"
   },
   {
    "duration": 26,
    "start_time": "2023-10-09T04:21:45.257Z"
   },
   {
    "duration": 179,
    "start_time": "2023-10-09T04:21:45.285Z"
   },
   {
    "duration": 11,
    "start_time": "2023-10-09T04:21:45.465Z"
   },
   {
    "duration": 6,
    "start_time": "2023-10-09T04:21:45.478Z"
   },
   {
    "duration": 544,
    "start_time": "2023-10-09T04:21:45.486Z"
   },
   {
    "duration": 148,
    "start_time": "2023-10-09T04:21:46.031Z"
   },
   {
    "duration": 231,
    "start_time": "2023-10-09T04:21:46.181Z"
   },
   {
    "duration": 29,
    "start_time": "2023-10-09T04:21:46.414Z"
   },
   {
    "duration": 183,
    "start_time": "2023-10-09T04:21:46.444Z"
   },
   {
    "duration": 5,
    "start_time": "2023-10-09T04:21:46.629Z"
   },
   {
    "duration": 141,
    "start_time": "2023-10-09T04:21:46.635Z"
   },
   {
    "duration": 0,
    "start_time": "2023-10-09T04:21:46.778Z"
   },
   {
    "duration": 1,
    "start_time": "2023-10-09T04:21:46.779Z"
   },
   {
    "duration": 0,
    "start_time": "2023-10-09T04:21:46.781Z"
   },
   {
    "duration": 0,
    "start_time": "2023-10-09T04:21:46.782Z"
   },
   {
    "duration": 0,
    "start_time": "2023-10-09T04:21:46.783Z"
   },
   {
    "duration": 0,
    "start_time": "2023-10-09T04:21:46.784Z"
   },
   {
    "duration": 0,
    "start_time": "2023-10-09T04:21:46.801Z"
   },
   {
    "duration": 0,
    "start_time": "2023-10-09T04:21:46.802Z"
   },
   {
    "duration": 0,
    "start_time": "2023-10-09T04:21:46.804Z"
   },
   {
    "duration": 0,
    "start_time": "2023-10-09T04:21:46.805Z"
   },
   {
    "duration": 0,
    "start_time": "2023-10-09T04:21:46.806Z"
   },
   {
    "duration": 0,
    "start_time": "2023-10-09T04:21:46.808Z"
   },
   {
    "duration": 0,
    "start_time": "2023-10-09T04:21:46.809Z"
   },
   {
    "duration": 0,
    "start_time": "2023-10-09T04:21:46.810Z"
   },
   {
    "duration": 0,
    "start_time": "2023-10-09T04:21:46.811Z"
   },
   {
    "duration": 0,
    "start_time": "2023-10-09T04:21:46.812Z"
   },
   {
    "duration": 0,
    "start_time": "2023-10-09T04:21:46.813Z"
   },
   {
    "duration": 0,
    "start_time": "2023-10-09T04:21:46.814Z"
   },
   {
    "duration": 0,
    "start_time": "2023-10-09T04:21:46.815Z"
   },
   {
    "duration": 0,
    "start_time": "2023-10-09T04:21:46.816Z"
   },
   {
    "duration": 0,
    "start_time": "2023-10-09T04:21:46.817Z"
   },
   {
    "duration": 26,
    "start_time": "2023-10-09T04:33:41.679Z"
   },
   {
    "duration": 182,
    "start_time": "2023-10-09T04:34:28.381Z"
   },
   {
    "duration": 11,
    "start_time": "2023-10-09T04:35:14.806Z"
   },
   {
    "duration": 1271,
    "start_time": "2023-10-09T04:36:35.509Z"
   },
   {
    "duration": 61,
    "start_time": "2023-10-09T04:36:39.129Z"
   },
   {
    "duration": 20,
    "start_time": "2023-10-09T04:36:39.601Z"
   },
   {
    "duration": 15,
    "start_time": "2023-10-09T04:36:39.887Z"
   },
   {
    "duration": 6,
    "start_time": "2023-10-09T04:36:40.292Z"
   },
   {
    "duration": 6,
    "start_time": "2023-10-09T04:36:40.479Z"
   },
   {
    "duration": 7,
    "start_time": "2023-10-09T04:36:40.819Z"
   },
   {
    "duration": 5,
    "start_time": "2023-10-09T04:36:40.998Z"
   },
   {
    "duration": 6,
    "start_time": "2023-10-09T04:36:41.353Z"
   },
   {
    "duration": 19,
    "start_time": "2023-10-09T04:36:41.697Z"
   },
   {
    "duration": 15,
    "start_time": "2023-10-09T04:36:42.812Z"
   },
   {
    "duration": 5,
    "start_time": "2023-10-09T04:36:43.173Z"
   },
   {
    "duration": 5,
    "start_time": "2023-10-09T04:36:43.573Z"
   },
   {
    "duration": 21,
    "start_time": "2023-10-09T04:36:43.914Z"
   },
   {
    "duration": 22,
    "start_time": "2023-10-09T04:36:44.299Z"
   },
   {
    "duration": 5,
    "start_time": "2023-10-09T04:36:45.139Z"
   },
   {
    "duration": 46,
    "start_time": "2023-10-09T04:36:45.481Z"
   },
   {
    "duration": 9,
    "start_time": "2023-10-09T04:36:46.223Z"
   },
   {
    "duration": 17,
    "start_time": "2023-10-09T04:36:46.613Z"
   },
   {
    "duration": 15,
    "start_time": "2023-10-09T04:36:47.000Z"
   },
   {
    "duration": 7,
    "start_time": "2023-10-09T04:36:47.785Z"
   },
   {
    "duration": 10,
    "start_time": "2023-10-09T04:36:48.614Z"
   },
   {
    "duration": 16,
    "start_time": "2023-10-09T04:36:49.013Z"
   },
   {
    "duration": 20,
    "start_time": "2023-10-09T04:36:50.235Z"
   },
   {
    "duration": 18,
    "start_time": "2023-10-09T04:36:50.675Z"
   },
   {
    "duration": 24,
    "start_time": "2023-10-09T04:36:52.134Z"
   },
   {
    "duration": 192,
    "start_time": "2023-10-09T04:36:54.014Z"
   },
   {
    "duration": 7,
    "start_time": "2023-10-09T04:36:56.315Z"
   },
   {
    "duration": 292,
    "start_time": "2023-10-09T04:36:59.491Z"
   },
   {
    "duration": 297,
    "start_time": "2023-10-09T04:37:26.247Z"
   },
   {
    "duration": 13,
    "start_time": "2023-10-09T04:37:37.455Z"
   },
   {
    "duration": 4,
    "start_time": "2023-10-09T04:38:08.461Z"
   },
   {
    "duration": 524,
    "start_time": "2023-10-09T04:38:14.414Z"
   },
   {
    "duration": 34,
    "start_time": "2023-10-09T04:38:22.491Z"
   },
   {
    "duration": 195,
    "start_time": "2023-10-09T04:38:27.991Z"
   },
   {
    "duration": 12,
    "start_time": "2023-10-09T04:38:46.974Z"
   },
   {
    "duration": 4,
    "start_time": "2023-10-09T04:38:51.314Z"
   },
   {
    "duration": 536,
    "start_time": "2023-10-09T04:39:02.816Z"
   },
   {
    "duration": 333,
    "start_time": "2023-10-09T04:40:15.440Z"
   },
   {
    "duration": 280,
    "start_time": "2023-10-09T04:43:12.156Z"
   },
   {
    "duration": 29,
    "start_time": "2023-10-09T04:52:16.618Z"
   },
   {
    "duration": 31,
    "start_time": "2023-10-09T04:55:39.097Z"
   },
   {
    "duration": 1214,
    "start_time": "2023-10-09T04:56:13.658Z"
   },
   {
    "duration": 56,
    "start_time": "2023-10-09T04:56:14.874Z"
   },
   {
    "duration": 18,
    "start_time": "2023-10-09T04:56:14.932Z"
   },
   {
    "duration": 16,
    "start_time": "2023-10-09T04:56:14.953Z"
   },
   {
    "duration": 6,
    "start_time": "2023-10-09T04:56:14.971Z"
   },
   {
    "duration": 5,
    "start_time": "2023-10-09T04:56:15.002Z"
   },
   {
    "duration": 91,
    "start_time": "2023-10-09T04:56:15.009Z"
   },
   {
    "duration": 34,
    "start_time": "2023-10-09T04:56:15.102Z"
   },
   {
    "duration": 41,
    "start_time": "2023-10-09T04:56:15.137Z"
   },
   {
    "duration": 35,
    "start_time": "2023-10-09T04:56:15.181Z"
   },
   {
    "duration": 71,
    "start_time": "2023-10-09T04:56:15.218Z"
   },
   {
    "duration": 46,
    "start_time": "2023-10-09T04:56:15.291Z"
   },
   {
    "duration": 43,
    "start_time": "2023-10-09T04:56:15.338Z"
   },
   {
    "duration": 40,
    "start_time": "2023-10-09T04:56:15.383Z"
   },
   {
    "duration": 29,
    "start_time": "2023-10-09T04:56:15.426Z"
   },
   {
    "duration": 7,
    "start_time": "2023-10-09T04:56:15.457Z"
   },
   {
    "duration": 37,
    "start_time": "2023-10-09T04:56:15.466Z"
   },
   {
    "duration": 29,
    "start_time": "2023-10-09T04:56:15.505Z"
   },
   {
    "duration": 33,
    "start_time": "2023-10-09T04:56:15.535Z"
   },
   {
    "duration": 7,
    "start_time": "2023-10-09T04:56:15.570Z"
   },
   {
    "duration": 15,
    "start_time": "2023-10-09T04:56:15.579Z"
   },
   {
    "duration": 11,
    "start_time": "2023-10-09T04:56:15.596Z"
   },
   {
    "duration": 17,
    "start_time": "2023-10-09T04:56:15.609Z"
   },
   {
    "duration": 26,
    "start_time": "2023-10-09T04:56:15.628Z"
   },
   {
    "duration": 20,
    "start_time": "2023-10-09T04:56:15.655Z"
   },
   {
    "duration": 46,
    "start_time": "2023-10-09T04:56:15.677Z"
   },
   {
    "duration": 210,
    "start_time": "2023-10-09T04:56:15.725Z"
   },
   {
    "duration": 8,
    "start_time": "2023-10-09T04:56:15.940Z"
   },
   {
    "duration": 309,
    "start_time": "2023-10-09T04:56:15.949Z"
   },
   {
    "duration": 12,
    "start_time": "2023-10-09T04:56:16.260Z"
   },
   {
    "duration": 32,
    "start_time": "2023-10-09T04:56:16.274Z"
   },
   {
    "duration": 478,
    "start_time": "2023-10-09T04:56:16.308Z"
   },
   {
    "duration": 25,
    "start_time": "2023-10-09T04:56:16.788Z"
   },
   {
    "duration": 184,
    "start_time": "2023-10-09T04:56:16.815Z"
   },
   {
    "duration": 11,
    "start_time": "2023-10-09T04:56:17.001Z"
   },
   {
    "duration": 49,
    "start_time": "2023-10-09T04:56:17.014Z"
   },
   {
    "duration": 516,
    "start_time": "2023-10-09T04:56:17.064Z"
   },
   {
    "duration": 261,
    "start_time": "2023-10-09T04:56:17.581Z"
   },
   {
    "duration": 347,
    "start_time": "2023-10-09T04:56:17.844Z"
   },
   {
    "duration": 29,
    "start_time": "2023-10-09T04:56:18.193Z"
   },
   {
    "duration": 165,
    "start_time": "2023-10-09T04:56:18.224Z"
   },
   {
    "duration": 11,
    "start_time": "2023-10-09T04:56:18.391Z"
   },
   {
    "duration": 178,
    "start_time": "2023-10-09T04:56:18.405Z"
   },
   {
    "duration": 285,
    "start_time": "2023-10-09T04:56:18.585Z"
   },
   {
    "duration": 0,
    "start_time": "2023-10-09T04:56:18.872Z"
   },
   {
    "duration": 0,
    "start_time": "2023-10-09T04:56:18.873Z"
   },
   {
    "duration": 0,
    "start_time": "2023-10-09T04:56:18.874Z"
   },
   {
    "duration": 0,
    "start_time": "2023-10-09T04:56:18.875Z"
   },
   {
    "duration": 0,
    "start_time": "2023-10-09T04:56:18.876Z"
   },
   {
    "duration": 0,
    "start_time": "2023-10-09T04:56:18.878Z"
   },
   {
    "duration": 0,
    "start_time": "2023-10-09T04:56:18.879Z"
   },
   {
    "duration": 0,
    "start_time": "2023-10-09T04:56:18.881Z"
   },
   {
    "duration": 0,
    "start_time": "2023-10-09T04:56:18.882Z"
   },
   {
    "duration": 0,
    "start_time": "2023-10-09T04:56:18.883Z"
   },
   {
    "duration": 0,
    "start_time": "2023-10-09T04:56:18.884Z"
   },
   {
    "duration": 0,
    "start_time": "2023-10-09T04:56:18.886Z"
   },
   {
    "duration": 0,
    "start_time": "2023-10-09T04:56:18.886Z"
   },
   {
    "duration": 0,
    "start_time": "2023-10-09T04:56:18.887Z"
   },
   {
    "duration": 0,
    "start_time": "2023-10-09T04:56:18.888Z"
   },
   {
    "duration": 0,
    "start_time": "2023-10-09T04:56:18.890Z"
   },
   {
    "duration": 0,
    "start_time": "2023-10-09T04:56:18.891Z"
   },
   {
    "duration": 0,
    "start_time": "2023-10-09T04:56:18.892Z"
   },
   {
    "duration": 0,
    "start_time": "2023-10-09T04:56:18.893Z"
   },
   {
    "duration": 0,
    "start_time": "2023-10-09T04:56:18.894Z"
   },
   {
    "duration": 43,
    "start_time": "2023-10-09T04:58:22.701Z"
   },
   {
    "duration": 173,
    "start_time": "2023-10-09T04:58:24.285Z"
   },
   {
    "duration": 5,
    "start_time": "2023-10-09T04:58:25.369Z"
   },
   {
    "duration": 160,
    "start_time": "2023-10-09T04:58:28.790Z"
   },
   {
    "duration": 295,
    "start_time": "2023-10-09T04:58:30.333Z"
   },
   {
    "duration": 1157,
    "start_time": "2023-10-09T04:59:14.920Z"
   },
   {
    "duration": 56,
    "start_time": "2023-10-09T04:59:16.080Z"
   },
   {
    "duration": 17,
    "start_time": "2023-10-09T04:59:16.138Z"
   },
   {
    "duration": 17,
    "start_time": "2023-10-09T04:59:16.158Z"
   },
   {
    "duration": 7,
    "start_time": "2023-10-09T04:59:16.177Z"
   },
   {
    "duration": 6,
    "start_time": "2023-10-09T04:59:16.202Z"
   },
   {
    "duration": 7,
    "start_time": "2023-10-09T04:59:16.210Z"
   },
   {
    "duration": 34,
    "start_time": "2023-10-09T04:59:16.219Z"
   },
   {
    "duration": 13,
    "start_time": "2023-10-09T04:59:16.254Z"
   },
   {
    "duration": 17,
    "start_time": "2023-10-09T04:59:16.269Z"
   },
   {
    "duration": 14,
    "start_time": "2023-10-09T04:59:16.288Z"
   },
   {
    "duration": 7,
    "start_time": "2023-10-09T04:59:16.304Z"
   },
   {
    "duration": 11,
    "start_time": "2023-10-09T04:59:16.312Z"
   },
   {
    "duration": 39,
    "start_time": "2023-10-09T04:59:16.325Z"
   },
   {
    "duration": 15,
    "start_time": "2023-10-09T04:59:16.366Z"
   },
   {
    "duration": 7,
    "start_time": "2023-10-09T04:59:16.382Z"
   },
   {
    "duration": 47,
    "start_time": "2023-10-09T04:59:16.391Z"
   },
   {
    "duration": 95,
    "start_time": "2023-10-09T04:59:16.439Z"
   },
   {
    "duration": 51,
    "start_time": "2023-10-09T04:59:16.536Z"
   },
   {
    "duration": 7,
    "start_time": "2023-10-09T04:59:16.588Z"
   },
   {
    "duration": 30,
    "start_time": "2023-10-09T04:59:16.597Z"
   },
   {
    "duration": 19,
    "start_time": "2023-10-09T04:59:16.629Z"
   },
   {
    "duration": 31,
    "start_time": "2023-10-09T04:59:16.650Z"
   },
   {
    "duration": 20,
    "start_time": "2023-10-09T04:59:16.682Z"
   },
   {
    "duration": 17,
    "start_time": "2023-10-09T04:59:16.703Z"
   },
   {
    "duration": 24,
    "start_time": "2023-10-09T04:59:16.722Z"
   },
   {
    "duration": 201,
    "start_time": "2023-10-09T04:59:16.748Z"
   },
   {
    "duration": 6,
    "start_time": "2023-10-09T04:59:16.953Z"
   },
   {
    "duration": 271,
    "start_time": "2023-10-09T04:59:16.961Z"
   },
   {
    "duration": 10,
    "start_time": "2023-10-09T04:59:17.234Z"
   },
   {
    "duration": 26,
    "start_time": "2023-10-09T04:59:17.246Z"
   },
   {
    "duration": 425,
    "start_time": "2023-10-09T04:59:17.273Z"
   },
   {
    "duration": 24,
    "start_time": "2023-10-09T04:59:17.700Z"
   },
   {
    "duration": 188,
    "start_time": "2023-10-09T04:59:17.726Z"
   },
   {
    "duration": 11,
    "start_time": "2023-10-09T04:59:17.916Z"
   },
   {
    "duration": 34,
    "start_time": "2023-10-09T04:59:17.929Z"
   },
   {
    "duration": 505,
    "start_time": "2023-10-09T04:59:17.965Z"
   },
   {
    "duration": 286,
    "start_time": "2023-10-09T04:59:18.472Z"
   },
   {
    "duration": 333,
    "start_time": "2023-10-09T04:59:18.760Z"
   },
   {
    "duration": 32,
    "start_time": "2023-10-09T04:59:19.094Z"
   },
   {
    "duration": 176,
    "start_time": "2023-10-09T04:59:19.127Z"
   },
   {
    "duration": 5,
    "start_time": "2023-10-09T04:59:19.305Z"
   },
   {
    "duration": 168,
    "start_time": "2023-10-09T04:59:19.312Z"
   },
   {
    "duration": 303,
    "start_time": "2023-10-09T04:59:19.482Z"
   },
   {
    "duration": 0,
    "start_time": "2023-10-09T04:59:19.786Z"
   },
   {
    "duration": 0,
    "start_time": "2023-10-09T04:59:19.787Z"
   },
   {
    "duration": 0,
    "start_time": "2023-10-09T04:59:19.788Z"
   },
   {
    "duration": 0,
    "start_time": "2023-10-09T04:59:19.789Z"
   },
   {
    "duration": 0,
    "start_time": "2023-10-09T04:59:19.790Z"
   },
   {
    "duration": 0,
    "start_time": "2023-10-09T04:59:19.791Z"
   },
   {
    "duration": 0,
    "start_time": "2023-10-09T04:59:19.792Z"
   },
   {
    "duration": 0,
    "start_time": "2023-10-09T04:59:19.793Z"
   },
   {
    "duration": 0,
    "start_time": "2023-10-09T04:59:19.794Z"
   },
   {
    "duration": 0,
    "start_time": "2023-10-09T04:59:19.795Z"
   },
   {
    "duration": 0,
    "start_time": "2023-10-09T04:59:19.796Z"
   },
   {
    "duration": 0,
    "start_time": "2023-10-09T04:59:19.797Z"
   },
   {
    "duration": 0,
    "start_time": "2023-10-09T04:59:19.798Z"
   },
   {
    "duration": 0,
    "start_time": "2023-10-09T04:59:19.799Z"
   },
   {
    "duration": 0,
    "start_time": "2023-10-09T04:59:19.800Z"
   },
   {
    "duration": 0,
    "start_time": "2023-10-09T04:59:19.801Z"
   },
   {
    "duration": 0,
    "start_time": "2023-10-09T04:59:19.802Z"
   },
   {
    "duration": 0,
    "start_time": "2023-10-09T04:59:19.803Z"
   },
   {
    "duration": 0,
    "start_time": "2023-10-09T04:59:19.804Z"
   },
   {
    "duration": 0,
    "start_time": "2023-10-09T04:59:19.805Z"
   },
   {
    "duration": 8,
    "start_time": "2023-10-09T05:01:48.188Z"
   },
   {
    "duration": 1196,
    "start_time": "2023-10-09T05:01:55.156Z"
   },
   {
    "duration": 61,
    "start_time": "2023-10-09T05:01:56.354Z"
   },
   {
    "duration": 18,
    "start_time": "2023-10-09T05:01:56.416Z"
   },
   {
    "duration": 32,
    "start_time": "2023-10-09T05:01:56.436Z"
   },
   {
    "duration": 35,
    "start_time": "2023-10-09T05:01:56.470Z"
   },
   {
    "duration": 39,
    "start_time": "2023-10-09T05:01:56.507Z"
   },
   {
    "duration": 29,
    "start_time": "2023-10-09T05:01:56.548Z"
   },
   {
    "duration": 13,
    "start_time": "2023-10-09T05:01:56.579Z"
   },
   {
    "duration": 33,
    "start_time": "2023-10-09T05:01:56.594Z"
   },
   {
    "duration": 42,
    "start_time": "2023-10-09T05:01:56.631Z"
   },
   {
    "duration": 28,
    "start_time": "2023-10-09T05:01:56.675Z"
   },
   {
    "duration": 55,
    "start_time": "2023-10-09T05:01:56.705Z"
   },
   {
    "duration": 15,
    "start_time": "2023-10-09T05:01:56.762Z"
   },
   {
    "duration": 49,
    "start_time": "2023-10-09T05:01:56.778Z"
   },
   {
    "duration": 20,
    "start_time": "2023-10-09T05:01:56.828Z"
   },
   {
    "duration": 46,
    "start_time": "2023-10-09T05:01:56.850Z"
   },
   {
    "duration": 105,
    "start_time": "2023-10-09T05:01:56.898Z"
   },
   {
    "duration": 13,
    "start_time": "2023-10-09T05:01:57.005Z"
   },
   {
    "duration": 32,
    "start_time": "2023-10-09T05:01:57.020Z"
   },
   {
    "duration": 17,
    "start_time": "2023-10-09T05:01:57.053Z"
   },
   {
    "duration": 20,
    "start_time": "2023-10-09T05:01:57.072Z"
   },
   {
    "duration": 41,
    "start_time": "2023-10-09T05:01:57.094Z"
   },
   {
    "duration": 37,
    "start_time": "2023-10-09T05:01:57.137Z"
   },
   {
    "duration": 27,
    "start_time": "2023-10-09T05:01:57.176Z"
   },
   {
    "duration": 20,
    "start_time": "2023-10-09T05:01:57.204Z"
   },
   {
    "duration": 24,
    "start_time": "2023-10-09T05:01:57.226Z"
   },
   {
    "duration": 212,
    "start_time": "2023-10-09T05:01:57.251Z"
   },
   {
    "duration": 6,
    "start_time": "2023-10-09T05:01:57.467Z"
   },
   {
    "duration": 289,
    "start_time": "2023-10-09T05:01:57.475Z"
   },
   {
    "duration": 13,
    "start_time": "2023-10-09T05:01:57.765Z"
   },
   {
    "duration": 21,
    "start_time": "2023-10-09T05:01:57.780Z"
   },
   {
    "duration": 451,
    "start_time": "2023-10-09T05:01:57.803Z"
   },
   {
    "duration": 27,
    "start_time": "2023-10-09T05:01:58.256Z"
   },
   {
    "duration": 171,
    "start_time": "2023-10-09T05:01:58.285Z"
   },
   {
    "duration": 12,
    "start_time": "2023-10-09T05:01:58.457Z"
   },
   {
    "duration": 14,
    "start_time": "2023-10-09T05:01:58.471Z"
   },
   {
    "duration": 542,
    "start_time": "2023-10-09T05:01:58.487Z"
   },
   {
    "duration": 260,
    "start_time": "2023-10-09T05:01:59.031Z"
   },
   {
    "duration": 347,
    "start_time": "2023-10-09T05:01:59.293Z"
   },
   {
    "duration": 25,
    "start_time": "2023-10-09T05:01:59.641Z"
   },
   {
    "duration": 174,
    "start_time": "2023-10-09T05:01:59.668Z"
   },
   {
    "duration": 6,
    "start_time": "2023-10-09T05:01:59.843Z"
   },
   {
    "duration": 181,
    "start_time": "2023-10-09T05:01:59.850Z"
   },
   {
    "duration": 5,
    "start_time": "2023-10-09T05:02:00.032Z"
   },
   {
    "duration": 195,
    "start_time": "2023-10-09T05:02:00.039Z"
   },
   {
    "duration": 10,
    "start_time": "2023-10-09T05:02:00.237Z"
   },
   {
    "duration": 194,
    "start_time": "2023-10-09T05:02:00.249Z"
   },
   {
    "duration": 9,
    "start_time": "2023-10-09T05:02:00.445Z"
   },
   {
    "duration": 260,
    "start_time": "2023-10-09T05:02:00.455Z"
   },
   {
    "duration": 216,
    "start_time": "2023-10-09T05:02:00.717Z"
   },
   {
    "duration": 11,
    "start_time": "2023-10-09T05:02:00.934Z"
   },
   {
    "duration": 67,
    "start_time": "2023-10-09T05:02:00.947Z"
   },
   {
    "duration": 105,
    "start_time": "2023-10-09T05:02:01.015Z"
   },
   {
    "duration": 65,
    "start_time": "2023-10-09T05:02:01.121Z"
   },
   {
    "duration": 310,
    "start_time": "2023-10-09T05:02:01.188Z"
   },
   {
    "duration": 101,
    "start_time": "2023-10-09T05:02:01.499Z"
   },
   {
    "duration": 61,
    "start_time": "2023-10-09T05:02:01.602Z"
   },
   {
    "duration": 216,
    "start_time": "2023-10-09T05:02:01.665Z"
   },
   {
    "duration": 62,
    "start_time": "2023-10-09T05:02:01.883Z"
   },
   {
    "duration": 46,
    "start_time": "2023-10-09T05:02:01.947Z"
   },
   {
    "duration": 53,
    "start_time": "2023-10-09T05:02:01.995Z"
   },
   {
    "duration": 46,
    "start_time": "2023-10-09T05:02:02.050Z"
   },
   {
    "duration": 93,
    "start_time": "2023-10-09T05:02:02.098Z"
   },
   {
    "duration": 40,
    "start_time": "2023-10-09T05:02:02.193Z"
   },
   {
    "duration": 16,
    "start_time": "2023-10-09T05:05:42.912Z"
   },
   {
    "duration": 16,
    "start_time": "2023-10-09T05:05:54.415Z"
   },
   {
    "duration": 353,
    "start_time": "2023-10-09T05:06:13.909Z"
   },
   {
    "duration": 279,
    "start_time": "2023-10-09T05:06:42.500Z"
   },
   {
    "duration": 285,
    "start_time": "2023-10-09T05:06:49.401Z"
   },
   {
    "duration": 268,
    "start_time": "2023-10-09T05:06:59.580Z"
   },
   {
    "duration": 274,
    "start_time": "2023-10-09T05:07:03.270Z"
   },
   {
    "duration": 252,
    "start_time": "2023-10-09T05:13:01.652Z"
   },
   {
    "duration": 354,
    "start_time": "2023-10-09T05:13:12.356Z"
   },
   {
    "duration": 282,
    "start_time": "2023-10-09T05:13:35.738Z"
   },
   {
    "duration": 301,
    "start_time": "2023-10-09T05:13:46.356Z"
   },
   {
    "duration": 10,
    "start_time": "2023-10-09T05:14:27.693Z"
   },
   {
    "duration": 1316,
    "start_time": "2023-10-09T05:28:16.085Z"
   },
   {
    "duration": 58,
    "start_time": "2023-10-09T05:28:17.403Z"
   },
   {
    "duration": 18,
    "start_time": "2023-10-09T05:28:17.463Z"
   },
   {
    "duration": 32,
    "start_time": "2023-10-09T05:28:17.483Z"
   },
   {
    "duration": 29,
    "start_time": "2023-10-09T05:28:17.516Z"
   },
   {
    "duration": 27,
    "start_time": "2023-10-09T05:28:17.547Z"
   },
   {
    "duration": 32,
    "start_time": "2023-10-09T05:28:17.576Z"
   },
   {
    "duration": 28,
    "start_time": "2023-10-09T05:28:17.610Z"
   },
   {
    "duration": 12,
    "start_time": "2023-10-09T05:28:17.640Z"
   },
   {
    "duration": 42,
    "start_time": "2023-10-09T05:28:17.654Z"
   },
   {
    "duration": 45,
    "start_time": "2023-10-09T05:28:17.698Z"
   },
   {
    "duration": 23,
    "start_time": "2023-10-09T05:28:17.745Z"
   },
   {
    "duration": 33,
    "start_time": "2023-10-09T05:28:17.770Z"
   },
   {
    "duration": 51,
    "start_time": "2023-10-09T05:28:17.805Z"
   },
   {
    "duration": 27,
    "start_time": "2023-10-09T05:28:17.858Z"
   },
   {
    "duration": 44,
    "start_time": "2023-10-09T05:28:17.887Z"
   },
   {
    "duration": 61,
    "start_time": "2023-10-09T05:28:17.932Z"
   },
   {
    "duration": 11,
    "start_time": "2023-10-09T05:28:17.995Z"
   },
   {
    "duration": 40,
    "start_time": "2023-10-09T05:28:18.008Z"
   },
   {
    "duration": 17,
    "start_time": "2023-10-09T05:28:18.050Z"
   },
   {
    "duration": 57,
    "start_time": "2023-10-09T05:28:18.068Z"
   },
   {
    "duration": 37,
    "start_time": "2023-10-09T05:28:18.126Z"
   },
   {
    "duration": 37,
    "start_time": "2023-10-09T05:28:18.165Z"
   },
   {
    "duration": 24,
    "start_time": "2023-10-09T05:28:18.204Z"
   },
   {
    "duration": 30,
    "start_time": "2023-10-09T05:28:18.230Z"
   },
   {
    "duration": 26,
    "start_time": "2023-10-09T05:28:18.261Z"
   },
   {
    "duration": 223,
    "start_time": "2023-10-09T05:28:18.289Z"
   },
   {
    "duration": 8,
    "start_time": "2023-10-09T05:28:18.515Z"
   },
   {
    "duration": 314,
    "start_time": "2023-10-09T05:28:18.525Z"
   },
   {
    "duration": 11,
    "start_time": "2023-10-09T05:28:18.841Z"
   },
   {
    "duration": 16,
    "start_time": "2023-10-09T05:28:18.854Z"
   },
   {
    "duration": 510,
    "start_time": "2023-10-09T05:28:18.872Z"
   },
   {
    "duration": 23,
    "start_time": "2023-10-09T05:28:19.384Z"
   },
   {
    "duration": 186,
    "start_time": "2023-10-09T05:28:19.409Z"
   },
   {
    "duration": 14,
    "start_time": "2023-10-09T05:28:19.597Z"
   },
   {
    "duration": 16,
    "start_time": "2023-10-09T05:28:19.613Z"
   },
   {
    "duration": 516,
    "start_time": "2023-10-09T05:28:19.632Z"
   },
   {
    "duration": 267,
    "start_time": "2023-10-09T05:28:20.150Z"
   },
   {
    "duration": 366,
    "start_time": "2023-10-09T05:28:20.419Z"
   },
   {
    "duration": 34,
    "start_time": "2023-10-09T05:28:20.787Z"
   },
   {
    "duration": 183,
    "start_time": "2023-10-09T05:28:20.823Z"
   },
   {
    "duration": 5,
    "start_time": "2023-10-09T05:28:21.008Z"
   },
   {
    "duration": 199,
    "start_time": "2023-10-09T05:28:21.015Z"
   },
   {
    "duration": 6,
    "start_time": "2023-10-09T05:28:21.215Z"
   },
   {
    "duration": 169,
    "start_time": "2023-10-09T05:28:21.222Z"
   },
   {
    "duration": 11,
    "start_time": "2023-10-09T05:28:21.393Z"
   },
   {
    "duration": 172,
    "start_time": "2023-10-09T05:28:21.406Z"
   },
   {
    "duration": 21,
    "start_time": "2023-10-09T05:28:21.580Z"
   },
   {
    "duration": 235,
    "start_time": "2023-10-09T05:28:21.603Z"
   },
   {
    "duration": 225,
    "start_time": "2023-10-09T05:28:21.840Z"
   },
   {
    "duration": 289,
    "start_time": "2023-10-09T05:28:22.067Z"
   },
   {
    "duration": 396,
    "start_time": "2023-10-09T05:28:22.358Z"
   },
   {
    "duration": 7,
    "start_time": "2023-10-09T05:28:22.756Z"
   },
   {
    "duration": 61,
    "start_time": "2023-10-09T05:28:22.765Z"
   },
   {
    "duration": 12,
    "start_time": "2023-10-09T05:28:22.828Z"
   },
   {
    "duration": 48,
    "start_time": "2023-10-09T05:28:22.841Z"
   },
   {
    "duration": 15,
    "start_time": "2023-10-09T05:28:22.891Z"
   },
   {
    "duration": 20,
    "start_time": "2023-10-09T05:28:22.907Z"
   },
   {
    "duration": 27,
    "start_time": "2023-10-09T05:28:22.930Z"
   },
   {
    "duration": 26,
    "start_time": "2023-10-09T05:28:22.959Z"
   },
   {
    "duration": 24,
    "start_time": "2023-10-09T05:28:22.987Z"
   },
   {
    "duration": 17,
    "start_time": "2023-10-09T05:28:23.013Z"
   },
   {
    "duration": 18,
    "start_time": "2023-10-09T05:28:23.032Z"
   },
   {
    "duration": 22,
    "start_time": "2023-10-09T05:28:23.052Z"
   },
   {
    "duration": 33,
    "start_time": "2023-10-09T05:28:23.076Z"
   },
   {
    "duration": 12,
    "start_time": "2023-10-09T05:28:23.110Z"
   },
   {
    "duration": 43,
    "start_time": "2023-10-09T05:28:23.124Z"
   },
   {
    "duration": 1297,
    "start_time": "2023-10-09T06:47:30.865Z"
   },
   {
    "duration": 72,
    "start_time": "2023-10-09T06:47:32.164Z"
   },
   {
    "duration": 65,
    "start_time": "2023-10-09T06:47:32.238Z"
   },
   {
    "duration": 256,
    "start_time": "2023-10-09T06:47:32.305Z"
   },
   {
    "duration": 113,
    "start_time": "2023-10-09T06:47:32.563Z"
   },
   {
    "duration": 55,
    "start_time": "2023-10-09T06:47:32.678Z"
   },
   {
    "duration": 36,
    "start_time": "2023-10-09T06:47:32.735Z"
   },
   {
    "duration": 10,
    "start_time": "2023-10-09T06:47:32.773Z"
   },
   {
    "duration": 58,
    "start_time": "2023-10-09T06:47:32.785Z"
   },
   {
    "duration": 36,
    "start_time": "2023-10-09T06:47:32.846Z"
   },
   {
    "duration": 42,
    "start_time": "2023-10-09T06:47:32.884Z"
   },
   {
    "duration": 5,
    "start_time": "2023-10-09T06:47:32.928Z"
   },
   {
    "duration": 19,
    "start_time": "2023-10-09T06:47:32.935Z"
   },
   {
    "duration": 39,
    "start_time": "2023-10-09T06:47:32.955Z"
   },
   {
    "duration": 21,
    "start_time": "2023-10-09T06:47:32.996Z"
   },
   {
    "duration": 50,
    "start_time": "2023-10-09T06:47:33.019Z"
   },
   {
    "duration": 73,
    "start_time": "2023-10-09T06:47:33.070Z"
   },
   {
    "duration": 48,
    "start_time": "2023-10-09T06:47:33.144Z"
   },
   {
    "duration": 67,
    "start_time": "2023-10-09T06:47:33.194Z"
   },
   {
    "duration": 68,
    "start_time": "2023-10-09T06:47:33.263Z"
   },
   {
    "duration": 31,
    "start_time": "2023-10-09T06:47:33.333Z"
   },
   {
    "duration": 33,
    "start_time": "2023-10-09T06:47:33.366Z"
   },
   {
    "duration": 28,
    "start_time": "2023-10-09T06:47:33.401Z"
   },
   {
    "duration": 31,
    "start_time": "2023-10-09T06:47:33.430Z"
   },
   {
    "duration": 17,
    "start_time": "2023-10-09T06:47:33.463Z"
   },
   {
    "duration": 66,
    "start_time": "2023-10-09T06:47:33.482Z"
   },
   {
    "duration": 209,
    "start_time": "2023-10-09T06:47:33.549Z"
   },
   {
    "duration": 7,
    "start_time": "2023-10-09T06:47:33.762Z"
   },
   {
    "duration": 322,
    "start_time": "2023-10-09T06:47:33.771Z"
   },
   {
    "duration": 24,
    "start_time": "2023-10-09T06:47:34.095Z"
   },
   {
    "duration": 22,
    "start_time": "2023-10-09T06:47:34.121Z"
   },
   {
    "duration": 537,
    "start_time": "2023-10-09T06:47:34.145Z"
   },
   {
    "duration": 40,
    "start_time": "2023-10-09T06:47:34.684Z"
   },
   {
    "duration": 234,
    "start_time": "2023-10-09T06:47:34.729Z"
   },
   {
    "duration": 11,
    "start_time": "2023-10-09T06:47:34.965Z"
   },
   {
    "duration": 26,
    "start_time": "2023-10-09T06:47:34.977Z"
   },
   {
    "duration": 549,
    "start_time": "2023-10-09T06:47:35.005Z"
   },
   {
    "duration": 289,
    "start_time": "2023-10-09T06:47:35.556Z"
   },
   {
    "duration": 382,
    "start_time": "2023-10-09T06:47:35.847Z"
   },
   {
    "duration": 30,
    "start_time": "2023-10-09T06:47:36.230Z"
   },
   {
    "duration": 513,
    "start_time": "2023-10-09T06:47:36.262Z"
   },
   {
    "duration": 16,
    "start_time": "2023-10-09T06:47:36.777Z"
   },
   {
    "duration": 233,
    "start_time": "2023-10-09T06:47:36.795Z"
   },
   {
    "duration": 6,
    "start_time": "2023-10-09T06:47:37.029Z"
   },
   {
    "duration": 230,
    "start_time": "2023-10-09T06:47:37.037Z"
   },
   {
    "duration": 10,
    "start_time": "2023-10-09T06:47:37.269Z"
   },
   {
    "duration": 352,
    "start_time": "2023-10-09T06:47:37.281Z"
   },
   {
    "duration": 9,
    "start_time": "2023-10-09T06:47:37.634Z"
   },
   {
    "duration": 252,
    "start_time": "2023-10-09T06:47:37.645Z"
   },
   {
    "duration": 245,
    "start_time": "2023-10-09T06:47:37.899Z"
   },
   {
    "duration": 313,
    "start_time": "2023-10-09T06:47:38.146Z"
   },
   {
    "duration": 448,
    "start_time": "2023-10-09T06:47:38.461Z"
   },
   {
    "duration": 13,
    "start_time": "2023-10-09T06:47:38.911Z"
   },
   {
    "duration": 12,
    "start_time": "2023-10-09T06:47:38.926Z"
   },
   {
    "duration": 26,
    "start_time": "2023-10-09T06:47:38.939Z"
   },
   {
    "duration": 32,
    "start_time": "2023-10-09T06:47:38.966Z"
   },
   {
    "duration": 31,
    "start_time": "2023-10-09T06:47:38.999Z"
   },
   {
    "duration": 11,
    "start_time": "2023-10-09T06:47:39.032Z"
   },
   {
    "duration": 37,
    "start_time": "2023-10-09T06:47:39.044Z"
   },
   {
    "duration": 13,
    "start_time": "2023-10-09T06:47:39.082Z"
   },
   {
    "duration": 31,
    "start_time": "2023-10-09T06:47:39.096Z"
   },
   {
    "duration": 16,
    "start_time": "2023-10-09T06:47:39.129Z"
   },
   {
    "duration": 23,
    "start_time": "2023-10-09T06:47:39.147Z"
   },
   {
    "duration": 27,
    "start_time": "2023-10-09T06:47:39.172Z"
   },
   {
    "duration": 29,
    "start_time": "2023-10-09T06:47:39.201Z"
   },
   {
    "duration": 20,
    "start_time": "2023-10-09T06:47:39.232Z"
   },
   {
    "duration": 61,
    "start_time": "2023-10-09T06:47:39.254Z"
   },
   {
    "duration": 1191,
    "start_time": "2023-10-09T08:20:34.237Z"
   },
   {
    "duration": 181,
    "start_time": "2023-10-09T08:20:35.430Z"
   },
   {
    "duration": 19,
    "start_time": "2023-10-09T08:20:35.613Z"
   },
   {
    "duration": 48,
    "start_time": "2023-10-09T08:20:35.635Z"
   },
   {
    "duration": 32,
    "start_time": "2023-10-09T08:20:35.685Z"
   },
   {
    "duration": 37,
    "start_time": "2023-10-09T08:20:35.718Z"
   },
   {
    "duration": 51,
    "start_time": "2023-10-09T08:20:35.757Z"
   },
   {
    "duration": 31,
    "start_time": "2023-10-09T08:20:35.810Z"
   },
   {
    "duration": 30,
    "start_time": "2023-10-09T08:20:35.843Z"
   },
   {
    "duration": 46,
    "start_time": "2023-10-09T08:20:35.876Z"
   },
   {
    "duration": 40,
    "start_time": "2023-10-09T08:20:35.924Z"
   },
   {
    "duration": 33,
    "start_time": "2023-10-09T08:20:35.966Z"
   },
   {
    "duration": 34,
    "start_time": "2023-10-09T08:20:36.001Z"
   },
   {
    "duration": 87,
    "start_time": "2023-10-09T08:20:36.036Z"
   },
   {
    "duration": 25,
    "start_time": "2023-10-09T08:20:36.125Z"
   },
   {
    "duration": 33,
    "start_time": "2023-10-09T08:20:36.153Z"
   },
   {
    "duration": 77,
    "start_time": "2023-10-09T08:20:36.188Z"
   },
   {
    "duration": 9,
    "start_time": "2023-10-09T08:20:36.267Z"
   },
   {
    "duration": 36,
    "start_time": "2023-10-09T08:20:36.278Z"
   },
   {
    "duration": 20,
    "start_time": "2023-10-09T08:20:36.316Z"
   },
   {
    "duration": 29,
    "start_time": "2023-10-09T08:20:36.338Z"
   },
   {
    "duration": 32,
    "start_time": "2023-10-09T08:20:36.369Z"
   },
   {
    "duration": 44,
    "start_time": "2023-10-09T08:20:36.402Z"
   },
   {
    "duration": 17,
    "start_time": "2023-10-09T08:20:36.448Z"
   },
   {
    "duration": 44,
    "start_time": "2023-10-09T08:20:36.467Z"
   },
   {
    "duration": 29,
    "start_time": "2023-10-09T08:20:36.512Z"
   },
   {
    "duration": 188,
    "start_time": "2023-10-09T08:20:36.543Z"
   },
   {
    "duration": 9,
    "start_time": "2023-10-09T08:20:36.735Z"
   },
   {
    "duration": 301,
    "start_time": "2023-10-09T08:20:36.746Z"
   },
   {
    "duration": 12,
    "start_time": "2023-10-09T08:20:37.048Z"
   },
   {
    "duration": 32,
    "start_time": "2023-10-09T08:20:37.062Z"
   },
   {
    "duration": 442,
    "start_time": "2023-10-09T08:20:37.096Z"
   },
   {
    "duration": 24,
    "start_time": "2023-10-09T08:20:37.539Z"
   },
   {
    "duration": 188,
    "start_time": "2023-10-09T08:20:37.565Z"
   },
   {
    "duration": 10,
    "start_time": "2023-10-09T08:20:37.756Z"
   },
   {
    "duration": 31,
    "start_time": "2023-10-09T08:20:37.768Z"
   },
   {
    "duration": 483,
    "start_time": "2023-10-09T08:20:37.801Z"
   },
   {
    "duration": 253,
    "start_time": "2023-10-09T08:20:38.286Z"
   },
   {
    "duration": 338,
    "start_time": "2023-10-09T08:20:38.540Z"
   },
   {
    "duration": 25,
    "start_time": "2023-10-09T08:20:38.880Z"
   },
   {
    "duration": 190,
    "start_time": "2023-10-09T08:20:38.907Z"
   },
   {
    "duration": 5,
    "start_time": "2023-10-09T08:20:39.099Z"
   },
   {
    "duration": 190,
    "start_time": "2023-10-09T08:20:39.105Z"
   },
   {
    "duration": 5,
    "start_time": "2023-10-09T08:20:39.297Z"
   },
   {
    "duration": 168,
    "start_time": "2023-10-09T08:20:39.303Z"
   },
   {
    "duration": 12,
    "start_time": "2023-10-09T08:20:39.472Z"
   },
   {
    "duration": 202,
    "start_time": "2023-10-09T08:20:39.486Z"
   },
   {
    "duration": 7,
    "start_time": "2023-10-09T08:20:39.690Z"
   },
   {
    "duration": 210,
    "start_time": "2023-10-09T08:20:39.698Z"
   },
   {
    "duration": 245,
    "start_time": "2023-10-09T08:20:39.909Z"
   },
   {
    "duration": 277,
    "start_time": "2023-10-09T08:20:40.156Z"
   },
   {
    "duration": 348,
    "start_time": "2023-10-09T08:20:40.435Z"
   },
   {
    "duration": 7,
    "start_time": "2023-10-09T08:20:40.785Z"
   },
   {
    "duration": 16,
    "start_time": "2023-10-09T08:20:40.794Z"
   },
   {
    "duration": 10,
    "start_time": "2023-10-09T08:20:40.811Z"
   },
   {
    "duration": 34,
    "start_time": "2023-10-09T08:20:40.822Z"
   },
   {
    "duration": 12,
    "start_time": "2023-10-09T08:20:40.858Z"
   },
   {
    "duration": 19,
    "start_time": "2023-10-09T08:20:40.871Z"
   },
   {
    "duration": 31,
    "start_time": "2023-10-09T08:20:40.891Z"
   },
   {
    "duration": 26,
    "start_time": "2023-10-09T08:20:40.924Z"
   },
   {
    "duration": 22,
    "start_time": "2023-10-09T08:20:40.952Z"
   },
   {
    "duration": 17,
    "start_time": "2023-10-09T08:20:40.976Z"
   },
   {
    "duration": 15,
    "start_time": "2023-10-09T08:20:40.995Z"
   },
   {
    "duration": 14,
    "start_time": "2023-10-09T08:20:41.012Z"
   },
   {
    "duration": 17,
    "start_time": "2023-10-09T08:20:41.028Z"
   },
   {
    "duration": 21,
    "start_time": "2023-10-09T08:20:41.047Z"
   },
   {
    "duration": 13,
    "start_time": "2023-10-09T08:20:41.070Z"
   },
   {
    "duration": 1346,
    "start_time": "2023-10-21T09:22:40.319Z"
   }
  ],
  "kernelspec": {
   "display_name": "Python 3 (ipykernel)",
   "language": "python",
   "name": "python3"
  },
  "language_info": {
   "codemirror_mode": {
    "name": "ipython",
    "version": 3
   },
   "file_extension": ".py",
   "mimetype": "text/x-python",
   "name": "python",
   "nbconvert_exporter": "python",
   "pygments_lexer": "ipython3",
   "version": "3.9.5"
  },
  "toc": {
   "base_numbering": 1,
   "nav_menu": {},
   "number_sections": true,
   "sideBar": true,
   "skip_h1_title": true,
   "title_cell": "Table of Contents",
   "title_sidebar": "Contents",
   "toc_cell": false,
   "toc_position": {
    "height": "663px",
    "left": "207px",
    "top": "111.125px",
    "width": "392.778px"
   },
   "toc_section_display": true,
   "toc_window_display": true
  }
 },
 "nbformat": 4,
 "nbformat_minor": 2
}
