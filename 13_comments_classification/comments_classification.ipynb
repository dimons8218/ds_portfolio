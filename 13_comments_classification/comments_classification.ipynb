{
 "cells": [
  {
   "cell_type": "markdown",
   "metadata": {},
   "source": [
    "# Проект для «Викишоп»"
   ]
  },
  {
   "cell_type": "markdown",
   "metadata": {},
   "source": [
    "***Описание проекта:***\n",
    "\n",
    "Интернет-магазин «Викишоп» запускает новый сервис. Теперь пользователи могут редактировать и дополнять описания товаров, как в вики-сообществах. То есть клиенты предлагают свои правки и комментируют изменения других. Магазину нужен инструмент, который будет искать токсичные комментарии и отправлять их на модерацию. В нашем распоряжении набор данных с разметкой о токсичности правок.\n",
    "\n",
    "***Цели проекта:***\n",
    "- Обучить модель классифицировать комментарии на позитивные и негативные.\n",
    "- Построить модель со значением метрики качества *F1* не меньше 0.75. \n",
    "\n",
    "***Инструкция по выполнению проекта:***\n",
    "\n",
    "1. Загрузить и подготовить данные.\n",
    "2. Обучить разные модели. \n",
    "3. Сделать выводы.\n",
    "\n",
    "***Описание данных:***\n",
    "\n",
    "Данные находятся в файле `toxic_comments.csv`. Столбец *text* в нём содержит текст комментария, а *toxic* — целевой признак."
   ]
  },
  {
   "cell_type": "markdown",
   "metadata": {},
   "source": [
    "## Подготовка"
   ]
  },
  {
   "cell_type": "markdown",
   "metadata": {},
   "source": [
    "Сначала установим необходимые библиотеки:"
   ]
  },
  {
   "cell_type": "code",
   "execution_count": 1,
   "metadata": {
    "scrolled": true
   },
   "outputs": [],
   "source": [
    "!pip install -q scikit-learn --upgrade\n",
    "!pip install -q imbalanced-learn --upgrade"
   ]
  },
  {
   "cell_type": "markdown",
   "metadata": {},
   "source": [
    "Далее импортируем библиотеки, необходимые для работы:"
   ]
  },
  {
   "cell_type": "code",
   "execution_count": 2,
   "metadata": {},
   "outputs": [],
   "source": [
    "import pandas as pd\n",
    "import numpy as np\n",
    "import matplotlib.pyplot as plt\n",
    "\n",
    "from sklearn.model_selection import train_test_split, GridSearchCV\n",
    "from sklearn.linear_model import LogisticRegression\n",
    "from sklearn.tree import DecisionTreeClassifier\n",
    "from sklearn.neighbors import KNeighborsClassifier\n",
    "from sklearn.metrics import f1_score\n",
    "from sklearn.feature_extraction.text import TfidfVectorizer\n",
    "from sklearn.pipeline import Pipeline\n",
    "\n",
    "from lightgbm import LGBMClassifier\n",
    "from catboost import CatBoostClassifier\n",
    "\n",
    "import re \n",
    "  \n",
    "import nltk\n",
    "from nltk.stem import WordNetLemmatizer\n",
    "from nltk.corpus import wordnet\n",
    "from nltk.corpus import stopwords as nltk_stopwords\n",
    "\n",
    "from tqdm.notebook import tqdm\n",
    "tqdm.pandas()\n",
    "\n",
    "import warnings\n",
    "warnings.filterwarnings('ignore')"
   ]
  },
  {
   "cell_type": "markdown",
   "metadata": {},
   "source": [
    "Считываем CSV-файл с данными с помощью библиотеки pandas и сохраним его в датафрейм df_tc. Путь к файлу - /datasets/toxic_comments.csv. "
   ]
  },
  {
   "cell_type": "code",
   "execution_count": 3,
   "metadata": {
    "scrolled": true
   },
   "outputs": [],
   "source": [
    "df_tc = pd.read_csv('/datasets/toxic_comments.csv')"
   ]
  },
  {
   "cell_type": "markdown",
   "metadata": {},
   "source": [
    "Проверим, что данные в таблице соответствуют описанию. Выведем одну случайную строку датафрейма:"
   ]
  },
  {
   "cell_type": "code",
   "execution_count": 4,
   "metadata": {},
   "outputs": [
    {
     "data": {
      "text/html": [
       "<div>\n",
       "<style scoped>\n",
       "    .dataframe tbody tr th:only-of-type {\n",
       "        vertical-align: middle;\n",
       "    }\n",
       "\n",
       "    .dataframe tbody tr th {\n",
       "        vertical-align: top;\n",
       "    }\n",
       "\n",
       "    .dataframe thead th {\n",
       "        text-align: right;\n",
       "    }\n",
       "</style>\n",
       "<table border=\"1\" class=\"dataframe\">\n",
       "  <thead>\n",
       "    <tr style=\"text-align: right;\">\n",
       "      <th></th>\n",
       "      <th>Unnamed: 0</th>\n",
       "      <th>text</th>\n",
       "      <th>toxic</th>\n",
       "    </tr>\n",
       "  </thead>\n",
       "  <tbody>\n",
       "    <tr>\n",
       "      <th>149268</th>\n",
       "      <td>149424</td>\n",
       "      <td>\"\\n\\n{{unblock|I am NOT vandalizing!  I was me...</td>\n",
       "      <td>0</td>\n",
       "    </tr>\n",
       "  </tbody>\n",
       "</table>\n",
       "</div>"
      ],
      "text/plain": [
       "        Unnamed: 0                                               text  toxic\n",
       "149268      149424  \"\\n\\n{{unblock|I am NOT vandalizing!  I was me...      0"
      ]
     },
     "execution_count": 4,
     "metadata": {},
     "output_type": "execute_result"
    }
   ],
   "source": [
    "df_tc.sample(1)"
   ]
  },
  {
   "cell_type": "markdown",
   "metadata": {},
   "source": [
    "Таким образом, представленные исходные данные соответствуют описанию.\n",
    "\n",
    "Проведём предобработку данных.\n",
    "\n",
    "Для начала создадим  2 функции: \n",
    "- data_main_info, которая будет выводить общую информацию о каждом датафрейме с помощью методов: info() и head();\n",
    "- data_preprocessing, которая будет определять количество пропущенных значений в каждом столбце и искать явные дубликаты:"
   ]
  },
  {
   "cell_type": "code",
   "execution_count": 5,
   "metadata": {},
   "outputs": [],
   "source": [
    "def data_main_info(data):\n",
    "       \n",
    "    print(f'Общая информация:') \n",
    "    print(data.info())\n",
    "    print()\n",
    "    print(f'Первые пять строк таблицы:')\n",
    "    display(data.head())"
   ]
  },
  {
   "cell_type": "code",
   "execution_count": 6,
   "metadata": {},
   "outputs": [],
   "source": [
    "def data_preprocessing(data):\n",
    "    print(f'Количество пропущенных значений в каждом столбце:')\n",
    "    print(data.isna().sum())\n",
    "    print()   \n",
    "    print(f'Количество явных дубликатов: {data.duplicated().sum()}')"
   ]
  },
  {
   "cell_type": "markdown",
   "metadata": {},
   "source": [
    "Рассмотрим общую информацию о датафрейме:"
   ]
  },
  {
   "cell_type": "code",
   "execution_count": 7,
   "metadata": {},
   "outputs": [
    {
     "name": "stdout",
     "output_type": "stream",
     "text": [
      "Общая информация:\n",
      "<class 'pandas.core.frame.DataFrame'>\n",
      "RangeIndex: 159292 entries, 0 to 159291\n",
      "Data columns (total 3 columns):\n",
      " #   Column      Non-Null Count   Dtype \n",
      "---  ------      --------------   ----- \n",
      " 0   Unnamed: 0  159292 non-null  int64 \n",
      " 1   text        159292 non-null  object\n",
      " 2   toxic       159292 non-null  int64 \n",
      "dtypes: int64(2), object(1)\n",
      "memory usage: 3.6+ MB\n",
      "None\n",
      "\n",
      "Первые пять строк таблицы:\n"
     ]
    },
    {
     "data": {
      "text/html": [
       "<div>\n",
       "<style scoped>\n",
       "    .dataframe tbody tr th:only-of-type {\n",
       "        vertical-align: middle;\n",
       "    }\n",
       "\n",
       "    .dataframe tbody tr th {\n",
       "        vertical-align: top;\n",
       "    }\n",
       "\n",
       "    .dataframe thead th {\n",
       "        text-align: right;\n",
       "    }\n",
       "</style>\n",
       "<table border=\"1\" class=\"dataframe\">\n",
       "  <thead>\n",
       "    <tr style=\"text-align: right;\">\n",
       "      <th></th>\n",
       "      <th>Unnamed: 0</th>\n",
       "      <th>text</th>\n",
       "      <th>toxic</th>\n",
       "    </tr>\n",
       "  </thead>\n",
       "  <tbody>\n",
       "    <tr>\n",
       "      <th>0</th>\n",
       "      <td>0</td>\n",
       "      <td>Explanation\\nWhy the edits made under my usern...</td>\n",
       "      <td>0</td>\n",
       "    </tr>\n",
       "    <tr>\n",
       "      <th>1</th>\n",
       "      <td>1</td>\n",
       "      <td>D'aww! He matches this background colour I'm s...</td>\n",
       "      <td>0</td>\n",
       "    </tr>\n",
       "    <tr>\n",
       "      <th>2</th>\n",
       "      <td>2</td>\n",
       "      <td>Hey man, I'm really not trying to edit war. It...</td>\n",
       "      <td>0</td>\n",
       "    </tr>\n",
       "    <tr>\n",
       "      <th>3</th>\n",
       "      <td>3</td>\n",
       "      <td>\"\\nMore\\nI can't make any real suggestions on ...</td>\n",
       "      <td>0</td>\n",
       "    </tr>\n",
       "    <tr>\n",
       "      <th>4</th>\n",
       "      <td>4</td>\n",
       "      <td>You, sir, are my hero. Any chance you remember...</td>\n",
       "      <td>0</td>\n",
       "    </tr>\n",
       "  </tbody>\n",
       "</table>\n",
       "</div>"
      ],
      "text/plain": [
       "   Unnamed: 0                                               text  toxic\n",
       "0           0  Explanation\\nWhy the edits made under my usern...      0\n",
       "1           1  D'aww! He matches this background colour I'm s...      0\n",
       "2           2  Hey man, I'm really not trying to edit war. It...      0\n",
       "3           3  \"\\nMore\\nI can't make any real suggestions on ...      0\n",
       "4           4  You, sir, are my hero. Any chance you remember...      0"
      ]
     },
     "metadata": {},
     "output_type": "display_data"
    }
   ],
   "source": [
    "data_main_info(df_tc)"
   ]
  },
  {
   "cell_type": "markdown",
   "metadata": {},
   "source": [
    "В выборке имеется 159292 строк и 3 столбца, а все типы данных соответствуют содержимому.\n",
    "\n",
    "Проверим данные на наличие пропусков и дубликатов:"
   ]
  },
  {
   "cell_type": "code",
   "execution_count": 8,
   "metadata": {},
   "outputs": [
    {
     "name": "stdout",
     "output_type": "stream",
     "text": [
      "Количество пропущенных значений в каждом столбце:\n",
      "Unnamed: 0    0\n",
      "text          0\n",
      "toxic         0\n",
      "dtype: int64\n",
      "\n",
      "Количество явных дубликатов: 0\n"
     ]
    }
   ],
   "source": [
    "data_preprocessing(df_tc)"
   ]
  },
  {
   "cell_type": "markdown",
   "metadata": {},
   "source": [
    "Пропуски и явные дубликаты в датафрейме отсутствуют.\n",
    "\n",
    "Удалим неинформативный признак 'Unnamed: 0':"
   ]
  },
  {
   "cell_type": "code",
   "execution_count": 9,
   "metadata": {},
   "outputs": [],
   "source": [
    "df_tc = df_tc.drop(['Unnamed: 0'], axis=1)"
   ]
  },
  {
   "cell_type": "markdown",
   "metadata": {},
   "source": [
    "Продолжим подготовку датафрейма к машинному обучению. Создадим функцию lemmatize_clear, которая приведёт все символы к нижнему регистру, очистит текст от лишних символов с помощью регулярных выражений и лемматизирует текст: "
   ]
  },
  {
   "cell_type": "code",
   "execution_count": 10,
   "metadata": {},
   "outputs": [
    {
     "name": "stderr",
     "output_type": "stream",
     "text": [
      "[nltk_data] Downloading package averaged_perceptron_tagger to\n",
      "[nltk_data]     /home/jovyan/nltk_data...\n",
      "[nltk_data]   Package averaged_perceptron_tagger is already up-to-\n",
      "[nltk_data]       date!\n"
     ]
    }
   ],
   "source": [
    "nltk.download('averaged_perceptron_tagger')\n",
    "\n",
    "def get_wordnet_pos(word):\n",
    "    tag = nltk.pos_tag([word])[0][1][0].upper()\n",
    "    tag_dict = {\"J\": wordnet.ADJ,\n",
    "                \"N\": wordnet.NOUN,\n",
    "                \"V\": wordnet.VERB,\n",
    "                \"R\": wordnet.ADV}\n",
    "    return tag_dict.get(tag, wordnet.NOUN)\n",
    "\n",
    "lemmatizer = WordNetLemmatizer()\n",
    "\n",
    "def lemmatize_clear(text):\n",
    "    text = text.lower()\n",
    "    lemm_text = \" \".join(lemmatizer.lemmatize(w, get_wordnet_pos(w)) for w in nltk.word_tokenize(text))\n",
    "    cleared_text = re.sub(r'[^a-zA-Z]', ' ', lemm_text)\n",
    "\n",
    "    return \" \".join(cleared_text.split())"
   ]
  },
  {
   "cell_type": "markdown",
   "metadata": {},
   "source": [
    "Применим функцию к столбцу 'text' нашего датафрейма, создав в новый столбец 'lemm_text' :"
   ]
  },
  {
   "cell_type": "code",
   "execution_count": 11,
   "metadata": {},
   "outputs": [
    {
     "data": {
      "application/vnd.jupyter.widget-view+json": {
       "model_id": "241bb847b2cc4081bb827c2f00006a2d",
       "version_major": 2,
       "version_minor": 0
      },
      "text/plain": [
       "  0%|          | 0/159292 [00:00<?, ?it/s]"
      ]
     },
     "metadata": {},
     "output_type": "display_data"
    }
   ],
   "source": [
    "df_tc['lemm_text'] = df_tc['text'].progress_apply(lemmatize_clear)"
   ]
  },
  {
   "cell_type": "markdown",
   "metadata": {},
   "source": [
    "Удалим столбец 'text' из датафрейма:"
   ]
  },
  {
   "cell_type": "code",
   "execution_count": 12,
   "metadata": {},
   "outputs": [],
   "source": [
    "df_tc = df_tc.drop(['text'], axis=1)"
   ]
  },
  {
   "cell_type": "code",
   "execution_count": 13,
   "metadata": {},
   "outputs": [
    {
     "data": {
      "text/html": [
       "<div>\n",
       "<style scoped>\n",
       "    .dataframe tbody tr th:only-of-type {\n",
       "        vertical-align: middle;\n",
       "    }\n",
       "\n",
       "    .dataframe tbody tr th {\n",
       "        vertical-align: top;\n",
       "    }\n",
       "\n",
       "    .dataframe thead th {\n",
       "        text-align: right;\n",
       "    }\n",
       "</style>\n",
       "<table border=\"1\" class=\"dataframe\">\n",
       "  <thead>\n",
       "    <tr style=\"text-align: right;\">\n",
       "      <th></th>\n",
       "      <th>toxic</th>\n",
       "      <th>lemm_text</th>\n",
       "    </tr>\n",
       "  </thead>\n",
       "  <tbody>\n",
       "    <tr>\n",
       "      <th>0</th>\n",
       "      <td>0</td>\n",
       "      <td>explanation why the edits make under my userna...</td>\n",
       "    </tr>\n",
       "    <tr>\n",
       "      <th>1</th>\n",
       "      <td>0</td>\n",
       "      <td>d aww he match this background colour i m seem...</td>\n",
       "    </tr>\n",
       "    <tr>\n",
       "      <th>2</th>\n",
       "      <td>0</td>\n",
       "      <td>hey man i m really not try to edit war it s ju...</td>\n",
       "    </tr>\n",
       "    <tr>\n",
       "      <th>3</th>\n",
       "      <td>0</td>\n",
       "      <td>more i ca n t make any real suggestion on impr...</td>\n",
       "    </tr>\n",
       "    <tr>\n",
       "      <th>4</th>\n",
       "      <td>0</td>\n",
       "      <td>you sir be my hero any chance you remember wha...</td>\n",
       "    </tr>\n",
       "  </tbody>\n",
       "</table>\n",
       "</div>"
      ],
      "text/plain": [
       "   toxic                                          lemm_text\n",
       "0      0  explanation why the edits make under my userna...\n",
       "1      0  d aww he match this background colour i m seem...\n",
       "2      0  hey man i m really not try to edit war it s ju...\n",
       "3      0  more i ca n t make any real suggestion on impr...\n",
       "4      0  you sir be my hero any chance you remember wha..."
      ]
     },
     "execution_count": 13,
     "metadata": {},
     "output_type": "execute_result"
    }
   ],
   "source": [
    "df_tc.head()"
   ]
  },
  {
   "cell_type": "markdown",
   "metadata": {},
   "source": [
    "Далее разделим датафрейм на тренировочную и тестовую выборки и проверим соотношение классов целевого признака toxic:"
   ]
  },
  {
   "cell_type": "code",
   "execution_count": 14,
   "metadata": {},
   "outputs": [],
   "source": [
    "RANDOM_STATE = 42"
   ]
  },
  {
   "cell_type": "code",
   "execution_count": 15,
   "metadata": {},
   "outputs": [
    {
     "data": {
      "image/png": "[encoded data removed]",
      "text/plain": [
       "<Figure size 1080x288 with 3 Axes>"
      ]
     },
     "metadata": {
      "needs_background": "light"
     },
     "output_type": "display_data"
    }
   ],
   "source": [
    "# сохраним входные и целевые признаки\n",
    "X = df_tc['lemm_text']\n",
    "y = df_tc['toxic']\n",
    "\n",
    "# сформируем тренировочную и тестовую выборки\n",
    "# зафиксируем random_state\n",
    "X_train, X_test, y_train, y_test = train_test_split(\n",
    "    X, \n",
    "    y,\n",
    "    random_state=RANDOM_STATE,\n",
    "    test_size=0.1,\n",
    "    stratify=y\n",
    ")\n",
    "\n",
    "# визуализация баланса целевого признака в выборках\n",
    "fig, ax = plt.subplots(1,3, figsize=(15,4))\n",
    "y.value_counts().plot(kind='bar', ax=ax[0], rot=0)\n",
    "ax[0].set_title(\"Исходный датасет\")\n",
    "y_train.value_counts().plot(kind='bar', ax=ax[1], rot=0)\n",
    "ax[1].set_title(\"Train\")\n",
    "y_test.value_counts().plot(kind='bar', ax=ax[2], rot=0)\n",
    "ax[2].set_title(\"Test\")\n",
    "plt.show()"
   ]
  },
  {
   "cell_type": "markdown",
   "metadata": {},
   "source": [
    "Классы несбалансированы, попробуем оставить их в таком виде."
   ]
  },
  {
   "cell_type": "markdown",
   "metadata": {},
   "source": [
    "*Таким образом, была проведена подготовка данных:*\n",
    "- неинформативный столбец 'Unnamed: 0' был удалён;\n",
    "- данные в столбце text были приведены к нижнему регистру, лишние символы очищены регулярными выражениями, символы лемматизированы;\n",
    "- классы в целевом признаке toxic оставили несбалансированными."
   ]
  },
  {
   "cell_type": "markdown",
   "metadata": {},
   "source": [
    "## Обучение"
   ]
  },
  {
   "cell_type": "markdown",
   "metadata": {},
   "source": [
    "Данные подготовлены. Перейдём к обучению моделей. Будем использовать следующие модели:\n",
    "- LogisticRegression;\n",
    "- DecisionTreeClassifier;\n",
    "- CatBoostClassifier;\n",
    "- LightGBMClassifier.\n",
    "\n",
    "Качество моделей будем определять метрикой F1: её значение должно быть не менее 0.75.\n",
    "\n",
    "Сначала найдём стоп-слова в английском языке:"
   ]
  },
  {
   "cell_type": "code",
   "execution_count": 16,
   "metadata": {},
   "outputs": [
    {
     "name": "stderr",
     "output_type": "stream",
     "text": [
      "[nltk_data] Downloading package stopwords to /home/jovyan/nltk_data...\n",
      "[nltk_data]   Package stopwords is already up-to-date!\n"
     ]
    }
   ],
   "source": [
    "nltk.download('stopwords')\n",
    "\n",
    "stopwords = list(nltk_stopwords.words('english'))"
   ]
  },
  {
   "cell_type": "markdown",
   "metadata": {},
   "source": [
    "Сделаем пайплайны для создания TF-IDF с помощью TfidfVectorizer обучения моделей на тренировочной выборке. Рассчитаем  метрику F1 на кросс-валидации для поиска лучшей модели: "
   ]
  },
  {
   "cell_type": "code",
   "execution_count": 17,
   "metadata": {},
   "outputs": [
    {
     "name": "stdout",
     "output_type": "stream",
     "text": [
      "Лучшая модель и её параметры:\n",
      "\n",
      " Pipeline(steps=[('vect',\n",
      "                 TfidfVectorizer(stop_words=['i', 'me', 'my', 'myself', 'we',\n",
      "                                             'our', 'ours', 'ourselves', 'you',\n",
      "                                             \"you're\", \"you've\", \"you'll\",\n",
      "                                             \"you'd\", 'your', 'yours',\n",
      "                                             'yourself', 'yourselves', 'he',\n",
      "                                             'him', 'his', 'himself', 'she',\n",
      "                                             \"she's\", 'her', 'hers', 'herself',\n",
      "                                             'it', \"it's\", 'its', 'itself', ...])),\n",
      "                ('model',\n",
      "                 LogisticRegression(C=7, class_weight='balanced',\n",
      "                                    random_state=42))])\n",
      "\n",
      "Метрика F1 лучшей модели на кросс-валидации: 0.7550040403834694\n"
     ]
    }
   ],
   "source": [
    "pipe_logreg= Pipeline([\n",
    "    ('vect', TfidfVectorizer(stop_words=stopwords)),\n",
    "    ('model', LogisticRegression(random_state=RANDOM_STATE, class_weight='balanced'))\n",
    "])\n",
    "\n",
    "parameters_logreg = {\n",
    "    'model__C': range(1, 10)\n",
    "}\n",
    "            \n",
    "# Инициализируем класс для автоматизированного поиска:\n",
    "# значение кросс-валидации 3, метрика f1 и n_jobs=-1.\n",
    "gs_lr = GridSearchCV(\n",
    "    pipe_logreg,\n",
    "    parameters_logreg,\n",
    "    n_jobs=-1,\n",
    "    cv=3,\n",
    "    scoring='f1',\n",
    "    error_score='raise'\n",
    ")\n",
    "\n",
    "gs_lr.fit(X_train, y_train)\n",
    "\n",
    "print('Лучшая модель и её параметры:\\n\\n', gs_lr.best_estimator_)\n",
    "print()\n",
    "print('Метрика F1 лучшей модели на кросс-валидации:', gs_lr.best_score_)"
   ]
  },
  {
   "cell_type": "code",
   "execution_count": 18,
   "metadata": {
    "scrolled": true
   },
   "outputs": [
    {
     "name": "stdout",
     "output_type": "stream",
     "text": [
      "Лучшая модель и её параметры:\n",
      "\n",
      " Pipeline(steps=[('vect',\n",
      "                 TfidfVectorizer(stop_words=['i', 'me', 'my', 'myself', 'we',\n",
      "                                             'our', 'ours', 'ourselves', 'you',\n",
      "                                             \"you're\", \"you've\", \"you'll\",\n",
      "                                             \"you'd\", 'your', 'yours',\n",
      "                                             'yourself', 'yourselves', 'he',\n",
      "                                             'him', 'his', 'himself', 'she',\n",
      "                                             \"she's\", 'her', 'hers', 'herself',\n",
      "                                             'it', \"it's\", 'its', 'itself', ...])),\n",
      "                ('model',\n",
      "                 DecisionTreeClassifier(class_weight='balanced', max_depth=4,\n",
      "                                        max_features=4, random_state=42))])\n",
      "\n",
      "Метрика F1 лучшей модели на кросс-валидации: 0.12408641311508513\n"
     ]
    }
   ],
   "source": [
    "pipe_tree= Pipeline([\n",
    "    ('vect', TfidfVectorizer(stop_words=stopwords)),\n",
    "    ('model', DecisionTreeClassifier(random_state=RANDOM_STATE, class_weight='balanced'))\n",
    "])\n",
    "\n",
    "parameters_tree = {\n",
    "    'model__max_depth': range(2, 5),\n",
    "    'model__max_features': range(2, 5)\n",
    "}\n",
    "            \n",
    "# Инициализируем класс для автоматизированного поиска:\n",
    "# значение кросс-валидации 3, метрика f1 и n_jobs=-1.\n",
    "gs_tree = GridSearchCV(\n",
    "    pipe_tree,\n",
    "    parameters_tree,\n",
    "    n_jobs=-1,\n",
    "    cv=3,\n",
    "    scoring='f1'\n",
    ")\n",
    "\n",
    "gs_tree.fit(X_train, y_train)\n",
    "\n",
    "\n",
    "print('Лучшая модель и её параметры:\\n\\n', gs_tree.best_estimator_)\n",
    "print()\n",
    "print('Метрика F1 лучшей модели на кросс-валидации:', gs_tree.best_score_)"
   ]
  },
  {
   "cell_type": "code",
   "execution_count": 19,
   "metadata": {},
   "outputs": [
    {
     "name": "stdout",
     "output_type": "stream",
     "text": [
      "Лучшая модель и её параметры:\n",
      "\n",
      " Pipeline(steps=[('vect',\n",
      "                 TfidfVectorizer(stop_words=['i', 'me', 'my', 'myself', 'we',\n",
      "                                             'our', 'ours', 'ourselves', 'you',\n",
      "                                             \"you're\", \"you've\", \"you'll\",\n",
      "                                             \"you'd\", 'your', 'yours',\n",
      "                                             'yourself', 'yourselves', 'he',\n",
      "                                             'him', 'his', 'himself', 'she',\n",
      "                                             \"she's\", 'her', 'hers', 'herself',\n",
      "                                             'it', \"it's\", 'its', 'itself', ...])),\n",
      "                ('model',\n",
      "                 <catboost.core.CatBoostClassifier object at 0x7f5c257600a0>)])\n",
      "\n",
      "Метрика F1 лучшей модели на кросс-валидации: 0.6993719232089974\n"
     ]
    }
   ],
   "source": [
    "pipe_cbc= Pipeline([\n",
    "    ('vect', TfidfVectorizer(stop_words=stopwords)),\n",
    "    ('model', CatBoostClassifier(random_state=RANDOM_STATE, loss_function=\"Logloss\", verbose=False))\n",
    "])\n",
    "\n",
    "parameters_cbc = {\n",
    "    'model__iterations': [10, 50, 100],\n",
    "    'model__depth': range(1, 3)\n",
    "}\n",
    "\n",
    "# Инициализируем класс для автоматизированного поиска:\n",
    "# значение кросс-валидации 3, метрика f1 и n_jobs=-1.\n",
    "gs_cbc = GridSearchCV(\n",
    "    pipe_cbc,\n",
    "    parameters_cbc,\n",
    "    cv=3,\n",
    "    scoring='f1'\n",
    ")\n",
    "\n",
    "gs_cbc.fit(X_train, y_train)\n",
    "\n",
    "print('Лучшая модель и её параметры:\\n\\n', gs_cbc.best_estimator_)\n",
    "print()\n",
    "print('Метрика F1 лучшей модели на кросс-валидации:', gs_cbc.best_score_)"
   ]
  },
  {
   "cell_type": "code",
   "execution_count": 20,
   "metadata": {},
   "outputs": [
    {
     "name": "stdout",
     "output_type": "stream",
     "text": [
      "Лучшая модель и её параметры:\n",
      "\n",
      " Pipeline(steps=[('vect',\n",
      "                 TfidfVectorizer(stop_words=['i', 'me', 'my', 'myself', 'we',\n",
      "                                             'our', 'ours', 'ourselves', 'you',\n",
      "                                             \"you're\", \"you've\", \"you'll\",\n",
      "                                             \"you'd\", 'your', 'yours',\n",
      "                                             'yourself', 'yourselves', 'he',\n",
      "                                             'him', 'his', 'himself', 'she',\n",
      "                                             \"she's\", 'her', 'hers', 'herself',\n",
      "                                             'it', \"it's\", 'its', 'itself', ...])),\n",
      "                ('model',\n",
      "                 LGBMClassifier(learning_rate=0.5, num_leaves=50,\n",
      "                                random_state=42))])\n",
      "\n",
      "Метрика F1 лучшей модели на кросс-валидации: 0.763240318527675\n"
     ]
    }
   ],
   "source": [
    "pipe_lgbm= Pipeline([\n",
    "    ('vect', TfidfVectorizer(stop_words=stopwords)),\n",
    "    ('model', LGBMClassifier(random_state=RANDOM_STATE))\n",
    "])\n",
    "\n",
    "parameters_lgbm = {\n",
    "    'model__learning_rate': [.1, .5],\n",
    "    'model__num_leaves': [25, 50]\n",
    "}\n",
    "\n",
    "# Инициализируем класс для автоматизированного поиска:\n",
    "# значение кросс-валидации 3, метрика f1 и n_jobs=-1.\n",
    "gs_lgbm = GridSearchCV(\n",
    "    pipe_lgbm,\n",
    "    parameters_lgbm,\n",
    "    cv=3,\n",
    "    scoring='f1'\n",
    ")\n",
    "\n",
    "gs_lgbm.fit(X_train, y_train)\n",
    "\n",
    "print('Лучшая модель и её параметры:\\n\\n', gs_lgbm.best_estimator_)\n",
    "print()\n",
    "print('Метрика F1 лучшей модели на кросс-валидации:', gs_lgbm.best_score_)"
   ]
  },
  {
   "cell_type": "code",
   "execution_count": 21,
   "metadata": {
    "scrolled": true
   },
   "outputs": [
    {
     "data": {
      "text/html": [
       "<div>\n",
       "<style scoped>\n",
       "    .dataframe tbody tr th:only-of-type {\n",
       "        vertical-align: middle;\n",
       "    }\n",
       "\n",
       "    .dataframe tbody tr th {\n",
       "        vertical-align: top;\n",
       "    }\n",
       "\n",
       "    .dataframe thead th {\n",
       "        text-align: right;\n",
       "    }\n",
       "</style>\n",
       "<table border=\"1\" class=\"dataframe\">\n",
       "  <thead>\n",
       "    <tr style=\"text-align: right;\">\n",
       "      <th></th>\n",
       "      <th>f1_score</th>\n",
       "    </tr>\n",
       "  </thead>\n",
       "  <tbody>\n",
       "    <tr>\n",
       "      <th>LogisticRegresson</th>\n",
       "      <td>0.755</td>\n",
       "    </tr>\n",
       "    <tr>\n",
       "      <th>DecisionTreeClassifier</th>\n",
       "      <td>0.124</td>\n",
       "    </tr>\n",
       "    <tr>\n",
       "      <th>CatBoostClassifier</th>\n",
       "      <td>0.699</td>\n",
       "    </tr>\n",
       "    <tr>\n",
       "      <th>LightGBMClassifier</th>\n",
       "      <td>0.763</td>\n",
       "    </tr>\n",
       "  </tbody>\n",
       "</table>\n",
       "</div>"
      ],
      "text/plain": [
       "                        f1_score\n",
       "LogisticRegresson          0.755\n",
       "DecisionTreeClassifier     0.124\n",
       "CatBoostClassifier         0.699\n",
       "LightGBMClassifier         0.763"
      ]
     },
     "metadata": {},
     "output_type": "display_data"
    }
   ],
   "source": [
    "# объединяем результаты в одну таблицу\n",
    "results = pd.DataFrame([\n",
    "    [round(gs_lr.best_score_, 3)],\n",
    "    [round(gs_tree.best_score_, 3)],\n",
    "    [round(gs_cbc.best_score_, 3)],\n",
    "    [round(gs_lgbm.best_score_, 3)]\n",
    "])\n",
    "\n",
    "results.index = [\n",
    "    'LogisticRegresson',\n",
    "    'DecisionTreeClassifier',\n",
    "    'CatBoostClassifier',\n",
    "    'LightGBMClassifier'\n",
    "]\n",
    "\n",
    "results.columns = ['f1_score']\n",
    "\n",
    "display(results)"
   ]
  },
  {
   "cell_type": "markdown",
   "metadata": {},
   "source": [
    "Как можно видеть, требуемому условию качества (значение метрики F1 не менее 0.75) не удовлетворяют модели DecisionTreeClassifier (совсем низкий показатель - 0.124) и CatBoostClassifier (немного меньше 0.75 - 0.699). Модель логистической регрессии и модель LightGBMClassifier (с градиентным бустингом) показали высокие результаты: 0.755 и 0.763, соответственно. \n",
    "\n",
    "*Таким образом, модель LightGBMClassifier (learning_rate=0.5, num_leaves=50, random_state=42) наилучшим образом классифицирует комментарии на положительные и отрицательные на кросс-валидации.*"
   ]
  },
  {
   "cell_type": "markdown",
   "metadata": {},
   "source": [
    "## Выводы"
   ]
  },
  {
   "cell_type": "markdown",
   "metadata": {},
   "source": [
    "Проведём теперь тестирование лучшей модели:"
   ]
  },
  {
   "cell_type": "code",
   "execution_count": 22,
   "metadata": {},
   "outputs": [
    {
     "name": "stdout",
     "output_type": "stream",
     "text": [
      "f1_score_light_gbm_classifier_test 0.775\n"
     ]
    }
   ],
   "source": [
    "y_pred_lgbm = gs_lgbm.best_estimator_.predict(X_test)\n",
    "f1_lgbm_test = f1_score(y_pred_lgbm, y_test)\n",
    "\n",
    "print('f1_score_light_gbm_classifier_test', round(f1_lgbm_test, 3))"
   ]
  },
  {
   "cell_type": "markdown",
   "metadata": {},
   "source": [
    "Для наилучшей на кросс-валидации модели LightGBMClassifier метрика F1 на тестовой выборке оказалась равной 0.775.\n",
    "\n",
    "***Выводы:***\n",
    "\n",
    "1. Подготовка данных:\n",
    "\n",
    "В этой задаче было представлена таблица с данными с разметкой о токсичности правок. Таблица содержит 159292 строк и 3 столбца.\n",
    "\n",
    "- представленные исходные данные соответствуют описанию;\n",
    "- в данных отсутствуют пропуски и явные дубликаты;\n",
    "- типы данных соответствует содержимому.\n",
    "\n",
    "В результате подготовки данных:\n",
    "- удалён неинформативный столбец 'Unnamed: 0';\n",
    "- текстовые данные приведены к нижнему регистру, очищены регулярными выражениями и лемматизированы;\n",
    "- несбалансированность классов целевого признака toxic оставили.\n",
    "\n",
    "\n",
    "2. Обучение моделей:\n",
    "\n",
    "Поскольку предсказание позитивных и негативных комментариев представляет собой задачу классификации, применялись следующие четыре модели: логистическая регрессия (LogisticRegression), дерево решений (DecisionTreeClassifier) и 2 модели градиентного бустинга (CatBoostClassifier и LightGBMClassifier).\n",
    "\n",
    "Для обучения всех моделей использовались пайплайны с векторайзером TfidfVectorizer, а подбор гиперпараметром осуществлялся с помощью GridSearchCV.\n",
    "\n",
    "Для выбранных моделей рассчитывалась метрика F1, значение которой должно было быть не менее 0.75.\n",
    "\n",
    "На крос-валидации было показано, что модель LightGBMClassifier даёт наилучшие результаты для несбалансированного текста: 0.763. \n",
    "\n",
    "3. Выводы:\n",
    "\n",
    "Таким образом, было найдено, что наилучшая модель LightGBMClassifier (с параметрами: learning_rate=0.5, num_leaves=50, random_state=42) на тестовой выборке даёт метрику F1 на уровне 0.775 и наилучшим образом классифицирует комментарии на положительные и отрицательные."
   ]
  }
 ],
 "metadata": {
  "ExecuteTimeLog": [
   {
    "duration": 82,
    "start_time": "2024-02-17T14:36:51.943Z"
   },
   {
    "duration": 6201,
    "start_time": "2024-02-17T14:37:02.340Z"
   },
   {
    "duration": 1608,
    "start_time": "2024-02-17T14:41:38.768Z"
   },
   {
    "duration": 2374,
    "start_time": "2024-02-17T14:43:11.873Z"
   },
   {
    "duration": 14,
    "start_time": "2024-02-17T14:44:05.601Z"
   },
   {
    "duration": 920,
    "start_time": "2024-02-17T14:45:02.111Z"
   },
   {
    "duration": 133,
    "start_time": "2024-02-17T14:45:38.526Z"
   },
   {
    "duration": 3,
    "start_time": "2024-02-17T14:45:40.435Z"
   },
   {
    "duration": 45,
    "start_time": "2024-02-17T14:45:41.096Z"
   },
   {
    "duration": 3,
    "start_time": "2024-02-17T14:46:22.840Z"
   },
   {
    "duration": 274,
    "start_time": "2024-02-17T14:47:37.822Z"
   },
   {
    "duration": 13,
    "start_time": "2024-02-17T14:48:44.850Z"
   },
   {
    "duration": 35,
    "start_time": "2024-02-17T14:48:54.138Z"
   },
   {
    "duration": 235,
    "start_time": "2024-02-17T14:49:03.311Z"
   },
   {
    "duration": 15,
    "start_time": "2024-02-17T14:49:52.767Z"
   },
   {
    "duration": 93,
    "start_time": "2024-02-17T14:51:53.592Z"
   },
   {
    "duration": 99,
    "start_time": "2024-02-17T14:53:55.942Z"
   },
   {
    "duration": 7,
    "start_time": "2024-02-17T14:54:21.051Z"
   },
   {
    "duration": 19,
    "start_time": "2024-02-17T15:09:49.650Z"
   },
   {
    "duration": 19,
    "start_time": "2024-02-17T15:09:55.992Z"
   },
   {
    "duration": 3,
    "start_time": "2024-02-17T15:10:00.392Z"
   },
   {
    "duration": 71,
    "start_time": "2024-02-17T15:10:01.416Z"
   },
   {
    "duration": 320,
    "start_time": "2024-02-17T15:10:46.945Z"
   },
   {
    "duration": 324,
    "start_time": "2024-02-17T15:10:58.224Z"
   },
   {
    "duration": 2840,
    "start_time": "2024-02-17T15:19:46.202Z"
   },
   {
    "duration": 1372,
    "start_time": "2024-02-17T15:19:49.044Z"
   },
   {
    "duration": 0,
    "start_time": "2024-02-17T15:19:50.418Z"
   },
   {
    "duration": 0,
    "start_time": "2024-02-17T15:19:50.419Z"
   },
   {
    "duration": 0,
    "start_time": "2024-02-17T15:19:50.420Z"
   },
   {
    "duration": 0,
    "start_time": "2024-02-17T15:19:50.421Z"
   },
   {
    "duration": 0,
    "start_time": "2024-02-17T15:19:50.422Z"
   },
   {
    "duration": 0,
    "start_time": "2024-02-17T15:19:50.423Z"
   },
   {
    "duration": 0,
    "start_time": "2024-02-17T15:19:50.424Z"
   },
   {
    "duration": 0,
    "start_time": "2024-02-17T15:19:50.425Z"
   },
   {
    "duration": 0,
    "start_time": "2024-02-17T15:19:50.426Z"
   },
   {
    "duration": 0,
    "start_time": "2024-02-17T15:19:50.427Z"
   },
   {
    "duration": 0,
    "start_time": "2024-02-17T15:19:50.428Z"
   },
   {
    "duration": 0,
    "start_time": "2024-02-17T15:19:50.429Z"
   },
   {
    "duration": 0,
    "start_time": "2024-02-17T15:19:50.430Z"
   },
   {
    "duration": 6751,
    "start_time": "2024-02-17T15:20:55.730Z"
   },
   {
    "duration": 1432,
    "start_time": "2024-02-17T15:21:02.484Z"
   },
   {
    "duration": 0,
    "start_time": "2024-02-17T15:21:03.918Z"
   },
   {
    "duration": 0,
    "start_time": "2024-02-17T15:21:03.920Z"
   },
   {
    "duration": 0,
    "start_time": "2024-02-17T15:21:03.922Z"
   },
   {
    "duration": 0,
    "start_time": "2024-02-17T15:21:03.923Z"
   },
   {
    "duration": 0,
    "start_time": "2024-02-17T15:21:03.924Z"
   },
   {
    "duration": 0,
    "start_time": "2024-02-17T15:21:03.926Z"
   },
   {
    "duration": 0,
    "start_time": "2024-02-17T15:21:03.927Z"
   },
   {
    "duration": 0,
    "start_time": "2024-02-17T15:21:03.928Z"
   },
   {
    "duration": 0,
    "start_time": "2024-02-17T15:21:03.930Z"
   },
   {
    "duration": 0,
    "start_time": "2024-02-17T15:21:03.931Z"
   },
   {
    "duration": 0,
    "start_time": "2024-02-17T15:21:03.932Z"
   },
   {
    "duration": 0,
    "start_time": "2024-02-17T15:21:03.934Z"
   },
   {
    "duration": 0,
    "start_time": "2024-02-17T15:21:03.936Z"
   },
   {
    "duration": 3085,
    "start_time": "2024-02-17T15:21:11.355Z"
   },
   {
    "duration": 5226,
    "start_time": "2024-02-17T15:21:17.395Z"
   },
   {
    "duration": 1427,
    "start_time": "2024-02-17T15:21:22.623Z"
   },
   {
    "duration": 0,
    "start_time": "2024-02-17T15:21:24.052Z"
   },
   {
    "duration": 0,
    "start_time": "2024-02-17T15:21:24.053Z"
   },
   {
    "duration": 0,
    "start_time": "2024-02-17T15:21:24.055Z"
   },
   {
    "duration": 0,
    "start_time": "2024-02-17T15:21:24.056Z"
   },
   {
    "duration": 0,
    "start_time": "2024-02-17T15:21:24.057Z"
   },
   {
    "duration": 0,
    "start_time": "2024-02-17T15:21:24.058Z"
   },
   {
    "duration": 0,
    "start_time": "2024-02-17T15:21:24.059Z"
   },
   {
    "duration": 0,
    "start_time": "2024-02-17T15:21:24.060Z"
   },
   {
    "duration": 0,
    "start_time": "2024-02-17T15:21:24.061Z"
   },
   {
    "duration": 0,
    "start_time": "2024-02-17T15:21:24.062Z"
   },
   {
    "duration": 0,
    "start_time": "2024-02-17T15:21:24.064Z"
   },
   {
    "duration": 0,
    "start_time": "2024-02-17T15:21:24.064Z"
   },
   {
    "duration": 0,
    "start_time": "2024-02-17T15:21:24.065Z"
   },
   {
    "duration": 5830,
    "start_time": "2024-02-17T15:22:09.979Z"
   },
   {
    "duration": 1499,
    "start_time": "2024-02-17T15:22:15.812Z"
   },
   {
    "duration": 0,
    "start_time": "2024-02-17T15:22:17.312Z"
   },
   {
    "duration": 0,
    "start_time": "2024-02-17T15:22:17.315Z"
   },
   {
    "duration": 1,
    "start_time": "2024-02-17T15:22:17.315Z"
   },
   {
    "duration": 0,
    "start_time": "2024-02-17T15:22:17.316Z"
   },
   {
    "duration": 0,
    "start_time": "2024-02-17T15:22:17.317Z"
   },
   {
    "duration": 0,
    "start_time": "2024-02-17T15:22:17.320Z"
   },
   {
    "duration": 0,
    "start_time": "2024-02-17T15:22:17.322Z"
   },
   {
    "duration": 0,
    "start_time": "2024-02-17T15:22:17.323Z"
   },
   {
    "duration": 0,
    "start_time": "2024-02-17T15:22:17.324Z"
   },
   {
    "duration": 0,
    "start_time": "2024-02-17T15:22:17.325Z"
   },
   {
    "duration": 0,
    "start_time": "2024-02-17T15:22:17.326Z"
   },
   {
    "duration": 0,
    "start_time": "2024-02-17T15:22:17.327Z"
   },
   {
    "duration": 0,
    "start_time": "2024-02-17T15:22:17.328Z"
   },
   {
    "duration": 1640,
    "start_time": "2024-02-17T15:22:59.996Z"
   },
   {
    "duration": 5333,
    "start_time": "2024-02-17T15:23:07.505Z"
   },
   {
    "duration": 2850,
    "start_time": "2024-02-17T15:23:12.840Z"
   },
   {
    "duration": 838,
    "start_time": "2024-02-17T15:23:15.691Z"
   },
   {
    "duration": 14,
    "start_time": "2024-02-17T15:23:16.531Z"
   },
   {
    "duration": 5,
    "start_time": "2024-02-17T15:23:16.547Z"
   },
   {
    "duration": 7,
    "start_time": "2024-02-17T15:23:16.554Z"
   },
   {
    "duration": 35,
    "start_time": "2024-02-17T15:23:16.563Z"
   },
   {
    "duration": 259,
    "start_time": "2024-02-17T15:23:16.600Z"
   },
   {
    "duration": 11,
    "start_time": "2024-02-17T15:23:16.860Z"
   },
   {
    "duration": 45,
    "start_time": "2024-02-17T15:23:16.873Z"
   },
   {
    "duration": 213,
    "start_time": "2024-02-17T15:23:16.919Z"
   },
   {
    "duration": 7,
    "start_time": "2024-02-17T15:23:17.133Z"
   },
   {
    "duration": 7,
    "start_time": "2024-02-17T15:23:17.142Z"
   },
   {
    "duration": 364,
    "start_time": "2024-02-17T15:23:17.151Z"
   },
   {
    "duration": 41,
    "start_time": "2024-02-17T15:23:17.517Z"
   },
   {
    "duration": 40,
    "start_time": "2024-02-17T15:24:06.017Z"
   },
   {
    "duration": 275,
    "start_time": "2024-02-17T15:24:06.441Z"
   },
   {
    "duration": 28,
    "start_time": "2024-02-17T15:24:32.677Z"
   },
   {
    "duration": 261,
    "start_time": "2024-02-17T15:24:33.154Z"
   },
   {
    "duration": 5709,
    "start_time": "2024-02-17T15:30:25.555Z"
   },
   {
    "duration": 1503,
    "start_time": "2024-02-17T15:30:31.266Z"
   },
   {
    "duration": 0,
    "start_time": "2024-02-17T15:30:32.771Z"
   },
   {
    "duration": 0,
    "start_time": "2024-02-17T15:30:32.772Z"
   },
   {
    "duration": 0,
    "start_time": "2024-02-17T15:30:32.773Z"
   },
   {
    "duration": 0,
    "start_time": "2024-02-17T15:30:32.775Z"
   },
   {
    "duration": 0,
    "start_time": "2024-02-17T15:30:32.775Z"
   },
   {
    "duration": 1,
    "start_time": "2024-02-17T15:30:32.776Z"
   },
   {
    "duration": 0,
    "start_time": "2024-02-17T15:30:32.777Z"
   },
   {
    "duration": 0,
    "start_time": "2024-02-17T15:30:32.778Z"
   },
   {
    "duration": 0,
    "start_time": "2024-02-17T15:30:32.779Z"
   },
   {
    "duration": 0,
    "start_time": "2024-02-17T15:30:32.781Z"
   },
   {
    "duration": 0,
    "start_time": "2024-02-17T15:30:32.782Z"
   },
   {
    "duration": 0,
    "start_time": "2024-02-17T15:30:32.783Z"
   },
   {
    "duration": 0,
    "start_time": "2024-02-17T15:30:32.784Z"
   },
   {
    "duration": 0,
    "start_time": "2024-02-17T15:30:32.785Z"
   },
   {
    "duration": 5665,
    "start_time": "2024-02-17T15:31:23.788Z"
   },
   {
    "duration": 1397,
    "start_time": "2024-02-17T15:31:29.455Z"
   },
   {
    "duration": 0,
    "start_time": "2024-02-17T15:31:30.855Z"
   },
   {
    "duration": 0,
    "start_time": "2024-02-17T15:31:30.856Z"
   },
   {
    "duration": 0,
    "start_time": "2024-02-17T15:31:30.858Z"
   },
   {
    "duration": 0,
    "start_time": "2024-02-17T15:31:30.859Z"
   },
   {
    "duration": 0,
    "start_time": "2024-02-17T15:31:30.860Z"
   },
   {
    "duration": 0,
    "start_time": "2024-02-17T15:31:30.861Z"
   },
   {
    "duration": 0,
    "start_time": "2024-02-17T15:31:30.862Z"
   },
   {
    "duration": 0,
    "start_time": "2024-02-17T15:31:30.863Z"
   },
   {
    "duration": 0,
    "start_time": "2024-02-17T15:31:30.864Z"
   },
   {
    "duration": 0,
    "start_time": "2024-02-17T15:31:30.865Z"
   },
   {
    "duration": 0,
    "start_time": "2024-02-17T15:31:30.866Z"
   },
   {
    "duration": 0,
    "start_time": "2024-02-17T15:31:30.867Z"
   },
   {
    "duration": 0,
    "start_time": "2024-02-17T15:31:30.868Z"
   },
   {
    "duration": 0,
    "start_time": "2024-02-17T15:31:30.869Z"
   },
   {
    "duration": 5492,
    "start_time": "2024-02-17T15:32:32.469Z"
   },
   {
    "duration": 2812,
    "start_time": "2024-02-17T15:32:37.963Z"
   },
   {
    "duration": 822,
    "start_time": "2024-02-17T15:32:40.777Z"
   },
   {
    "duration": 14,
    "start_time": "2024-02-17T15:32:41.601Z"
   },
   {
    "duration": 19,
    "start_time": "2024-02-17T15:32:41.616Z"
   },
   {
    "duration": 43,
    "start_time": "2024-02-17T15:32:41.637Z"
   },
   {
    "duration": 41,
    "start_time": "2024-02-17T15:32:41.682Z"
   },
   {
    "duration": 244,
    "start_time": "2024-02-17T15:32:41.725Z"
   },
   {
    "duration": 12,
    "start_time": "2024-02-17T15:32:41.970Z"
   },
   {
    "duration": 56,
    "start_time": "2024-02-17T15:32:41.984Z"
   },
   {
    "duration": 201,
    "start_time": "2024-02-17T15:32:42.042Z"
   },
   {
    "duration": 7,
    "start_time": "2024-02-17T15:32:42.245Z"
   },
   {
    "duration": 22,
    "start_time": "2024-02-17T15:32:42.253Z"
   },
   {
    "duration": 352,
    "start_time": "2024-02-17T15:32:42.277Z"
   },
   {
    "duration": 185,
    "start_time": "2024-02-17T15:32:42.631Z"
   },
   {
    "duration": 0,
    "start_time": "2024-02-17T15:32:42.817Z"
   },
   {
    "duration": 5328,
    "start_time": "2024-02-17T15:34:32.694Z"
   },
   {
    "duration": 2806,
    "start_time": "2024-02-17T15:34:38.024Z"
   },
   {
    "duration": 858,
    "start_time": "2024-02-17T15:34:40.833Z"
   },
   {
    "duration": 14,
    "start_time": "2024-02-17T15:34:41.693Z"
   },
   {
    "duration": 35,
    "start_time": "2024-02-17T15:34:41.708Z"
   },
   {
    "duration": 36,
    "start_time": "2024-02-17T15:34:41.745Z"
   },
   {
    "duration": 76,
    "start_time": "2024-02-17T15:34:41.782Z"
   },
   {
    "duration": 272,
    "start_time": "2024-02-17T15:34:41.860Z"
   },
   {
    "duration": 11,
    "start_time": "2024-02-17T15:34:42.134Z"
   },
   {
    "duration": 71,
    "start_time": "2024-02-17T15:34:42.147Z"
   },
   {
    "duration": 226,
    "start_time": "2024-02-17T15:34:42.220Z"
   },
   {
    "duration": 23,
    "start_time": "2024-02-17T15:34:42.448Z"
   },
   {
    "duration": 21,
    "start_time": "2024-02-17T15:34:42.472Z"
   },
   {
    "duration": 365,
    "start_time": "2024-02-17T15:34:42.495Z"
   },
   {
    "duration": 219,
    "start_time": "2024-02-17T15:34:42.862Z"
   },
   {
    "duration": 0,
    "start_time": "2024-02-17T15:34:43.082Z"
   },
   {
    "duration": 46,
    "start_time": "2024-02-17T15:35:08.395Z"
   },
   {
    "duration": 251,
    "start_time": "2024-02-17T15:35:10.543Z"
   },
   {
    "duration": 2199,
    "start_time": "2024-02-17T16:30:16.145Z"
   },
   {
    "duration": 2,
    "start_time": "2024-02-17T16:30:22.661Z"
   },
   {
    "duration": 3,
    "start_time": "2024-02-17T16:30:23.632Z"
   },
   {
    "duration": 307,
    "start_time": "2024-02-17T16:40:42.361Z"
   },
   {
    "duration": 5440,
    "start_time": "2024-02-17T16:41:02.686Z"
   },
   {
    "duration": 2830,
    "start_time": "2024-02-17T16:41:08.129Z"
   },
   {
    "duration": 825,
    "start_time": "2024-02-17T16:41:10.961Z"
   },
   {
    "duration": 14,
    "start_time": "2024-02-17T16:41:11.788Z"
   },
   {
    "duration": 11,
    "start_time": "2024-02-17T16:41:11.804Z"
   },
   {
    "duration": 4,
    "start_time": "2024-02-17T16:41:11.816Z"
   },
   {
    "duration": 35,
    "start_time": "2024-02-17T16:41:11.822Z"
   },
   {
    "duration": 258,
    "start_time": "2024-02-17T16:41:11.858Z"
   },
   {
    "duration": 10,
    "start_time": "2024-02-17T16:41:12.118Z"
   },
   {
    "duration": 32,
    "start_time": "2024-02-17T16:41:12.131Z"
   },
   {
    "duration": 236,
    "start_time": "2024-02-17T16:41:12.164Z"
   },
   {
    "duration": 18,
    "start_time": "2024-02-17T16:41:12.402Z"
   },
   {
    "duration": 2065,
    "start_time": "2024-02-17T16:41:12.421Z"
   },
   {
    "duration": 16,
    "start_time": "2024-02-17T16:41:14.487Z"
   },
   {
    "duration": 16,
    "start_time": "2024-02-17T16:41:14.504Z"
   },
   {
    "duration": 6159,
    "start_time": "2024-02-17T16:47:54.095Z"
   },
   {
    "duration": 3247,
    "start_time": "2024-02-17T16:48:00.256Z"
   },
   {
    "duration": 842,
    "start_time": "2024-02-17T16:48:03.506Z"
   },
   {
    "duration": 15,
    "start_time": "2024-02-17T16:48:04.350Z"
   },
   {
    "duration": 20,
    "start_time": "2024-02-17T16:48:04.367Z"
   },
   {
    "duration": 15,
    "start_time": "2024-02-17T16:48:04.388Z"
   },
   {
    "duration": 48,
    "start_time": "2024-02-17T16:48:04.405Z"
   },
   {
    "duration": 257,
    "start_time": "2024-02-17T16:48:04.454Z"
   },
   {
    "duration": 11,
    "start_time": "2024-02-17T16:48:04.714Z"
   },
   {
    "duration": 36,
    "start_time": "2024-02-17T16:48:04.727Z"
   },
   {
    "duration": 229,
    "start_time": "2024-02-17T16:48:04.764Z"
   },
   {
    "duration": 7,
    "start_time": "2024-02-17T16:48:04.994Z"
   },
   {
    "duration": 2099,
    "start_time": "2024-02-17T16:48:05.002Z"
   },
   {
    "duration": 12,
    "start_time": "2024-02-17T16:48:07.103Z"
   },
   {
    "duration": 6,
    "start_time": "2024-02-17T16:48:07.116Z"
   },
   {
    "duration": 0,
    "start_time": "2024-02-17T18:28:12.181Z"
   },
   {
    "duration": 0,
    "start_time": "2024-02-17T18:28:12.182Z"
   },
   {
    "duration": 0,
    "start_time": "2024-02-17T18:28:12.183Z"
   },
   {
    "duration": 0,
    "start_time": "2024-02-17T18:28:12.184Z"
   },
   {
    "duration": 0,
    "start_time": "2024-02-17T18:28:12.185Z"
   },
   {
    "duration": 0,
    "start_time": "2024-02-17T18:28:12.186Z"
   },
   {
    "duration": 10093,
    "start_time": "2024-02-18T04:59:51.495Z"
   },
   {
    "duration": 3355,
    "start_time": "2024-02-18T05:00:01.591Z"
   },
   {
    "duration": 2298,
    "start_time": "2024-02-18T05:00:04.947Z"
   },
   {
    "duration": 14,
    "start_time": "2024-02-18T05:00:07.247Z"
   },
   {
    "duration": 3,
    "start_time": "2024-02-18T05:00:07.264Z"
   },
   {
    "duration": 12,
    "start_time": "2024-02-18T05:00:07.268Z"
   },
   {
    "duration": 53,
    "start_time": "2024-02-18T05:00:07.281Z"
   },
   {
    "duration": 259,
    "start_time": "2024-02-18T05:00:07.335Z"
   },
   {
    "duration": 12,
    "start_time": "2024-02-18T05:00:07.595Z"
   },
   {
    "duration": 35,
    "start_time": "2024-02-18T05:00:07.609Z"
   },
   {
    "duration": 255,
    "start_time": "2024-02-18T05:00:07.646Z"
   },
   {
    "duration": 7,
    "start_time": "2024-02-18T05:00:07.903Z"
   },
   {
    "duration": 3,
    "start_time": "2024-02-18T05:00:07.912Z"
   },
   {
    "duration": 4,
    "start_time": "2024-02-18T05:00:07.917Z"
   },
   {
    "duration": 3464817,
    "start_time": "2024-02-18T05:00:07.922Z"
   },
   {
    "duration": 0,
    "start_time": "2024-02-18T05:57:52.741Z"
   },
   {
    "duration": 0,
    "start_time": "2024-02-18T05:57:52.743Z"
   },
   {
    "duration": 0,
    "start_time": "2024-02-18T05:57:52.745Z"
   },
   {
    "duration": 0,
    "start_time": "2024-02-18T05:57:52.746Z"
   },
   {
    "duration": 0,
    "start_time": "2024-02-18T05:57:52.748Z"
   },
   {
    "duration": 0,
    "start_time": "2024-02-18T05:57:52.749Z"
   },
   {
    "duration": 0,
    "start_time": "2024-02-18T05:57:52.752Z"
   },
   {
    "duration": 0,
    "start_time": "2024-02-18T05:57:52.753Z"
   },
   {
    "duration": 0,
    "start_time": "2024-02-18T05:57:52.754Z"
   },
   {
    "duration": 0,
    "start_time": "2024-02-18T05:57:52.757Z"
   },
   {
    "duration": 6091,
    "start_time": "2024-02-18T05:58:01.446Z"
   },
   {
    "duration": 3942,
    "start_time": "2024-02-18T05:58:07.539Z"
   },
   {
    "duration": 970,
    "start_time": "2024-02-18T05:58:11.487Z"
   },
   {
    "duration": 28,
    "start_time": "2024-02-18T05:58:12.459Z"
   },
   {
    "duration": 3,
    "start_time": "2024-02-18T05:58:12.489Z"
   },
   {
    "duration": 7,
    "start_time": "2024-02-18T05:58:12.494Z"
   },
   {
    "duration": 52,
    "start_time": "2024-02-18T05:58:12.502Z"
   },
   {
    "duration": 285,
    "start_time": "2024-02-18T05:58:12.556Z"
   },
   {
    "duration": 11,
    "start_time": "2024-02-18T05:58:12.843Z"
   },
   {
    "duration": 51,
    "start_time": "2024-02-18T05:58:12.857Z"
   },
   {
    "duration": 251,
    "start_time": "2024-02-18T05:58:12.909Z"
   },
   {
    "duration": 11,
    "start_time": "2024-02-18T05:58:13.162Z"
   },
   {
    "duration": 11,
    "start_time": "2024-02-18T05:58:13.175Z"
   },
   {
    "duration": 10,
    "start_time": "2024-02-18T05:58:13.188Z"
   },
   {
    "duration": 2528,
    "start_time": "2024-02-18T05:58:13.204Z"
   },
   {
    "duration": 211294,
    "start_time": "2024-02-18T05:58:15.734Z"
   },
   {
    "duration": 0,
    "start_time": "2024-02-18T06:01:47.030Z"
   },
   {
    "duration": 0,
    "start_time": "2024-02-18T06:01:47.031Z"
   },
   {
    "duration": 0,
    "start_time": "2024-02-18T06:01:47.033Z"
   },
   {
    "duration": 0,
    "start_time": "2024-02-18T06:01:47.034Z"
   },
   {
    "duration": 0,
    "start_time": "2024-02-18T06:01:47.035Z"
   },
   {
    "duration": 0,
    "start_time": "2024-02-18T06:01:47.036Z"
   },
   {
    "duration": 0,
    "start_time": "2024-02-18T06:01:47.037Z"
   },
   {
    "duration": 0,
    "start_time": "2024-02-18T06:01:47.038Z"
   },
   {
    "duration": 0,
    "start_time": "2024-02-18T06:01:47.040Z"
   },
   {
    "duration": 0,
    "start_time": "2024-02-18T06:01:47.041Z"
   },
   {
    "duration": 5949,
    "start_time": "2024-02-18T06:05:52.238Z"
   },
   {
    "duration": 1864,
    "start_time": "2024-02-18T06:05:58.189Z"
   },
   {
    "duration": 917,
    "start_time": "2024-02-18T06:06:00.055Z"
   },
   {
    "duration": 22,
    "start_time": "2024-02-18T06:06:00.974Z"
   },
   {
    "duration": 30,
    "start_time": "2024-02-18T06:06:00.999Z"
   },
   {
    "duration": 24,
    "start_time": "2024-02-18T06:06:01.030Z"
   },
   {
    "duration": 74,
    "start_time": "2024-02-18T06:06:01.056Z"
   },
   {
    "duration": 265,
    "start_time": "2024-02-18T06:06:01.131Z"
   },
   {
    "duration": 11,
    "start_time": "2024-02-18T06:06:01.398Z"
   },
   {
    "duration": 63,
    "start_time": "2024-02-18T06:06:01.411Z"
   },
   {
    "duration": 230,
    "start_time": "2024-02-18T06:06:01.475Z"
   },
   {
    "duration": 8,
    "start_time": "2024-02-18T06:06:01.706Z"
   },
   {
    "duration": 39,
    "start_time": "2024-02-18T06:06:01.715Z"
   },
   {
    "duration": 1785,
    "start_time": "2024-02-18T06:06:01.756Z"
   },
   {
    "duration": 0,
    "start_time": "2024-02-18T06:06:03.542Z"
   },
   {
    "duration": 0,
    "start_time": "2024-02-18T06:06:03.543Z"
   },
   {
    "duration": 0,
    "start_time": "2024-02-18T06:06:03.545Z"
   },
   {
    "duration": 0,
    "start_time": "2024-02-18T06:06:03.546Z"
   },
   {
    "duration": 0,
    "start_time": "2024-02-18T06:06:03.547Z"
   },
   {
    "duration": 0,
    "start_time": "2024-02-18T06:06:03.548Z"
   },
   {
    "duration": 0,
    "start_time": "2024-02-18T06:06:03.548Z"
   },
   {
    "duration": 0,
    "start_time": "2024-02-18T06:06:03.549Z"
   },
   {
    "duration": 0,
    "start_time": "2024-02-18T06:06:03.550Z"
   },
   {
    "duration": 0,
    "start_time": "2024-02-18T06:06:03.551Z"
   },
   {
    "duration": 6570,
    "start_time": "2024-02-18T06:06:53.410Z"
   },
   {
    "duration": 1945,
    "start_time": "2024-02-18T06:06:59.983Z"
   },
   {
    "duration": 926,
    "start_time": "2024-02-18T06:07:01.930Z"
   },
   {
    "duration": 16,
    "start_time": "2024-02-18T06:07:02.857Z"
   },
   {
    "duration": 3,
    "start_time": "2024-02-18T06:07:02.882Z"
   },
   {
    "duration": 8,
    "start_time": "2024-02-18T06:07:02.887Z"
   },
   {
    "duration": 49,
    "start_time": "2024-02-18T06:07:02.897Z"
   },
   {
    "duration": 285,
    "start_time": "2024-02-18T06:07:02.948Z"
   },
   {
    "duration": 13,
    "start_time": "2024-02-18T06:07:03.235Z"
   },
   {
    "duration": 56,
    "start_time": "2024-02-18T06:07:03.249Z"
   },
   {
    "duration": 229,
    "start_time": "2024-02-18T06:07:03.307Z"
   },
   {
    "duration": 8,
    "start_time": "2024-02-18T06:07:03.538Z"
   },
   {
    "duration": 22,
    "start_time": "2024-02-18T06:07:03.547Z"
   },
   {
    "duration": 7840,
    "start_time": "2024-02-18T06:07:03.571Z"
   },
   {
    "duration": 42,
    "start_time": "2024-02-18T06:07:11.413Z"
   },
   {
    "duration": 3,
    "start_time": "2024-02-18T06:07:11.457Z"
   },
   {
    "duration": 370,
    "start_time": "2024-02-18T06:07:11.461Z"
   },
   {
    "duration": 68,
    "start_time": "2024-02-18T06:07:11.833Z"
   },
   {
    "duration": 305,
    "start_time": "2024-02-18T06:07:11.902Z"
   },
   {
    "duration": 148,
    "start_time": "2024-02-18T06:07:12.208Z"
   },
   {
    "duration": 0,
    "start_time": "2024-02-18T06:07:12.357Z"
   },
   {
    "duration": 0,
    "start_time": "2024-02-18T06:07:12.359Z"
   },
   {
    "duration": 0,
    "start_time": "2024-02-18T06:07:12.360Z"
   },
   {
    "duration": 0,
    "start_time": "2024-02-18T06:07:12.361Z"
   },
   {
    "duration": 17,
    "start_time": "2024-02-18T06:07:40.814Z"
   },
   {
    "duration": 5676,
    "start_time": "2024-02-18T06:09:25.198Z"
   },
   {
    "duration": 1669,
    "start_time": "2024-02-18T06:09:30.877Z"
   },
   {
    "duration": 902,
    "start_time": "2024-02-18T06:09:32.548Z"
   },
   {
    "duration": 15,
    "start_time": "2024-02-18T06:09:33.452Z"
   },
   {
    "duration": 13,
    "start_time": "2024-02-18T06:09:33.469Z"
   },
   {
    "duration": 5,
    "start_time": "2024-02-18T06:09:33.484Z"
   },
   {
    "duration": 37,
    "start_time": "2024-02-18T06:09:33.490Z"
   },
   {
    "duration": 276,
    "start_time": "2024-02-18T06:09:33.529Z"
   },
   {
    "duration": 12,
    "start_time": "2024-02-18T06:09:33.807Z"
   },
   {
    "duration": 37,
    "start_time": "2024-02-18T06:09:33.822Z"
   },
   {
    "duration": 260,
    "start_time": "2024-02-18T06:09:33.860Z"
   },
   {
    "duration": 10,
    "start_time": "2024-02-18T06:09:34.122Z"
   },
   {
    "duration": 6,
    "start_time": "2024-02-18T06:09:34.133Z"
   },
   {
    "duration": 7648,
    "start_time": "2024-02-18T06:09:34.140Z"
   },
   {
    "duration": 52,
    "start_time": "2024-02-18T06:09:41.790Z"
   },
   {
    "duration": 3,
    "start_time": "2024-02-18T06:09:41.844Z"
   },
   {
    "duration": 402,
    "start_time": "2024-02-18T06:09:41.848Z"
   },
   {
    "duration": 56,
    "start_time": "2024-02-18T06:09:42.251Z"
   },
   {
    "duration": 302,
    "start_time": "2024-02-18T06:09:42.309Z"
   },
   {
    "duration": 345,
    "start_time": "2024-02-18T06:09:42.613Z"
   },
   {
    "duration": 0,
    "start_time": "2024-02-18T06:09:42.960Z"
   },
   {
    "duration": 0,
    "start_time": "2024-02-18T06:09:42.961Z"
   },
   {
    "duration": 0,
    "start_time": "2024-02-18T06:09:42.962Z"
   },
   {
    "duration": 0,
    "start_time": "2024-02-18T06:09:42.963Z"
   },
   {
    "duration": 4,
    "start_time": "2024-02-18T06:10:57.403Z"
   },
   {
    "duration": 4,
    "start_time": "2024-02-18T06:11:15.282Z"
   },
   {
    "duration": 9,
    "start_time": "2024-02-18T06:11:28.792Z"
   },
   {
    "duration": 9,
    "start_time": "2024-02-18T06:11:33.400Z"
   },
   {
    "duration": 6649,
    "start_time": "2024-02-18T06:15:42.223Z"
   },
   {
    "duration": 1666,
    "start_time": "2024-02-18T06:15:48.874Z"
   },
   {
    "duration": 899,
    "start_time": "2024-02-18T06:15:50.541Z"
   },
   {
    "duration": 16,
    "start_time": "2024-02-18T06:15:51.442Z"
   },
   {
    "duration": 3,
    "start_time": "2024-02-18T06:15:51.460Z"
   },
   {
    "duration": 17,
    "start_time": "2024-02-18T06:15:51.464Z"
   },
   {
    "duration": 37,
    "start_time": "2024-02-18T06:15:51.483Z"
   },
   {
    "duration": 275,
    "start_time": "2024-02-18T06:15:51.522Z"
   },
   {
    "duration": 13,
    "start_time": "2024-02-18T06:15:51.799Z"
   },
   {
    "duration": 40,
    "start_time": "2024-02-18T06:15:51.815Z"
   },
   {
    "duration": 256,
    "start_time": "2024-02-18T06:15:51.857Z"
   },
   {
    "duration": 9,
    "start_time": "2024-02-18T06:15:52.115Z"
   },
   {
    "duration": 2172,
    "start_time": "2024-02-18T06:15:52.126Z"
   },
   {
    "duration": 20,
    "start_time": "2024-02-18T06:15:54.299Z"
   },
   {
    "duration": 153,
    "start_time": "2024-02-18T06:15:54.320Z"
   },
   {
    "duration": 0,
    "start_time": "2024-02-18T06:15:54.475Z"
   },
   {
    "duration": 0,
    "start_time": "2024-02-18T06:15:54.476Z"
   },
   {
    "duration": 0,
    "start_time": "2024-02-18T06:15:54.477Z"
   },
   {
    "duration": 0,
    "start_time": "2024-02-18T06:15:54.478Z"
   },
   {
    "duration": 0,
    "start_time": "2024-02-18T06:15:54.482Z"
   },
   {
    "duration": 0,
    "start_time": "2024-02-18T06:15:54.483Z"
   },
   {
    "duration": 0,
    "start_time": "2024-02-18T06:15:54.484Z"
   },
   {
    "duration": 0,
    "start_time": "2024-02-18T06:15:54.485Z"
   },
   {
    "duration": 0,
    "start_time": "2024-02-18T06:15:54.486Z"
   },
   {
    "duration": 0,
    "start_time": "2024-02-18T06:15:54.487Z"
   },
   {
    "duration": 0,
    "start_time": "2024-02-18T06:15:54.488Z"
   },
   {
    "duration": 0,
    "start_time": "2024-02-18T06:15:54.489Z"
   },
   {
    "duration": 4,
    "start_time": "2024-02-18T06:17:01.053Z"
   },
   {
    "duration": 5851,
    "start_time": "2024-02-18T06:17:11.060Z"
   },
   {
    "duration": 2508,
    "start_time": "2024-02-18T06:17:16.913Z"
   },
   {
    "duration": 2322,
    "start_time": "2024-02-18T06:17:19.423Z"
   },
   {
    "duration": 16,
    "start_time": "2024-02-18T06:17:21.747Z"
   },
   {
    "duration": 3,
    "start_time": "2024-02-18T06:17:21.764Z"
   },
   {
    "duration": 7,
    "start_time": "2024-02-18T06:17:21.769Z"
   },
   {
    "duration": 41,
    "start_time": "2024-02-18T06:17:21.777Z"
   },
   {
    "duration": 284,
    "start_time": "2024-02-18T06:17:21.820Z"
   },
   {
    "duration": 14,
    "start_time": "2024-02-18T06:17:22.106Z"
   },
   {
    "duration": 41,
    "start_time": "2024-02-18T06:17:22.123Z"
   },
   {
    "duration": 238,
    "start_time": "2024-02-18T06:17:22.166Z"
   },
   {
    "duration": 9,
    "start_time": "2024-02-18T06:17:22.406Z"
   },
   {
    "duration": 3,
    "start_time": "2024-02-18T06:17:22.417Z"
   },
   {
    "duration": 2488,
    "start_time": "2024-02-18T06:17:22.422Z"
   },
   {
    "duration": 0,
    "start_time": "2024-02-18T06:17:24.912Z"
   },
   {
    "duration": 0,
    "start_time": "2024-02-18T06:17:24.914Z"
   },
   {
    "duration": 0,
    "start_time": "2024-02-18T06:17:24.916Z"
   },
   {
    "duration": 0,
    "start_time": "2024-02-18T06:17:24.917Z"
   },
   {
    "duration": 0,
    "start_time": "2024-02-18T06:17:24.918Z"
   },
   {
    "duration": 0,
    "start_time": "2024-02-18T06:17:24.920Z"
   },
   {
    "duration": 0,
    "start_time": "2024-02-18T06:17:24.922Z"
   },
   {
    "duration": 0,
    "start_time": "2024-02-18T06:17:24.923Z"
   },
   {
    "duration": 0,
    "start_time": "2024-02-18T06:17:24.925Z"
   },
   {
    "duration": 0,
    "start_time": "2024-02-18T06:17:24.926Z"
   },
   {
    "duration": 0,
    "start_time": "2024-02-18T06:17:24.927Z"
   },
   {
    "duration": 0,
    "start_time": "2024-02-18T06:17:24.929Z"
   },
   {
    "duration": 5772,
    "start_time": "2024-02-18T06:18:03.444Z"
   },
   {
    "duration": 2554,
    "start_time": "2024-02-18T06:18:09.218Z"
   },
   {
    "duration": 2314,
    "start_time": "2024-02-18T06:18:11.774Z"
   },
   {
    "duration": 15,
    "start_time": "2024-02-18T06:18:14.090Z"
   },
   {
    "duration": 3,
    "start_time": "2024-02-18T06:18:14.107Z"
   },
   {
    "duration": 3,
    "start_time": "2024-02-18T06:18:14.112Z"
   },
   {
    "duration": 36,
    "start_time": "2024-02-18T06:18:14.117Z"
   },
   {
    "duration": 278,
    "start_time": "2024-02-18T06:18:14.155Z"
   },
   {
    "duration": 13,
    "start_time": "2024-02-18T06:18:14.434Z"
   },
   {
    "duration": 48,
    "start_time": "2024-02-18T06:18:14.448Z"
   },
   {
    "duration": 247,
    "start_time": "2024-02-18T06:18:14.498Z"
   },
   {
    "duration": 8,
    "start_time": "2024-02-18T06:18:14.747Z"
   },
   {
    "duration": 3,
    "start_time": "2024-02-18T06:18:14.757Z"
   },
   {
    "duration": 5947,
    "start_time": "2024-02-18T06:18:40.656Z"
   },
   {
    "duration": 2563,
    "start_time": "2024-02-18T06:18:46.606Z"
   },
   {
    "duration": 2312,
    "start_time": "2024-02-18T06:18:49.170Z"
   },
   {
    "duration": 16,
    "start_time": "2024-02-18T06:18:51.484Z"
   },
   {
    "duration": 3,
    "start_time": "2024-02-18T06:18:51.501Z"
   },
   {
    "duration": 5,
    "start_time": "2024-02-18T06:18:51.506Z"
   },
   {
    "duration": 38,
    "start_time": "2024-02-18T06:18:51.512Z"
   },
   {
    "duration": 282,
    "start_time": "2024-02-18T06:18:51.551Z"
   },
   {
    "duration": 12,
    "start_time": "2024-02-18T06:18:51.835Z"
   },
   {
    "duration": 53,
    "start_time": "2024-02-18T06:18:51.850Z"
   },
   {
    "duration": 232,
    "start_time": "2024-02-18T06:18:51.905Z"
   },
   {
    "duration": 8,
    "start_time": "2024-02-18T06:18:52.138Z"
   },
   {
    "duration": 3,
    "start_time": "2024-02-18T06:18:52.147Z"
   },
   {
    "duration": 49,
    "start_time": "2024-02-18T06:39:09.633Z"
   },
   {
    "duration": 6906,
    "start_time": "2024-02-18T06:39:39.736Z"
   },
   {
    "duration": 2473,
    "start_time": "2024-02-18T06:39:46.645Z"
   },
   {
    "duration": 2314,
    "start_time": "2024-02-18T06:39:49.120Z"
   },
   {
    "duration": 16,
    "start_time": "2024-02-18T06:39:51.435Z"
   },
   {
    "duration": 7,
    "start_time": "2024-02-18T06:39:51.453Z"
   },
   {
    "duration": 11,
    "start_time": "2024-02-18T06:39:51.462Z"
   },
   {
    "duration": 38,
    "start_time": "2024-02-18T06:39:51.474Z"
   },
   {
    "duration": 262,
    "start_time": "2024-02-18T06:39:51.513Z"
   },
   {
    "duration": 14,
    "start_time": "2024-02-18T06:39:51.777Z"
   },
   {
    "duration": 50,
    "start_time": "2024-02-18T06:39:51.793Z"
   },
   {
    "duration": 236,
    "start_time": "2024-02-18T06:39:51.845Z"
   },
   {
    "duration": 8,
    "start_time": "2024-02-18T06:39:52.083Z"
   },
   {
    "duration": 2191,
    "start_time": "2024-02-18T06:39:52.092Z"
   },
   {
    "duration": 9,
    "start_time": "2024-02-18T06:39:54.286Z"
   },
   {
    "duration": 145,
    "start_time": "2024-02-18T06:39:54.297Z"
   },
   {
    "duration": 0,
    "start_time": "2024-02-18T06:39:54.444Z"
   },
   {
    "duration": 0,
    "start_time": "2024-02-18T06:39:54.445Z"
   },
   {
    "duration": 0,
    "start_time": "2024-02-18T06:39:54.446Z"
   },
   {
    "duration": 0,
    "start_time": "2024-02-18T06:39:54.448Z"
   },
   {
    "duration": 0,
    "start_time": "2024-02-18T06:39:54.449Z"
   },
   {
    "duration": 0,
    "start_time": "2024-02-18T06:39:54.450Z"
   },
   {
    "duration": 1,
    "start_time": "2024-02-18T06:39:54.450Z"
   },
   {
    "duration": 0,
    "start_time": "2024-02-18T06:39:54.452Z"
   },
   {
    "duration": 0,
    "start_time": "2024-02-18T06:39:54.453Z"
   },
   {
    "duration": 0,
    "start_time": "2024-02-18T06:39:54.454Z"
   },
   {
    "duration": 0,
    "start_time": "2024-02-18T06:39:54.482Z"
   },
   {
    "duration": 0,
    "start_time": "2024-02-18T06:39:54.483Z"
   },
   {
    "duration": 78,
    "start_time": "2024-02-18T06:41:04.606Z"
   },
   {
    "duration": 68,
    "start_time": "2024-02-18T06:41:08.975Z"
   },
   {
    "duration": 76,
    "start_time": "2024-02-18T06:41:13.049Z"
   },
   {
    "duration": 4,
    "start_time": "2024-02-18T06:41:17.709Z"
   },
   {
    "duration": 10,
    "start_time": "2024-02-18T06:41:19.058Z"
   },
   {
    "duration": 3,
    "start_time": "2024-02-18T06:41:48.941Z"
   },
   {
    "duration": 9,
    "start_time": "2024-02-18T06:41:50.196Z"
   },
   {
    "duration": 3,
    "start_time": "2024-02-18T06:43:16.214Z"
   },
   {
    "duration": 350,
    "start_time": "2024-02-18T06:43:17.438Z"
   },
   {
    "duration": 3,
    "start_time": "2024-02-18T06:44:54.276Z"
   },
   {
    "duration": 7716,
    "start_time": "2024-02-18T06:44:55.172Z"
   },
   {
    "duration": 27,
    "start_time": "2024-02-18T06:45:08.120Z"
   },
   {
    "duration": 11,
    "start_time": "2024-02-18T06:45:12.613Z"
   },
   {
    "duration": 2,
    "start_time": "2024-02-18T06:45:22.105Z"
   },
   {
    "duration": 358,
    "start_time": "2024-02-18T06:45:23.385Z"
   },
   {
    "duration": 49,
    "start_time": "2024-02-18T06:45:24.666Z"
   },
   {
    "duration": 283,
    "start_time": "2024-02-18T06:45:25.309Z"
   },
   {
    "duration": 9,
    "start_time": "2024-02-18T06:45:26.403Z"
   },
   {
    "duration": 8,
    "start_time": "2024-02-18T06:45:27.055Z"
   },
   {
    "duration": 226,
    "start_time": "2024-02-18T06:45:28.400Z"
   },
   {
    "duration": 16,
    "start_time": "2024-02-18T06:45:55.434Z"
   },
   {
    "duration": 16,
    "start_time": "2024-02-18T06:49:00.903Z"
   },
   {
    "duration": 356,
    "start_time": "2024-02-18T06:49:32.440Z"
   },
   {
    "duration": 5947,
    "start_time": "2024-02-18T06:50:02.575Z"
   },
   {
    "duration": 2650,
    "start_time": "2024-02-18T06:50:08.525Z"
   },
   {
    "duration": 2321,
    "start_time": "2024-02-18T06:50:11.177Z"
   },
   {
    "duration": 15,
    "start_time": "2024-02-18T06:50:13.500Z"
   },
   {
    "duration": 3,
    "start_time": "2024-02-18T06:50:13.517Z"
   },
   {
    "duration": 6,
    "start_time": "2024-02-18T06:50:13.521Z"
   },
   {
    "duration": 44,
    "start_time": "2024-02-18T06:50:13.529Z"
   },
   {
    "duration": 260,
    "start_time": "2024-02-18T06:50:13.575Z"
   },
   {
    "duration": 12,
    "start_time": "2024-02-18T06:50:13.836Z"
   },
   {
    "duration": 53,
    "start_time": "2024-02-18T06:50:13.850Z"
   },
   {
    "duration": 228,
    "start_time": "2024-02-18T06:50:13.904Z"
   },
   {
    "duration": 9,
    "start_time": "2024-02-18T06:50:14.134Z"
   },
   {
    "duration": 8,
    "start_time": "2024-02-18T06:50:14.145Z"
   },
   {
    "duration": 7726,
    "start_time": "2024-02-18T06:50:14.156Z"
   },
   {
    "duration": 49,
    "start_time": "2024-02-18T06:50:21.884Z"
   },
   {
    "duration": 10,
    "start_time": "2024-02-18T06:50:21.934Z"
   },
   {
    "duration": 4,
    "start_time": "2024-02-18T06:50:21.946Z"
   },
   {
    "duration": 394,
    "start_time": "2024-02-18T06:50:21.951Z"
   },
   {
    "duration": 60,
    "start_time": "2024-02-18T06:50:22.347Z"
   },
   {
    "duration": 300,
    "start_time": "2024-02-18T06:50:22.409Z"
   },
   {
    "duration": 721,
    "start_time": "2024-02-18T06:50:22.711Z"
   },
   {
    "duration": 0,
    "start_time": "2024-02-18T06:50:23.434Z"
   },
   {
    "duration": 0,
    "start_time": "2024-02-18T06:50:23.435Z"
   },
   {
    "duration": 0,
    "start_time": "2024-02-18T06:50:23.436Z"
   },
   {
    "duration": 0,
    "start_time": "2024-02-18T06:50:23.437Z"
   },
   {
    "duration": 6002,
    "start_time": "2024-02-18T06:55:38.825Z"
   },
   {
    "duration": 1639,
    "start_time": "2024-02-18T06:55:44.830Z"
   },
   {
    "duration": 1703,
    "start_time": "2024-02-18T06:55:46.471Z"
   },
   {
    "duration": 15,
    "start_time": "2024-02-18T06:55:48.176Z"
   },
   {
    "duration": 3,
    "start_time": "2024-02-18T06:55:48.193Z"
   },
   {
    "duration": 6,
    "start_time": "2024-02-18T06:55:48.197Z"
   },
   {
    "duration": 41,
    "start_time": "2024-02-18T06:55:48.205Z"
   },
   {
    "duration": 276,
    "start_time": "2024-02-18T06:55:48.248Z"
   },
   {
    "duration": 13,
    "start_time": "2024-02-18T06:55:48.526Z"
   },
   {
    "duration": 50,
    "start_time": "2024-02-18T06:55:48.542Z"
   },
   {
    "duration": 226,
    "start_time": "2024-02-18T06:55:48.594Z"
   },
   {
    "duration": 10,
    "start_time": "2024-02-18T06:55:48.822Z"
   },
   {
    "duration": 4,
    "start_time": "2024-02-18T06:55:48.833Z"
   },
   {
    "duration": 7759,
    "start_time": "2024-02-18T06:55:48.839Z"
   },
   {
    "duration": 41,
    "start_time": "2024-02-18T06:55:56.599Z"
   },
   {
    "duration": 9,
    "start_time": "2024-02-18T06:55:56.642Z"
   },
   {
    "duration": 12,
    "start_time": "2024-02-18T06:55:56.652Z"
   },
   {
    "duration": 365,
    "start_time": "2024-02-18T06:55:56.665Z"
   },
   {
    "duration": 58,
    "start_time": "2024-02-18T06:55:57.032Z"
   },
   {
    "duration": 294,
    "start_time": "2024-02-18T06:55:57.091Z"
   },
   {
    "duration": 606,
    "start_time": "2024-02-18T06:55:57.387Z"
   },
   {
    "duration": 0,
    "start_time": "2024-02-18T06:55:57.995Z"
   },
   {
    "duration": 0,
    "start_time": "2024-02-18T06:55:57.996Z"
   },
   {
    "duration": 0,
    "start_time": "2024-02-18T06:55:57.998Z"
   },
   {
    "duration": 0,
    "start_time": "2024-02-18T06:55:57.998Z"
   },
   {
    "duration": 5,
    "start_time": "2024-02-18T07:00:11.591Z"
   },
   {
    "duration": 7,
    "start_time": "2024-02-18T07:00:22.054Z"
   },
   {
    "duration": 4,
    "start_time": "2024-02-18T07:00:28.540Z"
   },
   {
    "duration": 2359,
    "start_time": "2024-02-18T07:00:29.244Z"
   },
   {
    "duration": 20,
    "start_time": "2024-02-18T07:00:37.766Z"
   },
   {
    "duration": 12,
    "start_time": "2024-02-18T07:00:48.441Z"
   },
   {
    "duration": 5699,
    "start_time": "2024-02-18T07:00:53.748Z"
   },
   {
    "duration": 1681,
    "start_time": "2024-02-18T07:00:59.449Z"
   },
   {
    "duration": 905,
    "start_time": "2024-02-18T07:01:01.131Z"
   },
   {
    "duration": 16,
    "start_time": "2024-02-18T07:01:02.037Z"
   },
   {
    "duration": 14,
    "start_time": "2024-02-18T07:01:02.055Z"
   },
   {
    "duration": 18,
    "start_time": "2024-02-18T07:01:02.070Z"
   },
   {
    "duration": 48,
    "start_time": "2024-02-18T07:01:02.090Z"
   },
   {
    "duration": 261,
    "start_time": "2024-02-18T07:01:02.140Z"
   },
   {
    "duration": 12,
    "start_time": "2024-02-18T07:01:02.403Z"
   },
   {
    "duration": 66,
    "start_time": "2024-02-18T07:01:02.429Z"
   },
   {
    "duration": 230,
    "start_time": "2024-02-18T07:01:02.496Z"
   },
   {
    "duration": 9,
    "start_time": "2024-02-18T07:01:02.728Z"
   },
   {
    "duration": 4,
    "start_time": "2024-02-18T07:01:02.739Z"
   },
   {
    "duration": 7775,
    "start_time": "2024-02-18T07:01:02.747Z"
   },
   {
    "duration": 41,
    "start_time": "2024-02-18T07:01:10.524Z"
   },
   {
    "duration": 20,
    "start_time": "2024-02-18T07:01:10.567Z"
   },
   {
    "duration": 3,
    "start_time": "2024-02-18T07:01:10.589Z"
   },
   {
    "duration": 360,
    "start_time": "2024-02-18T07:01:10.593Z"
   },
   {
    "duration": 55,
    "start_time": "2024-02-18T07:01:10.955Z"
   },
   {
    "duration": 291,
    "start_time": "2024-02-18T07:01:11.012Z"
   },
   {
    "duration": 133,
    "start_time": "2024-02-18T07:01:11.305Z"
   },
   {
    "duration": 2355,
    "start_time": "2024-02-18T07:01:11.440Z"
   },
   {
    "duration": 403774,
    "start_time": "2024-02-18T07:01:13.796Z"
   },
   {
    "duration": 147,
    "start_time": "2024-02-18T07:07:57.572Z"
   },
   {
    "duration": 0,
    "start_time": "2024-02-18T07:07:57.721Z"
   },
   {
    "duration": 0,
    "start_time": "2024-02-18T07:07:57.722Z"
   },
   {
    "duration": 42285,
    "start_time": "2024-02-18T07:12:24.766Z"
   },
   {
    "duration": 735,
    "start_time": "2024-02-18T07:13:07.053Z"
   },
   {
    "duration": 6059,
    "start_time": "2024-02-18T08:34:03.878Z"
   },
   {
    "duration": 2746,
    "start_time": "2024-02-18T08:34:09.940Z"
   },
   {
    "duration": 982,
    "start_time": "2024-02-18T08:34:12.688Z"
   },
   {
    "duration": 27,
    "start_time": "2024-02-18T08:34:13.672Z"
   },
   {
    "duration": 3,
    "start_time": "2024-02-18T08:34:13.701Z"
   },
   {
    "duration": 6,
    "start_time": "2024-02-18T08:34:13.705Z"
   },
   {
    "duration": 38,
    "start_time": "2024-02-18T08:34:13.712Z"
   },
   {
    "duration": 450,
    "start_time": "2024-02-18T08:34:13.753Z"
   },
   {
    "duration": 11,
    "start_time": "2024-02-18T08:34:14.205Z"
   },
   {
    "duration": 85,
    "start_time": "2024-02-18T08:34:14.218Z"
   },
   {
    "duration": 225,
    "start_time": "2024-02-18T08:34:14.304Z"
   },
   {
    "duration": 8,
    "start_time": "2024-02-18T08:34:14.531Z"
   },
   {
    "duration": 3,
    "start_time": "2024-02-18T08:34:14.540Z"
   },
   {
    "duration": 9841,
    "start_time": "2024-02-18T08:34:14.546Z"
   },
   {
    "duration": 48,
    "start_time": "2024-02-18T08:34:24.388Z"
   },
   {
    "duration": 9,
    "start_time": "2024-02-18T08:34:24.438Z"
   },
   {
    "duration": 3,
    "start_time": "2024-02-18T08:34:24.449Z"
   },
   {
    "duration": 449,
    "start_time": "2024-02-18T08:34:24.454Z"
   },
   {
    "duration": 53,
    "start_time": "2024-02-18T08:34:24.906Z"
   },
   {
    "duration": 335,
    "start_time": "2024-02-18T08:34:24.961Z"
   },
   {
    "duration": 162,
    "start_time": "2024-02-18T08:34:25.297Z"
   },
   {
    "duration": 2518,
    "start_time": "2024-02-18T08:34:25.461Z"
   },
   {
    "duration": 407386,
    "start_time": "2024-02-18T08:34:27.982Z"
   },
   {
    "duration": 43165,
    "start_time": "2024-02-18T08:41:15.370Z"
   },
   {
    "duration": 736,
    "start_time": "2024-02-18T08:41:58.537Z"
   },
   {
    "duration": 6066,
    "start_time": "2024-02-18T09:09:03.178Z"
   },
   {
    "duration": 1681,
    "start_time": "2024-02-18T09:09:09.246Z"
   },
   {
    "duration": 940,
    "start_time": "2024-02-18T09:09:10.928Z"
   },
   {
    "duration": 23,
    "start_time": "2024-02-18T09:09:11.870Z"
   },
   {
    "duration": 4,
    "start_time": "2024-02-18T09:09:11.895Z"
   },
   {
    "duration": 4,
    "start_time": "2024-02-18T09:09:11.900Z"
   },
   {
    "duration": 37,
    "start_time": "2024-02-18T09:09:11.906Z"
   },
   {
    "duration": 307,
    "start_time": "2024-02-18T09:09:11.944Z"
   },
   {
    "duration": 13,
    "start_time": "2024-02-18T09:09:12.253Z"
   },
   {
    "duration": 46,
    "start_time": "2024-02-18T09:09:12.268Z"
   },
   {
    "duration": 250,
    "start_time": "2024-02-18T09:09:12.316Z"
   },
   {
    "duration": 29,
    "start_time": "2024-02-18T09:09:12.568Z"
   },
   {
    "duration": 4,
    "start_time": "2024-02-18T09:09:12.599Z"
   },
   {
    "duration": 8321,
    "start_time": "2024-02-18T09:09:12.606Z"
   },
   {
    "duration": 45,
    "start_time": "2024-02-18T09:09:20.928Z"
   },
   {
    "duration": 19,
    "start_time": "2024-02-18T09:09:20.975Z"
   },
   {
    "duration": 3,
    "start_time": "2024-02-18T09:09:20.999Z"
   },
   {
    "duration": 383,
    "start_time": "2024-02-18T09:09:21.004Z"
   },
   {
    "duration": 56,
    "start_time": "2024-02-18T09:09:21.389Z"
   },
   {
    "duration": 346,
    "start_time": "2024-02-18T09:09:21.446Z"
   },
   {
    "duration": 210,
    "start_time": "2024-02-18T09:09:21.793Z"
   },
   {
    "duration": 2675,
    "start_time": "2024-02-18T09:09:22.005Z"
   },
   {
    "duration": 407614,
    "start_time": "2024-02-18T09:09:24.689Z"
   },
   {
    "duration": 43149,
    "start_time": "2024-02-18T09:16:12.305Z"
   },
   {
    "duration": 752,
    "start_time": "2024-02-18T09:16:55.455Z"
   },
   {
    "duration": 138823,
    "start_time": "2024-02-18T09:16:56.209Z"
   },
   {
    "duration": 2823368,
    "start_time": "2024-02-18T09:19:15.033Z"
   },
   {
    "duration": 0,
    "start_time": "2024-02-18T10:06:18.578Z"
   },
   {
    "duration": 11,
    "start_time": "2024-02-18T10:07:01.918Z"
   },
   {
    "duration": 9,
    "start_time": "2024-02-18T10:07:07.546Z"
   },
   {
    "duration": 5903,
    "start_time": "2024-02-18T10:08:15.598Z"
   },
   {
    "duration": 1708,
    "start_time": "2024-02-18T10:08:21.503Z"
   },
   {
    "duration": 932,
    "start_time": "2024-02-18T10:08:23.212Z"
   },
   {
    "duration": 15,
    "start_time": "2024-02-18T10:08:24.146Z"
   },
   {
    "duration": 3,
    "start_time": "2024-02-18T10:08:24.164Z"
   },
   {
    "duration": 4,
    "start_time": "2024-02-18T10:08:24.181Z"
   },
   {
    "duration": 50,
    "start_time": "2024-02-18T10:08:24.187Z"
   },
   {
    "duration": 273,
    "start_time": "2024-02-18T10:08:24.239Z"
   },
   {
    "duration": 11,
    "start_time": "2024-02-18T10:08:24.514Z"
   },
   {
    "duration": 9,
    "start_time": "2024-02-18T10:08:24.527Z"
   },
   {
    "duration": 3,
    "start_time": "2024-02-18T10:08:24.537Z"
   },
   {
    "duration": 7858,
    "start_time": "2024-02-18T10:08:24.542Z"
   },
   {
    "duration": 45,
    "start_time": "2024-02-18T10:08:32.401Z"
   },
   {
    "duration": 15,
    "start_time": "2024-02-18T10:08:32.449Z"
   },
   {
    "duration": 17,
    "start_time": "2024-02-18T10:08:32.465Z"
   },
   {
    "duration": 355,
    "start_time": "2024-02-18T10:08:32.484Z"
   },
   {
    "duration": 55,
    "start_time": "2024-02-18T10:08:32.840Z"
   },
   {
    "duration": 312,
    "start_time": "2024-02-18T10:08:32.897Z"
   },
   {
    "duration": 203,
    "start_time": "2024-02-18T10:08:33.211Z"
   },
   {
    "duration": 2377,
    "start_time": "2024-02-18T10:08:33.416Z"
   },
   {
    "duration": 406028,
    "start_time": "2024-02-18T10:08:35.795Z"
   },
   {
    "duration": 43014,
    "start_time": "2024-02-18T10:15:21.825Z"
   },
   {
    "duration": 720,
    "start_time": "2024-02-18T10:16:04.840Z"
   },
   {
    "duration": 5883,
    "start_time": "2024-02-18T10:17:37.917Z"
   },
   {
    "duration": 1647,
    "start_time": "2024-02-18T10:17:43.803Z"
   },
   {
    "duration": 906,
    "start_time": "2024-02-18T10:17:45.451Z"
   },
   {
    "duration": 15,
    "start_time": "2024-02-18T10:17:46.359Z"
   },
   {
    "duration": 7,
    "start_time": "2024-02-18T10:17:46.376Z"
   },
   {
    "duration": 16,
    "start_time": "2024-02-18T10:17:46.385Z"
   },
   {
    "duration": 37,
    "start_time": "2024-02-18T10:17:46.403Z"
   },
   {
    "duration": 268,
    "start_time": "2024-02-18T10:17:46.441Z"
   },
   {
    "duration": 12,
    "start_time": "2024-02-18T10:17:46.710Z"
   },
   {
    "duration": 13,
    "start_time": "2024-02-18T10:17:46.724Z"
   },
   {
    "duration": 3,
    "start_time": "2024-02-18T10:17:46.739Z"
   },
   {
    "duration": 8323,
    "start_time": "2024-02-18T10:17:46.744Z"
   },
   {
    "duration": 47,
    "start_time": "2024-02-18T10:17:55.069Z"
   },
   {
    "duration": 3,
    "start_time": "2024-02-18T10:17:55.118Z"
   },
   {
    "duration": 392,
    "start_time": "2024-02-18T10:17:55.122Z"
   },
   {
    "duration": 49,
    "start_time": "2024-02-18T10:17:55.516Z"
   },
   {
    "duration": 304,
    "start_time": "2024-02-18T10:17:55.566Z"
   },
   {
    "duration": 133,
    "start_time": "2024-02-18T10:17:55.873Z"
   },
   {
    "duration": 2312,
    "start_time": "2024-02-18T10:17:56.008Z"
   },
   {
    "duration": 403582,
    "start_time": "2024-02-18T10:17:58.321Z"
   },
   {
    "duration": 42302,
    "start_time": "2024-02-18T10:24:41.904Z"
   },
   {
    "duration": 697,
    "start_time": "2024-02-18T10:25:24.207Z"
   },
   {
    "duration": 131602,
    "start_time": "2024-02-18T10:25:24.905Z"
   },
   {
    "duration": 0,
    "start_time": "2024-02-18T10:27:36.508Z"
   },
   {
    "duration": 0,
    "start_time": "2024-02-18T10:27:36.510Z"
   },
   {
    "duration": 133528,
    "start_time": "2024-02-18T10:48:38.938Z"
   },
   {
    "duration": 5906,
    "start_time": "2024-02-18T10:51:07.646Z"
   },
   {
    "duration": 1658,
    "start_time": "2024-02-18T10:51:13.554Z"
   },
   {
    "duration": 921,
    "start_time": "2024-02-18T10:51:15.214Z"
   },
   {
    "duration": 16,
    "start_time": "2024-02-18T10:51:16.136Z"
   },
   {
    "duration": 3,
    "start_time": "2024-02-18T10:51:16.154Z"
   },
   {
    "duration": 4,
    "start_time": "2024-02-18T10:51:16.159Z"
   },
   {
    "duration": 52,
    "start_time": "2024-02-18T10:51:16.164Z"
   },
   {
    "duration": 272,
    "start_time": "2024-02-18T10:51:16.217Z"
   },
   {
    "duration": 12,
    "start_time": "2024-02-18T10:51:16.490Z"
   },
   {
    "duration": 4,
    "start_time": "2024-02-18T10:51:16.504Z"
   },
   {
    "duration": 7736,
    "start_time": "2024-02-18T10:51:16.510Z"
   },
   {
    "duration": 51,
    "start_time": "2024-02-18T10:51:24.248Z"
   },
   {
    "duration": 2,
    "start_time": "2024-02-18T10:51:24.301Z"
   },
   {
    "duration": 360,
    "start_time": "2024-02-18T10:51:24.306Z"
   },
   {
    "duration": 56,
    "start_time": "2024-02-18T10:51:24.668Z"
   },
   {
    "duration": 294,
    "start_time": "2024-02-18T10:51:24.726Z"
   },
   {
    "duration": 129,
    "start_time": "2024-02-18T10:51:25.022Z"
   },
   {
    "duration": 2344,
    "start_time": "2024-02-18T10:51:25.153Z"
   },
   {
    "duration": 405175,
    "start_time": "2024-02-18T10:51:27.499Z"
   },
   {
    "duration": 42784,
    "start_time": "2024-02-18T10:58:12.682Z"
   },
   {
    "duration": 709,
    "start_time": "2024-02-18T10:58:55.468Z"
   },
   {
    "duration": 131844,
    "start_time": "2024-02-18T10:58:56.182Z"
   },
   {
    "duration": 467058,
    "start_time": "2024-02-18T11:01:08.028Z"
   },
   {
    "duration": 9,
    "start_time": "2024-02-18T11:08:55.088Z"
   },
   {
    "duration": 9,
    "start_time": "2024-02-18T12:19:17.262Z"
   },
   {
    "duration": 9325,
    "start_time": "2024-02-18T16:29:01.095Z"
   },
   {
    "duration": 1656,
    "start_time": "2024-02-18T16:29:10.422Z"
   },
   {
    "duration": 3251,
    "start_time": "2024-02-18T16:29:12.079Z"
   },
   {
    "duration": 14,
    "start_time": "2024-02-18T16:29:15.332Z"
   },
   {
    "duration": 4,
    "start_time": "2024-02-18T16:29:15.348Z"
   },
   {
    "duration": 23,
    "start_time": "2024-02-18T16:29:15.353Z"
   },
   {
    "duration": 49,
    "start_time": "2024-02-18T16:29:15.377Z"
   },
   {
    "duration": 253,
    "start_time": "2024-02-18T16:29:15.427Z"
   },
   {
    "duration": 14,
    "start_time": "2024-02-18T16:29:15.682Z"
   },
   {
    "duration": 30,
    "start_time": "2024-02-18T16:29:15.699Z"
   },
   {
    "duration": 4,
    "start_time": "2024-02-18T16:29:22.729Z"
   },
   {
    "duration": 5,
    "start_time": "2024-02-18T16:29:29.031Z"
   },
   {
    "duration": 547,
    "start_time": "2024-02-18T16:29:46.844Z"
   },
   {
    "duration": 5,
    "start_time": "2024-02-18T16:30:02.372Z"
   },
   {
    "duration": 473,
    "start_time": "2024-02-18T16:30:04.678Z"
   },
   {
    "duration": 3784,
    "start_time": "2024-02-18T16:31:00.230Z"
   },
   {
    "duration": 0,
    "start_time": "2024-02-18T16:31:04.017Z"
   },
   {
    "duration": 0,
    "start_time": "2024-02-18T16:31:04.019Z"
   },
   {
    "duration": 0,
    "start_time": "2024-02-18T16:31:04.020Z"
   },
   {
    "duration": 0,
    "start_time": "2024-02-18T16:31:04.021Z"
   },
   {
    "duration": 0,
    "start_time": "2024-02-18T16:31:04.023Z"
   },
   {
    "duration": 0,
    "start_time": "2024-02-18T16:31:04.023Z"
   },
   {
    "duration": 0,
    "start_time": "2024-02-18T16:31:04.024Z"
   },
   {
    "duration": 0,
    "start_time": "2024-02-18T16:31:04.026Z"
   },
   {
    "duration": 0,
    "start_time": "2024-02-18T16:31:04.026Z"
   },
   {
    "duration": 0,
    "start_time": "2024-02-18T16:31:04.087Z"
   },
   {
    "duration": 0,
    "start_time": "2024-02-18T16:31:04.089Z"
   },
   {
    "duration": 0,
    "start_time": "2024-02-18T16:31:04.090Z"
   },
   {
    "duration": 0,
    "start_time": "2024-02-18T16:31:04.091Z"
   },
   {
    "duration": 0,
    "start_time": "2024-02-18T16:31:04.092Z"
   },
   {
    "duration": 0,
    "start_time": "2024-02-18T16:31:04.093Z"
   },
   {
    "duration": 0,
    "start_time": "2024-02-18T16:31:04.094Z"
   },
   {
    "duration": 0,
    "start_time": "2024-02-18T16:31:04.095Z"
   },
   {
    "duration": 0,
    "start_time": "2024-02-18T16:31:04.096Z"
   },
   {
    "duration": 0,
    "start_time": "2024-02-18T16:31:04.097Z"
   },
   {
    "duration": 0,
    "start_time": "2024-02-18T16:31:04.098Z"
   },
   {
    "duration": 0,
    "start_time": "2024-02-18T16:31:04.099Z"
   },
   {
    "duration": 0,
    "start_time": "2024-02-18T16:31:04.100Z"
   },
   {
    "duration": 0,
    "start_time": "2024-02-18T16:31:04.101Z"
   },
   {
    "duration": 5298,
    "start_time": "2024-02-18T16:31:08.115Z"
   },
   {
    "duration": 1508,
    "start_time": "2024-02-18T16:31:13.415Z"
   },
   {
    "duration": 850,
    "start_time": "2024-02-18T16:31:14.924Z"
   },
   {
    "duration": 14,
    "start_time": "2024-02-18T16:31:15.776Z"
   },
   {
    "duration": 5,
    "start_time": "2024-02-18T16:31:15.791Z"
   },
   {
    "duration": 4,
    "start_time": "2024-02-18T16:31:15.797Z"
   },
   {
    "duration": 35,
    "start_time": "2024-02-18T16:31:15.803Z"
   },
   {
    "duration": 254,
    "start_time": "2024-02-18T16:31:15.839Z"
   },
   {
    "duration": 13,
    "start_time": "2024-02-18T16:31:16.094Z"
   },
   {
    "duration": 5,
    "start_time": "2024-02-18T16:31:16.109Z"
   },
   {
    "duration": 561,
    "start_time": "2024-02-18T16:31:16.115Z"
   },
   {
    "duration": 409,
    "start_time": "2024-02-18T16:34:19.410Z"
   },
   {
    "duration": 4,
    "start_time": "2024-02-18T16:37:50.574Z"
   },
   {
    "duration": 441,
    "start_time": "2024-02-18T16:37:59.893Z"
   },
   {
    "duration": 440,
    "start_time": "2024-02-18T16:39:56.002Z"
   },
   {
    "duration": 10,
    "start_time": "2024-02-18T16:40:14.191Z"
   },
   {
    "duration": 20162,
    "start_time": "2024-02-18T16:40:20.182Z"
   },
   {
    "duration": 5437,
    "start_time": "2024-02-18T16:40:44.046Z"
   },
   {
    "duration": 1591,
    "start_time": "2024-02-18T16:40:49.485Z"
   },
   {
    "duration": 807,
    "start_time": "2024-02-18T16:40:51.078Z"
   },
   {
    "duration": 14,
    "start_time": "2024-02-18T16:40:51.887Z"
   },
   {
    "duration": 4,
    "start_time": "2024-02-18T16:40:51.903Z"
   },
   {
    "duration": 3,
    "start_time": "2024-02-18T16:40:51.909Z"
   },
   {
    "duration": 36,
    "start_time": "2024-02-18T16:40:51.914Z"
   },
   {
    "duration": 272,
    "start_time": "2024-02-18T16:40:51.952Z"
   },
   {
    "duration": 13,
    "start_time": "2024-02-18T16:40:52.225Z"
   },
   {
    "duration": 188,
    "start_time": "2024-02-18T16:40:52.241Z"
   },
   {
    "duration": 5378,
    "start_time": "2024-02-18T16:43:15.291Z"
   },
   {
    "duration": 1518,
    "start_time": "2024-02-18T16:43:20.671Z"
   },
   {
    "duration": 813,
    "start_time": "2024-02-18T16:43:22.190Z"
   },
   {
    "duration": 13,
    "start_time": "2024-02-18T16:43:23.004Z"
   },
   {
    "duration": 3,
    "start_time": "2024-02-18T16:43:23.019Z"
   },
   {
    "duration": 7,
    "start_time": "2024-02-18T16:43:23.023Z"
   },
   {
    "duration": 37,
    "start_time": "2024-02-18T16:43:23.031Z"
   },
   {
    "duration": 246,
    "start_time": "2024-02-18T16:43:23.070Z"
   },
   {
    "duration": 11,
    "start_time": "2024-02-18T16:43:23.317Z"
   },
   {
    "duration": 151,
    "start_time": "2024-02-18T16:43:23.330Z"
   },
   {
    "duration": 1274884,
    "start_time": "2024-02-18T16:43:23.482Z"
   },
   {
    "duration": 58,
    "start_time": "2024-02-18T17:04:38.367Z"
   },
   {
    "duration": 7,
    "start_time": "2024-02-18T17:04:38.427Z"
   },
   {
    "duration": 3,
    "start_time": "2024-02-18T17:04:38.437Z"
   },
   {
    "duration": 327,
    "start_time": "2024-02-18T17:04:38.441Z"
   },
   {
    "duration": 55,
    "start_time": "2024-02-18T17:04:38.770Z"
   },
   {
    "duration": 275,
    "start_time": "2024-02-18T17:04:38.826Z"
   },
   {
    "duration": 5,
    "start_time": "2024-02-18T17:04:39.103Z"
   },
   {
    "duration": 979,
    "start_time": "2024-02-18T17:04:39.109Z"
   },
   {
    "duration": 9342,
    "start_time": "2024-02-19T12:35:47.157Z"
   },
   {
    "duration": 1769,
    "start_time": "2024-02-19T12:35:56.502Z"
   },
   {
    "duration": 3313,
    "start_time": "2024-02-19T12:35:58.272Z"
   },
   {
    "duration": 13,
    "start_time": "2024-02-19T12:36:01.587Z"
   },
   {
    "duration": 16,
    "start_time": "2024-02-19T12:36:01.602Z"
   },
   {
    "duration": 46,
    "start_time": "2024-02-19T12:36:01.620Z"
   },
   {
    "duration": 49,
    "start_time": "2024-02-19T12:36:01.668Z"
   },
   {
    "duration": 245,
    "start_time": "2024-02-19T12:36:01.718Z"
   },
   {
    "duration": 14,
    "start_time": "2024-02-19T12:36:01.965Z"
   },
   {
    "duration": 594,
    "start_time": "2024-02-19T12:36:01.982Z"
   },
   {
    "duration": 0,
    "start_time": "2024-02-19T12:46:43.800Z"
   },
   {
    "duration": 0,
    "start_time": "2024-02-19T12:46:43.801Z"
   },
   {
    "duration": 0,
    "start_time": "2024-02-19T12:46:43.802Z"
   },
   {
    "duration": 0,
    "start_time": "2024-02-19T12:46:43.803Z"
   },
   {
    "duration": 0,
    "start_time": "2024-02-19T12:46:43.804Z"
   },
   {
    "duration": 0,
    "start_time": "2024-02-19T12:46:43.805Z"
   },
   {
    "duration": 0,
    "start_time": "2024-02-19T12:46:43.806Z"
   },
   {
    "duration": 0,
    "start_time": "2024-02-19T12:46:43.807Z"
   },
   {
    "duration": 0,
    "start_time": "2024-02-19T12:46:43.807Z"
   },
   {
    "duration": 0,
    "start_time": "2024-02-19T12:46:43.809Z"
   },
   {
    "duration": 0,
    "start_time": "2024-02-19T12:46:43.809Z"
   },
   {
    "duration": 0,
    "start_time": "2024-02-19T12:46:43.810Z"
   },
   {
    "duration": 0,
    "start_time": "2024-02-19T12:46:43.811Z"
   },
   {
    "duration": 5530,
    "start_time": "2024-02-19T12:46:53.946Z"
   },
   {
    "duration": 1501,
    "start_time": "2024-02-19T12:46:59.479Z"
   },
   {
    "duration": 869,
    "start_time": "2024-02-19T12:47:00.981Z"
   },
   {
    "duration": 17,
    "start_time": "2024-02-19T12:47:01.852Z"
   },
   {
    "duration": 34,
    "start_time": "2024-02-19T12:47:01.871Z"
   },
   {
    "duration": 35,
    "start_time": "2024-02-19T12:47:01.907Z"
   },
   {
    "duration": 89,
    "start_time": "2024-02-19T12:47:01.944Z"
   },
   {
    "duration": 253,
    "start_time": "2024-02-19T12:47:02.036Z"
   },
   {
    "duration": 12,
    "start_time": "2024-02-19T12:47:02.291Z"
   },
   {
    "duration": 287,
    "start_time": "2024-02-19T12:47:02.305Z"
   },
   {
    "duration": 1270637,
    "start_time": "2024-02-19T12:47:02.594Z"
   },
   {
    "duration": 54,
    "start_time": "2024-02-19T13:08:13.234Z"
   },
   {
    "duration": 6,
    "start_time": "2024-02-19T13:08:13.291Z"
   },
   {
    "duration": 107,
    "start_time": "2024-02-19T14:02:22.697Z"
   },
   {
    "duration": 3,
    "start_time": "2024-02-19T14:10:48.249Z"
   },
   {
    "duration": 3,
    "start_time": "2024-02-19T14:10:56.702Z"
   },
   {
    "duration": 373,
    "start_time": "2024-02-19T14:10:57.516Z"
   },
   {
    "duration": 227,
    "start_time": "2024-02-19T14:11:02.631Z"
   },
   {
    "duration": 3,
    "start_time": "2024-02-19T14:11:03.980Z"
   },
   {
    "duration": 133,
    "start_time": "2024-02-19T14:15:59.183Z"
   },
   {
    "duration": 5405,
    "start_time": "2024-02-19T14:16:07.369Z"
   },
   {
    "duration": 1367,
    "start_time": "2024-02-19T14:16:12.777Z"
   },
   {
    "duration": 907,
    "start_time": "2024-02-19T14:16:14.145Z"
   },
   {
    "duration": 89,
    "start_time": "2024-02-19T14:16:15.054Z"
   },
   {
    "duration": 3,
    "start_time": "2024-02-19T14:16:15.144Z"
   },
   {
    "duration": 16,
    "start_time": "2024-02-19T14:16:15.148Z"
   },
   {
    "duration": 53,
    "start_time": "2024-02-19T14:16:15.166Z"
   },
   {
    "duration": 267,
    "start_time": "2024-02-19T14:16:15.221Z"
   },
   {
    "duration": 14,
    "start_time": "2024-02-19T14:16:15.490Z"
   },
   {
    "duration": 157,
    "start_time": "2024-02-19T14:16:15.506Z"
   },
   {
    "duration": 1283451,
    "start_time": "2024-02-19T14:16:15.665Z"
   },
   {
    "duration": 62,
    "start_time": "2024-02-19T14:37:39.118Z"
   },
   {
    "duration": 6,
    "start_time": "2024-02-19T14:37:39.183Z"
   },
   {
    "duration": 20,
    "start_time": "2024-02-19T14:37:39.191Z"
   },
   {
    "duration": 356,
    "start_time": "2024-02-19T14:37:39.212Z"
   },
   {
    "duration": 4,
    "start_time": "2024-02-19T14:37:39.570Z"
   },
   {
    "duration": 9,
    "start_time": "2024-02-19T14:37:39.576Z"
   },
   {
    "duration": 163,
    "start_time": "2024-02-19T14:37:39.586Z"
   },
   {
    "duration": 0,
    "start_time": "2024-02-19T14:37:39.751Z"
   },
   {
    "duration": 162,
    "start_time": "2024-02-19T14:44:46.075Z"
   },
   {
    "duration": 43,
    "start_time": "2024-02-19T14:45:59.227Z"
   },
   {
    "duration": 50,
    "start_time": "2024-02-19T14:46:18.904Z"
   },
   {
    "duration": 189,
    "start_time": "2024-02-19T14:46:30.856Z"
   },
   {
    "duration": 45,
    "start_time": "2024-02-19T14:46:45.272Z"
   },
   {
    "duration": 330,
    "start_time": "2024-02-19T15:02:40.238Z"
   },
   {
    "duration": 4,
    "start_time": "2024-02-19T15:02:49.657Z"
   },
   {
    "duration": 3,
    "start_time": "2024-02-19T15:02:50.912Z"
   },
   {
    "duration": 51,
    "start_time": "2024-02-19T15:02:53.154Z"
   },
   {
    "duration": 4,
    "start_time": "2024-02-19T15:10:30.750Z"
   },
   {
    "duration": 4,
    "start_time": "2024-02-19T15:10:38.502Z"
   },
   {
    "duration": 4,
    "start_time": "2024-02-19T15:10:49.042Z"
   },
   {
    "duration": 4,
    "start_time": "2024-02-19T15:12:32.113Z"
   },
   {
    "duration": 12,
    "start_time": "2024-02-19T15:12:37.991Z"
   },
   {
    "duration": 3,
    "start_time": "2024-02-19T15:12:40.247Z"
   },
   {
    "duration": 8,
    "start_time": "2024-02-19T15:12:52.638Z"
   },
   {
    "duration": 5,
    "start_time": "2024-02-19T15:12:59.313Z"
   },
   {
    "duration": 14,
    "start_time": "2024-02-19T15:13:21.056Z"
   },
   {
    "duration": 10,
    "start_time": "2024-02-19T15:13:24.756Z"
   },
   {
    "duration": 58,
    "start_time": "2024-02-19T15:22:09.140Z"
   },
   {
    "duration": 59,
    "start_time": "2024-02-19T15:25:09.117Z"
   },
   {
    "duration": 7,
    "start_time": "2024-02-19T15:26:36.435Z"
   },
   {
    "duration": 362,
    "start_time": "2024-02-19T15:26:41.405Z"
   },
   {
    "duration": 337,
    "start_time": "2024-02-19T15:26:48.312Z"
   },
   {
    "duration": 2,
    "start_time": "2024-02-19T15:26:49.506Z"
   },
   {
    "duration": 5599,
    "start_time": "2024-02-19T15:27:09.303Z"
   },
   {
    "duration": 1477,
    "start_time": "2024-02-19T15:27:14.904Z"
   },
   {
    "duration": 874,
    "start_time": "2024-02-19T15:27:16.383Z"
   },
   {
    "duration": 86,
    "start_time": "2024-02-19T15:27:17.266Z"
   },
   {
    "duration": 3,
    "start_time": "2024-02-19T15:27:17.354Z"
   },
   {
    "duration": 14,
    "start_time": "2024-02-19T15:27:17.368Z"
   },
   {
    "duration": 74,
    "start_time": "2024-02-19T15:27:17.383Z"
   },
   {
    "duration": 278,
    "start_time": "2024-02-19T15:27:17.461Z"
   },
   {
    "duration": 12,
    "start_time": "2024-02-19T15:27:17.741Z"
   },
   {
    "duration": 251,
    "start_time": "2024-02-19T15:27:17.758Z"
   },
   {
    "duration": 1370378,
    "start_time": "2024-02-19T15:27:18.010Z"
   },
   {
    "duration": 47,
    "start_time": "2024-02-19T15:50:08.391Z"
   },
   {
    "duration": 26,
    "start_time": "2024-02-19T15:50:08.440Z"
   },
   {
    "duration": 9,
    "start_time": "2024-02-19T15:50:08.471Z"
   },
   {
    "duration": 355,
    "start_time": "2024-02-19T15:50:08.481Z"
   },
   {
    "duration": 5,
    "start_time": "2024-02-19T15:50:08.838Z"
   },
   {
    "duration": 31,
    "start_time": "2024-02-19T15:50:08.844Z"
   },
   {
    "duration": 263997,
    "start_time": "2024-02-19T15:50:08.877Z"
   },
   {
    "duration": 162,
    "start_time": "2024-02-19T16:02:11.557Z"
   },
   {
    "duration": 5636,
    "start_time": "2024-02-19T16:11:05.756Z"
   },
   {
    "duration": 1409,
    "start_time": "2024-02-19T16:11:11.395Z"
   },
   {
    "duration": 876,
    "start_time": "2024-02-19T16:11:12.806Z"
   },
   {
    "duration": 93,
    "start_time": "2024-02-19T16:11:13.684Z"
   },
   {
    "duration": 3,
    "start_time": "2024-02-19T16:11:13.779Z"
   },
   {
    "duration": 6,
    "start_time": "2024-02-19T16:11:13.784Z"
   },
   {
    "duration": 43,
    "start_time": "2024-02-19T16:11:13.792Z"
   },
   {
    "duration": 267,
    "start_time": "2024-02-19T16:11:13.837Z"
   },
   {
    "duration": 12,
    "start_time": "2024-02-19T16:11:14.105Z"
   },
   {
    "duration": 225,
    "start_time": "2024-02-19T16:11:14.119Z"
   },
   {
    "duration": 1356655,
    "start_time": "2024-02-19T16:11:14.346Z"
   },
   {
    "duration": 66,
    "start_time": "2024-02-19T16:33:51.003Z"
   },
   {
    "duration": 7,
    "start_time": "2024-02-19T16:33:51.072Z"
   },
   {
    "duration": 3,
    "start_time": "2024-02-19T16:33:51.081Z"
   },
   {
    "duration": 367,
    "start_time": "2024-02-19T16:33:51.085Z"
   },
   {
    "duration": 8,
    "start_time": "2024-02-19T16:33:51.454Z"
   },
   {
    "duration": 3,
    "start_time": "2024-02-19T16:33:51.464Z"
   },
   {
    "duration": 609799,
    "start_time": "2024-02-19T16:33:51.468Z"
   },
   {
    "duration": 1509420,
    "start_time": "2024-02-19T16:44:01.269Z"
   },
   {
    "duration": 135,
    "start_time": "2024-02-19T17:09:10.691Z"
   },
   {
    "duration": 0,
    "start_time": "2024-02-19T17:09:10.828Z"
   },
   {
    "duration": 0,
    "start_time": "2024-02-19T17:09:10.829Z"
   },
   {
    "duration": 0,
    "start_time": "2024-02-19T17:09:10.830Z"
   },
   {
    "duration": 0,
    "start_time": "2024-02-19T17:09:10.832Z"
   },
   {
    "duration": 181349,
    "start_time": "2024-02-19T17:11:39.442Z"
   },
   {
    "duration": 200104,
    "start_time": "2024-02-19T17:14:40.793Z"
   },
   {
    "duration": 0,
    "start_time": "2024-02-19T17:18:00.899Z"
   },
   {
    "duration": 2,
    "start_time": "2024-02-19T17:18:25.939Z"
   },
   {
    "duration": 5617,
    "start_time": "2024-02-19T17:18:40.580Z"
   },
   {
    "duration": 1414,
    "start_time": "2024-02-19T17:18:46.199Z"
   },
   {
    "duration": 890,
    "start_time": "2024-02-19T17:18:47.615Z"
   },
   {
    "duration": 87,
    "start_time": "2024-02-19T17:18:48.506Z"
   },
   {
    "duration": 3,
    "start_time": "2024-02-19T17:18:48.595Z"
   },
   {
    "duration": 11,
    "start_time": "2024-02-19T17:18:48.599Z"
   },
   {
    "duration": 41,
    "start_time": "2024-02-19T17:18:48.611Z"
   },
   {
    "duration": 270,
    "start_time": "2024-02-19T17:18:48.659Z"
   },
   {
    "duration": 12,
    "start_time": "2024-02-19T17:18:48.931Z"
   },
   {
    "duration": 185,
    "start_time": "2024-02-19T17:18:48.945Z"
   },
   {
    "duration": 1375457,
    "start_time": "2024-02-19T17:18:49.131Z"
   },
   {
    "duration": 47,
    "start_time": "2024-02-19T17:41:44.589Z"
   },
   {
    "duration": 32,
    "start_time": "2024-02-19T17:41:44.638Z"
   },
   {
    "duration": 2,
    "start_time": "2024-02-19T17:41:44.674Z"
   },
   {
    "duration": 339,
    "start_time": "2024-02-19T17:41:44.677Z"
   },
   {
    "duration": 5,
    "start_time": "2024-02-19T17:41:45.018Z"
   },
   {
    "duration": 29,
    "start_time": "2024-02-19T17:41:45.024Z"
   },
   {
    "duration": 628212,
    "start_time": "2024-02-19T17:41:45.054Z"
   },
   {
    "duration": 3,
    "start_time": "2024-02-19T17:52:13.270Z"
   },
   {
    "duration": 177866,
    "start_time": "2024-02-19T17:52:13.275Z"
   },
   {
    "duration": 1091632,
    "start_time": "2024-02-19T17:55:11.143Z"
   },
   {
    "duration": 3540629,
    "start_time": "2024-02-19T18:13:22.776Z"
   },
   {
    "duration": 11,
    "start_time": "2024-02-19T19:12:23.406Z"
   },
   {
    "duration": 2320,
    "start_time": "2024-02-20T00:48:31.154Z"
   },
   {
    "duration": 103,
    "start_time": "2024-02-20T00:50:05.780Z"
   },
   {
    "duration": 2270,
    "start_time": "2024-02-20T00:50:10.808Z"
   },
   {
    "duration": 9890,
    "start_time": "2024-05-07T20:46:14.337Z"
   },
   {
    "duration": 1682,
    "start_time": "2024-05-07T20:46:24.229Z"
   },
   {
    "duration": 2290,
    "start_time": "2024-05-07T20:46:25.913Z"
   },
   {
    "duration": 82,
    "start_time": "2024-05-07T20:46:28.205Z"
   },
   {
    "duration": 3,
    "start_time": "2024-05-07T20:46:28.289Z"
   },
   {
    "duration": 5,
    "start_time": "2024-05-07T20:46:28.293Z"
   },
   {
    "duration": 38,
    "start_time": "2024-05-07T20:46:28.299Z"
   },
   {
    "duration": 282,
    "start_time": "2024-05-07T20:46:28.338Z"
   },
   {
    "duration": 12,
    "start_time": "2024-05-07T20:46:28.622Z"
   },
   {
    "duration": 487,
    "start_time": "2024-05-07T20:46:28.636Z"
   },
   {
    "duration": 1389259,
    "start_time": "2024-05-07T20:46:29.125Z"
   },
   {
    "duration": 47,
    "start_time": "2024-05-07T21:09:38.386Z"
   },
   {
    "duration": 7,
    "start_time": "2024-05-07T21:09:38.435Z"
   },
   {
    "duration": 22,
    "start_time": "2024-05-07T21:09:38.444Z"
   },
   {
    "duration": 380,
    "start_time": "2024-05-07T21:09:38.467Z"
   },
   {
    "duration": 12,
    "start_time": "2024-05-07T21:09:38.849Z"
   },
   {
    "duration": 19,
    "start_time": "2024-05-07T21:09:38.862Z"
   },
   {
    "duration": 5586,
    "start_time": "2024-05-07T21:11:21.374Z"
   },
   {
    "duration": 1407,
    "start_time": "2024-05-07T21:11:26.963Z"
   },
   {
    "duration": 909,
    "start_time": "2024-05-07T21:11:28.372Z"
   },
   {
    "duration": 98,
    "start_time": "2024-05-07T21:11:29.283Z"
   },
   {
    "duration": 3,
    "start_time": "2024-05-07T21:11:29.383Z"
   },
   {
    "duration": 6,
    "start_time": "2024-05-07T21:11:29.388Z"
   },
   {
    "duration": 39,
    "start_time": "2024-05-07T21:11:29.395Z"
   },
   {
    "duration": 277,
    "start_time": "2024-05-07T21:11:29.437Z"
   },
   {
    "duration": 13,
    "start_time": "2024-05-07T21:11:29.716Z"
   },
   {
    "duration": 160,
    "start_time": "2024-05-07T21:11:29.731Z"
   },
   {
    "duration": 1387407,
    "start_time": "2024-05-07T21:11:29.893Z"
   },
   {
    "duration": 46,
    "start_time": "2024-05-07T21:34:37.301Z"
   },
   {
    "duration": 14,
    "start_time": "2024-05-07T21:34:37.349Z"
   },
   {
    "duration": 4,
    "start_time": "2024-05-07T21:34:37.364Z"
   },
   {
    "duration": 368,
    "start_time": "2024-05-07T21:34:37.369Z"
   },
   {
    "duration": 5,
    "start_time": "2024-05-07T21:34:37.738Z"
   },
   {
    "duration": 634520,
    "start_time": "2024-05-07T21:34:37.745Z"
   },
   {
    "duration": 184281,
    "start_time": "2024-05-07T21:45:12.267Z"
   },
   {
    "duration": 1112612,
    "start_time": "2024-05-07T21:48:16.550Z"
   },
   {
    "duration": 2934546,
    "start_time": "2024-05-07T22:06:49.163Z"
   },
   {
    "duration": 10,
    "start_time": "2024-05-07T22:55:43.711Z"
   },
   {
    "duration": 2429,
    "start_time": "2024-05-07T22:55:43.761Z"
   }
  ],
  "kernelspec": {
   "display_name": "Python 3 (ipykernel)",
   "language": "python",
   "name": "python3"
  },
  "language_info": {
   "codemirror_mode": {
    "name": "ipython",
    "version": 3
   },
   "file_extension": ".py",
   "mimetype": "text/x-python",
   "name": "python",
   "nbconvert_exporter": "python",
   "pygments_lexer": "ipython3",
   "version": "3.9.5"
  },
  "toc": {
   "base_numbering": 1,
   "nav_menu": {},
   "number_sections": true,
   "sideBar": true,
   "skip_h1_title": true,
   "title_cell": "Содержание",
   "title_sidebar": "Contents",
   "toc_cell": true,
   "toc_position": {
    "height": "calc(100% - 180px)",
    "left": "10px",
    "top": "150px",
    "width": "165px"
   },
   "toc_section_display": true,
   "toc_window_display": true
  }
 },
 "nbformat": 4,
 "nbformat_minor": 2
}
