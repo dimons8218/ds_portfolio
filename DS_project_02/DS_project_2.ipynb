{
 "cells": [
  {
   "cell_type": "markdown",
   "id": "40013636",
   "metadata": {
    "deletable": false,
    "editable": false,
    "id": "c81daeeb"
   },
   "source": [
    "# Исследование надежности заемщиков\n"
   ]
  },
  {
   "cell_type": "markdown",
   "id": "b82d2fdd",
   "metadata": {
    "deletable": false,
    "editable": false,
    "id": "827c20bf"
   },
   "source": [
    "Во второй части проекта вы выполните шаги 3 и 4. Их вручную проверит ревьюер.\n",
    "Чтобы вам не пришлось писать код заново для шагов 1 и 2, мы добавили авторские решения в ячейки с кодом. \n",
    "\n"
   ]
  },
  {
   "cell_type": "markdown",
   "id": "293cf30a",
   "metadata": {
    "deletable": false,
    "editable": false,
    "id": "744d7639"
   },
   "source": [
    "## Откройте таблицу и изучите общую информацию о данных"
   ]
  },
  {
   "cell_type": "markdown",
   "id": "c76ea4b1",
   "metadata": {
    "deletable": false,
    "editable": false,
    "id": "e7a14c31"
   },
   "source": [
    "**Задание 1. Импортируйте библиотеку pandas. Считайте данные из csv-файла в датафрейм и сохраните в переменную `data`. Путь к файлу:**\n",
    "\n",
    "`/datasets/data.csv`"
   ]
  },
  {
   "cell_type": "code",
   "execution_count": 1,
   "id": "f96b6523",
   "metadata": {
    "deletable": false,
    "id": "7bcf75c9"
   },
   "outputs": [],
   "source": [
    "import pandas as pd\n",
    "\n",
    "try:\n",
    "    data = pd.read_csv('/datasets/data.csv')\n",
    "except:\n",
    "    data = pd.read_csv('https://code.s3.yandex.net/datasets/data.csv')"
   ]
  },
  {
   "cell_type": "markdown",
   "id": "7decd105",
   "metadata": {
    "deletable": false,
    "editable": false,
    "id": "b8038fe3"
   },
   "source": [
    "**Задание 2. Выведите первые 20 строчек датафрейма `data` на экран.**"
   ]
  },
  {
   "cell_type": "code",
   "execution_count": 2,
   "id": "ef3111d0",
   "metadata": {
    "deletable": false,
    "id": "2a7cab99",
    "outputId": "1a8f3ef2-d323-4ec2-ddf7-89670b5944c4"
   },
   "outputs": [
    {
     "data": {
      "text/html": [
       "<div>\n",
       "<style scoped>\n",
       "    .dataframe tbody tr th:only-of-type {\n",
       "        vertical-align: middle;\n",
       "    }\n",
       "\n",
       "    .dataframe tbody tr th {\n",
       "        vertical-align: top;\n",
       "    }\n",
       "\n",
       "    .dataframe thead th {\n",
       "        text-align: right;\n",
       "    }\n",
       "</style>\n",
       "<table border=\"1\" class=\"dataframe\">\n",
       "  <thead>\n",
       "    <tr style=\"text-align: right;\">\n",
       "      <th></th>\n",
       "      <th>children</th>\n",
       "      <th>days_employed</th>\n",
       "      <th>dob_years</th>\n",
       "      <th>education</th>\n",
       "      <th>education_id</th>\n",
       "      <th>family_status</th>\n",
       "      <th>family_status_id</th>\n",
       "      <th>gender</th>\n",
       "      <th>income_type</th>\n",
       "      <th>debt</th>\n",
       "      <th>total_income</th>\n",
       "      <th>purpose</th>\n",
       "    </tr>\n",
       "  </thead>\n",
       "  <tbody>\n",
       "    <tr>\n",
       "      <th>0</th>\n",
       "      <td>1</td>\n",
       "      <td>-8437.673028</td>\n",
       "      <td>42</td>\n",
       "      <td>высшее</td>\n",
       "      <td>0</td>\n",
       "      <td>женат / замужем</td>\n",
       "      <td>0</td>\n",
       "      <td>F</td>\n",
       "      <td>сотрудник</td>\n",
       "      <td>0</td>\n",
       "      <td>253875.639453</td>\n",
       "      <td>покупка жилья</td>\n",
       "    </tr>\n",
       "    <tr>\n",
       "      <th>1</th>\n",
       "      <td>1</td>\n",
       "      <td>-4024.803754</td>\n",
       "      <td>36</td>\n",
       "      <td>среднее</td>\n",
       "      <td>1</td>\n",
       "      <td>женат / замужем</td>\n",
       "      <td>0</td>\n",
       "      <td>F</td>\n",
       "      <td>сотрудник</td>\n",
       "      <td>0</td>\n",
       "      <td>112080.014102</td>\n",
       "      <td>приобретение автомобиля</td>\n",
       "    </tr>\n",
       "    <tr>\n",
       "      <th>2</th>\n",
       "      <td>0</td>\n",
       "      <td>-5623.422610</td>\n",
       "      <td>33</td>\n",
       "      <td>Среднее</td>\n",
       "      <td>1</td>\n",
       "      <td>женат / замужем</td>\n",
       "      <td>0</td>\n",
       "      <td>M</td>\n",
       "      <td>сотрудник</td>\n",
       "      <td>0</td>\n",
       "      <td>145885.952297</td>\n",
       "      <td>покупка жилья</td>\n",
       "    </tr>\n",
       "    <tr>\n",
       "      <th>3</th>\n",
       "      <td>3</td>\n",
       "      <td>-4124.747207</td>\n",
       "      <td>32</td>\n",
       "      <td>среднее</td>\n",
       "      <td>1</td>\n",
       "      <td>женат / замужем</td>\n",
       "      <td>0</td>\n",
       "      <td>M</td>\n",
       "      <td>сотрудник</td>\n",
       "      <td>0</td>\n",
       "      <td>267628.550329</td>\n",
       "      <td>дополнительное образование</td>\n",
       "    </tr>\n",
       "    <tr>\n",
       "      <th>4</th>\n",
       "      <td>0</td>\n",
       "      <td>340266.072047</td>\n",
       "      <td>53</td>\n",
       "      <td>среднее</td>\n",
       "      <td>1</td>\n",
       "      <td>гражданский брак</td>\n",
       "      <td>1</td>\n",
       "      <td>F</td>\n",
       "      <td>пенсионер</td>\n",
       "      <td>0</td>\n",
       "      <td>158616.077870</td>\n",
       "      <td>сыграть свадьбу</td>\n",
       "    </tr>\n",
       "    <tr>\n",
       "      <th>5</th>\n",
       "      <td>0</td>\n",
       "      <td>-926.185831</td>\n",
       "      <td>27</td>\n",
       "      <td>высшее</td>\n",
       "      <td>0</td>\n",
       "      <td>гражданский брак</td>\n",
       "      <td>1</td>\n",
       "      <td>M</td>\n",
       "      <td>компаньон</td>\n",
       "      <td>0</td>\n",
       "      <td>255763.565419</td>\n",
       "      <td>покупка жилья</td>\n",
       "    </tr>\n",
       "    <tr>\n",
       "      <th>6</th>\n",
       "      <td>0</td>\n",
       "      <td>-2879.202052</td>\n",
       "      <td>43</td>\n",
       "      <td>высшее</td>\n",
       "      <td>0</td>\n",
       "      <td>женат / замужем</td>\n",
       "      <td>0</td>\n",
       "      <td>F</td>\n",
       "      <td>компаньон</td>\n",
       "      <td>0</td>\n",
       "      <td>240525.971920</td>\n",
       "      <td>операции с жильем</td>\n",
       "    </tr>\n",
       "    <tr>\n",
       "      <th>7</th>\n",
       "      <td>0</td>\n",
       "      <td>-152.779569</td>\n",
       "      <td>50</td>\n",
       "      <td>СРЕДНЕЕ</td>\n",
       "      <td>1</td>\n",
       "      <td>женат / замужем</td>\n",
       "      <td>0</td>\n",
       "      <td>M</td>\n",
       "      <td>сотрудник</td>\n",
       "      <td>0</td>\n",
       "      <td>135823.934197</td>\n",
       "      <td>образование</td>\n",
       "    </tr>\n",
       "    <tr>\n",
       "      <th>8</th>\n",
       "      <td>2</td>\n",
       "      <td>-6929.865299</td>\n",
       "      <td>35</td>\n",
       "      <td>ВЫСШЕЕ</td>\n",
       "      <td>0</td>\n",
       "      <td>гражданский брак</td>\n",
       "      <td>1</td>\n",
       "      <td>F</td>\n",
       "      <td>сотрудник</td>\n",
       "      <td>0</td>\n",
       "      <td>95856.832424</td>\n",
       "      <td>на проведение свадьбы</td>\n",
       "    </tr>\n",
       "    <tr>\n",
       "      <th>9</th>\n",
       "      <td>0</td>\n",
       "      <td>-2188.756445</td>\n",
       "      <td>41</td>\n",
       "      <td>среднее</td>\n",
       "      <td>1</td>\n",
       "      <td>женат / замужем</td>\n",
       "      <td>0</td>\n",
       "      <td>M</td>\n",
       "      <td>сотрудник</td>\n",
       "      <td>0</td>\n",
       "      <td>144425.938277</td>\n",
       "      <td>покупка жилья для семьи</td>\n",
       "    </tr>\n",
       "    <tr>\n",
       "      <th>10</th>\n",
       "      <td>2</td>\n",
       "      <td>-4171.483647</td>\n",
       "      <td>36</td>\n",
       "      <td>высшее</td>\n",
       "      <td>0</td>\n",
       "      <td>женат / замужем</td>\n",
       "      <td>0</td>\n",
       "      <td>M</td>\n",
       "      <td>компаньон</td>\n",
       "      <td>0</td>\n",
       "      <td>113943.491460</td>\n",
       "      <td>покупка недвижимости</td>\n",
       "    </tr>\n",
       "    <tr>\n",
       "      <th>11</th>\n",
       "      <td>0</td>\n",
       "      <td>-792.701887</td>\n",
       "      <td>40</td>\n",
       "      <td>среднее</td>\n",
       "      <td>1</td>\n",
       "      <td>женат / замужем</td>\n",
       "      <td>0</td>\n",
       "      <td>F</td>\n",
       "      <td>сотрудник</td>\n",
       "      <td>0</td>\n",
       "      <td>77069.234271</td>\n",
       "      <td>покупка коммерческой недвижимости</td>\n",
       "    </tr>\n",
       "    <tr>\n",
       "      <th>12</th>\n",
       "      <td>0</td>\n",
       "      <td>NaN</td>\n",
       "      <td>65</td>\n",
       "      <td>среднее</td>\n",
       "      <td>1</td>\n",
       "      <td>гражданский брак</td>\n",
       "      <td>1</td>\n",
       "      <td>M</td>\n",
       "      <td>пенсионер</td>\n",
       "      <td>0</td>\n",
       "      <td>NaN</td>\n",
       "      <td>сыграть свадьбу</td>\n",
       "    </tr>\n",
       "    <tr>\n",
       "      <th>13</th>\n",
       "      <td>0</td>\n",
       "      <td>-1846.641941</td>\n",
       "      <td>54</td>\n",
       "      <td>неоконченное высшее</td>\n",
       "      <td>2</td>\n",
       "      <td>женат / замужем</td>\n",
       "      <td>0</td>\n",
       "      <td>F</td>\n",
       "      <td>сотрудник</td>\n",
       "      <td>0</td>\n",
       "      <td>130458.228857</td>\n",
       "      <td>приобретение автомобиля</td>\n",
       "    </tr>\n",
       "    <tr>\n",
       "      <th>14</th>\n",
       "      <td>0</td>\n",
       "      <td>-1844.956182</td>\n",
       "      <td>56</td>\n",
       "      <td>высшее</td>\n",
       "      <td>0</td>\n",
       "      <td>гражданский брак</td>\n",
       "      <td>1</td>\n",
       "      <td>F</td>\n",
       "      <td>компаньон</td>\n",
       "      <td>1</td>\n",
       "      <td>165127.911772</td>\n",
       "      <td>покупка жилой недвижимости</td>\n",
       "    </tr>\n",
       "    <tr>\n",
       "      <th>15</th>\n",
       "      <td>1</td>\n",
       "      <td>-972.364419</td>\n",
       "      <td>26</td>\n",
       "      <td>среднее</td>\n",
       "      <td>1</td>\n",
       "      <td>женат / замужем</td>\n",
       "      <td>0</td>\n",
       "      <td>F</td>\n",
       "      <td>сотрудник</td>\n",
       "      <td>0</td>\n",
       "      <td>116820.904450</td>\n",
       "      <td>строительство собственной недвижимости</td>\n",
       "    </tr>\n",
       "    <tr>\n",
       "      <th>16</th>\n",
       "      <td>0</td>\n",
       "      <td>-1719.934226</td>\n",
       "      <td>35</td>\n",
       "      <td>среднее</td>\n",
       "      <td>1</td>\n",
       "      <td>женат / замужем</td>\n",
       "      <td>0</td>\n",
       "      <td>F</td>\n",
       "      <td>сотрудник</td>\n",
       "      <td>0</td>\n",
       "      <td>289202.704229</td>\n",
       "      <td>недвижимость</td>\n",
       "    </tr>\n",
       "    <tr>\n",
       "      <th>17</th>\n",
       "      <td>0</td>\n",
       "      <td>-2369.999720</td>\n",
       "      <td>33</td>\n",
       "      <td>высшее</td>\n",
       "      <td>0</td>\n",
       "      <td>гражданский брак</td>\n",
       "      <td>1</td>\n",
       "      <td>M</td>\n",
       "      <td>сотрудник</td>\n",
       "      <td>0</td>\n",
       "      <td>90410.586745</td>\n",
       "      <td>строительство недвижимости</td>\n",
       "    </tr>\n",
       "    <tr>\n",
       "      <th>18</th>\n",
       "      <td>0</td>\n",
       "      <td>400281.136913</td>\n",
       "      <td>53</td>\n",
       "      <td>среднее</td>\n",
       "      <td>1</td>\n",
       "      <td>вдовец / вдова</td>\n",
       "      <td>2</td>\n",
       "      <td>F</td>\n",
       "      <td>пенсионер</td>\n",
       "      <td>0</td>\n",
       "      <td>56823.777243</td>\n",
       "      <td>на покупку подержанного автомобиля</td>\n",
       "    </tr>\n",
       "    <tr>\n",
       "      <th>19</th>\n",
       "      <td>0</td>\n",
       "      <td>-10038.818549</td>\n",
       "      <td>48</td>\n",
       "      <td>СРЕДНЕЕ</td>\n",
       "      <td>1</td>\n",
       "      <td>в разводе</td>\n",
       "      <td>3</td>\n",
       "      <td>F</td>\n",
       "      <td>сотрудник</td>\n",
       "      <td>0</td>\n",
       "      <td>242831.107982</td>\n",
       "      <td>на покупку своего автомобиля</td>\n",
       "    </tr>\n",
       "  </tbody>\n",
       "</table>\n",
       "</div>"
      ],
      "text/plain": [
       "    children  days_employed  dob_years            education  education_id  \\\n",
       "0          1   -8437.673028         42               высшее             0   \n",
       "1          1   -4024.803754         36              среднее             1   \n",
       "2          0   -5623.422610         33              Среднее             1   \n",
       "3          3   -4124.747207         32              среднее             1   \n",
       "4          0  340266.072047         53              среднее             1   \n",
       "5          0    -926.185831         27               высшее             0   \n",
       "6          0   -2879.202052         43               высшее             0   \n",
       "7          0    -152.779569         50              СРЕДНЕЕ             1   \n",
       "8          2   -6929.865299         35               ВЫСШЕЕ             0   \n",
       "9          0   -2188.756445         41              среднее             1   \n",
       "10         2   -4171.483647         36               высшее             0   \n",
       "11         0    -792.701887         40              среднее             1   \n",
       "12         0            NaN         65              среднее             1   \n",
       "13         0   -1846.641941         54  неоконченное высшее             2   \n",
       "14         0   -1844.956182         56               высшее             0   \n",
       "15         1    -972.364419         26              среднее             1   \n",
       "16         0   -1719.934226         35              среднее             1   \n",
       "17         0   -2369.999720         33               высшее             0   \n",
       "18         0  400281.136913         53              среднее             1   \n",
       "19         0  -10038.818549         48              СРЕДНЕЕ             1   \n",
       "\n",
       "       family_status  family_status_id gender income_type  debt  \\\n",
       "0    женат / замужем                 0      F   сотрудник     0   \n",
       "1    женат / замужем                 0      F   сотрудник     0   \n",
       "2    женат / замужем                 0      M   сотрудник     0   \n",
       "3    женат / замужем                 0      M   сотрудник     0   \n",
       "4   гражданский брак                 1      F   пенсионер     0   \n",
       "5   гражданский брак                 1      M   компаньон     0   \n",
       "6    женат / замужем                 0      F   компаньон     0   \n",
       "7    женат / замужем                 0      M   сотрудник     0   \n",
       "8   гражданский брак                 1      F   сотрудник     0   \n",
       "9    женат / замужем                 0      M   сотрудник     0   \n",
       "10   женат / замужем                 0      M   компаньон     0   \n",
       "11   женат / замужем                 0      F   сотрудник     0   \n",
       "12  гражданский брак                 1      M   пенсионер     0   \n",
       "13   женат / замужем                 0      F   сотрудник     0   \n",
       "14  гражданский брак                 1      F   компаньон     1   \n",
       "15   женат / замужем                 0      F   сотрудник     0   \n",
       "16   женат / замужем                 0      F   сотрудник     0   \n",
       "17  гражданский брак                 1      M   сотрудник     0   \n",
       "18    вдовец / вдова                 2      F   пенсионер     0   \n",
       "19         в разводе                 3      F   сотрудник     0   \n",
       "\n",
       "     total_income                                 purpose  \n",
       "0   253875.639453                           покупка жилья  \n",
       "1   112080.014102                 приобретение автомобиля  \n",
       "2   145885.952297                           покупка жилья  \n",
       "3   267628.550329              дополнительное образование  \n",
       "4   158616.077870                         сыграть свадьбу  \n",
       "5   255763.565419                           покупка жилья  \n",
       "6   240525.971920                       операции с жильем  \n",
       "7   135823.934197                             образование  \n",
       "8    95856.832424                   на проведение свадьбы  \n",
       "9   144425.938277                 покупка жилья для семьи  \n",
       "10  113943.491460                    покупка недвижимости  \n",
       "11   77069.234271       покупка коммерческой недвижимости  \n",
       "12            NaN                         сыграть свадьбу  \n",
       "13  130458.228857                 приобретение автомобиля  \n",
       "14  165127.911772              покупка жилой недвижимости  \n",
       "15  116820.904450  строительство собственной недвижимости  \n",
       "16  289202.704229                            недвижимость  \n",
       "17   90410.586745              строительство недвижимости  \n",
       "18   56823.777243      на покупку подержанного автомобиля  \n",
       "19  242831.107982            на покупку своего автомобиля  "
      ]
     },
     "execution_count": 2,
     "metadata": {},
     "output_type": "execute_result"
    }
   ],
   "source": [
    "data.head(20)"
   ]
  },
  {
   "cell_type": "markdown",
   "id": "b389d0a3",
   "metadata": {
    "deletable": false,
    "editable": false,
    "id": "1c12e233"
   },
   "source": [
    "**Задание 3. Выведите основную информацию о датафрейме с помощью метода `info()`.**"
   ]
  },
  {
   "cell_type": "code",
   "execution_count": 3,
   "id": "2ad13276",
   "metadata": {
    "deletable": false,
    "id": "2b757bca",
    "outputId": "15376089-8dad-46c9-b520-c05248d43158"
   },
   "outputs": [
    {
     "name": "stdout",
     "output_type": "stream",
     "text": [
      "<class 'pandas.core.frame.DataFrame'>\n",
      "RangeIndex: 21525 entries, 0 to 21524\n",
      "Data columns (total 12 columns):\n",
      " #   Column            Non-Null Count  Dtype  \n",
      "---  ------            --------------  -----  \n",
      " 0   children          21525 non-null  int64  \n",
      " 1   days_employed     19351 non-null  float64\n",
      " 2   dob_years         21525 non-null  int64  \n",
      " 3   education         21525 non-null  object \n",
      " 4   education_id      21525 non-null  int64  \n",
      " 5   family_status     21525 non-null  object \n",
      " 6   family_status_id  21525 non-null  int64  \n",
      " 7   gender            21525 non-null  object \n",
      " 8   income_type       21525 non-null  object \n",
      " 9   debt              21525 non-null  int64  \n",
      " 10  total_income      19351 non-null  float64\n",
      " 11  purpose           21525 non-null  object \n",
      "dtypes: float64(2), int64(5), object(5)\n",
      "memory usage: 2.0+ MB\n"
     ]
    }
   ],
   "source": [
    "data.info()"
   ]
  },
  {
   "cell_type": "markdown",
   "id": "bc3a0550",
   "metadata": {
    "deletable": false,
    "editable": false,
    "id": "333ec665"
   },
   "source": [
    "## Предобработка данных"
   ]
  },
  {
   "cell_type": "markdown",
   "id": "ecb7b47a",
   "metadata": {
    "deletable": false,
    "editable": false,
    "id": "02d92d53"
   },
   "source": [
    "### Удаление пропусков"
   ]
  },
  {
   "cell_type": "markdown",
   "id": "7cbfaf47",
   "metadata": {
    "deletable": false,
    "editable": false,
    "id": "cd84967c"
   },
   "source": [
    "**Задание 4. Выведите количество пропущенных значений для каждого столбца. Используйте комбинацию двух методов.**"
   ]
  },
  {
   "cell_type": "code",
   "execution_count": 4,
   "id": "37217357",
   "metadata": {
    "deletable": false,
    "id": "7f9b2309",
    "outputId": "81f4d817-781c-465c-ed15-91ce4446810d"
   },
   "outputs": [
    {
     "data": {
      "text/plain": [
       "children               0\n",
       "days_employed       2174\n",
       "dob_years              0\n",
       "education              0\n",
       "education_id           0\n",
       "family_status          0\n",
       "family_status_id       0\n",
       "gender                 0\n",
       "income_type            0\n",
       "debt                   0\n",
       "total_income        2174\n",
       "purpose                0\n",
       "dtype: int64"
      ]
     },
     "execution_count": 4,
     "metadata": {},
     "output_type": "execute_result"
    }
   ],
   "source": [
    "data.isna().sum()"
   ]
  },
  {
   "cell_type": "markdown",
   "id": "605122f2",
   "metadata": {
    "deletable": false,
    "editable": false,
    "id": "db86e27b"
   },
   "source": [
    "**Задание 5. В двух столбцах есть пропущенные значения. Один из них — `days_employed`. Пропуски в этом столбце вы обработаете на следующем этапе. Другой столбец с пропущенными значениями — `total_income` — хранит данные о доходах. На сумму дохода сильнее всего влияет тип занятости, поэтому заполнить пропуски в этом столбце нужно медианным значением по каждому типу из столбца `income_type`. Например, у человека с типом занятости `сотрудник` пропуск в столбце `total_income` должен быть заполнен медианным доходом среди всех записей с тем же типом.**"
   ]
  },
  {
   "cell_type": "code",
   "execution_count": 5,
   "id": "cea69be9",
   "metadata": {
    "deletable": false,
    "id": "42006a93"
   },
   "outputs": [],
   "source": [
    "for t in data['income_type'].unique():\n",
    "    data.loc[(data['income_type'] == t) & (data['total_income'].isna()), 'total_income'] = \\\n",
    "    data.loc[(data['income_type'] == t), 'total_income'].median()"
   ]
  },
  {
   "cell_type": "markdown",
   "id": "60a3d9ee",
   "metadata": {
    "deletable": false,
    "editable": false,
    "id": "89da5ece"
   },
   "source": [
    "### Обработка аномальных значений"
   ]
  },
  {
   "cell_type": "markdown",
   "id": "549e72a8",
   "metadata": {
    "deletable": false,
    "editable": false,
    "id": "57964554"
   },
   "source": [
    "**Задание 6. В данных могут встречаться артефакты (аномалии) — значения, которые не отражают действительность и появились по какой-то ошибке. таким артефактом будет отрицательное количество дней трудового стажа в столбце `days_employed`. Для реальных данных это нормально. Обработайте значения в этом столбце: замените все отрицательные значения положительными с помощью метода `abs()`.**"
   ]
  },
  {
   "cell_type": "code",
   "execution_count": 6,
   "id": "4913077f",
   "metadata": {
    "deletable": false,
    "id": "f6f055bf"
   },
   "outputs": [],
   "source": [
    "data['days_employed'] = data['days_employed'].abs()"
   ]
  },
  {
   "cell_type": "markdown",
   "id": "c22ee59f",
   "metadata": {
    "deletable": false,
    "editable": false,
    "id": "6107dd2f"
   },
   "source": [
    "**Задание 7. Для каждого типа занятости выведите медианное значение трудового стажа `days_employed` в днях.**"
   ]
  },
  {
   "cell_type": "code",
   "execution_count": 7,
   "id": "7f0a71f5",
   "metadata": {
    "deletable": false,
    "id": "85a5faf6",
    "outputId": "801ef80e-522b-4668-f34e-565af7432bcf"
   },
   "outputs": [
    {
     "data": {
      "text/plain": [
       "income_type\n",
       "безработный        366413.652744\n",
       "в декрете            3296.759962\n",
       "госслужащий          2689.368353\n",
       "компаньон            1547.382223\n",
       "пенсионер          365213.306266\n",
       "предприниматель       520.848083\n",
       "сотрудник            1574.202821\n",
       "студент               578.751554\n",
       "Name: days_employed, dtype: float64"
      ]
     },
     "execution_count": 7,
     "metadata": {},
     "output_type": "execute_result"
    }
   ],
   "source": [
    "data.groupby('income_type')['days_employed'].agg('median')"
   ]
  },
  {
   "cell_type": "markdown",
   "id": "58dda6a9",
   "metadata": {
    "deletable": false,
    "editable": false,
    "id": "38d1a030"
   },
   "source": [
    "У двух типов (безработные и пенсионеры) получатся аномально большие значения. Исправить такие значения сложно, поэтому оставьте их как есть. Тем более этот столбец не понадобится вам для исследования."
   ]
  },
  {
   "cell_type": "markdown",
   "id": "f94a0761",
   "metadata": {
    "deletable": false,
    "editable": false,
    "id": "d8a9f147"
   },
   "source": [
    "**Задание 8. Выведите перечень уникальных значений столбца `children`.**"
   ]
  },
  {
   "cell_type": "code",
   "execution_count": 8,
   "id": "00cc2020",
   "metadata": {
    "deletable": false,
    "id": "ef5056eb",
    "outputId": "6975b15c-7f95-4697-d16d-a0c79b657b03"
   },
   "outputs": [
    {
     "data": {
      "text/plain": [
       "array([ 1,  0,  3,  2, -1,  4, 20,  5])"
      ]
     },
     "execution_count": 8,
     "metadata": {},
     "output_type": "execute_result"
    }
   ],
   "source": [
    "data['children'].unique()"
   ]
  },
  {
   "cell_type": "markdown",
   "id": "c01d9391",
   "metadata": {
    "deletable": false,
    "editable": false,
    "id": "40b9ebf2"
   },
   "source": [
    "**Задание 9. В столбце `children` есть два аномальных значения. Удалите строки, в которых встречаются такие аномальные значения из датафрейма `data`.**"
   ]
  },
  {
   "cell_type": "code",
   "execution_count": 9,
   "id": "1000e0e3",
   "metadata": {
    "deletable": false,
    "id": "3ff9801d"
   },
   "outputs": [],
   "source": [
    "data = data[(data['children'] != -1) & (data['children'] != 20)]"
   ]
  },
  {
   "cell_type": "markdown",
   "id": "232e09dc",
   "metadata": {
    "deletable": false,
    "editable": false,
    "id": "bbc4d0ce"
   },
   "source": [
    "**Задание 10. Ещё раз выведите перечень уникальных значений столбца `children`, чтобы убедиться, что артефакты удалены.**"
   ]
  },
  {
   "cell_type": "code",
   "execution_count": 10,
   "id": "50288d26",
   "metadata": {
    "deletable": false,
    "id": "ad4fa8b7",
    "outputId": "b2097101-d49d-44d9-901b-32a65c9463d1"
   },
   "outputs": [
    {
     "data": {
      "text/plain": [
       "array([1, 0, 3, 2, 4, 5])"
      ]
     },
     "execution_count": 10,
     "metadata": {},
     "output_type": "execute_result"
    }
   ],
   "source": [
    "data['children'].unique()"
   ]
  },
  {
   "cell_type": "markdown",
   "id": "addc36de",
   "metadata": {
    "deletable": false,
    "editable": false,
    "id": "75440b63"
   },
   "source": [
    "### Удаление пропусков (продолжение)"
   ]
  },
  {
   "cell_type": "markdown",
   "id": "e0ea6907",
   "metadata": {
    "deletable": false,
    "editable": false,
    "id": "f4ea573f"
   },
   "source": [
    "**Задание 11. Заполните пропуски в столбце `days_employed` медианными значениями по каждого типа занятости `income_type`.**"
   ]
  },
  {
   "cell_type": "code",
   "execution_count": 11,
   "id": "222eabf2",
   "metadata": {
    "deletable": false,
    "id": "af6b1a7e"
   },
   "outputs": [],
   "source": [
    "for t in data['income_type'].unique():\n",
    "    data.loc[(data['income_type'] == t) & (data['days_employed'].isna()), 'days_employed'] = \\\n",
    "    data.loc[(data['income_type'] == t), 'days_employed'].median()"
   ]
  },
  {
   "cell_type": "markdown",
   "id": "d87ebf3e",
   "metadata": {
    "deletable": false,
    "editable": false,
    "id": "2753f40d"
   },
   "source": [
    "**Задание 12. Убедитесь, что все пропуски заполнены. Проверьте себя и ещё раз выведите количество пропущенных значений для каждого столбца с помощью двух методов.**"
   ]
  },
  {
   "cell_type": "code",
   "execution_count": 12,
   "id": "110642b1",
   "metadata": {
    "deletable": false,
    "id": "55f78bc2",
    "outputId": "8da1e4e1-358e-4e87-98c9-f261bce0a7b2"
   },
   "outputs": [
    {
     "data": {
      "text/plain": [
       "children            0\n",
       "days_employed       0\n",
       "dob_years           0\n",
       "education           0\n",
       "education_id        0\n",
       "family_status       0\n",
       "family_status_id    0\n",
       "gender              0\n",
       "income_type         0\n",
       "debt                0\n",
       "total_income        0\n",
       "purpose             0\n",
       "dtype: int64"
      ]
     },
     "execution_count": 12,
     "metadata": {},
     "output_type": "execute_result"
    }
   ],
   "source": [
    "data.isna().sum()"
   ]
  },
  {
   "cell_type": "markdown",
   "id": "a91c8afb",
   "metadata": {
    "deletable": false,
    "editable": false,
    "id": "ddc81e43"
   },
   "source": [
    "### Изменение типов данных"
   ]
  },
  {
   "cell_type": "markdown",
   "id": "e3b0b23b",
   "metadata": {
    "deletable": false,
    "editable": false,
    "id": "42d19d24"
   },
   "source": [
    "**Задание 13. Замените вещественный тип данных в столбце `total_income` на целочисленный с помощью метода `astype()`.**"
   ]
  },
  {
   "cell_type": "code",
   "execution_count": 13,
   "id": "04de5f72",
   "metadata": {
    "deletable": false,
    "id": "920b65ad"
   },
   "outputs": [],
   "source": [
    "data['total_income'] = data['total_income'].astype(int)"
   ]
  },
  {
   "cell_type": "markdown",
   "id": "1aab9e20",
   "metadata": {
    "deletable": false,
    "editable": false,
    "id": "80c420ba"
   },
   "source": [
    "### Обработка дубликатов"
   ]
  },
  {
   "cell_type": "markdown",
   "id": "e3c5e9ca",
   "metadata": {
    "deletable": false,
    "editable": false
   },
   "source": [
    "**Задание 14. Обработайте неявные дубликаты в столбце `education`. В этом столбце есть одни и те же значения, но записанные по-разному: с использованием заглавных и строчных букв. Приведите их к нижнему регистру. Проверьте остальные столбцы.**"
   ]
  },
  {
   "cell_type": "code",
   "execution_count": 14,
   "id": "ed0fb652",
   "metadata": {
    "deletable": false
   },
   "outputs": [],
   "source": [
    "data['education'] = data['education'].str.lower()"
   ]
  },
  {
   "cell_type": "markdown",
   "id": "955bcf4d",
   "metadata": {
    "deletable": false,
    "editable": false,
    "id": "dc587695"
   },
   "source": [
    "**Задание 15. Выведите на экран количество строк-дубликатов в данных. Если такие строки присутствуют, удалите их.**"
   ]
  },
  {
   "cell_type": "code",
   "execution_count": 15,
   "id": "747e24e0",
   "metadata": {
    "deletable": false,
    "id": "3ee445e4",
    "outputId": "9684deba-1934-42d1-99e1-cda61740f822"
   },
   "outputs": [
    {
     "data": {
      "text/plain": [
       "71"
      ]
     },
     "execution_count": 15,
     "metadata": {},
     "output_type": "execute_result"
    }
   ],
   "source": [
    "data.duplicated().sum()"
   ]
  },
  {
   "cell_type": "code",
   "execution_count": 16,
   "id": "02fca57a",
   "metadata": {
    "deletable": false,
    "id": "8575fe05"
   },
   "outputs": [],
   "source": [
    "data = data.drop_duplicates()"
   ]
  },
  {
   "cell_type": "markdown",
   "id": "38b7f1ae",
   "metadata": {
    "deletable": false,
    "editable": false,
    "id": "9904cf55"
   },
   "source": [
    "### Категоризация данных"
   ]
  },
  {
   "cell_type": "markdown",
   "id": "854a0a43",
   "metadata": {
    "deletable": false,
    "editable": false,
    "id": "72fcc8a2"
   },
   "source": [
    "**Задание 16. На основании диапазонов, указанных ниже, создайте в датафрейме `data` столбец `total_income_category` с категориями:**\n",
    "\n",
    "- 0–30000 — `'E'`;\n",
    "- 30001–50000 — `'D'`;\n",
    "- 50001–200000 — `'C'`;\n",
    "- 200001–1000000 — `'B'`;\n",
    "- 1000001 и выше — `'A'`.\n",
    "\n",
    "\n",
    "**Например, кредитополучателю с доходом 25000 нужно назначить категорию `'E'`, а клиенту, получающему 235000, — `'B'`. Используйте собственную функцию с именем `categorize_income()` и метод `apply()`.**"
   ]
  },
  {
   "cell_type": "code",
   "execution_count": 17,
   "id": "00555c15",
   "metadata": {
    "deletable": false,
    "id": "e1771346"
   },
   "outputs": [],
   "source": [
    "def categorize_income(income):\n",
    "    try:\n",
    "        if 0 <= income <= 30000:\n",
    "            return 'E'\n",
    "        elif 30001 <= income <= 50000:\n",
    "            return 'D'\n",
    "        elif 50001 <= income <= 200000:\n",
    "            return 'C'\n",
    "        elif 200001 <= income <= 1000000:\n",
    "            return 'B'\n",
    "        elif income >= 1000001:\n",
    "            return 'A'\n",
    "    except:\n",
    "        pass"
   ]
  },
  {
   "cell_type": "code",
   "execution_count": 18,
   "id": "a6e43b7d",
   "metadata": {
    "deletable": false,
    "id": "d5f3586d"
   },
   "outputs": [],
   "source": [
    "data['total_income_category'] = data['total_income'].apply(categorize_income)"
   ]
  },
  {
   "cell_type": "markdown",
   "id": "abff9a14",
   "metadata": {
    "deletable": false,
    "editable": false,
    "id": "dde49b5c"
   },
   "source": [
    "**Задание 17. Выведите на экран перечень уникальных целей взятия кредита из столбца `purpose`.**"
   ]
  },
  {
   "cell_type": "code",
   "execution_count": 19,
   "id": "bebc0b6f",
   "metadata": {
    "deletable": false,
    "id": "f67ce9b3",
    "outputId": "673c12d9-7d7e-4ae0-9812-c622c89dd244"
   },
   "outputs": [
    {
     "data": {
      "text/plain": [
       "array(['покупка жилья', 'приобретение автомобиля',\n",
       "       'дополнительное образование', 'сыграть свадьбу',\n",
       "       'операции с жильем', 'образование', 'на проведение свадьбы',\n",
       "       'покупка жилья для семьи', 'покупка недвижимости',\n",
       "       'покупка коммерческой недвижимости', 'покупка жилой недвижимости',\n",
       "       'строительство собственной недвижимости', 'недвижимость',\n",
       "       'строительство недвижимости', 'на покупку подержанного автомобиля',\n",
       "       'на покупку своего автомобиля',\n",
       "       'операции с коммерческой недвижимостью',\n",
       "       'строительство жилой недвижимости', 'жилье',\n",
       "       'операции со своей недвижимостью', 'автомобили',\n",
       "       'заняться образованием', 'сделка с подержанным автомобилем',\n",
       "       'получение образования', 'автомобиль', 'свадьба',\n",
       "       'получение дополнительного образования', 'покупка своего жилья',\n",
       "       'операции с недвижимостью', 'получение высшего образования',\n",
       "       'свой автомобиль', 'сделка с автомобилем',\n",
       "       'профильное образование', 'высшее образование',\n",
       "       'покупка жилья для сдачи', 'на покупку автомобиля', 'ремонт жилью',\n",
       "       'заняться высшим образованием'], dtype=object)"
      ]
     },
     "execution_count": 19,
     "metadata": {},
     "output_type": "execute_result"
    }
   ],
   "source": [
    "data['purpose'].unique()"
   ]
  },
  {
   "cell_type": "markdown",
   "id": "fb6d81dd",
   "metadata": {
    "deletable": false,
    "editable": false,
    "id": "85d0aef0"
   },
   "source": [
    "**Задание 18. Создайте функцию, которая на основании данных из столбца `purpose` сформирует новый столбец `purpose_category`, в который войдут следующие категории:**\n",
    "\n",
    "- `'операции с автомобилем'`,\n",
    "- `'операции с недвижимостью'`,\n",
    "- `'проведение свадьбы'`,\n",
    "- `'получение образования'`.\n",
    "\n",
    "**Например, если в столбце `purpose` находится подстрока `'на покупку автомобиля'`, то в столбце `purpose_category` должна появиться строка `'операции с автомобилем'`.**\n",
    "\n",
    "**Используйте собственную функцию с именем `categorize_purpose()` и метод `apply()`. Изучите данные в столбце `purpose` и определите, какие подстроки помогут вам правильно определить категорию.**"
   ]
  },
  {
   "cell_type": "code",
   "execution_count": 20,
   "id": "5a237348",
   "metadata": {
    "deletable": false,
    "id": "e149fab4"
   },
   "outputs": [],
   "source": [
    "def categorize_purpose(row):\n",
    "    try:\n",
    "        if 'автом' in row:\n",
    "            return 'операции с автомобилем'\n",
    "        elif 'жил' in row or 'недвиж' in row:\n",
    "            return 'операции с недвижимостью'\n",
    "        elif 'свад' in row:\n",
    "            return 'проведение свадьбы'\n",
    "        elif 'образов' in row:\n",
    "            return 'получение образования'\n",
    "    except:\n",
    "        return 'нет категории'"
   ]
  },
  {
   "cell_type": "code",
   "execution_count": 21,
   "id": "7ea05c5c",
   "metadata": {
    "deletable": false,
    "id": "bf36e69b"
   },
   "outputs": [],
   "source": [
    "data['purpose_category'] = data['purpose'].apply(categorize_purpose)"
   ]
  },
  {
   "cell_type": "markdown",
   "id": "f365a19d",
   "metadata": {
    "deletable": false,
    "editable": false,
    "id": "09b242bf"
   },
   "source": [
    "### Шаг 3. Исследуйте данные и ответьте на вопросы"
   ]
  },
  {
   "cell_type": "markdown",
   "id": "3531da82",
   "metadata": {
    "deletable": false,
    "editable": false,
    "id": "c5d66278"
   },
   "source": [
    "#### 3.1 Есть ли зависимость между количеством детей и возвратом кредита в срок?"
   ]
  },
  {
   "cell_type": "markdown",
   "id": "7030a911",
   "metadata": {},
   "source": [
    "Прежде чем непосредственно отвечать на поставленный вопрос, необходимо понять, какие уникальные значения присутствуют в столбце 'debt'. \n",
    "\n",
    "Для этого применим к этому столбцу метод unique():"
   ]
  },
  {
   "cell_type": "code",
   "execution_count": 22,
   "id": "da1ceae6",
   "metadata": {
    "deletable": false,
    "id": "2cacfc4a",
    "scrolled": true
   },
   "outputs": [
    {
     "data": {
      "text/plain": [
       "array([0, 1])"
      ]
     },
     "execution_count": 22,
     "metadata": {},
     "output_type": "execute_result"
    }
   ],
   "source": [
    "data['debt'].unique()"
   ]
  },
  {
   "cell_type": "markdown",
   "id": "3f2ad456",
   "metadata": {},
   "source": [
    "Как можно видеть, в столбце 'debt', означающем, имел ли клиент задолженность по возврату кредитов, имеется всего два значения: 0 и 1.\n",
    "\n",
    "В таком случае, логично предположить, что 0 - клиент не имел задолженность, а 1 - клиент имел задолженность, поскольку 0 обычно означает отсутствие чего-либо (False), а 1 - присутствие (True).\n",
    "\n",
    "Теперь перейдём непосредственно к ответу на вопрос.\n",
    "\n",
    "Создадим сводную таблицу debt_child_pivot, в которой будет три столбца: 'Всего кредитополучателей', 'Всего должников', 'Доля должников', отсортированных по стол,цу 'children' (в порядке возрастания).\n",
    "Для этого вызовем метод pivot_table(), где в качестве index возьмём столбец 'children', values - из столбца 'debt' и применим методы count(), sum() и mean()."
   ]
  },
  {
   "cell_type": "code",
   "execution_count": 23,
   "id": "f131313f",
   "metadata": {
    "scrolled": true
   },
   "outputs": [
    {
     "data": {
      "text/html": [
       "<div>\n",
       "<style scoped>\n",
       "    .dataframe tbody tr th:only-of-type {\n",
       "        vertical-align: middle;\n",
       "    }\n",
       "\n",
       "    .dataframe tbody tr th {\n",
       "        vertical-align: top;\n",
       "    }\n",
       "\n",
       "    .dataframe thead tr th {\n",
       "        text-align: left;\n",
       "    }\n",
       "\n",
       "    .dataframe thead tr:last-of-type th {\n",
       "        text-align: right;\n",
       "    }\n",
       "</style>\n",
       "<table border=\"1\" class=\"dataframe\">\n",
       "  <thead>\n",
       "    <tr>\n",
       "      <th></th>\n",
       "      <th>Всего кредитополучателей</th>\n",
       "      <th>Всего должников</th>\n",
       "      <th>Доля должников</th>\n",
       "    </tr>\n",
       "    <tr>\n",
       "      <th></th>\n",
       "      <th>debt</th>\n",
       "      <th>debt</th>\n",
       "      <th>debt</th>\n",
       "    </tr>\n",
       "    <tr>\n",
       "      <th>children</th>\n",
       "      <th></th>\n",
       "      <th></th>\n",
       "      <th></th>\n",
       "    </tr>\n",
       "  </thead>\n",
       "  <tbody>\n",
       "    <tr>\n",
       "      <th>0</th>\n",
       "      <td>14091</td>\n",
       "      <td>1063</td>\n",
       "      <td>0.075438</td>\n",
       "    </tr>\n",
       "    <tr>\n",
       "      <th>1</th>\n",
       "      <td>4808</td>\n",
       "      <td>444</td>\n",
       "      <td>0.092346</td>\n",
       "    </tr>\n",
       "    <tr>\n",
       "      <th>2</th>\n",
       "      <td>2052</td>\n",
       "      <td>194</td>\n",
       "      <td>0.094542</td>\n",
       "    </tr>\n",
       "    <tr>\n",
       "      <th>3</th>\n",
       "      <td>330</td>\n",
       "      <td>27</td>\n",
       "      <td>0.081818</td>\n",
       "    </tr>\n",
       "    <tr>\n",
       "      <th>4</th>\n",
       "      <td>41</td>\n",
       "      <td>4</td>\n",
       "      <td>0.097561</td>\n",
       "    </tr>\n",
       "    <tr>\n",
       "      <th>5</th>\n",
       "      <td>9</td>\n",
       "      <td>0</td>\n",
       "      <td>0.000000</td>\n",
       "    </tr>\n",
       "  </tbody>\n",
       "</table>\n",
       "</div>"
      ],
      "text/plain": [
       "         Всего кредитополучателей Всего должников Доля должников\n",
       "                             debt            debt           debt\n",
       "children                                                        \n",
       "0                           14091            1063       0.075438\n",
       "1                            4808             444       0.092346\n",
       "2                            2052             194       0.094542\n",
       "3                             330              27       0.081818\n",
       "4                              41               4       0.097561\n",
       "5                               9               0       0.000000"
      ]
     },
     "execution_count": 23,
     "metadata": {},
     "output_type": "execute_result"
    }
   ],
   "source": [
    "debt_child_pivot = data.pivot_table(index='children', values='debt', aggfunc=['count', 'sum', 'mean'])\n",
    "\n",
    "debt_child_pivot = debt_child_pivot.rename(columns={'count': 'Всего кредитополучателей', 'sum': 'Всего должников', 'mean': 'Доля должников'})\n",
    "\n",
    "debt_child_pivot"
   ]
  },
  {
   "cell_type": "markdown",
   "id": "44cf38bc",
   "metadata": {},
   "source": [
    "Чтобы можно было корректно сравнить разные по объёму категории клиентов в зависимости от количества детей между собой, примем максимальную долю за 100 %, а остальные будет считать относительно неё. Для этого в сводной таблице debt_child_pivot создадим столбец 'Сравнение долей должников':"
   ]
  },
  {
   "cell_type": "code",
   "execution_count": 24,
   "id": "9ab82b32",
   "metadata": {
    "scrolled": true
   },
   "outputs": [
    {
     "data": {
      "text/html": [
       "<div>\n",
       "<style scoped>\n",
       "    .dataframe tbody tr th:only-of-type {\n",
       "        vertical-align: middle;\n",
       "    }\n",
       "\n",
       "    .dataframe tbody tr th {\n",
       "        vertical-align: top;\n",
       "    }\n",
       "\n",
       "    .dataframe thead tr th {\n",
       "        text-align: left;\n",
       "    }\n",
       "\n",
       "    .dataframe thead tr:last-of-type th {\n",
       "        text-align: right;\n",
       "    }\n",
       "</style>\n",
       "<table border=\"1\" class=\"dataframe\">\n",
       "  <thead>\n",
       "    <tr>\n",
       "      <th></th>\n",
       "      <th>Всего кредитополучателей</th>\n",
       "      <th>Всего должников</th>\n",
       "      <th>Доля должников</th>\n",
       "      <th>Сравнение долей должников</th>\n",
       "    </tr>\n",
       "    <tr>\n",
       "      <th></th>\n",
       "      <th>debt</th>\n",
       "      <th>debt</th>\n",
       "      <th>debt</th>\n",
       "      <th></th>\n",
       "    </tr>\n",
       "    <tr>\n",
       "      <th>children</th>\n",
       "      <th></th>\n",
       "      <th></th>\n",
       "      <th></th>\n",
       "      <th></th>\n",
       "    </tr>\n",
       "  </thead>\n",
       "  <tbody>\n",
       "    <tr>\n",
       "      <th>0</th>\n",
       "      <td>14091</td>\n",
       "      <td>1063</td>\n",
       "      <td>0.075438</td>\n",
       "      <td>0.773242</td>\n",
       "    </tr>\n",
       "    <tr>\n",
       "      <th>1</th>\n",
       "      <td>4808</td>\n",
       "      <td>444</td>\n",
       "      <td>0.092346</td>\n",
       "      <td>0.946547</td>\n",
       "    </tr>\n",
       "    <tr>\n",
       "      <th>2</th>\n",
       "      <td>2052</td>\n",
       "      <td>194</td>\n",
       "      <td>0.094542</td>\n",
       "      <td>0.969055</td>\n",
       "    </tr>\n",
       "    <tr>\n",
       "      <th>3</th>\n",
       "      <td>330</td>\n",
       "      <td>27</td>\n",
       "      <td>0.081818</td>\n",
       "      <td>0.838636</td>\n",
       "    </tr>\n",
       "    <tr>\n",
       "      <th>4</th>\n",
       "      <td>41</td>\n",
       "      <td>4</td>\n",
       "      <td>0.097561</td>\n",
       "      <td>1.000000</td>\n",
       "    </tr>\n",
       "    <tr>\n",
       "      <th>5</th>\n",
       "      <td>9</td>\n",
       "      <td>0</td>\n",
       "      <td>0.000000</td>\n",
       "      <td>0.000000</td>\n",
       "    </tr>\n",
       "  </tbody>\n",
       "</table>\n",
       "</div>"
      ],
      "text/plain": [
       "         Всего кредитополучателей Всего должников Доля должников  \\\n",
       "                             debt            debt           debt   \n",
       "children                                                           \n",
       "0                           14091            1063       0.075438   \n",
       "1                            4808             444       0.092346   \n",
       "2                            2052             194       0.094542   \n",
       "3                             330              27       0.081818   \n",
       "4                              41               4       0.097561   \n",
       "5                               9               0       0.000000   \n",
       "\n",
       "         Сравнение долей должников  \n",
       "                                    \n",
       "children                            \n",
       "0                         0.773242  \n",
       "1                         0.946547  \n",
       "2                         0.969055  \n",
       "3                         0.838636  \n",
       "4                         1.000000  \n",
       "5                         0.000000  "
      ]
     },
     "execution_count": 24,
     "metadata": {},
     "output_type": "execute_result"
    }
   ],
   "source": [
    "debt_child_pivot['Сравнение долей должников'] = debt_child_pivot[('Доля должников', 'debt')] / debt_child_pivot[('Доля должников', 'debt')].max()\n",
    "\n",
    "debt_child_pivot"
   ]
  },
  {
   "cell_type": "markdown",
   "id": "bdf97012",
   "metadata": {
    "deletable": false,
    "id": "3a6b99ec"
   },
   "source": [
    "**Вывод:** на основании полученных данных, можно сказать, что между количество детей у клиентов и возвратом кредита в срок существует зависимость. \n",
    "\n",
    "Доля должников среди клиентов, у которых отсутствуют дети, значительно ниже (более чем на 16 %) по сравнению с клиентами, имеющими от 1 до 4 детей, при этом с ростом количества детей (от 1 до 4 включительно) доля должников в целом имеет тенденцию к росту, за исключением клиентов с тремя детьми. Это, вероятно, объясняется тем, что бездетные клиенты несут наименьшую финансовую нагрузку, а клиенты с тремя детьми, с одной стороны, более ответственны и обеспечены большими мерами государственной поддержки по сравнению с теми, кто имеет 1-2 детей, а с другой стороны, имеют меньшую финансовую нагрузку относительно клиентов с четырьмя детьми. \n",
    "\n",
    "При этом у клиентов с пятью детьми должники отсутствуют, что наиболее вероятно объясняется нерепрезентативностью выборкой (численность = 9 человек) для данной категории. Однако не исключается вероятность того, что такие клиенты наиболее ответственны и не допускают просрочек по кредитным платежам."
   ]
  },
  {
   "cell_type": "markdown",
   "id": "58a2385d",
   "metadata": {
    "deletable": false,
    "editable": false,
    "id": "97be82ca"
   },
   "source": [
    "#### 3.2 Есть ли зависимость между семейным положением и возвратом кредита в срок?"
   ]
  },
  {
   "cell_type": "markdown",
   "id": "31ca8cc1",
   "metadata": {},
   "source": [
    "Найдём сначала уникальные значения столбца 'family_status'.\n",
    "\n",
    "Для этого применим к нему метод unique():"
   ]
  },
  {
   "cell_type": "code",
   "execution_count": 25,
   "id": "2d44eef6",
   "metadata": {
    "deletable": false,
    "id": "dc3f7ee8"
   },
   "outputs": [
    {
     "data": {
      "text/plain": [
       "array(['женат / замужем', 'гражданский брак', 'вдовец / вдова',\n",
       "       'в разводе', 'Не женат / не замужем'], dtype=object)"
      ]
     },
     "execution_count": 25,
     "metadata": {},
     "output_type": "execute_result"
    }
   ],
   "source": [
    "data['family_status'].unique()"
   ]
  },
  {
   "cell_type": "markdown",
   "id": "47305c2c",
   "metadata": {},
   "source": [
    "В столбце 'family_status' присутствует пять категорий, которые характеризуются наличием ('женат / замужем' и 'гражданский брак') \n",
    "и отсутствием ('вдовец / вдова', 'в разводе', 'Не женат / не замужем') партнёра.\n",
    "\n",
    "Для ответа на поставленный вопрос создадим сводную таблицу debt_fam_stat_pivot, по аналогии с таблицей debt_child_pivot.\n",
    "\n",
    "Для этого вызовем метод pivot_table(), где в качестве index возьмём столбец 'family_status', values - из столбца 'debt' и применим методы count(), sum() и mean(). Выведем полученную сводную таблицу в порядке возрастания значений в столбце 'Доля должников'."
   ]
  },
  {
   "cell_type": "code",
   "execution_count": 26,
   "id": "994412f7",
   "metadata": {
    "scrolled": true
   },
   "outputs": [
    {
     "data": {
      "text/html": [
       "<div>\n",
       "<style scoped>\n",
       "    .dataframe tbody tr th:only-of-type {\n",
       "        vertical-align: middle;\n",
       "    }\n",
       "\n",
       "    .dataframe tbody tr th {\n",
       "        vertical-align: top;\n",
       "    }\n",
       "\n",
       "    .dataframe thead tr th {\n",
       "        text-align: left;\n",
       "    }\n",
       "\n",
       "    .dataframe thead tr:last-of-type th {\n",
       "        text-align: right;\n",
       "    }\n",
       "</style>\n",
       "<table border=\"1\" class=\"dataframe\">\n",
       "  <thead>\n",
       "    <tr>\n",
       "      <th></th>\n",
       "      <th>Всего кредитополучателей</th>\n",
       "      <th>Всего должников</th>\n",
       "      <th>Доля должников</th>\n",
       "    </tr>\n",
       "    <tr>\n",
       "      <th></th>\n",
       "      <th>debt</th>\n",
       "      <th>debt</th>\n",
       "      <th>debt</th>\n",
       "    </tr>\n",
       "    <tr>\n",
       "      <th>family_status</th>\n",
       "      <th></th>\n",
       "      <th></th>\n",
       "      <th></th>\n",
       "    </tr>\n",
       "  </thead>\n",
       "  <tbody>\n",
       "    <tr>\n",
       "      <th>вдовец / вдова</th>\n",
       "      <td>951</td>\n",
       "      <td>63</td>\n",
       "      <td>0.066246</td>\n",
       "    </tr>\n",
       "    <tr>\n",
       "      <th>в разводе</th>\n",
       "      <td>1189</td>\n",
       "      <td>84</td>\n",
       "      <td>0.070648</td>\n",
       "    </tr>\n",
       "    <tr>\n",
       "      <th>женат / замужем</th>\n",
       "      <td>12261</td>\n",
       "      <td>927</td>\n",
       "      <td>0.075606</td>\n",
       "    </tr>\n",
       "    <tr>\n",
       "      <th>гражданский брак</th>\n",
       "      <td>4134</td>\n",
       "      <td>385</td>\n",
       "      <td>0.093130</td>\n",
       "    </tr>\n",
       "    <tr>\n",
       "      <th>Не женат / не замужем</th>\n",
       "      <td>2796</td>\n",
       "      <td>273</td>\n",
       "      <td>0.097639</td>\n",
       "    </tr>\n",
       "  </tbody>\n",
       "</table>\n",
       "</div>"
      ],
      "text/plain": [
       "                      Всего кредитополучателей Всего должников Доля должников\n",
       "                                          debt            debt           debt\n",
       "family_status                                                                \n",
       "вдовец / вдова                             951              63       0.066246\n",
       "в разводе                                 1189              84       0.070648\n",
       "женат / замужем                          12261             927       0.075606\n",
       "гражданский брак                          4134             385       0.093130\n",
       "Не женат / не замужем                     2796             273       0.097639"
      ]
     },
     "execution_count": 26,
     "metadata": {},
     "output_type": "execute_result"
    }
   ],
   "source": [
    "debt_fam_stat_pivot=data.pivot_table(index='family_status', values='debt', aggfunc=['count', 'sum', 'mean'])\n",
    "\n",
    "debt_fam_stat_pivot=debt_fam_stat_pivot.rename(columns={'count': 'Всего кредитополучателей', 'sum': 'Всего должников', 'mean': 'Доля должников'})\n",
    "\n",
    "debt_fam_stat_pivot.sort_values(by=('Доля должников', 'debt'))"
   ]
  },
  {
   "cell_type": "markdown",
   "id": "2d7f4d93",
   "metadata": {},
   "source": [
    "Чтобы можно было корректно сравнить разные по объёму категории клиентов в зависимости от семейного положения между собой, примем максимальную долю за 100 %, а остальные будет считать относительно неё. Для этого в сводной таблице debt_fam_stat_pivot создадим столбец 'Сравнение долей должников':"
   ]
  },
  {
   "cell_type": "code",
   "execution_count": 27,
   "id": "dfd3ca48",
   "metadata": {},
   "outputs": [
    {
     "data": {
      "text/html": [
       "<div>\n",
       "<style scoped>\n",
       "    .dataframe tbody tr th:only-of-type {\n",
       "        vertical-align: middle;\n",
       "    }\n",
       "\n",
       "    .dataframe tbody tr th {\n",
       "        vertical-align: top;\n",
       "    }\n",
       "\n",
       "    .dataframe thead tr th {\n",
       "        text-align: left;\n",
       "    }\n",
       "\n",
       "    .dataframe thead tr:last-of-type th {\n",
       "        text-align: right;\n",
       "    }\n",
       "</style>\n",
       "<table border=\"1\" class=\"dataframe\">\n",
       "  <thead>\n",
       "    <tr>\n",
       "      <th></th>\n",
       "      <th>Всего кредитополучателей</th>\n",
       "      <th>Всего должников</th>\n",
       "      <th>Доля должников</th>\n",
       "      <th>Сравнение долей должников</th>\n",
       "    </tr>\n",
       "    <tr>\n",
       "      <th></th>\n",
       "      <th>debt</th>\n",
       "      <th>debt</th>\n",
       "      <th>debt</th>\n",
       "      <th></th>\n",
       "    </tr>\n",
       "    <tr>\n",
       "      <th>family_status</th>\n",
       "      <th></th>\n",
       "      <th></th>\n",
       "      <th></th>\n",
       "      <th></th>\n",
       "    </tr>\n",
       "  </thead>\n",
       "  <tbody>\n",
       "    <tr>\n",
       "      <th>вдовец / вдова</th>\n",
       "      <td>951</td>\n",
       "      <td>63</td>\n",
       "      <td>0.066246</td>\n",
       "      <td>0.678476</td>\n",
       "    </tr>\n",
       "    <tr>\n",
       "      <th>в разводе</th>\n",
       "      <td>1189</td>\n",
       "      <td>84</td>\n",
       "      <td>0.070648</td>\n",
       "      <td>0.723556</td>\n",
       "    </tr>\n",
       "    <tr>\n",
       "      <th>женат / замужем</th>\n",
       "      <td>12261</td>\n",
       "      <td>927</td>\n",
       "      <td>0.075606</td>\n",
       "      <td>0.774334</td>\n",
       "    </tr>\n",
       "    <tr>\n",
       "      <th>гражданский брак</th>\n",
       "      <td>4134</td>\n",
       "      <td>385</td>\n",
       "      <td>0.093130</td>\n",
       "      <td>0.953816</td>\n",
       "    </tr>\n",
       "    <tr>\n",
       "      <th>Не женат / не замужем</th>\n",
       "      <td>2796</td>\n",
       "      <td>273</td>\n",
       "      <td>0.097639</td>\n",
       "      <td>1.000000</td>\n",
       "    </tr>\n",
       "  </tbody>\n",
       "</table>\n",
       "</div>"
      ],
      "text/plain": [
       "                      Всего кредитополучателей Всего должников Доля должников  \\\n",
       "                                          debt            debt           debt   \n",
       "family_status                                                                   \n",
       "вдовец / вдова                             951              63       0.066246   \n",
       "в разводе                                 1189              84       0.070648   \n",
       "женат / замужем                          12261             927       0.075606   \n",
       "гражданский брак                          4134             385       0.093130   \n",
       "Не женат / не замужем                     2796             273       0.097639   \n",
       "\n",
       "                      Сравнение долей должников  \n",
       "                                                 \n",
       "family_status                                    \n",
       "вдовец / вдова                         0.678476  \n",
       "в разводе                              0.723556  \n",
       "женат / замужем                        0.774334  \n",
       "гражданский брак                       0.953816  \n",
       "Не женат / не замужем                  1.000000  "
      ]
     },
     "execution_count": 27,
     "metadata": {},
     "output_type": "execute_result"
    }
   ],
   "source": [
    "debt_fam_stat_pivot['Сравнение долей должников'] = debt_fam_stat_pivot[('Доля должников', 'debt')] / debt_fam_stat_pivot[('Доля должников', 'debt')].max()\n",
    "\n",
    "debt_fam_stat_pivot.sort_values(by=('Доля должников', 'debt'))"
   ]
  },
  {
   "cell_type": "markdown",
   "id": "69f6b2f5",
   "metadata": {
    "deletable": false,
    "id": "1cef7837"
   },
   "source": [
    "**Вывод:** между семейным положением и возвратом кредита в срок в целом есть зависимость.\n",
    "\n",
    "Наименьшие доли должников (менее 75 % относительно максимально высокой доли должников) отмечаются среди клиентов, которые ранее состояли в браке: 'вдовец / вдова', 'в разводе', что вероятно обусловлено большей единоличной ответственностью таких клиентов и расчётом исключительно на собственные финансовые возможности.\n",
    "\n",
    "Медианное положение занимают клиенты со статусом 'женат / замужем', что может объясняться, с одной стороны, довольно высокой финансовой нагрузкой по содержанию семьи (в том числе детей), а с другой стороны, финансовой поддержкой со стороны партнёрши / партнёра. \n",
    "\n",
    "Наиболее высокие доли должников (более 95% относительно максимально высокой доли должников) отмечаются для клиентов в гражданском браке и не женатых / не замужних. Такие показатели могут возникать по разным причинам, в частности, из-за большей финансовой свободы, необходимости содержания иждивенцев и др."
   ]
  },
  {
   "cell_type": "markdown",
   "id": "b6e95a15",
   "metadata": {
    "deletable": false,
    "editable": false,
    "id": "1e8b2fca"
   },
   "source": [
    "#### 3.3 Есть ли зависимость между уровнем дохода и возвратом кредита в срок?"
   ]
  },
  {
   "cell_type": "markdown",
   "id": "4bde4945",
   "metadata": {},
   "source": [
    "Ранее клиенты уже были разделены на пять категорий (A,B,C,D и E) в зависимости от уровня дохода.\n",
    "\n",
    "Для ответа на поставленный вопрос создадим сводную таблицу debt_income_pivot, по аналогии с таблицей debt_child_pivot.\n",
    "\n",
    "Для этого вызовем метод pivot_table(), где в качестве index возьмём столбец 'total_income_category', values - из столбца 'debt' и применим методы count(), sum() и mean(). Выведем полученную сводную таблицу в порядке возрастания значений в столбце 'Доля должников'."
   ]
  },
  {
   "cell_type": "code",
   "execution_count": 28,
   "id": "08b90c49",
   "metadata": {
    "deletable": false,
    "id": "cd7e3720",
    "scrolled": false
   },
   "outputs": [
    {
     "data": {
      "text/html": [
       "<div>\n",
       "<style scoped>\n",
       "    .dataframe tbody tr th:only-of-type {\n",
       "        vertical-align: middle;\n",
       "    }\n",
       "\n",
       "    .dataframe tbody tr th {\n",
       "        vertical-align: top;\n",
       "    }\n",
       "\n",
       "    .dataframe thead tr th {\n",
       "        text-align: left;\n",
       "    }\n",
       "\n",
       "    .dataframe thead tr:last-of-type th {\n",
       "        text-align: right;\n",
       "    }\n",
       "</style>\n",
       "<table border=\"1\" class=\"dataframe\">\n",
       "  <thead>\n",
       "    <tr>\n",
       "      <th></th>\n",
       "      <th>Всего кредитополучателей</th>\n",
       "      <th>Всего должников</th>\n",
       "      <th>Доля должников</th>\n",
       "    </tr>\n",
       "    <tr>\n",
       "      <th></th>\n",
       "      <th>debt</th>\n",
       "      <th>debt</th>\n",
       "      <th>debt</th>\n",
       "    </tr>\n",
       "    <tr>\n",
       "      <th>total_income_category</th>\n",
       "      <th></th>\n",
       "      <th></th>\n",
       "      <th></th>\n",
       "    </tr>\n",
       "  </thead>\n",
       "  <tbody>\n",
       "    <tr>\n",
       "      <th>D</th>\n",
       "      <td>349</td>\n",
       "      <td>21</td>\n",
       "      <td>0.060172</td>\n",
       "    </tr>\n",
       "    <tr>\n",
       "      <th>B</th>\n",
       "      <td>5014</td>\n",
       "      <td>354</td>\n",
       "      <td>0.070602</td>\n",
       "    </tr>\n",
       "    <tr>\n",
       "      <th>A</th>\n",
       "      <td>25</td>\n",
       "      <td>2</td>\n",
       "      <td>0.080000</td>\n",
       "    </tr>\n",
       "    <tr>\n",
       "      <th>C</th>\n",
       "      <td>15921</td>\n",
       "      <td>1353</td>\n",
       "      <td>0.084982</td>\n",
       "    </tr>\n",
       "    <tr>\n",
       "      <th>E</th>\n",
       "      <td>22</td>\n",
       "      <td>2</td>\n",
       "      <td>0.090909</td>\n",
       "    </tr>\n",
       "  </tbody>\n",
       "</table>\n",
       "</div>"
      ],
      "text/plain": [
       "                      Всего кредитополучателей Всего должников Доля должников\n",
       "                                          debt            debt           debt\n",
       "total_income_category                                                        \n",
       "D                                          349              21       0.060172\n",
       "B                                         5014             354       0.070602\n",
       "A                                           25               2       0.080000\n",
       "C                                        15921            1353       0.084982\n",
       "E                                           22               2       0.090909"
      ]
     },
     "execution_count": 28,
     "metadata": {},
     "output_type": "execute_result"
    }
   ],
   "source": [
    "debt_income_pivot=data.pivot_table(index='total_income_category', values='debt', aggfunc=['count', 'sum', 'mean'])\n",
    "\n",
    "debt_income_pivot=debt_income_pivot.rename(columns={'count': 'Всего кредитополучателей', 'sum': 'Всего должников', 'mean': 'Доля должников'})\n",
    "\n",
    "debt_income_pivot.sort_values(by=('Доля должников', 'debt'))\n"
   ]
  },
  {
   "cell_type": "markdown",
   "id": "6e684dbe",
   "metadata": {},
   "source": [
    "Чтобы можно было корректно сравнить разные по объёму категории клиентов в зависимости от уровня доходов между собой, примем максимальную долю за 100 %, а остальные будет считать относительно неё. Для этого в сводной таблице debt_income_pivot создадим столбец 'Сравнение долей должников':"
   ]
  },
  {
   "cell_type": "code",
   "execution_count": 29,
   "id": "b08128c2",
   "metadata": {},
   "outputs": [
    {
     "data": {
      "text/html": [
       "<div>\n",
       "<style scoped>\n",
       "    .dataframe tbody tr th:only-of-type {\n",
       "        vertical-align: middle;\n",
       "    }\n",
       "\n",
       "    .dataframe tbody tr th {\n",
       "        vertical-align: top;\n",
       "    }\n",
       "\n",
       "    .dataframe thead tr th {\n",
       "        text-align: left;\n",
       "    }\n",
       "\n",
       "    .dataframe thead tr:last-of-type th {\n",
       "        text-align: right;\n",
       "    }\n",
       "</style>\n",
       "<table border=\"1\" class=\"dataframe\">\n",
       "  <thead>\n",
       "    <tr>\n",
       "      <th></th>\n",
       "      <th>Всего кредитополучателей</th>\n",
       "      <th>Всего должников</th>\n",
       "      <th>Доля должников</th>\n",
       "      <th>Сравнение долей должников</th>\n",
       "    </tr>\n",
       "    <tr>\n",
       "      <th></th>\n",
       "      <th>debt</th>\n",
       "      <th>debt</th>\n",
       "      <th>debt</th>\n",
       "      <th></th>\n",
       "    </tr>\n",
       "    <tr>\n",
       "      <th>total_income_category</th>\n",
       "      <th></th>\n",
       "      <th></th>\n",
       "      <th></th>\n",
       "      <th></th>\n",
       "    </tr>\n",
       "  </thead>\n",
       "  <tbody>\n",
       "    <tr>\n",
       "      <th>D</th>\n",
       "      <td>349</td>\n",
       "      <td>21</td>\n",
       "      <td>0.060172</td>\n",
       "      <td>0.661891</td>\n",
       "    </tr>\n",
       "    <tr>\n",
       "      <th>B</th>\n",
       "      <td>5014</td>\n",
       "      <td>354</td>\n",
       "      <td>0.070602</td>\n",
       "      <td>0.776625</td>\n",
       "    </tr>\n",
       "    <tr>\n",
       "      <th>A</th>\n",
       "      <td>25</td>\n",
       "      <td>2</td>\n",
       "      <td>0.080000</td>\n",
       "      <td>0.880000</td>\n",
       "    </tr>\n",
       "    <tr>\n",
       "      <th>C</th>\n",
       "      <td>15921</td>\n",
       "      <td>1353</td>\n",
       "      <td>0.084982</td>\n",
       "      <td>0.934803</td>\n",
       "    </tr>\n",
       "    <tr>\n",
       "      <th>E</th>\n",
       "      <td>22</td>\n",
       "      <td>2</td>\n",
       "      <td>0.090909</td>\n",
       "      <td>1.000000</td>\n",
       "    </tr>\n",
       "  </tbody>\n",
       "</table>\n",
       "</div>"
      ],
      "text/plain": [
       "                      Всего кредитополучателей Всего должников Доля должников  \\\n",
       "                                          debt            debt           debt   \n",
       "total_income_category                                                           \n",
       "D                                          349              21       0.060172   \n",
       "B                                         5014             354       0.070602   \n",
       "A                                           25               2       0.080000   \n",
       "C                                        15921            1353       0.084982   \n",
       "E                                           22               2       0.090909   \n",
       "\n",
       "                      Сравнение долей должников  \n",
       "                                                 \n",
       "total_income_category                            \n",
       "D                                      0.661891  \n",
       "B                                      0.776625  \n",
       "A                                      0.880000  \n",
       "C                                      0.934803  \n",
       "E                                      1.000000  "
      ]
     },
     "execution_count": 29,
     "metadata": {},
     "output_type": "execute_result"
    }
   ],
   "source": [
    "debt_income_pivot['Сравнение долей должников'] = debt_income_pivot[('Доля должников', 'debt')] / debt_income_pivot[('Доля должников', 'debt')].max()\n",
    "\n",
    "debt_income_pivot.sort_values(by=('Доля должников', 'debt'))"
   ]
  },
  {
   "cell_type": "markdown",
   "id": "13c1a271",
   "metadata": {
    "deletable": false,
    "id": "e8593def"
   },
   "source": [
    "**Вывод:** между уровнем дохода клиентов и возвратом кредита в срок есть определённая зависимость. \n",
    "\n",
    "Так, с одной стороны, вполне логично, что категория E, т.е. клиенты с самым низким уровнем дохода (до 30000) имеет наиболее высокие показатели должников, так как такие клиенты обладают крайне небольшим объёмом свободных средств. Также  вполне объяснимо, что наиболее обеспеченные клиенты, относящиеся к категории A (уровень доходов - более 1000000), занимают медианное положение, поскольку это может быть обусловлено большой финансовой возможностью погасить задолженность по кредиту. Однако с другой стороны, выборки для категорий A и E являются малорепрезентативными, а потому в определённой степени их корректный анализ представляется затруднительным.\n",
    "\n",
    "Кроме того, высокие показатели по доли должников отмечаются для клиентов категории C, в которой присутствует наибольшее количество человек (около 16 тысяч), имеющих доход от 50001 до 200000. Это, вероятно, свидетельствует о наличии у таких людей высокой финансовой нагрузки, обусловленной необходимостью содержания семьи и/или детей, выплаты ипотек и/или кредитов и в силу других причин.\n",
    "\n",
    "Самые низкие доли должников наблюдаются для категорий D и B (около 66% и 78% относительно максимально высокой доли должников). Несмотря на значительно различающийся уровень доходов для этих категорий: D - от 30001 до 50000, B - от 200001 до 1000000, такие результаты могут быть связаны с большей финансовой ответственностью таких клиентов: с одной стороны относительно высокий доход и относительная финансовая свобода, а с другой - невозможность выплаты относительно больших задолженностей (по сравнению с уровнем дохода) по кредитам."
   ]
  },
  {
   "cell_type": "markdown",
   "id": "537f5da3",
   "metadata": {
    "deletable": false,
    "editable": false,
    "id": "99ecbd1f"
   },
   "source": [
    "#### 3.4 Как разные цели кредита влияют на его возврат в срок?"
   ]
  },
  {
   "cell_type": "markdown",
   "id": "8812aded",
   "metadata": {},
   "source": [
    "Ранее клиенты уже были разделены на четыре категории ('операции с автомобилем', 'операции с недвижимостью', 'проведение свадьбы' и 'получение образования') в зависимости от целей, на которые выдавался кредит.\n",
    "\n",
    "Для ответа на поставленный вопрос создадим сводную таблицу debt_purpose_pivot, по аналогии с таблицей debt_child_pivot.\n",
    "\n",
    "Для этого вызовем метод pivot_table(), где в качестве index возьмём столбец 'purpose_category', values - из столбца 'debt' и применим методы count(), sum() и mean(). Выведем полученную сводную таблицу в порядке возрастания значений в столбце 'Доля должников'."
   ]
  },
  {
   "cell_type": "code",
   "execution_count": 30,
   "id": "1bf4ac0c",
   "metadata": {
    "deletable": false,
    "id": "2b687290",
    "scrolled": false
   },
   "outputs": [
    {
     "data": {
      "text/html": [
       "<div>\n",
       "<style scoped>\n",
       "    .dataframe tbody tr th:only-of-type {\n",
       "        vertical-align: middle;\n",
       "    }\n",
       "\n",
       "    .dataframe tbody tr th {\n",
       "        vertical-align: top;\n",
       "    }\n",
       "\n",
       "    .dataframe thead tr th {\n",
       "        text-align: left;\n",
       "    }\n",
       "\n",
       "    .dataframe thead tr:last-of-type th {\n",
       "        text-align: right;\n",
       "    }\n",
       "</style>\n",
       "<table border=\"1\" class=\"dataframe\">\n",
       "  <thead>\n",
       "    <tr>\n",
       "      <th></th>\n",
       "      <th>Всего кредитополучателей</th>\n",
       "      <th>Всего должников</th>\n",
       "      <th>Доля должников</th>\n",
       "    </tr>\n",
       "    <tr>\n",
       "      <th></th>\n",
       "      <th>debt</th>\n",
       "      <th>debt</th>\n",
       "      <th>debt</th>\n",
       "    </tr>\n",
       "    <tr>\n",
       "      <th>purpose_category</th>\n",
       "      <th></th>\n",
       "      <th></th>\n",
       "      <th></th>\n",
       "    </tr>\n",
       "  </thead>\n",
       "  <tbody>\n",
       "    <tr>\n",
       "      <th>операции с недвижимостью</th>\n",
       "      <td>10751</td>\n",
       "      <td>780</td>\n",
       "      <td>0.072551</td>\n",
       "    </tr>\n",
       "    <tr>\n",
       "      <th>проведение свадьбы</th>\n",
       "      <td>2313</td>\n",
       "      <td>183</td>\n",
       "      <td>0.079118</td>\n",
       "    </tr>\n",
       "    <tr>\n",
       "      <th>получение образования</th>\n",
       "      <td>3988</td>\n",
       "      <td>369</td>\n",
       "      <td>0.092528</td>\n",
       "    </tr>\n",
       "    <tr>\n",
       "      <th>операции с автомобилем</th>\n",
       "      <td>4279</td>\n",
       "      <td>400</td>\n",
       "      <td>0.093480</td>\n",
       "    </tr>\n",
       "  </tbody>\n",
       "</table>\n",
       "</div>"
      ],
      "text/plain": [
       "                         Всего кредитополучателей Всего должников  \\\n",
       "                                             debt            debt   \n",
       "purpose_category                                                    \n",
       "операции с недвижимостью                    10751             780   \n",
       "проведение свадьбы                           2313             183   \n",
       "получение образования                        3988             369   \n",
       "операции с автомобилем                       4279             400   \n",
       "\n",
       "                         Доля должников  \n",
       "                                   debt  \n",
       "purpose_category                         \n",
       "операции с недвижимостью       0.072551  \n",
       "проведение свадьбы             0.079118  \n",
       "получение образования          0.092528  \n",
       "операции с автомобилем         0.093480  "
      ]
     },
     "execution_count": 30,
     "metadata": {},
     "output_type": "execute_result"
    }
   ],
   "source": [
    "debt_purpose_pivot=data.pivot_table(index='purpose_category', values='debt', aggfunc=['count', 'sum', 'mean'])\n",
    "\n",
    "debt_purpose_pivot=debt_purpose_pivot.rename(columns={'count': 'Всего кредитополучателей', 'sum': 'Всего должников', 'mean': 'Доля должников'})\n",
    "\n",
    "debt_purpose_pivot.sort_values(by=('Доля должников', 'debt'))\n"
   ]
  },
  {
   "cell_type": "markdown",
   "id": "35fd3972",
   "metadata": {},
   "source": [
    "Чтобы можно было корректно сравнить разные по объёму категории клиентов в зависимости от целей взятия кредита между собой, примем максимальную долю за 100 %, а остальные будет считать относительно неё. Для этого в сводной таблице debt_purpose_pivot создадим столбец 'Сравнение долей должников':"
   ]
  },
  {
   "cell_type": "code",
   "execution_count": 31,
   "id": "5c140536",
   "metadata": {
    "scrolled": false
   },
   "outputs": [
    {
     "data": {
      "text/html": [
       "<div>\n",
       "<style scoped>\n",
       "    .dataframe tbody tr th:only-of-type {\n",
       "        vertical-align: middle;\n",
       "    }\n",
       "\n",
       "    .dataframe tbody tr th {\n",
       "        vertical-align: top;\n",
       "    }\n",
       "\n",
       "    .dataframe thead tr th {\n",
       "        text-align: left;\n",
       "    }\n",
       "\n",
       "    .dataframe thead tr:last-of-type th {\n",
       "        text-align: right;\n",
       "    }\n",
       "</style>\n",
       "<table border=\"1\" class=\"dataframe\">\n",
       "  <thead>\n",
       "    <tr>\n",
       "      <th></th>\n",
       "      <th>Всего кредитополучателей</th>\n",
       "      <th>Всего должников</th>\n",
       "      <th>Доля должников</th>\n",
       "      <th>Сравнение долей должников</th>\n",
       "    </tr>\n",
       "    <tr>\n",
       "      <th></th>\n",
       "      <th>debt</th>\n",
       "      <th>debt</th>\n",
       "      <th>debt</th>\n",
       "      <th></th>\n",
       "    </tr>\n",
       "    <tr>\n",
       "      <th>purpose_category</th>\n",
       "      <th></th>\n",
       "      <th></th>\n",
       "      <th></th>\n",
       "      <th></th>\n",
       "    </tr>\n",
       "  </thead>\n",
       "  <tbody>\n",
       "    <tr>\n",
       "      <th>операции с недвижимостью</th>\n",
       "      <td>10751</td>\n",
       "      <td>780</td>\n",
       "      <td>0.072551</td>\n",
       "      <td>0.776119</td>\n",
       "    </tr>\n",
       "    <tr>\n",
       "      <th>проведение свадьбы</th>\n",
       "      <td>2313</td>\n",
       "      <td>183</td>\n",
       "      <td>0.079118</td>\n",
       "      <td>0.846365</td>\n",
       "    </tr>\n",
       "    <tr>\n",
       "      <th>получение образования</th>\n",
       "      <td>3988</td>\n",
       "      <td>369</td>\n",
       "      <td>0.092528</td>\n",
       "      <td>0.989814</td>\n",
       "    </tr>\n",
       "    <tr>\n",
       "      <th>операции с автомобилем</th>\n",
       "      <td>4279</td>\n",
       "      <td>400</td>\n",
       "      <td>0.093480</td>\n",
       "      <td>1.000000</td>\n",
       "    </tr>\n",
       "  </tbody>\n",
       "</table>\n",
       "</div>"
      ],
      "text/plain": [
       "                         Всего кредитополучателей Всего должников  \\\n",
       "                                             debt            debt   \n",
       "purpose_category                                                    \n",
       "операции с недвижимостью                    10751             780   \n",
       "проведение свадьбы                           2313             183   \n",
       "получение образования                        3988             369   \n",
       "операции с автомобилем                       4279             400   \n",
       "\n",
       "                         Доля должников Сравнение долей должников  \n",
       "                                   debt                            \n",
       "purpose_category                                                   \n",
       "операции с недвижимостью       0.072551                  0.776119  \n",
       "проведение свадьбы             0.079118                  0.846365  \n",
       "получение образования          0.092528                  0.989814  \n",
       "операции с автомобилем         0.093480                  1.000000  "
      ]
     },
     "execution_count": 31,
     "metadata": {},
     "output_type": "execute_result"
    }
   ],
   "source": [
    "debt_purpose_pivot['Сравнение долей должников'] = debt_purpose_pivot[('Доля должников', 'debt')] / debt_purpose_pivot[('Доля должников', 'debt')].max()\n",
    "\n",
    "debt_purpose_pivot.sort_values(by=('Доля должников', 'debt'))"
   ]
  },
  {
   "cell_type": "markdown",
   "id": "85551f75",
   "metadata": {
    "deletable": false,
    "id": "b4bb2ce6"
   },
   "source": [
    "**Вывод:** \n",
    "наименьшие доли должников (менее 85% относительно максимально высокой доли должников) отмечены для тех клиентов, которые брали кредиты на операции с недвижимостью (в частности, на покупку и ремонт жилья) и создание семьи (организацию свадьбы). Предположительно, такие клиенты достаточно ответственно относятся к выплате кредитов в срок по вышеприведённым долгосрочным целям вследствие большого тела кредита (особенно в случае ипотеки) и длительных сроков выплаты кредита. \n",
    "\n",
    "В то же время наибольшие доли должников (более 98% относительно максимально высокой доли должников) наблюдаются для клиентов, взявших кредиты на получение образования и операции с автомобилем. Размеры и сроки выплаты кредитов, взятых для данных целей, как правило, достаточно невысокие, что, вероятно, может сказаться на финансовой ответственности клиентов и привести к появлению задолженностей. при погашении таких кредитов в срок."
   ]
  },
  {
   "cell_type": "markdown",
   "id": "6d71749b",
   "metadata": {
    "deletable": false,
    "editable": false,
    "id": "09c3ac4c"
   },
   "source": [
    "#### 3.5 Приведите возможные причины появления пропусков в исходных данных."
   ]
  },
  {
   "cell_type": "markdown",
   "id": "38f84a94",
   "metadata": {
    "deletable": false,
    "id": "9da2ceda"
   },
   "source": [
    "*Ответ:* \n",
    "К возможным причинам появления пропусков в исходных данных можно отнести:\n",
    "1. Необязательность заполнения всех необходимых полей при сборе исходных данных.\n",
    "2. Частичная потеря данных при манипуляции с ними(например, при выгрузке) для последующего анализа.\n",
    "3. Умышленное удаление части данных тем, кто имеет к ним доступ."
   ]
  },
  {
   "cell_type": "markdown",
   "id": "a7a0b204",
   "metadata": {
    "deletable": false,
    "editable": false,
    "id": "7b0487d6"
   },
   "source": [
    "#### 3.6 Объясните, почему заполнить пропуски медианным значением — лучшее решение для количественных переменных."
   ]
  },
  {
   "cell_type": "markdown",
   "id": "cc72c255",
   "metadata": {
    "deletable": false,
    "id": "7ecf2b8e"
   },
   "source": [
    "*Ответ:* количественные переменные могут сильно варьироваться, в них могут преобладать большие или малые значения, что приводит к некорректным (т.е. завышенным или заниженным) средним значениям, и для заполнения пропусков для количественных переменных лучше использовать медианное значение, которое вне зависимости от разброса данных корректно опишет выборку и поделит её пополам."
   ]
  },
  {
   "cell_type": "markdown",
   "id": "191198f5",
   "metadata": {
    "deletable": false,
    "editable": false,
    "id": "6db5255a"
   },
   "source": [
    "### Шаг 4: общий вывод."
   ]
  },
  {
   "cell_type": "markdown",
   "id": "a5cc14d2",
   "metadata": {
    "deletable": false,
    "id": "bad65432"
   },
   "source": [
    "Таким образом, для анализа были получены входные данные от кредитного отдела банка, а именно статистика о платёжеспособности клиентов. Необходимо было выяснить, влияет ли семейное положение и количество детей клиента на факт погашения кредита в срок.\n",
    "\n",
    "В таблице с входными данными представлена информация о 21525 клиентах, распределённая по  следующим 12 столбцам:\n",
    "- children — количество детей в семье;\n",
    "- days_employed — общий трудовой стаж в днях;\n",
    "- dob_years — возраст клиента в годах;\n",
    "- education — уровень образования клиента;\n",
    "- education_id — идентификатор уровня образования;\n",
    "- family_status — семейное положение;\n",
    "- family_status_id — идентификатор семейного положения;\n",
    "- gender — пол клиента;\n",
    "- income_type — тип занятости;\n",
    "- debt — имел ли задолженность по возврату кредитов;\n",
    "- total_income — ежемесячный доход;\n",
    "- purpose — цель получения кредита.\n",
    "\n",
    "Предобработка данных для анализа происходила следующим образом. Во входных данных присутствовали 2174 пропуска в столбцах 'days_employed' и 'total_income', которые были заполнены медианными значениями. \n",
    "\n",
    "Кроме того, в столбцах 'days_employed' и 'children' имелись аномальные значения (в частности, отрицательные числа), которые были либо заменены (в случае 'days_employed' вставлялись значения по модулю), либо удалены (в случае 'children'). \n",
    "\n",
    "В столбце 'education' присутствовали неявные дубликаты: одни и те же значения были записаны в разных регистрах, - которые были приведены к нижнему регистру. Явные дубликаты в виде 71 строчки были удалены. \n",
    "\n",
    "Данные в столбце 'total_income' были заменены с вещественного типа на целочисленный.\n",
    "\n",
    "Таким образом, рекомендуется более тщательный подход (единообразное заполнение данных, исключение отрицательных значений и т.д.) при сборе данных во избежание появления во входных данных подобных пропусков, аномальных значений и дубликатов.\n",
    "\n",
    "Категоризация данных осуществлялась для двух столбцов. Так, на основании значений в столбце 'total_income' был создан столбец 'total_income_category', в котором клиенты банка были разбиты на следующие категории:\n",
    "- 0–30000 — 'E';\n",
    "- 30001–50000 — 'D';\n",
    "- 50001–200000 — 'C';\n",
    "- 200001–1000000 — 'B';\n",
    "- 1000001 и выше — 'A'.\n",
    "\n",
    "Кроме того, был создан столбец 'purpose_category', в который вошли значения столбца 'purpose', сгруппированные так:\n",
    "- 'операции с автомобилем',\n",
    "- 'операции с недвижимостью',\n",
    "- 'проведение свадьбы',\n",
    "- 'получение образования'.\n",
    "\n",
    "В ходе исследовательского анализа необходимо было ответить на четыре поставленных вопроса:\n",
    "- Есть ли зависимость между количеством детей и возвратом кредита в срок?\n",
    "- Есть ли зависимость между семейным положением и возвратом кредита в срок?\n",
    "- Есть ли зависимость между уровнем дохода и возвратом кредита в срок?\n",
    "- Как разные цели кредита влияют на его возврат в срок?\n",
    "\n",
    "В результате ответов на эти вопросы можно заключить следующее:\n",
    "- Добросовестный заёмщик не имеет детей, ранее состоял в браке, имеет доход от 30001 до 50000 и берёт кредит для операций с недвижимостью.\n",
    "- Недобросовестный заёмщик имеет 4 детей, не женат / не замужем, имеет доход до 30000 и намерен взять кредит на операции с автомобилем."
   ]
  }
 ],
 "metadata": {
  "ExecuteTimeLog": [
   {
    "duration": 44,
    "start_time": "2023-08-25T14:27:21.469Z"
   },
   {
    "duration": 665,
    "start_time": "2023-08-25T14:27:42.474Z"
   },
   {
    "duration": 21,
    "start_time": "2023-08-25T14:27:43.141Z"
   },
   {
    "duration": 14,
    "start_time": "2023-08-25T14:27:43.164Z"
   },
   {
    "duration": 10,
    "start_time": "2023-08-25T14:27:43.179Z"
   },
   {
    "duration": 31,
    "start_time": "2023-08-25T14:27:43.190Z"
   },
   {
    "duration": 28,
    "start_time": "2023-08-25T14:27:43.222Z"
   },
   {
    "duration": 13,
    "start_time": "2023-08-25T14:27:43.251Z"
   },
   {
    "duration": 3,
    "start_time": "2023-08-25T14:27:43.266Z"
   },
   {
    "duration": 9,
    "start_time": "2023-08-25T14:27:43.270Z"
   },
   {
    "duration": 5,
    "start_time": "2023-08-25T14:27:43.280Z"
   },
   {
    "duration": 33,
    "start_time": "2023-08-25T14:27:43.286Z"
   },
   {
    "duration": 10,
    "start_time": "2023-08-25T14:27:43.320Z"
   },
   {
    "duration": 3,
    "start_time": "2023-08-25T14:27:43.350Z"
   },
   {
    "duration": 12,
    "start_time": "2023-08-25T14:27:43.356Z"
   },
   {
    "duration": 18,
    "start_time": "2023-08-25T14:27:43.369Z"
   },
   {
    "duration": 16,
    "start_time": "2023-08-25T14:27:43.389Z"
   },
   {
    "duration": 3,
    "start_time": "2023-08-25T14:27:43.406Z"
   },
   {
    "duration": 38,
    "start_time": "2023-08-25T14:27:43.411Z"
   },
   {
    "duration": 5,
    "start_time": "2023-08-25T14:27:43.451Z"
   },
   {
    "duration": 16,
    "start_time": "2023-08-25T14:27:43.457Z"
   },
   {
    "duration": 29,
    "start_time": "2023-08-25T14:27:43.474Z"
   },
   {
    "duration": 16,
    "start_time": "2023-08-25T14:27:43.504Z"
   },
   {
    "duration": 5,
    "start_time": "2023-08-25T14:27:43.521Z"
   },
   {
    "duration": 13,
    "start_time": "2023-08-25T14:27:43.527Z"
   },
   {
    "duration": 6,
    "start_time": "2023-08-25T14:27:43.542Z"
   },
   {
    "duration": 3,
    "start_time": "2023-08-25T14:27:50.922Z"
   },
   {
    "duration": 8,
    "start_time": "2023-08-25T14:28:18.543Z"
   },
   {
    "duration": 58,
    "start_time": "2023-08-25T14:29:40.313Z"
   },
   {
    "duration": 10,
    "start_time": "2023-08-25T14:29:45.947Z"
   },
   {
    "duration": 8,
    "start_time": "2023-08-25T14:30:07.388Z"
   },
   {
    "duration": 10,
    "start_time": "2023-08-25T14:30:15.436Z"
   },
   {
    "duration": 5,
    "start_time": "2023-08-25T14:33:46.821Z"
   },
   {
    "duration": 4,
    "start_time": "2023-08-25T14:35:05.444Z"
   },
   {
    "duration": 10,
    "start_time": "2023-08-25T14:47:35.252Z"
   },
   {
    "duration": 6,
    "start_time": "2023-08-25T14:47:57.137Z"
   },
   {
    "duration": 7,
    "start_time": "2023-08-25T14:51:54.077Z"
   },
   {
    "duration": 7,
    "start_time": "2023-08-25T14:52:27.851Z"
   },
   {
    "duration": 8,
    "start_time": "2023-08-25T14:53:23.114Z"
   },
   {
    "duration": 8,
    "start_time": "2023-08-25T14:53:40.080Z"
   },
   {
    "duration": 8,
    "start_time": "2023-08-25T14:54:19.347Z"
   },
   {
    "duration": 24,
    "start_time": "2023-08-25T15:05:18.229Z"
   },
   {
    "duration": 21,
    "start_time": "2023-08-25T15:05:25.995Z"
   },
   {
    "duration": 5,
    "start_time": "2023-08-25T15:13:42.619Z"
   },
   {
    "duration": 6,
    "start_time": "2023-08-25T15:14:06.248Z"
   },
   {
    "duration": 6,
    "start_time": "2023-08-25T15:14:34.460Z"
   },
   {
    "duration": 17,
    "start_time": "2023-08-25T15:18:39.568Z"
   },
   {
    "duration": 9,
    "start_time": "2023-08-25T15:18:58.515Z"
   },
   {
    "duration": 7,
    "start_time": "2023-08-25T15:19:15.972Z"
   },
   {
    "duration": 5,
    "start_time": "2023-08-25T15:19:22.173Z"
   },
   {
    "duration": 6,
    "start_time": "2023-08-25T15:20:16.372Z"
   },
   {
    "duration": 10,
    "start_time": "2023-08-25T15:27:51.428Z"
   },
   {
    "duration": 5,
    "start_time": "2023-08-25T15:27:59.003Z"
   },
   {
    "duration": 5,
    "start_time": "2023-08-25T15:28:04.188Z"
   },
   {
    "duration": 6,
    "start_time": "2023-08-25T15:30:09.959Z"
   },
   {
    "duration": 105,
    "start_time": "2023-08-25T15:30:48.942Z"
   },
   {
    "duration": 7,
    "start_time": "2023-08-25T15:30:56.058Z"
   },
   {
    "duration": 87,
    "start_time": "2023-08-25T15:32:27.479Z"
   },
   {
    "duration": 74,
    "start_time": "2023-08-25T15:32:37.766Z"
   },
   {
    "duration": 4,
    "start_time": "2023-08-25T15:33:32.456Z"
   },
   {
    "duration": 7,
    "start_time": "2023-08-25T15:34:22.093Z"
   },
   {
    "duration": 7,
    "start_time": "2023-08-25T15:34:49.948Z"
   },
   {
    "duration": 5,
    "start_time": "2023-08-25T15:38:58.527Z"
   },
   {
    "duration": 8,
    "start_time": "2023-08-25T15:39:41.559Z"
   },
   {
    "duration": 7,
    "start_time": "2023-08-25T15:40:01.717Z"
   },
   {
    "duration": 6,
    "start_time": "2023-08-25T15:41:24.691Z"
   },
   {
    "duration": 7,
    "start_time": "2023-08-25T15:41:42.239Z"
   },
   {
    "duration": 8,
    "start_time": "2023-08-25T15:42:25.901Z"
   },
   {
    "duration": 8,
    "start_time": "2023-08-25T15:42:44.267Z"
   },
   {
    "duration": 5,
    "start_time": "2023-08-25T15:49:41.045Z"
   },
   {
    "duration": 9,
    "start_time": "2023-08-25T15:51:06.468Z"
   },
   {
    "duration": 9,
    "start_time": "2023-08-25T15:51:25.457Z"
   },
   {
    "duration": 9,
    "start_time": "2023-08-25T15:53:46.477Z"
   },
   {
    "duration": 6,
    "start_time": "2023-08-25T15:54:35.629Z"
   },
   {
    "duration": 15,
    "start_time": "2023-08-25T15:54:58.165Z"
   },
   {
    "duration": 7,
    "start_time": "2023-08-25T15:57:03.133Z"
   },
   {
    "duration": 5,
    "start_time": "2023-08-25T15:58:30.754Z"
   },
   {
    "duration": 470,
    "start_time": "2023-08-25T15:58:45.987Z"
   },
   {
    "duration": 21,
    "start_time": "2023-08-25T15:58:46.459Z"
   },
   {
    "duration": 13,
    "start_time": "2023-08-25T15:58:46.482Z"
   },
   {
    "duration": 9,
    "start_time": "2023-08-25T15:58:46.497Z"
   },
   {
    "duration": 46,
    "start_time": "2023-08-25T15:58:46.507Z"
   },
   {
    "duration": 3,
    "start_time": "2023-08-25T15:58:46.554Z"
   },
   {
    "duration": 26,
    "start_time": "2023-08-25T15:58:46.558Z"
   },
   {
    "duration": 23,
    "start_time": "2023-08-25T15:58:46.585Z"
   },
   {
    "duration": 31,
    "start_time": "2023-08-25T15:58:46.609Z"
   },
   {
    "duration": 4,
    "start_time": "2023-08-25T15:58:46.644Z"
   },
   {
    "duration": 46,
    "start_time": "2023-08-25T15:58:46.649Z"
   },
   {
    "duration": 9,
    "start_time": "2023-08-25T15:58:46.696Z"
   },
   {
    "duration": 15,
    "start_time": "2023-08-25T15:58:46.706Z"
   },
   {
    "duration": 12,
    "start_time": "2023-08-25T15:58:46.722Z"
   },
   {
    "duration": 21,
    "start_time": "2023-08-25T15:58:46.735Z"
   },
   {
    "duration": 14,
    "start_time": "2023-08-25T15:58:46.757Z"
   },
   {
    "duration": 16,
    "start_time": "2023-08-25T15:58:46.772Z"
   },
   {
    "duration": 19,
    "start_time": "2023-08-25T15:58:46.789Z"
   },
   {
    "duration": 5,
    "start_time": "2023-08-25T15:58:46.810Z"
   },
   {
    "duration": 4,
    "start_time": "2023-08-25T15:58:46.816Z"
   },
   {
    "duration": 11,
    "start_time": "2023-08-25T15:58:46.821Z"
   },
   {
    "duration": 4,
    "start_time": "2023-08-25T15:58:46.834Z"
   },
   {
    "duration": 11,
    "start_time": "2023-08-25T15:58:46.839Z"
   },
   {
    "duration": 6,
    "start_time": "2023-08-25T15:58:46.851Z"
   },
   {
    "duration": 10,
    "start_time": "2023-08-25T15:58:46.858Z"
   },
   {
    "duration": 11,
    "start_time": "2023-08-25T15:58:46.869Z"
   },
   {
    "duration": 16,
    "start_time": "2023-08-25T15:58:46.882Z"
   },
   {
    "duration": 27,
    "start_time": "2023-08-25T15:58:46.901Z"
   },
   {
    "duration": 9,
    "start_time": "2023-08-25T15:58:46.929Z"
   },
   {
    "duration": 9,
    "start_time": "2023-08-25T15:58:46.939Z"
   },
   {
    "duration": 16,
    "start_time": "2023-08-25T15:58:46.949Z"
   },
   {
    "duration": 10,
    "start_time": "2023-08-25T15:58:46.966Z"
   },
   {
    "duration": 8,
    "start_time": "2023-08-25T15:58:46.978Z"
   },
   {
    "duration": 19,
    "start_time": "2023-08-25T15:58:46.987Z"
   },
   {
    "duration": 19,
    "start_time": "2023-08-25T15:58:47.007Z"
   },
   {
    "duration": 11,
    "start_time": "2023-08-25T15:58:47.027Z"
   },
   {
    "duration": 69,
    "start_time": "2023-08-25T16:00:41.439Z"
   },
   {
    "duration": 11,
    "start_time": "2023-08-25T16:00:49.736Z"
   },
   {
    "duration": 11,
    "start_time": "2023-08-25T16:01:22.701Z"
   },
   {
    "duration": 107,
    "start_time": "2023-08-25T16:01:43.089Z"
   },
   {
    "duration": 11,
    "start_time": "2023-08-25T16:02:00.951Z"
   },
   {
    "duration": 14,
    "start_time": "2023-08-25T16:02:26.264Z"
   },
   {
    "duration": 7,
    "start_time": "2023-08-25T16:03:06.107Z"
   },
   {
    "duration": 5,
    "start_time": "2023-08-25T16:03:11.023Z"
   },
   {
    "duration": 6,
    "start_time": "2023-08-25T16:03:17.382Z"
   },
   {
    "duration": 11,
    "start_time": "2023-08-25T16:03:23.493Z"
   },
   {
    "duration": 7,
    "start_time": "2023-08-25T16:04:35.151Z"
   },
   {
    "duration": 7,
    "start_time": "2023-08-25T16:05:20.907Z"
   },
   {
    "duration": 12,
    "start_time": "2023-08-25T16:05:32.182Z"
   },
   {
    "duration": 7,
    "start_time": "2023-08-25T16:06:30.641Z"
   },
   {
    "duration": 12,
    "start_time": "2023-08-25T16:06:49.064Z"
   },
   {
    "duration": 7,
    "start_time": "2023-08-25T16:07:30.501Z"
   },
   {
    "duration": 12,
    "start_time": "2023-08-25T16:07:50.447Z"
   },
   {
    "duration": 7,
    "start_time": "2023-08-25T16:08:18.698Z"
   },
   {
    "duration": 53,
    "start_time": "2023-08-26T00:57:13.524Z"
   },
   {
    "duration": 743,
    "start_time": "2023-08-26T00:57:29.686Z"
   },
   {
    "duration": 23,
    "start_time": "2023-08-26T00:57:30.431Z"
   },
   {
    "duration": 26,
    "start_time": "2023-08-26T00:57:30.456Z"
   },
   {
    "duration": 11,
    "start_time": "2023-08-26T00:57:30.484Z"
   },
   {
    "duration": 62,
    "start_time": "2023-08-26T00:57:30.497Z"
   },
   {
    "duration": 4,
    "start_time": "2023-08-26T00:57:30.561Z"
   },
   {
    "duration": 23,
    "start_time": "2023-08-26T00:57:30.567Z"
   },
   {
    "duration": 18,
    "start_time": "2023-08-26T00:57:30.592Z"
   },
   {
    "duration": 42,
    "start_time": "2023-08-26T00:57:30.612Z"
   },
   {
    "duration": 65,
    "start_time": "2023-08-26T00:57:30.657Z"
   },
   {
    "duration": 55,
    "start_time": "2023-08-26T00:57:30.723Z"
   },
   {
    "duration": 24,
    "start_time": "2023-08-26T00:57:30.780Z"
   },
   {
    "duration": 31,
    "start_time": "2023-08-26T00:57:30.806Z"
   },
   {
    "duration": 36,
    "start_time": "2023-08-26T00:57:30.838Z"
   },
   {
    "duration": 91,
    "start_time": "2023-08-26T00:57:30.876Z"
   },
   {
    "duration": 44,
    "start_time": "2023-08-26T00:57:30.969Z"
   },
   {
    "duration": 8,
    "start_time": "2023-08-26T00:57:31.015Z"
   },
   {
    "duration": 47,
    "start_time": "2023-08-26T00:57:31.025Z"
   },
   {
    "duration": 31,
    "start_time": "2023-08-26T00:57:31.074Z"
   },
   {
    "duration": 31,
    "start_time": "2023-08-26T00:57:31.107Z"
   },
   {
    "duration": 34,
    "start_time": "2023-08-26T00:57:31.140Z"
   },
   {
    "duration": 57,
    "start_time": "2023-08-26T00:57:31.176Z"
   },
   {
    "duration": 58,
    "start_time": "2023-08-26T00:57:31.235Z"
   },
   {
    "duration": 16,
    "start_time": "2023-08-26T00:57:31.295Z"
   },
   {
    "duration": 32,
    "start_time": "2023-08-26T00:57:31.312Z"
   },
   {
    "duration": 46,
    "start_time": "2023-08-26T00:57:31.346Z"
   },
   {
    "duration": 25,
    "start_time": "2023-08-26T00:57:31.394Z"
   },
   {
    "duration": 36,
    "start_time": "2023-08-26T00:57:31.423Z"
   },
   {
    "duration": 34,
    "start_time": "2023-08-26T00:57:31.461Z"
   },
   {
    "duration": 73,
    "start_time": "2023-08-26T00:57:31.497Z"
   },
   {
    "duration": 77,
    "start_time": "2023-08-26T02:00:35.293Z"
   },
   {
    "duration": 12,
    "start_time": "2023-08-26T02:00:47.079Z"
   },
   {
    "duration": 105,
    "start_time": "2023-08-26T02:01:11.159Z"
   },
   {
    "duration": 15,
    "start_time": "2023-08-26T02:01:51.518Z"
   },
   {
    "duration": 16,
    "start_time": "2023-08-26T02:02:05.777Z"
   },
   {
    "duration": 12,
    "start_time": "2023-08-26T02:02:30.527Z"
   },
   {
    "duration": 15,
    "start_time": "2023-08-26T02:02:55.184Z"
   },
   {
    "duration": 16,
    "start_time": "2023-08-26T02:03:09.311Z"
   },
   {
    "duration": 123,
    "start_time": "2023-08-26T02:03:42.131Z"
   },
   {
    "duration": 113,
    "start_time": "2023-08-26T02:03:48.706Z"
   },
   {
    "duration": 12,
    "start_time": "2023-08-26T02:04:03.114Z"
   },
   {
    "duration": 12,
    "start_time": "2023-08-26T02:04:46.460Z"
   },
   {
    "duration": 14,
    "start_time": "2023-08-26T02:06:07.620Z"
   },
   {
    "duration": 1560,
    "start_time": "2023-08-26T02:07:34.577Z"
   },
   {
    "duration": 7,
    "start_time": "2023-08-26T02:07:41.832Z"
   },
   {
    "duration": 14,
    "start_time": "2023-08-26T02:07:46.256Z"
   },
   {
    "duration": 12,
    "start_time": "2023-08-26T02:07:57.900Z"
   },
   {
    "duration": 8,
    "start_time": "2023-08-26T02:09:48.968Z"
   },
   {
    "duration": 8,
    "start_time": "2023-08-26T02:10:07.039Z"
   },
   {
    "duration": 8,
    "start_time": "2023-08-26T02:10:18.726Z"
   },
   {
    "duration": 7,
    "start_time": "2023-08-26T02:10:30.851Z"
   },
   {
    "duration": 7,
    "start_time": "2023-08-26T02:10:37.279Z"
   },
   {
    "duration": 7,
    "start_time": "2023-08-26T02:11:51.355Z"
   },
   {
    "duration": 50,
    "start_time": "2023-08-26T07:39:21.322Z"
   },
   {
    "duration": 715,
    "start_time": "2023-08-26T07:39:36.496Z"
   },
   {
    "duration": 34,
    "start_time": "2023-08-26T07:39:37.214Z"
   },
   {
    "duration": 22,
    "start_time": "2023-08-26T07:39:37.250Z"
   },
   {
    "duration": 11,
    "start_time": "2023-08-26T07:39:37.275Z"
   },
   {
    "duration": 63,
    "start_time": "2023-08-26T07:39:37.288Z"
   },
   {
    "duration": 4,
    "start_time": "2023-08-26T07:39:37.353Z"
   },
   {
    "duration": 19,
    "start_time": "2023-08-26T07:39:37.359Z"
   },
   {
    "duration": 5,
    "start_time": "2023-08-26T07:39:37.379Z"
   },
   {
    "duration": 6,
    "start_time": "2023-08-26T07:39:37.386Z"
   },
   {
    "duration": 33,
    "start_time": "2023-08-26T07:39:37.396Z"
   },
   {
    "duration": 34,
    "start_time": "2023-08-26T07:39:37.431Z"
   },
   {
    "duration": 10,
    "start_time": "2023-08-26T07:39:37.467Z"
   },
   {
    "duration": 4,
    "start_time": "2023-08-26T07:39:37.479Z"
   },
   {
    "duration": 44,
    "start_time": "2023-08-26T07:39:37.485Z"
   },
   {
    "duration": 21,
    "start_time": "2023-08-26T07:39:37.531Z"
   },
   {
    "duration": 16,
    "start_time": "2023-08-26T07:39:37.554Z"
   },
   {
    "duration": 5,
    "start_time": "2023-08-26T07:39:37.572Z"
   },
   {
    "duration": 12,
    "start_time": "2023-08-26T07:39:37.578Z"
   },
   {
    "duration": 33,
    "start_time": "2023-08-26T07:39:37.592Z"
   },
   {
    "duration": 4,
    "start_time": "2023-08-26T07:39:37.627Z"
   },
   {
    "duration": 11,
    "start_time": "2023-08-26T07:39:37.633Z"
   },
   {
    "duration": 7,
    "start_time": "2023-08-26T07:39:37.646Z"
   },
   {
    "duration": 12,
    "start_time": "2023-08-26T07:39:37.655Z"
   },
   {
    "duration": 8,
    "start_time": "2023-08-26T07:39:37.669Z"
   },
   {
    "duration": 6,
    "start_time": "2023-08-26T07:39:37.679Z"
   },
   {
    "duration": 13,
    "start_time": "2023-08-26T07:39:37.725Z"
   },
   {
    "duration": 7,
    "start_time": "2023-08-26T07:39:37.740Z"
   },
   {
    "duration": 13,
    "start_time": "2023-08-26T07:39:37.750Z"
   },
   {
    "duration": 8,
    "start_time": "2023-08-26T07:39:37.764Z"
   },
   {
    "duration": 51,
    "start_time": "2023-08-26T07:39:37.774Z"
   },
   {
    "duration": 8,
    "start_time": "2023-08-26T07:39:37.827Z"
   },
   {
    "duration": 3,
    "start_time": "2023-08-26T07:53:51.596Z"
   },
   {
    "duration": 8,
    "start_time": "2023-08-26T07:55:36.464Z"
   },
   {
    "duration": 5,
    "start_time": "2023-08-26T07:55:55.966Z"
   },
   {
    "duration": 8,
    "start_time": "2023-08-26T07:55:56.642Z"
   },
   {
    "duration": 8,
    "start_time": "2023-08-26T07:56:07.760Z"
   },
   {
    "duration": 10,
    "start_time": "2023-08-26T07:56:20.636Z"
   },
   {
    "duration": 16,
    "start_time": "2023-08-26T07:56:27.746Z"
   },
   {
    "duration": 11,
    "start_time": "2023-08-26T08:03:40.972Z"
   },
   {
    "duration": 9,
    "start_time": "2023-08-26T08:04:06.270Z"
   },
   {
    "duration": 12,
    "start_time": "2023-08-26T08:06:39.621Z"
   },
   {
    "duration": 8,
    "start_time": "2023-08-26T08:07:28.902Z"
   },
   {
    "duration": 3,
    "start_time": "2023-08-26T08:07:59.513Z"
   },
   {
    "duration": 11,
    "start_time": "2023-08-26T08:08:35.715Z"
   },
   {
    "duration": 20,
    "start_time": "2023-08-26T08:09:45.671Z"
   },
   {
    "duration": 20,
    "start_time": "2023-08-26T08:25:45.023Z"
   },
   {
    "duration": 8,
    "start_time": "2023-08-26T08:31:46.392Z"
   },
   {
    "duration": 10,
    "start_time": "2023-08-26T08:42:41.025Z"
   },
   {
    "duration": 5,
    "start_time": "2023-08-26T08:42:42.461Z"
   },
   {
    "duration": 16,
    "start_time": "2023-08-26T08:42:43.524Z"
   },
   {
    "duration": 18,
    "start_time": "2023-08-26T08:42:44.411Z"
   },
   {
    "duration": 7,
    "start_time": "2023-08-26T08:42:45.651Z"
   },
   {
    "duration": 4,
    "start_time": "2023-08-26T08:47:04.064Z"
   },
   {
    "duration": 14,
    "start_time": "2023-08-26T08:47:04.645Z"
   },
   {
    "duration": 495,
    "start_time": "2023-08-26T08:47:11.658Z"
   },
   {
    "duration": 22,
    "start_time": "2023-08-26T08:47:12.155Z"
   },
   {
    "duration": 24,
    "start_time": "2023-08-26T08:47:12.179Z"
   },
   {
    "duration": 39,
    "start_time": "2023-08-26T08:47:12.206Z"
   },
   {
    "duration": 50,
    "start_time": "2023-08-26T08:47:12.247Z"
   },
   {
    "duration": 4,
    "start_time": "2023-08-26T08:47:12.298Z"
   },
   {
    "duration": 33,
    "start_time": "2023-08-26T08:47:12.303Z"
   },
   {
    "duration": 8,
    "start_time": "2023-08-26T08:47:12.338Z"
   },
   {
    "duration": 11,
    "start_time": "2023-08-26T08:47:12.349Z"
   },
   {
    "duration": 22,
    "start_time": "2023-08-26T08:47:12.363Z"
   },
   {
    "duration": 64,
    "start_time": "2023-08-26T08:47:12.387Z"
   },
   {
    "duration": 10,
    "start_time": "2023-08-26T08:47:12.453Z"
   },
   {
    "duration": 4,
    "start_time": "2023-08-26T08:47:12.464Z"
   },
   {
    "duration": 14,
    "start_time": "2023-08-26T08:47:12.469Z"
   },
   {
    "duration": 51,
    "start_time": "2023-08-26T08:47:12.484Z"
   },
   {
    "duration": 20,
    "start_time": "2023-08-26T08:47:12.537Z"
   },
   {
    "duration": 4,
    "start_time": "2023-08-26T08:47:12.559Z"
   },
   {
    "duration": 12,
    "start_time": "2023-08-26T08:47:12.564Z"
   },
   {
    "duration": 11,
    "start_time": "2023-08-26T08:47:12.577Z"
   },
   {
    "duration": 7,
    "start_time": "2023-08-26T08:47:12.590Z"
   },
   {
    "duration": 31,
    "start_time": "2023-08-26T08:47:12.599Z"
   },
   {
    "duration": 15,
    "start_time": "2023-08-26T08:47:12.634Z"
   },
   {
    "duration": 13,
    "start_time": "2023-08-26T08:47:12.652Z"
   },
   {
    "duration": 7,
    "start_time": "2023-08-26T08:47:12.667Z"
   },
   {
    "duration": 8,
    "start_time": "2023-08-26T08:47:12.676Z"
   },
   {
    "duration": 51,
    "start_time": "2023-08-26T08:47:12.686Z"
   },
   {
    "duration": 12,
    "start_time": "2023-08-26T08:47:12.739Z"
   },
   {
    "duration": 4,
    "start_time": "2023-08-26T08:47:12.756Z"
   },
   {
    "duration": 116,
    "start_time": "2023-08-26T08:47:12.762Z"
   },
   {
    "duration": 0,
    "start_time": "2023-08-26T08:47:12.880Z"
   },
   {
    "duration": 0,
    "start_time": "2023-08-26T08:47:12.882Z"
   },
   {
    "duration": 1,
    "start_time": "2023-08-26T08:47:12.883Z"
   },
   {
    "duration": 0,
    "start_time": "2023-08-26T08:47:12.885Z"
   },
   {
    "duration": 0,
    "start_time": "2023-08-26T08:47:12.886Z"
   },
   {
    "duration": 0,
    "start_time": "2023-08-26T08:47:12.888Z"
   },
   {
    "duration": 542,
    "start_time": "2023-08-26T08:50:39.936Z"
   },
   {
    "duration": 22,
    "start_time": "2023-08-26T08:50:40.480Z"
   },
   {
    "duration": 119,
    "start_time": "2023-08-26T08:50:40.504Z"
   },
   {
    "duration": 71,
    "start_time": "2023-08-26T08:50:40.625Z"
   },
   {
    "duration": 101,
    "start_time": "2023-08-26T08:50:40.698Z"
   },
   {
    "duration": 68,
    "start_time": "2023-08-26T08:50:40.801Z"
   },
   {
    "duration": 22,
    "start_time": "2023-08-26T08:50:40.871Z"
   },
   {
    "duration": 12,
    "start_time": "2023-08-26T08:50:40.896Z"
   },
   {
    "duration": 127,
    "start_time": "2023-08-26T08:50:40.910Z"
   },
   {
    "duration": 46,
    "start_time": "2023-08-26T08:50:41.039Z"
   },
   {
    "duration": 96,
    "start_time": "2023-08-26T08:50:41.087Z"
   },
   {
    "duration": 25,
    "start_time": "2023-08-26T08:50:41.185Z"
   },
   {
    "duration": 21,
    "start_time": "2023-08-26T08:50:41.212Z"
   },
   {
    "duration": 40,
    "start_time": "2023-08-26T08:50:41.239Z"
   },
   {
    "duration": 52,
    "start_time": "2023-08-26T08:50:41.281Z"
   },
   {
    "duration": 138,
    "start_time": "2023-08-26T08:50:41.336Z"
   },
   {
    "duration": 72,
    "start_time": "2023-08-26T08:50:41.476Z"
   },
   {
    "duration": 31,
    "start_time": "2023-08-26T08:50:41.550Z"
   },
   {
    "duration": 20,
    "start_time": "2023-08-26T08:50:41.583Z"
   },
   {
    "duration": 21,
    "start_time": "2023-08-26T08:50:41.604Z"
   },
   {
    "duration": 34,
    "start_time": "2023-08-26T08:50:41.627Z"
   },
   {
    "duration": 59,
    "start_time": "2023-08-26T08:50:41.663Z"
   },
   {
    "duration": 32,
    "start_time": "2023-08-26T08:50:41.724Z"
   },
   {
    "duration": 29,
    "start_time": "2023-08-26T08:50:41.758Z"
   },
   {
    "duration": 29,
    "start_time": "2023-08-26T08:50:41.789Z"
   },
   {
    "duration": 34,
    "start_time": "2023-08-26T08:50:41.820Z"
   },
   {
    "duration": 39,
    "start_time": "2023-08-26T08:50:41.856Z"
   },
   {
    "duration": 26,
    "start_time": "2023-08-26T08:50:41.896Z"
   },
   {
    "duration": 149,
    "start_time": "2023-08-26T08:50:41.926Z"
   },
   {
    "duration": 0,
    "start_time": "2023-08-26T08:50:42.077Z"
   },
   {
    "duration": 0,
    "start_time": "2023-08-26T08:50:42.079Z"
   },
   {
    "duration": 0,
    "start_time": "2023-08-26T08:50:42.080Z"
   },
   {
    "duration": 0,
    "start_time": "2023-08-26T08:50:42.082Z"
   },
   {
    "duration": 0,
    "start_time": "2023-08-26T08:50:42.083Z"
   },
   {
    "duration": 0,
    "start_time": "2023-08-26T08:50:42.085Z"
   },
   {
    "duration": 11,
    "start_time": "2023-08-26T08:51:00.086Z"
   },
   {
    "duration": 20,
    "start_time": "2023-08-26T08:53:30.237Z"
   },
   {
    "duration": 8,
    "start_time": "2023-08-26T08:56:40.658Z"
   },
   {
    "duration": 12,
    "start_time": "2023-08-26T08:57:13.998Z"
   },
   {
    "duration": 8,
    "start_time": "2023-08-26T08:57:16.562Z"
   },
   {
    "duration": 13,
    "start_time": "2023-08-26T09:06:58.186Z"
   },
   {
    "duration": 15,
    "start_time": "2023-08-26T09:09:22.254Z"
   },
   {
    "duration": 9,
    "start_time": "2023-08-26T09:09:25.513Z"
   },
   {
    "duration": 9,
    "start_time": "2023-08-26T09:09:36.471Z"
   },
   {
    "duration": 8,
    "start_time": "2023-08-26T09:13:45.493Z"
   },
   {
    "duration": 573,
    "start_time": "2023-08-26T09:34:09.513Z"
   },
   {
    "duration": 50,
    "start_time": "2023-08-26T09:34:10.089Z"
   },
   {
    "duration": 20,
    "start_time": "2023-08-26T09:34:10.145Z"
   },
   {
    "duration": 13,
    "start_time": "2023-08-26T09:34:10.168Z"
   },
   {
    "duration": 75,
    "start_time": "2023-08-26T09:34:10.184Z"
   },
   {
    "duration": 4,
    "start_time": "2023-08-26T09:34:10.262Z"
   },
   {
    "duration": 13,
    "start_time": "2023-08-26T09:34:10.269Z"
   },
   {
    "duration": 8,
    "start_time": "2023-08-26T09:34:10.284Z"
   },
   {
    "duration": 37,
    "start_time": "2023-08-26T09:34:10.295Z"
   },
   {
    "duration": 14,
    "start_time": "2023-08-26T09:34:10.335Z"
   },
   {
    "duration": 46,
    "start_time": "2023-08-26T09:34:10.351Z"
   },
   {
    "duration": 41,
    "start_time": "2023-08-26T09:34:10.399Z"
   },
   {
    "duration": 5,
    "start_time": "2023-08-26T09:34:10.443Z"
   },
   {
    "duration": 21,
    "start_time": "2023-08-26T09:34:10.450Z"
   },
   {
    "duration": 51,
    "start_time": "2023-08-26T09:34:10.473Z"
   },
   {
    "duration": 28,
    "start_time": "2023-08-26T09:34:10.528Z"
   },
   {
    "duration": 4,
    "start_time": "2023-08-26T09:34:10.558Z"
   },
   {
    "duration": 12,
    "start_time": "2023-08-26T09:34:10.564Z"
   },
   {
    "duration": 6,
    "start_time": "2023-08-26T09:34:10.578Z"
   },
   {
    "duration": 38,
    "start_time": "2023-08-26T09:34:10.586Z"
   },
   {
    "duration": 16,
    "start_time": "2023-08-26T09:34:10.627Z"
   },
   {
    "duration": 6,
    "start_time": "2023-08-26T09:34:10.646Z"
   },
   {
    "duration": 17,
    "start_time": "2023-08-26T09:34:10.655Z"
   },
   {
    "duration": 7,
    "start_time": "2023-08-26T09:34:10.674Z"
   },
   {
    "duration": 45,
    "start_time": "2023-08-26T09:34:10.683Z"
   },
   {
    "duration": 24,
    "start_time": "2023-08-26T09:34:10.731Z"
   },
   {
    "duration": 7,
    "start_time": "2023-08-26T09:34:10.757Z"
   },
   {
    "duration": 5,
    "start_time": "2023-08-26T09:34:10.765Z"
   },
   {
    "duration": 13,
    "start_time": "2023-08-26T09:34:10.771Z"
   },
   {
    "duration": 49,
    "start_time": "2023-08-26T09:34:10.785Z"
   },
   {
    "duration": 12,
    "start_time": "2023-08-26T09:34:10.836Z"
   },
   {
    "duration": 12,
    "start_time": "2023-08-26T09:34:10.850Z"
   },
   {
    "duration": 9,
    "start_time": "2023-08-26T09:34:10.864Z"
   },
   {
    "duration": 59,
    "start_time": "2023-08-26T09:34:10.875Z"
   },
   {
    "duration": 14,
    "start_time": "2023-08-26T09:34:10.936Z"
   },
   {
    "duration": 6,
    "start_time": "2023-08-26T10:25:56.574Z"
   },
   {
    "duration": 463,
    "start_time": "2023-08-26T10:33:33.674Z"
   },
   {
    "duration": 30,
    "start_time": "2023-08-26T10:33:34.139Z"
   },
   {
    "duration": 15,
    "start_time": "2023-08-26T10:33:34.171Z"
   },
   {
    "duration": 11,
    "start_time": "2023-08-26T10:33:34.187Z"
   },
   {
    "duration": 44,
    "start_time": "2023-08-26T10:33:34.225Z"
   },
   {
    "duration": 3,
    "start_time": "2023-08-26T10:33:34.270Z"
   },
   {
    "duration": 13,
    "start_time": "2023-08-26T10:33:34.275Z"
   },
   {
    "duration": 3,
    "start_time": "2023-08-26T10:33:34.289Z"
   },
   {
    "duration": 10,
    "start_time": "2023-08-26T10:33:34.294Z"
   },
   {
    "duration": 40,
    "start_time": "2023-08-26T10:33:34.305Z"
   },
   {
    "duration": 35,
    "start_time": "2023-08-26T10:33:34.348Z"
   },
   {
    "duration": 9,
    "start_time": "2023-08-26T10:33:34.384Z"
   },
   {
    "duration": 8,
    "start_time": "2023-08-26T10:33:34.395Z"
   },
   {
    "duration": 10,
    "start_time": "2023-08-26T10:33:34.405Z"
   },
   {
    "duration": 33,
    "start_time": "2023-08-26T10:33:34.417Z"
   },
   {
    "duration": 16,
    "start_time": "2023-08-26T10:33:34.452Z"
   },
   {
    "duration": 4,
    "start_time": "2023-08-26T10:33:34.469Z"
   },
   {
    "duration": 22,
    "start_time": "2023-08-26T10:33:34.474Z"
   },
   {
    "duration": 13,
    "start_time": "2023-08-26T10:33:34.498Z"
   },
   {
    "duration": 5,
    "start_time": "2023-08-26T10:33:34.512Z"
   },
   {
    "duration": 30,
    "start_time": "2023-08-26T10:33:34.518Z"
   },
   {
    "duration": 7,
    "start_time": "2023-08-26T10:33:34.550Z"
   },
   {
    "duration": 12,
    "start_time": "2023-08-26T10:33:34.559Z"
   },
   {
    "duration": 5,
    "start_time": "2023-08-26T10:33:34.573Z"
   },
   {
    "duration": 13,
    "start_time": "2023-08-26T10:33:34.580Z"
   },
   {
    "duration": 11,
    "start_time": "2023-08-26T10:33:34.595Z"
   },
   {
    "duration": 28,
    "start_time": "2023-08-26T10:33:34.608Z"
   },
   {
    "duration": 4,
    "start_time": "2023-08-26T10:33:34.638Z"
   },
   {
    "duration": 19,
    "start_time": "2023-08-26T10:33:34.644Z"
   },
   {
    "duration": 12,
    "start_time": "2023-08-26T10:33:34.665Z"
   },
   {
    "duration": 6,
    "start_time": "2023-08-26T10:33:34.679Z"
   },
   {
    "duration": 48,
    "start_time": "2023-08-26T10:33:34.687Z"
   },
   {
    "duration": 10,
    "start_time": "2023-08-26T10:33:34.737Z"
   },
   {
    "duration": 14,
    "start_time": "2023-08-26T10:33:34.748Z"
   },
   {
    "duration": 6,
    "start_time": "2023-08-26T10:33:34.764Z"
   },
   {
    "duration": 87,
    "start_time": "2023-08-26T10:52:06.099Z"
   },
   {
    "duration": 15,
    "start_time": "2023-08-26T10:52:06.188Z"
   },
   {
    "duration": 23,
    "start_time": "2023-08-26T10:52:06.205Z"
   },
   {
    "duration": 13,
    "start_time": "2023-08-26T10:52:06.229Z"
   },
   {
    "duration": 29,
    "start_time": "2023-08-26T10:52:06.243Z"
   },
   {
    "duration": 3,
    "start_time": "2023-08-26T10:52:06.274Z"
   },
   {
    "duration": 21,
    "start_time": "2023-08-26T10:52:06.278Z"
   },
   {
    "duration": 8,
    "start_time": "2023-08-26T10:52:06.300Z"
   },
   {
    "duration": 15,
    "start_time": "2023-08-26T10:52:06.310Z"
   },
   {
    "duration": 8,
    "start_time": "2023-08-26T10:52:06.326Z"
   },
   {
    "duration": 32,
    "start_time": "2023-08-26T10:52:06.336Z"
   },
   {
    "duration": 10,
    "start_time": "2023-08-26T10:52:06.370Z"
   },
   {
    "duration": 8,
    "start_time": "2023-08-26T10:52:06.382Z"
   },
   {
    "duration": 24,
    "start_time": "2023-08-26T10:52:06.392Z"
   },
   {
    "duration": 63,
    "start_time": "2023-08-26T10:52:06.418Z"
   },
   {
    "duration": 25,
    "start_time": "2023-08-26T10:52:06.483Z"
   },
   {
    "duration": 4,
    "start_time": "2023-08-26T10:52:06.510Z"
   },
   {
    "duration": 20,
    "start_time": "2023-08-26T10:52:06.516Z"
   },
   {
    "duration": 9,
    "start_time": "2023-08-26T10:52:06.538Z"
   },
   {
    "duration": 6,
    "start_time": "2023-08-26T10:52:06.548Z"
   },
   {
    "duration": 13,
    "start_time": "2023-08-26T10:52:06.555Z"
   },
   {
    "duration": 11,
    "start_time": "2023-08-26T10:52:06.570Z"
   },
   {
    "duration": 16,
    "start_time": "2023-08-26T10:52:06.583Z"
   },
   {
    "duration": 6,
    "start_time": "2023-08-26T10:52:06.601Z"
   },
   {
    "duration": 6,
    "start_time": "2023-08-26T10:52:06.608Z"
   },
   {
    "duration": 26,
    "start_time": "2023-08-26T10:52:06.616Z"
   },
   {
    "duration": 6,
    "start_time": "2023-08-26T10:52:06.644Z"
   },
   {
    "duration": 7,
    "start_time": "2023-08-26T10:52:06.652Z"
   },
   {
    "duration": 16,
    "start_time": "2023-08-26T10:52:06.661Z"
   },
   {
    "duration": 12,
    "start_time": "2023-08-26T10:52:06.678Z"
   },
   {
    "duration": 6,
    "start_time": "2023-08-26T10:52:06.691Z"
   },
   {
    "duration": 38,
    "start_time": "2023-08-26T10:52:06.699Z"
   },
   {
    "duration": 7,
    "start_time": "2023-08-26T10:52:06.739Z"
   },
   {
    "duration": 17,
    "start_time": "2023-08-26T10:52:06.747Z"
   },
   {
    "duration": 13,
    "start_time": "2023-08-26T10:52:06.766Z"
   },
   {
    "duration": 649,
    "start_time": "2023-08-26T13:23:04.861Z"
   },
   {
    "duration": 22,
    "start_time": "2023-08-26T13:23:05.513Z"
   },
   {
    "duration": 26,
    "start_time": "2023-08-26T13:23:05.536Z"
   },
   {
    "duration": 37,
    "start_time": "2023-08-26T13:23:05.564Z"
   },
   {
    "duration": 38,
    "start_time": "2023-08-26T13:23:05.603Z"
   },
   {
    "duration": 4,
    "start_time": "2023-08-26T13:23:05.643Z"
   },
   {
    "duration": 30,
    "start_time": "2023-08-26T13:23:05.648Z"
   },
   {
    "duration": 15,
    "start_time": "2023-08-26T13:23:05.680Z"
   },
   {
    "duration": 12,
    "start_time": "2023-08-26T13:23:05.696Z"
   },
   {
    "duration": 16,
    "start_time": "2023-08-26T13:23:05.710Z"
   },
   {
    "duration": 51,
    "start_time": "2023-08-26T13:23:05.727Z"
   },
   {
    "duration": 8,
    "start_time": "2023-08-26T13:23:05.780Z"
   },
   {
    "duration": 26,
    "start_time": "2023-08-26T13:23:05.789Z"
   },
   {
    "duration": 14,
    "start_time": "2023-08-26T13:23:05.818Z"
   },
   {
    "duration": 37,
    "start_time": "2023-08-26T13:23:05.834Z"
   },
   {
    "duration": 19,
    "start_time": "2023-08-26T13:23:05.873Z"
   },
   {
    "duration": 8,
    "start_time": "2023-08-26T13:23:05.894Z"
   },
   {
    "duration": 12,
    "start_time": "2023-08-26T13:23:05.903Z"
   },
   {
    "duration": 11,
    "start_time": "2023-08-26T13:23:05.916Z"
   },
   {
    "duration": 3,
    "start_time": "2023-08-26T13:23:05.928Z"
   },
   {
    "duration": 14,
    "start_time": "2023-08-26T13:23:05.933Z"
   },
   {
    "duration": 17,
    "start_time": "2023-08-26T13:23:05.948Z"
   },
   {
    "duration": 14,
    "start_time": "2023-08-26T13:23:05.966Z"
   },
   {
    "duration": 5,
    "start_time": "2023-08-26T13:23:05.982Z"
   },
   {
    "duration": 17,
    "start_time": "2023-08-26T13:23:05.988Z"
   },
   {
    "duration": 16,
    "start_time": "2023-08-26T13:23:06.006Z"
   },
   {
    "duration": 19,
    "start_time": "2023-08-26T13:23:06.023Z"
   },
   {
    "duration": 10,
    "start_time": "2023-08-26T13:23:06.044Z"
   },
   {
    "duration": 35,
    "start_time": "2023-08-26T13:23:06.056Z"
   },
   {
    "duration": 28,
    "start_time": "2023-08-26T13:23:06.093Z"
   },
   {
    "duration": 6,
    "start_time": "2023-08-26T13:23:06.123Z"
   },
   {
    "duration": 14,
    "start_time": "2023-08-26T13:23:06.130Z"
   },
   {
    "duration": 9,
    "start_time": "2023-08-26T13:23:06.146Z"
   },
   {
    "duration": 11,
    "start_time": "2023-08-26T13:23:06.156Z"
   },
   {
    "duration": 6,
    "start_time": "2023-08-26T13:23:06.168Z"
   },
   {
    "duration": 46,
    "start_time": "2023-08-27T03:33:59.367Z"
   },
   {
    "duration": 808,
    "start_time": "2023-08-27T03:34:22.671Z"
   },
   {
    "duration": 21,
    "start_time": "2023-08-27T03:34:23.481Z"
   },
   {
    "duration": 14,
    "start_time": "2023-08-27T03:34:23.503Z"
   },
   {
    "duration": 9,
    "start_time": "2023-08-27T03:34:23.518Z"
   },
   {
    "duration": 38,
    "start_time": "2023-08-27T03:34:23.528Z"
   },
   {
    "duration": 6,
    "start_time": "2023-08-27T03:34:23.571Z"
   },
   {
    "duration": 8,
    "start_time": "2023-08-27T03:34:23.579Z"
   },
   {
    "duration": 4,
    "start_time": "2023-08-27T03:34:23.588Z"
   },
   {
    "duration": 9,
    "start_time": "2023-08-27T03:34:23.593Z"
   },
   {
    "duration": 5,
    "start_time": "2023-08-27T03:34:23.603Z"
   },
   {
    "duration": 66,
    "start_time": "2023-08-27T03:34:23.610Z"
   },
   {
    "duration": 10,
    "start_time": "2023-08-27T03:34:23.677Z"
   },
   {
    "duration": 9,
    "start_time": "2023-08-27T03:34:23.689Z"
   },
   {
    "duration": 11,
    "start_time": "2023-08-27T03:34:23.701Z"
   },
   {
    "duration": 18,
    "start_time": "2023-08-27T03:34:23.713Z"
   },
   {
    "duration": 42,
    "start_time": "2023-08-27T03:34:23.732Z"
   },
   {
    "duration": 5,
    "start_time": "2023-08-27T03:34:23.777Z"
   },
   {
    "duration": 12,
    "start_time": "2023-08-27T03:34:23.783Z"
   },
   {
    "duration": 5,
    "start_time": "2023-08-27T03:34:23.797Z"
   },
   {
    "duration": 3,
    "start_time": "2023-08-27T03:34:23.803Z"
   },
   {
    "duration": 19,
    "start_time": "2023-08-27T03:34:23.807Z"
   },
   {
    "duration": 10,
    "start_time": "2023-08-27T03:34:23.827Z"
   },
   {
    "duration": 25,
    "start_time": "2023-08-27T03:34:23.838Z"
   },
   {
    "duration": 14,
    "start_time": "2023-08-27T03:34:23.864Z"
   },
   {
    "duration": 5,
    "start_time": "2023-08-27T03:34:23.880Z"
   },
   {
    "duration": 11,
    "start_time": "2023-08-27T03:34:23.886Z"
   },
   {
    "duration": 5,
    "start_time": "2023-08-27T03:34:23.898Z"
   },
   {
    "duration": 8,
    "start_time": "2023-08-27T03:34:23.904Z"
   },
   {
    "duration": 41,
    "start_time": "2023-08-27T03:34:23.913Z"
   },
   {
    "duration": 16,
    "start_time": "2023-08-27T03:34:23.955Z"
   },
   {
    "duration": 9,
    "start_time": "2023-08-27T03:34:23.976Z"
   },
   {
    "duration": 16,
    "start_time": "2023-08-27T03:34:23.988Z"
   },
   {
    "duration": 10,
    "start_time": "2023-08-27T03:34:24.006Z"
   },
   {
    "duration": 41,
    "start_time": "2023-08-27T03:34:24.017Z"
   },
   {
    "duration": 7,
    "start_time": "2023-08-27T03:34:24.059Z"
   },
   {
    "duration": 559,
    "start_time": "2023-08-27T03:37:58.079Z"
   },
   {
    "duration": 22,
    "start_time": "2023-08-27T03:43:43.374Z"
   },
   {
    "duration": 9,
    "start_time": "2023-08-27T03:44:26.685Z"
   },
   {
    "duration": 8,
    "start_time": "2023-08-27T03:44:31.389Z"
   },
   {
    "duration": 20,
    "start_time": "2023-08-27T03:44:44.178Z"
   },
   {
    "duration": 483,
    "start_time": "2023-08-27T03:45:28.686Z"
   },
   {
    "duration": 28,
    "start_time": "2023-08-27T03:45:29.173Z"
   },
   {
    "duration": 14,
    "start_time": "2023-08-27T03:45:29.203Z"
   },
   {
    "duration": 9,
    "start_time": "2023-08-27T03:45:29.218Z"
   },
   {
    "duration": 59,
    "start_time": "2023-08-27T03:45:29.228Z"
   },
   {
    "duration": 4,
    "start_time": "2023-08-27T03:45:29.288Z"
   },
   {
    "duration": 16,
    "start_time": "2023-08-27T03:45:29.293Z"
   },
   {
    "duration": 3,
    "start_time": "2023-08-27T03:45:29.311Z"
   },
   {
    "duration": 6,
    "start_time": "2023-08-27T03:45:29.316Z"
   },
   {
    "duration": 4,
    "start_time": "2023-08-27T03:45:29.323Z"
   },
   {
    "duration": 64,
    "start_time": "2023-08-27T03:45:29.328Z"
   },
   {
    "duration": 9,
    "start_time": "2023-08-27T03:45:29.394Z"
   },
   {
    "duration": 4,
    "start_time": "2023-08-27T03:45:29.404Z"
   },
   {
    "duration": 10,
    "start_time": "2023-08-27T03:45:29.410Z"
   },
   {
    "duration": 64,
    "start_time": "2023-08-27T03:45:29.421Z"
   },
   {
    "duration": 16,
    "start_time": "2023-08-27T03:45:29.490Z"
   },
   {
    "duration": 3,
    "start_time": "2023-08-27T03:45:29.507Z"
   },
   {
    "duration": 10,
    "start_time": "2023-08-27T03:45:29.512Z"
   },
   {
    "duration": 5,
    "start_time": "2023-08-27T03:45:29.524Z"
   },
   {
    "duration": 3,
    "start_time": "2023-08-27T03:45:29.530Z"
   },
   {
    "duration": 9,
    "start_time": "2023-08-27T03:45:29.535Z"
   },
   {
    "duration": 17,
    "start_time": "2023-08-27T03:45:29.545Z"
   },
   {
    "duration": 84,
    "start_time": "2023-08-27T03:45:29.564Z"
   },
   {
    "duration": 0,
    "start_time": "2023-08-27T03:45:29.660Z"
   },
   {
    "duration": 0,
    "start_time": "2023-08-27T03:45:29.661Z"
   },
   {
    "duration": 0,
    "start_time": "2023-08-27T03:45:29.662Z"
   },
   {
    "duration": 0,
    "start_time": "2023-08-27T03:45:29.663Z"
   },
   {
    "duration": 0,
    "start_time": "2023-08-27T03:45:29.664Z"
   },
   {
    "duration": 0,
    "start_time": "2023-08-27T03:45:29.665Z"
   },
   {
    "duration": 0,
    "start_time": "2023-08-27T03:45:29.666Z"
   },
   {
    "duration": 0,
    "start_time": "2023-08-27T03:45:29.666Z"
   },
   {
    "duration": 0,
    "start_time": "2023-08-27T03:45:29.667Z"
   },
   {
    "duration": 0,
    "start_time": "2023-08-27T03:45:29.668Z"
   },
   {
    "duration": 0,
    "start_time": "2023-08-27T03:45:29.669Z"
   },
   {
    "duration": 0,
    "start_time": "2023-08-27T03:45:29.671Z"
   },
   {
    "duration": 20,
    "start_time": "2023-08-27T03:45:33.872Z"
   },
   {
    "duration": 16,
    "start_time": "2023-08-27T03:45:51.988Z"
   },
   {
    "duration": 34,
    "start_time": "2023-08-27T03:47:38.486Z"
   },
   {
    "duration": 30,
    "start_time": "2023-08-27T03:49:25.947Z"
   },
   {
    "duration": 13,
    "start_time": "2023-08-27T03:51:16.686Z"
   },
   {
    "duration": 19,
    "start_time": "2023-08-27T03:55:38.085Z"
   },
   {
    "duration": 17,
    "start_time": "2023-08-27T03:56:42.449Z"
   },
   {
    "duration": 65,
    "start_time": "2023-08-27T15:40:04.944Z"
   },
   {
    "duration": 13,
    "start_time": "2023-08-27T15:40:54.974Z"
   },
   {
    "duration": 667,
    "start_time": "2023-08-27T15:41:04.783Z"
   },
   {
    "duration": 38,
    "start_time": "2023-08-27T15:41:05.452Z"
   },
   {
    "duration": 41,
    "start_time": "2023-08-27T15:41:05.495Z"
   },
   {
    "duration": 15,
    "start_time": "2023-08-27T15:41:05.538Z"
   },
   {
    "duration": 57,
    "start_time": "2023-08-27T15:41:05.554Z"
   },
   {
    "duration": 12,
    "start_time": "2023-08-27T15:41:05.613Z"
   },
   {
    "duration": 11,
    "start_time": "2023-08-27T15:41:05.628Z"
   },
   {
    "duration": 5,
    "start_time": "2023-08-27T15:41:05.640Z"
   },
   {
    "duration": 30,
    "start_time": "2023-08-27T15:41:05.647Z"
   },
   {
    "duration": 10,
    "start_time": "2023-08-27T15:41:05.682Z"
   },
   {
    "duration": 69,
    "start_time": "2023-08-27T15:41:05.694Z"
   },
   {
    "duration": 17,
    "start_time": "2023-08-27T15:41:05.769Z"
   },
   {
    "duration": 5,
    "start_time": "2023-08-27T15:41:05.791Z"
   },
   {
    "duration": 24,
    "start_time": "2023-08-27T15:41:05.800Z"
   },
   {
    "duration": 28,
    "start_time": "2023-08-27T15:41:05.826Z"
   },
   {
    "duration": 31,
    "start_time": "2023-08-27T15:41:05.856Z"
   },
   {
    "duration": 10,
    "start_time": "2023-08-27T15:41:05.897Z"
   },
   {
    "duration": 15,
    "start_time": "2023-08-27T15:41:05.912Z"
   },
   {
    "duration": 9,
    "start_time": "2023-08-27T15:41:05.930Z"
   },
   {
    "duration": 12,
    "start_time": "2023-08-27T15:41:05.940Z"
   },
   {
    "duration": 40,
    "start_time": "2023-08-27T15:41:05.953Z"
   },
   {
    "duration": 8,
    "start_time": "2023-08-27T15:41:06.006Z"
   },
   {
    "duration": 119,
    "start_time": "2023-08-27T15:41:06.016Z"
   },
   {
    "duration": 0,
    "start_time": "2023-08-27T15:41:06.137Z"
   },
   {
    "duration": 0,
    "start_time": "2023-08-27T15:41:06.138Z"
   },
   {
    "duration": 0,
    "start_time": "2023-08-27T15:41:06.139Z"
   },
   {
    "duration": 0,
    "start_time": "2023-08-27T15:41:06.140Z"
   },
   {
    "duration": 0,
    "start_time": "2023-08-27T15:41:06.141Z"
   },
   {
    "duration": 0,
    "start_time": "2023-08-27T15:41:06.142Z"
   },
   {
    "duration": 0,
    "start_time": "2023-08-27T15:41:06.144Z"
   },
   {
    "duration": 0,
    "start_time": "2023-08-27T15:41:06.145Z"
   },
   {
    "duration": 0,
    "start_time": "2023-08-27T15:41:06.146Z"
   },
   {
    "duration": 0,
    "start_time": "2023-08-27T15:41:06.147Z"
   },
   {
    "duration": 0,
    "start_time": "2023-08-27T15:41:06.156Z"
   },
   {
    "duration": 0,
    "start_time": "2023-08-27T15:41:06.161Z"
   },
   {
    "duration": 37,
    "start_time": "2023-08-27T15:47:43.249Z"
   },
   {
    "duration": 51,
    "start_time": "2023-08-27T15:49:22.781Z"
   },
   {
    "duration": 75,
    "start_time": "2023-08-27T15:55:28.940Z"
   },
   {
    "duration": 43,
    "start_time": "2023-08-27T15:57:28.628Z"
   },
   {
    "duration": 65,
    "start_time": "2023-08-27T15:57:44.641Z"
   },
   {
    "duration": 31,
    "start_time": "2023-08-27T16:08:00.505Z"
   },
   {
    "duration": 68,
    "start_time": "2023-08-27T16:08:31.150Z"
   },
   {
    "duration": 54,
    "start_time": "2023-08-27T16:08:54.649Z"
   },
   {
    "duration": 48,
    "start_time": "2023-08-27T16:09:21.047Z"
   },
   {
    "duration": 43,
    "start_time": "2023-08-27T16:13:06.220Z"
   },
   {
    "duration": 51,
    "start_time": "2023-08-27T16:13:18.928Z"
   },
   {
    "duration": 38,
    "start_time": "2023-08-27T16:13:29.095Z"
   },
   {
    "duration": 35,
    "start_time": "2023-08-27T16:14:13.708Z"
   },
   {
    "duration": 34,
    "start_time": "2023-08-27T16:14:38.201Z"
   },
   {
    "duration": 51,
    "start_time": "2023-08-27T16:14:44.330Z"
   },
   {
    "duration": 664,
    "start_time": "2023-08-28T00:47:45.656Z"
   },
   {
    "duration": 24,
    "start_time": "2023-08-28T00:47:46.323Z"
   },
   {
    "duration": 42,
    "start_time": "2023-08-28T00:47:46.349Z"
   },
   {
    "duration": 12,
    "start_time": "2023-08-28T00:47:46.394Z"
   },
   {
    "duration": 47,
    "start_time": "2023-08-28T00:47:46.408Z"
   },
   {
    "duration": 3,
    "start_time": "2023-08-28T00:47:46.457Z"
   },
   {
    "duration": 29,
    "start_time": "2023-08-28T00:47:46.462Z"
   },
   {
    "duration": 15,
    "start_time": "2023-08-28T00:47:46.493Z"
   },
   {
    "duration": 15,
    "start_time": "2023-08-28T00:47:46.510Z"
   },
   {
    "duration": 9,
    "start_time": "2023-08-28T00:47:46.529Z"
   },
   {
    "duration": 53,
    "start_time": "2023-08-28T00:47:46.540Z"
   },
   {
    "duration": 10,
    "start_time": "2023-08-28T00:47:46.594Z"
   },
   {
    "duration": 9,
    "start_time": "2023-08-28T00:47:46.606Z"
   },
   {
    "duration": 42,
    "start_time": "2023-08-28T00:47:46.617Z"
   },
   {
    "duration": 41,
    "start_time": "2023-08-28T00:47:46.661Z"
   },
   {
    "duration": 33,
    "start_time": "2023-08-28T00:47:46.703Z"
   },
   {
    "duration": 4,
    "start_time": "2023-08-28T00:47:46.737Z"
   },
   {
    "duration": 34,
    "start_time": "2023-08-28T00:47:46.742Z"
   },
   {
    "duration": 18,
    "start_time": "2023-08-28T00:47:46.778Z"
   },
   {
    "duration": 17,
    "start_time": "2023-08-28T00:47:46.797Z"
   },
   {
    "duration": 27,
    "start_time": "2023-08-28T00:47:46.816Z"
   },
   {
    "duration": 28,
    "start_time": "2023-08-28T00:47:46.845Z"
   },
   {
    "duration": 60,
    "start_time": "2023-08-28T00:47:46.874Z"
   },
   {
    "duration": 2,
    "start_time": "2023-08-28T00:47:46.936Z"
   },
   {
    "duration": 32,
    "start_time": "2023-08-28T00:47:46.940Z"
   },
   {
    "duration": 21,
    "start_time": "2023-08-28T00:47:46.975Z"
   },
   {
    "duration": 26,
    "start_time": "2023-08-28T00:47:46.998Z"
   },
   {
    "duration": 20,
    "start_time": "2023-08-28T00:47:47.027Z"
   },
   {
    "duration": 21,
    "start_time": "2023-08-28T00:47:47.048Z"
   },
   {
    "duration": 27,
    "start_time": "2023-08-28T00:47:47.071Z"
   },
   {
    "duration": 30,
    "start_time": "2023-08-28T00:47:47.099Z"
   },
   {
    "duration": 27,
    "start_time": "2023-08-28T00:47:47.131Z"
   },
   {
    "duration": 21,
    "start_time": "2023-08-28T00:47:47.160Z"
   },
   {
    "duration": 45,
    "start_time": "2023-08-28T00:47:47.183Z"
   },
   {
    "duration": 25,
    "start_time": "2023-08-28T00:47:47.230Z"
   },
   {
    "duration": 38,
    "start_time": "2023-08-28T00:49:11.324Z"
   },
   {
    "duration": 92,
    "start_time": "2023-08-28T00:50:14.486Z"
   },
   {
    "duration": 514,
    "start_time": "2023-08-28T00:50:33.978Z"
   },
   {
    "duration": 22,
    "start_time": "2023-08-28T00:50:34.495Z"
   },
   {
    "duration": 32,
    "start_time": "2023-08-28T00:50:34.518Z"
   },
   {
    "duration": 14,
    "start_time": "2023-08-28T00:50:34.551Z"
   },
   {
    "duration": 46,
    "start_time": "2023-08-28T00:50:34.567Z"
   },
   {
    "duration": 3,
    "start_time": "2023-08-28T00:50:34.615Z"
   },
   {
    "duration": 13,
    "start_time": "2023-08-28T00:50:34.620Z"
   },
   {
    "duration": 14,
    "start_time": "2023-08-28T00:50:34.634Z"
   },
   {
    "duration": 7,
    "start_time": "2023-08-28T00:50:34.650Z"
   },
   {
    "duration": 7,
    "start_time": "2023-08-28T00:50:34.659Z"
   },
   {
    "duration": 65,
    "start_time": "2023-08-28T00:50:34.668Z"
   },
   {
    "duration": 14,
    "start_time": "2023-08-28T00:50:34.735Z"
   },
   {
    "duration": 5,
    "start_time": "2023-08-28T00:50:34.752Z"
   },
   {
    "duration": 16,
    "start_time": "2023-08-28T00:50:34.762Z"
   },
   {
    "duration": 24,
    "start_time": "2023-08-28T00:50:34.803Z"
   },
   {
    "duration": 18,
    "start_time": "2023-08-28T00:50:34.829Z"
   },
   {
    "duration": 4,
    "start_time": "2023-08-28T00:50:34.850Z"
   },
   {
    "duration": 14,
    "start_time": "2023-08-28T00:50:34.856Z"
   },
   {
    "duration": 32,
    "start_time": "2023-08-28T00:50:34.872Z"
   },
   {
    "duration": 5,
    "start_time": "2023-08-28T00:50:34.905Z"
   },
   {
    "duration": 13,
    "start_time": "2023-08-28T00:50:34.911Z"
   },
   {
    "duration": 10,
    "start_time": "2023-08-28T00:50:34.925Z"
   },
   {
    "duration": 109,
    "start_time": "2023-08-28T00:50:34.937Z"
   },
   {
    "duration": 0,
    "start_time": "2023-08-28T00:50:35.048Z"
   },
   {
    "duration": 0,
    "start_time": "2023-08-28T00:50:35.049Z"
   },
   {
    "duration": 0,
    "start_time": "2023-08-28T00:50:35.050Z"
   },
   {
    "duration": 0,
    "start_time": "2023-08-28T00:50:35.051Z"
   },
   {
    "duration": 0,
    "start_time": "2023-08-28T00:50:35.052Z"
   },
   {
    "duration": 0,
    "start_time": "2023-08-28T00:50:35.053Z"
   },
   {
    "duration": 0,
    "start_time": "2023-08-28T00:50:35.054Z"
   },
   {
    "duration": 0,
    "start_time": "2023-08-28T00:50:35.055Z"
   },
   {
    "duration": 0,
    "start_time": "2023-08-28T00:50:35.056Z"
   },
   {
    "duration": 0,
    "start_time": "2023-08-28T00:50:35.057Z"
   },
   {
    "duration": 0,
    "start_time": "2023-08-28T00:50:35.058Z"
   },
   {
    "duration": 0,
    "start_time": "2023-08-28T00:50:35.059Z"
   },
   {
    "duration": 31,
    "start_time": "2023-08-28T00:50:51.883Z"
   },
   {
    "duration": 27,
    "start_time": "2023-08-28T00:51:02.422Z"
   },
   {
    "duration": 2989,
    "start_time": "2023-08-28T00:51:27.898Z"
   },
   {
    "duration": 2144,
    "start_time": "2023-08-28T00:51:31.370Z"
   },
   {
    "duration": 27,
    "start_time": "2023-08-28T00:52:48.321Z"
   },
   {
    "duration": 63,
    "start_time": "2023-08-28T00:53:07.268Z"
   },
   {
    "duration": 77,
    "start_time": "2023-08-28T00:53:17.486Z"
   },
   {
    "duration": 56,
    "start_time": "2023-08-28T00:53:45.452Z"
   },
   {
    "duration": 70,
    "start_time": "2023-08-28T00:54:19.264Z"
   },
   {
    "duration": 26,
    "start_time": "2023-08-28T00:54:32.213Z"
   },
   {
    "duration": 29,
    "start_time": "2023-08-28T00:54:52.040Z"
   },
   {
    "duration": 28,
    "start_time": "2023-08-28T00:55:49.992Z"
   },
   {
    "duration": 30,
    "start_time": "2023-08-28T00:56:15.233Z"
   },
   {
    "duration": 27,
    "start_time": "2023-08-28T00:56:31.900Z"
   },
   {
    "duration": 26,
    "start_time": "2023-08-28T00:57:11.715Z"
   },
   {
    "duration": 27,
    "start_time": "2023-08-28T00:57:27.698Z"
   },
   {
    "duration": 24,
    "start_time": "2023-08-28T00:57:35.532Z"
   },
   {
    "duration": 26,
    "start_time": "2023-08-28T00:57:49.218Z"
   },
   {
    "duration": 92,
    "start_time": "2023-08-28T00:58:03.214Z"
   },
   {
    "duration": 31,
    "start_time": "2023-08-28T00:58:14.657Z"
   },
   {
    "duration": 32,
    "start_time": "2023-08-28T00:58:48.856Z"
   },
   {
    "duration": 26,
    "start_time": "2023-08-28T00:59:17.684Z"
   },
   {
    "duration": 30,
    "start_time": "2023-08-28T01:00:03.153Z"
   },
   {
    "duration": 29,
    "start_time": "2023-08-28T01:00:12.812Z"
   },
   {
    "duration": 451,
    "start_time": "2023-08-28T01:02:13.862Z"
   },
   {
    "duration": 24,
    "start_time": "2023-08-28T01:02:14.316Z"
   },
   {
    "duration": 20,
    "start_time": "2023-08-28T01:02:14.343Z"
   },
   {
    "duration": 20,
    "start_time": "2023-08-28T01:02:14.365Z"
   },
   {
    "duration": 44,
    "start_time": "2023-08-28T01:02:14.387Z"
   },
   {
    "duration": 4,
    "start_time": "2023-08-28T01:02:14.433Z"
   },
   {
    "duration": 14,
    "start_time": "2023-08-28T01:02:14.439Z"
   },
   {
    "duration": 4,
    "start_time": "2023-08-28T01:02:14.455Z"
   },
   {
    "duration": 12,
    "start_time": "2023-08-28T01:02:14.461Z"
   },
   {
    "duration": 26,
    "start_time": "2023-08-28T01:02:14.476Z"
   },
   {
    "duration": 33,
    "start_time": "2023-08-28T01:02:14.504Z"
   },
   {
    "duration": 12,
    "start_time": "2023-08-28T01:02:14.538Z"
   },
   {
    "duration": 5,
    "start_time": "2023-08-28T01:02:14.551Z"
   },
   {
    "duration": 12,
    "start_time": "2023-08-28T01:02:14.557Z"
   },
   {
    "duration": 52,
    "start_time": "2023-08-28T01:02:14.571Z"
   },
   {
    "duration": 20,
    "start_time": "2023-08-28T01:02:14.625Z"
   },
   {
    "duration": 5,
    "start_time": "2023-08-28T01:02:14.647Z"
   },
   {
    "duration": 23,
    "start_time": "2023-08-28T01:02:14.653Z"
   },
   {
    "duration": 23,
    "start_time": "2023-08-28T01:02:14.679Z"
   },
   {
    "duration": 4,
    "start_time": "2023-08-28T01:02:14.704Z"
   },
   {
    "duration": 11,
    "start_time": "2023-08-28T01:02:14.711Z"
   },
   {
    "duration": 11,
    "start_time": "2023-08-28T01:02:14.724Z"
   },
   {
    "duration": 114,
    "start_time": "2023-08-28T01:02:14.737Z"
   },
   {
    "duration": 0,
    "start_time": "2023-08-28T01:02:14.853Z"
   },
   {
    "duration": 0,
    "start_time": "2023-08-28T01:02:14.855Z"
   },
   {
    "duration": 0,
    "start_time": "2023-08-28T01:02:14.856Z"
   },
   {
    "duration": 0,
    "start_time": "2023-08-28T01:02:14.857Z"
   },
   {
    "duration": 0,
    "start_time": "2023-08-28T01:02:14.858Z"
   },
   {
    "duration": 0,
    "start_time": "2023-08-28T01:02:14.859Z"
   },
   {
    "duration": 0,
    "start_time": "2023-08-28T01:02:14.861Z"
   },
   {
    "duration": 0,
    "start_time": "2023-08-28T01:02:14.862Z"
   },
   {
    "duration": 0,
    "start_time": "2023-08-28T01:02:14.863Z"
   },
   {
    "duration": 0,
    "start_time": "2023-08-28T01:02:14.864Z"
   },
   {
    "duration": 0,
    "start_time": "2023-08-28T01:02:14.865Z"
   },
   {
    "duration": 0,
    "start_time": "2023-08-28T01:02:14.866Z"
   },
   {
    "duration": 29,
    "start_time": "2023-08-28T01:03:46.487Z"
   },
   {
    "duration": 27,
    "start_time": "2023-08-28T01:03:58.992Z"
   },
   {
    "duration": 26,
    "start_time": "2023-08-28T01:04:11.903Z"
   },
   {
    "duration": 134,
    "start_time": "2023-08-28T01:10:35.593Z"
   },
   {
    "duration": 89,
    "start_time": "2023-08-28T01:11:06.242Z"
   },
   {
    "duration": 142,
    "start_time": "2023-08-28T01:11:56.900Z"
   },
   {
    "duration": 92,
    "start_time": "2023-08-28T01:12:04.776Z"
   },
   {
    "duration": 87,
    "start_time": "2023-08-28T01:15:23.458Z"
   },
   {
    "duration": 7,
    "start_time": "2023-08-28T01:15:44.120Z"
   },
   {
    "duration": 16,
    "start_time": "2023-08-28T01:16:01.732Z"
   },
   {
    "duration": 15,
    "start_time": "2023-08-28T01:16:56.593Z"
   },
   {
    "duration": 12,
    "start_time": "2023-08-28T01:18:23.611Z"
   },
   {
    "duration": 11,
    "start_time": "2023-08-28T01:18:47.846Z"
   },
   {
    "duration": 474,
    "start_time": "2023-08-28T01:19:09.934Z"
   },
   {
    "duration": 21,
    "start_time": "2023-08-28T01:19:10.410Z"
   },
   {
    "duration": 28,
    "start_time": "2023-08-28T01:19:10.433Z"
   },
   {
    "duration": 21,
    "start_time": "2023-08-28T01:19:10.462Z"
   },
   {
    "duration": 56,
    "start_time": "2023-08-28T01:19:10.485Z"
   },
   {
    "duration": 4,
    "start_time": "2023-08-28T01:19:10.543Z"
   },
   {
    "duration": 27,
    "start_time": "2023-08-28T01:19:10.549Z"
   },
   {
    "duration": 24,
    "start_time": "2023-08-28T01:19:10.577Z"
   },
   {
    "duration": 27,
    "start_time": "2023-08-28T01:19:10.604Z"
   },
   {
    "duration": 28,
    "start_time": "2023-08-28T01:19:10.633Z"
   },
   {
    "duration": 66,
    "start_time": "2023-08-28T01:19:10.662Z"
   },
   {
    "duration": 10,
    "start_time": "2023-08-28T01:19:10.730Z"
   },
   {
    "duration": 35,
    "start_time": "2023-08-28T01:19:10.741Z"
   },
   {
    "duration": 24,
    "start_time": "2023-08-28T01:19:10.778Z"
   },
   {
    "duration": 35,
    "start_time": "2023-08-28T01:19:10.804Z"
   },
   {
    "duration": 18,
    "start_time": "2023-08-28T01:19:10.841Z"
   },
   {
    "duration": 15,
    "start_time": "2023-08-28T01:19:10.861Z"
   },
   {
    "duration": 46,
    "start_time": "2023-08-28T01:19:10.878Z"
   },
   {
    "duration": 50,
    "start_time": "2023-08-28T01:19:10.926Z"
   },
   {
    "duration": 21,
    "start_time": "2023-08-28T01:19:10.978Z"
   },
   {
    "duration": 36,
    "start_time": "2023-08-28T01:19:11.001Z"
   },
   {
    "duration": 27,
    "start_time": "2023-08-28T01:19:11.039Z"
   },
   {
    "duration": 35,
    "start_time": "2023-08-28T01:19:11.068Z"
   },
   {
    "duration": 32,
    "start_time": "2023-08-28T01:19:11.105Z"
   },
   {
    "duration": 46,
    "start_time": "2023-08-28T01:19:11.139Z"
   },
   {
    "duration": 15,
    "start_time": "2023-08-28T01:19:11.186Z"
   },
   {
    "duration": 82,
    "start_time": "2023-08-28T01:19:11.203Z"
   },
   {
    "duration": 0,
    "start_time": "2023-08-28T01:19:11.287Z"
   },
   {
    "duration": 0,
    "start_time": "2023-08-28T01:19:11.288Z"
   },
   {
    "duration": 0,
    "start_time": "2023-08-28T01:19:11.289Z"
   },
   {
    "duration": 0,
    "start_time": "2023-08-28T01:19:11.290Z"
   },
   {
    "duration": 0,
    "start_time": "2023-08-28T01:19:11.291Z"
   },
   {
    "duration": 0,
    "start_time": "2023-08-28T01:19:11.293Z"
   },
   {
    "duration": 0,
    "start_time": "2023-08-28T01:19:11.294Z"
   },
   {
    "duration": 0,
    "start_time": "2023-08-28T01:19:11.295Z"
   },
   {
    "duration": 14,
    "start_time": "2023-08-28T01:19:54.172Z"
   },
   {
    "duration": 27,
    "start_time": "2023-08-28T01:20:01.731Z"
   },
   {
    "duration": 9,
    "start_time": "2023-08-28T01:20:08.011Z"
   },
   {
    "duration": 62,
    "start_time": "2023-08-28T01:20:32.740Z"
   },
   {
    "duration": 76,
    "start_time": "2023-08-28T01:20:55.507Z"
   },
   {
    "duration": 58,
    "start_time": "2023-08-28T01:21:28.371Z"
   },
   {
    "duration": 1531,
    "start_time": "2023-08-28T01:21:37.981Z"
   },
   {
    "duration": 51,
    "start_time": "2023-08-28T01:21:47.613Z"
   },
   {
    "duration": 61,
    "start_time": "2023-08-28T01:22:12.031Z"
   },
   {
    "duration": 32,
    "start_time": "2023-08-28T01:22:34.618Z"
   },
   {
    "duration": 4,
    "start_time": "2023-08-28T01:27:16.942Z"
   },
   {
    "duration": 5,
    "start_time": "2023-08-28T01:28:58.048Z"
   },
   {
    "duration": 14,
    "start_time": "2023-08-28T01:29:08.027Z"
   },
   {
    "duration": 291,
    "start_time": "2023-08-28T01:30:35.009Z"
   },
   {
    "duration": 87,
    "start_time": "2023-08-28T01:30:48.888Z"
   },
   {
    "duration": 4,
    "start_time": "2023-08-28T01:31:40.870Z"
   },
   {
    "duration": 4,
    "start_time": "2023-08-28T01:32:12.642Z"
   },
   {
    "duration": 3,
    "start_time": "2023-08-28T01:32:32.087Z"
   },
   {
    "duration": 4,
    "start_time": "2023-08-28T01:34:15.943Z"
   },
   {
    "duration": 1749,
    "start_time": "2023-08-28T01:34:49.020Z"
   },
   {
    "duration": 27,
    "start_time": "2023-08-28T01:35:07.167Z"
   },
   {
    "duration": 26,
    "start_time": "2023-08-28T01:35:17.898Z"
   },
   {
    "duration": 1114,
    "start_time": "2023-08-28T01:36:08.884Z"
   },
   {
    "duration": 13,
    "start_time": "2023-08-28T01:37:12.169Z"
   },
   {
    "duration": 13,
    "start_time": "2023-08-28T01:47:43.902Z"
   },
   {
    "duration": 489,
    "start_time": "2023-08-28T02:07:09.010Z"
   },
   {
    "duration": 24,
    "start_time": "2023-08-28T02:07:09.501Z"
   },
   {
    "duration": 22,
    "start_time": "2023-08-28T02:07:09.527Z"
   },
   {
    "duration": 15,
    "start_time": "2023-08-28T02:07:09.551Z"
   },
   {
    "duration": 52,
    "start_time": "2023-08-28T02:07:09.569Z"
   },
   {
    "duration": 4,
    "start_time": "2023-08-28T02:07:09.623Z"
   },
   {
    "duration": 37,
    "start_time": "2023-08-28T02:07:09.629Z"
   },
   {
    "duration": 19,
    "start_time": "2023-08-28T02:07:09.668Z"
   },
   {
    "duration": 20,
    "start_time": "2023-08-28T02:07:09.689Z"
   },
   {
    "duration": 19,
    "start_time": "2023-08-28T02:07:09.711Z"
   },
   {
    "duration": 53,
    "start_time": "2023-08-28T02:07:09.731Z"
   },
   {
    "duration": 12,
    "start_time": "2023-08-28T02:07:09.786Z"
   },
   {
    "duration": 8,
    "start_time": "2023-08-28T02:07:09.799Z"
   },
   {
    "duration": 19,
    "start_time": "2023-08-28T02:07:09.811Z"
   },
   {
    "duration": 52,
    "start_time": "2023-08-28T02:07:09.831Z"
   },
   {
    "duration": 28,
    "start_time": "2023-08-28T02:07:09.886Z"
   },
   {
    "duration": 24,
    "start_time": "2023-08-28T02:07:09.915Z"
   },
   {
    "duration": 57,
    "start_time": "2023-08-28T02:07:09.941Z"
   },
   {
    "duration": 32,
    "start_time": "2023-08-28T02:07:10.001Z"
   },
   {
    "duration": 47,
    "start_time": "2023-08-28T02:07:10.035Z"
   },
   {
    "duration": 41,
    "start_time": "2023-08-28T02:07:10.084Z"
   },
   {
    "duration": 45,
    "start_time": "2023-08-28T02:07:10.127Z"
   },
   {
    "duration": 57,
    "start_time": "2023-08-28T02:07:10.173Z"
   },
   {
    "duration": 3423,
    "start_time": "2023-08-28T02:07:10.232Z"
   },
   {
    "duration": 0,
    "start_time": "2023-08-28T02:07:13.657Z"
   },
   {
    "duration": 0,
    "start_time": "2023-08-28T02:07:13.658Z"
   },
   {
    "duration": 0,
    "start_time": "2023-08-28T02:07:13.659Z"
   },
   {
    "duration": 0,
    "start_time": "2023-08-28T02:07:13.660Z"
   },
   {
    "duration": 0,
    "start_time": "2023-08-28T02:07:13.661Z"
   },
   {
    "duration": 0,
    "start_time": "2023-08-28T02:07:13.663Z"
   },
   {
    "duration": 0,
    "start_time": "2023-08-28T02:07:13.664Z"
   },
   {
    "duration": 0,
    "start_time": "2023-08-28T02:07:13.665Z"
   },
   {
    "duration": 0,
    "start_time": "2023-08-28T02:07:13.666Z"
   },
   {
    "duration": 0,
    "start_time": "2023-08-28T02:07:13.667Z"
   },
   {
    "duration": 0,
    "start_time": "2023-08-28T02:07:13.669Z"
   },
   {
    "duration": 3240,
    "start_time": "2023-08-28T02:09:23.876Z"
   },
   {
    "duration": 17,
    "start_time": "2023-08-28T02:09:33.313Z"
   },
   {
    "duration": 47,
    "start_time": "2023-08-28T02:09:54.305Z"
   },
   {
    "duration": 7,
    "start_time": "2023-08-28T02:10:18.172Z"
   },
   {
    "duration": 2,
    "start_time": "2023-08-28T02:10:24.776Z"
   },
   {
    "duration": 36,
    "start_time": "2023-08-28T02:12:21.502Z"
   },
   {
    "duration": 33,
    "start_time": "2023-08-28T02:14:39.055Z"
   },
   {
    "duration": 17,
    "start_time": "2023-08-28T02:20:29.807Z"
   },
   {
    "duration": 485,
    "start_time": "2023-08-28T02:21:24.912Z"
   },
   {
    "duration": 24,
    "start_time": "2023-08-28T02:21:25.398Z"
   },
   {
    "duration": 16,
    "start_time": "2023-08-28T02:21:25.424Z"
   },
   {
    "duration": 22,
    "start_time": "2023-08-28T02:21:25.441Z"
   },
   {
    "duration": 52,
    "start_time": "2023-08-28T02:21:25.465Z"
   },
   {
    "duration": 5,
    "start_time": "2023-08-28T02:21:25.519Z"
   },
   {
    "duration": 26,
    "start_time": "2023-08-28T02:21:25.526Z"
   },
   {
    "duration": 5,
    "start_time": "2023-08-28T02:21:25.554Z"
   },
   {
    "duration": 28,
    "start_time": "2023-08-28T02:21:25.560Z"
   },
   {
    "duration": 27,
    "start_time": "2023-08-28T02:21:25.590Z"
   },
   {
    "duration": 47,
    "start_time": "2023-08-28T02:21:25.619Z"
   },
   {
    "duration": 11,
    "start_time": "2023-08-28T02:21:25.668Z"
   },
   {
    "duration": 40,
    "start_time": "2023-08-28T02:21:25.680Z"
   },
   {
    "duration": 33,
    "start_time": "2023-08-28T02:21:25.723Z"
   },
   {
    "duration": 66,
    "start_time": "2023-08-28T02:21:25.758Z"
   },
   {
    "duration": 34,
    "start_time": "2023-08-28T02:21:25.827Z"
   },
   {
    "duration": 4,
    "start_time": "2023-08-28T02:21:25.863Z"
   },
   {
    "duration": 54,
    "start_time": "2023-08-28T02:21:25.869Z"
   },
   {
    "duration": 36,
    "start_time": "2023-08-28T02:21:25.925Z"
   },
   {
    "duration": 19,
    "start_time": "2023-08-28T02:21:25.963Z"
   },
   {
    "duration": 12,
    "start_time": "2023-08-28T02:21:25.984Z"
   },
   {
    "duration": 30,
    "start_time": "2023-08-28T02:21:25.998Z"
   },
   {
    "duration": 50,
    "start_time": "2023-08-28T02:21:26.030Z"
   },
   {
    "duration": 12,
    "start_time": "2023-08-28T02:21:26.082Z"
   },
   {
    "duration": 11,
    "start_time": "2023-08-28T02:21:26.095Z"
   },
   {
    "duration": 44,
    "start_time": "2023-08-28T02:21:26.108Z"
   },
   {
    "duration": 27,
    "start_time": "2023-08-28T02:21:26.154Z"
   },
   {
    "duration": 23,
    "start_time": "2023-08-28T02:21:26.183Z"
   },
   {
    "duration": 19,
    "start_time": "2023-08-28T02:21:26.208Z"
   },
   {
    "duration": 13,
    "start_time": "2023-08-28T02:21:26.229Z"
   },
   {
    "duration": 9,
    "start_time": "2023-08-28T02:21:26.244Z"
   },
   {
    "duration": 23,
    "start_time": "2023-08-28T02:21:26.255Z"
   },
   {
    "duration": 25,
    "start_time": "2023-08-28T02:21:26.280Z"
   },
   {
    "duration": 8,
    "start_time": "2023-08-28T02:21:26.307Z"
   },
   {
    "duration": 17,
    "start_time": "2023-08-28T02:21:26.317Z"
   },
   {
    "duration": 12,
    "start_time": "2023-08-28T02:21:26.336Z"
   },
   {
    "duration": 14,
    "start_time": "2023-08-28T02:21:54.797Z"
   },
   {
    "duration": 19,
    "start_time": "2023-08-28T02:22:24.665Z"
   },
   {
    "duration": 499,
    "start_time": "2023-08-28T02:22:49.308Z"
   },
   {
    "duration": 23,
    "start_time": "2023-08-28T02:22:49.809Z"
   },
   {
    "duration": 15,
    "start_time": "2023-08-28T02:22:49.834Z"
   },
   {
    "duration": 10,
    "start_time": "2023-08-28T02:22:49.851Z"
   },
   {
    "duration": 66,
    "start_time": "2023-08-28T02:22:49.862Z"
   },
   {
    "duration": 3,
    "start_time": "2023-08-28T02:22:49.930Z"
   },
   {
    "duration": 14,
    "start_time": "2023-08-28T02:22:49.935Z"
   },
   {
    "duration": 4,
    "start_time": "2023-08-28T02:22:49.951Z"
   },
   {
    "duration": 14,
    "start_time": "2023-08-28T02:22:49.956Z"
   },
   {
    "duration": 29,
    "start_time": "2023-08-28T02:22:49.973Z"
   },
   {
    "duration": 62,
    "start_time": "2023-08-28T02:22:50.004Z"
   },
   {
    "duration": 10,
    "start_time": "2023-08-28T02:22:50.067Z"
   },
   {
    "duration": 11,
    "start_time": "2023-08-28T02:22:50.079Z"
   },
   {
    "duration": 39,
    "start_time": "2023-08-28T02:22:50.092Z"
   },
   {
    "duration": 33,
    "start_time": "2023-08-28T02:22:50.133Z"
   },
   {
    "duration": 24,
    "start_time": "2023-08-28T02:22:50.167Z"
   },
   {
    "duration": 4,
    "start_time": "2023-08-28T02:22:50.193Z"
   },
   {
    "duration": 22,
    "start_time": "2023-08-28T02:22:50.199Z"
   },
   {
    "duration": 14,
    "start_time": "2023-08-28T02:22:50.223Z"
   },
   {
    "duration": 24,
    "start_time": "2023-08-28T02:22:50.239Z"
   },
   {
    "duration": 18,
    "start_time": "2023-08-28T02:22:50.265Z"
   },
   {
    "duration": 25,
    "start_time": "2023-08-28T02:22:50.285Z"
   },
   {
    "duration": 40,
    "start_time": "2023-08-28T02:22:50.312Z"
   },
   {
    "duration": 14,
    "start_time": "2023-08-28T02:22:50.354Z"
   },
   {
    "duration": 7,
    "start_time": "2023-08-28T02:22:50.373Z"
   },
   {
    "duration": 42,
    "start_time": "2023-08-28T02:22:50.382Z"
   },
   {
    "duration": 13,
    "start_time": "2023-08-28T02:22:50.426Z"
   },
   {
    "duration": 3,
    "start_time": "2023-08-28T02:22:50.442Z"
   },
   {
    "duration": 5,
    "start_time": "2023-08-28T02:22:50.446Z"
   },
   {
    "duration": 3,
    "start_time": "2023-08-28T02:22:50.453Z"
   },
   {
    "duration": 5,
    "start_time": "2023-08-28T02:22:50.458Z"
   },
   {
    "duration": 4,
    "start_time": "2023-08-28T02:22:50.465Z"
   },
   {
    "duration": 44,
    "start_time": "2023-08-28T02:22:50.470Z"
   },
   {
    "duration": 7,
    "start_time": "2023-08-28T02:22:50.516Z"
   },
   {
    "duration": 15,
    "start_time": "2023-08-28T02:22:50.525Z"
   },
   {
    "duration": 7,
    "start_time": "2023-08-28T02:22:50.543Z"
   },
   {
    "duration": 35,
    "start_time": "2023-08-28T04:13:06.788Z"
   },
   {
    "duration": 32,
    "start_time": "2023-08-28T04:13:22.317Z"
   },
   {
    "duration": 2,
    "start_time": "2023-08-28T04:13:38.944Z"
   },
   {
    "duration": 14,
    "start_time": "2023-08-28T04:27:34.517Z"
   },
   {
    "duration": 14,
    "start_time": "2023-08-28T04:28:09.198Z"
   },
   {
    "duration": 50,
    "start_time": "2023-08-28T05:36:56.186Z"
   },
   {
    "duration": 16,
    "start_time": "2023-08-28T05:39:08.104Z"
   },
   {
    "duration": 1020,
    "start_time": "2023-08-28T09:30:16.637Z"
   },
   {
    "duration": 19,
    "start_time": "2023-08-28T09:30:17.659Z"
   },
   {
    "duration": 17,
    "start_time": "2023-08-28T09:30:17.679Z"
   },
   {
    "duration": 20,
    "start_time": "2023-08-28T09:30:17.698Z"
   },
   {
    "duration": 59,
    "start_time": "2023-08-28T09:30:17.719Z"
   },
   {
    "duration": 3,
    "start_time": "2023-08-28T09:30:17.779Z"
   },
   {
    "duration": 40,
    "start_time": "2023-08-28T09:30:17.784Z"
   },
   {
    "duration": 23,
    "start_time": "2023-08-28T09:30:17.826Z"
   },
   {
    "duration": 55,
    "start_time": "2023-08-28T09:30:17.851Z"
   },
   {
    "duration": 14,
    "start_time": "2023-08-28T09:30:17.908Z"
   },
   {
    "duration": 44,
    "start_time": "2023-08-28T09:30:17.923Z"
   },
   {
    "duration": 16,
    "start_time": "2023-08-28T09:30:17.968Z"
   },
   {
    "duration": 55,
    "start_time": "2023-08-28T09:30:17.986Z"
   },
   {
    "duration": 23,
    "start_time": "2023-08-28T09:30:18.042Z"
   },
   {
    "duration": 158,
    "start_time": "2023-08-28T09:30:18.066Z"
   },
   {
    "duration": 34,
    "start_time": "2023-08-28T09:30:18.226Z"
   },
   {
    "duration": 24,
    "start_time": "2023-08-28T09:30:18.262Z"
   },
   {
    "duration": 35,
    "start_time": "2023-08-28T09:30:18.287Z"
   },
   {
    "duration": 22,
    "start_time": "2023-08-28T09:30:18.323Z"
   },
   {
    "duration": 21,
    "start_time": "2023-08-28T09:30:18.347Z"
   },
   {
    "duration": 49,
    "start_time": "2023-08-28T09:30:18.369Z"
   },
   {
    "duration": 26,
    "start_time": "2023-08-28T09:30:18.420Z"
   },
   {
    "duration": 47,
    "start_time": "2023-08-28T09:30:18.447Z"
   },
   {
    "duration": 10,
    "start_time": "2023-08-28T09:30:18.496Z"
   },
   {
    "duration": 33,
    "start_time": "2023-08-28T09:30:18.508Z"
   },
   {
    "duration": 41,
    "start_time": "2023-08-28T09:30:18.543Z"
   },
   {
    "duration": 12,
    "start_time": "2023-08-28T09:30:18.585Z"
   },
   {
    "duration": 30,
    "start_time": "2023-08-28T09:30:18.600Z"
   },
   {
    "duration": 20,
    "start_time": "2023-08-28T09:30:18.632Z"
   },
   {
    "duration": 20,
    "start_time": "2023-08-28T09:30:18.653Z"
   },
   {
    "duration": 8,
    "start_time": "2023-08-28T09:30:18.675Z"
   },
   {
    "duration": 18,
    "start_time": "2023-08-28T09:30:18.684Z"
   },
   {
    "duration": 72,
    "start_time": "2023-08-28T09:30:18.703Z"
   },
   {
    "duration": 25,
    "start_time": "2023-08-28T09:30:18.776Z"
   },
   {
    "duration": 49,
    "start_time": "2023-08-28T09:30:18.802Z"
   },
   {
    "duration": 12,
    "start_time": "2023-08-28T09:30:18.853Z"
   },
   {
    "duration": 461,
    "start_time": "2023-08-28T09:44:44.566Z"
   },
   {
    "duration": 20,
    "start_time": "2023-08-28T09:44:45.029Z"
   },
   {
    "duration": 25,
    "start_time": "2023-08-28T09:44:45.051Z"
   },
   {
    "duration": 45,
    "start_time": "2023-08-28T09:44:45.078Z"
   },
   {
    "duration": 57,
    "start_time": "2023-08-28T09:44:45.125Z"
   },
   {
    "duration": 3,
    "start_time": "2023-08-28T09:44:45.184Z"
   },
   {
    "duration": 89,
    "start_time": "2023-08-28T09:44:45.188Z"
   },
   {
    "duration": 24,
    "start_time": "2023-08-28T09:44:45.278Z"
   },
   {
    "duration": 22,
    "start_time": "2023-08-28T09:44:45.304Z"
   },
   {
    "duration": 14,
    "start_time": "2023-08-28T09:44:45.328Z"
   },
   {
    "duration": 48,
    "start_time": "2023-08-28T09:44:45.343Z"
   },
   {
    "duration": 10,
    "start_time": "2023-08-28T09:44:45.393Z"
   },
   {
    "duration": 46,
    "start_time": "2023-08-28T09:44:45.405Z"
   },
   {
    "duration": 134,
    "start_time": "2023-08-28T09:44:45.453Z"
   },
   {
    "duration": 38,
    "start_time": "2023-08-28T09:44:45.588Z"
   },
   {
    "duration": 19,
    "start_time": "2023-08-28T09:44:45.628Z"
   },
   {
    "duration": 4,
    "start_time": "2023-08-28T09:44:45.648Z"
   },
   {
    "duration": 23,
    "start_time": "2023-08-28T09:44:45.654Z"
   },
   {
    "duration": 16,
    "start_time": "2023-08-28T09:44:45.678Z"
   },
   {
    "duration": 6,
    "start_time": "2023-08-28T09:44:45.695Z"
   },
   {
    "duration": 9,
    "start_time": "2023-08-28T09:44:45.702Z"
   },
   {
    "duration": 4,
    "start_time": "2023-08-28T09:44:45.713Z"
   },
   {
    "duration": 38,
    "start_time": "2023-08-28T09:44:45.719Z"
   },
   {
    "duration": 12,
    "start_time": "2023-08-28T09:44:45.759Z"
   },
   {
    "duration": 14,
    "start_time": "2023-08-28T09:44:45.773Z"
   },
   {
    "duration": 32,
    "start_time": "2023-08-28T09:44:45.789Z"
   },
   {
    "duration": 20,
    "start_time": "2023-08-28T09:44:45.823Z"
   },
   {
    "duration": 3,
    "start_time": "2023-08-28T09:44:45.846Z"
   },
   {
    "duration": 4,
    "start_time": "2023-08-28T09:44:45.850Z"
   },
   {
    "duration": 17,
    "start_time": "2023-08-28T09:44:45.856Z"
   },
   {
    "duration": 5,
    "start_time": "2023-08-28T09:44:45.874Z"
   },
   {
    "duration": 15,
    "start_time": "2023-08-28T09:44:45.881Z"
   },
   {
    "duration": 32,
    "start_time": "2023-08-28T09:44:45.897Z"
   },
   {
    "duration": 11,
    "start_time": "2023-08-28T09:44:45.930Z"
   },
   {
    "duration": 28,
    "start_time": "2023-08-28T09:44:45.942Z"
   },
   {
    "duration": 12,
    "start_time": "2023-08-28T09:44:45.971Z"
   },
   {
    "duration": 433,
    "start_time": "2023-08-28T09:48:36.196Z"
   },
   {
    "duration": 20,
    "start_time": "2023-08-28T09:48:36.631Z"
   },
   {
    "duration": 31,
    "start_time": "2023-08-28T09:48:36.652Z"
   },
   {
    "duration": 53,
    "start_time": "2023-08-28T09:48:36.684Z"
   },
   {
    "duration": 54,
    "start_time": "2023-08-28T09:48:36.740Z"
   },
   {
    "duration": 5,
    "start_time": "2023-08-28T09:48:36.796Z"
   },
   {
    "duration": 21,
    "start_time": "2023-08-28T09:48:36.803Z"
   },
   {
    "duration": 19,
    "start_time": "2023-08-28T09:48:36.826Z"
   },
   {
    "duration": 37,
    "start_time": "2023-08-28T09:48:36.847Z"
   },
   {
    "duration": 30,
    "start_time": "2023-08-28T09:48:36.885Z"
   },
   {
    "duration": 54,
    "start_time": "2023-08-28T09:48:36.917Z"
   },
   {
    "duration": 10,
    "start_time": "2023-08-28T09:48:36.973Z"
   },
   {
    "duration": 111,
    "start_time": "2023-08-28T09:48:36.984Z"
   },
   {
    "duration": 19,
    "start_time": "2023-08-28T09:48:37.097Z"
   },
   {
    "duration": 17,
    "start_time": "2023-08-28T09:48:37.118Z"
   },
   {
    "duration": 16,
    "start_time": "2023-08-28T09:48:37.136Z"
   },
   {
    "duration": 3,
    "start_time": "2023-08-28T09:48:37.153Z"
   },
   {
    "duration": 11,
    "start_time": "2023-08-28T09:48:37.158Z"
   },
   {
    "duration": 5,
    "start_time": "2023-08-28T09:48:37.170Z"
   },
   {
    "duration": 3,
    "start_time": "2023-08-28T09:48:37.176Z"
   },
   {
    "duration": 17,
    "start_time": "2023-08-28T09:48:37.181Z"
   },
   {
    "duration": 9,
    "start_time": "2023-08-28T09:48:37.199Z"
   },
   {
    "duration": 42,
    "start_time": "2023-08-28T09:48:37.209Z"
   },
   {
    "duration": 10,
    "start_time": "2023-08-28T09:48:37.252Z"
   },
   {
    "duration": 20,
    "start_time": "2023-08-28T09:48:37.263Z"
   },
   {
    "duration": 34,
    "start_time": "2023-08-28T09:48:37.284Z"
   },
   {
    "duration": 14,
    "start_time": "2023-08-28T09:48:37.320Z"
   },
   {
    "duration": 7,
    "start_time": "2023-08-28T09:48:37.336Z"
   },
   {
    "duration": 5,
    "start_time": "2023-08-28T09:48:37.344Z"
   },
   {
    "duration": 16,
    "start_time": "2023-08-28T09:48:37.351Z"
   },
   {
    "duration": 8,
    "start_time": "2023-08-28T09:48:37.368Z"
   },
   {
    "duration": 5,
    "start_time": "2023-08-28T09:48:37.378Z"
   },
   {
    "duration": 33,
    "start_time": "2023-08-28T09:48:37.384Z"
   },
   {
    "duration": 11,
    "start_time": "2023-08-28T09:48:37.419Z"
   },
   {
    "duration": 30,
    "start_time": "2023-08-28T09:48:37.434Z"
   },
   {
    "duration": 11,
    "start_time": "2023-08-28T09:48:37.466Z"
   },
   {
    "duration": 599,
    "start_time": "2023-08-28T11:45:02.274Z"
   },
   {
    "duration": 25,
    "start_time": "2023-08-28T11:45:02.877Z"
   },
   {
    "duration": 128,
    "start_time": "2023-08-28T11:45:02.904Z"
   },
   {
    "duration": 25,
    "start_time": "2023-08-28T11:45:03.034Z"
   },
   {
    "duration": 76,
    "start_time": "2023-08-28T11:45:03.061Z"
   },
   {
    "duration": 23,
    "start_time": "2023-08-28T11:45:03.139Z"
   },
   {
    "duration": 103,
    "start_time": "2023-08-28T11:45:03.164Z"
   },
   {
    "duration": 236,
    "start_time": "2023-08-28T11:45:03.269Z"
   },
   {
    "duration": 32,
    "start_time": "2023-08-28T11:45:03.507Z"
   },
   {
    "duration": 19,
    "start_time": "2023-08-28T11:45:03.540Z"
   },
   {
    "duration": 53,
    "start_time": "2023-08-28T11:45:03.561Z"
   },
   {
    "duration": 10,
    "start_time": "2023-08-28T11:45:03.616Z"
   },
   {
    "duration": 10,
    "start_time": "2023-08-28T11:45:03.627Z"
   },
   {
    "duration": 28,
    "start_time": "2023-08-28T11:45:03.640Z"
   },
   {
    "duration": 43,
    "start_time": "2023-08-28T11:45:03.670Z"
   },
   {
    "duration": 33,
    "start_time": "2023-08-28T11:45:03.715Z"
   },
   {
    "duration": 4,
    "start_time": "2023-08-28T11:45:03.750Z"
   },
   {
    "duration": 32,
    "start_time": "2023-08-28T11:45:03.756Z"
   },
   {
    "duration": 15,
    "start_time": "2023-08-28T11:45:03.790Z"
   },
   {
    "duration": 93,
    "start_time": "2023-08-28T11:45:03.807Z"
   },
   {
    "duration": 88,
    "start_time": "2023-08-28T11:45:03.902Z"
   },
   {
    "duration": 17,
    "start_time": "2023-08-28T11:45:03.992Z"
   },
   {
    "duration": 61,
    "start_time": "2023-08-28T11:45:04.010Z"
   },
   {
    "duration": 12,
    "start_time": "2023-08-28T11:45:04.073Z"
   },
   {
    "duration": 28,
    "start_time": "2023-08-28T11:45:04.087Z"
   },
   {
    "duration": 56,
    "start_time": "2023-08-28T11:45:04.117Z"
   },
   {
    "duration": 15,
    "start_time": "2023-08-28T11:45:04.176Z"
   },
   {
    "duration": 7,
    "start_time": "2023-08-28T11:45:04.192Z"
   },
   {
    "duration": 17,
    "start_time": "2023-08-28T11:45:04.201Z"
   },
   {
    "duration": 16,
    "start_time": "2023-08-28T11:45:04.220Z"
   },
   {
    "duration": 23,
    "start_time": "2023-08-28T11:45:04.238Z"
   },
   {
    "duration": 18,
    "start_time": "2023-08-28T11:45:04.263Z"
   },
   {
    "duration": 41,
    "start_time": "2023-08-28T11:45:04.283Z"
   },
   {
    "duration": 13,
    "start_time": "2023-08-28T11:45:04.326Z"
   },
   {
    "duration": 54,
    "start_time": "2023-08-28T11:45:04.341Z"
   },
   {
    "duration": 16,
    "start_time": "2023-08-28T11:45:04.397Z"
   },
   {
    "duration": 508,
    "start_time": "2023-08-28T11:46:32.317Z"
   },
   {
    "duration": 597,
    "start_time": "2024-05-08T03:10:08.275Z"
   },
   {
    "duration": 23,
    "start_time": "2024-05-08T03:10:08.874Z"
   },
   {
    "duration": 17,
    "start_time": "2024-05-08T03:10:08.898Z"
   },
   {
    "duration": 10,
    "start_time": "2024-05-08T03:10:08.917Z"
   },
   {
    "duration": 47,
    "start_time": "2024-05-08T03:10:08.928Z"
   },
   {
    "duration": 3,
    "start_time": "2024-05-08T03:10:08.977Z"
   },
   {
    "duration": 8,
    "start_time": "2024-05-08T03:10:08.982Z"
   },
   {
    "duration": 4,
    "start_time": "2024-05-08T03:10:08.992Z"
   },
   {
    "duration": 7,
    "start_time": "2024-05-08T03:10:08.997Z"
   },
   {
    "duration": 4,
    "start_time": "2024-05-08T03:10:09.008Z"
   },
   {
    "duration": 66,
    "start_time": "2024-05-08T03:10:09.013Z"
   },
   {
    "duration": 10,
    "start_time": "2024-05-08T03:10:09.080Z"
   },
   {
    "duration": 4,
    "start_time": "2024-05-08T03:10:09.091Z"
   },
   {
    "duration": 20,
    "start_time": "2024-05-08T03:10:09.096Z"
   },
   {
    "duration": 23,
    "start_time": "2024-05-08T03:10:09.117Z"
   },
   {
    "duration": 28,
    "start_time": "2024-05-08T03:10:09.141Z"
   },
   {
    "duration": 3,
    "start_time": "2024-05-08T03:10:09.171Z"
   },
   {
    "duration": 15,
    "start_time": "2024-05-08T03:10:09.175Z"
   },
   {
    "duration": 5,
    "start_time": "2024-05-08T03:10:09.191Z"
   },
   {
    "duration": 4,
    "start_time": "2024-05-08T03:10:09.198Z"
   },
   {
    "duration": 11,
    "start_time": "2024-05-08T03:10:09.203Z"
   },
   {
    "duration": 5,
    "start_time": "2024-05-08T03:10:09.216Z"
   },
   {
    "duration": 67,
    "start_time": "2024-05-08T03:10:09.222Z"
   },
   {
    "duration": 17,
    "start_time": "2024-05-08T03:10:09.291Z"
   },
   {
    "duration": 10,
    "start_time": "2024-05-08T03:10:09.310Z"
   },
   {
    "duration": 72,
    "start_time": "2024-05-08T03:10:09.322Z"
   },
   {
    "duration": 13,
    "start_time": "2024-05-08T03:10:09.397Z"
   },
   {
    "duration": 49,
    "start_time": "2024-05-08T03:10:09.413Z"
   },
   {
    "duration": 13,
    "start_time": "2024-05-08T03:10:09.464Z"
   },
   {
    "duration": 34,
    "start_time": "2024-05-08T03:10:09.478Z"
   },
   {
    "duration": 13,
    "start_time": "2024-05-08T03:10:09.514Z"
   }
  ],
  "colab": {
   "name": "dpp_template_part2.ipynb",
   "provenance": []
  },
  "kernelspec": {
   "display_name": "Python 3 (ipykernel)",
   "language": "python",
   "name": "python3"
  },
  "language_info": {
   "codemirror_mode": {
    "name": "ipython",
    "version": 3
   },
   "file_extension": ".py",
   "mimetype": "text/x-python",
   "name": "python",
   "nbconvert_exporter": "python",
   "pygments_lexer": "ipython3",
   "version": "3.9.5"
  },
  "toc": {
   "base_numbering": 1,
   "nav_menu": {},
   "number_sections": true,
   "sideBar": true,
   "skip_h1_title": true,
   "title_cell": "Table of Contents",
   "title_sidebar": "Contents",
   "toc_cell": false,
   "toc_position": {
    "height": "calc(100% - 180px)",
    "left": "10px",
    "top": "150px",
    "width": "398.767px"
   },
   "toc_section_display": true,
   "toc_window_display": true
  }
 },
 "nbformat": 4,
 "nbformat_minor": 5
}
