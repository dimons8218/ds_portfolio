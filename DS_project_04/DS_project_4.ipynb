{
 "cells": [
  {
   "cell_type": "markdown",
   "id": "72ae8a9b",
   "metadata": {},
   "source": [
    "# Статистический анализ сервиса аренды самокатов GoFast"
   ]
  },
  {
   "cell_type": "markdown",
   "id": "4d2602de",
   "metadata": {},
   "source": [
    "Вы аналитик популярного сервиса аренды самокатов GoFast. Вам передали данные о некоторых пользователях из нескольких городов, а также об их поездках. \n",
    "\n",
    "Чтобы совершать поездки по городу, пользователи сервиса GoFast пользуются мобильным приложением. \n",
    "\n",
    "Сервисом можно пользоваться:\n",
    "1. без подписки:\n",
    "    - абонентская плата отсутствует;\n",
    "    - стоимость одной минуты поездки — 8 рублей;\n",
    "    - стоимость старта (начала поездки) — 50 рублей;\n",
    "2. с подпиской Ultra:\n",
    "    - абонентская плата — 199 рублей в месяц;\n",
    "    - стоимость одной минуты поездки — 6 рублей;\n",
    "    - стоимость старта — бесплатно.\n",
    "    \n",
    "**Описание данных**\n",
    "\n",
    "В основных данных есть информация о пользователях, их поездках и подписках:\n",
    "\n",
    "1) Пользователи — users_go.csv:\n",
    "- user_id - уникальный идентификатор пользователя\n",
    "- name - имя пользователя\n",
    "- age - возраст\n",
    "- city - город\n",
    "- subscription_type - тип подписки (free, ultra)\n",
    "\n",
    "2) Поездки — rides_go.csv:\n",
    "- user_id -\tуникальный идентификатор пользователя\n",
    "- distance - расстояние, которое пользователь проехал в текущей сессии (в метрах)\n",
    "- duration - продолжительность сессии (в минутах) — время с того момента, как пользователь нажал кнопку «Начать поездку» до момента, как он нажал кнопку «Завершить поездку»\n",
    "- date - дата совершения поездки\n",
    "\n",
    "3) Подписки — subscriptions_go.csv:\n",
    "- subscription_type - тип подписки\n",
    "- minute_price - стоимость одной минуты поездки по данной подписке\n",
    "- start_ride_price - стоимость начала поездки\n",
    "- subscription_fee - стоимость ежемесячного платежа\n",
    "\n",
    "**Задача**: проанализировать данные и проверить следующие гипотезы, которые могут помочь бизнесу вырасти:\n",
    "- понять, тратят ли пользователи с подпиской больше времени на поездки;\n",
    "- определить, что среднее расстояние, которое проезжают пользователи с подпиской за одну поездку, не превышает 3130 метров, т.е. оптимального с точки зрения износа самоката;\n",
    "- проверить, будет ли помесячная выручка от пользователей с подпиской по месяцам выше, чем выручка от пользователей без подписки.\n",
    "\n",
    "Для этого необходимо будет выполнить следующие действия:\n",
    "1. Загрузить данные и изучить общую информацию о каждом датафрейме.\n",
    "\n",
    "2. Предобработать данные: изменить, где это необходимо, типы данных; обработать дубликаты и пропущенные значения; создать по необходимости новые столбцы.\n",
    "\n",
    "3. Провести исследовательский анализ данных: описать и визуализировать общую информацию о пользователях и поездках;\n",
    "\n",
    "4. Объединить данные о пользователях, поездках и подписках и визуализировать информацию о расстоянии и времени поездок для пользователей обеих категорий.\n",
    "\n",
    "5. Подсчитать выручку.\n",
    "\n",
    "6. Проверить гипотезы.\n",
    "\n",
    "7. Сделать общий вывод."
   ]
  },
  {
   "cell_type": "markdown",
   "id": "7b2c7528",
   "metadata": {},
   "source": [
    "Вызовем необходимые для работы библиотеки:"
   ]
  },
  {
   "cell_type": "code",
   "execution_count": 1,
   "id": "ce55d407",
   "metadata": {},
   "outputs": [],
   "source": [
    "import pandas as pd\n",
    "import matplotlib.pyplot as plt\n",
    "import numpy as np\n",
    "from scipy import stats as st"
   ]
  },
  {
   "cell_type": "markdown",
   "id": "8514739c",
   "metadata": {},
   "source": [
    "#### Загрузка данных"
   ]
  },
  {
   "cell_type": "markdown",
   "id": "95abb2d5",
   "metadata": {},
   "source": [
    "1.1 Считаем CSV-файлы с данными с помощью библиотеки pandas и сохраним их в датафреймы. Пути к файлам:\n",
    "- /datasets/users_go.csv - users;\n",
    "- /datasets/rides_go.csv - rides;\n",
    "- /datasets/subscriptions_go.csv - subscriptions:"
   ]
  },
  {
   "cell_type": "code",
   "execution_count": 2,
   "id": "e9444cc0",
   "metadata": {},
   "outputs": [],
   "source": [
    "users = pd.read_csv('/datasets/users_go.csv')\n",
    "\n",
    "rides = pd.read_csv('/datasets/rides_go.csv')\n",
    "\n",
    "subscriptions = pd.read_csv('/datasets/subscriptions_go.csv')"
   ]
  },
  {
   "cell_type": "markdown",
   "id": "9b7bebe7",
   "metadata": {},
   "source": [
    "1.2 Выведем первые строки каждого набора данных и изучим общую информацию о каждом датафрейме."
   ]
  },
  {
   "cell_type": "code",
   "execution_count": 3,
   "id": "3bc60a74",
   "metadata": {
    "scrolled": false
   },
   "outputs": [
    {
     "data": {
      "text/html": [
       "<div>\n",
       "<style scoped>\n",
       "    .dataframe tbody tr th:only-of-type {\n",
       "        vertical-align: middle;\n",
       "    }\n",
       "\n",
       "    .dataframe tbody tr th {\n",
       "        vertical-align: top;\n",
       "    }\n",
       "\n",
       "    .dataframe thead th {\n",
       "        text-align: right;\n",
       "    }\n",
       "</style>\n",
       "<table border=\"1\" class=\"dataframe\">\n",
       "  <thead>\n",
       "    <tr style=\"text-align: right;\">\n",
       "      <th></th>\n",
       "      <th>user_id</th>\n",
       "      <th>name</th>\n",
       "      <th>age</th>\n",
       "      <th>city</th>\n",
       "      <th>subscription_type</th>\n",
       "    </tr>\n",
       "  </thead>\n",
       "  <tbody>\n",
       "    <tr>\n",
       "      <th>0</th>\n",
       "      <td>1</td>\n",
       "      <td>Кира</td>\n",
       "      <td>22</td>\n",
       "      <td>Тюмень</td>\n",
       "      <td>ultra</td>\n",
       "    </tr>\n",
       "    <tr>\n",
       "      <th>1</th>\n",
       "      <td>2</td>\n",
       "      <td>Станислав</td>\n",
       "      <td>31</td>\n",
       "      <td>Омск</td>\n",
       "      <td>ultra</td>\n",
       "    </tr>\n",
       "    <tr>\n",
       "      <th>2</th>\n",
       "      <td>3</td>\n",
       "      <td>Алексей</td>\n",
       "      <td>20</td>\n",
       "      <td>Москва</td>\n",
       "      <td>ultra</td>\n",
       "    </tr>\n",
       "    <tr>\n",
       "      <th>3</th>\n",
       "      <td>4</td>\n",
       "      <td>Константин</td>\n",
       "      <td>26</td>\n",
       "      <td>Ростов-на-Дону</td>\n",
       "      <td>ultra</td>\n",
       "    </tr>\n",
       "    <tr>\n",
       "      <th>4</th>\n",
       "      <td>5</td>\n",
       "      <td>Адель</td>\n",
       "      <td>28</td>\n",
       "      <td>Омск</td>\n",
       "      <td>ultra</td>\n",
       "    </tr>\n",
       "  </tbody>\n",
       "</table>\n",
       "</div>"
      ],
      "text/plain": [
       "   user_id        name  age            city subscription_type\n",
       "0        1        Кира   22          Тюмень             ultra\n",
       "1        2   Станислав   31            Омск             ultra\n",
       "2        3     Алексей   20          Москва             ultra\n",
       "3        4  Константин   26  Ростов-на-Дону             ultra\n",
       "4        5       Адель   28            Омск             ultra"
      ]
     },
     "execution_count": 3,
     "metadata": {},
     "output_type": "execute_result"
    }
   ],
   "source": [
    "users.head()"
   ]
  },
  {
   "cell_type": "code",
   "execution_count": 4,
   "id": "adca476c",
   "metadata": {
    "scrolled": false
   },
   "outputs": [
    {
     "name": "stdout",
     "output_type": "stream",
     "text": [
      "<class 'pandas.core.frame.DataFrame'>\n",
      "RangeIndex: 1565 entries, 0 to 1564\n",
      "Data columns (total 5 columns):\n",
      " #   Column             Non-Null Count  Dtype \n",
      "---  ------             --------------  ----- \n",
      " 0   user_id            1565 non-null   int64 \n",
      " 1   name               1565 non-null   object\n",
      " 2   age                1565 non-null   int64 \n",
      " 3   city               1565 non-null   object\n",
      " 4   subscription_type  1565 non-null   object\n",
      "dtypes: int64(2), object(3)\n",
      "memory usage: 61.3+ KB\n"
     ]
    }
   ],
   "source": [
    "users.info()"
   ]
  },
  {
   "cell_type": "markdown",
   "id": "32ab4e9f",
   "metadata": {},
   "source": [
    "Как можно видеть, в датафрейме с пользователями имеется 1565 строк и 5 столбцов, причём в каждом столбце отсутствуют пропущенные значения, а тип данных в каждом столбце соответствует требуемому.\n",
    "\n",
    "Изучим общую информацию о поездках:"
   ]
  },
  {
   "cell_type": "code",
   "execution_count": 5,
   "id": "965c6188",
   "metadata": {
    "scrolled": false
   },
   "outputs": [
    {
     "data": {
      "text/html": [
       "<div>\n",
       "<style scoped>\n",
       "    .dataframe tbody tr th:only-of-type {\n",
       "        vertical-align: middle;\n",
       "    }\n",
       "\n",
       "    .dataframe tbody tr th {\n",
       "        vertical-align: top;\n",
       "    }\n",
       "\n",
       "    .dataframe thead th {\n",
       "        text-align: right;\n",
       "    }\n",
       "</style>\n",
       "<table border=\"1\" class=\"dataframe\">\n",
       "  <thead>\n",
       "    <tr style=\"text-align: right;\">\n",
       "      <th></th>\n",
       "      <th>user_id</th>\n",
       "      <th>distance</th>\n",
       "      <th>duration</th>\n",
       "      <th>date</th>\n",
       "    </tr>\n",
       "  </thead>\n",
       "  <tbody>\n",
       "    <tr>\n",
       "      <th>0</th>\n",
       "      <td>1</td>\n",
       "      <td>4409.919140</td>\n",
       "      <td>25.599769</td>\n",
       "      <td>2021-01-01</td>\n",
       "    </tr>\n",
       "    <tr>\n",
       "      <th>1</th>\n",
       "      <td>1</td>\n",
       "      <td>2617.592153</td>\n",
       "      <td>15.816871</td>\n",
       "      <td>2021-01-18</td>\n",
       "    </tr>\n",
       "    <tr>\n",
       "      <th>2</th>\n",
       "      <td>1</td>\n",
       "      <td>754.159807</td>\n",
       "      <td>6.232113</td>\n",
       "      <td>2021-04-20</td>\n",
       "    </tr>\n",
       "    <tr>\n",
       "      <th>3</th>\n",
       "      <td>1</td>\n",
       "      <td>2694.783254</td>\n",
       "      <td>18.511000</td>\n",
       "      <td>2021-08-11</td>\n",
       "    </tr>\n",
       "    <tr>\n",
       "      <th>4</th>\n",
       "      <td>1</td>\n",
       "      <td>4028.687306</td>\n",
       "      <td>26.265803</td>\n",
       "      <td>2021-08-28</td>\n",
       "    </tr>\n",
       "  </tbody>\n",
       "</table>\n",
       "</div>"
      ],
      "text/plain": [
       "   user_id     distance   duration        date\n",
       "0        1  4409.919140  25.599769  2021-01-01\n",
       "1        1  2617.592153  15.816871  2021-01-18\n",
       "2        1   754.159807   6.232113  2021-04-20\n",
       "3        1  2694.783254  18.511000  2021-08-11\n",
       "4        1  4028.687306  26.265803  2021-08-28"
      ]
     },
     "execution_count": 5,
     "metadata": {},
     "output_type": "execute_result"
    }
   ],
   "source": [
    "rides.head()"
   ]
  },
  {
   "cell_type": "code",
   "execution_count": 6,
   "id": "f734845a",
   "metadata": {
    "scrolled": true
   },
   "outputs": [
    {
     "name": "stdout",
     "output_type": "stream",
     "text": [
      "<class 'pandas.core.frame.DataFrame'>\n",
      "RangeIndex: 18068 entries, 0 to 18067\n",
      "Data columns (total 4 columns):\n",
      " #   Column    Non-Null Count  Dtype  \n",
      "---  ------    --------------  -----  \n",
      " 0   user_id   18068 non-null  int64  \n",
      " 1   distance  18068 non-null  float64\n",
      " 2   duration  18068 non-null  float64\n",
      " 3   date      18068 non-null  object \n",
      "dtypes: float64(2), int64(1), object(1)\n",
      "memory usage: 564.8+ KB\n"
     ]
    }
   ],
   "source": [
    "rides.info()"
   ]
  },
  {
   "cell_type": "markdown",
   "id": "8c8a31ed",
   "metadata": {},
   "source": [
    "В данных о поездках присутствует 18068 строк и 4 столбца, где также отсутствуют пропуски и типы данных в целом соответсвуют необходимым, однако столбец с датами - 'date' имеет тип данных не datetime, а object, что в дальнейшем будет исправлено.\n",
    "\n",
    "Наконец, рассмотрим датафрейм с информацией о подписках. "
   ]
  },
  {
   "cell_type": "code",
   "execution_count": 7,
   "id": "2e5aaf60",
   "metadata": {
    "scrolled": true
   },
   "outputs": [
    {
     "data": {
      "text/html": [
       "<div>\n",
       "<style scoped>\n",
       "    .dataframe tbody tr th:only-of-type {\n",
       "        vertical-align: middle;\n",
       "    }\n",
       "\n",
       "    .dataframe tbody tr th {\n",
       "        vertical-align: top;\n",
       "    }\n",
       "\n",
       "    .dataframe thead th {\n",
       "        text-align: right;\n",
       "    }\n",
       "</style>\n",
       "<table border=\"1\" class=\"dataframe\">\n",
       "  <thead>\n",
       "    <tr style=\"text-align: right;\">\n",
       "      <th></th>\n",
       "      <th>subscription_type</th>\n",
       "      <th>minute_price</th>\n",
       "      <th>start_ride_price</th>\n",
       "      <th>subscription_fee</th>\n",
       "    </tr>\n",
       "  </thead>\n",
       "  <tbody>\n",
       "    <tr>\n",
       "      <th>0</th>\n",
       "      <td>free</td>\n",
       "      <td>8</td>\n",
       "      <td>50</td>\n",
       "      <td>0</td>\n",
       "    </tr>\n",
       "    <tr>\n",
       "      <th>1</th>\n",
       "      <td>ultra</td>\n",
       "      <td>6</td>\n",
       "      <td>0</td>\n",
       "      <td>199</td>\n",
       "    </tr>\n",
       "  </tbody>\n",
       "</table>\n",
       "</div>"
      ],
      "text/plain": [
       "  subscription_type  minute_price  start_ride_price  subscription_fee\n",
       "0              free             8                50                 0\n",
       "1             ultra             6                 0               199"
      ]
     },
     "execution_count": 7,
     "metadata": {},
     "output_type": "execute_result"
    }
   ],
   "source": [
    "subscriptions.head()"
   ]
  },
  {
   "cell_type": "code",
   "execution_count": 8,
   "id": "0a30bf8d",
   "metadata": {},
   "outputs": [
    {
     "name": "stdout",
     "output_type": "stream",
     "text": [
      "<class 'pandas.core.frame.DataFrame'>\n",
      "RangeIndex: 2 entries, 0 to 1\n",
      "Data columns (total 4 columns):\n",
      " #   Column             Non-Null Count  Dtype \n",
      "---  ------             --------------  ----- \n",
      " 0   subscription_type  2 non-null      object\n",
      " 1   minute_price       2 non-null      int64 \n",
      " 2   start_ride_price   2 non-null      int64 \n",
      " 3   subscription_fee   2 non-null      int64 \n",
      "dtypes: int64(3), object(1)\n",
      "memory usage: 192.0+ bytes\n"
     ]
    }
   ],
   "source": [
    "subscriptions.info()"
   ]
  },
  {
   "cell_type": "markdown",
   "id": "7bacad4e",
   "metadata": {},
   "source": [
    "Здесь всего 2 строки и 4 столбца, пропусков нет, а типы данных не требуют изменений."
   ]
  },
  {
   "cell_type": "markdown",
   "id": "ecbdd2fd",
   "metadata": {},
   "source": [
    "####  Предобработка данных"
   ]
  },
  {
   "cell_type": "markdown",
   "id": "1dd36860",
   "metadata": {},
   "source": [
    "2.1 Приведём столбец date к типу datetime библиотеки pandas:"
   ]
  },
  {
   "cell_type": "code",
   "execution_count": 9,
   "id": "75413b57",
   "metadata": {},
   "outputs": [],
   "source": [
    "rides['date'] = pd.to_datetime(rides['date'], format='%Y-%m-%d')"
   ]
  },
  {
   "cell_type": "markdown",
   "id": "8c6c33ed",
   "metadata": {},
   "source": [
    "Проверим, что изменения прошли успешно, вызвав метод info():"
   ]
  },
  {
   "cell_type": "code",
   "execution_count": 10,
   "id": "067f43d9",
   "metadata": {
    "scrolled": true
   },
   "outputs": [
    {
     "name": "stdout",
     "output_type": "stream",
     "text": [
      "<class 'pandas.core.frame.DataFrame'>\n",
      "RangeIndex: 18068 entries, 0 to 18067\n",
      "Data columns (total 4 columns):\n",
      " #   Column    Non-Null Count  Dtype         \n",
      "---  ------    --------------  -----         \n",
      " 0   user_id   18068 non-null  int64         \n",
      " 1   distance  18068 non-null  float64       \n",
      " 2   duration  18068 non-null  float64       \n",
      " 3   date      18068 non-null  datetime64[ns]\n",
      "dtypes: datetime64[ns](1), float64(2), int64(1)\n",
      "memory usage: 564.8 KB\n"
     ]
    }
   ],
   "source": [
    "rides.info()"
   ]
  },
  {
   "cell_type": "markdown",
   "id": "d071df49",
   "metadata": {},
   "source": [
    "2.2 Создадим новый столбец с номером месяца на основе столбца date:"
   ]
  },
  {
   "cell_type": "code",
   "execution_count": 11,
   "id": "dfafe7e2",
   "metadata": {},
   "outputs": [],
   "source": [
    "rides['month'] = pd.DatetimeIndex(rides['date']).month"
   ]
  },
  {
   "cell_type": "markdown",
   "id": "0415cb83",
   "metadata": {},
   "source": [
    "Проверим, правильно ли отображаются месяцы в новом столбце:"
   ]
  },
  {
   "cell_type": "code",
   "execution_count": 12,
   "id": "52918bbd",
   "metadata": {
    "scrolled": false
   },
   "outputs": [
    {
     "data": {
      "text/html": [
       "<div>\n",
       "<style scoped>\n",
       "    .dataframe tbody tr th:only-of-type {\n",
       "        vertical-align: middle;\n",
       "    }\n",
       "\n",
       "    .dataframe tbody tr th {\n",
       "        vertical-align: top;\n",
       "    }\n",
       "\n",
       "    .dataframe thead th {\n",
       "        text-align: right;\n",
       "    }\n",
       "</style>\n",
       "<table border=\"1\" class=\"dataframe\">\n",
       "  <thead>\n",
       "    <tr style=\"text-align: right;\">\n",
       "      <th></th>\n",
       "      <th>user_id</th>\n",
       "      <th>distance</th>\n",
       "      <th>duration</th>\n",
       "      <th>date</th>\n",
       "      <th>month</th>\n",
       "    </tr>\n",
       "  </thead>\n",
       "  <tbody>\n",
       "    <tr>\n",
       "      <th>0</th>\n",
       "      <td>1</td>\n",
       "      <td>4409.919140</td>\n",
       "      <td>25.599769</td>\n",
       "      <td>2021-01-01</td>\n",
       "      <td>1</td>\n",
       "    </tr>\n",
       "    <tr>\n",
       "      <th>1</th>\n",
       "      <td>1</td>\n",
       "      <td>2617.592153</td>\n",
       "      <td>15.816871</td>\n",
       "      <td>2021-01-18</td>\n",
       "      <td>1</td>\n",
       "    </tr>\n",
       "    <tr>\n",
       "      <th>2</th>\n",
       "      <td>1</td>\n",
       "      <td>754.159807</td>\n",
       "      <td>6.232113</td>\n",
       "      <td>2021-04-20</td>\n",
       "      <td>4</td>\n",
       "    </tr>\n",
       "    <tr>\n",
       "      <th>3</th>\n",
       "      <td>1</td>\n",
       "      <td>2694.783254</td>\n",
       "      <td>18.511000</td>\n",
       "      <td>2021-08-11</td>\n",
       "      <td>8</td>\n",
       "    </tr>\n",
       "    <tr>\n",
       "      <th>4</th>\n",
       "      <td>1</td>\n",
       "      <td>4028.687306</td>\n",
       "      <td>26.265803</td>\n",
       "      <td>2021-08-28</td>\n",
       "      <td>8</td>\n",
       "    </tr>\n",
       "  </tbody>\n",
       "</table>\n",
       "</div>"
      ],
      "text/plain": [
       "   user_id     distance   duration       date  month\n",
       "0        1  4409.919140  25.599769 2021-01-01      1\n",
       "1        1  2617.592153  15.816871 2021-01-18      1\n",
       "2        1   754.159807   6.232113 2021-04-20      4\n",
       "3        1  2694.783254  18.511000 2021-08-11      8\n",
       "4        1  4028.687306  26.265803 2021-08-28      8"
      ]
     },
     "execution_count": 12,
     "metadata": {},
     "output_type": "execute_result"
    }
   ],
   "source": [
    "rides.head()"
   ]
  },
  {
   "cell_type": "markdown",
   "id": "99c0c906",
   "metadata": {},
   "source": [
    "Дополнительно проверим, за какой период у нас имеются данные. Для этого к столбцу 'date' датафрейма rides применим метод describe(), а к столбцу 'month' - метод nunique():"
   ]
  },
  {
   "cell_type": "code",
   "execution_count": 13,
   "id": "8acc2a71",
   "metadata": {
    "scrolled": true
   },
   "outputs": [
    {
     "data": {
      "text/plain": [
       "count                            18068\n",
       "mean     2021-06-30 19:47:21.266327296\n",
       "min                2021-01-01 00:00:00\n",
       "25%                2021-04-02 00:00:00\n",
       "50%                2021-06-30 00:00:00\n",
       "75%                2021-09-28 00:00:00\n",
       "max                2021-12-30 00:00:00\n",
       "Name: date, dtype: object"
      ]
     },
     "execution_count": 13,
     "metadata": {},
     "output_type": "execute_result"
    }
   ],
   "source": [
    "rides['date'].describe(datetime_is_numeric=True)"
   ]
  },
  {
   "cell_type": "code",
   "execution_count": 14,
   "id": "a7eba99a",
   "metadata": {},
   "outputs": [
    {
     "data": {
      "text/plain": [
       "12"
      ]
     },
     "execution_count": 14,
     "metadata": {},
     "output_type": "execute_result"
    }
   ],
   "source": [
    "rides['month'].nunique()"
   ]
  },
  {
   "cell_type": "markdown",
   "id": "aae5d6c3",
   "metadata": {},
   "source": [
    "Итак, у нас имеются данные за все 12 месяцев 2021 года."
   ]
  },
  {
   "cell_type": "markdown",
   "id": "a0dc0615",
   "metadata": {},
   "source": [
    "Всё верно, переходим к следующему заданию.\n",
    "\n",
    "2.3 Проверим наличие пропущенных значений и дубликатов в датафреймах. Обработаем их, если такие значения присутствуют.\n",
    "\n",
    "Сначала изучим наличие пропущенных значений в данных о пользователях, применив методы isna() и sum():"
   ]
  },
  {
   "cell_type": "code",
   "execution_count": 15,
   "id": "23c62cd8",
   "metadata": {
    "scrolled": true
   },
   "outputs": [
    {
     "data": {
      "text/plain": [
       "user_id              0\n",
       "name                 0\n",
       "age                  0\n",
       "city                 0\n",
       "subscription_type    0\n",
       "dtype: int64"
      ]
     },
     "execution_count": 15,
     "metadata": {},
     "output_type": "execute_result"
    }
   ],
   "source": [
    "users.isna().sum()"
   ]
  },
  {
   "cell_type": "markdown",
   "id": "afec5c76",
   "metadata": {},
   "source": [
    "В датафрейме о пользователях отсутствуют пропуски. Проверим наличие явных дубликатов, применив методы duplicated() и sum():"
   ]
  },
  {
   "cell_type": "code",
   "execution_count": 16,
   "id": "d96ae576",
   "metadata": {
    "scrolled": true
   },
   "outputs": [
    {
     "data": {
      "text/plain": [
       "31"
      ]
     },
     "execution_count": 16,
     "metadata": {},
     "output_type": "execute_result"
    }
   ],
   "source": [
    "users.duplicated().sum()"
   ]
  },
  {
   "cell_type": "markdown",
   "id": "90ab3a2a",
   "metadata": {},
   "source": [
    "Итак, в данных о пользователях присутсвует 31 строка-дубликат. Удалим их, вызвав метод drop_duplicates():"
   ]
  },
  {
   "cell_type": "code",
   "execution_count": 17,
   "id": "7a9e1085",
   "metadata": {
    "scrolled": true
   },
   "outputs": [],
   "source": [
    "users = users.drop_duplicates()"
   ]
  },
  {
   "cell_type": "markdown",
   "id": "a56f5e4d",
   "metadata": {},
   "source": [
    "Убедимся, что датафрейм не содержит явных дубликатов:"
   ]
  },
  {
   "cell_type": "code",
   "execution_count": 18,
   "id": "0140b952",
   "metadata": {},
   "outputs": [
    {
     "data": {
      "text/plain": [
       "0"
      ]
     },
     "execution_count": 18,
     "metadata": {},
     "output_type": "execute_result"
    }
   ],
   "source": [
    "users.duplicated().sum()"
   ]
  },
  {
   "cell_type": "markdown",
   "id": "9a00c97d",
   "metadata": {},
   "source": [
    "Далее изучим пропуски и дубликаты в датафрейме о поездках:"
   ]
  },
  {
   "cell_type": "code",
   "execution_count": 19,
   "id": "69beb552",
   "metadata": {},
   "outputs": [
    {
     "data": {
      "text/plain": [
       "user_id     0\n",
       "distance    0\n",
       "duration    0\n",
       "date        0\n",
       "month       0\n",
       "dtype: int64"
      ]
     },
     "execution_count": 19,
     "metadata": {},
     "output_type": "execute_result"
    }
   ],
   "source": [
    "rides.isna().sum()"
   ]
  },
  {
   "cell_type": "code",
   "execution_count": 20,
   "id": "3d5100e1",
   "metadata": {
    "scrolled": true
   },
   "outputs": [
    {
     "data": {
      "text/plain": [
       "0"
      ]
     },
     "execution_count": 20,
     "metadata": {},
     "output_type": "execute_result"
    }
   ],
   "source": [
    "rides.duplicated().sum()"
   ]
  },
  {
   "cell_type": "markdown",
   "id": "0a3e12f5",
   "metadata": {},
   "source": [
    "Как можно видеть, в этом датафрейме отсутствуют пропущенные значения и явные дубликаты.\n",
    "\n",
    "Осталось рассмотреть данные о подписках:"
   ]
  },
  {
   "cell_type": "code",
   "execution_count": 21,
   "id": "f53bbad0",
   "metadata": {
    "scrolled": true
   },
   "outputs": [
    {
     "data": {
      "text/plain": [
       "subscription_type    0\n",
       "minute_price         0\n",
       "start_ride_price     0\n",
       "subscription_fee     0\n",
       "dtype: int64"
      ]
     },
     "execution_count": 21,
     "metadata": {},
     "output_type": "execute_result"
    }
   ],
   "source": [
    "subscriptions.isna().sum()"
   ]
  },
  {
   "cell_type": "code",
   "execution_count": 22,
   "id": "fa435ae0",
   "metadata": {
    "scrolled": true
   },
   "outputs": [
    {
     "data": {
      "text/plain": [
       "0"
      ]
     },
     "execution_count": 22,
     "metadata": {},
     "output_type": "execute_result"
    }
   ],
   "source": [
    "subscriptions.duplicated().sum()"
   ]
  },
  {
   "cell_type": "markdown",
   "id": "385e9319",
   "metadata": {},
   "source": [
    "Как и в предыдущем случае, в датафрейме о подписках отсутствуют пропуски и строки-дубликаты.\n",
    "\n",
    "Таким образом, среди трёх рассмотренных датафреймов только в одном, где содержится информация о пользователях, имелась всего 31 строка-дубликат, которые были удалены из более ччем 1500 строк. При этом во всех датафреймах отсутствуют пропущенные значения. Всё это говорит о высоком качестве представленных исходных данныхэ"
   ]
  },
  {
   "cell_type": "markdown",
   "id": "c8e85500",
   "metadata": {},
   "source": [
    "#### Исследовательский анализ данных"
   ]
  },
  {
   "cell_type": "markdown",
   "id": "e589031a",
   "metadata": {},
   "source": [
    "Опишем и визуализируем общую информацию о пользователях и поездках:"
   ]
  },
  {
   "cell_type": "markdown",
   "id": "d53e451d",
   "metadata": {},
   "source": [
    "3.1 частота встречаемости городов;\n",
    "\n",
    "Сначала изучим общие характеристики столбца 'city' в датафрейме users, применив метод describe():"
   ]
  },
  {
   "cell_type": "code",
   "execution_count": 23,
   "id": "edcfcb0f",
   "metadata": {
    "scrolled": false
   },
   "outputs": [
    {
     "data": {
      "text/plain": [
       "count          1534\n",
       "unique            8\n",
       "top       Пятигорск\n",
       "freq            219\n",
       "Name: city, dtype: object"
      ]
     },
     "execution_count": 23,
     "metadata": {},
     "output_type": "execute_result"
    }
   ],
   "source": [
    "users['city'].describe()"
   ]
  },
  {
   "cell_type": "markdown",
   "id": "909931f0",
   "metadata": {},
   "source": [
    "Так, всего в данных присутствует 8 городов, встречающихся 1534 раз. Наиболее распространён Пятигорск: его частота равна 219.\n",
    "\n",
    "Посмотрим, как распределена частота встречаемости остальных семи городов. Для этого постоим горизонтальную стобчатую диаграмму и таблицу для столбца 'city', к которому предварительно применим метод value_counts():"
   ]
  },
  {
   "cell_type": "code",
   "execution_count": 24,
   "id": "7e45db66",
   "metadata": {
    "scrolled": true
   },
   "outputs": [
    {
     "data": {
      "image/png": "[encoded data removed]",
      "text/plain": [
       "<Figure size 648x360 with 1 Axes>"
      ]
     },
     "metadata": {
      "needs_background": "light"
     },
     "output_type": "display_data"
    }
   ],
   "source": [
    "users['city'].value_counts().plot(\n",
    "    title='Частота встречаемости городов', \n",
    "    kind='barh',  \n",
    "    figsize=(9,5),\n",
    ");\n",
    "plt.xlabel(\"Частота\")\n",
    "plt.ylabel(\"Город\");"
   ]
  },
  {
   "cell_type": "code",
   "execution_count": 25,
   "id": "7bdb7546",
   "metadata": {},
   "outputs": [
    {
     "data": {
      "text/plain": [
       "Москва            168\n",
       "Тюмень            180\n",
       "Омск              183\n",
       "Сочи              189\n",
       "Краснодар         193\n",
       "Ростов-на-Дону    198\n",
       "Екатеринбург      204\n",
       "Пятигорск         219\n",
       "Name: city, dtype: int64"
      ]
     },
     "execution_count": 25,
     "metadata": {},
     "output_type": "execute_result"
    }
   ],
   "source": [
    "users['city'].value_counts(ascending=True)"
   ]
  },
  {
   "cell_type": "markdown",
   "id": "7430c22b",
   "metadata": {},
   "source": [
    "Итак, наиболее часто в датафрейме users встречаются города Юга России: Пятигорск, Ростов-на-Дону, Крансодар и Сочи. Они встречаются с частотой от 189 до 219 раз. Причём на втором месте после Пятигорска расположися Екатеринбург с частотой встречаемости 204 раза. Реже всего в представленной датафрейме о пользователя встречается Москва с частотой 168 раза, а такие сибирские города, как Омск и Тюмень, встречаются несколько чаще: примерно 180 раз.\n",
    "\n",
    "В целом можно сказать, что сервис популярен в южных городах России и в Екатеринбурге, т.е. вдали от крупнейших городов страны: Москвы и Санкт-Петербурга, что, вероятно, объясняется меньшей конкуренцией в регионах."
   ]
  },
  {
   "cell_type": "markdown",
   "id": "b15c7f92",
   "metadata": {},
   "source": [
    "3.2 соотношение пользователей с подпиской и без подписки;\n",
    "\n",
    "Сначала визуализируем информацию о распределении пользователей с подпиской и без. Для этого сгруппируем данные в датафрейме users по типу подписки и посчитаем количество пользователей с подпиской и без, после чего построим круговую диаграмму:"
   ]
  },
  {
   "cell_type": "code",
   "execution_count": 26,
   "id": "72d24192",
   "metadata": {
    "scrolled": true
   },
   "outputs": [
    {
     "data": {
      "image/png": "[encoded data removed]",
      "text/plain": [
       "<Figure size 720x360 with 1 Axes>"
      ]
     },
     "metadata": {},
     "output_type": "display_data"
    }
   ],
   "source": [
    "users.groupby('subscription_type')['user_id'].count().plot(\n",
    "    kind='pie', \n",
    "    ylabel='Тип подписки',\n",
    "    autopct=\"%.1f\",\n",
    "    figsize=(10,5)\n",
    ");"
   ]
  },
  {
   "cell_type": "markdown",
   "id": "dfde4567",
   "metadata": {},
   "source": [
    "Таким образом, примерно 54.4 % пользователей обходятся без подписки на сервис аренды самокатов GoFast, а, соответственно, около 45.6 % процентов имеют подписку 'ultra'. Это может свидетельствовать о том, что довольно высокая доля пользователей осознали преимущества подписки и выбрали такой вариант взаимодействия с сервисом аренды самокатов. В дальнейшем это может подтвердиться тем, что такие пользователи меньше платят за оказываемые сервисом услуги, в отличие от пользователей без подписки."
   ]
  },
  {
   "cell_type": "markdown",
   "id": "de1b0115",
   "metadata": {},
   "source": [
    "3.3 возраст пользователей;\n",
    "\n",
    "Чтобы изучить возраст пользователей, применим к столбцу 'age' отдельно методы describe() и hist():"
   ]
  },
  {
   "cell_type": "code",
   "execution_count": 27,
   "id": "e303f7a8",
   "metadata": {
    "scrolled": true
   },
   "outputs": [
    {
     "data": {
      "text/plain": [
       "count    1534.000000\n",
       "mean       24.903520\n",
       "std         4.572367\n",
       "min        12.000000\n",
       "25%        22.000000\n",
       "50%        25.000000\n",
       "75%        28.000000\n",
       "max        43.000000\n",
       "Name: age, dtype: float64"
      ]
     },
     "execution_count": 27,
     "metadata": {},
     "output_type": "execute_result"
    }
   ],
   "source": [
    "users['age'].describe()"
   ]
  },
  {
   "cell_type": "code",
   "execution_count": 28,
   "id": "879e9583",
   "metadata": {
    "scrolled": true
   },
   "outputs": [
    {
     "data": {
      "image/png": "[encoded data removed]",
      "text/plain": [
       "<Figure size 720x360 with 1 Axes>"
      ]
     },
     "metadata": {
      "needs_background": "light"
     },
     "output_type": "display_data"
    }
   ],
   "source": [
    "plt.figure(figsize=(10, 5))\n",
    "\n",
    "users['age'].hist(\n",
    "    bins=50,\n",
    "    grid = True,\n",
    "    linewidth=3,\n",
    ")\n",
    "plt.title('Распределение возраста пользователей')\n",
    "plt.xlabel(\"Возраст, лет\")\n",
    "plt.ylabel(\"Частота\")\n",
    "plt.show();"
   ]
  },
  {
   "cell_type": "markdown",
   "id": "cb655510",
   "metadata": {},
   "source": [
    "Как можно видеть, возраст пользователей варьируется от 12 до 43 лет, причём среднее и медианное значения очень близки: 24.9 и 25.0 лет, соответственно, а стандартное отклонение составляет всего около 4.6 лет, что говорит об отсутствии выбросов и аномалий в данном столбце. Кроме того, график распределения пользователей сервисом аренды самокатов GoFast по возрастам демонстрирует приблизительно характер нормального распределения. Всё это говорит о том, что сервис популярен в основном среди молодёжи (от 14 до 35 лет), что, возможно, объясняется определённой сложностью использования самоката, вызванной необходимостью поддержания равновесия, обладания достаточной скоростью реакции и др., т.е. чертами, которые могут не так хорошо выражены у детей (в данной случае младше 12 лет) и у людей среднего возраста (здесь, старше 43 лет).\n",
    "\n",
    "3.4 расстояние, которое пользователь преодолел за одну поездку;\n",
    "\n",
    "Для этого сначала посмотрим общие характеристики столбца 'distance':"
   ]
  },
  {
   "cell_type": "code",
   "execution_count": 29,
   "id": "37fcf15a",
   "metadata": {
    "scrolled": true
   },
   "outputs": [
    {
     "data": {
      "text/plain": [
       "count    18068.000000\n",
       "mean      3070.659976\n",
       "std       1116.831209\n",
       "min          0.855683\n",
       "25%       2543.226360\n",
       "50%       3133.609994\n",
       "75%       3776.222735\n",
       "max       7211.007745\n",
       "Name: distance, dtype: float64"
      ]
     },
     "execution_count": 29,
     "metadata": {},
     "output_type": "execute_result"
    }
   ],
   "source": [
    "rides['distance'].describe()"
   ]
  },
  {
   "cell_type": "markdown",
   "id": "b4b7e7cb",
   "metadata": {},
   "source": [
    "Как можно видеть, минимальное расстояние равняется примерно 0.86 м, что явно меньше разумного расстояния за одну поездку. Посмотрим, сколько в данных неправдоподобно коротких поездок, взяв в качестве минимального расстояния - 100 м:"
   ]
  },
  {
   "cell_type": "code",
   "execution_count": 30,
   "id": "31472fb8",
   "metadata": {},
   "outputs": [
    {
     "data": {
      "text/plain": [
       "0.004317024573832189"
      ]
     },
     "execution_count": 30,
     "metadata": {},
     "output_type": "execute_result"
    }
   ],
   "source": [
    "len(rides.query('distance <= 100')) / len(rides['distance'])"
   ]
  },
  {
   "cell_type": "markdown",
   "id": "f422a5bb",
   "metadata": {},
   "source": [
    "Менее 0.5 % поездок имеют протяжённость менее 100 м, тогда можно удалить эти значения из датафрейма rides:"
   ]
  },
  {
   "cell_type": "code",
   "execution_count": 31,
   "id": "9b406789",
   "metadata": {
    "scrolled": true
   },
   "outputs": [
    {
     "data": {
      "text/plain": [
       "count    17990.000000\n",
       "mean      3083.724675\n",
       "std       1101.442969\n",
       "min        102.323624\n",
       "25%       2551.031541\n",
       "50%       3137.750590\n",
       "75%       3779.705094\n",
       "max       7211.007745\n",
       "Name: distance, dtype: float64"
      ]
     },
     "execution_count": 31,
     "metadata": {},
     "output_type": "execute_result"
    }
   ],
   "source": [
    "rides = rides.query('distance >= 100')\n",
    "\n",
    "rides['distance'].describe()"
   ]
  },
  {
   "cell_type": "markdown",
   "id": "a10a44b3",
   "metadata": {},
   "source": [
    "В итоге количество значений в датафрейме уменьшилось с 18068 до 17990, т.е. на 78. Построим теперь гистограмму:"
   ]
  },
  {
   "cell_type": "code",
   "execution_count": 32,
   "id": "1402edcc",
   "metadata": {
    "scrolled": true
   },
   "outputs": [
    {
     "data": {
      "image/png": "[encoded data removed]",
      "text/plain": [
       "<Figure size 720x360 with 1 Axes>"
      ]
     },
     "metadata": {
      "needs_background": "light"
     },
     "output_type": "display_data"
    }
   ],
   "source": [
    "plt.figure(figsize=(10, 5))\n",
    "\n",
    "rides['distance'].hist(\n",
    "    bins=50,\n",
    "    grid = True,\n",
    "    linewidth=3,\n",
    ")\n",
    "plt.title('Расстояние за одну поездку, мм')\n",
    "plt.xlabel(\"Расстояние, м\")\n",
    "plt.ylabel(\"Частота\")\n",
    "plt.show();"
   ]
  },
  {
   "cell_type": "code",
   "execution_count": 33,
   "id": "4e061242",
   "metadata": {},
   "outputs": [
    {
     "data": {
      "image/png": "[encoded data removed]",
      "text/plain": [
       "<Figure size 720x360 with 1 Axes>"
      ]
     },
     "metadata": {
      "needs_background": "light"
     },
     "output_type": "display_data"
    }
   ],
   "source": [
    "plt.figure(figsize=(10, 5))\n",
    "\n",
    "rides['distance'].hist(\n",
    "    bins=50,\n",
    "    range=(0,1500),\n",
    "    grid = True,\n",
    "    linewidth=3,\n",
    ")\n",
    "plt.title('Расстояние за одну поездку, мм')\n",
    "plt.xlabel(\"Расстояние, м\")\n",
    "plt.ylabel(\"Частота\")\n",
    "plt.show();"
   ]
  },
  {
   "cell_type": "markdown",
   "id": "f4fe4ef3",
   "metadata": {},
   "source": [
    "Так, на основании представленных данных можно сказать, что распределение расстояния, которое преодолевали пользователи за одну  поездку, имеет два пика: первый, более малый, в области от 0 до 1.5 км с максимум приблизительно в 700 м, и второй, гораздо больший, между 1.5 и 7 км с максимумом в области 3 км. Оба этих пика по отдельности демонстрируют приблизительно характер нормального распределения.\n",
    "\n",
    "Такие наблюдения могут объясняться тем, что некоторым пользователям необходимо очень быстро преодолеть короткую дистанцию, а большинству самокат требуется для длинных перемещений, вплоть до 7 км.\n",
    "\n",
    "В целом можно сказать, что люди пользуются самокатом, чтобы преодолеть расстояние, которое можно пройти пешком, но \n",
    "необходимо обеспечить относительно высокую скорость передвижения, чтобы не терять много времени на дорогу.\n",
    "\n",
    "3.5 продолжительность поездок.\n",
    "\n",
    "Чтобы определить продолжительность поездок, аналогичным образом изучим общую информацию о столбце 'duration' и построим гистограмму:"
   ]
  },
  {
   "cell_type": "code",
   "execution_count": 34,
   "id": "0fc7ef0c",
   "metadata": {},
   "outputs": [
    {
     "data": {
      "text/plain": [
       "count    17990.000000\n",
       "mean        17.849271\n",
       "std          6.062243\n",
       "min          0.500000\n",
       "25%         13.655664\n",
       "50%         17.709849\n",
       "75%         21.742960\n",
       "max         40.823963\n",
       "Name: duration, dtype: float64"
      ]
     },
     "execution_count": 34,
     "metadata": {},
     "output_type": "execute_result"
    }
   ],
   "source": [
    "rides['duration'].describe()"
   ]
  },
  {
   "cell_type": "markdown",
   "id": "e99f9f58",
   "metadata": {},
   "source": [
    "Как можно видеть, продолжительность одной поездки варьируется от 30 секунд до почти 41 минуты. 30 секунд представляется крайне маленьким временем поездки. Построим гистограмму:"
   ]
  },
  {
   "cell_type": "code",
   "execution_count": 35,
   "id": "8aaba322",
   "metadata": {
    "scrolled": false
   },
   "outputs": [
    {
     "data": {
      "image/png": "[encoded data removed]",
      "text/plain": [
       "<Figure size 720x360 with 1 Axes>"
      ]
     },
     "metadata": {
      "needs_background": "light"
     },
     "output_type": "display_data"
    }
   ],
   "source": [
    "plt.figure(figsize=(10, 5))\n",
    "\n",
    "rides['duration'].hist(\n",
    "    bins=50,\n",
    "    grid = True,\n",
    "    linewidth=3,\n",
    ")\n",
    "plt.title('Продолжительность одной поездки, мин')\n",
    "plt.xlabel(\"Время, мин\")\n",
    "plt.ylabel(\"Частота\")\n",
    "plt.show();"
   ]
  },
  {
   "cell_type": "markdown",
   "id": "0d4eaa01",
   "metadata": {},
   "source": [
    "Распределение продолжительности одной поездки имеет в целом вид нормального распределения, однако действительно в области до примерно 2 минут имеется аномально большое количество поездок. Посмотрим на них:"
   ]
  },
  {
   "cell_type": "code",
   "execution_count": 36,
   "id": "a95f534d",
   "metadata": {
    "scrolled": true
   },
   "outputs": [
    {
     "data": {
      "text/html": [
       "<div>\n",
       "<style scoped>\n",
       "    .dataframe tbody tr th:only-of-type {\n",
       "        vertical-align: middle;\n",
       "    }\n",
       "\n",
       "    .dataframe tbody tr th {\n",
       "        vertical-align: top;\n",
       "    }\n",
       "\n",
       "    .dataframe thead th {\n",
       "        text-align: right;\n",
       "    }\n",
       "</style>\n",
       "<table border=\"1\" class=\"dataframe\">\n",
       "  <thead>\n",
       "    <tr style=\"text-align: right;\">\n",
       "      <th></th>\n",
       "      <th>user_id</th>\n",
       "      <th>distance</th>\n",
       "      <th>duration</th>\n",
       "      <th>date</th>\n",
       "      <th>month</th>\n",
       "    </tr>\n",
       "  </thead>\n",
       "  <tbody>\n",
       "    <tr>\n",
       "      <th>6531</th>\n",
       "      <td>701</td>\n",
       "      <td>4196.445201</td>\n",
       "      <td>0.5</td>\n",
       "      <td>2021-08-31</td>\n",
       "      <td>8</td>\n",
       "    </tr>\n",
       "    <tr>\n",
       "      <th>6570</th>\n",
       "      <td>704</td>\n",
       "      <td>4830.824371</td>\n",
       "      <td>0.5</td>\n",
       "      <td>2021-10-14</td>\n",
       "      <td>10</td>\n",
       "    </tr>\n",
       "    <tr>\n",
       "      <th>6680</th>\n",
       "      <td>712</td>\n",
       "      <td>4684.004397</td>\n",
       "      <td>0.5</td>\n",
       "      <td>2021-03-04</td>\n",
       "      <td>3</td>\n",
       "    </tr>\n",
       "    <tr>\n",
       "      <th>6695</th>\n",
       "      <td>713</td>\n",
       "      <td>5215.642710</td>\n",
       "      <td>0.5</td>\n",
       "      <td>2021-02-25</td>\n",
       "      <td>2</td>\n",
       "    </tr>\n",
       "    <tr>\n",
       "      <th>6768</th>\n",
       "      <td>718</td>\n",
       "      <td>5197.436649</td>\n",
       "      <td>0.5</td>\n",
       "      <td>2021-02-11</td>\n",
       "      <td>2</td>\n",
       "    </tr>\n",
       "    <tr>\n",
       "      <th>...</th>\n",
       "      <td>...</td>\n",
       "      <td>...</td>\n",
       "      <td>...</td>\n",
       "      <td>...</td>\n",
       "      <td>...</td>\n",
       "    </tr>\n",
       "    <tr>\n",
       "      <th>17004</th>\n",
       "      <td>1460</td>\n",
       "      <td>5531.335845</td>\n",
       "      <td>0.5</td>\n",
       "      <td>2021-01-19</td>\n",
       "      <td>1</td>\n",
       "    </tr>\n",
       "    <tr>\n",
       "      <th>17242</th>\n",
       "      <td>1477</td>\n",
       "      <td>6724.932981</td>\n",
       "      <td>0.5</td>\n",
       "      <td>2021-01-12</td>\n",
       "      <td>1</td>\n",
       "    </tr>\n",
       "    <tr>\n",
       "      <th>17314</th>\n",
       "      <td>1483</td>\n",
       "      <td>4445.481070</td>\n",
       "      <td>0.5</td>\n",
       "      <td>2021-03-06</td>\n",
       "      <td>3</td>\n",
       "    </tr>\n",
       "    <tr>\n",
       "      <th>17505</th>\n",
       "      <td>1496</td>\n",
       "      <td>5722.551787</td>\n",
       "      <td>0.5</td>\n",
       "      <td>2021-02-14</td>\n",
       "      <td>2</td>\n",
       "    </tr>\n",
       "    <tr>\n",
       "      <th>17909</th>\n",
       "      <td>1524</td>\n",
       "      <td>4103.998874</td>\n",
       "      <td>0.5</td>\n",
       "      <td>2021-06-18</td>\n",
       "      <td>6</td>\n",
       "    </tr>\n",
       "  </tbody>\n",
       "</table>\n",
       "<p>95 rows × 5 columns</p>\n",
       "</div>"
      ],
      "text/plain": [
       "       user_id     distance  duration       date  month\n",
       "6531       701  4196.445201       0.5 2021-08-31      8\n",
       "6570       704  4830.824371       0.5 2021-10-14     10\n",
       "6680       712  4684.004397       0.5 2021-03-04      3\n",
       "6695       713  5215.642710       0.5 2021-02-25      2\n",
       "6768       718  5197.436649       0.5 2021-02-11      2\n",
       "...        ...          ...       ...        ...    ...\n",
       "17004     1460  5531.335845       0.5 2021-01-19      1\n",
       "17242     1477  6724.932981       0.5 2021-01-12      1\n",
       "17314     1483  4445.481070       0.5 2021-03-06      3\n",
       "17505     1496  5722.551787       0.5 2021-02-14      2\n",
       "17909     1524  4103.998874       0.5 2021-06-18      6\n",
       "\n",
       "[95 rows x 5 columns]"
      ]
     },
     "execution_count": 36,
     "metadata": {},
     "output_type": "execute_result"
    }
   ],
   "source": [
    "rides.query('duration < 2')"
   ]
  },
  {
   "cell_type": "markdown",
   "id": "6e8b2dee",
   "metadata": {},
   "source": [
    "Все такие поездки имеют продолжительность ровно 30 секунд, и за это время как будто преодолевается расстояние примерно в 5 км, что наводит на мысль о неправдоподобности такой продолжительности и необходимости удалить эти данные, предварительно убедившись, что мы удалим незначительную долю данных (менее 1 %):"
   ]
  },
  {
   "cell_type": "code",
   "execution_count": 37,
   "id": "74043f8d",
   "metadata": {},
   "outputs": [
    {
     "data": {
      "text/plain": [
       "0.0052807115063924406"
      ]
     },
     "execution_count": 37,
     "metadata": {},
     "output_type": "execute_result"
    }
   ],
   "source": [
    "len(rides.query('duration < 2')) / len(rides['duration'])"
   ]
  },
  {
   "cell_type": "markdown",
   "id": "3ccbd465",
   "metadata": {},
   "source": [
    "Отлично: всего около 0.5 % данных имеют аномально низкие значения продолжительности поездки, можно смело их удалить.\n",
    "Затем снова вызовем методы describe() и hist():"
   ]
  },
  {
   "cell_type": "code",
   "execution_count": 38,
   "id": "5b8a01ec",
   "metadata": {},
   "outputs": [
    {
     "data": {
      "text/plain": [
       "count    17895.000000\n",
       "mean        17.941374\n",
       "std          5.944696\n",
       "min          2.222598\n",
       "25%         13.724161\n",
       "50%         17.744733\n",
       "75%         21.764967\n",
       "max         40.823963\n",
       "Name: duration, dtype: float64"
      ]
     },
     "execution_count": 38,
     "metadata": {},
     "output_type": "execute_result"
    }
   ],
   "source": [
    "rides = rides.query('duration >= 2')\n",
    "\n",
    "rides['duration'].describe()"
   ]
  },
  {
   "cell_type": "code",
   "execution_count": 39,
   "id": "0d364bcf",
   "metadata": {},
   "outputs": [
    {
     "data": {
      "image/png": "[encoded data removed]",
      "text/plain": [
       "<Figure size 720x360 with 1 Axes>"
      ]
     },
     "metadata": {
      "needs_background": "light"
     },
     "output_type": "display_data"
    }
   ],
   "source": [
    "plt.figure(figsize=(10, 5))\n",
    "\n",
    "rides['duration'].hist(\n",
    "    bins=50,\n",
    "    grid = True,\n",
    "    linewidth=3,\n",
    ")\n",
    "plt.title('Продолжительность одной поездки, мин')\n",
    "plt.xlabel(\"Время, мин\")\n",
    "plt.ylabel(\"Частота\")\n",
    "plt.show();"
   ]
  },
  {
   "cell_type": "markdown",
   "id": "2d7ea619",
   "metadata": {},
   "source": [
    "Ещё 95 значений были удалены. Зато теперь данные правдоподобны и по ним можно сказать, что  среднее и медианное значения отличаются незначительно: 17.94 и 17.74 мин, а стандартное отклонение составляет около 6 мин, что говорит об отсутствии выбросов и аномалий.\n",
    "\n",
    "Таким образом, в среднем люди используют самокат в течение около 18 минут (примерно 1/3 часа), преодолевая за это время в среднем около 3 км. То есть их средняя скорость движения составляет порядка 9 км/ч, что больше средней скорости ходьбы (около 5-6 км/ч) в 1.5-2 раза. Это говорит о преимуществе перемещения на самокате: выше скорость, а значит, короче время движения, а также отсутствие усталости от ходьбы."
   ]
  },
  {
   "cell_type": "markdown",
   "id": "6d3051b7",
   "metadata": {},
   "source": [
    "#### Объединение данных"
   ]
  },
  {
   "cell_type": "markdown",
   "id": "4ef18e9b",
   "metadata": {},
   "source": [
    "4.1 Объединим данные о пользователях, поездках и подписках в один датафрейм - df_all. Для этого воспользуемся методом merge() и выведем первые 5 строк объединённого датафрейма на экран:"
   ]
  },
  {
   "cell_type": "code",
   "execution_count": 40,
   "id": "086adc73",
   "metadata": {
    "scrolled": true
   },
   "outputs": [
    {
     "data": {
      "text/html": [
       "<div>\n",
       "<style scoped>\n",
       "    .dataframe tbody tr th:only-of-type {\n",
       "        vertical-align: middle;\n",
       "    }\n",
       "\n",
       "    .dataframe tbody tr th {\n",
       "        vertical-align: top;\n",
       "    }\n",
       "\n",
       "    .dataframe thead th {\n",
       "        text-align: right;\n",
       "    }\n",
       "</style>\n",
       "<table border=\"1\" class=\"dataframe\">\n",
       "  <thead>\n",
       "    <tr style=\"text-align: right;\">\n",
       "      <th></th>\n",
       "      <th>user_id</th>\n",
       "      <th>name</th>\n",
       "      <th>age</th>\n",
       "      <th>city</th>\n",
       "      <th>subscription_type</th>\n",
       "      <th>distance</th>\n",
       "      <th>duration</th>\n",
       "      <th>date</th>\n",
       "      <th>month</th>\n",
       "      <th>minute_price</th>\n",
       "      <th>start_ride_price</th>\n",
       "      <th>subscription_fee</th>\n",
       "    </tr>\n",
       "  </thead>\n",
       "  <tbody>\n",
       "    <tr>\n",
       "      <th>0</th>\n",
       "      <td>1</td>\n",
       "      <td>Кира</td>\n",
       "      <td>22</td>\n",
       "      <td>Тюмень</td>\n",
       "      <td>ultra</td>\n",
       "      <td>4409.919140</td>\n",
       "      <td>25.599769</td>\n",
       "      <td>2021-01-01</td>\n",
       "      <td>1</td>\n",
       "      <td>6</td>\n",
       "      <td>0</td>\n",
       "      <td>199</td>\n",
       "    </tr>\n",
       "    <tr>\n",
       "      <th>1</th>\n",
       "      <td>1</td>\n",
       "      <td>Кира</td>\n",
       "      <td>22</td>\n",
       "      <td>Тюмень</td>\n",
       "      <td>ultra</td>\n",
       "      <td>2617.592153</td>\n",
       "      <td>15.816871</td>\n",
       "      <td>2021-01-18</td>\n",
       "      <td>1</td>\n",
       "      <td>6</td>\n",
       "      <td>0</td>\n",
       "      <td>199</td>\n",
       "    </tr>\n",
       "    <tr>\n",
       "      <th>2</th>\n",
       "      <td>1</td>\n",
       "      <td>Кира</td>\n",
       "      <td>22</td>\n",
       "      <td>Тюмень</td>\n",
       "      <td>ultra</td>\n",
       "      <td>754.159807</td>\n",
       "      <td>6.232113</td>\n",
       "      <td>2021-04-20</td>\n",
       "      <td>4</td>\n",
       "      <td>6</td>\n",
       "      <td>0</td>\n",
       "      <td>199</td>\n",
       "    </tr>\n",
       "    <tr>\n",
       "      <th>3</th>\n",
       "      <td>1</td>\n",
       "      <td>Кира</td>\n",
       "      <td>22</td>\n",
       "      <td>Тюмень</td>\n",
       "      <td>ultra</td>\n",
       "      <td>2694.783254</td>\n",
       "      <td>18.511000</td>\n",
       "      <td>2021-08-11</td>\n",
       "      <td>8</td>\n",
       "      <td>6</td>\n",
       "      <td>0</td>\n",
       "      <td>199</td>\n",
       "    </tr>\n",
       "    <tr>\n",
       "      <th>4</th>\n",
       "      <td>1</td>\n",
       "      <td>Кира</td>\n",
       "      <td>22</td>\n",
       "      <td>Тюмень</td>\n",
       "      <td>ultra</td>\n",
       "      <td>4028.687306</td>\n",
       "      <td>26.265803</td>\n",
       "      <td>2021-08-28</td>\n",
       "      <td>8</td>\n",
       "      <td>6</td>\n",
       "      <td>0</td>\n",
       "      <td>199</td>\n",
       "    </tr>\n",
       "  </tbody>\n",
       "</table>\n",
       "</div>"
      ],
      "text/plain": [
       "   user_id  name  age    city subscription_type     distance   duration  \\\n",
       "0        1  Кира   22  Тюмень             ultra  4409.919140  25.599769   \n",
       "1        1  Кира   22  Тюмень             ultra  2617.592153  15.816871   \n",
       "2        1  Кира   22  Тюмень             ultra   754.159807   6.232113   \n",
       "3        1  Кира   22  Тюмень             ultra  2694.783254  18.511000   \n",
       "4        1  Кира   22  Тюмень             ultra  4028.687306  26.265803   \n",
       "\n",
       "        date  month  minute_price  start_ride_price  subscription_fee  \n",
       "0 2021-01-01      1             6                 0               199  \n",
       "1 2021-01-18      1             6                 0               199  \n",
       "2 2021-04-20      4             6                 0               199  \n",
       "3 2021-08-11      8             6                 0               199  \n",
       "4 2021-08-28      8             6                 0               199  "
      ]
     },
     "execution_count": 40,
     "metadata": {},
     "output_type": "execute_result"
    }
   ],
   "source": [
    "df_all = users.merge(rides, on='user_id').merge(subscriptions, on='subscription_type')\n",
    "\n",
    "df_all.head()"
   ]
  },
  {
   "cell_type": "markdown",
   "id": "c9078bfa",
   "metadata": {},
   "source": [
    "Проверим, что количество строк в созданном датафрейме совпадает с исходным датафреймом rides:"
   ]
  },
  {
   "cell_type": "code",
   "execution_count": 41,
   "id": "91002d6c",
   "metadata": {
    "scrolled": true
   },
   "outputs": [
    {
     "name": "stdout",
     "output_type": "stream",
     "text": [
      "<class 'pandas.core.frame.DataFrame'>\n",
      "Int64Index: 17895 entries, 0 to 17894\n",
      "Data columns (total 12 columns):\n",
      " #   Column             Non-Null Count  Dtype         \n",
      "---  ------             --------------  -----         \n",
      " 0   user_id            17895 non-null  int64         \n",
      " 1   name               17895 non-null  object        \n",
      " 2   age                17895 non-null  int64         \n",
      " 3   city               17895 non-null  object        \n",
      " 4   subscription_type  17895 non-null  object        \n",
      " 5   distance           17895 non-null  float64       \n",
      " 6   duration           17895 non-null  float64       \n",
      " 7   date               17895 non-null  datetime64[ns]\n",
      " 8   month              17895 non-null  int64         \n",
      " 9   minute_price       17895 non-null  int64         \n",
      " 10  start_ride_price   17895 non-null  int64         \n",
      " 11  subscription_fee   17895 non-null  int64         \n",
      "dtypes: datetime64[ns](1), float64(2), int64(6), object(3)\n",
      "memory usage: 1.8+ MB\n"
     ]
    }
   ],
   "source": [
    "df_all.info()"
   ]
  },
  {
   "cell_type": "markdown",
   "id": "12d9ccd0",
   "metadata": {},
   "source": [
    "Всё нормально: данные не потерялись и не были добавлены."
   ]
  },
  {
   "cell_type": "markdown",
   "id": "5b5eb239",
   "metadata": {},
   "source": [
    "4.2 Создадим ещё два датафрейма из датафрейма, созданного на этапе 4.1:\n",
    "- c данными о пользователях с подпиской - df_ultra;\n",
    "- с данными о пользователях без подписки - df_free.\n",
    "\n",
    "Выведем первые 5 строк каждого датафрейма:"
   ]
  },
  {
   "cell_type": "code",
   "execution_count": 42,
   "id": "1ba37631",
   "metadata": {},
   "outputs": [
    {
     "data": {
      "text/html": [
       "<div>\n",
       "<style scoped>\n",
       "    .dataframe tbody tr th:only-of-type {\n",
       "        vertical-align: middle;\n",
       "    }\n",
       "\n",
       "    .dataframe tbody tr th {\n",
       "        vertical-align: top;\n",
       "    }\n",
       "\n",
       "    .dataframe thead th {\n",
       "        text-align: right;\n",
       "    }\n",
       "</style>\n",
       "<table border=\"1\" class=\"dataframe\">\n",
       "  <thead>\n",
       "    <tr style=\"text-align: right;\">\n",
       "      <th></th>\n",
       "      <th>user_id</th>\n",
       "      <th>name</th>\n",
       "      <th>age</th>\n",
       "      <th>city</th>\n",
       "      <th>subscription_type</th>\n",
       "      <th>distance</th>\n",
       "      <th>duration</th>\n",
       "      <th>date</th>\n",
       "      <th>month</th>\n",
       "      <th>minute_price</th>\n",
       "      <th>start_ride_price</th>\n",
       "      <th>subscription_fee</th>\n",
       "    </tr>\n",
       "  </thead>\n",
       "  <tbody>\n",
       "    <tr>\n",
       "      <th>0</th>\n",
       "      <td>1</td>\n",
       "      <td>Кира</td>\n",
       "      <td>22</td>\n",
       "      <td>Тюмень</td>\n",
       "      <td>ultra</td>\n",
       "      <td>4409.919140</td>\n",
       "      <td>25.599769</td>\n",
       "      <td>2021-01-01</td>\n",
       "      <td>1</td>\n",
       "      <td>6</td>\n",
       "      <td>0</td>\n",
       "      <td>199</td>\n",
       "    </tr>\n",
       "    <tr>\n",
       "      <th>1</th>\n",
       "      <td>1</td>\n",
       "      <td>Кира</td>\n",
       "      <td>22</td>\n",
       "      <td>Тюмень</td>\n",
       "      <td>ultra</td>\n",
       "      <td>2617.592153</td>\n",
       "      <td>15.816871</td>\n",
       "      <td>2021-01-18</td>\n",
       "      <td>1</td>\n",
       "      <td>6</td>\n",
       "      <td>0</td>\n",
       "      <td>199</td>\n",
       "    </tr>\n",
       "    <tr>\n",
       "      <th>2</th>\n",
       "      <td>1</td>\n",
       "      <td>Кира</td>\n",
       "      <td>22</td>\n",
       "      <td>Тюмень</td>\n",
       "      <td>ultra</td>\n",
       "      <td>754.159807</td>\n",
       "      <td>6.232113</td>\n",
       "      <td>2021-04-20</td>\n",
       "      <td>4</td>\n",
       "      <td>6</td>\n",
       "      <td>0</td>\n",
       "      <td>199</td>\n",
       "    </tr>\n",
       "    <tr>\n",
       "      <th>3</th>\n",
       "      <td>1</td>\n",
       "      <td>Кира</td>\n",
       "      <td>22</td>\n",
       "      <td>Тюмень</td>\n",
       "      <td>ultra</td>\n",
       "      <td>2694.783254</td>\n",
       "      <td>18.511000</td>\n",
       "      <td>2021-08-11</td>\n",
       "      <td>8</td>\n",
       "      <td>6</td>\n",
       "      <td>0</td>\n",
       "      <td>199</td>\n",
       "    </tr>\n",
       "    <tr>\n",
       "      <th>4</th>\n",
       "      <td>1</td>\n",
       "      <td>Кира</td>\n",
       "      <td>22</td>\n",
       "      <td>Тюмень</td>\n",
       "      <td>ultra</td>\n",
       "      <td>4028.687306</td>\n",
       "      <td>26.265803</td>\n",
       "      <td>2021-08-28</td>\n",
       "      <td>8</td>\n",
       "      <td>6</td>\n",
       "      <td>0</td>\n",
       "      <td>199</td>\n",
       "    </tr>\n",
       "  </tbody>\n",
       "</table>\n",
       "</div>"
      ],
      "text/plain": [
       "   user_id  name  age    city subscription_type     distance   duration  \\\n",
       "0        1  Кира   22  Тюмень             ultra  4409.919140  25.599769   \n",
       "1        1  Кира   22  Тюмень             ultra  2617.592153  15.816871   \n",
       "2        1  Кира   22  Тюмень             ultra   754.159807   6.232113   \n",
       "3        1  Кира   22  Тюмень             ultra  2694.783254  18.511000   \n",
       "4        1  Кира   22  Тюмень             ultra  4028.687306  26.265803   \n",
       "\n",
       "        date  month  minute_price  start_ride_price  subscription_fee  \n",
       "0 2021-01-01      1             6                 0               199  \n",
       "1 2021-01-18      1             6                 0               199  \n",
       "2 2021-04-20      4             6                 0               199  \n",
       "3 2021-08-11      8             6                 0               199  \n",
       "4 2021-08-28      8             6                 0               199  "
      ]
     },
     "execution_count": 42,
     "metadata": {},
     "output_type": "execute_result"
    }
   ],
   "source": [
    "df_ultra = df_all.query('subscription_type == \"ultra\"')\n",
    "\n",
    "df_ultra.head()"
   ]
  },
  {
   "cell_type": "code",
   "execution_count": 43,
   "id": "c3098f64",
   "metadata": {},
   "outputs": [
    {
     "data": {
      "text/html": [
       "<div>\n",
       "<style scoped>\n",
       "    .dataframe tbody tr th:only-of-type {\n",
       "        vertical-align: middle;\n",
       "    }\n",
       "\n",
       "    .dataframe tbody tr th {\n",
       "        vertical-align: top;\n",
       "    }\n",
       "\n",
       "    .dataframe thead th {\n",
       "        text-align: right;\n",
       "    }\n",
       "</style>\n",
       "<table border=\"1\" class=\"dataframe\">\n",
       "  <thead>\n",
       "    <tr style=\"text-align: right;\">\n",
       "      <th></th>\n",
       "      <th>user_id</th>\n",
       "      <th>name</th>\n",
       "      <th>age</th>\n",
       "      <th>city</th>\n",
       "      <th>subscription_type</th>\n",
       "      <th>distance</th>\n",
       "      <th>duration</th>\n",
       "      <th>date</th>\n",
       "      <th>month</th>\n",
       "      <th>minute_price</th>\n",
       "      <th>start_ride_price</th>\n",
       "      <th>subscription_fee</th>\n",
       "    </tr>\n",
       "  </thead>\n",
       "  <tbody>\n",
       "    <tr>\n",
       "      <th>6500</th>\n",
       "      <td>700</td>\n",
       "      <td>Айдар</td>\n",
       "      <td>22</td>\n",
       "      <td>Омск</td>\n",
       "      <td>free</td>\n",
       "      <td>2515.690719</td>\n",
       "      <td>14.944286</td>\n",
       "      <td>2021-01-02</td>\n",
       "      <td>1</td>\n",
       "      <td>8</td>\n",
       "      <td>50</td>\n",
       "      <td>0</td>\n",
       "    </tr>\n",
       "    <tr>\n",
       "      <th>6501</th>\n",
       "      <td>700</td>\n",
       "      <td>Айдар</td>\n",
       "      <td>22</td>\n",
       "      <td>Омск</td>\n",
       "      <td>free</td>\n",
       "      <td>846.932642</td>\n",
       "      <td>16.234663</td>\n",
       "      <td>2021-02-01</td>\n",
       "      <td>2</td>\n",
       "      <td>8</td>\n",
       "      <td>50</td>\n",
       "      <td>0</td>\n",
       "    </tr>\n",
       "    <tr>\n",
       "      <th>6502</th>\n",
       "      <td>700</td>\n",
       "      <td>Айдар</td>\n",
       "      <td>22</td>\n",
       "      <td>Омск</td>\n",
       "      <td>free</td>\n",
       "      <td>4004.434142</td>\n",
       "      <td>20.016628</td>\n",
       "      <td>2021-02-04</td>\n",
       "      <td>2</td>\n",
       "      <td>8</td>\n",
       "      <td>50</td>\n",
       "      <td>0</td>\n",
       "    </tr>\n",
       "    <tr>\n",
       "      <th>6503</th>\n",
       "      <td>700</td>\n",
       "      <td>Айдар</td>\n",
       "      <td>22</td>\n",
       "      <td>Омск</td>\n",
       "      <td>free</td>\n",
       "      <td>1205.911290</td>\n",
       "      <td>9.782872</td>\n",
       "      <td>2021-02-10</td>\n",
       "      <td>2</td>\n",
       "      <td>8</td>\n",
       "      <td>50</td>\n",
       "      <td>0</td>\n",
       "    </tr>\n",
       "    <tr>\n",
       "      <th>6504</th>\n",
       "      <td>700</td>\n",
       "      <td>Айдар</td>\n",
       "      <td>22</td>\n",
       "      <td>Омск</td>\n",
       "      <td>free</td>\n",
       "      <td>3047.379435</td>\n",
       "      <td>17.427673</td>\n",
       "      <td>2021-02-14</td>\n",
       "      <td>2</td>\n",
       "      <td>8</td>\n",
       "      <td>50</td>\n",
       "      <td>0</td>\n",
       "    </tr>\n",
       "  </tbody>\n",
       "</table>\n",
       "</div>"
      ],
      "text/plain": [
       "      user_id   name  age  city subscription_type     distance   duration  \\\n",
       "6500      700  Айдар   22  Омск              free  2515.690719  14.944286   \n",
       "6501      700  Айдар   22  Омск              free   846.932642  16.234663   \n",
       "6502      700  Айдар   22  Омск              free  4004.434142  20.016628   \n",
       "6503      700  Айдар   22  Омск              free  1205.911290   9.782872   \n",
       "6504      700  Айдар   22  Омск              free  3047.379435  17.427673   \n",
       "\n",
       "           date  month  minute_price  start_ride_price  subscription_fee  \n",
       "6500 2021-01-02      1             8                50                 0  \n",
       "6501 2021-02-01      2             8                50                 0  \n",
       "6502 2021-02-04      2             8                50                 0  \n",
       "6503 2021-02-10      2             8                50                 0  \n",
       "6504 2021-02-14      2             8                50                 0  "
      ]
     },
     "execution_count": 43,
     "metadata": {},
     "output_type": "execute_result"
    }
   ],
   "source": [
    "df_free = df_all.query('subscription_type == \"free\"')\n",
    "\n",
    "df_free.head()"
   ]
  },
  {
   "cell_type": "markdown",
   "id": "9aeb3e50",
   "metadata": {},
   "source": [
    "4.3 Визуализируем информацию о расстоянии и времени поездок для пользователей обеих категорий.\n",
    "\n",
    "Для этого для обоих датафреймов: df_ultra и df_free, - построим необходимые сводные таблицы, данные из которых визуализируем с помощью методы plot(), а также вызовем метод describe():"
   ]
  },
  {
   "cell_type": "code",
   "execution_count": 44,
   "id": "65f12742",
   "metadata": {
    "scrolled": true
   },
   "outputs": [
    {
     "data": {
      "text/plain": [
       "count    6500.000000\n",
       "mean     3115.445388\n",
       "std       836.895330\n",
       "min       244.210438\n",
       "25%      2785.444017\n",
       "50%      3148.637229\n",
       "75%      3560.574425\n",
       "max      5699.769662\n",
       "Name: distance, dtype: float64"
      ]
     },
     "execution_count": 44,
     "metadata": {},
     "output_type": "execute_result"
    }
   ],
   "source": [
    "df_ultra['distance'].describe()"
   ]
  },
  {
   "cell_type": "code",
   "execution_count": 45,
   "id": "6583c7b3",
   "metadata": {
    "scrolled": false
   },
   "outputs": [
    {
     "data": {
      "text/plain": [
       "count    11395.000000\n",
       "mean      3048.710848\n",
       "std       1214.976625\n",
       "min        102.323624\n",
       "25%       2374.272932\n",
       "50%       3111.679928\n",
       "75%       3890.641189\n",
       "max       7066.003772\n",
       "Name: distance, dtype: float64"
      ]
     },
     "execution_count": 45,
     "metadata": {},
     "output_type": "execute_result"
    }
   ],
   "source": [
    "df_free['distance'].describe()"
   ]
  },
  {
   "cell_type": "code",
   "execution_count": 46,
   "id": "6676418b",
   "metadata": {
    "scrolled": false
   },
   "outputs": [
    {
     "data": {
      "image/png": "[encoded data removed]",
      "text/plain": [
       "<Figure size 720x360 with 1 Axes>"
      ]
     },
     "metadata": {
      "needs_background": "light"
     },
     "output_type": "display_data"
    }
   ],
   "source": [
    "plt.figure(figsize=(10, 5))\n",
    "\n",
    "df_ultra['distance'].hist(bins=50, alpha=0.7,\n",
    "                            label='Ultra', grid = True, color='blue', histtype='step', linewidth=3)\n",
    "\n",
    "df_free['distance'].hist(bins=50, alpha=0.7,\n",
    "                            label='Free', grid = True, color='red', histtype='step', linewidth=3)\n",
    "\n",
    "\n",
    "plt.legend()\n",
    "plt.title('Расстояние одной поездки, м')\n",
    "plt.xlabel(\"Расстояние, м\")\n",
    "plt.ylabel(\"Частота\")\n",
    "plt.show();"
   ]
  },
  {
   "cell_type": "markdown",
   "id": "73c367a1",
   "metadata": {},
   "source": [
    "Как можно видеть, распределение расстояний для пользователей с подпиской имеет три ярко выраженных пика: первый в области до 2 км с максимумом в 1000 м, второй, самый большой, от 2 до 5 км и третий, у которого отчётливо видно только правую часть, от 4 ( область максимума) до почти 6 км. Причём среднее и медианное значения различаются не сильно: 3115.4 м и 3148.6 м, а стандартное отклонение составляет около 837 м. Каждый пик такого распределения в целом подобен нормальному.\n",
    "\n",
    "Распределение расстояний для пользователей без подписки имеет 2 пика: до примерно 1.5 км и от 1.5 до 7 км. Причём первый пик не достаточно похож на нормальное распределение, т.к. левая часть на имеет затухающего хвоста: минимальное расстояние, около 100 м, преодолевалось довольно часто - около 150 раз. Второй пик имеет уширение в середине, от 2 до 4.5 км, что также отличается от характера нормального распределения, т.е. разброс данных здесь больше, чем для пользователей с подпиской. Так, среднее и медианное значения различаются уже довольно сильно: 3048.7 м и 3111.7 м, соответственно, а стандартное отклонение составляет более 1200 м. \n",
    "\n",
    "В целом можно сказать, что пользователи с подпиской имеют меньший диапазон расстояний и распределяются по расстояниям в большем приближении к нормальному распределнию, чем пользователи без подписки, которые чаще преодолевают расстояния от 2 до 5 км.\n",
    "\n",
    "\n",
    "Теперь изучим продолжительность одной поездки для разных категорий пользователей: "
   ]
  },
  {
   "cell_type": "code",
   "execution_count": 47,
   "id": "49cfd5f8",
   "metadata": {},
   "outputs": [
    {
     "data": {
      "text/plain": [
       "count    6500.000000\n",
       "mean       18.541985\n",
       "std         5.572048\n",
       "min         3.760353\n",
       "25%        14.524654\n",
       "50%        18.178153\n",
       "75%        21.884129\n",
       "max        40.823963\n",
       "Name: duration, dtype: float64"
      ]
     },
     "execution_count": 47,
     "metadata": {},
     "output_type": "execute_result"
    }
   ],
   "source": [
    "df_ultra['duration'].describe()"
   ]
  },
  {
   "cell_type": "code",
   "execution_count": 48,
   "id": "a2cdfc30",
   "metadata": {
    "scrolled": true
   },
   "outputs": [
    {
     "data": {
      "text/plain": [
       "count    11395.000000\n",
       "mean        17.598770\n",
       "std          6.121051\n",
       "min          2.222598\n",
       "25%         13.167298\n",
       "50%         17.437023\n",
       "75%         21.677612\n",
       "max         34.948498\n",
       "Name: duration, dtype: float64"
      ]
     },
     "execution_count": 48,
     "metadata": {},
     "output_type": "execute_result"
    }
   ],
   "source": [
    "df_free['duration'].describe()"
   ]
  },
  {
   "cell_type": "code",
   "execution_count": 49,
   "id": "bf09f29c",
   "metadata": {
    "scrolled": true
   },
   "outputs": [
    {
     "data": {
      "image/png": "[encoded data removed]",
      "text/plain": [
       "<Figure size 720x360 with 1 Axes>"
      ]
     },
     "metadata": {
      "needs_background": "light"
     },
     "output_type": "display_data"
    }
   ],
   "source": [
    "plt.figure(figsize=(10, 5))\n",
    "\n",
    "df_ultra['duration'].hist(bins=50, alpha=0.7,\n",
    "                            label='Ultra', grid = True, color='blue', histtype='step', linewidth=3)\n",
    "\n",
    "df_free['duration'].hist(bins=50, alpha=0.7,\n",
    "                            label='Free', grid = True, color='red', histtype='step', linewidth=3)\n",
    "\n",
    "\n",
    "plt.legend()\n",
    "plt.title('Продолжительность одной поездки, мин')\n",
    "plt.xlabel(\"Время, мин\")\n",
    "plt.ylabel(\"Частота\")\n",
    "plt.show();"
   ]
  },
  {
   "cell_type": "markdown",
   "id": "2e4d95f1",
   "metadata": {},
   "source": [
    "Так, поездки для пользователей с подпиской 'ultra' длятся от почти 4 до около 41 минуты. При этом среднее и медианное значения практически равны друг другу: 18.54 и 18.18 мин, соответственно, а стандартное отклонение составляет менее 6 минут, что говорит об отсутствии аномалий и выбросов в этих значениях.\n",
    "\n",
    "Что касается продолжительности одной поездки для пользователей без подписки, то она характеризуется временным отрезком: от четь более 2 минут до почти 35 минут, причём среднее и медианное значения также очень близки: 17.60 и 17.44 мин, соответственно, а стандартное отклонение составляет немногим более 6, что также говорит об отсутствии аномалий и выбросов в этих значениях.\n",
    "\n",
    "В целом можно видеть, что за одинаковую продолжительность пользователи без подписки чаще совершали поездки, чем пользователи с подпиской."
   ]
  },
  {
   "cell_type": "code",
   "execution_count": 50,
   "id": "3cb61c23",
   "metadata": {},
   "outputs": [
    {
     "data": {
      "image/png": "[encoded data removed]",
      "text/plain": [
       "<Figure size 720x360 with 1 Axes>"
      ]
     },
     "metadata": {
      "needs_background": "light"
     },
     "output_type": "display_data"
    }
   ],
   "source": [
    "#  код ревьюера\n",
    "plt.figure(figsize=(10, 5))\n",
    "\n",
    "df_ultra['duration'].hist(bins=50, alpha=0.7,\n",
    "                            label='Ultra', grid = True, color='blue', histtype='step', linewidth=3)\n",
    "\n",
    "df_free['duration'].hist(bins=50, alpha=0.7,\n",
    "                            label='Free', grid = True, color='red', histtype='step', linewidth=3)\n",
    "\n",
    "\n",
    "plt.legend()\n",
    "plt.title('Продолжительность одной поездки, мин')\n",
    "plt.xlabel(\"Расстояние, м\")\n",
    "plt.ylabel(\"Частота\")\n",
    "plt.show();"
   ]
  },
  {
   "cell_type": "markdown",
   "id": "a464e6a6",
   "metadata": {},
   "source": [
    "#### Подсчёт выручки"
   ]
  },
  {
   "cell_type": "markdown",
   "id": "a1d4487f",
   "metadata": {},
   "source": [
    "5.1 Создадим датафрейм с агрегированными данными (df_agg) о поездках на основе датафрейма с объединёнными данными из шага 4: найдём суммарное расстояние, количество поездок и суммарное время для каждого пользователя за каждый месяц.\n",
    "\n",
    "Сначала в датафрейме df_all округлим продолжительность каждой поездки(значения в столбце 'duration') до следующего целого числа, применив функцию np.ceil():"
   ]
  },
  {
   "cell_type": "code",
   "execution_count": 51,
   "id": "3f78c98f",
   "metadata": {},
   "outputs": [
    {
     "data": {
      "text/plain": [
       "0        26.0\n",
       "1        16.0\n",
       "2         7.0\n",
       "3        19.0\n",
       "4        27.0\n",
       "         ... \n",
       "17890    20.0\n",
       "17891    22.0\n",
       "17892    19.0\n",
       "17893    17.0\n",
       "17894    16.0\n",
       "Name: duration, Length: 17895, dtype: float64"
      ]
     },
     "execution_count": 51,
     "metadata": {},
     "output_type": "execute_result"
    }
   ],
   "source": [
    "df_all['duration'] = np.ceil(df_all['duration'])\n",
    "\n",
    "df_all['duration']"
   ]
  },
  {
   "cell_type": "markdown",
   "id": "0fd36bb3",
   "metadata": {},
   "source": [
    "Теперь из датафрейма df_all создадим сводную таблицу, присвоив ей имя df_agg, где сгруппируем данные по 'user_id' (чтобы учесть каждого пользователя), 'month' (чтобы учесть каждый месяц) и 'subscription_type' (что знать, к какому типу подписки относится пользователь), в качестве значений возьмём 'distance' и 'duration', и применим к ним селективно функции 'sum' и 'count': "
   ]
  },
  {
   "cell_type": "code",
   "execution_count": 52,
   "id": "5a199c89",
   "metadata": {},
   "outputs": [],
   "source": [
    "df_agg = df_all.pivot_table(\n",
    "    index=['user_id', 'month', 'subscription_type'],\n",
    "    values=['distance', 'duration'],\n",
    "    aggfunc={'distance':['sum', 'count'],\n",
    "            'duration':'sum'}\n",
    ")"
   ]
  },
  {
   "cell_type": "markdown",
   "id": "5957f15a",
   "metadata": {},
   "source": [
    "Переименуем столбцы в df_agg в соответствии с заданием и выведем датафрейм:"
   ]
  },
  {
   "cell_type": "code",
   "execution_count": 53,
   "id": "de199a5f",
   "metadata": {
    "scrolled": false
   },
   "outputs": [
    {
     "data": {
      "text/html": [
       "<div>\n",
       "<style scoped>\n",
       "    .dataframe tbody tr th:only-of-type {\n",
       "        vertical-align: middle;\n",
       "    }\n",
       "\n",
       "    .dataframe tbody tr th {\n",
       "        vertical-align: top;\n",
       "    }\n",
       "\n",
       "    .dataframe thead th {\n",
       "        text-align: right;\n",
       "    }\n",
       "</style>\n",
       "<table border=\"1\" class=\"dataframe\">\n",
       "  <thead>\n",
       "    <tr style=\"text-align: right;\">\n",
       "      <th></th>\n",
       "      <th></th>\n",
       "      <th></th>\n",
       "      <th>trip_count</th>\n",
       "      <th>distance_sum</th>\n",
       "      <th>duration_sum</th>\n",
       "    </tr>\n",
       "    <tr>\n",
       "      <th>user_id</th>\n",
       "      <th>month</th>\n",
       "      <th>subscription_type</th>\n",
       "      <th></th>\n",
       "      <th></th>\n",
       "      <th></th>\n",
       "    </tr>\n",
       "  </thead>\n",
       "  <tbody>\n",
       "    <tr>\n",
       "      <th rowspan=\"5\" valign=\"top\">1</th>\n",
       "      <th>1</th>\n",
       "      <th>ultra</th>\n",
       "      <td>2</td>\n",
       "      <td>7027.511294</td>\n",
       "      <td>42.0</td>\n",
       "    </tr>\n",
       "    <tr>\n",
       "      <th>4</th>\n",
       "      <th>ultra</th>\n",
       "      <td>1</td>\n",
       "      <td>754.159807</td>\n",
       "      <td>7.0</td>\n",
       "    </tr>\n",
       "    <tr>\n",
       "      <th>8</th>\n",
       "      <th>ultra</th>\n",
       "      <td>2</td>\n",
       "      <td>6723.470560</td>\n",
       "      <td>46.0</td>\n",
       "    </tr>\n",
       "    <tr>\n",
       "      <th>10</th>\n",
       "      <th>ultra</th>\n",
       "      <td>2</td>\n",
       "      <td>5809.911100</td>\n",
       "      <td>32.0</td>\n",
       "    </tr>\n",
       "    <tr>\n",
       "      <th>11</th>\n",
       "      <th>ultra</th>\n",
       "      <td>3</td>\n",
       "      <td>7003.499363</td>\n",
       "      <td>56.0</td>\n",
       "    </tr>\n",
       "    <tr>\n",
       "      <th>...</th>\n",
       "      <th>...</th>\n",
       "      <th>...</th>\n",
       "      <td>...</td>\n",
       "      <td>...</td>\n",
       "      <td>...</td>\n",
       "    </tr>\n",
       "    <tr>\n",
       "      <th rowspan=\"5\" valign=\"top\">1534</th>\n",
       "      <th>6</th>\n",
       "      <th>free</th>\n",
       "      <td>2</td>\n",
       "      <td>3409.468534</td>\n",
       "      <td>26.0</td>\n",
       "    </tr>\n",
       "    <tr>\n",
       "      <th>8</th>\n",
       "      <th>free</th>\n",
       "      <td>2</td>\n",
       "      <td>7622.453034</td>\n",
       "      <td>48.0</td>\n",
       "    </tr>\n",
       "    <tr>\n",
       "      <th>9</th>\n",
       "      <th>free</th>\n",
       "      <td>1</td>\n",
       "      <td>4928.173852</td>\n",
       "      <td>23.0</td>\n",
       "    </tr>\n",
       "    <tr>\n",
       "      <th>11</th>\n",
       "      <th>free</th>\n",
       "      <td>4</td>\n",
       "      <td>13350.015305</td>\n",
       "      <td>78.0</td>\n",
       "    </tr>\n",
       "    <tr>\n",
       "      <th>12</th>\n",
       "      <th>free</th>\n",
       "      <td>1</td>\n",
       "      <td>2371.711192</td>\n",
       "      <td>16.0</td>\n",
       "    </tr>\n",
       "  </tbody>\n",
       "</table>\n",
       "<p>11280 rows × 3 columns</p>\n",
       "</div>"
      ],
      "text/plain": [
       "                                 trip_count  distance_sum  duration_sum\n",
       "user_id month subscription_type                                        \n",
       "1       1     ultra                       2   7027.511294          42.0\n",
       "        4     ultra                       1    754.159807           7.0\n",
       "        8     ultra                       2   6723.470560          46.0\n",
       "        10    ultra                       2   5809.911100          32.0\n",
       "        11    ultra                       3   7003.499363          56.0\n",
       "...                                     ...           ...           ...\n",
       "1534    6     free                        2   3409.468534          26.0\n",
       "        8     free                        2   7622.453034          48.0\n",
       "        9     free                        1   4928.173852          23.0\n",
       "        11    free                        4  13350.015305          78.0\n",
       "        12    free                        1   2371.711192          16.0\n",
       "\n",
       "[11280 rows x 3 columns]"
      ]
     },
     "execution_count": 53,
     "metadata": {},
     "output_type": "execute_result"
    }
   ],
   "source": [
    "df_agg.columns = ['trip_count', 'distance_sum', 'duration_sum']\n",
    "df_agg"
   ]
  },
  {
   "cell_type": "markdown",
   "id": "7323dd35",
   "metadata": {},
   "source": [
    "5.2 В этот же датафрейм добавим столбец с помесячной выручкой, которую принёс каждый пользователь. Для этого обратимся к информации об условиях оплаты для подписчиков и тех, у кого нет подписки.\n",
    "\n",
    "Помесячная выручка считается по формуле: \n",
    "\n",
    "стоимость старта поездки ×  количество поездок + стоимость одной минуты поездки × общая продолжительность всех поездок в минутах + стоимость подписки.\n",
    "\n",
    "Для расчёта помесячной выручки сначала объединим df_agg и subscriptions по столбцу 'subscription_type': "
   ]
  },
  {
   "cell_type": "code",
   "execution_count": 54,
   "id": "00baf7aa",
   "metadata": {
    "scrolled": true
   },
   "outputs": [
    {
     "data": {
      "text/html": [
       "<div>\n",
       "<style scoped>\n",
       "    .dataframe tbody tr th:only-of-type {\n",
       "        vertical-align: middle;\n",
       "    }\n",
       "\n",
       "    .dataframe tbody tr th {\n",
       "        vertical-align: top;\n",
       "    }\n",
       "\n",
       "    .dataframe thead th {\n",
       "        text-align: right;\n",
       "    }\n",
       "</style>\n",
       "<table border=\"1\" class=\"dataframe\">\n",
       "  <thead>\n",
       "    <tr style=\"text-align: right;\">\n",
       "      <th></th>\n",
       "      <th>subscription_type</th>\n",
       "      <th>trip_count</th>\n",
       "      <th>distance_sum</th>\n",
       "      <th>duration_sum</th>\n",
       "      <th>minute_price</th>\n",
       "      <th>start_ride_price</th>\n",
       "      <th>subscription_fee</th>\n",
       "    </tr>\n",
       "  </thead>\n",
       "  <tbody>\n",
       "    <tr>\n",
       "      <th>0</th>\n",
       "      <td>ultra</td>\n",
       "      <td>2</td>\n",
       "      <td>7027.511294</td>\n",
       "      <td>42.0</td>\n",
       "      <td>6</td>\n",
       "      <td>0</td>\n",
       "      <td>199</td>\n",
       "    </tr>\n",
       "    <tr>\n",
       "      <th>1</th>\n",
       "      <td>ultra</td>\n",
       "      <td>1</td>\n",
       "      <td>754.159807</td>\n",
       "      <td>7.0</td>\n",
       "      <td>6</td>\n",
       "      <td>0</td>\n",
       "      <td>199</td>\n",
       "    </tr>\n",
       "    <tr>\n",
       "      <th>2</th>\n",
       "      <td>ultra</td>\n",
       "      <td>2</td>\n",
       "      <td>6723.470560</td>\n",
       "      <td>46.0</td>\n",
       "      <td>6</td>\n",
       "      <td>0</td>\n",
       "      <td>199</td>\n",
       "    </tr>\n",
       "    <tr>\n",
       "      <th>3</th>\n",
       "      <td>ultra</td>\n",
       "      <td>2</td>\n",
       "      <td>5809.911100</td>\n",
       "      <td>32.0</td>\n",
       "      <td>6</td>\n",
       "      <td>0</td>\n",
       "      <td>199</td>\n",
       "    </tr>\n",
       "    <tr>\n",
       "      <th>4</th>\n",
       "      <td>ultra</td>\n",
       "      <td>3</td>\n",
       "      <td>7003.499363</td>\n",
       "      <td>56.0</td>\n",
       "      <td>6</td>\n",
       "      <td>0</td>\n",
       "      <td>199</td>\n",
       "    </tr>\n",
       "    <tr>\n",
       "      <th>...</th>\n",
       "      <td>...</td>\n",
       "      <td>...</td>\n",
       "      <td>...</td>\n",
       "      <td>...</td>\n",
       "      <td>...</td>\n",
       "      <td>...</td>\n",
       "      <td>...</td>\n",
       "    </tr>\n",
       "    <tr>\n",
       "      <th>11275</th>\n",
       "      <td>free</td>\n",
       "      <td>2</td>\n",
       "      <td>3409.468534</td>\n",
       "      <td>26.0</td>\n",
       "      <td>8</td>\n",
       "      <td>50</td>\n",
       "      <td>0</td>\n",
       "    </tr>\n",
       "    <tr>\n",
       "      <th>11276</th>\n",
       "      <td>free</td>\n",
       "      <td>2</td>\n",
       "      <td>7622.453034</td>\n",
       "      <td>48.0</td>\n",
       "      <td>8</td>\n",
       "      <td>50</td>\n",
       "      <td>0</td>\n",
       "    </tr>\n",
       "    <tr>\n",
       "      <th>11277</th>\n",
       "      <td>free</td>\n",
       "      <td>1</td>\n",
       "      <td>4928.173852</td>\n",
       "      <td>23.0</td>\n",
       "      <td>8</td>\n",
       "      <td>50</td>\n",
       "      <td>0</td>\n",
       "    </tr>\n",
       "    <tr>\n",
       "      <th>11278</th>\n",
       "      <td>free</td>\n",
       "      <td>4</td>\n",
       "      <td>13350.015305</td>\n",
       "      <td>78.0</td>\n",
       "      <td>8</td>\n",
       "      <td>50</td>\n",
       "      <td>0</td>\n",
       "    </tr>\n",
       "    <tr>\n",
       "      <th>11279</th>\n",
       "      <td>free</td>\n",
       "      <td>1</td>\n",
       "      <td>2371.711192</td>\n",
       "      <td>16.0</td>\n",
       "      <td>8</td>\n",
       "      <td>50</td>\n",
       "      <td>0</td>\n",
       "    </tr>\n",
       "  </tbody>\n",
       "</table>\n",
       "<p>11280 rows × 7 columns</p>\n",
       "</div>"
      ],
      "text/plain": [
       "      subscription_type  trip_count  distance_sum  duration_sum  minute_price  \\\n",
       "0                 ultra           2   7027.511294          42.0             6   \n",
       "1                 ultra           1    754.159807           7.0             6   \n",
       "2                 ultra           2   6723.470560          46.0             6   \n",
       "3                 ultra           2   5809.911100          32.0             6   \n",
       "4                 ultra           3   7003.499363          56.0             6   \n",
       "...                 ...         ...           ...           ...           ...   \n",
       "11275              free           2   3409.468534          26.0             8   \n",
       "11276              free           2   7622.453034          48.0             8   \n",
       "11277              free           1   4928.173852          23.0             8   \n",
       "11278              free           4  13350.015305          78.0             8   \n",
       "11279              free           1   2371.711192          16.0             8   \n",
       "\n",
       "       start_ride_price  subscription_fee  \n",
       "0                     0               199  \n",
       "1                     0               199  \n",
       "2                     0               199  \n",
       "3                     0               199  \n",
       "4                     0               199  \n",
       "...                 ...               ...  \n",
       "11275                50                 0  \n",
       "11276                50                 0  \n",
       "11277                50                 0  \n",
       "11278                50                 0  \n",
       "11279                50                 0  \n",
       "\n",
       "[11280 rows x 7 columns]"
      ]
     },
     "execution_count": 54,
     "metadata": {},
     "output_type": "execute_result"
    }
   ],
   "source": [
    "df_agg = df_agg.merge(subscriptions, on='subscription_type')\n",
    "\n",
    "df_agg"
   ]
  },
  {
   "cell_type": "markdown",
   "id": "0dfb7cd5",
   "metadata": {},
   "source": [
    "Далее создадим в объединённом датафрейме df_agg столбец 'month_profit', значения для которого передадим с помощью формулы расчёта помесячной выручки, проведя арифметические операции над другими столбцами:"
   ]
  },
  {
   "cell_type": "code",
   "execution_count": 55,
   "id": "ef5d65b0",
   "metadata": {},
   "outputs": [
    {
     "data": {
      "text/html": [
       "<div>\n",
       "<style scoped>\n",
       "    .dataframe tbody tr th:only-of-type {\n",
       "        vertical-align: middle;\n",
       "    }\n",
       "\n",
       "    .dataframe tbody tr th {\n",
       "        vertical-align: top;\n",
       "    }\n",
       "\n",
       "    .dataframe thead th {\n",
       "        text-align: right;\n",
       "    }\n",
       "</style>\n",
       "<table border=\"1\" class=\"dataframe\">\n",
       "  <thead>\n",
       "    <tr style=\"text-align: right;\">\n",
       "      <th></th>\n",
       "      <th>subscription_type</th>\n",
       "      <th>trip_count</th>\n",
       "      <th>distance_sum</th>\n",
       "      <th>duration_sum</th>\n",
       "      <th>minute_price</th>\n",
       "      <th>start_ride_price</th>\n",
       "      <th>subscription_fee</th>\n",
       "      <th>month_profit</th>\n",
       "    </tr>\n",
       "  </thead>\n",
       "  <tbody>\n",
       "    <tr>\n",
       "      <th>0</th>\n",
       "      <td>ultra</td>\n",
       "      <td>2</td>\n",
       "      <td>7027.511294</td>\n",
       "      <td>42.0</td>\n",
       "      <td>6</td>\n",
       "      <td>0</td>\n",
       "      <td>199</td>\n",
       "      <td>451.0</td>\n",
       "    </tr>\n",
       "    <tr>\n",
       "      <th>1</th>\n",
       "      <td>ultra</td>\n",
       "      <td>1</td>\n",
       "      <td>754.159807</td>\n",
       "      <td>7.0</td>\n",
       "      <td>6</td>\n",
       "      <td>0</td>\n",
       "      <td>199</td>\n",
       "      <td>241.0</td>\n",
       "    </tr>\n",
       "    <tr>\n",
       "      <th>2</th>\n",
       "      <td>ultra</td>\n",
       "      <td>2</td>\n",
       "      <td>6723.470560</td>\n",
       "      <td>46.0</td>\n",
       "      <td>6</td>\n",
       "      <td>0</td>\n",
       "      <td>199</td>\n",
       "      <td>475.0</td>\n",
       "    </tr>\n",
       "    <tr>\n",
       "      <th>3</th>\n",
       "      <td>ultra</td>\n",
       "      <td>2</td>\n",
       "      <td>5809.911100</td>\n",
       "      <td>32.0</td>\n",
       "      <td>6</td>\n",
       "      <td>0</td>\n",
       "      <td>199</td>\n",
       "      <td>391.0</td>\n",
       "    </tr>\n",
       "    <tr>\n",
       "      <th>4</th>\n",
       "      <td>ultra</td>\n",
       "      <td>3</td>\n",
       "      <td>7003.499363</td>\n",
       "      <td>56.0</td>\n",
       "      <td>6</td>\n",
       "      <td>0</td>\n",
       "      <td>199</td>\n",
       "      <td>535.0</td>\n",
       "    </tr>\n",
       "    <tr>\n",
       "      <th>...</th>\n",
       "      <td>...</td>\n",
       "      <td>...</td>\n",
       "      <td>...</td>\n",
       "      <td>...</td>\n",
       "      <td>...</td>\n",
       "      <td>...</td>\n",
       "      <td>...</td>\n",
       "      <td>...</td>\n",
       "    </tr>\n",
       "    <tr>\n",
       "      <th>11275</th>\n",
       "      <td>free</td>\n",
       "      <td>2</td>\n",
       "      <td>3409.468534</td>\n",
       "      <td>26.0</td>\n",
       "      <td>8</td>\n",
       "      <td>50</td>\n",
       "      <td>0</td>\n",
       "      <td>308.0</td>\n",
       "    </tr>\n",
       "    <tr>\n",
       "      <th>11276</th>\n",
       "      <td>free</td>\n",
       "      <td>2</td>\n",
       "      <td>7622.453034</td>\n",
       "      <td>48.0</td>\n",
       "      <td>8</td>\n",
       "      <td>50</td>\n",
       "      <td>0</td>\n",
       "      <td>484.0</td>\n",
       "    </tr>\n",
       "    <tr>\n",
       "      <th>11277</th>\n",
       "      <td>free</td>\n",
       "      <td>1</td>\n",
       "      <td>4928.173852</td>\n",
       "      <td>23.0</td>\n",
       "      <td>8</td>\n",
       "      <td>50</td>\n",
       "      <td>0</td>\n",
       "      <td>234.0</td>\n",
       "    </tr>\n",
       "    <tr>\n",
       "      <th>11278</th>\n",
       "      <td>free</td>\n",
       "      <td>4</td>\n",
       "      <td>13350.015305</td>\n",
       "      <td>78.0</td>\n",
       "      <td>8</td>\n",
       "      <td>50</td>\n",
       "      <td>0</td>\n",
       "      <td>824.0</td>\n",
       "    </tr>\n",
       "    <tr>\n",
       "      <th>11279</th>\n",
       "      <td>free</td>\n",
       "      <td>1</td>\n",
       "      <td>2371.711192</td>\n",
       "      <td>16.0</td>\n",
       "      <td>8</td>\n",
       "      <td>50</td>\n",
       "      <td>0</td>\n",
       "      <td>178.0</td>\n",
       "    </tr>\n",
       "  </tbody>\n",
       "</table>\n",
       "<p>11280 rows × 8 columns</p>\n",
       "</div>"
      ],
      "text/plain": [
       "      subscription_type  trip_count  distance_sum  duration_sum  minute_price  \\\n",
       "0                 ultra           2   7027.511294          42.0             6   \n",
       "1                 ultra           1    754.159807           7.0             6   \n",
       "2                 ultra           2   6723.470560          46.0             6   \n",
       "3                 ultra           2   5809.911100          32.0             6   \n",
       "4                 ultra           3   7003.499363          56.0             6   \n",
       "...                 ...         ...           ...           ...           ...   \n",
       "11275              free           2   3409.468534          26.0             8   \n",
       "11276              free           2   7622.453034          48.0             8   \n",
       "11277              free           1   4928.173852          23.0             8   \n",
       "11278              free           4  13350.015305          78.0             8   \n",
       "11279              free           1   2371.711192          16.0             8   \n",
       "\n",
       "       start_ride_price  subscription_fee  month_profit  \n",
       "0                     0               199         451.0  \n",
       "1                     0               199         241.0  \n",
       "2                     0               199         475.0  \n",
       "3                     0               199         391.0  \n",
       "4                     0               199         535.0  \n",
       "...                 ...               ...           ...  \n",
       "11275                50                 0         308.0  \n",
       "11276                50                 0         484.0  \n",
       "11277                50                 0         234.0  \n",
       "11278                50                 0         824.0  \n",
       "11279                50                 0         178.0  \n",
       "\n",
       "[11280 rows x 8 columns]"
      ]
     },
     "execution_count": 55,
     "metadata": {},
     "output_type": "execute_result"
    }
   ],
   "source": [
    "df_agg['month_profit'] = df_agg['start_ride_price'] * df_agg['trip_count'] +  df_agg['minute_price'] * df_agg['duration_sum'] + \\\n",
    "df_agg['subscription_fee']\n",
    "\n",
    "df_agg"
   ]
  },
  {
   "cell_type": "markdown",
   "id": "e71e2538",
   "metadata": {},
   "source": [
    "#### Проверка гипотез"
   ]
  },
  {
   "cell_type": "markdown",
   "id": "c18f30b4",
   "metadata": {},
   "source": [
    "Продакт-менеджеры сервиса хотят увеличить количество пользователей с подпиской. Для этого они будут проводить различные акции, но сначала нужно выяснить несколько важных моментов."
   ]
  },
  {
   "cell_type": "markdown",
   "id": "5e47aebf",
   "metadata": {},
   "source": [
    "6.1 Важно понять, тратят ли пользователи с подпиской больше времени на поездки? Если да, то пользователи с подпиской могут быть «выгоднее» для компании. Проверим гипотезу. Используем исходные данные о продолжительности каждой сессии — отдельно для подписчиков и тех, у кого нет подписки.\n",
    "\n",
    "Чтобы подтвердить или опровергнуть гипотезу, необходимо провести статистический анализ, использовав t-тест.\n",
    "\n",
    "В качестве нулевой гипотезы примем, что пользователи с подпиской такое же время на поездки, что и пользователи без подписки. Тогда альлтернативная гипотеза - пользователи с подпиской тратят больше времени на поездки, чем пользователи без подписки.\n",
    "\n",
    "Уровень статистической значимости зададим равным 5 %.\n",
    "\n",
    "Теперь проведём проверку:"
   ]
  },
  {
   "cell_type": "code",
   "execution_count": 56,
   "id": "397f66ff",
   "metadata": {
    "scrolled": false
   },
   "outputs": [
    {
     "name": "stdout",
     "output_type": "stream",
     "text": [
      "p-value: 7.885419422871289e-25\n",
      "Отвергаем нулевую гипотезу\n"
     ]
    }
   ],
   "source": [
    "alpha = 0.05 # уровень статистической значимости\n",
    "\n",
    "duration_ultra = df_ultra['duration']\n",
    "\n",
    "duration_free = df_free['duration']\n",
    "\n",
    "results = st.ttest_ind(duration_ultra, duration_free, alternative='greater')\n",
    "\n",
    "print(f'p-value: {results.pvalue}')\n",
    "\n",
    "# проверяем p-value\n",
    "if results.pvalue < alpha:\n",
    "    print('Отвергаем нулевую гипотезу')\n",
    "else:\n",
    "    print('Нет оснований отвергнуть нулевую гипотезу')\n"
   ]
  },
  {
   "cell_type": "markdown",
   "id": "b97f15af",
   "metadata": {},
   "source": [
    "Вывод: гипотеза о равенстве продолжительности поездки для обеих категорий пользователей была отвергнута, значит, пользователи с подпиской больше времени на поездки. Предположительно это вызвано тем, что они знают, что каждая минута поездки для них дешевле на 25% (6 рублей вместо 8), чем для пользователей без подписки."
   ]
  },
  {
   "cell_type": "markdown",
   "id": "5c8c7dcd",
   "metadata": {},
   "source": [
    "6.2 Расстояние одной поездки в 3130 метров — оптимальное с точки зрения износа самоката. Можно ли сказать, что среднее расстояние, которое проезжают пользователи с подпиской за одну поездку, не превышает 3130 метров? Проверим гипотезу и сделаем выводы.\n",
    "\n",
    "Определим нулевую и альтернативную гипотезы:\n",
    "- нулевая гипотеза: среднее расстояние, преодолеваемое пользователями с подпиской, не больше 3130 м;\n",
    "- альтернативная гипотеза: среднее расстояние, преодолеваемое пользователями с подпиской, больше 3130 м.\n",
    "\n",
    "Уровень статистической значимости снова зададим равным 5 %.\n",
    "\n",
    "Проведём проверку:"
   ]
  },
  {
   "cell_type": "code",
   "execution_count": 57,
   "id": "8cc01a27",
   "metadata": {},
   "outputs": [
    {
     "name": "stdout",
     "output_type": "stream",
     "text": [
      "p-значение: 0.9195368847849785\n",
      "Не отвергаем нулевую гипотезу\n"
     ]
    }
   ],
   "source": [
    "distance = df_ultra['distance']\n",
    "\n",
    "lim_dist_value = 3130 #такое расстояние не должна превышать поездка пользователя с подпиской ultra\n",
    "\n",
    "alpha = 0.05 # уровень статистической значимости\n",
    "\n",
    "results = st.ttest_1samp(\n",
    "    distance, \n",
    "    lim_dist_value,\n",
    "      alternative='greater')\n",
    "\n",
    "print('p-значение:', results.pvalue)\n",
    "\n",
    "if (results.pvalue < alpha):\n",
    "    print('Отвергаем нулевую гипотезу')\n",
    "else:\n",
    "    print('Не отвергаем нулевую гипотезу')"
   ]
  },
  {
   "cell_type": "markdown",
   "id": "aad6e4c9",
   "metadata": {},
   "source": [
    "Таким образом, можно сделать вывод, что среднее расстояние, которое проезжают пользователи с подпиской за одну поездку, не превышает 3130 метров."
   ]
  },
  {
   "cell_type": "markdown",
   "id": "441abb8d",
   "metadata": {},
   "source": [
    "6.3 Проверим гипотезу о том, будет ли помесячная выручка от пользователей с подпиской по месяцам выше, чем выручка от пользователей без подписки. Сделаем вывод.\n",
    "\n",
    "Сформулируем нулевую и альтернативную гипотезы.\n",
    "\n",
    "Нулевая гипотеза - помесячная выручка от пользователей с подпиской по месяцам равна выручке от пользователей без подписки.\n",
    "\n",
    "Альтернативная гипотеза - помесячная выручка от пользователей с подпиской по месяцам выше, чем выручка от пользователей без подписки.\n",
    "\n",
    "Уровень статистической значимости снова зададим равным 5 %.\n",
    "\n",
    "Проведём проверку:"
   ]
  },
  {
   "cell_type": "code",
   "execution_count": 58,
   "id": "fe8c3ba3",
   "metadata": {
    "scrolled": true
   },
   "outputs": [
    {
     "name": "stdout",
     "output_type": "stream",
     "text": [
      "p-значение: 3.4544775648938923e-31\n",
      "Отвергаем нулевую гипотезу\n"
     ]
    }
   ],
   "source": [
    "df_1 = df_agg.query('subscription_type == \"ultra\"')['month_profit']\n",
    "\n",
    "df_2 = df_agg.query('subscription_type == \"free\"')['month_profit']\n",
    "\n",
    "\n",
    "alpha = 0.05 # уровень статистической значимости\n",
    "# если p-value окажется меньше него, отвергнем гипотезу\n",
    "\n",
    "results = st.ttest_ind(df_1, df_2,  alternative='greater')\n",
    "\n",
    "print('p-значение:', results.pvalue)\n",
    "\n",
    "if results.pvalue < alpha:\n",
    "    print('Отвергаем нулевую гипотезу')\n",
    "else:\n",
    "    print('Не получилось отвергнуть нулевую гипотезу')\n"
   ]
  },
  {
   "cell_type": "markdown",
   "id": "5478cd38",
   "metadata": {},
   "source": [
    "Дополнительно выведем средние значения помесячной выручки для каждой категории пользователей:"
   ]
  },
  {
   "cell_type": "code",
   "execution_count": 59,
   "id": "c83a430f",
   "metadata": {
    "scrolled": false
   },
   "outputs": [
    {
     "data": {
      "text/plain": [
       "362.7921906022502"
      ]
     },
     "execution_count": 59,
     "metadata": {},
     "output_type": "execute_result"
    }
   ],
   "source": [
    "df_agg.query('subscription_type == \"ultra\"')['month_profit'].mean()"
   ]
  },
  {
   "cell_type": "code",
   "execution_count": 60,
   "id": "31034cb3",
   "metadata": {
    "scrolled": true
   },
   "outputs": [
    {
     "data": {
      "text/plain": [
       "328.95301615532827"
      ]
     },
     "execution_count": 60,
     "metadata": {},
     "output_type": "execute_result"
    }
   ],
   "source": [
    "df_agg.query('subscription_type == \"free\"')['month_profit'].mean()"
   ]
  },
  {
   "cell_type": "markdown",
   "id": "0daa382d",
   "metadata": {},
   "source": [
    "Таким образом, помесячная выручка от пользователей с подпиской по месяцам выше, чем выручка от пользователей без подписки."
   ]
  },
  {
   "cell_type": "markdown",
   "id": "a4743d29",
   "metadata": {},
   "source": [
    "6.4 Представьте такую ситуацию: техническая команда сервиса обновила сервера, с которыми взаимодействует мобильное приложение. Она надеется, что из-за этого количество обращений в техподдержку значимо снизилось. Некоторый файл содержит для каждого пользователя данные о количестве обращений до обновления и после него. Какой тест вам понадобился бы для проверки этой гипотезы?"
   ]
  },
  {
   "cell_type": "markdown",
   "id": "743f42fc",
   "metadata": {},
   "source": [
    "Ответ: в данном случае речь идёт о парной выборке, т.е. о выборке где некоторая переменная измеряется дважды для одних и тех же объектов. Чтобы проверить гипотезу о равенстве среднего генеральной совокупности для зависимых (парных) выборок в Python, применяетсям метод scipy.stats.ttest_rel(), т.е. t-тест, т.е. статистический тест с использованием t-распределения."
   ]
  },
  {
   "cell_type": "markdown",
   "id": "87e6639e",
   "metadata": {},
   "source": [
    "#### Общий вывод"
   ]
  },
  {
   "cell_type": "markdown",
   "id": "8a779e4e",
   "metadata": {},
   "source": [
    "Были изучены информация от популярного сервиса аренды самокатов GoFast: данные о некоторых пользователях из нескольких городов, а также об их поездках. \n",
    "\n",
    "\n",
    "Задача - проанализировать данные и проверить некоторые гипотезы, которые могут помочь бизнесу вырасти.\n",
    "\n",
    "Чтобы совершать поездки по городу, пользователи сервиса GoFast пользуются мобильным приложением. \n",
    "\n",
    "Сервисом можно пользоваться:\n",
    "-  без подписки:\n",
    "    - абонентская плата отсутствует;\n",
    "    - стоимость одной минуты поездки — 8 рублей;\n",
    "    - стоимость старта (начала поездки) — 50 рублей;\n",
    "- с подпиской Ultra:\n",
    "    - абонентская плата — 199 рублей в месяц;\n",
    "    - стоимость одной минуты поездки — 6 рублей;\n",
    "    - стоимость старта — бесплатно.\n",
    "\n",
    "1. Зазрузка данных\n",
    "\n",
    "В основных данных есть информация о пользователях (1565 строк, 5 столбцов), их поездках (18068 строк, 4 столбца) и подписках (2 строки, 4 столбца).    \n",
    "\n",
    "2. Предобработка данных\n",
    "\n",
    "В датафрейме о поездках:\n",
    "- был изменён тип данных в столбце 'date' с object на datetime;\n",
    "- был создан столбец с месяцами поездок.\n",
    "\n",
    "Во всех датафреймах были изучены пропущенные значения и дубликаты. Пропуски во всех данных отсутствовали, а явные дубликаты имелись в информации о пользователях: 31 строка-дубликат, которые были удалены.\n",
    "\n",
    "3. Исследовательский анализ данных\n",
    "\n",
    "Была описана и визуализирована общая информациюя пользователях и поездках, на основании чего можно сказать следующее:\n",
    "- наиболее часто встречаемый город - Пятигорск, наименее - Москва;\n",
    "- среди исследуемых данных доля пользователей без подписки составляет более 50 %: 54 %;\n",
    "- средний возраст пользователя составляет 25 лет;\n",
    "- в среднем пользователи преодолевают около 3 км за одну поездку;\n",
    "- в среднем поездка длится около 18 минут.\n",
    "\n",
    "4. Объединение данных\n",
    "\n",
    "Данные о пользователях, их поездках и подписках были объединены в общий датафрейм.\n",
    "\n",
    "Также были созданы ещё два датафрейма из датафрейма c данными о пользователях без подписки и с данными о пользователях с подпиской.\n",
    "\n",
    "На основании визуализации информации о расстоянии и времени поездок для пользователей обеих категорий можно сказать, что:\n",
    "- пользователи с подпиской проезжали на самокате в среднем около 3110 м, а пользователи без подписки  - около 3050 м, причём распределения расстояния для обеих категорий пользователей имеют вид нормального;\n",
    "- в среднем поездки для пользователей с подпиской 'ultra' длятся около 18.5 минут, а для пользователей без подписки - около 18 минут.\n",
    "\n",
    "5. Подсчёт выручки\n",
    "\n",
    "Был создан датафрейм с агрегированными данными о суммарном расстоянии, количестве поездок, суммарном времени для каждого пользователя за каждый месяц и помесячной выручке (которая была рассчитана на основе общего датайрейма).\n",
    "\n",
    "\n",
    "6. Проверка гипотез\n",
    "\n",
    "6.1 Проверялась гипотеза о том, тратят ли пользователи с подпиской больше времени на поездки. \n",
    "\n",
    "В результате было выяснено, что пользователи с подпиской в среднем тратят больше времени на поездки.\n",
    "\n",
    "6.2 Проверялась гипотеза о том, что среднее расстояние, которое проезжают пользователи с подпиской за одну поездку, не превышает 3130 метров.\n",
    "\n",
    "В результате было определено, что среднее расстояние, которое проезжают пользователи с подпиской за одну поездку, действительно не превышает 3130 метров.\n",
    "\n",
    "6.3 Проверялась гипотеза о том, будет ли помесячная выручка от пользователей с подпиской по месяцам выше, чем выручка от пользователей без подписки. \n",
    "\n",
    "В результате было показано, что несмотря на почти одинаковую долю пользователей с подпиской и без, помесячная выручка от пользователей с подпиской по месяцам выше.\n",
    "\n",
    "6.4 Необходимо было определить, какой тест понадобился бы для проверки гипотезы о том, что обновление сервиса способствовало снижению количества обращений в техподдержку.\n",
    "\n",
    "Ответ: t-тест, т.е. статистический тест с использованием t-распределения.\n",
    "\n",
    "Таким образом, можно с уверенностью сказать, что сервису необходимо уделить больше внимания клиентам с подпиской ultra, т.к. они позволят бизнесу вырасти, сочетая сохранение аммортизационных издержек (за счёт оптимальной эксплуатации самокатов) и наращивая выручку (в частности, за счёт более длительных поездок таких пользователей)."
   ]
  }
 ],
 "metadata": {
  "ExecuteTimeLog": [
   {
    "duration": 47,
    "start_time": "2023-09-27T15:29:07.283Z"
   },
   {
    "duration": 391,
    "start_time": "2023-09-27T15:29:10.538Z"
   },
   {
    "duration": 188,
    "start_time": "2023-09-27T15:29:12.214Z"
   },
   {
    "duration": 15,
    "start_time": "2023-09-27T15:29:34.578Z"
   },
   {
    "duration": 8,
    "start_time": "2023-09-27T15:29:47.633Z"
   },
   {
    "duration": 11,
    "start_time": "2023-09-27T15:30:03.865Z"
   },
   {
    "duration": 14,
    "start_time": "2023-09-27T15:30:13.450Z"
   },
   {
    "duration": 33,
    "start_time": "2023-09-27T15:31:05.448Z"
   },
   {
    "duration": 66,
    "start_time": "2023-09-27T15:31:15.213Z"
   },
   {
    "duration": 9,
    "start_time": "2023-09-27T15:31:16.015Z"
   },
   {
    "duration": 12,
    "start_time": "2023-09-27T15:31:16.319Z"
   },
   {
    "duration": 8,
    "start_time": "2023-09-27T15:31:16.838Z"
   },
   {
    "duration": 12,
    "start_time": "2023-09-27T15:31:17.466Z"
   },
   {
    "duration": 6,
    "start_time": "2023-09-27T15:31:18.345Z"
   },
   {
    "duration": 11,
    "start_time": "2023-09-27T15:31:32.002Z"
   },
   {
    "duration": 769,
    "start_time": "2023-09-27T15:35:30.319Z"
   },
   {
    "duration": 81,
    "start_time": "2023-09-27T17:06:14.805Z"
   },
   {
    "duration": 8,
    "start_time": "2023-09-27T17:06:29.797Z"
   },
   {
    "duration": 11,
    "start_time": "2023-09-27T17:06:45.742Z"
   },
   {
    "duration": 18,
    "start_time": "2023-09-27T17:07:33.896Z"
   },
   {
    "duration": 5,
    "start_time": "2023-09-27T17:07:40.067Z"
   },
   {
    "duration": 12,
    "start_time": "2023-09-27T17:07:52.265Z"
   },
   {
    "duration": 17,
    "start_time": "2023-09-27T17:08:30.344Z"
   },
   {
    "duration": 7,
    "start_time": "2023-09-27T17:08:35.714Z"
   },
   {
    "duration": 7,
    "start_time": "2023-09-27T17:08:45.943Z"
   },
   {
    "duration": 7,
    "start_time": "2023-09-27T17:09:00.697Z"
   },
   {
    "duration": 7,
    "start_time": "2023-09-27T17:09:19.180Z"
   },
   {
    "duration": 6,
    "start_time": "2023-09-27T17:09:23.606Z"
   },
   {
    "duration": 15,
    "start_time": "2023-09-27T17:09:41.828Z"
   },
   {
    "duration": 12,
    "start_time": "2023-09-27T17:10:15.562Z"
   },
   {
    "duration": 10,
    "start_time": "2023-09-27T17:10:19.414Z"
   },
   {
    "duration": 8,
    "start_time": "2023-09-27T17:10:32.363Z"
   },
   {
    "duration": 6,
    "start_time": "2023-09-27T17:10:35.529Z"
   },
   {
    "duration": 8,
    "start_time": "2023-09-27T17:11:23.125Z"
   },
   {
    "duration": 137,
    "start_time": "2023-09-27T17:11:40.383Z"
   },
   {
    "duration": 14,
    "start_time": "2023-09-27T17:11:59.563Z"
   },
   {
    "duration": 6,
    "start_time": "2023-09-27T17:14:56.372Z"
   },
   {
    "duration": 149,
    "start_time": "2023-09-27T17:15:05.193Z"
   },
   {
    "duration": 10,
    "start_time": "2023-09-27T17:15:14.053Z"
   },
   {
    "duration": 184,
    "start_time": "2023-09-27T17:15:18.833Z"
   },
   {
    "duration": 1785,
    "start_time": "2023-09-27T17:32:25.613Z"
   },
   {
    "duration": 6,
    "start_time": "2023-09-27T17:32:38.076Z"
   },
   {
    "duration": 4,
    "start_time": "2023-09-27T17:32:59.398Z"
   },
   {
    "duration": 9,
    "start_time": "2023-09-27T17:33:08.574Z"
   },
   {
    "duration": 8,
    "start_time": "2023-09-27T17:33:32.399Z"
   },
   {
    "duration": 10,
    "start_time": "2023-09-27T17:33:43.341Z"
   },
   {
    "duration": 8,
    "start_time": "2023-09-27T17:33:56.942Z"
   },
   {
    "duration": 127,
    "start_time": "2023-09-27T17:34:04.346Z"
   },
   {
    "duration": 134,
    "start_time": "2023-09-27T17:34:14.206Z"
   },
   {
    "duration": 132,
    "start_time": "2023-09-27T17:34:30.483Z"
   },
   {
    "duration": 131,
    "start_time": "2023-09-27T17:34:36.462Z"
   },
   {
    "duration": 112,
    "start_time": "2023-09-27T17:36:04.758Z"
   },
   {
    "duration": 134,
    "start_time": "2023-09-27T17:36:07.853Z"
   },
   {
    "duration": 7,
    "start_time": "2023-09-27T17:36:39.605Z"
   },
   {
    "duration": 131,
    "start_time": "2023-09-27T17:36:50.249Z"
   },
   {
    "duration": 112,
    "start_time": "2023-09-27T17:36:57.395Z"
   },
   {
    "duration": 127,
    "start_time": "2023-09-27T17:37:00.444Z"
   },
   {
    "duration": 145,
    "start_time": "2023-09-27T17:37:26.378Z"
   },
   {
    "duration": 9,
    "start_time": "2023-09-27T17:37:38.584Z"
   },
   {
    "duration": 211,
    "start_time": "2023-09-27T17:37:57.463Z"
   },
   {
    "duration": 11,
    "start_time": "2023-09-27T17:39:59.443Z"
   },
   {
    "duration": 16,
    "start_time": "2023-09-27T17:40:49.141Z"
   },
   {
    "duration": 171,
    "start_time": "2023-09-27T17:41:15.702Z"
   },
   {
    "duration": 16,
    "start_time": "2023-09-27T17:41:31.174Z"
   },
   {
    "duration": 175,
    "start_time": "2023-09-27T17:41:40.422Z"
   },
   {
    "duration": 141,
    "start_time": "2023-09-27T17:41:45.647Z"
   },
   {
    "duration": 144,
    "start_time": "2023-09-27T17:41:51.536Z"
   },
   {
    "duration": 13,
    "start_time": "2023-09-27T17:50:21.989Z"
   },
   {
    "duration": 164,
    "start_time": "2023-09-27T17:50:32.007Z"
   },
   {
    "duration": 136,
    "start_time": "2023-09-27T17:50:44.158Z"
   },
   {
    "duration": 21,
    "start_time": "2023-09-27T17:51:00.263Z"
   },
   {
    "duration": 15,
    "start_time": "2023-09-27T17:51:18.550Z"
   },
   {
    "duration": 406,
    "start_time": "2023-09-27T17:51:34.176Z"
   },
   {
    "duration": 80,
    "start_time": "2023-09-27T17:51:34.584Z"
   },
   {
    "duration": 14,
    "start_time": "2023-09-27T17:51:34.665Z"
   },
   {
    "duration": 10,
    "start_time": "2023-09-27T17:51:34.681Z"
   },
   {
    "duration": 17,
    "start_time": "2023-09-27T17:51:34.693Z"
   },
   {
    "duration": 20,
    "start_time": "2023-09-27T17:51:34.712Z"
   },
   {
    "duration": 12,
    "start_time": "2023-09-27T17:51:34.735Z"
   },
   {
    "duration": 19,
    "start_time": "2023-09-27T17:51:34.749Z"
   },
   {
    "duration": 14,
    "start_time": "2023-09-27T17:51:34.770Z"
   },
   {
    "duration": 15,
    "start_time": "2023-09-27T17:51:34.786Z"
   },
   {
    "duration": 4,
    "start_time": "2023-09-27T17:51:34.803Z"
   },
   {
    "duration": 21,
    "start_time": "2023-09-27T17:51:34.809Z"
   },
   {
    "duration": 10,
    "start_time": "2023-09-27T17:51:34.832Z"
   },
   {
    "duration": 6,
    "start_time": "2023-09-27T17:51:34.845Z"
   },
   {
    "duration": 18,
    "start_time": "2023-09-27T17:51:34.853Z"
   },
   {
    "duration": 6,
    "start_time": "2023-09-27T17:51:34.873Z"
   },
   {
    "duration": 26,
    "start_time": "2023-09-27T17:51:34.881Z"
   },
   {
    "duration": 8,
    "start_time": "2023-09-27T17:51:34.926Z"
   },
   {
    "duration": 21,
    "start_time": "2023-09-27T17:51:34.936Z"
   },
   {
    "duration": 8,
    "start_time": "2023-09-27T17:51:34.959Z"
   },
   {
    "duration": 522,
    "start_time": "2023-09-27T17:51:34.969Z"
   },
   {
    "duration": 6,
    "start_time": "2023-09-27T17:51:35.493Z"
   },
   {
    "duration": 154,
    "start_time": "2023-09-27T17:51:35.501Z"
   },
   {
    "duration": 8,
    "start_time": "2023-09-27T17:51:35.657Z"
   },
   {
    "duration": 172,
    "start_time": "2023-09-27T17:51:35.667Z"
   },
   {
    "duration": 19,
    "start_time": "2023-09-27T17:51:35.843Z"
   },
   {
    "duration": 177,
    "start_time": "2023-09-27T17:51:35.863Z"
   },
   {
    "duration": 19,
    "start_time": "2023-09-27T17:51:36.045Z"
   },
   {
    "duration": 207,
    "start_time": "2023-09-27T17:51:36.066Z"
   },
   {
    "duration": 24,
    "start_time": "2023-09-27T18:01:25.915Z"
   },
   {
    "duration": 12,
    "start_time": "2023-09-27T18:02:18.703Z"
   },
   {
    "duration": 11,
    "start_time": "2023-09-27T18:02:31.053Z"
   },
   {
    "duration": 80,
    "start_time": "2023-09-27T18:03:14.100Z"
   },
   {
    "duration": 28,
    "start_time": "2023-09-27T18:03:22.055Z"
   },
   {
    "duration": 24,
    "start_time": "2023-09-27T18:03:38.995Z"
   },
   {
    "duration": 95,
    "start_time": "2023-09-27T18:04:49.438Z"
   },
   {
    "duration": 382,
    "start_time": "2023-09-27T18:05:10.358Z"
   },
   {
    "duration": 68,
    "start_time": "2023-09-27T18:05:10.744Z"
   },
   {
    "duration": 16,
    "start_time": "2023-09-27T18:05:10.814Z"
   },
   {
    "duration": 17,
    "start_time": "2023-09-27T18:05:10.833Z"
   },
   {
    "duration": 12,
    "start_time": "2023-09-27T18:05:10.851Z"
   },
   {
    "duration": 42,
    "start_time": "2023-09-27T18:05:10.865Z"
   },
   {
    "duration": 25,
    "start_time": "2023-09-27T18:05:10.908Z"
   },
   {
    "duration": 16,
    "start_time": "2023-09-27T18:05:10.936Z"
   },
   {
    "duration": 14,
    "start_time": "2023-09-27T18:05:10.954Z"
   },
   {
    "duration": 22,
    "start_time": "2023-09-27T18:05:10.972Z"
   },
   {
    "duration": 6,
    "start_time": "2023-09-27T18:05:10.996Z"
   },
   {
    "duration": 16,
    "start_time": "2023-09-27T18:05:11.003Z"
   },
   {
    "duration": 9,
    "start_time": "2023-09-27T18:05:11.021Z"
   },
   {
    "duration": 19,
    "start_time": "2023-09-27T18:05:11.033Z"
   },
   {
    "duration": 26,
    "start_time": "2023-09-27T18:05:11.054Z"
   },
   {
    "duration": 12,
    "start_time": "2023-09-27T18:05:11.082Z"
   },
   {
    "duration": 19,
    "start_time": "2023-09-27T18:05:11.096Z"
   },
   {
    "duration": 29,
    "start_time": "2023-09-27T18:05:11.116Z"
   },
   {
    "duration": 7,
    "start_time": "2023-09-27T18:05:11.146Z"
   },
   {
    "duration": 40,
    "start_time": "2023-09-27T18:05:11.154Z"
   },
   {
    "duration": 421,
    "start_time": "2023-09-27T18:05:11.195Z"
   },
   {
    "duration": 10,
    "start_time": "2023-09-27T18:05:11.618Z"
   },
   {
    "duration": 163,
    "start_time": "2023-09-27T18:05:11.630Z"
   },
   {
    "duration": 8,
    "start_time": "2023-09-27T18:05:11.794Z"
   },
   {
    "duration": 166,
    "start_time": "2023-09-27T18:05:11.804Z"
   },
   {
    "duration": 18,
    "start_time": "2023-09-27T18:05:11.971Z"
   },
   {
    "duration": 149,
    "start_time": "2023-09-27T18:05:11.990Z"
   },
   {
    "duration": 19,
    "start_time": "2023-09-27T18:05:12.142Z"
   },
   {
    "duration": 168,
    "start_time": "2023-09-27T18:05:12.162Z"
   },
   {
    "duration": 32,
    "start_time": "2023-09-27T18:05:12.333Z"
   },
   {
    "duration": 117,
    "start_time": "2023-09-27T18:06:14.827Z"
   },
   {
    "duration": 63,
    "start_time": "2023-09-27T18:06:29.151Z"
   },
   {
    "duration": 25,
    "start_time": "2023-09-27T18:06:36.941Z"
   },
   {
    "duration": 22,
    "start_time": "2023-09-27T18:07:03.350Z"
   },
   {
    "duration": 146,
    "start_time": "2023-09-27T18:10:44.032Z"
   },
   {
    "duration": 191,
    "start_time": "2023-09-27T18:10:48.784Z"
   },
   {
    "duration": 168,
    "start_time": "2023-09-27T18:11:17.840Z"
   },
   {
    "duration": 149,
    "start_time": "2023-09-27T18:11:27.919Z"
   },
   {
    "duration": 150,
    "start_time": "2023-09-27T18:11:42.026Z"
   },
   {
    "duration": 153,
    "start_time": "2023-09-27T18:11:50.547Z"
   },
   {
    "duration": 450,
    "start_time": "2023-09-27T18:12:13.918Z"
   },
   {
    "duration": 78,
    "start_time": "2023-09-27T18:12:14.371Z"
   },
   {
    "duration": 15,
    "start_time": "2023-09-27T18:12:14.451Z"
   },
   {
    "duration": 16,
    "start_time": "2023-09-27T18:12:14.468Z"
   },
   {
    "duration": 12,
    "start_time": "2023-09-27T18:12:14.487Z"
   },
   {
    "duration": 23,
    "start_time": "2023-09-27T18:12:14.501Z"
   },
   {
    "duration": 12,
    "start_time": "2023-09-27T18:12:14.527Z"
   },
   {
    "duration": 19,
    "start_time": "2023-09-27T18:12:14.542Z"
   },
   {
    "duration": 9,
    "start_time": "2023-09-27T18:12:14.563Z"
   },
   {
    "duration": 15,
    "start_time": "2023-09-27T18:12:14.574Z"
   },
   {
    "duration": 4,
    "start_time": "2023-09-27T18:12:14.591Z"
   },
   {
    "duration": 34,
    "start_time": "2023-09-27T18:12:14.597Z"
   },
   {
    "duration": 53,
    "start_time": "2023-09-27T18:12:14.633Z"
   },
   {
    "duration": 13,
    "start_time": "2023-09-27T18:12:14.689Z"
   },
   {
    "duration": 35,
    "start_time": "2023-09-27T18:12:14.704Z"
   },
   {
    "duration": 9,
    "start_time": "2023-09-27T18:12:14.741Z"
   },
   {
    "duration": 10,
    "start_time": "2023-09-27T18:12:14.752Z"
   },
   {
    "duration": 6,
    "start_time": "2023-09-27T18:12:14.763Z"
   },
   {
    "duration": 17,
    "start_time": "2023-09-27T18:12:14.771Z"
   },
   {
    "duration": 20,
    "start_time": "2023-09-27T18:12:14.790Z"
   },
   {
    "duration": 502,
    "start_time": "2023-09-27T18:12:14.812Z"
   },
   {
    "duration": 10,
    "start_time": "2023-09-27T18:12:15.315Z"
   },
   {
    "duration": 146,
    "start_time": "2023-09-27T18:12:15.328Z"
   },
   {
    "duration": 8,
    "start_time": "2023-09-27T18:12:15.476Z"
   },
   {
    "duration": 153,
    "start_time": "2023-09-27T18:12:15.486Z"
   },
   {
    "duration": 23,
    "start_time": "2023-09-27T18:12:15.641Z"
   },
   {
    "duration": 169,
    "start_time": "2023-09-27T18:12:15.666Z"
   },
   {
    "duration": 28,
    "start_time": "2023-09-27T18:12:15.838Z"
   },
   {
    "duration": 156,
    "start_time": "2023-09-27T18:12:15.869Z"
   },
   {
    "duration": 33,
    "start_time": "2023-09-27T18:12:16.027Z"
   },
   {
    "duration": 22,
    "start_time": "2023-09-27T18:12:16.062Z"
   },
   {
    "duration": 117,
    "start_time": "2023-09-27T18:12:16.086Z"
   },
   {
    "duration": 213,
    "start_time": "2023-09-27T18:12:16.205Z"
   },
   {
    "duration": 187,
    "start_time": "2023-09-27T18:12:16.424Z"
   },
   {
    "duration": 159,
    "start_time": "2023-09-27T18:12:16.613Z"
   },
   {
    "duration": 174,
    "start_time": "2023-09-27T18:12:16.773Z"
   },
   {
    "duration": 70,
    "start_time": "2023-09-28T05:07:54.643Z"
   },
   {
    "duration": 434,
    "start_time": "2023-09-28T05:07:59.834Z"
   },
   {
    "duration": 240,
    "start_time": "2023-09-28T05:08:00.270Z"
   },
   {
    "duration": 24,
    "start_time": "2023-09-28T05:08:00.512Z"
   },
   {
    "duration": 371,
    "start_time": "2023-09-28T05:08:00.539Z"
   },
   {
    "duration": 245,
    "start_time": "2023-09-28T05:08:00.912Z"
   },
   {
    "duration": 72,
    "start_time": "2023-09-28T05:08:01.159Z"
   },
   {
    "duration": 41,
    "start_time": "2023-09-28T05:08:01.235Z"
   },
   {
    "duration": 73,
    "start_time": "2023-09-28T05:08:01.278Z"
   },
   {
    "duration": 622,
    "start_time": "2023-09-28T05:08:01.353Z"
   },
   {
    "duration": 245,
    "start_time": "2023-09-28T05:08:01.978Z"
   },
   {
    "duration": 20,
    "start_time": "2023-09-28T05:08:02.225Z"
   },
   {
    "duration": 89,
    "start_time": "2023-09-28T05:08:02.247Z"
   },
   {
    "duration": 147,
    "start_time": "2023-09-28T05:08:02.339Z"
   },
   {
    "duration": 85,
    "start_time": "2023-09-28T05:08:02.488Z"
   },
   {
    "duration": 191,
    "start_time": "2023-09-28T05:08:02.575Z"
   },
   {
    "duration": 91,
    "start_time": "2023-09-28T05:08:02.767Z"
   },
   {
    "duration": 269,
    "start_time": "2023-09-28T05:08:02.859Z"
   },
   {
    "duration": 79,
    "start_time": "2023-09-28T05:08:03.130Z"
   },
   {
    "duration": 84,
    "start_time": "2023-09-28T05:08:03.216Z"
   },
   {
    "duration": 33,
    "start_time": "2023-09-28T05:08:03.304Z"
   },
   {
    "duration": 724,
    "start_time": "2023-09-28T05:08:03.339Z"
   },
   {
    "duration": 6,
    "start_time": "2023-09-28T05:08:04.065Z"
   },
   {
    "duration": 160,
    "start_time": "2023-09-28T05:08:04.073Z"
   },
   {
    "duration": 8,
    "start_time": "2023-09-28T05:08:04.236Z"
   },
   {
    "duration": 161,
    "start_time": "2023-09-28T05:08:04.246Z"
   },
   {
    "duration": 23,
    "start_time": "2023-09-28T05:08:04.409Z"
   },
   {
    "duration": 170,
    "start_time": "2023-09-28T05:08:04.437Z"
   },
   {
    "duration": 24,
    "start_time": "2023-09-28T05:08:04.611Z"
   },
   {
    "duration": 259,
    "start_time": "2023-09-28T05:08:04.637Z"
   },
   {
    "duration": 38,
    "start_time": "2023-09-28T05:08:04.901Z"
   },
   {
    "duration": 21,
    "start_time": "2023-09-28T05:08:04.941Z"
   },
   {
    "duration": 43,
    "start_time": "2023-09-28T05:08:04.964Z"
   },
   {
    "duration": 169,
    "start_time": "2023-09-28T05:08:05.014Z"
   },
   {
    "duration": 179,
    "start_time": "2023-09-28T05:08:05.185Z"
   },
   {
    "duration": 147,
    "start_time": "2023-09-28T05:08:05.365Z"
   },
   {
    "duration": 147,
    "start_time": "2023-09-28T05:08:05.514Z"
   },
   {
    "duration": 5,
    "start_time": "2023-09-28T05:08:05.663Z"
   },
   {
    "duration": 103,
    "start_time": "2023-09-28T05:08:59.633Z"
   },
   {
    "duration": 84,
    "start_time": "2023-09-28T05:09:25.721Z"
   },
   {
    "duration": 10,
    "start_time": "2023-09-28T05:09:30.530Z"
   },
   {
    "duration": 4,
    "start_time": "2023-09-28T05:09:41.126Z"
   },
   {
    "duration": 10,
    "start_time": "2023-09-28T05:10:34.291Z"
   },
   {
    "duration": 21,
    "start_time": "2023-09-28T05:10:46.742Z"
   },
   {
    "duration": 7,
    "start_time": "2023-09-28T05:11:01.361Z"
   },
   {
    "duration": 22,
    "start_time": "2023-09-28T05:11:56.585Z"
   },
   {
    "duration": 19,
    "start_time": "2023-09-28T05:12:20.345Z"
   },
   {
    "duration": 128,
    "start_time": "2023-09-28T05:12:57.095Z"
   },
   {
    "duration": 6,
    "start_time": "2023-09-28T05:13:03.146Z"
   },
   {
    "duration": 5,
    "start_time": "2023-09-28T05:13:13.715Z"
   },
   {
    "duration": 6,
    "start_time": "2023-09-28T05:13:41.563Z"
   },
   {
    "duration": 14,
    "start_time": "2023-09-28T05:14:34.808Z"
   },
   {
    "duration": 15,
    "start_time": "2023-09-28T05:17:19.077Z"
   },
   {
    "duration": 22,
    "start_time": "2023-09-28T05:17:32.800Z"
   },
   {
    "duration": 11,
    "start_time": "2023-09-28T05:18:36.960Z"
   },
   {
    "duration": 4,
    "start_time": "2023-09-28T05:20:02.486Z"
   },
   {
    "duration": 9,
    "start_time": "2023-09-28T05:20:09.863Z"
   },
   {
    "duration": 14,
    "start_time": "2023-09-28T05:23:27.429Z"
   },
   {
    "duration": 17,
    "start_time": "2023-09-28T05:23:42.091Z"
   },
   {
    "duration": 8,
    "start_time": "2023-09-28T05:23:56.976Z"
   },
   {
    "duration": 16,
    "start_time": "2023-09-28T05:24:22.532Z"
   },
   {
    "duration": 11,
    "start_time": "2023-09-28T05:24:54.954Z"
   },
   {
    "duration": 9,
    "start_time": "2023-09-28T05:25:01.262Z"
   },
   {
    "duration": 10,
    "start_time": "2023-09-28T05:25:18.220Z"
   },
   {
    "duration": 17,
    "start_time": "2023-09-28T05:25:42.014Z"
   },
   {
    "duration": 12,
    "start_time": "2023-09-28T05:26:08.843Z"
   },
   {
    "duration": 13,
    "start_time": "2023-09-28T05:26:15.722Z"
   },
   {
    "duration": 13,
    "start_time": "2023-09-28T05:26:22.142Z"
   },
   {
    "duration": 412,
    "start_time": "2023-09-28T05:26:40.720Z"
   },
   {
    "duration": 1163,
    "start_time": "2023-09-28T05:27:05.533Z"
   },
   {
    "duration": 472,
    "start_time": "2023-09-28T05:27:28.013Z"
   },
   {
    "duration": 17,
    "start_time": "2023-09-28T05:27:36.482Z"
   },
   {
    "duration": 9,
    "start_time": "2023-09-28T05:29:34.463Z"
   },
   {
    "duration": 8,
    "start_time": "2023-09-28T05:29:39.219Z"
   },
   {
    "duration": 11,
    "start_time": "2023-09-28T05:29:42.868Z"
   },
   {
    "duration": 2124,
    "start_time": "2023-09-28T05:31:03.242Z"
   },
   {
    "duration": 15,
    "start_time": "2023-09-28T05:31:10.536Z"
   },
   {
    "duration": 10,
    "start_time": "2023-09-28T05:31:47.073Z"
   },
   {
    "duration": 12,
    "start_time": "2023-09-28T05:31:52.530Z"
   },
   {
    "duration": 11,
    "start_time": "2023-09-28T05:32:10.619Z"
   },
   {
    "duration": 18,
    "start_time": "2023-09-28T05:33:05.900Z"
   },
   {
    "duration": 10,
    "start_time": "2023-09-28T05:36:51.931Z"
   },
   {
    "duration": 13,
    "start_time": "2023-09-28T05:36:56.030Z"
   },
   {
    "duration": 13,
    "start_time": "2023-09-28T05:37:02.644Z"
   },
   {
    "duration": 12,
    "start_time": "2023-09-28T05:38:06.780Z"
   },
   {
    "duration": 13,
    "start_time": "2023-09-28T05:38:30.631Z"
   },
   {
    "duration": 17,
    "start_time": "2023-09-28T05:38:37.514Z"
   },
   {
    "duration": 528,
    "start_time": "2023-09-28T05:38:48.768Z"
   },
   {
    "duration": 18,
    "start_time": "2023-09-28T05:39:12.200Z"
   },
   {
    "duration": 39,
    "start_time": "2023-09-28T05:39:21.081Z"
   },
   {
    "duration": 39,
    "start_time": "2023-09-28T05:39:41.500Z"
   },
   {
    "duration": 111,
    "start_time": "2023-09-28T05:40:08.132Z"
   },
   {
    "duration": 190,
    "start_time": "2023-09-28T05:40:12.417Z"
   },
   {
    "duration": 28,
    "start_time": "2023-09-28T05:40:19.571Z"
   },
   {
    "duration": 3,
    "start_time": "2023-09-28T05:40:34.051Z"
   },
   {
    "duration": 12,
    "start_time": "2023-09-28T05:40:40.872Z"
   },
   {
    "duration": 12,
    "start_time": "2023-09-28T05:41:00.072Z"
   },
   {
    "duration": 14,
    "start_time": "2023-09-28T05:41:07.422Z"
   },
   {
    "duration": 99,
    "start_time": "2023-09-28T05:41:19.116Z"
   },
   {
    "duration": 12,
    "start_time": "2023-09-28T05:41:26.940Z"
   },
   {
    "duration": 15,
    "start_time": "2023-09-28T05:41:37.792Z"
   },
   {
    "duration": 14,
    "start_time": "2023-09-28T05:42:32.541Z"
   },
   {
    "duration": 21,
    "start_time": "2023-09-28T05:45:45.333Z"
   },
   {
    "duration": 22,
    "start_time": "2023-09-28T05:46:07.050Z"
   },
   {
    "duration": 38,
    "start_time": "2023-09-28T05:46:35.232Z"
   },
   {
    "duration": 21,
    "start_time": "2023-09-28T05:47:30.571Z"
   },
   {
    "duration": 22,
    "start_time": "2023-09-28T05:48:37.530Z"
   },
   {
    "duration": 22,
    "start_time": "2023-09-28T05:48:52.450Z"
   },
   {
    "duration": 18,
    "start_time": "2023-09-28T05:49:21.502Z"
   },
   {
    "duration": 18,
    "start_time": "2023-09-28T05:49:33.920Z"
   },
   {
    "duration": 14,
    "start_time": "2023-09-28T05:49:40.450Z"
   },
   {
    "duration": 27,
    "start_time": "2023-09-28T05:50:20.067Z"
   },
   {
    "duration": 23,
    "start_time": "2023-09-28T05:50:25.930Z"
   },
   {
    "duration": 43,
    "start_time": "2023-09-28T05:50:33.699Z"
   },
   {
    "duration": 38,
    "start_time": "2023-09-28T05:50:54.628Z"
   },
   {
    "duration": 35,
    "start_time": "2023-09-28T05:51:01.400Z"
   },
   {
    "duration": 29,
    "start_time": "2023-09-28T05:51:20.191Z"
   },
   {
    "duration": 16,
    "start_time": "2023-09-28T05:51:28.490Z"
   },
   {
    "duration": 26,
    "start_time": "2023-09-28T05:51:30.370Z"
   },
   {
    "duration": 1798,
    "start_time": "2023-09-28T05:52:24.789Z"
   },
   {
    "duration": 1300,
    "start_time": "2023-09-28T05:52:31.930Z"
   },
   {
    "duration": 5,
    "start_time": "2023-09-28T05:52:56.119Z"
   },
   {
    "duration": 4,
    "start_time": "2023-09-28T05:55:01.830Z"
   },
   {
    "duration": 17,
    "start_time": "2023-09-28T05:55:12.109Z"
   },
   {
    "duration": 19,
    "start_time": "2023-09-28T05:55:22.698Z"
   },
   {
    "duration": 362,
    "start_time": "2023-09-28T05:56:43.184Z"
   },
   {
    "duration": 428,
    "start_time": "2023-09-28T05:57:18.744Z"
   },
   {
    "duration": 13,
    "start_time": "2023-09-28T05:59:17.319Z"
   },
   {
    "duration": 5,
    "start_time": "2023-09-28T05:59:21.605Z"
   },
   {
    "duration": 17,
    "start_time": "2023-09-28T05:59:25.810Z"
   },
   {
    "duration": 23,
    "start_time": "2023-09-28T06:01:43.474Z"
   },
   {
    "duration": 38,
    "start_time": "2023-09-28T06:02:02.990Z"
   },
   {
    "duration": 675,
    "start_time": "2023-09-28T06:02:05.905Z"
   },
   {
    "duration": 63,
    "start_time": "2023-09-28T06:02:15.936Z"
   },
   {
    "duration": 30,
    "start_time": "2023-09-28T06:02:44.983Z"
   },
   {
    "duration": 381,
    "start_time": "2023-09-28T06:02:53.308Z"
   },
   {
    "duration": 456,
    "start_time": "2023-09-28T06:03:11.516Z"
   },
   {
    "duration": 78,
    "start_time": "2023-09-28T06:03:11.974Z"
   },
   {
    "duration": 16,
    "start_time": "2023-09-28T06:03:12.054Z"
   },
   {
    "duration": 26,
    "start_time": "2023-09-28T06:03:12.072Z"
   },
   {
    "duration": 34,
    "start_time": "2023-09-28T06:03:12.101Z"
   },
   {
    "duration": 28,
    "start_time": "2023-09-28T06:03:12.138Z"
   },
   {
    "duration": 20,
    "start_time": "2023-09-28T06:03:12.167Z"
   },
   {
    "duration": 30,
    "start_time": "2023-09-28T06:03:12.188Z"
   },
   {
    "duration": 30,
    "start_time": "2023-09-28T06:03:12.221Z"
   },
   {
    "duration": 64,
    "start_time": "2023-09-28T06:03:12.254Z"
   },
   {
    "duration": 36,
    "start_time": "2023-09-28T06:03:12.320Z"
   },
   {
    "duration": 35,
    "start_time": "2023-09-28T06:03:12.357Z"
   },
   {
    "duration": 25,
    "start_time": "2023-09-28T06:03:12.394Z"
   },
   {
    "duration": 29,
    "start_time": "2023-09-28T06:03:12.421Z"
   },
   {
    "duration": 30,
    "start_time": "2023-09-28T06:03:12.452Z"
   },
   {
    "duration": 10,
    "start_time": "2023-09-28T06:03:12.484Z"
   },
   {
    "duration": 27,
    "start_time": "2023-09-28T06:03:12.496Z"
   },
   {
    "duration": 20,
    "start_time": "2023-09-28T06:03:12.525Z"
   },
   {
    "duration": 19,
    "start_time": "2023-09-28T06:03:12.547Z"
   },
   {
    "duration": 17,
    "start_time": "2023-09-28T06:03:12.569Z"
   },
   {
    "duration": 457,
    "start_time": "2023-09-28T06:03:12.588Z"
   },
   {
    "duration": 7,
    "start_time": "2023-09-28T06:03:13.047Z"
   },
   {
    "duration": 165,
    "start_time": "2023-09-28T06:03:13.055Z"
   },
   {
    "duration": 9,
    "start_time": "2023-09-28T06:03:13.222Z"
   },
   {
    "duration": 199,
    "start_time": "2023-09-28T06:03:13.233Z"
   },
   {
    "duration": 19,
    "start_time": "2023-09-28T06:03:13.434Z"
   },
   {
    "duration": 170,
    "start_time": "2023-09-28T06:03:13.455Z"
   },
   {
    "duration": 18,
    "start_time": "2023-09-28T06:03:13.628Z"
   },
   {
    "duration": 181,
    "start_time": "2023-09-28T06:03:13.647Z"
   },
   {
    "duration": 36,
    "start_time": "2023-09-28T06:03:13.830Z"
   },
   {
    "duration": 56,
    "start_time": "2023-09-28T06:03:13.868Z"
   },
   {
    "duration": 104,
    "start_time": "2023-09-28T06:03:13.926Z"
   },
   {
    "duration": 200,
    "start_time": "2023-09-28T06:03:14.031Z"
   },
   {
    "duration": 197,
    "start_time": "2023-09-28T06:03:14.233Z"
   },
   {
    "duration": 165,
    "start_time": "2023-09-28T06:03:14.432Z"
   },
   {
    "duration": 173,
    "start_time": "2023-09-28T06:03:14.602Z"
   },
   {
    "duration": 48,
    "start_time": "2023-09-28T06:03:14.777Z"
   },
   {
    "duration": 614,
    "start_time": "2023-09-28T06:03:14.828Z"
   },
   {
    "duration": 20,
    "start_time": "2023-09-28T06:03:39.284Z"
   },
   {
    "duration": 1611,
    "start_time": "2023-09-28T06:04:59.544Z"
   },
   {
    "duration": 22,
    "start_time": "2023-09-28T06:05:37.194Z"
   },
   {
    "duration": 586,
    "start_time": "2023-09-28T06:10:18.530Z"
   },
   {
    "duration": 96,
    "start_time": "2023-09-28T06:10:19.982Z"
   },
   {
    "duration": 551,
    "start_time": "2023-09-28T06:10:20.943Z"
   },
   {
    "duration": 132,
    "start_time": "2023-09-28T06:10:47.325Z"
   },
   {
    "duration": 29,
    "start_time": "2023-09-28T06:11:15.500Z"
   },
   {
    "duration": 22,
    "start_time": "2023-09-28T06:11:16.679Z"
   },
   {
    "duration": 18,
    "start_time": "2023-09-28T06:12:10.388Z"
   },
   {
    "duration": 27,
    "start_time": "2023-09-28T06:12:33.728Z"
   },
   {
    "duration": 20,
    "start_time": "2023-09-28T06:12:35.361Z"
   },
   {
    "duration": 407,
    "start_time": "2023-09-28T06:12:41.242Z"
   },
   {
    "duration": 76,
    "start_time": "2023-09-28T06:12:41.651Z"
   },
   {
    "duration": 16,
    "start_time": "2023-09-28T06:12:41.729Z"
   },
   {
    "duration": 52,
    "start_time": "2023-09-28T06:12:41.747Z"
   },
   {
    "duration": 27,
    "start_time": "2023-09-28T06:12:41.801Z"
   },
   {
    "duration": 22,
    "start_time": "2023-09-28T06:12:41.830Z"
   },
   {
    "duration": 8,
    "start_time": "2023-09-28T06:12:41.855Z"
   },
   {
    "duration": 16,
    "start_time": "2023-09-28T06:12:41.864Z"
   },
   {
    "duration": 38,
    "start_time": "2023-09-28T06:12:41.882Z"
   },
   {
    "duration": 20,
    "start_time": "2023-09-28T06:12:41.923Z"
   },
   {
    "duration": 4,
    "start_time": "2023-09-28T06:12:41.945Z"
   },
   {
    "duration": 9,
    "start_time": "2023-09-28T06:12:41.951Z"
   },
   {
    "duration": 27,
    "start_time": "2023-09-28T06:12:41.961Z"
   },
   {
    "duration": 29,
    "start_time": "2023-09-28T06:12:41.989Z"
   },
   {
    "duration": 38,
    "start_time": "2023-09-28T06:12:42.019Z"
   },
   {
    "duration": 13,
    "start_time": "2023-09-28T06:12:42.059Z"
   },
   {
    "duration": 37,
    "start_time": "2023-09-28T06:12:42.074Z"
   },
   {
    "duration": 35,
    "start_time": "2023-09-28T06:12:42.114Z"
   },
   {
    "duration": 9,
    "start_time": "2023-09-28T06:12:42.150Z"
   },
   {
    "duration": 34,
    "start_time": "2023-09-28T06:12:42.160Z"
   },
   {
    "duration": 454,
    "start_time": "2023-09-28T06:12:42.196Z"
   },
   {
    "duration": 7,
    "start_time": "2023-09-28T06:12:42.651Z"
   },
   {
    "duration": 152,
    "start_time": "2023-09-28T06:12:42.659Z"
   },
   {
    "duration": 12,
    "start_time": "2023-09-28T06:12:42.813Z"
   },
   {
    "duration": 220,
    "start_time": "2023-09-28T06:12:42.826Z"
   },
   {
    "duration": 18,
    "start_time": "2023-09-28T06:12:43.048Z"
   },
   {
    "duration": 160,
    "start_time": "2023-09-28T06:12:43.068Z"
   },
   {
    "duration": 25,
    "start_time": "2023-09-28T06:12:43.231Z"
   },
   {
    "duration": 199,
    "start_time": "2023-09-28T06:12:43.259Z"
   },
   {
    "duration": 52,
    "start_time": "2023-09-28T06:12:43.460Z"
   },
   {
    "duration": 226,
    "start_time": "2023-09-28T06:12:43.520Z"
   },
   {
    "duration": 236,
    "start_time": "2023-09-28T06:12:43.749Z"
   },
   {
    "duration": 181,
    "start_time": "2023-09-28T06:12:43.987Z"
   },
   {
    "duration": 195,
    "start_time": "2023-09-28T06:12:44.170Z"
   },
   {
    "duration": 161,
    "start_time": "2023-09-28T06:12:44.366Z"
   },
   {
    "duration": 206,
    "start_time": "2023-09-28T06:12:44.530Z"
   },
   {
    "duration": 31,
    "start_time": "2023-09-28T06:12:44.738Z"
   },
   {
    "duration": 42,
    "start_time": "2023-09-28T06:12:44.771Z"
   },
   {
    "duration": 22,
    "start_time": "2023-09-28T06:12:59.285Z"
   },
   {
    "duration": 25,
    "start_time": "2023-09-28T06:13:18.690Z"
   },
   {
    "duration": 25,
    "start_time": "2023-09-28T06:13:24.094Z"
   },
   {
    "duration": 14,
    "start_time": "2023-09-28T06:13:32.167Z"
   },
   {
    "duration": 351,
    "start_time": "2023-09-28T07:55:31.788Z"
   },
   {
    "duration": 300,
    "start_time": "2023-09-28T07:55:32.228Z"
   },
   {
    "duration": 14,
    "start_time": "2023-09-28T07:55:32.580Z"
   },
   {
    "duration": 10,
    "start_time": "2023-09-28T07:55:32.957Z"
   },
   {
    "duration": 7,
    "start_time": "2023-09-28T07:55:33.318Z"
   },
   {
    "duration": 11,
    "start_time": "2023-09-28T07:55:33.469Z"
   },
   {
    "duration": 6,
    "start_time": "2023-09-28T07:55:33.482Z"
   },
   {
    "duration": 10,
    "start_time": "2023-09-28T07:55:33.548Z"
   },
   {
    "duration": 9,
    "start_time": "2023-09-28T07:55:34.241Z"
   },
   {
    "duration": 12,
    "start_time": "2023-09-28T07:55:34.265Z"
   },
   {
    "duration": 4,
    "start_time": "2023-09-28T07:55:34.557Z"
   },
   {
    "duration": 8,
    "start_time": "2023-09-28T07:55:34.817Z"
   },
   {
    "duration": 6,
    "start_time": "2023-09-28T07:55:35.436Z"
   },
   {
    "duration": 5,
    "start_time": "2023-09-28T07:55:35.590Z"
   },
   {
    "duration": 14,
    "start_time": "2023-09-28T07:55:35.784Z"
   },
   {
    "duration": 6,
    "start_time": "2023-09-28T07:55:36.057Z"
   },
   {
    "duration": 10,
    "start_time": "2023-09-28T07:55:36.254Z"
   },
   {
    "duration": 5,
    "start_time": "2023-09-28T07:55:36.616Z"
   },
   {
    "duration": 5,
    "start_time": "2023-09-28T07:55:36.855Z"
   },
   {
    "duration": 7,
    "start_time": "2023-09-28T07:55:37.378Z"
   },
   {
    "duration": 509,
    "start_time": "2023-09-28T07:55:37.548Z"
   },
   {
    "duration": 6,
    "start_time": "2023-09-28T07:55:38.114Z"
   },
   {
    "duration": 97,
    "start_time": "2023-09-28T07:55:38.402Z"
   },
   {
    "duration": 8,
    "start_time": "2023-09-28T07:55:38.670Z"
   },
   {
    "duration": 134,
    "start_time": "2023-09-28T07:55:38.680Z"
   },
   {
    "duration": 18,
    "start_time": "2023-09-28T07:55:39.060Z"
   },
   {
    "duration": 121,
    "start_time": "2023-09-28T07:55:39.474Z"
   },
   {
    "duration": 15,
    "start_time": "2023-09-28T07:55:39.892Z"
   },
   {
    "duration": 173,
    "start_time": "2023-09-28T07:55:40.076Z"
   },
   {
    "duration": 27,
    "start_time": "2023-09-28T07:55:41.248Z"
   },
   {
    "duration": 20,
    "start_time": "2023-09-28T07:55:43.085Z"
   },
   {
    "duration": 19,
    "start_time": "2023-09-28T07:55:43.329Z"
   },
   {
    "duration": 137,
    "start_time": "2023-09-28T07:55:43.740Z"
   },
   {
    "duration": 131,
    "start_time": "2023-09-28T07:55:44.609Z"
   },
   {
    "duration": 118,
    "start_time": "2023-09-28T07:55:45.902Z"
   },
   {
    "duration": 120,
    "start_time": "2023-09-28T07:55:46.253Z"
   },
   {
    "duration": 20,
    "start_time": "2023-09-28T07:55:50.152Z"
   },
   {
    "duration": 12,
    "start_time": "2023-09-28T07:55:51.840Z"
   },
   {
    "duration": 4,
    "start_time": "2023-09-28T08:09:48.257Z"
   },
   {
    "duration": 71,
    "start_time": "2023-09-28T08:12:13.708Z"
   },
   {
    "duration": 8,
    "start_time": "2023-09-28T08:12:22.796Z"
   },
   {
    "duration": 1579,
    "start_time": "2023-09-28T08:13:35.462Z"
   },
   {
    "duration": 15,
    "start_time": "2023-09-28T08:14:44.173Z"
   },
   {
    "duration": 11,
    "start_time": "2023-09-28T08:14:54.309Z"
   },
   {
    "duration": 3,
    "start_time": "2023-09-28T08:15:25.936Z"
   },
   {
    "duration": 411,
    "start_time": "2023-09-28T08:16:33.143Z"
   },
   {
    "duration": 66,
    "start_time": "2023-09-28T08:16:33.556Z"
   },
   {
    "duration": 13,
    "start_time": "2023-09-28T08:16:33.624Z"
   },
   {
    "duration": 17,
    "start_time": "2023-09-28T08:16:33.639Z"
   },
   {
    "duration": 10,
    "start_time": "2023-09-28T08:16:33.657Z"
   },
   {
    "duration": 12,
    "start_time": "2023-09-28T08:16:33.669Z"
   },
   {
    "duration": 6,
    "start_time": "2023-09-28T08:16:33.682Z"
   },
   {
    "duration": 13,
    "start_time": "2023-09-28T08:16:33.690Z"
   },
   {
    "duration": 10,
    "start_time": "2023-09-28T08:16:33.705Z"
   },
   {
    "duration": 27,
    "start_time": "2023-09-28T08:16:33.717Z"
   },
   {
    "duration": 4,
    "start_time": "2023-09-28T08:16:33.746Z"
   },
   {
    "duration": 18,
    "start_time": "2023-09-28T08:16:33.751Z"
   },
   {
    "duration": 7,
    "start_time": "2023-09-28T08:16:33.771Z"
   },
   {
    "duration": 7,
    "start_time": "2023-09-28T08:16:33.779Z"
   },
   {
    "duration": 12,
    "start_time": "2023-09-28T08:16:33.787Z"
   },
   {
    "duration": 5,
    "start_time": "2023-09-28T08:16:33.801Z"
   },
   {
    "duration": 7,
    "start_time": "2023-09-28T08:16:33.807Z"
   },
   {
    "duration": 32,
    "start_time": "2023-09-28T08:16:33.816Z"
   },
   {
    "duration": 10,
    "start_time": "2023-09-28T08:16:33.850Z"
   },
   {
    "duration": 27,
    "start_time": "2023-09-28T08:16:33.862Z"
   },
   {
    "duration": 497,
    "start_time": "2023-09-28T08:16:33.891Z"
   },
   {
    "duration": 6,
    "start_time": "2023-09-28T08:16:34.391Z"
   },
   {
    "duration": 123,
    "start_time": "2023-09-28T08:16:34.399Z"
   },
   {
    "duration": 8,
    "start_time": "2023-09-28T08:16:34.524Z"
   },
   {
    "duration": 137,
    "start_time": "2023-09-28T08:16:34.545Z"
   },
   {
    "duration": 18,
    "start_time": "2023-09-28T08:16:34.683Z"
   },
   {
    "duration": 138,
    "start_time": "2023-09-28T08:16:34.702Z"
   },
   {
    "duration": 17,
    "start_time": "2023-09-28T08:16:34.845Z"
   },
   {
    "duration": 327,
    "start_time": "2023-09-28T08:16:34.863Z"
   },
   {
    "duration": 33,
    "start_time": "2023-09-28T08:16:35.191Z"
   },
   {
    "duration": 35,
    "start_time": "2023-09-28T08:16:35.226Z"
   },
   {
    "duration": 206,
    "start_time": "2023-09-28T08:16:35.263Z"
   },
   {
    "duration": 153,
    "start_time": "2023-09-28T08:16:35.470Z"
   },
   {
    "duration": 143,
    "start_time": "2023-09-28T08:16:35.624Z"
   },
   {
    "duration": 120,
    "start_time": "2023-09-28T08:16:35.768Z"
   },
   {
    "duration": 121,
    "start_time": "2023-09-28T08:16:35.890Z"
   },
   {
    "duration": 20,
    "start_time": "2023-09-28T08:16:36.012Z"
   },
   {
    "duration": 21,
    "start_time": "2023-09-28T08:16:36.033Z"
   },
   {
    "duration": 67,
    "start_time": "2023-09-28T08:16:36.057Z"
   },
   {
    "duration": 11,
    "start_time": "2023-09-28T08:17:03.936Z"
   },
   {
    "duration": 17,
    "start_time": "2023-09-28T08:17:14.763Z"
   },
   {
    "duration": 17,
    "start_time": "2023-09-28T08:17:41.721Z"
   },
   {
    "duration": 24,
    "start_time": "2023-09-28T08:18:31.195Z"
   },
   {
    "duration": 17,
    "start_time": "2023-09-28T08:20:02.899Z"
   },
   {
    "duration": 19,
    "start_time": "2023-09-28T08:21:38.531Z"
   },
   {
    "duration": 20,
    "start_time": "2023-09-28T08:23:16.305Z"
   },
   {
    "duration": 13,
    "start_time": "2023-09-28T08:23:31.990Z"
   },
   {
    "duration": 12,
    "start_time": "2023-09-28T08:23:55.337Z"
   },
   {
    "duration": 17,
    "start_time": "2023-09-28T08:24:03.419Z"
   },
   {
    "duration": 20,
    "start_time": "2023-09-28T08:25:10.480Z"
   },
   {
    "duration": 18,
    "start_time": "2023-09-28T08:25:29.738Z"
   },
   {
    "duration": 1544,
    "start_time": "2023-09-28T08:26:27.919Z"
   },
   {
    "duration": 24,
    "start_time": "2023-09-28T08:26:33.067Z"
   },
   {
    "duration": 360,
    "start_time": "2023-09-28T08:26:49.502Z"
   },
   {
    "duration": 67,
    "start_time": "2023-09-28T08:26:49.863Z"
   },
   {
    "duration": 15,
    "start_time": "2023-09-28T08:26:49.932Z"
   },
   {
    "duration": 11,
    "start_time": "2023-09-28T08:26:49.949Z"
   },
   {
    "duration": 24,
    "start_time": "2023-09-28T08:26:49.961Z"
   },
   {
    "duration": 14,
    "start_time": "2023-09-28T08:26:49.986Z"
   },
   {
    "duration": 25,
    "start_time": "2023-09-28T08:26:50.001Z"
   },
   {
    "duration": 11,
    "start_time": "2023-09-28T08:26:50.028Z"
   },
   {
    "duration": 17,
    "start_time": "2023-09-28T08:26:50.040Z"
   },
   {
    "duration": 34,
    "start_time": "2023-09-28T08:26:50.060Z"
   },
   {
    "duration": 12,
    "start_time": "2023-09-28T08:26:50.096Z"
   },
   {
    "duration": 24,
    "start_time": "2023-09-28T08:26:50.109Z"
   },
   {
    "duration": 9,
    "start_time": "2023-09-28T08:26:50.134Z"
   },
   {
    "duration": 5,
    "start_time": "2023-09-28T08:26:50.145Z"
   },
   {
    "duration": 12,
    "start_time": "2023-09-28T08:26:50.152Z"
   },
   {
    "duration": 5,
    "start_time": "2023-09-28T08:26:50.166Z"
   },
   {
    "duration": 7,
    "start_time": "2023-09-28T08:26:50.173Z"
   },
   {
    "duration": 5,
    "start_time": "2023-09-28T08:26:50.182Z"
   },
   {
    "duration": 9,
    "start_time": "2023-09-28T08:26:50.188Z"
   },
   {
    "duration": 8,
    "start_time": "2023-09-28T08:26:50.198Z"
   },
   {
    "duration": 415,
    "start_time": "2023-09-28T08:26:50.207Z"
   },
   {
    "duration": 7,
    "start_time": "2023-09-28T08:26:50.624Z"
   },
   {
    "duration": 117,
    "start_time": "2023-09-28T08:26:50.632Z"
   },
   {
    "duration": 8,
    "start_time": "2023-09-28T08:26:50.750Z"
   },
   {
    "duration": 139,
    "start_time": "2023-09-28T08:26:50.759Z"
   },
   {
    "duration": 16,
    "start_time": "2023-09-28T08:26:50.900Z"
   },
   {
    "duration": 150,
    "start_time": "2023-09-28T08:26:50.918Z"
   },
   {
    "duration": 15,
    "start_time": "2023-09-28T08:26:51.071Z"
   },
   {
    "duration": 139,
    "start_time": "2023-09-28T08:26:51.087Z"
   },
   {
    "duration": 36,
    "start_time": "2023-09-28T08:26:51.227Z"
   },
   {
    "duration": 19,
    "start_time": "2023-09-28T08:26:51.264Z"
   },
   {
    "duration": 74,
    "start_time": "2023-09-28T08:26:51.285Z"
   },
   {
    "duration": 141,
    "start_time": "2023-09-28T08:26:51.361Z"
   },
   {
    "duration": 140,
    "start_time": "2023-09-28T08:26:51.504Z"
   },
   {
    "duration": 130,
    "start_time": "2023-09-28T08:26:51.645Z"
   },
   {
    "duration": 120,
    "start_time": "2023-09-28T08:26:51.777Z"
   },
   {
    "duration": 19,
    "start_time": "2023-09-28T08:26:51.899Z"
   },
   {
    "duration": 28,
    "start_time": "2023-09-28T08:26:51.920Z"
   },
   {
    "duration": 31,
    "start_time": "2023-09-28T08:26:51.950Z"
   },
   {
    "duration": 25,
    "start_time": "2023-09-28T08:27:18.977Z"
   },
   {
    "duration": 6,
    "start_time": "2023-09-28T08:28:40.946Z"
   },
   {
    "duration": 6,
    "start_time": "2023-09-28T08:29:02.816Z"
   },
   {
    "duration": 17,
    "start_time": "2023-09-28T08:29:24.676Z"
   },
   {
    "duration": 4,
    "start_time": "2023-09-28T08:29:45.277Z"
   },
   {
    "duration": 5,
    "start_time": "2023-09-28T08:30:01.076Z"
   },
   {
    "duration": 2,
    "start_time": "2023-09-28T09:08:37.476Z"
   },
   {
    "duration": 64,
    "start_time": "2023-09-28T09:08:37.988Z"
   },
   {
    "duration": 9,
    "start_time": "2023-09-28T09:08:38.372Z"
   },
   {
    "duration": 9,
    "start_time": "2023-09-28T09:08:38.546Z"
   },
   {
    "duration": 7,
    "start_time": "2023-09-28T09:08:38.726Z"
   },
   {
    "duration": 11,
    "start_time": "2023-09-28T09:08:38.900Z"
   },
   {
    "duration": 7,
    "start_time": "2023-09-28T09:08:39.090Z"
   },
   {
    "duration": 10,
    "start_time": "2023-09-28T09:08:40.316Z"
   },
   {
    "duration": 51,
    "start_time": "2023-09-28T09:09:06.245Z"
   },
   {
    "duration": 6,
    "start_time": "2023-09-28T09:09:06.760Z"
   },
   {
    "duration": 455,
    "start_time": "2023-09-28T09:09:14.411Z"
   },
   {
    "duration": 76,
    "start_time": "2023-09-28T09:09:15.008Z"
   },
   {
    "duration": 14,
    "start_time": "2023-09-28T09:09:15.388Z"
   },
   {
    "duration": 12,
    "start_time": "2023-09-28T09:09:15.590Z"
   },
   {
    "duration": 8,
    "start_time": "2023-09-28T09:09:15.827Z"
   },
   {
    "duration": 12,
    "start_time": "2023-09-28T09:09:16.016Z"
   },
   {
    "duration": 6,
    "start_time": "2023-09-28T09:09:16.211Z"
   },
   {
    "duration": 10,
    "start_time": "2023-09-28T09:09:16.416Z"
   },
   {
    "duration": 8,
    "start_time": "2023-09-28T09:09:17.056Z"
   },
   {
    "duration": 10,
    "start_time": "2023-09-28T09:09:17.241Z"
   },
   {
    "duration": 5,
    "start_time": "2023-09-28T09:09:17.627Z"
   },
   {
    "duration": 8,
    "start_time": "2023-09-28T09:09:17.820Z"
   },
   {
    "duration": 8,
    "start_time": "2023-09-28T09:09:18.230Z"
   },
   {
    "duration": 7,
    "start_time": "2023-09-28T09:09:18.457Z"
   },
   {
    "duration": 14,
    "start_time": "2023-09-28T09:09:18.690Z"
   },
   {
    "duration": 7,
    "start_time": "2023-09-28T09:09:18.896Z"
   },
   {
    "duration": 8,
    "start_time": "2023-09-28T09:09:19.148Z"
   },
   {
    "duration": 6,
    "start_time": "2023-09-28T09:09:19.350Z"
   },
   {
    "duration": 6,
    "start_time": "2023-09-28T09:09:19.576Z"
   },
   {
    "duration": 9,
    "start_time": "2023-09-28T09:09:20.531Z"
   },
   {
    "duration": 385,
    "start_time": "2023-09-28T09:09:20.808Z"
   },
   {
    "duration": 7,
    "start_time": "2023-09-28T09:09:21.195Z"
   },
   {
    "duration": 107,
    "start_time": "2023-09-28T09:09:21.291Z"
   },
   {
    "duration": 8,
    "start_time": "2023-09-28T09:09:21.636Z"
   },
   {
    "duration": 123,
    "start_time": "2023-09-28T09:09:21.837Z"
   },
   {
    "duration": 18,
    "start_time": "2023-09-28T09:09:22.198Z"
   },
   {
    "duration": 137,
    "start_time": "2023-09-28T09:09:22.388Z"
   },
   {
    "duration": 16,
    "start_time": "2023-09-28T09:09:22.762Z"
   },
   {
    "duration": 153,
    "start_time": "2023-09-28T09:09:22.942Z"
   },
   {
    "duration": 29,
    "start_time": "2023-09-28T09:09:23.788Z"
   },
   {
    "duration": 20,
    "start_time": "2023-09-28T09:09:25.656Z"
   },
   {
    "duration": 69,
    "start_time": "2023-09-28T09:09:26.136Z"
   },
   {
    "duration": 136,
    "start_time": "2023-09-28T09:09:27.606Z"
   },
   {
    "duration": 130,
    "start_time": "2023-09-28T09:09:27.817Z"
   },
   {
    "duration": 113,
    "start_time": "2023-09-28T09:09:28.006Z"
   },
   {
    "duration": 108,
    "start_time": "2023-09-28T09:09:28.208Z"
   },
   {
    "duration": 20,
    "start_time": "2023-09-28T09:09:33.199Z"
   },
   {
    "duration": 14,
    "start_time": "2023-09-28T09:09:33.818Z"
   },
   {
    "duration": 34,
    "start_time": "2023-09-28T09:09:35.285Z"
   },
   {
    "duration": 6,
    "start_time": "2023-09-28T09:09:39.042Z"
   },
   {
    "duration": 6,
    "start_time": "2023-09-28T09:09:39.804Z"
   },
   {
    "duration": 6,
    "start_time": "2023-09-28T09:09:54.756Z"
   },
   {
    "duration": 6,
    "start_time": "2023-09-28T09:10:05.777Z"
   },
   {
    "duration": 22,
    "start_time": "2023-09-28T09:12:16.323Z"
   },
   {
    "duration": 344,
    "start_time": "2023-09-28T09:12:47.804Z"
   },
   {
    "duration": 69,
    "start_time": "2023-09-28T09:12:48.314Z"
   },
   {
    "duration": 15,
    "start_time": "2023-09-28T09:12:48.650Z"
   },
   {
    "duration": 10,
    "start_time": "2023-09-28T09:12:48.828Z"
   },
   {
    "duration": 8,
    "start_time": "2023-09-28T09:12:49.145Z"
   },
   {
    "duration": 12,
    "start_time": "2023-09-28T09:12:49.334Z"
   },
   {
    "duration": 7,
    "start_time": "2023-09-28T09:12:49.538Z"
   },
   {
    "duration": 10,
    "start_time": "2023-09-28T09:12:49.756Z"
   },
   {
    "duration": 7,
    "start_time": "2023-09-28T09:12:50.294Z"
   },
   {
    "duration": 12,
    "start_time": "2023-09-28T09:12:50.502Z"
   },
   {
    "duration": 5,
    "start_time": "2023-09-28T09:12:50.804Z"
   },
   {
    "duration": 9,
    "start_time": "2023-09-28T09:12:50.996Z"
   },
   {
    "duration": 6,
    "start_time": "2023-09-28T09:12:51.372Z"
   },
   {
    "duration": 7,
    "start_time": "2023-09-28T09:12:51.565Z"
   },
   {
    "duration": 21,
    "start_time": "2023-09-28T09:12:51.753Z"
   },
   {
    "duration": 6,
    "start_time": "2023-09-28T09:12:51.948Z"
   },
   {
    "duration": 9,
    "start_time": "2023-09-28T09:12:52.124Z"
   },
   {
    "duration": 6,
    "start_time": "2023-09-28T09:12:52.295Z"
   },
   {
    "duration": 5,
    "start_time": "2023-09-28T09:12:52.493Z"
   },
   {
    "duration": 7,
    "start_time": "2023-09-28T09:12:53.232Z"
   },
   {
    "duration": 373,
    "start_time": "2023-09-28T09:12:53.414Z"
   },
   {
    "duration": 7,
    "start_time": "2023-09-28T09:12:53.791Z"
   },
   {
    "duration": 127,
    "start_time": "2023-09-28T09:12:53.978Z"
   },
   {
    "duration": 9,
    "start_time": "2023-09-28T09:12:54.372Z"
   },
   {
    "duration": 128,
    "start_time": "2023-09-28T09:12:54.570Z"
   },
   {
    "duration": 19,
    "start_time": "2023-09-28T09:12:54.944Z"
   },
   {
    "duration": 116,
    "start_time": "2023-09-28T09:12:55.148Z"
   },
   {
    "duration": 16,
    "start_time": "2023-09-28T09:12:55.648Z"
   },
   {
    "duration": 120,
    "start_time": "2023-09-28T09:12:56.064Z"
   },
   {
    "duration": 30,
    "start_time": "2023-09-28T09:12:57.634Z"
   },
   {
    "duration": 22,
    "start_time": "2023-09-28T09:12:58.348Z"
   },
   {
    "duration": 73,
    "start_time": "2023-09-28T09:12:58.562Z"
   },
   {
    "duration": 138,
    "start_time": "2023-09-28T09:12:59.374Z"
   },
   {
    "duration": 136,
    "start_time": "2023-09-28T09:12:59.619Z"
   },
   {
    "duration": 118,
    "start_time": "2023-09-28T09:12:59.818Z"
   },
   {
    "duration": 116,
    "start_time": "2023-09-28T09:12:59.998Z"
   },
   {
    "duration": 21,
    "start_time": "2023-09-28T09:13:02.072Z"
   },
   {
    "duration": 19,
    "start_time": "2023-09-28T09:13:43.171Z"
   },
   {
    "duration": 30,
    "start_time": "2023-09-28T09:13:51.203Z"
   },
   {
    "duration": 19,
    "start_time": "2023-09-28T09:13:57.755Z"
   },
   {
    "duration": 33,
    "start_time": "2023-09-28T09:14:25.016Z"
   },
   {
    "duration": 3,
    "start_time": "2023-09-28T09:14:37.183Z"
   },
   {
    "duration": 32,
    "start_time": "2023-09-28T09:14:42.902Z"
   },
   {
    "duration": 3,
    "start_time": "2023-09-28T09:14:45.065Z"
   },
   {
    "duration": 3,
    "start_time": "2023-09-28T09:15:32.618Z"
   },
   {
    "duration": 455,
    "start_time": "2023-09-28T09:15:54.869Z"
   },
   {
    "duration": 19,
    "start_time": "2023-09-28T09:16:43.418Z"
   },
   {
    "duration": 13,
    "start_time": "2023-09-28T09:16:44.355Z"
   },
   {
    "duration": 25,
    "start_time": "2023-09-28T09:16:47.071Z"
   },
   {
    "duration": 6,
    "start_time": "2023-09-28T09:16:55.928Z"
   },
   {
    "duration": 7,
    "start_time": "2023-09-28T09:16:57.122Z"
   },
   {
    "duration": 5,
    "start_time": "2023-09-28T09:17:22.394Z"
   },
   {
    "duration": 5,
    "start_time": "2023-09-28T09:17:39.968Z"
   },
   {
    "duration": 7,
    "start_time": "2023-09-28T09:19:20.614Z"
   },
   {
    "duration": 8,
    "start_time": "2023-09-28T09:19:29.309Z"
   },
   {
    "duration": 21,
    "start_time": "2023-09-28T09:19:41.969Z"
   },
   {
    "duration": 18,
    "start_time": "2023-09-28T09:19:49.382Z"
   },
   {
    "duration": 4,
    "start_time": "2023-09-28T09:20:25.404Z"
   },
   {
    "duration": 29,
    "start_time": "2023-09-28T09:21:30.097Z"
   },
   {
    "duration": 16,
    "start_time": "2023-09-28T09:21:51.117Z"
   },
   {
    "duration": 33,
    "start_time": "2023-09-28T09:24:54.409Z"
   },
   {
    "duration": 2399,
    "start_time": "2023-09-28T09:25:13.727Z"
   },
   {
    "duration": 32,
    "start_time": "2023-09-28T09:25:28.725Z"
   },
   {
    "duration": 402,
    "start_time": "2023-09-28T15:45:23.712Z"
   },
   {
    "duration": 335,
    "start_time": "2023-09-28T15:45:24.192Z"
   },
   {
    "duration": 18,
    "start_time": "2023-09-28T15:45:24.563Z"
   },
   {
    "duration": 15,
    "start_time": "2023-09-28T15:45:24.728Z"
   },
   {
    "duration": 8,
    "start_time": "2023-09-28T15:45:24.897Z"
   },
   {
    "duration": 11,
    "start_time": "2023-09-28T15:45:25.072Z"
   },
   {
    "duration": 6,
    "start_time": "2023-09-28T15:45:25.222Z"
   },
   {
    "duration": 10,
    "start_time": "2023-09-28T15:45:25.384Z"
   },
   {
    "duration": 7,
    "start_time": "2023-09-28T15:45:25.902Z"
   },
   {
    "duration": 8,
    "start_time": "2023-09-28T15:45:26.074Z"
   },
   {
    "duration": 8,
    "start_time": "2023-09-28T15:45:26.442Z"
   },
   {
    "duration": 14,
    "start_time": "2023-09-28T15:45:26.655Z"
   },
   {
    "duration": 6,
    "start_time": "2023-09-28T15:45:27.000Z"
   },
   {
    "duration": 8,
    "start_time": "2023-09-28T15:45:27.180Z"
   },
   {
    "duration": 14,
    "start_time": "2023-09-28T15:45:27.370Z"
   },
   {
    "duration": 5,
    "start_time": "2023-09-28T15:45:27.567Z"
   },
   {
    "duration": 16,
    "start_time": "2023-09-28T15:45:27.739Z"
   },
   {
    "duration": 7,
    "start_time": "2023-09-28T15:45:27.921Z"
   },
   {
    "duration": 7,
    "start_time": "2023-09-28T15:45:28.110Z"
   },
   {
    "duration": 9,
    "start_time": "2023-09-28T15:45:28.877Z"
   },
   {
    "duration": 597,
    "start_time": "2023-09-28T15:45:29.069Z"
   },
   {
    "duration": 9,
    "start_time": "2023-09-28T15:45:29.673Z"
   },
   {
    "duration": 123,
    "start_time": "2023-09-28T15:45:29.684Z"
   },
   {
    "duration": 9,
    "start_time": "2023-09-28T15:45:30.017Z"
   },
   {
    "duration": 135,
    "start_time": "2023-09-28T15:45:30.218Z"
   },
   {
    "duration": 18,
    "start_time": "2023-09-28T15:45:30.631Z"
   },
   {
    "duration": 135,
    "start_time": "2023-09-28T15:45:30.837Z"
   },
   {
    "duration": 16,
    "start_time": "2023-09-28T15:45:31.271Z"
   },
   {
    "duration": 197,
    "start_time": "2023-09-28T15:45:31.467Z"
   },
   {
    "duration": 35,
    "start_time": "2023-09-28T15:45:32.109Z"
   },
   {
    "duration": 27,
    "start_time": "2023-09-28T15:45:32.558Z"
   },
   {
    "duration": 21,
    "start_time": "2023-09-28T15:45:32.775Z"
   },
   {
    "duration": 159,
    "start_time": "2023-09-28T15:45:33.214Z"
   },
   {
    "duration": 149,
    "start_time": "2023-09-28T15:45:33.569Z"
   },
   {
    "duration": 130,
    "start_time": "2023-09-28T15:45:33.826Z"
   },
   {
    "duration": 142,
    "start_time": "2023-09-28T15:45:34.090Z"
   },
   {
    "duration": 25,
    "start_time": "2023-09-28T15:45:35.438Z"
   },
   {
    "duration": 14,
    "start_time": "2023-09-28T15:45:36.570Z"
   },
   {
    "duration": 25,
    "start_time": "2023-09-28T15:45:38.171Z"
   },
   {
    "duration": 4,
    "start_time": "2023-09-28T15:45:40.906Z"
   },
   {
    "duration": 6,
    "start_time": "2023-09-28T15:45:41.663Z"
   },
   {
    "duration": 5,
    "start_time": "2023-09-28T15:45:42.323Z"
   },
   {
    "duration": 7,
    "start_time": "2023-09-28T15:45:42.977Z"
   },
   {
    "duration": 6,
    "start_time": "2023-09-28T15:45:57.044Z"
   },
   {
    "duration": 32,
    "start_time": "2023-09-28T15:46:45.132Z"
   },
   {
    "duration": 16,
    "start_time": "2023-09-28T15:46:45.909Z"
   },
   {
    "duration": 33,
    "start_time": "2023-09-28T15:46:47.971Z"
   },
   {
    "duration": 11,
    "start_time": "2023-09-28T15:46:50.643Z"
   },
   {
    "duration": 7,
    "start_time": "2023-09-28T15:46:51.361Z"
   },
   {
    "duration": 5,
    "start_time": "2023-09-28T15:46:52.112Z"
   },
   {
    "duration": 8,
    "start_time": "2023-09-28T15:46:53.739Z"
   },
   {
    "duration": 5,
    "start_time": "2023-09-28T15:46:58.055Z"
   },
   {
    "duration": 7,
    "start_time": "2023-09-28T15:47:32.704Z"
   },
   {
    "duration": 72,
    "start_time": "2023-09-28T15:48:14.494Z"
   },
   {
    "duration": 17,
    "start_time": "2023-09-28T15:48:19.769Z"
   },
   {
    "duration": 18,
    "start_time": "2023-09-28T15:48:44.834Z"
   },
   {
    "duration": 13,
    "start_time": "2023-09-28T15:49:14.086Z"
   },
   {
    "duration": 7,
    "start_time": "2023-09-28T15:50:53.570Z"
   },
   {
    "duration": 8,
    "start_time": "2023-09-28T15:51:00.858Z"
   },
   {
    "duration": 102,
    "start_time": "2023-09-28T15:51:13.422Z"
   },
   {
    "duration": 98,
    "start_time": "2023-09-28T15:51:21.324Z"
   },
   {
    "duration": 7,
    "start_time": "2023-09-28T15:51:35.557Z"
   },
   {
    "duration": 8,
    "start_time": "2023-09-28T15:51:47.040Z"
   },
   {
    "duration": 110,
    "start_time": "2023-09-28T15:52:03.672Z"
   },
   {
    "duration": 190,
    "start_time": "2023-09-28T16:05:21.607Z"
   },
   {
    "duration": 154,
    "start_time": "2023-09-28T16:05:29.735Z"
   },
   {
    "duration": 12,
    "start_time": "2023-09-28T16:09:37.016Z"
   },
   {
    "duration": 10,
    "start_time": "2023-09-28T16:10:45.304Z"
   },
   {
    "duration": 10,
    "start_time": "2023-09-28T16:10:49.455Z"
   },
   {
    "duration": 161,
    "start_time": "2023-09-28T16:11:54.647Z"
   },
   {
    "duration": 115,
    "start_time": "2023-09-28T16:12:00.112Z"
   },
   {
    "duration": 111,
    "start_time": "2023-09-28T16:12:14.977Z"
   },
   {
    "duration": 125,
    "start_time": "2023-09-28T16:12:22.398Z"
   },
   {
    "duration": 133,
    "start_time": "2023-09-28T16:13:56.998Z"
   },
   {
    "duration": 110,
    "start_time": "2023-09-28T16:14:13.753Z"
   },
   {
    "duration": 8,
    "start_time": "2023-09-28T16:15:45.952Z"
   },
   {
    "duration": 112,
    "start_time": "2023-09-28T16:15:49.680Z"
   },
   {
    "duration": 122,
    "start_time": "2023-09-28T16:16:00.244Z"
   },
   {
    "duration": 130,
    "start_time": "2023-09-28T16:16:50.476Z"
   },
   {
    "duration": 191,
    "start_time": "2023-09-28T16:17:16.253Z"
   },
   {
    "duration": 109,
    "start_time": "2023-09-28T16:17:27.981Z"
   },
   {
    "duration": 109,
    "start_time": "2023-09-28T16:17:36.555Z"
   },
   {
    "duration": 101,
    "start_time": "2023-09-28T16:17:43.145Z"
   },
   {
    "duration": 120,
    "start_time": "2023-09-28T16:18:14.758Z"
   },
   {
    "duration": 124,
    "start_time": "2023-09-28T16:18:22.622Z"
   },
   {
    "duration": 128,
    "start_time": "2023-09-28T16:18:37.238Z"
   },
   {
    "duration": 117,
    "start_time": "2023-09-28T16:19:26.639Z"
   },
   {
    "duration": 101,
    "start_time": "2023-09-28T16:20:05.815Z"
   },
   {
    "duration": 105,
    "start_time": "2023-09-28T16:20:15.131Z"
   },
   {
    "duration": 102,
    "start_time": "2023-09-28T16:20:41.679Z"
   },
   {
    "duration": 97,
    "start_time": "2023-09-28T16:20:51.595Z"
   },
   {
    "duration": 172,
    "start_time": "2023-09-28T16:21:02.893Z"
   },
   {
    "duration": 103,
    "start_time": "2023-09-28T16:21:30.357Z"
   },
   {
    "duration": 115,
    "start_time": "2023-09-28T16:21:48.596Z"
   },
   {
    "duration": 114,
    "start_time": "2023-09-28T16:21:58.729Z"
   },
   {
    "duration": 111,
    "start_time": "2023-09-28T16:22:27.081Z"
   },
   {
    "duration": 119,
    "start_time": "2023-09-28T16:22:31.701Z"
   },
   {
    "duration": 67,
    "start_time": "2023-09-28T17:30:35.962Z"
   },
   {
    "duration": 2,
    "start_time": "2023-09-28T17:30:46.594Z"
   },
   {
    "duration": 399,
    "start_time": "2023-09-28T17:30:52.462Z"
   },
   {
    "duration": 73,
    "start_time": "2023-09-28T17:30:54.107Z"
   },
   {
    "duration": 13,
    "start_time": "2023-09-28T17:35:02.689Z"
   },
   {
    "duration": 432,
    "start_time": "2023-09-29T12:21:48.043Z"
   },
   {
    "duration": 198,
    "start_time": "2023-09-29T12:21:49.971Z"
   },
   {
    "duration": 18,
    "start_time": "2023-09-29T12:21:50.586Z"
   },
   {
    "duration": 11,
    "start_time": "2023-09-29T12:21:50.767Z"
   },
   {
    "duration": 9,
    "start_time": "2023-09-29T12:21:51.120Z"
   },
   {
    "duration": 12,
    "start_time": "2023-09-29T12:21:51.763Z"
   },
   {
    "duration": 7,
    "start_time": "2023-09-29T12:21:53.663Z"
   },
   {
    "duration": 10,
    "start_time": "2023-09-29T12:21:54.327Z"
   },
   {
    "duration": 9,
    "start_time": "2023-09-29T12:22:09.347Z"
   },
   {
    "duration": 13,
    "start_time": "2023-09-29T12:22:10.347Z"
   },
   {
    "duration": 6,
    "start_time": "2023-09-29T12:22:22.496Z"
   },
   {
    "duration": 10,
    "start_time": "2023-09-29T12:22:22.959Z"
   },
   {
    "duration": 6,
    "start_time": "2023-09-29T12:22:39.304Z"
   },
   {
    "duration": 7,
    "start_time": "2023-09-29T12:22:39.928Z"
   },
   {
    "duration": 16,
    "start_time": "2023-09-29T12:22:48.912Z"
   },
   {
    "duration": 7,
    "start_time": "2023-09-29T12:22:49.965Z"
   },
   {
    "duration": 9,
    "start_time": "2023-09-29T12:22:50.508Z"
   },
   {
    "duration": 6,
    "start_time": "2023-09-29T12:22:51.040Z"
   },
   {
    "duration": 7,
    "start_time": "2023-09-29T12:22:51.647Z"
   },
   {
    "duration": 35,
    "start_time": "2023-09-29T12:24:17.129Z"
   },
   {
    "duration": 26,
    "start_time": "2023-09-29T12:24:18.582Z"
   },
   {
    "duration": 439,
    "start_time": "2023-09-30T12:51:02.414Z"
   },
   {
    "duration": 196,
    "start_time": "2023-09-30T12:51:04.025Z"
   },
   {
    "duration": 91,
    "start_time": "2023-09-30T14:34:21.739Z"
   },
   {
    "duration": 38,
    "start_time": "2023-09-30T14:35:52.824Z"
   },
   {
    "duration": 420,
    "start_time": "2023-09-30T14:35:57.237Z"
   },
   {
    "duration": 200,
    "start_time": "2023-09-30T14:35:57.660Z"
   },
   {
    "duration": 14,
    "start_time": "2023-09-30T14:35:57.862Z"
   },
   {
    "duration": 23,
    "start_time": "2023-09-30T14:35:57.877Z"
   },
   {
    "duration": 14,
    "start_time": "2023-09-30T14:35:57.902Z"
   },
   {
    "duration": 24,
    "start_time": "2023-09-30T14:35:57.918Z"
   },
   {
    "duration": 10,
    "start_time": "2023-09-30T14:35:57.943Z"
   },
   {
    "duration": 25,
    "start_time": "2023-09-30T14:35:57.954Z"
   },
   {
    "duration": 14,
    "start_time": "2023-09-30T14:35:57.980Z"
   },
   {
    "duration": 10,
    "start_time": "2023-09-30T14:35:57.997Z"
   },
   {
    "duration": 22,
    "start_time": "2023-09-30T14:35:58.008Z"
   },
   {
    "duration": 12,
    "start_time": "2023-09-30T14:35:58.032Z"
   },
   {
    "duration": 24,
    "start_time": "2023-09-30T14:35:58.045Z"
   },
   {
    "duration": 10,
    "start_time": "2023-09-30T14:35:58.070Z"
   },
   {
    "duration": 15,
    "start_time": "2023-09-30T14:35:58.081Z"
   },
   {
    "duration": 14,
    "start_time": "2023-09-30T14:35:58.097Z"
   },
   {
    "duration": 13,
    "start_time": "2023-09-30T14:35:58.112Z"
   },
   {
    "duration": 10,
    "start_time": "2023-09-30T14:35:58.126Z"
   },
   {
    "duration": 6,
    "start_time": "2023-09-30T14:35:58.138Z"
   },
   {
    "duration": 14,
    "start_time": "2023-09-30T14:35:58.146Z"
   },
   {
    "duration": 495,
    "start_time": "2023-09-30T14:35:58.161Z"
   },
   {
    "duration": 8,
    "start_time": "2023-09-30T14:35:58.657Z"
   },
   {
    "duration": 117,
    "start_time": "2023-09-30T14:35:58.666Z"
   },
   {
    "duration": 8,
    "start_time": "2023-09-30T14:35:58.784Z"
   },
   {
    "duration": 141,
    "start_time": "2023-09-30T14:35:58.793Z"
   },
   {
    "duration": 24,
    "start_time": "2023-09-30T14:35:58.936Z"
   },
   {
    "duration": 127,
    "start_time": "2023-09-30T14:35:58.961Z"
   },
   {
    "duration": 15,
    "start_time": "2023-09-30T14:35:59.092Z"
   },
   {
    "duration": 189,
    "start_time": "2023-09-30T14:35:59.109Z"
   },
   {
    "duration": 30,
    "start_time": "2023-09-30T14:35:59.300Z"
   },
   {
    "duration": 30,
    "start_time": "2023-09-30T14:35:59.331Z"
   },
   {
    "duration": 19,
    "start_time": "2023-09-30T14:35:59.362Z"
   },
   {
    "duration": 150,
    "start_time": "2023-09-30T14:35:59.382Z"
   },
   {
    "duration": 145,
    "start_time": "2023-09-30T14:35:59.534Z"
   },
   {
    "duration": 125,
    "start_time": "2023-09-30T14:35:59.681Z"
   },
   {
    "duration": 122,
    "start_time": "2023-09-30T14:35:59.808Z"
   },
   {
    "duration": 31,
    "start_time": "2023-09-30T14:35:59.931Z"
   },
   {
    "duration": 18,
    "start_time": "2023-09-30T14:35:59.964Z"
   },
   {
    "duration": 32,
    "start_time": "2023-09-30T14:35:59.984Z"
   },
   {
    "duration": 4,
    "start_time": "2023-09-30T14:36:00.018Z"
   },
   {
    "duration": 65,
    "start_time": "2023-09-30T14:36:00.023Z"
   },
   {
    "duration": 76,
    "start_time": "2023-09-30T14:36:00.090Z"
   },
   {
    "duration": 37,
    "start_time": "2023-09-30T14:36:00.168Z"
   },
   {
    "duration": 69,
    "start_time": "2023-09-30T14:36:00.206Z"
   },
   {
    "duration": 47,
    "start_time": "2023-09-30T14:36:00.277Z"
   },
   {
    "duration": 181,
    "start_time": "2023-09-30T14:36:00.325Z"
   },
   {
    "duration": 5,
    "start_time": "2023-09-30T14:39:57.057Z"
   },
   {
    "duration": 122,
    "start_time": "2023-09-30T14:45:39.538Z"
   },
   {
    "duration": 108,
    "start_time": "2023-09-30T14:47:43.901Z"
   },
   {
    "duration": 169,
    "start_time": "2023-09-30T14:53:14.551Z"
   },
   {
    "duration": 111,
    "start_time": "2023-09-30T14:53:18.910Z"
   },
   {
    "duration": 108,
    "start_time": "2023-09-30T14:54:01.825Z"
   },
   {
    "duration": 3,
    "start_time": "2023-09-30T14:54:14.262Z"
   },
   {
    "duration": 105,
    "start_time": "2023-09-30T14:54:20.180Z"
   },
   {
    "duration": 106,
    "start_time": "2023-09-30T14:54:25.771Z"
   },
   {
    "duration": 112,
    "start_time": "2023-09-30T14:54:32.852Z"
   },
   {
    "duration": 111,
    "start_time": "2023-09-30T14:54:42.975Z"
   },
   {
    "duration": 118,
    "start_time": "2023-09-30T14:59:02.742Z"
   },
   {
    "duration": 111,
    "start_time": "2023-09-30T14:59:24.081Z"
   },
   {
    "duration": 133,
    "start_time": "2023-09-30T14:59:55.350Z"
   },
   {
    "duration": 69,
    "start_time": "2023-09-30T15:15:18.096Z"
   },
   {
    "duration": 7,
    "start_time": "2023-09-30T15:15:27.858Z"
   },
   {
    "duration": 13,
    "start_time": "2023-09-30T15:15:38.474Z"
   },
   {
    "duration": 15,
    "start_time": "2023-09-30T15:15:53.603Z"
   },
   {
    "duration": 14,
    "start_time": "2023-09-30T15:16:11.441Z"
   },
   {
    "duration": 6,
    "start_time": "2023-09-30T15:16:46.875Z"
   },
   {
    "duration": 6,
    "start_time": "2023-09-30T15:32:59.059Z"
   },
   {
    "duration": 6,
    "start_time": "2023-09-30T15:33:05.767Z"
   },
   {
    "duration": 6,
    "start_time": "2023-09-30T15:33:21.578Z"
   },
   {
    "duration": 110,
    "start_time": "2023-09-30T15:41:02.419Z"
   },
   {
    "duration": 166,
    "start_time": "2023-09-30T16:13:17.033Z"
   },
   {
    "duration": 127,
    "start_time": "2023-09-30T16:14:08.753Z"
   },
   {
    "duration": 128,
    "start_time": "2023-09-30T16:35:06.761Z"
   },
   {
    "duration": 137,
    "start_time": "2023-09-30T16:35:16.982Z"
   },
   {
    "duration": 17081,
    "start_time": "2023-09-30T16:35:29.589Z"
   },
   {
    "duration": 9,
    "start_time": "2023-09-30T16:36:03.432Z"
   },
   {
    "duration": 127,
    "start_time": "2023-09-30T16:36:37.918Z"
   },
   {
    "duration": 123,
    "start_time": "2023-09-30T16:36:48.414Z"
   },
   {
    "duration": 129,
    "start_time": "2023-09-30T16:37:20.933Z"
   },
   {
    "duration": 3,
    "start_time": "2023-09-30T17:15:13.078Z"
   },
   {
    "duration": 154,
    "start_time": "2023-09-30T17:15:16.754Z"
   },
   {
    "duration": 160,
    "start_time": "2023-09-30T17:18:09.795Z"
   },
   {
    "duration": 159,
    "start_time": "2023-09-30T17:18:39.573Z"
   },
   {
    "duration": 143,
    "start_time": "2023-09-30T17:18:56.998Z"
   },
   {
    "duration": 148,
    "start_time": "2023-09-30T17:19:01.265Z"
   },
   {
    "duration": 17,
    "start_time": "2023-09-30T17:19:20.442Z"
   },
   {
    "duration": 397,
    "start_time": "2023-09-30T17:26:54.466Z"
   },
   {
    "duration": 68,
    "start_time": "2023-09-30T17:26:54.867Z"
   },
   {
    "duration": 15,
    "start_time": "2023-09-30T17:26:54.937Z"
   },
   {
    "duration": 34,
    "start_time": "2023-09-30T17:26:54.954Z"
   },
   {
    "duration": 19,
    "start_time": "2023-09-30T17:26:54.990Z"
   },
   {
    "duration": 32,
    "start_time": "2023-09-30T17:26:55.010Z"
   },
   {
    "duration": 16,
    "start_time": "2023-09-30T17:26:55.043Z"
   },
   {
    "duration": 17,
    "start_time": "2023-09-30T17:26:55.064Z"
   },
   {
    "duration": 27,
    "start_time": "2023-09-30T17:26:55.082Z"
   },
   {
    "duration": 19,
    "start_time": "2023-09-30T17:26:55.113Z"
   },
   {
    "duration": 11,
    "start_time": "2023-09-30T17:26:55.133Z"
   },
   {
    "duration": 21,
    "start_time": "2023-09-30T17:26:55.145Z"
   },
   {
    "duration": 9,
    "start_time": "2023-09-30T17:26:55.168Z"
   },
   {
    "duration": 19,
    "start_time": "2023-09-30T17:26:55.179Z"
   },
   {
    "duration": 18,
    "start_time": "2023-09-30T17:26:55.200Z"
   },
   {
    "duration": 5,
    "start_time": "2023-09-30T17:26:55.220Z"
   },
   {
    "duration": 21,
    "start_time": "2023-09-30T17:26:55.227Z"
   },
   {
    "duration": 15,
    "start_time": "2023-09-30T17:26:55.249Z"
   },
   {
    "duration": 6,
    "start_time": "2023-09-30T17:26:55.266Z"
   },
   {
    "duration": 9,
    "start_time": "2023-09-30T17:26:55.274Z"
   },
   {
    "duration": 404,
    "start_time": "2023-09-30T17:26:55.285Z"
   },
   {
    "duration": 6,
    "start_time": "2023-09-30T17:26:55.691Z"
   },
   {
    "duration": 16,
    "start_time": "2023-09-30T17:26:55.699Z"
   },
   {
    "duration": 13,
    "start_time": "2023-09-30T17:26:55.716Z"
   },
   {
    "duration": 8,
    "start_time": "2023-09-30T17:26:55.730Z"
   },
   {
    "duration": 125,
    "start_time": "2023-09-30T17:26:55.740Z"
   },
   {
    "duration": 6,
    "start_time": "2023-09-30T17:26:55.867Z"
   },
   {
    "duration": 29,
    "start_time": "2023-09-30T17:26:55.876Z"
   },
   {
    "duration": 211,
    "start_time": "2023-09-30T17:26:55.907Z"
   },
   {
    "duration": 18,
    "start_time": "2023-09-30T17:26:56.121Z"
   },
   {
    "duration": 183,
    "start_time": "2023-09-30T17:26:56.150Z"
   },
   {
    "duration": 35,
    "start_time": "2023-09-30T17:26:56.334Z"
   },
   {
    "duration": 76,
    "start_time": "2023-09-30T17:26:56.371Z"
   },
   {
    "duration": 0,
    "start_time": "2023-09-30T17:26:56.448Z"
   },
   {
    "duration": 0,
    "start_time": "2023-09-30T17:26:56.449Z"
   },
   {
    "duration": 0,
    "start_time": "2023-09-30T17:26:56.450Z"
   },
   {
    "duration": 0,
    "start_time": "2023-09-30T17:26:56.451Z"
   },
   {
    "duration": 0,
    "start_time": "2023-09-30T17:26:56.460Z"
   },
   {
    "duration": 0,
    "start_time": "2023-09-30T17:26:56.461Z"
   },
   {
    "duration": 0,
    "start_time": "2023-09-30T17:26:56.461Z"
   },
   {
    "duration": 0,
    "start_time": "2023-09-30T17:26:56.463Z"
   },
   {
    "duration": 0,
    "start_time": "2023-09-30T17:26:56.465Z"
   },
   {
    "duration": 0,
    "start_time": "2023-09-30T17:26:56.466Z"
   },
   {
    "duration": 0,
    "start_time": "2023-09-30T17:26:56.469Z"
   },
   {
    "duration": 0,
    "start_time": "2023-09-30T17:26:56.472Z"
   },
   {
    "duration": 0,
    "start_time": "2023-09-30T17:26:56.474Z"
   },
   {
    "duration": 0,
    "start_time": "2023-09-30T17:26:56.476Z"
   },
   {
    "duration": 0,
    "start_time": "2023-09-30T17:26:56.478Z"
   },
   {
    "duration": 0,
    "start_time": "2023-09-30T17:26:56.479Z"
   },
   {
    "duration": 0,
    "start_time": "2023-09-30T17:26:56.480Z"
   },
   {
    "duration": 156,
    "start_time": "2023-09-30T17:27:36.758Z"
   },
   {
    "duration": 30,
    "start_time": "2023-09-30T17:31:02.944Z"
   },
   {
    "duration": 22,
    "start_time": "2023-09-30T17:32:02.810Z"
   },
   {
    "duration": 24,
    "start_time": "2023-09-30T17:34:30.011Z"
   },
   {
    "duration": 17,
    "start_time": "2023-09-30T17:34:58.924Z"
   },
   {
    "duration": 68,
    "start_time": "2023-09-30T17:35:05.503Z"
   },
   {
    "duration": 184,
    "start_time": "2023-09-30T17:37:37.913Z"
   },
   {
    "duration": 181,
    "start_time": "2023-09-30T17:37:42.978Z"
   },
   {
    "duration": 145,
    "start_time": "2023-09-30T17:38:03.768Z"
   },
   {
    "duration": 143,
    "start_time": "2023-09-30T17:38:54.061Z"
   },
   {
    "duration": 322,
    "start_time": "2023-09-30T17:39:30.089Z"
   },
   {
    "duration": 315,
    "start_time": "2023-09-30T17:39:46.979Z"
   },
   {
    "duration": 350,
    "start_time": "2023-09-30T17:39:59.013Z"
   },
   {
    "duration": 419,
    "start_time": "2023-09-30T17:40:08.372Z"
   },
   {
    "duration": 324,
    "start_time": "2023-09-30T17:40:18.382Z"
   },
   {
    "duration": 321,
    "start_time": "2023-09-30T17:42:11.517Z"
   },
   {
    "duration": 337,
    "start_time": "2023-09-30T17:42:36.731Z"
   },
   {
    "duration": 345,
    "start_time": "2023-09-30T17:43:42.378Z"
   },
   {
    "duration": 303,
    "start_time": "2023-09-30T17:44:05.500Z"
   },
   {
    "duration": 383,
    "start_time": "2023-09-30T17:44:31.280Z"
   },
   {
    "duration": 310,
    "start_time": "2023-09-30T17:44:39.647Z"
   },
   {
    "duration": 299,
    "start_time": "2023-09-30T17:46:34.899Z"
   },
   {
    "duration": 15,
    "start_time": "2023-09-30T17:48:35.220Z"
   },
   {
    "duration": 19,
    "start_time": "2023-09-30T17:48:53.602Z"
   },
   {
    "duration": 18,
    "start_time": "2023-09-30T17:49:08.161Z"
   },
   {
    "duration": 15,
    "start_time": "2023-09-30T17:49:27.730Z"
   },
   {
    "duration": 406,
    "start_time": "2023-09-30T17:49:42.665Z"
   },
   {
    "duration": 68,
    "start_time": "2023-09-30T17:49:43.073Z"
   },
   {
    "duration": 20,
    "start_time": "2023-09-30T17:49:43.142Z"
   },
   {
    "duration": 13,
    "start_time": "2023-09-30T17:49:43.165Z"
   },
   {
    "duration": 10,
    "start_time": "2023-09-30T17:49:43.179Z"
   },
   {
    "duration": 19,
    "start_time": "2023-09-30T17:49:43.190Z"
   },
   {
    "duration": 10,
    "start_time": "2023-09-30T17:49:43.210Z"
   },
   {
    "duration": 13,
    "start_time": "2023-09-30T17:49:43.221Z"
   },
   {
    "duration": 8,
    "start_time": "2023-09-30T17:49:43.235Z"
   },
   {
    "duration": 13,
    "start_time": "2023-09-30T17:49:43.250Z"
   },
   {
    "duration": 9,
    "start_time": "2023-09-30T17:49:43.265Z"
   },
   {
    "duration": 8,
    "start_time": "2023-09-30T17:49:43.275Z"
   },
   {
    "duration": 6,
    "start_time": "2023-09-30T17:49:43.284Z"
   },
   {
    "duration": 5,
    "start_time": "2023-09-30T17:49:43.291Z"
   },
   {
    "duration": 13,
    "start_time": "2023-09-30T17:49:43.298Z"
   },
   {
    "duration": 6,
    "start_time": "2023-09-30T17:49:43.313Z"
   },
   {
    "duration": 40,
    "start_time": "2023-09-30T17:49:43.320Z"
   },
   {
    "duration": 10,
    "start_time": "2023-09-30T17:49:43.361Z"
   },
   {
    "duration": 5,
    "start_time": "2023-09-30T17:49:43.373Z"
   },
   {
    "duration": 8,
    "start_time": "2023-09-30T17:49:43.379Z"
   },
   {
    "duration": 416,
    "start_time": "2023-09-30T17:49:43.388Z"
   },
   {
    "duration": 6,
    "start_time": "2023-09-30T17:49:43.806Z"
   },
   {
    "duration": 9,
    "start_time": "2023-09-30T17:49:43.813Z"
   },
   {
    "duration": 7,
    "start_time": "2023-09-30T17:49:43.823Z"
   },
   {
    "duration": 24,
    "start_time": "2023-09-30T17:49:43.832Z"
   },
   {
    "duration": 123,
    "start_time": "2023-09-30T17:49:43.857Z"
   },
   {
    "duration": 6,
    "start_time": "2023-09-30T17:49:43.982Z"
   },
   {
    "duration": 6,
    "start_time": "2023-09-30T17:49:43.991Z"
   },
   {
    "duration": 164,
    "start_time": "2023-09-30T17:49:43.998Z"
   },
   {
    "duration": 18,
    "start_time": "2023-09-30T17:49:44.164Z"
   },
   {
    "duration": 184,
    "start_time": "2023-09-30T17:49:44.184Z"
   },
   {
    "duration": 15,
    "start_time": "2023-09-30T17:49:44.370Z"
   },
   {
    "duration": 165,
    "start_time": "2023-09-30T17:49:44.387Z"
   },
   {
    "duration": 27,
    "start_time": "2023-09-30T17:49:44.554Z"
   },
   {
    "duration": 17,
    "start_time": "2023-09-30T17:49:44.582Z"
   },
   {
    "duration": 30,
    "start_time": "2023-09-30T17:49:44.600Z"
   },
   {
    "duration": 71,
    "start_time": "2023-09-30T17:49:44.632Z"
   },
   {
    "duration": 14,
    "start_time": "2023-09-30T17:49:44.704Z"
   },
   {
    "duration": 305,
    "start_time": "2023-09-30T17:49:44.719Z"
   },
   {
    "duration": 14,
    "start_time": "2023-09-30T17:49:45.025Z"
   },
   {
    "duration": 19,
    "start_time": "2023-09-30T17:49:45.049Z"
   },
   {
    "duration": 307,
    "start_time": "2023-09-30T17:49:45.070Z"
   },
   {
    "duration": 26,
    "start_time": "2023-09-30T17:49:45.379Z"
   },
   {
    "duration": 15,
    "start_time": "2023-09-30T17:49:45.407Z"
   },
   {
    "duration": 57,
    "start_time": "2023-09-30T17:49:45.423Z"
   },
   {
    "duration": 4,
    "start_time": "2023-09-30T17:49:45.482Z"
   },
   {
    "duration": 18,
    "start_time": "2023-09-30T17:49:45.487Z"
   },
   {
    "duration": 40,
    "start_time": "2023-09-30T17:49:45.506Z"
   },
   {
    "duration": 19,
    "start_time": "2023-09-30T17:49:45.547Z"
   },
   {
    "duration": 25,
    "start_time": "2023-09-30T17:49:45.567Z"
   },
   {
    "duration": 9,
    "start_time": "2023-09-30T17:49:45.594Z"
   },
   {
    "duration": 141,
    "start_time": "2023-09-30T17:49:45.605Z"
   },
   {
    "duration": 383,
    "start_time": "2023-09-30T17:53:38.188Z"
   },
   {
    "duration": 67,
    "start_time": "2023-09-30T17:53:38.573Z"
   },
   {
    "duration": 19,
    "start_time": "2023-09-30T17:53:38.642Z"
   },
   {
    "duration": 12,
    "start_time": "2023-09-30T17:53:38.664Z"
   },
   {
    "duration": 13,
    "start_time": "2023-09-30T17:53:38.679Z"
   },
   {
    "duration": 15,
    "start_time": "2023-09-30T17:53:38.693Z"
   },
   {
    "duration": 6,
    "start_time": "2023-09-30T17:53:38.709Z"
   },
   {
    "duration": 11,
    "start_time": "2023-09-30T17:53:38.718Z"
   },
   {
    "duration": 22,
    "start_time": "2023-09-30T17:53:38.731Z"
   },
   {
    "duration": 11,
    "start_time": "2023-09-30T17:53:38.764Z"
   },
   {
    "duration": 4,
    "start_time": "2023-09-30T17:53:38.776Z"
   },
   {
    "duration": 9,
    "start_time": "2023-09-30T17:53:38.781Z"
   },
   {
    "duration": 9,
    "start_time": "2023-09-30T17:53:38.791Z"
   },
   {
    "duration": 10,
    "start_time": "2023-09-30T17:53:38.802Z"
   },
   {
    "duration": 12,
    "start_time": "2023-09-30T17:53:38.814Z"
   },
   {
    "duration": 26,
    "start_time": "2023-09-30T17:53:38.827Z"
   },
   {
    "duration": 10,
    "start_time": "2023-09-30T17:53:38.854Z"
   },
   {
    "duration": 7,
    "start_time": "2023-09-30T17:53:38.866Z"
   },
   {
    "duration": 7,
    "start_time": "2023-09-30T17:53:38.874Z"
   },
   {
    "duration": 22,
    "start_time": "2023-09-30T17:53:38.882Z"
   },
   {
    "duration": 449,
    "start_time": "2023-09-30T17:53:38.906Z"
   },
   {
    "duration": 7,
    "start_time": "2023-09-30T17:53:39.364Z"
   },
   {
    "duration": 10,
    "start_time": "2023-09-30T17:53:39.372Z"
   },
   {
    "duration": 7,
    "start_time": "2023-09-30T17:53:39.383Z"
   },
   {
    "duration": 9,
    "start_time": "2023-09-30T17:53:39.392Z"
   },
   {
    "duration": 110,
    "start_time": "2023-09-30T17:53:39.402Z"
   },
   {
    "duration": 7,
    "start_time": "2023-09-30T17:53:39.514Z"
   },
   {
    "duration": 10,
    "start_time": "2023-09-30T17:53:39.524Z"
   },
   {
    "duration": 174,
    "start_time": "2023-09-30T17:53:39.536Z"
   },
   {
    "duration": 18,
    "start_time": "2023-09-30T17:53:39.712Z"
   },
   {
    "duration": 172,
    "start_time": "2023-09-30T17:53:39.731Z"
   },
   {
    "duration": 15,
    "start_time": "2023-09-30T17:53:39.904Z"
   },
   {
    "duration": 171,
    "start_time": "2023-09-30T17:53:39.921Z"
   },
   {
    "duration": 22,
    "start_time": "2023-09-30T17:53:40.093Z"
   },
   {
    "duration": 14,
    "start_time": "2023-09-30T17:53:40.117Z"
   },
   {
    "duration": 37,
    "start_time": "2023-09-30T17:53:40.132Z"
   },
   {
    "duration": 61,
    "start_time": "2023-09-30T17:53:40.170Z"
   },
   {
    "duration": 32,
    "start_time": "2023-09-30T17:53:40.232Z"
   },
   {
    "duration": 304,
    "start_time": "2023-09-30T17:53:40.266Z"
   },
   {
    "duration": 16,
    "start_time": "2023-09-30T17:53:40.571Z"
   },
   {
    "duration": 33,
    "start_time": "2023-09-30T17:53:40.588Z"
   },
   {
    "duration": 537,
    "start_time": "2023-09-30T17:53:40.623Z"
   },
   {
    "duration": 28,
    "start_time": "2023-09-30T17:53:41.166Z"
   },
   {
    "duration": 21,
    "start_time": "2023-09-30T17:53:41.248Z"
   },
   {
    "duration": 89,
    "start_time": "2023-09-30T17:53:41.271Z"
   },
   {
    "duration": 5,
    "start_time": "2023-09-30T17:53:41.365Z"
   },
   {
    "duration": 13,
    "start_time": "2023-09-30T17:53:41.372Z"
   },
   {
    "duration": 11,
    "start_time": "2023-09-30T17:53:41.387Z"
   },
   {
    "duration": 61,
    "start_time": "2023-09-30T17:53:41.400Z"
   },
   {
    "duration": 4,
    "start_time": "2023-09-30T17:53:41.463Z"
   },
   {
    "duration": 19,
    "start_time": "2023-09-30T17:53:41.468Z"
   },
   {
    "duration": 379,
    "start_time": "2023-09-30T17:53:41.488Z"
   },
   {
    "duration": 313,
    "start_time": "2023-09-30T17:53:54.932Z"
   },
   {
    "duration": 388,
    "start_time": "2023-09-30T17:54:00.513Z"
   },
   {
    "duration": 400,
    "start_time": "2023-09-30T17:54:06.301Z"
   },
   {
    "duration": 72,
    "start_time": "2023-09-30T17:54:06.702Z"
   },
   {
    "duration": 13,
    "start_time": "2023-09-30T17:54:06.776Z"
   },
   {
    "duration": 53,
    "start_time": "2023-09-30T17:54:06.791Z"
   },
   {
    "duration": 44,
    "start_time": "2023-09-30T17:54:06.845Z"
   },
   {
    "duration": 48,
    "start_time": "2023-09-30T17:54:06.890Z"
   },
   {
    "duration": 33,
    "start_time": "2023-09-30T17:54:06.940Z"
   },
   {
    "duration": 40,
    "start_time": "2023-09-30T17:54:06.975Z"
   },
   {
    "duration": 19,
    "start_time": "2023-09-30T17:54:07.017Z"
   },
   {
    "duration": 20,
    "start_time": "2023-09-30T17:54:07.038Z"
   },
   {
    "duration": 6,
    "start_time": "2023-09-30T17:54:07.062Z"
   },
   {
    "duration": 33,
    "start_time": "2023-09-30T17:54:07.069Z"
   },
   {
    "duration": 24,
    "start_time": "2023-09-30T17:54:07.103Z"
   },
   {
    "duration": 27,
    "start_time": "2023-09-30T17:54:07.129Z"
   },
   {
    "duration": 19,
    "start_time": "2023-09-30T17:54:07.158Z"
   },
   {
    "duration": 7,
    "start_time": "2023-09-30T17:54:07.179Z"
   },
   {
    "duration": 9,
    "start_time": "2023-09-30T17:54:07.188Z"
   },
   {
    "duration": 6,
    "start_time": "2023-09-30T17:54:07.198Z"
   },
   {
    "duration": 21,
    "start_time": "2023-09-30T17:54:07.206Z"
   },
   {
    "duration": 10,
    "start_time": "2023-09-30T17:54:07.228Z"
   },
   {
    "duration": 434,
    "start_time": "2023-09-30T17:54:07.239Z"
   },
   {
    "duration": 7,
    "start_time": "2023-09-30T17:54:07.675Z"
   },
   {
    "duration": 38,
    "start_time": "2023-09-30T17:54:07.685Z"
   },
   {
    "duration": 42,
    "start_time": "2023-09-30T17:54:07.724Z"
   },
   {
    "duration": 8,
    "start_time": "2023-09-30T17:54:07.767Z"
   },
   {
    "duration": 209,
    "start_time": "2023-09-30T17:54:07.777Z"
   },
   {
    "duration": 7,
    "start_time": "2023-09-30T17:54:07.987Z"
   },
   {
    "duration": 10,
    "start_time": "2023-09-30T17:54:08.051Z"
   },
   {
    "duration": 327,
    "start_time": "2023-09-30T17:54:08.064Z"
   },
   {
    "duration": 78,
    "start_time": "2023-09-30T17:54:08.393Z"
   },
   {
    "duration": 307,
    "start_time": "2023-09-30T17:54:08.472Z"
   },
   {
    "duration": 15,
    "start_time": "2023-09-30T17:54:08.781Z"
   },
   {
    "duration": 345,
    "start_time": "2023-09-30T17:54:08.850Z"
   },
   {
    "duration": 35,
    "start_time": "2023-09-30T17:54:09.256Z"
   },
   {
    "duration": 69,
    "start_time": "2023-09-30T17:54:09.293Z"
   },
   {
    "duration": 21,
    "start_time": "2023-09-30T17:54:09.364Z"
   },
   {
    "duration": 199,
    "start_time": "2023-09-30T17:54:09.386Z"
   },
   {
    "duration": 76,
    "start_time": "2023-09-30T17:54:09.586Z"
   },
   {
    "duration": 431,
    "start_time": "2023-09-30T17:54:09.663Z"
   },
   {
    "duration": 17,
    "start_time": "2023-09-30T17:54:10.096Z"
   },
   {
    "duration": 17,
    "start_time": "2023-09-30T17:54:10.115Z"
   },
   {
    "duration": 356,
    "start_time": "2023-09-30T17:54:10.133Z"
   },
   {
    "duration": 31,
    "start_time": "2023-09-30T17:54:10.490Z"
   },
   {
    "duration": 40,
    "start_time": "2023-09-30T17:54:10.523Z"
   },
   {
    "duration": 34,
    "start_time": "2023-09-30T17:54:10.565Z"
   },
   {
    "duration": 5,
    "start_time": "2023-09-30T17:54:10.600Z"
   },
   {
    "duration": 18,
    "start_time": "2023-09-30T17:54:10.606Z"
   },
   {
    "duration": 21,
    "start_time": "2023-09-30T17:54:10.625Z"
   },
   {
    "duration": 25,
    "start_time": "2023-09-30T17:54:10.647Z"
   },
   {
    "duration": 7,
    "start_time": "2023-09-30T17:54:10.673Z"
   },
   {
    "duration": 32,
    "start_time": "2023-09-30T17:54:10.682Z"
   },
   {
    "duration": 158,
    "start_time": "2023-09-30T17:54:10.716Z"
   },
   {
    "duration": 173,
    "start_time": "2023-09-30T18:04:23.908Z"
   },
   {
    "duration": 18,
    "start_time": "2023-09-30T18:04:36.466Z"
   },
   {
    "duration": 149,
    "start_time": "2023-09-30T18:04:37.427Z"
   },
   {
    "duration": 175,
    "start_time": "2023-09-30T18:04:52.221Z"
   },
   {
    "duration": 19,
    "start_time": "2023-09-30T18:04:53.733Z"
   },
   {
    "duration": 205,
    "start_time": "2023-09-30T18:04:54.474Z"
   },
   {
    "duration": 435,
    "start_time": "2023-09-30T18:22:13.223Z"
   },
   {
    "duration": 318,
    "start_time": "2023-09-30T18:22:41.165Z"
   },
   {
    "duration": 427,
    "start_time": "2023-09-30T18:23:13.538Z"
   },
   {
    "duration": 69,
    "start_time": "2023-09-30T18:23:13.967Z"
   },
   {
    "duration": 19,
    "start_time": "2023-09-30T18:23:14.037Z"
   },
   {
    "duration": 36,
    "start_time": "2023-09-30T18:23:14.059Z"
   },
   {
    "duration": 33,
    "start_time": "2023-09-30T18:23:14.097Z"
   },
   {
    "duration": 56,
    "start_time": "2023-09-30T18:23:14.131Z"
   },
   {
    "duration": 25,
    "start_time": "2023-09-30T18:23:14.189Z"
   },
   {
    "duration": 27,
    "start_time": "2023-09-30T18:23:14.216Z"
   },
   {
    "duration": 27,
    "start_time": "2023-09-30T18:23:14.245Z"
   },
   {
    "duration": 27,
    "start_time": "2023-09-30T18:23:14.275Z"
   },
   {
    "duration": 25,
    "start_time": "2023-09-30T18:23:14.304Z"
   },
   {
    "duration": 34,
    "start_time": "2023-09-30T18:23:14.330Z"
   },
   {
    "duration": 32,
    "start_time": "2023-09-30T18:23:14.366Z"
   },
   {
    "duration": 23,
    "start_time": "2023-09-30T18:23:14.400Z"
   },
   {
    "duration": 54,
    "start_time": "2023-09-30T18:23:14.425Z"
   },
   {
    "duration": 19,
    "start_time": "2023-09-30T18:23:14.481Z"
   },
   {
    "duration": 30,
    "start_time": "2023-09-30T18:23:14.502Z"
   },
   {
    "duration": 6,
    "start_time": "2023-09-30T18:23:14.533Z"
   },
   {
    "duration": 25,
    "start_time": "2023-09-30T18:23:14.540Z"
   },
   {
    "duration": 12,
    "start_time": "2023-09-30T18:23:14.567Z"
   },
   {
    "duration": 414,
    "start_time": "2023-09-30T18:23:14.580Z"
   },
   {
    "duration": 7,
    "start_time": "2023-09-30T18:23:14.995Z"
   },
   {
    "duration": 100,
    "start_time": "2023-09-30T18:23:15.004Z"
   },
   {
    "duration": 73,
    "start_time": "2023-09-30T18:23:15.105Z"
   },
   {
    "duration": 63,
    "start_time": "2023-09-30T18:23:15.179Z"
   },
   {
    "duration": 159,
    "start_time": "2023-09-30T18:23:15.243Z"
   },
   {
    "duration": 6,
    "start_time": "2023-09-30T18:23:15.404Z"
   },
   {
    "duration": 58,
    "start_time": "2023-09-30T18:23:15.413Z"
   },
   {
    "duration": 235,
    "start_time": "2023-09-30T18:23:15.473Z"
   },
   {
    "duration": 16,
    "start_time": "2023-09-30T18:23:15.710Z"
   },
   {
    "duration": 161,
    "start_time": "2023-09-30T18:23:15.728Z"
   },
   {
    "duration": 21,
    "start_time": "2023-09-30T18:23:15.891Z"
   },
   {
    "duration": 204,
    "start_time": "2023-09-30T18:23:15.914Z"
   },
   {
    "duration": 39,
    "start_time": "2023-09-30T18:23:16.119Z"
   },
   {
    "duration": 20,
    "start_time": "2023-09-30T18:23:16.162Z"
   },
   {
    "duration": 28,
    "start_time": "2023-09-30T18:23:16.185Z"
   },
   {
    "duration": 91,
    "start_time": "2023-09-30T18:23:16.215Z"
   },
   {
    "duration": 189,
    "start_time": "2023-09-30T18:23:16.308Z"
   },
   {
    "duration": 16,
    "start_time": "2023-09-30T18:23:16.499Z"
   },
   {
    "duration": 165,
    "start_time": "2023-09-30T18:23:16.517Z"
   },
   {
    "duration": 15,
    "start_time": "2023-09-30T18:23:16.685Z"
   },
   {
    "duration": 177,
    "start_time": "2023-09-30T18:23:16.702Z"
   },
   {
    "duration": 16,
    "start_time": "2023-09-30T18:23:16.881Z"
   },
   {
    "duration": 280,
    "start_time": "2023-09-30T18:23:16.898Z"
   },
   {
    "duration": 25,
    "start_time": "2023-09-30T18:23:17.180Z"
   },
   {
    "duration": 14,
    "start_time": "2023-09-30T18:23:17.206Z"
   },
   {
    "duration": 55,
    "start_time": "2023-09-30T18:23:17.221Z"
   },
   {
    "duration": 4,
    "start_time": "2023-09-30T18:23:17.277Z"
   },
   {
    "duration": 40,
    "start_time": "2023-09-30T18:23:17.284Z"
   },
   {
    "duration": 37,
    "start_time": "2023-09-30T18:23:17.325Z"
   },
   {
    "duration": 16,
    "start_time": "2023-09-30T18:23:17.363Z"
   },
   {
    "duration": 11,
    "start_time": "2023-09-30T18:23:17.380Z"
   },
   {
    "duration": 29,
    "start_time": "2023-09-30T18:23:17.392Z"
   },
   {
    "duration": 124,
    "start_time": "2023-09-30T18:23:17.423Z"
   },
   {
    "duration": 397,
    "start_time": "2023-09-30T18:23:28.248Z"
   },
   {
    "duration": 370,
    "start_time": "2023-09-30T18:23:35.198Z"
   },
   {
    "duration": 69,
    "start_time": "2023-09-30T18:23:35.569Z"
   },
   {
    "duration": 23,
    "start_time": "2023-09-30T18:23:35.640Z"
   },
   {
    "duration": 11,
    "start_time": "2023-09-30T18:23:35.665Z"
   },
   {
    "duration": 31,
    "start_time": "2023-09-30T18:23:35.677Z"
   },
   {
    "duration": 14,
    "start_time": "2023-09-30T18:23:35.709Z"
   },
   {
    "duration": 17,
    "start_time": "2023-09-30T18:23:35.725Z"
   },
   {
    "duration": 27,
    "start_time": "2023-09-30T18:23:35.743Z"
   },
   {
    "duration": 29,
    "start_time": "2023-09-30T18:23:35.771Z"
   },
   {
    "duration": 21,
    "start_time": "2023-09-30T18:23:35.803Z"
   },
   {
    "duration": 4,
    "start_time": "2023-09-30T18:23:35.826Z"
   },
   {
    "duration": 10,
    "start_time": "2023-09-30T18:23:35.831Z"
   },
   {
    "duration": 18,
    "start_time": "2023-09-30T18:23:35.843Z"
   },
   {
    "duration": 17,
    "start_time": "2023-09-30T18:23:35.863Z"
   },
   {
    "duration": 29,
    "start_time": "2023-09-30T18:23:35.881Z"
   },
   {
    "duration": 6,
    "start_time": "2023-09-30T18:23:35.912Z"
   },
   {
    "duration": 15,
    "start_time": "2023-09-30T18:23:35.920Z"
   },
   {
    "duration": 9,
    "start_time": "2023-09-30T18:23:35.937Z"
   },
   {
    "duration": 16,
    "start_time": "2023-09-30T18:23:35.948Z"
   },
   {
    "duration": 9,
    "start_time": "2023-09-30T18:23:35.966Z"
   },
   {
    "duration": 425,
    "start_time": "2023-09-30T18:23:35.977Z"
   },
   {
    "duration": 6,
    "start_time": "2023-09-30T18:23:36.403Z"
   },
   {
    "duration": 9,
    "start_time": "2023-09-30T18:23:36.410Z"
   },
   {
    "duration": 19,
    "start_time": "2023-09-30T18:23:36.420Z"
   },
   {
    "duration": 24,
    "start_time": "2023-09-30T18:23:36.440Z"
   },
   {
    "duration": 111,
    "start_time": "2023-09-30T18:23:36.467Z"
   },
   {
    "duration": 6,
    "start_time": "2023-09-30T18:23:36.580Z"
   },
   {
    "duration": 21,
    "start_time": "2023-09-30T18:23:36.589Z"
   },
   {
    "duration": 149,
    "start_time": "2023-09-30T18:23:36.612Z"
   },
   {
    "duration": 16,
    "start_time": "2023-09-30T18:23:36.763Z"
   },
   {
    "duration": 155,
    "start_time": "2023-09-30T18:23:36.781Z"
   },
   {
    "duration": 28,
    "start_time": "2023-09-30T18:23:36.938Z"
   },
   {
    "duration": 412,
    "start_time": "2023-09-30T18:23:36.970Z"
   },
   {
    "duration": 90,
    "start_time": "2023-09-30T18:23:37.384Z"
   },
   {
    "duration": 22,
    "start_time": "2023-09-30T18:23:37.476Z"
   },
   {
    "duration": 18,
    "start_time": "2023-09-30T18:23:37.551Z"
   },
   {
    "duration": 126,
    "start_time": "2023-09-30T18:23:37.570Z"
   },
   {
    "duration": 384,
    "start_time": "2023-09-30T18:23:37.698Z"
   },
   {
    "duration": 77,
    "start_time": "2023-09-30T18:23:38.084Z"
   },
   {
    "duration": 309,
    "start_time": "2023-09-30T18:23:38.164Z"
   },
   {
    "duration": 79,
    "start_time": "2023-09-30T18:23:38.475Z"
   },
   {
    "duration": 335,
    "start_time": "2023-09-30T18:23:38.556Z"
   },
   {
    "duration": 74,
    "start_time": "2023-09-30T18:23:38.893Z"
   },
   {
    "duration": 241,
    "start_time": "2023-09-30T18:23:38.969Z"
   },
   {
    "duration": 24,
    "start_time": "2023-09-30T18:23:39.212Z"
   },
   {
    "duration": 33,
    "start_time": "2023-09-30T18:23:39.238Z"
   },
   {
    "duration": 91,
    "start_time": "2023-09-30T18:23:39.272Z"
   },
   {
    "duration": 4,
    "start_time": "2023-09-30T18:23:39.365Z"
   },
   {
    "duration": 16,
    "start_time": "2023-09-30T18:23:39.371Z"
   },
   {
    "duration": 16,
    "start_time": "2023-09-30T18:23:39.388Z"
   },
   {
    "duration": 6,
    "start_time": "2023-09-30T18:23:39.405Z"
   },
   {
    "duration": 4,
    "start_time": "2023-09-30T18:23:39.413Z"
   },
   {
    "duration": 25,
    "start_time": "2023-09-30T18:23:39.418Z"
   },
   {
    "duration": 141,
    "start_time": "2023-09-30T18:23:39.445Z"
   },
   {
    "duration": 5,
    "start_time": "2023-09-30T18:31:32.463Z"
   },
   {
    "duration": 9,
    "start_time": "2023-09-30T18:37:50.480Z"
   },
   {
    "duration": 112,
    "start_time": "2023-09-30T18:39:11.902Z"
   },
   {
    "duration": 66,
    "start_time": "2023-09-30T18:39:20.164Z"
   },
   {
    "duration": 9,
    "start_time": "2023-09-30T18:39:40.763Z"
   },
   {
    "duration": 1414,
    "start_time": "2023-09-30T18:39:57.770Z"
   },
   {
    "duration": 414,
    "start_time": "2023-09-30T18:40:17.627Z"
   },
   {
    "duration": 70,
    "start_time": "2023-09-30T18:40:18.043Z"
   },
   {
    "duration": 13,
    "start_time": "2023-09-30T18:40:18.115Z"
   },
   {
    "duration": 19,
    "start_time": "2023-09-30T18:40:18.129Z"
   },
   {
    "duration": 49,
    "start_time": "2023-09-30T18:40:18.150Z"
   },
   {
    "duration": 44,
    "start_time": "2023-09-30T18:40:18.200Z"
   },
   {
    "duration": 30,
    "start_time": "2023-09-30T18:40:18.245Z"
   },
   {
    "duration": 25,
    "start_time": "2023-09-30T18:40:18.276Z"
   },
   {
    "duration": 14,
    "start_time": "2023-09-30T18:40:18.302Z"
   },
   {
    "duration": 16,
    "start_time": "2023-09-30T18:40:18.318Z"
   },
   {
    "duration": 9,
    "start_time": "2023-09-30T18:40:18.336Z"
   },
   {
    "duration": 20,
    "start_time": "2023-09-30T18:40:18.347Z"
   },
   {
    "duration": 35,
    "start_time": "2023-09-30T18:40:18.368Z"
   },
   {
    "duration": 40,
    "start_time": "2023-09-30T18:40:18.404Z"
   },
   {
    "duration": 23,
    "start_time": "2023-09-30T18:40:18.445Z"
   },
   {
    "duration": 11,
    "start_time": "2023-09-30T18:40:18.470Z"
   },
   {
    "duration": 16,
    "start_time": "2023-09-30T18:40:18.482Z"
   },
   {
    "duration": 5,
    "start_time": "2023-09-30T18:40:18.500Z"
   },
   {
    "duration": 13,
    "start_time": "2023-09-30T18:40:18.506Z"
   },
   {
    "duration": 12,
    "start_time": "2023-09-30T18:40:18.520Z"
   },
   {
    "duration": 379,
    "start_time": "2023-09-30T18:40:18.534Z"
   },
   {
    "duration": 6,
    "start_time": "2023-09-30T18:40:18.914Z"
   },
   {
    "duration": 23,
    "start_time": "2023-09-30T18:40:18.922Z"
   },
   {
    "duration": 14,
    "start_time": "2023-09-30T18:40:18.947Z"
   },
   {
    "duration": 15,
    "start_time": "2023-09-30T18:40:18.964Z"
   },
   {
    "duration": 119,
    "start_time": "2023-09-30T18:40:18.980Z"
   },
   {
    "duration": 6,
    "start_time": "2023-09-30T18:40:19.100Z"
   },
   {
    "duration": 20,
    "start_time": "2023-09-30T18:40:19.109Z"
   },
   {
    "duration": 153,
    "start_time": "2023-09-30T18:40:19.131Z"
   },
   {
    "duration": 15,
    "start_time": "2023-09-30T18:40:19.285Z"
   },
   {
    "duration": 159,
    "start_time": "2023-09-30T18:40:19.301Z"
   },
   {
    "duration": 15,
    "start_time": "2023-09-30T18:40:19.462Z"
   },
   {
    "duration": 156,
    "start_time": "2023-09-30T18:40:19.478Z"
   },
   {
    "duration": 40,
    "start_time": "2023-09-30T18:40:19.635Z"
   },
   {
    "duration": 14,
    "start_time": "2023-09-30T18:40:19.677Z"
   },
   {
    "duration": 13,
    "start_time": "2023-09-30T18:40:19.693Z"
   },
   {
    "duration": 78,
    "start_time": "2023-09-30T18:40:19.708Z"
   },
   {
    "duration": 156,
    "start_time": "2023-09-30T18:40:19.788Z"
   },
   {
    "duration": 25,
    "start_time": "2023-09-30T18:40:19.945Z"
   },
   {
    "duration": 148,
    "start_time": "2023-09-30T18:40:19.972Z"
   },
   {
    "duration": 14,
    "start_time": "2023-09-30T18:40:20.121Z"
   },
   {
    "duration": 172,
    "start_time": "2023-09-30T18:40:20.136Z"
   },
   {
    "duration": 19,
    "start_time": "2023-09-30T18:40:20.310Z"
   },
   {
    "duration": 165,
    "start_time": "2023-09-30T18:40:20.331Z"
   },
   {
    "duration": 32,
    "start_time": "2023-09-30T18:40:20.499Z"
   },
   {
    "duration": 30,
    "start_time": "2023-09-30T18:40:20.533Z"
   },
   {
    "duration": 1889,
    "start_time": "2023-09-30T18:40:20.565Z"
   },
   {
    "duration": 0,
    "start_time": "2023-09-30T18:40:22.456Z"
   },
   {
    "duration": 0,
    "start_time": "2023-09-30T18:40:22.458Z"
   },
   {
    "duration": 0,
    "start_time": "2023-09-30T18:40:22.459Z"
   },
   {
    "duration": 0,
    "start_time": "2023-09-30T18:40:22.460Z"
   },
   {
    "duration": 0,
    "start_time": "2023-09-30T18:40:22.461Z"
   },
   {
    "duration": 0,
    "start_time": "2023-09-30T18:40:22.462Z"
   },
   {
    "duration": 0,
    "start_time": "2023-09-30T18:40:22.464Z"
   },
   {
    "duration": 0,
    "start_time": "2023-09-30T18:40:22.465Z"
   },
   {
    "duration": 13,
    "start_time": "2023-09-30T18:40:53.970Z"
   },
   {
    "duration": 8,
    "start_time": "2023-09-30T18:41:30.737Z"
   },
   {
    "duration": 1541,
    "start_time": "2023-09-30T18:41:45.984Z"
   },
   {
    "duration": 19,
    "start_time": "2023-09-30T18:42:11.941Z"
   },
   {
    "duration": 14,
    "start_time": "2023-09-30T18:42:26.473Z"
   },
   {
    "duration": 14,
    "start_time": "2023-09-30T18:42:36.115Z"
   },
   {
    "duration": 419,
    "start_time": "2023-09-30T18:43:24.875Z"
   },
   {
    "duration": 93,
    "start_time": "2023-09-30T18:43:25.296Z"
   },
   {
    "duration": 14,
    "start_time": "2023-09-30T18:43:25.390Z"
   },
   {
    "duration": 14,
    "start_time": "2023-09-30T18:43:25.406Z"
   },
   {
    "duration": 15,
    "start_time": "2023-09-30T18:43:25.422Z"
   },
   {
    "duration": 17,
    "start_time": "2023-09-30T18:43:25.438Z"
   },
   {
    "duration": 13,
    "start_time": "2023-09-30T18:43:25.457Z"
   },
   {
    "duration": 21,
    "start_time": "2023-09-30T18:43:25.472Z"
   },
   {
    "duration": 14,
    "start_time": "2023-09-30T18:43:25.494Z"
   },
   {
    "duration": 9,
    "start_time": "2023-09-30T18:43:25.509Z"
   },
   {
    "duration": 30,
    "start_time": "2023-09-30T18:43:25.519Z"
   },
   {
    "duration": 24,
    "start_time": "2023-09-30T18:43:25.551Z"
   },
   {
    "duration": 16,
    "start_time": "2023-09-30T18:43:25.576Z"
   },
   {
    "duration": 22,
    "start_time": "2023-09-30T18:43:25.594Z"
   },
   {
    "duration": 12,
    "start_time": "2023-09-30T18:43:25.617Z"
   },
   {
    "duration": 5,
    "start_time": "2023-09-30T18:43:25.631Z"
   },
   {
    "duration": 10,
    "start_time": "2023-09-30T18:43:25.637Z"
   },
   {
    "duration": 21,
    "start_time": "2023-09-30T18:43:25.648Z"
   },
   {
    "duration": 9,
    "start_time": "2023-09-30T18:43:25.671Z"
   },
   {
    "duration": 38,
    "start_time": "2023-09-30T18:43:25.682Z"
   },
   {
    "duration": 510,
    "start_time": "2023-09-30T18:43:25.721Z"
   },
   {
    "duration": 7,
    "start_time": "2023-09-30T18:43:26.234Z"
   },
   {
    "duration": 14,
    "start_time": "2023-09-30T18:43:26.251Z"
   },
   {
    "duration": 14,
    "start_time": "2023-09-30T18:43:26.267Z"
   },
   {
    "duration": 32,
    "start_time": "2023-09-30T18:43:26.283Z"
   },
   {
    "duration": 148,
    "start_time": "2023-09-30T18:43:26.317Z"
   },
   {
    "duration": 7,
    "start_time": "2023-09-30T18:43:26.468Z"
   },
   {
    "duration": 24,
    "start_time": "2023-09-30T18:43:26.477Z"
   },
   {
    "duration": 167,
    "start_time": "2023-09-30T18:43:26.502Z"
   },
   {
    "duration": 16,
    "start_time": "2023-09-30T18:43:26.671Z"
   },
   {
    "duration": 186,
    "start_time": "2023-09-30T18:43:26.689Z"
   },
   {
    "duration": 16,
    "start_time": "2023-09-30T18:43:26.877Z"
   },
   {
    "duration": 177,
    "start_time": "2023-09-30T18:43:26.895Z"
   },
   {
    "duration": 28,
    "start_time": "2023-09-30T18:43:27.074Z"
   },
   {
    "duration": 15,
    "start_time": "2023-09-30T18:43:27.104Z"
   },
   {
    "duration": 37,
    "start_time": "2023-09-30T18:43:27.121Z"
   },
   {
    "duration": 71,
    "start_time": "2023-09-30T18:43:27.160Z"
   },
   {
    "duration": 184,
    "start_time": "2023-09-30T18:43:27.233Z"
   },
   {
    "duration": 15,
    "start_time": "2023-09-30T18:43:27.419Z"
   },
   {
    "duration": 162,
    "start_time": "2023-09-30T18:43:27.435Z"
   },
   {
    "duration": 16,
    "start_time": "2023-09-30T18:43:27.600Z"
   },
   {
    "duration": 181,
    "start_time": "2023-09-30T18:43:27.617Z"
   },
   {
    "duration": 15,
    "start_time": "2023-09-30T18:43:27.800Z"
   },
   {
    "duration": 157,
    "start_time": "2023-09-30T18:43:27.816Z"
   },
   {
    "duration": 42,
    "start_time": "2023-09-30T18:43:27.975Z"
   },
   {
    "duration": 11,
    "start_time": "2023-09-30T18:43:28.018Z"
   },
   {
    "duration": 658,
    "start_time": "2023-09-30T18:45:26.837Z"
   },
   {
    "duration": 95,
    "start_time": "2023-09-30T18:45:27.497Z"
   },
   {
    "duration": 26,
    "start_time": "2023-09-30T18:45:27.594Z"
   },
   {
    "duration": 28,
    "start_time": "2023-09-30T18:45:27.622Z"
   },
   {
    "duration": 12,
    "start_time": "2023-09-30T18:45:27.656Z"
   },
   {
    "duration": 24,
    "start_time": "2023-09-30T18:45:27.669Z"
   },
   {
    "duration": 7,
    "start_time": "2023-09-30T18:45:27.696Z"
   },
   {
    "duration": 23,
    "start_time": "2023-09-30T18:45:27.704Z"
   },
   {
    "duration": 18,
    "start_time": "2023-09-30T18:45:27.729Z"
   },
   {
    "duration": 21,
    "start_time": "2023-09-30T18:45:27.749Z"
   },
   {
    "duration": 15,
    "start_time": "2023-09-30T18:45:27.772Z"
   },
   {
    "duration": 9,
    "start_time": "2023-09-30T18:45:27.790Z"
   },
   {
    "duration": 15,
    "start_time": "2023-09-30T18:45:27.800Z"
   },
   {
    "duration": 5,
    "start_time": "2023-09-30T18:45:27.818Z"
   },
   {
    "duration": 31,
    "start_time": "2023-09-30T18:45:27.825Z"
   },
   {
    "duration": 10,
    "start_time": "2023-09-30T18:45:27.858Z"
   },
   {
    "duration": 32,
    "start_time": "2023-09-30T18:45:27.870Z"
   },
   {
    "duration": 8,
    "start_time": "2023-09-30T18:45:27.905Z"
   },
   {
    "duration": 10,
    "start_time": "2023-09-30T18:45:27.916Z"
   },
   {
    "duration": 8,
    "start_time": "2023-09-30T18:45:27.928Z"
   },
   {
    "duration": 427,
    "start_time": "2023-09-30T18:45:27.938Z"
   },
   {
    "duration": 7,
    "start_time": "2023-09-30T18:45:28.366Z"
   },
   {
    "duration": 17,
    "start_time": "2023-09-30T18:45:28.375Z"
   },
   {
    "duration": 11,
    "start_time": "2023-09-30T18:45:28.394Z"
   },
   {
    "duration": 16,
    "start_time": "2023-09-30T18:45:28.407Z"
   },
   {
    "duration": 144,
    "start_time": "2023-09-30T18:45:28.425Z"
   },
   {
    "duration": 6,
    "start_time": "2023-09-30T18:45:28.571Z"
   },
   {
    "duration": 15,
    "start_time": "2023-09-30T18:45:28.579Z"
   },
   {
    "duration": 151,
    "start_time": "2023-09-30T18:45:28.596Z"
   },
   {
    "duration": 27,
    "start_time": "2023-09-30T18:45:28.749Z"
   },
   {
    "duration": 204,
    "start_time": "2023-09-30T18:45:28.777Z"
   },
   {
    "duration": 16,
    "start_time": "2023-09-30T18:45:28.982Z"
   },
   {
    "duration": 572,
    "start_time": "2023-09-30T18:45:28.999Z"
   },
   {
    "duration": 81,
    "start_time": "2023-09-30T18:45:29.573Z"
   },
   {
    "duration": 25,
    "start_time": "2023-09-30T18:45:29.656Z"
   },
   {
    "duration": 14,
    "start_time": "2023-09-30T18:45:29.683Z"
   },
   {
    "duration": 189,
    "start_time": "2023-09-30T18:45:29.698Z"
   },
   {
    "duration": 388,
    "start_time": "2023-09-30T18:45:29.889Z"
   },
   {
    "duration": 87,
    "start_time": "2023-09-30T18:45:30.279Z"
   },
   {
    "duration": 383,
    "start_time": "2023-09-30T18:45:30.369Z"
   },
   {
    "duration": 19,
    "start_time": "2023-09-30T18:45:30.758Z"
   },
   {
    "duration": 244,
    "start_time": "2023-09-30T18:45:30.778Z"
   },
   {
    "duration": 33,
    "start_time": "2023-09-30T18:45:31.024Z"
   },
   {
    "duration": 161,
    "start_time": "2023-09-30T18:45:31.064Z"
   },
   {
    "duration": 65,
    "start_time": "2023-09-30T18:45:31.227Z"
   },
   {
    "duration": 9,
    "start_time": "2023-09-30T18:45:31.294Z"
   },
   {
    "duration": 119,
    "start_time": "2023-09-30T18:45:31.304Z"
   },
   {
    "duration": 0,
    "start_time": "2023-09-30T18:45:31.424Z"
   },
   {
    "duration": 0,
    "start_time": "2023-09-30T18:45:31.425Z"
   },
   {
    "duration": 1,
    "start_time": "2023-09-30T18:45:31.426Z"
   },
   {
    "duration": 0,
    "start_time": "2023-09-30T18:45:31.427Z"
   },
   {
    "duration": 0,
    "start_time": "2023-09-30T18:45:31.428Z"
   },
   {
    "duration": 0,
    "start_time": "2023-09-30T18:45:31.429Z"
   },
   {
    "duration": 0,
    "start_time": "2023-09-30T18:45:31.430Z"
   },
   {
    "duration": 0,
    "start_time": "2023-09-30T18:45:31.431Z"
   },
   {
    "duration": 0,
    "start_time": "2023-09-30T18:45:31.431Z"
   },
   {
    "duration": 5,
    "start_time": "2023-09-30T18:45:40.274Z"
   },
   {
    "duration": 10,
    "start_time": "2023-09-30T18:45:55.995Z"
   },
   {
    "duration": 7,
    "start_time": "2023-09-30T18:46:03.509Z"
   },
   {
    "duration": 5,
    "start_time": "2023-09-30T18:46:07.181Z"
   },
   {
    "duration": 6,
    "start_time": "2023-09-30T18:46:12.690Z"
   },
   {
    "duration": 4,
    "start_time": "2023-09-30T18:46:32.012Z"
   },
   {
    "duration": 7,
    "start_time": "2023-09-30T18:46:40.837Z"
   },
   {
    "duration": 3910,
    "start_time": "2023-09-30T18:46:56.065Z"
   },
   {
    "duration": 4,
    "start_time": "2023-09-30T18:48:27.716Z"
   },
   {
    "duration": 4,
    "start_time": "2023-09-30T18:48:57.773Z"
   },
   {
    "duration": 92,
    "start_time": "2023-09-30T18:50:45.173Z"
   },
   {
    "duration": 1304,
    "start_time": "2023-09-30T18:51:04.077Z"
   },
   {
    "duration": 1293,
    "start_time": "2023-09-30T18:51:26.091Z"
   },
   {
    "duration": 1208,
    "start_time": "2023-09-30T18:51:57.881Z"
   },
   {
    "duration": 79,
    "start_time": "2023-09-30T18:52:56.426Z"
   },
   {
    "duration": 189,
    "start_time": "2023-09-30T18:53:03.788Z"
   },
   {
    "duration": 253,
    "start_time": "2023-09-30T18:53:19.017Z"
   },
   {
    "duration": 13,
    "start_time": "2023-09-30T18:53:34.541Z"
   },
   {
    "duration": 12,
    "start_time": "2023-09-30T18:54:07.153Z"
   },
   {
    "duration": 12,
    "start_time": "2023-09-30T18:54:55.513Z"
   },
   {
    "duration": 1257,
    "start_time": "2023-09-30T18:55:49.169Z"
   },
   {
    "duration": 5,
    "start_time": "2023-09-30T18:55:54.824Z"
   },
   {
    "duration": 87,
    "start_time": "2023-09-30T18:56:47.622Z"
   },
   {
    "duration": 81,
    "start_time": "2023-09-30T18:57:34.445Z"
   },
   {
    "duration": 12,
    "start_time": "2023-09-30T18:57:56.420Z"
   },
   {
    "duration": 19,
    "start_time": "2023-09-30T18:58:12.838Z"
   },
   {
    "duration": 75,
    "start_time": "2023-09-30T19:02:59.659Z"
   },
   {
    "duration": 90,
    "start_time": "2023-09-30T19:03:07.613Z"
   },
   {
    "duration": 454,
    "start_time": "2023-10-01T01:31:55.063Z"
   },
   {
    "duration": 211,
    "start_time": "2023-10-01T01:31:55.520Z"
   },
   {
    "duration": 17,
    "start_time": "2023-10-01T01:31:55.733Z"
   },
   {
    "duration": 48,
    "start_time": "2023-10-01T01:31:55.752Z"
   },
   {
    "duration": 28,
    "start_time": "2023-10-01T01:31:55.810Z"
   },
   {
    "duration": 50,
    "start_time": "2023-10-01T01:31:55.840Z"
   },
   {
    "duration": 31,
    "start_time": "2023-10-01T01:31:55.892Z"
   },
   {
    "duration": 34,
    "start_time": "2023-10-01T01:31:55.925Z"
   },
   {
    "duration": 31,
    "start_time": "2023-10-01T01:31:55.960Z"
   },
   {
    "duration": 37,
    "start_time": "2023-10-01T01:31:55.994Z"
   },
   {
    "duration": 7,
    "start_time": "2023-10-01T01:31:56.032Z"
   },
   {
    "duration": 11,
    "start_time": "2023-10-01T01:31:56.041Z"
   },
   {
    "duration": 20,
    "start_time": "2023-10-01T01:31:56.053Z"
   },
   {
    "duration": 64,
    "start_time": "2023-10-01T01:31:56.074Z"
   },
   {
    "duration": 37,
    "start_time": "2023-10-01T01:31:56.140Z"
   },
   {
    "duration": 20,
    "start_time": "2023-10-01T01:31:56.178Z"
   },
   {
    "duration": 21,
    "start_time": "2023-10-01T01:31:56.200Z"
   },
   {
    "duration": 6,
    "start_time": "2023-10-01T01:31:56.223Z"
   },
   {
    "duration": 24,
    "start_time": "2023-10-01T01:31:56.231Z"
   },
   {
    "duration": 34,
    "start_time": "2023-10-01T01:31:56.257Z"
   },
   {
    "duration": 698,
    "start_time": "2023-10-01T01:31:56.292Z"
   },
   {
    "duration": 12,
    "start_time": "2023-10-01T01:31:56.992Z"
   },
   {
    "duration": 12,
    "start_time": "2023-10-01T01:31:57.006Z"
   },
   {
    "duration": 41,
    "start_time": "2023-10-01T01:31:57.020Z"
   },
   {
    "duration": 12,
    "start_time": "2023-10-01T01:31:57.062Z"
   },
   {
    "duration": 147,
    "start_time": "2023-10-01T01:31:57.075Z"
   },
   {
    "duration": 6,
    "start_time": "2023-10-01T01:31:57.224Z"
   },
   {
    "duration": 43,
    "start_time": "2023-10-01T01:31:57.234Z"
   },
   {
    "duration": 187,
    "start_time": "2023-10-01T01:31:57.279Z"
   },
   {
    "duration": 18,
    "start_time": "2023-10-01T01:31:57.468Z"
   },
   {
    "duration": 198,
    "start_time": "2023-10-01T01:31:57.488Z"
   },
   {
    "duration": 26,
    "start_time": "2023-10-01T01:31:57.688Z"
   },
   {
    "duration": 264,
    "start_time": "2023-10-01T01:31:57.716Z"
   },
   {
    "duration": 39,
    "start_time": "2023-10-01T01:31:57.982Z"
   },
   {
    "duration": 17,
    "start_time": "2023-10-01T01:31:58.023Z"
   },
   {
    "duration": 21,
    "start_time": "2023-10-01T01:31:58.041Z"
   },
   {
    "duration": 48,
    "start_time": "2023-10-01T01:31:58.065Z"
   },
   {
    "duration": 202,
    "start_time": "2023-10-01T01:31:58.115Z"
   },
   {
    "duration": 19,
    "start_time": "2023-10-01T01:31:58.319Z"
   },
   {
    "duration": 180,
    "start_time": "2023-10-01T01:31:58.340Z"
   },
   {
    "duration": 18,
    "start_time": "2023-10-01T01:31:58.522Z"
   },
   {
    "duration": 234,
    "start_time": "2023-10-01T01:31:58.542Z"
   },
   {
    "duration": 37,
    "start_time": "2023-10-01T01:31:58.777Z"
   },
   {
    "duration": 160,
    "start_time": "2023-10-01T01:31:58.818Z"
   },
   {
    "duration": 39,
    "start_time": "2023-10-01T01:31:58.980Z"
   },
   {
    "duration": 11,
    "start_time": "2023-10-01T01:31:59.021Z"
   },
   {
    "duration": 28,
    "start_time": "2023-10-01T01:31:59.033Z"
   },
   {
    "duration": 85,
    "start_time": "2023-10-01T01:31:59.063Z"
   },
   {
    "duration": 0,
    "start_time": "2023-10-01T01:31:59.150Z"
   },
   {
    "duration": 0,
    "start_time": "2023-10-01T01:31:59.151Z"
   },
   {
    "duration": 0,
    "start_time": "2023-10-01T01:31:59.152Z"
   },
   {
    "duration": 0,
    "start_time": "2023-10-01T01:31:59.153Z"
   },
   {
    "duration": 0,
    "start_time": "2023-10-01T01:31:59.154Z"
   },
   {
    "duration": 0,
    "start_time": "2023-10-01T01:31:59.156Z"
   },
   {
    "duration": 0,
    "start_time": "2023-10-01T01:31:59.157Z"
   },
   {
    "duration": 0,
    "start_time": "2023-10-01T01:31:59.158Z"
   },
   {
    "duration": 0,
    "start_time": "2023-10-01T01:31:59.160Z"
   },
   {
    "duration": 398,
    "start_time": "2023-10-01T01:47:52.730Z"
   },
   {
    "duration": 75,
    "start_time": "2023-10-01T01:47:53.258Z"
   },
   {
    "duration": 15,
    "start_time": "2023-10-01T01:47:53.666Z"
   },
   {
    "duration": 11,
    "start_time": "2023-10-01T01:47:53.815Z"
   },
   {
    "duration": 10,
    "start_time": "2023-10-01T01:47:54.222Z"
   },
   {
    "duration": 12,
    "start_time": "2023-10-01T01:47:54.370Z"
   },
   {
    "duration": 13,
    "start_time": "2023-10-01T01:47:54.798Z"
   },
   {
    "duration": 10,
    "start_time": "2023-10-01T01:47:54.928Z"
   },
   {
    "duration": 15,
    "start_time": "2023-10-01T01:47:55.701Z"
   },
   {
    "duration": 16,
    "start_time": "2023-10-01T01:47:56.102Z"
   },
   {
    "duration": 5,
    "start_time": "2023-10-01T01:47:56.486Z"
   },
   {
    "duration": 9,
    "start_time": "2023-10-01T01:47:56.934Z"
   },
   {
    "duration": 7,
    "start_time": "2023-10-01T01:47:57.338Z"
   },
   {
    "duration": 7,
    "start_time": "2023-10-01T01:47:57.792Z"
   },
   {
    "duration": 15,
    "start_time": "2023-10-01T01:47:58.171Z"
   },
   {
    "duration": 6,
    "start_time": "2023-10-01T01:47:58.547Z"
   },
   {
    "duration": 9,
    "start_time": "2023-10-01T01:47:58.753Z"
   },
   {
    "duration": 6,
    "start_time": "2023-10-01T01:47:59.126Z"
   },
   {
    "duration": 5,
    "start_time": "2023-10-01T01:47:59.377Z"
   },
   {
    "duration": 8,
    "start_time": "2023-10-01T01:48:00.292Z"
   },
   {
    "duration": 489,
    "start_time": "2023-10-01T01:48:00.695Z"
   },
   {
    "duration": 8,
    "start_time": "2023-10-01T01:48:01.186Z"
   },
   {
    "duration": 8,
    "start_time": "2023-10-01T01:48:01.279Z"
   },
   {
    "duration": 6,
    "start_time": "2023-10-01T01:48:01.568Z"
   },
   {
    "duration": 7,
    "start_time": "2023-10-01T01:48:01.712Z"
   },
   {
    "duration": 125,
    "start_time": "2023-10-01T01:48:02.354Z"
   },
   {
    "duration": 7,
    "start_time": "2023-10-01T01:48:02.785Z"
   },
   {
    "duration": 8,
    "start_time": "2023-10-01T01:48:03.522Z"
   },
   {
    "duration": 174,
    "start_time": "2023-10-01T01:48:03.749Z"
   },
   {
    "duration": 19,
    "start_time": "2023-10-01T01:48:04.243Z"
   },
   {
    "duration": 210,
    "start_time": "2023-10-01T01:48:04.536Z"
   },
   {
    "duration": 22,
    "start_time": "2023-10-01T01:48:04.906Z"
   },
   {
    "duration": 187,
    "start_time": "2023-10-01T01:48:05.116Z"
   },
   {
    "duration": 37,
    "start_time": "2023-10-01T01:48:06.002Z"
   },
   {
    "duration": 18,
    "start_time": "2023-10-01T01:48:06.438Z"
   },
   {
    "duration": 116,
    "start_time": "2023-10-01T01:48:06.657Z"
   },
   {
    "duration": 23,
    "start_time": "2023-10-01T01:48:07.088Z"
   },
   {
    "duration": 243,
    "start_time": "2023-10-01T01:48:07.331Z"
   },
   {
    "duration": 23,
    "start_time": "2023-10-01T01:48:07.795Z"
   },
   {
    "duration": 166,
    "start_time": "2023-10-01T01:48:08.030Z"
   },
   {
    "duration": 17,
    "start_time": "2023-10-01T01:48:08.521Z"
   },
   {
    "duration": 192,
    "start_time": "2023-10-01T01:48:08.758Z"
   },
   {
    "duration": 17,
    "start_time": "2023-10-01T01:48:09.235Z"
   },
   {
    "duration": 170,
    "start_time": "2023-10-01T01:48:09.478Z"
   },
   {
    "duration": 29,
    "start_time": "2023-10-01T01:48:11.459Z"
   },
   {
    "duration": 12,
    "start_time": "2023-10-01T01:48:13.860Z"
   },
   {
    "duration": 2,
    "start_time": "2023-10-01T01:48:15.127Z"
   },
   {
    "duration": 2,
    "start_time": "2023-10-01T01:48:16.170Z"
   },
   {
    "duration": 2,
    "start_time": "2023-10-01T01:48:16.930Z"
   },
   {
    "duration": 36,
    "start_time": "2023-10-01T01:48:17.621Z"
   },
   {
    "duration": 34,
    "start_time": "2023-10-01T01:48:40.232Z"
   },
   {
    "duration": 15,
    "start_time": "2023-10-01T01:51:13.411Z"
   },
   {
    "duration": 21,
    "start_time": "2023-10-01T01:51:20.657Z"
   },
   {
    "duration": 113,
    "start_time": "2023-10-01T02:02:21.722Z"
   },
   {
    "duration": 108,
    "start_time": "2023-10-01T02:02:42.120Z"
   },
   {
    "duration": 161,
    "start_time": "2023-10-01T02:05:00.750Z"
   },
   {
    "duration": 418,
    "start_time": "2023-10-01T02:05:58.844Z"
   },
   {
    "duration": 75,
    "start_time": "2023-10-01T02:05:59.264Z"
   },
   {
    "duration": 15,
    "start_time": "2023-10-01T02:05:59.341Z"
   },
   {
    "duration": 32,
    "start_time": "2023-10-01T02:05:59.358Z"
   },
   {
    "duration": 18,
    "start_time": "2023-10-01T02:05:59.392Z"
   },
   {
    "duration": 26,
    "start_time": "2023-10-01T02:05:59.413Z"
   },
   {
    "duration": 14,
    "start_time": "2023-10-01T02:05:59.441Z"
   },
   {
    "duration": 32,
    "start_time": "2023-10-01T02:05:59.457Z"
   },
   {
    "duration": 34,
    "start_time": "2023-10-01T02:05:59.491Z"
   },
   {
    "duration": 31,
    "start_time": "2023-10-01T02:05:59.527Z"
   },
   {
    "duration": 28,
    "start_time": "2023-10-01T02:05:59.560Z"
   },
   {
    "duration": 26,
    "start_time": "2023-10-01T02:05:59.589Z"
   },
   {
    "duration": 19,
    "start_time": "2023-10-01T02:05:59.617Z"
   },
   {
    "duration": 13,
    "start_time": "2023-10-01T02:05:59.639Z"
   },
   {
    "duration": 16,
    "start_time": "2023-10-01T02:05:59.654Z"
   },
   {
    "duration": 7,
    "start_time": "2023-10-01T02:05:59.672Z"
   },
   {
    "duration": 36,
    "start_time": "2023-10-01T02:05:59.681Z"
   },
   {
    "duration": 33,
    "start_time": "2023-10-01T02:05:59.719Z"
   },
   {
    "duration": 9,
    "start_time": "2023-10-01T02:05:59.755Z"
   },
   {
    "duration": 25,
    "start_time": "2023-10-01T02:05:59.766Z"
   },
   {
    "duration": 464,
    "start_time": "2023-10-01T02:05:59.793Z"
   },
   {
    "duration": 8,
    "start_time": "2023-10-01T02:06:00.259Z"
   },
   {
    "duration": 264,
    "start_time": "2023-10-01T02:06:00.268Z"
   },
   {
    "duration": 186,
    "start_time": "2023-10-01T02:06:00.534Z"
   },
   {
    "duration": 35,
    "start_time": "2023-10-01T02:06:00.721Z"
   },
   {
    "duration": 182,
    "start_time": "2023-10-01T02:06:00.758Z"
   },
   {
    "duration": 8,
    "start_time": "2023-10-01T02:06:00.942Z"
   },
   {
    "duration": 215,
    "start_time": "2023-10-01T02:06:00.952Z"
   },
   {
    "duration": 280,
    "start_time": "2023-10-01T02:06:01.169Z"
   },
   {
    "duration": 17,
    "start_time": "2023-10-01T02:06:01.451Z"
   },
   {
    "duration": 267,
    "start_time": "2023-10-01T02:06:01.470Z"
   },
   {
    "duration": 18,
    "start_time": "2023-10-01T02:06:01.739Z"
   },
   {
    "duration": 300,
    "start_time": "2023-10-01T02:06:01.759Z"
   },
   {
    "duration": 27,
    "start_time": "2023-10-01T02:06:02.061Z"
   },
   {
    "duration": 45,
    "start_time": "2023-10-01T02:06:02.089Z"
   },
   {
    "duration": 80,
    "start_time": "2023-10-01T02:06:02.135Z"
   },
   {
    "duration": 165,
    "start_time": "2023-10-01T02:06:02.217Z"
   },
   {
    "duration": 441,
    "start_time": "2023-10-01T02:06:02.384Z"
   },
   {
    "duration": 17,
    "start_time": "2023-10-01T02:06:02.827Z"
   },
   {
    "duration": 201,
    "start_time": "2023-10-01T02:06:02.845Z"
   },
   {
    "duration": 18,
    "start_time": "2023-10-01T02:06:03.049Z"
   },
   {
    "duration": 460,
    "start_time": "2023-10-01T02:06:03.068Z"
   },
   {
    "duration": 16,
    "start_time": "2023-10-01T02:06:03.530Z"
   },
   {
    "duration": 379,
    "start_time": "2023-10-01T02:06:03.547Z"
   },
   {
    "duration": 78,
    "start_time": "2023-10-01T02:06:03.927Z"
   },
   {
    "duration": 13,
    "start_time": "2023-10-01T02:06:04.007Z"
   },
   {
    "duration": 91,
    "start_time": "2023-10-01T02:06:04.022Z"
   },
   {
    "duration": 77,
    "start_time": "2023-10-01T02:06:04.115Z"
   },
   {
    "duration": 115,
    "start_time": "2023-10-01T02:06:04.194Z"
   },
   {
    "duration": 0,
    "start_time": "2023-10-01T02:06:04.311Z"
   },
   {
    "duration": 0,
    "start_time": "2023-10-01T02:06:04.312Z"
   },
   {
    "duration": 0,
    "start_time": "2023-10-01T02:06:04.314Z"
   },
   {
    "duration": 0,
    "start_time": "2023-10-01T02:06:04.316Z"
   },
   {
    "duration": 0,
    "start_time": "2023-10-01T02:06:04.317Z"
   },
   {
    "duration": 1,
    "start_time": "2023-10-01T02:06:04.318Z"
   },
   {
    "duration": 0,
    "start_time": "2023-10-01T02:06:04.320Z"
   },
   {
    "duration": 0,
    "start_time": "2023-10-01T02:06:04.321Z"
   },
   {
    "duration": 94,
    "start_time": "2023-10-01T02:06:21.951Z"
   },
   {
    "duration": 92,
    "start_time": "2023-10-01T02:07:22.850Z"
   },
   {
    "duration": 103,
    "start_time": "2023-10-01T02:07:34.751Z"
   },
   {
    "duration": 92,
    "start_time": "2023-10-01T02:07:51.073Z"
   },
   {
    "duration": 89,
    "start_time": "2023-10-01T02:09:07.643Z"
   },
   {
    "duration": 18,
    "start_time": "2023-10-01T02:09:11.475Z"
   },
   {
    "duration": 17,
    "start_time": "2023-10-01T02:10:04.045Z"
   },
   {
    "duration": 225,
    "start_time": "2023-10-01T02:11:00.426Z"
   },
   {
    "duration": 16,
    "start_time": "2023-10-01T02:11:09.148Z"
   },
   {
    "duration": 0,
    "start_time": "2023-10-01T02:16:07.077Z"
   },
   {
    "duration": 127,
    "start_time": "2023-10-01T02:16:07.460Z"
   },
   {
    "duration": 24,
    "start_time": "2023-10-01T02:16:47.597Z"
   },
   {
    "duration": 29,
    "start_time": "2023-10-01T02:17:17.986Z"
   },
   {
    "duration": 19,
    "start_time": "2023-10-01T02:17:41.016Z"
   },
   {
    "duration": 9,
    "start_time": "2023-10-01T02:18:21.057Z"
   },
   {
    "duration": 1502,
    "start_time": "2023-10-01T02:18:38.255Z"
   },
   {
    "duration": 1564,
    "start_time": "2023-10-01T02:18:44.428Z"
   },
   {
    "duration": 11,
    "start_time": "2023-10-01T02:19:03.340Z"
   },
   {
    "duration": 19,
    "start_time": "2023-10-01T02:19:07.479Z"
   },
   {
    "duration": 13,
    "start_time": "2023-10-01T02:19:14.243Z"
   },
   {
    "duration": 36,
    "start_time": "2023-10-01T02:19:54.679Z"
   },
   {
    "duration": 18,
    "start_time": "2023-10-01T02:20:02.337Z"
   },
   {
    "duration": 107,
    "start_time": "2023-10-01T02:20:46.734Z"
   },
   {
    "duration": 162,
    "start_time": "2023-10-01T02:20:57.480Z"
   },
   {
    "duration": 115,
    "start_time": "2023-10-01T02:21:06.651Z"
   },
   {
    "duration": 197,
    "start_time": "2023-10-01T02:21:14.231Z"
   },
   {
    "duration": 17,
    "start_time": "2023-10-01T02:21:19.526Z"
   },
   {
    "duration": 14,
    "start_time": "2023-10-01T02:21:47.975Z"
   },
   {
    "duration": 30,
    "start_time": "2023-10-01T02:22:00.497Z"
   },
   {
    "duration": 3,
    "start_time": "2023-10-01T02:22:17.319Z"
   },
   {
    "duration": 10,
    "start_time": "2023-10-01T02:24:57.162Z"
   },
   {
    "duration": 10,
    "start_time": "2023-10-01T02:25:06.075Z"
   },
   {
    "duration": 9,
    "start_time": "2023-10-01T02:25:17.635Z"
   },
   {
    "duration": 13,
    "start_time": "2023-10-01T02:25:25.607Z"
   },
   {
    "duration": 9,
    "start_time": "2023-10-01T02:25:37.478Z"
   },
   {
    "duration": 11,
    "start_time": "2023-10-01T02:26:18.815Z"
   },
   {
    "duration": 22,
    "start_time": "2023-10-01T02:26:33.771Z"
   },
   {
    "duration": 30,
    "start_time": "2023-10-01T02:27:07.281Z"
   },
   {
    "duration": 19,
    "start_time": "2023-10-01T02:28:20.973Z"
   },
   {
    "duration": 16,
    "start_time": "2023-10-01T02:31:47.920Z"
   },
   {
    "duration": 8,
    "start_time": "2023-10-01T02:32:51.315Z"
   },
   {
    "duration": 24,
    "start_time": "2023-10-01T02:33:05.190Z"
   },
   {
    "duration": 25,
    "start_time": "2023-10-01T02:33:27.039Z"
   },
   {
    "duration": 74,
    "start_time": "2023-10-01T02:34:53.041Z"
   },
   {
    "duration": 448,
    "start_time": "2023-10-01T02:35:19.117Z"
   },
   {
    "duration": 77,
    "start_time": "2023-10-01T02:35:19.567Z"
   },
   {
    "duration": 16,
    "start_time": "2023-10-01T02:35:19.646Z"
   },
   {
    "duration": 50,
    "start_time": "2023-10-01T02:35:19.664Z"
   },
   {
    "duration": 18,
    "start_time": "2023-10-01T02:35:19.716Z"
   },
   {
    "duration": 21,
    "start_time": "2023-10-01T02:35:19.736Z"
   },
   {
    "duration": 22,
    "start_time": "2023-10-01T02:35:19.759Z"
   },
   {
    "duration": 25,
    "start_time": "2023-10-01T02:35:19.783Z"
   },
   {
    "duration": 41,
    "start_time": "2023-10-01T02:35:19.813Z"
   },
   {
    "duration": 16,
    "start_time": "2023-10-01T02:35:19.857Z"
   },
   {
    "duration": 13,
    "start_time": "2023-10-01T02:35:19.875Z"
   },
   {
    "duration": 54,
    "start_time": "2023-10-01T02:35:19.890Z"
   },
   {
    "duration": 29,
    "start_time": "2023-10-01T02:35:19.946Z"
   },
   {
    "duration": 59,
    "start_time": "2023-10-01T02:35:19.977Z"
   },
   {
    "duration": 85,
    "start_time": "2023-10-01T02:35:20.038Z"
   },
   {
    "duration": 28,
    "start_time": "2023-10-01T02:35:20.125Z"
   },
   {
    "duration": 64,
    "start_time": "2023-10-01T02:35:20.154Z"
   },
   {
    "duration": 68,
    "start_time": "2023-10-01T02:35:20.220Z"
   },
   {
    "duration": 50,
    "start_time": "2023-10-01T02:35:20.290Z"
   },
   {
    "duration": 18,
    "start_time": "2023-10-01T02:35:20.342Z"
   },
   {
    "duration": 535,
    "start_time": "2023-10-01T02:35:20.362Z"
   },
   {
    "duration": 16,
    "start_time": "2023-10-01T02:35:20.902Z"
   },
   {
    "duration": 20,
    "start_time": "2023-10-01T02:35:20.920Z"
   },
   {
    "duration": 13,
    "start_time": "2023-10-01T02:35:20.942Z"
   },
   {
    "duration": 15,
    "start_time": "2023-10-01T02:35:20.956Z"
   },
   {
    "duration": 162,
    "start_time": "2023-10-01T02:35:20.973Z"
   },
   {
    "duration": 7,
    "start_time": "2023-10-01T02:35:21.137Z"
   },
   {
    "duration": 21,
    "start_time": "2023-10-01T02:35:21.149Z"
   },
   {
    "duration": 190,
    "start_time": "2023-10-01T02:35:21.172Z"
   },
   {
    "duration": 17,
    "start_time": "2023-10-01T02:35:21.364Z"
   },
   {
    "duration": 198,
    "start_time": "2023-10-01T02:35:21.383Z"
   },
   {
    "duration": 31,
    "start_time": "2023-10-01T02:35:21.582Z"
   },
   {
    "duration": 418,
    "start_time": "2023-10-01T02:35:21.614Z"
   },
   {
    "duration": 90,
    "start_time": "2023-10-01T02:35:22.035Z"
   },
   {
    "duration": 17,
    "start_time": "2023-10-01T02:35:22.126Z"
   },
   {
    "duration": 75,
    "start_time": "2023-10-01T02:35:22.145Z"
   },
   {
    "duration": 201,
    "start_time": "2023-10-01T02:35:22.221Z"
   },
   {
    "duration": 402,
    "start_time": "2023-10-01T02:35:22.423Z"
   },
   {
    "duration": 16,
    "start_time": "2023-10-01T02:35:22.827Z"
   },
   {
    "duration": 382,
    "start_time": "2023-10-01T02:35:22.845Z"
   },
   {
    "duration": 17,
    "start_time": "2023-10-01T02:35:23.228Z"
   },
   {
    "duration": 409,
    "start_time": "2023-10-01T02:35:23.247Z"
   },
   {
    "duration": 18,
    "start_time": "2023-10-01T02:35:23.709Z"
   },
   {
    "duration": 236,
    "start_time": "2023-10-01T02:35:23.729Z"
   },
   {
    "duration": 27,
    "start_time": "2023-10-01T02:35:23.966Z"
   },
   {
    "duration": 11,
    "start_time": "2023-10-01T02:35:24.010Z"
   },
   {
    "duration": 80,
    "start_time": "2023-10-01T02:35:24.022Z"
   },
   {
    "duration": 4,
    "start_time": "2023-10-01T02:35:24.114Z"
   },
   {
    "duration": 0,
    "start_time": "2023-10-01T02:35:24.120Z"
   },
   {
    "duration": 0,
    "start_time": "2023-10-01T02:35:24.121Z"
   },
   {
    "duration": 0,
    "start_time": "2023-10-01T02:35:24.122Z"
   },
   {
    "duration": 0,
    "start_time": "2023-10-01T02:35:24.123Z"
   },
   {
    "duration": 0,
    "start_time": "2023-10-01T02:35:24.124Z"
   },
   {
    "duration": 0,
    "start_time": "2023-10-01T02:35:24.125Z"
   },
   {
    "duration": 0,
    "start_time": "2023-10-01T02:35:24.126Z"
   },
   {
    "duration": 0,
    "start_time": "2023-10-01T02:35:24.127Z"
   },
   {
    "duration": 160,
    "start_time": "2023-10-01T02:40:28.195Z"
   },
   {
    "duration": 78,
    "start_time": "2023-10-01T02:41:29.817Z"
   },
   {
    "duration": 122,
    "start_time": "2023-10-01T02:41:33.826Z"
   },
   {
    "duration": 127,
    "start_time": "2023-10-01T02:41:40.530Z"
   },
   {
    "duration": 133,
    "start_time": "2023-10-01T02:42:43.224Z"
   },
   {
    "duration": 110,
    "start_time": "2023-10-01T02:42:56.897Z"
   },
   {
    "duration": 83,
    "start_time": "2023-10-01T02:43:09.281Z"
   },
   {
    "duration": 5,
    "start_time": "2023-10-01T02:43:51.296Z"
   },
   {
    "duration": 17,
    "start_time": "2023-10-01T02:43:55.782Z"
   },
   {
    "duration": 15,
    "start_time": "2023-10-01T02:44:02.864Z"
   },
   {
    "duration": 88,
    "start_time": "2023-10-01T02:44:23.924Z"
   },
   {
    "duration": 186,
    "start_time": "2023-10-01T02:44:38.354Z"
   },
   {
    "duration": 186,
    "start_time": "2023-10-01T02:45:01.680Z"
   },
   {
    "duration": 98,
    "start_time": "2023-10-01T02:45:05.129Z"
   },
   {
    "duration": 232,
    "start_time": "2023-10-01T02:45:11.869Z"
   },
   {
    "duration": 238,
    "start_time": "2023-10-01T02:45:27.073Z"
   },
   {
    "duration": 20,
    "start_time": "2023-10-01T02:45:46.245Z"
   },
   {
    "duration": 141,
    "start_time": "2023-10-01T02:45:54.514Z"
   },
   {
    "duration": 20,
    "start_time": "2023-10-01T02:45:54.974Z"
   },
   {
    "duration": 3,
    "start_time": "2023-10-01T02:46:08.193Z"
   },
   {
    "duration": 22,
    "start_time": "2023-10-01T02:46:08.645Z"
   },
   {
    "duration": 21,
    "start_time": "2023-10-01T02:46:25.846Z"
   },
   {
    "duration": 1420,
    "start_time": "2023-10-01T02:46:30.836Z"
   },
   {
    "duration": 1696,
    "start_time": "2023-10-01T02:46:48.537Z"
   },
   {
    "duration": 40,
    "start_time": "2023-10-01T02:47:13.324Z"
   },
   {
    "duration": 415,
    "start_time": "2023-10-01T02:54:10.329Z"
   },
   {
    "duration": 67,
    "start_time": "2023-10-01T02:54:10.746Z"
   },
   {
    "duration": 17,
    "start_time": "2023-10-01T02:54:10.815Z"
   },
   {
    "duration": 30,
    "start_time": "2023-10-01T02:54:10.834Z"
   },
   {
    "duration": 12,
    "start_time": "2023-10-01T02:54:10.866Z"
   },
   {
    "duration": 33,
    "start_time": "2023-10-01T02:54:10.880Z"
   },
   {
    "duration": 38,
    "start_time": "2023-10-01T02:54:10.915Z"
   },
   {
    "duration": 22,
    "start_time": "2023-10-01T02:54:10.954Z"
   },
   {
    "duration": 19,
    "start_time": "2023-10-01T02:54:10.978Z"
   },
   {
    "duration": 40,
    "start_time": "2023-10-01T02:54:10.999Z"
   },
   {
    "duration": 11,
    "start_time": "2023-10-01T02:54:11.040Z"
   },
   {
    "duration": 35,
    "start_time": "2023-10-01T02:54:11.052Z"
   },
   {
    "duration": 20,
    "start_time": "2023-10-01T02:54:11.089Z"
   },
   {
    "duration": 39,
    "start_time": "2023-10-01T02:54:11.110Z"
   },
   {
    "duration": 41,
    "start_time": "2023-10-01T02:54:11.151Z"
   },
   {
    "duration": 10,
    "start_time": "2023-10-01T02:54:11.193Z"
   },
   {
    "duration": 18,
    "start_time": "2023-10-01T02:54:11.205Z"
   },
   {
    "duration": 18,
    "start_time": "2023-10-01T02:54:11.225Z"
   },
   {
    "duration": 11,
    "start_time": "2023-10-01T02:54:11.245Z"
   },
   {
    "duration": 15,
    "start_time": "2023-10-01T02:54:11.258Z"
   },
   {
    "duration": 412,
    "start_time": "2023-10-01T02:54:11.275Z"
   },
   {
    "duration": 13,
    "start_time": "2023-10-01T02:54:11.689Z"
   },
   {
    "duration": 17,
    "start_time": "2023-10-01T02:54:11.703Z"
   },
   {
    "duration": 14,
    "start_time": "2023-10-01T02:54:11.721Z"
   },
   {
    "duration": 20,
    "start_time": "2023-10-01T02:54:11.737Z"
   },
   {
    "duration": 120,
    "start_time": "2023-10-01T02:54:11.759Z"
   },
   {
    "duration": 6,
    "start_time": "2023-10-01T02:54:11.881Z"
   },
   {
    "duration": 25,
    "start_time": "2023-10-01T02:54:11.900Z"
   },
   {
    "duration": 198,
    "start_time": "2023-10-01T02:54:11.927Z"
   },
   {
    "duration": 18,
    "start_time": "2023-10-01T02:54:12.127Z"
   },
   {
    "duration": 202,
    "start_time": "2023-10-01T02:54:12.147Z"
   },
   {
    "duration": 17,
    "start_time": "2023-10-01T02:54:12.351Z"
   },
   {
    "duration": 185,
    "start_time": "2023-10-01T02:54:12.370Z"
   },
   {
    "duration": 28,
    "start_time": "2023-10-01T02:54:12.557Z"
   },
   {
    "duration": 29,
    "start_time": "2023-10-01T02:54:12.587Z"
   },
   {
    "duration": 15,
    "start_time": "2023-10-01T02:54:12.618Z"
   },
   {
    "duration": 89,
    "start_time": "2023-10-01T02:54:12.634Z"
   },
   {
    "duration": 188,
    "start_time": "2023-10-01T02:54:12.725Z"
   },
   {
    "duration": 23,
    "start_time": "2023-10-01T02:54:12.915Z"
   },
   {
    "duration": 245,
    "start_time": "2023-10-01T02:54:12.940Z"
   },
   {
    "duration": 27,
    "start_time": "2023-10-01T02:54:13.186Z"
   },
   {
    "duration": 211,
    "start_time": "2023-10-01T02:54:13.215Z"
   },
   {
    "duration": 17,
    "start_time": "2023-10-01T02:54:13.428Z"
   },
   {
    "duration": 179,
    "start_time": "2023-10-01T02:54:13.446Z"
   },
   {
    "duration": 29,
    "start_time": "2023-10-01T02:54:13.626Z"
   },
   {
    "duration": 11,
    "start_time": "2023-10-01T02:54:13.656Z"
   },
   {
    "duration": 21,
    "start_time": "2023-10-01T02:54:13.668Z"
   },
   {
    "duration": 65,
    "start_time": "2023-10-01T02:54:13.691Z"
   },
   {
    "duration": 5,
    "start_time": "2023-10-01T02:54:13.759Z"
   },
   {
    "duration": 33,
    "start_time": "2023-10-01T02:54:13.765Z"
   },
   {
    "duration": 55,
    "start_time": "2023-10-01T02:54:13.799Z"
   },
   {
    "duration": 21,
    "start_time": "2023-10-01T02:54:13.855Z"
   },
   {
    "duration": 314,
    "start_time": "2023-10-01T02:54:13.878Z"
   },
   {
    "duration": 12,
    "start_time": "2023-10-01T02:54:14.193Z"
   },
   {
    "duration": 96,
    "start_time": "2023-10-01T02:54:14.206Z"
   },
   {
    "duration": 41,
    "start_time": "2023-10-01T02:56:51.065Z"
   },
   {
    "duration": 46,
    "start_time": "2023-10-01T02:57:12.449Z"
   },
   {
    "duration": 34,
    "start_time": "2023-10-01T02:57:21.675Z"
   },
   {
    "duration": 399,
    "start_time": "2023-10-01T02:57:28.028Z"
   },
   {
    "duration": 67,
    "start_time": "2023-10-01T02:57:28.429Z"
   },
   {
    "duration": 30,
    "start_time": "2023-10-01T02:57:28.498Z"
   },
   {
    "duration": 43,
    "start_time": "2023-10-01T02:57:28.530Z"
   },
   {
    "duration": 26,
    "start_time": "2023-10-01T02:57:28.575Z"
   },
   {
    "duration": 24,
    "start_time": "2023-10-01T02:57:28.603Z"
   },
   {
    "duration": 8,
    "start_time": "2023-10-01T02:57:28.629Z"
   },
   {
    "duration": 33,
    "start_time": "2023-10-01T02:57:28.639Z"
   },
   {
    "duration": 34,
    "start_time": "2023-10-01T02:57:28.674Z"
   },
   {
    "duration": 14,
    "start_time": "2023-10-01T02:57:28.711Z"
   },
   {
    "duration": 6,
    "start_time": "2023-10-01T02:57:28.727Z"
   },
   {
    "duration": 27,
    "start_time": "2023-10-01T02:57:28.735Z"
   },
   {
    "duration": 24,
    "start_time": "2023-10-01T02:57:28.763Z"
   },
   {
    "duration": 9,
    "start_time": "2023-10-01T02:57:28.789Z"
   },
   {
    "duration": 14,
    "start_time": "2023-10-01T02:57:28.800Z"
   },
   {
    "duration": 13,
    "start_time": "2023-10-01T02:57:28.815Z"
   },
   {
    "duration": 12,
    "start_time": "2023-10-01T02:57:28.830Z"
   },
   {
    "duration": 19,
    "start_time": "2023-10-01T02:57:28.844Z"
   },
   {
    "duration": 10,
    "start_time": "2023-10-01T02:57:28.865Z"
   },
   {
    "duration": 18,
    "start_time": "2023-10-01T02:57:28.877Z"
   },
   {
    "duration": 453,
    "start_time": "2023-10-01T02:57:28.896Z"
   },
   {
    "duration": 8,
    "start_time": "2023-10-01T02:57:29.402Z"
   },
   {
    "duration": 15,
    "start_time": "2023-10-01T02:57:29.411Z"
   },
   {
    "duration": 33,
    "start_time": "2023-10-01T02:57:29.428Z"
   },
   {
    "duration": 48,
    "start_time": "2023-10-01T02:57:29.463Z"
   },
   {
    "duration": 222,
    "start_time": "2023-10-01T02:57:29.513Z"
   },
   {
    "duration": 6,
    "start_time": "2023-10-01T02:57:29.737Z"
   },
   {
    "duration": 8,
    "start_time": "2023-10-01T02:57:29.801Z"
   },
   {
    "duration": 411,
    "start_time": "2023-10-01T02:57:29.811Z"
   },
   {
    "duration": 18,
    "start_time": "2023-10-01T02:57:30.224Z"
   },
   {
    "duration": 380,
    "start_time": "2023-10-01T02:57:30.243Z"
   },
   {
    "duration": 17,
    "start_time": "2023-10-01T02:57:30.625Z"
   },
   {
    "duration": 384,
    "start_time": "2023-10-01T02:57:30.644Z"
   },
   {
    "duration": 72,
    "start_time": "2023-10-01T02:57:31.030Z"
   },
   {
    "duration": 24,
    "start_time": "2023-10-01T02:57:31.104Z"
   },
   {
    "duration": 49,
    "start_time": "2023-10-01T02:57:31.130Z"
   },
   {
    "duration": 113,
    "start_time": "2023-10-01T02:57:31.181Z"
   },
   {
    "duration": 188,
    "start_time": "2023-10-01T02:57:31.296Z"
   },
   {
    "duration": 26,
    "start_time": "2023-10-01T02:57:31.486Z"
   },
   {
    "duration": 187,
    "start_time": "2023-10-01T02:57:31.514Z"
   },
   {
    "duration": 17,
    "start_time": "2023-10-01T02:57:31.703Z"
   },
   {
    "duration": 275,
    "start_time": "2023-10-01T02:57:31.722Z"
   },
   {
    "duration": 17,
    "start_time": "2023-10-01T02:57:32.001Z"
   },
   {
    "duration": 177,
    "start_time": "2023-10-01T02:57:32.020Z"
   },
   {
    "duration": 29,
    "start_time": "2023-10-01T02:57:32.202Z"
   },
   {
    "duration": 15,
    "start_time": "2023-10-01T02:57:32.233Z"
   },
   {
    "duration": 145,
    "start_time": "2023-10-01T02:57:32.250Z"
   },
   {
    "duration": 255,
    "start_time": "2023-10-01T02:57:32.397Z"
   },
   {
    "duration": 8,
    "start_time": "2023-10-01T02:57:32.654Z"
   },
   {
    "duration": 57,
    "start_time": "2023-10-01T02:57:32.664Z"
   },
   {
    "duration": 85,
    "start_time": "2023-10-01T02:57:32.723Z"
   },
   {
    "duration": 69,
    "start_time": "2023-10-01T02:57:32.810Z"
   },
   {
    "duration": 335,
    "start_time": "2023-10-01T02:57:32.880Z"
   },
   {
    "duration": 364,
    "start_time": "2023-10-01T02:57:33.216Z"
   },
   {
    "duration": 555,
    "start_time": "2023-10-01T02:57:33.582Z"
   },
   {
    "duration": 37,
    "start_time": "2023-10-01T02:57:53.596Z"
   },
   {
    "duration": 24,
    "start_time": "2023-10-01T02:57:59.647Z"
   },
   {
    "duration": 24,
    "start_time": "2023-10-01T02:58:43.491Z"
   },
   {
    "duration": 21,
    "start_time": "2023-10-01T02:58:56.835Z"
   },
   {
    "duration": 24,
    "start_time": "2023-10-01T02:59:02.947Z"
   },
   {
    "duration": 25,
    "start_time": "2023-10-01T02:59:13.581Z"
   },
   {
    "duration": 26,
    "start_time": "2023-10-01T02:59:16.942Z"
   },
   {
    "duration": 35,
    "start_time": "2023-10-01T02:59:35.768Z"
   },
   {
    "duration": 36,
    "start_time": "2023-10-01T02:59:44.706Z"
   },
   {
    "duration": 27,
    "start_time": "2023-10-01T03:00:35.539Z"
   },
   {
    "duration": 25,
    "start_time": "2023-10-01T03:00:51.799Z"
   },
   {
    "duration": 2265,
    "start_time": "2023-10-01T03:02:12.161Z"
   },
   {
    "duration": 422,
    "start_time": "2023-10-01T03:02:24.050Z"
   },
   {
    "duration": 75,
    "start_time": "2023-10-01T03:02:24.474Z"
   },
   {
    "duration": 20,
    "start_time": "2023-10-01T03:02:24.552Z"
   },
   {
    "duration": 36,
    "start_time": "2023-10-01T03:02:24.574Z"
   },
   {
    "duration": 51,
    "start_time": "2023-10-01T03:02:24.614Z"
   },
   {
    "duration": 51,
    "start_time": "2023-10-01T03:02:24.668Z"
   },
   {
    "duration": 32,
    "start_time": "2023-10-01T03:02:24.720Z"
   },
   {
    "duration": 38,
    "start_time": "2023-10-01T03:02:24.754Z"
   },
   {
    "duration": 48,
    "start_time": "2023-10-01T03:02:24.794Z"
   },
   {
    "duration": 27,
    "start_time": "2023-10-01T03:02:24.844Z"
   },
   {
    "duration": 21,
    "start_time": "2023-10-01T03:02:24.873Z"
   },
   {
    "duration": 36,
    "start_time": "2023-10-01T03:02:24.896Z"
   },
   {
    "duration": 43,
    "start_time": "2023-10-01T03:02:24.934Z"
   },
   {
    "duration": 23,
    "start_time": "2023-10-01T03:02:24.980Z"
   },
   {
    "duration": 37,
    "start_time": "2023-10-01T03:02:25.005Z"
   },
   {
    "duration": 41,
    "start_time": "2023-10-01T03:02:25.043Z"
   },
   {
    "duration": 22,
    "start_time": "2023-10-01T03:02:25.086Z"
   },
   {
    "duration": 32,
    "start_time": "2023-10-01T03:02:25.110Z"
   },
   {
    "duration": 45,
    "start_time": "2023-10-01T03:02:25.144Z"
   },
   {
    "duration": 34,
    "start_time": "2023-10-01T03:02:25.191Z"
   },
   {
    "duration": 452,
    "start_time": "2023-10-01T03:02:25.226Z"
   },
   {
    "duration": 7,
    "start_time": "2023-10-01T03:02:25.680Z"
   },
   {
    "duration": 41,
    "start_time": "2023-10-01T03:02:25.688Z"
   },
   {
    "duration": 68,
    "start_time": "2023-10-01T03:02:25.731Z"
   },
   {
    "duration": 38,
    "start_time": "2023-10-01T03:02:25.801Z"
   },
   {
    "duration": 313,
    "start_time": "2023-10-01T03:02:25.840Z"
   },
   {
    "duration": 140,
    "start_time": "2023-10-01T03:02:26.155Z"
   },
   {
    "duration": 174,
    "start_time": "2023-10-01T03:02:26.297Z"
   },
   {
    "duration": 181,
    "start_time": "2023-10-01T03:02:26.473Z"
   },
   {
    "duration": 17,
    "start_time": "2023-10-01T03:02:26.655Z"
   },
   {
    "duration": 174,
    "start_time": "2023-10-01T03:02:26.674Z"
   },
   {
    "duration": 18,
    "start_time": "2023-10-01T03:02:26.849Z"
   },
   {
    "duration": 225,
    "start_time": "2023-10-01T03:02:26.869Z"
   },
   {
    "duration": 26,
    "start_time": "2023-10-01T03:02:27.097Z"
   },
   {
    "duration": 59,
    "start_time": "2023-10-01T03:02:27.126Z"
   },
   {
    "duration": 27,
    "start_time": "2023-10-01T03:02:27.187Z"
   },
   {
    "duration": 87,
    "start_time": "2023-10-01T03:02:27.215Z"
   },
   {
    "duration": 171,
    "start_time": "2023-10-01T03:02:27.304Z"
   },
   {
    "duration": 26,
    "start_time": "2023-10-01T03:02:27.476Z"
   },
   {
    "duration": 160,
    "start_time": "2023-10-01T03:02:27.504Z"
   },
   {
    "duration": 16,
    "start_time": "2023-10-01T03:02:27.668Z"
   },
   {
    "duration": 213,
    "start_time": "2023-10-01T03:02:27.686Z"
   },
   {
    "duration": 17,
    "start_time": "2023-10-01T03:02:27.900Z"
   },
   {
    "duration": 177,
    "start_time": "2023-10-01T03:02:27.919Z"
   },
   {
    "duration": 27,
    "start_time": "2023-10-01T03:02:28.101Z"
   },
   {
    "duration": 65,
    "start_time": "2023-10-01T03:02:28.130Z"
   },
   {
    "duration": 290,
    "start_time": "2023-10-01T03:02:28.197Z"
   },
   {
    "duration": 1922,
    "start_time": "2023-10-01T03:02:28.489Z"
   },
   {
    "duration": 0,
    "start_time": "2023-10-01T03:02:30.413Z"
   },
   {
    "duration": 0,
    "start_time": "2023-10-01T03:02:30.415Z"
   },
   {
    "duration": 0,
    "start_time": "2023-10-01T03:02:30.416Z"
   },
   {
    "duration": 0,
    "start_time": "2023-10-01T03:02:30.418Z"
   },
   {
    "duration": 0,
    "start_time": "2023-10-01T03:02:30.419Z"
   },
   {
    "duration": 0,
    "start_time": "2023-10-01T03:02:30.421Z"
   },
   {
    "duration": 0,
    "start_time": "2023-10-01T03:02:30.423Z"
   },
   {
    "duration": 2077,
    "start_time": "2023-10-01T03:02:56.479Z"
   },
   {
    "duration": 36,
    "start_time": "2023-10-01T03:03:05.388Z"
   },
   {
    "duration": 44,
    "start_time": "2023-10-01T03:03:23.289Z"
   },
   {
    "duration": 46,
    "start_time": "2023-10-01T03:03:45.732Z"
   },
   {
    "duration": 104,
    "start_time": "2023-10-01T03:04:03.730Z"
   },
   {
    "duration": 40,
    "start_time": "2023-10-01T03:04:27.121Z"
   },
   {
    "duration": 29,
    "start_time": "2023-10-01T03:06:38.731Z"
   },
   {
    "duration": 37,
    "start_time": "2023-10-01T03:06:43.308Z"
   },
   {
    "duration": 40,
    "start_time": "2023-10-01T03:06:50.698Z"
   },
   {
    "duration": 37,
    "start_time": "2023-10-01T03:07:04.800Z"
   },
   {
    "duration": 33,
    "start_time": "2023-10-01T03:07:12.295Z"
   },
   {
    "duration": 34,
    "start_time": "2023-10-01T03:07:32.758Z"
   },
   {
    "duration": 433,
    "start_time": "2023-10-01T03:07:44.983Z"
   },
   {
    "duration": 69,
    "start_time": "2023-10-01T03:07:45.418Z"
   },
   {
    "duration": 16,
    "start_time": "2023-10-01T03:07:45.498Z"
   },
   {
    "duration": 15,
    "start_time": "2023-10-01T03:07:46.990Z"
   },
   {
    "duration": 24,
    "start_time": "2023-10-01T03:07:47.007Z"
   },
   {
    "duration": 18,
    "start_time": "2023-10-01T03:07:47.032Z"
   },
   {
    "duration": 9,
    "start_time": "2023-10-01T03:07:47.052Z"
   },
   {
    "duration": 11,
    "start_time": "2023-10-01T03:07:47.267Z"
   },
   {
    "duration": 8,
    "start_time": "2023-10-01T03:07:47.503Z"
   },
   {
    "duration": 11,
    "start_time": "2023-10-01T03:07:47.603Z"
   },
   {
    "duration": 5,
    "start_time": "2023-10-01T03:07:49.171Z"
   },
   {
    "duration": 9,
    "start_time": "2023-10-01T03:07:49.454Z"
   },
   {
    "duration": 6,
    "start_time": "2023-10-01T03:07:49.691Z"
   },
   {
    "duration": 6,
    "start_time": "2023-10-01T03:07:50.081Z"
   },
   {
    "duration": 13,
    "start_time": "2023-10-01T03:07:50.465Z"
   },
   {
    "duration": 19,
    "start_time": "2023-10-01T03:07:50.480Z"
   },
   {
    "duration": 9,
    "start_time": "2023-10-01T03:07:50.518Z"
   },
   {
    "duration": 6,
    "start_time": "2023-10-01T03:07:50.708Z"
   },
   {
    "duration": 7,
    "start_time": "2023-10-01T03:07:51.119Z"
   },
   {
    "duration": 8,
    "start_time": "2023-10-01T03:07:51.993Z"
   },
   {
    "duration": 396,
    "start_time": "2023-10-01T03:07:52.508Z"
   },
   {
    "duration": 7,
    "start_time": "2023-10-01T03:07:52.906Z"
   },
   {
    "duration": 92,
    "start_time": "2023-10-01T03:07:53.069Z"
   },
   {
    "duration": 9,
    "start_time": "2023-10-01T03:07:53.190Z"
   },
   {
    "duration": 7,
    "start_time": "2023-10-01T03:07:53.323Z"
   },
   {
    "duration": 116,
    "start_time": "2023-10-01T03:07:53.825Z"
   },
   {
    "duration": 8,
    "start_time": "2023-10-01T03:07:54.160Z"
   },
   {
    "duration": 11,
    "start_time": "2023-10-01T03:07:54.538Z"
   },
   {
    "duration": 169,
    "start_time": "2023-10-01T03:07:54.646Z"
   },
   {
    "duration": 18,
    "start_time": "2023-10-01T03:07:54.874Z"
   },
   {
    "duration": 161,
    "start_time": "2023-10-01T03:07:55.102Z"
   },
   {
    "duration": 17,
    "start_time": "2023-10-01T03:07:55.320Z"
   },
   {
    "duration": 175,
    "start_time": "2023-10-01T03:07:55.378Z"
   },
   {
    "duration": 23,
    "start_time": "2023-10-01T03:07:55.871Z"
   },
   {
    "duration": 17,
    "start_time": "2023-10-01T03:07:56.121Z"
   },
   {
    "duration": 16,
    "start_time": "2023-10-01T03:07:56.333Z"
   },
   {
    "duration": 18,
    "start_time": "2023-10-01T03:07:56.619Z"
   },
   {
    "duration": 226,
    "start_time": "2023-10-01T03:07:56.777Z"
   },
   {
    "duration": 18,
    "start_time": "2023-10-01T03:07:57.246Z"
   },
   {
    "duration": 169,
    "start_time": "2023-10-01T03:07:57.266Z"
   },
   {
    "duration": 18,
    "start_time": "2023-10-01T03:07:57.463Z"
   },
   {
    "duration": 269,
    "start_time": "2023-10-01T03:07:57.578Z"
   },
   {
    "duration": 16,
    "start_time": "2023-10-01T03:07:57.849Z"
   },
   {
    "duration": 149,
    "start_time": "2023-10-01T03:07:58.139Z"
   },
   {
    "duration": 30,
    "start_time": "2023-10-01T03:07:59.169Z"
   },
   {
    "duration": 11,
    "start_time": "2023-10-01T03:08:01.385Z"
   },
   {
    "duration": 3,
    "start_time": "2023-10-01T03:08:03.158Z"
   },
   {
    "duration": 38,
    "start_time": "2023-10-01T03:08:04.328Z"
   },
   {
    "duration": 35,
    "start_time": "2023-10-01T03:08:13.209Z"
   },
   {
    "duration": 92,
    "start_time": "2023-10-01T03:08:46.686Z"
   },
   {
    "duration": 39,
    "start_time": "2023-10-01T03:08:57.670Z"
   },
   {
    "duration": 28,
    "start_time": "2023-10-01T03:09:05.346Z"
   },
   {
    "duration": 48,
    "start_time": "2023-10-01T03:09:22.991Z"
   },
   {
    "duration": 440,
    "start_time": "2023-10-01T03:11:16.885Z"
   },
   {
    "duration": 69,
    "start_time": "2023-10-01T03:11:17.327Z"
   },
   {
    "duration": 16,
    "start_time": "2023-10-01T03:11:17.397Z"
   },
   {
    "duration": 221,
    "start_time": "2023-10-01T03:11:17.415Z"
   },
   {
    "duration": 51,
    "start_time": "2023-10-01T03:11:17.638Z"
   },
   {
    "duration": 89,
    "start_time": "2023-10-01T03:11:17.691Z"
   },
   {
    "duration": 38,
    "start_time": "2023-10-01T03:11:17.782Z"
   },
   {
    "duration": 58,
    "start_time": "2023-10-01T03:11:17.823Z"
   },
   {
    "duration": 46,
    "start_time": "2023-10-01T03:11:17.883Z"
   },
   {
    "duration": 153,
    "start_time": "2023-10-01T03:11:17.932Z"
   },
   {
    "duration": 53,
    "start_time": "2023-10-01T03:11:18.087Z"
   },
   {
    "duration": 68,
    "start_time": "2023-10-01T03:11:18.142Z"
   },
   {
    "duration": 42,
    "start_time": "2023-10-01T03:11:18.212Z"
   },
   {
    "duration": 40,
    "start_time": "2023-10-01T03:11:18.256Z"
   },
   {
    "duration": 51,
    "start_time": "2023-10-01T03:11:18.298Z"
   },
   {
    "duration": 24,
    "start_time": "2023-10-01T03:11:18.351Z"
   },
   {
    "duration": 31,
    "start_time": "2023-10-01T03:11:18.377Z"
   },
   {
    "duration": 18,
    "start_time": "2023-10-01T03:11:18.409Z"
   },
   {
    "duration": 33,
    "start_time": "2023-10-01T03:11:18.429Z"
   },
   {
    "duration": 33,
    "start_time": "2023-10-01T03:11:18.464Z"
   },
   {
    "duration": 549,
    "start_time": "2023-10-01T03:11:18.499Z"
   },
   {
    "duration": 7,
    "start_time": "2023-10-01T03:11:19.050Z"
   },
   {
    "duration": 113,
    "start_time": "2023-10-01T03:11:19.058Z"
   },
   {
    "duration": 79,
    "start_time": "2023-10-01T03:11:19.172Z"
   },
   {
    "duration": 23,
    "start_time": "2023-10-01T03:11:19.253Z"
   },
   {
    "duration": 131,
    "start_time": "2023-10-01T03:11:19.278Z"
   },
   {
    "duration": 6,
    "start_time": "2023-10-01T03:11:19.411Z"
   },
   {
    "duration": 20,
    "start_time": "2023-10-01T03:11:19.420Z"
   },
   {
    "duration": 161,
    "start_time": "2023-10-01T03:11:19.441Z"
   },
   {
    "duration": 17,
    "start_time": "2023-10-01T03:11:19.604Z"
   },
   {
    "duration": 169,
    "start_time": "2023-10-01T03:11:19.623Z"
   },
   {
    "duration": 21,
    "start_time": "2023-10-01T03:11:19.794Z"
   },
   {
    "duration": 192,
    "start_time": "2023-10-01T03:11:19.817Z"
   },
   {
    "duration": 25,
    "start_time": "2023-10-01T03:11:20.011Z"
   },
   {
    "duration": 114,
    "start_time": "2023-10-01T03:11:20.038Z"
   },
   {
    "duration": 84,
    "start_time": "2023-10-01T03:11:20.153Z"
   },
   {
    "duration": 89,
    "start_time": "2023-10-01T03:11:20.239Z"
   },
   {
    "duration": 184,
    "start_time": "2023-10-01T03:11:20.330Z"
   },
   {
    "duration": 18,
    "start_time": "2023-10-01T03:11:20.515Z"
   },
   {
    "duration": 229,
    "start_time": "2023-10-01T03:11:20.535Z"
   },
   {
    "duration": 18,
    "start_time": "2023-10-01T03:11:20.766Z"
   },
   {
    "duration": 192,
    "start_time": "2023-10-01T03:11:20.801Z"
   },
   {
    "duration": 18,
    "start_time": "2023-10-01T03:11:21.000Z"
   },
   {
    "duration": 183,
    "start_time": "2023-10-01T03:11:21.020Z"
   },
   {
    "duration": 28,
    "start_time": "2023-10-01T03:11:21.205Z"
   },
   {
    "duration": 31,
    "start_time": "2023-10-01T03:11:21.236Z"
   },
   {
    "duration": 28,
    "start_time": "2023-10-01T03:11:21.270Z"
   },
   {
    "duration": 106,
    "start_time": "2023-10-01T03:11:21.300Z"
   },
   {
    "duration": 7,
    "start_time": "2023-10-01T03:11:21.408Z"
   },
   {
    "duration": 58,
    "start_time": "2023-10-01T03:11:21.417Z"
   },
   {
    "duration": 37,
    "start_time": "2023-10-01T03:11:21.477Z"
   },
   {
    "duration": 57,
    "start_time": "2023-10-01T03:11:21.516Z"
   },
   {
    "duration": 50,
    "start_time": "2023-10-01T03:11:21.575Z"
   },
   {
    "duration": 157,
    "start_time": "2023-10-01T03:11:21.627Z"
   },
   {
    "duration": 92,
    "start_time": "2023-10-01T03:11:21.786Z"
   },
   {
    "duration": 54,
    "start_time": "2023-10-01T03:44:41.057Z"
   },
   {
    "duration": 34,
    "start_time": "2023-10-01T03:45:08.214Z"
   },
   {
    "duration": 35,
    "start_time": "2023-10-01T03:45:21.833Z"
   },
   {
    "duration": 94,
    "start_time": "2023-10-01T03:45:32.253Z"
   },
   {
    "duration": 44,
    "start_time": "2023-10-01T03:45:39.818Z"
   },
   {
    "duration": 34,
    "start_time": "2023-10-01T03:45:45.454Z"
   },
   {
    "duration": 30,
    "start_time": "2023-10-01T03:46:15.008Z"
   },
   {
    "duration": 94,
    "start_time": "2023-10-01T03:46:20.060Z"
   },
   {
    "duration": 45,
    "start_time": "2023-10-01T03:46:41.137Z"
   },
   {
    "duration": 424,
    "start_time": "2023-10-01T03:48:30.320Z"
   },
   {
    "duration": 69,
    "start_time": "2023-10-01T03:48:30.746Z"
   },
   {
    "duration": 234,
    "start_time": "2023-10-01T03:48:30.817Z"
   },
   {
    "duration": 225,
    "start_time": "2023-10-01T03:48:31.052Z"
   },
   {
    "duration": 55,
    "start_time": "2023-10-01T03:48:31.279Z"
   },
   {
    "duration": 124,
    "start_time": "2023-10-01T03:48:31.336Z"
   },
   {
    "duration": 38,
    "start_time": "2023-10-01T03:48:31.462Z"
   },
   {
    "duration": 42,
    "start_time": "2023-10-01T03:48:31.501Z"
   },
   {
    "duration": 49,
    "start_time": "2023-10-01T03:48:31.545Z"
   },
   {
    "duration": 39,
    "start_time": "2023-10-01T03:48:31.596Z"
   },
   {
    "duration": 54,
    "start_time": "2023-10-01T03:48:31.637Z"
   },
   {
    "duration": 173,
    "start_time": "2023-10-01T03:48:31.693Z"
   },
   {
    "duration": 255,
    "start_time": "2023-10-01T03:48:31.868Z"
   },
   {
    "duration": 52,
    "start_time": "2023-10-01T03:48:32.126Z"
   },
   {
    "duration": 28,
    "start_time": "2023-10-01T03:48:32.180Z"
   },
   {
    "duration": 29,
    "start_time": "2023-10-01T03:48:32.210Z"
   },
   {
    "duration": 25,
    "start_time": "2023-10-01T03:48:32.241Z"
   },
   {
    "duration": 24,
    "start_time": "2023-10-01T03:48:32.268Z"
   },
   {
    "duration": 15,
    "start_time": "2023-10-01T03:48:32.294Z"
   },
   {
    "duration": 34,
    "start_time": "2023-10-01T03:48:32.311Z"
   },
   {
    "duration": 431,
    "start_time": "2023-10-01T03:48:32.347Z"
   },
   {
    "duration": 7,
    "start_time": "2023-10-01T03:48:32.779Z"
   },
   {
    "duration": 395,
    "start_time": "2023-10-01T03:48:32.788Z"
   },
   {
    "duration": 363,
    "start_time": "2023-10-01T03:48:33.185Z"
   },
   {
    "duration": 19,
    "start_time": "2023-10-01T03:48:33.550Z"
   },
   {
    "duration": 132,
    "start_time": "2023-10-01T03:48:33.570Z"
   },
   {
    "duration": 7,
    "start_time": "2023-10-01T03:48:33.705Z"
   },
   {
    "duration": 29,
    "start_time": "2023-10-01T03:48:33.713Z"
   },
   {
    "duration": 183,
    "start_time": "2023-10-01T03:48:33.744Z"
   },
   {
    "duration": 18,
    "start_time": "2023-10-01T03:48:33.929Z"
   },
   {
    "duration": 169,
    "start_time": "2023-10-01T03:48:33.949Z"
   },
   {
    "duration": 17,
    "start_time": "2023-10-01T03:48:34.120Z"
   },
   {
    "duration": 207,
    "start_time": "2023-10-01T03:48:34.139Z"
   },
   {
    "duration": 23,
    "start_time": "2023-10-01T03:48:34.348Z"
   },
   {
    "duration": 29,
    "start_time": "2023-10-01T03:48:34.373Z"
   },
   {
    "duration": 15,
    "start_time": "2023-10-01T03:48:34.404Z"
   },
   {
    "duration": 82,
    "start_time": "2023-10-01T03:48:34.421Z"
   },
   {
    "duration": 222,
    "start_time": "2023-10-01T03:48:34.504Z"
   },
   {
    "duration": 16,
    "start_time": "2023-10-01T03:48:34.728Z"
   },
   {
    "duration": 167,
    "start_time": "2023-10-01T03:48:34.746Z"
   },
   {
    "duration": 15,
    "start_time": "2023-10-01T03:48:34.917Z"
   },
   {
    "duration": 184,
    "start_time": "2023-10-01T03:48:34.934Z"
   },
   {
    "duration": 17,
    "start_time": "2023-10-01T03:48:35.120Z"
   },
   {
    "duration": 180,
    "start_time": "2023-10-01T03:48:35.138Z"
   },
   {
    "duration": 27,
    "start_time": "2023-10-01T03:48:35.319Z"
   },
   {
    "duration": 15,
    "start_time": "2023-10-01T03:48:35.348Z"
   },
   {
    "duration": 75,
    "start_time": "2023-10-01T03:48:35.365Z"
   },
   {
    "duration": 32,
    "start_time": "2023-10-01T03:48:35.441Z"
   },
   {
    "duration": 176,
    "start_time": "2023-10-01T03:48:35.474Z"
   },
   {
    "duration": 236,
    "start_time": "2023-10-01T03:48:35.652Z"
   },
   {
    "duration": 19,
    "start_time": "2023-10-01T03:48:35.889Z"
   },
   {
    "duration": 21,
    "start_time": "2023-10-01T03:48:35.910Z"
   },
   {
    "duration": 33,
    "start_time": "2023-10-01T03:48:35.933Z"
   },
   {
    "duration": 167,
    "start_time": "2023-10-01T03:48:35.967Z"
   },
   {
    "duration": 5,
    "start_time": "2023-10-01T03:50:03.979Z"
   },
   {
    "duration": 18,
    "start_time": "2023-10-01T03:52:09.944Z"
   },
   {
    "duration": 6,
    "start_time": "2023-10-01T03:53:32.188Z"
   },
   {
    "duration": 18,
    "start_time": "2023-10-01T03:55:16.162Z"
   },
   {
    "duration": 73,
    "start_time": "2023-10-01T03:55:32.577Z"
   },
   {
    "duration": 409,
    "start_time": "2023-10-01T03:55:47.702Z"
   },
   {
    "duration": 415,
    "start_time": "2023-10-01T03:57:07.562Z"
   },
   {
    "duration": 69,
    "start_time": "2023-10-01T03:57:07.979Z"
   },
   {
    "duration": 15,
    "start_time": "2023-10-01T03:57:08.050Z"
   },
   {
    "duration": 42,
    "start_time": "2023-10-01T03:57:08.066Z"
   },
   {
    "duration": 37,
    "start_time": "2023-10-01T03:57:08.111Z"
   },
   {
    "duration": 15,
    "start_time": "2023-10-01T03:57:08.150Z"
   },
   {
    "duration": 40,
    "start_time": "2023-10-01T03:57:08.167Z"
   },
   {
    "duration": 29,
    "start_time": "2023-10-01T03:57:08.209Z"
   },
   {
    "duration": 40,
    "start_time": "2023-10-01T03:57:08.239Z"
   },
   {
    "duration": 24,
    "start_time": "2023-10-01T03:57:08.281Z"
   },
   {
    "duration": 14,
    "start_time": "2023-10-01T03:57:08.307Z"
   },
   {
    "duration": 236,
    "start_time": "2023-10-01T03:57:08.323Z"
   },
   {
    "duration": 186,
    "start_time": "2023-10-01T03:57:08.561Z"
   },
   {
    "duration": 176,
    "start_time": "2023-10-01T03:57:08.749Z"
   },
   {
    "duration": 74,
    "start_time": "2023-10-01T03:57:08.927Z"
   },
   {
    "duration": 32,
    "start_time": "2023-10-01T03:57:09.002Z"
   },
   {
    "duration": 25,
    "start_time": "2023-10-01T03:57:09.036Z"
   },
   {
    "duration": 17,
    "start_time": "2023-10-01T03:57:09.063Z"
   },
   {
    "duration": 21,
    "start_time": "2023-10-01T03:57:09.082Z"
   },
   {
    "duration": 21,
    "start_time": "2023-10-01T03:57:09.104Z"
   },
   {
    "duration": 588,
    "start_time": "2023-10-01T03:57:09.127Z"
   },
   {
    "duration": 7,
    "start_time": "2023-10-01T03:57:09.717Z"
   },
   {
    "duration": 173,
    "start_time": "2023-10-01T03:57:09.726Z"
   },
   {
    "duration": 311,
    "start_time": "2023-10-01T03:57:09.901Z"
   },
   {
    "duration": 165,
    "start_time": "2023-10-01T03:57:10.214Z"
   },
   {
    "duration": 175,
    "start_time": "2023-10-01T03:57:10.381Z"
   },
   {
    "duration": 7,
    "start_time": "2023-10-01T03:57:10.558Z"
   },
   {
    "duration": 170,
    "start_time": "2023-10-01T03:57:10.567Z"
   },
   {
    "duration": 216,
    "start_time": "2023-10-01T03:57:10.739Z"
   },
   {
    "duration": 18,
    "start_time": "2023-10-01T03:57:10.957Z"
   },
   {
    "duration": 172,
    "start_time": "2023-10-01T03:57:10.976Z"
   },
   {
    "duration": 17,
    "start_time": "2023-10-01T03:57:11.150Z"
   },
   {
    "duration": 248,
    "start_time": "2023-10-01T03:57:11.168Z"
   },
   {
    "duration": 28,
    "start_time": "2023-10-01T03:57:11.417Z"
   },
   {
    "duration": 58,
    "start_time": "2023-10-01T03:57:11.446Z"
   },
   {
    "duration": 16,
    "start_time": "2023-10-01T03:57:11.506Z"
   },
   {
    "duration": 116,
    "start_time": "2023-10-01T03:57:11.523Z"
   },
   {
    "duration": 371,
    "start_time": "2023-10-01T03:57:11.641Z"
   },
   {
    "duration": 18,
    "start_time": "2023-10-01T03:57:12.014Z"
   },
   {
    "duration": 369,
    "start_time": "2023-10-01T03:57:12.034Z"
   },
   {
    "duration": 23,
    "start_time": "2023-10-01T03:57:12.407Z"
   },
   {
    "duration": 398,
    "start_time": "2023-10-01T03:57:12.432Z"
   },
   {
    "duration": 16,
    "start_time": "2023-10-01T03:57:12.832Z"
   },
   {
    "duration": 304,
    "start_time": "2023-10-01T03:57:12.902Z"
   },
   {
    "duration": 29,
    "start_time": "2023-10-01T03:57:13.208Z"
   },
   {
    "duration": 64,
    "start_time": "2023-10-01T03:57:13.238Z"
   },
   {
    "duration": 5,
    "start_time": "2023-10-01T03:57:13.304Z"
   },
   {
    "duration": 33,
    "start_time": "2023-10-01T03:57:13.310Z"
   },
   {
    "duration": 88,
    "start_time": "2023-10-01T03:57:13.345Z"
   },
   {
    "duration": 86,
    "start_time": "2023-10-01T03:57:13.435Z"
   },
   {
    "duration": 49,
    "start_time": "2023-10-01T03:57:13.523Z"
   },
   {
    "duration": 7,
    "start_time": "2023-10-01T03:57:13.574Z"
   },
   {
    "duration": 58,
    "start_time": "2023-10-01T03:57:13.582Z"
   },
   {
    "duration": 33,
    "start_time": "2023-10-01T03:57:13.641Z"
   },
   {
    "duration": 49,
    "start_time": "2023-10-01T03:57:13.676Z"
   },
   {
    "duration": 46,
    "start_time": "2023-10-01T03:57:13.726Z"
   },
   {
    "duration": 24,
    "start_time": "2023-10-01T03:57:13.773Z"
   },
   {
    "duration": 186,
    "start_time": "2023-10-01T03:57:13.799Z"
   },
   {
    "duration": 18,
    "start_time": "2023-10-01T03:58:35.485Z"
   },
   {
    "duration": 16,
    "start_time": "2023-10-01T03:59:55.131Z"
   },
   {
    "duration": 451,
    "start_time": "2023-10-01T04:00:13.072Z"
   },
   {
    "duration": 70,
    "start_time": "2023-10-01T04:00:13.525Z"
   },
   {
    "duration": 17,
    "start_time": "2023-10-01T04:00:13.597Z"
   },
   {
    "duration": 15,
    "start_time": "2023-10-01T04:00:13.616Z"
   },
   {
    "duration": 27,
    "start_time": "2023-10-01T04:00:13.632Z"
   },
   {
    "duration": 57,
    "start_time": "2023-10-01T04:00:13.661Z"
   },
   {
    "duration": 42,
    "start_time": "2023-10-01T04:00:13.719Z"
   },
   {
    "duration": 22,
    "start_time": "2023-10-01T04:00:13.763Z"
   },
   {
    "duration": 13,
    "start_time": "2023-10-01T04:00:13.787Z"
   },
   {
    "duration": 24,
    "start_time": "2023-10-01T04:00:13.803Z"
   },
   {
    "duration": 9,
    "start_time": "2023-10-01T04:00:13.829Z"
   },
   {
    "duration": 17,
    "start_time": "2023-10-01T04:00:13.839Z"
   },
   {
    "duration": 9,
    "start_time": "2023-10-01T04:00:13.858Z"
   },
   {
    "duration": 24,
    "start_time": "2023-10-01T04:00:13.869Z"
   },
   {
    "duration": 27,
    "start_time": "2023-10-01T04:00:13.895Z"
   },
   {
    "duration": 8,
    "start_time": "2023-10-01T04:00:13.924Z"
   },
   {
    "duration": 11,
    "start_time": "2023-10-01T04:00:13.938Z"
   },
   {
    "duration": 7,
    "start_time": "2023-10-01T04:00:13.951Z"
   },
   {
    "duration": 23,
    "start_time": "2023-10-01T04:00:13.960Z"
   },
   {
    "duration": 31,
    "start_time": "2023-10-01T04:00:13.985Z"
   },
   {
    "duration": 433,
    "start_time": "2023-10-01T04:00:14.018Z"
   },
   {
    "duration": 6,
    "start_time": "2023-10-01T04:00:14.453Z"
   },
   {
    "duration": 22,
    "start_time": "2023-10-01T04:00:14.461Z"
   },
   {
    "duration": 10,
    "start_time": "2023-10-01T04:00:14.485Z"
   },
   {
    "duration": 21,
    "start_time": "2023-10-01T04:00:14.500Z"
   },
   {
    "duration": 160,
    "start_time": "2023-10-01T04:00:14.523Z"
   },
   {
    "duration": 8,
    "start_time": "2023-10-01T04:00:14.685Z"
   },
   {
    "duration": 11,
    "start_time": "2023-10-01T04:00:14.705Z"
   },
   {
    "duration": 178,
    "start_time": "2023-10-01T04:00:14.718Z"
   },
   {
    "duration": 18,
    "start_time": "2023-10-01T04:00:14.899Z"
   },
   {
    "duration": 198,
    "start_time": "2023-10-01T04:00:14.919Z"
   },
   {
    "duration": 16,
    "start_time": "2023-10-01T04:00:15.119Z"
   },
   {
    "duration": 208,
    "start_time": "2023-10-01T04:00:15.137Z"
   },
   {
    "duration": 33,
    "start_time": "2023-10-01T04:00:15.347Z"
   },
   {
    "duration": 68,
    "start_time": "2023-10-01T04:00:15.386Z"
   },
   {
    "duration": 33,
    "start_time": "2023-10-01T04:00:15.455Z"
   },
   {
    "duration": 80,
    "start_time": "2023-10-01T04:00:15.490Z"
   },
   {
    "duration": 178,
    "start_time": "2023-10-01T04:00:15.572Z"
   },
   {
    "duration": 16,
    "start_time": "2023-10-01T04:00:15.752Z"
   },
   {
    "duration": 258,
    "start_time": "2023-10-01T04:00:15.770Z"
   },
   {
    "duration": 17,
    "start_time": "2023-10-01T04:00:16.030Z"
   },
   {
    "duration": 330,
    "start_time": "2023-10-01T04:00:16.102Z"
   },
   {
    "duration": 68,
    "start_time": "2023-10-01T04:00:16.434Z"
   },
   {
    "duration": 416,
    "start_time": "2023-10-01T04:00:16.504Z"
   },
   {
    "duration": 80,
    "start_time": "2023-10-01T04:00:16.921Z"
   },
   {
    "duration": 99,
    "start_time": "2023-10-01T04:00:17.003Z"
   },
   {
    "duration": 7,
    "start_time": "2023-10-01T04:00:17.104Z"
   },
   {
    "duration": 36,
    "start_time": "2023-10-01T04:00:17.113Z"
   },
   {
    "duration": 62,
    "start_time": "2023-10-01T04:00:17.151Z"
   },
   {
    "duration": 31,
    "start_time": "2023-10-01T04:00:17.214Z"
   },
   {
    "duration": 66,
    "start_time": "2023-10-01T04:00:17.247Z"
   },
   {
    "duration": 18,
    "start_time": "2023-10-01T04:00:17.315Z"
   },
   {
    "duration": 4,
    "start_time": "2023-10-01T04:00:17.334Z"
   },
   {
    "duration": 65,
    "start_time": "2023-10-01T04:00:17.340Z"
   },
   {
    "duration": 36,
    "start_time": "2023-10-01T04:00:17.407Z"
   },
   {
    "duration": 31,
    "start_time": "2023-10-01T04:00:17.445Z"
   },
   {
    "duration": 23,
    "start_time": "2023-10-01T04:00:17.478Z"
   },
   {
    "duration": 19,
    "start_time": "2023-10-01T04:00:17.503Z"
   },
   {
    "duration": 157,
    "start_time": "2023-10-01T04:00:17.524Z"
   },
   {
    "duration": 156,
    "start_time": "2023-10-01T04:03:23.869Z"
   },
   {
    "duration": 142,
    "start_time": "2023-10-01T04:07:06.933Z"
   },
   {
    "duration": 116,
    "start_time": "2023-10-01T04:07:19.314Z"
   },
   {
    "duration": 209,
    "start_time": "2023-10-01T04:08:43.204Z"
   },
   {
    "duration": 159,
    "start_time": "2023-10-01T04:09:02.112Z"
   },
   {
    "duration": 152,
    "start_time": "2023-10-01T04:09:31.852Z"
   },
   {
    "duration": 4,
    "start_time": "2023-10-01T04:10:11.657Z"
   },
   {
    "duration": 4,
    "start_time": "2023-10-01T04:10:11.942Z"
   },
   {
    "duration": 143,
    "start_time": "2023-10-01T04:13:26.213Z"
   },
   {
    "duration": 6,
    "start_time": "2023-10-01T04:13:53.023Z"
   },
   {
    "duration": 144,
    "start_time": "2023-10-01T04:14:09.167Z"
   },
   {
    "duration": 196,
    "start_time": "2023-10-01T04:16:18.253Z"
   },
   {
    "duration": 224,
    "start_time": "2023-10-01T04:16:51.116Z"
   },
   {
    "duration": 160,
    "start_time": "2023-10-01T04:16:59.196Z"
   },
   {
    "duration": 154,
    "start_time": "2023-10-01T04:17:17.870Z"
   },
   {
    "duration": 169,
    "start_time": "2023-10-01T04:18:40.212Z"
   },
   {
    "duration": 581,
    "start_time": "2023-10-01T04:26:35.622Z"
   },
   {
    "duration": 6,
    "start_time": "2023-10-01T04:26:45.377Z"
   },
   {
    "duration": 141,
    "start_time": "2023-10-01T04:30:24.789Z"
   },
   {
    "duration": 140,
    "start_time": "2023-10-01T04:30:36.048Z"
   },
   {
    "duration": 165,
    "start_time": "2023-10-01T04:30:50.603Z"
   },
   {
    "duration": 146,
    "start_time": "2023-10-01T04:32:26.821Z"
   },
   {
    "duration": 147,
    "start_time": "2023-10-01T04:38:17.084Z"
   },
   {
    "duration": 452,
    "start_time": "2023-10-01T04:40:51.720Z"
   },
   {
    "duration": 77,
    "start_time": "2023-10-01T04:40:52.174Z"
   },
   {
    "duration": 41,
    "start_time": "2023-10-01T04:40:52.423Z"
   },
   {
    "duration": 54,
    "start_time": "2023-10-01T04:40:52.466Z"
   },
   {
    "duration": 23,
    "start_time": "2023-10-01T04:40:52.523Z"
   },
   {
    "duration": 18,
    "start_time": "2023-10-01T04:40:52.547Z"
   },
   {
    "duration": 37,
    "start_time": "2023-10-01T04:40:52.567Z"
   },
   {
    "duration": 10,
    "start_time": "2023-10-01T04:40:52.606Z"
   },
   {
    "duration": 33,
    "start_time": "2023-10-01T04:40:52.621Z"
   },
   {
    "duration": 17,
    "start_time": "2023-10-01T04:40:52.656Z"
   },
   {
    "duration": 6,
    "start_time": "2023-10-01T04:40:52.675Z"
   },
   {
    "duration": 33,
    "start_time": "2023-10-01T04:40:52.682Z"
   },
   {
    "duration": 13,
    "start_time": "2023-10-01T04:40:52.717Z"
   },
   {
    "duration": 22,
    "start_time": "2023-10-01T04:40:52.732Z"
   },
   {
    "duration": 56,
    "start_time": "2023-10-01T04:40:52.756Z"
   },
   {
    "duration": 454,
    "start_time": "2023-10-01T04:40:52.814Z"
   },
   {
    "duration": 7,
    "start_time": "2023-10-01T04:40:53.270Z"
   },
   {
    "duration": 39,
    "start_time": "2023-10-01T04:40:53.279Z"
   },
   {
    "duration": 14,
    "start_time": "2023-10-01T04:40:53.320Z"
   },
   {
    "duration": 41,
    "start_time": "2023-10-01T04:40:53.335Z"
   },
   {
    "duration": 155,
    "start_time": "2023-10-01T04:40:53.378Z"
   },
   {
    "duration": 7,
    "start_time": "2023-10-01T04:40:53.535Z"
   },
   {
    "duration": 34,
    "start_time": "2023-10-01T04:40:53.543Z"
   },
   {
    "duration": 173,
    "start_time": "2023-10-01T04:40:53.579Z"
   },
   {
    "duration": 18,
    "start_time": "2023-10-01T04:40:53.754Z"
   },
   {
    "duration": 222,
    "start_time": "2023-10-01T04:40:53.774Z"
   },
   {
    "duration": 24,
    "start_time": "2023-10-01T04:40:54.005Z"
   },
   {
    "duration": 223,
    "start_time": "2023-10-01T04:40:54.031Z"
   },
   {
    "duration": 29,
    "start_time": "2023-10-01T04:40:54.256Z"
   },
   {
    "duration": 37,
    "start_time": "2023-10-01T04:40:54.287Z"
   },
   {
    "duration": 23,
    "start_time": "2023-10-01T04:40:54.326Z"
   },
   {
    "duration": 102,
    "start_time": "2023-10-01T04:40:54.350Z"
   },
   {
    "duration": 237,
    "start_time": "2023-10-01T04:40:54.454Z"
   },
   {
    "duration": 32,
    "start_time": "2023-10-01T04:40:54.693Z"
   },
   {
    "duration": 197,
    "start_time": "2023-10-01T04:40:54.730Z"
   },
   {
    "duration": 17,
    "start_time": "2023-10-01T04:40:54.931Z"
   },
   {
    "duration": 230,
    "start_time": "2023-10-01T04:40:54.949Z"
   },
   {
    "duration": 26,
    "start_time": "2023-10-01T04:40:55.181Z"
   },
   {
    "duration": 169,
    "start_time": "2023-10-01T04:40:55.209Z"
   },
   {
    "duration": 35,
    "start_time": "2023-10-01T04:40:55.380Z"
   },
   {
    "duration": 12,
    "start_time": "2023-10-01T04:40:55.417Z"
   },
   {
    "duration": 63,
    "start_time": "2023-10-01T04:40:55.431Z"
   },
   {
    "duration": 49,
    "start_time": "2023-10-01T04:40:55.495Z"
   },
   {
    "duration": 56,
    "start_time": "2023-10-01T04:40:55.546Z"
   },
   {
    "duration": 47,
    "start_time": "2023-10-01T04:40:55.603Z"
   },
   {
    "duration": 39,
    "start_time": "2023-10-01T04:40:55.651Z"
   },
   {
    "duration": 29,
    "start_time": "2023-10-01T04:40:55.692Z"
   },
   {
    "duration": 5,
    "start_time": "2023-10-01T04:40:55.722Z"
   },
   {
    "duration": 46,
    "start_time": "2023-10-01T04:40:55.728Z"
   },
   {
    "duration": 192,
    "start_time": "2023-10-01T04:40:55.775Z"
   },
   {
    "duration": 8,
    "start_time": "2023-10-01T04:40:55.968Z"
   },
   {
    "duration": 176,
    "start_time": "2023-10-01T04:40:55.977Z"
   },
   {
    "duration": 521,
    "start_time": "2023-10-01T04:40:56.155Z"
   },
   {
    "duration": 177,
    "start_time": "2023-10-01T04:40:56.678Z"
   },
   {
    "duration": 448,
    "start_time": "2023-10-01T04:41:04.519Z"
   },
   {
    "duration": 74,
    "start_time": "2023-10-01T04:41:04.969Z"
   },
   {
    "duration": 16,
    "start_time": "2023-10-01T04:41:05.044Z"
   },
   {
    "duration": 25,
    "start_time": "2023-10-01T04:41:05.062Z"
   },
   {
    "duration": 20,
    "start_time": "2023-10-01T04:41:05.089Z"
   },
   {
    "duration": 20,
    "start_time": "2023-10-01T04:41:05.111Z"
   },
   {
    "duration": 7,
    "start_time": "2023-10-01T04:41:05.133Z"
   },
   {
    "duration": 41,
    "start_time": "2023-10-01T04:41:05.142Z"
   },
   {
    "duration": 71,
    "start_time": "2023-10-01T04:41:05.185Z"
   },
   {
    "duration": 53,
    "start_time": "2023-10-01T04:41:05.259Z"
   },
   {
    "duration": 36,
    "start_time": "2023-10-01T04:41:05.314Z"
   },
   {
    "duration": 51,
    "start_time": "2023-10-01T04:41:05.352Z"
   },
   {
    "duration": 47,
    "start_time": "2023-10-01T04:41:05.405Z"
   },
   {
    "duration": 49,
    "start_time": "2023-10-01T04:41:05.454Z"
   },
   {
    "duration": 42,
    "start_time": "2023-10-01T04:41:05.505Z"
   },
   {
    "duration": 16,
    "start_time": "2023-10-01T04:41:05.549Z"
   },
   {
    "duration": 39,
    "start_time": "2023-10-01T04:41:05.567Z"
   },
   {
    "duration": 11,
    "start_time": "2023-10-01T04:41:05.608Z"
   },
   {
    "duration": 36,
    "start_time": "2023-10-01T04:41:05.621Z"
   },
   {
    "duration": 52,
    "start_time": "2023-10-01T04:41:05.659Z"
   },
   {
    "duration": 519,
    "start_time": "2023-10-01T04:41:05.713Z"
   },
   {
    "duration": 7,
    "start_time": "2023-10-01T04:41:06.234Z"
   },
   {
    "duration": 40,
    "start_time": "2023-10-01T04:41:06.243Z"
   },
   {
    "duration": 55,
    "start_time": "2023-10-01T04:41:06.285Z"
   },
   {
    "duration": 56,
    "start_time": "2023-10-01T04:41:06.342Z"
   },
   {
    "duration": 165,
    "start_time": "2023-10-01T04:41:06.399Z"
   },
   {
    "duration": 10,
    "start_time": "2023-10-01T04:41:06.566Z"
   },
   {
    "duration": 32,
    "start_time": "2023-10-01T04:41:06.581Z"
   },
   {
    "duration": 197,
    "start_time": "2023-10-01T04:41:06.614Z"
   },
   {
    "duration": 18,
    "start_time": "2023-10-01T04:41:06.813Z"
   },
   {
    "duration": 186,
    "start_time": "2023-10-01T04:41:06.832Z"
   },
   {
    "duration": 17,
    "start_time": "2023-10-01T04:41:07.020Z"
   },
   {
    "duration": 184,
    "start_time": "2023-10-01T04:41:07.039Z"
   },
   {
    "duration": 25,
    "start_time": "2023-10-01T04:41:07.225Z"
   },
   {
    "duration": 18,
    "start_time": "2023-10-01T04:41:07.252Z"
   },
   {
    "duration": 60,
    "start_time": "2023-10-01T04:41:07.272Z"
   },
   {
    "duration": 76,
    "start_time": "2023-10-01T04:41:07.334Z"
   },
   {
    "duration": 184,
    "start_time": "2023-10-01T04:41:07.412Z"
   },
   {
    "duration": 20,
    "start_time": "2023-10-01T04:41:07.598Z"
   },
   {
    "duration": 181,
    "start_time": "2023-10-01T04:41:07.620Z"
   },
   {
    "duration": 17,
    "start_time": "2023-10-01T04:41:07.804Z"
   },
   {
    "duration": 218,
    "start_time": "2023-10-01T04:41:07.823Z"
   },
   {
    "duration": 16,
    "start_time": "2023-10-01T04:41:08.043Z"
   },
   {
    "duration": 179,
    "start_time": "2023-10-01T04:41:08.061Z"
   },
   {
    "duration": 27,
    "start_time": "2023-10-01T04:41:08.242Z"
   },
   {
    "duration": 10,
    "start_time": "2023-10-01T04:41:08.271Z"
   },
   {
    "duration": 21,
    "start_time": "2023-10-01T04:41:08.282Z"
   },
   {
    "duration": 32,
    "start_time": "2023-10-01T04:41:08.305Z"
   },
   {
    "duration": 19,
    "start_time": "2023-10-01T04:41:08.339Z"
   },
   {
    "duration": 41,
    "start_time": "2023-10-01T04:41:08.359Z"
   },
   {
    "duration": 34,
    "start_time": "2023-10-01T04:41:08.402Z"
   },
   {
    "duration": 19,
    "start_time": "2023-10-01T04:41:08.438Z"
   },
   {
    "duration": 5,
    "start_time": "2023-10-01T04:41:08.459Z"
   },
   {
    "duration": 25,
    "start_time": "2023-10-01T04:41:08.465Z"
   },
   {
    "duration": 213,
    "start_time": "2023-10-01T04:41:08.492Z"
   },
   {
    "duration": 14,
    "start_time": "2023-10-01T04:41:08.707Z"
   },
   {
    "duration": 185,
    "start_time": "2023-10-01T04:41:08.723Z"
   },
   {
    "duration": 475,
    "start_time": "2023-10-01T04:41:08.910Z"
   },
   {
    "duration": 182,
    "start_time": "2023-10-01T04:41:09.386Z"
   },
   {
    "duration": 196,
    "start_time": "2023-10-01T04:42:22.951Z"
   },
   {
    "duration": 126,
    "start_time": "2023-10-01T04:46:15.634Z"
   },
   {
    "duration": 15,
    "start_time": "2023-10-01T04:46:49.402Z"
   },
   {
    "duration": 13,
    "start_time": "2023-10-01T04:52:01.441Z"
   },
   {
    "duration": 13,
    "start_time": "2023-10-01T04:52:15.672Z"
   },
   {
    "duration": 13,
    "start_time": "2023-10-01T04:54:17.021Z"
   },
   {
    "duration": 455,
    "start_time": "2023-10-01T05:03:00.315Z"
   },
   {
    "duration": 73,
    "start_time": "2023-10-01T05:03:00.772Z"
   },
   {
    "duration": 119,
    "start_time": "2023-10-01T05:03:00.846Z"
   },
   {
    "duration": 51,
    "start_time": "2023-10-01T05:03:00.967Z"
   },
   {
    "duration": 85,
    "start_time": "2023-10-01T05:03:01.020Z"
   },
   {
    "duration": 91,
    "start_time": "2023-10-01T05:03:01.107Z"
   },
   {
    "duration": 57,
    "start_time": "2023-10-01T05:03:01.200Z"
   },
   {
    "duration": 215,
    "start_time": "2023-10-01T05:03:01.259Z"
   },
   {
    "duration": 292,
    "start_time": "2023-10-01T05:03:01.475Z"
   },
   {
    "duration": 117,
    "start_time": "2023-10-01T05:03:01.771Z"
   },
   {
    "duration": 204,
    "start_time": "2023-10-01T05:03:01.890Z"
   },
   {
    "duration": 41,
    "start_time": "2023-10-01T05:03:02.095Z"
   },
   {
    "duration": 68,
    "start_time": "2023-10-01T05:03:02.137Z"
   },
   {
    "duration": 77,
    "start_time": "2023-10-01T05:03:02.208Z"
   },
   {
    "duration": 73,
    "start_time": "2023-10-01T05:03:02.287Z"
   },
   {
    "duration": 37,
    "start_time": "2023-10-01T05:03:02.362Z"
   },
   {
    "duration": 88,
    "start_time": "2023-10-01T05:03:02.402Z"
   },
   {
    "duration": 50,
    "start_time": "2023-10-01T05:03:02.491Z"
   },
   {
    "duration": 36,
    "start_time": "2023-10-01T05:03:02.542Z"
   },
   {
    "duration": 30,
    "start_time": "2023-10-01T05:03:02.580Z"
   },
   {
    "duration": 499,
    "start_time": "2023-10-01T05:03:02.613Z"
   },
   {
    "duration": 8,
    "start_time": "2023-10-01T05:03:03.114Z"
   },
   {
    "duration": 43,
    "start_time": "2023-10-01T05:03:03.124Z"
   },
   {
    "duration": 40,
    "start_time": "2023-10-01T05:03:03.169Z"
   },
   {
    "duration": 203,
    "start_time": "2023-10-01T05:03:03.211Z"
   },
   {
    "duration": 262,
    "start_time": "2023-10-01T05:03:03.417Z"
   },
   {
    "duration": 6,
    "start_time": "2023-10-01T05:03:03.681Z"
   },
   {
    "duration": 17,
    "start_time": "2023-10-01T05:03:03.690Z"
   },
   {
    "duration": 182,
    "start_time": "2023-10-01T05:03:03.709Z"
   },
   {
    "duration": 24,
    "start_time": "2023-10-01T05:03:03.893Z"
   },
   {
    "duration": 210,
    "start_time": "2023-10-01T05:03:03.918Z"
   },
   {
    "duration": 19,
    "start_time": "2023-10-01T05:03:04.129Z"
   },
   {
    "duration": 222,
    "start_time": "2023-10-01T05:03:04.150Z"
   },
   {
    "duration": 33,
    "start_time": "2023-10-01T05:03:04.373Z"
   },
   {
    "duration": 86,
    "start_time": "2023-10-01T05:03:04.408Z"
   },
   {
    "duration": 50,
    "start_time": "2023-10-01T05:03:04.495Z"
   },
   {
    "duration": 96,
    "start_time": "2023-10-01T05:03:04.547Z"
   },
   {
    "duration": 214,
    "start_time": "2023-10-01T05:03:04.645Z"
   },
   {
    "duration": 18,
    "start_time": "2023-10-01T05:03:04.861Z"
   },
   {
    "duration": 176,
    "start_time": "2023-10-01T05:03:04.880Z"
   },
   {
    "duration": 17,
    "start_time": "2023-10-01T05:03:05.059Z"
   },
   {
    "duration": 203,
    "start_time": "2023-10-01T05:03:05.078Z"
   },
   {
    "duration": 32,
    "start_time": "2023-10-01T05:03:05.283Z"
   },
   {
    "duration": 154,
    "start_time": "2023-10-01T05:03:05.317Z"
   },
   {
    "duration": 37,
    "start_time": "2023-10-01T05:03:05.473Z"
   },
   {
    "duration": 12,
    "start_time": "2023-10-01T05:03:05.512Z"
   },
   {
    "duration": 30,
    "start_time": "2023-10-01T05:03:05.526Z"
   },
   {
    "duration": 30,
    "start_time": "2023-10-01T05:03:05.558Z"
   },
   {
    "duration": 25,
    "start_time": "2023-10-01T05:03:05.589Z"
   },
   {
    "duration": 43,
    "start_time": "2023-10-01T05:03:05.618Z"
   },
   {
    "duration": 16,
    "start_time": "2023-10-01T05:03:05.663Z"
   },
   {
    "duration": 43,
    "start_time": "2023-10-01T05:03:05.681Z"
   },
   {
    "duration": 5,
    "start_time": "2023-10-01T05:03:05.726Z"
   },
   {
    "duration": 58,
    "start_time": "2023-10-01T05:03:05.732Z"
   },
   {
    "duration": 175,
    "start_time": "2023-10-01T05:03:05.792Z"
   },
   {
    "duration": 9,
    "start_time": "2023-10-01T05:03:05.969Z"
   },
   {
    "duration": 181,
    "start_time": "2023-10-01T05:03:05.980Z"
   },
   {
    "duration": 785,
    "start_time": "2023-10-01T05:03:06.163Z"
   },
   {
    "duration": 401,
    "start_time": "2023-10-01T05:03:07.002Z"
   },
   {
    "duration": 15,
    "start_time": "2023-10-01T05:03:07.405Z"
   },
   {
    "duration": 455,
    "start_time": "2023-10-01T05:36:02.679Z"
   },
   {
    "duration": 69,
    "start_time": "2023-10-01T05:36:03.137Z"
   },
   {
    "duration": 101,
    "start_time": "2023-10-01T05:36:03.209Z"
   },
   {
    "duration": 78,
    "start_time": "2023-10-01T05:36:03.313Z"
   },
   {
    "duration": 31,
    "start_time": "2023-10-01T05:36:03.393Z"
   },
   {
    "duration": 31,
    "start_time": "2023-10-01T05:36:03.426Z"
   },
   {
    "duration": 31,
    "start_time": "2023-10-01T05:36:03.458Z"
   },
   {
    "duration": 32,
    "start_time": "2023-10-01T05:36:03.491Z"
   },
   {
    "duration": 61,
    "start_time": "2023-10-01T05:36:03.525Z"
   },
   {
    "duration": 34,
    "start_time": "2023-10-01T05:36:03.587Z"
   },
   {
    "duration": 32,
    "start_time": "2023-10-01T05:36:03.624Z"
   },
   {
    "duration": 50,
    "start_time": "2023-10-01T05:36:03.658Z"
   },
   {
    "duration": 34,
    "start_time": "2023-10-01T05:36:03.711Z"
   },
   {
    "duration": 40,
    "start_time": "2023-10-01T05:36:03.749Z"
   },
   {
    "duration": 47,
    "start_time": "2023-10-01T05:36:03.791Z"
   },
   {
    "duration": 37,
    "start_time": "2023-10-01T05:36:03.839Z"
   },
   {
    "duration": 49,
    "start_time": "2023-10-01T05:36:03.879Z"
   },
   {
    "duration": 25,
    "start_time": "2023-10-01T05:36:03.930Z"
   },
   {
    "duration": 52,
    "start_time": "2023-10-01T05:36:03.957Z"
   },
   {
    "duration": 119,
    "start_time": "2023-10-01T05:36:04.011Z"
   },
   {
    "duration": 729,
    "start_time": "2023-10-01T05:36:04.133Z"
   },
   {
    "duration": 8,
    "start_time": "2023-10-01T05:36:04.864Z"
   },
   {
    "duration": 48,
    "start_time": "2023-10-01T05:36:04.874Z"
   },
   {
    "duration": 41,
    "start_time": "2023-10-01T05:36:04.924Z"
   },
   {
    "duration": 45,
    "start_time": "2023-10-01T05:36:04.967Z"
   },
   {
    "duration": 173,
    "start_time": "2023-10-01T05:36:05.014Z"
   },
   {
    "duration": 16,
    "start_time": "2023-10-01T05:36:05.189Z"
   },
   {
    "duration": 33,
    "start_time": "2023-10-01T05:36:05.207Z"
   },
   {
    "duration": 205,
    "start_time": "2023-10-01T05:36:05.242Z"
   },
   {
    "duration": 24,
    "start_time": "2023-10-01T05:36:05.448Z"
   },
   {
    "duration": 211,
    "start_time": "2023-10-01T05:36:05.474Z"
   },
   {
    "duration": 30,
    "start_time": "2023-10-01T05:36:05.687Z"
   },
   {
    "duration": 233,
    "start_time": "2023-10-01T05:36:05.721Z"
   },
   {
    "duration": 26,
    "start_time": "2023-10-01T05:36:05.955Z"
   },
   {
    "duration": 36,
    "start_time": "2023-10-01T05:36:05.983Z"
   },
   {
    "duration": 26,
    "start_time": "2023-10-01T05:36:06.022Z"
   },
   {
    "duration": 94,
    "start_time": "2023-10-01T05:36:06.049Z"
   },
   {
    "duration": 205,
    "start_time": "2023-10-01T05:36:06.145Z"
   },
   {
    "duration": 16,
    "start_time": "2023-10-01T05:36:06.351Z"
   },
   {
    "duration": 181,
    "start_time": "2023-10-01T05:36:06.369Z"
   },
   {
    "duration": 17,
    "start_time": "2023-10-01T05:36:06.555Z"
   },
   {
    "duration": 201,
    "start_time": "2023-10-01T05:36:06.575Z"
   },
   {
    "duration": 31,
    "start_time": "2023-10-01T05:36:06.777Z"
   },
   {
    "duration": 169,
    "start_time": "2023-10-01T05:36:06.810Z"
   },
   {
    "duration": 48,
    "start_time": "2023-10-01T05:36:06.981Z"
   },
   {
    "duration": 49,
    "start_time": "2023-10-01T05:36:07.032Z"
   },
   {
    "duration": 38,
    "start_time": "2023-10-01T05:36:07.082Z"
   },
   {
    "duration": 31,
    "start_time": "2023-10-01T05:36:07.122Z"
   },
   {
    "duration": 32,
    "start_time": "2023-10-01T05:36:07.155Z"
   },
   {
    "duration": 35,
    "start_time": "2023-10-01T05:36:07.188Z"
   },
   {
    "duration": 21,
    "start_time": "2023-10-01T05:36:07.225Z"
   },
   {
    "duration": 23,
    "start_time": "2023-10-01T05:36:07.248Z"
   },
   {
    "duration": 20,
    "start_time": "2023-10-01T05:36:07.273Z"
   },
   {
    "duration": 50,
    "start_time": "2023-10-01T05:36:07.295Z"
   },
   {
    "duration": 190,
    "start_time": "2023-10-01T05:36:07.347Z"
   },
   {
    "duration": 9,
    "start_time": "2023-10-01T05:36:07.539Z"
   },
   {
    "duration": 182,
    "start_time": "2023-10-01T05:36:07.550Z"
   },
   {
    "duration": 523,
    "start_time": "2023-10-01T05:36:07.734Z"
   },
   {
    "duration": 192,
    "start_time": "2023-10-01T05:36:08.259Z"
   },
   {
    "duration": 12,
    "start_time": "2023-10-01T05:36:08.453Z"
   },
   {
    "duration": 447,
    "start_time": "2023-10-01T06:26:15.111Z"
   },
   {
    "duration": 70,
    "start_time": "2023-10-01T06:26:15.559Z"
   },
   {
    "duration": 16,
    "start_time": "2023-10-01T06:26:15.630Z"
   },
   {
    "duration": 27,
    "start_time": "2023-10-01T06:26:15.648Z"
   },
   {
    "duration": 126,
    "start_time": "2023-10-01T06:26:15.677Z"
   },
   {
    "duration": 39,
    "start_time": "2023-10-01T06:26:15.805Z"
   },
   {
    "duration": 34,
    "start_time": "2023-10-01T06:26:15.845Z"
   },
   {
    "duration": 24,
    "start_time": "2023-10-01T06:26:15.881Z"
   },
   {
    "duration": 31,
    "start_time": "2023-10-01T06:26:15.907Z"
   },
   {
    "duration": 31,
    "start_time": "2023-10-01T06:26:15.940Z"
   },
   {
    "duration": 39,
    "start_time": "2023-10-01T06:26:15.972Z"
   },
   {
    "duration": 36,
    "start_time": "2023-10-01T06:26:16.013Z"
   },
   {
    "duration": 36,
    "start_time": "2023-10-01T06:26:16.051Z"
   },
   {
    "duration": 30,
    "start_time": "2023-10-01T06:26:16.088Z"
   },
   {
    "duration": 15,
    "start_time": "2023-10-01T06:26:16.119Z"
   },
   {
    "duration": 21,
    "start_time": "2023-10-01T06:26:16.136Z"
   },
   {
    "duration": 19,
    "start_time": "2023-10-01T06:26:16.159Z"
   },
   {
    "duration": 14,
    "start_time": "2023-10-01T06:26:16.180Z"
   },
   {
    "duration": 24,
    "start_time": "2023-10-01T06:26:16.196Z"
   },
   {
    "duration": 21,
    "start_time": "2023-10-01T06:26:16.221Z"
   },
   {
    "duration": 486,
    "start_time": "2023-10-01T06:26:16.244Z"
   },
   {
    "duration": 7,
    "start_time": "2023-10-01T06:26:16.732Z"
   },
   {
    "duration": 25,
    "start_time": "2023-10-01T06:26:16.740Z"
   },
   {
    "duration": 58,
    "start_time": "2023-10-01T06:26:16.767Z"
   },
   {
    "duration": 11,
    "start_time": "2023-10-01T06:26:16.826Z"
   },
   {
    "duration": 117,
    "start_time": "2023-10-01T06:26:16.838Z"
   },
   {
    "duration": 7,
    "start_time": "2023-10-01T06:26:16.957Z"
   },
   {
    "duration": 26,
    "start_time": "2023-10-01T06:26:16.967Z"
   },
   {
    "duration": 156,
    "start_time": "2023-10-01T06:26:16.995Z"
   },
   {
    "duration": 18,
    "start_time": "2023-10-01T06:26:17.152Z"
   },
   {
    "duration": 170,
    "start_time": "2023-10-01T06:26:17.172Z"
   },
   {
    "duration": 16,
    "start_time": "2023-10-01T06:26:17.344Z"
   },
   {
    "duration": 213,
    "start_time": "2023-10-01T06:26:17.362Z"
   },
   {
    "duration": 33,
    "start_time": "2023-10-01T06:26:17.577Z"
   },
   {
    "duration": 325,
    "start_time": "2023-10-01T06:26:17.612Z"
   },
   {
    "duration": 25,
    "start_time": "2023-10-01T06:26:17.939Z"
   },
   {
    "duration": 95,
    "start_time": "2023-10-01T06:26:17.966Z"
   },
   {
    "duration": 204,
    "start_time": "2023-10-01T06:26:18.063Z"
   },
   {
    "duration": 17,
    "start_time": "2023-10-01T06:26:18.268Z"
   },
   {
    "duration": 285,
    "start_time": "2023-10-01T06:26:18.287Z"
   },
   {
    "duration": 27,
    "start_time": "2023-10-01T06:26:18.574Z"
   },
   {
    "duration": 211,
    "start_time": "2023-10-01T06:26:18.603Z"
   },
   {
    "duration": 16,
    "start_time": "2023-10-01T06:26:18.816Z"
   },
   {
    "duration": 175,
    "start_time": "2023-10-01T06:26:18.834Z"
   },
   {
    "duration": 27,
    "start_time": "2023-10-01T06:26:19.010Z"
   },
   {
    "duration": 10,
    "start_time": "2023-10-01T06:26:19.039Z"
   },
   {
    "duration": 28,
    "start_time": "2023-10-01T06:26:19.050Z"
   },
   {
    "duration": 34,
    "start_time": "2023-10-01T06:26:19.079Z"
   },
   {
    "duration": 20,
    "start_time": "2023-10-01T06:26:19.115Z"
   },
   {
    "duration": 59,
    "start_time": "2023-10-01T06:26:19.136Z"
   },
   {
    "duration": 32,
    "start_time": "2023-10-01T06:26:19.197Z"
   },
   {
    "duration": 17,
    "start_time": "2023-10-01T06:26:19.231Z"
   },
   {
    "duration": 15,
    "start_time": "2023-10-01T06:26:19.249Z"
   },
   {
    "duration": 31,
    "start_time": "2023-10-01T06:26:19.266Z"
   },
   {
    "duration": 216,
    "start_time": "2023-10-01T06:26:19.300Z"
   },
   {
    "duration": 8,
    "start_time": "2023-10-01T06:26:19.518Z"
   },
   {
    "duration": 185,
    "start_time": "2023-10-01T06:26:19.527Z"
   },
   {
    "duration": 469,
    "start_time": "2023-10-01T06:26:19.714Z"
   },
   {
    "duration": 179,
    "start_time": "2023-10-01T06:26:20.185Z"
   },
   {
    "duration": 13,
    "start_time": "2023-10-01T06:26:20.366Z"
   },
   {
    "duration": 411,
    "start_time": "2023-10-01T06:30:51.423Z"
   },
   {
    "duration": 68,
    "start_time": "2023-10-01T06:30:51.836Z"
   },
   {
    "duration": 17,
    "start_time": "2023-10-01T06:30:51.906Z"
   },
   {
    "duration": 71,
    "start_time": "2023-10-01T06:30:51.925Z"
   },
   {
    "duration": 43,
    "start_time": "2023-10-01T06:30:51.998Z"
   },
   {
    "duration": 32,
    "start_time": "2023-10-01T06:30:52.043Z"
   },
   {
    "duration": 14,
    "start_time": "2023-10-01T06:30:52.077Z"
   },
   {
    "duration": 89,
    "start_time": "2023-10-01T06:30:52.093Z"
   },
   {
    "duration": 137,
    "start_time": "2023-10-01T06:30:52.184Z"
   },
   {
    "duration": 22,
    "start_time": "2023-10-01T06:30:52.324Z"
   },
   {
    "duration": 51,
    "start_time": "2023-10-01T06:30:52.348Z"
   },
   {
    "duration": 23,
    "start_time": "2023-10-01T06:30:52.401Z"
   },
   {
    "duration": 42,
    "start_time": "2023-10-01T06:30:52.426Z"
   },
   {
    "duration": 32,
    "start_time": "2023-10-01T06:30:52.469Z"
   },
   {
    "duration": 44,
    "start_time": "2023-10-01T06:30:52.503Z"
   },
   {
    "duration": 25,
    "start_time": "2023-10-01T06:30:52.548Z"
   },
   {
    "duration": 33,
    "start_time": "2023-10-01T06:30:52.574Z"
   },
   {
    "duration": 26,
    "start_time": "2023-10-01T06:30:52.609Z"
   },
   {
    "duration": 28,
    "start_time": "2023-10-01T06:30:52.637Z"
   },
   {
    "duration": 35,
    "start_time": "2023-10-01T06:30:52.666Z"
   },
   {
    "duration": 432,
    "start_time": "2023-10-01T06:30:52.703Z"
   },
   {
    "duration": 7,
    "start_time": "2023-10-01T06:30:53.137Z"
   },
   {
    "duration": 116,
    "start_time": "2023-10-01T06:30:53.146Z"
   },
   {
    "duration": 27,
    "start_time": "2023-10-01T06:30:53.264Z"
   },
   {
    "duration": 36,
    "start_time": "2023-10-01T06:30:53.293Z"
   },
   {
    "duration": 144,
    "start_time": "2023-10-01T06:30:53.331Z"
   },
   {
    "duration": 7,
    "start_time": "2023-10-01T06:30:53.476Z"
   },
   {
    "duration": 30,
    "start_time": "2023-10-01T06:30:53.486Z"
   },
   {
    "duration": 202,
    "start_time": "2023-10-01T06:30:53.518Z"
   },
   {
    "duration": 19,
    "start_time": "2023-10-01T06:30:53.722Z"
   },
   {
    "duration": 262,
    "start_time": "2023-10-01T06:30:53.743Z"
   },
   {
    "duration": 17,
    "start_time": "2023-10-01T06:30:54.007Z"
   },
   {
    "duration": 212,
    "start_time": "2023-10-01T06:30:54.026Z"
   },
   {
    "duration": 28,
    "start_time": "2023-10-01T06:30:54.240Z"
   },
   {
    "duration": 40,
    "start_time": "2023-10-01T06:30:54.270Z"
   },
   {
    "duration": 17,
    "start_time": "2023-10-01T06:30:54.313Z"
   },
   {
    "duration": 118,
    "start_time": "2023-10-01T06:30:54.332Z"
   },
   {
    "duration": 224,
    "start_time": "2023-10-01T06:30:54.452Z"
   },
   {
    "duration": 33,
    "start_time": "2023-10-01T06:30:54.678Z"
   },
   {
    "duration": 207,
    "start_time": "2023-10-01T06:30:54.713Z"
   },
   {
    "duration": 20,
    "start_time": "2023-10-01T06:30:54.922Z"
   },
   {
    "duration": 487,
    "start_time": "2023-10-01T06:30:54.944Z"
   },
   {
    "duration": 24,
    "start_time": "2023-10-01T06:30:55.433Z"
   },
   {
    "duration": 188,
    "start_time": "2023-10-01T06:30:55.460Z"
   },
   {
    "duration": 32,
    "start_time": "2023-10-01T06:30:55.650Z"
   },
   {
    "duration": 24,
    "start_time": "2023-10-01T06:30:55.684Z"
   },
   {
    "duration": 35,
    "start_time": "2023-10-01T06:30:55.710Z"
   },
   {
    "duration": 63,
    "start_time": "2023-10-01T06:30:55.746Z"
   },
   {
    "duration": 39,
    "start_time": "2023-10-01T06:30:55.811Z"
   },
   {
    "duration": 43,
    "start_time": "2023-10-01T06:30:55.852Z"
   },
   {
    "duration": 27,
    "start_time": "2023-10-01T06:30:55.897Z"
   },
   {
    "duration": 54,
    "start_time": "2023-10-01T06:30:55.926Z"
   },
   {
    "duration": 42,
    "start_time": "2023-10-01T06:30:55.982Z"
   },
   {
    "duration": 29,
    "start_time": "2023-10-01T06:30:56.026Z"
   },
   {
    "duration": 181,
    "start_time": "2023-10-01T06:30:56.057Z"
   },
   {
    "duration": 9,
    "start_time": "2023-10-01T06:30:56.240Z"
   },
   {
    "duration": 179,
    "start_time": "2023-10-01T06:30:56.251Z"
   },
   {
    "duration": 493,
    "start_time": "2023-10-01T06:30:56.432Z"
   },
   {
    "duration": 180,
    "start_time": "2023-10-01T06:30:56.927Z"
   },
   {
    "duration": 17,
    "start_time": "2023-10-01T06:30:57.109Z"
   },
   {
    "duration": 381,
    "start_time": "2023-10-01T15:13:21.073Z"
   },
   {
    "duration": 292,
    "start_time": "2023-10-01T15:13:21.456Z"
   },
   {
    "duration": 21,
    "start_time": "2023-10-01T15:13:21.750Z"
   },
   {
    "duration": 11,
    "start_time": "2023-10-01T15:13:21.773Z"
   },
   {
    "duration": 35,
    "start_time": "2023-10-01T15:13:21.786Z"
   },
   {
    "duration": 30,
    "start_time": "2023-10-01T15:13:21.824Z"
   },
   {
    "duration": 13,
    "start_time": "2023-10-01T15:13:21.857Z"
   },
   {
    "duration": 12,
    "start_time": "2023-10-01T15:13:21.872Z"
   },
   {
    "duration": 10,
    "start_time": "2023-10-01T15:13:21.886Z"
   },
   {
    "duration": 15,
    "start_time": "2023-10-01T15:13:21.899Z"
   },
   {
    "duration": 28,
    "start_time": "2023-10-01T15:13:21.916Z"
   },
   {
    "duration": 9,
    "start_time": "2023-10-01T15:13:21.946Z"
   },
   {
    "duration": 15,
    "start_time": "2023-10-01T15:13:21.957Z"
   },
   {
    "duration": 9,
    "start_time": "2023-10-01T15:13:21.973Z"
   },
   {
    "duration": 35,
    "start_time": "2023-10-01T15:13:21.984Z"
   },
   {
    "duration": 22,
    "start_time": "2023-10-01T15:13:22.022Z"
   },
   {
    "duration": 10,
    "start_time": "2023-10-01T15:13:22.046Z"
   },
   {
    "duration": 11,
    "start_time": "2023-10-01T15:13:22.058Z"
   },
   {
    "duration": 17,
    "start_time": "2023-10-01T15:13:22.071Z"
   },
   {
    "duration": 34,
    "start_time": "2023-10-01T15:13:22.090Z"
   },
   {
    "duration": 608,
    "start_time": "2023-10-01T15:13:22.126Z"
   },
   {
    "duration": 11,
    "start_time": "2023-10-01T15:13:22.736Z"
   },
   {
    "duration": 38,
    "start_time": "2023-10-01T15:13:22.749Z"
   },
   {
    "duration": 23,
    "start_time": "2023-10-01T15:13:22.789Z"
   },
   {
    "duration": 53,
    "start_time": "2023-10-01T15:13:22.814Z"
   },
   {
    "duration": 113,
    "start_time": "2023-10-01T15:13:22.869Z"
   },
   {
    "duration": 7,
    "start_time": "2023-10-01T15:13:22.983Z"
   },
   {
    "duration": 16,
    "start_time": "2023-10-01T15:13:22.995Z"
   },
   {
    "duration": 171,
    "start_time": "2023-10-01T15:13:23.013Z"
   },
   {
    "duration": 17,
    "start_time": "2023-10-01T15:13:23.186Z"
   },
   {
    "duration": 157,
    "start_time": "2023-10-01T15:13:23.204Z"
   },
   {
    "duration": 16,
    "start_time": "2023-10-01T15:13:23.362Z"
   },
   {
    "duration": 231,
    "start_time": "2023-10-01T15:13:23.380Z"
   },
   {
    "duration": 33,
    "start_time": "2023-10-01T15:13:23.612Z"
   },
   {
    "duration": 16,
    "start_time": "2023-10-01T15:13:23.647Z"
   },
   {
    "duration": 20,
    "start_time": "2023-10-01T15:13:23.665Z"
   },
   {
    "duration": 20,
    "start_time": "2023-10-01T15:13:23.687Z"
   },
   {
    "duration": 195,
    "start_time": "2023-10-01T15:13:23.709Z"
   },
   {
    "duration": 16,
    "start_time": "2023-10-01T15:13:23.906Z"
   },
   {
    "duration": 249,
    "start_time": "2023-10-01T15:13:23.924Z"
   },
   {
    "duration": 34,
    "start_time": "2023-10-01T15:13:24.175Z"
   },
   {
    "duration": 215,
    "start_time": "2023-10-01T15:13:24.211Z"
   },
   {
    "duration": 24,
    "start_time": "2023-10-01T15:13:24.427Z"
   },
   {
    "duration": 162,
    "start_time": "2023-10-01T15:13:24.454Z"
   },
   {
    "duration": 38,
    "start_time": "2023-10-01T15:13:24.618Z"
   },
   {
    "duration": 10,
    "start_time": "2023-10-01T15:13:24.657Z"
   },
   {
    "duration": 20,
    "start_time": "2023-10-01T15:13:24.669Z"
   },
   {
    "duration": 19,
    "start_time": "2023-10-01T15:13:24.691Z"
   },
   {
    "duration": 16,
    "start_time": "2023-10-01T15:13:24.711Z"
   },
   {
    "duration": 41,
    "start_time": "2023-10-01T15:13:24.729Z"
   },
   {
    "duration": 20,
    "start_time": "2023-10-01T15:13:24.771Z"
   },
   {
    "duration": 17,
    "start_time": "2023-10-01T15:13:24.793Z"
   },
   {
    "duration": 4,
    "start_time": "2023-10-01T15:13:24.812Z"
   },
   {
    "duration": 5,
    "start_time": "2023-10-01T15:13:24.845Z"
   },
   {
    "duration": 160,
    "start_time": "2023-10-01T15:13:24.852Z"
   },
   {
    "duration": 11,
    "start_time": "2023-10-01T15:13:25.014Z"
   },
   {
    "duration": 175,
    "start_time": "2023-10-01T15:13:25.027Z"
   },
   {
    "duration": 516,
    "start_time": "2023-10-01T15:13:25.204Z"
   },
   {
    "duration": 162,
    "start_time": "2023-10-01T15:13:25.722Z"
   },
   {
    "duration": 15,
    "start_time": "2023-10-01T15:13:25.886Z"
   },
   {
    "duration": 6,
    "start_time": "2023-10-01T15:14:35.922Z"
   },
   {
    "duration": 20,
    "start_time": "2023-10-01T15:18:37.928Z"
   },
   {
    "duration": 5,
    "start_time": "2023-10-01T15:23:41.413Z"
   },
   {
    "duration": 380,
    "start_time": "2023-10-01T15:27:58.611Z"
   },
   {
    "duration": 69,
    "start_time": "2023-10-01T15:27:58.993Z"
   },
   {
    "duration": 16,
    "start_time": "2023-10-01T15:27:59.064Z"
   },
   {
    "duration": 14,
    "start_time": "2023-10-01T15:27:59.082Z"
   },
   {
    "duration": 20,
    "start_time": "2023-10-01T15:27:59.099Z"
   },
   {
    "duration": 25,
    "start_time": "2023-10-01T15:27:59.120Z"
   },
   {
    "duration": 22,
    "start_time": "2023-10-01T15:27:59.146Z"
   },
   {
    "duration": 11,
    "start_time": "2023-10-01T15:27:59.169Z"
   },
   {
    "duration": 12,
    "start_time": "2023-10-01T15:27:59.182Z"
   },
   {
    "duration": 12,
    "start_time": "2023-10-01T15:27:59.195Z"
   },
   {
    "duration": 5,
    "start_time": "2023-10-01T15:27:59.209Z"
   },
   {
    "duration": 11,
    "start_time": "2023-10-01T15:27:59.215Z"
   },
   {
    "duration": 8,
    "start_time": "2023-10-01T15:27:59.245Z"
   },
   {
    "duration": 5,
    "start_time": "2023-10-01T15:27:59.256Z"
   },
   {
    "duration": 14,
    "start_time": "2023-10-01T15:27:59.263Z"
   },
   {
    "duration": 5,
    "start_time": "2023-10-01T15:27:59.279Z"
   },
   {
    "duration": 8,
    "start_time": "2023-10-01T15:27:59.286Z"
   },
   {
    "duration": 11,
    "start_time": "2023-10-01T15:27:59.295Z"
   },
   {
    "duration": 6,
    "start_time": "2023-10-01T15:27:59.345Z"
   },
   {
    "duration": 8,
    "start_time": "2023-10-01T15:27:59.353Z"
   },
   {
    "duration": 395,
    "start_time": "2023-10-01T15:27:59.362Z"
   },
   {
    "duration": 7,
    "start_time": "2023-10-01T15:27:59.759Z"
   },
   {
    "duration": 8,
    "start_time": "2023-10-01T15:27:59.769Z"
   },
   {
    "duration": 28,
    "start_time": "2023-10-01T15:27:59.781Z"
   },
   {
    "duration": 8,
    "start_time": "2023-10-01T15:27:59.811Z"
   },
   {
    "duration": 139,
    "start_time": "2023-10-01T15:27:59.821Z"
   },
   {
    "duration": 7,
    "start_time": "2023-10-01T15:27:59.961Z"
   },
   {
    "duration": 8,
    "start_time": "2023-10-01T15:27:59.969Z"
   },
   {
    "duration": 168,
    "start_time": "2023-10-01T15:27:59.978Z"
   },
   {
    "duration": 17,
    "start_time": "2023-10-01T15:28:00.147Z"
   },
   {
    "duration": 175,
    "start_time": "2023-10-01T15:28:00.165Z"
   },
   {
    "duration": 22,
    "start_time": "2023-10-01T15:28:00.344Z"
   },
   {
    "duration": 219,
    "start_time": "2023-10-01T15:28:00.368Z"
   },
   {
    "duration": 24,
    "start_time": "2023-10-01T15:28:00.589Z"
   },
   {
    "duration": 41,
    "start_time": "2023-10-01T15:28:00.614Z"
   },
   {
    "duration": 31,
    "start_time": "2023-10-01T15:28:00.657Z"
   },
   {
    "duration": 147,
    "start_time": "2023-10-01T15:28:00.690Z"
   },
   {
    "duration": 158,
    "start_time": "2023-10-01T15:28:00.839Z"
   },
   {
    "duration": 22,
    "start_time": "2023-10-01T15:28:00.999Z"
   },
   {
    "duration": 190,
    "start_time": "2023-10-01T15:28:01.022Z"
   },
   {
    "duration": 28,
    "start_time": "2023-10-01T15:28:01.217Z"
   },
   {
    "duration": 196,
    "start_time": "2023-10-01T15:28:01.247Z"
   },
   {
    "duration": 16,
    "start_time": "2023-10-01T15:28:01.445Z"
   },
   {
    "duration": 154,
    "start_time": "2023-10-01T15:28:01.463Z"
   },
   {
    "duration": 37,
    "start_time": "2023-10-01T15:28:01.619Z"
   },
   {
    "duration": 10,
    "start_time": "2023-10-01T15:28:01.657Z"
   },
   {
    "duration": 22,
    "start_time": "2023-10-01T15:28:01.668Z"
   },
   {
    "duration": 45,
    "start_time": "2023-10-01T15:28:01.692Z"
   },
   {
    "duration": 91,
    "start_time": "2023-10-01T15:28:01.738Z"
   },
   {
    "duration": 32,
    "start_time": "2023-10-01T15:28:01.831Z"
   },
   {
    "duration": 21,
    "start_time": "2023-10-01T15:28:01.865Z"
   },
   {
    "duration": 46,
    "start_time": "2023-10-01T15:28:01.888Z"
   },
   {
    "duration": 14,
    "start_time": "2023-10-01T15:28:01.935Z"
   },
   {
    "duration": 28,
    "start_time": "2023-10-01T15:28:01.951Z"
   },
   {
    "duration": 172,
    "start_time": "2023-10-01T15:28:01.981Z"
   },
   {
    "duration": 10,
    "start_time": "2023-10-01T15:28:02.154Z"
   },
   {
    "duration": 184,
    "start_time": "2023-10-01T15:28:02.166Z"
   },
   {
    "duration": 453,
    "start_time": "2023-10-01T15:28:02.351Z"
   },
   {
    "duration": 164,
    "start_time": "2023-10-01T15:28:02.807Z"
   },
   {
    "duration": 14,
    "start_time": "2023-10-01T15:28:02.973Z"
   },
   {
    "duration": 116,
    "start_time": "2023-10-01T16:01:25.877Z"
   },
   {
    "duration": 81,
    "start_time": "2023-10-01T16:01:41.369Z"
   },
   {
    "duration": 86,
    "start_time": "2023-10-01T18:17:41.760Z"
   },
   {
    "duration": 428,
    "start_time": "2023-10-01T18:17:53.776Z"
   },
   {
    "duration": 194,
    "start_time": "2023-10-01T18:17:54.206Z"
   },
   {
    "duration": 18,
    "start_time": "2023-10-01T18:17:54.402Z"
   },
   {
    "duration": 30,
    "start_time": "2023-10-01T18:17:54.424Z"
   },
   {
    "duration": 12,
    "start_time": "2023-10-01T18:17:54.457Z"
   },
   {
    "duration": 20,
    "start_time": "2023-10-01T18:17:54.470Z"
   },
   {
    "duration": 9,
    "start_time": "2023-10-01T18:17:54.493Z"
   },
   {
    "duration": 13,
    "start_time": "2023-10-01T18:17:54.504Z"
   },
   {
    "duration": 34,
    "start_time": "2023-10-01T18:17:54.519Z"
   },
   {
    "duration": 26,
    "start_time": "2023-10-01T18:17:54.556Z"
   },
   {
    "duration": 6,
    "start_time": "2023-10-01T18:17:54.584Z"
   },
   {
    "duration": 12,
    "start_time": "2023-10-01T18:17:54.592Z"
   },
   {
    "duration": 28,
    "start_time": "2023-10-01T18:17:54.605Z"
   },
   {
    "duration": 17,
    "start_time": "2023-10-01T18:17:54.636Z"
   },
   {
    "duration": 64,
    "start_time": "2023-10-01T18:17:54.655Z"
   },
   {
    "duration": 62,
    "start_time": "2023-10-01T18:17:54.721Z"
   },
   {
    "duration": 32,
    "start_time": "2023-10-01T18:17:54.785Z"
   },
   {
    "duration": 12,
    "start_time": "2023-10-01T18:17:54.819Z"
   },
   {
    "duration": 11,
    "start_time": "2023-10-01T18:17:54.833Z"
   },
   {
    "duration": 6,
    "start_time": "2023-10-01T18:17:54.846Z"
   },
   {
    "duration": 9,
    "start_time": "2023-10-01T18:17:54.855Z"
   },
   {
    "duration": 746,
    "start_time": "2023-10-01T18:17:54.866Z"
   },
   {
    "duration": 9,
    "start_time": "2023-10-01T18:17:55.615Z"
   },
   {
    "duration": 25,
    "start_time": "2023-10-01T18:17:55.627Z"
   },
   {
    "duration": 22,
    "start_time": "2023-10-01T18:17:55.654Z"
   },
   {
    "duration": 18,
    "start_time": "2023-10-01T18:17:55.678Z"
   },
   {
    "duration": 144,
    "start_time": "2023-10-01T18:17:55.698Z"
   },
   {
    "duration": 7,
    "start_time": "2023-10-01T18:17:55.849Z"
   },
   {
    "duration": 32,
    "start_time": "2023-10-01T18:17:55.858Z"
   },
   {
    "duration": 177,
    "start_time": "2023-10-01T18:17:55.892Z"
   },
   {
    "duration": 22,
    "start_time": "2023-10-01T18:17:56.071Z"
   },
   {
    "duration": 200,
    "start_time": "2023-10-01T18:17:56.095Z"
   },
   {
    "duration": 18,
    "start_time": "2023-10-01T18:17:56.297Z"
   },
   {
    "duration": 265,
    "start_time": "2023-10-01T18:17:56.316Z"
   },
   {
    "duration": 29,
    "start_time": "2023-10-01T18:17:56.583Z"
   },
   {
    "duration": 34,
    "start_time": "2023-10-01T18:17:56.614Z"
   },
   {
    "duration": 51,
    "start_time": "2023-10-01T18:17:56.650Z"
   },
   {
    "duration": 18,
    "start_time": "2023-10-01T18:17:56.703Z"
   },
   {
    "duration": 183,
    "start_time": "2023-10-01T18:17:56.722Z"
   },
   {
    "duration": 17,
    "start_time": "2023-10-01T18:17:56.907Z"
   },
   {
    "duration": 186,
    "start_time": "2023-10-01T18:17:56.925Z"
   },
   {
    "duration": 17,
    "start_time": "2023-10-01T18:17:57.113Z"
   },
   {
    "duration": 196,
    "start_time": "2023-10-01T18:17:57.146Z"
   },
   {
    "duration": 19,
    "start_time": "2023-10-01T18:17:57.343Z"
   },
   {
    "duration": 255,
    "start_time": "2023-10-01T18:17:57.364Z"
   },
   {
    "duration": 38,
    "start_time": "2023-10-01T18:17:57.620Z"
   },
   {
    "duration": 12,
    "start_time": "2023-10-01T18:17:57.660Z"
   },
   {
    "duration": 18,
    "start_time": "2023-10-01T18:17:57.674Z"
   },
   {
    "duration": 16,
    "start_time": "2023-10-01T18:17:57.694Z"
   },
   {
    "duration": 41,
    "start_time": "2023-10-01T18:17:57.712Z"
   },
   {
    "duration": 23,
    "start_time": "2023-10-01T18:17:57.755Z"
   },
   {
    "duration": 16,
    "start_time": "2023-10-01T18:17:57.779Z"
   },
   {
    "duration": 18,
    "start_time": "2023-10-01T18:17:57.797Z"
   },
   {
    "duration": 53,
    "start_time": "2023-10-01T18:17:57.817Z"
   },
   {
    "duration": 19,
    "start_time": "2023-10-01T18:17:57.872Z"
   },
   {
    "duration": 179,
    "start_time": "2023-10-01T18:17:57.893Z"
   },
   {
    "duration": 11,
    "start_time": "2023-10-01T18:17:58.073Z"
   },
   {
    "duration": 209,
    "start_time": "2023-10-01T18:17:58.086Z"
   },
   {
    "duration": 532,
    "start_time": "2023-10-01T18:17:58.298Z"
   },
   {
    "duration": 185,
    "start_time": "2023-10-01T18:17:58.832Z"
   },
   {
    "duration": 30,
    "start_time": "2023-10-01T18:17:59.019Z"
   },
   {
    "duration": 12,
    "start_time": "2023-10-01T18:18:30.401Z"
   },
   {
    "duration": 9,
    "start_time": "2023-10-01T18:18:34.314Z"
   },
   {
    "duration": 11,
    "start_time": "2023-10-01T18:18:36.677Z"
   },
   {
    "duration": 9,
    "start_time": "2023-10-01T18:22:54.062Z"
   },
   {
    "duration": 6,
    "start_time": "2023-10-01T18:23:21.583Z"
   },
   {
    "duration": 6,
    "start_time": "2023-10-01T18:23:29.145Z"
   },
   {
    "duration": 127,
    "start_time": "2023-10-01T18:23:35.056Z"
   },
   {
    "duration": 5,
    "start_time": "2023-10-01T18:23:43.869Z"
   },
   {
    "duration": 6,
    "start_time": "2023-10-01T18:23:55.788Z"
   },
   {
    "duration": 7,
    "start_time": "2023-10-01T18:25:28.142Z"
   },
   {
    "duration": 9,
    "start_time": "2023-10-01T18:25:43.655Z"
   },
   {
    "duration": 7,
    "start_time": "2023-10-01T18:25:50.674Z"
   },
   {
    "duration": 9,
    "start_time": "2023-10-01T18:25:53.050Z"
   },
   {
    "duration": 7,
    "start_time": "2023-10-01T18:26:11.389Z"
   },
   {
    "duration": 6,
    "start_time": "2023-10-01T18:26:34.994Z"
   },
   {
    "duration": 7,
    "start_time": "2023-10-01T18:31:30.374Z"
   },
   {
    "duration": 79,
    "start_time": "2023-10-01T18:33:09.335Z"
   },
   {
    "duration": 119,
    "start_time": "2023-10-01T18:33:18.594Z"
   },
   {
    "duration": 215,
    "start_time": "2023-10-01T18:34:30.957Z"
   },
   {
    "duration": 250,
    "start_time": "2023-10-01T18:34:53.544Z"
   },
   {
    "duration": 281,
    "start_time": "2023-10-01T18:35:06.833Z"
   },
   {
    "duration": 252,
    "start_time": "2023-10-01T18:36:46.170Z"
   },
   {
    "duration": 80,
    "start_time": "2023-10-01T18:38:40.015Z"
   },
   {
    "duration": 259,
    "start_time": "2023-10-01T18:38:48.494Z"
   },
   {
    "duration": 259,
    "start_time": "2023-10-01T18:43:21.755Z"
   },
   {
    "duration": 89,
    "start_time": "2023-10-01T18:43:37.874Z"
   },
   {
    "duration": 75,
    "start_time": "2023-10-01T18:43:50.024Z"
   },
   {
    "duration": 94,
    "start_time": "2023-10-01T18:44:02.172Z"
   },
   {
    "duration": 248,
    "start_time": "2023-10-01T18:44:07.847Z"
   },
   {
    "duration": 279,
    "start_time": "2023-10-01T18:44:20.266Z"
   },
   {
    "duration": 15,
    "start_time": "2023-10-01T18:46:52.206Z"
   },
   {
    "duration": 450,
    "start_time": "2023-10-01T18:47:27.853Z"
   },
   {
    "duration": 71,
    "start_time": "2023-10-01T18:47:28.306Z"
   },
   {
    "duration": 17,
    "start_time": "2023-10-01T18:47:28.379Z"
   },
   {
    "duration": 17,
    "start_time": "2023-10-01T18:47:28.399Z"
   },
   {
    "duration": 18,
    "start_time": "2023-10-01T18:47:28.418Z"
   },
   {
    "duration": 31,
    "start_time": "2023-10-01T18:47:28.437Z"
   },
   {
    "duration": 8,
    "start_time": "2023-10-01T18:47:28.470Z"
   },
   {
    "duration": 28,
    "start_time": "2023-10-01T18:47:28.479Z"
   },
   {
    "duration": 21,
    "start_time": "2023-10-01T18:47:28.508Z"
   },
   {
    "duration": 19,
    "start_time": "2023-10-01T18:47:28.532Z"
   },
   {
    "duration": 19,
    "start_time": "2023-10-01T18:47:28.553Z"
   },
   {
    "duration": 22,
    "start_time": "2023-10-01T18:47:28.574Z"
   },
   {
    "duration": 20,
    "start_time": "2023-10-01T18:47:28.598Z"
   },
   {
    "duration": 5,
    "start_time": "2023-10-01T18:47:28.620Z"
   },
   {
    "duration": 7,
    "start_time": "2023-10-01T18:47:28.627Z"
   },
   {
    "duration": 15,
    "start_time": "2023-10-01T18:47:28.636Z"
   },
   {
    "duration": 8,
    "start_time": "2023-10-01T18:47:28.653Z"
   },
   {
    "duration": 7,
    "start_time": "2023-10-01T18:47:28.663Z"
   },
   {
    "duration": 7,
    "start_time": "2023-10-01T18:47:28.671Z"
   },
   {
    "duration": 33,
    "start_time": "2023-10-01T18:47:28.680Z"
   },
   {
    "duration": 11,
    "start_time": "2023-10-01T18:47:28.715Z"
   },
   {
    "duration": 26,
    "start_time": "2023-10-01T18:47:28.728Z"
   },
   {
    "duration": 35,
    "start_time": "2023-10-01T18:47:28.756Z"
   },
   {
    "duration": 695,
    "start_time": "2023-10-01T18:47:28.792Z"
   },
   {
    "duration": 6,
    "start_time": "2023-10-01T18:47:29.489Z"
   },
   {
    "duration": 89,
    "start_time": "2023-10-01T18:47:29.497Z"
   },
   {
    "duration": 7,
    "start_time": "2023-10-01T18:47:29.588Z"
   },
   {
    "duration": 8,
    "start_time": "2023-10-01T18:47:29.599Z"
   },
   {
    "duration": 237,
    "start_time": "2023-10-01T18:47:29.609Z"
   },
   {
    "duration": 20,
    "start_time": "2023-10-01T18:47:29.848Z"
   },
   {
    "duration": 272,
    "start_time": "2023-10-01T18:47:29.870Z"
   },
   {
    "duration": 17,
    "start_time": "2023-10-01T18:47:30.148Z"
   },
   {
    "duration": 507,
    "start_time": "2023-10-01T18:47:30.166Z"
   },
   {
    "duration": 94,
    "start_time": "2023-10-01T18:47:30.675Z"
   },
   {
    "duration": 79,
    "start_time": "2023-10-01T18:47:30.772Z"
   },
   {
    "duration": 26,
    "start_time": "2023-10-01T18:47:30.853Z"
   },
   {
    "duration": 88,
    "start_time": "2023-10-01T18:47:30.881Z"
   },
   {
    "duration": 88,
    "start_time": "2023-10-01T18:47:30.972Z"
   },
   {
    "duration": 395,
    "start_time": "2023-10-01T18:47:31.062Z"
   },
   {
    "duration": 19,
    "start_time": "2023-10-01T18:47:31.459Z"
   },
   {
    "duration": 578,
    "start_time": "2023-10-01T18:47:31.480Z"
   },
   {
    "duration": 17,
    "start_time": "2023-10-01T18:47:32.060Z"
   },
   {
    "duration": 355,
    "start_time": "2023-10-01T18:47:32.079Z"
   },
   {
    "duration": 24,
    "start_time": "2023-10-01T18:47:32.436Z"
   },
   {
    "duration": 329,
    "start_time": "2023-10-01T18:47:32.461Z"
   },
   {
    "duration": 33,
    "start_time": "2023-10-01T18:47:32.793Z"
   },
   {
    "duration": 242,
    "start_time": "2023-10-01T18:47:32.828Z"
   },
   {
    "duration": 55,
    "start_time": "2023-10-01T18:47:33.072Z"
   },
   {
    "duration": 55,
    "start_time": "2023-10-01T18:47:33.129Z"
   },
   {
    "duration": 33,
    "start_time": "2023-10-01T18:47:33.186Z"
   },
   {
    "duration": 38,
    "start_time": "2023-10-01T18:47:33.221Z"
   },
   {
    "duration": 26,
    "start_time": "2023-10-01T18:47:33.261Z"
   },
   {
    "duration": 21,
    "start_time": "2023-10-01T18:47:33.289Z"
   },
   {
    "duration": 12,
    "start_time": "2023-10-01T18:47:33.311Z"
   },
   {
    "duration": 6,
    "start_time": "2023-10-01T18:47:33.347Z"
   },
   {
    "duration": 195,
    "start_time": "2023-10-01T18:47:33.355Z"
   },
   {
    "duration": 10,
    "start_time": "2023-10-01T18:47:33.552Z"
   },
   {
    "duration": 172,
    "start_time": "2023-10-01T18:47:33.564Z"
   },
   {
    "duration": 516,
    "start_time": "2023-10-01T18:47:33.739Z"
   },
   {
    "duration": 183,
    "start_time": "2023-10-01T18:47:34.258Z"
   },
   {
    "duration": 13,
    "start_time": "2023-10-01T18:47:34.447Z"
   },
   {
    "duration": 238,
    "start_time": "2023-10-01T18:49:41.335Z"
   },
   {
    "duration": 230,
    "start_time": "2023-10-01T18:50:04.384Z"
   },
   {
    "duration": 242,
    "start_time": "2023-10-01T18:50:14.102Z"
   },
   {
    "duration": 310,
    "start_time": "2023-10-01T18:50:20.596Z"
   },
   {
    "duration": 474,
    "start_time": "2023-10-01T18:50:52.501Z"
   },
   {
    "duration": 397,
    "start_time": "2023-10-01T18:51:21.831Z"
   },
   {
    "duration": 461,
    "start_time": "2023-10-01T18:51:37.588Z"
   },
   {
    "duration": 456,
    "start_time": "2023-10-01T18:51:56.511Z"
   },
   {
    "duration": 388,
    "start_time": "2023-10-01T18:52:30.500Z"
   },
   {
    "duration": 574,
    "start_time": "2023-10-01T18:52:47.946Z"
   },
   {
    "duration": 498,
    "start_time": "2023-10-01T18:53:10.260Z"
   },
   {
    "duration": 484,
    "start_time": "2023-10-01T18:53:20.340Z"
   },
   {
    "duration": 496,
    "start_time": "2023-10-01T18:54:12.166Z"
   },
   {
    "duration": 466,
    "start_time": "2023-10-01T18:54:28.096Z"
   },
   {
    "duration": 569,
    "start_time": "2023-10-01T18:54:47.281Z"
   },
   {
    "duration": 487,
    "start_time": "2023-10-01T18:55:10.303Z"
   },
   {
    "duration": 6,
    "start_time": "2023-10-01T18:55:47.940Z"
   },
   {
    "duration": 4,
    "start_time": "2023-10-01T18:56:30.248Z"
   },
   {
    "duration": 9,
    "start_time": "2023-10-01T18:56:40.390Z"
   },
   {
    "duration": 420,
    "start_time": "2023-10-01T19:00:35.976Z"
   },
   {
    "duration": 392,
    "start_time": "2023-10-01T19:01:39.013Z"
   },
   {
    "duration": 9,
    "start_time": "2023-10-01T19:04:03.198Z"
   },
   {
    "duration": 1567,
    "start_time": "2023-10-01T19:04:08.368Z"
   },
   {
    "duration": 1386,
    "start_time": "2023-10-01T19:04:43.845Z"
   },
   {
    "duration": 1524,
    "start_time": "2023-10-01T19:04:51.625Z"
   },
   {
    "duration": 2210,
    "start_time": "2023-10-01T19:05:02.888Z"
   },
   {
    "duration": 323,
    "start_time": "2023-10-01T19:05:59.582Z"
   },
   {
    "duration": 454,
    "start_time": "2023-10-01T19:06:20.660Z"
   },
   {
    "duration": 93,
    "start_time": "2023-10-01T19:06:21.116Z"
   },
   {
    "duration": 18,
    "start_time": "2023-10-01T19:06:21.211Z"
   },
   {
    "duration": 13,
    "start_time": "2023-10-01T19:06:21.231Z"
   },
   {
    "duration": 36,
    "start_time": "2023-10-01T19:06:21.246Z"
   },
   {
    "duration": 48,
    "start_time": "2023-10-01T19:06:21.284Z"
   },
   {
    "duration": 17,
    "start_time": "2023-10-01T19:06:21.334Z"
   },
   {
    "duration": 14,
    "start_time": "2023-10-01T19:06:21.353Z"
   },
   {
    "duration": 24,
    "start_time": "2023-10-01T19:06:21.369Z"
   },
   {
    "duration": 34,
    "start_time": "2023-10-01T19:06:21.397Z"
   },
   {
    "duration": 29,
    "start_time": "2023-10-01T19:06:21.434Z"
   },
   {
    "duration": 10,
    "start_time": "2023-10-01T19:06:21.465Z"
   },
   {
    "duration": 17,
    "start_time": "2023-10-01T19:06:21.477Z"
   },
   {
    "duration": 13,
    "start_time": "2023-10-01T19:06:21.496Z"
   },
   {
    "duration": 19,
    "start_time": "2023-10-01T19:06:21.511Z"
   },
   {
    "duration": 14,
    "start_time": "2023-10-01T19:06:21.532Z"
   },
   {
    "duration": 6,
    "start_time": "2023-10-01T19:06:21.547Z"
   },
   {
    "duration": 14,
    "start_time": "2023-10-01T19:06:21.555Z"
   },
   {
    "duration": 7,
    "start_time": "2023-10-01T19:06:21.571Z"
   },
   {
    "duration": 17,
    "start_time": "2023-10-01T19:06:21.581Z"
   },
   {
    "duration": 11,
    "start_time": "2023-10-01T19:06:21.600Z"
   },
   {
    "duration": 22,
    "start_time": "2023-10-01T19:06:21.612Z"
   },
   {
    "duration": 19,
    "start_time": "2023-10-01T19:06:21.636Z"
   },
   {
    "duration": 704,
    "start_time": "2023-10-01T19:06:21.657Z"
   },
   {
    "duration": 6,
    "start_time": "2023-10-01T19:06:22.363Z"
   },
   {
    "duration": 97,
    "start_time": "2023-10-01T19:06:22.370Z"
   },
   {
    "duration": 28,
    "start_time": "2023-10-01T19:06:22.469Z"
   },
   {
    "duration": 27,
    "start_time": "2023-10-01T19:06:22.500Z"
   },
   {
    "duration": 321,
    "start_time": "2023-10-01T19:06:22.529Z"
   },
   {
    "duration": 27,
    "start_time": "2023-10-01T19:06:22.852Z"
   },
   {
    "duration": 539,
    "start_time": "2023-10-01T19:06:22.881Z"
   },
   {
    "duration": 42,
    "start_time": "2023-10-01T19:06:23.422Z"
   },
   {
    "duration": 783,
    "start_time": "2023-10-01T19:06:23.466Z"
   },
   {
    "duration": 25,
    "start_time": "2023-10-01T19:06:24.251Z"
   },
   {
    "duration": 69,
    "start_time": "2023-10-01T19:06:24.278Z"
   },
   {
    "duration": 20,
    "start_time": "2023-10-01T19:06:24.349Z"
   },
   {
    "duration": 82,
    "start_time": "2023-10-01T19:06:24.371Z"
   },
   {
    "duration": 19,
    "start_time": "2023-10-01T19:06:24.455Z"
   },
   {
    "duration": 80,
    "start_time": "2023-10-01T19:06:24.476Z"
   },
   {
    "duration": 1042,
    "start_time": "2023-10-01T19:06:24.558Z"
   },
   {
    "duration": 20,
    "start_time": "2023-10-01T19:06:25.602Z"
   },
   {
    "duration": 35,
    "start_time": "2023-10-01T19:06:25.624Z"
   },
   {
    "duration": 562,
    "start_time": "2023-10-01T19:06:25.661Z"
   },
   {
    "duration": 8,
    "start_time": "2023-10-01T19:06:26.225Z"
   },
   {
    "duration": 41,
    "start_time": "2023-10-01T19:06:26.235Z"
   },
   {
    "duration": 11,
    "start_time": "2023-10-01T19:06:26.277Z"
   },
   {
    "duration": 76,
    "start_time": "2023-10-01T19:06:26.289Z"
   },
   {
    "duration": 0,
    "start_time": "2023-10-01T19:06:26.366Z"
   },
   {
    "duration": 0,
    "start_time": "2023-10-01T19:06:26.368Z"
   },
   {
    "duration": 0,
    "start_time": "2023-10-01T19:06:26.369Z"
   },
   {
    "duration": 0,
    "start_time": "2023-10-01T19:06:26.371Z"
   },
   {
    "duration": 0,
    "start_time": "2023-10-01T19:06:26.372Z"
   },
   {
    "duration": 0,
    "start_time": "2023-10-01T19:06:26.373Z"
   },
   {
    "duration": 0,
    "start_time": "2023-10-01T19:06:26.374Z"
   },
   {
    "duration": 0,
    "start_time": "2023-10-01T19:06:26.375Z"
   },
   {
    "duration": 0,
    "start_time": "2023-10-01T19:06:26.377Z"
   },
   {
    "duration": 0,
    "start_time": "2023-10-01T19:06:26.378Z"
   },
   {
    "duration": 0,
    "start_time": "2023-10-01T19:06:26.379Z"
   },
   {
    "duration": 0,
    "start_time": "2023-10-01T19:06:26.380Z"
   },
   {
    "duration": 0,
    "start_time": "2023-10-01T19:06:26.381Z"
   },
   {
    "duration": 0,
    "start_time": "2023-10-01T19:06:26.382Z"
   },
   {
    "duration": 1575,
    "start_time": "2023-10-01T19:06:37.966Z"
   },
   {
    "duration": 477,
    "start_time": "2023-10-01T19:06:45.798Z"
   },
   {
    "duration": 71,
    "start_time": "2023-10-01T19:06:46.277Z"
   },
   {
    "duration": 17,
    "start_time": "2023-10-01T19:06:46.349Z"
   },
   {
    "duration": 12,
    "start_time": "2023-10-01T19:06:46.367Z"
   },
   {
    "duration": 10,
    "start_time": "2023-10-01T19:06:46.381Z"
   },
   {
    "duration": 11,
    "start_time": "2023-10-01T19:06:46.393Z"
   },
   {
    "duration": 46,
    "start_time": "2023-10-01T19:06:46.406Z"
   },
   {
    "duration": 12,
    "start_time": "2023-10-01T19:06:46.454Z"
   },
   {
    "duration": 11,
    "start_time": "2023-10-01T19:06:46.468Z"
   },
   {
    "duration": 17,
    "start_time": "2023-10-01T19:06:46.481Z"
   },
   {
    "duration": 7,
    "start_time": "2023-10-01T19:06:46.501Z"
   },
   {
    "duration": 38,
    "start_time": "2023-10-01T19:06:46.510Z"
   },
   {
    "duration": 9,
    "start_time": "2023-10-01T19:06:46.550Z"
   },
   {
    "duration": 8,
    "start_time": "2023-10-01T19:06:46.562Z"
   },
   {
    "duration": 7,
    "start_time": "2023-10-01T19:06:46.572Z"
   },
   {
    "duration": 17,
    "start_time": "2023-10-01T19:06:46.580Z"
   },
   {
    "duration": 6,
    "start_time": "2023-10-01T19:06:46.599Z"
   },
   {
    "duration": 7,
    "start_time": "2023-10-01T19:06:46.607Z"
   },
   {
    "duration": 38,
    "start_time": "2023-10-01T19:06:46.616Z"
   },
   {
    "duration": 12,
    "start_time": "2023-10-01T19:06:46.656Z"
   },
   {
    "duration": 6,
    "start_time": "2023-10-01T19:06:46.670Z"
   },
   {
    "duration": 7,
    "start_time": "2023-10-01T19:06:46.677Z"
   },
   {
    "duration": 63,
    "start_time": "2023-10-01T19:06:46.685Z"
   },
   {
    "duration": 812,
    "start_time": "2023-10-01T19:06:46.750Z"
   },
   {
    "duration": 5,
    "start_time": "2023-10-01T19:06:47.565Z"
   },
   {
    "duration": 188,
    "start_time": "2023-10-01T19:06:47.572Z"
   },
   {
    "duration": 10,
    "start_time": "2023-10-01T19:06:47.762Z"
   },
   {
    "duration": 11,
    "start_time": "2023-10-01T19:06:47.774Z"
   },
   {
    "duration": 489,
    "start_time": "2023-10-01T19:06:47.787Z"
   },
   {
    "duration": 81,
    "start_time": "2023-10-01T19:06:48.278Z"
   },
   {
    "duration": 453,
    "start_time": "2023-10-01T19:06:48.362Z"
   },
   {
    "duration": 32,
    "start_time": "2023-10-01T19:06:48.816Z"
   },
   {
    "duration": 321,
    "start_time": "2023-10-01T19:06:48.850Z"
   },
   {
    "duration": 25,
    "start_time": "2023-10-01T19:06:49.173Z"
   },
   {
    "duration": 14,
    "start_time": "2023-10-01T19:06:49.199Z"
   },
   {
    "duration": 41,
    "start_time": "2023-10-01T19:06:49.215Z"
   },
   {
    "duration": 19,
    "start_time": "2023-10-01T19:06:49.257Z"
   },
   {
    "duration": 24,
    "start_time": "2023-10-01T19:06:49.278Z"
   },
   {
    "duration": 22,
    "start_time": "2023-10-01T19:06:49.304Z"
   },
   {
    "duration": 846,
    "start_time": "2023-10-01T19:06:49.347Z"
   },
   {
    "duration": 17,
    "start_time": "2023-10-01T19:06:50.250Z"
   },
   {
    "duration": 16,
    "start_time": "2023-10-01T19:06:50.268Z"
   },
   {
    "duration": 996,
    "start_time": "2023-10-01T19:06:50.286Z"
   },
   {
    "duration": 7,
    "start_time": "2023-10-01T19:06:51.284Z"
   },
   {
    "duration": 84,
    "start_time": "2023-10-01T19:06:51.293Z"
   },
   {
    "duration": 11,
    "start_time": "2023-10-01T19:06:51.379Z"
   },
   {
    "duration": 1596,
    "start_time": "2023-10-01T19:06:51.447Z"
   },
   {
    "duration": 0,
    "start_time": "2023-10-01T19:06:53.045Z"
   },
   {
    "duration": 0,
    "start_time": "2023-10-01T19:06:53.046Z"
   },
   {
    "duration": 0,
    "start_time": "2023-10-01T19:06:53.047Z"
   },
   {
    "duration": 0,
    "start_time": "2023-10-01T19:06:53.048Z"
   },
   {
    "duration": 0,
    "start_time": "2023-10-01T19:06:53.050Z"
   },
   {
    "duration": 0,
    "start_time": "2023-10-01T19:06:53.051Z"
   },
   {
    "duration": 0,
    "start_time": "2023-10-01T19:06:53.053Z"
   },
   {
    "duration": 0,
    "start_time": "2023-10-01T19:06:53.054Z"
   },
   {
    "duration": 0,
    "start_time": "2023-10-01T19:06:53.055Z"
   },
   {
    "duration": 0,
    "start_time": "2023-10-01T19:06:53.058Z"
   },
   {
    "duration": 0,
    "start_time": "2023-10-01T19:06:53.059Z"
   },
   {
    "duration": 0,
    "start_time": "2023-10-01T19:06:53.060Z"
   },
   {
    "duration": 0,
    "start_time": "2023-10-01T19:06:53.061Z"
   },
   {
    "duration": 0,
    "start_time": "2023-10-01T19:06:53.062Z"
   },
   {
    "duration": 24,
    "start_time": "2023-10-01T19:08:39.238Z"
   },
   {
    "duration": 536,
    "start_time": "2023-10-01T19:11:28.925Z"
   },
   {
    "duration": 979,
    "start_time": "2023-10-01T19:11:36.651Z"
   },
   {
    "duration": 70,
    "start_time": "2023-10-01T19:11:37.632Z"
   },
   {
    "duration": 16,
    "start_time": "2023-10-01T19:11:37.705Z"
   },
   {
    "duration": 12,
    "start_time": "2023-10-01T19:11:37.723Z"
   },
   {
    "duration": 11,
    "start_time": "2023-10-01T19:11:37.737Z"
   },
   {
    "duration": 17,
    "start_time": "2023-10-01T19:11:37.749Z"
   },
   {
    "duration": 8,
    "start_time": "2023-10-01T19:11:37.768Z"
   },
   {
    "duration": 12,
    "start_time": "2023-10-01T19:11:37.778Z"
   },
   {
    "duration": 11,
    "start_time": "2023-10-01T19:11:37.792Z"
   },
   {
    "duration": 13,
    "start_time": "2023-10-01T19:11:37.804Z"
   },
   {
    "duration": 28,
    "start_time": "2023-10-01T19:11:37.819Z"
   },
   {
    "duration": 9,
    "start_time": "2023-10-01T19:11:37.849Z"
   },
   {
    "duration": 12,
    "start_time": "2023-10-01T19:11:37.860Z"
   },
   {
    "duration": 4,
    "start_time": "2023-10-01T19:11:37.875Z"
   },
   {
    "duration": 6,
    "start_time": "2023-10-01T19:11:37.881Z"
   },
   {
    "duration": 8,
    "start_time": "2023-10-01T19:11:37.888Z"
   },
   {
    "duration": 5,
    "start_time": "2023-10-01T19:11:37.897Z"
   },
   {
    "duration": 45,
    "start_time": "2023-10-01T19:11:37.904Z"
   },
   {
    "duration": 8,
    "start_time": "2023-10-01T19:11:37.951Z"
   },
   {
    "duration": 14,
    "start_time": "2023-10-01T19:11:37.960Z"
   },
   {
    "duration": 9,
    "start_time": "2023-10-01T19:11:37.976Z"
   },
   {
    "duration": 9,
    "start_time": "2023-10-01T19:11:37.987Z"
   },
   {
    "duration": 9,
    "start_time": "2023-10-01T19:11:37.998Z"
   },
   {
    "duration": 497,
    "start_time": "2023-10-01T19:11:38.009Z"
   },
   {
    "duration": 6,
    "start_time": "2023-10-01T19:11:38.508Z"
   },
   {
    "duration": 91,
    "start_time": "2023-10-01T19:11:38.516Z"
   },
   {
    "duration": 9,
    "start_time": "2023-10-01T19:11:38.609Z"
   },
   {
    "duration": 27,
    "start_time": "2023-10-01T19:11:38.620Z"
   },
   {
    "duration": 229,
    "start_time": "2023-10-01T19:11:38.650Z"
   },
   {
    "duration": 19,
    "start_time": "2023-10-01T19:11:38.881Z"
   },
   {
    "duration": 287,
    "start_time": "2023-10-01T19:11:38.901Z"
   },
   {
    "duration": 18,
    "start_time": "2023-10-01T19:11:39.190Z"
   },
   {
    "duration": 269,
    "start_time": "2023-10-01T19:11:39.209Z"
   },
   {
    "duration": 28,
    "start_time": "2023-10-01T19:11:39.480Z"
   },
   {
    "duration": 15,
    "start_time": "2023-10-01T19:11:39.510Z"
   },
   {
    "duration": 18,
    "start_time": "2023-10-01T19:11:39.546Z"
   },
   {
    "duration": 21,
    "start_time": "2023-10-01T19:11:39.566Z"
   },
   {
    "duration": 17,
    "start_time": "2023-10-01T19:11:39.589Z"
   },
   {
    "duration": 45,
    "start_time": "2023-10-01T19:11:39.608Z"
   },
   {
    "duration": 493,
    "start_time": "2023-10-01T19:11:39.655Z"
   },
   {
    "duration": 18,
    "start_time": "2023-10-01T19:11:40.152Z"
   },
   {
    "duration": 18,
    "start_time": "2023-10-01T19:11:40.172Z"
   },
   {
    "duration": 594,
    "start_time": "2023-10-01T19:11:40.192Z"
   },
   {
    "duration": 7,
    "start_time": "2023-10-01T19:11:40.788Z"
   },
   {
    "duration": 33,
    "start_time": "2023-10-01T19:11:40.797Z"
   },
   {
    "duration": 22,
    "start_time": "2023-10-01T19:11:40.831Z"
   },
   {
    "duration": 24,
    "start_time": "2023-10-01T19:11:40.855Z"
   },
   {
    "duration": 5,
    "start_time": "2023-10-01T19:11:40.881Z"
   },
   {
    "duration": 17,
    "start_time": "2023-10-01T19:11:40.888Z"
   },
   {
    "duration": 48,
    "start_time": "2023-10-01T19:11:40.907Z"
   },
   {
    "duration": 22,
    "start_time": "2023-10-01T19:11:40.957Z"
   },
   {
    "duration": 19,
    "start_time": "2023-10-01T19:11:40.980Z"
   },
   {
    "duration": 23,
    "start_time": "2023-10-01T19:11:41.000Z"
   },
   {
    "duration": 25,
    "start_time": "2023-10-01T19:11:41.025Z"
   },
   {
    "duration": 28,
    "start_time": "2023-10-01T19:11:41.052Z"
   },
   {
    "duration": 169,
    "start_time": "2023-10-01T19:11:41.082Z"
   },
   {
    "duration": 9,
    "start_time": "2023-10-01T19:11:41.253Z"
   },
   {
    "duration": 166,
    "start_time": "2023-10-01T19:11:41.264Z"
   },
   {
    "duration": 6,
    "start_time": "2023-10-01T19:11:41.432Z"
   },
   {
    "duration": 175,
    "start_time": "2023-10-01T19:11:41.447Z"
   },
   {
    "duration": 24,
    "start_time": "2023-10-01T19:11:41.624Z"
   },
   {
    "duration": 3,
    "start_time": "2023-10-02T02:13:05.015Z"
   },
   {
    "duration": 296,
    "start_time": "2023-10-02T02:13:05.020Z"
   },
   {
    "duration": 15,
    "start_time": "2023-10-02T02:13:05.318Z"
   },
   {
    "duration": 16,
    "start_time": "2023-10-02T02:13:05.335Z"
   },
   {
    "duration": 23,
    "start_time": "2023-10-02T02:13:05.353Z"
   },
   {
    "duration": 52,
    "start_time": "2023-10-02T02:13:05.378Z"
   },
   {
    "duration": 7,
    "start_time": "2023-10-02T02:13:05.432Z"
   },
   {
    "duration": 34,
    "start_time": "2023-10-02T02:13:05.442Z"
   },
   {
    "duration": 40,
    "start_time": "2023-10-02T02:13:05.479Z"
   },
   {
    "duration": 19,
    "start_time": "2023-10-02T02:13:05.521Z"
   },
   {
    "duration": 15,
    "start_time": "2023-10-02T02:13:05.542Z"
   },
   {
    "duration": 18,
    "start_time": "2023-10-02T02:13:05.559Z"
   },
   {
    "duration": 34,
    "start_time": "2023-10-02T02:13:05.579Z"
   },
   {
    "duration": 6,
    "start_time": "2023-10-02T02:13:05.615Z"
   },
   {
    "duration": 12,
    "start_time": "2023-10-02T02:13:05.623Z"
   },
   {
    "duration": 20,
    "start_time": "2023-10-02T02:13:05.637Z"
   },
   {
    "duration": 13,
    "start_time": "2023-10-02T02:13:05.659Z"
   },
   {
    "duration": 18,
    "start_time": "2023-10-02T02:13:05.674Z"
   },
   {
    "duration": 37,
    "start_time": "2023-10-02T02:13:05.694Z"
   },
   {
    "duration": 27,
    "start_time": "2023-10-02T02:13:05.733Z"
   },
   {
    "duration": 8,
    "start_time": "2023-10-02T02:13:05.761Z"
   },
   {
    "duration": 52,
    "start_time": "2023-10-02T02:13:05.771Z"
   },
   {
    "duration": 88,
    "start_time": "2023-10-02T02:13:05.825Z"
   },
   {
    "duration": 1284,
    "start_time": "2023-10-02T02:13:10.998Z"
   },
   {
    "duration": 72,
    "start_time": "2023-10-02T02:13:12.284Z"
   },
   {
    "duration": 13,
    "start_time": "2023-10-02T02:13:12.358Z"
   },
   {
    "duration": 40,
    "start_time": "2023-10-02T02:13:12.373Z"
   },
   {
    "duration": 17,
    "start_time": "2023-10-02T02:13:12.416Z"
   },
   {
    "duration": 26,
    "start_time": "2023-10-02T02:13:12.434Z"
   },
   {
    "duration": 7,
    "start_time": "2023-10-02T02:13:12.462Z"
   },
   {
    "duration": 19,
    "start_time": "2023-10-02T02:13:12.470Z"
   },
   {
    "duration": 32,
    "start_time": "2023-10-02T02:13:12.491Z"
   },
   {
    "duration": 13,
    "start_time": "2023-10-02T02:13:12.527Z"
   },
   {
    "duration": 7,
    "start_time": "2023-10-02T02:13:12.542Z"
   },
   {
    "duration": 18,
    "start_time": "2023-10-02T02:13:12.551Z"
   },
   {
    "duration": 15,
    "start_time": "2023-10-02T02:13:12.570Z"
   },
   {
    "duration": 22,
    "start_time": "2023-10-02T02:13:12.587Z"
   },
   {
    "duration": 18,
    "start_time": "2023-10-02T02:13:12.611Z"
   },
   {
    "duration": 26,
    "start_time": "2023-10-02T02:13:12.630Z"
   },
   {
    "duration": 30,
    "start_time": "2023-10-02T02:13:12.658Z"
   },
   {
    "duration": 32,
    "start_time": "2023-10-02T02:13:12.690Z"
   },
   {
    "duration": 31,
    "start_time": "2023-10-02T02:13:12.723Z"
   },
   {
    "duration": 27,
    "start_time": "2023-10-02T02:13:12.755Z"
   },
   {
    "duration": 34,
    "start_time": "2023-10-02T02:13:12.784Z"
   },
   {
    "duration": 10,
    "start_time": "2023-10-02T02:13:12.819Z"
   },
   {
    "duration": 23,
    "start_time": "2023-10-02T02:13:12.831Z"
   },
   {
    "duration": 192,
    "start_time": "2023-10-02T02:13:12.856Z"
   },
   {
    "duration": 6,
    "start_time": "2023-10-02T02:13:13.049Z"
   },
   {
    "duration": 138,
    "start_time": "2023-10-02T02:13:13.056Z"
   },
   {
    "duration": 21,
    "start_time": "2023-10-02T02:13:13.196Z"
   },
   {
    "duration": 9,
    "start_time": "2023-10-02T02:13:13.220Z"
   },
   {
    "duration": 247,
    "start_time": "2023-10-02T02:13:13.231Z"
   },
   {
    "duration": 18,
    "start_time": "2023-10-02T02:13:13.479Z"
   },
   {
    "duration": 259,
    "start_time": "2023-10-02T02:13:13.504Z"
   },
   {
    "duration": 18,
    "start_time": "2023-10-02T02:13:13.765Z"
   },
   {
    "duration": 276,
    "start_time": "2023-10-02T02:13:13.784Z"
   },
   {
    "duration": 26,
    "start_time": "2023-10-02T02:13:14.061Z"
   },
   {
    "duration": 35,
    "start_time": "2023-10-02T02:13:14.089Z"
   },
   {
    "duration": 21,
    "start_time": "2023-10-02T02:13:14.125Z"
   },
   {
    "duration": 25,
    "start_time": "2023-10-02T02:13:14.148Z"
   },
   {
    "duration": 41,
    "start_time": "2023-10-02T02:13:14.175Z"
   },
   {
    "duration": 20,
    "start_time": "2023-10-02T02:13:14.218Z"
   },
   {
    "duration": 686,
    "start_time": "2023-10-02T02:13:14.240Z"
   },
   {
    "duration": 18,
    "start_time": "2023-10-02T02:13:14.929Z"
   },
   {
    "duration": 32,
    "start_time": "2023-10-02T02:13:14.949Z"
   },
   {
    "duration": 515,
    "start_time": "2023-10-02T02:13:14.983Z"
   },
   {
    "duration": 19,
    "start_time": "2023-10-02T02:13:15.501Z"
   },
   {
    "duration": 50,
    "start_time": "2023-10-02T02:13:15.522Z"
   },
   {
    "duration": 10,
    "start_time": "2023-10-02T02:13:15.575Z"
   },
   {
    "duration": 47,
    "start_time": "2023-10-02T02:13:15.587Z"
   },
   {
    "duration": 23,
    "start_time": "2023-10-02T02:13:15.636Z"
   },
   {
    "duration": 29,
    "start_time": "2023-10-02T02:13:15.662Z"
   },
   {
    "duration": 30,
    "start_time": "2023-10-02T02:13:15.693Z"
   },
   {
    "duration": 95,
    "start_time": "2023-10-02T02:13:15.725Z"
   },
   {
    "duration": 207,
    "start_time": "2023-10-02T02:13:15.822Z"
   },
   {
    "duration": 47,
    "start_time": "2023-10-02T02:13:16.031Z"
   },
   {
    "duration": 35,
    "start_time": "2023-10-02T02:13:16.080Z"
   },
   {
    "duration": 32,
    "start_time": "2023-10-02T02:13:16.117Z"
   },
   {
    "duration": 187,
    "start_time": "2023-10-02T02:13:16.151Z"
   },
   {
    "duration": 8,
    "start_time": "2023-10-02T02:13:16.340Z"
   },
   {
    "duration": 170,
    "start_time": "2023-10-02T02:13:16.350Z"
   },
   {
    "duration": 6,
    "start_time": "2023-10-02T02:13:16.521Z"
   },
   {
    "duration": 469,
    "start_time": "2023-10-02T02:13:16.530Z"
   },
   {
    "duration": 22,
    "start_time": "2023-10-02T02:13:17.001Z"
   },
   {
    "duration": 6,
    "start_time": "2023-10-02T02:14:55.266Z"
   },
   {
    "duration": 7,
    "start_time": "2023-10-02T02:15:01.646Z"
   },
   {
    "duration": 236,
    "start_time": "2023-10-02T02:18:23.759Z"
   },
   {
    "duration": 313,
    "start_time": "2023-10-02T02:18:39.934Z"
   },
   {
    "duration": 239,
    "start_time": "2023-10-02T02:19:28.559Z"
   },
   {
    "duration": 224,
    "start_time": "2023-10-02T02:19:44.818Z"
   },
   {
    "duration": 332,
    "start_time": "2023-10-02T02:19:54.815Z"
   },
   {
    "duration": 278,
    "start_time": "2023-10-02T02:20:39.059Z"
   },
   {
    "duration": 295,
    "start_time": "2023-10-02T02:21:28.598Z"
   },
   {
    "duration": 294,
    "start_time": "2023-10-02T02:21:57.955Z"
   },
   {
    "duration": 523,
    "start_time": "2023-10-02T02:22:40.631Z"
   },
   {
    "duration": 480,
    "start_time": "2023-10-02T02:24:41.305Z"
   },
   {
    "duration": 209,
    "start_time": "2023-10-02T02:25:15.150Z"
   },
   {
    "duration": 197,
    "start_time": "2023-10-02T02:25:37.775Z"
   },
   {
    "duration": 218,
    "start_time": "2023-10-02T02:25:54.721Z"
   },
   {
    "duration": 118,
    "start_time": "2023-10-02T02:28:47.553Z"
   },
   {
    "duration": 108,
    "start_time": "2023-10-02T02:29:18.440Z"
   },
   {
    "duration": 125,
    "start_time": "2023-10-02T02:29:37.854Z"
   },
   {
    "duration": 107,
    "start_time": "2023-10-02T02:29:56.233Z"
   },
   {
    "duration": 144,
    "start_time": "2023-10-02T02:30:14.397Z"
   },
   {
    "duration": 150,
    "start_time": "2023-10-02T02:30:37.346Z"
   },
   {
    "duration": 94,
    "start_time": "2023-10-02T02:30:43.319Z"
   },
   {
    "duration": 89,
    "start_time": "2023-10-02T02:30:48.934Z"
   },
   {
    "duration": 130,
    "start_time": "2023-10-02T02:30:54.549Z"
   },
   {
    "duration": 145,
    "start_time": "2023-10-02T02:31:40.289Z"
   },
   {
    "duration": 1255,
    "start_time": "2023-10-02T02:32:05.429Z"
   },
   {
    "duration": 78,
    "start_time": "2023-10-02T02:32:06.686Z"
   },
   {
    "duration": 17,
    "start_time": "2023-10-02T02:32:06.765Z"
   },
   {
    "duration": 32,
    "start_time": "2023-10-02T02:32:06.785Z"
   },
   {
    "duration": 32,
    "start_time": "2023-10-02T02:32:06.819Z"
   },
   {
    "duration": 30,
    "start_time": "2023-10-02T02:32:06.852Z"
   },
   {
    "duration": 37,
    "start_time": "2023-10-02T02:32:06.883Z"
   },
   {
    "duration": 33,
    "start_time": "2023-10-02T02:32:06.923Z"
   },
   {
    "duration": 36,
    "start_time": "2023-10-02T02:32:06.958Z"
   },
   {
    "duration": 27,
    "start_time": "2023-10-02T02:32:06.997Z"
   },
   {
    "duration": 25,
    "start_time": "2023-10-02T02:32:07.026Z"
   },
   {
    "duration": 17,
    "start_time": "2023-10-02T02:32:07.052Z"
   },
   {
    "duration": 38,
    "start_time": "2023-10-02T02:32:07.071Z"
   },
   {
    "duration": 29,
    "start_time": "2023-10-02T02:32:07.110Z"
   },
   {
    "duration": 33,
    "start_time": "2023-10-02T02:32:07.141Z"
   },
   {
    "duration": 40,
    "start_time": "2023-10-02T02:32:07.176Z"
   },
   {
    "duration": 5,
    "start_time": "2023-10-02T02:32:07.219Z"
   },
   {
    "duration": 23,
    "start_time": "2023-10-02T02:32:07.226Z"
   },
   {
    "duration": 26,
    "start_time": "2023-10-02T02:32:07.251Z"
   },
   {
    "duration": 38,
    "start_time": "2023-10-02T02:32:07.280Z"
   },
   {
    "duration": 47,
    "start_time": "2023-10-02T02:32:07.320Z"
   },
   {
    "duration": 50,
    "start_time": "2023-10-02T02:32:07.369Z"
   },
   {
    "duration": 36,
    "start_time": "2023-10-02T02:32:07.421Z"
   },
   {
    "duration": 219,
    "start_time": "2023-10-02T02:32:07.459Z"
   },
   {
    "duration": 7,
    "start_time": "2023-10-02T02:32:07.680Z"
   },
   {
    "duration": 88,
    "start_time": "2023-10-02T02:32:07.689Z"
   },
   {
    "duration": 7,
    "start_time": "2023-10-02T02:32:07.779Z"
   },
   {
    "duration": 17,
    "start_time": "2023-10-02T02:32:07.806Z"
   },
   {
    "duration": 237,
    "start_time": "2023-10-02T02:32:07.825Z"
   },
   {
    "duration": 20,
    "start_time": "2023-10-02T02:32:08.065Z"
   },
   {
    "duration": 291,
    "start_time": "2023-10-02T02:32:08.087Z"
   },
   {
    "duration": 39,
    "start_time": "2023-10-02T02:32:08.380Z"
   },
   {
    "duration": 496,
    "start_time": "2023-10-02T02:32:08.421Z"
   },
   {
    "duration": 102,
    "start_time": "2023-10-02T02:32:08.919Z"
   },
   {
    "duration": 16,
    "start_time": "2023-10-02T02:32:09.024Z"
   },
   {
    "duration": 76,
    "start_time": "2023-10-02T02:32:09.042Z"
   },
   {
    "duration": 16,
    "start_time": "2023-10-02T02:32:09.120Z"
   },
   {
    "duration": 85,
    "start_time": "2023-10-02T02:32:09.138Z"
   },
   {
    "duration": 23,
    "start_time": "2023-10-02T02:32:09.224Z"
   },
   {
    "duration": 92,
    "start_time": "2023-10-02T02:32:09.249Z"
   },
   {
    "duration": 0,
    "start_time": "2023-10-02T02:32:09.343Z"
   },
   {
    "duration": 0,
    "start_time": "2023-10-02T02:32:09.344Z"
   },
   {
    "duration": 0,
    "start_time": "2023-10-02T02:32:09.346Z"
   },
   {
    "duration": 0,
    "start_time": "2023-10-02T02:32:09.347Z"
   },
   {
    "duration": 0,
    "start_time": "2023-10-02T02:32:09.348Z"
   },
   {
    "duration": 0,
    "start_time": "2023-10-02T02:32:09.350Z"
   },
   {
    "duration": 0,
    "start_time": "2023-10-02T02:32:09.352Z"
   },
   {
    "duration": 0,
    "start_time": "2023-10-02T02:32:09.353Z"
   },
   {
    "duration": 0,
    "start_time": "2023-10-02T02:32:09.354Z"
   },
   {
    "duration": 0,
    "start_time": "2023-10-02T02:32:09.356Z"
   },
   {
    "duration": 0,
    "start_time": "2023-10-02T02:32:09.357Z"
   },
   {
    "duration": 0,
    "start_time": "2023-10-02T02:32:09.359Z"
   },
   {
    "duration": 0,
    "start_time": "2023-10-02T02:32:09.360Z"
   },
   {
    "duration": 0,
    "start_time": "2023-10-02T02:32:09.362Z"
   },
   {
    "duration": 0,
    "start_time": "2023-10-02T02:32:09.363Z"
   },
   {
    "duration": 0,
    "start_time": "2023-10-02T02:32:09.413Z"
   },
   {
    "duration": 0,
    "start_time": "2023-10-02T02:32:09.414Z"
   },
   {
    "duration": 0,
    "start_time": "2023-10-02T02:32:09.415Z"
   },
   {
    "duration": 0,
    "start_time": "2023-10-02T02:32:09.415Z"
   },
   {
    "duration": 0,
    "start_time": "2023-10-02T02:32:09.416Z"
   },
   {
    "duration": 0,
    "start_time": "2023-10-02T02:32:09.418Z"
   },
   {
    "duration": 113,
    "start_time": "2023-10-02T02:33:45.800Z"
   },
   {
    "duration": 159,
    "start_time": "2023-10-02T02:34:00.498Z"
   },
   {
    "duration": 170,
    "start_time": "2023-10-02T02:34:14.116Z"
   },
   {
    "duration": 270,
    "start_time": "2023-10-02T02:34:35.185Z"
   },
   {
    "duration": 284,
    "start_time": "2023-10-02T02:34:48.912Z"
   },
   {
    "duration": 206,
    "start_time": "2023-10-02T02:34:56.182Z"
   },
   {
    "duration": 344,
    "start_time": "2023-10-02T02:35:24.180Z"
   },
   {
    "duration": 221,
    "start_time": "2023-10-02T02:36:09.700Z"
   },
   {
    "duration": 211,
    "start_time": "2023-10-02T02:36:16.650Z"
   },
   {
    "duration": 217,
    "start_time": "2023-10-02T02:48:41.296Z"
   },
   {
    "duration": 18,
    "start_time": "2023-10-02T02:49:06.681Z"
   },
   {
    "duration": 28,
    "start_time": "2023-10-02T02:49:07.499Z"
   },
   {
    "duration": 220,
    "start_time": "2023-10-02T02:49:08.424Z"
   },
   {
    "duration": 227,
    "start_time": "2023-10-02T02:49:28.222Z"
   },
   {
    "duration": 208,
    "start_time": "2023-10-02T02:50:23.415Z"
   },
   {
    "duration": 171,
    "start_time": "2023-10-02T02:52:41.715Z"
   },
   {
    "duration": 325,
    "start_time": "2023-10-02T02:53:00.891Z"
   },
   {
    "duration": 199,
    "start_time": "2023-10-02T02:53:35.594Z"
   },
   {
    "duration": 161,
    "start_time": "2023-10-02T02:53:55.029Z"
   },
   {
    "duration": 196,
    "start_time": "2023-10-02T02:56:48.961Z"
   },
   {
    "duration": 184,
    "start_time": "2023-10-02T02:56:58.928Z"
   },
   {
    "duration": 180,
    "start_time": "2023-10-02T02:57:29.961Z"
   },
   {
    "duration": 195,
    "start_time": "2023-10-02T02:57:36.401Z"
   },
   {
    "duration": 210,
    "start_time": "2023-10-02T02:57:41.461Z"
   },
   {
    "duration": 221,
    "start_time": "2023-10-02T02:59:00.891Z"
   },
   {
    "duration": 191,
    "start_time": "2023-10-02T02:59:25.640Z"
   },
   {
    "duration": 184,
    "start_time": "2023-10-02T03:02:56.283Z"
   },
   {
    "duration": 266,
    "start_time": "2023-10-02T03:03:27.324Z"
   },
   {
    "duration": 189,
    "start_time": "2023-10-02T03:03:32.830Z"
   },
   {
    "duration": 217,
    "start_time": "2023-10-02T03:03:38.444Z"
   },
   {
    "duration": 151,
    "start_time": "2023-10-02T03:37:45.687Z"
   },
   {
    "duration": 194,
    "start_time": "2023-10-02T03:37:55.797Z"
   },
   {
    "duration": 141,
    "start_time": "2023-10-02T03:38:16.810Z"
   },
   {
    "duration": 1146,
    "start_time": "2023-10-02T03:43:13.400Z"
   },
   {
    "duration": 1108,
    "start_time": "2023-10-02T03:43:49.552Z"
   },
   {
    "duration": 70,
    "start_time": "2023-10-02T03:43:50.662Z"
   },
   {
    "duration": 1154,
    "start_time": "2023-10-02T03:45:48.162Z"
   },
   {
    "duration": 67,
    "start_time": "2023-10-02T03:45:49.318Z"
   },
   {
    "duration": 14,
    "start_time": "2023-10-02T03:45:49.387Z"
   },
   {
    "duration": 38,
    "start_time": "2023-10-02T03:45:49.403Z"
   },
   {
    "duration": 23,
    "start_time": "2023-10-02T03:45:49.443Z"
   },
   {
    "duration": 72,
    "start_time": "2023-10-02T03:45:49.467Z"
   },
   {
    "duration": 94,
    "start_time": "2023-10-02T03:45:49.540Z"
   },
   {
    "duration": 63,
    "start_time": "2023-10-02T03:45:49.636Z"
   },
   {
    "duration": 26,
    "start_time": "2023-10-02T03:45:49.701Z"
   },
   {
    "duration": 10,
    "start_time": "2023-10-02T03:45:49.730Z"
   },
   {
    "duration": 5,
    "start_time": "2023-10-02T03:45:49.741Z"
   },
   {
    "duration": 12,
    "start_time": "2023-10-02T03:45:49.747Z"
   },
   {
    "duration": 9,
    "start_time": "2023-10-02T03:45:49.761Z"
   },
   {
    "duration": 23,
    "start_time": "2023-10-02T03:45:49.771Z"
   },
   {
    "duration": 10,
    "start_time": "2023-10-02T03:45:49.802Z"
   },
   {
    "duration": 17,
    "start_time": "2023-10-02T03:45:49.813Z"
   },
   {
    "duration": 5,
    "start_time": "2023-10-02T03:45:49.831Z"
   },
   {
    "duration": 10,
    "start_time": "2023-10-02T03:45:49.838Z"
   },
   {
    "duration": 14,
    "start_time": "2023-10-02T03:45:49.849Z"
   },
   {
    "duration": 9,
    "start_time": "2023-10-02T03:45:49.865Z"
   },
   {
    "duration": 26,
    "start_time": "2023-10-02T03:45:49.876Z"
   },
   {
    "duration": 5,
    "start_time": "2023-10-02T03:45:49.904Z"
   },
   {
    "duration": 24,
    "start_time": "2023-10-02T03:45:49.911Z"
   },
   {
    "duration": 178,
    "start_time": "2023-10-02T03:45:49.936Z"
   },
   {
    "duration": 5,
    "start_time": "2023-10-02T03:45:50.116Z"
   },
   {
    "duration": 90,
    "start_time": "2023-10-02T03:45:50.123Z"
   },
   {
    "duration": 7,
    "start_time": "2023-10-02T03:45:50.215Z"
   },
   {
    "duration": 16,
    "start_time": "2023-10-02T03:45:50.225Z"
   },
   {
    "duration": 217,
    "start_time": "2023-10-02T03:45:50.243Z"
   },
   {
    "duration": 19,
    "start_time": "2023-10-02T03:45:50.462Z"
   },
   {
    "duration": 270,
    "start_time": "2023-10-02T03:45:50.482Z"
   },
   {
    "duration": 17,
    "start_time": "2023-10-02T03:45:50.753Z"
   },
   {
    "duration": 255,
    "start_time": "2023-10-02T03:45:50.772Z"
   },
   {
    "duration": 25,
    "start_time": "2023-10-02T03:45:51.029Z"
   },
   {
    "duration": 13,
    "start_time": "2023-10-02T03:45:51.055Z"
   },
   {
    "duration": 46,
    "start_time": "2023-10-02T03:45:51.070Z"
   },
   {
    "duration": 16,
    "start_time": "2023-10-02T03:45:51.118Z"
   },
   {
    "duration": 15,
    "start_time": "2023-10-02T03:45:51.135Z"
   },
   {
    "duration": 15,
    "start_time": "2023-10-02T03:45:51.152Z"
   },
   {
    "duration": 226,
    "start_time": "2023-10-02T03:45:51.169Z"
   },
   {
    "duration": 18,
    "start_time": "2023-10-02T03:45:51.397Z"
   },
   {
    "duration": 18,
    "start_time": "2023-10-02T03:45:51.417Z"
   },
   {
    "duration": 286,
    "start_time": "2023-10-02T03:45:51.437Z"
   },
   {
    "duration": 7,
    "start_time": "2023-10-02T03:45:51.725Z"
   },
   {
    "duration": 52,
    "start_time": "2023-10-02T03:45:51.733Z"
   },
   {
    "duration": 10,
    "start_time": "2023-10-02T03:45:51.786Z"
   },
   {
    "duration": 33,
    "start_time": "2023-10-02T03:45:51.801Z"
   },
   {
    "duration": 5,
    "start_time": "2023-10-02T03:45:51.836Z"
   },
   {
    "duration": 35,
    "start_time": "2023-10-02T03:45:51.843Z"
   },
   {
    "duration": 40,
    "start_time": "2023-10-02T03:45:51.880Z"
   },
   {
    "duration": 52,
    "start_time": "2023-10-02T03:45:51.921Z"
   },
   {
    "duration": 16,
    "start_time": "2023-10-02T03:45:51.975Z"
   },
   {
    "duration": 35,
    "start_time": "2023-10-02T03:45:51.993Z"
   },
   {
    "duration": 5,
    "start_time": "2023-10-02T03:45:52.031Z"
   },
   {
    "duration": 44,
    "start_time": "2023-10-02T03:45:52.038Z"
   },
   {
    "duration": 181,
    "start_time": "2023-10-02T03:45:52.084Z"
   },
   {
    "duration": 10,
    "start_time": "2023-10-02T03:45:52.267Z"
   },
   {
    "duration": 226,
    "start_time": "2023-10-02T03:45:52.278Z"
   },
   {
    "duration": 7,
    "start_time": "2023-10-02T03:45:52.506Z"
   },
   {
    "duration": 206,
    "start_time": "2023-10-02T03:45:52.514Z"
   },
   {
    "duration": 11,
    "start_time": "2023-10-02T03:45:52.721Z"
   },
   {
    "duration": 560,
    "start_time": "2023-10-02T03:51:58.961Z"
   },
   {
    "duration": 1547,
    "start_time": "2023-10-02T03:57:54.805Z"
   },
   {
    "duration": 1166,
    "start_time": "2023-10-02T03:58:52.406Z"
   },
   {
    "duration": 70,
    "start_time": "2023-10-02T03:58:53.574Z"
   },
   {
    "duration": 11,
    "start_time": "2023-10-02T03:58:53.646Z"
   },
   {
    "duration": 42,
    "start_time": "2023-10-02T03:58:53.658Z"
   },
   {
    "duration": 18,
    "start_time": "2023-10-02T03:58:53.703Z"
   },
   {
    "duration": 13,
    "start_time": "2023-10-02T03:58:53.722Z"
   },
   {
    "duration": 8,
    "start_time": "2023-10-02T03:58:53.737Z"
   },
   {
    "duration": 43,
    "start_time": "2023-10-02T03:58:53.746Z"
   },
   {
    "duration": 12,
    "start_time": "2023-10-02T03:58:53.791Z"
   },
   {
    "duration": 11,
    "start_time": "2023-10-02T03:58:53.805Z"
   },
   {
    "duration": 6,
    "start_time": "2023-10-02T03:58:53.818Z"
   },
   {
    "duration": 25,
    "start_time": "2023-10-02T03:58:53.826Z"
   },
   {
    "duration": 30,
    "start_time": "2023-10-02T03:58:53.853Z"
   },
   {
    "duration": 28,
    "start_time": "2023-10-02T03:58:53.887Z"
   },
   {
    "duration": 12,
    "start_time": "2023-10-02T03:58:53.916Z"
   },
   {
    "duration": 22,
    "start_time": "2023-10-02T03:58:53.930Z"
   },
   {
    "duration": 8,
    "start_time": "2023-10-02T03:58:53.954Z"
   },
   {
    "duration": 21,
    "start_time": "2023-10-02T03:58:53.963Z"
   },
   {
    "duration": 33,
    "start_time": "2023-10-02T03:58:53.986Z"
   },
   {
    "duration": 15,
    "start_time": "2023-10-02T03:58:54.021Z"
   },
   {
    "duration": 28,
    "start_time": "2023-10-02T03:58:54.037Z"
   },
   {
    "duration": 18,
    "start_time": "2023-10-02T03:58:54.067Z"
   },
   {
    "duration": 30,
    "start_time": "2023-10-02T03:58:54.087Z"
   },
   {
    "duration": 176,
    "start_time": "2023-10-02T03:58:54.119Z"
   },
   {
    "duration": 8,
    "start_time": "2023-10-02T03:58:54.297Z"
   },
   {
    "duration": 76,
    "start_time": "2023-10-02T03:58:54.307Z"
   },
   {
    "duration": 7,
    "start_time": "2023-10-02T03:58:54.402Z"
   },
   {
    "duration": 28,
    "start_time": "2023-10-02T03:58:54.410Z"
   },
   {
    "duration": 243,
    "start_time": "2023-10-02T03:58:54.439Z"
   },
   {
    "duration": 31,
    "start_time": "2023-10-02T03:58:54.684Z"
   },
   {
    "duration": 274,
    "start_time": "2023-10-02T03:58:54.718Z"
   },
   {
    "duration": 19,
    "start_time": "2023-10-02T03:58:54.994Z"
   },
   {
    "duration": 244,
    "start_time": "2023-10-02T03:58:55.015Z"
   },
   {
    "duration": 24,
    "start_time": "2023-10-02T03:58:55.261Z"
   },
   {
    "duration": 26,
    "start_time": "2023-10-02T03:58:55.287Z"
   },
   {
    "duration": 36,
    "start_time": "2023-10-02T03:58:55.316Z"
   },
   {
    "duration": 18,
    "start_time": "2023-10-02T03:58:55.354Z"
   },
   {
    "duration": 29,
    "start_time": "2023-10-02T03:58:55.373Z"
   },
   {
    "duration": 17,
    "start_time": "2023-10-02T03:58:55.404Z"
   },
   {
    "duration": 204,
    "start_time": "2023-10-02T03:58:55.422Z"
   },
   {
    "duration": 16,
    "start_time": "2023-10-02T03:58:55.632Z"
   },
   {
    "duration": 16,
    "start_time": "2023-10-02T03:58:55.650Z"
   },
   {
    "duration": 290,
    "start_time": "2023-10-02T03:58:55.668Z"
   },
   {
    "duration": 8,
    "start_time": "2023-10-02T03:58:55.959Z"
   },
   {
    "duration": 49,
    "start_time": "2023-10-02T03:58:55.968Z"
   },
   {
    "duration": 10,
    "start_time": "2023-10-02T03:58:56.019Z"
   },
   {
    "duration": 35,
    "start_time": "2023-10-02T03:58:56.030Z"
   },
   {
    "duration": 1704,
    "start_time": "2023-10-02T03:58:56.067Z"
   },
   {
    "duration": 0,
    "start_time": "2023-10-02T03:58:57.773Z"
   },
   {
    "duration": 0,
    "start_time": "2023-10-02T03:58:57.774Z"
   },
   {
    "duration": 0,
    "start_time": "2023-10-02T03:58:57.776Z"
   },
   {
    "duration": 0,
    "start_time": "2023-10-02T03:58:57.777Z"
   },
   {
    "duration": 0,
    "start_time": "2023-10-02T03:58:57.778Z"
   },
   {
    "duration": 0,
    "start_time": "2023-10-02T03:58:57.780Z"
   },
   {
    "duration": 0,
    "start_time": "2023-10-02T03:58:57.781Z"
   },
   {
    "duration": 0,
    "start_time": "2023-10-02T03:58:57.782Z"
   },
   {
    "duration": 4466,
    "start_time": "2023-10-02T04:00:03.766Z"
   },
   {
    "duration": 1952,
    "start_time": "2023-10-02T04:00:14.208Z"
   },
   {
    "duration": 2993,
    "start_time": "2023-10-02T04:00:49.155Z"
   },
   {
    "duration": 8,
    "start_time": "2023-10-02T04:01:51.598Z"
   },
   {
    "duration": 20,
    "start_time": "2023-10-02T04:02:00.183Z"
   },
   {
    "duration": 1669,
    "start_time": "2023-10-02T04:02:05.542Z"
   },
   {
    "duration": 22,
    "start_time": "2023-10-02T04:03:08.877Z"
   },
   {
    "duration": 21,
    "start_time": "2023-10-02T04:03:12.523Z"
   },
   {
    "duration": 22,
    "start_time": "2023-10-02T04:03:25.892Z"
   },
   {
    "duration": 24,
    "start_time": "2023-10-02T04:03:35.561Z"
   },
   {
    "duration": 1213,
    "start_time": "2023-10-02T04:03:41.463Z"
   },
   {
    "duration": 68,
    "start_time": "2023-10-02T04:03:42.679Z"
   },
   {
    "duration": 14,
    "start_time": "2023-10-02T04:03:42.749Z"
   },
   {
    "duration": 26,
    "start_time": "2023-10-02T04:03:42.765Z"
   },
   {
    "duration": 21,
    "start_time": "2023-10-02T04:03:42.794Z"
   },
   {
    "duration": 21,
    "start_time": "2023-10-02T04:03:42.818Z"
   },
   {
    "duration": 14,
    "start_time": "2023-10-02T04:03:42.841Z"
   },
   {
    "duration": 36,
    "start_time": "2023-10-02T04:03:42.857Z"
   },
   {
    "duration": 25,
    "start_time": "2023-10-02T04:03:42.894Z"
   },
   {
    "duration": 14,
    "start_time": "2023-10-02T04:03:42.921Z"
   },
   {
    "duration": 5,
    "start_time": "2023-10-02T04:03:42.938Z"
   },
   {
    "duration": 23,
    "start_time": "2023-10-02T04:03:42.944Z"
   },
   {
    "duration": 28,
    "start_time": "2023-10-02T04:03:42.969Z"
   },
   {
    "duration": 7,
    "start_time": "2023-10-02T04:03:43.000Z"
   },
   {
    "duration": 13,
    "start_time": "2023-10-02T04:03:43.009Z"
   },
   {
    "duration": 15,
    "start_time": "2023-10-02T04:03:43.024Z"
   },
   {
    "duration": 5,
    "start_time": "2023-10-02T04:03:43.041Z"
   },
   {
    "duration": 21,
    "start_time": "2023-10-02T04:03:43.048Z"
   },
   {
    "duration": 6,
    "start_time": "2023-10-02T04:03:43.070Z"
   },
   {
    "duration": 14,
    "start_time": "2023-10-02T04:03:43.078Z"
   },
   {
    "duration": 7,
    "start_time": "2023-10-02T04:03:43.102Z"
   },
   {
    "duration": 8,
    "start_time": "2023-10-02T04:03:43.110Z"
   },
   {
    "duration": 11,
    "start_time": "2023-10-02T04:03:43.119Z"
   },
   {
    "duration": 179,
    "start_time": "2023-10-02T04:03:43.131Z"
   },
   {
    "duration": 6,
    "start_time": "2023-10-02T04:03:43.311Z"
   },
   {
    "duration": 83,
    "start_time": "2023-10-02T04:03:43.319Z"
   },
   {
    "duration": 8,
    "start_time": "2023-10-02T04:03:43.404Z"
   },
   {
    "duration": 14,
    "start_time": "2023-10-02T04:03:43.414Z"
   },
   {
    "duration": 244,
    "start_time": "2023-10-02T04:03:43.430Z"
   },
   {
    "duration": 26,
    "start_time": "2023-10-02T04:03:43.676Z"
   },
   {
    "duration": 249,
    "start_time": "2023-10-02T04:03:43.704Z"
   },
   {
    "duration": 17,
    "start_time": "2023-10-02T04:03:43.955Z"
   },
   {
    "duration": 256,
    "start_time": "2023-10-02T04:03:43.974Z"
   },
   {
    "duration": 31,
    "start_time": "2023-10-02T04:03:44.233Z"
   },
   {
    "duration": 36,
    "start_time": "2023-10-02T04:03:44.266Z"
   },
   {
    "duration": 20,
    "start_time": "2023-10-02T04:03:44.305Z"
   },
   {
    "duration": 49,
    "start_time": "2023-10-02T04:03:44.327Z"
   },
   {
    "duration": 20,
    "start_time": "2023-10-02T04:03:44.378Z"
   },
   {
    "duration": 15,
    "start_time": "2023-10-02T04:03:44.399Z"
   },
   {
    "duration": 396,
    "start_time": "2023-10-02T04:03:44.416Z"
   },
   {
    "duration": 19,
    "start_time": "2023-10-02T04:03:44.816Z"
   },
   {
    "duration": 77,
    "start_time": "2023-10-02T04:03:44.837Z"
   },
   {
    "duration": 585,
    "start_time": "2023-10-02T04:03:44.917Z"
   },
   {
    "duration": 7,
    "start_time": "2023-10-02T04:03:45.504Z"
   },
   {
    "duration": 100,
    "start_time": "2023-10-02T04:03:45.513Z"
   },
   {
    "duration": 24,
    "start_time": "2023-10-02T04:03:45.616Z"
   },
   {
    "duration": 79,
    "start_time": "2023-10-02T04:03:45.643Z"
   },
   {
    "duration": 3647,
    "start_time": "2023-10-02T04:03:45.723Z"
   },
   {
    "duration": 0,
    "start_time": "2023-10-02T04:03:49.373Z"
   },
   {
    "duration": 0,
    "start_time": "2023-10-02T04:03:49.374Z"
   },
   {
    "duration": 1,
    "start_time": "2023-10-02T04:03:49.375Z"
   },
   {
    "duration": 0,
    "start_time": "2023-10-02T04:03:49.377Z"
   },
   {
    "duration": 0,
    "start_time": "2023-10-02T04:03:49.378Z"
   },
   {
    "duration": 0,
    "start_time": "2023-10-02T04:03:49.380Z"
   },
   {
    "duration": 0,
    "start_time": "2023-10-02T04:03:49.382Z"
   },
   {
    "duration": 0,
    "start_time": "2023-10-02T04:03:49.384Z"
   },
   {
    "duration": 9,
    "start_time": "2023-10-02T04:03:59.974Z"
   },
   {
    "duration": 30,
    "start_time": "2023-10-02T04:04:38.538Z"
   },
   {
    "duration": 1120,
    "start_time": "2023-10-02T04:04:44.857Z"
   },
   {
    "duration": 71,
    "start_time": "2023-10-02T04:04:45.979Z"
   },
   {
    "duration": 12,
    "start_time": "2023-10-02T04:04:46.052Z"
   },
   {
    "duration": 28,
    "start_time": "2023-10-02T04:04:46.065Z"
   },
   {
    "duration": 24,
    "start_time": "2023-10-02T04:04:46.095Z"
   },
   {
    "duration": 19,
    "start_time": "2023-10-02T04:04:46.120Z"
   },
   {
    "duration": 8,
    "start_time": "2023-10-02T04:04:46.141Z"
   },
   {
    "duration": 17,
    "start_time": "2023-10-02T04:04:46.150Z"
   },
   {
    "duration": 23,
    "start_time": "2023-10-02T04:04:46.168Z"
   },
   {
    "duration": 10,
    "start_time": "2023-10-02T04:04:46.193Z"
   },
   {
    "duration": 4,
    "start_time": "2023-10-02T04:04:46.205Z"
   },
   {
    "duration": 9,
    "start_time": "2023-10-02T04:04:46.211Z"
   },
   {
    "duration": 21,
    "start_time": "2023-10-02T04:04:46.221Z"
   },
   {
    "duration": 6,
    "start_time": "2023-10-02T04:04:46.245Z"
   },
   {
    "duration": 12,
    "start_time": "2023-10-02T04:04:46.252Z"
   },
   {
    "duration": 37,
    "start_time": "2023-10-02T04:04:46.265Z"
   },
   {
    "duration": 5,
    "start_time": "2023-10-02T04:04:46.304Z"
   },
   {
    "duration": 14,
    "start_time": "2023-10-02T04:04:46.311Z"
   },
   {
    "duration": 14,
    "start_time": "2023-10-02T04:04:46.326Z"
   },
   {
    "duration": 22,
    "start_time": "2023-10-02T04:04:46.341Z"
   },
   {
    "duration": 13,
    "start_time": "2023-10-02T04:04:46.365Z"
   },
   {
    "duration": 19,
    "start_time": "2023-10-02T04:04:46.380Z"
   },
   {
    "duration": 12,
    "start_time": "2023-10-02T04:04:46.401Z"
   },
   {
    "duration": 170,
    "start_time": "2023-10-02T04:04:46.414Z"
   },
   {
    "duration": 5,
    "start_time": "2023-10-02T04:04:46.586Z"
   },
   {
    "duration": 81,
    "start_time": "2023-10-02T04:04:46.593Z"
   },
   {
    "duration": 7,
    "start_time": "2023-10-02T04:04:46.676Z"
   },
   {
    "duration": 26,
    "start_time": "2023-10-02T04:04:46.684Z"
   },
   {
    "duration": 222,
    "start_time": "2023-10-02T04:04:46.713Z"
   },
   {
    "duration": 17,
    "start_time": "2023-10-02T04:04:46.937Z"
   },
   {
    "duration": 251,
    "start_time": "2023-10-02T04:04:46.956Z"
   },
   {
    "duration": 16,
    "start_time": "2023-10-02T04:04:47.209Z"
   },
   {
    "duration": 362,
    "start_time": "2023-10-02T04:04:47.227Z"
   },
   {
    "duration": 30,
    "start_time": "2023-10-02T04:04:47.591Z"
   },
   {
    "duration": 14,
    "start_time": "2023-10-02T04:04:47.623Z"
   },
   {
    "duration": 32,
    "start_time": "2023-10-02T04:04:47.639Z"
   },
   {
    "duration": 33,
    "start_time": "2023-10-02T04:04:47.673Z"
   },
   {
    "duration": 20,
    "start_time": "2023-10-02T04:04:47.707Z"
   },
   {
    "duration": 16,
    "start_time": "2023-10-02T04:04:47.729Z"
   },
   {
    "duration": 454,
    "start_time": "2023-10-02T04:04:47.747Z"
   },
   {
    "duration": 18,
    "start_time": "2023-10-02T04:04:48.205Z"
   },
   {
    "duration": 82,
    "start_time": "2023-10-02T04:04:48.225Z"
   },
   {
    "duration": 531,
    "start_time": "2023-10-02T04:04:48.308Z"
   },
   {
    "duration": 7,
    "start_time": "2023-10-02T04:04:48.841Z"
   },
   {
    "duration": 31,
    "start_time": "2023-10-02T04:04:48.902Z"
   },
   {
    "duration": 11,
    "start_time": "2023-10-02T04:04:48.934Z"
   },
   {
    "duration": 74,
    "start_time": "2023-10-02T04:04:48.946Z"
   },
   {
    "duration": 3819,
    "start_time": "2023-10-02T04:04:49.022Z"
   },
   {
    "duration": 0,
    "start_time": "2023-10-02T04:04:52.843Z"
   },
   {
    "duration": 0,
    "start_time": "2023-10-02T04:04:52.844Z"
   },
   {
    "duration": 0,
    "start_time": "2023-10-02T04:04:52.846Z"
   },
   {
    "duration": 0,
    "start_time": "2023-10-02T04:04:52.848Z"
   },
   {
    "duration": 0,
    "start_time": "2023-10-02T04:04:52.850Z"
   },
   {
    "duration": 0,
    "start_time": "2023-10-02T04:04:52.851Z"
   },
   {
    "duration": 0,
    "start_time": "2023-10-02T04:04:52.852Z"
   },
   {
    "duration": 0,
    "start_time": "2023-10-02T04:04:52.854Z"
   },
   {
    "duration": 1835,
    "start_time": "2023-10-02T04:05:22.343Z"
   },
   {
    "duration": 2810,
    "start_time": "2023-10-02T04:06:10.421Z"
   },
   {
    "duration": 19,
    "start_time": "2023-10-02T04:06:27.101Z"
   },
   {
    "duration": 18,
    "start_time": "2023-10-02T04:06:30.406Z"
   },
   {
    "duration": 18,
    "start_time": "2023-10-02T04:11:41.117Z"
   },
   {
    "duration": 7,
    "start_time": "2023-10-02T04:23:43.937Z"
   },
   {
    "duration": 7,
    "start_time": "2023-10-02T04:23:55.991Z"
   },
   {
    "duration": 6,
    "start_time": "2023-10-02T04:24:01.199Z"
   },
   {
    "duration": 7,
    "start_time": "2023-10-02T04:30:13.748Z"
   },
   {
    "duration": 3455,
    "start_time": "2023-10-02T04:31:26.597Z"
   },
   {
    "duration": 23,
    "start_time": "2023-10-02T04:34:30.006Z"
   },
   {
    "duration": 8,
    "start_time": "2023-10-02T04:34:51.297Z"
   },
   {
    "duration": 9,
    "start_time": "2023-10-02T04:35:14.784Z"
   },
   {
    "duration": 7,
    "start_time": "2023-10-02T04:35:19.691Z"
   },
   {
    "duration": 126,
    "start_time": "2023-10-02T04:39:45.968Z"
   },
   {
    "duration": 1255,
    "start_time": "2023-10-02T04:39:49.918Z"
   },
   {
    "duration": 69,
    "start_time": "2023-10-02T04:39:51.175Z"
   },
   {
    "duration": 22,
    "start_time": "2023-10-02T04:39:51.246Z"
   },
   {
    "duration": 39,
    "start_time": "2023-10-02T04:39:51.271Z"
   },
   {
    "duration": 37,
    "start_time": "2023-10-02T04:39:51.312Z"
   },
   {
    "duration": 34,
    "start_time": "2023-10-02T04:39:51.351Z"
   },
   {
    "duration": 24,
    "start_time": "2023-10-02T04:39:51.387Z"
   },
   {
    "duration": 17,
    "start_time": "2023-10-02T04:39:51.413Z"
   },
   {
    "duration": 40,
    "start_time": "2023-10-02T04:39:51.433Z"
   },
   {
    "duration": 43,
    "start_time": "2023-10-02T04:39:51.477Z"
   },
   {
    "duration": 89,
    "start_time": "2023-10-02T04:39:51.522Z"
   },
   {
    "duration": 25,
    "start_time": "2023-10-02T04:39:51.613Z"
   },
   {
    "duration": 44,
    "start_time": "2023-10-02T04:39:51.640Z"
   },
   {
    "duration": 30,
    "start_time": "2023-10-02T04:39:51.686Z"
   },
   {
    "duration": 21,
    "start_time": "2023-10-02T04:39:51.718Z"
   },
   {
    "duration": 53,
    "start_time": "2023-10-02T04:39:51.740Z"
   },
   {
    "duration": 40,
    "start_time": "2023-10-02T04:39:51.795Z"
   },
   {
    "duration": 40,
    "start_time": "2023-10-02T04:39:51.837Z"
   },
   {
    "duration": 37,
    "start_time": "2023-10-02T04:39:51.880Z"
   },
   {
    "duration": 48,
    "start_time": "2023-10-02T04:39:51.919Z"
   },
   {
    "duration": 50,
    "start_time": "2023-10-02T04:39:51.969Z"
   },
   {
    "duration": 16,
    "start_time": "2023-10-02T04:39:52.021Z"
   },
   {
    "duration": 67,
    "start_time": "2023-10-02T04:39:52.039Z"
   },
   {
    "duration": 205,
    "start_time": "2023-10-02T04:39:52.108Z"
   },
   {
    "duration": 7,
    "start_time": "2023-10-02T04:39:52.315Z"
   },
   {
    "duration": 169,
    "start_time": "2023-10-02T04:39:52.324Z"
   },
   {
    "duration": 249,
    "start_time": "2023-10-02T04:39:52.494Z"
   },
   {
    "duration": 37,
    "start_time": "2023-10-02T04:39:52.747Z"
   },
   {
    "duration": 206,
    "start_time": "2023-10-02T04:39:52.786Z"
   },
   {
    "duration": 23,
    "start_time": "2023-10-02T04:39:52.994Z"
   },
   {
    "duration": 245,
    "start_time": "2023-10-02T04:39:53.018Z"
   },
   {
    "duration": 17,
    "start_time": "2023-10-02T04:39:53.265Z"
   },
   {
    "duration": 257,
    "start_time": "2023-10-02T04:39:53.284Z"
   },
   {
    "duration": 25,
    "start_time": "2023-10-02T04:39:53.543Z"
   },
   {
    "duration": 31,
    "start_time": "2023-10-02T04:39:53.570Z"
   },
   {
    "duration": 17,
    "start_time": "2023-10-02T04:39:53.603Z"
   },
   {
    "duration": 15,
    "start_time": "2023-10-02T04:39:53.621Z"
   },
   {
    "duration": 39,
    "start_time": "2023-10-02T04:39:53.638Z"
   },
   {
    "duration": 22,
    "start_time": "2023-10-02T04:39:53.702Z"
   },
   {
    "duration": 424,
    "start_time": "2023-10-02T04:39:53.726Z"
   },
   {
    "duration": 65,
    "start_time": "2023-10-02T04:39:54.152Z"
   },
   {
    "duration": 22,
    "start_time": "2023-10-02T04:39:54.219Z"
   },
   {
    "duration": 677,
    "start_time": "2023-10-02T04:39:54.243Z"
   },
   {
    "duration": 9,
    "start_time": "2023-10-02T04:39:54.922Z"
   },
   {
    "duration": 104,
    "start_time": "2023-10-02T04:39:54.933Z"
   },
   {
    "duration": 65,
    "start_time": "2023-10-02T04:39:55.038Z"
   },
   {
    "duration": 104,
    "start_time": "2023-10-02T04:39:55.105Z"
   },
   {
    "duration": 21,
    "start_time": "2023-10-02T04:39:55.211Z"
   },
   {
    "duration": 69,
    "start_time": "2023-10-02T04:39:55.234Z"
   },
   {
    "duration": 7,
    "start_time": "2023-10-02T04:39:55.306Z"
   },
   {
    "duration": 22,
    "start_time": "2023-10-02T04:39:55.315Z"
   },
   {
    "duration": 65,
    "start_time": "2023-10-02T04:39:55.338Z"
   },
   {
    "duration": 35,
    "start_time": "2023-10-02T04:39:55.405Z"
   },
   {
    "duration": 1280,
    "start_time": "2023-10-02T04:44:48.721Z"
   },
   {
    "duration": 72,
    "start_time": "2023-10-02T04:44:50.003Z"
   },
   {
    "duration": 14,
    "start_time": "2023-10-02T04:44:50.077Z"
   },
   {
    "duration": 30,
    "start_time": "2023-10-02T04:44:50.093Z"
   },
   {
    "duration": 25,
    "start_time": "2023-10-02T04:44:50.125Z"
   },
   {
    "duration": 22,
    "start_time": "2023-10-02T04:44:50.152Z"
   },
   {
    "duration": 24,
    "start_time": "2023-10-02T04:44:50.177Z"
   },
   {
    "duration": 17,
    "start_time": "2023-10-02T04:44:50.203Z"
   },
   {
    "duration": 19,
    "start_time": "2023-10-02T04:44:50.222Z"
   },
   {
    "duration": 17,
    "start_time": "2023-10-02T04:44:50.243Z"
   },
   {
    "duration": 16,
    "start_time": "2023-10-02T04:44:50.262Z"
   },
   {
    "duration": 31,
    "start_time": "2023-10-02T04:44:50.280Z"
   },
   {
    "duration": 15,
    "start_time": "2023-10-02T04:44:50.313Z"
   },
   {
    "duration": 9,
    "start_time": "2023-10-02T04:44:50.330Z"
   },
   {
    "duration": 25,
    "start_time": "2023-10-02T04:44:50.341Z"
   },
   {
    "duration": 23,
    "start_time": "2023-10-02T04:44:50.368Z"
   },
   {
    "duration": 17,
    "start_time": "2023-10-02T04:44:50.393Z"
   },
   {
    "duration": 94,
    "start_time": "2023-10-02T04:44:50.412Z"
   },
   {
    "duration": 26,
    "start_time": "2023-10-02T04:44:50.509Z"
   },
   {
    "duration": 27,
    "start_time": "2023-10-02T04:44:50.537Z"
   },
   {
    "duration": 19,
    "start_time": "2023-10-02T04:44:50.566Z"
   },
   {
    "duration": 31,
    "start_time": "2023-10-02T04:44:50.587Z"
   },
   {
    "duration": 88,
    "start_time": "2023-10-02T04:44:50.620Z"
   },
   {
    "duration": 243,
    "start_time": "2023-10-02T04:44:50.709Z"
   },
   {
    "duration": 6,
    "start_time": "2023-10-02T04:44:50.954Z"
   },
   {
    "duration": 101,
    "start_time": "2023-10-02T04:44:50.962Z"
   },
   {
    "duration": 9,
    "start_time": "2023-10-02T04:44:51.065Z"
   },
   {
    "duration": 40,
    "start_time": "2023-10-02T04:44:51.079Z"
   },
   {
    "duration": 331,
    "start_time": "2023-10-02T04:44:51.121Z"
   },
   {
    "duration": 18,
    "start_time": "2023-10-02T04:44:51.454Z"
   },
   {
    "duration": 274,
    "start_time": "2023-10-02T04:44:51.475Z"
   },
   {
    "duration": 20,
    "start_time": "2023-10-02T04:44:51.751Z"
   },
   {
    "duration": 296,
    "start_time": "2023-10-02T04:44:51.773Z"
   },
   {
    "duration": 51,
    "start_time": "2023-10-02T04:44:52.071Z"
   },
   {
    "duration": 16,
    "start_time": "2023-10-02T04:44:52.124Z"
   },
   {
    "duration": 37,
    "start_time": "2023-10-02T04:44:52.142Z"
   },
   {
    "duration": 27,
    "start_time": "2023-10-02T04:44:52.182Z"
   },
   {
    "duration": 30,
    "start_time": "2023-10-02T04:44:52.212Z"
   },
   {
    "duration": 63,
    "start_time": "2023-10-02T04:44:52.244Z"
   },
   {
    "duration": 244,
    "start_time": "2023-10-02T04:44:52.309Z"
   },
   {
    "duration": 20,
    "start_time": "2023-10-02T04:44:52.555Z"
   },
   {
    "duration": 41,
    "start_time": "2023-10-02T04:44:52.577Z"
   },
   {
    "duration": 285,
    "start_time": "2023-10-02T04:44:52.621Z"
   },
   {
    "duration": 7,
    "start_time": "2023-10-02T04:44:52.908Z"
   },
   {
    "duration": 61,
    "start_time": "2023-10-02T04:44:52.916Z"
   },
   {
    "duration": 199,
    "start_time": "2023-10-02T04:44:52.980Z"
   },
   {
    "duration": 46,
    "start_time": "2023-10-02T04:44:53.180Z"
   },
   {
    "duration": 19,
    "start_time": "2023-10-02T04:44:53.228Z"
   },
   {
    "duration": 17,
    "start_time": "2023-10-02T04:44:53.249Z"
   },
   {
    "duration": 14,
    "start_time": "2023-10-02T04:44:53.268Z"
   },
   {
    "duration": 24,
    "start_time": "2023-10-02T04:44:53.284Z"
   },
   {
    "duration": 8,
    "start_time": "2023-10-02T04:44:53.310Z"
   },
   {
    "duration": 21,
    "start_time": "2023-10-02T04:44:53.320Z"
   },
   {
    "duration": 185,
    "start_time": "2023-10-02T04:48:12.778Z"
   },
   {
    "duration": 81,
    "start_time": "2023-10-02T04:48:22.890Z"
   },
   {
    "duration": 83,
    "start_time": "2023-10-02T04:48:29.514Z"
   },
   {
    "duration": 111,
    "start_time": "2023-10-02T04:49:37.515Z"
   },
   {
    "duration": 91,
    "start_time": "2023-10-02T04:49:43.376Z"
   },
   {
    "duration": 80,
    "start_time": "2023-10-02T04:51:56.066Z"
   },
   {
    "duration": 254,
    "start_time": "2023-10-02T04:53:46.269Z"
   },
   {
    "duration": 1278,
    "start_time": "2023-10-02T05:02:59.505Z"
   },
   {
    "duration": 76,
    "start_time": "2023-10-02T05:03:00.786Z"
   },
   {
    "duration": 118,
    "start_time": "2023-10-02T05:03:00.864Z"
   },
   {
    "duration": 40,
    "start_time": "2023-10-02T05:03:00.985Z"
   },
   {
    "duration": 62,
    "start_time": "2023-10-02T05:03:01.028Z"
   },
   {
    "duration": 63,
    "start_time": "2023-10-02T05:03:01.092Z"
   },
   {
    "duration": 65,
    "start_time": "2023-10-02T05:03:01.157Z"
   },
   {
    "duration": 50,
    "start_time": "2023-10-02T05:03:01.224Z"
   },
   {
    "duration": 81,
    "start_time": "2023-10-02T05:03:01.276Z"
   },
   {
    "duration": 66,
    "start_time": "2023-10-02T05:03:01.360Z"
   },
   {
    "duration": 45,
    "start_time": "2023-10-02T05:03:01.428Z"
   },
   {
    "duration": 85,
    "start_time": "2023-10-02T05:03:01.476Z"
   },
   {
    "duration": 74,
    "start_time": "2023-10-02T05:03:01.563Z"
   },
   {
    "duration": 102,
    "start_time": "2023-10-02T05:03:01.639Z"
   },
   {
    "duration": 76,
    "start_time": "2023-10-02T05:03:01.743Z"
   },
   {
    "duration": 348,
    "start_time": "2023-10-02T05:03:01.821Z"
   },
   {
    "duration": 97,
    "start_time": "2023-10-02T05:03:02.171Z"
   },
   {
    "duration": 54,
    "start_time": "2023-10-02T05:03:02.270Z"
   },
   {
    "duration": 47,
    "start_time": "2023-10-02T05:03:02.326Z"
   },
   {
    "duration": 33,
    "start_time": "2023-10-02T05:03:02.376Z"
   },
   {
    "duration": 22,
    "start_time": "2023-10-02T05:03:02.412Z"
   },
   {
    "duration": 39,
    "start_time": "2023-10-02T05:03:02.436Z"
   },
   {
    "duration": 45,
    "start_time": "2023-10-02T05:03:02.477Z"
   },
   {
    "duration": 204,
    "start_time": "2023-10-02T05:03:02.524Z"
   },
   {
    "duration": 7,
    "start_time": "2023-10-02T05:03:02.729Z"
   },
   {
    "duration": 168,
    "start_time": "2023-10-02T05:03:02.738Z"
   },
   {
    "duration": 12,
    "start_time": "2023-10-02T05:03:02.907Z"
   },
   {
    "duration": 1022,
    "start_time": "2023-10-02T05:03:02.923Z"
   },
   {
    "duration": 228,
    "start_time": "2023-10-02T05:03:03.947Z"
   },
   {
    "duration": 646,
    "start_time": "2023-10-02T05:03:04.176Z"
   },
   {
    "duration": 482,
    "start_time": "2023-10-02T05:03:04.824Z"
   },
   {
    "duration": 22,
    "start_time": "2023-10-02T05:03:05.308Z"
   },
   {
    "duration": 295,
    "start_time": "2023-10-02T05:03:05.332Z"
   },
   {
    "duration": 28,
    "start_time": "2023-10-02T05:03:05.629Z"
   },
   {
    "duration": 25,
    "start_time": "2023-10-02T05:03:05.659Z"
   },
   {
    "duration": 150,
    "start_time": "2023-10-02T05:03:05.686Z"
   },
   {
    "duration": 50,
    "start_time": "2023-10-02T05:03:05.838Z"
   },
   {
    "duration": 107,
    "start_time": "2023-10-02T05:03:05.890Z"
   },
   {
    "duration": 164,
    "start_time": "2023-10-02T05:03:05.999Z"
   },
   {
    "duration": 215,
    "start_time": "2023-10-02T05:03:06.165Z"
   },
   {
    "duration": 34,
    "start_time": "2023-10-02T05:03:06.382Z"
   },
   {
    "duration": 28,
    "start_time": "2023-10-02T05:03:06.418Z"
   },
   {
    "duration": 221,
    "start_time": "2023-10-02T05:03:06.448Z"
   },
   {
    "duration": 8,
    "start_time": "2023-10-02T05:03:06.670Z"
   },
   {
    "duration": 73,
    "start_time": "2023-10-02T05:03:06.679Z"
   },
   {
    "duration": 26,
    "start_time": "2023-10-02T05:03:06.754Z"
   },
   {
    "duration": 45,
    "start_time": "2023-10-02T05:03:06.782Z"
   },
   {
    "duration": 47,
    "start_time": "2023-10-02T05:03:06.829Z"
   },
   {
    "duration": 40,
    "start_time": "2023-10-02T05:03:06.878Z"
   },
   {
    "duration": 56,
    "start_time": "2023-10-02T05:03:06.920Z"
   },
   {
    "duration": 64,
    "start_time": "2023-10-02T05:03:06.979Z"
   },
   {
    "duration": 110,
    "start_time": "2023-10-02T05:03:07.045Z"
   },
   {
    "duration": 52,
    "start_time": "2023-10-02T05:03:07.157Z"
   },
   {
    "duration": 34,
    "start_time": "2023-10-02T05:06:54.287Z"
   },
   {
    "duration": 1231,
    "start_time": "2023-10-02T05:07:20.015Z"
   },
   {
    "duration": 73,
    "start_time": "2023-10-02T05:07:21.248Z"
   },
   {
    "duration": 13,
    "start_time": "2023-10-02T05:07:21.323Z"
   },
   {
    "duration": 57,
    "start_time": "2023-10-02T05:07:21.337Z"
   },
   {
    "duration": 76,
    "start_time": "2023-10-02T05:07:21.396Z"
   },
   {
    "duration": 51,
    "start_time": "2023-10-02T05:07:21.474Z"
   },
   {
    "duration": 115,
    "start_time": "2023-10-02T05:07:21.527Z"
   },
   {
    "duration": 352,
    "start_time": "2023-10-02T05:07:21.643Z"
   },
   {
    "duration": 134,
    "start_time": "2023-10-02T05:07:21.997Z"
   },
   {
    "duration": 37,
    "start_time": "2023-10-02T05:07:22.133Z"
   },
   {
    "duration": 43,
    "start_time": "2023-10-02T05:07:22.172Z"
   },
   {
    "duration": 15,
    "start_time": "2023-10-02T05:07:22.217Z"
   },
   {
    "duration": 38,
    "start_time": "2023-10-02T05:07:22.234Z"
   },
   {
    "duration": 41,
    "start_time": "2023-10-02T05:07:22.276Z"
   },
   {
    "duration": 22,
    "start_time": "2023-10-02T05:07:22.319Z"
   },
   {
    "duration": 54,
    "start_time": "2023-10-02T05:07:22.343Z"
   },
   {
    "duration": 28,
    "start_time": "2023-10-02T05:07:22.398Z"
   },
   {
    "duration": 28,
    "start_time": "2023-10-02T05:07:22.427Z"
   },
   {
    "duration": 39,
    "start_time": "2023-10-02T05:07:22.456Z"
   },
   {
    "duration": 221,
    "start_time": "2023-10-02T05:07:22.496Z"
   },
   {
    "duration": 107,
    "start_time": "2023-10-02T05:07:22.719Z"
   },
   {
    "duration": 45,
    "start_time": "2023-10-02T05:07:22.827Z"
   },
   {
    "duration": 216,
    "start_time": "2023-10-02T05:07:22.874Z"
   },
   {
    "duration": 751,
    "start_time": "2023-10-02T05:07:23.092Z"
   },
   {
    "duration": 67,
    "start_time": "2023-10-02T05:07:23.844Z"
   },
   {
    "duration": 198,
    "start_time": "2023-10-02T05:07:23.913Z"
   },
   {
    "duration": 9,
    "start_time": "2023-10-02T05:07:24.112Z"
   },
   {
    "duration": 681,
    "start_time": "2023-10-02T05:07:24.122Z"
   },
   {
    "duration": 20,
    "start_time": "2023-10-02T05:07:24.812Z"
   },
   {
    "duration": 430,
    "start_time": "2023-10-02T05:07:24.834Z"
   },
   {
    "duration": 247,
    "start_time": "2023-10-02T05:07:25.266Z"
   },
   {
    "duration": 25,
    "start_time": "2023-10-02T05:07:25.515Z"
   },
   {
    "duration": 275,
    "start_time": "2023-10-02T05:07:25.542Z"
   },
   {
    "duration": 25,
    "start_time": "2023-10-02T05:07:25.819Z"
   },
   {
    "duration": 77,
    "start_time": "2023-10-02T05:07:25.845Z"
   },
   {
    "duration": 204,
    "start_time": "2023-10-02T05:07:25.924Z"
   },
   {
    "duration": 439,
    "start_time": "2023-10-02T05:07:26.130Z"
   },
   {
    "duration": 362,
    "start_time": "2023-10-02T05:07:26.571Z"
   },
   {
    "duration": 283,
    "start_time": "2023-10-02T05:07:26.935Z"
   },
   {
    "duration": 235,
    "start_time": "2023-10-02T05:07:27.220Z"
   },
   {
    "duration": 16,
    "start_time": "2023-10-02T05:07:27.459Z"
   },
   {
    "duration": 207,
    "start_time": "2023-10-02T05:07:27.477Z"
   },
   {
    "duration": 242,
    "start_time": "2023-10-02T05:07:27.686Z"
   },
   {
    "duration": 221,
    "start_time": "2023-10-02T05:07:27.930Z"
   },
   {
    "duration": 159,
    "start_time": "2023-10-02T05:07:28.152Z"
   },
   {
    "duration": 10,
    "start_time": "2023-10-02T05:07:28.313Z"
   },
   {
    "duration": 73,
    "start_time": "2023-10-02T05:07:28.324Z"
   },
   {
    "duration": 30,
    "start_time": "2023-10-02T05:07:28.398Z"
   },
   {
    "duration": 15,
    "start_time": "2023-10-02T05:07:28.429Z"
   },
   {
    "duration": 43,
    "start_time": "2023-10-02T05:07:28.447Z"
   },
   {
    "duration": 50,
    "start_time": "2023-10-02T05:07:28.492Z"
   },
   {
    "duration": 46,
    "start_time": "2023-10-02T05:07:28.544Z"
   },
   {
    "duration": 31,
    "start_time": "2023-10-02T05:07:28.591Z"
   },
   {
    "duration": 109,
    "start_time": "2023-10-02T05:08:28.127Z"
   },
   {
    "duration": 23,
    "start_time": "2023-10-02T05:08:42.030Z"
   },
   {
    "duration": 1183,
    "start_time": "2023-10-02T05:08:54.695Z"
   },
   {
    "duration": 84,
    "start_time": "2023-10-02T05:08:55.880Z"
   },
   {
    "duration": 14,
    "start_time": "2023-10-02T05:08:55.966Z"
   },
   {
    "duration": 26,
    "start_time": "2023-10-02T05:08:55.982Z"
   },
   {
    "duration": 57,
    "start_time": "2023-10-02T05:08:56.010Z"
   },
   {
    "duration": 42,
    "start_time": "2023-10-02T05:08:56.069Z"
   },
   {
    "duration": 18,
    "start_time": "2023-10-02T05:08:56.113Z"
   },
   {
    "duration": 78,
    "start_time": "2023-10-02T05:08:56.133Z"
   },
   {
    "duration": 96,
    "start_time": "2023-10-02T05:08:56.213Z"
   },
   {
    "duration": 110,
    "start_time": "2023-10-02T05:08:56.312Z"
   },
   {
    "duration": 20,
    "start_time": "2023-10-02T05:08:56.423Z"
   },
   {
    "duration": 30,
    "start_time": "2023-10-02T05:08:56.445Z"
   },
   {
    "duration": 34,
    "start_time": "2023-10-02T05:08:56.477Z"
   },
   {
    "duration": 17,
    "start_time": "2023-10-02T05:08:56.514Z"
   },
   {
    "duration": 13,
    "start_time": "2023-10-02T05:08:56.534Z"
   },
   {
    "duration": 33,
    "start_time": "2023-10-02T05:08:56.548Z"
   },
   {
    "duration": 33,
    "start_time": "2023-10-02T05:08:56.582Z"
   },
   {
    "duration": 18,
    "start_time": "2023-10-02T05:08:56.617Z"
   },
   {
    "duration": 26,
    "start_time": "2023-10-02T05:08:56.637Z"
   },
   {
    "duration": 23,
    "start_time": "2023-10-02T05:08:56.665Z"
   },
   {
    "duration": 26,
    "start_time": "2023-10-02T05:08:56.690Z"
   },
   {
    "duration": 7,
    "start_time": "2023-10-02T05:08:56.718Z"
   },
   {
    "duration": 27,
    "start_time": "2023-10-02T05:08:56.727Z"
   },
   {
    "duration": 181,
    "start_time": "2023-10-02T05:08:56.755Z"
   },
   {
    "duration": 6,
    "start_time": "2023-10-02T05:08:56.938Z"
   },
   {
    "duration": 100,
    "start_time": "2023-10-02T05:08:56.945Z"
   },
   {
    "duration": 9,
    "start_time": "2023-10-02T05:08:57.046Z"
   },
   {
    "duration": 220,
    "start_time": "2023-10-02T05:08:57.058Z"
   },
   {
    "duration": 38,
    "start_time": "2023-10-02T05:08:57.279Z"
   },
   {
    "duration": 520,
    "start_time": "2023-10-02T05:08:57.322Z"
   },
   {
    "duration": 1056,
    "start_time": "2023-10-02T05:08:57.844Z"
   },
   {
    "duration": 23,
    "start_time": "2023-10-02T05:08:58.904Z"
   },
   {
    "duration": 260,
    "start_time": "2023-10-02T05:08:58.929Z"
   },
   {
    "duration": 39,
    "start_time": "2023-10-02T05:08:59.190Z"
   },
   {
    "duration": 13,
    "start_time": "2023-10-02T05:08:59.231Z"
   },
   {
    "duration": 102,
    "start_time": "2023-10-02T05:08:59.246Z"
   },
   {
    "duration": 18,
    "start_time": "2023-10-02T05:08:59.350Z"
   },
   {
    "duration": 45,
    "start_time": "2023-10-02T05:08:59.370Z"
   },
   {
    "duration": 18,
    "start_time": "2023-10-02T05:08:59.417Z"
   },
   {
    "duration": 199,
    "start_time": "2023-10-02T05:08:59.436Z"
   },
   {
    "duration": 17,
    "start_time": "2023-10-02T05:08:59.636Z"
   },
   {
    "duration": 15,
    "start_time": "2023-10-02T05:08:59.655Z"
   },
   {
    "duration": 248,
    "start_time": "2023-10-02T05:08:59.672Z"
   },
   {
    "duration": 6,
    "start_time": "2023-10-02T05:08:59.922Z"
   },
   {
    "duration": 50,
    "start_time": "2023-10-02T05:08:59.930Z"
   },
   {
    "duration": 10,
    "start_time": "2023-10-02T05:08:59.981Z"
   },
   {
    "duration": 56,
    "start_time": "2023-10-02T05:08:59.992Z"
   },
   {
    "duration": 71,
    "start_time": "2023-10-02T05:09:00.050Z"
   },
   {
    "duration": 40,
    "start_time": "2023-10-02T05:09:00.123Z"
   },
   {
    "duration": 47,
    "start_time": "2023-10-02T05:09:00.165Z"
   },
   {
    "duration": 53,
    "start_time": "2023-10-02T05:09:00.219Z"
   },
   {
    "duration": 79,
    "start_time": "2023-10-02T05:09:00.274Z"
   },
   {
    "duration": 154,
    "start_time": "2023-10-02T05:09:00.354Z"
   },
   {
    "duration": 39,
    "start_time": "2023-10-02T05:09:53.479Z"
   },
   {
    "duration": 3756,
    "start_time": "2023-10-02T05:10:00.412Z"
   },
   {
    "duration": 26,
    "start_time": "2023-10-02T05:10:15.714Z"
   },
   {
    "duration": 1227,
    "start_time": "2023-10-02T05:10:19.662Z"
   },
   {
    "duration": 79,
    "start_time": "2023-10-02T05:10:20.890Z"
   },
   {
    "duration": 12,
    "start_time": "2023-10-02T05:10:20.971Z"
   },
   {
    "duration": 81,
    "start_time": "2023-10-02T05:10:20.984Z"
   },
   {
    "duration": 43,
    "start_time": "2023-10-02T05:10:21.069Z"
   },
   {
    "duration": 25,
    "start_time": "2023-10-02T05:10:21.113Z"
   },
   {
    "duration": 92,
    "start_time": "2023-10-02T05:10:21.140Z"
   },
   {
    "duration": 58,
    "start_time": "2023-10-02T05:10:21.233Z"
   },
   {
    "duration": 38,
    "start_time": "2023-10-02T05:10:21.293Z"
   },
   {
    "duration": 25,
    "start_time": "2023-10-02T05:10:21.333Z"
   },
   {
    "duration": 33,
    "start_time": "2023-10-02T05:10:21.359Z"
   },
   {
    "duration": 27,
    "start_time": "2023-10-02T05:10:21.394Z"
   },
   {
    "duration": 49,
    "start_time": "2023-10-02T05:10:21.423Z"
   },
   {
    "duration": 13,
    "start_time": "2023-10-02T05:10:21.475Z"
   },
   {
    "duration": 29,
    "start_time": "2023-10-02T05:10:21.490Z"
   },
   {
    "duration": 26,
    "start_time": "2023-10-02T05:10:21.520Z"
   },
   {
    "duration": 26,
    "start_time": "2023-10-02T05:10:21.547Z"
   },
   {
    "duration": 42,
    "start_time": "2023-10-02T05:10:21.575Z"
   },
   {
    "duration": 36,
    "start_time": "2023-10-02T05:10:21.619Z"
   },
   {
    "duration": 62,
    "start_time": "2023-10-02T05:10:21.657Z"
   },
   {
    "duration": 76,
    "start_time": "2023-10-02T05:10:21.722Z"
   },
   {
    "duration": 21,
    "start_time": "2023-10-02T05:10:21.800Z"
   },
   {
    "duration": 20,
    "start_time": "2023-10-02T05:10:21.823Z"
   },
   {
    "duration": 198,
    "start_time": "2023-10-02T05:10:21.844Z"
   },
   {
    "duration": 6,
    "start_time": "2023-10-02T05:10:22.045Z"
   },
   {
    "duration": 117,
    "start_time": "2023-10-02T05:10:22.053Z"
   },
   {
    "duration": 10,
    "start_time": "2023-10-02T05:10:22.172Z"
   },
   {
    "duration": 253,
    "start_time": "2023-10-02T05:10:22.184Z"
   },
   {
    "duration": 20,
    "start_time": "2023-10-02T05:10:22.439Z"
   },
   {
    "duration": 267,
    "start_time": "2023-10-02T05:10:22.461Z"
   },
   {
    "duration": 252,
    "start_time": "2023-10-02T05:10:22.730Z"
   },
   {
    "duration": 34,
    "start_time": "2023-10-02T05:10:22.984Z"
   },
   {
    "duration": 381,
    "start_time": "2023-10-02T05:10:23.021Z"
   },
   {
    "duration": 29,
    "start_time": "2023-10-02T05:10:23.405Z"
   },
   {
    "duration": 75,
    "start_time": "2023-10-02T05:10:23.436Z"
   },
   {
    "duration": 195,
    "start_time": "2023-10-02T05:10:23.517Z"
   },
   {
    "duration": 21,
    "start_time": "2023-10-02T05:10:23.716Z"
   },
   {
    "duration": 72,
    "start_time": "2023-10-02T05:10:23.740Z"
   },
   {
    "duration": 17,
    "start_time": "2023-10-02T05:10:23.814Z"
   },
   {
    "duration": 585,
    "start_time": "2023-10-02T05:10:23.833Z"
   },
   {
    "duration": 24,
    "start_time": "2023-10-02T05:10:24.424Z"
   },
   {
    "duration": 23,
    "start_time": "2023-10-02T05:10:24.501Z"
   },
   {
    "duration": 511,
    "start_time": "2023-10-02T05:10:24.527Z"
   },
   {
    "duration": 7,
    "start_time": "2023-10-02T05:10:25.039Z"
   },
   {
    "duration": 105,
    "start_time": "2023-10-02T05:10:25.048Z"
   },
   {
    "duration": 60,
    "start_time": "2023-10-02T05:10:25.155Z"
   },
   {
    "duration": 31,
    "start_time": "2023-10-02T05:10:25.218Z"
   },
   {
    "duration": 68,
    "start_time": "2023-10-02T05:10:25.251Z"
   },
   {
    "duration": 9,
    "start_time": "2023-10-02T05:10:25.321Z"
   },
   {
    "duration": 21,
    "start_time": "2023-10-02T05:10:25.332Z"
   },
   {
    "duration": 64,
    "start_time": "2023-10-02T05:10:25.355Z"
   },
   {
    "duration": 29,
    "start_time": "2023-10-02T05:10:25.423Z"
   },
   {
    "duration": 53,
    "start_time": "2023-10-02T05:10:25.454Z"
   },
   {
    "duration": 678,
    "start_time": "2023-10-02T05:11:05.795Z"
   },
   {
    "duration": 1281,
    "start_time": "2023-10-02T05:11:11.606Z"
   },
   {
    "duration": 90,
    "start_time": "2023-10-02T05:11:12.889Z"
   },
   {
    "duration": 12,
    "start_time": "2023-10-02T05:11:12.981Z"
   },
   {
    "duration": 177,
    "start_time": "2023-10-02T05:11:12.994Z"
   },
   {
    "duration": 96,
    "start_time": "2023-10-02T05:11:13.174Z"
   },
   {
    "duration": 55,
    "start_time": "2023-10-02T05:11:13.271Z"
   },
   {
    "duration": 8,
    "start_time": "2023-10-02T05:11:13.330Z"
   },
   {
    "duration": 75,
    "start_time": "2023-10-02T05:11:13.339Z"
   },
   {
    "duration": 28,
    "start_time": "2023-10-02T05:11:13.416Z"
   },
   {
    "duration": 51,
    "start_time": "2023-10-02T05:11:13.446Z"
   },
   {
    "duration": 66,
    "start_time": "2023-10-02T05:11:13.500Z"
   },
   {
    "duration": 43,
    "start_time": "2023-10-02T05:11:13.568Z"
   },
   {
    "duration": 17,
    "start_time": "2023-10-02T05:11:13.613Z"
   },
   {
    "duration": 9,
    "start_time": "2023-10-02T05:11:13.635Z"
   },
   {
    "duration": 55,
    "start_time": "2023-10-02T05:11:13.646Z"
   },
   {
    "duration": 37,
    "start_time": "2023-10-02T05:11:13.703Z"
   },
   {
    "duration": 223,
    "start_time": "2023-10-02T05:11:13.742Z"
   },
   {
    "duration": 122,
    "start_time": "2023-10-02T05:11:13.966Z"
   },
   {
    "duration": 41,
    "start_time": "2023-10-02T05:11:14.090Z"
   },
   {
    "duration": 14,
    "start_time": "2023-10-02T05:11:14.132Z"
   },
   {
    "duration": 22,
    "start_time": "2023-10-02T05:11:14.148Z"
   },
   {
    "duration": 45,
    "start_time": "2023-10-02T05:11:14.171Z"
   },
   {
    "duration": 40,
    "start_time": "2023-10-02T05:11:14.219Z"
   },
   {
    "duration": 228,
    "start_time": "2023-10-02T05:11:14.261Z"
   },
   {
    "duration": 13,
    "start_time": "2023-10-02T05:11:14.491Z"
   },
   {
    "duration": 137,
    "start_time": "2023-10-02T05:11:14.506Z"
   },
   {
    "duration": 9,
    "start_time": "2023-10-02T05:11:14.646Z"
   },
   {
    "duration": 309,
    "start_time": "2023-10-02T05:11:14.657Z"
   },
   {
    "duration": 18,
    "start_time": "2023-10-02T05:11:14.968Z"
   },
   {
    "duration": 496,
    "start_time": "2023-10-02T05:11:14.988Z"
   },
   {
    "duration": 278,
    "start_time": "2023-10-02T05:11:15.485Z"
   },
   {
    "duration": 18,
    "start_time": "2023-10-02T05:11:15.764Z"
   },
   {
    "duration": 454,
    "start_time": "2023-10-02T05:11:15.784Z"
   },
   {
    "duration": 25,
    "start_time": "2023-10-02T05:11:16.241Z"
   },
   {
    "duration": 67,
    "start_time": "2023-10-02T05:11:16.267Z"
   },
   {
    "duration": 148,
    "start_time": "2023-10-02T05:11:16.337Z"
   },
   {
    "duration": 51,
    "start_time": "2023-10-02T05:11:16.486Z"
   },
   {
    "duration": 41,
    "start_time": "2023-10-02T05:11:16.539Z"
   },
   {
    "duration": 17,
    "start_time": "2023-10-02T05:11:16.582Z"
   },
   {
    "duration": 217,
    "start_time": "2023-10-02T05:11:16.601Z"
   },
   {
    "duration": 26,
    "start_time": "2023-10-02T05:11:16.823Z"
   },
   {
    "duration": 128,
    "start_time": "2023-10-02T05:11:16.851Z"
   },
   {
    "duration": 373,
    "start_time": "2023-10-02T05:11:16.981Z"
   },
   {
    "duration": 7,
    "start_time": "2023-10-02T05:11:17.356Z"
   },
   {
    "duration": 96,
    "start_time": "2023-10-02T05:11:17.364Z"
   },
   {
    "duration": 24,
    "start_time": "2023-10-02T05:11:17.462Z"
   },
   {
    "duration": 39,
    "start_time": "2023-10-02T05:11:17.488Z"
   },
   {
    "duration": 19,
    "start_time": "2023-10-02T05:11:17.533Z"
   },
   {
    "duration": 36,
    "start_time": "2023-10-02T05:11:17.554Z"
   },
   {
    "duration": 25,
    "start_time": "2023-10-02T05:11:17.592Z"
   },
   {
    "duration": 21,
    "start_time": "2023-10-02T05:11:17.619Z"
   },
   {
    "duration": 115,
    "start_time": "2023-10-02T05:11:17.642Z"
   },
   {
    "duration": 130,
    "start_time": "2023-10-02T05:11:17.759Z"
   },
   {
    "duration": 23,
    "start_time": "2023-10-02T05:12:26.558Z"
   },
   {
    "duration": 1263,
    "start_time": "2023-10-02T05:12:33.143Z"
   },
   {
    "duration": 84,
    "start_time": "2023-10-02T05:12:34.408Z"
   },
   {
    "duration": 17,
    "start_time": "2023-10-02T05:12:34.494Z"
   },
   {
    "duration": 55,
    "start_time": "2023-10-02T05:12:34.515Z"
   },
   {
    "duration": 17,
    "start_time": "2023-10-02T05:12:34.574Z"
   },
   {
    "duration": 33,
    "start_time": "2023-10-02T05:12:34.593Z"
   },
   {
    "duration": 37,
    "start_time": "2023-10-02T05:12:34.629Z"
   },
   {
    "duration": 34,
    "start_time": "2023-10-02T05:12:34.669Z"
   },
   {
    "duration": 24,
    "start_time": "2023-10-02T05:12:34.707Z"
   },
   {
    "duration": 24,
    "start_time": "2023-10-02T05:12:34.733Z"
   },
   {
    "duration": 6,
    "start_time": "2023-10-02T05:12:34.759Z"
   },
   {
    "duration": 68,
    "start_time": "2023-10-02T05:12:34.767Z"
   },
   {
    "duration": 123,
    "start_time": "2023-10-02T05:12:34.838Z"
   },
   {
    "duration": 69,
    "start_time": "2023-10-02T05:12:34.964Z"
   },
   {
    "duration": 28,
    "start_time": "2023-10-02T05:12:35.035Z"
   },
   {
    "duration": 23,
    "start_time": "2023-10-02T05:12:35.065Z"
   },
   {
    "duration": 10,
    "start_time": "2023-10-02T05:12:35.090Z"
   },
   {
    "duration": 10,
    "start_time": "2023-10-02T05:12:35.106Z"
   },
   {
    "duration": 39,
    "start_time": "2023-10-02T05:12:35.118Z"
   },
   {
    "duration": 22,
    "start_time": "2023-10-02T05:12:35.159Z"
   },
   {
    "duration": 8,
    "start_time": "2023-10-02T05:12:35.183Z"
   },
   {
    "duration": 19,
    "start_time": "2023-10-02T05:12:35.193Z"
   },
   {
    "duration": 20,
    "start_time": "2023-10-02T05:12:35.214Z"
   },
   {
    "duration": 189,
    "start_time": "2023-10-02T05:12:35.236Z"
   },
   {
    "duration": 14,
    "start_time": "2023-10-02T05:12:35.427Z"
   },
   {
    "duration": 107,
    "start_time": "2023-10-02T05:12:35.443Z"
   },
   {
    "duration": 8,
    "start_time": "2023-10-02T05:12:35.551Z"
   },
   {
    "duration": 265,
    "start_time": "2023-10-02T05:12:35.561Z"
   },
   {
    "duration": 21,
    "start_time": "2023-10-02T05:12:35.829Z"
   },
   {
    "duration": 314,
    "start_time": "2023-10-02T05:12:35.851Z"
   },
   {
    "duration": 279,
    "start_time": "2023-10-02T05:12:36.166Z"
   },
   {
    "duration": 21,
    "start_time": "2023-10-02T05:12:36.446Z"
   },
   {
    "duration": 653,
    "start_time": "2023-10-02T05:12:36.469Z"
   },
   {
    "duration": 81,
    "start_time": "2023-10-02T05:12:37.124Z"
   },
   {
    "duration": 198,
    "start_time": "2023-10-02T05:12:37.214Z"
   },
   {
    "duration": 735,
    "start_time": "2023-10-02T05:12:37.414Z"
   },
   {
    "duration": 145,
    "start_time": "2023-10-02T05:12:38.150Z"
   },
   {
    "duration": 40,
    "start_time": "2023-10-02T05:12:38.297Z"
   },
   {
    "duration": 20,
    "start_time": "2023-10-02T05:12:38.339Z"
   },
   {
    "duration": 237,
    "start_time": "2023-10-02T05:12:38.361Z"
   },
   {
    "duration": 26,
    "start_time": "2023-10-02T05:12:38.609Z"
   },
   {
    "duration": 145,
    "start_time": "2023-10-02T05:12:38.636Z"
   },
   {
    "duration": 468,
    "start_time": "2023-10-02T05:12:38.783Z"
   },
   {
    "duration": 7,
    "start_time": "2023-10-02T05:12:39.253Z"
   },
   {
    "duration": 43,
    "start_time": "2023-10-02T05:12:39.261Z"
   },
   {
    "duration": 26,
    "start_time": "2023-10-02T05:12:39.314Z"
   },
   {
    "duration": 46,
    "start_time": "2023-10-02T05:12:39.342Z"
   },
   {
    "duration": 43,
    "start_time": "2023-10-02T05:12:39.390Z"
   },
   {
    "duration": 29,
    "start_time": "2023-10-02T05:12:39.435Z"
   },
   {
    "duration": 22,
    "start_time": "2023-10-02T05:12:39.465Z"
   },
   {
    "duration": 33,
    "start_time": "2023-10-02T05:12:39.489Z"
   },
   {
    "duration": 10,
    "start_time": "2023-10-02T05:12:39.524Z"
   },
   {
    "duration": 17,
    "start_time": "2023-10-02T05:12:39.537Z"
   },
   {
    "duration": 28,
    "start_time": "2023-10-02T05:13:09.286Z"
   },
   {
    "duration": 1254,
    "start_time": "2023-10-02T05:13:14.740Z"
   },
   {
    "duration": 76,
    "start_time": "2023-10-02T05:13:15.996Z"
   },
   {
    "duration": 14,
    "start_time": "2023-10-02T05:13:16.074Z"
   },
   {
    "duration": 46,
    "start_time": "2023-10-02T05:13:16.091Z"
   },
   {
    "duration": 42,
    "start_time": "2023-10-02T05:13:16.139Z"
   },
   {
    "duration": 42,
    "start_time": "2023-10-02T05:13:16.183Z"
   },
   {
    "duration": 25,
    "start_time": "2023-10-02T05:13:16.226Z"
   },
   {
    "duration": 37,
    "start_time": "2023-10-02T05:13:16.253Z"
   },
   {
    "duration": 28,
    "start_time": "2023-10-02T05:13:16.292Z"
   },
   {
    "duration": 22,
    "start_time": "2023-10-02T05:13:16.323Z"
   },
   {
    "duration": 5,
    "start_time": "2023-10-02T05:13:16.347Z"
   },
   {
    "duration": 23,
    "start_time": "2023-10-02T05:13:16.353Z"
   },
   {
    "duration": 11,
    "start_time": "2023-10-02T05:13:16.377Z"
   },
   {
    "duration": 5,
    "start_time": "2023-10-02T05:13:16.390Z"
   },
   {
    "duration": 12,
    "start_time": "2023-10-02T05:13:16.397Z"
   },
   {
    "duration": 9,
    "start_time": "2023-10-02T05:13:16.411Z"
   },
   {
    "duration": 5,
    "start_time": "2023-10-02T05:13:16.422Z"
   },
   {
    "duration": 19,
    "start_time": "2023-10-02T05:13:16.428Z"
   },
   {
    "duration": 18,
    "start_time": "2023-10-02T05:13:16.449Z"
   },
   {
    "duration": 25,
    "start_time": "2023-10-02T05:13:16.469Z"
   },
   {
    "duration": 7,
    "start_time": "2023-10-02T05:13:16.496Z"
   },
   {
    "duration": 14,
    "start_time": "2023-10-02T05:13:16.505Z"
   },
   {
    "duration": 39,
    "start_time": "2023-10-02T05:13:16.521Z"
   },
   {
    "duration": 183,
    "start_time": "2023-10-02T05:13:16.562Z"
   },
   {
    "duration": 6,
    "start_time": "2023-10-02T05:13:16.746Z"
   },
   {
    "duration": 103,
    "start_time": "2023-10-02T05:13:16.753Z"
   },
   {
    "duration": 8,
    "start_time": "2023-10-02T05:13:16.857Z"
   },
   {
    "duration": 236,
    "start_time": "2023-10-02T05:13:16.869Z"
   },
   {
    "duration": 22,
    "start_time": "2023-10-02T05:13:17.110Z"
   },
   {
    "duration": 272,
    "start_time": "2023-10-02T05:13:17.134Z"
   },
   {
    "duration": 252,
    "start_time": "2023-10-02T05:13:17.408Z"
   },
   {
    "duration": 17,
    "start_time": "2023-10-02T05:13:17.661Z"
   },
   {
    "duration": 285,
    "start_time": "2023-10-02T05:13:17.680Z"
   },
   {
    "duration": 35,
    "start_time": "2023-10-02T05:13:17.967Z"
   },
   {
    "duration": 22,
    "start_time": "2023-10-02T05:13:18.004Z"
   },
   {
    "duration": 122,
    "start_time": "2023-10-02T05:13:18.028Z"
   },
   {
    "duration": 23,
    "start_time": "2023-10-02T05:13:18.152Z"
   },
   {
    "duration": 31,
    "start_time": "2023-10-02T05:13:18.177Z"
   },
   {
    "duration": 27,
    "start_time": "2023-10-02T05:13:18.210Z"
   },
   {
    "duration": 228,
    "start_time": "2023-10-02T05:13:18.239Z"
   },
   {
    "duration": 17,
    "start_time": "2023-10-02T05:13:18.469Z"
   },
   {
    "duration": 47,
    "start_time": "2023-10-02T05:13:18.487Z"
   },
   {
    "duration": 262,
    "start_time": "2023-10-02T05:13:18.536Z"
   },
   {
    "duration": 11,
    "start_time": "2023-10-02T05:13:18.805Z"
   },
   {
    "duration": 58,
    "start_time": "2023-10-02T05:13:18.819Z"
   },
   {
    "duration": 60,
    "start_time": "2023-10-02T05:13:18.878Z"
   },
   {
    "duration": 35,
    "start_time": "2023-10-02T05:13:18.939Z"
   },
   {
    "duration": 20,
    "start_time": "2023-10-02T05:13:18.976Z"
   },
   {
    "duration": 22,
    "start_time": "2023-10-02T05:13:18.998Z"
   },
   {
    "duration": 19,
    "start_time": "2023-10-02T05:13:19.024Z"
   },
   {
    "duration": 47,
    "start_time": "2023-10-02T05:13:19.044Z"
   },
   {
    "duration": 38,
    "start_time": "2023-10-02T05:13:19.093Z"
   },
   {
    "duration": 24,
    "start_time": "2023-10-02T05:13:19.133Z"
   },
   {
    "duration": 1315,
    "start_time": "2023-10-02T05:14:06.626Z"
   },
   {
    "duration": 80,
    "start_time": "2023-10-02T05:14:07.943Z"
   },
   {
    "duration": 17,
    "start_time": "2023-10-02T05:14:08.026Z"
   },
   {
    "duration": 18,
    "start_time": "2023-10-02T05:14:08.044Z"
   },
   {
    "duration": 40,
    "start_time": "2023-10-02T05:14:08.064Z"
   },
   {
    "duration": 29,
    "start_time": "2023-10-02T05:14:08.109Z"
   },
   {
    "duration": 8,
    "start_time": "2023-10-02T05:14:08.140Z"
   },
   {
    "duration": 28,
    "start_time": "2023-10-02T05:14:08.150Z"
   },
   {
    "duration": 46,
    "start_time": "2023-10-02T05:14:08.180Z"
   },
   {
    "duration": 62,
    "start_time": "2023-10-02T05:14:08.230Z"
   },
   {
    "duration": 31,
    "start_time": "2023-10-02T05:14:08.294Z"
   },
   {
    "duration": 21,
    "start_time": "2023-10-02T05:14:08.328Z"
   },
   {
    "duration": 35,
    "start_time": "2023-10-02T05:14:08.351Z"
   },
   {
    "duration": 21,
    "start_time": "2023-10-02T05:14:08.389Z"
   },
   {
    "duration": 44,
    "start_time": "2023-10-02T05:14:08.413Z"
   },
   {
    "duration": 27,
    "start_time": "2023-10-02T05:14:08.459Z"
   },
   {
    "duration": 69,
    "start_time": "2023-10-02T05:14:08.488Z"
   },
   {
    "duration": 77,
    "start_time": "2023-10-02T05:14:08.560Z"
   },
   {
    "duration": 99,
    "start_time": "2023-10-02T05:14:08.639Z"
   },
   {
    "duration": 23,
    "start_time": "2023-10-02T05:14:08.740Z"
   },
   {
    "duration": 27,
    "start_time": "2023-10-02T05:14:08.765Z"
   },
   {
    "duration": 39,
    "start_time": "2023-10-02T05:14:08.794Z"
   },
   {
    "duration": 31,
    "start_time": "2023-10-02T05:14:08.835Z"
   },
   {
    "duration": 240,
    "start_time": "2023-10-02T05:14:08.868Z"
   },
   {
    "duration": 15,
    "start_time": "2023-10-02T05:14:09.113Z"
   },
   {
    "duration": 118,
    "start_time": "2023-10-02T05:14:09.133Z"
   },
   {
    "duration": 9,
    "start_time": "2023-10-02T05:14:09.253Z"
   },
   {
    "duration": 282,
    "start_time": "2023-10-02T05:14:09.264Z"
   },
   {
    "duration": 18,
    "start_time": "2023-10-02T05:14:09.548Z"
   },
   {
    "duration": 305,
    "start_time": "2023-10-02T05:14:09.568Z"
   },
   {
    "duration": 285,
    "start_time": "2023-10-02T05:14:09.874Z"
   },
   {
    "duration": 17,
    "start_time": "2023-10-02T05:14:10.161Z"
   },
   {
    "duration": 299,
    "start_time": "2023-10-02T05:14:10.180Z"
   },
   {
    "duration": 46,
    "start_time": "2023-10-02T05:14:10.481Z"
   },
   {
    "duration": 157,
    "start_time": "2023-10-02T05:14:10.529Z"
   },
   {
    "duration": 116,
    "start_time": "2023-10-02T05:14:10.688Z"
   },
   {
    "duration": 30,
    "start_time": "2023-10-02T05:14:10.807Z"
   },
   {
    "duration": 43,
    "start_time": "2023-10-02T05:14:10.839Z"
   },
   {
    "duration": 50,
    "start_time": "2023-10-02T05:14:10.884Z"
   },
   {
    "duration": 217,
    "start_time": "2023-10-02T05:14:10.936Z"
   },
   {
    "duration": 17,
    "start_time": "2023-10-02T05:14:11.158Z"
   },
   {
    "duration": 32,
    "start_time": "2023-10-02T05:14:11.177Z"
   },
   {
    "duration": 238,
    "start_time": "2023-10-02T05:14:11.211Z"
   },
   {
    "duration": 8,
    "start_time": "2023-10-02T05:14:11.452Z"
   },
   {
    "duration": 53,
    "start_time": "2023-10-02T05:14:11.462Z"
   },
   {
    "duration": 24,
    "start_time": "2023-10-02T05:14:11.517Z"
   },
   {
    "duration": 23,
    "start_time": "2023-10-02T05:14:11.543Z"
   },
   {
    "duration": 51,
    "start_time": "2023-10-02T05:14:11.567Z"
   },
   {
    "duration": 7,
    "start_time": "2023-10-02T05:14:11.621Z"
   },
   {
    "duration": 12,
    "start_time": "2023-10-02T05:14:11.630Z"
   },
   {
    "duration": 47,
    "start_time": "2023-10-02T05:14:11.644Z"
   },
   {
    "duration": 49,
    "start_time": "2023-10-02T05:14:11.693Z"
   },
   {
    "duration": 18,
    "start_time": "2023-10-02T05:14:11.744Z"
   },
   {
    "duration": 1010,
    "start_time": "2023-10-02T08:00:32.473Z"
   },
   {
    "duration": 66,
    "start_time": "2023-10-02T08:00:33.485Z"
   },
   {
    "duration": 11,
    "start_time": "2023-10-02T08:00:33.553Z"
   },
   {
    "duration": 13,
    "start_time": "2023-10-02T08:00:33.566Z"
   },
   {
    "duration": 15,
    "start_time": "2023-10-02T08:00:33.580Z"
   },
   {
    "duration": 27,
    "start_time": "2023-10-02T08:00:33.596Z"
   },
   {
    "duration": 13,
    "start_time": "2023-10-02T08:00:33.625Z"
   },
   {
    "duration": 14,
    "start_time": "2023-10-02T08:00:33.640Z"
   },
   {
    "duration": 12,
    "start_time": "2023-10-02T08:00:33.655Z"
   },
   {
    "duration": 25,
    "start_time": "2023-10-02T08:00:33.669Z"
   },
   {
    "duration": 12,
    "start_time": "2023-10-02T08:00:33.695Z"
   },
   {
    "duration": 16,
    "start_time": "2023-10-02T08:00:33.708Z"
   },
   {
    "duration": 13,
    "start_time": "2023-10-02T08:00:33.725Z"
   },
   {
    "duration": 12,
    "start_time": "2023-10-02T08:00:33.740Z"
   },
   {
    "duration": 24,
    "start_time": "2023-10-02T08:00:33.753Z"
   },
   {
    "duration": 17,
    "start_time": "2023-10-02T08:00:33.779Z"
   },
   {
    "duration": 13,
    "start_time": "2023-10-02T08:00:33.797Z"
   },
   {
    "duration": 13,
    "start_time": "2023-10-02T08:00:33.812Z"
   },
   {
    "duration": 10,
    "start_time": "2023-10-02T08:00:33.826Z"
   },
   {
    "duration": 13,
    "start_time": "2023-10-02T08:00:33.837Z"
   },
   {
    "duration": 19,
    "start_time": "2023-10-02T08:00:33.851Z"
   },
   {
    "duration": 35,
    "start_time": "2023-10-02T08:00:33.872Z"
   },
   {
    "duration": 38,
    "start_time": "2023-10-02T08:00:33.909Z"
   },
   {
    "duration": 199,
    "start_time": "2023-10-02T08:00:33.949Z"
   },
   {
    "duration": 7,
    "start_time": "2023-10-02T08:00:34.150Z"
   },
   {
    "duration": 108,
    "start_time": "2023-10-02T08:00:34.159Z"
   },
   {
    "duration": 7,
    "start_time": "2023-10-02T08:00:34.268Z"
   },
   {
    "duration": 224,
    "start_time": "2023-10-02T08:00:34.278Z"
   },
   {
    "duration": 16,
    "start_time": "2023-10-02T08:00:34.504Z"
   },
   {
    "duration": 231,
    "start_time": "2023-10-02T08:00:34.522Z"
   },
   {
    "duration": 206,
    "start_time": "2023-10-02T08:00:34.754Z"
   },
   {
    "duration": 19,
    "start_time": "2023-10-02T08:00:34.961Z"
   },
   {
    "duration": 244,
    "start_time": "2023-10-02T08:00:34.981Z"
   },
   {
    "duration": 26,
    "start_time": "2023-10-02T08:00:35.227Z"
   },
   {
    "duration": 13,
    "start_time": "2023-10-02T08:00:35.254Z"
   },
   {
    "duration": 102,
    "start_time": "2023-10-02T08:00:35.268Z"
   },
   {
    "duration": 13,
    "start_time": "2023-10-02T08:00:35.371Z"
   },
   {
    "duration": 23,
    "start_time": "2023-10-02T08:00:35.385Z"
   },
   {
    "duration": 22,
    "start_time": "2023-10-02T08:00:35.409Z"
   },
   {
    "duration": 165,
    "start_time": "2023-10-02T08:00:35.433Z"
   },
   {
    "duration": 16,
    "start_time": "2023-10-02T08:00:35.599Z"
   },
   {
    "duration": 75,
    "start_time": "2023-10-02T08:00:35.616Z"
   },
   {
    "duration": 169,
    "start_time": "2023-10-02T08:00:35.692Z"
   },
   {
    "duration": 7,
    "start_time": "2023-10-02T08:00:35.863Z"
   },
   {
    "duration": 57,
    "start_time": "2023-10-02T08:00:35.871Z"
   },
   {
    "duration": 16,
    "start_time": "2023-10-02T08:00:35.930Z"
   },
   {
    "duration": 35,
    "start_time": "2023-10-02T08:00:35.947Z"
   },
   {
    "duration": 18,
    "start_time": "2023-10-02T08:00:35.984Z"
   },
   {
    "duration": 17,
    "start_time": "2023-10-02T08:00:36.004Z"
   },
   {
    "duration": 12,
    "start_time": "2023-10-02T08:00:36.022Z"
   },
   {
    "duration": 13,
    "start_time": "2023-10-02T08:00:36.036Z"
   },
   {
    "duration": 20,
    "start_time": "2023-10-02T08:00:36.051Z"
   },
   {
    "duration": 22,
    "start_time": "2023-10-02T08:00:36.073Z"
   },
   {
    "duration": 175,
    "start_time": "2023-10-02T08:03:28.730Z"
   },
   {
    "duration": 153,
    "start_time": "2023-10-02T08:03:44.410Z"
   },
   {
    "duration": 157,
    "start_time": "2023-10-02T08:04:18.489Z"
   },
   {
    "duration": 179,
    "start_time": "2023-10-02T08:05:04.156Z"
   },
   {
    "duration": 163,
    "start_time": "2023-10-02T08:05:27.627Z"
   },
   {
    "duration": 158,
    "start_time": "2023-10-02T08:06:02.793Z"
   },
   {
    "duration": 146,
    "start_time": "2023-10-02T08:06:11.362Z"
   },
   {
    "duration": 177,
    "start_time": "2023-10-02T08:06:28.745Z"
   },
   {
    "duration": 194,
    "start_time": "2023-10-02T08:06:47.655Z"
   },
   {
    "duration": 295,
    "start_time": "2023-10-02T08:07:58.511Z"
   },
   {
    "duration": 174,
    "start_time": "2023-10-02T08:08:27.159Z"
   },
   {
    "duration": 155,
    "start_time": "2023-10-02T08:08:54.215Z"
   },
   {
    "duration": 191,
    "start_time": "2023-10-02T08:09:36.877Z"
   },
   {
    "duration": 129,
    "start_time": "2023-10-02T08:09:48.446Z"
   },
   {
    "duration": 114,
    "start_time": "2023-10-02T08:10:09.798Z"
   },
   {
    "duration": 89,
    "start_time": "2023-10-02T08:10:32.838Z"
   },
   {
    "duration": 120,
    "start_time": "2023-10-02T08:10:40.974Z"
   },
   {
    "duration": 149,
    "start_time": "2023-10-02T08:11:01.062Z"
   },
   {
    "duration": 152,
    "start_time": "2023-10-02T08:11:23.367Z"
   },
   {
    "duration": 157,
    "start_time": "2023-10-02T08:11:31.495Z"
   },
   {
    "duration": 164,
    "start_time": "2023-10-02T08:12:08.722Z"
   },
   {
    "duration": 491,
    "start_time": "2023-10-02T08:13:09.477Z"
   },
   {
    "duration": 7,
    "start_time": "2023-10-02T08:16:00.996Z"
   },
   {
    "duration": 17,
    "start_time": "2023-10-02T08:16:45.891Z"
   },
   {
    "duration": 19,
    "start_time": "2023-10-02T08:17:00.152Z"
   },
   {
    "duration": 16,
    "start_time": "2023-10-02T08:19:10.605Z"
   },
   {
    "duration": 15,
    "start_time": "2023-10-02T08:21:49.587Z"
   },
   {
    "duration": 10,
    "start_time": "2023-10-02T08:22:05.528Z"
   },
   {
    "duration": 1141,
    "start_time": "2023-10-02T08:23:08.338Z"
   },
   {
    "duration": 65,
    "start_time": "2023-10-02T08:23:09.481Z"
   },
   {
    "duration": 11,
    "start_time": "2023-10-02T08:23:09.548Z"
   },
   {
    "duration": 13,
    "start_time": "2023-10-02T08:23:09.560Z"
   },
   {
    "duration": 9,
    "start_time": "2023-10-02T08:23:09.575Z"
   },
   {
    "duration": 10,
    "start_time": "2023-10-02T08:23:09.585Z"
   },
   {
    "duration": 16,
    "start_time": "2023-10-02T08:23:09.596Z"
   },
   {
    "duration": 11,
    "start_time": "2023-10-02T08:23:09.613Z"
   },
   {
    "duration": 19,
    "start_time": "2023-10-02T08:23:09.626Z"
   },
   {
    "duration": 10,
    "start_time": "2023-10-02T08:23:09.647Z"
   },
   {
    "duration": 5,
    "start_time": "2023-10-02T08:23:09.659Z"
   },
   {
    "duration": 9,
    "start_time": "2023-10-02T08:23:09.665Z"
   },
   {
    "duration": 8,
    "start_time": "2023-10-02T08:23:09.675Z"
   },
   {
    "duration": 6,
    "start_time": "2023-10-02T08:23:09.684Z"
   },
   {
    "duration": 8,
    "start_time": "2023-10-02T08:23:09.691Z"
   },
   {
    "duration": 9,
    "start_time": "2023-10-02T08:23:09.700Z"
   },
   {
    "duration": 33,
    "start_time": "2023-10-02T08:23:09.711Z"
   },
   {
    "duration": 12,
    "start_time": "2023-10-02T08:23:09.746Z"
   },
   {
    "duration": 17,
    "start_time": "2023-10-02T08:23:09.760Z"
   },
   {
    "duration": 8,
    "start_time": "2023-10-02T08:23:09.778Z"
   },
   {
    "duration": 17,
    "start_time": "2023-10-02T08:23:09.787Z"
   },
   {
    "duration": 18,
    "start_time": "2023-10-02T08:23:09.806Z"
   },
   {
    "duration": 13,
    "start_time": "2023-10-02T08:23:09.825Z"
   },
   {
    "duration": 138,
    "start_time": "2023-10-02T08:23:09.839Z"
   },
   {
    "duration": 7,
    "start_time": "2023-10-02T08:23:09.978Z"
   },
   {
    "duration": 101,
    "start_time": "2023-10-02T08:23:09.986Z"
   },
   {
    "duration": 8,
    "start_time": "2023-10-02T08:23:10.089Z"
   },
   {
    "duration": 193,
    "start_time": "2023-10-02T08:23:10.101Z"
   },
   {
    "duration": 17,
    "start_time": "2023-10-02T08:23:10.296Z"
   },
   {
    "duration": 208,
    "start_time": "2023-10-02T08:23:10.314Z"
   },
   {
    "duration": 199,
    "start_time": "2023-10-02T08:23:10.524Z"
   },
   {
    "duration": 21,
    "start_time": "2023-10-02T08:23:10.725Z"
   },
   {
    "duration": 222,
    "start_time": "2023-10-02T08:23:10.747Z"
   },
   {
    "duration": 21,
    "start_time": "2023-10-02T08:23:10.971Z"
   },
   {
    "duration": 14,
    "start_time": "2023-10-02T08:23:10.993Z"
   },
   {
    "duration": 102,
    "start_time": "2023-10-02T08:23:11.008Z"
   },
   {
    "duration": 13,
    "start_time": "2023-10-02T08:23:11.111Z"
   },
   {
    "duration": 26,
    "start_time": "2023-10-02T08:23:11.126Z"
   },
   {
    "duration": 22,
    "start_time": "2023-10-02T08:23:11.154Z"
   },
   {
    "duration": 179,
    "start_time": "2023-10-02T08:23:11.178Z"
   },
   {
    "duration": 16,
    "start_time": "2023-10-02T08:23:11.359Z"
   },
   {
    "duration": 15,
    "start_time": "2023-10-02T08:23:11.377Z"
   },
   {
    "duration": 189,
    "start_time": "2023-10-02T08:23:11.394Z"
   },
   {
    "duration": 168,
    "start_time": "2023-10-02T08:23:11.585Z"
   },
   {
    "duration": 6,
    "start_time": "2023-10-02T08:23:11.755Z"
   },
   {
    "duration": 27,
    "start_time": "2023-10-02T08:23:11.763Z"
   },
   {
    "duration": 15,
    "start_time": "2023-10-02T08:23:11.792Z"
   },
   {
    "duration": 38,
    "start_time": "2023-10-02T08:23:11.809Z"
   },
   {
    "duration": 18,
    "start_time": "2023-10-02T08:23:11.849Z"
   },
   {
    "duration": 5,
    "start_time": "2023-10-02T08:23:11.868Z"
   },
   {
    "duration": 14,
    "start_time": "2023-10-02T08:23:11.874Z"
   },
   {
    "duration": 14,
    "start_time": "2023-10-02T08:23:11.889Z"
   },
   {
    "duration": 12,
    "start_time": "2023-10-02T08:23:11.905Z"
   },
   {
    "duration": 6,
    "start_time": "2023-10-02T08:23:11.919Z"
   },
   {
    "duration": 60,
    "start_time": "2023-10-02T15:34:56.487Z"
   },
   {
    "duration": 1593,
    "start_time": "2023-10-02T15:35:04.648Z"
   },
   {
    "duration": 220,
    "start_time": "2023-10-02T15:35:06.243Z"
   },
   {
    "duration": 18,
    "start_time": "2023-10-02T15:35:06.465Z"
   },
   {
    "duration": 37,
    "start_time": "2023-10-02T15:35:06.486Z"
   },
   {
    "duration": 11,
    "start_time": "2023-10-02T15:35:06.532Z"
   },
   {
    "duration": 29,
    "start_time": "2023-10-02T15:35:06.545Z"
   },
   {
    "duration": 18,
    "start_time": "2023-10-02T15:35:06.577Z"
   },
   {
    "duration": 35,
    "start_time": "2023-10-02T15:35:06.597Z"
   },
   {
    "duration": 15,
    "start_time": "2023-10-02T15:35:06.637Z"
   },
   {
    "duration": 29,
    "start_time": "2023-10-02T15:35:06.654Z"
   },
   {
    "duration": 32,
    "start_time": "2023-10-02T15:35:06.685Z"
   },
   {
    "duration": 18,
    "start_time": "2023-10-02T15:35:06.720Z"
   },
   {
    "duration": 22,
    "start_time": "2023-10-02T15:35:06.740Z"
   },
   {
    "duration": 14,
    "start_time": "2023-10-02T15:35:06.765Z"
   },
   {
    "duration": 13,
    "start_time": "2023-10-02T15:35:06.781Z"
   },
   {
    "duration": 38,
    "start_time": "2023-10-02T15:35:06.795Z"
   },
   {
    "duration": 10,
    "start_time": "2023-10-02T15:35:06.834Z"
   },
   {
    "duration": 12,
    "start_time": "2023-10-02T15:35:06.846Z"
   },
   {
    "duration": 16,
    "start_time": "2023-10-02T15:35:06.859Z"
   },
   {
    "duration": 14,
    "start_time": "2023-10-02T15:35:06.876Z"
   },
   {
    "duration": 28,
    "start_time": "2023-10-02T15:35:06.891Z"
   },
   {
    "duration": 25,
    "start_time": "2023-10-02T15:35:06.922Z"
   },
   {
    "duration": 18,
    "start_time": "2023-10-02T15:35:06.949Z"
   },
   {
    "duration": 189,
    "start_time": "2023-10-02T15:35:06.968Z"
   },
   {
    "duration": 6,
    "start_time": "2023-10-02T15:35:07.159Z"
   },
   {
    "duration": 163,
    "start_time": "2023-10-02T15:35:07.167Z"
   },
   {
    "duration": 10,
    "start_time": "2023-10-02T15:35:07.332Z"
   },
   {
    "duration": 237,
    "start_time": "2023-10-02T15:35:07.344Z"
   },
   {
    "duration": 38,
    "start_time": "2023-10-02T15:35:07.583Z"
   },
   {
    "duration": 292,
    "start_time": "2023-10-02T15:35:07.623Z"
   },
   {
    "duration": 285,
    "start_time": "2023-10-02T15:35:07.919Z"
   },
   {
    "duration": 275,
    "start_time": "2023-10-02T15:35:08.206Z"
   },
   {
    "duration": 31,
    "start_time": "2023-10-02T15:35:08.483Z"
   },
   {
    "duration": 400,
    "start_time": "2023-10-02T15:35:08.517Z"
   },
   {
    "duration": 44,
    "start_time": "2023-10-02T15:35:08.919Z"
   },
   {
    "duration": 17,
    "start_time": "2023-10-02T15:35:08.964Z"
   },
   {
    "duration": 50,
    "start_time": "2023-10-02T15:35:08.983Z"
   },
   {
    "duration": 24,
    "start_time": "2023-10-02T15:35:09.036Z"
   },
   {
    "duration": 18,
    "start_time": "2023-10-02T15:35:09.062Z"
   },
   {
    "duration": 47,
    "start_time": "2023-10-02T15:35:09.082Z"
   },
   {
    "duration": 240,
    "start_time": "2023-10-02T15:35:09.134Z"
   },
   {
    "duration": 33,
    "start_time": "2023-10-02T15:35:09.376Z"
   },
   {
    "duration": 19,
    "start_time": "2023-10-02T15:35:09.412Z"
   },
   {
    "duration": 247,
    "start_time": "2023-10-02T15:35:09.433Z"
   },
   {
    "duration": 203,
    "start_time": "2023-10-02T15:35:09.682Z"
   },
   {
    "duration": 7,
    "start_time": "2023-10-02T15:35:09.887Z"
   },
   {
    "duration": 52,
    "start_time": "2023-10-02T15:35:09.895Z"
   },
   {
    "duration": 21,
    "start_time": "2023-10-02T15:35:09.948Z"
   },
   {
    "duration": 43,
    "start_time": "2023-10-02T15:35:09.970Z"
   },
   {
    "duration": 25,
    "start_time": "2023-10-02T15:35:10.018Z"
   },
   {
    "duration": 7,
    "start_time": "2023-10-02T15:35:10.045Z"
   },
   {
    "duration": 15,
    "start_time": "2023-10-02T15:35:10.053Z"
   },
   {
    "duration": 37,
    "start_time": "2023-10-02T15:35:10.070Z"
   },
   {
    "duration": 22,
    "start_time": "2023-10-02T15:35:10.115Z"
   },
   {
    "duration": 17,
    "start_time": "2023-10-02T15:35:10.139Z"
   },
   {
    "duration": 9,
    "start_time": "2023-10-02T16:25:28.263Z"
   },
   {
    "duration": 9,
    "start_time": "2023-10-02T16:27:10.508Z"
   },
   {
    "duration": 221,
    "start_time": "2023-10-02T16:27:19.940Z"
   },
   {
    "duration": 9,
    "start_time": "2023-10-02T16:28:31.495Z"
   },
   {
    "duration": 9,
    "start_time": "2023-10-02T16:28:44.242Z"
   },
   {
    "duration": 225,
    "start_time": "2023-10-02T16:30:06.527Z"
   },
   {
    "duration": 9,
    "start_time": "2023-10-02T16:30:31.961Z"
   },
   {
    "duration": 8,
    "start_time": "2023-10-02T16:30:41.156Z"
   },
   {
    "duration": 205,
    "start_time": "2023-10-02T16:31:28.411Z"
   },
   {
    "duration": 220,
    "start_time": "2023-10-02T16:31:56.197Z"
   },
   {
    "duration": 194,
    "start_time": "2023-10-02T16:32:18.084Z"
   },
   {
    "duration": 216,
    "start_time": "2023-10-02T16:32:48.496Z"
   },
   {
    "duration": 280,
    "start_time": "2023-10-02T16:34:11.845Z"
   },
   {
    "duration": 201,
    "start_time": "2023-10-02T16:34:44.598Z"
   },
   {
    "duration": 198,
    "start_time": "2023-10-02T16:35:41.046Z"
   },
   {
    "duration": 1329,
    "start_time": "2023-10-02T16:55:10.392Z"
   },
   {
    "duration": 73,
    "start_time": "2023-10-02T16:55:11.723Z"
   },
   {
    "duration": 15,
    "start_time": "2023-10-02T16:55:11.798Z"
   },
   {
    "duration": 13,
    "start_time": "2023-10-02T16:55:11.815Z"
   },
   {
    "duration": 27,
    "start_time": "2023-10-02T16:55:11.830Z"
   },
   {
    "duration": 23,
    "start_time": "2023-10-02T16:55:11.859Z"
   },
   {
    "duration": 8,
    "start_time": "2023-10-02T16:55:11.884Z"
   },
   {
    "duration": 42,
    "start_time": "2023-10-02T16:55:11.894Z"
   },
   {
    "duration": 18,
    "start_time": "2023-10-02T16:55:11.938Z"
   },
   {
    "duration": 16,
    "start_time": "2023-10-02T16:55:11.960Z"
   },
   {
    "duration": 8,
    "start_time": "2023-10-02T16:55:11.978Z"
   },
   {
    "duration": 12,
    "start_time": "2023-10-02T16:55:11.987Z"
   },
   {
    "duration": 23,
    "start_time": "2023-10-02T16:55:12.001Z"
   },
   {
    "duration": 16,
    "start_time": "2023-10-02T16:55:12.026Z"
   },
   {
    "duration": 21,
    "start_time": "2023-10-02T16:55:12.044Z"
   },
   {
    "duration": 18,
    "start_time": "2023-10-02T16:55:12.066Z"
   },
   {
    "duration": 36,
    "start_time": "2023-10-02T16:55:12.086Z"
   },
   {
    "duration": 14,
    "start_time": "2023-10-02T16:55:12.125Z"
   },
   {
    "duration": 9,
    "start_time": "2023-10-02T16:55:12.140Z"
   },
   {
    "duration": 19,
    "start_time": "2023-10-02T16:55:12.152Z"
   },
   {
    "duration": 6,
    "start_time": "2023-10-02T16:55:12.173Z"
   },
   {
    "duration": 10,
    "start_time": "2023-10-02T16:55:12.181Z"
   },
   {
    "duration": 28,
    "start_time": "2023-10-02T16:55:12.193Z"
   },
   {
    "duration": 217,
    "start_time": "2023-10-02T16:55:12.224Z"
   },
   {
    "duration": 8,
    "start_time": "2023-10-02T16:55:12.444Z"
   },
   {
    "duration": 127,
    "start_time": "2023-10-02T16:55:12.455Z"
   },
   {
    "duration": 16,
    "start_time": "2023-10-02T16:55:12.585Z"
   },
   {
    "duration": 264,
    "start_time": "2023-10-02T16:55:12.609Z"
   },
   {
    "duration": 10,
    "start_time": "2023-10-02T16:55:12.875Z"
   },
   {
    "duration": 283,
    "start_time": "2023-10-02T16:55:12.887Z"
   },
   {
    "duration": 0,
    "start_time": "2023-10-02T16:55:13.172Z"
   },
   {
    "duration": 0,
    "start_time": "2023-10-02T16:55:13.173Z"
   },
   {
    "duration": 0,
    "start_time": "2023-10-02T16:55:13.175Z"
   },
   {
    "duration": 0,
    "start_time": "2023-10-02T16:55:13.176Z"
   },
   {
    "duration": 0,
    "start_time": "2023-10-02T16:55:13.177Z"
   },
   {
    "duration": 0,
    "start_time": "2023-10-02T16:55:13.178Z"
   },
   {
    "duration": 0,
    "start_time": "2023-10-02T16:55:13.179Z"
   },
   {
    "duration": 0,
    "start_time": "2023-10-02T16:55:13.181Z"
   },
   {
    "duration": 0,
    "start_time": "2023-10-02T16:55:13.183Z"
   },
   {
    "duration": 0,
    "start_time": "2023-10-02T16:55:13.185Z"
   },
   {
    "duration": 0,
    "start_time": "2023-10-02T16:55:13.186Z"
   },
   {
    "duration": 0,
    "start_time": "2023-10-02T16:55:13.188Z"
   },
   {
    "duration": 0,
    "start_time": "2023-10-02T16:55:13.190Z"
   },
   {
    "duration": 0,
    "start_time": "2023-10-02T16:55:13.191Z"
   },
   {
    "duration": 0,
    "start_time": "2023-10-02T16:55:13.193Z"
   },
   {
    "duration": 0,
    "start_time": "2023-10-02T16:55:13.194Z"
   },
   {
    "duration": 0,
    "start_time": "2023-10-02T16:55:13.196Z"
   },
   {
    "duration": 0,
    "start_time": "2023-10-02T16:55:13.198Z"
   },
   {
    "duration": 0,
    "start_time": "2023-10-02T16:55:13.199Z"
   },
   {
    "duration": 0,
    "start_time": "2023-10-02T16:55:13.200Z"
   },
   {
    "duration": 0,
    "start_time": "2023-10-02T16:55:13.200Z"
   },
   {
    "duration": 0,
    "start_time": "2023-10-02T16:55:13.201Z"
   },
   {
    "duration": 0,
    "start_time": "2023-10-02T16:55:13.202Z"
   },
   {
    "duration": 280,
    "start_time": "2023-10-02T16:55:38.299Z"
   },
   {
    "duration": 9,
    "start_time": "2023-10-02T16:55:45.604Z"
   },
   {
    "duration": 222,
    "start_time": "2023-10-02T16:55:47.580Z"
   },
   {
    "duration": 31,
    "start_time": "2023-10-02T16:55:51.464Z"
   },
   {
    "duration": 16,
    "start_time": "2023-10-02T16:55:51.837Z"
   },
   {
    "duration": 18,
    "start_time": "2023-10-02T16:55:52.944Z"
   },
   {
    "duration": 1331,
    "start_time": "2023-10-02T16:55:57.295Z"
   },
   {
    "duration": 73,
    "start_time": "2023-10-02T16:55:58.628Z"
   },
   {
    "duration": 15,
    "start_time": "2023-10-02T16:55:58.703Z"
   },
   {
    "duration": 14,
    "start_time": "2023-10-02T16:55:58.720Z"
   },
   {
    "duration": 16,
    "start_time": "2023-10-02T16:55:58.736Z"
   },
   {
    "duration": 24,
    "start_time": "2023-10-02T16:55:58.754Z"
   },
   {
    "duration": 11,
    "start_time": "2023-10-02T16:55:58.780Z"
   },
   {
    "duration": 23,
    "start_time": "2023-10-02T16:55:58.793Z"
   },
   {
    "duration": 12,
    "start_time": "2023-10-02T16:55:58.819Z"
   },
   {
    "duration": 18,
    "start_time": "2023-10-02T16:55:58.834Z"
   },
   {
    "duration": 6,
    "start_time": "2023-10-02T16:55:58.854Z"
   },
   {
    "duration": 11,
    "start_time": "2023-10-02T16:55:58.862Z"
   },
   {
    "duration": 10,
    "start_time": "2023-10-02T16:55:58.909Z"
   },
   {
    "duration": 6,
    "start_time": "2023-10-02T16:55:58.920Z"
   },
   {
    "duration": 7,
    "start_time": "2023-10-02T16:55:58.928Z"
   },
   {
    "duration": 26,
    "start_time": "2023-10-02T16:55:58.936Z"
   },
   {
    "duration": 7,
    "start_time": "2023-10-02T16:55:58.964Z"
   },
   {
    "duration": 15,
    "start_time": "2023-10-02T16:55:58.972Z"
   },
   {
    "duration": 29,
    "start_time": "2023-10-02T16:55:58.989Z"
   },
   {
    "duration": 19,
    "start_time": "2023-10-02T16:55:59.020Z"
   },
   {
    "duration": 11,
    "start_time": "2023-10-02T16:55:59.041Z"
   },
   {
    "duration": 6,
    "start_time": "2023-10-02T16:55:59.053Z"
   },
   {
    "duration": 15,
    "start_time": "2023-10-02T16:55:59.060Z"
   },
   {
    "duration": 229,
    "start_time": "2023-10-02T16:55:59.078Z"
   },
   {
    "duration": 7,
    "start_time": "2023-10-02T16:55:59.309Z"
   },
   {
    "duration": 115,
    "start_time": "2023-10-02T16:55:59.317Z"
   },
   {
    "duration": 11,
    "start_time": "2023-10-02T16:55:59.433Z"
   },
   {
    "duration": 267,
    "start_time": "2023-10-02T16:55:59.449Z"
   },
   {
    "duration": 10,
    "start_time": "2023-10-02T16:55:59.717Z"
   },
   {
    "duration": 276,
    "start_time": "2023-10-02T16:55:59.729Z"
   },
   {
    "duration": 13,
    "start_time": "2023-10-02T16:56:00.007Z"
   },
   {
    "duration": 245,
    "start_time": "2023-10-02T16:56:00.022Z"
   },
   {
    "duration": 54,
    "start_time": "2023-10-02T16:56:00.269Z"
   },
   {
    "duration": 15,
    "start_time": "2023-10-02T16:56:00.325Z"
   },
   {
    "duration": 84,
    "start_time": "2023-10-02T16:56:00.342Z"
   },
   {
    "duration": 85,
    "start_time": "2023-10-02T16:56:00.429Z"
   },
   {
    "duration": 16,
    "start_time": "2023-10-02T16:56:00.516Z"
   },
   {
    "duration": 27,
    "start_time": "2023-10-02T16:56:00.534Z"
   },
   {
    "duration": 467,
    "start_time": "2023-10-02T16:56:00.564Z"
   },
   {
    "duration": 9,
    "start_time": "2023-10-02T16:56:01.033Z"
   },
   {
    "duration": 73,
    "start_time": "2023-10-02T16:56:01.044Z"
   },
   {
    "duration": 590,
    "start_time": "2023-10-02T16:56:01.119Z"
   },
   {
    "duration": 413,
    "start_time": "2023-10-02T16:56:01.712Z"
   },
   {
    "duration": 8,
    "start_time": "2023-10-02T16:56:02.127Z"
   },
   {
    "duration": 97,
    "start_time": "2023-10-02T16:56:02.137Z"
   },
   {
    "duration": 74,
    "start_time": "2023-10-02T16:56:02.237Z"
   },
   {
    "duration": 24,
    "start_time": "2023-10-02T16:56:02.313Z"
   },
   {
    "duration": 106,
    "start_time": "2023-10-02T16:56:02.339Z"
   },
   {
    "duration": 13,
    "start_time": "2023-10-02T16:56:02.447Z"
   },
   {
    "duration": 33,
    "start_time": "2023-10-02T16:56:02.462Z"
   },
   {
    "duration": 47,
    "start_time": "2023-10-02T16:56:02.497Z"
   },
   {
    "duration": 17,
    "start_time": "2023-10-02T16:56:02.546Z"
   },
   {
    "duration": 40,
    "start_time": "2023-10-02T16:56:02.565Z"
   },
   {
    "duration": 289,
    "start_time": "2023-10-02T16:59:02.291Z"
   },
   {
    "duration": 278,
    "start_time": "2023-10-02T16:59:18.491Z"
   },
   {
    "duration": 243,
    "start_time": "2023-10-02T17:00:18.652Z"
   },
   {
    "duration": 90,
    "start_time": "2023-10-02T17:00:37.346Z"
   },
   {
    "duration": 98,
    "start_time": "2023-10-02T17:00:54.620Z"
   },
   {
    "duration": 1300,
    "start_time": "2023-10-02T17:01:08.080Z"
   },
   {
    "duration": 85,
    "start_time": "2023-10-02T17:01:09.382Z"
   },
   {
    "duration": 18,
    "start_time": "2023-10-02T17:01:09.469Z"
   },
   {
    "duration": 23,
    "start_time": "2023-10-02T17:01:09.489Z"
   },
   {
    "duration": 13,
    "start_time": "2023-10-02T17:01:09.520Z"
   },
   {
    "duration": 17,
    "start_time": "2023-10-02T17:01:09.535Z"
   },
   {
    "duration": 8,
    "start_time": "2023-10-02T17:01:09.554Z"
   },
   {
    "duration": 17,
    "start_time": "2023-10-02T17:01:09.564Z"
   },
   {
    "duration": 12,
    "start_time": "2023-10-02T17:01:09.609Z"
   },
   {
    "duration": 24,
    "start_time": "2023-10-02T17:01:09.624Z"
   },
   {
    "duration": 9,
    "start_time": "2023-10-02T17:01:09.650Z"
   },
   {
    "duration": 24,
    "start_time": "2023-10-02T17:01:09.661Z"
   },
   {
    "duration": 10,
    "start_time": "2023-10-02T17:01:09.688Z"
   },
   {
    "duration": 10,
    "start_time": "2023-10-02T17:01:09.711Z"
   },
   {
    "duration": 9,
    "start_time": "2023-10-02T17:01:09.728Z"
   },
   {
    "duration": 12,
    "start_time": "2023-10-02T17:01:09.740Z"
   },
   {
    "duration": 8,
    "start_time": "2023-10-02T17:01:09.755Z"
   },
   {
    "duration": 20,
    "start_time": "2023-10-02T17:01:09.766Z"
   },
   {
    "duration": 34,
    "start_time": "2023-10-02T17:01:09.788Z"
   },
   {
    "duration": 22,
    "start_time": "2023-10-02T17:01:09.824Z"
   },
   {
    "duration": 17,
    "start_time": "2023-10-02T17:01:09.848Z"
   },
   {
    "duration": 9,
    "start_time": "2023-10-02T17:01:09.868Z"
   },
   {
    "duration": 10,
    "start_time": "2023-10-02T17:01:09.878Z"
   },
   {
    "duration": 206,
    "start_time": "2023-10-02T17:01:09.890Z"
   },
   {
    "duration": 27,
    "start_time": "2023-10-02T17:01:10.098Z"
   },
   {
    "duration": 115,
    "start_time": "2023-10-02T17:01:10.128Z"
   },
   {
    "duration": 11,
    "start_time": "2023-10-02T17:01:10.246Z"
   },
   {
    "duration": 324,
    "start_time": "2023-10-02T17:01:10.260Z"
   },
   {
    "duration": 12,
    "start_time": "2023-10-02T17:01:10.586Z"
   },
   {
    "duration": 273,
    "start_time": "2023-10-02T17:01:10.600Z"
   },
   {
    "duration": 10,
    "start_time": "2023-10-02T17:01:10.875Z"
   },
   {
    "duration": 267,
    "start_time": "2023-10-02T17:01:10.887Z"
   },
   {
    "duration": 29,
    "start_time": "2023-10-02T17:01:11.170Z"
   },
   {
    "duration": 27,
    "start_time": "2023-10-02T17:01:11.201Z"
   },
   {
    "duration": 30,
    "start_time": "2023-10-02T17:01:11.231Z"
   },
   {
    "duration": 19,
    "start_time": "2023-10-02T17:01:11.263Z"
   },
   {
    "duration": 13,
    "start_time": "2023-10-02T17:01:11.284Z"
   },
   {
    "duration": 14,
    "start_time": "2023-10-02T17:01:11.309Z"
   },
   {
    "duration": 243,
    "start_time": "2023-10-02T17:01:11.326Z"
   },
   {
    "duration": 9,
    "start_time": "2023-10-02T17:01:11.571Z"
   },
   {
    "duration": 10,
    "start_time": "2023-10-02T17:01:11.584Z"
   },
   {
    "duration": 359,
    "start_time": "2023-10-02T17:01:11.612Z"
   },
   {
    "duration": 213,
    "start_time": "2023-10-02T17:01:11.973Z"
   },
   {
    "duration": 7,
    "start_time": "2023-10-02T17:01:12.189Z"
   },
   {
    "duration": 36,
    "start_time": "2023-10-02T17:01:12.210Z"
   },
   {
    "duration": 32,
    "start_time": "2023-10-02T17:01:12.250Z"
   },
   {
    "duration": 53,
    "start_time": "2023-10-02T17:01:12.284Z"
   },
   {
    "duration": 29,
    "start_time": "2023-10-02T17:01:12.339Z"
   },
   {
    "duration": 14,
    "start_time": "2023-10-02T17:01:12.370Z"
   },
   {
    "duration": 32,
    "start_time": "2023-10-02T17:01:12.386Z"
   },
   {
    "duration": 28,
    "start_time": "2023-10-02T17:01:12.422Z"
   },
   {
    "duration": 14,
    "start_time": "2023-10-02T17:01:12.452Z"
   },
   {
    "duration": 16,
    "start_time": "2023-10-02T17:01:12.467Z"
   },
   {
    "duration": 186,
    "start_time": "2023-10-02T17:07:27.245Z"
   },
   {
    "duration": 25,
    "start_time": "2023-10-02T17:07:45.555Z"
   },
   {
    "duration": 20,
    "start_time": "2023-10-02T17:09:12.681Z"
   },
   {
    "duration": 17,
    "start_time": "2023-10-02T17:09:25.117Z"
   },
   {
    "duration": 21,
    "start_time": "2023-10-02T17:12:53.723Z"
   },
   {
    "duration": 21,
    "start_time": "2023-10-02T17:13:09.252Z"
   },
   {
    "duration": 8,
    "start_time": "2023-10-02T17:13:33.249Z"
   },
   {
    "duration": 7,
    "start_time": "2023-10-02T17:13:39.754Z"
   },
   {
    "duration": 9,
    "start_time": "2023-10-02T17:13:45.790Z"
   },
   {
    "duration": 8,
    "start_time": "2023-10-02T17:13:50.434Z"
   },
   {
    "duration": 7,
    "start_time": "2023-10-02T17:13:54.740Z"
   },
   {
    "duration": 7,
    "start_time": "2023-10-02T17:13:59.895Z"
   },
   {
    "duration": 13,
    "start_time": "2023-10-02T17:17:51.035Z"
   },
   {
    "duration": 14,
    "start_time": "2023-10-02T17:17:55.613Z"
   },
   {
    "duration": 1359,
    "start_time": "2023-10-02T17:20:36.028Z"
   },
   {
    "duration": 74,
    "start_time": "2023-10-02T17:20:37.389Z"
   },
   {
    "duration": 15,
    "start_time": "2023-10-02T17:20:37.465Z"
   },
   {
    "duration": 19,
    "start_time": "2023-10-02T17:20:37.482Z"
   },
   {
    "duration": 12,
    "start_time": "2023-10-02T17:20:37.503Z"
   },
   {
    "duration": 14,
    "start_time": "2023-10-02T17:20:37.517Z"
   },
   {
    "duration": 7,
    "start_time": "2023-10-02T17:20:37.533Z"
   },
   {
    "duration": 15,
    "start_time": "2023-10-02T17:20:37.542Z"
   },
   {
    "duration": 24,
    "start_time": "2023-10-02T17:20:37.559Z"
   },
   {
    "duration": 32,
    "start_time": "2023-10-02T17:20:37.585Z"
   },
   {
    "duration": 5,
    "start_time": "2023-10-02T17:20:37.619Z"
   },
   {
    "duration": 12,
    "start_time": "2023-10-02T17:20:37.626Z"
   },
   {
    "duration": 17,
    "start_time": "2023-10-02T17:20:37.640Z"
   },
   {
    "duration": 5,
    "start_time": "2023-10-02T17:20:37.660Z"
   },
   {
    "duration": 7,
    "start_time": "2023-10-02T17:20:37.667Z"
   },
   {
    "duration": 7,
    "start_time": "2023-10-02T17:20:37.710Z"
   },
   {
    "duration": 7,
    "start_time": "2023-10-02T17:20:37.718Z"
   },
   {
    "duration": 9,
    "start_time": "2023-10-02T17:20:37.726Z"
   },
   {
    "duration": 27,
    "start_time": "2023-10-02T17:20:37.736Z"
   },
   {
    "duration": 9,
    "start_time": "2023-10-02T17:20:37.765Z"
   },
   {
    "duration": 6,
    "start_time": "2023-10-02T17:20:37.775Z"
   },
   {
    "duration": 28,
    "start_time": "2023-10-02T17:20:37.782Z"
   },
   {
    "duration": 48,
    "start_time": "2023-10-02T17:20:37.811Z"
   },
   {
    "duration": 168,
    "start_time": "2023-10-02T17:20:37.860Z"
   },
   {
    "duration": 6,
    "start_time": "2023-10-02T17:20:38.030Z"
   },
   {
    "duration": 95,
    "start_time": "2023-10-02T17:20:38.038Z"
   },
   {
    "duration": 8,
    "start_time": "2023-10-02T17:20:38.135Z"
   },
   {
    "duration": 229,
    "start_time": "2023-10-02T17:20:38.145Z"
   },
   {
    "duration": 12,
    "start_time": "2023-10-02T17:20:38.376Z"
   },
   {
    "duration": 21,
    "start_time": "2023-10-02T17:20:38.390Z"
   },
   {
    "duration": 40,
    "start_time": "2023-10-02T17:20:38.412Z"
   },
   {
    "duration": 233,
    "start_time": "2023-10-02T17:20:38.453Z"
   },
   {
    "duration": 10,
    "start_time": "2023-10-02T17:20:38.687Z"
   },
   {
    "duration": 241,
    "start_time": "2023-10-02T17:20:38.710Z"
   },
   {
    "duration": 28,
    "start_time": "2023-10-02T17:20:38.952Z"
   },
   {
    "duration": 33,
    "start_time": "2023-10-02T17:20:38.982Z"
   },
   {
    "duration": 22,
    "start_time": "2023-10-02T17:20:39.017Z"
   },
   {
    "duration": 18,
    "start_time": "2023-10-02T17:20:39.041Z"
   },
   {
    "duration": 8,
    "start_time": "2023-10-02T17:20:39.061Z"
   },
   {
    "duration": 40,
    "start_time": "2023-10-02T17:20:39.071Z"
   },
   {
    "duration": 200,
    "start_time": "2023-10-02T17:20:39.115Z"
   },
   {
    "duration": 9,
    "start_time": "2023-10-02T17:20:39.316Z"
   },
   {
    "duration": 15,
    "start_time": "2023-10-02T17:20:39.327Z"
   },
   {
    "duration": 278,
    "start_time": "2023-10-02T17:20:39.344Z"
   },
   {
    "duration": 209,
    "start_time": "2023-10-02T17:20:39.624Z"
   },
   {
    "duration": 9,
    "start_time": "2023-10-02T17:20:39.836Z"
   },
   {
    "duration": 41,
    "start_time": "2023-10-02T17:20:39.847Z"
   },
   {
    "duration": 33,
    "start_time": "2023-10-02T17:20:39.890Z"
   },
   {
    "duration": 38,
    "start_time": "2023-10-02T17:20:39.925Z"
   },
   {
    "duration": 25,
    "start_time": "2023-10-02T17:20:39.965Z"
   },
   {
    "duration": 18,
    "start_time": "2023-10-02T17:20:39.992Z"
   },
   {
    "duration": 18,
    "start_time": "2023-10-02T17:20:40.012Z"
   },
   {
    "duration": 28,
    "start_time": "2023-10-02T17:20:40.032Z"
   },
   {
    "duration": 9,
    "start_time": "2023-10-02T17:20:40.063Z"
   },
   {
    "duration": 21,
    "start_time": "2023-10-02T17:20:40.074Z"
   },
   {
    "duration": 227,
    "start_time": "2023-10-02T17:24:33.694Z"
   },
   {
    "duration": 263,
    "start_time": "2023-10-02T17:24:42.546Z"
   },
   {
    "duration": 26,
    "start_time": "2023-10-02T17:37:18.798Z"
   },
   {
    "duration": 20,
    "start_time": "2023-10-02T17:37:36.444Z"
   },
   {
    "duration": 17,
    "start_time": "2023-10-02T17:40:09.132Z"
   },
   {
    "duration": 16,
    "start_time": "2023-10-02T17:40:21.256Z"
   },
   {
    "duration": 15,
    "start_time": "2023-10-02T17:40:27.455Z"
   },
   {
    "duration": 25,
    "start_time": "2023-10-02T17:40:42.474Z"
   },
   {
    "duration": 8,
    "start_time": "2023-10-02T17:43:56.751Z"
   },
   {
    "duration": 24,
    "start_time": "2023-10-02T17:44:46.397Z"
   },
   {
    "duration": 252,
    "start_time": "2023-10-02T17:46:31.473Z"
   },
   {
    "duration": 9,
    "start_time": "2023-10-02T17:50:05.818Z"
   },
   {
    "duration": 16,
    "start_time": "2023-10-02T17:59:36.374Z"
   },
   {
    "duration": 1308,
    "start_time": "2023-10-02T18:04:19.638Z"
   },
   {
    "duration": 74,
    "start_time": "2023-10-02T18:04:20.948Z"
   },
   {
    "duration": 14,
    "start_time": "2023-10-02T18:04:21.024Z"
   },
   {
    "duration": 22,
    "start_time": "2023-10-02T18:04:21.041Z"
   },
   {
    "duration": 25,
    "start_time": "2023-10-02T18:04:21.065Z"
   },
   {
    "duration": 29,
    "start_time": "2023-10-02T18:04:21.092Z"
   },
   {
    "duration": 8,
    "start_time": "2023-10-02T18:04:21.124Z"
   },
   {
    "duration": 15,
    "start_time": "2023-10-02T18:04:21.134Z"
   },
   {
    "duration": 18,
    "start_time": "2023-10-02T18:04:21.151Z"
   },
   {
    "duration": 36,
    "start_time": "2023-10-02T18:04:21.172Z"
   },
   {
    "duration": 6,
    "start_time": "2023-10-02T18:04:21.210Z"
   },
   {
    "duration": 22,
    "start_time": "2023-10-02T18:04:21.218Z"
   },
   {
    "duration": 10,
    "start_time": "2023-10-02T18:04:21.242Z"
   },
   {
    "duration": 7,
    "start_time": "2023-10-02T18:04:21.253Z"
   },
   {
    "duration": 7,
    "start_time": "2023-10-02T18:04:21.261Z"
   },
   {
    "duration": 58,
    "start_time": "2023-10-02T18:04:21.270Z"
   },
   {
    "duration": 9,
    "start_time": "2023-10-02T18:04:21.330Z"
   },
   {
    "duration": 10,
    "start_time": "2023-10-02T18:04:21.342Z"
   },
   {
    "duration": 25,
    "start_time": "2023-10-02T18:04:21.354Z"
   },
   {
    "duration": 13,
    "start_time": "2023-10-02T18:04:21.381Z"
   },
   {
    "duration": 8,
    "start_time": "2023-10-02T18:04:21.395Z"
   },
   {
    "duration": 23,
    "start_time": "2023-10-02T18:04:21.405Z"
   },
   {
    "duration": 16,
    "start_time": "2023-10-02T18:04:21.431Z"
   },
   {
    "duration": 205,
    "start_time": "2023-10-02T18:04:21.449Z"
   },
   {
    "duration": 7,
    "start_time": "2023-10-02T18:04:21.656Z"
   },
   {
    "duration": 100,
    "start_time": "2023-10-02T18:04:21.665Z"
   },
   {
    "duration": 20,
    "start_time": "2023-10-02T18:04:21.766Z"
   },
   {
    "duration": 271,
    "start_time": "2023-10-02T18:04:21.790Z"
   },
   {
    "duration": 11,
    "start_time": "2023-10-02T18:04:22.063Z"
   },
   {
    "duration": 10,
    "start_time": "2023-10-02T18:04:22.076Z"
   },
   {
    "duration": 30,
    "start_time": "2023-10-02T18:04:22.088Z"
   },
   {
    "duration": 250,
    "start_time": "2023-10-02T18:04:22.121Z"
   },
   {
    "duration": 335,
    "start_time": "2023-10-02T18:04:22.372Z"
   },
   {
    "duration": 11,
    "start_time": "2023-10-02T18:04:22.710Z"
   },
   {
    "duration": 276,
    "start_time": "2023-10-02T18:04:22.723Z"
   },
   {
    "duration": 28,
    "start_time": "2023-10-02T18:04:23.001Z"
   },
   {
    "duration": 8,
    "start_time": "2023-10-02T18:04:23.032Z"
   },
   {
    "duration": 36,
    "start_time": "2023-10-02T18:04:23.042Z"
   },
   {
    "duration": 331,
    "start_time": "2023-10-02T18:04:23.081Z"
   },
   {
    "duration": 26,
    "start_time": "2023-10-02T18:04:23.414Z"
   },
   {
    "duration": 31,
    "start_time": "2023-10-02T18:04:23.442Z"
   },
   {
    "duration": 36,
    "start_time": "2023-10-02T18:04:23.475Z"
   },
   {
    "duration": 27,
    "start_time": "2023-10-02T18:04:23.515Z"
   },
   {
    "duration": 13,
    "start_time": "2023-10-02T18:04:23.544Z"
   },
   {
    "duration": 12,
    "start_time": "2023-10-02T18:04:23.559Z"
   },
   {
    "duration": 227,
    "start_time": "2023-10-02T18:04:23.574Z"
   },
   {
    "duration": 10,
    "start_time": "2023-10-02T18:04:23.809Z"
   },
   {
    "duration": 11,
    "start_time": "2023-10-02T18:04:23.821Z"
   },
   {
    "duration": 220,
    "start_time": "2023-10-02T18:04:23.834Z"
   },
   {
    "duration": 222,
    "start_time": "2023-10-02T18:04:24.056Z"
   },
   {
    "duration": 9,
    "start_time": "2023-10-02T18:04:24.281Z"
   },
   {
    "duration": 50,
    "start_time": "2023-10-02T18:04:24.292Z"
   },
   {
    "duration": 20,
    "start_time": "2023-10-02T18:04:24.344Z"
   },
   {
    "duration": 21,
    "start_time": "2023-10-02T18:04:24.366Z"
   },
   {
    "duration": 47,
    "start_time": "2023-10-02T18:04:24.389Z"
   },
   {
    "duration": 6,
    "start_time": "2023-10-02T18:04:24.439Z"
   },
   {
    "duration": 10,
    "start_time": "2023-10-02T18:04:24.447Z"
   },
   {
    "duration": 17,
    "start_time": "2023-10-02T18:04:24.459Z"
   },
   {
    "duration": 38,
    "start_time": "2023-10-02T18:04:24.478Z"
   },
   {
    "duration": 14,
    "start_time": "2023-10-02T18:04:24.518Z"
   },
   {
    "duration": 1380,
    "start_time": "2023-10-02T18:32:34.272Z"
   },
   {
    "duration": 79,
    "start_time": "2023-10-02T18:32:35.654Z"
   },
   {
    "duration": 14,
    "start_time": "2023-10-02T18:32:35.736Z"
   },
   {
    "duration": 51,
    "start_time": "2023-10-02T18:32:35.752Z"
   },
   {
    "duration": 32,
    "start_time": "2023-10-02T18:32:35.805Z"
   },
   {
    "duration": 77,
    "start_time": "2023-10-02T18:32:35.839Z"
   },
   {
    "duration": 63,
    "start_time": "2023-10-02T18:32:35.919Z"
   },
   {
    "duration": 43,
    "start_time": "2023-10-02T18:32:35.984Z"
   },
   {
    "duration": 10,
    "start_time": "2023-10-02T18:32:36.029Z"
   },
   {
    "duration": 27,
    "start_time": "2023-10-02T18:32:36.043Z"
   },
   {
    "duration": 43,
    "start_time": "2023-10-02T18:32:36.072Z"
   },
   {
    "duration": 30,
    "start_time": "2023-10-02T18:32:36.118Z"
   },
   {
    "duration": 142,
    "start_time": "2023-10-02T18:32:36.150Z"
   },
   {
    "duration": 207,
    "start_time": "2023-10-02T18:32:36.294Z"
   },
   {
    "duration": 130,
    "start_time": "2023-10-02T18:32:36.503Z"
   },
   {
    "duration": 99,
    "start_time": "2023-10-02T18:32:36.635Z"
   },
   {
    "duration": 45,
    "start_time": "2023-10-02T18:32:36.735Z"
   },
   {
    "duration": 52,
    "start_time": "2023-10-02T18:32:36.782Z"
   },
   {
    "duration": 32,
    "start_time": "2023-10-02T18:32:36.836Z"
   },
   {
    "duration": 61,
    "start_time": "2023-10-02T18:32:36.870Z"
   },
   {
    "duration": 32,
    "start_time": "2023-10-02T18:32:36.933Z"
   },
   {
    "duration": 23,
    "start_time": "2023-10-02T18:32:36.967Z"
   },
   {
    "duration": 36,
    "start_time": "2023-10-02T18:32:36.992Z"
   },
   {
    "duration": 202,
    "start_time": "2023-10-02T18:32:37.031Z"
   },
   {
    "duration": 10,
    "start_time": "2023-10-02T18:32:37.239Z"
   },
   {
    "duration": 295,
    "start_time": "2023-10-02T18:32:37.253Z"
   },
   {
    "duration": 9,
    "start_time": "2023-10-02T18:32:37.551Z"
   },
   {
    "duration": 446,
    "start_time": "2023-10-02T18:32:37.564Z"
   },
   {
    "duration": 11,
    "start_time": "2023-10-02T18:32:38.012Z"
   },
   {
    "duration": 87,
    "start_time": "2023-10-02T18:32:38.024Z"
   },
   {
    "duration": 107,
    "start_time": "2023-10-02T18:32:38.112Z"
   },
   {
    "duration": 521,
    "start_time": "2023-10-02T18:32:38.221Z"
   },
   {
    "duration": 578,
    "start_time": "2023-10-02T18:32:38.744Z"
   },
   {
    "duration": 9,
    "start_time": "2023-10-02T18:32:39.324Z"
   },
   {
    "duration": 576,
    "start_time": "2023-10-02T18:32:39.335Z"
   },
   {
    "duration": 24,
    "start_time": "2023-10-02T18:32:39.913Z"
   },
   {
    "duration": 35,
    "start_time": "2023-10-02T18:32:39.938Z"
   },
   {
    "duration": 44,
    "start_time": "2023-10-02T18:32:39.975Z"
   },
   {
    "duration": 341,
    "start_time": "2023-10-02T18:32:40.021Z"
   },
   {
    "duration": 44,
    "start_time": "2023-10-02T18:32:40.365Z"
   },
   {
    "duration": 18,
    "start_time": "2023-10-02T18:32:40.411Z"
   },
   {
    "duration": 20,
    "start_time": "2023-10-02T18:32:40.432Z"
   },
   {
    "duration": 24,
    "start_time": "2023-10-02T18:32:40.454Z"
   },
   {
    "duration": 31,
    "start_time": "2023-10-02T18:32:40.480Z"
   },
   {
    "duration": 23,
    "start_time": "2023-10-02T18:32:40.513Z"
   },
   {
    "duration": 231,
    "start_time": "2023-10-02T18:32:40.543Z"
   },
   {
    "duration": 10,
    "start_time": "2023-10-02T18:32:40.776Z"
   },
   {
    "duration": 32,
    "start_time": "2023-10-02T18:32:40.789Z"
   },
   {
    "duration": 208,
    "start_time": "2023-10-02T18:32:40.823Z"
   },
   {
    "duration": 211,
    "start_time": "2023-10-02T18:32:41.033Z"
   },
   {
    "duration": 7,
    "start_time": "2023-10-02T18:32:41.246Z"
   },
   {
    "duration": 72,
    "start_time": "2023-10-02T18:32:41.255Z"
   },
   {
    "duration": 23,
    "start_time": "2023-10-02T18:32:41.329Z"
   },
   {
    "duration": 35,
    "start_time": "2023-10-02T18:32:41.355Z"
   },
   {
    "duration": 33,
    "start_time": "2023-10-02T18:32:41.392Z"
   },
   {
    "duration": 7,
    "start_time": "2023-10-02T18:32:41.427Z"
   },
   {
    "duration": 8,
    "start_time": "2023-10-02T18:32:41.435Z"
   },
   {
    "duration": 16,
    "start_time": "2023-10-02T18:32:41.445Z"
   },
   {
    "duration": 21,
    "start_time": "2023-10-02T18:32:41.463Z"
   },
   {
    "duration": 11,
    "start_time": "2023-10-02T18:32:41.509Z"
   },
   {
    "duration": 1397,
    "start_time": "2023-10-03T07:24:17.252Z"
   },
   {
    "duration": 310,
    "start_time": "2023-10-03T07:24:18.652Z"
   },
   {
    "duration": 14,
    "start_time": "2023-10-03T07:24:18.964Z"
   },
   {
    "duration": 45,
    "start_time": "2023-10-03T07:24:18.980Z"
   },
   {
    "duration": 43,
    "start_time": "2023-10-03T07:24:19.027Z"
   },
   {
    "duration": 15,
    "start_time": "2023-10-03T07:24:19.072Z"
   },
   {
    "duration": 63,
    "start_time": "2023-10-03T07:24:19.089Z"
   },
   {
    "duration": 58,
    "start_time": "2023-10-03T07:24:19.154Z"
   },
   {
    "duration": 48,
    "start_time": "2023-10-03T07:24:19.214Z"
   },
   {
    "duration": 17,
    "start_time": "2023-10-03T07:24:19.265Z"
   },
   {
    "duration": 8,
    "start_time": "2023-10-03T07:24:19.283Z"
   },
   {
    "duration": 14,
    "start_time": "2023-10-03T07:24:19.293Z"
   },
   {
    "duration": 12,
    "start_time": "2023-10-03T07:24:19.308Z"
   },
   {
    "duration": 6,
    "start_time": "2023-10-03T07:24:19.322Z"
   },
   {
    "duration": 15,
    "start_time": "2023-10-03T07:24:19.330Z"
   },
   {
    "duration": 17,
    "start_time": "2023-10-03T07:24:19.347Z"
   },
   {
    "duration": 11,
    "start_time": "2023-10-03T07:24:19.366Z"
   },
   {
    "duration": 8,
    "start_time": "2023-10-03T07:24:19.379Z"
   },
   {
    "duration": 20,
    "start_time": "2023-10-03T07:24:19.389Z"
   },
   {
    "duration": 9,
    "start_time": "2023-10-03T07:24:19.411Z"
   },
   {
    "duration": 24,
    "start_time": "2023-10-03T07:24:19.422Z"
   },
   {
    "duration": 13,
    "start_time": "2023-10-03T07:24:19.448Z"
   },
   {
    "duration": 34,
    "start_time": "2023-10-03T07:24:19.463Z"
   },
   {
    "duration": 167,
    "start_time": "2023-10-03T07:24:19.498Z"
   },
   {
    "duration": 6,
    "start_time": "2023-10-03T07:24:19.667Z"
   },
   {
    "duration": 91,
    "start_time": "2023-10-03T07:24:19.675Z"
   },
   {
    "duration": 8,
    "start_time": "2023-10-03T07:24:19.768Z"
   },
   {
    "duration": 238,
    "start_time": "2023-10-03T07:24:19.780Z"
   },
   {
    "duration": 9,
    "start_time": "2023-10-03T07:24:20.020Z"
   },
   {
    "duration": 30,
    "start_time": "2023-10-03T07:24:20.043Z"
   },
   {
    "duration": 22,
    "start_time": "2023-10-03T07:24:20.075Z"
   },
   {
    "duration": 228,
    "start_time": "2023-10-03T07:24:20.099Z"
   },
   {
    "duration": 237,
    "start_time": "2023-10-03T07:24:20.330Z"
   },
   {
    "duration": 9,
    "start_time": "2023-10-03T07:24:20.568Z"
   },
   {
    "duration": 230,
    "start_time": "2023-10-03T07:24:20.579Z"
   },
   {
    "duration": 16,
    "start_time": "2023-10-03T07:24:20.811Z"
   },
   {
    "duration": 77,
    "start_time": "2023-10-03T07:24:20.828Z"
   },
   {
    "duration": 47,
    "start_time": "2023-10-03T07:24:20.907Z"
   },
   {
    "duration": 326,
    "start_time": "2023-10-03T07:24:20.957Z"
   },
   {
    "duration": 23,
    "start_time": "2023-10-03T07:24:21.285Z"
   },
   {
    "duration": 34,
    "start_time": "2023-10-03T07:24:21.310Z"
   },
   {
    "duration": 57,
    "start_time": "2023-10-03T07:24:21.346Z"
   },
   {
    "duration": 25,
    "start_time": "2023-10-03T07:24:21.405Z"
   },
   {
    "duration": 14,
    "start_time": "2023-10-03T07:24:21.431Z"
   },
   {
    "duration": 23,
    "start_time": "2023-10-03T07:24:21.447Z"
   },
   {
    "duration": 204,
    "start_time": "2023-10-03T07:24:21.472Z"
   },
   {
    "duration": 8,
    "start_time": "2023-10-03T07:24:21.678Z"
   },
   {
    "duration": 16,
    "start_time": "2023-10-03T07:24:21.688Z"
   },
   {
    "duration": 180,
    "start_time": "2023-10-03T07:24:21.706Z"
   },
   {
    "duration": 191,
    "start_time": "2023-10-03T07:24:21.888Z"
   },
   {
    "duration": 7,
    "start_time": "2023-10-03T07:24:22.082Z"
   },
   {
    "duration": 29,
    "start_time": "2023-10-03T07:24:22.091Z"
   },
   {
    "duration": 36,
    "start_time": "2023-10-03T07:24:22.122Z"
   },
   {
    "duration": 46,
    "start_time": "2023-10-03T07:24:22.160Z"
   },
   {
    "duration": 20,
    "start_time": "2023-10-03T07:24:22.208Z"
   },
   {
    "duration": 28,
    "start_time": "2023-10-03T07:24:22.229Z"
   },
   {
    "duration": 67,
    "start_time": "2023-10-03T07:24:22.259Z"
   },
   {
    "duration": 76,
    "start_time": "2023-10-03T07:24:22.328Z"
   },
   {
    "duration": 56,
    "start_time": "2023-10-03T07:24:22.406Z"
   },
   {
    "duration": 43,
    "start_time": "2023-10-03T07:24:22.464Z"
   },
   {
    "duration": 54,
    "start_time": "2023-10-07T10:05:15.102Z"
   },
   {
    "duration": 1271,
    "start_time": "2023-10-07T10:05:19.733Z"
   },
   {
    "duration": 195,
    "start_time": "2023-10-07T10:05:21.007Z"
   },
   {
    "duration": 13,
    "start_time": "2023-10-07T10:05:21.203Z"
   },
   {
    "duration": 59,
    "start_time": "2023-10-07T10:05:21.218Z"
   },
   {
    "duration": 31,
    "start_time": "2023-10-07T10:05:21.278Z"
   },
   {
    "duration": 39,
    "start_time": "2023-10-07T10:05:21.311Z"
   },
   {
    "duration": 37,
    "start_time": "2023-10-07T10:05:21.352Z"
   },
   {
    "duration": 34,
    "start_time": "2023-10-07T10:05:21.391Z"
   },
   {
    "duration": 35,
    "start_time": "2023-10-07T10:05:21.427Z"
   },
   {
    "duration": 60,
    "start_time": "2023-10-07T10:05:21.466Z"
   },
   {
    "duration": 27,
    "start_time": "2023-10-07T10:05:21.528Z"
   },
   {
    "duration": 31,
    "start_time": "2023-10-07T10:05:21.557Z"
   },
   {
    "duration": 37,
    "start_time": "2023-10-07T10:05:21.590Z"
   },
   {
    "duration": 40,
    "start_time": "2023-10-07T10:05:21.630Z"
   },
   {
    "duration": 41,
    "start_time": "2023-10-07T10:05:21.672Z"
   },
   {
    "duration": 67,
    "start_time": "2023-10-07T10:05:21.715Z"
   },
   {
    "duration": 124,
    "start_time": "2023-10-07T10:05:21.783Z"
   },
   {
    "duration": 40,
    "start_time": "2023-10-07T10:05:21.908Z"
   },
   {
    "duration": 42,
    "start_time": "2023-10-07T10:05:21.950Z"
   },
   {
    "duration": 51,
    "start_time": "2023-10-07T10:05:21.993Z"
   },
   {
    "duration": 33,
    "start_time": "2023-10-07T10:05:22.045Z"
   },
   {
    "duration": 19,
    "start_time": "2023-10-07T10:05:22.080Z"
   },
   {
    "duration": 32,
    "start_time": "2023-10-07T10:05:22.100Z"
   },
   {
    "duration": 233,
    "start_time": "2023-10-07T10:05:22.133Z"
   },
   {
    "duration": 7,
    "start_time": "2023-10-07T10:05:22.368Z"
   },
   {
    "duration": 178,
    "start_time": "2023-10-07T10:05:22.376Z"
   },
   {
    "duration": 38,
    "start_time": "2023-10-07T10:05:22.556Z"
   },
   {
    "duration": 255,
    "start_time": "2023-10-07T10:05:22.598Z"
   },
   {
    "duration": 9,
    "start_time": "2023-10-07T10:05:22.855Z"
   },
   {
    "duration": 38,
    "start_time": "2023-10-07T10:05:22.865Z"
   },
   {
    "duration": 37,
    "start_time": "2023-10-07T10:05:22.905Z"
   },
   {
    "duration": 256,
    "start_time": "2023-10-07T10:05:22.943Z"
   },
   {
    "duration": 228,
    "start_time": "2023-10-07T10:05:23.201Z"
   },
   {
    "duration": 20,
    "start_time": "2023-10-07T10:05:23.430Z"
   },
   {
    "duration": 232,
    "start_time": "2023-10-07T10:05:23.451Z"
   },
   {
    "duration": 16,
    "start_time": "2023-10-07T10:05:23.685Z"
   },
   {
    "duration": 26,
    "start_time": "2023-10-07T10:05:23.702Z"
   },
   {
    "duration": 35,
    "start_time": "2023-10-07T10:05:23.729Z"
   },
   {
    "duration": 340,
    "start_time": "2023-10-07T10:05:23.766Z"
   },
   {
    "duration": 26,
    "start_time": "2023-10-07T10:05:24.108Z"
   },
   {
    "duration": 20,
    "start_time": "2023-10-07T10:05:24.146Z"
   },
   {
    "duration": 32,
    "start_time": "2023-10-07T10:05:24.167Z"
   },
   {
    "duration": 121,
    "start_time": "2023-10-07T10:05:24.201Z"
   },
   {
    "duration": 8,
    "start_time": "2023-10-07T10:05:24.324Z"
   },
   {
    "duration": 22,
    "start_time": "2023-10-07T10:05:24.333Z"
   },
   {
    "duration": 190,
    "start_time": "2023-10-07T10:05:24.357Z"
   },
   {
    "duration": 8,
    "start_time": "2023-10-07T10:05:24.549Z"
   },
   {
    "duration": 18,
    "start_time": "2023-10-07T10:05:24.559Z"
   },
   {
    "duration": 228,
    "start_time": "2023-10-07T10:05:24.579Z"
   },
   {
    "duration": 182,
    "start_time": "2023-10-07T10:05:24.809Z"
   },
   {
    "duration": 7,
    "start_time": "2023-10-07T10:05:24.993Z"
   },
   {
    "duration": 66,
    "start_time": "2023-10-07T10:05:25.002Z"
   },
   {
    "duration": 48,
    "start_time": "2023-10-07T10:05:25.069Z"
   },
   {
    "duration": 101,
    "start_time": "2023-10-07T10:05:25.119Z"
   },
   {
    "duration": 25,
    "start_time": "2023-10-07T10:05:25.223Z"
   },
   {
    "duration": 9,
    "start_time": "2023-10-07T10:05:25.250Z"
   },
   {
    "duration": 31,
    "start_time": "2023-10-07T10:05:25.261Z"
   },
   {
    "duration": 35,
    "start_time": "2023-10-07T10:05:25.294Z"
   },
   {
    "duration": 38,
    "start_time": "2023-10-07T10:05:25.331Z"
   },
   {
    "duration": 55,
    "start_time": "2023-10-07T10:05:25.372Z"
   }
  ],
  "kernelspec": {
   "display_name": "Python 3 (ipykernel)",
   "language": "python",
   "name": "python3"
  },
  "language_info": {
   "codemirror_mode": {
    "name": "ipython",
    "version": 3
   },
   "file_extension": ".py",
   "mimetype": "text/x-python",
   "name": "python",
   "nbconvert_exporter": "python",
   "pygments_lexer": "ipython3",
   "version": "3.9.5"
  },
  "toc": {
   "base_numbering": 1,
   "nav_menu": {},
   "number_sections": true,
   "sideBar": true,
   "skip_h1_title": true,
   "title_cell": "Table of Contents",
   "title_sidebar": "Contents",
   "toc_cell": false,
   "toc_position": {
    "height": "483.333px",
    "left": "24px",
    "top": "151.441px",
    "width": "226.319px"
   },
   "toc_section_display": true,
   "toc_window_display": true
  }
 },
 "nbformat": 4,
 "nbformat_minor": 5
}
