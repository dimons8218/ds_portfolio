{
 "cells": [
  {
   "cell_type": "markdown",
   "metadata": {},
   "source": [
    "# Выбор локации для скважины"
   ]
  },
  {
   "cell_type": "markdown",
   "metadata": {},
   "source": [
    "***Описание проекта:*** \n",
    "Допустим, вы работаете в добывающей компании «ГлавРосГосНефть». Нужно решить, где бурить новую скважину.\n",
    "\n",
    "Вам предоставлены пробы нефти в трёх регионах: в каждом 100 000 месторождений, где измерили качество нефти и объём её запасов.\n",
    "\n",
    "*Шаги для выбора локации:*\n",
    "\n",
    "- В избранном регионе ищут месторождения, для каждого определяют значения признаков;\n",
    "- Строят модель и оценивают объём запасов;\n",
    "- Выбирают месторождения с самым высокими оценками значений. Количество месторождений зависит от бюджета компании и стоимости разработки одной скважины;\n",
    "- Прибыль равна суммарной прибыли отобранных месторождений.\n",
    "\n",
    "***Цель исследования:***\n",
    "Построить модель машинного обучения, которая поможет определить регион, где добыча принесёт наибольшую прибыль, и проанализировать возможную прибыль и риски техникой *Bootstrap.*\n",
    "\n",
    "***Условия задачи:***\n",
    "1. Для обучения модели подходит только линейная регрессия (остальные — недостаточно предсказуемые).\n",
    "2. При разведке региона исследуют 500 точек, из которых с помощью машинного обучения выбирают 200 лучших для разработки.\n",
    "3. Бюджет на разработку скважин в регионе — 10 млрд рублей.\n",
    "4. При нынешних ценах один баррель сырья приносит 450 рублей дохода. Доход с каждой единицы продукта составляет 450 тыс. рублей, поскольку объём указан в тысячах баррелей.\n",
    "5. После оценки рисков нужно оставить лишь те регионы, в которых вероятность убытков меньше 2.5%. Среди них выбирают регион с наибольшей средней прибылью.\n",
    "\n",
    "***Описание данных:***\n",
    "\n",
    "Данные геологоразведки трёх регионов находятся в файлах:\n",
    "- /datasets/geo_data_0.csv;\n",
    "- /datasets/geo_data_1.csv;\n",
    "- /datasets/geo_data_2.csv.\n",
    "\n",
    "В них представлены следующие признаки:\n",
    "- id — уникальный идентификатор скважины;\n",
    "- f0, f1, f2 — три признака точек (неважно, что они означают, но сами признаки значимы);\n",
    "- product — объём запасов в скважине в тыс. баррелей, целевой признак.\n",
    "\n",
    "\n",
    "\n",
    "***Краткий ход исследования***\n",
    "\n",
    "1. Загрузить и подготовить данные;\n",
    "\n",
    "2. Обучить и выполнить проверку модели;\n",
    "\n",
    "3. Подготовиться к расчёту прибыли;\n",
    "\n",
    "4. Рассчитать прибыли и риски."
   ]
  },
  {
   "cell_type": "markdown",
   "metadata": {},
   "source": [
    "## Загрузка и подготовка данных"
   ]
  },
  {
   "cell_type": "markdown",
   "metadata": {},
   "source": [
    "Сначала установим необходимые библиотеки:"
   ]
  },
  {
   "cell_type": "code",
   "execution_count": 1,
   "metadata": {},
   "outputs": [],
   "source": [
    "!pip install -q phik\n",
    "!pip install -q scikit-learn --upgrade"
   ]
  },
  {
   "cell_type": "markdown",
   "metadata": {},
   "source": [
    "Далее импортируем библиотеки, необходимые для работы:"
   ]
  },
  {
   "cell_type": "code",
   "execution_count": 2,
   "metadata": {},
   "outputs": [],
   "source": [
    "import pandas as pd\n",
    "import numpy as np\n",
    "import matplotlib.pyplot as plt\n",
    "import seaborn as sns\n",
    "import sklearn\n",
    "import phik\n",
    "import warnings\n",
    "warnings.filterwarnings('ignore')\n",
    "\n",
    "from sklearn.model_selection import train_test_split\n",
    "from sklearn.preprocessing import StandardScaler, RobustScaler\n",
    "from sklearn.linear_model import LinearRegression\n",
    "from sklearn.metrics import mean_squared_error"
   ]
  },
  {
   "cell_type": "markdown",
   "metadata": {},
   "source": [
    "Считываем CSV-файлы с данными с помощью библиотеки pandas и сохраним их в датафреймы. Пути к файлам:\n",
    "- /datasets/geo_data_0.csv - geo_0;\n",
    "- /datasets/geo_data_1.csv - geo_1;\n",
    "- /datasets/geo_data_2.csv - geo_2.\n",
    "\n",
    "Поменяем базовые индексы в датафрейме — сделаем индексами колонку 'id':"
   ]
  },
  {
   "cell_type": "code",
   "execution_count": 3,
   "metadata": {},
   "outputs": [],
   "source": [
    "geo_0 = pd.read_csv('/datasets/geo_data_0.csv')\n",
    "geo_0 = geo_0.set_index('id')\n",
    "\n",
    "geo_1 = pd.read_csv('/datasets/geo_data_1.csv')\n",
    "geo_1 = geo_1.set_index('id')\n",
    "\n",
    "geo_2 = pd.read_csv('/datasets/geo_data_2.csv')\n",
    "geo_2 = geo_2.set_index('id')"
   ]
  },
  {
   "cell_type": "markdown",
   "metadata": {},
   "source": [
    "Проверим, что данные в таблицах соответствуют описанию. Выведем по одной случайной строке всех датафреймов:"
   ]
  },
  {
   "cell_type": "code",
   "execution_count": 4,
   "metadata": {},
   "outputs": [
    {
     "data": {
      "text/html": [
       "<div>\n",
       "<style scoped>\n",
       "    .dataframe tbody tr th:only-of-type {\n",
       "        vertical-align: middle;\n",
       "    }\n",
       "\n",
       "    .dataframe tbody tr th {\n",
       "        vertical-align: top;\n",
       "    }\n",
       "\n",
       "    .dataframe thead th {\n",
       "        text-align: right;\n",
       "    }\n",
       "</style>\n",
       "<table border=\"1\" class=\"dataframe\">\n",
       "  <thead>\n",
       "    <tr style=\"text-align: right;\">\n",
       "      <th></th>\n",
       "      <th>f0</th>\n",
       "      <th>f1</th>\n",
       "      <th>f2</th>\n",
       "      <th>product</th>\n",
       "    </tr>\n",
       "    <tr>\n",
       "      <th>id</th>\n",
       "      <th></th>\n",
       "      <th></th>\n",
       "      <th></th>\n",
       "      <th></th>\n",
       "    </tr>\n",
       "  </thead>\n",
       "  <tbody>\n",
       "    <tr>\n",
       "      <th>4NM34</th>\n",
       "      <td>0.230488</td>\n",
       "      <td>-0.509237</td>\n",
       "      <td>0.800252</td>\n",
       "      <td>120.891579</td>\n",
       "    </tr>\n",
       "  </tbody>\n",
       "</table>\n",
       "</div>"
      ],
      "text/plain": [
       "             f0        f1        f2     product\n",
       "id                                             \n",
       "4NM34  0.230488 -0.509237  0.800252  120.891579"
      ]
     },
     "execution_count": 4,
     "metadata": {},
     "output_type": "execute_result"
    }
   ],
   "source": [
    "geo_0.sample(1)"
   ]
  },
  {
   "cell_type": "code",
   "execution_count": 5,
   "metadata": {},
   "outputs": [
    {
     "data": {
      "text/html": [
       "<div>\n",
       "<style scoped>\n",
       "    .dataframe tbody tr th:only-of-type {\n",
       "        vertical-align: middle;\n",
       "    }\n",
       "\n",
       "    .dataframe tbody tr th {\n",
       "        vertical-align: top;\n",
       "    }\n",
       "\n",
       "    .dataframe thead th {\n",
       "        text-align: right;\n",
       "    }\n",
       "</style>\n",
       "<table border=\"1\" class=\"dataframe\">\n",
       "  <thead>\n",
       "    <tr style=\"text-align: right;\">\n",
       "      <th></th>\n",
       "      <th>f0</th>\n",
       "      <th>f1</th>\n",
       "      <th>f2</th>\n",
       "      <th>product</th>\n",
       "    </tr>\n",
       "    <tr>\n",
       "      <th>id</th>\n",
       "      <th></th>\n",
       "      <th></th>\n",
       "      <th></th>\n",
       "      <th></th>\n",
       "    </tr>\n",
       "  </thead>\n",
       "  <tbody>\n",
       "    <tr>\n",
       "      <th>5Xvdj</th>\n",
       "      <td>-11.074229</td>\n",
       "      <td>-5.742911</td>\n",
       "      <td>3.004974</td>\n",
       "      <td>84.038886</td>\n",
       "    </tr>\n",
       "  </tbody>\n",
       "</table>\n",
       "</div>"
      ],
      "text/plain": [
       "              f0        f1        f2    product\n",
       "id                                             \n",
       "5Xvdj -11.074229 -5.742911  3.004974  84.038886"
      ]
     },
     "execution_count": 5,
     "metadata": {},
     "output_type": "execute_result"
    }
   ],
   "source": [
    "geo_1.sample(1)"
   ]
  },
  {
   "cell_type": "code",
   "execution_count": 6,
   "metadata": {},
   "outputs": [
    {
     "data": {
      "text/html": [
       "<div>\n",
       "<style scoped>\n",
       "    .dataframe tbody tr th:only-of-type {\n",
       "        vertical-align: middle;\n",
       "    }\n",
       "\n",
       "    .dataframe tbody tr th {\n",
       "        vertical-align: top;\n",
       "    }\n",
       "\n",
       "    .dataframe thead th {\n",
       "        text-align: right;\n",
       "    }\n",
       "</style>\n",
       "<table border=\"1\" class=\"dataframe\">\n",
       "  <thead>\n",
       "    <tr style=\"text-align: right;\">\n",
       "      <th></th>\n",
       "      <th>f0</th>\n",
       "      <th>f1</th>\n",
       "      <th>f2</th>\n",
       "      <th>product</th>\n",
       "    </tr>\n",
       "    <tr>\n",
       "      <th>id</th>\n",
       "      <th></th>\n",
       "      <th></th>\n",
       "      <th></th>\n",
       "      <th></th>\n",
       "    </tr>\n",
       "  </thead>\n",
       "  <tbody>\n",
       "    <tr>\n",
       "      <th>Dky4A</th>\n",
       "      <td>3.240938</td>\n",
       "      <td>4.286884</td>\n",
       "      <td>9.770059</td>\n",
       "      <td>140.558504</td>\n",
       "    </tr>\n",
       "  </tbody>\n",
       "</table>\n",
       "</div>"
      ],
      "text/plain": [
       "             f0        f1        f2     product\n",
       "id                                             \n",
       "Dky4A  3.240938  4.286884  9.770059  140.558504"
      ]
     },
     "execution_count": 6,
     "metadata": {},
     "output_type": "execute_result"
    }
   ],
   "source": [
    "geo_2.sample(1)"
   ]
  },
  {
   "cell_type": "markdown",
   "metadata": {},
   "source": [
    "*Таким образом, представленные исходные данные соответствуют описанию.*\n",
    "\n",
    "Далее проведём предобработку данных.\n",
    "\n",
    "Для начала создадим  2 функции: \n",
    "- data_main_info, которая будет выводить общую информацию о каждом датафрейме с помощью методов: info() и head();\n",
    "- data_preprocessing, которая будет определять количество пропущенных значений в каждом столбце и искать явные дубликаты:"
   ]
  },
  {
   "cell_type": "code",
   "execution_count": 7,
   "metadata": {},
   "outputs": [],
   "source": [
    "def data_main_info(data):\n",
    "       \n",
    "    print(f'Общая информация:') \n",
    "    print(data.info())\n",
    "    print()\n",
    "    print(f'Первые пять строк таблицы:')\n",
    "    display(data.head())"
   ]
  },
  {
   "cell_type": "code",
   "execution_count": 8,
   "metadata": {},
   "outputs": [],
   "source": [
    "def data_preprocessing(data):\n",
    "    print(f'Количество пропущенных значений в каждом столбце:')\n",
    "    print(data.isna().sum())\n",
    "    print()   \n",
    "    print(f'Количество явных дубликатов: {data.duplicated().sum()}')"
   ]
  },
  {
   "cell_type": "markdown",
   "metadata": {},
   "source": [
    "Рассмотрим общую информацию о каждом датафрейме:"
   ]
  },
  {
   "cell_type": "code",
   "execution_count": 9,
   "metadata": {
    "scrolled": true
   },
   "outputs": [
    {
     "name": "stdout",
     "output_type": "stream",
     "text": [
      "Общая информация:\n",
      "<class 'pandas.core.frame.DataFrame'>\n",
      "Index: 100000 entries, txEyH to 1CWhH\n",
      "Data columns (total 4 columns):\n",
      " #   Column   Non-Null Count   Dtype  \n",
      "---  ------   --------------   -----  \n",
      " 0   f0       100000 non-null  float64\n",
      " 1   f1       100000 non-null  float64\n",
      " 2   f2       100000 non-null  float64\n",
      " 3   product  100000 non-null  float64\n",
      "dtypes: float64(4)\n",
      "memory usage: 3.8+ MB\n",
      "None\n",
      "\n",
      "Первые пять строк таблицы:\n"
     ]
    },
    {
     "data": {
      "text/html": [
       "<div>\n",
       "<style scoped>\n",
       "    .dataframe tbody tr th:only-of-type {\n",
       "        vertical-align: middle;\n",
       "    }\n",
       "\n",
       "    .dataframe tbody tr th {\n",
       "        vertical-align: top;\n",
       "    }\n",
       "\n",
       "    .dataframe thead th {\n",
       "        text-align: right;\n",
       "    }\n",
       "</style>\n",
       "<table border=\"1\" class=\"dataframe\">\n",
       "  <thead>\n",
       "    <tr style=\"text-align: right;\">\n",
       "      <th></th>\n",
       "      <th>f0</th>\n",
       "      <th>f1</th>\n",
       "      <th>f2</th>\n",
       "      <th>product</th>\n",
       "    </tr>\n",
       "    <tr>\n",
       "      <th>id</th>\n",
       "      <th></th>\n",
       "      <th></th>\n",
       "      <th></th>\n",
       "      <th></th>\n",
       "    </tr>\n",
       "  </thead>\n",
       "  <tbody>\n",
       "    <tr>\n",
       "      <th>txEyH</th>\n",
       "      <td>0.705745</td>\n",
       "      <td>-0.497823</td>\n",
       "      <td>1.221170</td>\n",
       "      <td>105.280062</td>\n",
       "    </tr>\n",
       "    <tr>\n",
       "      <th>2acmU</th>\n",
       "      <td>1.334711</td>\n",
       "      <td>-0.340164</td>\n",
       "      <td>4.365080</td>\n",
       "      <td>73.037750</td>\n",
       "    </tr>\n",
       "    <tr>\n",
       "      <th>409Wp</th>\n",
       "      <td>1.022732</td>\n",
       "      <td>0.151990</td>\n",
       "      <td>1.419926</td>\n",
       "      <td>85.265647</td>\n",
       "    </tr>\n",
       "    <tr>\n",
       "      <th>iJLyR</th>\n",
       "      <td>-0.032172</td>\n",
       "      <td>0.139033</td>\n",
       "      <td>2.978566</td>\n",
       "      <td>168.620776</td>\n",
       "    </tr>\n",
       "    <tr>\n",
       "      <th>Xdl7t</th>\n",
       "      <td>1.988431</td>\n",
       "      <td>0.155413</td>\n",
       "      <td>4.751769</td>\n",
       "      <td>154.036647</td>\n",
       "    </tr>\n",
       "  </tbody>\n",
       "</table>\n",
       "</div>"
      ],
      "text/plain": [
       "             f0        f1        f2     product\n",
       "id                                             \n",
       "txEyH  0.705745 -0.497823  1.221170  105.280062\n",
       "2acmU  1.334711 -0.340164  4.365080   73.037750\n",
       "409Wp  1.022732  0.151990  1.419926   85.265647\n",
       "iJLyR -0.032172  0.139033  2.978566  168.620776\n",
       "Xdl7t  1.988431  0.155413  4.751769  154.036647"
      ]
     },
     "metadata": {},
     "output_type": "display_data"
    }
   ],
   "source": [
    "data_main_info(geo_0)"
   ]
  },
  {
   "cell_type": "markdown",
   "metadata": {},
   "source": [
    "В данных по первому региону имеется 100000 строк и 4 столбца, а все типы данных соответствуют содержимому.\n",
    "\n",
    "Проверим данные на наличие пропусков и дубликатов:"
   ]
  },
  {
   "cell_type": "code",
   "execution_count": 10,
   "metadata": {
    "scrolled": true
   },
   "outputs": [
    {
     "name": "stdout",
     "output_type": "stream",
     "text": [
      "Количество пропущенных значений в каждом столбце:\n",
      "f0         0\n",
      "f1         0\n",
      "f2         0\n",
      "product    0\n",
      "dtype: int64\n",
      "\n",
      "Количество явных дубликатов: 0\n"
     ]
    }
   ],
   "source": [
    "data_preprocessing(geo_0)"
   ]
  },
  {
   "cell_type": "markdown",
   "metadata": {},
   "source": [
    "В датафрейме отсутствуют строки-дубликаты и пропущенные значения.\n",
    "\n",
    "Проверим данные на наличие неявных дубликатов, вызвав метод nunique():"
   ]
  },
  {
   "cell_type": "code",
   "execution_count": 11,
   "metadata": {
    "scrolled": true
   },
   "outputs": [
    {
     "data": {
      "text/plain": [
       "f0         100000\n",
       "f1         100000\n",
       "f2         100000\n",
       "product    100000\n",
       "dtype: int64"
      ]
     },
     "execution_count": 11,
     "metadata": {},
     "output_type": "execute_result"
    }
   ],
   "source": [
    "geo_0.nunique()"
   ]
  },
  {
   "cell_type": "markdown",
   "metadata": {},
   "source": [
    "Неявные дубликаты в датафрейме geo_0 отсутствуют.\n",
    "\n",
    "Проделаем аналогичные действия с geo_1 и geo_2:"
   ]
  },
  {
   "cell_type": "code",
   "execution_count": 12,
   "metadata": {
    "scrolled": true
   },
   "outputs": [
    {
     "name": "stdout",
     "output_type": "stream",
     "text": [
      "Общая информация:\n",
      "<class 'pandas.core.frame.DataFrame'>\n",
      "Index: 100000 entries, kBEdx to relB0\n",
      "Data columns (total 4 columns):\n",
      " #   Column   Non-Null Count   Dtype  \n",
      "---  ------   --------------   -----  \n",
      " 0   f0       100000 non-null  float64\n",
      " 1   f1       100000 non-null  float64\n",
      " 2   f2       100000 non-null  float64\n",
      " 3   product  100000 non-null  float64\n",
      "dtypes: float64(4)\n",
      "memory usage: 3.8+ MB\n",
      "None\n",
      "\n",
      "Первые пять строк таблицы:\n"
     ]
    },
    {
     "data": {
      "text/html": [
       "<div>\n",
       "<style scoped>\n",
       "    .dataframe tbody tr th:only-of-type {\n",
       "        vertical-align: middle;\n",
       "    }\n",
       "\n",
       "    .dataframe tbody tr th {\n",
       "        vertical-align: top;\n",
       "    }\n",
       "\n",
       "    .dataframe thead th {\n",
       "        text-align: right;\n",
       "    }\n",
       "</style>\n",
       "<table border=\"1\" class=\"dataframe\">\n",
       "  <thead>\n",
       "    <tr style=\"text-align: right;\">\n",
       "      <th></th>\n",
       "      <th>f0</th>\n",
       "      <th>f1</th>\n",
       "      <th>f2</th>\n",
       "      <th>product</th>\n",
       "    </tr>\n",
       "    <tr>\n",
       "      <th>id</th>\n",
       "      <th></th>\n",
       "      <th></th>\n",
       "      <th></th>\n",
       "      <th></th>\n",
       "    </tr>\n",
       "  </thead>\n",
       "  <tbody>\n",
       "    <tr>\n",
       "      <th>kBEdx</th>\n",
       "      <td>-15.001348</td>\n",
       "      <td>-8.276000</td>\n",
       "      <td>-0.005876</td>\n",
       "      <td>3.179103</td>\n",
       "    </tr>\n",
       "    <tr>\n",
       "      <th>62mP7</th>\n",
       "      <td>14.272088</td>\n",
       "      <td>-3.475083</td>\n",
       "      <td>0.999183</td>\n",
       "      <td>26.953261</td>\n",
       "    </tr>\n",
       "    <tr>\n",
       "      <th>vyE1P</th>\n",
       "      <td>6.263187</td>\n",
       "      <td>-5.948386</td>\n",
       "      <td>5.001160</td>\n",
       "      <td>134.766305</td>\n",
       "    </tr>\n",
       "    <tr>\n",
       "      <th>KcrkZ</th>\n",
       "      <td>-13.081196</td>\n",
       "      <td>-11.506057</td>\n",
       "      <td>4.999415</td>\n",
       "      <td>137.945408</td>\n",
       "    </tr>\n",
       "    <tr>\n",
       "      <th>AHL4O</th>\n",
       "      <td>12.702195</td>\n",
       "      <td>-8.147433</td>\n",
       "      <td>5.004363</td>\n",
       "      <td>134.766305</td>\n",
       "    </tr>\n",
       "  </tbody>\n",
       "</table>\n",
       "</div>"
      ],
      "text/plain": [
       "              f0         f1        f2     product\n",
       "id                                               \n",
       "kBEdx -15.001348  -8.276000 -0.005876    3.179103\n",
       "62mP7  14.272088  -3.475083  0.999183   26.953261\n",
       "vyE1P   6.263187  -5.948386  5.001160  134.766305\n",
       "KcrkZ -13.081196 -11.506057  4.999415  137.945408\n",
       "AHL4O  12.702195  -8.147433  5.004363  134.766305"
      ]
     },
     "metadata": {},
     "output_type": "display_data"
    }
   ],
   "source": [
    "data_main_info(geo_1)"
   ]
  },
  {
   "cell_type": "markdown",
   "metadata": {},
   "source": [
    "Здесь также имеется 100000 строк и 4 столбца, и все типы данных соответствуют содержимому.\n",
    "\n",
    "Проверим geo_1 на наличие пропусков и дубликатов:"
   ]
  },
  {
   "cell_type": "code",
   "execution_count": 13,
   "metadata": {},
   "outputs": [
    {
     "name": "stdout",
     "output_type": "stream",
     "text": [
      "Количество пропущенных значений в каждом столбце:\n",
      "f0         0\n",
      "f1         0\n",
      "f2         0\n",
      "product    0\n",
      "dtype: int64\n",
      "\n",
      "Количество явных дубликатов: 0\n"
     ]
    }
   ],
   "source": [
    "data_preprocessing(geo_1)"
   ]
  },
  {
   "cell_type": "markdown",
   "metadata": {},
   "source": [
    "Аналогично пропуски и явные дубликаты отсутствуют.\n",
    "\n",
    "Проверим наличие неявных дубликатов:"
   ]
  },
  {
   "cell_type": "code",
   "execution_count": 14,
   "metadata": {},
   "outputs": [
    {
     "data": {
      "text/plain": [
       "f0         100000\n",
       "f1         100000\n",
       "f2         100000\n",
       "product        12\n",
       "dtype: int64"
      ]
     },
     "execution_count": 14,
     "metadata": {},
     "output_type": "execute_result"
    }
   ],
   "source": [
    "geo_1.nunique()"
   ]
  },
  {
   "cell_type": "markdown",
   "metadata": {},
   "source": [
    "В данном случае во входных признаках по-прежнему отсутствуют неявные дубликаты, а вот целевой признак содержит всего 12 уникальных значений, которые дублируются в 100000 строк. Посмотрим, какие это уникальные значения:"
   ]
  },
  {
   "cell_type": "code",
   "execution_count": 15,
   "metadata": {},
   "outputs": [
    {
     "data": {
      "text/plain": [
       "array([  3.17910258,  26.95326103, 134.76630516, 137.94540774,\n",
       "        84.03888568, 110.99214671,  53.90652206,   0.        ,\n",
       "       107.81304413,  57.08562465,  30.13236361,  80.85978309])"
      ]
     },
     "execution_count": 15,
     "metadata": {},
     "output_type": "execute_result"
    }
   ],
   "source": [
    "geo_1['product'].unique()"
   ]
  },
  {
   "cell_type": "markdown",
   "metadata": {},
   "source": [
    "То есть у данных по второму региону величины объёма запасов сырья принимают только эти 12 дискретных значений. В реальной жизни такое вряд ли имеет место, но поскольку данные синтетические, оставим всё без изменений и будем считать, что такая ситуация имеет право на существование.\n",
    "\n",
    "Осталось изучить информацию о третьем регионе (geo_2):"
   ]
  },
  {
   "cell_type": "code",
   "execution_count": 16,
   "metadata": {},
   "outputs": [
    {
     "name": "stdout",
     "output_type": "stream",
     "text": [
      "Общая информация:\n",
      "<class 'pandas.core.frame.DataFrame'>\n",
      "Index: 100000 entries, fwXo0 to V9kWn\n",
      "Data columns (total 4 columns):\n",
      " #   Column   Non-Null Count   Dtype  \n",
      "---  ------   --------------   -----  \n",
      " 0   f0       100000 non-null  float64\n",
      " 1   f1       100000 non-null  float64\n",
      " 2   f2       100000 non-null  float64\n",
      " 3   product  100000 non-null  float64\n",
      "dtypes: float64(4)\n",
      "memory usage: 3.8+ MB\n",
      "None\n",
      "\n",
      "Первые пять строк таблицы:\n"
     ]
    },
    {
     "data": {
      "text/html": [
       "<div>\n",
       "<style scoped>\n",
       "    .dataframe tbody tr th:only-of-type {\n",
       "        vertical-align: middle;\n",
       "    }\n",
       "\n",
       "    .dataframe tbody tr th {\n",
       "        vertical-align: top;\n",
       "    }\n",
       "\n",
       "    .dataframe thead th {\n",
       "        text-align: right;\n",
       "    }\n",
       "</style>\n",
       "<table border=\"1\" class=\"dataframe\">\n",
       "  <thead>\n",
       "    <tr style=\"text-align: right;\">\n",
       "      <th></th>\n",
       "      <th>f0</th>\n",
       "      <th>f1</th>\n",
       "      <th>f2</th>\n",
       "      <th>product</th>\n",
       "    </tr>\n",
       "    <tr>\n",
       "      <th>id</th>\n",
       "      <th></th>\n",
       "      <th></th>\n",
       "      <th></th>\n",
       "      <th></th>\n",
       "    </tr>\n",
       "  </thead>\n",
       "  <tbody>\n",
       "    <tr>\n",
       "      <th>fwXo0</th>\n",
       "      <td>-1.146987</td>\n",
       "      <td>0.963328</td>\n",
       "      <td>-0.828965</td>\n",
       "      <td>27.758673</td>\n",
       "    </tr>\n",
       "    <tr>\n",
       "      <th>WJtFt</th>\n",
       "      <td>0.262778</td>\n",
       "      <td>0.269839</td>\n",
       "      <td>-2.530187</td>\n",
       "      <td>56.069697</td>\n",
       "    </tr>\n",
       "    <tr>\n",
       "      <th>ovLUW</th>\n",
       "      <td>0.194587</td>\n",
       "      <td>0.289035</td>\n",
       "      <td>-5.586433</td>\n",
       "      <td>62.871910</td>\n",
       "    </tr>\n",
       "    <tr>\n",
       "      <th>q6cA6</th>\n",
       "      <td>2.236060</td>\n",
       "      <td>-0.553760</td>\n",
       "      <td>0.930038</td>\n",
       "      <td>114.572842</td>\n",
       "    </tr>\n",
       "    <tr>\n",
       "      <th>WPMUX</th>\n",
       "      <td>-0.515993</td>\n",
       "      <td>1.716266</td>\n",
       "      <td>5.899011</td>\n",
       "      <td>149.600746</td>\n",
       "    </tr>\n",
       "  </tbody>\n",
       "</table>\n",
       "</div>"
      ],
      "text/plain": [
       "             f0        f1        f2     product\n",
       "id                                             \n",
       "fwXo0 -1.146987  0.963328 -0.828965   27.758673\n",
       "WJtFt  0.262778  0.269839 -2.530187   56.069697\n",
       "ovLUW  0.194587  0.289035 -5.586433   62.871910\n",
       "q6cA6  2.236060 -0.553760  0.930038  114.572842\n",
       "WPMUX -0.515993  1.716266  5.899011  149.600746"
      ]
     },
     "metadata": {},
     "output_type": "display_data"
    }
   ],
   "source": [
    "data_main_info(geo_2)"
   ]
  },
  {
   "cell_type": "markdown",
   "metadata": {},
   "source": [
    "Как и в предыдущих случаях, 100000 строк и 4 столбца, а типы данных соответсвуют содержимому.\n",
    "\n",
    "Посмотрим наличие пропущенных значений и явных дубликатов:"
   ]
  },
  {
   "cell_type": "code",
   "execution_count": 17,
   "metadata": {},
   "outputs": [
    {
     "name": "stdout",
     "output_type": "stream",
     "text": [
      "Количество пропущенных значений в каждом столбце:\n",
      "f0         0\n",
      "f1         0\n",
      "f2         0\n",
      "product    0\n",
      "dtype: int64\n",
      "\n",
      "Количество явных дубликатов: 0\n"
     ]
    }
   ],
   "source": [
    "data_preprocessing(geo_2)"
   ]
  },
  {
   "cell_type": "markdown",
   "metadata": {},
   "source": [
    "Аналогичным образом, пропуски и строки-дубликаты отсутствуют.\n",
    "\n",
    "Проверим на неявные дубликаты: "
   ]
  },
  {
   "cell_type": "code",
   "execution_count": 18,
   "metadata": {
    "scrolled": false
   },
   "outputs": [
    {
     "data": {
      "text/plain": [
       "f0         100000\n",
       "f1         100000\n",
       "f2         100000\n",
       "product    100000\n",
       "dtype: int64"
      ]
     },
     "execution_count": 18,
     "metadata": {},
     "output_type": "execute_result"
    }
   ],
   "source": [
    "geo_2.nunique()"
   ]
  },
  {
   "cell_type": "markdown",
   "metadata": {},
   "source": [
    "Как и в случае geo_0 здесь нет неявных дубликатов.\n",
    "\n",
    "*Таким образом, в результате предобработки данных:* \n",
    "- пропущенные значения и строки-дубликаты отсутствуют во всех датафреймах;\n",
    "- неявные дубликаты, которые были оставлены нетронутыми, присутствуют только в данных geo_1;\n",
    "- типы данных соответствуют содержимому столбцов. \n",
    "\n",
    "Проведём исследовательский анализ данных из каждой таблицы.\n",
    "\n",
    "Начнём с изучения статистики в geo_0. Вызовем метод describe:"
   ]
  },
  {
   "cell_type": "code",
   "execution_count": 19,
   "metadata": {},
   "outputs": [
    {
     "data": {
      "text/html": [
       "<div>\n",
       "<style scoped>\n",
       "    .dataframe tbody tr th:only-of-type {\n",
       "        vertical-align: middle;\n",
       "    }\n",
       "\n",
       "    .dataframe tbody tr th {\n",
       "        vertical-align: top;\n",
       "    }\n",
       "\n",
       "    .dataframe thead th {\n",
       "        text-align: right;\n",
       "    }\n",
       "</style>\n",
       "<table border=\"1\" class=\"dataframe\">\n",
       "  <thead>\n",
       "    <tr style=\"text-align: right;\">\n",
       "      <th></th>\n",
       "      <th>f0</th>\n",
       "      <th>f1</th>\n",
       "      <th>f2</th>\n",
       "      <th>product</th>\n",
       "    </tr>\n",
       "  </thead>\n",
       "  <tbody>\n",
       "    <tr>\n",
       "      <th>count</th>\n",
       "      <td>100000.000000</td>\n",
       "      <td>100000.000000</td>\n",
       "      <td>100000.000000</td>\n",
       "      <td>100000.000000</td>\n",
       "    </tr>\n",
       "    <tr>\n",
       "      <th>mean</th>\n",
       "      <td>0.500419</td>\n",
       "      <td>0.250143</td>\n",
       "      <td>2.502647</td>\n",
       "      <td>92.500000</td>\n",
       "    </tr>\n",
       "    <tr>\n",
       "      <th>std</th>\n",
       "      <td>0.871832</td>\n",
       "      <td>0.504433</td>\n",
       "      <td>3.248248</td>\n",
       "      <td>44.288691</td>\n",
       "    </tr>\n",
       "    <tr>\n",
       "      <th>min</th>\n",
       "      <td>-1.408605</td>\n",
       "      <td>-0.848218</td>\n",
       "      <td>-12.088328</td>\n",
       "      <td>0.000000</td>\n",
       "    </tr>\n",
       "    <tr>\n",
       "      <th>25%</th>\n",
       "      <td>-0.072580</td>\n",
       "      <td>-0.200881</td>\n",
       "      <td>0.287748</td>\n",
       "      <td>56.497507</td>\n",
       "    </tr>\n",
       "    <tr>\n",
       "      <th>50%</th>\n",
       "      <td>0.502360</td>\n",
       "      <td>0.250252</td>\n",
       "      <td>2.515969</td>\n",
       "      <td>91.849972</td>\n",
       "    </tr>\n",
       "    <tr>\n",
       "      <th>75%</th>\n",
       "      <td>1.073581</td>\n",
       "      <td>0.700646</td>\n",
       "      <td>4.715088</td>\n",
       "      <td>128.564089</td>\n",
       "    </tr>\n",
       "    <tr>\n",
       "      <th>max</th>\n",
       "      <td>2.362331</td>\n",
       "      <td>1.343769</td>\n",
       "      <td>16.003790</td>\n",
       "      <td>185.364347</td>\n",
       "    </tr>\n",
       "  </tbody>\n",
       "</table>\n",
       "</div>"
      ],
      "text/plain": [
       "                  f0             f1             f2        product\n",
       "count  100000.000000  100000.000000  100000.000000  100000.000000\n",
       "mean        0.500419       0.250143       2.502647      92.500000\n",
       "std         0.871832       0.504433       3.248248      44.288691\n",
       "min        -1.408605      -0.848218     -12.088328       0.000000\n",
       "25%        -0.072580      -0.200881       0.287748      56.497507\n",
       "50%         0.502360       0.250252       2.515969      91.849972\n",
       "75%         1.073581       0.700646       4.715088     128.564089\n",
       "max         2.362331       1.343769      16.003790     185.364347"
      ]
     },
     "execution_count": 19,
     "metadata": {},
     "output_type": "execute_result"
    }
   ],
   "source": [
    "geo_0.describe()"
   ]
  },
  {
   "cell_type": "markdown",
   "metadata": {},
   "source": [
    "Видно, что во всех столбцах средние и медианные значения различаются незначительно, что говорит о симметричном распределении данных в них и будет проверено в дальнейшем.\n",
    "\n",
    "Построим графики для каждого признака и подробнее изучим каждый из них.\n",
    "\n",
    "Начнём со столбца 'f0': построим гистограмму и диаграмму размаха:"
   ]
  },
  {
   "cell_type": "code",
   "execution_count": 20,
   "metadata": {},
   "outputs": [
    {
     "data": {
      "image/png": "[encoded data removed]",
      "text/plain": [
       "<Figure size 720x360 with 1 Axes>"
      ]
     },
     "metadata": {
      "needs_background": "light"
     },
     "output_type": "display_data"
    }
   ],
   "source": [
    "plt.figure(figsize=(10, 5))\n",
    "\n",
    "geo_0['f0'].hist(\n",
    "    bins=50,\n",
    "    grid = True,\n",
    "    linewidth=3,\n",
    ")\n",
    "plt.title('Признак f0 (geo_0)')\n",
    "plt.xlabel(\"Значение\")\n",
    "plt.ylabel(\"Частота\")\n",
    "plt.show();"
   ]
  },
  {
   "cell_type": "code",
   "execution_count": 21,
   "metadata": {
    "scrolled": true
   },
   "outputs": [
    {
     "data": {
      "image/png": "[encoded data removed]",
      "text/plain": [
       "<Figure size 288x288 with 1 Axes>"
      ]
     },
     "metadata": {
      "needs_background": "light"
     },
     "output_type": "display_data"
    }
   ],
   "source": [
    "plt.figure(figsize=(4,4));\n",
    "\n",
    "sns.boxplot(data=geo_0,y='f0');\n",
    "\n",
    "plt.title(\"Диаграмма размаха\", fontsize=16);\n",
    "plt.ylabel(\"Признак f0 (geo_0)\", fontsize=12);"
   ]
  },
  {
   "cell_type": "markdown",
   "metadata": {},
   "source": [
    "Как можно видеть, выбросы в распределении величины 'f0' отсутствуют, а данные симметричны относительно 0.5. Однако распределение не имеет характер нормального, и присутствует 4 пика, так как данные синтетические.\n",
    "\n",
    "Рассмотрим признак 'f1':"
   ]
  },
  {
   "cell_type": "code",
   "execution_count": 22,
   "metadata": {},
   "outputs": [
    {
     "data": {
      "image/png": "[encoded data removed]",
      "text/plain": [
       "<Figure size 720x360 with 1 Axes>"
      ]
     },
     "metadata": {
      "needs_background": "light"
     },
     "output_type": "display_data"
    }
   ],
   "source": [
    "plt.figure(figsize=(10, 5))\n",
    "\n",
    "geo_0['f1'].hist(\n",
    "    bins=50,\n",
    "    grid = True,\n",
    "    linewidth=3,\n",
    ")\n",
    "plt.title('Признак f1 (geo_0)')\n",
    "plt.xlabel(\"Значение\")\n",
    "plt.ylabel(\"Частота\")\n",
    "plt.show();"
   ]
  },
  {
   "cell_type": "code",
   "execution_count": 23,
   "metadata": {
    "scrolled": true
   },
   "outputs": [
    {
     "data": {
      "image/png": "[encoded data removed]",
      "text/plain": [
       "<Figure size 288x288 with 1 Axes>"
      ]
     },
     "metadata": {
      "needs_background": "light"
     },
     "output_type": "display_data"
    }
   ],
   "source": [
    "plt.figure(figsize=(4,4));\n",
    "\n",
    "sns.boxplot(data=geo_0,y='f1');\n",
    "\n",
    "plt.title(\"Диаграмма размаха\", fontsize=16);\n",
    "plt.ylabel(\"Признак f1 (geo_0)\", fontsize=12);"
   ]
  },
  {
   "cell_type": "markdown",
   "metadata": {},
   "source": [
    "Ситуация аналогичная: распределение не нормальное, но симметричное, только уже относительно 0.25, имеется 3 пика, выбросов нет.\n",
    "\n",
    "Остаётся признак 'f2':"
   ]
  },
  {
   "cell_type": "code",
   "execution_count": 24,
   "metadata": {},
   "outputs": [
    {
     "data": {
      "image/png": "[encoded data removed]",
      "text/plain": [
       "<Figure size 720x360 with 1 Axes>"
      ]
     },
     "metadata": {
      "needs_background": "light"
     },
     "output_type": "display_data"
    }
   ],
   "source": [
    "plt.figure(figsize=(10, 5))\n",
    "\n",
    "geo_0['f2'].hist(\n",
    "    bins=50,\n",
    "    grid = True,\n",
    "    linewidth=3,\n",
    ")\n",
    "plt.title('Признак f2 (geo_0)')\n",
    "plt.xlabel(\"Значение\")\n",
    "plt.ylabel(\"Частота\")\n",
    "plt.show();"
   ]
  },
  {
   "cell_type": "code",
   "execution_count": 25,
   "metadata": {},
   "outputs": [
    {
     "data": {
      "image/png": "[encoded data removed]",
      "text/plain": [
       "<Figure size 288x288 with 1 Axes>"
      ]
     },
     "metadata": {
      "needs_background": "light"
     },
     "output_type": "display_data"
    }
   ],
   "source": [
    "plt.figure(figsize=(4,4));\n",
    "\n",
    "sns.boxplot(data=geo_0,y='f2');\n",
    "\n",
    "plt.title(\"Диаграмма размаха\", fontsize=16);\n",
    "plt.ylabel(\"Признак f2 (geo_0)\", fontsize=12);"
   ]
  },
  {
   "cell_type": "markdown",
   "metadata": {},
   "source": [
    "Здесь уже распределение имеет нормальный вид и симметрично относительно 2.5. Выбросы присутствуют как в области малых значений (примерно меньше -6), так и в области больших (примерно больше 11).\n",
    "\n",
    "Посмотрим на распределение целевого признака в geo_0:"
   ]
  },
  {
   "cell_type": "code",
   "execution_count": 26,
   "metadata": {},
   "outputs": [
    {
     "data": {
      "image/png": "[encoded data removed]",
      "text/plain": [
       "<Figure size 720x360 with 1 Axes>"
      ]
     },
     "metadata": {
      "needs_background": "light"
     },
     "output_type": "display_data"
    }
   ],
   "source": [
    "plt.figure(figsize=(10, 5))\n",
    "\n",
    "geo_0['product'].hist(\n",
    "    bins=50,\n",
    "    grid = True,\n",
    "    linewidth=3,\n",
    ")\n",
    "plt.title('Объём запасов в скважине (geo_0), тыс. бар.')\n",
    "plt.xlabel(\"Значение\")\n",
    "plt.ylabel(\"Частота\")\n",
    "plt.show();"
   ]
  },
  {
   "cell_type": "code",
   "execution_count": 27,
   "metadata": {},
   "outputs": [
    {
     "data": {
      "image/png": "[encoded data removed]",
      "text/plain": [
       "<Figure size 288x288 with 1 Axes>"
      ]
     },
     "metadata": {
      "needs_background": "light"
     },
     "output_type": "display_data"
    }
   ],
   "source": [
    "plt.figure(figsize=(4,4));\n",
    "\n",
    "sns.boxplot(data=geo_0,y='product');\n",
    "\n",
    "plt.title(\"Диаграмма размаха\", fontsize=16);\n",
    "plt.ylabel(\"Объём запасов в скважине (geo_0)\", fontsize=12);"
   ]
  },
  {
   "cell_type": "markdown",
   "metadata": {},
   "source": [
    "Распределение не имеет нормальный вид, данные симметричны относительно 92 тыс. баррелей, выбросы отсутствуют. Отчётливо дифференцируются области высоких и низких значений.\n",
    "\n",
    "Наконец, проведём небольшой корреляционный анализ признаков. Изучим взаимосвязь между признаками, построив матрицу корреляции с помощью метода Phik:"
   ]
  },
  {
   "cell_type": "code",
   "execution_count": 28,
   "metadata": {
    "scrolled": true
   },
   "outputs": [
    {
     "data": {
      "image/png": "[encoded data removed]",
      "text/plain": [
       "<Figure size 720x432 with 2 Axes>"
      ]
     },
     "metadata": {
      "needs_background": "light"
     },
     "output_type": "display_data"
    }
   ],
   "source": [
    "plt.figure(figsize=(10, 6));\n",
    "\n",
    "sns.heatmap(\n",
    "    geo_0.phik_matrix(\n",
    "       interval_cols=['f0', 'f1', 'f2', 'product']\n",
    "   ),\n",
    "    cmap='coolwarm',\n",
    "    center=0,\n",
    "    annot=True,\n",
    "    fmt='.2f'\n",
    ");"
   ]
  },
  {
   "cell_type": "markdown",
   "metadata": {},
   "source": [
    "Как можно видеть, высокая корреляция наблюдается между входными признаками 'f0' и 'f1', причём целевой признак коррелирует с входными менее чем на 0.5, а мультиколлинеарность отсутствует (коэффициент корреляции должен быть не менее 0.9).\n",
    "\n",
    "Перейдём к анализу geo_1:"
   ]
  },
  {
   "cell_type": "code",
   "execution_count": 29,
   "metadata": {},
   "outputs": [
    {
     "data": {
      "text/html": [
       "<div>\n",
       "<style scoped>\n",
       "    .dataframe tbody tr th:only-of-type {\n",
       "        vertical-align: middle;\n",
       "    }\n",
       "\n",
       "    .dataframe tbody tr th {\n",
       "        vertical-align: top;\n",
       "    }\n",
       "\n",
       "    .dataframe thead th {\n",
       "        text-align: right;\n",
       "    }\n",
       "</style>\n",
       "<table border=\"1\" class=\"dataframe\">\n",
       "  <thead>\n",
       "    <tr style=\"text-align: right;\">\n",
       "      <th></th>\n",
       "      <th>f0</th>\n",
       "      <th>f1</th>\n",
       "      <th>f2</th>\n",
       "      <th>product</th>\n",
       "    </tr>\n",
       "  </thead>\n",
       "  <tbody>\n",
       "    <tr>\n",
       "      <th>count</th>\n",
       "      <td>100000.000000</td>\n",
       "      <td>100000.000000</td>\n",
       "      <td>100000.000000</td>\n",
       "      <td>100000.000000</td>\n",
       "    </tr>\n",
       "    <tr>\n",
       "      <th>mean</th>\n",
       "      <td>1.141296</td>\n",
       "      <td>-4.796579</td>\n",
       "      <td>2.494541</td>\n",
       "      <td>68.825000</td>\n",
       "    </tr>\n",
       "    <tr>\n",
       "      <th>std</th>\n",
       "      <td>8.965932</td>\n",
       "      <td>5.119872</td>\n",
       "      <td>1.703572</td>\n",
       "      <td>45.944423</td>\n",
       "    </tr>\n",
       "    <tr>\n",
       "      <th>min</th>\n",
       "      <td>-31.609576</td>\n",
       "      <td>-26.358598</td>\n",
       "      <td>-0.018144</td>\n",
       "      <td>0.000000</td>\n",
       "    </tr>\n",
       "    <tr>\n",
       "      <th>25%</th>\n",
       "      <td>-6.298551</td>\n",
       "      <td>-8.267985</td>\n",
       "      <td>1.000021</td>\n",
       "      <td>26.953261</td>\n",
       "    </tr>\n",
       "    <tr>\n",
       "      <th>50%</th>\n",
       "      <td>1.153055</td>\n",
       "      <td>-4.813172</td>\n",
       "      <td>2.011479</td>\n",
       "      <td>57.085625</td>\n",
       "    </tr>\n",
       "    <tr>\n",
       "      <th>75%</th>\n",
       "      <td>8.621015</td>\n",
       "      <td>-1.332816</td>\n",
       "      <td>3.999904</td>\n",
       "      <td>107.813044</td>\n",
       "    </tr>\n",
       "    <tr>\n",
       "      <th>max</th>\n",
       "      <td>29.421755</td>\n",
       "      <td>18.734063</td>\n",
       "      <td>5.019721</td>\n",
       "      <td>137.945408</td>\n",
       "    </tr>\n",
       "  </tbody>\n",
       "</table>\n",
       "</div>"
      ],
      "text/plain": [
       "                  f0             f1             f2        product\n",
       "count  100000.000000  100000.000000  100000.000000  100000.000000\n",
       "mean        1.141296      -4.796579       2.494541      68.825000\n",
       "std         8.965932       5.119872       1.703572      45.944423\n",
       "min       -31.609576     -26.358598      -0.018144       0.000000\n",
       "25%        -6.298551      -8.267985       1.000021      26.953261\n",
       "50%         1.153055      -4.813172       2.011479      57.085625\n",
       "75%         8.621015      -1.332816       3.999904     107.813044\n",
       "max        29.421755      18.734063       5.019721     137.945408"
      ]
     },
     "execution_count": 29,
     "metadata": {},
     "output_type": "execute_result"
    }
   ],
   "source": [
    "geo_1.describe()"
   ]
  },
  {
   "cell_type": "markdown",
   "metadata": {},
   "source": [
    "Как можно видеть, средние и медианные значения признаков 'f0' и 'f1' довольно близки, а вот для 'f2' и 'product' различия уже существенны, что может говорит о наличии выбросов.\n",
    "\n",
    "Построим графики для каждого признака и подробнее изучим каждый из них.\n",
    "\n",
    "Вновь начнём с 'f0': построим гистограмму и диаграмму размаха:"
   ]
  },
  {
   "cell_type": "code",
   "execution_count": 30,
   "metadata": {
    "scrolled": true
   },
   "outputs": [
    {
     "data": {
      "image/png": "[encoded data removed]",
      "text/plain": [
       "<Figure size 720x360 with 1 Axes>"
      ]
     },
     "metadata": {
      "needs_background": "light"
     },
     "output_type": "display_data"
    }
   ],
   "source": [
    "plt.figure(figsize=(10, 5))\n",
    "\n",
    "geo_1['f0'].hist(\n",
    "    bins=50,\n",
    "    grid = True,\n",
    "    linewidth=3,\n",
    ")\n",
    "plt.title('Признак f0 (geo_1)')\n",
    "plt.xlabel(\"Значение\")\n",
    "plt.ylabel(\"Частота\")\n",
    "plt.show();"
   ]
  },
  {
   "cell_type": "code",
   "execution_count": 31,
   "metadata": {},
   "outputs": [
    {
     "data": {
      "image/png": "[encoded data removed]",
      "text/plain": [
       "<Figure size 288x288 with 1 Axes>"
      ]
     },
     "metadata": {
      "needs_background": "light"
     },
     "output_type": "display_data"
    }
   ],
   "source": [
    "plt.figure(figsize=(4,4));\n",
    "\n",
    "sns.boxplot(data=geo_1,y='f0');\n",
    "\n",
    "plt.title(\"Диаграмма размаха\", fontsize=16);\n",
    "plt.ylabel(\"Признак f0 (geo_1)\", fontsize=12);"
   ]
  },
  {
   "cell_type": "markdown",
   "metadata": {},
   "source": [
    "Данные как будто имеют вид двух нормальных распределений, объединённых в области 0, относительно которого суммарное распределение симметрично. В области -30 присутствует выброс, посмотрим на него:"
   ]
  },
  {
   "cell_type": "code",
   "execution_count": 32,
   "metadata": {},
   "outputs": [
    {
     "data": {
      "text/html": [
       "<div>\n",
       "<style scoped>\n",
       "    .dataframe tbody tr th:only-of-type {\n",
       "        vertical-align: middle;\n",
       "    }\n",
       "\n",
       "    .dataframe tbody tr th {\n",
       "        vertical-align: top;\n",
       "    }\n",
       "\n",
       "    .dataframe thead th {\n",
       "        text-align: right;\n",
       "    }\n",
       "</style>\n",
       "<table border=\"1\" class=\"dataframe\">\n",
       "  <thead>\n",
       "    <tr style=\"text-align: right;\">\n",
       "      <th></th>\n",
       "      <th>f0</th>\n",
       "      <th>f1</th>\n",
       "      <th>f2</th>\n",
       "      <th>product</th>\n",
       "    </tr>\n",
       "    <tr>\n",
       "      <th>id</th>\n",
       "      <th></th>\n",
       "      <th></th>\n",
       "      <th></th>\n",
       "      <th></th>\n",
       "    </tr>\n",
       "  </thead>\n",
       "  <tbody>\n",
       "    <tr>\n",
       "      <th>jJm67</th>\n",
       "      <td>-31.609576</td>\n",
       "      <td>1.390042</td>\n",
       "      <td>4.001055</td>\n",
       "      <td>110.992147</td>\n",
       "    </tr>\n",
       "  </tbody>\n",
       "</table>\n",
       "</div>"
      ],
      "text/plain": [
       "              f0        f1        f2     product\n",
       "id                                              \n",
       "jJm67 -31.609576  1.390042  4.001055  110.992147"
      ]
     },
     "execution_count": 32,
     "metadata": {},
     "output_type": "execute_result"
    }
   ],
   "source": [
    "geo_1.query('f0 <= -30')"
   ]
  },
  {
   "cell_type": "markdown",
   "metadata": {},
   "source": [
    "Выброс действительно только один, оставим его.\n",
    "\n",
    "Перейдём к f1:"
   ]
  },
  {
   "cell_type": "code",
   "execution_count": 33,
   "metadata": {},
   "outputs": [
    {
     "data": {
      "image/png": "[encoded data removed]",
      "text/plain": [
       "<Figure size 720x360 with 1 Axes>"
      ]
     },
     "metadata": {
      "needs_background": "light"
     },
     "output_type": "display_data"
    }
   ],
   "source": [
    "plt.figure(figsize=(10, 5))\n",
    "\n",
    "geo_1['f1'].hist(\n",
    "    bins=50,\n",
    "    grid = True,\n",
    "    linewidth=3,\n",
    ")\n",
    "plt.title('Признак f1 (geo_1)')\n",
    "plt.xlabel(\"Значение\")\n",
    "plt.ylabel(\"Частота\")\n",
    "plt.show();"
   ]
  },
  {
   "cell_type": "code",
   "execution_count": 34,
   "metadata": {},
   "outputs": [
    {
     "data": {
      "image/png": "[encoded data removed]",
      "text/plain": [
       "<Figure size 288x288 with 1 Axes>"
      ]
     },
     "metadata": {
      "needs_background": "light"
     },
     "output_type": "display_data"
    }
   ],
   "source": [
    "plt.figure(figsize=(4,4));\n",
    "\n",
    "sns.boxplot(data=geo_1,y='f1');\n",
    "\n",
    "plt.title(\"Диаграмма размаха\", fontsize=16);\n",
    "plt.ylabel(\"Признак f1 (geo_1)\", fontsize=12);"
   ]
  },
  {
   "cell_type": "markdown",
   "metadata": {},
   "source": [
    "Данные имеют вид нормального распределения, симметричного относительно -4.8, с выбросами на нижнем и на верхнем пределах.\n",
    "\n",
    "Далее изучим признак f2:"
   ]
  },
  {
   "cell_type": "code",
   "execution_count": 35,
   "metadata": {},
   "outputs": [
    {
     "data": {
      "image/png": "[encoded data removed]",
      "text/plain": [
       "<Figure size 720x360 with 1 Axes>"
      ]
     },
     "metadata": {
      "needs_background": "light"
     },
     "output_type": "display_data"
    }
   ],
   "source": [
    "plt.figure(figsize=(10, 5))\n",
    "\n",
    "geo_1['f2'].hist(\n",
    "    bins=50,\n",
    "    grid = True,\n",
    "    linewidth=3,\n",
    ")\n",
    "plt.title('Признак f2 (geo_1)')\n",
    "plt.xlabel(\"Значение\")\n",
    "plt.ylabel(\"Частота\")\n",
    "plt.show();"
   ]
  },
  {
   "cell_type": "code",
   "execution_count": 36,
   "metadata": {},
   "outputs": [
    {
     "data": {
      "image/png": "[encoded data removed]",
      "text/plain": [
       "<Figure size 288x288 with 1 Axes>"
      ]
     },
     "metadata": {
      "needs_background": "light"
     },
     "output_type": "display_data"
    }
   ],
   "source": [
    "plt.figure(figsize=(4,4));\n",
    "\n",
    "sns.boxplot(data=geo_1,y='f2');\n",
    "\n",
    "plt.title(\"Диаграмма размаха\", fontsize=16);\n",
    "plt.ylabel(\"Признак f2 (geo_1)\", fontsize=12);"
   ]
  },
  {
   "cell_type": "markdown",
   "metadata": {},
   "source": [
    "Как можно видеть, в данном случае признак 'f2' принимает 100000 уникальных значений, которые дискретно и достаточно равномерно распределены в области от 0 до 5 включительно, через единицу, т.е. в среднее значение находится на уровне 2.5, при этом медианное - в области 2.\n",
    "\n",
    "Изучим целевой признак в geo_1. Как мы помним из предобработки данных, здесь 'product' принимает только 12 уникальных значений, поэтому вместо гистограммы построим горизонтальную столбчатую диаграмму:"
   ]
  },
  {
   "cell_type": "code",
   "execution_count": 37,
   "metadata": {},
   "outputs": [
    {
     "data": {
      "image/png": "[encoded data removed]",
      "text/plain": [
       "<Figure size 576x576 with 1 Axes>"
      ]
     },
     "metadata": {
      "needs_background": "light"
     },
     "output_type": "display_data"
    }
   ],
   "source": [
    "plt.figure(figsize=(8, 8))\n",
    "\n",
    "geo_1['product'].value_counts().plot(\n",
    "    kind='barh',\n",
    "    rot=0\n",
    ");\n",
    "plt.title('Объём запасов в скважине (geo_1), тыс. бар.')\n",
    "plt.xlabel(\"Показатель\")\n",
    "plt.ylabel(\"Частота\")\n",
    "plt.show();"
   ]
  },
  {
   "cell_type": "code",
   "execution_count": 38,
   "metadata": {},
   "outputs": [
    {
     "data": {
      "image/png": "[encoded data removed]",
      "text/plain": [
       "<Figure size 288x288 with 1 Axes>"
      ]
     },
     "metadata": {
      "needs_background": "light"
     },
     "output_type": "display_data"
    }
   ],
   "source": [
    "plt.figure(figsize=(4,4));\n",
    "\n",
    "sns.boxplot(data=geo_1,y='product');\n",
    "\n",
    "plt.title(\"Диаграмма размаха\", fontsize=16);\n",
    "plt.ylabel(\"Объём запасов в скважине (geo_1), тыс. бар.\", fontsize=12);"
   ]
  },
  {
   "cell_type": "markdown",
   "metadata": {},
   "source": [
    "Видно, что наиболее часто объём запасов сырья имеет значение почти 54 тыс. баррелей, при этом в среднем - это почти 69 тыс. бар., а медианное значение - на уровне 57 тыс. бар.\n",
    "\n",
    "Также проведём корреляционный анализ с помощью метода Phik:"
   ]
  },
  {
   "cell_type": "code",
   "execution_count": 43,
   "metadata": {},
   "outputs": [
    {
     "data": {
      "image/png": "[encoded data removed]",
      "text/plain": [
       "<Figure size 720x432 with 2 Axes>"
      ]
     },
     "metadata": {
      "needs_background": "light"
     },
     "output_type": "display_data"
    }
   ],
   "source": [
    "plt.figure(figsize=(10, 6));\n",
    "\n",
    "sns.heatmap(\n",
    "    geo_1.phik_matrix(\n",
    "       interval_cols=['f0', 'f1']\n",
    "   ),\n",
    "    cmap='coolwarm',\n",
    "    center=0,\n",
    "    annot=True,\n",
    "    fmt='.2f'\n",
    ");"
   ]
  },
  {
   "cell_type": "markdown",
   "metadata": {},
   "source": [
    "Наблюдается интересная картина: признак 'f2', который не имеет непрерывного распределения, полностью коррелирует, как с остальными входными признаками, так и с целевым. Налицо наличие мультиколлинеарности, что говорит о необходимости удаления 'f2' из geo_1. Однако следует помнить, что данные синтетические, а все признаки 'f0', 'f1' и 'f2' являются значимыми, а значит, ничего удалять не будем (проверено: удаление признака 'f2' из geo_1 приводит к отрицательным значениям прибыли и 100 % риску убытков, т.е. ни один из регионов не удовлетворяет условиям отбора).\n",
    "\n",
    "Наконец, исследуем geo_2:"
   ]
  },
  {
   "cell_type": "code",
   "execution_count": 40,
   "metadata": {},
   "outputs": [
    {
     "data": {
      "text/html": [
       "<div>\n",
       "<style scoped>\n",
       "    .dataframe tbody tr th:only-of-type {\n",
       "        vertical-align: middle;\n",
       "    }\n",
       "\n",
       "    .dataframe tbody tr th {\n",
       "        vertical-align: top;\n",
       "    }\n",
       "\n",
       "    .dataframe thead th {\n",
       "        text-align: right;\n",
       "    }\n",
       "</style>\n",
       "<table border=\"1\" class=\"dataframe\">\n",
       "  <thead>\n",
       "    <tr style=\"text-align: right;\">\n",
       "      <th></th>\n",
       "      <th>f0</th>\n",
       "      <th>f1</th>\n",
       "      <th>f2</th>\n",
       "      <th>product</th>\n",
       "    </tr>\n",
       "  </thead>\n",
       "  <tbody>\n",
       "    <tr>\n",
       "      <th>count</th>\n",
       "      <td>100000.000000</td>\n",
       "      <td>100000.000000</td>\n",
       "      <td>100000.000000</td>\n",
       "      <td>100000.000000</td>\n",
       "    </tr>\n",
       "    <tr>\n",
       "      <th>mean</th>\n",
       "      <td>0.002023</td>\n",
       "      <td>-0.002081</td>\n",
       "      <td>2.495128</td>\n",
       "      <td>95.000000</td>\n",
       "    </tr>\n",
       "    <tr>\n",
       "      <th>std</th>\n",
       "      <td>1.732045</td>\n",
       "      <td>1.730417</td>\n",
       "      <td>3.473445</td>\n",
       "      <td>44.749921</td>\n",
       "    </tr>\n",
       "    <tr>\n",
       "      <th>min</th>\n",
       "      <td>-8.760004</td>\n",
       "      <td>-7.084020</td>\n",
       "      <td>-11.970335</td>\n",
       "      <td>0.000000</td>\n",
       "    </tr>\n",
       "    <tr>\n",
       "      <th>25%</th>\n",
       "      <td>-1.162288</td>\n",
       "      <td>-1.174820</td>\n",
       "      <td>0.130359</td>\n",
       "      <td>59.450441</td>\n",
       "    </tr>\n",
       "    <tr>\n",
       "      <th>50%</th>\n",
       "      <td>0.009424</td>\n",
       "      <td>-0.009482</td>\n",
       "      <td>2.484236</td>\n",
       "      <td>94.925613</td>\n",
       "    </tr>\n",
       "    <tr>\n",
       "      <th>75%</th>\n",
       "      <td>1.158535</td>\n",
       "      <td>1.163678</td>\n",
       "      <td>4.858794</td>\n",
       "      <td>130.595027</td>\n",
       "    </tr>\n",
       "    <tr>\n",
       "      <th>max</th>\n",
       "      <td>7.238262</td>\n",
       "      <td>7.844801</td>\n",
       "      <td>16.739402</td>\n",
       "      <td>190.029838</td>\n",
       "    </tr>\n",
       "  </tbody>\n",
       "</table>\n",
       "</div>"
      ],
      "text/plain": [
       "                  f0             f1             f2        product\n",
       "count  100000.000000  100000.000000  100000.000000  100000.000000\n",
       "mean        0.002023      -0.002081       2.495128      95.000000\n",
       "std         1.732045       1.730417       3.473445      44.749921\n",
       "min        -8.760004      -7.084020     -11.970335       0.000000\n",
       "25%        -1.162288      -1.174820       0.130359      59.450441\n",
       "50%         0.009424      -0.009482       2.484236      94.925613\n",
       "75%         1.158535       1.163678       4.858794     130.595027\n",
       "max         7.238262       7.844801      16.739402     190.029838"
      ]
     },
     "execution_count": 40,
     "metadata": {},
     "output_type": "execute_result"
    }
   ],
   "source": [
    "geo_2.describe()"
   ]
  },
  {
   "cell_type": "markdown",
   "metadata": {},
   "source": [
    "По аналогии с geo_0 здесь средние и медианные значения приблизительно одинаковы, что говорит о симметричном распределении данных в них и будет проверено в дальнейшем.\n",
    "\n",
    "Построим графики для каждого признака и подробнее изучим каждый из них.\n",
    "\n",
    "Начнём со столбца 'f0': построим гистограмму и диаграмму размаха:"
   ]
  },
  {
   "cell_type": "code",
   "execution_count": 41,
   "metadata": {},
   "outputs": [
    {
     "data": {
      "image/png": "[encoded data removed]",
      "text/plain": [
       "<Figure size 720x360 with 1 Axes>"
      ]
     },
     "metadata": {
      "needs_background": "light"
     },
     "output_type": "display_data"
    }
   ],
   "source": [
    "plt.figure(figsize=(10, 5))\n",
    "\n",
    "geo_2['f0'].hist(\n",
    "    bins=50,\n",
    "    grid = True,\n",
    "    linewidth=3,\n",
    ")\n",
    "plt.title('Признак f0 (geo_2)')\n",
    "plt.xlabel(\"Значение\")\n",
    "plt.ylabel(\"Частота\")\n",
    "plt.show();"
   ]
  },
  {
   "cell_type": "code",
   "execution_count": 42,
   "metadata": {},
   "outputs": [
    {
     "data": {
      "image/png": "[encoded data removed]",
      "text/plain": [
       "<Figure size 288x288 with 1 Axes>"
      ]
     },
     "metadata": {
      "needs_background": "light"
     },
     "output_type": "display_data"
    }
   ],
   "source": [
    "plt.figure(figsize=(4,4));\n",
    "\n",
    "sns.boxplot(data=geo_2,y='f0');\n",
    "\n",
    "plt.title(\"Диаграмма размаха\", fontsize=16);\n",
    "plt.ylabel(\"Признак f0 (geo_2)\", fontsize=12);"
   ]
  },
  {
   "cell_type": "markdown",
   "metadata": {},
   "source": [
    "Величины в 'f0' распределены равномерно и симметрично относительно 0. Выбросы имеются к слева, так и справа от среднего значения.\n",
    "\n",
    "Изучим 'f1':"
   ]
  },
  {
   "cell_type": "code",
   "execution_count": 43,
   "metadata": {},
   "outputs": [
    {
     "data": {
      "image/png": "[encoded data removed]",
      "text/plain": [
       "<Figure size 720x360 with 1 Axes>"
      ]
     },
     "metadata": {
      "needs_background": "light"
     },
     "output_type": "display_data"
    }
   ],
   "source": [
    "plt.figure(figsize=(10, 5))\n",
    "\n",
    "geo_2['f1'].hist(\n",
    "    bins=50,\n",
    "    grid = True,\n",
    "    linewidth=3,\n",
    ")\n",
    "plt.title('Признак f1 (geo_2)')\n",
    "plt.xlabel(\"Значение\")\n",
    "plt.ylabel(\"Частота\")\n",
    "plt.show();"
   ]
  },
  {
   "cell_type": "code",
   "execution_count": 44,
   "metadata": {},
   "outputs": [
    {
     "data": {
      "image/png": "[encoded data removed]",
      "text/plain": [
       "<Figure size 288x288 with 1 Axes>"
      ]
     },
     "metadata": {
      "needs_background": "light"
     },
     "output_type": "display_data"
    }
   ],
   "source": [
    "plt.figure(figsize=(4,4));\n",
    "\n",
    "sns.boxplot(data=geo_2,y='f1');\n",
    "\n",
    "plt.title(\"Диаграмма размаха\", fontsize=16);\n",
    "plt.ylabel(\"Признак f1 (geo_2)\", fontsize=12);"
   ]
  },
  {
   "cell_type": "markdown",
   "metadata": {},
   "source": [
    "Картина практически аналогична предыдущему признаку, т.е. 'f0'.\n",
    "\n",
    "Теперь рассмотрим 'f2':"
   ]
  },
  {
   "cell_type": "code",
   "execution_count": 45,
   "metadata": {},
   "outputs": [
    {
     "data": {
      "image/png": "[encoded data removed]",
      "text/plain": [
       "<Figure size 720x360 with 1 Axes>"
      ]
     },
     "metadata": {
      "needs_background": "light"
     },
     "output_type": "display_data"
    }
   ],
   "source": [
    "plt.figure(figsize=(10, 5))\n",
    "\n",
    "geo_2['f2'].hist(\n",
    "    bins=50,\n",
    "    grid = True,\n",
    "    linewidth=3,\n",
    ")\n",
    "plt.title('Признак f2 (geo_2)')\n",
    "plt.xlabel(\"Значение\")\n",
    "plt.ylabel(\"Частота\")\n",
    "plt.show();"
   ]
  },
  {
   "cell_type": "code",
   "execution_count": 46,
   "metadata": {},
   "outputs": [
    {
     "data": {
      "image/png": "[encoded data removed]",
      "text/plain": [
       "<Figure size 288x288 with 1 Axes>"
      ]
     },
     "metadata": {
      "needs_background": "light"
     },
     "output_type": "display_data"
    }
   ],
   "source": [
    "plt.figure(figsize=(4,4));\n",
    "\n",
    "sns.boxplot(data=geo_2,y='f2');\n",
    "\n",
    "plt.title(\"Диаграмма размаха\", fontsize=16);\n",
    "plt.ylabel(\"Признак f2 (geo_2)\", fontsize=12);"
   ]
  },
  {
   "cell_type": "markdown",
   "metadata": {},
   "source": [
    "И в данном случае распределение имеет нормальный вид, симметрично относительно 2.5, а выбросы также расположены с обеих сторон.\n",
    "\n",
    "Проанализируем целевой признак в geo_2:"
   ]
  },
  {
   "cell_type": "code",
   "execution_count": 47,
   "metadata": {},
   "outputs": [
    {
     "data": {
      "image/png": "[encoded data removed]",
      "text/plain": [
       "<Figure size 720x360 with 1 Axes>"
      ]
     },
     "metadata": {
      "needs_background": "light"
     },
     "output_type": "display_data"
    }
   ],
   "source": [
    "plt.figure(figsize=(10, 5))\n",
    "\n",
    "geo_2['product'].hist(\n",
    "    bins=50,\n",
    "    grid = True,\n",
    "    linewidth=3,\n",
    ")\n",
    "plt.title('Объём запасов в скважине (geo_2), тыс. бар.')\n",
    "plt.xlabel(\"Значение\")\n",
    "plt.ylabel(\"Частота\")\n",
    "plt.show();"
   ]
  },
  {
   "cell_type": "code",
   "execution_count": 48,
   "metadata": {},
   "outputs": [
    {
     "data": {
      "image/png": "[encoded data removed]",
      "text/plain": [
       "<Figure size 288x288 with 1 Axes>"
      ]
     },
     "metadata": {
      "needs_background": "light"
     },
     "output_type": "display_data"
    }
   ],
   "source": [
    "plt.figure(figsize=(4,4));\n",
    "\n",
    "sns.boxplot(data=geo_2,y='product');\n",
    "\n",
    "plt.title(\"Диаграмма размаха\", fontsize=16);\n",
    "plt.ylabel(\"Объём запасов в скважине (geo_2), тыс. бар.\", fontsize=12);"
   ]
  },
  {
   "cell_type": "markdown",
   "metadata": {},
   "source": [
    "Как можно видеть, по аналогии с geo_0, величина 'product' не имеет вид нормального распределения, при этом симметрична относительно 95 тыс. баррелей, а области относительно высоких и низких значений отчётливо дифференцируются и чередуются.\n",
    "\n",
    "Остаётся провести корреляционный анализ:"
   ]
  },
  {
   "cell_type": "code",
   "execution_count": 49,
   "metadata": {},
   "outputs": [
    {
     "data": {
      "image/png": "[encoded data removed]",
      "text/plain": [
       "<Figure size 720x432 with 2 Axes>"
      ]
     },
     "metadata": {
      "needs_background": "light"
     },
     "output_type": "display_data"
    }
   ],
   "source": [
    "plt.figure(figsize=(10, 6));\n",
    "\n",
    "sns.heatmap(\n",
    "    geo_2.phik_matrix(\n",
    "       interval_cols=['f0', 'f1', 'f2', 'product']\n",
    "   ),\n",
    "    cmap='coolwarm',\n",
    "    center=0,\n",
    "    annot=True,\n",
    "    fmt='.2f'\n",
    ");"
   ]
  },
  {
   "cell_type": "markdown",
   "metadata": {},
   "source": [
    "Между входными признаками корреляция отсутствует, а целевой признак незначительно коррелирует (менее 0.5) с входными.\n",
    "\n",
    "*Таким образом, был проведён исследовательский анализ данных, в результате которого было определено следующее:*\n",
    "\n",
    "1. Для региона geo_0:\n",
    "- признаки 'f0' и 'f1' не имеют вид нормального распределения, при этом симметричны относительно средних значений, имеют пиковые области (4 и 3 соответственно) высоких значений, выбросы отсутствуют;\n",
    "- признак 'f2' распределён нормально и симметрично, при этом имеются выбросы;\n",
    "- целевой признак 'product' также не имеет вид нормального распределения, симметричен и не имеет выбросов, причём на графике отчётливо дифференцируются области высоких и низких значений;\n",
    "- корреляция методом Phik выявила высокую корреляцию между входными признаками 'f0' и 'f1', а мультиколлинеарность отсутствует (коэффициент корреляции должен быть не менее 0.9).\n",
    "\n",
    "2. Для региона geo_1:\n",
    "- признак 'f0' имеет вид симметричного распределения с двуми нормального вида пиками и одним выбросом;\n",
    "- признак 'f1' распределён нормально и симметрично, при этом имеются выбросы;\n",
    "- признак 'f2' принимает 100000 уникальных значений, которые дискретно распределены между 0, 1, 2, 3, 4 и 5 включительно;\n",
    "- целевой признак 'product' принимает только 12 уникальных значений, причём наиболее часто -  почти 54 тыс. баррелей, в среднем - это почти 69 тыс. бар., а медиана - на уровне 57 тыс. бар.;\n",
    "- корреляция методом Phik показала, что признак 'f2' на 100 % линейно коррелирует со всеми остальными признаками, т.е. наблюдается мультиколлинеарности, однако это не говорит о необходимости его удаления из датафрейма, поскольку данные синтетические, а все входные признаки являются значимыми.\n",
    "\n",
    "3. Для региона geo_2:\n",
    "- признаки 'f0','f1' и 'f2' имеют вид нормального распределения, симметричны и имеют выбросы с обеих сторон от среднего значения;\n",
    "- целевой признак 'product' также не имеет вид нормального распределения, симметричен и не имеет выбросов, причём на графике отчётливо дифференцируются области высоких и низких значений;\n",
    "- корреляция методом Phik не выявила корреляции между входными признаками, а мультиколлинеарность отсутствует (коэффициент корреляции должен быть не менее 0.9)."
   ]
  },
  {
   "cell_type": "markdown",
   "metadata": {},
   "source": [
    "## Обучение и проверка модели"
   ]
  },
  {
   "cell_type": "markdown",
   "metadata": {},
   "source": [
    "Разобьём данные на обучающую и валидационную выборки в соотношении 75:25, создав для этого функцию data_split, чтобы потом применить её к каждому датафрейму:"
   ]
  },
  {
   "cell_type": "code",
   "execution_count": 50,
   "metadata": {},
   "outputs": [],
   "source": [
    "#Зафиксируем RANDOM_STATE и размер выборок:\n",
    "RANDOM_STATE = 42\n",
    "TEST_SIZE = 0.25\n",
    "\n",
    "#Создадим функцию:\n",
    "def data_split(df):\n",
    "#Разделим данные по входным и целевому признакам:\n",
    "    X = df.drop(['product'], axis=1)\n",
    "    y = df['product']\n",
    "#Получим тренировочную и валидационную выборки с помощью train_test_split:\n",
    "    X_train, X_val, y_train, y_val = train_test_split(\n",
    "        X,\n",
    "        y,\n",
    "        test_size = TEST_SIZE, \n",
    "        random_state = RANDOM_STATE\n",
    "    )\n",
    "#На выходе функции вернём полученные выборки:    \n",
    "    return X_train, X_val, y_train, y_val"
   ]
  },
  {
   "cell_type": "markdown",
   "metadata": {},
   "source": [
    "Применим получившуюся функцию к каждому региону и выведем на экран размеры выборок с входными признаками:"
   ]
  },
  {
   "cell_type": "code",
   "execution_count": 51,
   "metadata": {},
   "outputs": [
    {
     "name": "stdout",
     "output_type": "stream",
     "text": [
      "(75000, 3) (25000, 3)\n",
      "(75000, 3) (25000, 3)\n",
      "(75000, 3) (25000, 3)\n"
     ]
    }
   ],
   "source": [
    "X_train_0, X_val_0, y_train_0, y_val_0 = data_split(geo_0)\n",
    "\n",
    "print(X_train_0.shape, X_val_0.shape)\n",
    "\n",
    "X_train_1, X_val_1, y_train_1, y_val_1 = data_split(geo_1)\n",
    "\n",
    "print(X_train_1.shape, X_val_1.shape)\n",
    "\n",
    "X_train_2, X_val_2, y_train_2, y_val_2 = data_split(geo_2)\n",
    "\n",
    "print(X_train_2.shape, X_val_2.shape)"
   ]
  },
  {
   "cell_type": "markdown",
   "metadata": {},
   "source": [
    "Для масштабирования количественных признаков создадим две переменные, передав им RobustScaler() - для регионов geo_0 и geo_1, где не все признаки распределены нормально, и StandardScaler() - для региона geo_2:"
   ]
  },
  {
   "cell_type": "code",
   "execution_count": 52,
   "metadata": {},
   "outputs": [],
   "source": [
    "rob_scaler = RobustScaler()\n",
    "\n",
    "stand_scaler = StandardScaler()"
   ]
  },
  {
   "cell_type": "markdown",
   "metadata": {},
   "source": [
    "Проведём масштабирование тренировочной и валидационной выборок для всех регионов:"
   ]
  },
  {
   "cell_type": "code",
   "execution_count": 53,
   "metadata": {},
   "outputs": [],
   "source": [
    "X_train_0 = rob_scaler.fit_transform(X_train_0)\n",
    "X_val_0 = rob_scaler.transform(X_val_0)\n",
    "\n",
    "X_train_1 = rob_scaler.fit_transform(X_train_1)\n",
    "X_val_1 = rob_scaler.transform(X_val_1)\n",
    "\n",
    "X_train_2 = stand_scaler.fit_transform(X_train_2)\n",
    "X_val_2 = stand_scaler.transform(X_val_2)"
   ]
  },
  {
   "cell_type": "markdown",
   "metadata": {},
   "source": [
    "Для каждого региона обучим модель и сделаем предсказания на валидационной выборке. При этом сохраним предсказания и правильные ответы на валидационной выборке. Напечатаем на экране средний запас предсказанного сырья и RMSE модели.\n",
    "\n",
    "Для этого создадим функцию predictions:"
   ]
  },
  {
   "cell_type": "code",
   "execution_count": 54,
   "metadata": {},
   "outputs": [],
   "source": [
    "def predictions(X_train, X_val, y_train, y_val):\n",
    "#Инициализируем модель линейной регресии:\n",
    "    model_lr  = LinearRegression()\n",
    "#Обучим модель на тренировочных данных:\n",
    "    model_lr.fit(X_train, y_train)\n",
    "#Сделаем предсказания и рассчитаем необходимые метрики на валидационной выборке:\n",
    "    y_val_pred = model_lr.predict(X_val)\n",
    "    mean = y_val_pred.mean()\n",
    "    rmse = mean_squared_error(y_val, y_val_pred, squared=False)\n",
    "    residuals = y_val - y_val_pred\n",
    "#Вернём предсказания и рассчитанные метрики:    \n",
    "    return y_val_pred, mean, rmse, residuals"
   ]
  },
  {
   "cell_type": "markdown",
   "metadata": {},
   "source": [
    "Получим предсказания, средний запас сырья, RMSE и остатки для каждого региона:"
   ]
  },
  {
   "cell_type": "code",
   "execution_count": 55,
   "metadata": {},
   "outputs": [],
   "source": [
    "y_val_pred_0, mean_0, rmse_0, residuals_0 = predictions(X_train_0, X_val_0, y_train_0, y_val_0)\n",
    "\n",
    "y_val_pred_1, mean_1, rmse_1, residuals_1 = predictions(X_train_1, X_val_1, y_train_1, y_val_1)\n",
    "\n",
    "y_val_pred_2, mean_2, rmse_2, residuals_2 = predictions(X_train_2, X_val_2, y_train_2, y_val_2)"
   ]
  },
  {
   "cell_type": "markdown",
   "metadata": {},
   "source": [
    "Создадим таблицу model_results с результатами моделирования:"
   ]
  },
  {
   "cell_type": "code",
   "execution_count": 56,
   "metadata": {},
   "outputs": [
    {
     "data": {
      "text/html": [
       "<div>\n",
       "<style scoped>\n",
       "    .dataframe tbody tr th:only-of-type {\n",
       "        vertical-align: middle;\n",
       "    }\n",
       "\n",
       "    .dataframe tbody tr th {\n",
       "        vertical-align: top;\n",
       "    }\n",
       "\n",
       "    .dataframe thead th {\n",
       "        text-align: right;\n",
       "    }\n",
       "</style>\n",
       "<table border=\"1\" class=\"dataframe\">\n",
       "  <thead>\n",
       "    <tr style=\"text-align: right;\">\n",
       "      <th></th>\n",
       "      <th>Метрика RMSE на валидационной выборке</th>\n",
       "      <th>Средний запас сырья, тыс. бар.</th>\n",
       "    </tr>\n",
       "  </thead>\n",
       "  <tbody>\n",
       "    <tr>\n",
       "      <th>Регион geo_0</th>\n",
       "      <td>37.757</td>\n",
       "      <td>92.399</td>\n",
       "    </tr>\n",
       "    <tr>\n",
       "      <th>Регион geo_1</th>\n",
       "      <td>0.890</td>\n",
       "      <td>68.713</td>\n",
       "    </tr>\n",
       "    <tr>\n",
       "      <th>Регион geo_2</th>\n",
       "      <td>40.146</td>\n",
       "      <td>94.771</td>\n",
       "    </tr>\n",
       "  </tbody>\n",
       "</table>\n",
       "</div>"
      ],
      "text/plain": [
       "              Метрика RMSE на валидационной выборке  \\\n",
       "Регион geo_0                                 37.757   \n",
       "Регион geo_1                                  0.890   \n",
       "Регион geo_2                                 40.146   \n",
       "\n",
       "              Средний запас сырья, тыс. бар.  \n",
       "Регион geo_0                          92.399  \n",
       "Регион geo_1                          68.713  \n",
       "Регион geo_2                          94.771  "
      ]
     },
     "execution_count": 56,
     "metadata": {},
     "output_type": "execute_result"
    }
   ],
   "source": [
    "#Создадим список с названиями колонок будущей таблицы:\n",
    "cols = [\n",
    "    'Метрика RMSE на валидационной выборке',\n",
    "    'Средний запас сырья, тыс. бар.'\n",
    "]\n",
    "\n",
    "#Создадим список списков с величинами, которые будут в таблице:\n",
    "metrics = [\n",
    "    [round(rmse_0, 3), round(mean_0, 3)],\n",
    "    [round(rmse_1, 3), round(mean_1, 3)],\n",
    "    [round(rmse_2, 3), round(mean_2, 3)]\n",
    "]\n",
    "\n",
    "#Создадим датафрейм:\n",
    "model_results = pd.DataFrame(data=metrics, columns=cols)\n",
    "#Передадим датафрейму в качестве индексов названия регионов:\n",
    "model_results.index = ['Регион geo_0', 'Регион geo_1', 'Регион geo_2']\n",
    "\n",
    "model_results"
   ]
  },
  {
   "cell_type": "markdown",
   "metadata": {},
   "source": [
    "Как можно видеть, наиболее качественно модель сработала для региона geo_1, где корено среднеквадратичной ошибки - наименьший. Однако для этого региона средний предсказанный запас сырья почти на 1/3 меньше, чем для других регионов: почти 69 против 92-95 тыс. баррелей.\n",
    "\n",
    "Проверим качество модели, проанализировав остатки:"
   ]
  },
  {
   "cell_type": "code",
   "execution_count": 57,
   "metadata": {
    "scrolled": true
   },
   "outputs": [
    {
     "data": {
      "image/png": "[encoded data removed]",
      "text/plain": [
       "<Figure size 720x1440 with 6 Axes>"
      ]
     },
     "metadata": {
      "needs_background": "light"
     },
     "output_type": "display_data"
    }
   ],
   "source": [
    "fig, axes = plt.subplots(3, 2, figsize=(10, 20))\n",
    "\n",
    "axes[0, 0].hist(x=residuals_0)\n",
    "axes[0, 0].set_title('Гистограмма распределения остатков')\n",
    "axes[0, 0].set_xlabel('Остатки')\n",
    "\n",
    "axes[1, 0].hist(x=residuals_1)\n",
    "axes[1, 0].set_title('Гистограмма распределения остатков')\n",
    "axes[1, 0].set_xlabel('Остатки')\n",
    "\n",
    "axes[2, 0].hist(x=residuals_2)\n",
    "axes[2, 0].set_title('Гистограмма распределения остатков')\n",
    "axes[2, 0].set_xlabel('Остатки')\n",
    "\n",
    "axes[0, 1].scatter(x=y_val_pred_0, y=residuals_0)\n",
    "axes[0, 1].set_xlabel('Предсказания модели')\n",
    "axes[0, 1].set_ylabel('Остатки')\n",
    "axes[0, 1].set_title('Анализ дисперсии')\n",
    "\n",
    "axes[1, 1].scatter(x=y_val_pred_1, y=residuals_1)\n",
    "axes[1, 1].set_xlabel('Предсказания модели')\n",
    "axes[1, 1].set_ylabel('Остатки')\n",
    "axes[1, 1].set_title('Анализ дисперсии')\n",
    "\n",
    "\n",
    "axes[2, 1].scatter(x=y_val_pred_2, y=residuals_2)\n",
    "axes[2, 1].set_xlabel('Предсказания модели')\n",
    "axes[2, 1].set_ylabel('Остатки')\n",
    "axes[2, 1].set_title('Анализ дисперсии')\n",
    "\n",
    "\n",
    "plt.show()"
   ]
  },
  {
   "cell_type": "markdown",
   "metadata": {},
   "source": [
    "Анализ остатков показал, что они распределены нормально и график симметричен относительно нуля для каждого региона, однако диаграмма рассеяния остатков не имеет постоянный вид для регионов geo_0 и geo_2: с ростом предсказаний модели остатки становятся отрицательными. В случае же geo_1 дисперсия остатков постоянна для каждого предсказания модели. Это говорит о высокой предсказательной способности модели."
   ]
  },
  {
   "cell_type": "markdown",
   "metadata": {},
   "source": [
    "## Подготовка к расчёту прибыли"
   ]
  },
  {
   "cell_type": "markdown",
   "metadata": {},
   "source": [
    "Подготовимся к расчёту прибыли. Все ключевые значения для расчётов сохраним в отдельных переменных:"
   ]
  },
  {
   "cell_type": "code",
   "execution_count": 58,
   "metadata": {},
   "outputs": [],
   "source": [
    "budget = 10000000000\n",
    "profit = 450000\n",
    "n = 500\n",
    "k = 200"
   ]
  },
  {
   "cell_type": "markdown",
   "metadata": {},
   "source": [
    "Рассчитаем достаточный объём сырья (volume) для безубыточной разработки новой скважины:"
   ]
  },
  {
   "cell_type": "code",
   "execution_count": 59,
   "metadata": {
    "scrolled": true
   },
   "outputs": [
    {
     "name": "stdout",
     "output_type": "stream",
     "text": [
      "Достаточный для безубыточной разработки новой скважины объем сырья: 111.111\n"
     ]
    }
   ],
   "source": [
    "volume = budget / 200 / profit\n",
    "\n",
    "print('Достаточный для безубыточной разработки новой скважины объем сырья:', round(volume, 3))"
   ]
  },
  {
   "cell_type": "markdown",
   "metadata": {},
   "source": [
    "Сравним полученный объём сырья со средним запасом в каждом регионе. Для этого создадим таблицу reserves_data:"
   ]
  },
  {
   "cell_type": "code",
   "execution_count": 60,
   "metadata": {},
   "outputs": [
    {
     "data": {
      "text/html": [
       "<div>\n",
       "<style scoped>\n",
       "    .dataframe tbody tr th:only-of-type {\n",
       "        vertical-align: middle;\n",
       "    }\n",
       "\n",
       "    .dataframe tbody tr th {\n",
       "        vertical-align: top;\n",
       "    }\n",
       "\n",
       "    .dataframe thead th {\n",
       "        text-align: right;\n",
       "    }\n",
       "</style>\n",
       "<table border=\"1\" class=\"dataframe\">\n",
       "  <thead>\n",
       "    <tr style=\"text-align: right;\">\n",
       "      <th></th>\n",
       "      <th>Средний запас в регионе, тыс. бар.</th>\n",
       "      <th>Нехватка до достаточного объёма, тыс. бар.</th>\n",
       "    </tr>\n",
       "  </thead>\n",
       "  <tbody>\n",
       "    <tr>\n",
       "      <th>Регион geo_0</th>\n",
       "      <td>92.500</td>\n",
       "      <td>18.611</td>\n",
       "    </tr>\n",
       "    <tr>\n",
       "      <th>Регион geo_1</th>\n",
       "      <td>68.825</td>\n",
       "      <td>42.286</td>\n",
       "    </tr>\n",
       "    <tr>\n",
       "      <th>Регион geo_2</th>\n",
       "      <td>95.000</td>\n",
       "      <td>16.111</td>\n",
       "    </tr>\n",
       "  </tbody>\n",
       "</table>\n",
       "</div>"
      ],
      "text/plain": [
       "              Средний запас в регионе, тыс. бар.  \\\n",
       "Регион geo_0                              92.500   \n",
       "Регион geo_1                              68.825   \n",
       "Регион geo_2                              95.000   \n",
       "\n",
       "              Нехватка до достаточного объёма, тыс. бар.  \n",
       "Регион geo_0                                      18.611  \n",
       "Регион geo_1                                      42.286  \n",
       "Регион geo_2                                      16.111  "
      ]
     },
     "execution_count": 60,
     "metadata": {},
     "output_type": "execute_result"
    }
   ],
   "source": [
    "#Создадим список с названием колонки будущей таблицы:\n",
    "col = ['Средний запас в регионе, тыс. бар.']\n",
    "\n",
    "#Создадим список списков с величинами, которые будут в таблице:\n",
    "avg_reserves = [\n",
    "    [round(geo_0['product'].mean(), 3)],\n",
    "    [round(geo_1['product'].mean(), 3)],\n",
    "    [round(geo_2['product'].mean(), 3)]\n",
    "]\n",
    "\n",
    "#Создадим датафрейм:\n",
    "reserves_data = pd.DataFrame(data=avg_reserves, columns=col)\n",
    "\n",
    "#Построим столбец со значениями нехватки в тыс.бар.:\n",
    "reserves_data['Нехватка до достаточного объёма, тыс. бар.'] =\\\n",
    "round(volume, 3) - reserves_data['Средний запас в регионе, тыс. бар.'] \n",
    "\n",
    "#Передадим датафрейму в качестве индексов названия регионов:\n",
    "reserves_data.index = ['Регион geo_0', 'Регион geo_1', 'Регион geo_2']\n",
    "\n",
    "reserves_data"
   ]
  },
  {
   "cell_type": "markdown",
   "metadata": {},
   "source": [
    "Наибольший средний запас нефти наблюдается в регионе geo_2, а наименьший - в geo_1. При этом во всех регионах этот показатель ниже достаточного объёма для безубыточной разработки новой скважины: для geo_2 не хватает примерно 16 тыс. баррелей в среднем.\n",
    "\n",
    "*Таким образом, в результате подготовки к расчёту прибыли:*\n",
    "- были введены константы, соответстующие условию задачи (budget, profit, n, k);\n",
    "- был рассчитан достаточный объём запасов нефти для безубыточной разработки новой скважины на уровне примерно 111 тыс.баррелей;\n",
    "- было проведено сравнение среднего запаса нефти в каждом регионе с достаточным объёмом и отмечена нехватка в каждом из случаев."
   ]
  },
  {
   "cell_type": "markdown",
   "metadata": {},
   "source": [
    "## Расчёт прибыли и рисков "
   ]
  },
  {
   "cell_type": "markdown",
   "metadata": {},
   "source": [
    "Напишите функцию Income для расчёта прибыли по выбранным скважинам и предсказаниям модели:"
   ]
  },
  {
   "cell_type": "code",
   "execution_count": 61,
   "metadata": {},
   "outputs": [],
   "source": [
    "def income (target, probabilities, count):\n",
    "    probs_sorted = probabilities.sort_values(ascending=False)\n",
    "    selected = target[probs_sorted.index][:count].sum()\n",
    "    return selected * profit - budget"
   ]
  },
  {
   "cell_type": "markdown",
   "metadata": {},
   "source": [
    "Выберем скважины с максимальными значениями предсказаний, просуммируем целевое значение объёма сырья, соответствующее этим предсказаниям и рассчитаем прибыль для полученного объёма сырья.\n",
    "\n",
    "Для этого создадим таблицу best_200_data:"
   ]
  },
  {
   "cell_type": "code",
   "execution_count": 62,
   "metadata": {},
   "outputs": [
    {
     "data": {
      "text/html": [
       "<div>\n",
       "<style scoped>\n",
       "    .dataframe tbody tr th:only-of-type {\n",
       "        vertical-align: middle;\n",
       "    }\n",
       "\n",
       "    .dataframe tbody tr th {\n",
       "        vertical-align: top;\n",
       "    }\n",
       "\n",
       "    .dataframe thead th {\n",
       "        text-align: right;\n",
       "    }\n",
       "</style>\n",
       "<table border=\"1\" class=\"dataframe\">\n",
       "  <thead>\n",
       "    <tr style=\"text-align: right;\">\n",
       "      <th></th>\n",
       "      <th>Суммарный предсказанный запас сырья по 200 скважинам, тыс. бар.</th>\n",
       "      <th>Предсказанная прибыль, млн. руб.</th>\n",
       "    </tr>\n",
       "  </thead>\n",
       "  <tbody>\n",
       "    <tr>\n",
       "      <th>Регион geo_0</th>\n",
       "      <td>30881.463</td>\n",
       "      <td>3896.658</td>\n",
       "    </tr>\n",
       "    <tr>\n",
       "      <th>Регион geo_1</th>\n",
       "      <td>27748.751</td>\n",
       "      <td>2486.938</td>\n",
       "    </tr>\n",
       "    <tr>\n",
       "      <th>Регион geo_2</th>\n",
       "      <td>29728.848</td>\n",
       "      <td>3377.982</td>\n",
       "    </tr>\n",
       "  </tbody>\n",
       "</table>\n",
       "</div>"
      ],
      "text/plain": [
       "              Суммарный предсказанный запас сырья по 200 скважинам, тыс. бар.  \\\n",
       "Регион geo_0                                          30881.463                 \n",
       "Регион geo_1                                          27748.751                 \n",
       "Регион geo_2                                          29728.848                 \n",
       "\n",
       "              Предсказанная прибыль, млн. руб.  \n",
       "Регион geo_0                          3896.658  \n",
       "Регион geo_1                          2486.938  \n",
       "Регион geo_2                          3377.982  "
      ]
     },
     "execution_count": 62,
     "metadata": {},
     "output_type": "execute_result"
    }
   ],
   "source": [
    "#Создадим список с названиями колонок будущей таблицы:\n",
    "cols = [\n",
    "    'Суммарный предсказанный запас сырья по 200 скважинам, тыс. бар.',\n",
    "    'Предсказанная прибыль, млн. руб.'\n",
    "]\n",
    "\n",
    "#Создадим список списков с величинами, которые будут в таблице:\n",
    "best_200 = [\n",
    "    [round(np.sort(y_val_pred_0)[-200:].sum(), 3),\n",
    "     round((np.sort(y_val_pred_0)[-200:].sum() * profit - budget) / 1000000, 3)],\n",
    "    [round(np.sort(y_val_pred_1)[-200:].sum(), 3), \n",
    "     round((np.sort(y_val_pred_1)[-200:].sum() * profit - budget) / 1000000, 3)],\n",
    "    [round(np.sort(y_val_pred_2)[-200:].sum(), 3), \n",
    "     round((np.sort(y_val_pred_2)[-200:].sum() * profit - budget) / 1000000, 3)]\n",
    "]\n",
    "\n",
    "#Создадим датафрейм:\n",
    "best_200_data = pd.DataFrame(data=best_200, columns=cols)\n",
    "\n",
    "#Передадим датафрейму в качестве индексов названия регионов:\n",
    "best_200_data.index = ['Регион geo_0', 'Регион geo_1', 'Регион geo_2']\n",
    "\n",
    "best_200_data"
   ]
  },
  {
   "cell_type": "markdown",
   "metadata": {},
   "source": [
    "Так, наибольший суммарный предсказанный запас сырья по наиболее перспективным скважинам отмечен для региона geo_0 - почти 31 миллион баррелей, и, соответственно, в этом случае и предсказанная прибыль наибольшая - около 3.9 миллиардов рублей. Наихудшие показатели отмечены для региона geo_1 с предсказаниями в почти 28 миллионами баррелей нефти и 2.5 миллиардами рублей прибыли.\n",
    "\n",
    "Посчитаем риски и прибыль для каждого региона. Применим технику Bootstrap с 1000 выборок, чтобы найти распределение прибыли. Найдём среднюю прибыль, 95%-й доверительный интервал и риск убытков. Убыток — это отрицательная прибыль.\n",
    "\n",
    "Для этого создадим функцию распределения прибыли income_dist:"
   ]
  },
  {
   "cell_type": "code",
   "execution_count": 63,
   "metadata": {},
   "outputs": [],
   "source": [
    "#Создадим объект RandomState() из модуля numpy.random:\n",
    "state = np.random.RandomState(12345)\n",
    "\n",
    "#Определим функцию income_dist:\n",
    "def income_dist(y_val, y_val_pred):\n",
    "\n",
    "#Сделаем предсказания модели на валидационной выборке объектом Series:\n",
    "    y_val_pred = pd.Series(y_val_pred, index=y_val.index)\n",
    "\n",
    "#Создадим пустой список values, куда будут передаваться значения прибыли,\\\n",
    "#а также зададим переменную risk, которая в начале будет равна нулю: \n",
    "    values = []\n",
    "    risk = 0\n",
    "#Применим технику bootstrap с 1000 подвыборок для расчёта распределения прибыли:\n",
    "    for i in range(1000):\n",
    "        target_subsample = y_val.sample(n=n, replace=True, random_state=state)\n",
    "        probs_subsample = y_val_pred[target_subsample.index]\n",
    "        res = income(target_subsample, probs_subsample, k)\n",
    "        values.append(res)\n",
    "#В рамках каждой из 1000 итераций к переменной risk будем прибавлять 1,\\\n",
    "#если прибыль получилась отрицательной        \n",
    "        if res < 0:\n",
    "            risk += 1\n",
    "#Сделаем список values объектом Series:        \n",
    "    values = pd.Series(values)\n",
    "#Рассчитаем среднюю прибыль, нижний и верхний пределы доверительного интервала и риск убытков:    \n",
    "    mean = round(values.mean() / 1000000, 3)\n",
    "    lower = round(values.quantile(0.025) / 1000000, 3)\n",
    "    upper = round(values.quantile(0.975) / 1000000, 3)\n",
    "    risk_rel = risk / 1000 * 100\n",
    "    \n",
    "#Вернём список рассчитанных величин:\n",
    "    return [mean, lower, upper, risk_rel]"
   ]
  },
  {
   "cell_type": "markdown",
   "metadata": {},
   "source": [
    "Подставим в эту функцию величины для каждого региона и создадим таблицу profit_data с результатами работы функции income_dist:"
   ]
  },
  {
   "cell_type": "code",
   "execution_count": 64,
   "metadata": {},
   "outputs": [
    {
     "data": {
      "text/html": [
       "<div>\n",
       "<style scoped>\n",
       "    .dataframe tbody tr th:only-of-type {\n",
       "        vertical-align: middle;\n",
       "    }\n",
       "\n",
       "    .dataframe tbody tr th {\n",
       "        vertical-align: top;\n",
       "    }\n",
       "\n",
       "    .dataframe thead th {\n",
       "        text-align: right;\n",
       "    }\n",
       "</style>\n",
       "<table border=\"1\" class=\"dataframe\">\n",
       "  <thead>\n",
       "    <tr style=\"text-align: right;\">\n",
       "      <th></th>\n",
       "      <th>Средняя предсказанная прибыль, млн. руб.</th>\n",
       "      <th>Нижняя граница дов. интервала, млн. руб.</th>\n",
       "      <th>Верхняя граница дов. интервала, млн. руб.</th>\n",
       "      <th>Риск убытков, %</th>\n",
       "    </tr>\n",
       "  </thead>\n",
       "  <tbody>\n",
       "    <tr>\n",
       "      <th>Регион geo_0</th>\n",
       "      <td>435.934</td>\n",
       "      <td>-116.232</td>\n",
       "      <td>966.504</td>\n",
       "      <td>6.1</td>\n",
       "    </tr>\n",
       "    <tr>\n",
       "      <th>Регион geo_1</th>\n",
       "      <td>498.569</td>\n",
       "      <td>75.316</td>\n",
       "      <td>911.504</td>\n",
       "      <td>1.0</td>\n",
       "    </tr>\n",
       "    <tr>\n",
       "      <th>Регион geo_2</th>\n",
       "      <td>412.673</td>\n",
       "      <td>-158.940</td>\n",
       "      <td>978.191</td>\n",
       "      <td>7.0</td>\n",
       "    </tr>\n",
       "  </tbody>\n",
       "</table>\n",
       "</div>"
      ],
      "text/plain": [
       "              Средняя предсказанная прибыль, млн. руб.  \\\n",
       "Регион geo_0                                   435.934   \n",
       "Регион geo_1                                   498.569   \n",
       "Регион geo_2                                   412.673   \n",
       "\n",
       "              Нижняя граница дов. интервала, млн. руб.  \\\n",
       "Регион geo_0                                  -116.232   \n",
       "Регион geo_1                                    75.316   \n",
       "Регион geo_2                                  -158.940   \n",
       "\n",
       "              Верхняя граница дов. интервала, млн. руб.  Риск убытков, %  \n",
       "Регион geo_0                                    966.504              6.1  \n",
       "Регион geo_1                                    911.504              1.0  \n",
       "Регион geo_2                                    978.191              7.0  "
      ]
     },
     "execution_count": 64,
     "metadata": {},
     "output_type": "execute_result"
    }
   ],
   "source": [
    "#Создадим список с названиями колонок будущей таблицы:\n",
    "cols = [\n",
    "    'Средняя предсказанная прибыль, млн. руб.',\n",
    "    'Нижняя граница дов. интервала, млн. руб.',\n",
    "    'Верхняя граница дов. интервала, млн. руб.',\n",
    "    'Риск убытков, %'\n",
    "]\n",
    "\n",
    "#Создадим список списков с величинами, которые будут в таблице:\n",
    "avg_profit = [\n",
    "    income_dist(y_val_0, y_val_pred_0),\n",
    "    income_dist(y_val_1, y_val_pred_1),\n",
    "    income_dist(y_val_2, y_val_pred_2)\n",
    "]\n",
    "\n",
    "#Создадим датафрейм:\n",
    "profit_data = pd.DataFrame(data=avg_profit, columns=cols)\n",
    "\n",
    "#Передадим датафрейму в качестве индексов названия регионов:\n",
    "profit_data.index = ['Регион geo_0', 'Регион geo_1', 'Регион geo_2']\n",
    "\n",
    "profit_data"
   ]
  },
  {
   "cell_type": "markdown",
   "metadata": {},
   "source": [
    "*Таким образом, на основании полученных результатов можно сказать, что для разработки скважин наиболее целесообразно выбрать **регион geo_1**, где средняя прибыль по 200 наиболее перспективным скважинам предсказывается на уровне почти 500 миллионов рублей с наименьшим доверительным интервалом из рассчитанных: от 75 до 911 миллионов рублей. При этом риск убытков для этого региона оценивается на уровне 1.0 %, что укладывается в 2.5 % рисков по условию задачи.*"
   ]
  }
 ],
 "metadata": {
  "ExecuteTimeLog": [
   {
    "duration": 13727,
    "start_time": "2023-12-11T04:11:41.263Z"
   },
   {
    "duration": 2200,
    "start_time": "2023-12-11T04:11:54.992Z"
   },
   {
    "duration": 647,
    "start_time": "2023-12-11T04:11:57.194Z"
   },
   {
    "duration": 13,
    "start_time": "2023-12-11T04:11:57.842Z"
   },
   {
    "duration": 8,
    "start_time": "2023-12-11T04:11:57.856Z"
   },
   {
    "duration": 14,
    "start_time": "2023-12-11T04:11:57.865Z"
   },
   {
    "duration": 2,
    "start_time": "2023-12-11T04:14:11.509Z"
   },
   {
    "duration": 2,
    "start_time": "2023-12-11T04:14:12.339Z"
   },
   {
    "duration": 16,
    "start_time": "2023-12-11T04:14:12.934Z"
   },
   {
    "duration": 41,
    "start_time": "2023-12-11T04:14:13.419Z"
   },
   {
    "duration": 43,
    "start_time": "2023-12-11T04:14:20.304Z"
   },
   {
    "duration": 16,
    "start_time": "2023-12-11T04:14:20.959Z"
   },
   {
    "duration": 40,
    "start_time": "2023-12-11T04:14:24.519Z"
   },
   {
    "duration": 15,
    "start_time": "2023-12-11T04:14:25.879Z"
   },
   {
    "duration": 41,
    "start_time": "2023-12-11T04:14:26.463Z"
   },
   {
    "duration": 36,
    "start_time": "2023-12-11T04:15:00.464Z"
   },
   {
    "duration": 18,
    "start_time": "2023-12-11T04:15:16.545Z"
   },
   {
    "duration": 46,
    "start_time": "2023-12-11T04:15:24.679Z"
   },
   {
    "duration": 36,
    "start_time": "2023-12-11T04:15:44.959Z"
   },
   {
    "duration": 34,
    "start_time": "2023-12-11T04:15:48.359Z"
   },
   {
    "duration": 14,
    "start_time": "2023-12-11T04:16:14.679Z"
   },
   {
    "duration": 10,
    "start_time": "2023-12-11T04:16:28.339Z"
   },
   {
    "duration": 160,
    "start_time": "2023-12-11T04:16:58.339Z"
   },
   {
    "duration": 20,
    "start_time": "2023-12-11T04:17:05.554Z"
   },
   {
    "duration": 42,
    "start_time": "2023-12-11T04:17:37.984Z"
   },
   {
    "duration": 41,
    "start_time": "2023-12-11T04:17:47.743Z"
   },
   {
    "duration": 8163,
    "start_time": "2023-12-11T04:19:01.024Z"
   },
   {
    "duration": 2169,
    "start_time": "2023-12-11T04:19:09.190Z"
   },
   {
    "duration": 318,
    "start_time": "2023-12-11T04:19:11.360Z"
   },
   {
    "duration": 13,
    "start_time": "2023-12-11T04:19:11.680Z"
   },
   {
    "duration": 27,
    "start_time": "2023-12-11T04:19:11.694Z"
   },
   {
    "duration": 16,
    "start_time": "2023-12-11T04:19:11.723Z"
   },
   {
    "duration": 3,
    "start_time": "2023-12-11T04:19:11.741Z"
   },
   {
    "duration": 4,
    "start_time": "2023-12-11T04:19:11.745Z"
   },
   {
    "duration": 27,
    "start_time": "2023-12-11T04:19:11.750Z"
   },
   {
    "duration": 53,
    "start_time": "2023-12-11T04:19:11.780Z"
   },
   {
    "duration": 13,
    "start_time": "2023-12-11T04:19:11.835Z"
   },
   {
    "duration": 44,
    "start_time": "2023-12-11T04:19:11.849Z"
   },
   {
    "duration": 17,
    "start_time": "2023-12-11T04:19:11.894Z"
   },
   {
    "duration": 39,
    "start_time": "2023-12-11T04:19:11.913Z"
   },
   {
    "duration": 18,
    "start_time": "2023-12-11T04:19:11.953Z"
   },
   {
    "duration": 59,
    "start_time": "2023-12-11T04:19:11.973Z"
   },
   {
    "duration": 34,
    "start_time": "2023-12-11T04:19:48.964Z"
   },
   {
    "duration": 1055,
    "start_time": "2023-12-11T04:20:10.979Z"
   },
   {
    "duration": 1120,
    "start_time": "2023-12-11T04:20:22.439Z"
   },
   {
    "duration": 17,
    "start_time": "2023-12-11T04:20:30.439Z"
   },
   {
    "duration": 915,
    "start_time": "2023-12-11T04:21:08.409Z"
   },
   {
    "duration": 7763,
    "start_time": "2023-12-11T04:21:23.379Z"
   },
   {
    "duration": 2000,
    "start_time": "2023-12-11T04:21:31.144Z"
   },
   {
    "duration": 349,
    "start_time": "2023-12-11T04:21:33.145Z"
   },
   {
    "duration": 12,
    "start_time": "2023-12-11T04:21:33.496Z"
   },
   {
    "duration": 10,
    "start_time": "2023-12-11T04:21:33.510Z"
   },
   {
    "duration": 14,
    "start_time": "2023-12-11T04:21:33.521Z"
   },
   {
    "duration": 3,
    "start_time": "2023-12-11T04:21:33.536Z"
   },
   {
    "duration": 6,
    "start_time": "2023-12-11T04:21:33.540Z"
   },
   {
    "duration": 18,
    "start_time": "2023-12-11T04:21:33.547Z"
   },
   {
    "duration": 58,
    "start_time": "2023-12-11T04:21:33.567Z"
   },
   {
    "duration": 35,
    "start_time": "2023-12-11T04:21:33.627Z"
   },
   {
    "duration": 13,
    "start_time": "2023-12-11T04:21:33.663Z"
   },
   {
    "duration": 33,
    "start_time": "2023-12-11T04:21:33.824Z"
   },
   {
    "duration": 84,
    "start_time": "2023-12-11T04:22:00.059Z"
   },
   {
    "duration": 11,
    "start_time": "2023-12-11T04:22:08.394Z"
   },
   {
    "duration": 14,
    "start_time": "2023-12-11T04:23:45.919Z"
   },
   {
    "duration": 2,
    "start_time": "2023-12-11T04:23:46.279Z"
   },
   {
    "duration": 16,
    "start_time": "2023-12-11T04:23:46.879Z"
   },
   {
    "duration": 39,
    "start_time": "2023-12-11T04:23:48.759Z"
   },
   {
    "duration": 33,
    "start_time": "2023-12-11T04:23:50.135Z"
   },
   {
    "duration": 16,
    "start_time": "2023-12-11T04:23:54.859Z"
   },
   {
    "duration": 40,
    "start_time": "2023-12-11T04:23:55.999Z"
   },
   {
    "duration": 33,
    "start_time": "2023-12-11T04:23:57.289Z"
   },
   {
    "duration": 7750,
    "start_time": "2023-12-11T04:28:21.794Z"
   },
   {
    "duration": 2087,
    "start_time": "2023-12-11T04:28:29.546Z"
   },
   {
    "duration": 85,
    "start_time": "2023-12-11T04:28:31.634Z"
   },
   {
    "duration": 0,
    "start_time": "2023-12-11T04:28:31.721Z"
   },
   {
    "duration": 0,
    "start_time": "2023-12-11T04:28:31.722Z"
   },
   {
    "duration": 0,
    "start_time": "2023-12-11T04:28:31.723Z"
   },
   {
    "duration": 1,
    "start_time": "2023-12-11T04:28:31.723Z"
   },
   {
    "duration": 0,
    "start_time": "2023-12-11T04:28:31.724Z"
   },
   {
    "duration": 0,
    "start_time": "2023-12-11T04:28:31.725Z"
   },
   {
    "duration": 0,
    "start_time": "2023-12-11T04:28:31.726Z"
   },
   {
    "duration": 0,
    "start_time": "2023-12-11T04:28:31.727Z"
   },
   {
    "duration": 0,
    "start_time": "2023-12-11T04:28:31.728Z"
   },
   {
    "duration": 0,
    "start_time": "2023-12-11T04:28:31.729Z"
   },
   {
    "duration": 0,
    "start_time": "2023-12-11T04:28:31.731Z"
   },
   {
    "duration": 0,
    "start_time": "2023-12-11T04:28:31.732Z"
   },
   {
    "duration": 0,
    "start_time": "2023-12-11T04:28:31.733Z"
   },
   {
    "duration": 0,
    "start_time": "2023-12-11T04:28:31.734Z"
   },
   {
    "duration": 0,
    "start_time": "2023-12-11T04:28:31.735Z"
   },
   {
    "duration": 0,
    "start_time": "2023-12-11T04:28:31.736Z"
   },
   {
    "duration": 0,
    "start_time": "2023-12-11T04:28:31.737Z"
   },
   {
    "duration": 334,
    "start_time": "2023-12-11T04:28:40.599Z"
   },
   {
    "duration": 12,
    "start_time": "2023-12-11T04:28:41.778Z"
   },
   {
    "duration": 8,
    "start_time": "2023-12-11T04:28:42.384Z"
   },
   {
    "duration": 8,
    "start_time": "2023-12-11T04:28:43.698Z"
   },
   {
    "duration": 2,
    "start_time": "2023-12-11T04:28:45.358Z"
   },
   {
    "duration": 3,
    "start_time": "2023-12-11T04:28:46.799Z"
   },
   {
    "duration": 15,
    "start_time": "2023-12-11T04:28:47.138Z"
   },
   {
    "duration": 27,
    "start_time": "2023-12-11T04:28:49.139Z"
   },
   {
    "duration": 27,
    "start_time": "2023-12-11T04:28:50.273Z"
   },
   {
    "duration": 1249,
    "start_time": "2023-12-11T04:28:51.959Z"
   },
   {
    "duration": 12,
    "start_time": "2023-12-11T04:29:00.439Z"
   },
   {
    "duration": 24,
    "start_time": "2023-12-11T04:29:01.208Z"
   },
   {
    "duration": 21,
    "start_time": "2023-12-11T04:29:01.994Z"
   },
   {
    "duration": 4,
    "start_time": "2023-12-11T04:30:00.254Z"
   },
   {
    "duration": 13,
    "start_time": "2023-12-11T04:30:06.789Z"
   },
   {
    "duration": 25,
    "start_time": "2023-12-11T04:30:07.734Z"
   },
   {
    "duration": 23,
    "start_time": "2023-12-11T04:30:08.954Z"
   },
   {
    "duration": 30,
    "start_time": "2023-12-11T04:30:46.869Z"
   },
   {
    "duration": 176,
    "start_time": "2023-12-11T04:32:57.119Z"
   },
   {
    "duration": 86,
    "start_time": "2023-12-11T04:33:37.743Z"
   },
   {
    "duration": 154,
    "start_time": "2023-12-11T04:33:52.458Z"
   },
   {
    "duration": 158,
    "start_time": "2023-12-11T04:34:06.783Z"
   },
   {
    "duration": 78,
    "start_time": "2023-12-11T04:34:10.858Z"
   },
   {
    "duration": 167,
    "start_time": "2023-12-11T04:34:43.259Z"
   },
   {
    "duration": 85,
    "start_time": "2023-12-11T04:34:55.488Z"
   },
   {
    "duration": 82,
    "start_time": "2023-12-11T04:35:46.027Z"
   },
   {
    "duration": 162,
    "start_time": "2023-12-11T04:36:26.603Z"
   },
   {
    "duration": 30,
    "start_time": "2023-12-11T04:36:50.758Z"
   },
   {
    "duration": 235,
    "start_time": "2023-12-11T04:37:12.589Z"
   },
   {
    "duration": 81,
    "start_time": "2023-12-11T04:37:29.938Z"
   },
   {
    "duration": 156,
    "start_time": "2023-12-11T04:37:47.578Z"
   },
   {
    "duration": 73,
    "start_time": "2023-12-11T04:38:06.438Z"
   },
   {
    "duration": 163,
    "start_time": "2023-12-11T04:38:25.053Z"
   },
   {
    "duration": 172,
    "start_time": "2023-12-11T04:39:39.048Z"
   },
   {
    "duration": 7835,
    "start_time": "2023-12-11T04:40:12.838Z"
   },
   {
    "duration": 2033,
    "start_time": "2023-12-11T04:40:20.675Z"
   },
   {
    "duration": 336,
    "start_time": "2023-12-11T04:40:22.709Z"
   },
   {
    "duration": 12,
    "start_time": "2023-12-11T04:40:23.047Z"
   },
   {
    "duration": 10,
    "start_time": "2023-12-11T04:40:23.060Z"
   },
   {
    "duration": 20,
    "start_time": "2023-12-11T04:40:23.071Z"
   },
   {
    "duration": 7,
    "start_time": "2023-12-11T04:40:23.092Z"
   },
   {
    "duration": 4,
    "start_time": "2023-12-11T04:40:23.100Z"
   },
   {
    "duration": 16,
    "start_time": "2023-12-11T04:40:23.105Z"
   },
   {
    "duration": 27,
    "start_time": "2023-12-11T04:40:23.123Z"
   },
   {
    "duration": 24,
    "start_time": "2023-12-11T04:40:23.151Z"
   },
   {
    "duration": 12,
    "start_time": "2023-12-11T04:40:23.177Z"
   },
   {
    "duration": 42,
    "start_time": "2023-12-11T04:40:23.190Z"
   },
   {
    "duration": 23,
    "start_time": "2023-12-11T04:40:23.234Z"
   },
   {
    "duration": 4,
    "start_time": "2023-12-11T04:40:23.259Z"
   },
   {
    "duration": 64,
    "start_time": "2023-12-11T04:40:23.265Z"
   },
   {
    "duration": 26,
    "start_time": "2023-12-11T04:40:23.330Z"
   },
   {
    "duration": 62,
    "start_time": "2023-12-11T04:40:23.358Z"
   },
   {
    "duration": 29,
    "start_time": "2023-12-11T04:40:23.422Z"
   },
   {
    "duration": 194,
    "start_time": "2023-12-11T04:40:23.452Z"
   },
   {
    "duration": 91,
    "start_time": "2023-12-11T04:40:23.648Z"
   },
   {
    "duration": 158,
    "start_time": "2023-12-11T04:40:23.741Z"
   },
   {
    "duration": 77,
    "start_time": "2023-12-11T04:40:23.900Z"
   },
   {
    "duration": 167,
    "start_time": "2023-12-11T04:40:23.978Z"
   },
   {
    "duration": 83,
    "start_time": "2023-12-11T04:40:24.146Z"
   },
   {
    "duration": 173,
    "start_time": "2023-12-11T04:40:24.230Z"
   },
   {
    "duration": 91,
    "start_time": "2023-12-11T04:40:24.404Z"
   },
   {
    "duration": 36,
    "start_time": "2023-12-11T04:40:24.497Z"
   },
   {
    "duration": 161,
    "start_time": "2023-12-11T04:40:24.534Z"
   },
   {
    "duration": 171,
    "start_time": "2023-12-11T04:40:24.696Z"
   },
   {
    "duration": 160,
    "start_time": "2023-12-11T04:40:24.869Z"
   },
   {
    "duration": 72,
    "start_time": "2023-12-11T04:40:25.030Z"
   },
   {
    "duration": 181,
    "start_time": "2023-12-11T04:40:25.103Z"
   },
   {
    "duration": 7639,
    "start_time": "2023-12-11T04:42:55.139Z"
   },
   {
    "duration": 1993,
    "start_time": "2023-12-11T04:43:02.780Z"
   },
   {
    "duration": 340,
    "start_time": "2023-12-11T04:43:04.774Z"
   },
   {
    "duration": 13,
    "start_time": "2023-12-11T04:43:05.117Z"
   },
   {
    "duration": 14,
    "start_time": "2023-12-11T04:43:05.130Z"
   },
   {
    "duration": 11,
    "start_time": "2023-12-11T04:43:05.145Z"
   },
   {
    "duration": 4,
    "start_time": "2023-12-11T04:43:05.157Z"
   },
   {
    "duration": 4,
    "start_time": "2023-12-11T04:43:05.163Z"
   },
   {
    "duration": 17,
    "start_time": "2023-12-11T04:43:05.168Z"
   },
   {
    "duration": 48,
    "start_time": "2023-12-11T04:43:05.188Z"
   },
   {
    "duration": 24,
    "start_time": "2023-12-11T04:43:05.237Z"
   },
   {
    "duration": 12,
    "start_time": "2023-12-11T04:43:05.262Z"
   },
   {
    "duration": 21,
    "start_time": "2023-12-11T04:43:05.275Z"
   },
   {
    "duration": 22,
    "start_time": "2023-12-11T04:43:05.315Z"
   },
   {
    "duration": 5,
    "start_time": "2023-12-11T04:43:05.339Z"
   },
   {
    "duration": 39,
    "start_time": "2023-12-11T04:43:05.346Z"
   },
   {
    "duration": 38,
    "start_time": "2023-12-11T04:43:05.386Z"
   },
   {
    "duration": 25,
    "start_time": "2023-12-11T04:43:05.425Z"
   },
   {
    "duration": 31,
    "start_time": "2023-12-11T04:43:05.451Z"
   },
   {
    "duration": 200,
    "start_time": "2023-12-11T04:43:05.483Z"
   },
   {
    "duration": 90,
    "start_time": "2023-12-11T04:43:05.684Z"
   },
   {
    "duration": 164,
    "start_time": "2023-12-11T04:43:05.775Z"
   },
   {
    "duration": 75,
    "start_time": "2023-12-11T04:43:05.941Z"
   },
   {
    "duration": 159,
    "start_time": "2023-12-11T04:43:06.018Z"
   },
   {
    "duration": 85,
    "start_time": "2023-12-11T04:43:06.178Z"
   },
   {
    "duration": 173,
    "start_time": "2023-12-11T04:43:06.265Z"
   },
   {
    "duration": 90,
    "start_time": "2023-12-11T04:43:06.440Z"
   },
   {
    "duration": 30,
    "start_time": "2023-12-11T04:43:06.533Z"
   },
   {
    "duration": 169,
    "start_time": "2023-12-11T04:43:06.565Z"
   },
   {
    "duration": 175,
    "start_time": "2023-12-11T04:43:06.735Z"
   },
   {
    "duration": 161,
    "start_time": "2023-12-11T04:43:06.912Z"
   },
   {
    "duration": 81,
    "start_time": "2023-12-11T04:43:07.074Z"
   },
   {
    "duration": 167,
    "start_time": "2023-12-11T04:43:07.156Z"
   },
   {
    "duration": 72,
    "start_time": "2023-12-11T04:43:07.325Z"
   },
   {
    "duration": 174,
    "start_time": "2023-12-11T04:43:30.699Z"
   },
   {
    "duration": 153,
    "start_time": "2023-12-11T04:43:55.958Z"
   },
   {
    "duration": 171,
    "start_time": "2023-12-11T04:44:08.669Z"
   },
   {
    "duration": 178,
    "start_time": "2023-12-11T04:44:17.434Z"
   },
   {
    "duration": 175,
    "start_time": "2023-12-11T04:44:28.523Z"
   },
   {
    "duration": 176,
    "start_time": "2023-12-11T04:45:26.203Z"
   },
   {
    "duration": 87,
    "start_time": "2023-12-11T04:45:36.124Z"
   },
   {
    "duration": 223,
    "start_time": "2023-12-11T04:46:04.524Z"
   },
   {
    "duration": 288,
    "start_time": "2023-12-11T04:46:10.134Z"
   },
   {
    "duration": 169,
    "start_time": "2023-12-11T04:46:19.089Z"
   },
   {
    "duration": 31,
    "start_time": "2023-12-11T04:46:40.308Z"
   },
   {
    "duration": 164,
    "start_time": "2023-12-11T04:49:03.409Z"
   },
   {
    "duration": 89,
    "start_time": "2023-12-11T04:49:05.039Z"
   },
   {
    "duration": 165,
    "start_time": "2023-12-11T04:49:06.079Z"
   },
   {
    "duration": 77,
    "start_time": "2023-12-11T04:49:06.984Z"
   },
   {
    "duration": 154,
    "start_time": "2023-12-11T04:49:07.804Z"
   },
   {
    "duration": 73,
    "start_time": "2023-12-11T04:49:08.738Z"
   },
   {
    "duration": 165,
    "start_time": "2023-12-11T04:49:09.523Z"
   },
   {
    "duration": 83,
    "start_time": "2023-12-11T04:49:11.589Z"
   },
   {
    "duration": 167,
    "start_time": "2023-12-11T04:49:39.219Z"
   },
   {
    "duration": 516,
    "start_time": "2023-12-11T04:50:20.463Z"
   },
   {
    "duration": 511,
    "start_time": "2023-12-11T04:50:30.545Z"
   },
   {
    "duration": 8192,
    "start_time": "2023-12-11T04:51:56.693Z"
   },
   {
    "duration": 2092,
    "start_time": "2023-12-11T04:52:04.887Z"
   },
   {
    "duration": 333,
    "start_time": "2023-12-11T04:52:06.980Z"
   },
   {
    "duration": 14,
    "start_time": "2023-12-11T04:52:07.315Z"
   },
   {
    "duration": 12,
    "start_time": "2023-12-11T04:52:07.330Z"
   },
   {
    "duration": 10,
    "start_time": "2023-12-11T04:52:07.343Z"
   },
   {
    "duration": 5,
    "start_time": "2023-12-11T04:52:07.355Z"
   },
   {
    "duration": 4,
    "start_time": "2023-12-11T04:52:07.361Z"
   },
   {
    "duration": 20,
    "start_time": "2023-12-11T04:52:07.366Z"
   },
   {
    "duration": 48,
    "start_time": "2023-12-11T04:52:07.388Z"
   },
   {
    "duration": 23,
    "start_time": "2023-12-11T04:52:07.437Z"
   },
   {
    "duration": 12,
    "start_time": "2023-12-11T04:52:07.461Z"
   },
   {
    "duration": 20,
    "start_time": "2023-12-11T04:52:07.474Z"
   },
   {
    "duration": 38,
    "start_time": "2023-12-11T04:52:07.495Z"
   },
   {
    "duration": 5,
    "start_time": "2023-12-11T04:52:07.535Z"
   },
   {
    "duration": 12,
    "start_time": "2023-12-11T04:52:07.541Z"
   },
   {
    "duration": 25,
    "start_time": "2023-12-11T04:52:07.555Z"
   },
   {
    "duration": 50,
    "start_time": "2023-12-11T04:52:07.582Z"
   },
   {
    "duration": 30,
    "start_time": "2023-12-11T04:52:07.633Z"
   },
   {
    "duration": 210,
    "start_time": "2023-12-11T04:52:07.665Z"
   },
   {
    "duration": 91,
    "start_time": "2023-12-11T04:52:07.876Z"
   },
   {
    "duration": 160,
    "start_time": "2023-12-11T04:52:07.968Z"
   },
   {
    "duration": 70,
    "start_time": "2023-12-11T04:52:08.129Z"
   },
   {
    "duration": 165,
    "start_time": "2023-12-11T04:52:08.200Z"
   },
   {
    "duration": 82,
    "start_time": "2023-12-11T04:52:08.367Z"
   },
   {
    "duration": 171,
    "start_time": "2023-12-11T04:52:08.450Z"
   },
   {
    "duration": 80,
    "start_time": "2023-12-11T04:52:08.623Z"
   },
   {
    "duration": 478,
    "start_time": "2023-12-11T04:52:08.706Z"
   },
   {
    "duration": 41,
    "start_time": "2023-12-11T04:52:09.185Z"
   },
   {
    "duration": 151,
    "start_time": "2023-12-11T04:52:09.227Z"
   },
   {
    "duration": 169,
    "start_time": "2023-12-11T04:52:09.379Z"
   },
   {
    "duration": 154,
    "start_time": "2023-12-11T04:52:09.549Z"
   },
   {
    "duration": 70,
    "start_time": "2023-12-11T04:52:09.704Z"
   },
   {
    "duration": 165,
    "start_time": "2023-12-11T04:52:09.776Z"
   },
   {
    "duration": 79,
    "start_time": "2023-12-11T04:52:09.942Z"
   },
   {
    "duration": 178,
    "start_time": "2023-12-11T04:52:10.022Z"
   },
   {
    "duration": 194,
    "start_time": "2023-12-11T04:52:10.202Z"
   },
   {
    "duration": 95,
    "start_time": "2023-12-11T04:52:10.398Z"
   },
   {
    "duration": 32993,
    "start_time": "2023-12-11T04:52:10.495Z"
   },
   {
    "duration": 40,
    "start_time": "2023-12-11T04:52:43.489Z"
   },
   {
    "duration": 182,
    "start_time": "2023-12-11T04:52:43.530Z"
   },
   {
    "duration": 81,
    "start_time": "2023-12-11T04:52:43.715Z"
   },
   {
    "duration": 171,
    "start_time": "2023-12-11T04:52:43.798Z"
   },
   {
    "duration": 84,
    "start_time": "2023-12-11T04:52:43.970Z"
   },
   {
    "duration": 160,
    "start_time": "2023-12-11T04:52:44.056Z"
   },
   {
    "duration": 74,
    "start_time": "2023-12-11T04:52:44.218Z"
   },
   {
    "duration": 174,
    "start_time": "2023-12-11T04:52:44.294Z"
   },
   {
    "duration": 89,
    "start_time": "2023-12-11T04:52:44.469Z"
   },
   {
    "duration": 508,
    "start_time": "2023-12-11T04:52:44.560Z"
   },
   {
    "duration": 7731,
    "start_time": "2023-12-11T05:05:12.523Z"
   },
   {
    "duration": 2034,
    "start_time": "2023-12-11T05:05:20.256Z"
   },
   {
    "duration": 344,
    "start_time": "2023-12-11T05:05:22.291Z"
   },
   {
    "duration": 12,
    "start_time": "2023-12-11T05:05:22.637Z"
   },
   {
    "duration": 10,
    "start_time": "2023-12-11T05:05:22.650Z"
   },
   {
    "duration": 11,
    "start_time": "2023-12-11T05:05:22.661Z"
   },
   {
    "duration": 7,
    "start_time": "2023-12-11T05:05:22.673Z"
   },
   {
    "duration": 3,
    "start_time": "2023-12-11T05:05:22.681Z"
   },
   {
    "duration": 31,
    "start_time": "2023-12-11T05:05:22.685Z"
   },
   {
    "duration": 27,
    "start_time": "2023-12-11T05:05:22.718Z"
   },
   {
    "duration": 24,
    "start_time": "2023-12-11T05:05:22.747Z"
   },
   {
    "duration": 11,
    "start_time": "2023-12-11T05:05:22.773Z"
   },
   {
    "duration": 46,
    "start_time": "2023-12-11T05:05:22.786Z"
   },
   {
    "duration": 20,
    "start_time": "2023-12-11T05:05:22.834Z"
   },
   {
    "duration": 4,
    "start_time": "2023-12-11T05:05:22.855Z"
   },
   {
    "duration": 15,
    "start_time": "2023-12-11T05:05:22.860Z"
   },
   {
    "duration": 43,
    "start_time": "2023-12-11T05:05:22.876Z"
   },
   {
    "duration": 23,
    "start_time": "2023-12-11T05:05:22.920Z"
   },
   {
    "duration": 30,
    "start_time": "2023-12-11T05:05:22.944Z"
   },
   {
    "duration": 224,
    "start_time": "2023-12-11T05:05:22.975Z"
   },
   {
    "duration": 91,
    "start_time": "2023-12-11T05:05:23.201Z"
   },
   {
    "duration": 158,
    "start_time": "2023-12-11T05:05:23.293Z"
   },
   {
    "duration": 77,
    "start_time": "2023-12-11T05:05:23.452Z"
   },
   {
    "duration": 160,
    "start_time": "2023-12-11T05:05:23.530Z"
   },
   {
    "duration": 85,
    "start_time": "2023-12-11T05:05:23.691Z"
   },
   {
    "duration": 166,
    "start_time": "2023-12-11T05:05:23.777Z"
   },
   {
    "duration": 94,
    "start_time": "2023-12-11T05:05:23.944Z"
   },
   {
    "duration": 522,
    "start_time": "2023-12-11T05:05:24.041Z"
   },
   {
    "duration": 31,
    "start_time": "2023-12-11T05:05:24.564Z"
   },
   {
    "duration": 173,
    "start_time": "2023-12-11T05:05:24.596Z"
   },
   {
    "duration": 171,
    "start_time": "2023-12-11T05:05:24.771Z"
   },
   {
    "duration": 159,
    "start_time": "2023-12-11T05:05:24.943Z"
   },
   {
    "duration": 82,
    "start_time": "2023-12-11T05:05:25.103Z"
   },
   {
    "duration": 179,
    "start_time": "2023-12-11T05:05:25.186Z"
   },
   {
    "duration": 79,
    "start_time": "2023-12-11T05:05:25.366Z"
   },
   {
    "duration": 176,
    "start_time": "2023-12-11T05:05:25.446Z"
   },
   {
    "duration": 171,
    "start_time": "2023-12-11T05:05:25.623Z"
   },
   {
    "duration": 90,
    "start_time": "2023-12-11T05:05:25.795Z"
   },
   {
    "duration": 32109,
    "start_time": "2023-12-11T05:05:25.887Z"
   },
   {
    "duration": 40,
    "start_time": "2023-12-11T05:05:57.997Z"
   },
   {
    "duration": 169,
    "start_time": "2023-12-11T05:05:58.038Z"
   },
   {
    "duration": 86,
    "start_time": "2023-12-11T05:05:58.208Z"
   },
   {
    "duration": 172,
    "start_time": "2023-12-11T05:05:58.296Z"
   },
   {
    "duration": 84,
    "start_time": "2023-12-11T05:05:58.470Z"
   },
   {
    "duration": 156,
    "start_time": "2023-12-11T05:05:58.555Z"
   },
   {
    "duration": 75,
    "start_time": "2023-12-11T05:05:58.712Z"
   },
   {
    "duration": 182,
    "start_time": "2023-12-11T05:05:58.788Z"
   },
   {
    "duration": 94,
    "start_time": "2023-12-11T05:05:58.971Z"
   },
   {
    "duration": 502,
    "start_time": "2023-12-11T05:05:59.066Z"
   },
   {
    "duration": 2,
    "start_time": "2023-12-11T05:05:59.569Z"
   },
   {
    "duration": 160,
    "start_time": "2023-12-11T05:05:59.572Z"
   },
   {
    "duration": 7799,
    "start_time": "2023-12-11T05:06:31.259Z"
   },
   {
    "duration": 2032,
    "start_time": "2023-12-11T05:06:39.060Z"
   },
   {
    "duration": 332,
    "start_time": "2023-12-11T05:06:41.093Z"
   },
   {
    "duration": 12,
    "start_time": "2023-12-11T05:06:41.426Z"
   },
   {
    "duration": 7,
    "start_time": "2023-12-11T05:06:41.440Z"
   },
   {
    "duration": 10,
    "start_time": "2023-12-11T05:06:41.448Z"
   },
   {
    "duration": 5,
    "start_time": "2023-12-11T05:06:41.459Z"
   },
   {
    "duration": 5,
    "start_time": "2023-12-11T05:06:41.466Z"
   },
   {
    "duration": 15,
    "start_time": "2023-12-11T05:06:41.472Z"
   },
   {
    "duration": 44,
    "start_time": "2023-12-11T05:06:41.488Z"
   },
   {
    "duration": 23,
    "start_time": "2023-12-11T05:06:41.533Z"
   },
   {
    "duration": 12,
    "start_time": "2023-12-11T05:06:41.557Z"
   },
   {
    "duration": 18,
    "start_time": "2023-12-11T05:06:41.570Z"
   },
   {
    "duration": 38,
    "start_time": "2023-12-11T05:06:41.590Z"
   },
   {
    "duration": 4,
    "start_time": "2023-12-11T05:06:41.629Z"
   },
   {
    "duration": 13,
    "start_time": "2023-12-11T05:06:41.634Z"
   },
   {
    "duration": 24,
    "start_time": "2023-12-11T05:06:41.648Z"
   },
   {
    "duration": 44,
    "start_time": "2023-12-11T05:06:41.674Z"
   },
   {
    "duration": 29,
    "start_time": "2023-12-11T05:06:41.719Z"
   },
   {
    "duration": 192,
    "start_time": "2023-12-11T05:06:41.749Z"
   },
   {
    "duration": 89,
    "start_time": "2023-12-11T05:06:41.942Z"
   },
   {
    "duration": 164,
    "start_time": "2023-12-11T05:06:42.032Z"
   },
   {
    "duration": 75,
    "start_time": "2023-12-11T05:06:42.197Z"
   },
   {
    "duration": 161,
    "start_time": "2023-12-11T05:06:42.274Z"
   },
   {
    "duration": 82,
    "start_time": "2023-12-11T05:06:42.437Z"
   },
   {
    "duration": 170,
    "start_time": "2023-12-11T05:06:42.520Z"
   },
   {
    "duration": 88,
    "start_time": "2023-12-11T05:06:42.691Z"
   },
   {
    "duration": 512,
    "start_time": "2023-12-11T05:06:42.780Z"
   },
   {
    "duration": 41,
    "start_time": "2023-12-11T05:06:43.293Z"
   },
   {
    "duration": 157,
    "start_time": "2023-12-11T05:06:43.335Z"
   },
   {
    "duration": 169,
    "start_time": "2023-12-11T05:06:43.494Z"
   },
   {
    "duration": 157,
    "start_time": "2023-12-11T05:06:43.665Z"
   },
   {
    "duration": 74,
    "start_time": "2023-12-11T05:06:43.823Z"
   },
   {
    "duration": 170,
    "start_time": "2023-12-11T05:06:43.899Z"
   },
   {
    "duration": 77,
    "start_time": "2023-12-11T05:06:44.071Z"
   },
   {
    "duration": 186,
    "start_time": "2023-12-11T05:06:44.149Z"
   },
   {
    "duration": 167,
    "start_time": "2023-12-11T05:06:44.336Z"
   },
   {
    "duration": 91,
    "start_time": "2023-12-11T05:06:44.505Z"
   },
   {
    "duration": 32176,
    "start_time": "2023-12-11T05:06:44.598Z"
   },
   {
    "duration": 29,
    "start_time": "2023-12-11T05:07:16.775Z"
   },
   {
    "duration": 183,
    "start_time": "2023-12-11T05:07:16.815Z"
   },
   {
    "duration": 88,
    "start_time": "2023-12-11T05:07:16.999Z"
   },
   {
    "duration": 182,
    "start_time": "2023-12-11T05:07:17.088Z"
   },
   {
    "duration": 89,
    "start_time": "2023-12-11T05:07:17.272Z"
   },
   {
    "duration": 163,
    "start_time": "2023-12-11T05:07:17.363Z"
   },
   {
    "duration": 86,
    "start_time": "2023-12-11T05:07:17.528Z"
   },
   {
    "duration": 170,
    "start_time": "2023-12-11T05:07:17.615Z"
   },
   {
    "duration": 95,
    "start_time": "2023-12-11T05:07:17.786Z"
   },
   {
    "duration": 494,
    "start_time": "2023-12-11T05:07:17.883Z"
   },
   {
    "duration": 3,
    "start_time": "2023-12-11T05:07:18.378Z"
   },
   {
    "duration": 191,
    "start_time": "2023-12-11T05:07:18.382Z"
   },
   {
    "duration": 28,
    "start_time": "2023-12-11T05:09:10.888Z"
   },
   {
    "duration": 29,
    "start_time": "2023-12-11T05:09:30.457Z"
   },
   {
    "duration": 82,
    "start_time": "2023-12-11T05:09:47.878Z"
   },
   {
    "duration": 51,
    "start_time": "2023-12-11T05:10:21.191Z"
   },
   {
    "duration": 57,
    "start_time": "2023-12-11T05:23:55.561Z"
   },
   {
    "duration": 7768,
    "start_time": "2023-12-11T05:24:03.131Z"
   },
   {
    "duration": 2035,
    "start_time": "2023-12-11T05:24:10.901Z"
   },
   {
    "duration": 332,
    "start_time": "2023-12-11T05:24:12.937Z"
   },
   {
    "duration": 12,
    "start_time": "2023-12-11T05:24:13.271Z"
   },
   {
    "duration": 15,
    "start_time": "2023-12-11T05:24:13.284Z"
   },
   {
    "duration": 16,
    "start_time": "2023-12-11T05:24:13.300Z"
   },
   {
    "duration": 4,
    "start_time": "2023-12-11T05:24:13.317Z"
   },
   {
    "duration": 6,
    "start_time": "2023-12-11T05:24:13.322Z"
   },
   {
    "duration": 15,
    "start_time": "2023-12-11T05:24:13.329Z"
   },
   {
    "duration": 27,
    "start_time": "2023-12-11T05:24:13.346Z"
   },
   {
    "duration": 43,
    "start_time": "2023-12-11T05:24:13.374Z"
   },
   {
    "duration": 13,
    "start_time": "2023-12-11T05:24:13.418Z"
   },
   {
    "duration": 20,
    "start_time": "2023-12-11T05:24:13.433Z"
   },
   {
    "duration": 20,
    "start_time": "2023-12-11T05:24:13.454Z"
   },
   {
    "duration": 5,
    "start_time": "2023-12-11T05:24:13.475Z"
   },
   {
    "duration": 42,
    "start_time": "2023-12-11T05:24:13.482Z"
   },
   {
    "duration": 25,
    "start_time": "2023-12-11T05:24:13.526Z"
   },
   {
    "duration": 22,
    "start_time": "2023-12-11T05:24:13.553Z"
   },
   {
    "duration": 49,
    "start_time": "2023-12-11T05:24:13.576Z"
   },
   {
    "duration": 189,
    "start_time": "2023-12-11T05:24:13.626Z"
   },
   {
    "duration": 81,
    "start_time": "2023-12-11T05:24:13.816Z"
   },
   {
    "duration": 157,
    "start_time": "2023-12-11T05:24:13.899Z"
   },
   {
    "duration": 74,
    "start_time": "2023-12-11T05:24:14.058Z"
   },
   {
    "duration": 163,
    "start_time": "2023-12-11T05:24:14.133Z"
   },
   {
    "duration": 83,
    "start_time": "2023-12-11T05:24:14.297Z"
   },
   {
    "duration": 174,
    "start_time": "2023-12-11T05:24:14.381Z"
   },
   {
    "duration": 90,
    "start_time": "2023-12-11T05:24:14.556Z"
   },
   {
    "duration": 482,
    "start_time": "2023-12-11T05:24:14.649Z"
   },
   {
    "duration": 28,
    "start_time": "2023-12-11T05:24:15.133Z"
   },
   {
    "duration": 168,
    "start_time": "2023-12-11T05:24:15.163Z"
   },
   {
    "duration": 175,
    "start_time": "2023-12-11T05:24:15.333Z"
   },
   {
    "duration": 158,
    "start_time": "2023-12-11T05:24:15.514Z"
   },
   {
    "duration": 79,
    "start_time": "2023-12-11T05:24:15.674Z"
   },
   {
    "duration": 167,
    "start_time": "2023-12-11T05:24:15.754Z"
   },
   {
    "duration": 72,
    "start_time": "2023-12-11T05:24:15.922Z"
   },
   {
    "duration": 188,
    "start_time": "2023-12-11T05:24:15.995Z"
   },
   {
    "duration": 174,
    "start_time": "2023-12-11T05:24:16.184Z"
   },
   {
    "duration": 94,
    "start_time": "2023-12-11T05:24:16.359Z"
   },
   {
    "duration": 32146,
    "start_time": "2023-12-11T05:24:16.455Z"
   },
   {
    "duration": 34,
    "start_time": "2023-12-11T05:24:48.603Z"
   },
   {
    "duration": 164,
    "start_time": "2023-12-11T05:24:48.638Z"
   },
   {
    "duration": 87,
    "start_time": "2023-12-11T05:24:48.804Z"
   },
   {
    "duration": 163,
    "start_time": "2023-12-11T05:24:48.892Z"
   },
   {
    "duration": 89,
    "start_time": "2023-12-11T05:24:49.056Z"
   },
   {
    "duration": 159,
    "start_time": "2023-12-11T05:24:49.147Z"
   },
   {
    "duration": 78,
    "start_time": "2023-12-11T05:24:49.308Z"
   },
   {
    "duration": 168,
    "start_time": "2023-12-11T05:24:49.388Z"
   },
   {
    "duration": 93,
    "start_time": "2023-12-11T05:24:49.557Z"
   },
   {
    "duration": 494,
    "start_time": "2023-12-11T05:24:49.651Z"
   },
   {
    "duration": 2,
    "start_time": "2023-12-11T05:24:50.146Z"
   },
   {
    "duration": 164,
    "start_time": "2023-12-11T05:24:50.149Z"
   },
   {
    "duration": 453,
    "start_time": "2023-12-11T05:25:15.291Z"
   },
   {
    "duration": 390,
    "start_time": "2023-12-11T05:26:25.040Z"
   },
   {
    "duration": 411,
    "start_time": "2023-12-11T05:26:42.120Z"
   },
   {
    "duration": 458,
    "start_time": "2023-12-11T05:26:49.470Z"
   },
   {
    "duration": 406,
    "start_time": "2023-12-11T05:27:03.934Z"
   },
   {
    "duration": 423,
    "start_time": "2023-12-11T05:27:25.109Z"
   },
   {
    "duration": 445,
    "start_time": "2023-12-11T05:27:31.584Z"
   },
   {
    "duration": 413,
    "start_time": "2023-12-11T05:27:41.623Z"
   },
   {
    "duration": 422,
    "start_time": "2023-12-11T05:27:52.810Z"
   },
   {
    "duration": 378,
    "start_time": "2023-12-11T05:28:04.249Z"
   },
   {
    "duration": 13896,
    "start_time": "2023-12-11T07:13:47.057Z"
   },
   {
    "duration": 2727,
    "start_time": "2023-12-11T07:14:00.956Z"
   },
   {
    "duration": 1625,
    "start_time": "2023-12-11T07:14:03.685Z"
   },
   {
    "duration": 14,
    "start_time": "2023-12-11T07:14:05.312Z"
   },
   {
    "duration": 29,
    "start_time": "2023-12-11T07:14:05.328Z"
   },
   {
    "duration": 40,
    "start_time": "2023-12-11T07:14:05.359Z"
   },
   {
    "duration": 32,
    "start_time": "2023-12-11T07:14:05.401Z"
   },
   {
    "duration": 30,
    "start_time": "2023-12-11T07:14:05.435Z"
   },
   {
    "duration": 32,
    "start_time": "2023-12-11T07:14:05.467Z"
   },
   {
    "duration": 41,
    "start_time": "2023-12-11T07:14:05.500Z"
   },
   {
    "duration": 30,
    "start_time": "2023-12-11T07:14:05.543Z"
   },
   {
    "duration": 22,
    "start_time": "2023-12-11T07:14:05.575Z"
   },
   {
    "duration": 47,
    "start_time": "2023-12-11T07:14:05.599Z"
   },
   {
    "duration": 52,
    "start_time": "2023-12-11T07:14:05.650Z"
   },
   {
    "duration": 8,
    "start_time": "2023-12-11T07:14:05.703Z"
   },
   {
    "duration": 47,
    "start_time": "2023-12-11T07:14:05.712Z"
   },
   {
    "duration": 72,
    "start_time": "2023-12-11T07:14:05.760Z"
   },
   {
    "duration": 31,
    "start_time": "2023-12-11T07:14:05.834Z"
   },
   {
    "duration": 38,
    "start_time": "2023-12-11T07:14:05.866Z"
   },
   {
    "duration": 250,
    "start_time": "2023-12-11T07:14:05.906Z"
   },
   {
    "duration": 118,
    "start_time": "2023-12-11T07:14:06.158Z"
   },
   {
    "duration": 202,
    "start_time": "2023-12-11T07:14:06.278Z"
   },
   {
    "duration": 96,
    "start_time": "2023-12-11T07:14:06.482Z"
   },
   {
    "duration": 223,
    "start_time": "2023-12-11T07:14:06.580Z"
   },
   {
    "duration": 99,
    "start_time": "2023-12-11T07:14:06.805Z"
   },
   {
    "duration": 206,
    "start_time": "2023-12-11T07:14:06.905Z"
   },
   {
    "duration": 102,
    "start_time": "2023-12-11T07:14:07.113Z"
   },
   {
    "duration": 682,
    "start_time": "2023-12-11T07:14:07.217Z"
   },
   {
    "duration": 45,
    "start_time": "2023-12-11T07:14:07.901Z"
   },
   {
    "duration": 201,
    "start_time": "2023-12-11T07:14:07.948Z"
   },
   {
    "duration": 236,
    "start_time": "2023-12-11T07:14:08.150Z"
   },
   {
    "duration": 218,
    "start_time": "2023-12-11T07:14:08.388Z"
   },
   {
    "duration": 92,
    "start_time": "2023-12-11T07:14:08.609Z"
   },
   {
    "duration": 220,
    "start_time": "2023-12-11T07:14:08.703Z"
   },
   {
    "duration": 111,
    "start_time": "2023-12-11T07:14:08.925Z"
   },
   {
    "duration": 235,
    "start_time": "2023-12-11T07:14:09.038Z"
   },
   {
    "duration": 206,
    "start_time": "2023-12-11T07:14:09.275Z"
   },
   {
    "duration": 124,
    "start_time": "2023-12-11T07:14:09.482Z"
   },
   {
    "duration": 36569,
    "start_time": "2023-12-11T07:14:09.607Z"
   },
   {
    "duration": 39,
    "start_time": "2023-12-11T07:14:46.178Z"
   },
   {
    "duration": 234,
    "start_time": "2023-12-11T07:14:46.232Z"
   },
   {
    "duration": 113,
    "start_time": "2023-12-11T07:14:46.468Z"
   },
   {
    "duration": 217,
    "start_time": "2023-12-11T07:14:46.583Z"
   },
   {
    "duration": 119,
    "start_time": "2023-12-11T07:14:46.802Z"
   },
   {
    "duration": 217,
    "start_time": "2023-12-11T07:14:46.923Z"
   },
   {
    "duration": 105,
    "start_time": "2023-12-11T07:14:47.142Z"
   },
   {
    "duration": 229,
    "start_time": "2023-12-11T07:14:47.249Z"
   },
   {
    "duration": 134,
    "start_time": "2023-12-11T07:14:47.480Z"
   },
   {
    "duration": 652,
    "start_time": "2023-12-11T07:14:47.615Z"
   },
   {
    "duration": 3,
    "start_time": "2023-12-11T07:14:48.270Z"
   },
   {
    "duration": 657,
    "start_time": "2023-12-11T07:14:48.275Z"
   },
   {
    "duration": 3,
    "start_time": "2023-12-11T07:15:31.989Z"
   },
   {
    "duration": 55,
    "start_time": "2023-12-11T07:15:32.438Z"
   },
   {
    "duration": 83,
    "start_time": "2023-12-11T07:15:45.367Z"
   },
   {
    "duration": 1683,
    "start_time": "2023-12-11T07:15:50.752Z"
   },
   {
    "duration": 156,
    "start_time": "2023-12-11T07:16:59.647Z"
   },
   {
    "duration": 15,
    "start_time": "2023-12-11T07:17:23.731Z"
   },
   {
    "duration": 16,
    "start_time": "2023-12-11T07:17:30.144Z"
   },
   {
    "duration": 525,
    "start_time": "2023-12-11T07:18:48.007Z"
   },
   {
    "duration": 16,
    "start_time": "2023-12-11T07:20:13.191Z"
   },
   {
    "duration": 543,
    "start_time": "2023-12-11T07:20:45.391Z"
   },
   {
    "duration": 16,
    "start_time": "2023-12-11T07:23:19.427Z"
   },
   {
    "duration": 115,
    "start_time": "2023-12-11T07:27:26.519Z"
   },
   {
    "duration": 86,
    "start_time": "2023-12-11T07:27:35.551Z"
   },
   {
    "duration": 105,
    "start_time": "2023-12-11T07:29:16.127Z"
   },
   {
    "duration": 92,
    "start_time": "2023-12-11T07:29:58.741Z"
   },
   {
    "duration": 60,
    "start_time": "2023-12-11T07:30:00.176Z"
   },
   {
    "duration": 62,
    "start_time": "2023-12-11T07:31:26.378Z"
   },
   {
    "duration": 476,
    "start_time": "2023-12-11T07:33:17.522Z"
   },
   {
    "duration": 506,
    "start_time": "2023-12-11T07:33:49.600Z"
   },
   {
    "duration": 464,
    "start_time": "2023-12-11T07:34:19.929Z"
   },
   {
    "duration": 2,
    "start_time": "2023-12-11T07:35:19.058Z"
   },
   {
    "duration": 485,
    "start_time": "2023-12-11T07:35:19.612Z"
   },
   {
    "duration": 471,
    "start_time": "2023-12-11T07:35:22.026Z"
   },
   {
    "duration": 534,
    "start_time": "2023-12-11T07:35:22.971Z"
   },
   {
    "duration": 3,
    "start_time": "2023-12-11T07:44:57.694Z"
   },
   {
    "duration": 3,
    "start_time": "2023-12-11T07:44:58.102Z"
   },
   {
    "duration": 13,
    "start_time": "2023-12-11T07:55:14.482Z"
   },
   {
    "duration": 3,
    "start_time": "2023-12-11T07:56:32.063Z"
   },
   {
    "duration": 3,
    "start_time": "2023-12-11T07:56:40.997Z"
   },
   {
    "duration": 3,
    "start_time": "2023-12-11T07:57:32.782Z"
   },
   {
    "duration": 3,
    "start_time": "2023-12-11T07:57:33.141Z"
   },
   {
    "duration": 4,
    "start_time": "2023-12-11T07:57:33.644Z"
   },
   {
    "duration": 2,
    "start_time": "2023-12-11T07:58:30.606Z"
   },
   {
    "duration": 4,
    "start_time": "2023-12-11T07:58:31.025Z"
   },
   {
    "duration": 5,
    "start_time": "2023-12-11T07:58:31.333Z"
   },
   {
    "duration": 3,
    "start_time": "2023-12-11T07:59:26.563Z"
   },
   {
    "duration": 4,
    "start_time": "2023-12-11T07:59:27.093Z"
   },
   {
    "duration": 4,
    "start_time": "2023-12-11T07:59:27.485Z"
   },
   {
    "duration": 7687,
    "start_time": "2023-12-11T08:03:15.503Z"
   },
   {
    "duration": 2364,
    "start_time": "2023-12-11T08:03:23.193Z"
   },
   {
    "duration": 451,
    "start_time": "2023-12-11T08:03:25.559Z"
   },
   {
    "duration": 24,
    "start_time": "2023-12-11T08:03:26.012Z"
   },
   {
    "duration": 12,
    "start_time": "2023-12-11T08:03:26.038Z"
   },
   {
    "duration": 12,
    "start_time": "2023-12-11T08:03:26.052Z"
   },
   {
    "duration": 10,
    "start_time": "2023-12-11T08:03:26.066Z"
   },
   {
    "duration": 8,
    "start_time": "2023-12-11T08:03:26.078Z"
   },
   {
    "duration": 27,
    "start_time": "2023-12-11T08:03:26.087Z"
   },
   {
    "duration": 34,
    "start_time": "2023-12-11T08:03:26.130Z"
   },
   {
    "duration": 33,
    "start_time": "2023-12-11T08:03:26.165Z"
   },
   {
    "duration": 36,
    "start_time": "2023-12-11T08:03:26.200Z"
   },
   {
    "duration": 25,
    "start_time": "2023-12-11T08:03:26.238Z"
   },
   {
    "duration": 27,
    "start_time": "2023-12-11T08:03:26.267Z"
   },
   {
    "duration": 5,
    "start_time": "2023-12-11T08:03:26.296Z"
   },
   {
    "duration": 17,
    "start_time": "2023-12-11T08:03:26.331Z"
   },
   {
    "duration": 31,
    "start_time": "2023-12-11T08:03:26.350Z"
   },
   {
    "duration": 56,
    "start_time": "2023-12-11T08:03:26.382Z"
   },
   {
    "duration": 38,
    "start_time": "2023-12-11T08:03:26.439Z"
   },
   {
    "duration": 260,
    "start_time": "2023-12-11T08:03:26.479Z"
   },
   {
    "duration": 139,
    "start_time": "2023-12-11T08:03:26.740Z"
   },
   {
    "duration": 207,
    "start_time": "2023-12-11T08:03:26.881Z"
   },
   {
    "duration": 93,
    "start_time": "2023-12-11T08:03:27.090Z"
   },
   {
    "duration": 206,
    "start_time": "2023-12-11T08:03:27.185Z"
   },
   {
    "duration": 98,
    "start_time": "2023-12-11T08:03:27.393Z"
   },
   {
    "duration": 212,
    "start_time": "2023-12-11T08:03:27.492Z"
   },
   {
    "duration": 130,
    "start_time": "2023-12-11T08:03:27.706Z"
   },
   {
    "duration": 609,
    "start_time": "2023-12-11T08:03:27.838Z"
   },
   {
    "duration": 38,
    "start_time": "2023-12-11T08:03:28.449Z"
   },
   {
    "duration": 207,
    "start_time": "2023-12-11T08:03:28.488Z"
   },
   {
    "duration": 240,
    "start_time": "2023-12-11T08:03:28.696Z"
   },
   {
    "duration": 204,
    "start_time": "2023-12-11T08:03:28.938Z"
   },
   {
    "duration": 102,
    "start_time": "2023-12-11T08:03:29.144Z"
   },
   {
    "duration": 210,
    "start_time": "2023-12-11T08:03:29.248Z"
   },
   {
    "duration": 97,
    "start_time": "2023-12-11T08:03:29.460Z"
   },
   {
    "duration": 228,
    "start_time": "2023-12-11T08:03:29.558Z"
   },
   {
    "duration": 202,
    "start_time": "2023-12-11T08:03:29.787Z"
   },
   {
    "duration": 113,
    "start_time": "2023-12-11T08:03:29.991Z"
   },
   {
    "duration": 35911,
    "start_time": "2023-12-11T08:03:30.106Z"
   },
   {
    "duration": 40,
    "start_time": "2023-12-11T08:04:06.018Z"
   },
   {
    "duration": 217,
    "start_time": "2023-12-11T08:04:06.061Z"
   },
   {
    "duration": 114,
    "start_time": "2023-12-11T08:04:06.280Z"
   },
   {
    "duration": 217,
    "start_time": "2023-12-11T08:04:06.396Z"
   },
   {
    "duration": 108,
    "start_time": "2023-12-11T08:04:06.615Z"
   },
   {
    "duration": 197,
    "start_time": "2023-12-11T08:04:06.730Z"
   },
   {
    "duration": 88,
    "start_time": "2023-12-11T08:04:06.930Z"
   },
   {
    "duration": 205,
    "start_time": "2023-12-11T08:04:07.020Z"
   },
   {
    "duration": 117,
    "start_time": "2023-12-11T08:04:07.231Z"
   },
   {
    "duration": 583,
    "start_time": "2023-12-11T08:04:07.350Z"
   },
   {
    "duration": 2,
    "start_time": "2023-12-11T08:04:07.935Z"
   },
   {
    "duration": 225,
    "start_time": "2023-12-11T08:04:07.939Z"
   },
   {
    "duration": 0,
    "start_time": "2023-12-11T08:04:08.165Z"
   },
   {
    "duration": 0,
    "start_time": "2023-12-11T08:04:08.167Z"
   },
   {
    "duration": 0,
    "start_time": "2023-12-11T08:04:08.168Z"
   },
   {
    "duration": 0,
    "start_time": "2023-12-11T08:04:08.169Z"
   },
   {
    "duration": 0,
    "start_time": "2023-12-11T08:04:08.170Z"
   },
   {
    "duration": 442,
    "start_time": "2023-12-11T08:04:39.754Z"
   },
   {
    "duration": 512,
    "start_time": "2023-12-11T08:04:49.944Z"
   },
   {
    "duration": 495,
    "start_time": "2023-12-11T08:04:58.694Z"
   },
   {
    "duration": 53,
    "start_time": "2023-12-11T08:10:27.618Z"
   },
   {
    "duration": 4,
    "start_time": "2023-12-11T08:10:33.790Z"
   },
   {
    "duration": 87,
    "start_time": "2023-12-11T08:13:56.192Z"
   },
   {
    "duration": 85,
    "start_time": "2023-12-11T08:15:41.873Z"
   },
   {
    "duration": 88,
    "start_time": "2023-12-11T08:16:06.889Z"
   },
   {
    "duration": 402,
    "start_time": "2023-12-11T08:17:21.173Z"
   },
   {
    "duration": 529,
    "start_time": "2023-12-11T08:17:58.082Z"
   },
   {
    "duration": 485,
    "start_time": "2023-12-11T08:18:14.613Z"
   },
   {
    "duration": 480,
    "start_time": "2023-12-11T08:18:19.433Z"
   },
   {
    "duration": 625,
    "start_time": "2023-12-11T08:18:50.633Z"
   },
   {
    "duration": 12,
    "start_time": "2023-12-11T08:19:35.508Z"
   },
   {
    "duration": 3,
    "start_time": "2023-12-11T08:19:40.192Z"
   },
   {
    "duration": 4,
    "start_time": "2023-12-11T08:19:40.977Z"
   },
   {
    "duration": 5,
    "start_time": "2023-12-11T08:19:41.827Z"
   },
   {
    "duration": 4,
    "start_time": "2023-12-11T08:24:55.692Z"
   },
   {
    "duration": 4,
    "start_time": "2023-12-11T08:26:04.781Z"
   },
   {
    "duration": 39,
    "start_time": "2023-12-11T08:26:05.378Z"
   },
   {
    "duration": 5,
    "start_time": "2023-12-11T08:26:28.931Z"
   },
   {
    "duration": 41,
    "start_time": "2023-12-11T08:26:39.478Z"
   },
   {
    "duration": 6,
    "start_time": "2023-12-11T08:27:55.212Z"
   },
   {
    "duration": 440,
    "start_time": "2023-12-11T08:27:56.737Z"
   },
   {
    "duration": 12,
    "start_time": "2023-12-11T08:30:13.813Z"
   },
   {
    "duration": 3,
    "start_time": "2023-12-11T08:30:25.533Z"
   },
   {
    "duration": 7669,
    "start_time": "2023-12-11T08:30:34.732Z"
   },
   {
    "duration": 2471,
    "start_time": "2023-12-11T08:30:42.404Z"
   },
   {
    "duration": 418,
    "start_time": "2023-12-11T08:30:44.877Z"
   },
   {
    "duration": 14,
    "start_time": "2023-12-11T08:30:45.297Z"
   },
   {
    "duration": 10,
    "start_time": "2023-12-11T08:30:45.313Z"
   },
   {
    "duration": 9,
    "start_time": "2023-12-11T08:30:45.331Z"
   },
   {
    "duration": 5,
    "start_time": "2023-12-11T08:30:45.342Z"
   },
   {
    "duration": 7,
    "start_time": "2023-12-11T08:30:45.348Z"
   },
   {
    "duration": 30,
    "start_time": "2023-12-11T08:30:45.356Z"
   },
   {
    "duration": 42,
    "start_time": "2023-12-11T08:30:45.388Z"
   },
   {
    "duration": 29,
    "start_time": "2023-12-11T08:30:45.432Z"
   },
   {
    "duration": 16,
    "start_time": "2023-12-11T08:30:45.462Z"
   },
   {
    "duration": 23,
    "start_time": "2023-12-11T08:30:45.480Z"
   },
   {
    "duration": 50,
    "start_time": "2023-12-11T08:30:45.504Z"
   },
   {
    "duration": 5,
    "start_time": "2023-12-11T08:30:45.556Z"
   },
   {
    "duration": 19,
    "start_time": "2023-12-11T08:30:45.562Z"
   },
   {
    "duration": 57,
    "start_time": "2023-12-11T08:30:45.582Z"
   },
   {
    "duration": 25,
    "start_time": "2023-12-11T08:30:45.641Z"
   },
   {
    "duration": 34,
    "start_time": "2023-12-11T08:30:45.668Z"
   },
   {
    "duration": 249,
    "start_time": "2023-12-11T08:30:45.704Z"
   },
   {
    "duration": 111,
    "start_time": "2023-12-11T08:30:45.955Z"
   },
   {
    "duration": 197,
    "start_time": "2023-12-11T08:30:46.067Z"
   },
   {
    "duration": 91,
    "start_time": "2023-12-11T08:30:46.265Z"
   },
   {
    "duration": 197,
    "start_time": "2023-12-11T08:30:46.358Z"
   },
   {
    "duration": 95,
    "start_time": "2023-12-11T08:30:46.557Z"
   },
   {
    "duration": 195,
    "start_time": "2023-12-11T08:30:46.654Z"
   },
   {
    "duration": 102,
    "start_time": "2023-12-11T08:30:46.851Z"
   },
   {
    "duration": 588,
    "start_time": "2023-12-11T08:30:46.956Z"
   },
   {
    "duration": 41,
    "start_time": "2023-12-11T08:30:47.546Z"
   },
   {
    "duration": 406,
    "start_time": "2023-12-11T08:30:47.589Z"
   },
   {
    "duration": 105,
    "start_time": "2023-12-11T08:30:47.997Z"
   },
   {
    "duration": 214,
    "start_time": "2023-12-11T08:30:48.104Z"
   },
   {
    "duration": 94,
    "start_time": "2023-12-11T08:30:48.320Z"
   },
   {
    "duration": 208,
    "start_time": "2023-12-11T08:30:48.416Z"
   },
   {
    "duration": 100,
    "start_time": "2023-12-11T08:30:48.631Z"
   },
   {
    "duration": 230,
    "start_time": "2023-12-11T08:30:48.732Z"
   },
   {
    "duration": 202,
    "start_time": "2023-12-11T08:30:48.964Z"
   },
   {
    "duration": 117,
    "start_time": "2023-12-11T08:30:49.169Z"
   },
   {
    "duration": 36176,
    "start_time": "2023-12-11T08:30:49.288Z"
   },
   {
    "duration": 46,
    "start_time": "2023-12-11T08:31:25.466Z"
   },
   {
    "duration": 241,
    "start_time": "2023-12-11T08:31:25.530Z"
   },
   {
    "duration": 117,
    "start_time": "2023-12-11T08:31:25.772Z"
   },
   {
    "duration": 221,
    "start_time": "2023-12-11T08:31:25.891Z"
   },
   {
    "duration": 109,
    "start_time": "2023-12-11T08:31:26.114Z"
   },
   {
    "duration": 213,
    "start_time": "2023-12-11T08:31:26.225Z"
   },
   {
    "duration": 108,
    "start_time": "2023-12-11T08:31:26.439Z"
   },
   {
    "duration": 241,
    "start_time": "2023-12-11T08:31:26.548Z"
   },
   {
    "duration": 123,
    "start_time": "2023-12-11T08:31:26.791Z"
   },
   {
    "duration": 624,
    "start_time": "2023-12-11T08:31:26.916Z"
   },
   {
    "duration": 4,
    "start_time": "2023-12-11T08:31:27.542Z"
   },
   {
    "duration": 138,
    "start_time": "2023-12-11T08:31:27.556Z"
   },
   {
    "duration": 2,
    "start_time": "2023-12-11T08:31:27.696Z"
   },
   {
    "duration": 5,
    "start_time": "2023-12-11T08:31:27.700Z"
   },
   {
    "duration": 503,
    "start_time": "2023-12-11T08:31:27.706Z"
   },
   {
    "duration": 198,
    "start_time": "2023-12-11T08:31:28.210Z"
   },
   {
    "duration": 0,
    "start_time": "2023-12-11T08:31:28.410Z"
   },
   {
    "duration": 0,
    "start_time": "2023-12-11T08:31:28.411Z"
   },
   {
    "duration": 0,
    "start_time": "2023-12-11T08:31:28.413Z"
   },
   {
    "duration": 0,
    "start_time": "2023-12-11T08:31:28.414Z"
   },
   {
    "duration": 475,
    "start_time": "2023-12-11T08:32:35.238Z"
   },
   {
    "duration": 478,
    "start_time": "2023-12-11T08:33:17.488Z"
   },
   {
    "duration": 3,
    "start_time": "2023-12-11T08:33:28.048Z"
   },
   {
    "duration": 4,
    "start_time": "2023-12-11T08:33:29.172Z"
   },
   {
    "duration": 4,
    "start_time": "2023-12-11T08:33:30.463Z"
   },
   {
    "duration": 14,
    "start_time": "2023-12-11T08:34:48.413Z"
   },
   {
    "duration": 11,
    "start_time": "2023-12-11T08:35:51.984Z"
   },
   {
    "duration": 755,
    "start_time": "2023-12-11T08:36:03.733Z"
   },
   {
    "duration": 12,
    "start_time": "2023-12-11T08:36:17.353Z"
   },
   {
    "duration": 13,
    "start_time": "2023-12-11T08:37:52.694Z"
   },
   {
    "duration": 56,
    "start_time": "2023-12-11T08:42:30.163Z"
   },
   {
    "duration": 79,
    "start_time": "2023-12-11T08:42:37.814Z"
   },
   {
    "duration": 55,
    "start_time": "2023-12-11T08:43:03.274Z"
   },
   {
    "duration": 56,
    "start_time": "2023-12-11T08:43:14.860Z"
   },
   {
    "duration": 20,
    "start_time": "2023-12-11T08:45:33.254Z"
   },
   {
    "duration": 12,
    "start_time": "2023-12-11T08:45:44.720Z"
   },
   {
    "duration": 3,
    "start_time": "2023-12-11T08:46:16.054Z"
   },
   {
    "duration": 24,
    "start_time": "2023-12-11T08:50:35.150Z"
   },
   {
    "duration": 14,
    "start_time": "2023-12-11T08:50:49.170Z"
   },
   {
    "duration": 13,
    "start_time": "2023-12-11T08:50:54.296Z"
   },
   {
    "duration": 13,
    "start_time": "2023-12-11T08:51:01.306Z"
   },
   {
    "duration": 12,
    "start_time": "2023-12-11T08:51:06.691Z"
   },
   {
    "duration": 6,
    "start_time": "2023-12-11T08:51:22.986Z"
   },
   {
    "duration": 5,
    "start_time": "2023-12-11T08:51:37.385Z"
   },
   {
    "duration": 6,
    "start_time": "2023-12-11T08:51:55.671Z"
   },
   {
    "duration": 7,
    "start_time": "2023-12-11T08:52:28.836Z"
   },
   {
    "duration": 8,
    "start_time": "2023-12-11T08:52:30.911Z"
   },
   {
    "duration": 4,
    "start_time": "2023-12-11T09:03:53.471Z"
   },
   {
    "duration": 6,
    "start_time": "2023-12-11T09:03:58.875Z"
   },
   {
    "duration": 6,
    "start_time": "2023-12-11T09:04:02.810Z"
   },
   {
    "duration": 16,
    "start_time": "2023-12-11T09:08:06.665Z"
   },
   {
    "duration": 17,
    "start_time": "2023-12-11T09:09:36.294Z"
   },
   {
    "duration": 17,
    "start_time": "2023-12-11T09:09:53.249Z"
   },
   {
    "duration": 22,
    "start_time": "2023-12-11T09:10:31.065Z"
   },
   {
    "duration": 4,
    "start_time": "2023-12-11T09:10:35.109Z"
   },
   {
    "duration": 4,
    "start_time": "2023-12-11T09:10:35.820Z"
   },
   {
    "duration": 6,
    "start_time": "2023-12-11T09:10:36.570Z"
   },
   {
    "duration": 6,
    "start_time": "2023-12-11T09:10:37.089Z"
   },
   {
    "duration": 1805,
    "start_time": "2023-12-11T09:10:38.435Z"
   },
   {
    "duration": 5,
    "start_time": "2023-12-11T09:17:54.089Z"
   },
   {
    "duration": 3,
    "start_time": "2023-12-11T09:18:22.289Z"
   },
   {
    "duration": 4,
    "start_time": "2023-12-11T09:18:30.569Z"
   },
   {
    "duration": 6,
    "start_time": "2023-12-11T09:19:17.014Z"
   },
   {
    "duration": 8340,
    "start_time": "2023-12-11T09:21:46.889Z"
   },
   {
    "duration": 2533,
    "start_time": "2023-12-11T09:21:55.232Z"
   },
   {
    "duration": 487,
    "start_time": "2023-12-11T09:21:57.767Z"
   },
   {
    "duration": 18,
    "start_time": "2023-12-11T09:21:58.256Z"
   },
   {
    "duration": 10,
    "start_time": "2023-12-11T09:21:58.276Z"
   },
   {
    "duration": 14,
    "start_time": "2023-12-11T09:21:58.287Z"
   },
   {
    "duration": 20,
    "start_time": "2023-12-11T09:21:58.302Z"
   },
   {
    "duration": 4,
    "start_time": "2023-12-11T09:21:58.330Z"
   },
   {
    "duration": 39,
    "start_time": "2023-12-11T09:21:58.335Z"
   },
   {
    "duration": 32,
    "start_time": "2023-12-11T09:21:58.377Z"
   },
   {
    "duration": 39,
    "start_time": "2023-12-11T09:21:58.410Z"
   },
   {
    "duration": 17,
    "start_time": "2023-12-11T09:21:58.452Z"
   },
   {
    "duration": 26,
    "start_time": "2023-12-11T09:21:58.470Z"
   },
   {
    "duration": 55,
    "start_time": "2023-12-11T09:21:58.498Z"
   },
   {
    "duration": 6,
    "start_time": "2023-12-11T09:21:58.555Z"
   },
   {
    "duration": 26,
    "start_time": "2023-12-11T09:21:58.562Z"
   },
   {
    "duration": 50,
    "start_time": "2023-12-11T09:21:58.590Z"
   },
   {
    "duration": 29,
    "start_time": "2023-12-11T09:21:58.642Z"
   },
   {
    "duration": 37,
    "start_time": "2023-12-11T09:21:58.672Z"
   },
   {
    "duration": 248,
    "start_time": "2023-12-11T09:21:58.712Z"
   },
   {
    "duration": 108,
    "start_time": "2023-12-11T09:21:58.962Z"
   },
   {
    "duration": 195,
    "start_time": "2023-12-11T09:21:59.072Z"
   },
   {
    "duration": 95,
    "start_time": "2023-12-11T09:21:59.268Z"
   },
   {
    "duration": 238,
    "start_time": "2023-12-11T09:21:59.365Z"
   },
   {
    "duration": 126,
    "start_time": "2023-12-11T09:21:59.605Z"
   },
   {
    "duration": 236,
    "start_time": "2023-12-11T09:21:59.734Z"
   },
   {
    "duration": 111,
    "start_time": "2023-12-11T09:21:59.972Z"
   },
   {
    "duration": 673,
    "start_time": "2023-12-11T09:22:00.088Z"
   },
   {
    "duration": 37,
    "start_time": "2023-12-11T09:22:00.763Z"
   },
   {
    "duration": 384,
    "start_time": "2023-12-11T09:22:00.803Z"
   },
   {
    "duration": 114,
    "start_time": "2023-12-11T09:22:01.189Z"
   },
   {
    "duration": 209,
    "start_time": "2023-12-11T09:22:01.305Z"
   },
   {
    "duration": 111,
    "start_time": "2023-12-11T09:22:01.516Z"
   },
   {
    "duration": 243,
    "start_time": "2023-12-11T09:22:01.630Z"
   },
   {
    "duration": 103,
    "start_time": "2023-12-11T09:22:01.875Z"
   },
   {
    "duration": 358,
    "start_time": "2023-12-11T09:22:01.980Z"
   },
   {
    "duration": 218,
    "start_time": "2023-12-11T09:22:02.340Z"
   },
   {
    "duration": 115,
    "start_time": "2023-12-11T09:22:02.560Z"
   },
   {
    "duration": 37358,
    "start_time": "2023-12-11T09:22:02.677Z"
   },
   {
    "duration": 36,
    "start_time": "2023-12-11T09:22:40.036Z"
   },
   {
    "duration": 214,
    "start_time": "2023-12-11T09:22:40.073Z"
   },
   {
    "duration": 113,
    "start_time": "2023-12-11T09:22:40.289Z"
   },
   {
    "duration": 218,
    "start_time": "2023-12-11T09:22:40.403Z"
   },
   {
    "duration": 110,
    "start_time": "2023-12-11T09:22:40.623Z"
   },
   {
    "duration": 195,
    "start_time": "2023-12-11T09:22:40.735Z"
   },
   {
    "duration": 86,
    "start_time": "2023-12-11T09:22:40.932Z"
   },
   {
    "duration": 232,
    "start_time": "2023-12-11T09:22:41.020Z"
   },
   {
    "duration": 112,
    "start_time": "2023-12-11T09:22:41.254Z"
   },
   {
    "duration": 597,
    "start_time": "2023-12-11T09:22:41.367Z"
   },
   {
    "duration": 3,
    "start_time": "2023-12-11T09:22:41.966Z"
   },
   {
    "duration": 12,
    "start_time": "2023-12-11T09:22:41.971Z"
   },
   {
    "duration": 5,
    "start_time": "2023-12-11T09:22:41.984Z"
   },
   {
    "duration": 494,
    "start_time": "2023-12-11T09:22:41.991Z"
   },
   {
    "duration": 516,
    "start_time": "2023-12-11T09:22:42.487Z"
   },
   {
    "duration": 490,
    "start_time": "2023-12-11T09:22:43.004Z"
   },
   {
    "duration": 3,
    "start_time": "2023-12-11T09:22:43.495Z"
   },
   {
    "duration": 9,
    "start_time": "2023-12-11T09:22:43.499Z"
   },
   {
    "duration": 22,
    "start_time": "2023-12-11T09:22:43.509Z"
   },
   {
    "duration": 3,
    "start_time": "2023-12-11T09:22:43.533Z"
   },
   {
    "duration": 10,
    "start_time": "2023-12-11T09:22:43.537Z"
   },
   {
    "duration": 5,
    "start_time": "2023-12-11T09:22:43.549Z"
   },
   {
    "duration": 11,
    "start_time": "2023-12-11T09:22:43.556Z"
   },
   {
    "duration": 4,
    "start_time": "2023-12-11T09:22:43.569Z"
   },
   {
    "duration": 17,
    "start_time": "2023-12-11T09:22:43.575Z"
   },
   {
    "duration": 5,
    "start_time": "2023-12-11T09:22:43.594Z"
   },
   {
    "duration": 1955,
    "start_time": "2023-12-11T09:22:43.601Z"
   },
   {
    "duration": 1956,
    "start_time": "2023-12-11T09:23:36.225Z"
   },
   {
    "duration": 13389,
    "start_time": "2023-12-12T05:18:27.909Z"
   },
   {
    "duration": 2559,
    "start_time": "2023-12-12T05:18:41.300Z"
   },
   {
    "duration": 798,
    "start_time": "2023-12-12T05:18:43.861Z"
   },
   {
    "duration": 13,
    "start_time": "2023-12-12T05:18:44.661Z"
   },
   {
    "duration": 43,
    "start_time": "2023-12-12T05:18:44.675Z"
   },
   {
    "duration": 41,
    "start_time": "2023-12-12T05:18:44.720Z"
   },
   {
    "duration": 26,
    "start_time": "2023-12-12T05:18:44.762Z"
   },
   {
    "duration": 27,
    "start_time": "2023-12-12T05:18:44.789Z"
   },
   {
    "duration": 26,
    "start_time": "2023-12-12T05:18:44.817Z"
   },
   {
    "duration": 33,
    "start_time": "2023-12-12T05:18:44.846Z"
   },
   {
    "duration": 28,
    "start_time": "2023-12-12T05:18:44.881Z"
   },
   {
    "duration": 37,
    "start_time": "2023-12-12T05:18:44.911Z"
   },
   {
    "duration": 24,
    "start_time": "2023-12-12T05:18:44.949Z"
   },
   {
    "duration": 23,
    "start_time": "2023-12-12T05:18:44.975Z"
   },
   {
    "duration": 5,
    "start_time": "2023-12-12T05:18:44.999Z"
   },
   {
    "duration": 77,
    "start_time": "2023-12-12T05:18:45.005Z"
   },
   {
    "duration": 55,
    "start_time": "2023-12-12T05:18:45.084Z"
   },
   {
    "duration": 27,
    "start_time": "2023-12-12T05:18:45.141Z"
   },
   {
    "duration": 37,
    "start_time": "2023-12-12T05:18:45.169Z"
   },
   {
    "duration": 251,
    "start_time": "2023-12-12T05:18:45.207Z"
   },
   {
    "duration": 107,
    "start_time": "2023-12-12T05:18:45.460Z"
   },
   {
    "duration": 202,
    "start_time": "2023-12-12T05:18:45.569Z"
   },
   {
    "duration": 84,
    "start_time": "2023-12-12T05:18:45.772Z"
   },
   {
    "duration": 210,
    "start_time": "2023-12-12T05:18:45.858Z"
   },
   {
    "duration": 96,
    "start_time": "2023-12-12T05:18:46.070Z"
   },
   {
    "duration": 216,
    "start_time": "2023-12-12T05:18:46.167Z"
   },
   {
    "duration": 113,
    "start_time": "2023-12-12T05:18:46.385Z"
   },
   {
    "duration": 627,
    "start_time": "2023-12-12T05:18:46.502Z"
   },
   {
    "duration": 37,
    "start_time": "2023-12-12T05:18:47.131Z"
   },
   {
    "duration": 325,
    "start_time": "2023-12-12T05:18:47.170Z"
   },
   {
    "duration": 101,
    "start_time": "2023-12-12T05:18:47.497Z"
   },
   {
    "duration": 200,
    "start_time": "2023-12-12T05:18:47.600Z"
   },
   {
    "duration": 95,
    "start_time": "2023-12-12T05:18:47.802Z"
   },
   {
    "duration": 197,
    "start_time": "2023-12-12T05:18:47.899Z"
   },
   {
    "duration": 95,
    "start_time": "2023-12-12T05:18:48.097Z"
   },
   {
    "duration": 212,
    "start_time": "2023-12-12T05:18:48.194Z"
   },
   {
    "duration": 191,
    "start_time": "2023-12-12T05:18:48.407Z"
   },
   {
    "duration": 120,
    "start_time": "2023-12-12T05:18:48.600Z"
   },
   {
    "duration": 36353,
    "start_time": "2023-12-12T05:18:48.722Z"
   },
   {
    "duration": 36,
    "start_time": "2023-12-12T05:19:25.076Z"
   },
   {
    "duration": 220,
    "start_time": "2023-12-12T05:19:25.113Z"
   },
   {
    "duration": 111,
    "start_time": "2023-12-12T05:19:25.334Z"
   },
   {
    "duration": 219,
    "start_time": "2023-12-12T05:19:25.447Z"
   },
   {
    "duration": 107,
    "start_time": "2023-12-12T05:19:25.667Z"
   },
   {
    "duration": 214,
    "start_time": "2023-12-12T05:19:25.775Z"
   },
   {
    "duration": 108,
    "start_time": "2023-12-12T05:19:25.991Z"
   },
   {
    "duration": 212,
    "start_time": "2023-12-12T05:19:26.101Z"
   },
   {
    "duration": 112,
    "start_time": "2023-12-12T05:19:26.315Z"
   },
   {
    "duration": 588,
    "start_time": "2023-12-12T05:19:26.429Z"
   },
   {
    "duration": 4,
    "start_time": "2023-12-12T05:19:27.020Z"
   },
   {
    "duration": 7,
    "start_time": "2023-12-12T05:19:27.025Z"
   },
   {
    "duration": 4,
    "start_time": "2023-12-12T05:19:27.042Z"
   },
   {
    "duration": 450,
    "start_time": "2023-12-12T05:19:27.047Z"
   },
   {
    "duration": 524,
    "start_time": "2023-12-12T05:19:27.499Z"
   },
   {
    "duration": 495,
    "start_time": "2023-12-12T05:19:28.026Z"
   },
   {
    "duration": 3,
    "start_time": "2023-12-12T05:19:28.523Z"
   },
   {
    "duration": 16,
    "start_time": "2023-12-12T05:19:28.528Z"
   },
   {
    "duration": 23,
    "start_time": "2023-12-12T05:19:28.546Z"
   },
   {
    "duration": 3,
    "start_time": "2023-12-12T05:19:28.571Z"
   },
   {
    "duration": 13,
    "start_time": "2023-12-12T05:19:28.576Z"
   },
   {
    "duration": 4,
    "start_time": "2023-12-12T05:19:28.591Z"
   },
   {
    "duration": 6,
    "start_time": "2023-12-12T05:19:28.597Z"
   },
   {
    "duration": 4,
    "start_time": "2023-12-12T05:19:28.605Z"
   },
   {
    "duration": 6,
    "start_time": "2023-12-12T05:19:28.642Z"
   },
   {
    "duration": 4,
    "start_time": "2023-12-12T05:19:28.649Z"
   },
   {
    "duration": 1823,
    "start_time": "2023-12-12T05:19:28.655Z"
   },
   {
    "duration": 1777,
    "start_time": "2023-12-12T05:20:46.199Z"
   },
   {
    "duration": 6,
    "start_time": "2023-12-12T05:27:36.613Z"
   },
   {
    "duration": 242,
    "start_time": "2023-12-12T05:28:02.799Z"
   },
   {
    "duration": 5,
    "start_time": "2023-12-12T05:28:14.748Z"
   },
   {
    "duration": 1922,
    "start_time": "2023-12-12T05:28:15.124Z"
   },
   {
    "duration": 1877,
    "start_time": "2023-12-12T05:29:07.959Z"
   },
   {
    "duration": 1991,
    "start_time": "2023-12-12T05:29:19.973Z"
   },
   {
    "duration": 2037,
    "start_time": "2023-12-12T05:29:34.003Z"
   },
   {
    "duration": 1830,
    "start_time": "2023-12-12T05:29:44.774Z"
   },
   {
    "duration": 71,
    "start_time": "2023-12-12T05:41:59.879Z"
   },
   {
    "duration": 23,
    "start_time": "2023-12-12T05:42:21.609Z"
   },
   {
    "duration": 20,
    "start_time": "2023-12-12T05:43:06.239Z"
   },
   {
    "duration": 20,
    "start_time": "2023-12-12T05:43:25.454Z"
   },
   {
    "duration": 20,
    "start_time": "2023-12-12T05:43:33.114Z"
   },
   {
    "duration": 21,
    "start_time": "2023-12-12T05:44:04.274Z"
   },
   {
    "duration": 19,
    "start_time": "2023-12-12T05:44:23.614Z"
   },
   {
    "duration": 13,
    "start_time": "2023-12-12T05:44:38.474Z"
   },
   {
    "duration": 20,
    "start_time": "2023-12-12T05:46:20.929Z"
   },
   {
    "duration": 19,
    "start_time": "2023-12-12T05:46:42.244Z"
   },
   {
    "duration": 7799,
    "start_time": "2023-12-12T05:46:47.454Z"
   },
   {
    "duration": 2371,
    "start_time": "2023-12-12T05:46:55.256Z"
   },
   {
    "duration": 423,
    "start_time": "2023-12-12T05:46:57.628Z"
   },
   {
    "duration": 14,
    "start_time": "2023-12-12T05:46:58.053Z"
   },
   {
    "duration": 11,
    "start_time": "2023-12-12T05:46:58.068Z"
   },
   {
    "duration": 14,
    "start_time": "2023-12-12T05:46:58.080Z"
   },
   {
    "duration": 4,
    "start_time": "2023-12-12T05:46:58.095Z"
   },
   {
    "duration": 5,
    "start_time": "2023-12-12T05:46:58.100Z"
   },
   {
    "duration": 40,
    "start_time": "2023-12-12T05:46:58.107Z"
   },
   {
    "duration": 31,
    "start_time": "2023-12-12T05:46:58.149Z"
   },
   {
    "duration": 27,
    "start_time": "2023-12-12T05:46:58.181Z"
   },
   {
    "duration": 36,
    "start_time": "2023-12-12T05:46:58.210Z"
   },
   {
    "duration": 23,
    "start_time": "2023-12-12T05:46:58.247Z"
   },
   {
    "duration": 26,
    "start_time": "2023-12-12T05:46:58.271Z"
   },
   {
    "duration": 6,
    "start_time": "2023-12-12T05:46:58.299Z"
   },
   {
    "duration": 50,
    "start_time": "2023-12-12T05:46:58.307Z"
   },
   {
    "duration": 29,
    "start_time": "2023-12-12T05:46:58.359Z"
   },
   {
    "duration": 27,
    "start_time": "2023-12-12T05:46:58.389Z"
   },
   {
    "duration": 60,
    "start_time": "2023-12-12T05:46:58.417Z"
   },
   {
    "duration": 247,
    "start_time": "2023-12-12T05:46:58.478Z"
   },
   {
    "duration": 118,
    "start_time": "2023-12-12T05:46:58.726Z"
   },
   {
    "duration": 199,
    "start_time": "2023-12-12T05:46:58.845Z"
   },
   {
    "duration": 97,
    "start_time": "2023-12-12T05:46:59.046Z"
   },
   {
    "duration": 205,
    "start_time": "2023-12-12T05:46:59.144Z"
   },
   {
    "duration": 100,
    "start_time": "2023-12-12T05:46:59.350Z"
   },
   {
    "duration": 229,
    "start_time": "2023-12-12T05:46:59.451Z"
   },
   {
    "duration": 116,
    "start_time": "2023-12-12T05:46:59.681Z"
   },
   {
    "duration": 611,
    "start_time": "2023-12-12T05:46:59.801Z"
   },
   {
    "duration": 45,
    "start_time": "2023-12-12T05:47:00.414Z"
   },
   {
    "duration": 322,
    "start_time": "2023-12-12T05:47:00.461Z"
   },
   {
    "duration": 102,
    "start_time": "2023-12-12T05:47:00.785Z"
   },
   {
    "duration": 201,
    "start_time": "2023-12-12T05:47:00.888Z"
   },
   {
    "duration": 106,
    "start_time": "2023-12-12T05:47:01.090Z"
   },
   {
    "duration": 220,
    "start_time": "2023-12-12T05:47:01.197Z"
   },
   {
    "duration": 93,
    "start_time": "2023-12-12T05:47:01.419Z"
   },
   {
    "duration": 217,
    "start_time": "2023-12-12T05:47:01.514Z"
   },
   {
    "duration": 216,
    "start_time": "2023-12-12T05:47:01.733Z"
   },
   {
    "duration": 116,
    "start_time": "2023-12-12T05:47:01.951Z"
   },
   {
    "duration": 37934,
    "start_time": "2023-12-12T05:47:02.069Z"
   },
   {
    "duration": 44,
    "start_time": "2023-12-12T05:47:40.005Z"
   },
   {
    "duration": 238,
    "start_time": "2023-12-12T05:47:40.051Z"
   },
   {
    "duration": 122,
    "start_time": "2023-12-12T05:47:40.290Z"
   },
   {
    "duration": 208,
    "start_time": "2023-12-12T05:47:40.413Z"
   },
   {
    "duration": 108,
    "start_time": "2023-12-12T05:47:40.622Z"
   },
   {
    "duration": 200,
    "start_time": "2023-12-12T05:47:40.731Z"
   },
   {
    "duration": 94,
    "start_time": "2023-12-12T05:47:40.932Z"
   },
   {
    "duration": 222,
    "start_time": "2023-12-12T05:47:41.028Z"
   },
   {
    "duration": 115,
    "start_time": "2023-12-12T05:47:41.252Z"
   },
   {
    "duration": 577,
    "start_time": "2023-12-12T05:47:41.368Z"
   },
   {
    "duration": 4,
    "start_time": "2023-12-12T05:47:41.946Z"
   },
   {
    "duration": 7,
    "start_time": "2023-12-12T05:47:41.951Z"
   },
   {
    "duration": 6,
    "start_time": "2023-12-12T05:47:41.960Z"
   },
   {
    "duration": 509,
    "start_time": "2023-12-12T05:47:41.968Z"
   },
   {
    "duration": 546,
    "start_time": "2023-12-12T05:47:42.479Z"
   },
   {
    "duration": 476,
    "start_time": "2023-12-12T05:47:43.027Z"
   },
   {
    "duration": 2,
    "start_time": "2023-12-12T05:47:43.505Z"
   },
   {
    "duration": 7,
    "start_time": "2023-12-12T05:47:43.508Z"
   },
   {
    "duration": 12,
    "start_time": "2023-12-12T05:47:43.516Z"
   },
   {
    "duration": 14,
    "start_time": "2023-12-12T05:47:43.529Z"
   },
   {
    "duration": 9,
    "start_time": "2023-12-12T05:47:43.545Z"
   },
   {
    "duration": 5,
    "start_time": "2023-12-12T05:47:43.556Z"
   },
   {
    "duration": 11,
    "start_time": "2023-12-12T05:47:43.562Z"
   },
   {
    "duration": 3,
    "start_time": "2023-12-12T05:47:43.575Z"
   },
   {
    "duration": 13,
    "start_time": "2023-12-12T05:47:43.580Z"
   },
   {
    "duration": 4,
    "start_time": "2023-12-12T05:47:43.594Z"
   },
   {
    "duration": 200,
    "start_time": "2023-12-12T05:47:43.599Z"
   },
   {
    "duration": 0,
    "start_time": "2023-12-12T05:47:43.801Z"
   },
   {
    "duration": 0,
    "start_time": "2023-12-12T05:47:43.802Z"
   },
   {
    "duration": 0,
    "start_time": "2023-12-12T05:47:43.804Z"
   },
   {
    "duration": 0,
    "start_time": "2023-12-12T05:47:43.805Z"
   },
   {
    "duration": 4,
    "start_time": "2023-12-12T05:47:56.810Z"
   },
   {
    "duration": 14,
    "start_time": "2023-12-12T05:48:16.404Z"
   },
   {
    "duration": 15,
    "start_time": "2023-12-12T05:48:58.298Z"
   },
   {
    "duration": 5,
    "start_time": "2023-12-12T05:50:35.799Z"
   },
   {
    "duration": 1862,
    "start_time": "2023-12-12T05:51:36.469Z"
   },
   {
    "duration": 5365,
    "start_time": "2023-12-12T05:53:05.224Z"
   },
   {
    "duration": 7,
    "start_time": "2023-12-12T05:53:50.685Z"
   },
   {
    "duration": 5923,
    "start_time": "2023-12-12T05:53:51.324Z"
   },
   {
    "duration": 5,
    "start_time": "2023-12-12T05:54:34.279Z"
   },
   {
    "duration": 1776,
    "start_time": "2023-12-12T05:54:38.618Z"
   },
   {
    "duration": 1863,
    "start_time": "2023-12-12T05:55:10.984Z"
   },
   {
    "duration": 5,
    "start_time": "2023-12-12T05:55:35.239Z"
   },
   {
    "duration": 1828,
    "start_time": "2023-12-12T05:55:35.909Z"
   },
   {
    "duration": 5426,
    "start_time": "2023-12-12T05:55:44.374Z"
   },
   {
    "duration": 5,
    "start_time": "2023-12-12T05:56:28.484Z"
   },
   {
    "duration": 1845,
    "start_time": "2023-12-12T05:56:29.374Z"
   },
   {
    "duration": 5473,
    "start_time": "2023-12-12T05:56:32.598Z"
   },
   {
    "duration": 5,
    "start_time": "2023-12-12T05:58:11.175Z"
   },
   {
    "duration": 1890,
    "start_time": "2023-12-12T05:58:12.613Z"
   },
   {
    "duration": 5396,
    "start_time": "2023-12-12T05:58:14.504Z"
   },
   {
    "duration": 1778,
    "start_time": "2023-12-12T05:58:39.619Z"
   },
   {
    "duration": 5,
    "start_time": "2023-12-12T06:00:03.418Z"
   },
   {
    "duration": 1817,
    "start_time": "2023-12-12T06:00:04.033Z"
   },
   {
    "duration": 5513,
    "start_time": "2023-12-12T06:00:10.549Z"
   },
   {
    "duration": 7617,
    "start_time": "2023-12-12T06:00:28.349Z"
   },
   {
    "duration": 2297,
    "start_time": "2023-12-12T06:00:35.969Z"
   },
   {
    "duration": 459,
    "start_time": "2023-12-12T06:00:38.268Z"
   },
   {
    "duration": 14,
    "start_time": "2023-12-12T06:00:38.729Z"
   },
   {
    "duration": 17,
    "start_time": "2023-12-12T06:00:38.744Z"
   },
   {
    "duration": 11,
    "start_time": "2023-12-12T06:00:38.762Z"
   },
   {
    "duration": 3,
    "start_time": "2023-12-12T06:00:38.775Z"
   },
   {
    "duration": 4,
    "start_time": "2023-12-12T06:00:38.779Z"
   },
   {
    "duration": 18,
    "start_time": "2023-12-12T06:00:38.785Z"
   },
   {
    "duration": 57,
    "start_time": "2023-12-12T06:00:38.805Z"
   },
   {
    "duration": 29,
    "start_time": "2023-12-12T06:00:38.863Z"
   },
   {
    "duration": 15,
    "start_time": "2023-12-12T06:00:38.894Z"
   },
   {
    "duration": 44,
    "start_time": "2023-12-12T06:00:38.911Z"
   },
   {
    "duration": 25,
    "start_time": "2023-12-12T06:00:38.957Z"
   },
   {
    "duration": 5,
    "start_time": "2023-12-12T06:00:38.984Z"
   },
   {
    "duration": 18,
    "start_time": "2023-12-12T06:00:38.990Z"
   },
   {
    "duration": 58,
    "start_time": "2023-12-12T06:00:39.009Z"
   },
   {
    "duration": 26,
    "start_time": "2023-12-12T06:00:39.069Z"
   },
   {
    "duration": 46,
    "start_time": "2023-12-12T06:00:39.097Z"
   },
   {
    "duration": 242,
    "start_time": "2023-12-12T06:00:39.145Z"
   },
   {
    "duration": 109,
    "start_time": "2023-12-12T06:00:39.389Z"
   },
   {
    "duration": 216,
    "start_time": "2023-12-12T06:00:39.499Z"
   },
   {
    "duration": 91,
    "start_time": "2023-12-12T06:00:39.716Z"
   },
   {
    "duration": 225,
    "start_time": "2023-12-12T06:00:39.809Z"
   },
   {
    "duration": 99,
    "start_time": "2023-12-12T06:00:40.035Z"
   },
   {
    "duration": 223,
    "start_time": "2023-12-12T06:00:40.135Z"
   },
   {
    "duration": 112,
    "start_time": "2023-12-12T06:00:40.360Z"
   },
   {
    "duration": 580,
    "start_time": "2023-12-12T06:00:40.476Z"
   },
   {
    "duration": 36,
    "start_time": "2023-12-12T06:00:41.058Z"
   },
   {
    "duration": 341,
    "start_time": "2023-12-12T06:00:41.096Z"
   },
   {
    "duration": 101,
    "start_time": "2023-12-12T06:00:41.443Z"
   },
   {
    "duration": 210,
    "start_time": "2023-12-12T06:00:41.545Z"
   },
   {
    "duration": 112,
    "start_time": "2023-12-12T06:00:41.756Z"
   },
   {
    "duration": 219,
    "start_time": "2023-12-12T06:00:41.870Z"
   },
   {
    "duration": 93,
    "start_time": "2023-12-12T06:00:42.090Z"
   },
   {
    "duration": 229,
    "start_time": "2023-12-12T06:00:42.185Z"
   },
   {
    "duration": 209,
    "start_time": "2023-12-12T06:00:42.416Z"
   },
   {
    "duration": 111,
    "start_time": "2023-12-12T06:00:42.627Z"
   },
   {
    "duration": 36819,
    "start_time": "2023-12-12T06:00:42.739Z"
   },
   {
    "duration": 35,
    "start_time": "2023-12-12T06:01:19.559Z"
   },
   {
    "duration": 231,
    "start_time": "2023-12-12T06:01:19.596Z"
   },
   {
    "duration": 115,
    "start_time": "2023-12-12T06:01:19.829Z"
   },
   {
    "duration": 214,
    "start_time": "2023-12-12T06:01:19.945Z"
   },
   {
    "duration": 108,
    "start_time": "2023-12-12T06:01:20.160Z"
   },
   {
    "duration": 217,
    "start_time": "2023-12-12T06:01:20.269Z"
   },
   {
    "duration": 100,
    "start_time": "2023-12-12T06:01:20.489Z"
   },
   {
    "duration": 214,
    "start_time": "2023-12-12T06:01:20.590Z"
   },
   {
    "duration": 113,
    "start_time": "2023-12-12T06:01:20.805Z"
   },
   {
    "duration": 615,
    "start_time": "2023-12-12T06:01:20.919Z"
   },
   {
    "duration": 3,
    "start_time": "2023-12-12T06:01:21.542Z"
   },
   {
    "duration": 3,
    "start_time": "2023-12-12T06:01:21.547Z"
   },
   {
    "duration": 4,
    "start_time": "2023-12-12T06:01:21.552Z"
   },
   {
    "duration": 514,
    "start_time": "2023-12-12T06:01:21.558Z"
   },
   {
    "duration": 540,
    "start_time": "2023-12-12T06:01:22.074Z"
   },
   {
    "duration": 503,
    "start_time": "2023-12-12T06:01:22.615Z"
   },
   {
    "duration": 3,
    "start_time": "2023-12-12T06:01:23.119Z"
   },
   {
    "duration": 7,
    "start_time": "2023-12-12T06:01:23.124Z"
   },
   {
    "duration": 19,
    "start_time": "2023-12-12T06:01:23.133Z"
   },
   {
    "duration": 3,
    "start_time": "2023-12-12T06:01:23.153Z"
   },
   {
    "duration": 176,
    "start_time": "2023-12-12T06:01:23.158Z"
   },
   {
    "duration": 0,
    "start_time": "2023-12-12T06:01:23.336Z"
   },
   {
    "duration": 0,
    "start_time": "2023-12-12T06:01:23.337Z"
   },
   {
    "duration": 0,
    "start_time": "2023-12-12T06:01:23.342Z"
   },
   {
    "duration": 0,
    "start_time": "2023-12-12T06:01:23.343Z"
   },
   {
    "duration": 0,
    "start_time": "2023-12-12T06:01:23.345Z"
   },
   {
    "duration": 0,
    "start_time": "2023-12-12T06:01:23.346Z"
   },
   {
    "duration": 22,
    "start_time": "2023-12-12T06:04:00.143Z"
   },
   {
    "duration": 5,
    "start_time": "2023-12-12T06:04:03.138Z"
   },
   {
    "duration": 1890,
    "start_time": "2023-12-12T06:04:04.409Z"
   },
   {
    "duration": 5479,
    "start_time": "2023-12-12T06:04:07.578Z"
   },
   {
    "duration": 5353,
    "start_time": "2023-12-12T06:04:36.993Z"
   },
   {
    "duration": 5270,
    "start_time": "2023-12-12T06:05:18.248Z"
   },
   {
    "duration": 83,
    "start_time": "2023-12-12T07:35:17.714Z"
   },
   {
    "duration": 6,
    "start_time": "2023-12-12T07:35:24.273Z"
   },
   {
    "duration": 5520,
    "start_time": "2023-12-12T07:35:55.383Z"
   },
   {
    "duration": 6,
    "start_time": "2023-12-12T07:36:18.392Z"
   },
   {
    "duration": 5556,
    "start_time": "2023-12-12T07:36:19.138Z"
   },
   {
    "duration": 5446,
    "start_time": "2023-12-12T07:36:46.892Z"
   },
   {
    "duration": 6,
    "start_time": "2023-12-12T07:37:11.211Z"
   },
   {
    "duration": 5582,
    "start_time": "2023-12-12T07:37:12.707Z"
   },
   {
    "duration": 20,
    "start_time": "2023-12-12T07:38:38.880Z"
   },
   {
    "duration": 5311,
    "start_time": "2023-12-12T07:40:33.359Z"
   },
   {
    "duration": 1281,
    "start_time": "2023-12-12T07:40:38.672Z"
   },
   {
    "duration": 429,
    "start_time": "2023-12-12T07:40:39.955Z"
   },
   {
    "duration": 14,
    "start_time": "2023-12-12T07:40:40.386Z"
   },
   {
    "duration": 28,
    "start_time": "2023-12-12T07:40:40.401Z"
   },
   {
    "duration": 41,
    "start_time": "2023-12-12T07:40:40.430Z"
   },
   {
    "duration": 23,
    "start_time": "2023-12-12T07:40:40.473Z"
   },
   {
    "duration": 36,
    "start_time": "2023-12-12T07:40:40.497Z"
   },
   {
    "duration": 36,
    "start_time": "2023-12-12T07:40:40.535Z"
   },
   {
    "duration": 50,
    "start_time": "2023-12-12T07:40:40.574Z"
   },
   {
    "duration": 29,
    "start_time": "2023-12-12T07:40:40.626Z"
   },
   {
    "duration": 16,
    "start_time": "2023-12-12T07:40:40.657Z"
   },
   {
    "duration": 41,
    "start_time": "2023-12-12T07:40:40.674Z"
   },
   {
    "duration": 42,
    "start_time": "2023-12-12T07:40:40.716Z"
   },
   {
    "duration": 5,
    "start_time": "2023-12-12T07:40:40.759Z"
   },
   {
    "duration": 44,
    "start_time": "2023-12-12T07:40:40.765Z"
   },
   {
    "duration": 30,
    "start_time": "2023-12-12T07:40:40.810Z"
   },
   {
    "duration": 30,
    "start_time": "2023-12-12T07:40:40.842Z"
   },
   {
    "duration": 37,
    "start_time": "2023-12-12T07:40:40.873Z"
   },
   {
    "duration": 252,
    "start_time": "2023-12-12T07:40:40.911Z"
   },
   {
    "duration": 118,
    "start_time": "2023-12-12T07:40:41.165Z"
   },
   {
    "duration": 198,
    "start_time": "2023-12-12T07:40:41.284Z"
   },
   {
    "duration": 100,
    "start_time": "2023-12-12T07:40:41.483Z"
   },
   {
    "duration": 278,
    "start_time": "2023-12-12T07:40:41.585Z"
   },
   {
    "duration": 101,
    "start_time": "2023-12-12T07:40:41.865Z"
   },
   {
    "duration": 215,
    "start_time": "2023-12-12T07:40:41.968Z"
   },
   {
    "duration": 110,
    "start_time": "2023-12-12T07:40:42.185Z"
   },
   {
    "duration": 624,
    "start_time": "2023-12-12T07:40:42.299Z"
   },
   {
    "duration": 44,
    "start_time": "2023-12-12T07:40:42.925Z"
   },
   {
    "duration": 218,
    "start_time": "2023-12-12T07:40:42.971Z"
   },
   {
    "duration": 101,
    "start_time": "2023-12-12T07:40:43.191Z"
   },
   {
    "duration": 200,
    "start_time": "2023-12-12T07:40:43.294Z"
   },
   {
    "duration": 95,
    "start_time": "2023-12-12T07:40:43.495Z"
   },
   {
    "duration": 217,
    "start_time": "2023-12-12T07:40:43.591Z"
   },
   {
    "duration": 199,
    "start_time": "2023-12-12T07:40:43.809Z"
   },
   {
    "duration": 224,
    "start_time": "2023-12-12T07:40:44.009Z"
   },
   {
    "duration": 205,
    "start_time": "2023-12-12T07:40:44.234Z"
   },
   {
    "duration": 114,
    "start_time": "2023-12-12T07:40:44.442Z"
   },
   {
    "duration": 35228,
    "start_time": "2023-12-12T07:40:44.558Z"
   },
   {
    "duration": 36,
    "start_time": "2023-12-12T07:41:19.788Z"
   },
   {
    "duration": 233,
    "start_time": "2023-12-12T07:41:19.825Z"
   },
   {
    "duration": 111,
    "start_time": "2023-12-12T07:41:20.060Z"
   },
   {
    "duration": 214,
    "start_time": "2023-12-12T07:41:20.173Z"
   },
   {
    "duration": 106,
    "start_time": "2023-12-12T07:41:20.389Z"
   },
   {
    "duration": 192,
    "start_time": "2023-12-12T07:41:20.496Z"
   },
   {
    "duration": 94,
    "start_time": "2023-12-12T07:41:20.689Z"
   },
   {
    "duration": 209,
    "start_time": "2023-12-12T07:41:20.785Z"
   },
   {
    "duration": 103,
    "start_time": "2023-12-12T07:41:20.995Z"
   },
   {
    "duration": 611,
    "start_time": "2023-12-12T07:41:21.100Z"
   },
   {
    "duration": 3,
    "start_time": "2023-12-12T07:41:21.712Z"
   },
   {
    "duration": 4,
    "start_time": "2023-12-12T07:41:21.717Z"
   },
   {
    "duration": 6,
    "start_time": "2023-12-12T07:41:21.722Z"
   },
   {
    "duration": 457,
    "start_time": "2023-12-12T07:41:21.730Z"
   },
   {
    "duration": 516,
    "start_time": "2023-12-12T07:41:22.188Z"
   },
   {
    "duration": 506,
    "start_time": "2023-12-12T07:41:22.705Z"
   },
   {
    "duration": 3,
    "start_time": "2023-12-12T07:41:23.213Z"
   },
   {
    "duration": 15,
    "start_time": "2023-12-12T07:41:23.217Z"
   },
   {
    "duration": 29,
    "start_time": "2023-12-12T07:41:23.234Z"
   },
   {
    "duration": 8,
    "start_time": "2023-12-12T07:41:23.265Z"
   },
   {
    "duration": 33,
    "start_time": "2023-12-12T07:41:23.275Z"
   },
   {
    "duration": 5,
    "start_time": "2023-12-12T07:41:23.310Z"
   },
   {
    "duration": 5384,
    "start_time": "2023-12-12T07:41:23.317Z"
   },
   {
    "duration": 5377,
    "start_time": "2023-12-12T07:42:47.241Z"
   },
   {
    "duration": 1222,
    "start_time": "2023-12-12T07:42:52.620Z"
   },
   {
    "duration": 422,
    "start_time": "2023-12-12T07:42:53.844Z"
   },
   {
    "duration": 14,
    "start_time": "2023-12-12T07:42:54.267Z"
   },
   {
    "duration": 10,
    "start_time": "2023-12-12T07:42:54.282Z"
   },
   {
    "duration": 11,
    "start_time": "2023-12-12T07:42:54.293Z"
   },
   {
    "duration": 3,
    "start_time": "2023-12-12T07:42:54.306Z"
   },
   {
    "duration": 5,
    "start_time": "2023-12-12T07:42:54.311Z"
   },
   {
    "duration": 41,
    "start_time": "2023-12-12T07:42:54.317Z"
   },
   {
    "duration": 33,
    "start_time": "2023-12-12T07:42:54.360Z"
   },
   {
    "duration": 50,
    "start_time": "2023-12-12T07:42:54.394Z"
   },
   {
    "duration": 15,
    "start_time": "2023-12-12T07:42:54.445Z"
   },
   {
    "duration": 22,
    "start_time": "2023-12-12T07:42:54.461Z"
   },
   {
    "duration": 25,
    "start_time": "2023-12-12T07:42:54.484Z"
   },
   {
    "duration": 5,
    "start_time": "2023-12-12T07:42:54.510Z"
   },
   {
    "duration": 16,
    "start_time": "2023-12-12T07:42:54.543Z"
   },
   {
    "duration": 29,
    "start_time": "2023-12-12T07:42:54.561Z"
   },
   {
    "duration": 56,
    "start_time": "2023-12-12T07:42:54.592Z"
   },
   {
    "duration": 34,
    "start_time": "2023-12-12T07:42:54.650Z"
   },
   {
    "duration": 248,
    "start_time": "2023-12-12T07:42:54.685Z"
   },
   {
    "duration": 132,
    "start_time": "2023-12-12T07:42:54.935Z"
   },
   {
    "duration": 203,
    "start_time": "2023-12-12T07:42:55.069Z"
   },
   {
    "duration": 94,
    "start_time": "2023-12-12T07:42:55.274Z"
   },
   {
    "duration": 287,
    "start_time": "2023-12-12T07:42:55.369Z"
   },
   {
    "duration": 99,
    "start_time": "2023-12-12T07:42:55.658Z"
   },
   {
    "duration": 219,
    "start_time": "2023-12-12T07:42:55.759Z"
   },
   {
    "duration": 111,
    "start_time": "2023-12-12T07:42:55.979Z"
   },
   {
    "duration": 562,
    "start_time": "2023-12-12T07:42:56.095Z"
   },
   {
    "duration": 34,
    "start_time": "2023-12-12T07:42:56.659Z"
   },
   {
    "duration": 209,
    "start_time": "2023-12-12T07:42:56.695Z"
   },
   {
    "duration": 102,
    "start_time": "2023-12-12T07:42:56.906Z"
   },
   {
    "duration": 202,
    "start_time": "2023-12-12T07:42:57.009Z"
   },
   {
    "duration": 115,
    "start_time": "2023-12-12T07:42:57.213Z"
   },
   {
    "duration": 205,
    "start_time": "2023-12-12T07:42:57.330Z"
   },
   {
    "duration": 182,
    "start_time": "2023-12-12T07:42:57.542Z"
   },
   {
    "duration": 219,
    "start_time": "2023-12-12T07:42:57.726Z"
   },
   {
    "duration": 207,
    "start_time": "2023-12-12T07:42:57.947Z"
   },
   {
    "duration": 112,
    "start_time": "2023-12-12T07:42:58.156Z"
   },
   {
    "duration": 37128,
    "start_time": "2023-12-12T07:42:58.270Z"
   },
   {
    "duration": 43,
    "start_time": "2023-12-12T07:43:35.400Z"
   },
   {
    "duration": 243,
    "start_time": "2023-12-12T07:43:35.445Z"
   },
   {
    "duration": 126,
    "start_time": "2023-12-12T07:43:35.690Z"
   },
   {
    "duration": 208,
    "start_time": "2023-12-12T07:43:35.818Z"
   },
   {
    "duration": 98,
    "start_time": "2023-12-12T07:43:36.028Z"
   },
   {
    "duration": 195,
    "start_time": "2023-12-12T07:43:36.127Z"
   },
   {
    "duration": 100,
    "start_time": "2023-12-12T07:43:36.323Z"
   },
   {
    "duration": 214,
    "start_time": "2023-12-12T07:43:36.424Z"
   },
   {
    "duration": 112,
    "start_time": "2023-12-12T07:43:36.642Z"
   },
   {
    "duration": 605,
    "start_time": "2023-12-12T07:43:36.755Z"
   },
   {
    "duration": 4,
    "start_time": "2023-12-12T07:43:37.361Z"
   },
   {
    "duration": 8,
    "start_time": "2023-12-12T07:43:37.366Z"
   },
   {
    "duration": 25,
    "start_time": "2023-12-12T07:43:37.375Z"
   },
   {
    "duration": 501,
    "start_time": "2023-12-12T07:43:37.402Z"
   },
   {
    "duration": 505,
    "start_time": "2023-12-12T07:43:37.905Z"
   },
   {
    "duration": 487,
    "start_time": "2023-12-12T07:43:38.411Z"
   },
   {
    "duration": 2,
    "start_time": "2023-12-12T07:43:38.900Z"
   },
   {
    "duration": 12,
    "start_time": "2023-12-12T07:43:38.904Z"
   },
   {
    "duration": 15,
    "start_time": "2023-12-12T07:43:38.917Z"
   },
   {
    "duration": 9,
    "start_time": "2023-12-12T07:43:38.933Z"
   },
   {
    "duration": 40,
    "start_time": "2023-12-12T07:43:38.944Z"
   },
   {
    "duration": 9,
    "start_time": "2023-12-12T07:43:38.986Z"
   },
   {
    "duration": 5447,
    "start_time": "2023-12-12T07:43:38.996Z"
   },
   {
    "duration": 10137,
    "start_time": "2023-12-13T04:07:40.269Z"
   },
   {
    "duration": 1538,
    "start_time": "2023-12-13T04:07:50.409Z"
   },
   {
    "duration": 823,
    "start_time": "2023-12-13T04:07:51.949Z"
   },
   {
    "duration": 16,
    "start_time": "2023-12-13T04:07:52.774Z"
   },
   {
    "duration": 44,
    "start_time": "2023-12-13T04:07:52.791Z"
   },
   {
    "duration": 42,
    "start_time": "2023-12-13T04:07:52.837Z"
   },
   {
    "duration": 32,
    "start_time": "2023-12-13T04:07:52.880Z"
   },
   {
    "duration": 38,
    "start_time": "2023-12-13T04:07:52.914Z"
   },
   {
    "duration": 41,
    "start_time": "2023-12-13T04:07:52.954Z"
   },
   {
    "duration": 44,
    "start_time": "2023-12-13T04:07:52.998Z"
   },
   {
    "duration": 33,
    "start_time": "2023-12-13T04:07:53.044Z"
   },
   {
    "duration": 17,
    "start_time": "2023-12-13T04:07:53.078Z"
   },
   {
    "duration": 47,
    "start_time": "2023-12-13T04:07:53.096Z"
   },
   {
    "duration": 27,
    "start_time": "2023-12-13T04:07:53.144Z"
   },
   {
    "duration": 5,
    "start_time": "2023-12-13T04:07:53.173Z"
   },
   {
    "duration": 24,
    "start_time": "2023-12-13T04:07:53.179Z"
   },
   {
    "duration": 45,
    "start_time": "2023-12-13T04:07:53.205Z"
   },
   {
    "duration": 31,
    "start_time": "2023-12-13T04:07:53.252Z"
   },
   {
    "duration": 61,
    "start_time": "2023-12-13T04:07:53.285Z"
   },
   {
    "duration": 263,
    "start_time": "2023-12-13T04:07:53.347Z"
   },
   {
    "duration": 119,
    "start_time": "2023-12-13T04:07:53.611Z"
   },
   {
    "duration": 212,
    "start_time": "2023-12-13T04:07:53.732Z"
   },
   {
    "duration": 105,
    "start_time": "2023-12-13T04:07:53.946Z"
   },
   {
    "duration": 288,
    "start_time": "2023-12-13T04:07:54.054Z"
   },
   {
    "duration": 105,
    "start_time": "2023-12-13T04:07:54.344Z"
   },
   {
    "duration": 228,
    "start_time": "2023-12-13T04:07:54.451Z"
   },
   {
    "duration": 120,
    "start_time": "2023-12-13T04:07:54.681Z"
   },
   {
    "duration": 677,
    "start_time": "2023-12-13T04:07:54.806Z"
   },
   {
    "duration": 38,
    "start_time": "2023-12-13T04:07:55.485Z"
   },
   {
    "duration": 217,
    "start_time": "2023-12-13T04:07:55.525Z"
   },
   {
    "duration": 107,
    "start_time": "2023-12-13T04:07:55.744Z"
   },
   {
    "duration": 211,
    "start_time": "2023-12-13T04:07:55.853Z"
   },
   {
    "duration": 107,
    "start_time": "2023-12-13T04:07:56.066Z"
   },
   {
    "duration": 224,
    "start_time": "2023-12-13T04:07:56.175Z"
   },
   {
    "duration": 197,
    "start_time": "2023-12-13T04:07:56.401Z"
   },
   {
    "duration": 230,
    "start_time": "2023-12-13T04:07:56.601Z"
   },
   {
    "duration": 218,
    "start_time": "2023-12-13T04:07:56.833Z"
   },
   {
    "duration": 121,
    "start_time": "2023-12-13T04:07:57.053Z"
   },
   {
    "duration": 36875,
    "start_time": "2023-12-13T04:07:57.176Z"
   },
   {
    "duration": 35,
    "start_time": "2023-12-13T04:08:34.053Z"
   },
   {
    "duration": 234,
    "start_time": "2023-12-13T04:08:34.090Z"
   },
   {
    "duration": 112,
    "start_time": "2023-12-13T04:08:34.325Z"
   },
   {
    "duration": 224,
    "start_time": "2023-12-13T04:08:34.439Z"
   },
   {
    "duration": 111,
    "start_time": "2023-12-13T04:08:34.664Z"
   },
   {
    "duration": 221,
    "start_time": "2023-12-13T04:08:34.777Z"
   },
   {
    "duration": 106,
    "start_time": "2023-12-13T04:08:35.000Z"
   },
   {
    "duration": 222,
    "start_time": "2023-12-13T04:08:35.108Z"
   },
   {
    "duration": 118,
    "start_time": "2023-12-13T04:08:35.331Z"
   },
   {
    "duration": 619,
    "start_time": "2023-12-13T04:08:35.451Z"
   },
   {
    "duration": 4,
    "start_time": "2023-12-13T04:08:36.071Z"
   },
   {
    "duration": 6,
    "start_time": "2023-12-13T04:08:36.076Z"
   },
   {
    "duration": 6,
    "start_time": "2023-12-13T04:08:36.083Z"
   },
   {
    "duration": 506,
    "start_time": "2023-12-13T04:08:36.090Z"
   },
   {
    "duration": 510,
    "start_time": "2023-12-13T04:08:36.597Z"
   },
   {
    "duration": 505,
    "start_time": "2023-12-13T04:08:37.109Z"
   },
   {
    "duration": 3,
    "start_time": "2023-12-13T04:08:37.616Z"
   },
   {
    "duration": 19,
    "start_time": "2023-12-13T04:08:37.621Z"
   },
   {
    "duration": 78,
    "start_time": "2023-12-13T04:08:37.641Z"
   },
   {
    "duration": 0,
    "start_time": "2023-12-13T04:08:37.721Z"
   },
   {
    "duration": 0,
    "start_time": "2023-12-13T04:08:37.722Z"
   },
   {
    "duration": 0,
    "start_time": "2023-12-13T04:08:37.723Z"
   },
   {
    "duration": 0,
    "start_time": "2023-12-13T04:08:37.724Z"
   },
   {
    "duration": 1417,
    "start_time": "2023-12-13T04:09:01.258Z"
   },
   {
    "duration": 13,
    "start_time": "2023-12-13T04:09:19.368Z"
   },
   {
    "duration": 4,
    "start_time": "2023-12-13T04:09:23.717Z"
   },
   {
    "duration": 21,
    "start_time": "2023-12-13T04:09:24.728Z"
   },
   {
    "duration": 5,
    "start_time": "2023-12-13T04:09:27.603Z"
   },
   {
    "duration": 5666,
    "start_time": "2023-12-13T04:09:28.708Z"
   },
   {
    "duration": 476,
    "start_time": "2023-12-13T04:10:28.929Z"
   },
   {
    "duration": 518,
    "start_time": "2023-12-13T04:10:43.377Z"
   },
   {
    "duration": 529,
    "start_time": "2023-12-13T04:11:19.049Z"
   },
   {
    "duration": 549,
    "start_time": "2023-12-13T04:11:40.968Z"
   },
   {
    "duration": 5,
    "start_time": "2023-12-13T04:12:12.032Z"
   },
   {
    "duration": 22,
    "start_time": "2023-12-13T04:12:40.427Z"
   },
   {
    "duration": 22,
    "start_time": "2023-12-13T04:13:24.703Z"
   },
   {
    "duration": 5,
    "start_time": "2023-12-13T04:14:48.608Z"
   },
   {
    "duration": 5791,
    "start_time": "2023-12-13T04:14:53.162Z"
   },
   {
    "duration": 3,
    "start_time": "2023-12-13T04:15:13.087Z"
   },
   {
    "duration": 18,
    "start_time": "2023-12-13T04:50:36.058Z"
   },
   {
    "duration": 5,
    "start_time": "2023-12-13T05:17:06.443Z"
   },
   {
    "duration": 467,
    "start_time": "2023-12-13T05:17:19.758Z"
   },
   {
    "duration": 5581,
    "start_time": "2023-12-13T05:17:36.418Z"
   },
   {
    "duration": 1349,
    "start_time": "2023-12-13T05:17:42.002Z"
   },
   {
    "duration": 459,
    "start_time": "2023-12-13T05:17:43.353Z"
   },
   {
    "duration": 17,
    "start_time": "2023-12-13T05:17:43.814Z"
   },
   {
    "duration": 14,
    "start_time": "2023-12-13T05:17:43.834Z"
   },
   {
    "duration": 15,
    "start_time": "2023-12-13T05:17:43.850Z"
   },
   {
    "duration": 9,
    "start_time": "2023-12-13T05:17:43.867Z"
   },
   {
    "duration": 5,
    "start_time": "2023-12-13T05:17:43.878Z"
   },
   {
    "duration": 45,
    "start_time": "2023-12-13T05:17:43.886Z"
   },
   {
    "duration": 34,
    "start_time": "2023-12-13T05:17:43.932Z"
   },
   {
    "duration": 30,
    "start_time": "2023-12-13T05:17:43.968Z"
   },
   {
    "duration": 16,
    "start_time": "2023-12-13T05:17:44.022Z"
   },
   {
    "duration": 47,
    "start_time": "2023-12-13T05:17:44.040Z"
   },
   {
    "duration": 27,
    "start_time": "2023-12-13T05:17:44.090Z"
   },
   {
    "duration": 7,
    "start_time": "2023-12-13T05:17:44.119Z"
   },
   {
    "duration": 25,
    "start_time": "2023-12-13T05:17:44.127Z"
   },
   {
    "duration": 31,
    "start_time": "2023-12-13T05:17:44.153Z"
   },
   {
    "duration": 52,
    "start_time": "2023-12-13T05:17:44.186Z"
   },
   {
    "duration": 37,
    "start_time": "2023-12-13T05:17:44.240Z"
   },
   {
    "duration": 256,
    "start_time": "2023-12-13T05:17:44.278Z"
   },
   {
    "duration": 117,
    "start_time": "2023-12-13T05:17:44.537Z"
   },
   {
    "duration": 216,
    "start_time": "2023-12-13T05:17:44.655Z"
   },
   {
    "duration": 106,
    "start_time": "2023-12-13T05:17:44.872Z"
   },
   {
    "duration": 295,
    "start_time": "2023-12-13T05:17:44.980Z"
   },
   {
    "duration": 106,
    "start_time": "2023-12-13T05:17:45.277Z"
   },
   {
    "duration": 234,
    "start_time": "2023-12-13T05:17:45.385Z"
   },
   {
    "duration": 107,
    "start_time": "2023-12-13T05:17:45.621Z"
   },
   {
    "duration": 603,
    "start_time": "2023-12-13T05:17:45.729Z"
   },
   {
    "duration": 36,
    "start_time": "2023-12-13T05:17:46.333Z"
   },
   {
    "duration": 219,
    "start_time": "2023-12-13T05:17:46.371Z"
   },
   {
    "duration": 103,
    "start_time": "2023-12-13T05:17:46.591Z"
   },
   {
    "duration": 26,
    "start_time": "2023-12-13T05:17:46.696Z"
   },
   {
    "duration": 216,
    "start_time": "2023-12-13T05:17:46.724Z"
   },
   {
    "duration": 104,
    "start_time": "2023-12-13T05:17:46.942Z"
   },
   {
    "duration": 311,
    "start_time": "2023-12-13T05:17:47.048Z"
   },
   {
    "duration": 101,
    "start_time": "2023-12-13T05:17:47.361Z"
   },
   {
    "duration": 230,
    "start_time": "2023-12-13T05:17:47.464Z"
   },
   {
    "duration": 121,
    "start_time": "2023-12-13T05:17:47.696Z"
   },
   {
    "duration": 39995,
    "start_time": "2023-12-13T05:17:47.819Z"
   },
   {
    "duration": 6,
    "start_time": "2023-12-13T05:18:27.816Z"
   },
   {
    "duration": 486,
    "start_time": "2023-12-13T05:18:27.826Z"
   },
   {
    "duration": 42,
    "start_time": "2023-12-13T05:18:28.313Z"
   },
   {
    "duration": 237,
    "start_time": "2023-12-13T05:18:28.357Z"
   },
   {
    "duration": 115,
    "start_time": "2023-12-13T05:18:28.595Z"
   },
   {
    "duration": 225,
    "start_time": "2023-12-13T05:18:28.712Z"
   },
   {
    "duration": 108,
    "start_time": "2023-12-13T05:18:28.938Z"
   },
   {
    "duration": 210,
    "start_time": "2023-12-13T05:18:29.047Z"
   },
   {
    "duration": 102,
    "start_time": "2023-12-13T05:18:29.259Z"
   },
   {
    "duration": 244,
    "start_time": "2023-12-13T05:18:29.362Z"
   },
   {
    "duration": 116,
    "start_time": "2023-12-13T05:18:29.607Z"
   },
   {
    "duration": 624,
    "start_time": "2023-12-13T05:18:29.725Z"
   },
   {
    "duration": 5,
    "start_time": "2023-12-13T05:18:30.351Z"
   },
   {
    "duration": 72,
    "start_time": "2023-12-13T05:18:30.358Z"
   },
   {
    "duration": 47,
    "start_time": "2023-12-13T05:18:30.431Z"
   },
   {
    "duration": 515,
    "start_time": "2023-12-13T05:18:30.479Z"
   },
   {
    "duration": 498,
    "start_time": "2023-12-13T05:18:30.996Z"
   },
   {
    "duration": 496,
    "start_time": "2023-12-13T05:18:31.496Z"
   },
   {
    "duration": 2,
    "start_time": "2023-12-13T05:18:31.994Z"
   },
   {
    "duration": 36,
    "start_time": "2023-12-13T05:18:31.997Z"
   },
   {
    "duration": 51,
    "start_time": "2023-12-13T05:18:32.034Z"
   },
   {
    "duration": 107,
    "start_time": "2023-12-13T05:18:32.087Z"
   },
   {
    "duration": 110,
    "start_time": "2023-12-13T05:18:32.196Z"
   },
   {
    "duration": 39,
    "start_time": "2023-12-13T05:18:32.307Z"
   },
   {
    "duration": 5600,
    "start_time": "2023-12-13T05:18:32.347Z"
   },
   {
    "duration": 5408,
    "start_time": "2023-12-13T05:29:20.771Z"
   },
   {
    "duration": 1271,
    "start_time": "2023-12-13T05:29:26.182Z"
   },
   {
    "duration": 457,
    "start_time": "2023-12-13T05:29:27.455Z"
   },
   {
    "duration": 15,
    "start_time": "2023-12-13T05:29:27.914Z"
   },
   {
    "duration": 13,
    "start_time": "2023-12-13T05:29:27.931Z"
   },
   {
    "duration": 13,
    "start_time": "2023-12-13T05:29:27.946Z"
   },
   {
    "duration": 4,
    "start_time": "2023-12-13T05:29:27.961Z"
   },
   {
    "duration": 6,
    "start_time": "2023-12-13T05:29:27.967Z"
   },
   {
    "duration": 48,
    "start_time": "2023-12-13T05:29:27.974Z"
   },
   {
    "duration": 36,
    "start_time": "2023-12-13T05:29:28.025Z"
   },
   {
    "duration": 34,
    "start_time": "2023-12-13T05:29:28.064Z"
   },
   {
    "duration": 22,
    "start_time": "2023-12-13T05:29:28.122Z"
   },
   {
    "duration": 28,
    "start_time": "2023-12-13T05:29:28.146Z"
   },
   {
    "duration": 54,
    "start_time": "2023-12-13T05:29:28.177Z"
   },
   {
    "duration": 5,
    "start_time": "2023-12-13T05:29:28.233Z"
   },
   {
    "duration": 20,
    "start_time": "2023-12-13T05:29:28.239Z"
   },
   {
    "duration": 39,
    "start_time": "2023-12-13T05:29:28.261Z"
   },
   {
    "duration": 52,
    "start_time": "2023-12-13T05:29:28.301Z"
   },
   {
    "duration": 37,
    "start_time": "2023-12-13T05:29:28.355Z"
   },
   {
    "duration": 271,
    "start_time": "2023-12-13T05:29:28.393Z"
   },
   {
    "duration": 128,
    "start_time": "2023-12-13T05:29:28.666Z"
   },
   {
    "duration": 236,
    "start_time": "2023-12-13T05:29:28.795Z"
   },
   {
    "duration": 100,
    "start_time": "2023-12-13T05:29:29.033Z"
   },
   {
    "duration": 293,
    "start_time": "2023-12-13T05:29:29.135Z"
   },
   {
    "duration": 112,
    "start_time": "2023-12-13T05:29:29.430Z"
   },
   {
    "duration": 220,
    "start_time": "2023-12-13T05:29:29.544Z"
   },
   {
    "duration": 121,
    "start_time": "2023-12-13T05:29:29.766Z"
   },
   {
    "duration": 630,
    "start_time": "2023-12-13T05:29:29.891Z"
   },
   {
    "duration": 35,
    "start_time": "2023-12-13T05:29:30.523Z"
   },
   {
    "duration": 225,
    "start_time": "2023-12-13T05:29:30.560Z"
   },
   {
    "duration": 103,
    "start_time": "2023-12-13T05:29:30.787Z"
   },
   {
    "duration": 17,
    "start_time": "2023-12-13T05:29:30.891Z"
   },
   {
    "duration": 267,
    "start_time": "2023-12-13T05:29:30.923Z"
   },
   {
    "duration": 97,
    "start_time": "2023-12-13T05:29:31.192Z"
   },
   {
    "duration": 314,
    "start_time": "2023-12-13T05:29:31.291Z"
   },
   {
    "duration": 103,
    "start_time": "2023-12-13T05:29:31.607Z"
   },
   {
    "duration": 210,
    "start_time": "2023-12-13T05:29:31.712Z"
   },
   {
    "duration": 118,
    "start_time": "2023-12-13T05:29:31.924Z"
   },
   {
    "duration": 36025,
    "start_time": "2023-12-13T05:29:32.043Z"
   },
   {
    "duration": 36,
    "start_time": "2023-12-13T05:30:08.070Z"
   },
   {
    "duration": 237,
    "start_time": "2023-12-13T05:30:08.108Z"
   },
   {
    "duration": 110,
    "start_time": "2023-12-13T05:30:08.346Z"
   },
   {
    "duration": 224,
    "start_time": "2023-12-13T05:30:08.458Z"
   },
   {
    "duration": 111,
    "start_time": "2023-12-13T05:30:08.684Z"
   },
   {
    "duration": 225,
    "start_time": "2023-12-13T05:30:08.797Z"
   },
   {
    "duration": 105,
    "start_time": "2023-12-13T05:30:09.024Z"
   },
   {
    "duration": 216,
    "start_time": "2023-12-13T05:30:09.131Z"
   },
   {
    "duration": 113,
    "start_time": "2023-12-13T05:30:09.348Z"
   },
   {
    "duration": 626,
    "start_time": "2023-12-13T05:30:09.463Z"
   },
   {
    "duration": 4,
    "start_time": "2023-12-13T05:30:10.090Z"
   },
   {
    "duration": 9,
    "start_time": "2023-12-13T05:30:10.096Z"
   },
   {
    "duration": 16,
    "start_time": "2023-12-13T05:30:10.106Z"
   },
   {
    "duration": 474,
    "start_time": "2023-12-13T05:30:10.124Z"
   },
   {
    "duration": 504,
    "start_time": "2023-12-13T05:30:10.600Z"
   },
   {
    "duration": 514,
    "start_time": "2023-12-13T05:30:11.106Z"
   },
   {
    "duration": 3,
    "start_time": "2023-12-13T05:30:11.622Z"
   },
   {
    "duration": 7,
    "start_time": "2023-12-13T05:30:11.627Z"
   },
   {
    "duration": 15,
    "start_time": "2023-12-13T05:30:11.635Z"
   },
   {
    "duration": 18,
    "start_time": "2023-12-13T05:30:11.651Z"
   },
   {
    "duration": 28,
    "start_time": "2023-12-13T05:30:11.671Z"
   },
   {
    "duration": 5,
    "start_time": "2023-12-13T05:30:11.700Z"
   },
   {
    "duration": 5718,
    "start_time": "2023-12-13T05:30:11.707Z"
   },
   {
    "duration": 38,
    "start_time": "2023-12-13T05:34:44.313Z"
   },
   {
    "duration": 5637,
    "start_time": "2023-12-13T06:19:07.643Z"
   },
   {
    "duration": 1251,
    "start_time": "2023-12-13T06:19:13.283Z"
   },
   {
    "duration": 452,
    "start_time": "2023-12-13T06:19:14.536Z"
   },
   {
    "duration": 14,
    "start_time": "2023-12-13T06:19:14.991Z"
   },
   {
    "duration": 60,
    "start_time": "2023-12-13T06:19:15.006Z"
   },
   {
    "duration": 45,
    "start_time": "2023-12-13T06:19:15.068Z"
   },
   {
    "duration": 20,
    "start_time": "2023-12-13T06:19:15.115Z"
   },
   {
    "duration": 31,
    "start_time": "2023-12-13T06:19:15.136Z"
   },
   {
    "duration": 74,
    "start_time": "2023-12-13T06:19:15.168Z"
   },
   {
    "duration": 47,
    "start_time": "2023-12-13T06:19:15.244Z"
   },
   {
    "duration": 33,
    "start_time": "2023-12-13T06:19:15.293Z"
   },
   {
    "duration": 16,
    "start_time": "2023-12-13T06:19:15.327Z"
   },
   {
    "duration": 39,
    "start_time": "2023-12-13T06:19:15.345Z"
   },
   {
    "duration": 25,
    "start_time": "2023-12-13T06:19:15.386Z"
   },
   {
    "duration": 10,
    "start_time": "2023-12-13T06:19:15.413Z"
   },
   {
    "duration": 15,
    "start_time": "2023-12-13T06:19:15.425Z"
   },
   {
    "duration": 31,
    "start_time": "2023-12-13T06:19:15.442Z"
   },
   {
    "duration": 67,
    "start_time": "2023-12-13T06:19:15.475Z"
   },
   {
    "duration": 37,
    "start_time": "2023-12-13T06:19:15.543Z"
   },
   {
    "duration": 257,
    "start_time": "2023-12-13T06:19:15.582Z"
   },
   {
    "duration": 119,
    "start_time": "2023-12-13T06:19:15.841Z"
   },
   {
    "duration": 214,
    "start_time": "2023-12-13T06:19:15.961Z"
   },
   {
    "duration": 100,
    "start_time": "2023-12-13T06:19:16.177Z"
   },
   {
    "duration": 288,
    "start_time": "2023-12-13T06:19:16.279Z"
   },
   {
    "duration": 106,
    "start_time": "2023-12-13T06:19:16.569Z"
   },
   {
    "duration": 232,
    "start_time": "2023-12-13T06:19:16.677Z"
   },
   {
    "duration": 115,
    "start_time": "2023-12-13T06:19:16.911Z"
   },
   {
    "duration": 630,
    "start_time": "2023-12-13T06:19:17.030Z"
   },
   {
    "duration": 38,
    "start_time": "2023-12-13T06:19:17.661Z"
   },
   {
    "duration": 212,
    "start_time": "2023-12-13T06:19:17.700Z"
   },
   {
    "duration": 108,
    "start_time": "2023-12-13T06:19:17.914Z"
   },
   {
    "duration": 17,
    "start_time": "2023-12-13T06:19:18.024Z"
   },
   {
    "duration": 232,
    "start_time": "2023-12-13T06:19:18.043Z"
   },
   {
    "duration": 105,
    "start_time": "2023-12-13T06:19:18.276Z"
   },
   {
    "duration": 312,
    "start_time": "2023-12-13T06:19:18.382Z"
   },
   {
    "duration": 105,
    "start_time": "2023-12-13T06:19:18.696Z"
   },
   {
    "duration": 215,
    "start_time": "2023-12-13T06:19:18.803Z"
   },
   {
    "duration": 124,
    "start_time": "2023-12-13T06:19:19.019Z"
   },
   {
    "duration": 36790,
    "start_time": "2023-12-13T06:19:19.145Z"
   },
   {
    "duration": 37,
    "start_time": "2023-12-13T06:19:55.937Z"
   },
   {
    "duration": 247,
    "start_time": "2023-12-13T06:19:55.975Z"
   },
   {
    "duration": 114,
    "start_time": "2023-12-13T06:19:56.224Z"
   },
   {
    "duration": 221,
    "start_time": "2023-12-13T06:19:56.340Z"
   },
   {
    "duration": 111,
    "start_time": "2023-12-13T06:19:56.563Z"
   },
   {
    "duration": 212,
    "start_time": "2023-12-13T06:19:56.676Z"
   },
   {
    "duration": 102,
    "start_time": "2023-12-13T06:19:56.889Z"
   },
   {
    "duration": 231,
    "start_time": "2023-12-13T06:19:56.993Z"
   },
   {
    "duration": 117,
    "start_time": "2023-12-13T06:19:57.226Z"
   },
   {
    "duration": 590,
    "start_time": "2023-12-13T06:19:57.345Z"
   },
   {
    "duration": 3,
    "start_time": "2023-12-13T06:19:57.937Z"
   },
   {
    "duration": 33,
    "start_time": "2023-12-13T06:19:57.942Z"
   },
   {
    "duration": 22,
    "start_time": "2023-12-13T06:19:57.976Z"
   },
   {
    "duration": 496,
    "start_time": "2023-12-13T06:19:58.000Z"
   },
   {
    "duration": 537,
    "start_time": "2023-12-13T06:19:58.497Z"
   },
   {
    "duration": 536,
    "start_time": "2023-12-13T06:19:59.035Z"
   },
   {
    "duration": 3,
    "start_time": "2023-12-13T06:19:59.573Z"
   },
   {
    "duration": 12,
    "start_time": "2023-12-13T06:19:59.577Z"
   },
   {
    "duration": 22,
    "start_time": "2023-12-13T06:19:59.590Z"
   },
   {
    "duration": 4,
    "start_time": "2023-12-13T06:19:59.614Z"
   },
   {
    "duration": 24,
    "start_time": "2023-12-13T06:19:59.622Z"
   },
   {
    "duration": 6,
    "start_time": "2023-12-13T06:19:59.648Z"
   },
   {
    "duration": 5657,
    "start_time": "2023-12-13T06:19:59.655Z"
   },
   {
    "duration": 47,
    "start_time": "2023-12-13T07:44:40.206Z"
   },
   {
    "duration": 6,
    "start_time": "2023-12-13T07:46:21.606Z"
   },
   {
    "duration": 7,
    "start_time": "2023-12-13T07:48:13.871Z"
   },
   {
    "duration": 9656,
    "start_time": "2023-12-13T07:55:51.132Z"
   },
   {
    "duration": 1443,
    "start_time": "2023-12-13T07:56:00.790Z"
   },
   {
    "duration": 1661,
    "start_time": "2023-12-13T07:56:02.235Z"
   },
   {
    "duration": 15,
    "start_time": "2023-12-13T07:56:03.898Z"
   },
   {
    "duration": 9,
    "start_time": "2023-12-13T07:56:03.915Z"
   },
   {
    "duration": 11,
    "start_time": "2023-12-13T07:56:03.925Z"
   },
   {
    "duration": 6,
    "start_time": "2023-12-13T07:56:03.937Z"
   },
   {
    "duration": 9,
    "start_time": "2023-12-13T07:56:03.945Z"
   },
   {
    "duration": 28,
    "start_time": "2023-12-13T07:56:03.956Z"
   },
   {
    "duration": 58,
    "start_time": "2023-12-13T07:56:03.986Z"
   },
   {
    "duration": 29,
    "start_time": "2023-12-13T07:56:04.046Z"
   },
   {
    "duration": 38,
    "start_time": "2023-12-13T07:56:04.077Z"
   },
   {
    "duration": 26,
    "start_time": "2023-12-13T07:56:04.116Z"
   },
   {
    "duration": 25,
    "start_time": "2023-12-13T07:56:04.144Z"
   },
   {
    "duration": 6,
    "start_time": "2023-12-13T07:56:04.171Z"
   },
   {
    "duration": 49,
    "start_time": "2023-12-13T07:56:04.179Z"
   },
   {
    "duration": 30,
    "start_time": "2023-12-13T07:56:04.230Z"
   },
   {
    "duration": 54,
    "start_time": "2023-12-13T07:56:04.261Z"
   },
   {
    "duration": 35,
    "start_time": "2023-12-13T07:56:04.317Z"
   },
   {
    "duration": 240,
    "start_time": "2023-12-13T07:56:04.353Z"
   },
   {
    "duration": 113,
    "start_time": "2023-12-13T07:56:04.595Z"
   },
   {
    "duration": 199,
    "start_time": "2023-12-13T07:56:04.714Z"
   },
   {
    "duration": 108,
    "start_time": "2023-12-13T07:56:04.915Z"
   },
   {
    "duration": 284,
    "start_time": "2023-12-13T07:56:05.024Z"
   },
   {
    "duration": 93,
    "start_time": "2023-12-13T07:56:05.310Z"
   },
   {
    "duration": 204,
    "start_time": "2023-12-13T07:56:05.415Z"
   },
   {
    "duration": 111,
    "start_time": "2023-12-13T07:56:05.621Z"
   },
   {
    "duration": 622,
    "start_time": "2023-12-13T07:56:05.737Z"
   },
   {
    "duration": 36,
    "start_time": "2023-12-13T07:56:06.361Z"
   },
   {
    "duration": 190,
    "start_time": "2023-12-13T07:56:06.414Z"
   },
   {
    "duration": 99,
    "start_time": "2023-12-13T07:56:06.606Z"
   },
   {
    "duration": 17,
    "start_time": "2023-12-13T07:56:06.715Z"
   },
   {
    "duration": 198,
    "start_time": "2023-12-13T07:56:06.734Z"
   },
   {
    "duration": 94,
    "start_time": "2023-12-13T07:56:06.934Z"
   },
   {
    "duration": 308,
    "start_time": "2023-12-13T07:56:07.031Z"
   },
   {
    "duration": 95,
    "start_time": "2023-12-13T07:56:07.341Z"
   },
   {
    "duration": 210,
    "start_time": "2023-12-13T07:56:07.438Z"
   },
   {
    "duration": 103,
    "start_time": "2023-12-13T07:56:07.650Z"
   },
   {
    "duration": 35338,
    "start_time": "2023-12-13T07:56:07.755Z"
   },
   {
    "duration": 41,
    "start_time": "2023-12-13T07:56:43.095Z"
   },
   {
    "duration": 210,
    "start_time": "2023-12-13T07:56:43.138Z"
   },
   {
    "duration": 105,
    "start_time": "2023-12-13T07:56:43.350Z"
   },
   {
    "duration": 208,
    "start_time": "2023-12-13T07:56:43.457Z"
   },
   {
    "duration": 102,
    "start_time": "2023-12-13T07:56:43.667Z"
   },
   {
    "duration": 196,
    "start_time": "2023-12-13T07:56:43.771Z"
   },
   {
    "duration": 97,
    "start_time": "2023-12-13T07:56:43.969Z"
   },
   {
    "duration": 201,
    "start_time": "2023-12-13T07:56:44.068Z"
   },
   {
    "duration": 113,
    "start_time": "2023-12-13T07:56:44.271Z"
   },
   {
    "duration": 583,
    "start_time": "2023-12-13T07:56:44.386Z"
   },
   {
    "duration": 4,
    "start_time": "2023-12-13T07:56:44.971Z"
   },
   {
    "duration": 155,
    "start_time": "2023-12-13T07:56:44.977Z"
   },
   {
    "duration": 2,
    "start_time": "2023-12-13T07:56:45.134Z"
   },
   {
    "duration": 66,
    "start_time": "2023-12-13T07:56:45.138Z"
   },
   {
    "duration": 3,
    "start_time": "2023-12-13T07:56:45.206Z"
   },
   {
    "duration": 304,
    "start_time": "2023-12-13T07:56:45.211Z"
   },
   {
    "duration": 99,
    "start_time": "2023-12-13T07:56:45.518Z"
   },
   {
    "duration": 272,
    "start_time": "2023-12-13T07:56:45.618Z"
   },
   {
    "duration": 324,
    "start_time": "2023-12-13T07:56:45.891Z"
   },
   {
    "duration": 291,
    "start_time": "2023-12-13T07:56:46.216Z"
   },
   {
    "duration": 7,
    "start_time": "2023-12-13T07:56:46.509Z"
   },
   {
    "duration": 7,
    "start_time": "2023-12-13T07:56:46.517Z"
   },
   {
    "duration": 127,
    "start_time": "2023-12-13T07:56:46.526Z"
   },
   {
    "duration": 0,
    "start_time": "2023-12-13T07:56:46.655Z"
   },
   {
    "duration": 0,
    "start_time": "2023-12-13T07:56:46.657Z"
   },
   {
    "duration": 0,
    "start_time": "2023-12-13T07:56:46.658Z"
   },
   {
    "duration": 0,
    "start_time": "2023-12-13T07:56:46.660Z"
   },
   {
    "duration": 406,
    "start_time": "2023-12-13T07:58:28.847Z"
   },
   {
    "duration": 587,
    "start_time": "2023-12-13T08:04:02.481Z"
   },
   {
    "duration": 595,
    "start_time": "2023-12-13T08:04:37.121Z"
   },
   {
    "duration": 821,
    "start_time": "2023-12-13T08:06:23.060Z"
   },
   {
    "duration": 773,
    "start_time": "2023-12-13T08:07:04.976Z"
   },
   {
    "duration": 722,
    "start_time": "2023-12-13T08:07:20.465Z"
   },
   {
    "duration": 804,
    "start_time": "2023-12-13T08:07:28.249Z"
   },
   {
    "duration": 749,
    "start_time": "2023-12-13T08:07:37.276Z"
   },
   {
    "duration": 5377,
    "start_time": "2023-12-13T08:08:07.890Z"
   },
   {
    "duration": 1151,
    "start_time": "2023-12-13T08:08:13.270Z"
   },
   {
    "duration": 418,
    "start_time": "2023-12-13T08:08:14.422Z"
   },
   {
    "duration": 15,
    "start_time": "2023-12-13T08:08:14.841Z"
   },
   {
    "duration": 12,
    "start_time": "2023-12-13T08:08:14.859Z"
   },
   {
    "duration": 35,
    "start_time": "2023-12-13T08:08:14.873Z"
   },
   {
    "duration": 11,
    "start_time": "2023-12-13T08:08:14.910Z"
   },
   {
    "duration": 7,
    "start_time": "2023-12-13T08:08:14.922Z"
   },
   {
    "duration": 20,
    "start_time": "2023-12-13T08:08:14.931Z"
   },
   {
    "duration": 33,
    "start_time": "2023-12-13T08:08:14.953Z"
   },
   {
    "duration": 47,
    "start_time": "2023-12-13T08:08:14.987Z"
   },
   {
    "duration": 38,
    "start_time": "2023-12-13T08:08:15.036Z"
   },
   {
    "duration": 40,
    "start_time": "2023-12-13T08:08:15.076Z"
   },
   {
    "duration": 25,
    "start_time": "2023-12-13T08:08:15.119Z"
   },
   {
    "duration": 10,
    "start_time": "2023-12-13T08:08:15.146Z"
   },
   {
    "duration": 28,
    "start_time": "2023-12-13T08:08:15.158Z"
   },
   {
    "duration": 40,
    "start_time": "2023-12-13T08:08:15.187Z"
   },
   {
    "duration": 26,
    "start_time": "2023-12-13T08:08:15.229Z"
   },
   {
    "duration": 61,
    "start_time": "2023-12-13T08:08:15.257Z"
   },
   {
    "duration": 233,
    "start_time": "2023-12-13T08:08:15.320Z"
   },
   {
    "duration": 107,
    "start_time": "2023-12-13T08:08:15.554Z"
   },
   {
    "duration": 202,
    "start_time": "2023-12-13T08:08:15.663Z"
   },
   {
    "duration": 96,
    "start_time": "2023-12-13T08:08:15.866Z"
   },
   {
    "duration": 292,
    "start_time": "2023-12-13T08:08:15.964Z"
   },
   {
    "duration": 101,
    "start_time": "2023-12-13T08:08:16.257Z"
   },
   {
    "duration": 211,
    "start_time": "2023-12-13T08:08:16.360Z"
   },
   {
    "duration": 110,
    "start_time": "2023-12-13T08:08:16.573Z"
   },
   {
    "duration": 600,
    "start_time": "2023-12-13T08:08:16.685Z"
   },
   {
    "duration": 42,
    "start_time": "2023-12-13T08:08:17.287Z"
   },
   {
    "duration": 205,
    "start_time": "2023-12-13T08:08:17.330Z"
   },
   {
    "duration": 100,
    "start_time": "2023-12-13T08:08:17.536Z"
   },
   {
    "duration": 17,
    "start_time": "2023-12-13T08:08:17.637Z"
   },
   {
    "duration": 195,
    "start_time": "2023-12-13T08:08:17.655Z"
   },
   {
    "duration": 92,
    "start_time": "2023-12-13T08:08:17.851Z"
   },
   {
    "duration": 292,
    "start_time": "2023-12-13T08:08:17.945Z"
   },
   {
    "duration": 94,
    "start_time": "2023-12-13T08:08:18.239Z"
   },
   {
    "duration": 195,
    "start_time": "2023-12-13T08:08:18.334Z"
   },
   {
    "duration": 107,
    "start_time": "2023-12-13T08:08:18.531Z"
   },
   {
    "duration": 34592,
    "start_time": "2023-12-13T08:08:18.639Z"
   },
   {
    "duration": 36,
    "start_time": "2023-12-13T08:08:53.232Z"
   },
   {
    "duration": 228,
    "start_time": "2023-12-13T08:08:53.274Z"
   },
   {
    "duration": 112,
    "start_time": "2023-12-13T08:08:53.504Z"
   },
   {
    "duration": 214,
    "start_time": "2023-12-13T08:08:53.618Z"
   },
   {
    "duration": 112,
    "start_time": "2023-12-13T08:08:53.834Z"
   },
   {
    "duration": 198,
    "start_time": "2023-12-13T08:08:53.948Z"
   },
   {
    "duration": 101,
    "start_time": "2023-12-13T08:08:54.147Z"
   },
   {
    "duration": 217,
    "start_time": "2023-12-13T08:08:54.250Z"
   },
   {
    "duration": 109,
    "start_time": "2023-12-13T08:08:54.468Z"
   },
   {
    "duration": 604,
    "start_time": "2023-12-13T08:08:54.579Z"
   },
   {
    "duration": 4,
    "start_time": "2023-12-13T08:08:55.184Z"
   },
   {
    "duration": 130,
    "start_time": "2023-12-13T08:08:55.189Z"
   },
   {
    "duration": 2,
    "start_time": "2023-12-13T08:08:55.321Z"
   },
   {
    "duration": 45,
    "start_time": "2023-12-13T08:08:55.324Z"
   },
   {
    "duration": 4,
    "start_time": "2023-12-13T08:08:55.370Z"
   },
   {
    "duration": 400,
    "start_time": "2023-12-13T08:08:55.415Z"
   },
   {
    "duration": 14,
    "start_time": "2023-12-13T08:08:55.817Z"
   },
   {
    "duration": 866,
    "start_time": "2023-12-13T08:08:55.833Z"
   },
   {
    "duration": 2,
    "start_time": "2023-12-13T08:08:56.701Z"
   },
   {
    "duration": 12,
    "start_time": "2023-12-13T08:08:56.704Z"
   },
   {
    "duration": 118,
    "start_time": "2023-12-13T08:08:56.717Z"
   },
   {
    "duration": 0,
    "start_time": "2023-12-13T08:08:56.836Z"
   },
   {
    "duration": 0,
    "start_time": "2023-12-13T08:08:56.837Z"
   },
   {
    "duration": 0,
    "start_time": "2023-12-13T08:08:56.838Z"
   },
   {
    "duration": 0,
    "start_time": "2023-12-13T08:08:56.839Z"
   },
   {
    "duration": 13,
    "start_time": "2023-12-13T08:11:59.838Z"
   },
   {
    "duration": 13,
    "start_time": "2023-12-13T08:14:10.625Z"
   },
   {
    "duration": 17,
    "start_time": "2023-12-13T08:14:33.790Z"
   },
   {
    "duration": 3,
    "start_time": "2023-12-13T08:15:35.083Z"
   },
   {
    "duration": 21,
    "start_time": "2023-12-13T08:15:36.079Z"
   },
   {
    "duration": 6,
    "start_time": "2023-12-13T08:15:39.183Z"
   },
   {
    "duration": 5364,
    "start_time": "2023-12-13T08:15:40.709Z"
   },
   {
    "duration": 24,
    "start_time": "2023-12-13T08:47:13.068Z"
   },
   {
    "duration": 23,
    "start_time": "2023-12-13T08:47:29.047Z"
   },
   {
    "duration": 9,
    "start_time": "2023-12-13T08:47:46.918Z"
   },
   {
    "duration": 5373,
    "start_time": "2023-12-13T08:48:09.088Z"
   },
   {
    "duration": 5398,
    "start_time": "2023-12-13T08:48:28.219Z"
   },
   {
    "duration": 1288,
    "start_time": "2023-12-13T08:48:33.619Z"
   },
   {
    "duration": 459,
    "start_time": "2023-12-13T08:48:34.909Z"
   },
   {
    "duration": 13,
    "start_time": "2023-12-13T08:48:35.370Z"
   },
   {
    "duration": 11,
    "start_time": "2023-12-13T08:48:35.385Z"
   },
   {
    "duration": 23,
    "start_time": "2023-12-13T08:48:35.397Z"
   },
   {
    "duration": 11,
    "start_time": "2023-12-13T08:48:35.422Z"
   },
   {
    "duration": 7,
    "start_time": "2023-12-13T08:48:35.434Z"
   },
   {
    "duration": 25,
    "start_time": "2023-12-13T08:48:35.443Z"
   },
   {
    "duration": 43,
    "start_time": "2023-12-13T08:48:35.470Z"
   },
   {
    "duration": 30,
    "start_time": "2023-12-13T08:48:35.515Z"
   },
   {
    "duration": 15,
    "start_time": "2023-12-13T08:48:35.547Z"
   },
   {
    "duration": 52,
    "start_time": "2023-12-13T08:48:35.563Z"
   },
   {
    "duration": 27,
    "start_time": "2023-12-13T08:48:35.617Z"
   },
   {
    "duration": 5,
    "start_time": "2023-12-13T08:48:35.645Z"
   },
   {
    "duration": 65,
    "start_time": "2023-12-13T08:48:35.652Z"
   },
   {
    "duration": 37,
    "start_time": "2023-12-13T08:48:35.718Z"
   },
   {
    "duration": 28,
    "start_time": "2023-12-13T08:48:35.756Z"
   },
   {
    "duration": 55,
    "start_time": "2023-12-13T08:48:35.785Z"
   },
   {
    "duration": 237,
    "start_time": "2023-12-13T08:48:35.842Z"
   },
   {
    "duration": 112,
    "start_time": "2023-12-13T08:48:36.081Z"
   },
   {
    "duration": 199,
    "start_time": "2023-12-13T08:48:36.194Z"
   },
   {
    "duration": 85,
    "start_time": "2023-12-13T08:48:36.395Z"
   },
   {
    "duration": 282,
    "start_time": "2023-12-13T08:48:36.482Z"
   },
   {
    "duration": 97,
    "start_time": "2023-12-13T08:48:36.766Z"
   },
   {
    "duration": 222,
    "start_time": "2023-12-13T08:48:36.865Z"
   },
   {
    "duration": 109,
    "start_time": "2023-12-13T08:48:37.089Z"
   },
   {
    "duration": 617,
    "start_time": "2023-12-13T08:48:37.201Z"
   },
   {
    "duration": 35,
    "start_time": "2023-12-13T08:48:37.820Z"
   },
   {
    "duration": 201,
    "start_time": "2023-12-13T08:48:37.856Z"
   },
   {
    "duration": 109,
    "start_time": "2023-12-13T08:48:38.059Z"
   },
   {
    "duration": 16,
    "start_time": "2023-12-13T08:48:38.169Z"
   },
   {
    "duration": 206,
    "start_time": "2023-12-13T08:48:38.186Z"
   },
   {
    "duration": 95,
    "start_time": "2023-12-13T08:48:38.393Z"
   },
   {
    "duration": 297,
    "start_time": "2023-12-13T08:48:38.489Z"
   },
   {
    "duration": 121,
    "start_time": "2023-12-13T08:48:38.788Z"
   },
   {
    "duration": 203,
    "start_time": "2023-12-13T08:48:38.914Z"
   },
   {
    "duration": 108,
    "start_time": "2023-12-13T08:48:39.119Z"
   },
   {
    "duration": 35321,
    "start_time": "2023-12-13T08:48:39.229Z"
   },
   {
    "duration": 33,
    "start_time": "2023-12-13T08:49:14.552Z"
   },
   {
    "duration": 210,
    "start_time": "2023-12-13T08:49:14.587Z"
   },
   {
    "duration": 107,
    "start_time": "2023-12-13T08:49:14.798Z"
   },
   {
    "duration": 231,
    "start_time": "2023-12-13T08:49:14.907Z"
   },
   {
    "duration": 105,
    "start_time": "2023-12-13T08:49:15.139Z"
   },
   {
    "duration": 207,
    "start_time": "2023-12-13T08:49:15.245Z"
   },
   {
    "duration": 98,
    "start_time": "2023-12-13T08:49:15.453Z"
   },
   {
    "duration": 206,
    "start_time": "2023-12-13T08:49:15.552Z"
   },
   {
    "duration": 103,
    "start_time": "2023-12-13T08:49:15.760Z"
   },
   {
    "duration": 585,
    "start_time": "2023-12-13T08:49:15.865Z"
   },
   {
    "duration": 4,
    "start_time": "2023-12-13T08:49:16.451Z"
   },
   {
    "duration": 144,
    "start_time": "2023-12-13T08:49:16.456Z"
   },
   {
    "duration": 3,
    "start_time": "2023-12-13T08:49:16.602Z"
   },
   {
    "duration": 55,
    "start_time": "2023-12-13T08:49:16.606Z"
   },
   {
    "duration": 4,
    "start_time": "2023-12-13T08:49:16.663Z"
   },
   {
    "duration": 256,
    "start_time": "2023-12-13T08:49:16.668Z"
   },
   {
    "duration": 100,
    "start_time": "2023-12-13T08:49:17.016Z"
   },
   {
    "duration": 776,
    "start_time": "2023-12-13T08:49:17.118Z"
   },
   {
    "duration": 3,
    "start_time": "2023-12-13T08:49:17.895Z"
   },
   {
    "duration": 6,
    "start_time": "2023-12-13T08:49:17.899Z"
   },
   {
    "duration": 11,
    "start_time": "2023-12-13T08:49:17.915Z"
   },
   {
    "duration": 2,
    "start_time": "2023-12-13T08:49:17.928Z"
   },
   {
    "duration": 20,
    "start_time": "2023-12-13T08:49:17.932Z"
   },
   {
    "duration": 5,
    "start_time": "2023-12-13T08:49:17.953Z"
   },
   {
    "duration": 5393,
    "start_time": "2023-12-13T08:49:17.960Z"
   },
   {
    "duration": 21,
    "start_time": "2023-12-13T08:51:47.198Z"
   },
   {
    "duration": 5300,
    "start_time": "2023-12-13T08:54:29.223Z"
   },
   {
    "duration": 1276,
    "start_time": "2023-12-13T08:54:34.525Z"
   },
   {
    "duration": 434,
    "start_time": "2023-12-13T08:54:35.803Z"
   },
   {
    "duration": 15,
    "start_time": "2023-12-13T08:54:36.239Z"
   },
   {
    "duration": 23,
    "start_time": "2023-12-13T08:54:36.255Z"
   },
   {
    "duration": 15,
    "start_time": "2023-12-13T08:54:36.280Z"
   },
   {
    "duration": 20,
    "start_time": "2023-12-13T08:54:36.297Z"
   },
   {
    "duration": 23,
    "start_time": "2023-12-13T08:54:36.319Z"
   },
   {
    "duration": 36,
    "start_time": "2023-12-13T08:54:36.344Z"
   },
   {
    "duration": 31,
    "start_time": "2023-12-13T08:54:36.383Z"
   },
   {
    "duration": 34,
    "start_time": "2023-12-13T08:54:36.416Z"
   },
   {
    "duration": 27,
    "start_time": "2023-12-13T08:54:36.452Z"
   },
   {
    "duration": 25,
    "start_time": "2023-12-13T08:54:36.480Z"
   },
   {
    "duration": 23,
    "start_time": "2023-12-13T08:54:36.515Z"
   },
   {
    "duration": 5,
    "start_time": "2023-12-13T08:54:36.539Z"
   },
   {
    "duration": 22,
    "start_time": "2023-12-13T08:54:36.546Z"
   },
   {
    "duration": 53,
    "start_time": "2023-12-13T08:54:36.569Z"
   },
   {
    "duration": 26,
    "start_time": "2023-12-13T08:54:36.624Z"
   },
   {
    "duration": 37,
    "start_time": "2023-12-13T08:54:36.652Z"
   },
   {
    "duration": 245,
    "start_time": "2023-12-13T08:54:36.691Z"
   },
   {
    "duration": 116,
    "start_time": "2023-12-13T08:54:36.938Z"
   },
   {
    "duration": 191,
    "start_time": "2023-12-13T08:54:37.056Z"
   },
   {
    "duration": 89,
    "start_time": "2023-12-13T08:54:37.249Z"
   },
   {
    "duration": 278,
    "start_time": "2023-12-13T08:54:37.339Z"
   },
   {
    "duration": 85,
    "start_time": "2023-12-13T08:54:37.618Z"
   },
   {
    "duration": 199,
    "start_time": "2023-12-13T08:54:37.715Z"
   },
   {
    "duration": 106,
    "start_time": "2023-12-13T08:54:37.916Z"
   },
   {
    "duration": 617,
    "start_time": "2023-12-13T08:54:38.025Z"
   },
   {
    "duration": 32,
    "start_time": "2023-12-13T08:54:38.644Z"
   },
   {
    "duration": 220,
    "start_time": "2023-12-13T08:54:38.677Z"
   },
   {
    "duration": 106,
    "start_time": "2023-12-13T08:54:38.899Z"
   },
   {
    "duration": 18,
    "start_time": "2023-12-13T08:54:39.007Z"
   },
   {
    "duration": 209,
    "start_time": "2023-12-13T08:54:39.027Z"
   },
   {
    "duration": 98,
    "start_time": "2023-12-13T08:54:39.238Z"
   },
   {
    "duration": 293,
    "start_time": "2023-12-13T08:54:39.338Z"
   },
   {
    "duration": 98,
    "start_time": "2023-12-13T08:54:39.633Z"
   },
   {
    "duration": 209,
    "start_time": "2023-12-13T08:54:39.732Z"
   },
   {
    "duration": 113,
    "start_time": "2023-12-13T08:54:39.942Z"
   },
   {
    "duration": 35278,
    "start_time": "2023-12-13T08:54:40.057Z"
   },
   {
    "duration": 36,
    "start_time": "2023-12-13T08:55:15.337Z"
   },
   {
    "duration": 282,
    "start_time": "2023-12-13T08:55:15.374Z"
   },
   {
    "duration": 260,
    "start_time": "2023-12-13T08:55:15.658Z"
   },
   {
    "duration": 425,
    "start_time": "2023-12-13T08:55:15.920Z"
   },
   {
    "duration": 202,
    "start_time": "2023-12-13T08:55:16.346Z"
   },
   {
    "duration": 402,
    "start_time": "2023-12-13T08:55:16.549Z"
   },
   {
    "duration": 113,
    "start_time": "2023-12-13T08:55:16.952Z"
   },
   {
    "duration": 208,
    "start_time": "2023-12-13T08:55:17.067Z"
   },
   {
    "duration": 107,
    "start_time": "2023-12-13T08:55:17.277Z"
   },
   {
    "duration": 571,
    "start_time": "2023-12-13T08:55:17.385Z"
   },
   {
    "duration": 4,
    "start_time": "2023-12-13T08:55:17.957Z"
   },
   {
    "duration": 130,
    "start_time": "2023-12-13T08:55:17.962Z"
   },
   {
    "duration": 3,
    "start_time": "2023-12-13T08:55:18.093Z"
   },
   {
    "duration": 52,
    "start_time": "2023-12-13T08:55:18.097Z"
   },
   {
    "duration": 4,
    "start_time": "2023-12-13T08:55:18.150Z"
   },
   {
    "duration": 264,
    "start_time": "2023-12-13T08:55:18.155Z"
   },
   {
    "duration": 95,
    "start_time": "2023-12-13T08:55:18.421Z"
   },
   {
    "duration": 803,
    "start_time": "2023-12-13T08:55:18.518Z"
   },
   {
    "duration": 3,
    "start_time": "2023-12-13T08:55:19.323Z"
   },
   {
    "duration": 16,
    "start_time": "2023-12-13T08:55:19.327Z"
   },
   {
    "duration": 22,
    "start_time": "2023-12-13T08:55:19.344Z"
   },
   {
    "duration": 24,
    "start_time": "2023-12-13T08:55:19.368Z"
   },
   {
    "duration": 32,
    "start_time": "2023-12-13T08:55:19.394Z"
   },
   {
    "duration": 6,
    "start_time": "2023-12-13T08:55:19.427Z"
   },
   {
    "duration": 5319,
    "start_time": "2023-12-13T08:55:19.434Z"
   },
   {
    "duration": 6,
    "start_time": "2023-12-13T09:16:56.241Z"
   },
   {
    "duration": 5508,
    "start_time": "2023-12-13T09:16:58.165Z"
   },
   {
    "duration": 5710,
    "start_time": "2023-12-13T09:19:10.155Z"
   },
   {
    "duration": 5451,
    "start_time": "2023-12-13T09:19:28.419Z"
   },
   {
    "duration": 1259,
    "start_time": "2023-12-13T09:19:33.873Z"
   },
   {
    "duration": 449,
    "start_time": "2023-12-13T09:19:35.134Z"
   },
   {
    "duration": 15,
    "start_time": "2023-12-13T09:19:35.585Z"
   },
   {
    "duration": 18,
    "start_time": "2023-12-13T09:19:35.602Z"
   },
   {
    "duration": 20,
    "start_time": "2023-12-13T09:19:35.622Z"
   },
   {
    "duration": 31,
    "start_time": "2023-12-13T09:19:35.644Z"
   },
   {
    "duration": 5,
    "start_time": "2023-12-13T09:19:35.686Z"
   },
   {
    "duration": 47,
    "start_time": "2023-12-13T09:19:35.692Z"
   },
   {
    "duration": 61,
    "start_time": "2023-12-13T09:19:35.741Z"
   },
   {
    "duration": 34,
    "start_time": "2023-12-13T09:19:35.804Z"
   },
   {
    "duration": 35,
    "start_time": "2023-12-13T09:19:35.839Z"
   },
   {
    "duration": 42,
    "start_time": "2023-12-13T09:19:35.875Z"
   },
   {
    "duration": 25,
    "start_time": "2023-12-13T09:19:35.918Z"
   },
   {
    "duration": 5,
    "start_time": "2023-12-13T09:19:35.944Z"
   },
   {
    "duration": 27,
    "start_time": "2023-12-13T09:19:35.951Z"
   },
   {
    "duration": 48,
    "start_time": "2023-12-13T09:19:35.980Z"
   },
   {
    "duration": 27,
    "start_time": "2023-12-13T09:19:36.030Z"
   },
   {
    "duration": 36,
    "start_time": "2023-12-13T09:19:36.059Z"
   },
   {
    "duration": 257,
    "start_time": "2023-12-13T09:19:36.097Z"
   },
   {
    "duration": 114,
    "start_time": "2023-12-13T09:19:36.356Z"
   },
   {
    "duration": 201,
    "start_time": "2023-12-13T09:19:36.472Z"
   },
   {
    "duration": 88,
    "start_time": "2023-12-13T09:19:36.674Z"
   },
   {
    "duration": 278,
    "start_time": "2023-12-13T09:19:36.764Z"
   },
   {
    "duration": 97,
    "start_time": "2023-12-13T09:19:37.044Z"
   },
   {
    "duration": 208,
    "start_time": "2023-12-13T09:19:37.142Z"
   },
   {
    "duration": 110,
    "start_time": "2023-12-13T09:19:37.352Z"
   },
   {
    "duration": 602,
    "start_time": "2023-12-13T09:19:37.466Z"
   },
   {
    "duration": 35,
    "start_time": "2023-12-13T09:19:38.070Z"
   },
   {
    "duration": 201,
    "start_time": "2023-12-13T09:19:38.115Z"
   },
   {
    "duration": 100,
    "start_time": "2023-12-13T09:19:38.317Z"
   },
   {
    "duration": 17,
    "start_time": "2023-12-13T09:19:38.418Z"
   },
   {
    "duration": 203,
    "start_time": "2023-12-13T09:19:38.437Z"
   },
   {
    "duration": 104,
    "start_time": "2023-12-13T09:19:38.642Z"
   },
   {
    "duration": 315,
    "start_time": "2023-12-13T09:19:38.748Z"
   },
   {
    "duration": 95,
    "start_time": "2023-12-13T09:19:39.065Z"
   },
   {
    "duration": 208,
    "start_time": "2023-12-13T09:19:39.161Z"
   },
   {
    "duration": 120,
    "start_time": "2023-12-13T09:19:39.371Z"
   },
   {
    "duration": 35576,
    "start_time": "2023-12-13T09:19:39.493Z"
   },
   {
    "duration": 33,
    "start_time": "2023-12-13T09:20:15.071Z"
   },
   {
    "duration": 210,
    "start_time": "2023-12-13T09:20:15.115Z"
   },
   {
    "duration": 114,
    "start_time": "2023-12-13T09:20:15.327Z"
   },
   {
    "duration": 205,
    "start_time": "2023-12-13T09:20:15.442Z"
   },
   {
    "duration": 103,
    "start_time": "2023-12-13T09:20:15.649Z"
   },
   {
    "duration": 192,
    "start_time": "2023-12-13T09:20:15.753Z"
   },
   {
    "duration": 103,
    "start_time": "2023-12-13T09:20:15.946Z"
   },
   {
    "duration": 225,
    "start_time": "2023-12-13T09:20:16.050Z"
   },
   {
    "duration": 110,
    "start_time": "2023-12-13T09:20:16.276Z"
   },
   {
    "duration": 575,
    "start_time": "2023-12-13T09:20:16.388Z"
   },
   {
    "duration": 4,
    "start_time": "2023-12-13T09:20:16.964Z"
   },
   {
    "duration": 137,
    "start_time": "2023-12-13T09:20:16.970Z"
   },
   {
    "duration": 6,
    "start_time": "2023-12-13T09:20:17.109Z"
   },
   {
    "duration": 51,
    "start_time": "2023-12-13T09:20:17.116Z"
   },
   {
    "duration": 5,
    "start_time": "2023-12-13T09:20:17.169Z"
   },
   {
    "duration": 249,
    "start_time": "2023-12-13T09:20:17.175Z"
   },
   {
    "duration": 100,
    "start_time": "2023-12-13T09:20:17.516Z"
   },
   {
    "duration": 774,
    "start_time": "2023-12-13T09:20:17.617Z"
   },
   {
    "duration": 3,
    "start_time": "2023-12-13T09:20:18.394Z"
   },
   {
    "duration": 25,
    "start_time": "2023-12-13T09:20:18.399Z"
   },
   {
    "duration": 29,
    "start_time": "2023-12-13T09:20:18.426Z"
   },
   {
    "duration": 3,
    "start_time": "2023-12-13T09:20:18.457Z"
   },
   {
    "duration": 25,
    "start_time": "2023-12-13T09:20:18.462Z"
   },
   {
    "duration": 6,
    "start_time": "2023-12-13T09:20:18.489Z"
   },
   {
    "duration": 5318,
    "start_time": "2023-12-13T09:20:18.496Z"
   },
   {
    "duration": 9337,
    "start_time": "2023-12-13T13:22:45.456Z"
   },
   {
    "duration": 1208,
    "start_time": "2023-12-13T13:22:54.796Z"
   },
   {
    "duration": 763,
    "start_time": "2023-12-13T13:22:56.005Z"
   },
   {
    "duration": 14,
    "start_time": "2023-12-13T13:22:56.770Z"
   },
   {
    "duration": 10,
    "start_time": "2023-12-13T13:22:56.786Z"
   },
   {
    "duration": 12,
    "start_time": "2023-12-13T13:22:56.797Z"
   },
   {
    "duration": 30,
    "start_time": "2023-12-13T13:22:56.811Z"
   },
   {
    "duration": 6,
    "start_time": "2023-12-13T13:22:56.842Z"
   },
   {
    "duration": 35,
    "start_time": "2023-12-13T13:22:56.849Z"
   },
   {
    "duration": 44,
    "start_time": "2023-12-13T13:22:56.888Z"
   },
   {
    "duration": 26,
    "start_time": "2023-12-13T13:22:56.934Z"
   },
   {
    "duration": 20,
    "start_time": "2023-12-13T13:22:56.962Z"
   },
   {
    "duration": 44,
    "start_time": "2023-12-13T13:22:56.983Z"
   },
   {
    "duration": 27,
    "start_time": "2023-12-13T13:22:57.028Z"
   },
   {
    "duration": 5,
    "start_time": "2023-12-13T13:22:57.056Z"
   },
   {
    "duration": 58,
    "start_time": "2023-12-13T13:22:57.062Z"
   },
   {
    "duration": 36,
    "start_time": "2023-12-13T13:22:57.122Z"
   },
   {
    "duration": 26,
    "start_time": "2023-12-13T13:22:57.159Z"
   },
   {
    "duration": 34,
    "start_time": "2023-12-13T13:22:57.186Z"
   },
   {
    "duration": 228,
    "start_time": "2023-12-13T13:22:57.221Z"
   },
   {
    "duration": 109,
    "start_time": "2023-12-13T13:22:57.451Z"
   },
   {
    "duration": 188,
    "start_time": "2023-12-13T13:22:57.561Z"
   },
   {
    "duration": 93,
    "start_time": "2023-12-13T13:22:57.750Z"
   },
   {
    "duration": 277,
    "start_time": "2023-12-13T13:22:57.844Z"
   },
   {
    "duration": 94,
    "start_time": "2023-12-13T13:22:58.123Z"
   },
   {
    "duration": 200,
    "start_time": "2023-12-13T13:22:58.218Z"
   },
   {
    "duration": 103,
    "start_time": "2023-12-13T13:22:58.419Z"
   },
   {
    "duration": 563,
    "start_time": "2023-12-13T13:22:58.525Z"
   },
   {
    "duration": 35,
    "start_time": "2023-12-13T13:22:59.090Z"
   },
   {
    "duration": 208,
    "start_time": "2023-12-13T13:22:59.126Z"
   },
   {
    "duration": 98,
    "start_time": "2023-12-13T13:22:59.336Z"
   },
   {
    "duration": 15,
    "start_time": "2023-12-13T13:22:59.435Z"
   },
   {
    "duration": 202,
    "start_time": "2023-12-13T13:22:59.452Z"
   },
   {
    "duration": 102,
    "start_time": "2023-12-13T13:22:59.655Z"
   },
   {
    "duration": 212,
    "start_time": "2023-12-13T13:22:59.758Z"
   },
   {
    "duration": 188,
    "start_time": "2023-12-13T13:22:59.972Z"
   },
   {
    "duration": 199,
    "start_time": "2023-12-13T13:23:00.162Z"
   },
   {
    "duration": 106,
    "start_time": "2023-12-13T13:23:00.363Z"
   },
   {
    "duration": 34120,
    "start_time": "2023-12-13T13:23:00.470Z"
   },
   {
    "duration": 525,
    "start_time": "2023-12-13T13:23:51.660Z"
   },
   {
    "duration": 560,
    "start_time": "2023-12-13T13:24:06.070Z"
   },
   {
    "duration": 544,
    "start_time": "2023-12-13T13:24:08.943Z"
   },
   {
    "duration": 34360,
    "start_time": "2023-12-13T13:24:14.056Z"
   }
  ],
  "kernelspec": {
   "display_name": "Python 3 (ipykernel)",
   "language": "python",
   "name": "python3"
  },
  "language_info": {
   "codemirror_mode": {
    "name": "ipython",
    "version": 3
   },
   "file_extension": ".py",
   "mimetype": "text/x-python",
   "name": "python",
   "nbconvert_exporter": "python",
   "pygments_lexer": "ipython3",
   "version": "3.9.5"
  },
  "toc": {
   "base_numbering": 1,
   "nav_menu": {},
   "number_sections": true,
   "sideBar": true,
   "skip_h1_title": true,
   "title_cell": "Table of Contents",
   "title_sidebar": "Contents",
   "toc_cell": false,
   "toc_position": {
    "height": "calc(100% - 180px)",
    "left": "10px",
    "top": "150px",
    "width": "279.75px"
   },
   "toc_section_display": true,
   "toc_window_display": true
  }
 },
 "nbformat": 4,
 "nbformat_minor": 2
}
