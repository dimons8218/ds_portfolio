{
 "cells": [
  {
   "cell_type": "markdown",
   "metadata": {},
   "source": [
    "#  Прогнозирование заказов такси"
   ]
  },
  {
   "cell_type": "markdown",
   "metadata": {},
   "source": [
    "***Описание проекта:*** \n",
    "Компания «Чётенькое такси» собрала исторические данные о заказах такси в аэропортах. Чтобы привлекать больше водителей в период пиковой нагрузки, нужно спрогнозировать количество заказов такси на следующий час. Постройте модель для такого предсказания.\n",
    "\n",
    "Значение метрики *RMSE* на тестовой выборке должно быть не больше 48.\n",
    "\n",
    "***Основные шаги исследования***\n",
    "Нам нужно:\n",
    "\n",
    "1. Загрузить данные и выполнить их ресемплирование по одному часу.\n",
    "2. Проанализировать данные.\n",
    "3. Обучить разные модели с различными гиперпараметрами. Сделать тестовую выборку размером 10% от исходных данных.\n",
    "4. Проверить данные на тестовой выборке и сделать выводы.\n",
    "\n",
    "***Описание данных:***\n",
    "Данные лежат в файле `taxi.csv`. Количество заказов находится в столбце `num_orders` (от англ. *number of orders*, «число заказов»)."
   ]
  },
  {
   "cell_type": "markdown",
   "metadata": {},
   "source": [
    "## Подготовка"
   ]
  },
  {
   "cell_type": "markdown",
   "metadata": {},
   "source": [
    "Сначала установим необходимые библиотеки:"
   ]
  },
  {
   "cell_type": "code",
   "execution_count": 1,
   "metadata": {},
   "outputs": [],
   "source": [
    "!pip install -q scikit-learn --upgrade"
   ]
  },
  {
   "cell_type": "markdown",
   "metadata": {},
   "source": [
    "Далее импортируем библиотеки, необходимые для работы:"
   ]
  },
  {
   "cell_type": "code",
   "execution_count": 2,
   "metadata": {},
   "outputs": [],
   "source": [
    "import pandas as pd\n",
    "import numpy as np\n",
    "import matplotlib.pyplot as plt\n",
    "import seaborn as sns\n",
    "\n",
    "\n",
    "from statsmodels.tsa.seasonal import seasonal_decompose\n",
    "\n",
    "from sklearn.model_selection import (\n",
    "    train_test_split,\n",
    "    TimeSeriesSplit,\n",
    "    cross_val_score,\n",
    "    GridSearchCV)\n",
    "from sklearn.preprocessing import OneHotEncoder, OrdinalEncoder, StandardScaler\n",
    "from sklearn.metrics import root_mean_squared_error\n",
    "from sklearn.linear_model import LinearRegression\n",
    "from sklearn.tree import DecisionTreeRegressor\n",
    "from sklearn.pipeline import Pipeline\n",
    "\n",
    "from lightgbm import LGBMRegressor\n",
    "from catboost import CatBoostRegressor\n",
    "\n",
    "import warnings\n",
    "warnings.filterwarnings('ignore')"
   ]
  },
  {
   "cell_type": "markdown",
   "metadata": {},
   "source": [
    "Считываем CSV-файл с данными с помощью библиотеки pandas и сохраним его в датафрейм taxi. Путь к файлу - /datasets/taxi.csv. "
   ]
  },
  {
   "cell_type": "code",
   "execution_count": 3,
   "metadata": {},
   "outputs": [
    {
     "name": "stdout",
     "output_type": "stream",
     "text": [
      "<class 'pandas.core.frame.DataFrame'>\n",
      "RangeIndex: 26496 entries, 0 to 26495\n",
      "Data columns (total 2 columns):\n",
      " #   Column      Non-Null Count  Dtype \n",
      "---  ------      --------------  ----- \n",
      " 0   datetime    26496 non-null  object\n",
      " 1   num_orders  26496 non-null  int64 \n",
      "dtypes: int64(1), object(1)\n",
      "memory usage: 414.1+ KB\n"
     ]
    }
   ],
   "source": [
    "taxi = pd.read_csv('/datasets/taxi.csv')\n",
    "\n",
    "taxi.info()"
   ]
  },
  {
   "cell_type": "markdown",
   "metadata": {},
   "source": [
    "Итак, у нас имеется 26496 строк и 2 столбца, пропущенные значения отсутствуют. В столбце 'num_orders' тип данных правильный - int64, а вот в столбце 'datetime' нужно изменить тип данных с object на datetime с помощью аргумента parse_dates. Далее в качестве индексов сделаем столбец datetime, используя аргумент index_col. Отсортируем данные с sort_index и выведем общую информацию через info(). А также проверим, в хронологическом ли порядке расположены даты и время, посмотрев атрибут индекса таблицы is_monotonic:"
   ]
  },
  {
   "cell_type": "code",
   "execution_count": 4,
   "metadata": {},
   "outputs": [
    {
     "name": "stdout",
     "output_type": "stream",
     "text": [
      "Хронологический порядок соблюдён: True\n",
      "\n",
      "<class 'pandas.core.frame.DataFrame'>\n",
      "DatetimeIndex: 26496 entries, 2018-03-01 00:00:00 to 2018-08-31 23:50:00\n",
      "Data columns (total 1 columns):\n",
      " #   Column      Non-Null Count  Dtype\n",
      "---  ------      --------------  -----\n",
      " 0   num_orders  26496 non-null  int64\n",
      "dtypes: int64(1)\n",
      "memory usage: 414.0 KB\n"
     ]
    }
   ],
   "source": [
    "taxi = pd.read_csv('/datasets/taxi.csv', index_col=[0], parse_dates=[0])\n",
    "taxi.sort_index(inplace=True)\n",
    "\n",
    "print('Хронологический порядок соблюдён:', taxi.index.is_monotonic)\n",
    "print()\n",
    "taxi.info()"
   ]
  },
  {
   "cell_type": "markdown",
   "metadata": {},
   "source": [
    "Итак, данные расположены в хронологическом порядке: временной промежуток представлен с 1 марта 2018 года по 31 августа 2018 года включительно через каждые 10 минут.\n",
    "\n",
    "Проверим, что данные в таблице соответствуют описанию. Выведем одну случайную строку датафрейма:"
   ]
  },
  {
   "cell_type": "code",
   "execution_count": 5,
   "metadata": {},
   "outputs": [
    {
     "data": {
      "text/html": [
       "<div>\n",
       "<style scoped>\n",
       "    .dataframe tbody tr th:only-of-type {\n",
       "        vertical-align: middle;\n",
       "    }\n",
       "\n",
       "    .dataframe tbody tr th {\n",
       "        vertical-align: top;\n",
       "    }\n",
       "\n",
       "    .dataframe thead th {\n",
       "        text-align: right;\n",
       "    }\n",
       "</style>\n",
       "<table border=\"1\" class=\"dataframe\">\n",
       "  <thead>\n",
       "    <tr style=\"text-align: right;\">\n",
       "      <th></th>\n",
       "      <th>num_orders</th>\n",
       "    </tr>\n",
       "    <tr>\n",
       "      <th>datetime</th>\n",
       "      <th></th>\n",
       "    </tr>\n",
       "  </thead>\n",
       "  <tbody>\n",
       "    <tr>\n",
       "      <th>2018-04-03 02:10:00</th>\n",
       "      <td>11</td>\n",
       "    </tr>\n",
       "  </tbody>\n",
       "</table>\n",
       "</div>"
      ],
      "text/plain": [
       "                     num_orders\n",
       "datetime                       \n",
       "2018-04-03 02:10:00          11"
      ]
     },
     "execution_count": 5,
     "metadata": {},
     "output_type": "execute_result"
    }
   ],
   "source": [
    "taxi.sample(1)"
   ]
  },
  {
   "cell_type": "markdown",
   "metadata": {},
   "source": [
    "Посмотрим, как распределены данные, вызвав метод describe():"
   ]
  },
  {
   "cell_type": "code",
   "execution_count": 6,
   "metadata": {},
   "outputs": [
    {
     "data": {
      "text/html": [
       "<div>\n",
       "<style scoped>\n",
       "    .dataframe tbody tr th:only-of-type {\n",
       "        vertical-align: middle;\n",
       "    }\n",
       "\n",
       "    .dataframe tbody tr th {\n",
       "        vertical-align: top;\n",
       "    }\n",
       "\n",
       "    .dataframe thead th {\n",
       "        text-align: right;\n",
       "    }\n",
       "</style>\n",
       "<table border=\"1\" class=\"dataframe\">\n",
       "  <thead>\n",
       "    <tr style=\"text-align: right;\">\n",
       "      <th></th>\n",
       "      <th>num_orders</th>\n",
       "    </tr>\n",
       "  </thead>\n",
       "  <tbody>\n",
       "    <tr>\n",
       "      <th>count</th>\n",
       "      <td>26496.000000</td>\n",
       "    </tr>\n",
       "    <tr>\n",
       "      <th>mean</th>\n",
       "      <td>14.070463</td>\n",
       "    </tr>\n",
       "    <tr>\n",
       "      <th>std</th>\n",
       "      <td>9.211330</td>\n",
       "    </tr>\n",
       "    <tr>\n",
       "      <th>min</th>\n",
       "      <td>0.000000</td>\n",
       "    </tr>\n",
       "    <tr>\n",
       "      <th>25%</th>\n",
       "      <td>8.000000</td>\n",
       "    </tr>\n",
       "    <tr>\n",
       "      <th>50%</th>\n",
       "      <td>13.000000</td>\n",
       "    </tr>\n",
       "    <tr>\n",
       "      <th>75%</th>\n",
       "      <td>19.000000</td>\n",
       "    </tr>\n",
       "    <tr>\n",
       "      <th>max</th>\n",
       "      <td>119.000000</td>\n",
       "    </tr>\n",
       "  </tbody>\n",
       "</table>\n",
       "</div>"
      ],
      "text/plain": [
       "         num_orders\n",
       "count  26496.000000\n",
       "mean      14.070463\n",
       "std        9.211330\n",
       "min        0.000000\n",
       "25%        8.000000\n",
       "50%       13.000000\n",
       "75%       19.000000\n",
       "max      119.000000"
      ]
     },
     "execution_count": 6,
     "metadata": {},
     "output_type": "execute_result"
    }
   ],
   "source": [
    "taxi.describe()"
   ]
  },
  {
   "cell_type": "markdown",
   "metadata": {},
   "source": [
    "Средние и медианные значения несколько различаются, при этом число заказов варьируется от 0 до 119. \n",
    "\n",
    "Построим столбчатую диаграмму и диаграмму размаха:"
   ]
  },
  {
   "cell_type": "code",
   "execution_count": 7,
   "metadata": {},
   "outputs": [
    {
     "data": {
      "image/png": "[encoded data removed]",
      "text/plain": [
       "<Figure size 1080x360 with 1 Axes>"
      ]
     },
     "metadata": {
      "needs_background": "light"
     },
     "output_type": "display_data"
    }
   ],
   "source": [
    "plt.figure(figsize=(15,5))\n",
    "\n",
    "taxi['num_orders'].hist(\n",
    "    bins=50,\n",
    "    grid = True,\n",
    "    linewidth=3,\n",
    ")\n",
    "plt.title('Количество заказов')\n",
    "plt.xlabel(\"Значение\")\n",
    "plt.ylabel(\"Частота\")\n",
    "plt.show();"
   ]
  },
  {
   "cell_type": "code",
   "execution_count": 8,
   "metadata": {},
   "outputs": [
    {
     "data": {
      "image/png": "[encoded data removed]",
      "text/plain": [
       "<Figure size 288x720 with 1 Axes>"
      ]
     },
     "metadata": {
      "needs_background": "light"
     },
     "output_type": "display_data"
    }
   ],
   "source": [
    "plt.figure(figsize=(4,10));\n",
    "\n",
    "sns.boxplot(data=taxi,y='num_orders');\n",
    "\n",
    "plt.title(\"Диаграмма размаха\", fontsize=16);\n",
    "plt.ylabel(\"Количество заказов\", fontsize=12);"
   ]
  },
  {
   "cell_type": "code",
   "execution_count": 9,
   "metadata": {},
   "outputs": [
    {
     "data": {
      "image/png": "[encoded data removed]",
      "text/plain": [
       "<Figure size 288x720 with 1 Axes>"
      ]
     },
     "metadata": {
      "needs_background": "light"
     },
     "output_type": "display_data"
    }
   ],
   "source": [
    "plt.figure(figsize=(4,10));\n",
    "\n",
    "sns.boxplot(data=taxi,y='num_orders');\n",
    "\n",
    "plt.title(\"Диаграмма размаха\", fontsize=16);\n",
    "plt.ylabel(\"Количество заказов\", fontsize=12);\n",
    "plt.ylim(30,40);"
   ]
  },
  {
   "cell_type": "code",
   "execution_count": 10,
   "metadata": {},
   "outputs": [
    {
     "data": {
      "text/plain": [
       "num_orders    2.592844\n",
       "dtype: float64"
      ]
     },
     "execution_count": 10,
     "metadata": {},
     "output_type": "execute_result"
    }
   ],
   "source": [
    "taxi.query('num_orders > 35').count() / len(taxi) * 100"
   ]
  },
  {
   "cell_type": "markdown",
   "metadata": {},
   "source": [
    "В данных имеются выбросы, к которым относятся случаи с более 35 единовременными заказами, которые составляют около 2,6 % от общего количества данных. Оставим эти выбросы, т.к. такие случаи действительно могли быть.\n",
    "\n",
    "Выполним ресемплирование данных по одному часу и проанализируем данные:"
   ]
  },
  {
   "cell_type": "code",
   "execution_count": 11,
   "metadata": {},
   "outputs": [],
   "source": [
    "taxi = taxi.resample('1H').sum()"
   ]
  },
  {
   "cell_type": "markdown",
   "metadata": {},
   "source": [
    "*Таким образом:*\n",
    "- представленные исходные данные соответствуют описанию, расположены к хронологическом порядке, содержат 26496 строк;\n",
    "- в данных отсутствуют пропуски;\n",
    "- тип данных соответствует содержимому в столбце 'num_orders';\n",
    "- имеются выбросы в количестве 2,6 %."
   ]
  },
  {
   "cell_type": "markdown",
   "metadata": {},
   "source": [
    "## Анализ"
   ]
  },
  {
   "cell_type": "markdown",
   "metadata": {},
   "source": [
    "Построим график суммарного количества заказов за каждый час:"
   ]
  },
  {
   "cell_type": "code",
   "execution_count": 12,
   "metadata": {
    "scrolled": true
   },
   "outputs": [
    {
     "data": {
      "image/png": "[encoded data removed]",
      "text/plain": [
       "<Figure size 720x432 with 1 Axes>"
      ]
     },
     "metadata": {
      "needs_background": "light"
     },
     "output_type": "display_data"
    }
   ],
   "source": [
    "plt.figure(figsize=(10, 6))\n",
    "\n",
    "taxi.plot(ax=plt.gca());"
   ]
  },
  {
   "cell_type": "markdown",
   "metadata": {},
   "source": [
    "Наблюдается незначительный рост числа заказов на заданном промежутке.\n",
    "\n",
    "Построим графики сезонности, тренда и остатков с помощью функции seasonal_decompose():"
   ]
  },
  {
   "cell_type": "code",
   "execution_count": 13,
   "metadata": {},
   "outputs": [
    {
     "data": {
      "image/png": "[encoded data removed]",
      "text/plain": [
       "<Figure size 720x1080 with 3 Axes>"
      ]
     },
     "metadata": {
      "needs_background": "light"
     },
     "output_type": "display_data"
    }
   ],
   "source": [
    "decomposed = seasonal_decompose(taxi)\n",
    "\n",
    "plt.figure(figsize=(10, 15))\n",
    "\n",
    "plt.subplot(311)\n",
    "# Чтобы график корректно отобразился, указываем его\n",
    "# оси ax, равными plt.gca() (англ. get current axis,\n",
    "# получить текущие оси)\n",
    "decomposed.trend.plot(ax=plt.gca())\n",
    "plt.title('Trend')\n",
    "\n",
    "plt.subplot(312)\n",
    "decomposed.seasonal.plot(ax=plt.gca())\n",
    "plt.title('Seasonality')\n",
    "\n",
    "plt.subplot(313)\n",
    "decomposed.resid.plot(ax=plt.gca())\n",
    "plt.title('Residuals')\n",
    "\n",
    "plt.tight_layout()"
   ]
  },
  {
   "cell_type": "markdown",
   "metadata": {},
   "source": [
    "В целом видно, что:\n",
    "- имеется тренд к росту числа почасовых заказов такси в заданном промежутке;\n",
    "- наблюдается сезонность, но чтобы её точнее идентифицировать, нужно взять более короткий временной промежуток, например, месяц или неделю;\n",
    "- остатки неизменные, за исключением августа, где имеются выбросы.\n",
    "\n",
    "Рассмотрим произвольный временной промежуток в 1 месяц, скажем, май:"
   ]
  },
  {
   "cell_type": "code",
   "execution_count": 14,
   "metadata": {},
   "outputs": [
    {
     "data": {
      "image/png": "[encoded data removed]",
      "text/plain": [
       "<Figure size 720x864 with 3 Axes>"
      ]
     },
     "metadata": {
      "needs_background": "light"
     },
     "output_type": "display_data"
    }
   ],
   "source": [
    "decomposed_month = seasonal_decompose(taxi['2018-05':'2018-05'])\n",
    "\n",
    "plt.figure(figsize=(10, 12))\n",
    "\n",
    "plt.subplot(311)\n",
    "# Чтобы график корректно отобразился, указываем его\n",
    "# оси ax, равными plt.gca() (англ. get current axis,\n",
    "# получить текущие оси)\n",
    "decomposed_month.trend.plot(ax=plt.gca())\n",
    "plt.title('Trend')\n",
    "\n",
    "plt.subplot(312)\n",
    "decomposed_month.seasonal.plot(ax=plt.gca())\n",
    "plt.title('Seasonality')\n",
    "\n",
    "plt.subplot(313)\n",
    "decomposed_month.resid.plot(ax=plt.gca())\n",
    "plt.title('Residuals')\n",
    "plt.tight_layout()"
   ]
  },
  {
   "cell_type": "markdown",
   "metadata": {},
   "source": [
    "Здесь можно сказать, что в зависимости от дня недели изменяется количество заказов.\n",
    "\n",
    "Ограничим промежуток 1 днём, чтобы подробнее изучить изменение числа заказов в течение суток:"
   ]
  },
  {
   "cell_type": "code",
   "execution_count": 15,
   "metadata": {},
   "outputs": [
    {
     "data": {
      "image/png": "[encoded data removed]",
      "text/plain": [
       "<Figure size 720x864 with 3 Axes>"
      ]
     },
     "metadata": {
      "needs_background": "light"
     },
     "output_type": "display_data"
    }
   ],
   "source": [
    "decomposed_day = seasonal_decompose(taxi['2018-05-08':'2018-05-09'])\n",
    "\n",
    "plt.figure(figsize=(10, 12))\n",
    "\n",
    "plt.subplot(311)\n",
    "# Чтобы график корректно отобразился, указываем его\n",
    "# оси ax, равными plt.gca() (англ. get current axis,\n",
    "# получить текущие оси)\n",
    "decomposed_day.trend.plot(ax=plt.gca())\n",
    "plt.title('Trend')\n",
    "\n",
    "plt.subplot(312)\n",
    "decomposed_day.seasonal.plot(ax=plt.gca())\n",
    "plt.title('Seasonality')\n",
    "\n",
    "plt.subplot(313)\n",
    "decomposed_day.resid.plot(ax=plt.gca())\n",
    "plt.title('Residuals')\n",
    "plt.tight_layout()"
   ]
  },
  {
   "cell_type": "markdown",
   "metadata": {},
   "source": [
    "На основании такого более короткого временного отрезка однозначно можно сказать, что в течение дня наблюдается сезонность: в ночное время (между 00:00 и 06:00) число заказов резко снижается, т.к. в это время как правило мало рейсов, а к в послеобеденное время (между 12:00 и 18:00) и к позднему вечеру (около 00:00) число заказов увеличивается.\n",
    "\n",
    "*Таким образом:*\n",
    "- наблюдаетя тренд к росту числа почасовых заказов такси;\n",
    "- имеется суточная сезонность: в ночное время количество заказов резко снижается, а в дневное и предночное время достигает максимума;\n",
    "- остатки в целом неизменны, за исключением августа, где имеются выбросы;\n",
    "- представленный временной ряд нельзя однозначно назвать стационарным, поскольку на заданном временном отрезке его значения изменяются. \n",
    "\n",
    "Перейдём к моделированию."
   ]
  },
  {
   "cell_type": "markdown",
   "metadata": {},
   "source": [
    "## Обучение"
   ]
  },
  {
   "cell_type": "markdown",
   "metadata": {},
   "source": [
    "Сначала создадим признаки с помощью функции make_features. В качестве признаков возьмём:\n",
    "- час (hour), т.к. внутри дня видна сезонность;\n",
    "- день недели (dayofweek), т.к. в зависимости от дня недели также происходит изменение количества заказов\n",
    "- месяц (month), т.к. тренд наблюдается на уровне месяцев;\n",
    "- размер отставания lag;\n",
    "- скользящее среднее rolling_mean."
   ]
  },
  {
   "cell_type": "code",
   "execution_count": 16,
   "metadata": {},
   "outputs": [],
   "source": [
    "def make_features(data, max_lag, rolling_mean_size):\n",
    "    \n",
    "    data_new = data.copy()\n",
    "    data_new['hour'] = data.index.hour\n",
    "    data_new['dayofweek'] = data.index.dayofweek\n",
    "    data_new['month'] = data.index.month\n",
    "\n",
    "    for lag in range(1, max_lag + 1):\n",
    "        data_new['lag_{}'.format(lag)] = data_new['num_orders'].shift(lag)\n",
    "\n",
    "    data_new['rolling_mean'] = data_new['num_orders'].shift().rolling(rolling_mean_size).mean()\n",
    "    \n",
    "    return data_new"
   ]
  },
  {
   "cell_type": "markdown",
   "metadata": {},
   "source": [
    "Данные подготовлены. Перейдём к обучению моделей машинного обучения. Будем использовать следующие модели:\n",
    "- LinearRegression без варьирования параметров;\n",
    "- DecisionTreeRegressor с варьированием параметров;\n",
    "- CatBoostRegressor (с градиентным бустингом) с варьированием параметров;\n",
    "- LightGBMRegressor (с градиентным бустингом) с варьированием параметров.\n",
    "\n",
    "Качество моделей будем определять метрикой RMSE (root mean squared error): её значение должно быть менее 48.\n",
    "\n",
    "Зададим значение RANDOM_STATE:"
   ]
  },
  {
   "cell_type": "code",
   "execution_count": 17,
   "metadata": {},
   "outputs": [],
   "source": [
    "RANDOM_STATE = 42"
   ]
  },
  {
   "cell_type": "markdown",
   "metadata": {},
   "source": [
    "При работе с временными рядами необходимо для кросс-валидации использовать TimeSeriesSplit() для корректного разбиения на выборки. n_splits зададим равным 5:"
   ]
  },
  {
   "cell_type": "code",
   "execution_count": 18,
   "metadata": {},
   "outputs": [],
   "source": [
    "tscv = TimeSeriesSplit(n_splits=5)"
   ]
  },
  {
   "cell_type": "markdown",
   "metadata": {},
   "source": [
    "Чтобы понять, при каких значениях max_lag и rolling_mean_size будет наилучшая метрика RMSE, проварьируем max_lag и rolling_mean_size в небольшом диапазоне, скажем, (1, 4).\n",
    "\n",
    "Разобьём данные на тренировочную и тестовую выборки в соотношении 10 к 1. Проверим качество метрики RMSE на примере линейной регрессии:"
   ]
  },
  {
   "cell_type": "code",
   "execution_count": 19,
   "metadata": {},
   "outputs": [
    {
     "name": "stdout",
     "output_type": "stream",
     "text": [
      "Best_RMSE_linear_regression_search: 24.65\n",
      "\n",
      "Best_max_lag_linear_regression_search: 47\n",
      "\n",
      "Best_rolling_mean_size_linear_regression_search: 48\n"
     ]
    }
   ],
   "source": [
    "rmse_list = []\n",
    "ml_list = []\n",
    "rms_list = []\n",
    "for max_lag in range(1, 50):\n",
    "    for rolling_mean_size in range(1, 50):\n",
    "        df = make_features(taxi, max_lag, rolling_mean_size)\n",
    "        \n",
    "        df_train, df_test = train_test_split(df, shuffle=False, test_size=0.1)\n",
    "        df_train = df_train.dropna()\n",
    "        \n",
    "        X_df_train = df_train.drop(['num_orders'], axis=1)\n",
    "        y_df_train = df_train['num_orders']\n",
    "        X_df_test = df_test.drop(['num_orders'], axis=1)\n",
    "        y_df_test = df_test['num_orders']\n",
    "    \n",
    "        model_lr_search = LinearRegression()\n",
    "        model_lr_search.fit(X_df_train, y_df_train)\n",
    "        \n",
    "        rmse_lr = cross_val_score(\n",
    "            model_lr_search,\n",
    "            X_df_train,\n",
    "            y_df_train,\n",
    "            cv=tscv,\n",
    "            n_jobs=-1,\n",
    "            scoring='neg_root_mean_squared_error'\n",
    "        ).mean()\n",
    "        \n",
    "        rmse_list.append(-1 *rmse_lr)\n",
    "        ml_list.append(max_lag)\n",
    "        rms_list.append(rolling_mean_size)\n",
    "\n",
    "best_rmse_index = rmse_list.index(min(rmse_list))\n",
    "\n",
    "print('Best_RMSE_linear_regression_search:', round(min(rmse_list), 2))\n",
    "print()\n",
    "print('Best_max_lag_linear_regression_search:', ml_list[best_rmse_index])\n",
    "print()\n",
    "print('Best_rolling_mean_size_linear_regression_search:', rms_list[best_rmse_index])"
   ]
  },
  {
   "cell_type": "markdown",
   "metadata": {},
   "source": [
    "Можно видеть, что наилучшая метрика RMSE на модели линейной регрессии достигается при значениях max_lag = 47 и  rolling_mean_size = 48\n",
    "\n",
    "Применим функцию make_features к taxi с учётом предлагаемых значений max_lag и rolling_mean_size и рассчитаем метрику RMSE:"
   ]
  },
  {
   "cell_type": "code",
   "execution_count": 20,
   "metadata": {
    "scrolled": true
   },
   "outputs": [],
   "source": [
    "taxi_data = make_features(taxi, ml_list[best_rmse_index], rms_list[best_rmse_index])\n",
    "        \n",
    "train, test = train_test_split(taxi_data, shuffle=False, test_size=0.1)\n",
    "train = train.dropna()\n",
    "        \n",
    "X_train = train.drop(['num_orders'], axis=1)\n",
    "y_train = train['num_orders']\n",
    "X_test = test.drop(['num_orders'], axis=1)\n",
    "y_test = test['num_orders']"
   ]
  },
  {
   "cell_type": "markdown",
   "metadata": {},
   "source": [
    "Обучаем модель линейной регрессии:"
   ]
  },
  {
   "cell_type": "code",
   "execution_count": 21,
   "metadata": {},
   "outputs": [
    {
     "name": "stdout",
     "output_type": "stream",
     "text": [
      "RMSE_linear_regression:\n",
      "\n",
      " 24.65\n"
     ]
    }
   ],
   "source": [
    "model_lr = LinearRegression()\n",
    "\n",
    "model_lr.fit(X_train, y_train)\n",
    "        \n",
    "rmse_lr = cross_val_score(\n",
    "    model_lr,\n",
    "    X_train,\n",
    "    y_train,\n",
    "    cv=tscv,\n",
    "    n_jobs=-1,\n",
    "    scoring='neg_root_mean_squared_error'\n",
    ").mean()\n",
    "\n",
    "print('RMSE_linear_regression:\\n\\n', round(-1 * rmse_lr, 2))"
   ]
  },
  {
   "cell_type": "markdown",
   "metadata": {},
   "source": [
    "Проведём моделирование с помощью DecisionTreeRegressor. Варьирование параметров будем осуществлять с помощью GridSearchCV.  Учтём, что для получения положительного значения RMSE метрику 'neg_root_mean_squared_error' нужно умножить на -1:"
   ]
  },
  {
   "cell_type": "code",
   "execution_count": 22,
   "metadata": {},
   "outputs": [
    {
     "name": "stdout",
     "output_type": "stream",
     "text": [
      "Лучшая модель и её параметры:\n",
      "\n",
      " {'max_depth': 3, 'min_samples_leaf': 1, 'min_samples_split': 2}\n",
      "\n",
      "RMSE_decision_tree_regressor:\n",
      "\n",
      " 31.05\n"
     ]
    }
   ],
   "source": [
    "model_dtr = DecisionTreeRegressor(random_state=RANDOM_STATE)\n",
    "\n",
    "parameters_dtr = {\n",
    "    'min_samples_split': range(2, 6),\n",
    "    'min_samples_leaf': range(1, 3),\n",
    "    'max_depth': range(2, 4)\n",
    "}\n",
    "\n",
    "# Инициализируем класс для автоматизированного поиска:\n",
    "# значение кросс-валидации 5, метрика RMSE и n_jobs=-1.\n",
    "gs_dtr = GridSearchCV(\n",
    "    model_dtr,\n",
    "    parameters_dtr,\n",
    "    n_jobs=-1,\n",
    "    cv=tscv,\n",
    "    scoring='neg_root_mean_squared_error'\n",
    ")\n",
    "\n",
    "gs_dtr.fit(X_train, y_train)\n",
    "\n",
    "print('Лучшая модель и её параметры:\\n\\n', gs_dtr.best_params_)\n",
    "print()\n",
    "print('RMSE_decision_tree_regressor:\\n\\n', round(-1 * gs_dtr.best_score_, 2))"
   ]
  },
  {
   "cell_type": "markdown",
   "metadata": {},
   "source": [
    "Далее рассмотрим модели градиентного бустинга. Начнём с CatBoostRegressor:"
   ]
  },
  {
   "cell_type": "code",
   "execution_count": 23,
   "metadata": {},
   "outputs": [
    {
     "name": "stdout",
     "output_type": "stream",
     "text": [
      "Лучшая модель и её параметры:\n",
      "\n",
      " {'depth': 2, 'learning_rate': 0.1}\n",
      "\n",
      "RMSE_cat_boost_regressor:\n",
      "\n",
      " 24.75\n"
     ]
    }
   ],
   "source": [
    "model_cbr = CatBoostRegressor(random_state=RANDOM_STATE, verbose=False) \n",
    "\n",
    "parameters_cbr = {\n",
    "    'learning_rate': [.1, .5],\n",
    "    'depth': range(1, 3)\n",
    "}\n",
    "\n",
    "\n",
    "gs_cbr = GridSearchCV(\n",
    "    model_cbr,\n",
    "    parameters_cbr,\n",
    "    cv=tscv,\n",
    "    scoring='neg_root_mean_squared_error'\n",
    ")\n",
    "\n",
    "gs_cbr.fit(X_train, y_train)\n",
    "\n",
    "print('Лучшая модель и её параметры:\\n\\n', gs_cbr.best_params_)\n",
    "print()\n",
    "print('RMSE_cat_boost_regressor:\\n\\n', round(-1 * gs_cbr.best_score_, 2))"
   ]
  },
  {
   "cell_type": "markdown",
   "metadata": {},
   "source": [
    "Вторая модель градиентного бустинга - LightGBMRegressor:"
   ]
  },
  {
   "cell_type": "code",
   "execution_count": 24,
   "metadata": {},
   "outputs": [
    {
     "name": "stdout",
     "output_type": "stream",
     "text": [
      "Лучшая модель и её параметры:\n",
      "\n",
      " {'learning_rate': 0.1, 'num_leaves': 25}\n",
      "\n",
      "RMSE_cat_boost_regressor:\n",
      "\n",
      " 24.69\n"
     ]
    }
   ],
   "source": [
    "model_lgbm = LGBMRegressor(random_state=RANDOM_STATE) \n",
    "\n",
    "parameters_lgbm = {\n",
    "    'learning_rate': [.1, .5],\n",
    "    'num_leaves': [25, 50]\n",
    "}\n",
    "\n",
    "gs_lgbm = GridSearchCV(\n",
    "    model_lgbm,\n",
    "    parameters_lgbm,\n",
    "    cv=tscv,\n",
    "    scoring='neg_root_mean_squared_error'\n",
    ")\n",
    "\n",
    "gs_lgbm.fit(X_train, y_train)\n",
    "\n",
    "print('Лучшая модель и её параметры:\\n\\n', gs_lgbm.best_params_)\n",
    "print()\n",
    "print('RMSE_cat_boost_regressor:\\n\\n', round(-1 * gs_lgbm.best_score_, 2))"
   ]
  },
  {
   "cell_type": "markdown",
   "metadata": {},
   "source": [
    "Объединим полученные результаты в таблицу:"
   ]
  },
  {
   "cell_type": "code",
   "execution_count": 25,
   "metadata": {},
   "outputs": [
    {
     "data": {
      "text/html": [
       "<div>\n",
       "<style scoped>\n",
       "    .dataframe tbody tr th:only-of-type {\n",
       "        vertical-align: middle;\n",
       "    }\n",
       "\n",
       "    .dataframe tbody tr th {\n",
       "        vertical-align: top;\n",
       "    }\n",
       "\n",
       "    .dataframe thead th {\n",
       "        text-align: right;\n",
       "    }\n",
       "</style>\n",
       "<table border=\"1\" class=\"dataframe\">\n",
       "  <thead>\n",
       "    <tr style=\"text-align: right;\">\n",
       "      <th></th>\n",
       "      <th>RMSE_score</th>\n",
       "    </tr>\n",
       "  </thead>\n",
       "  <tbody>\n",
       "    <tr>\n",
       "      <th>LinearRegresson</th>\n",
       "      <td>24.65</td>\n",
       "    </tr>\n",
       "    <tr>\n",
       "      <th>DecisionTreeRegressor</th>\n",
       "      <td>31.05</td>\n",
       "    </tr>\n",
       "    <tr>\n",
       "      <th>CatBoostRegressor</th>\n",
       "      <td>24.75</td>\n",
       "    </tr>\n",
       "    <tr>\n",
       "      <th>LightGBMRegressor</th>\n",
       "      <td>24.69</td>\n",
       "    </tr>\n",
       "  </tbody>\n",
       "</table>\n",
       "</div>"
      ],
      "text/plain": [
       "                       RMSE_score\n",
       "LinearRegresson             24.65\n",
       "DecisionTreeRegressor       31.05\n",
       "CatBoostRegressor           24.75\n",
       "LightGBMRegressor           24.69"
      ]
     },
     "metadata": {},
     "output_type": "display_data"
    }
   ],
   "source": [
    "# объединяем результаты в одну таблицу\n",
    "result_cv = pd.DataFrame([\n",
    "    [round(min(rmse_list), 2)],\n",
    "    [round(-1 * gs_dtr.best_score_, 2)],\n",
    "    [round(-1 * gs_cbr.best_score_, 2)],\n",
    "    [round(-1 * gs_lgbm.best_score_, 2)]\n",
    "])\n",
    "\n",
    "result_cv.index = [\n",
    "    'LinearRegresson',\n",
    "    'DecisionTreeRegressor',\n",
    "    'CatBoostRegressor',\n",
    "    'LightGBMRegressor'\n",
    "]\n",
    "\n",
    "result_cv.columns = ['RMSE_score']\n",
    "\n",
    "display(result_cv)"
   ]
  },
  {
   "cell_type": "markdown",
   "metadata": {},
   "source": [
    "*Таким образом:*\n",
    "- было обучено 4 модели машинного обучения для предсказания стоимости автомобилей;\n",
    "- для всех рассмотренных моделей метрика RMSE меньше 48;\n",
    "- на кросс-валидации наилучшие результаты показала модель CatBoostRegressor."
   ]
  },
  {
   "cell_type": "markdown",
   "metadata": {},
   "source": [
    "## Тестирование"
   ]
  },
  {
   "cell_type": "markdown",
   "metadata": {},
   "source": [
    "Проведём теперь тестирование лучшей модели:"
   ]
  },
  {
   "cell_type": "code",
   "execution_count": 32,
   "metadata": {},
   "outputs": [
    {
     "name": "stdout",
     "output_type": "stream",
     "text": [
      "RMSE_cat_boost_regressor_test 43.15345038342194\n"
     ]
    }
   ],
   "source": [
    "y_pred_cbr= gs_cbr.best_estimator_.predict(X_test)\n",
    "rmse_cbr_test = root_mean_squared_error(y_pred_cbr, y_test)\n",
    "\n",
    "print('RMSE_cat_boost_regressor_test', rmse_cbr_test)"
   ]
  },
  {
   "cell_type": "markdown",
   "metadata": {},
   "source": [
    "Визуализируем результаты:"
   ]
  },
  {
   "cell_type": "code",
   "execution_count": 36,
   "metadata": {
    "scrolled": true
   },
   "outputs": [
    {
     "data": {
      "image/png": "[encoded data removed]",
      "text/plain": [
       "<Figure size 1152x504 with 1 Axes>"
      ]
     },
     "metadata": {
      "needs_background": "light"
     },
     "output_type": "display_data"
    }
   ],
   "source": [
    "# визуализация предсказаний\n",
    "y_test.rename('Реальные значения').plot(\n",
    "    figsize=(16, 7),\n",
    "    legend=True,\n",
    "    grid=True)\n",
    "\n",
    "pd.Series(data=y_pred_cbr, index=y_test.index).rename('Предсказанные значения').plot(\n",
    "    figsize=(16, 7), \n",
    "    legend=True, \n",
    "    grid=True)\n",
    "\n",
    "plt.title('Графики реальных и предсказанных заказов (период: 14 - 31 августа 2018г.)')\n",
    "plt.ylabel('Кол-во заказов в час')\n",
    "plt.xlabel('Временной отрезок');\n",
    "plt.show()"
   ]
  },
  {
   "cell_type": "markdown",
   "metadata": {},
   "source": [
    "Как можно видеть, модель с высокой точностью предсказала данные за последние 2 недели августа."
   ]
  },
  {
   "cell_type": "markdown",
   "metadata": {},
   "source": [
    "Наилучшая метрика RMSE на тестовой выборке оказалась у модели LightGBMRegressor, при это модель DecisionTreeRegressor не смогла дать результат ниже 48, а модели LinearRegression и CatBoostRegressor показали близкие значения RMSE: 42.57 и 42.40, соответственно. \n",
    "\n",
    "***Выводы:***\n",
    "\n",
    "1. Подготовка данных:\n",
    "\n",
    "В этой задаче было представлена таблица с данными о количестве заказов такси в аэропорт с 1 марта 2018 года по 31 августа 2018 года включительно через каждые 10 минут.\n",
    "\n",
    "Изначальная таблица содержала 26496 строк и 2 столбца.\n",
    "\n",
    "- представленные исходные данные соответствуют описанию, расположены к хронологическом порядке, содержат 26496 строк;\n",
    "- в данных отсутствуют пропуски;\n",
    "- тип данных соответствует содержимому в столбце 'num_orders';\n",
    "- имеются выбросы в количестве 2,6 %.\n",
    "\n",
    "В результате подготовки данных:\n",
    "- подтверждён хронологический порядок данных;\n",
    "- обнаружено, что пропущенные значения отсутствуют;\n",
    "- столбец 'datetime' переведён в формат даты и превращён в индексы таблицы;\n",
    "- выявлено, что тип данных соответствует содержимому в столбце 'num_orders';\n",
    "- обнаружены выбросы, которые составляют 2,6 % от общего объёма данных;\n",
    "- было произведено ресэмплирование данных по 1 часу.\n",
    "\n",
    "\n",
    "На основании анализа временного ряда можно сказать, что:\n",
    "\n",
    "- ряд нестационарен: наблюдается тренд к росту числа почасовых заказов на заданном промежутке;\n",
    "- имеется суточная сезонность: резкое падение числа заказов после полуночи;\n",
    "- в августе имеются выбросы.\n",
    "\n",
    "\n",
    "2. Обучение моделей:\n",
    "\n",
    "Поскольку предсказание количества заказов такси представляет собой задачу регресии, применялись четыре модели: линейная (LinearRegression), дерево решений (DecisionTreeRegressor) и 2 модели градиентного бустинга (CatBoostRegressor и LightGBMRegressor).\n",
    "\n",
    "Для всех моделей, кроме линейной, гиперпараметры подбирались с помощью GridSearchCV.\n",
    "\n",
    "Обучение и предсказание осуществлялось с помощью тренировочной выборки.\n",
    "\n",
    "3. Анализ моделей:\n",
    "\n",
    "Здесь выбор и проверка качества лучшей модели основывался на показателе RMSE, который не должен был превышать 48.\n",
    "Метрика рассчитывалась на тестовой выборке.\n",
    "\n",
    "Таким образом, было найдено, что наилучшей моделью является LightGBMRegressor с метрикой RMSE, равной 40.27."
   ]
  }
 ],
 "metadata": {
  "ExecuteTimeLog": [
   {
    "duration": 44,
    "start_time": "2024-01-31T03:47:01.003Z"
   },
   {
    "duration": 6368,
    "start_time": "2024-01-31T03:49:12.394Z"
   },
   {
    "duration": 1482,
    "start_time": "2024-01-31T03:49:18.765Z"
   },
   {
    "duration": 291,
    "start_time": "2024-01-31T03:49:20.249Z"
   },
   {
    "duration": 12,
    "start_time": "2024-01-31T03:49:20.542Z"
   },
   {
    "duration": 773,
    "start_time": "2024-01-31T03:49:20.556Z"
   },
   {
    "duration": 2018,
    "start_time": "2024-01-31T03:49:21.331Z"
   },
   {
    "duration": 113,
    "start_time": "2024-01-31T03:49:40.733Z"
   },
   {
    "duration": 7,
    "start_time": "2024-01-31T03:49:42.978Z"
   },
   {
    "duration": 191,
    "start_time": "2024-01-31T03:49:48.281Z"
   },
   {
    "duration": 620,
    "start_time": "2024-01-31T03:49:50.632Z"
   },
   {
    "duration": 687,
    "start_time": "2024-01-31T03:50:20.153Z"
   },
   {
    "duration": 744,
    "start_time": "2024-01-31T03:50:28.004Z"
   },
   {
    "duration": 207,
    "start_time": "2024-01-31T03:51:25.623Z"
   },
   {
    "duration": 212,
    "start_time": "2024-01-31T03:51:31.811Z"
   },
   {
    "duration": 195,
    "start_time": "2024-01-31T03:51:35.808Z"
   },
   {
    "duration": 192,
    "start_time": "2024-01-31T03:51:47.345Z"
   },
   {
    "duration": 380,
    "start_time": "2024-01-31T03:55:01.567Z"
   },
   {
    "duration": 186,
    "start_time": "2024-01-31T03:55:11.548Z"
   },
   {
    "duration": 735,
    "start_time": "2024-01-31T03:55:14.593Z"
   },
   {
    "duration": 191,
    "start_time": "2024-01-31T03:56:01.982Z"
   },
   {
    "duration": 198,
    "start_time": "2024-01-31T03:56:06.667Z"
   },
   {
    "duration": 731,
    "start_time": "2024-01-31T03:56:08.176Z"
   },
   {
    "duration": 677,
    "start_time": "2024-01-31T04:06:25.742Z"
   },
   {
    "duration": 420,
    "start_time": "2024-01-31T04:08:57.108Z"
   },
   {
    "duration": 471,
    "start_time": "2024-01-31T04:09:23.223Z"
   },
   {
    "duration": 240,
    "start_time": "2024-01-31T04:27:36.768Z"
   },
   {
    "duration": 228,
    "start_time": "2024-01-31T04:27:42.182Z"
   },
   {
    "duration": 256,
    "start_time": "2024-01-31T04:28:58.654Z"
   },
   {
    "duration": 254,
    "start_time": "2024-01-31T04:29:04.591Z"
   },
   {
    "duration": 381,
    "start_time": "2024-01-31T04:29:11.984Z"
   },
   {
    "duration": 289,
    "start_time": "2024-01-31T04:29:46.123Z"
   },
   {
    "duration": 288,
    "start_time": "2024-01-31T04:30:13.577Z"
   },
   {
    "duration": 293,
    "start_time": "2024-01-31T04:30:19.838Z"
   },
   {
    "duration": 259,
    "start_time": "2024-01-31T04:30:31.456Z"
   },
   {
    "duration": 2724,
    "start_time": "2024-01-31T04:30:49.884Z"
   },
   {
    "duration": 1211,
    "start_time": "2024-01-31T04:30:52.610Z"
   },
   {
    "duration": 54,
    "start_time": "2024-01-31T04:30:53.823Z"
   },
   {
    "duration": 9,
    "start_time": "2024-01-31T04:30:53.879Z"
   },
   {
    "duration": 231,
    "start_time": "2024-01-31T04:30:53.889Z"
   },
   {
    "duration": 807,
    "start_time": "2024-01-31T04:30:54.121Z"
   },
   {
    "duration": 486,
    "start_time": "2024-01-31T04:30:54.930Z"
   },
   {
    "duration": 264,
    "start_time": "2024-01-31T04:30:55.417Z"
   },
   {
    "duration": 268,
    "start_time": "2024-01-31T04:32:20.051Z"
   },
   {
    "duration": 335,
    "start_time": "2024-01-31T04:32:27.561Z"
   },
   {
    "duration": 257,
    "start_time": "2024-01-31T04:32:37.465Z"
   },
   {
    "duration": 72,
    "start_time": "2024-01-31T04:41:29.252Z"
   },
   {
    "duration": 73,
    "start_time": "2024-01-31T04:42:15.203Z"
   },
   {
    "duration": 4,
    "start_time": "2024-01-31T04:42:31.608Z"
   },
   {
    "duration": 20,
    "start_time": "2024-01-31T04:42:35.178Z"
   },
   {
    "duration": 14,
    "start_time": "2024-01-31T04:42:45.153Z"
   },
   {
    "duration": 39,
    "start_time": "2024-01-31T04:43:13.646Z"
   },
   {
    "duration": 29,
    "start_time": "2024-01-31T04:43:40.956Z"
   },
   {
    "duration": 2,
    "start_time": "2024-01-31T04:48:47.694Z"
   },
   {
    "duration": 5,
    "start_time": "2024-01-31T05:04:19.793Z"
   },
   {
    "duration": 30,
    "start_time": "2024-01-31T05:04:20.808Z"
   },
   {
    "duration": 3,
    "start_time": "2024-01-31T05:04:24.308Z"
   },
   {
    "duration": 38,
    "start_time": "2024-01-31T05:29:34.244Z"
   },
   {
    "duration": 10,
    "start_time": "2024-01-31T05:29:48.749Z"
   },
   {
    "duration": 2824,
    "start_time": "2024-01-31T05:30:15.430Z"
   },
   {
    "duration": 1334,
    "start_time": "2024-01-31T05:30:18.257Z"
   },
   {
    "duration": 56,
    "start_time": "2024-01-31T05:30:19.592Z"
   },
   {
    "duration": 9,
    "start_time": "2024-01-31T05:30:19.650Z"
   },
   {
    "duration": 228,
    "start_time": "2024-01-31T05:30:19.661Z"
   },
   {
    "duration": 858,
    "start_time": "2024-01-31T05:30:19.890Z"
   },
   {
    "duration": 523,
    "start_time": "2024-01-31T05:30:20.749Z"
   },
   {
    "duration": 287,
    "start_time": "2024-01-31T05:30:21.274Z"
   },
   {
    "duration": 4,
    "start_time": "2024-01-31T05:30:21.564Z"
   },
   {
    "duration": 37,
    "start_time": "2024-01-31T05:30:21.570Z"
   },
   {
    "duration": 3,
    "start_time": "2024-01-31T05:30:21.608Z"
   },
   {
    "duration": 10,
    "start_time": "2024-01-31T05:30:21.612Z"
   },
   {
    "duration": 2667,
    "start_time": "2024-01-31T05:56:52.170Z"
   },
   {
    "duration": 1284,
    "start_time": "2024-01-31T05:56:54.839Z"
   },
   {
    "duration": 52,
    "start_time": "2024-01-31T05:56:56.125Z"
   },
   {
    "duration": 9,
    "start_time": "2024-01-31T05:56:56.180Z"
   },
   {
    "duration": 222,
    "start_time": "2024-01-31T05:56:56.191Z"
   },
   {
    "duration": 865,
    "start_time": "2024-01-31T05:56:56.415Z"
   },
   {
    "duration": 514,
    "start_time": "2024-01-31T05:56:57.282Z"
   },
   {
    "duration": 284,
    "start_time": "2024-01-31T05:56:57.798Z"
   },
   {
    "duration": 4,
    "start_time": "2024-01-31T05:56:58.084Z"
   },
   {
    "duration": 45,
    "start_time": "2024-01-31T05:56:58.090Z"
   },
   {
    "duration": 2,
    "start_time": "2024-01-31T05:56:58.137Z"
   },
   {
    "duration": 30,
    "start_time": "2024-01-31T05:56:58.140Z"
   },
   {
    "duration": 87,
    "start_time": "2024-01-31T05:56:58.171Z"
   },
   {
    "duration": 0,
    "start_time": "2024-01-31T05:56:58.259Z"
   },
   {
    "duration": 6265,
    "start_time": "2024-01-31T13:20:40.060Z"
   },
   {
    "duration": 1430,
    "start_time": "2024-01-31T13:20:46.328Z"
   },
   {
    "duration": 143,
    "start_time": "2024-01-31T13:20:47.760Z"
   },
   {
    "duration": 10,
    "start_time": "2024-01-31T13:20:47.904Z"
   },
   {
    "duration": 236,
    "start_time": "2024-01-31T13:20:47.916Z"
   },
   {
    "duration": 845,
    "start_time": "2024-01-31T13:20:48.153Z"
   },
   {
    "duration": 510,
    "start_time": "2024-01-31T13:20:48.999Z"
   },
   {
    "duration": 281,
    "start_time": "2024-01-31T13:20:49.510Z"
   },
   {
    "duration": 4,
    "start_time": "2024-01-31T13:20:49.792Z"
   },
   {
    "duration": 40,
    "start_time": "2024-01-31T13:20:49.797Z"
   },
   {
    "duration": 2,
    "start_time": "2024-01-31T13:20:49.839Z"
   },
   {
    "duration": 124,
    "start_time": "2024-01-31T13:20:49.842Z"
   },
   {
    "duration": 0,
    "start_time": "2024-01-31T13:20:49.968Z"
   },
   {
    "duration": 4,
    "start_time": "2024-01-31T13:21:19.848Z"
   },
   {
    "duration": 92,
    "start_time": "2024-01-31T13:23:44.379Z"
   },
   {
    "duration": 16,
    "start_time": "2024-01-31T13:24:11.372Z"
   },
   {
    "duration": 14,
    "start_time": "2024-01-31T13:25:43.802Z"
   },
   {
    "duration": 15,
    "start_time": "2024-01-31T13:27:30.869Z"
   },
   {
    "duration": 13,
    "start_time": "2024-01-31T13:28:49.597Z"
   },
   {
    "duration": 2770,
    "start_time": "2024-01-31T13:29:22.991Z"
   },
   {
    "duration": 1368,
    "start_time": "2024-01-31T13:29:25.763Z"
   },
   {
    "duration": 54,
    "start_time": "2024-01-31T13:29:27.132Z"
   },
   {
    "duration": 9,
    "start_time": "2024-01-31T13:29:27.187Z"
   },
   {
    "duration": 244,
    "start_time": "2024-01-31T13:29:27.198Z"
   },
   {
    "duration": 813,
    "start_time": "2024-01-31T13:29:27.443Z"
   },
   {
    "duration": 553,
    "start_time": "2024-01-31T13:29:28.257Z"
   },
   {
    "duration": 277,
    "start_time": "2024-01-31T13:29:28.811Z"
   },
   {
    "duration": 3,
    "start_time": "2024-01-31T13:29:29.090Z"
   },
   {
    "duration": 6,
    "start_time": "2024-01-31T13:29:29.095Z"
   },
   {
    "duration": 5,
    "start_time": "2024-01-31T13:29:29.102Z"
   },
   {
    "duration": 130,
    "start_time": "2024-01-31T13:29:29.109Z"
   },
   {
    "duration": 15,
    "start_time": "2024-01-31T13:30:46.206Z"
   },
   {
    "duration": 2714,
    "start_time": "2024-01-31T13:34:06.469Z"
   },
   {
    "duration": 89,
    "start_time": "2024-01-31T13:34:09.185Z"
   },
   {
    "duration": 0,
    "start_time": "2024-01-31T13:34:09.276Z"
   },
   {
    "duration": 0,
    "start_time": "2024-01-31T13:34:09.276Z"
   },
   {
    "duration": 0,
    "start_time": "2024-01-31T13:34:09.278Z"
   },
   {
    "duration": 0,
    "start_time": "2024-01-31T13:34:09.279Z"
   },
   {
    "duration": 0,
    "start_time": "2024-01-31T13:34:09.280Z"
   },
   {
    "duration": 0,
    "start_time": "2024-01-31T13:34:09.281Z"
   },
   {
    "duration": 0,
    "start_time": "2024-01-31T13:34:09.282Z"
   },
   {
    "duration": 0,
    "start_time": "2024-01-31T13:34:09.283Z"
   },
   {
    "duration": 0,
    "start_time": "2024-01-31T13:34:09.284Z"
   },
   {
    "duration": 0,
    "start_time": "2024-01-31T13:34:09.285Z"
   },
   {
    "duration": 0,
    "start_time": "2024-01-31T13:34:09.286Z"
   },
   {
    "duration": 1286,
    "start_time": "2024-01-31T13:34:35.160Z"
   },
   {
    "duration": 54,
    "start_time": "2024-01-31T13:34:36.518Z"
   },
   {
    "duration": 10,
    "start_time": "2024-01-31T13:34:37.114Z"
   },
   {
    "duration": 221,
    "start_time": "2024-01-31T13:34:38.321Z"
   },
   {
    "duration": 824,
    "start_time": "2024-01-31T13:34:38.925Z"
   },
   {
    "duration": 498,
    "start_time": "2024-01-31T13:34:39.750Z"
   },
   {
    "duration": 274,
    "start_time": "2024-01-31T13:34:40.250Z"
   },
   {
    "duration": 2885,
    "start_time": "2024-01-31T13:34:43.739Z"
   },
   {
    "duration": 1210,
    "start_time": "2024-01-31T13:34:46.627Z"
   },
   {
    "duration": 54,
    "start_time": "2024-01-31T13:34:47.839Z"
   },
   {
    "duration": 9,
    "start_time": "2024-01-31T13:34:47.894Z"
   },
   {
    "duration": 232,
    "start_time": "2024-01-31T13:34:47.905Z"
   },
   {
    "duration": 822,
    "start_time": "2024-01-31T13:34:48.138Z"
   },
   {
    "duration": 497,
    "start_time": "2024-01-31T13:34:48.961Z"
   },
   {
    "duration": 277,
    "start_time": "2024-01-31T13:34:49.459Z"
   },
   {
    "duration": 3,
    "start_time": "2024-01-31T13:34:49.738Z"
   },
   {
    "duration": 25,
    "start_time": "2024-01-31T13:34:49.742Z"
   },
   {
    "duration": 10,
    "start_time": "2024-01-31T13:34:49.769Z"
   },
   {
    "duration": 7,
    "start_time": "2024-01-31T13:34:49.780Z"
   },
   {
    "duration": 122,
    "start_time": "2024-01-31T13:34:49.788Z"
   },
   {
    "duration": 3031,
    "start_time": "2024-01-31T17:15:02.346Z"
   },
   {
    "duration": 1427,
    "start_time": "2024-01-31T17:15:05.379Z"
   },
   {
    "duration": 59,
    "start_time": "2024-01-31T17:15:06.808Z"
   },
   {
    "duration": 12,
    "start_time": "2024-01-31T17:15:06.869Z"
   },
   {
    "duration": 271,
    "start_time": "2024-01-31T17:15:06.884Z"
   },
   {
    "duration": 897,
    "start_time": "2024-01-31T17:15:07.158Z"
   },
   {
    "duration": 586,
    "start_time": "2024-01-31T17:15:08.057Z"
   },
   {
    "duration": 323,
    "start_time": "2024-01-31T17:15:08.645Z"
   },
   {
    "duration": 4,
    "start_time": "2024-01-31T17:15:08.970Z"
   },
   {
    "duration": 31,
    "start_time": "2024-01-31T17:15:08.975Z"
   },
   {
    "duration": 12,
    "start_time": "2024-01-31T17:15:09.008Z"
   },
   {
    "duration": 7,
    "start_time": "2024-01-31T17:15:09.022Z"
   },
   {
    "duration": 133,
    "start_time": "2024-01-31T17:15:09.031Z"
   },
   {
    "duration": 3061,
    "start_time": "2024-01-31T17:17:53.588Z"
   },
   {
    "duration": 1359,
    "start_time": "2024-01-31T17:17:56.651Z"
   },
   {
    "duration": 58,
    "start_time": "2024-01-31T17:17:58.012Z"
   },
   {
    "duration": 11,
    "start_time": "2024-01-31T17:17:58.072Z"
   },
   {
    "duration": 268,
    "start_time": "2024-01-31T17:17:58.085Z"
   },
   {
    "duration": 913,
    "start_time": "2024-01-31T17:17:58.355Z"
   },
   {
    "duration": 581,
    "start_time": "2024-01-31T17:17:59.270Z"
   },
   {
    "duration": 317,
    "start_time": "2024-01-31T17:17:59.853Z"
   },
   {
    "duration": 5,
    "start_time": "2024-01-31T17:18:00.172Z"
   },
   {
    "duration": 115,
    "start_time": "2024-01-31T17:18:00.187Z"
   },
   {
    "duration": 90,
    "start_time": "2024-01-31T17:18:00.304Z"
   },
   {
    "duration": 194,
    "start_time": "2024-01-31T17:18:00.396Z"
   },
   {
    "duration": 19,
    "start_time": "2024-01-31T17:24:07.499Z"
   },
   {
    "duration": 109,
    "start_time": "2024-01-31T17:24:30.008Z"
   },
   {
    "duration": 30,
    "start_time": "2024-01-31T17:24:51.998Z"
   },
   {
    "duration": 3141,
    "start_time": "2024-01-31T17:25:05.398Z"
   },
   {
    "duration": 1391,
    "start_time": "2024-01-31T17:25:08.541Z"
   },
   {
    "duration": 67,
    "start_time": "2024-01-31T17:25:09.933Z"
   },
   {
    "duration": 12,
    "start_time": "2024-01-31T17:25:10.002Z"
   },
   {
    "duration": 292,
    "start_time": "2024-01-31T17:25:10.017Z"
   },
   {
    "duration": 939,
    "start_time": "2024-01-31T17:25:10.310Z"
   },
   {
    "duration": 594,
    "start_time": "2024-01-31T17:25:11.251Z"
   },
   {
    "duration": 328,
    "start_time": "2024-01-31T17:25:11.847Z"
   },
   {
    "duration": 19,
    "start_time": "2024-01-31T17:25:12.177Z"
   },
   {
    "duration": 11,
    "start_time": "2024-01-31T17:25:12.197Z"
   },
   {
    "duration": 31,
    "start_time": "2024-01-31T17:25:12.210Z"
   },
   {
    "duration": 167,
    "start_time": "2024-01-31T17:25:12.244Z"
   },
   {
    "duration": 7,
    "start_time": "2024-01-31T17:29:17.394Z"
   },
   {
    "duration": 2,
    "start_time": "2024-01-31T17:29:18.933Z"
   },
   {
    "duration": 3,
    "start_time": "2024-01-31T17:29:20.504Z"
   },
   {
    "duration": 122,
    "start_time": "2024-01-31T17:29:21.665Z"
   },
   {
    "duration": 11323,
    "start_time": "2024-01-31T17:29:40.175Z"
   },
   {
    "duration": 2970,
    "start_time": "2024-01-31T17:37:36.082Z"
   },
   {
    "duration": 1337,
    "start_time": "2024-01-31T17:37:39.054Z"
   },
   {
    "duration": 57,
    "start_time": "2024-01-31T17:37:40.393Z"
   },
   {
    "duration": 10,
    "start_time": "2024-01-31T17:37:40.452Z"
   },
   {
    "duration": 289,
    "start_time": "2024-01-31T17:37:40.463Z"
   },
   {
    "duration": 886,
    "start_time": "2024-01-31T17:37:40.754Z"
   },
   {
    "duration": 591,
    "start_time": "2024-01-31T17:37:41.641Z"
   },
   {
    "duration": 316,
    "start_time": "2024-01-31T17:37:42.234Z"
   },
   {
    "duration": 4,
    "start_time": "2024-01-31T17:37:42.552Z"
   },
   {
    "duration": 20,
    "start_time": "2024-01-31T17:37:42.558Z"
   },
   {
    "duration": 19,
    "start_time": "2024-01-31T17:37:42.580Z"
   },
   {
    "duration": 18,
    "start_time": "2024-01-31T17:37:42.601Z"
   },
   {
    "duration": 137,
    "start_time": "2024-01-31T17:37:42.621Z"
   },
   {
    "duration": 144,
    "start_time": "2024-01-31T17:38:55.022Z"
   },
   {
    "duration": 36,
    "start_time": "2024-01-31T17:40:44.900Z"
   },
   {
    "duration": 17337,
    "start_time": "2024-01-31T17:42:18.933Z"
   },
   {
    "duration": 2829,
    "start_time": "2024-01-31T17:46:39.833Z"
   },
   {
    "duration": 1270,
    "start_time": "2024-01-31T17:46:42.665Z"
   },
   {
    "duration": 55,
    "start_time": "2024-01-31T17:46:43.936Z"
   },
   {
    "duration": 10,
    "start_time": "2024-01-31T17:46:43.994Z"
   },
   {
    "duration": 234,
    "start_time": "2024-01-31T17:46:44.005Z"
   },
   {
    "duration": 855,
    "start_time": "2024-01-31T17:46:44.240Z"
   },
   {
    "duration": 533,
    "start_time": "2024-01-31T17:46:45.098Z"
   },
   {
    "duration": 288,
    "start_time": "2024-01-31T17:46:45.633Z"
   },
   {
    "duration": 4,
    "start_time": "2024-01-31T17:46:45.922Z"
   },
   {
    "duration": 18,
    "start_time": "2024-01-31T17:46:45.928Z"
   },
   {
    "duration": 10,
    "start_time": "2024-01-31T17:46:45.947Z"
   },
   {
    "duration": 629245,
    "start_time": "2024-01-31T17:46:45.959Z"
   },
   {
    "duration": 0,
    "start_time": "2024-01-31T17:57:15.206Z"
   },
   {
    "duration": 637890,
    "start_time": "2024-01-31T17:57:51.114Z"
   },
   {
    "duration": 623994,
    "start_time": "2024-01-31T18:11:09.503Z"
   },
   {
    "duration": 918101,
    "start_time": "2024-01-31T18:23:56.686Z"
   },
   {
    "duration": 940,
    "start_time": "2024-01-31T18:41:48.969Z"
   },
   {
    "duration": 1043,
    "start_time": "2024-01-31T18:42:02.547Z"
   },
   {
    "duration": 1302,
    "start_time": "2024-01-31T18:42:46.387Z"
   },
   {
    "duration": 686,
    "start_time": "2024-01-31T18:42:59.112Z"
   },
   {
    "duration": 2162,
    "start_time": "2024-01-31T18:43:06.329Z"
   },
   {
    "duration": 4280,
    "start_time": "2024-01-31T18:43:14.743Z"
   },
   {
    "duration": 2407,
    "start_time": "2024-01-31T18:43:19.025Z"
   },
   {
    "duration": 109,
    "start_time": "2024-01-31T18:43:21.434Z"
   },
   {
    "duration": 56,
    "start_time": "2024-01-31T18:43:21.545Z"
   },
   {
    "duration": 247,
    "start_time": "2024-01-31T18:43:21.604Z"
   },
   {
    "duration": 868,
    "start_time": "2024-01-31T18:43:21.853Z"
   },
   {
    "duration": 529,
    "start_time": "2024-01-31T18:43:22.722Z"
   },
   {
    "duration": 306,
    "start_time": "2024-01-31T18:43:23.253Z"
   },
   {
    "duration": 5,
    "start_time": "2024-01-31T18:43:23.560Z"
   },
   {
    "duration": 37,
    "start_time": "2024-01-31T18:43:23.567Z"
   },
   {
    "duration": 42,
    "start_time": "2024-01-31T18:43:23.606Z"
   },
   {
    "duration": 87,
    "start_time": "2024-01-31T18:43:23.650Z"
   },
   {
    "duration": 0,
    "start_time": "2024-01-31T18:43:23.739Z"
   },
   {
    "duration": 0,
    "start_time": "2024-01-31T18:43:23.740Z"
   },
   {
    "duration": 1751,
    "start_time": "2024-01-31T18:43:37.153Z"
   },
   {
    "duration": 4,
    "start_time": "2024-01-31T18:43:54.977Z"
   },
   {
    "duration": 3,
    "start_time": "2024-01-31T18:43:56.695Z"
   },
   {
    "duration": 2,
    "start_time": "2024-01-31T18:43:58.048Z"
   },
   {
    "duration": 2031,
    "start_time": "2024-01-31T18:43:59.571Z"
   },
   {
    "duration": 215,
    "start_time": "2024-01-31T18:45:15.681Z"
   },
   {
    "duration": 2892,
    "start_time": "2024-01-31T18:45:25.616Z"
   },
   {
    "duration": 1227,
    "start_time": "2024-01-31T18:45:28.511Z"
   },
   {
    "duration": 56,
    "start_time": "2024-01-31T18:45:29.739Z"
   },
   {
    "duration": 9,
    "start_time": "2024-01-31T18:45:29.800Z"
   },
   {
    "duration": 250,
    "start_time": "2024-01-31T18:45:29.810Z"
   },
   {
    "duration": 871,
    "start_time": "2024-01-31T18:45:30.062Z"
   },
   {
    "duration": 523,
    "start_time": "2024-01-31T18:45:30.934Z"
   },
   {
    "duration": 297,
    "start_time": "2024-01-31T18:45:31.459Z"
   },
   {
    "duration": 3,
    "start_time": "2024-01-31T18:45:31.758Z"
   },
   {
    "duration": 55,
    "start_time": "2024-01-31T18:45:31.763Z"
   },
   {
    "duration": 48,
    "start_time": "2024-01-31T18:45:31.819Z"
   },
   {
    "duration": 331,
    "start_time": "2024-01-31T18:45:31.868Z"
   },
   {
    "duration": 129,
    "start_time": "2024-01-31T18:45:32.206Z"
   },
   {
    "duration": 4,
    "start_time": "2024-01-31T18:47:29.921Z"
   },
   {
    "duration": 2,
    "start_time": "2024-01-31T18:47:31.841Z"
   },
   {
    "duration": 3,
    "start_time": "2024-01-31T18:47:33.600Z"
   },
   {
    "duration": 491,
    "start_time": "2024-01-31T18:47:35.606Z"
   },
   {
    "duration": 208,
    "start_time": "2024-01-31T18:47:43.095Z"
   },
   {
    "duration": 237,
    "start_time": "2024-01-31T18:48:07.460Z"
   },
   {
    "duration": 2863,
    "start_time": "2024-01-31T18:49:12.984Z"
   },
   {
    "duration": 1203,
    "start_time": "2024-01-31T18:49:15.849Z"
   },
   {
    "duration": 60,
    "start_time": "2024-01-31T18:49:17.053Z"
   },
   {
    "duration": 9,
    "start_time": "2024-01-31T18:49:17.115Z"
   },
   {
    "duration": 232,
    "start_time": "2024-01-31T18:49:17.125Z"
   },
   {
    "duration": 845,
    "start_time": "2024-01-31T18:49:17.359Z"
   },
   {
    "duration": 521,
    "start_time": "2024-01-31T18:49:18.206Z"
   },
   {
    "duration": 297,
    "start_time": "2024-01-31T18:49:18.729Z"
   },
   {
    "duration": 3,
    "start_time": "2024-01-31T18:49:19.028Z"
   },
   {
    "duration": 9,
    "start_time": "2024-01-31T18:49:19.033Z"
   },
   {
    "duration": 17,
    "start_time": "2024-01-31T18:49:19.043Z"
   },
   {
    "duration": 520138,
    "start_time": "2024-01-31T18:49:19.061Z"
   },
   {
    "duration": 142,
    "start_time": "2024-01-31T18:57:59.294Z"
   },
   {
    "duration": 438127,
    "start_time": "2024-01-31T19:25:42.299Z"
   },
   {
    "duration": 2802,
    "start_time": "2024-01-31T19:33:25.322Z"
   },
   {
    "duration": 1214,
    "start_time": "2024-01-31T19:33:28.127Z"
   },
   {
    "duration": 60,
    "start_time": "2024-01-31T19:33:29.342Z"
   },
   {
    "duration": 9,
    "start_time": "2024-01-31T19:33:29.404Z"
   },
   {
    "duration": 231,
    "start_time": "2024-01-31T19:33:29.415Z"
   },
   {
    "duration": 870,
    "start_time": "2024-01-31T19:33:29.648Z"
   },
   {
    "duration": 529,
    "start_time": "2024-01-31T19:33:30.520Z"
   },
   {
    "duration": 310,
    "start_time": "2024-01-31T19:33:31.051Z"
   },
   {
    "duration": 6,
    "start_time": "2024-01-31T19:33:31.363Z"
   },
   {
    "duration": 39,
    "start_time": "2024-01-31T19:33:31.370Z"
   },
   {
    "duration": 59,
    "start_time": "2024-01-31T19:33:31.411Z"
   },
   {
    "duration": 300,
    "start_time": "2024-01-31T19:33:31.472Z"
   },
   {
    "duration": 6807,
    "start_time": "2024-02-01T02:48:31.643Z"
   },
   {
    "duration": 1620,
    "start_time": "2024-02-01T02:48:38.452Z"
   },
   {
    "duration": 146,
    "start_time": "2024-02-01T02:48:40.074Z"
   },
   {
    "duration": 161,
    "start_time": "2024-02-01T02:53:06.651Z"
   },
   {
    "duration": 56,
    "start_time": "2024-02-01T02:53:15.005Z"
   },
   {
    "duration": 10,
    "start_time": "2024-02-01T02:55:17.733Z"
   },
   {
    "duration": 290,
    "start_time": "2024-02-01T02:55:30.092Z"
   },
   {
    "duration": 3026,
    "start_time": "2024-02-01T02:57:35.600Z"
   },
   {
    "duration": 1340,
    "start_time": "2024-02-01T02:57:38.628Z"
   },
   {
    "duration": 52,
    "start_time": "2024-02-01T02:57:39.969Z"
   },
   {
    "duration": 36,
    "start_time": "2024-02-01T02:57:40.023Z"
   },
   {
    "duration": 11,
    "start_time": "2024-02-01T02:57:40.060Z"
   },
   {
    "duration": 39,
    "start_time": "2024-02-01T02:57:40.073Z"
   },
   {
    "duration": 234,
    "start_time": "2024-02-01T03:02:24.392Z"
   },
   {
    "duration": 214,
    "start_time": "2024-02-01T03:02:41.240Z"
   },
   {
    "duration": 286,
    "start_time": "2024-02-01T03:02:45.413Z"
   },
   {
    "duration": 242,
    "start_time": "2024-02-01T03:02:55.022Z"
   },
   {
    "duration": 232,
    "start_time": "2024-02-01T03:03:01.392Z"
   },
   {
    "duration": 228,
    "start_time": "2024-02-01T03:03:20.054Z"
   },
   {
    "duration": 121,
    "start_time": "2024-02-01T03:06:34.547Z"
   },
   {
    "duration": 100,
    "start_time": "2024-02-01T03:07:17.747Z"
   },
   {
    "duration": 99,
    "start_time": "2024-02-01T03:07:21.196Z"
   },
   {
    "duration": 10,
    "start_time": "2024-02-01T03:07:56.257Z"
   },
   {
    "duration": 9,
    "start_time": "2024-02-01T03:08:00.534Z"
   },
   {
    "duration": 96,
    "start_time": "2024-02-01T03:08:14.319Z"
   },
   {
    "duration": 84,
    "start_time": "2024-02-01T03:08:20.488Z"
   },
   {
    "duration": 105,
    "start_time": "2024-02-01T03:08:22.986Z"
   },
   {
    "duration": 10,
    "start_time": "2024-02-01T03:08:28.108Z"
   },
   {
    "duration": 9,
    "start_time": "2024-02-01T03:08:40.293Z"
   },
   {
    "duration": 9,
    "start_time": "2024-02-01T03:16:42.158Z"
   },
   {
    "duration": 344,
    "start_time": "2024-02-01T03:17:13.138Z"
   },
   {
    "duration": 474,
    "start_time": "2024-02-01T03:18:14.738Z"
   },
   {
    "duration": 920,
    "start_time": "2024-02-01T03:19:05.779Z"
   },
   {
    "duration": 456,
    "start_time": "2024-02-01T03:22:23.112Z"
   },
   {
    "duration": 772,
    "start_time": "2024-02-01T03:25:12.910Z"
   },
   {
    "duration": 969,
    "start_time": "2024-02-01T03:28:54.356Z"
   },
   {
    "duration": 569,
    "start_time": "2024-02-01T03:29:55.561Z"
   },
   {
    "duration": 726,
    "start_time": "2024-02-01T03:30:28.651Z"
   },
   {
    "duration": 789,
    "start_time": "2024-02-01T03:33:29.070Z"
   },
   {
    "duration": 762,
    "start_time": "2024-02-01T03:34:07.491Z"
   },
   {
    "duration": 514,
    "start_time": "2024-02-01T03:34:41.473Z"
   },
   {
    "duration": 554,
    "start_time": "2024-02-01T03:34:52.264Z"
   },
   {
    "duration": 564,
    "start_time": "2024-02-01T03:36:02.361Z"
   },
   {
    "duration": 590,
    "start_time": "2024-02-01T03:36:18.850Z"
   },
   {
    "duration": 412,
    "start_time": "2024-02-01T03:39:30.385Z"
   },
   {
    "duration": 6,
    "start_time": "2024-02-01T03:46:30.687Z"
   },
   {
    "duration": 4,
    "start_time": "2024-02-01T03:48:01.321Z"
   },
   {
    "duration": 30,
    "start_time": "2024-02-01T03:48:34.921Z"
   },
   {
    "duration": 27,
    "start_time": "2024-02-01T03:48:44.017Z"
   },
   {
    "duration": 19,
    "start_time": "2024-02-01T03:49:37.511Z"
   },
   {
    "duration": 274,
    "start_time": "2024-02-01T03:49:42.419Z"
   },
   {
    "duration": 204,
    "start_time": "2024-02-01T03:50:15.186Z"
   },
   {
    "duration": 170,
    "start_time": "2024-02-01T03:50:30.618Z"
   },
   {
    "duration": 31,
    "start_time": "2024-02-01T03:51:17.325Z"
   },
   {
    "duration": 217,
    "start_time": "2024-02-01T03:51:18.564Z"
   },
   {
    "duration": 4,
    "start_time": "2024-02-01T03:51:38.034Z"
   },
   {
    "duration": 21,
    "start_time": "2024-02-01T03:51:39.500Z"
   },
   {
    "duration": 179,
    "start_time": "2024-02-01T03:51:40.706Z"
   },
   {
    "duration": 3225,
    "start_time": "2024-02-01T03:52:01.002Z"
   },
   {
    "duration": 1350,
    "start_time": "2024-02-01T03:52:04.230Z"
   },
   {
    "duration": 55,
    "start_time": "2024-02-01T03:52:05.582Z"
   },
   {
    "duration": 37,
    "start_time": "2024-02-01T03:52:05.638Z"
   },
   {
    "duration": 10,
    "start_time": "2024-02-01T03:52:05.676Z"
   },
   {
    "duration": 17,
    "start_time": "2024-02-01T03:52:05.688Z"
   },
   {
    "duration": 247,
    "start_time": "2024-02-01T03:52:05.707Z"
   },
   {
    "duration": 120,
    "start_time": "2024-02-01T03:52:05.956Z"
   },
   {
    "duration": 185,
    "start_time": "2024-02-01T03:52:06.080Z"
   },
   {
    "duration": 18,
    "start_time": "2024-02-01T03:52:06.267Z"
   },
   {
    "duration": 9,
    "start_time": "2024-02-01T03:52:06.286Z"
   },
   {
    "duration": 270,
    "start_time": "2024-02-01T03:52:06.296Z"
   },
   {
    "duration": 931,
    "start_time": "2024-02-01T03:52:06.567Z"
   },
   {
    "duration": 617,
    "start_time": "2024-02-01T03:52:07.499Z"
   },
   {
    "duration": 0,
    "start_time": "2024-02-01T03:52:08.117Z"
   },
   {
    "duration": 0,
    "start_time": "2024-02-01T03:52:08.119Z"
   },
   {
    "duration": 0,
    "start_time": "2024-02-01T03:52:08.120Z"
   },
   {
    "duration": 0,
    "start_time": "2024-02-01T03:52:08.121Z"
   },
   {
    "duration": 0,
    "start_time": "2024-02-01T03:52:08.122Z"
   },
   {
    "duration": 0,
    "start_time": "2024-02-01T03:52:08.123Z"
   },
   {
    "duration": 0,
    "start_time": "2024-02-01T03:52:08.124Z"
   },
   {
    "duration": 0,
    "start_time": "2024-02-01T03:52:08.125Z"
   },
   {
    "duration": 844,
    "start_time": "2024-02-01T03:52:43.535Z"
   },
   {
    "duration": 588,
    "start_time": "2024-02-01T03:52:46.372Z"
   },
   {
    "duration": 304,
    "start_time": "2024-02-01T03:52:49.314Z"
   },
   {
    "duration": 5,
    "start_time": "2024-02-01T03:52:52.131Z"
   },
   {
    "duration": 63,
    "start_time": "2024-02-01T03:52:53.178Z"
   },
   {
    "duration": 243,
    "start_time": "2024-02-01T03:52:53.856Z"
   },
   {
    "duration": 19,
    "start_time": "2024-02-01T03:56:01.959Z"
   },
   {
    "duration": 4,
    "start_time": "2024-02-01T03:56:07.836Z"
   },
   {
    "duration": 18,
    "start_time": "2024-02-01T03:56:09.058Z"
   },
   {
    "duration": 3203,
    "start_time": "2024-02-01T03:56:19.572Z"
   },
   {
    "duration": 1408,
    "start_time": "2024-02-01T03:56:22.778Z"
   },
   {
    "duration": 68,
    "start_time": "2024-02-01T03:56:24.188Z"
   },
   {
    "duration": 40,
    "start_time": "2024-02-01T03:56:24.259Z"
   },
   {
    "duration": 12,
    "start_time": "2024-02-01T03:56:24.301Z"
   },
   {
    "duration": 13,
    "start_time": "2024-02-01T03:56:24.315Z"
   },
   {
    "duration": 285,
    "start_time": "2024-02-01T03:56:24.329Z"
   },
   {
    "duration": 123,
    "start_time": "2024-02-01T03:56:24.616Z"
   },
   {
    "duration": 183,
    "start_time": "2024-02-01T03:56:24.741Z"
   },
   {
    "duration": 10,
    "start_time": "2024-02-01T03:56:24.926Z"
   },
   {
    "duration": 17,
    "start_time": "2024-02-01T03:56:24.937Z"
   },
   {
    "duration": 246,
    "start_time": "2024-02-01T03:56:24.956Z"
   },
   {
    "duration": 849,
    "start_time": "2024-02-01T03:56:25.204Z"
   },
   {
    "duration": 732,
    "start_time": "2024-02-01T03:56:26.056Z"
   },
   {
    "duration": 669,
    "start_time": "2024-02-01T03:56:26.790Z"
   },
   {
    "duration": 301,
    "start_time": "2024-02-01T03:56:27.461Z"
   },
   {
    "duration": 4,
    "start_time": "2024-02-01T03:56:27.764Z"
   },
   {
    "duration": 133,
    "start_time": "2024-02-01T03:56:30.445Z"
   },
   {
    "duration": 10,
    "start_time": "2024-02-01T03:56:36.738Z"
   },
   {
    "duration": 23,
    "start_time": "2024-02-01T04:00:07.866Z"
   },
   {
    "duration": 20,
    "start_time": "2024-02-01T04:00:23.687Z"
   },
   {
    "duration": 12,
    "start_time": "2024-02-01T04:00:28.597Z"
   },
   {
    "duration": 5,
    "start_time": "2024-02-01T04:01:25.524Z"
   },
   {
    "duration": 41,
    "start_time": "2024-02-01T04:01:27.038Z"
   },
   {
    "duration": 122,
    "start_time": "2024-02-01T04:01:30.866Z"
   },
   {
    "duration": 143,
    "start_time": "2024-02-01T04:02:24.441Z"
   },
   {
    "duration": 151,
    "start_time": "2024-02-01T04:02:34.040Z"
   },
   {
    "duration": 193,
    "start_time": "2024-02-01T04:02:41.989Z"
   },
   {
    "duration": 84,
    "start_time": "2024-02-01T04:03:24.803Z"
   },
   {
    "duration": 184,
    "start_time": "2024-02-01T04:03:35.295Z"
   },
   {
    "duration": 75,
    "start_time": "2024-02-01T04:07:38.932Z"
   },
   {
    "duration": 5,
    "start_time": "2024-02-01T04:08:01.550Z"
   },
   {
    "duration": 53,
    "start_time": "2024-02-01T04:08:02.703Z"
   },
   {
    "duration": 2996,
    "start_time": "2024-02-01T04:08:14.083Z"
   },
   {
    "duration": 1399,
    "start_time": "2024-02-01T04:08:17.081Z"
   },
   {
    "duration": 53,
    "start_time": "2024-02-01T04:08:18.481Z"
   },
   {
    "duration": 38,
    "start_time": "2024-02-01T04:08:18.536Z"
   },
   {
    "duration": 11,
    "start_time": "2024-02-01T04:08:18.576Z"
   },
   {
    "duration": 13,
    "start_time": "2024-02-01T04:08:18.588Z"
   },
   {
    "duration": 256,
    "start_time": "2024-02-01T04:08:18.602Z"
   },
   {
    "duration": 117,
    "start_time": "2024-02-01T04:08:18.859Z"
   },
   {
    "duration": 178,
    "start_time": "2024-02-01T04:08:18.981Z"
   },
   {
    "duration": 10,
    "start_time": "2024-02-01T04:08:19.161Z"
   },
   {
    "duration": 15,
    "start_time": "2024-02-01T04:08:19.172Z"
   },
   {
    "duration": 266,
    "start_time": "2024-02-01T04:08:19.188Z"
   },
   {
    "duration": 897,
    "start_time": "2024-02-01T04:08:19.456Z"
   },
   {
    "duration": 785,
    "start_time": "2024-02-01T04:08:20.355Z"
   },
   {
    "duration": 678,
    "start_time": "2024-02-01T04:08:21.143Z"
   },
   {
    "duration": 325,
    "start_time": "2024-02-01T04:08:21.823Z"
   },
   {
    "duration": 5,
    "start_time": "2024-02-01T04:08:22.151Z"
   },
   {
    "duration": 34,
    "start_time": "2024-02-01T04:08:23.663Z"
   },
   {
    "duration": 3463,
    "start_time": "2024-02-01T04:09:47.839Z"
   },
   {
    "duration": 1578,
    "start_time": "2024-02-01T04:09:51.305Z"
   },
   {
    "duration": 54,
    "start_time": "2024-02-01T04:09:52.885Z"
   },
   {
    "duration": 37,
    "start_time": "2024-02-01T04:09:52.941Z"
   },
   {
    "duration": 10,
    "start_time": "2024-02-01T04:09:52.980Z"
   },
   {
    "duration": 12,
    "start_time": "2024-02-01T04:09:52.992Z"
   },
   {
    "duration": 260,
    "start_time": "2024-02-01T04:09:53.006Z"
   },
   {
    "duration": 114,
    "start_time": "2024-02-01T04:09:53.267Z"
   },
   {
    "duration": 179,
    "start_time": "2024-02-01T04:09:53.383Z"
   },
   {
    "duration": 17,
    "start_time": "2024-02-01T04:09:53.566Z"
   },
   {
    "duration": 8,
    "start_time": "2024-02-01T04:09:53.585Z"
   },
   {
    "duration": 256,
    "start_time": "2024-02-01T04:09:53.594Z"
   },
   {
    "duration": 915,
    "start_time": "2024-02-01T04:09:53.851Z"
   },
   {
    "duration": 761,
    "start_time": "2024-02-01T04:09:54.768Z"
   },
   {
    "duration": 684,
    "start_time": "2024-02-01T04:09:55.531Z"
   },
   {
    "duration": 130,
    "start_time": "2024-02-01T04:09:56.217Z"
   },
   {
    "duration": 0,
    "start_time": "2024-02-01T04:09:56.348Z"
   },
   {
    "duration": 0,
    "start_time": "2024-02-01T04:09:56.349Z"
   },
   {
    "duration": 0,
    "start_time": "2024-02-01T04:09:56.350Z"
   },
   {
    "duration": 0,
    "start_time": "2024-02-01T04:09:56.351Z"
   },
   {
    "duration": 0,
    "start_time": "2024-02-01T04:09:56.352Z"
   },
   {
    "duration": 0,
    "start_time": "2024-02-01T04:09:56.353Z"
   },
   {
    "duration": 298,
    "start_time": "2024-02-01T04:10:05.736Z"
   },
   {
    "duration": 4,
    "start_time": "2024-02-01T04:10:11.449Z"
   },
   {
    "duration": 33,
    "start_time": "2024-02-01T04:10:12.933Z"
   },
   {
    "duration": 3191,
    "start_time": "2024-02-01T04:13:05.333Z"
   },
   {
    "duration": 1412,
    "start_time": "2024-02-01T04:13:08.528Z"
   },
   {
    "duration": 53,
    "start_time": "2024-02-01T04:13:09.941Z"
   },
   {
    "duration": 51,
    "start_time": "2024-02-01T04:13:09.996Z"
   },
   {
    "duration": 11,
    "start_time": "2024-02-01T04:13:10.049Z"
   },
   {
    "duration": 32,
    "start_time": "2024-02-01T04:13:10.079Z"
   },
   {
    "duration": 245,
    "start_time": "2024-02-01T04:13:10.112Z"
   },
   {
    "duration": 117,
    "start_time": "2024-02-01T04:13:10.358Z"
   },
   {
    "duration": 200,
    "start_time": "2024-02-01T04:13:10.479Z"
   },
   {
    "duration": 11,
    "start_time": "2024-02-01T04:13:10.682Z"
   },
   {
    "duration": 10,
    "start_time": "2024-02-01T04:13:10.694Z"
   },
   {
    "duration": 293,
    "start_time": "2024-02-01T04:13:10.706Z"
   },
   {
    "duration": 896,
    "start_time": "2024-02-01T04:13:11.001Z"
   },
   {
    "duration": 802,
    "start_time": "2024-02-01T04:13:11.899Z"
   },
   {
    "duration": 691,
    "start_time": "2024-02-01T04:13:12.703Z"
   },
   {
    "duration": 4,
    "start_time": "2024-02-01T04:13:13.395Z"
   },
   {
    "duration": 18,
    "start_time": "2024-02-01T04:13:13.401Z"
   },
   {
    "duration": 142,
    "start_time": "2024-02-01T04:13:13.421Z"
   },
   {
    "duration": 0,
    "start_time": "2024-02-01T04:13:13.564Z"
   },
   {
    "duration": 0,
    "start_time": "2024-02-01T04:13:13.566Z"
   },
   {
    "duration": 0,
    "start_time": "2024-02-01T04:13:13.567Z"
   },
   {
    "duration": 15,
    "start_time": "2024-02-01T04:13:55.775Z"
   },
   {
    "duration": 20,
    "start_time": "2024-02-01T04:13:59.773Z"
   },
   {
    "duration": 44,
    "start_time": "2024-02-01T04:14:20.244Z"
   },
   {
    "duration": 26,
    "start_time": "2024-02-01T04:14:44.692Z"
   },
   {
    "duration": 198,
    "start_time": "2024-02-01T04:14:46.087Z"
   },
   {
    "duration": 33,
    "start_time": "2024-02-01T04:14:54.818Z"
   },
   {
    "duration": 43,
    "start_time": "2024-02-01T04:14:55.447Z"
   },
   {
    "duration": 24,
    "start_time": "2024-02-01T04:15:03.533Z"
   },
   {
    "duration": 131,
    "start_time": "2024-02-01T04:15:04.251Z"
   },
   {
    "duration": 222,
    "start_time": "2024-02-01T04:15:23.867Z"
   },
   {
    "duration": 3061,
    "start_time": "2024-02-01T04:15:32.759Z"
   },
   {
    "duration": 1358,
    "start_time": "2024-02-01T04:15:35.822Z"
   },
   {
    "duration": 54,
    "start_time": "2024-02-01T04:15:37.181Z"
   },
   {
    "duration": 36,
    "start_time": "2024-02-01T04:15:37.237Z"
   },
   {
    "duration": 22,
    "start_time": "2024-02-01T04:15:37.275Z"
   },
   {
    "duration": 22,
    "start_time": "2024-02-01T04:15:37.299Z"
   },
   {
    "duration": 236,
    "start_time": "2024-02-01T04:15:37.323Z"
   },
   {
    "duration": 119,
    "start_time": "2024-02-01T04:15:37.561Z"
   },
   {
    "duration": 177,
    "start_time": "2024-02-01T04:15:37.681Z"
   },
   {
    "duration": 9,
    "start_time": "2024-02-01T04:15:37.861Z"
   },
   {
    "duration": 10,
    "start_time": "2024-02-01T04:15:37.880Z"
   },
   {
    "duration": 245,
    "start_time": "2024-02-01T04:15:37.891Z"
   },
   {
    "duration": 924,
    "start_time": "2024-02-01T04:15:38.137Z"
   },
   {
    "duration": 763,
    "start_time": "2024-02-01T04:15:39.063Z"
   },
   {
    "duration": 696,
    "start_time": "2024-02-01T04:15:39.828Z"
   },
   {
    "duration": 4,
    "start_time": "2024-02-01T04:15:40.526Z"
   },
   {
    "duration": 57,
    "start_time": "2024-02-01T04:15:40.532Z"
   },
   {
    "duration": 389,
    "start_time": "2024-02-01T04:15:40.591Z"
   },
   {
    "duration": 4,
    "start_time": "2024-02-01T04:15:40.982Z"
   },
   {
    "duration": 5,
    "start_time": "2024-02-01T04:15:40.988Z"
   },
   {
    "duration": 3842,
    "start_time": "2024-02-01T04:22:23.292Z"
   },
   {
    "duration": 1360,
    "start_time": "2024-02-01T04:22:27.137Z"
   },
   {
    "duration": 54,
    "start_time": "2024-02-01T04:22:28.499Z"
   },
   {
    "duration": 37,
    "start_time": "2024-02-01T04:22:28.554Z"
   },
   {
    "duration": 11,
    "start_time": "2024-02-01T04:22:28.592Z"
   },
   {
    "duration": 33,
    "start_time": "2024-02-01T04:22:28.604Z"
   },
   {
    "duration": 267,
    "start_time": "2024-02-01T04:22:28.638Z"
   },
   {
    "duration": 124,
    "start_time": "2024-02-01T04:22:28.907Z"
   },
   {
    "duration": 177,
    "start_time": "2024-02-01T04:22:29.032Z"
   },
   {
    "duration": 11,
    "start_time": "2024-02-01T04:22:29.212Z"
   },
   {
    "duration": 10,
    "start_time": "2024-02-01T04:22:29.224Z"
   },
   {
    "duration": 273,
    "start_time": "2024-02-01T04:22:29.236Z"
   },
   {
    "duration": 879,
    "start_time": "2024-02-01T04:22:29.511Z"
   },
   {
    "duration": 828,
    "start_time": "2024-02-01T04:22:30.391Z"
   },
   {
    "duration": 727,
    "start_time": "2024-02-01T04:22:31.221Z"
   },
   {
    "duration": 4,
    "start_time": "2024-02-01T04:22:31.950Z"
   },
   {
    "duration": 113,
    "start_time": "2024-02-01T04:22:31.955Z"
   },
   {
    "duration": 317,
    "start_time": "2024-02-01T04:22:32.070Z"
   },
   {
    "duration": 5,
    "start_time": "2024-02-01T04:22:32.389Z"
   },
   {
    "duration": 6,
    "start_time": "2024-02-01T04:22:32.481Z"
   },
   {
    "duration": 3146,
    "start_time": "2024-02-01T04:26:00.618Z"
   },
   {
    "duration": 1448,
    "start_time": "2024-02-01T04:26:03.767Z"
   },
   {
    "duration": 54,
    "start_time": "2024-02-01T04:26:05.217Z"
   },
   {
    "duration": 37,
    "start_time": "2024-02-01T04:26:05.273Z"
   },
   {
    "duration": 12,
    "start_time": "2024-02-01T04:26:05.312Z"
   },
   {
    "duration": 28,
    "start_time": "2024-02-01T04:26:05.325Z"
   },
   {
    "duration": 284,
    "start_time": "2024-02-01T04:26:05.354Z"
   },
   {
    "duration": 173,
    "start_time": "2024-02-01T04:26:05.639Z"
   },
   {
    "duration": 203,
    "start_time": "2024-02-01T04:26:05.814Z"
   },
   {
    "duration": 10,
    "start_time": "2024-02-01T04:26:06.019Z"
   },
   {
    "duration": 12,
    "start_time": "2024-02-01T04:26:06.031Z"
   },
   {
    "duration": 290,
    "start_time": "2024-02-01T04:26:06.045Z"
   },
   {
    "duration": 913,
    "start_time": "2024-02-01T04:26:06.337Z"
   },
   {
    "duration": 784,
    "start_time": "2024-02-01T04:26:07.252Z"
   },
   {
    "duration": 718,
    "start_time": "2024-02-01T04:26:08.038Z"
   },
   {
    "duration": 5,
    "start_time": "2024-02-01T04:26:08.759Z"
   },
   {
    "duration": 4,
    "start_time": "2024-02-01T04:26:09.909Z"
   },
   {
    "duration": 457183,
    "start_time": "2024-02-01T04:26:13.502Z"
   },
   {
    "duration": 355808,
    "start_time": "2024-02-01T04:53:50.292Z"
   },
   {
    "duration": 3039,
    "start_time": "2024-02-01T04:59:54.686Z"
   },
   {
    "duration": 1365,
    "start_time": "2024-02-01T04:59:57.727Z"
   },
   {
    "duration": 53,
    "start_time": "2024-02-01T04:59:59.093Z"
   },
   {
    "duration": 47,
    "start_time": "2024-02-01T04:59:59.149Z"
   },
   {
    "duration": 23,
    "start_time": "2024-02-01T04:59:59.197Z"
   },
   {
    "duration": 35,
    "start_time": "2024-02-01T04:59:59.221Z"
   },
   {
    "duration": 266,
    "start_time": "2024-02-01T04:59:59.258Z"
   },
   {
    "duration": 133,
    "start_time": "2024-02-01T04:59:59.525Z"
   },
   {
    "duration": 187,
    "start_time": "2024-02-01T04:59:59.660Z"
   },
   {
    "duration": 10,
    "start_time": "2024-02-01T04:59:59.851Z"
   },
   {
    "duration": 22,
    "start_time": "2024-02-01T04:59:59.862Z"
   },
   {
    "duration": 266,
    "start_time": "2024-02-01T04:59:59.885Z"
   },
   {
    "duration": 916,
    "start_time": "2024-02-01T05:00:00.153Z"
   },
   {
    "duration": 774,
    "start_time": "2024-02-01T05:00:01.071Z"
   },
   {
    "duration": 713,
    "start_time": "2024-02-01T05:00:01.847Z"
   },
   {
    "duration": 3,
    "start_time": "2024-02-01T05:00:02.562Z"
   },
   {
    "duration": 360,
    "start_time": "2024-02-01T05:00:02.567Z"
   },
   {
    "duration": 657,
    "start_time": "2024-02-01T05:00:02.928Z"
   },
   {
    "duration": 316,
    "start_time": "2024-02-01T05:00:03.587Z"
   },
   {
    "duration": 0,
    "start_time": "2024-02-01T05:00:03.904Z"
   },
   {
    "duration": 0,
    "start_time": "2024-02-01T05:00:03.906Z"
   },
   {
    "duration": 44,
    "start_time": "2024-02-01T05:06:19.596Z"
   },
   {
    "duration": 43,
    "start_time": "2024-02-01T05:06:29.836Z"
   },
   {
    "duration": 11,
    "start_time": "2024-02-01T05:07:36.058Z"
   },
   {
    "duration": 11,
    "start_time": "2024-02-01T05:10:15.886Z"
   },
   {
    "duration": 2968,
    "start_time": "2024-02-01T05:10:53.047Z"
   },
   {
    "duration": 1362,
    "start_time": "2024-02-01T05:10:56.818Z"
   },
   {
    "duration": 52,
    "start_time": "2024-02-01T05:10:58.182Z"
   },
   {
    "duration": 36,
    "start_time": "2024-02-01T05:10:58.235Z"
   },
   {
    "duration": 10,
    "start_time": "2024-02-01T05:10:58.273Z"
   },
   {
    "duration": 12,
    "start_time": "2024-02-01T05:10:58.477Z"
   },
   {
    "duration": 236,
    "start_time": "2024-02-01T05:10:58.906Z"
   },
   {
    "duration": 114,
    "start_time": "2024-02-01T05:10:59.166Z"
   },
   {
    "duration": 173,
    "start_time": "2024-02-01T05:10:59.367Z"
   },
   {
    "duration": 9,
    "start_time": "2024-02-01T05:10:59.556Z"
   },
   {
    "duration": 9,
    "start_time": "2024-02-01T05:10:59.936Z"
   },
   {
    "duration": 241,
    "start_time": "2024-02-01T05:11:00.817Z"
   },
   {
    "duration": 910,
    "start_time": "2024-02-01T05:11:01.367Z"
   },
   {
    "duration": 829,
    "start_time": "2024-02-01T05:11:02.280Z"
   },
   {
    "duration": 715,
    "start_time": "2024-02-01T05:11:03.110Z"
   },
   {
    "duration": 5,
    "start_time": "2024-02-01T05:11:03.827Z"
   },
   {
    "duration": 12,
    "start_time": "2024-02-01T05:11:03.833Z"
   },
   {
    "duration": 5,
    "start_time": "2024-02-01T05:11:03.847Z"
   },
   {
    "duration": 634,
    "start_time": "2024-02-01T05:11:05.466Z"
   },
   {
    "duration": 44,
    "start_time": "2024-02-01T05:11:08.837Z"
   },
   {
    "duration": 139,
    "start_time": "2024-02-01T05:11:09.866Z"
   },
   {
    "duration": 531,
    "start_time": "2024-02-01T05:11:23.528Z"
   },
   {
    "duration": 45,
    "start_time": "2024-02-01T05:11:42.547Z"
   },
   {
    "duration": 535,
    "start_time": "2024-02-01T05:11:43.637Z"
   },
   {
    "duration": 23313,
    "start_time": "2024-02-01T05:12:40.218Z"
   },
   {
    "duration": 527,
    "start_time": "2024-02-01T05:13:13.737Z"
   },
   {
    "duration": 21819,
    "start_time": "2024-02-01T05:15:29.627Z"
   },
   {
    "duration": 110538,
    "start_time": "2024-02-01T05:16:30.548Z"
   },
   {
    "duration": 14,
    "start_time": "2024-02-01T05:18:36.177Z"
   },
   {
    "duration": 13,
    "start_time": "2024-02-01T05:19:31.988Z"
   },
   {
    "duration": 3151,
    "start_time": "2024-02-01T05:29:54.867Z"
   },
   {
    "duration": 1380,
    "start_time": "2024-02-01T05:29:58.021Z"
   },
   {
    "duration": 53,
    "start_time": "2024-02-01T05:29:59.403Z"
   },
   {
    "duration": 35,
    "start_time": "2024-02-01T05:29:59.458Z"
   },
   {
    "duration": 12,
    "start_time": "2024-02-01T05:29:59.495Z"
   },
   {
    "duration": 25,
    "start_time": "2024-02-01T05:29:59.509Z"
   },
   {
    "duration": 253,
    "start_time": "2024-02-01T05:29:59.535Z"
   },
   {
    "duration": 121,
    "start_time": "2024-02-01T05:29:59.790Z"
   },
   {
    "duration": 201,
    "start_time": "2024-02-01T05:29:59.913Z"
   },
   {
    "duration": 10,
    "start_time": "2024-02-01T05:30:00.117Z"
   },
   {
    "duration": 48,
    "start_time": "2024-02-01T05:30:00.129Z"
   },
   {
    "duration": 275,
    "start_time": "2024-02-01T05:30:00.179Z"
   },
   {
    "duration": 1027,
    "start_time": "2024-02-01T05:30:00.455Z"
   },
   {
    "duration": 801,
    "start_time": "2024-02-01T05:30:01.483Z"
   },
   {
    "duration": 669,
    "start_time": "2024-02-01T05:30:02.286Z"
   },
   {
    "duration": 4,
    "start_time": "2024-02-01T05:30:02.958Z"
   },
   {
    "duration": 67,
    "start_time": "2024-02-01T05:30:02.964Z"
   },
   {
    "duration": 23,
    "start_time": "2024-02-01T05:30:03.033Z"
   },
   {
    "duration": 589,
    "start_time": "2024-02-01T05:30:03.708Z"
   },
   {
    "duration": 46,
    "start_time": "2024-02-01T05:32:09.878Z"
   },
   {
    "duration": 7093,
    "start_time": "2024-02-01T07:22:27.433Z"
   },
   {
    "duration": 1627,
    "start_time": "2024-02-01T07:22:34.529Z"
   },
   {
    "duration": 123,
    "start_time": "2024-02-01T07:22:36.158Z"
   },
   {
    "duration": 37,
    "start_time": "2024-02-01T07:22:36.283Z"
   },
   {
    "duration": 12,
    "start_time": "2024-02-01T07:22:36.322Z"
   },
   {
    "duration": 12,
    "start_time": "2024-02-01T07:22:36.336Z"
   },
   {
    "duration": 248,
    "start_time": "2024-02-01T07:22:36.350Z"
   },
   {
    "duration": 189,
    "start_time": "2024-02-01T07:22:36.599Z"
   },
   {
    "duration": 113,
    "start_time": "2024-02-01T07:22:36.790Z"
   },
   {
    "duration": 20,
    "start_time": "2024-02-01T07:22:36.907Z"
   },
   {
    "duration": 9,
    "start_time": "2024-02-01T07:22:36.928Z"
   },
   {
    "duration": 266,
    "start_time": "2024-02-01T07:22:36.939Z"
   },
   {
    "duration": 927,
    "start_time": "2024-02-01T07:22:37.207Z"
   },
   {
    "duration": 772,
    "start_time": "2024-02-01T07:22:38.136Z"
   },
   {
    "duration": 733,
    "start_time": "2024-02-01T07:22:38.910Z"
   },
   {
    "duration": 4,
    "start_time": "2024-02-01T07:22:39.646Z"
   },
   {
    "duration": 12,
    "start_time": "2024-02-01T07:22:39.652Z"
   },
   {
    "duration": 17,
    "start_time": "2024-02-01T07:22:39.666Z"
   },
   {
    "duration": 663,
    "start_time": "2024-02-01T07:22:39.685Z"
   },
   {
    "duration": 97,
    "start_time": "2024-02-01T07:22:40.350Z"
   },
   {
    "duration": 687,
    "start_time": "2024-02-01T07:22:40.449Z"
   },
   {
    "duration": 22846,
    "start_time": "2024-02-01T07:22:41.137Z"
   },
   {
    "duration": 23446,
    "start_time": "2024-02-01T07:23:03.985Z"
   },
   {
    "duration": 194,
    "start_time": "2024-02-01T07:23:27.433Z"
   },
   {
    "duration": 8,
    "start_time": "2024-02-01T07:23:38.456Z"
   },
   {
    "duration": 7,
    "start_time": "2024-02-01T07:26:04.383Z"
   },
   {
    "duration": 6,
    "start_time": "2024-02-01T07:26:53.679Z"
   },
   {
    "duration": 5,
    "start_time": "2024-02-01T07:27:15.766Z"
   },
   {
    "duration": 10,
    "start_time": "2024-02-01T07:27:40.490Z"
   },
   {
    "duration": 12,
    "start_time": "2024-02-01T07:27:44.090Z"
   },
   {
    "duration": 2979,
    "start_time": "2024-02-01T07:29:23.114Z"
   },
   {
    "duration": 1970,
    "start_time": "2024-02-01T07:29:26.096Z"
   },
   {
    "duration": 95,
    "start_time": "2024-02-01T07:29:28.068Z"
   },
   {
    "duration": 81,
    "start_time": "2024-02-01T07:29:28.165Z"
   },
   {
    "duration": 10,
    "start_time": "2024-02-01T07:29:28.248Z"
   },
   {
    "duration": 74,
    "start_time": "2024-02-01T07:29:28.259Z"
   },
   {
    "duration": 359,
    "start_time": "2024-02-01T07:29:28.335Z"
   },
   {
    "duration": 142,
    "start_time": "2024-02-01T07:29:28.695Z"
   },
   {
    "duration": 185,
    "start_time": "2024-02-01T07:29:28.839Z"
   },
   {
    "duration": 9,
    "start_time": "2024-02-01T07:29:29.027Z"
   },
   {
    "duration": 24,
    "start_time": "2024-02-01T07:29:29.037Z"
   },
   {
    "duration": 260,
    "start_time": "2024-02-01T07:29:29.063Z"
   },
   {
    "duration": 889,
    "start_time": "2024-02-01T07:29:29.325Z"
   },
   {
    "duration": 790,
    "start_time": "2024-02-01T07:29:30.216Z"
   },
   {
    "duration": 669,
    "start_time": "2024-02-01T07:29:31.008Z"
   },
   {
    "duration": 4,
    "start_time": "2024-02-01T07:29:31.678Z"
   },
   {
    "duration": 28,
    "start_time": "2024-02-01T07:29:31.684Z"
   },
   {
    "duration": 10,
    "start_time": "2024-02-01T07:29:31.713Z"
   },
   {
    "duration": 622,
    "start_time": "2024-02-01T07:29:31.725Z"
   },
   {
    "duration": 119,
    "start_time": "2024-02-01T07:29:32.349Z"
   },
   {
    "duration": 630,
    "start_time": "2024-02-01T07:29:32.523Z"
   },
   {
    "duration": 24340,
    "start_time": "2024-02-01T07:29:33.155Z"
   },
   {
    "duration": 37536,
    "start_time": "2024-02-01T07:29:57.496Z"
   },
   {
    "duration": 9,
    "start_time": "2024-02-01T07:30:35.034Z"
   },
   {
    "duration": 79,
    "start_time": "2024-02-01T07:30:35.044Z"
   },
   {
    "duration": 52,
    "start_time": "2024-02-01T07:30:35.125Z"
   },
   {
    "duration": 6,
    "start_time": "2024-02-01T07:30:35.178Z"
   },
   {
    "duration": 8,
    "start_time": "2024-02-01T07:30:35.187Z"
   },
   {
    "duration": 7,
    "start_time": "2024-02-01T07:30:35.197Z"
   },
   {
    "duration": 3077,
    "start_time": "2024-02-01T07:37:42.013Z"
   },
   {
    "duration": 1419,
    "start_time": "2024-02-01T07:37:45.092Z"
   },
   {
    "duration": 53,
    "start_time": "2024-02-01T07:37:46.513Z"
   },
   {
    "duration": 60,
    "start_time": "2024-02-01T07:37:47.613Z"
   },
   {
    "duration": 11,
    "start_time": "2024-02-01T07:37:47.999Z"
   },
   {
    "duration": 13,
    "start_time": "2024-02-01T07:37:48.380Z"
   },
   {
    "duration": 264,
    "start_time": "2024-02-01T07:37:48.753Z"
   },
   {
    "duration": 123,
    "start_time": "2024-02-01T07:37:49.019Z"
   },
   {
    "duration": 189,
    "start_time": "2024-02-01T07:37:49.144Z"
   },
   {
    "duration": 10,
    "start_time": "2024-02-01T07:37:49.335Z"
   },
   {
    "duration": 9,
    "start_time": "2024-02-01T07:37:49.649Z"
   },
   {
    "duration": 239,
    "start_time": "2024-02-01T07:37:50.389Z"
   },
   {
    "duration": 880,
    "start_time": "2024-02-01T07:37:50.774Z"
   },
   {
    "duration": 743,
    "start_time": "2024-02-01T07:37:51.656Z"
   },
   {
    "duration": 688,
    "start_time": "2024-02-01T07:37:52.401Z"
   },
   {
    "duration": 5,
    "start_time": "2024-02-01T07:37:53.090Z"
   },
   {
    "duration": 8,
    "start_time": "2024-02-01T07:37:53.098Z"
   },
   {
    "duration": 3,
    "start_time": "2024-02-01T07:37:53.593Z"
   },
   {
    "duration": 86,
    "start_time": "2024-02-01T07:37:55.277Z"
   },
   {
    "duration": 77,
    "start_time": "2024-02-01T07:38:15.345Z"
   },
   {
    "duration": 173,
    "start_time": "2024-02-01T07:38:31.904Z"
   },
   {
    "duration": 88,
    "start_time": "2024-02-01T07:38:55.683Z"
   },
   {
    "duration": 80220,
    "start_time": "2024-02-01T07:39:14.023Z"
   },
   {
    "duration": 10616,
    "start_time": "2024-02-01T07:40:41.821Z"
   },
   {
    "duration": 11618,
    "start_time": "2024-02-01T07:42:59.210Z"
   },
   {
    "duration": 1084,
    "start_time": "2024-02-01T07:43:20.167Z"
   },
   {
    "duration": 0,
    "start_time": "2024-02-01T07:44:31.039Z"
   },
   {
    "duration": 3017,
    "start_time": "2024-02-01T07:44:36.289Z"
   },
   {
    "duration": 1431,
    "start_time": "2024-02-01T07:44:39.308Z"
   },
   {
    "duration": 54,
    "start_time": "2024-02-01T07:44:40.741Z"
   },
   {
    "duration": 38,
    "start_time": "2024-02-01T07:44:40.797Z"
   },
   {
    "duration": 10,
    "start_time": "2024-02-01T07:44:40.837Z"
   },
   {
    "duration": 33,
    "start_time": "2024-02-01T07:44:40.849Z"
   },
   {
    "duration": 235,
    "start_time": "2024-02-01T07:44:40.883Z"
   },
   {
    "duration": 126,
    "start_time": "2024-02-01T07:44:41.120Z"
   },
   {
    "duration": 190,
    "start_time": "2024-02-01T07:44:41.248Z"
   },
   {
    "duration": 10,
    "start_time": "2024-02-01T07:44:41.441Z"
   },
   {
    "duration": 21,
    "start_time": "2024-02-01T07:44:41.453Z"
   },
   {
    "duration": 273,
    "start_time": "2024-02-01T07:44:41.476Z"
   },
   {
    "duration": 863,
    "start_time": "2024-02-01T07:44:41.751Z"
   },
   {
    "duration": 757,
    "start_time": "2024-02-01T07:44:42.616Z"
   },
   {
    "duration": 686,
    "start_time": "2024-02-01T07:44:43.374Z"
   },
   {
    "duration": 5,
    "start_time": "2024-02-01T07:44:44.063Z"
   },
   {
    "duration": 16,
    "start_time": "2024-02-01T07:44:44.069Z"
   },
   {
    "duration": 3,
    "start_time": "2024-02-01T07:44:44.865Z"
   },
   {
    "duration": 155966,
    "start_time": "2024-02-01T07:44:46.566Z"
   },
   {
    "duration": 289734,
    "start_time": "2024-02-01T07:52:21.808Z"
   },
   {
    "duration": 7371,
    "start_time": "2024-02-01T07:58:21.856Z"
   },
   {
    "duration": 6049,
    "start_time": "2024-02-01T07:59:03.576Z"
   },
   {
    "duration": 9116,
    "start_time": "2024-02-01T08:00:17.114Z"
   },
   {
    "duration": 6396,
    "start_time": "2024-02-01T08:00:42.434Z"
   },
   {
    "duration": 67994,
    "start_time": "2024-02-01T08:02:54.331Z"
   },
   {
    "duration": 5198,
    "start_time": "2024-02-01T08:07:59.150Z"
   },
   {
    "duration": 13069,
    "start_time": "2024-02-01T08:08:10.564Z"
   },
   {
    "duration": 3146,
    "start_time": "2024-02-01T08:08:58.070Z"
   },
   {
    "duration": 1501,
    "start_time": "2024-02-01T08:09:01.218Z"
   },
   {
    "duration": 54,
    "start_time": "2024-02-01T08:09:02.721Z"
   },
   {
    "duration": 39,
    "start_time": "2024-02-01T08:09:02.777Z"
   },
   {
    "duration": 11,
    "start_time": "2024-02-01T08:09:02.817Z"
   },
   {
    "duration": 48,
    "start_time": "2024-02-01T08:09:02.830Z"
   },
   {
    "duration": 268,
    "start_time": "2024-02-01T08:09:02.880Z"
   },
   {
    "duration": 129,
    "start_time": "2024-02-01T08:09:03.150Z"
   },
   {
    "duration": 198,
    "start_time": "2024-02-01T08:09:03.280Z"
   },
   {
    "duration": 14,
    "start_time": "2024-02-01T08:09:03.481Z"
   },
   {
    "duration": 66,
    "start_time": "2024-02-01T08:09:03.497Z"
   },
   {
    "duration": 292,
    "start_time": "2024-02-01T08:09:03.565Z"
   },
   {
    "duration": 935,
    "start_time": "2024-02-01T08:09:03.859Z"
   },
   {
    "duration": 792,
    "start_time": "2024-02-01T08:09:04.796Z"
   },
   {
    "duration": 697,
    "start_time": "2024-02-01T08:09:05.589Z"
   },
   {
    "duration": 4,
    "start_time": "2024-02-01T08:09:06.288Z"
   },
   {
    "duration": 18,
    "start_time": "2024-02-01T08:09:06.294Z"
   },
   {
    "duration": 5,
    "start_time": "2024-02-01T08:09:06.314Z"
   },
   {
    "duration": 2282403,
    "start_time": "2024-02-01T08:09:06.321Z"
   },
   {
    "duration": 0,
    "start_time": "2024-02-01T08:47:08.726Z"
   },
   {
    "duration": 0,
    "start_time": "2024-02-01T08:47:08.728Z"
   },
   {
    "duration": 0,
    "start_time": "2024-02-01T08:47:08.729Z"
   },
   {
    "duration": 0,
    "start_time": "2024-02-01T08:47:08.730Z"
   },
   {
    "duration": 0,
    "start_time": "2024-02-01T08:47:08.731Z"
   },
   {
    "duration": 0,
    "start_time": "2024-02-01T08:47:08.733Z"
   },
   {
    "duration": 0,
    "start_time": "2024-02-01T08:47:08.734Z"
   },
   {
    "duration": 0,
    "start_time": "2024-02-01T08:47:08.736Z"
   },
   {
    "duration": 0,
    "start_time": "2024-02-01T08:47:08.737Z"
   },
   {
    "duration": 0,
    "start_time": "2024-02-01T08:47:08.739Z"
   },
   {
    "duration": 2379361,
    "start_time": "2024-02-01T08:47:18.878Z"
   },
   {
    "duration": 5122,
    "start_time": "2024-02-01T12:36:03.519Z"
   },
   {
    "duration": 1831,
    "start_time": "2024-02-01T12:36:08.644Z"
   },
   {
    "duration": 146,
    "start_time": "2024-02-01T12:36:10.477Z"
   },
   {
    "duration": 46,
    "start_time": "2024-02-01T12:36:10.625Z"
   },
   {
    "duration": 11,
    "start_time": "2024-02-01T12:36:10.674Z"
   },
   {
    "duration": 26,
    "start_time": "2024-02-01T12:36:10.687Z"
   },
   {
    "duration": 247,
    "start_time": "2024-02-01T12:36:10.715Z"
   },
   {
    "duration": 128,
    "start_time": "2024-02-01T12:36:10.964Z"
   },
   {
    "duration": 187,
    "start_time": "2024-02-01T12:36:11.093Z"
   },
   {
    "duration": 13,
    "start_time": "2024-02-01T12:36:11.282Z"
   },
   {
    "duration": 12,
    "start_time": "2024-02-01T12:36:11.296Z"
   },
   {
    "duration": 290,
    "start_time": "2024-02-01T12:36:11.310Z"
   },
   {
    "duration": 1008,
    "start_time": "2024-02-01T12:36:11.602Z"
   },
   {
    "duration": 772,
    "start_time": "2024-02-01T12:36:12.613Z"
   },
   {
    "duration": 707,
    "start_time": "2024-02-01T12:36:13.387Z"
   },
   {
    "duration": 5,
    "start_time": "2024-02-01T12:36:14.096Z"
   },
   {
    "duration": 10,
    "start_time": "2024-02-01T12:36:14.103Z"
   },
   {
    "duration": 4,
    "start_time": "2024-02-01T12:36:14.116Z"
   },
   {
    "duration": 1081513,
    "start_time": "2024-02-01T12:36:14.122Z"
   },
   {
    "duration": 0,
    "start_time": "2024-02-01T12:54:15.637Z"
   },
   {
    "duration": 0,
    "start_time": "2024-02-01T12:54:15.639Z"
   },
   {
    "duration": 0,
    "start_time": "2024-02-01T12:54:15.640Z"
   },
   {
    "duration": 0,
    "start_time": "2024-02-01T12:54:15.642Z"
   },
   {
    "duration": 0,
    "start_time": "2024-02-01T12:54:15.643Z"
   },
   {
    "duration": 0,
    "start_time": "2024-02-01T12:54:15.644Z"
   },
   {
    "duration": 0,
    "start_time": "2024-02-01T12:54:15.645Z"
   },
   {
    "duration": 0,
    "start_time": "2024-02-01T12:54:15.647Z"
   },
   {
    "duration": 0,
    "start_time": "2024-02-01T12:54:15.648Z"
   },
   {
    "duration": 0,
    "start_time": "2024-02-01T12:54:15.650Z"
   },
   {
    "duration": 0,
    "start_time": "2024-02-01T12:54:15.651Z"
   },
   {
    "duration": 3733,
    "start_time": "2024-02-01T12:57:32.334Z"
   },
   {
    "duration": 1470,
    "start_time": "2024-02-01T12:57:36.070Z"
   },
   {
    "duration": 55,
    "start_time": "2024-02-01T12:57:37.542Z"
   },
   {
    "duration": 36,
    "start_time": "2024-02-01T12:57:37.599Z"
   },
   {
    "duration": 11,
    "start_time": "2024-02-01T12:57:37.637Z"
   },
   {
    "duration": 32,
    "start_time": "2024-02-01T12:57:37.649Z"
   },
   {
    "duration": 246,
    "start_time": "2024-02-01T12:57:37.683Z"
   },
   {
    "duration": 144,
    "start_time": "2024-02-01T12:57:37.931Z"
   },
   {
    "duration": 188,
    "start_time": "2024-02-01T12:57:38.077Z"
   },
   {
    "duration": 15,
    "start_time": "2024-02-01T12:57:38.266Z"
   },
   {
    "duration": 10,
    "start_time": "2024-02-01T12:57:38.282Z"
   },
   {
    "duration": 264,
    "start_time": "2024-02-01T12:57:38.293Z"
   },
   {
    "duration": 923,
    "start_time": "2024-02-01T12:57:38.559Z"
   },
   {
    "duration": 794,
    "start_time": "2024-02-01T12:57:39.485Z"
   },
   {
    "duration": 666,
    "start_time": "2024-02-01T12:57:40.281Z"
   },
   {
    "duration": 4,
    "start_time": "2024-02-01T12:57:40.949Z"
   },
   {
    "duration": 18,
    "start_time": "2024-02-01T12:57:40.955Z"
   },
   {
    "duration": 4,
    "start_time": "2024-02-01T12:57:40.974Z"
   },
   {
    "duration": 1125,
    "start_time": "2024-02-01T12:57:40.979Z"
   },
   {
    "duration": 67,
    "start_time": "2024-02-01T12:57:42.106Z"
   },
   {
    "duration": 38,
    "start_time": "2024-02-01T12:57:42.175Z"
   },
   {
    "duration": 717,
    "start_time": "2024-02-01T12:57:42.215Z"
   },
   {
    "duration": 17565,
    "start_time": "2024-02-01T12:57:42.934Z"
   },
   {
    "duration": 0,
    "start_time": "2024-02-01T12:58:00.501Z"
   },
   {
    "duration": 0,
    "start_time": "2024-02-01T12:58:00.502Z"
   },
   {
    "duration": 0,
    "start_time": "2024-02-01T12:58:00.504Z"
   },
   {
    "duration": 0,
    "start_time": "2024-02-01T12:58:00.505Z"
   },
   {
    "duration": 0,
    "start_time": "2024-02-01T12:58:00.506Z"
   },
   {
    "duration": 0,
    "start_time": "2024-02-01T12:58:00.507Z"
   },
   {
    "duration": 0,
    "start_time": "2024-02-01T12:58:00.508Z"
   },
   {
    "duration": 3914,
    "start_time": "2024-02-01T12:58:08.811Z"
   },
   {
    "duration": 1384,
    "start_time": "2024-02-01T12:58:12.728Z"
   },
   {
    "duration": 58,
    "start_time": "2024-02-01T12:58:14.114Z"
   },
   {
    "duration": 38,
    "start_time": "2024-02-01T12:58:14.174Z"
   },
   {
    "duration": 11,
    "start_time": "2024-02-01T12:58:14.214Z"
   },
   {
    "duration": 13,
    "start_time": "2024-02-01T12:58:14.227Z"
   },
   {
    "duration": 268,
    "start_time": "2024-02-01T12:58:14.241Z"
   },
   {
    "duration": 124,
    "start_time": "2024-02-01T12:58:14.511Z"
   },
   {
    "duration": 198,
    "start_time": "2024-02-01T12:58:14.636Z"
   },
   {
    "duration": 9,
    "start_time": "2024-02-01T12:58:14.837Z"
   },
   {
    "duration": 11,
    "start_time": "2024-02-01T12:58:14.848Z"
   },
   {
    "duration": 265,
    "start_time": "2024-02-01T12:58:14.860Z"
   },
   {
    "duration": 940,
    "start_time": "2024-02-01T12:58:15.126Z"
   },
   {
    "duration": 781,
    "start_time": "2024-02-01T12:58:16.069Z"
   },
   {
    "duration": 685,
    "start_time": "2024-02-01T12:58:16.852Z"
   },
   {
    "duration": 4,
    "start_time": "2024-02-01T12:58:17.539Z"
   },
   {
    "duration": 6,
    "start_time": "2024-02-01T12:58:17.544Z"
   },
   {
    "duration": 14,
    "start_time": "2024-02-01T12:58:17.551Z"
   },
   {
    "duration": 1971808,
    "start_time": "2024-02-01T12:58:17.567Z"
   },
   {
    "duration": 23,
    "start_time": "2024-02-01T13:31:09.377Z"
   },
   {
    "duration": 1175,
    "start_time": "2024-02-01T13:31:09.401Z"
   },
   {
    "duration": 1868,
    "start_time": "2024-02-01T13:31:10.579Z"
   },
   {
    "duration": 45173,
    "start_time": "2024-02-01T13:31:12.449Z"
   },
   {
    "duration": 57165,
    "start_time": "2024-02-01T13:31:57.624Z"
   },
   {
    "duration": 10,
    "start_time": "2024-02-01T13:32:54.872Z"
   },
   {
    "duration": 11,
    "start_time": "2024-02-01T13:32:54.883Z"
   },
   {
    "duration": 173,
    "start_time": "2024-02-01T13:32:54.900Z"
   },
   {
    "duration": 7,
    "start_time": "2024-02-01T13:32:55.075Z"
   },
   {
    "duration": 9,
    "start_time": "2024-02-01T13:32:55.084Z"
   },
   {
    "duration": 8,
    "start_time": "2024-02-01T13:32:55.094Z"
   },
   {
    "duration": 1082,
    "start_time": "2024-02-01T13:42:39.095Z"
   },
   {
    "duration": 128,
    "start_time": "2024-02-01T13:43:49.776Z"
   },
   {
    "duration": 956,
    "start_time": "2024-02-01T13:44:16.819Z"
   },
   {
    "duration": 1266,
    "start_time": "2024-02-01T13:44:21.407Z"
   },
   {
    "duration": 9,
    "start_time": "2024-02-01T13:47:21.622Z"
   },
   {
    "duration": 9,
    "start_time": "2024-02-01T13:47:25.436Z"
   },
   {
    "duration": 12,
    "start_time": "2024-02-01T13:48:22.438Z"
   },
   {
    "duration": 3817,
    "start_time": "2024-02-01T13:49:33.099Z"
   },
   {
    "duration": 1367,
    "start_time": "2024-02-01T13:49:36.919Z"
   },
   {
    "duration": 54,
    "start_time": "2024-02-01T13:49:38.288Z"
   },
   {
    "duration": 37,
    "start_time": "2024-02-01T13:49:38.343Z"
   },
   {
    "duration": 10,
    "start_time": "2024-02-01T13:49:38.383Z"
   },
   {
    "duration": 34,
    "start_time": "2024-02-01T13:49:38.394Z"
   },
   {
    "duration": 272,
    "start_time": "2024-02-01T13:49:38.430Z"
   },
   {
    "duration": 117,
    "start_time": "2024-02-01T13:49:38.704Z"
   },
   {
    "duration": 182,
    "start_time": "2024-02-01T13:49:38.823Z"
   },
   {
    "duration": 9,
    "start_time": "2024-02-01T13:49:39.007Z"
   },
   {
    "duration": 39,
    "start_time": "2024-02-01T13:49:39.018Z"
   },
   {
    "duration": 262,
    "start_time": "2024-02-01T13:49:39.059Z"
   },
   {
    "duration": 902,
    "start_time": "2024-02-01T13:49:39.323Z"
   },
   {
    "duration": 746,
    "start_time": "2024-02-01T13:49:40.228Z"
   },
   {
    "duration": 661,
    "start_time": "2024-02-01T13:49:40.975Z"
   },
   {
    "duration": 4,
    "start_time": "2024-02-01T13:49:41.637Z"
   },
   {
    "duration": 30,
    "start_time": "2024-02-01T13:49:41.642Z"
   },
   {
    "duration": 9,
    "start_time": "2024-02-01T13:49:41.674Z"
   },
   {
    "duration": 1974495,
    "start_time": "2024-02-01T13:49:41.685Z"
   },
   {
    "duration": 108,
    "start_time": "2024-02-01T14:22:36.184Z"
   },
   {
    "duration": 1718,
    "start_time": "2024-02-01T14:22:36.294Z"
   },
   {
    "duration": 45133,
    "start_time": "2024-02-01T14:22:38.014Z"
   },
   {
    "duration": 39224,
    "start_time": "2024-02-01T14:23:23.149Z"
   },
   {
    "duration": 10,
    "start_time": "2024-02-01T14:24:02.375Z"
   },
   {
    "duration": 93,
    "start_time": "2024-02-01T14:24:02.386Z"
   },
   {
    "duration": 191,
    "start_time": "2024-02-01T14:24:02.482Z"
   },
   {
    "duration": 7,
    "start_time": "2024-02-01T14:24:02.675Z"
   },
   {
    "duration": 36,
    "start_time": "2024-02-01T14:24:02.684Z"
   },
   {
    "duration": 11,
    "start_time": "2024-02-01T14:24:02.722Z"
   },
   {
    "duration": 37,
    "start_time": "2024-02-01T15:00:31.038Z"
   },
   {
    "duration": 11,
    "start_time": "2024-02-01T15:00:45.706Z"
   },
   {
    "duration": 6,
    "start_time": "2024-02-01T15:00:55.064Z"
   },
   {
    "duration": 6,
    "start_time": "2024-02-01T15:00:59.794Z"
   },
   {
    "duration": 3086,
    "start_time": "2024-02-01T15:04:48.077Z"
   },
   {
    "duration": 1476,
    "start_time": "2024-02-01T15:04:51.166Z"
   },
   {
    "duration": 54,
    "start_time": "2024-02-01T15:04:52.644Z"
   },
   {
    "duration": 37,
    "start_time": "2024-02-01T15:04:52.700Z"
   },
   {
    "duration": 11,
    "start_time": "2024-02-01T15:04:52.739Z"
   },
   {
    "duration": 43,
    "start_time": "2024-02-01T15:04:52.752Z"
   },
   {
    "duration": 268,
    "start_time": "2024-02-01T15:04:52.797Z"
   },
   {
    "duration": 124,
    "start_time": "2024-02-01T15:04:53.066Z"
   },
   {
    "duration": 183,
    "start_time": "2024-02-01T15:04:53.191Z"
   },
   {
    "duration": 10,
    "start_time": "2024-02-01T15:04:53.377Z"
   },
   {
    "duration": 8,
    "start_time": "2024-02-01T15:04:53.388Z"
   },
   {
    "duration": 284,
    "start_time": "2024-02-01T15:04:53.398Z"
   },
   {
    "duration": 902,
    "start_time": "2024-02-01T15:04:53.683Z"
   },
   {
    "duration": 796,
    "start_time": "2024-02-01T15:04:54.587Z"
   },
   {
    "duration": 667,
    "start_time": "2024-02-01T15:04:55.385Z"
   },
   {
    "duration": 4,
    "start_time": "2024-02-01T15:04:56.053Z"
   },
   {
    "duration": 26,
    "start_time": "2024-02-01T15:04:56.059Z"
   },
   {
    "duration": 30,
    "start_time": "2024-02-01T15:04:56.087Z"
   },
   {
    "duration": 87,
    "start_time": "2024-02-01T15:04:56.118Z"
   },
   {
    "duration": 874,
    "start_time": "2024-02-01T15:04:56.207Z"
   },
   {
    "duration": 1890,
    "start_time": "2024-02-01T15:04:57.083Z"
   },
   {
    "duration": 40504,
    "start_time": "2024-02-01T15:04:58.975Z"
   },
   {
    "duration": 0,
    "start_time": "2024-02-01T15:05:39.480Z"
   },
   {
    "duration": 0,
    "start_time": "2024-02-01T15:05:39.481Z"
   },
   {
    "duration": 0,
    "start_time": "2024-02-01T15:05:39.482Z"
   },
   {
    "duration": 0,
    "start_time": "2024-02-01T15:05:39.483Z"
   },
   {
    "duration": 0,
    "start_time": "2024-02-01T15:05:39.484Z"
   },
   {
    "duration": 0,
    "start_time": "2024-02-01T15:05:39.485Z"
   },
   {
    "duration": 0,
    "start_time": "2024-02-01T15:05:39.486Z"
   },
   {
    "duration": 18133,
    "start_time": "2024-02-01T15:05:42.571Z"
   },
   {
    "duration": 1397,
    "start_time": "2024-02-01T15:06:00.708Z"
   },
   {
    "duration": 54,
    "start_time": "2024-02-01T15:06:02.107Z"
   },
   {
    "duration": 40,
    "start_time": "2024-02-01T15:06:02.163Z"
   },
   {
    "duration": 35,
    "start_time": "2024-02-01T15:06:02.205Z"
   },
   {
    "duration": 67,
    "start_time": "2024-02-01T15:06:02.241Z"
   },
   {
    "duration": 303,
    "start_time": "2024-02-01T15:06:02.309Z"
   },
   {
    "duration": 121,
    "start_time": "2024-02-01T15:06:02.613Z"
   },
   {
    "duration": 182,
    "start_time": "2024-02-01T15:06:02.736Z"
   },
   {
    "duration": 11,
    "start_time": "2024-02-01T15:06:02.921Z"
   },
   {
    "duration": 11,
    "start_time": "2024-02-01T15:06:02.934Z"
   },
   {
    "duration": 290,
    "start_time": "2024-02-01T15:06:02.948Z"
   },
   {
    "duration": 945,
    "start_time": "2024-02-01T15:06:03.240Z"
   },
   {
    "duration": 765,
    "start_time": "2024-02-01T15:06:04.187Z"
   },
   {
    "duration": 690,
    "start_time": "2024-02-01T15:06:04.954Z"
   },
   {
    "duration": 5,
    "start_time": "2024-02-01T15:06:05.645Z"
   },
   {
    "duration": 6,
    "start_time": "2024-02-01T15:06:05.652Z"
   },
   {
    "duration": 3,
    "start_time": "2024-02-01T15:06:05.660Z"
   },
   {
    "duration": 45,
    "start_time": "2024-02-01T15:06:05.673Z"
   },
   {
    "duration": 1557,
    "start_time": "2024-02-01T15:06:05.720Z"
   },
   {
    "duration": 1746,
    "start_time": "2024-02-01T15:06:07.279Z"
   },
   {
    "duration": 42959,
    "start_time": "2024-02-01T15:06:09.027Z"
   },
   {
    "duration": 42294,
    "start_time": "2024-02-01T15:06:51.988Z"
   },
   {
    "duration": 200,
    "start_time": "2024-02-01T15:07:34.284Z"
   },
   {
    "duration": 0,
    "start_time": "2024-02-01T15:07:34.486Z"
   },
   {
    "duration": 0,
    "start_time": "2024-02-01T15:07:34.487Z"
   },
   {
    "duration": 0,
    "start_time": "2024-02-01T15:07:34.488Z"
   },
   {
    "duration": 0,
    "start_time": "2024-02-01T15:07:34.490Z"
   },
   {
    "duration": 0,
    "start_time": "2024-02-01T15:07:34.491Z"
   },
   {
    "duration": 9,
    "start_time": "2024-02-01T15:08:06.604Z"
   },
   {
    "duration": 10,
    "start_time": "2024-02-01T15:08:11.914Z"
   },
   {
    "duration": 6,
    "start_time": "2024-02-01T15:08:12.293Z"
   },
   {
    "duration": 7,
    "start_time": "2024-02-01T15:08:12.604Z"
   },
   {
    "duration": 10,
    "start_time": "2024-02-01T15:08:12.859Z"
   },
   {
    "duration": 9,
    "start_time": "2024-02-01T15:08:13.959Z"
   },
   {
    "duration": 7035,
    "start_time": "2024-02-01T15:15:56.846Z"
   },
   {
    "duration": 24,
    "start_time": "2024-02-01T15:16:08.074Z"
   },
   {
    "duration": 913,
    "start_time": "2024-02-01T15:16:09.262Z"
   },
   {
    "duration": 7295,
    "start_time": "2024-02-01T15:17:30.189Z"
   },
   {
    "duration": 3058,
    "start_time": "2024-02-01T15:18:18.007Z"
   },
   {
    "duration": 1434,
    "start_time": "2024-02-01T15:18:21.068Z"
   },
   {
    "duration": 53,
    "start_time": "2024-02-01T15:18:22.504Z"
   },
   {
    "duration": 35,
    "start_time": "2024-02-01T15:18:22.558Z"
   },
   {
    "duration": 11,
    "start_time": "2024-02-01T15:18:22.595Z"
   },
   {
    "duration": 13,
    "start_time": "2024-02-01T15:18:22.608Z"
   },
   {
    "duration": 253,
    "start_time": "2024-02-01T15:18:22.623Z"
   },
   {
    "duration": 120,
    "start_time": "2024-02-01T15:18:22.878Z"
   },
   {
    "duration": 185,
    "start_time": "2024-02-01T15:18:23.000Z"
   },
   {
    "duration": 10,
    "start_time": "2024-02-01T15:18:23.187Z"
   },
   {
    "duration": 21,
    "start_time": "2024-02-01T15:18:23.199Z"
   },
   {
    "duration": 260,
    "start_time": "2024-02-01T15:18:23.221Z"
   },
   {
    "duration": 883,
    "start_time": "2024-02-01T15:18:23.483Z"
   },
   {
    "duration": 779,
    "start_time": "2024-02-01T15:18:24.369Z"
   },
   {
    "duration": 676,
    "start_time": "2024-02-01T15:18:25.150Z"
   },
   {
    "duration": 4,
    "start_time": "2024-02-01T15:18:25.828Z"
   },
   {
    "duration": 11,
    "start_time": "2024-02-01T15:18:25.833Z"
   },
   {
    "duration": 25,
    "start_time": "2024-02-01T15:18:25.846Z"
   },
   {
    "duration": 7805,
    "start_time": "2024-02-01T15:18:25.873Z"
   },
   {
    "duration": 200,
    "start_time": "2024-02-01T15:18:33.680Z"
   },
   {
    "duration": 1196,
    "start_time": "2024-02-01T15:18:33.881Z"
   },
   {
    "duration": 1828,
    "start_time": "2024-02-01T15:18:35.080Z"
   },
   {
    "duration": 44008,
    "start_time": "2024-02-01T15:18:36.910Z"
   },
   {
    "duration": 61662,
    "start_time": "2024-02-01T15:19:20.920Z"
   },
   {
    "duration": 9,
    "start_time": "2024-02-01T15:20:22.583Z"
   },
   {
    "duration": 13,
    "start_time": "2024-02-01T15:20:22.673Z"
   },
   {
    "duration": 94,
    "start_time": "2024-02-01T15:20:22.688Z"
   },
   {
    "duration": 13,
    "start_time": "2024-02-01T15:20:22.874Z"
   },
   {
    "duration": 15,
    "start_time": "2024-02-01T15:20:22.888Z"
   },
   {
    "duration": 12,
    "start_time": "2024-02-01T15:20:22.904Z"
   },
   {
    "duration": 54,
    "start_time": "2024-02-01T15:21:29.869Z"
   },
   {
    "duration": 57,
    "start_time": "2024-02-01T15:22:00.917Z"
   },
   {
    "duration": 53,
    "start_time": "2024-02-01T15:22:21.815Z"
   },
   {
    "duration": 3093,
    "start_time": "2024-02-01T15:23:06.696Z"
   },
   {
    "duration": 1391,
    "start_time": "2024-02-01T15:23:09.791Z"
   },
   {
    "duration": 55,
    "start_time": "2024-02-01T15:23:11.183Z"
   },
   {
    "duration": 37,
    "start_time": "2024-02-01T15:23:11.239Z"
   },
   {
    "duration": 12,
    "start_time": "2024-02-01T15:23:11.279Z"
   },
   {
    "duration": 17,
    "start_time": "2024-02-01T15:23:11.293Z"
   },
   {
    "duration": 258,
    "start_time": "2024-02-01T15:23:11.311Z"
   },
   {
    "duration": 120,
    "start_time": "2024-02-01T15:23:11.571Z"
   },
   {
    "duration": 191,
    "start_time": "2024-02-01T15:23:11.693Z"
   },
   {
    "duration": 11,
    "start_time": "2024-02-01T15:23:11.886Z"
   },
   {
    "duration": 32,
    "start_time": "2024-02-01T15:23:11.898Z"
   },
   {
    "duration": 277,
    "start_time": "2024-02-01T15:23:11.932Z"
   },
   {
    "duration": 898,
    "start_time": "2024-02-01T15:23:12.211Z"
   },
   {
    "duration": 777,
    "start_time": "2024-02-01T15:23:13.113Z"
   },
   {
    "duration": 659,
    "start_time": "2024-02-01T15:23:13.892Z"
   },
   {
    "duration": 5,
    "start_time": "2024-02-01T15:23:14.554Z"
   },
   {
    "duration": 17,
    "start_time": "2024-02-01T15:23:14.560Z"
   },
   {
    "duration": 13,
    "start_time": "2024-02-01T15:23:14.579Z"
   },
   {
    "duration": 7987,
    "start_time": "2024-02-01T15:23:14.594Z"
   },
   {
    "duration": 53,
    "start_time": "2024-02-01T15:23:22.673Z"
   },
   {
    "duration": 1345,
    "start_time": "2024-02-01T15:23:22.728Z"
   },
   {
    "duration": 1798,
    "start_time": "2024-02-01T15:23:24.075Z"
   },
   {
    "duration": 43083,
    "start_time": "2024-02-01T15:23:25.874Z"
   },
   {
    "duration": 37521,
    "start_time": "2024-02-01T15:24:08.959Z"
   },
   {
    "duration": 8,
    "start_time": "2024-02-01T15:24:46.482Z"
   },
   {
    "duration": 81,
    "start_time": "2024-02-01T15:24:46.492Z"
   },
   {
    "duration": 9,
    "start_time": "2024-02-01T15:24:46.576Z"
   },
   {
    "duration": 8,
    "start_time": "2024-02-01T15:24:46.673Z"
   },
   {
    "duration": 26,
    "start_time": "2024-02-01T15:24:46.682Z"
   },
   {
    "duration": 32,
    "start_time": "2024-02-01T15:24:46.710Z"
   },
   {
    "duration": 3104,
    "start_time": "2024-02-01T15:57:46.725Z"
   },
   {
    "duration": 1364,
    "start_time": "2024-02-01T15:57:49.832Z"
   },
   {
    "duration": 55,
    "start_time": "2024-02-01T15:57:51.197Z"
   },
   {
    "duration": 37,
    "start_time": "2024-02-01T15:57:51.254Z"
   },
   {
    "duration": 10,
    "start_time": "2024-02-01T15:57:51.293Z"
   },
   {
    "duration": 12,
    "start_time": "2024-02-01T15:57:51.304Z"
   },
   {
    "duration": 255,
    "start_time": "2024-02-01T15:57:51.318Z"
   },
   {
    "duration": 118,
    "start_time": "2024-02-01T15:57:51.574Z"
   },
   {
    "duration": 182,
    "start_time": "2024-02-01T15:57:51.694Z"
   },
   {
    "duration": 10,
    "start_time": "2024-02-01T15:57:51.879Z"
   },
   {
    "duration": 9,
    "start_time": "2024-02-01T15:57:51.890Z"
   },
   {
    "duration": 297,
    "start_time": "2024-02-01T15:57:51.900Z"
   },
   {
    "duration": 891,
    "start_time": "2024-02-01T15:57:52.198Z"
   },
   {
    "duration": 764,
    "start_time": "2024-02-01T15:57:53.091Z"
   },
   {
    "duration": 696,
    "start_time": "2024-02-01T15:57:53.857Z"
   },
   {
    "duration": 4,
    "start_time": "2024-02-01T15:57:54.554Z"
   },
   {
    "duration": 14,
    "start_time": "2024-02-01T15:57:54.559Z"
   },
   {
    "duration": 23,
    "start_time": "2024-02-01T15:57:54.575Z"
   },
   {
    "duration": 1954780,
    "start_time": "2024-02-01T15:57:54.599Z"
   },
   {
    "duration": 111,
    "start_time": "2024-02-01T16:30:29.384Z"
   },
   {
    "duration": 1077,
    "start_time": "2024-02-01T16:30:29.497Z"
   },
   {
    "duration": 1791,
    "start_time": "2024-02-01T16:30:30.582Z"
   },
   {
    "duration": 42812,
    "start_time": "2024-02-01T16:30:32.374Z"
   },
   {
    "duration": 38088,
    "start_time": "2024-02-01T16:31:15.188Z"
   },
   {
    "duration": 10,
    "start_time": "2024-02-01T16:31:53.277Z"
   },
   {
    "duration": 21,
    "start_time": "2024-02-01T16:31:53.288Z"
   },
   {
    "duration": 101,
    "start_time": "2024-02-01T16:31:53.372Z"
   },
   {
    "duration": 11,
    "start_time": "2024-02-01T16:31:53.477Z"
   },
   {
    "duration": 23,
    "start_time": "2024-02-01T16:31:53.490Z"
   },
   {
    "duration": 67,
    "start_time": "2024-02-01T16:31:53.514Z"
   },
   {
    "duration": 23,
    "start_time": "2024-02-01T16:33:20.916Z"
   },
   {
    "duration": 1221,
    "start_time": "2024-02-01T16:33:22.166Z"
   },
   {
    "duration": 1763,
    "start_time": "2024-02-01T16:33:26.474Z"
   },
   {
    "duration": 42781,
    "start_time": "2024-02-01T16:33:29.817Z"
   },
   {
    "duration": 36481,
    "start_time": "2024-02-01T16:34:12.599Z"
   },
   {
    "duration": 8,
    "start_time": "2024-02-01T16:34:49.082Z"
   },
   {
    "duration": 85,
    "start_time": "2024-02-01T16:34:49.092Z"
   },
   {
    "duration": 95,
    "start_time": "2024-02-01T16:34:49.179Z"
   },
   {
    "duration": 98,
    "start_time": "2024-02-01T16:34:49.278Z"
   },
   {
    "duration": 8,
    "start_time": "2024-02-01T16:34:49.377Z"
   },
   {
    "duration": 8,
    "start_time": "2024-02-01T16:34:49.386Z"
   },
   {
    "duration": 45,
    "start_time": "2024-02-02T00:58:41.087Z"
   },
   {
    "duration": 6269,
    "start_time": "2024-02-02T01:01:44.974Z"
   },
   {
    "duration": 1463,
    "start_time": "2024-02-02T01:01:51.246Z"
   },
   {
    "duration": 114,
    "start_time": "2024-02-02T01:01:52.711Z"
   },
   {
    "duration": 30,
    "start_time": "2024-02-02T01:01:52.826Z"
   },
   {
    "duration": 9,
    "start_time": "2024-02-02T01:01:52.858Z"
   },
   {
    "duration": 10,
    "start_time": "2024-02-02T01:01:52.868Z"
   },
   {
    "duration": 224,
    "start_time": "2024-02-02T01:01:52.880Z"
   },
   {
    "duration": 110,
    "start_time": "2024-02-02T01:01:53.106Z"
   },
   {
    "duration": 169,
    "start_time": "2024-02-02T01:01:53.218Z"
   },
   {
    "duration": 8,
    "start_time": "2024-02-02T01:01:53.389Z"
   },
   {
    "duration": 8,
    "start_time": "2024-02-02T01:01:53.399Z"
   },
   {
    "duration": 244,
    "start_time": "2024-02-02T01:01:53.408Z"
   },
   {
    "duration": 823,
    "start_time": "2024-02-02T01:01:53.654Z"
   },
   {
    "duration": 713,
    "start_time": "2024-02-02T01:01:54.480Z"
   },
   {
    "duration": 554,
    "start_time": "2024-02-02T01:01:55.195Z"
   },
   {
    "duration": 4,
    "start_time": "2024-02-02T01:01:55.752Z"
   },
   {
    "duration": 17,
    "start_time": "2024-02-02T01:01:55.757Z"
   },
   {
    "duration": 15,
    "start_time": "2024-02-02T01:01:55.775Z"
   },
   {
    "duration": 1918863,
    "start_time": "2024-02-02T01:01:55.792Z"
   },
   {
    "duration": 126,
    "start_time": "2024-02-02T01:33:54.657Z"
   },
   {
    "duration": 871,
    "start_time": "2024-02-02T01:33:54.784Z"
   },
   {
    "duration": 1529,
    "start_time": "2024-02-02T01:33:55.657Z"
   },
   {
    "duration": 38845,
    "start_time": "2024-02-02T01:33:57.188Z"
   },
   {
    "duration": 34923,
    "start_time": "2024-02-02T01:34:36.035Z"
   },
   {
    "duration": 8,
    "start_time": "2024-02-02T01:35:10.960Z"
   },
   {
    "duration": 21,
    "start_time": "2024-02-02T01:35:10.969Z"
   },
   {
    "duration": 334,
    "start_time": "2024-02-02T01:35:10.992Z"
   },
   {
    "duration": 200,
    "start_time": "2024-02-02T01:51:56.992Z"
   },
   {
    "duration": 292,
    "start_time": "2024-02-02T01:52:03.841Z"
   },
   {
    "duration": 287,
    "start_time": "2024-02-02T01:52:21.598Z"
   },
   {
    "duration": 229,
    "start_time": "2024-02-02T01:57:10.367Z"
   },
   {
    "duration": 6,
    "start_time": "2024-02-02T01:57:26.130Z"
   },
   {
    "duration": 262,
    "start_time": "2024-02-02T01:57:27.760Z"
   },
   {
    "duration": 249,
    "start_time": "2024-02-02T01:57:38.811Z"
   },
   {
    "duration": 268,
    "start_time": "2024-02-02T01:57:48.836Z"
   },
   {
    "duration": 397,
    "start_time": "2024-02-02T01:57:56.822Z"
   }
  ],
  "kernelspec": {
   "display_name": "Python 3 (ipykernel)",
   "language": "python",
   "name": "python3"
  },
  "language_info": {
   "codemirror_mode": {
    "name": "ipython",
    "version": 3
   },
   "file_extension": ".py",
   "mimetype": "text/x-python",
   "name": "python",
   "nbconvert_exporter": "python",
   "pygments_lexer": "ipython3",
   "version": "3.11.7"
  },
  "toc": {
   "base_numbering": 1,
   "nav_menu": {},
   "number_sections": true,
   "sideBar": true,
   "skip_h1_title": true,
   "title_cell": "Содержание",
   "title_sidebar": "Contents",
   "toc_cell": true,
   "toc_position": {
    "height": "calc(100% - 180px)",
    "left": "10px",
    "top": "150px",
    "width": "256.771px"
   },
   "toc_section_display": true,
   "toc_window_display": true
  }
 },
 "nbformat": 4,
 "nbformat_minor": 4
}
